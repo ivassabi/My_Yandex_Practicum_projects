{
 "cells": [
  {
   "cell_type": "markdown",
   "metadata": {
    "toc": true
   },
   "source": [
    "<h1>Содержание<span class=\"tocSkip\"></span></h1>\n",
    "<div class=\"toc\"><ul class=\"toc-item\"><li><span><a href=\"#Подготовка-данных\" data-toc-modified-id=\"Подготовка-данных-1\"><span class=\"toc-item-num\">1&nbsp;&nbsp;</span>Подготовка данных</a></span><ul class=\"toc-item\"><li><span><a href=\"#Предобработка-данных\" data-toc-modified-id=\"Предобработка-данных-1.1\"><span class=\"toc-item-num\">1.1&nbsp;&nbsp;</span>Предобработка данных</a></span></li><li><span><a href=\"#Подготовка\" data-toc-modified-id=\"Подготовка-1.2\"><span class=\"toc-item-num\">1.2&nbsp;&nbsp;</span>Подготовка</a></span></li></ul></li><li><span><a href=\"#Исследование-задачи\" data-toc-modified-id=\"Исследование-задачи-2\"><span class=\"toc-item-num\">2&nbsp;&nbsp;</span>Исследование задачи</a></span><ul class=\"toc-item\"><li><span><a href=\"#DecisionTreeClassifier\" data-toc-modified-id=\"DecisionTreeClassifier-2.1\"><span class=\"toc-item-num\">2.1&nbsp;&nbsp;</span>DecisionTreeClassifier</a></span></li><li><span><a href=\"#RandomForestClassifier\" data-toc-modified-id=\"RandomForestClassifier-2.2\"><span class=\"toc-item-num\">2.2&nbsp;&nbsp;</span>RandomForestClassifier</a></span></li><li><span><a href=\"#LogisticRegression\" data-toc-modified-id=\"LogisticRegression-2.3\"><span class=\"toc-item-num\">2.3&nbsp;&nbsp;</span>LogisticRegression</a></span></li></ul></li><li><span><a href=\"#Борьба-с-дисбалансом\" data-toc-modified-id=\"Борьба-с-дисбалансом-3\"><span class=\"toc-item-num\">3&nbsp;&nbsp;</span>Борьба с дисбалансом</a></span><ul class=\"toc-item\"><li><span><a href=\"#Взвешивание-классов\" data-toc-modified-id=\"Взвешивание-классов-3.1\"><span class=\"toc-item-num\">3.1&nbsp;&nbsp;</span>Взвешивание классов</a></span><ul class=\"toc-item\"><li><span><a href=\"#DecisionTreeClassifier\" data-toc-modified-id=\"DecisionTreeClassifier-3.1.1\"><span class=\"toc-item-num\">3.1.1&nbsp;&nbsp;</span>DecisionTreeClassifier</a></span></li><li><span><a href=\"#RandomForestClassifier\" data-toc-modified-id=\"RandomForestClassifier-3.1.2\"><span class=\"toc-item-num\">3.1.2&nbsp;&nbsp;</span>RandomForestClassifier</a></span></li><li><span><a href=\"#LogisticRegression\" data-toc-modified-id=\"LogisticRegression-3.1.3\"><span class=\"toc-item-num\">3.1.3&nbsp;&nbsp;</span>LogisticRegression</a></span></li></ul></li><li><span><a href=\"#Увеличим-выборку\" data-toc-modified-id=\"Увеличим-выборку-3.2\"><span class=\"toc-item-num\">3.2&nbsp;&nbsp;</span>Увеличим выборку</a></span><ul class=\"toc-item\"><li><span><a href=\"#DecisionTreeClassifier-на-увеличенной-выборке\" data-toc-modified-id=\"DecisionTreeClassifier-на-увеличенной-выборке-3.2.1\"><span class=\"toc-item-num\">3.2.1&nbsp;&nbsp;</span>DecisionTreeClassifier на увеличенной выборке</a></span></li><li><span><a href=\"#RandomForestClassifier-на-увеличенной-выборке\" data-toc-modified-id=\"RandomForestClassifier-на-увеличенной-выборке-3.2.2\"><span class=\"toc-item-num\">3.2.2&nbsp;&nbsp;</span>RandomForestClassifier на увеличенной выборке</a></span></li><li><span><a href=\"#LogisticRegression-на-увеличенной-выборке\" data-toc-modified-id=\"LogisticRegression-на-увеличенной-выборке-3.2.3\"><span class=\"toc-item-num\">3.2.3&nbsp;&nbsp;</span>LogisticRegression на увеличенной выборке</a></span></li></ul></li><li><span><a href=\"#Уменьшим-выборку\" data-toc-modified-id=\"Уменьшим-выборку-3.3\"><span class=\"toc-item-num\">3.3&nbsp;&nbsp;</span>Уменьшим выборку</a></span><ul class=\"toc-item\"><li><span><a href=\"#DecisionTreeClassifier-на-уменьшенной-выборке\" data-toc-modified-id=\"DecisionTreeClassifier-на-уменьшенной-выборке-3.3.1\"><span class=\"toc-item-num\">3.3.1&nbsp;&nbsp;</span>DecisionTreeClassifier на уменьшенной выборке</a></span></li><li><span><a href=\"#RandomForestClassifier-на-уменьшенной-выборке\" data-toc-modified-id=\"RandomForestClassifier-на-уменьшенной-выборке-3.3.2\"><span class=\"toc-item-num\">3.3.2&nbsp;&nbsp;</span>RandomForestClassifier на уменьшенной выборке</a></span></li><li><span><a href=\"#LogisticRegression-на-уменьшеной-выборке\" data-toc-modified-id=\"LogisticRegression-на-уменьшеной-выборке-3.3.3\"><span class=\"toc-item-num\">3.3.3&nbsp;&nbsp;</span>LogisticRegression на уменьшеной выборке</a></span></li></ul></li></ul></li><li><span><a href=\"#Тестирование-модели\" data-toc-modified-id=\"Тестирование-модели-4\"><span class=\"toc-item-num\">4&nbsp;&nbsp;</span>Тестирование модели</a></span></li></ul></div>"
   ]
  },
  {
   "cell_type": "markdown",
   "metadata": {},
   "source": [
    "# Отток клиентов\n",
    "\n",
    "Из «Бета-Банка» стали уходить клиенты. Каждый месяц. Немного, но заметно. Банковские маркетологи посчитали: сохранять текущих клиентов дешевле, чем привлекать новых.\n",
    "\n",
    "**Цель проекта:** Нужно спрогнозировать, уйдёт клиент из банка в ближайшее время или нет. Вам предоставлены исторические данные о поведении клиентов и расторжении договоров с банком. \n",
    "\n",
    "**Задача проекта:** Постройте модель с предельно большим значением *F1*-меры. Чтобы сдать проект успешно, нужно довести метрику до 0.59. Проверьте *F1*-меру на тестовой выборке самостоятельно.\n",
    "\n",
    "Дополнительно измеряйте *AUC-ROC*, сравнивайте её значение с *F1*-мерой.\n",
    "\n",
    "Источник данных: [https://www.kaggle.com/barelydedicated/bank-customer-churn-modeling](https://www.kaggle.com/barelydedicated/bank-customer-churn-modeling)"
   ]
  },
  {
   "cell_type": "markdown",
   "metadata": {},
   "source": [
    "# Описание данных:\n",
    "\n",
    "**Признаки**  \n",
    "\n",
    "`RowNumber` — индекс строки в данных  \n",
    "`CustomerId` — уникальный идентификатор клиента  \n",
    "`Surname` — фамилия  \n",
    "`CreditScore` — кредитный рейтинг  \n",
    "`Geography` — страна проживания  \n",
    "`Gender` — пол  \n",
    "`Age` — возраст  \n",
    "`Tenure` — сколько лет человек является клиентом банка  \n",
    "`Balance` — баланс на счёте  \n",
    "`NumOfProducts` — количество продуктов банка, используемых клиентом  \n",
    "`HasCrCard` — наличие кредитной карты  \n",
    "`IsActiveMember` — активность клиента  \n",
    "`EstimatedSalary` — предполагаемая зарплата  \n",
    "\n",
    "**Целевой признак**\n",
    "\n",
    "`Exited` — факт ухода клиента  "
   ]
  },
  {
   "cell_type": "markdown",
   "metadata": {},
   "source": [
    "## Подготовка данных"
   ]
  },
  {
   "cell_type": "markdown",
   "metadata": {},
   "source": [
    "### Предобработка данных"
   ]
  },
  {
   "cell_type": "code",
   "execution_count": 3,
   "metadata": {},
   "outputs": [],
   "source": [
    "import pandas as pd\n",
    "from sklearn.model_selection import train_test_split\n",
    "from sklearn.utils import shuffle\n",
    "from sklearn.metrics import recall_score\n",
    "from sklearn.metrics import precision_score\n",
    "from sklearn.metrics import f1_score\n",
    "from sklearn.metrics import roc_auc_score\n",
    "from sklearn.metrics import roc_curve\n",
    "from sklearn.preprocessing import OrdinalEncoder\n",
    "from sklearn.preprocessing import StandardScaler\n",
    "from sklearn.ensemble import RandomForestClassifier\n",
    "from sklearn.tree import DecisionTreeClassifier\n",
    "from sklearn.linear_model import LogisticRegression\n",
    "from sklearn.model_selection import GridSearchCV\n",
    "import matplotlib.pyplot as plt\n",
    "import seaborn as sns"
   ]
  },
  {
   "cell_type": "code",
   "execution_count": 4,
   "metadata": {},
   "outputs": [],
   "source": [
    "pd.options.mode.chained_assignment = None\n",
    "pd.set_option('display.max_columns', None)"
   ]
  },
  {
   "cell_type": "code",
   "execution_count": 6,
   "metadata": {},
   "outputs": [
    {
     "data": {
      "text/html": [
       "<div>\n",
       "<style scoped>\n",
       "    .dataframe tbody tr th:only-of-type {\n",
       "        vertical-align: middle;\n",
       "    }\n",
       "\n",
       "    .dataframe tbody tr th {\n",
       "        vertical-align: top;\n",
       "    }\n",
       "\n",
       "    .dataframe thead th {\n",
       "        text-align: right;\n",
       "    }\n",
       "</style>\n",
       "<table border=\"1\" class=\"dataframe\">\n",
       "  <thead>\n",
       "    <tr style=\"text-align: right;\">\n",
       "      <th></th>\n",
       "      <th>RowNumber</th>\n",
       "      <th>CustomerId</th>\n",
       "      <th>Surname</th>\n",
       "      <th>CreditScore</th>\n",
       "      <th>Geography</th>\n",
       "      <th>Gender</th>\n",
       "      <th>Age</th>\n",
       "      <th>Tenure</th>\n",
       "      <th>Balance</th>\n",
       "      <th>NumOfProducts</th>\n",
       "      <th>HasCrCard</th>\n",
       "      <th>IsActiveMember</th>\n",
       "      <th>EstimatedSalary</th>\n",
       "      <th>Exited</th>\n",
       "    </tr>\n",
       "  </thead>\n",
       "  <tbody>\n",
       "    <tr>\n",
       "      <th>0</th>\n",
       "      <td>1</td>\n",
       "      <td>15634602</td>\n",
       "      <td>Hargrave</td>\n",
       "      <td>619</td>\n",
       "      <td>France</td>\n",
       "      <td>Female</td>\n",
       "      <td>42</td>\n",
       "      <td>2.0</td>\n",
       "      <td>0.00</td>\n",
       "      <td>1</td>\n",
       "      <td>1</td>\n",
       "      <td>1</td>\n",
       "      <td>101348.88</td>\n",
       "      <td>1</td>\n",
       "    </tr>\n",
       "    <tr>\n",
       "      <th>1</th>\n",
       "      <td>2</td>\n",
       "      <td>15647311</td>\n",
       "      <td>Hill</td>\n",
       "      <td>608</td>\n",
       "      <td>Spain</td>\n",
       "      <td>Female</td>\n",
       "      <td>41</td>\n",
       "      <td>1.0</td>\n",
       "      <td>83807.86</td>\n",
       "      <td>1</td>\n",
       "      <td>0</td>\n",
       "      <td>1</td>\n",
       "      <td>112542.58</td>\n",
       "      <td>0</td>\n",
       "    </tr>\n",
       "    <tr>\n",
       "      <th>2</th>\n",
       "      <td>3</td>\n",
       "      <td>15619304</td>\n",
       "      <td>Onio</td>\n",
       "      <td>502</td>\n",
       "      <td>France</td>\n",
       "      <td>Female</td>\n",
       "      <td>42</td>\n",
       "      <td>8.0</td>\n",
       "      <td>159660.80</td>\n",
       "      <td>3</td>\n",
       "      <td>1</td>\n",
       "      <td>0</td>\n",
       "      <td>113931.57</td>\n",
       "      <td>1</td>\n",
       "    </tr>\n",
       "    <tr>\n",
       "      <th>3</th>\n",
       "      <td>4</td>\n",
       "      <td>15701354</td>\n",
       "      <td>Boni</td>\n",
       "      <td>699</td>\n",
       "      <td>France</td>\n",
       "      <td>Female</td>\n",
       "      <td>39</td>\n",
       "      <td>1.0</td>\n",
       "      <td>0.00</td>\n",
       "      <td>2</td>\n",
       "      <td>0</td>\n",
       "      <td>0</td>\n",
       "      <td>93826.63</td>\n",
       "      <td>0</td>\n",
       "    </tr>\n",
       "    <tr>\n",
       "      <th>4</th>\n",
       "      <td>5</td>\n",
       "      <td>15737888</td>\n",
       "      <td>Mitchell</td>\n",
       "      <td>850</td>\n",
       "      <td>Spain</td>\n",
       "      <td>Female</td>\n",
       "      <td>43</td>\n",
       "      <td>2.0</td>\n",
       "      <td>125510.82</td>\n",
       "      <td>1</td>\n",
       "      <td>1</td>\n",
       "      <td>1</td>\n",
       "      <td>79084.10</td>\n",
       "      <td>0</td>\n",
       "    </tr>\n",
       "  </tbody>\n",
       "</table>\n",
       "</div>"
      ],
      "text/plain": [
       "   RowNumber  CustomerId   Surname  CreditScore Geography  Gender  Age  \\\n",
       "0          1    15634602  Hargrave          619    France  Female   42   \n",
       "1          2    15647311      Hill          608     Spain  Female   41   \n",
       "2          3    15619304      Onio          502    France  Female   42   \n",
       "3          4    15701354      Boni          699    France  Female   39   \n",
       "4          5    15737888  Mitchell          850     Spain  Female   43   \n",
       "\n",
       "   Tenure    Balance  NumOfProducts  HasCrCard  IsActiveMember  \\\n",
       "0     2.0       0.00              1          1               1   \n",
       "1     1.0   83807.86              1          0               1   \n",
       "2     8.0  159660.80              3          1               0   \n",
       "3     1.0       0.00              2          0               0   \n",
       "4     2.0  125510.82              1          1               1   \n",
       "\n",
       "   EstimatedSalary  Exited  \n",
       "0        101348.88       1  \n",
       "1        112542.58       0  \n",
       "2        113931.57       1  \n",
       "3         93826.63       0  \n",
       "4         79084.10       0  "
      ]
     },
     "metadata": {},
     "output_type": "display_data"
    },
    {
     "name": "stdout",
     "output_type": "stream",
     "text": [
      "<class 'pandas.core.frame.DataFrame'>\n",
      "RangeIndex: 10000 entries, 0 to 9999\n",
      "Data columns (total 14 columns):\n",
      " #   Column           Non-Null Count  Dtype  \n",
      "---  ------           --------------  -----  \n",
      " 0   RowNumber        10000 non-null  int64  \n",
      " 1   CustomerId       10000 non-null  int64  \n",
      " 2   Surname          10000 non-null  object \n",
      " 3   CreditScore      10000 non-null  int64  \n",
      " 4   Geography        10000 non-null  object \n",
      " 5   Gender           10000 non-null  object \n",
      " 6   Age              10000 non-null  int64  \n",
      " 7   Tenure           9091 non-null   float64\n",
      " 8   Balance          10000 non-null  float64\n",
      " 9   NumOfProducts    10000 non-null  int64  \n",
      " 10  HasCrCard        10000 non-null  int64  \n",
      " 11  IsActiveMember   10000 non-null  int64  \n",
      " 12  EstimatedSalary  10000 non-null  float64\n",
      " 13  Exited           10000 non-null  int64  \n",
      "dtypes: float64(3), int64(8), object(3)\n",
      "memory usage: 1.1+ MB\n"
     ]
    }
   ],
   "source": [
    "df = pd.read_csv(r'C:\\Users\\79119\\Desktop\\DF\\bank_customer\\Churn.csv')\n",
    "display(df.head())\n",
    "df.info()"
   ]
  },
  {
   "cell_type": "code",
   "execution_count": 4,
   "metadata": {},
   "outputs": [
    {
     "data": {
      "text/html": [
       "<div>\n",
       "<style scoped>\n",
       "    .dataframe tbody tr th:only-of-type {\n",
       "        vertical-align: middle;\n",
       "    }\n",
       "\n",
       "    .dataframe tbody tr th {\n",
       "        vertical-align: top;\n",
       "    }\n",
       "\n",
       "    .dataframe thead th {\n",
       "        text-align: right;\n",
       "    }\n",
       "</style>\n",
       "<table border=\"1\" class=\"dataframe\">\n",
       "  <thead>\n",
       "    <tr style=\"text-align: right;\">\n",
       "      <th></th>\n",
       "      <th>row_number</th>\n",
       "      <th>customer_id</th>\n",
       "      <th>surname</th>\n",
       "      <th>credit_score</th>\n",
       "      <th>geography</th>\n",
       "      <th>gender</th>\n",
       "      <th>age</th>\n",
       "      <th>tenure</th>\n",
       "      <th>balance</th>\n",
       "      <th>num_of_products</th>\n",
       "      <th>has_cr_card</th>\n",
       "      <th>is_active_member</th>\n",
       "      <th>estimated_salary</th>\n",
       "      <th>exited</th>\n",
       "    </tr>\n",
       "  </thead>\n",
       "  <tbody>\n",
       "    <tr>\n",
       "      <th>0</th>\n",
       "      <td>1</td>\n",
       "      <td>15634602</td>\n",
       "      <td>Hargrave</td>\n",
       "      <td>619</td>\n",
       "      <td>France</td>\n",
       "      <td>Female</td>\n",
       "      <td>42</td>\n",
       "      <td>2.0</td>\n",
       "      <td>0.00</td>\n",
       "      <td>1</td>\n",
       "      <td>1</td>\n",
       "      <td>1</td>\n",
       "      <td>101348.88</td>\n",
       "      <td>1</td>\n",
       "    </tr>\n",
       "    <tr>\n",
       "      <th>1</th>\n",
       "      <td>2</td>\n",
       "      <td>15647311</td>\n",
       "      <td>Hill</td>\n",
       "      <td>608</td>\n",
       "      <td>Spain</td>\n",
       "      <td>Female</td>\n",
       "      <td>41</td>\n",
       "      <td>1.0</td>\n",
       "      <td>83807.86</td>\n",
       "      <td>1</td>\n",
       "      <td>0</td>\n",
       "      <td>1</td>\n",
       "      <td>112542.58</td>\n",
       "      <td>0</td>\n",
       "    </tr>\n",
       "    <tr>\n",
       "      <th>2</th>\n",
       "      <td>3</td>\n",
       "      <td>15619304</td>\n",
       "      <td>Onio</td>\n",
       "      <td>502</td>\n",
       "      <td>France</td>\n",
       "      <td>Female</td>\n",
       "      <td>42</td>\n",
       "      <td>8.0</td>\n",
       "      <td>159660.80</td>\n",
       "      <td>3</td>\n",
       "      <td>1</td>\n",
       "      <td>0</td>\n",
       "      <td>113931.57</td>\n",
       "      <td>1</td>\n",
       "    </tr>\n",
       "  </tbody>\n",
       "</table>\n",
       "</div>"
      ],
      "text/plain": [
       "   row_number  customer_id   surname  credit_score geography  gender  age  \\\n",
       "0           1     15634602  Hargrave           619    France  Female   42   \n",
       "1           2     15647311      Hill           608     Spain  Female   41   \n",
       "2           3     15619304      Onio           502    France  Female   42   \n",
       "\n",
       "   tenure    balance  num_of_products  has_cr_card  is_active_member  \\\n",
       "0     2.0       0.00                1            1                 1   \n",
       "1     1.0   83807.86                1            0                 1   \n",
       "2     8.0  159660.80                3            1                 0   \n",
       "\n",
       "   estimated_salary  exited  \n",
       "0         101348.88       1  \n",
       "1         112542.58       0  \n",
       "2         113931.57       1  "
      ]
     },
     "execution_count": 4,
     "metadata": {},
     "output_type": "execute_result"
    }
   ],
   "source": [
    "import re\n",
    "new_columns = []\n",
    "for column in df.columns:\n",
    "    # имя колонки в строке\n",
    "    c = column\n",
    "    # имя колонки в списке\n",
    "    cl = list(column)\n",
    "    \n",
    "    points_of_start = []\n",
    "    # ищем индексы вхождения больших букв и сохраняем их в список\n",
    "    for match in re.finditer(\"[A-Z]\", c):\n",
    "        points_of_start.append(match.start())\n",
    "    \n",
    "    # преобразовываем название колонки на основании найденных индексов\n",
    "    for symbol in points_of_start[:0:-1]:\n",
    "        cl.insert(symbol, '_')\n",
    "        \n",
    "    new_columns.append(''.join(cl).lower())\n",
    "    \n",
    "df.columns = new_columns\n",
    "df.head(3)"
   ]
  },
  {
   "cell_type": "code",
   "execution_count": 5,
   "metadata": {},
   "outputs": [
    {
     "data": {
      "text/plain": [
       "row_number          0.0000\n",
       "customer_id         0.0000\n",
       "surname             0.0000\n",
       "credit_score        0.0000\n",
       "geography           0.0000\n",
       "gender              0.0000\n",
       "age                 0.0000\n",
       "tenure              0.0909\n",
       "balance             0.0000\n",
       "num_of_products     0.0000\n",
       "has_cr_card         0.0000\n",
       "is_active_member    0.0000\n",
       "estimated_salary    0.0000\n",
       "exited              0.0000\n",
       "dtype: float64"
      ]
     },
     "execution_count": 5,
     "metadata": {},
     "output_type": "execute_result"
    }
   ],
   "source": [
    "df.isna().mean()"
   ]
  },
  {
   "cell_type": "code",
   "execution_count": 6,
   "metadata": {
    "scrolled": true
   },
   "outputs": [
    {
     "data": {
      "text/html": [
       "<div>\n",
       "<style scoped>\n",
       "    .dataframe tbody tr th:only-of-type {\n",
       "        vertical-align: middle;\n",
       "    }\n",
       "\n",
       "    .dataframe tbody tr th {\n",
       "        vertical-align: top;\n",
       "    }\n",
       "\n",
       "    .dataframe thead th {\n",
       "        text-align: right;\n",
       "    }\n",
       "</style>\n",
       "<table border=\"1\" class=\"dataframe\">\n",
       "  <thead>\n",
       "    <tr style=\"text-align: right;\">\n",
       "      <th></th>\n",
       "      <th>row_number</th>\n",
       "      <th>customer_id</th>\n",
       "      <th>surname</th>\n",
       "      <th>credit_score</th>\n",
       "      <th>geography</th>\n",
       "      <th>gender</th>\n",
       "      <th>age</th>\n",
       "      <th>tenure</th>\n",
       "      <th>balance</th>\n",
       "      <th>num_of_products</th>\n",
       "      <th>has_cr_card</th>\n",
       "      <th>is_active_member</th>\n",
       "      <th>estimated_salary</th>\n",
       "      <th>exited</th>\n",
       "    </tr>\n",
       "  </thead>\n",
       "  <tbody>\n",
       "    <tr>\n",
       "      <th>4533</th>\n",
       "      <td>4534</td>\n",
       "      <td>15607275</td>\n",
       "      <td>Ch'ang</td>\n",
       "      <td>850</td>\n",
       "      <td>Spain</td>\n",
       "      <td>Male</td>\n",
       "      <td>39</td>\n",
       "      <td>NaN</td>\n",
       "      <td>206014.94</td>\n",
       "      <td>2</td>\n",
       "      <td>0</td>\n",
       "      <td>1</td>\n",
       "      <td>42774.84</td>\n",
       "      <td>1</td>\n",
       "    </tr>\n",
       "    <tr>\n",
       "      <th>1957</th>\n",
       "      <td>1958</td>\n",
       "      <td>15674922</td>\n",
       "      <td>Beavers</td>\n",
       "      <td>710</td>\n",
       "      <td>France</td>\n",
       "      <td>Male</td>\n",
       "      <td>54</td>\n",
       "      <td>NaN</td>\n",
       "      <td>171137.62</td>\n",
       "      <td>1</td>\n",
       "      <td>1</td>\n",
       "      <td>1</td>\n",
       "      <td>167023.95</td>\n",
       "      <td>1</td>\n",
       "    </tr>\n",
       "    <tr>\n",
       "      <th>438</th>\n",
       "      <td>439</td>\n",
       "      <td>15783501</td>\n",
       "      <td>Findlay</td>\n",
       "      <td>800</td>\n",
       "      <td>France</td>\n",
       "      <td>Female</td>\n",
       "      <td>38</td>\n",
       "      <td>NaN</td>\n",
       "      <td>168190.33</td>\n",
       "      <td>2</td>\n",
       "      <td>1</td>\n",
       "      <td>0</td>\n",
       "      <td>68052.08</td>\n",
       "      <td>0</td>\n",
       "    </tr>\n",
       "    <tr>\n",
       "      <th>9466</th>\n",
       "      <td>9467</td>\n",
       "      <td>15592716</td>\n",
       "      <td>Clarke</td>\n",
       "      <td>559</td>\n",
       "      <td>France</td>\n",
       "      <td>Male</td>\n",
       "      <td>52</td>\n",
       "      <td>NaN</td>\n",
       "      <td>0.00</td>\n",
       "      <td>1</td>\n",
       "      <td>1</td>\n",
       "      <td>0</td>\n",
       "      <td>129013.59</td>\n",
       "      <td>1</td>\n",
       "    </tr>\n",
       "    <tr>\n",
       "      <th>1376</th>\n",
       "      <td>1377</td>\n",
       "      <td>15587233</td>\n",
       "      <td>Donoghue</td>\n",
       "      <td>457</td>\n",
       "      <td>France</td>\n",
       "      <td>Male</td>\n",
       "      <td>41</td>\n",
       "      <td>NaN</td>\n",
       "      <td>73700.12</td>\n",
       "      <td>3</td>\n",
       "      <td>1</td>\n",
       "      <td>1</td>\n",
       "      <td>185750.02</td>\n",
       "      <td>1</td>\n",
       "    </tr>\n",
       "    <tr>\n",
       "      <th>3883</th>\n",
       "      <td>3884</td>\n",
       "      <td>15604355</td>\n",
       "      <td>Shand</td>\n",
       "      <td>519</td>\n",
       "      <td>France</td>\n",
       "      <td>Male</td>\n",
       "      <td>39</td>\n",
       "      <td>NaN</td>\n",
       "      <td>97700.02</td>\n",
       "      <td>1</td>\n",
       "      <td>1</td>\n",
       "      <td>1</td>\n",
       "      <td>30709.03</td>\n",
       "      <td>0</td>\n",
       "    </tr>\n",
       "    <tr>\n",
       "      <th>5493</th>\n",
       "      <td>5494</td>\n",
       "      <td>15682084</td>\n",
       "      <td>Chinomso</td>\n",
       "      <td>680</td>\n",
       "      <td>France</td>\n",
       "      <td>Male</td>\n",
       "      <td>31</td>\n",
       "      <td>NaN</td>\n",
       "      <td>0.00</td>\n",
       "      <td>2</td>\n",
       "      <td>1</td>\n",
       "      <td>0</td>\n",
       "      <td>36145.53</td>\n",
       "      <td>0</td>\n",
       "    </tr>\n",
       "    <tr>\n",
       "      <th>6761</th>\n",
       "      <td>6762</td>\n",
       "      <td>15746183</td>\n",
       "      <td>Pye</td>\n",
       "      <td>573</td>\n",
       "      <td>France</td>\n",
       "      <td>Female</td>\n",
       "      <td>27</td>\n",
       "      <td>NaN</td>\n",
       "      <td>0.00</td>\n",
       "      <td>2</td>\n",
       "      <td>1</td>\n",
       "      <td>1</td>\n",
       "      <td>157549.60</td>\n",
       "      <td>0</td>\n",
       "    </tr>\n",
       "    <tr>\n",
       "      <th>7122</th>\n",
       "      <td>7123</td>\n",
       "      <td>15815443</td>\n",
       "      <td>Lo</td>\n",
       "      <td>527</td>\n",
       "      <td>Spain</td>\n",
       "      <td>Female</td>\n",
       "      <td>46</td>\n",
       "      <td>NaN</td>\n",
       "      <td>131414.76</td>\n",
       "      <td>1</td>\n",
       "      <td>1</td>\n",
       "      <td>0</td>\n",
       "      <td>54947.51</td>\n",
       "      <td>0</td>\n",
       "    </tr>\n",
       "    <tr>\n",
       "      <th>660</th>\n",
       "      <td>661</td>\n",
       "      <td>15592937</td>\n",
       "      <td>Napolitani</td>\n",
       "      <td>632</td>\n",
       "      <td>Germany</td>\n",
       "      <td>Female</td>\n",
       "      <td>41</td>\n",
       "      <td>NaN</td>\n",
       "      <td>81877.38</td>\n",
       "      <td>1</td>\n",
       "      <td>1</td>\n",
       "      <td>1</td>\n",
       "      <td>33642.21</td>\n",
       "      <td>0</td>\n",
       "    </tr>\n",
       "  </tbody>\n",
       "</table>\n",
       "</div>"
      ],
      "text/plain": [
       "      row_number  customer_id     surname  credit_score geography  gender  \\\n",
       "4533        4534     15607275      Ch'ang           850     Spain    Male   \n",
       "1957        1958     15674922     Beavers           710    France    Male   \n",
       "438          439     15783501     Findlay           800    France  Female   \n",
       "9466        9467     15592716      Clarke           559    France    Male   \n",
       "1376        1377     15587233    Donoghue           457    France    Male   \n",
       "3883        3884     15604355       Shand           519    France    Male   \n",
       "5493        5494     15682084    Chinomso           680    France    Male   \n",
       "6761        6762     15746183         Pye           573    France  Female   \n",
       "7122        7123     15815443          Lo           527     Spain  Female   \n",
       "660          661     15592937  Napolitani           632   Germany  Female   \n",
       "\n",
       "      age  tenure    balance  num_of_products  has_cr_card  is_active_member  \\\n",
       "4533   39     NaN  206014.94                2            0                 1   \n",
       "1957   54     NaN  171137.62                1            1                 1   \n",
       "438    38     NaN  168190.33                2            1                 0   \n",
       "9466   52     NaN       0.00                1            1                 0   \n",
       "1376   41     NaN   73700.12                3            1                 1   \n",
       "3883   39     NaN   97700.02                1            1                 1   \n",
       "5493   31     NaN       0.00                2            1                 0   \n",
       "6761   27     NaN       0.00                2            1                 1   \n",
       "7122   46     NaN  131414.76                1            1                 0   \n",
       "660    41     NaN   81877.38                1            1                 1   \n",
       "\n",
       "      estimated_salary  exited  \n",
       "4533          42774.84       1  \n",
       "1957         167023.95       1  \n",
       "438           68052.08       0  \n",
       "9466         129013.59       1  \n",
       "1376         185750.02       1  \n",
       "3883          30709.03       0  \n",
       "5493          36145.53       0  \n",
       "6761         157549.60       0  \n",
       "7122          54947.51       0  \n",
       "660           33642.21       0  "
      ]
     },
     "execution_count": 6,
     "metadata": {},
     "output_type": "execute_result"
    }
   ],
   "source": [
    "df[df['tenure'].isna()].sample(10)"
   ]
  },
  {
   "cell_type": "markdown",
   "metadata": {},
   "source": [
    "*Явной логики в образование пропусков в столбце `tenure` не вижу, поэтому предположу, что это может быть вызвано ошибкой при переносе или перезаписи данных, возможно это только что поданные заявки на открытие счета. Поэтому, чтобы не терять данные заполню пропсуки медианным значением, сгруппированным по `credit_score`*"
   ]
  },
  {
   "cell_type": "code",
   "execution_count": 7,
   "metadata": {},
   "outputs": [
    {
     "data": {
      "text/plain": [
       "array([ 2.,  1.,  8.,  7.,  4.,  6.,  3., 10.,  5.,  9.,  0.])"
      ]
     },
     "execution_count": 7,
     "metadata": {},
     "output_type": "execute_result"
    }
   ],
   "source": [
    "df['tenure'] = df['tenure'].fillna(df.groupby('credit_score')['tenure'].transform('median'))\n",
    "df['tenure'] = df['tenure'].fillna(df['tenure'].median()).round()\n",
    "df['tenure'].isna().sum()\n",
    "df['tenure'].unique()"
   ]
  },
  {
   "cell_type": "code",
   "execution_count": 8,
   "metadata": {},
   "outputs": [
    {
     "data": {
      "text/html": [
       "<div>\n",
       "<style scoped>\n",
       "    .dataframe tbody tr th:only-of-type {\n",
       "        vertical-align: middle;\n",
       "    }\n",
       "\n",
       "    .dataframe tbody tr th {\n",
       "        vertical-align: top;\n",
       "    }\n",
       "\n",
       "    .dataframe thead th {\n",
       "        text-align: right;\n",
       "    }\n",
       "</style>\n",
       "<table border=\"1\" class=\"dataframe\">\n",
       "  <thead>\n",
       "    <tr style=\"text-align: right;\">\n",
       "      <th></th>\n",
       "      <th>row_number</th>\n",
       "      <th>customer_id</th>\n",
       "      <th>surname</th>\n",
       "      <th>credit_score</th>\n",
       "      <th>geography</th>\n",
       "      <th>gender</th>\n",
       "      <th>age</th>\n",
       "      <th>tenure</th>\n",
       "      <th>balance</th>\n",
       "      <th>num_of_products</th>\n",
       "      <th>has_cr_card</th>\n",
       "      <th>is_active_member</th>\n",
       "      <th>estimated_salary</th>\n",
       "      <th>exited</th>\n",
       "    </tr>\n",
       "  </thead>\n",
       "  <tbody>\n",
       "    <tr>\n",
       "      <th>0</th>\n",
       "      <td>1</td>\n",
       "      <td>15634602</td>\n",
       "      <td>Hargrave</td>\n",
       "      <td>619</td>\n",
       "      <td>France</td>\n",
       "      <td>Female</td>\n",
       "      <td>42</td>\n",
       "      <td>2.0</td>\n",
       "      <td>0.00</td>\n",
       "      <td>1</td>\n",
       "      <td>1</td>\n",
       "      <td>1</td>\n",
       "      <td>101348.88</td>\n",
       "      <td>1</td>\n",
       "    </tr>\n",
       "    <tr>\n",
       "      <th>1</th>\n",
       "      <td>2</td>\n",
       "      <td>15647311</td>\n",
       "      <td>Hill</td>\n",
       "      <td>608</td>\n",
       "      <td>Spain</td>\n",
       "      <td>Female</td>\n",
       "      <td>41</td>\n",
       "      <td>1.0</td>\n",
       "      <td>83807.86</td>\n",
       "      <td>1</td>\n",
       "      <td>0</td>\n",
       "      <td>1</td>\n",
       "      <td>112542.58</td>\n",
       "      <td>0</td>\n",
       "    </tr>\n",
       "    <tr>\n",
       "      <th>2</th>\n",
       "      <td>3</td>\n",
       "      <td>15619304</td>\n",
       "      <td>Onio</td>\n",
       "      <td>502</td>\n",
       "      <td>France</td>\n",
       "      <td>Female</td>\n",
       "      <td>42</td>\n",
       "      <td>8.0</td>\n",
       "      <td>159660.80</td>\n",
       "      <td>3</td>\n",
       "      <td>1</td>\n",
       "      <td>0</td>\n",
       "      <td>113931.57</td>\n",
       "      <td>1</td>\n",
       "    </tr>\n",
       "    <tr>\n",
       "      <th>3</th>\n",
       "      <td>4</td>\n",
       "      <td>15701354</td>\n",
       "      <td>Boni</td>\n",
       "      <td>699</td>\n",
       "      <td>France</td>\n",
       "      <td>Female</td>\n",
       "      <td>39</td>\n",
       "      <td>1.0</td>\n",
       "      <td>0.00</td>\n",
       "      <td>2</td>\n",
       "      <td>0</td>\n",
       "      <td>0</td>\n",
       "      <td>93826.63</td>\n",
       "      <td>0</td>\n",
       "    </tr>\n",
       "    <tr>\n",
       "      <th>4</th>\n",
       "      <td>5</td>\n",
       "      <td>15737888</td>\n",
       "      <td>Mitchell</td>\n",
       "      <td>850</td>\n",
       "      <td>Spain</td>\n",
       "      <td>Female</td>\n",
       "      <td>43</td>\n",
       "      <td>2.0</td>\n",
       "      <td>125510.82</td>\n",
       "      <td>1</td>\n",
       "      <td>1</td>\n",
       "      <td>1</td>\n",
       "      <td>79084.10</td>\n",
       "      <td>0</td>\n",
       "    </tr>\n",
       "  </tbody>\n",
       "</table>\n",
       "</div>"
      ],
      "text/plain": [
       "   row_number  customer_id   surname  credit_score geography  gender  age  \\\n",
       "0           1     15634602  Hargrave           619    France  Female   42   \n",
       "1           2     15647311      Hill           608     Spain  Female   41   \n",
       "2           3     15619304      Onio           502    France  Female   42   \n",
       "3           4     15701354      Boni           699    France  Female   39   \n",
       "4           5     15737888  Mitchell           850     Spain  Female   43   \n",
       "\n",
       "   tenure    balance  num_of_products  has_cr_card  is_active_member  \\\n",
       "0     2.0       0.00                1            1                 1   \n",
       "1     1.0   83807.86                1            0                 1   \n",
       "2     8.0  159660.80                3            1                 0   \n",
       "3     1.0       0.00                2            0                 0   \n",
       "4     2.0  125510.82                1            1                 1   \n",
       "\n",
       "   estimated_salary  exited  \n",
       "0         101348.88       1  \n",
       "1         112542.58       0  \n",
       "2         113931.57       1  \n",
       "3          93826.63       0  \n",
       "4          79084.10       0  "
      ]
     },
     "execution_count": 8,
     "metadata": {},
     "output_type": "execute_result"
    }
   ],
   "source": [
    "df.head()"
   ]
  },
  {
   "cell_type": "code",
   "execution_count": 9,
   "metadata": {
    "scrolled": false
   },
   "outputs": [
    {
     "data": {
      "text/html": [
       "<div>\n",
       "<style scoped>\n",
       "    .dataframe tbody tr th:only-of-type {\n",
       "        vertical-align: middle;\n",
       "    }\n",
       "\n",
       "    .dataframe tbody tr th {\n",
       "        vertical-align: top;\n",
       "    }\n",
       "\n",
       "    .dataframe thead th {\n",
       "        text-align: right;\n",
       "    }\n",
       "</style>\n",
       "<table border=\"1\" class=\"dataframe\">\n",
       "  <thead>\n",
       "    <tr style=\"text-align: right;\">\n",
       "      <th></th>\n",
       "      <th>exited</th>\n",
       "    </tr>\n",
       "    <tr>\n",
       "      <th>tenure</th>\n",
       "      <th></th>\n",
       "    </tr>\n",
       "  </thead>\n",
       "  <tbody>\n",
       "    <tr>\n",
       "      <th>0.0</th>\n",
       "      <td>0.235602</td>\n",
       "    </tr>\n",
       "    <tr>\n",
       "      <th>1.0</th>\n",
       "      <td>0.224084</td>\n",
       "    </tr>\n",
       "    <tr>\n",
       "      <th>2.0</th>\n",
       "      <td>0.193952</td>\n",
       "    </tr>\n",
       "    <tr>\n",
       "      <th>3.0</th>\n",
       "      <td>0.216632</td>\n",
       "    </tr>\n",
       "    <tr>\n",
       "      <th>4.0</th>\n",
       "      <td>0.207394</td>\n",
       "    </tr>\n",
       "    <tr>\n",
       "      <th>5.0</th>\n",
       "      <td>0.205329</td>\n",
       "    </tr>\n",
       "    <tr>\n",
       "      <th>6.0</th>\n",
       "      <td>0.195592</td>\n",
       "    </tr>\n",
       "    <tr>\n",
       "      <th>7.0</th>\n",
       "      <td>0.171574</td>\n",
       "    </tr>\n",
       "    <tr>\n",
       "      <th>8.0</th>\n",
       "      <td>0.186638</td>\n",
       "    </tr>\n",
       "    <tr>\n",
       "      <th>9.0</th>\n",
       "      <td>0.219955</td>\n",
       "    </tr>\n",
       "    <tr>\n",
       "      <th>10.0</th>\n",
       "      <td>0.206278</td>\n",
       "    </tr>\n",
       "  </tbody>\n",
       "</table>\n",
       "</div>"
      ],
      "text/plain": [
       "          exited\n",
       "tenure          \n",
       "0.0     0.235602\n",
       "1.0     0.224084\n",
       "2.0     0.193952\n",
       "3.0     0.216632\n",
       "4.0     0.207394\n",
       "5.0     0.205329\n",
       "6.0     0.195592\n",
       "7.0     0.171574\n",
       "8.0     0.186638\n",
       "9.0     0.219955\n",
       "10.0    0.206278"
      ]
     },
     "execution_count": 9,
     "metadata": {},
     "output_type": "execute_result"
    }
   ],
   "source": [
    "df.pivot_table(index= 'tenure', values= 'exited')"
   ]
  },
  {
   "cell_type": "markdown",
   "metadata": {},
   "source": [
    "*При первичном ознакомлении видно, что отток клиентов составляет примерно 20%, причем он достаточно равномерный, если смотреть в разрезе того, сколько лет человек является клиеном банка. Соответственно, целевой признак не сбалансирован, отрицательных значений в целевом сегменте в 4 раза больше*"
   ]
  },
  {
   "cell_type": "code",
   "execution_count": 10,
   "metadata": {
    "scrolled": true
   },
   "outputs": [
    {
     "data": {
      "image/png": "[encoded data removed]",
      "text/plain": [
       "<Figure size 432x288 with 1 Axes>"
      ]
     },
     "metadata": {
      "needs_background": "light"
     },
     "output_type": "display_data"
    },
    {
     "data": {
      "text/plain": [
       "0    0.7963\n",
       "1    0.2037\n",
       "Name: exited, dtype: float64"
      ]
     },
     "execution_count": 10,
     "metadata": {},
     "output_type": "execute_result"
    }
   ],
   "source": [
    "df['exited'].value_counts(normalize=True).plot(kind='bar')\n",
    "plt.show()\n",
    "df['exited'].value_counts(normalize=True)"
   ]
  },
  {
   "cell_type": "markdown",
   "metadata": {},
   "source": [
    "*А вот тому и подтверждение. Так и есть, общий отток клиентов состовляет 20%*"
   ]
  },
  {
   "cell_type": "code",
   "execution_count": 11,
   "metadata": {
    "scrolled": false
   },
   "outputs": [
    {
     "data": {
      "text/html": [
       "<div>\n",
       "<style scoped>\n",
       "    .dataframe tbody tr th:only-of-type {\n",
       "        vertical-align: middle;\n",
       "    }\n",
       "\n",
       "    .dataframe tbody tr th {\n",
       "        vertical-align: top;\n",
       "    }\n",
       "\n",
       "    .dataframe thead th {\n",
       "        text-align: right;\n",
       "    }\n",
       "</style>\n",
       "<table border=\"1\" class=\"dataframe\">\n",
       "  <thead>\n",
       "    <tr style=\"text-align: right;\">\n",
       "      <th></th>\n",
       "      <th>credit_score</th>\n",
       "      <th>geography</th>\n",
       "      <th>gender</th>\n",
       "      <th>age</th>\n",
       "      <th>tenure</th>\n",
       "      <th>balance</th>\n",
       "      <th>num_of_products</th>\n",
       "      <th>has_cr_card</th>\n",
       "      <th>is_active_member</th>\n",
       "      <th>estimated_salary</th>\n",
       "      <th>exited</th>\n",
       "    </tr>\n",
       "  </thead>\n",
       "  <tbody>\n",
       "    <tr>\n",
       "      <th>0</th>\n",
       "      <td>619</td>\n",
       "      <td>France</td>\n",
       "      <td>Female</td>\n",
       "      <td>42</td>\n",
       "      <td>2.0</td>\n",
       "      <td>0.00</td>\n",
       "      <td>1</td>\n",
       "      <td>1</td>\n",
       "      <td>1</td>\n",
       "      <td>101348.88</td>\n",
       "      <td>1</td>\n",
       "    </tr>\n",
       "    <tr>\n",
       "      <th>1</th>\n",
       "      <td>608</td>\n",
       "      <td>Spain</td>\n",
       "      <td>Female</td>\n",
       "      <td>41</td>\n",
       "      <td>1.0</td>\n",
       "      <td>83807.86</td>\n",
       "      <td>1</td>\n",
       "      <td>0</td>\n",
       "      <td>1</td>\n",
       "      <td>112542.58</td>\n",
       "      <td>0</td>\n",
       "    </tr>\n",
       "    <tr>\n",
       "      <th>2</th>\n",
       "      <td>502</td>\n",
       "      <td>France</td>\n",
       "      <td>Female</td>\n",
       "      <td>42</td>\n",
       "      <td>8.0</td>\n",
       "      <td>159660.80</td>\n",
       "      <td>3</td>\n",
       "      <td>1</td>\n",
       "      <td>0</td>\n",
       "      <td>113931.57</td>\n",
       "      <td>1</td>\n",
       "    </tr>\n",
       "    <tr>\n",
       "      <th>3</th>\n",
       "      <td>699</td>\n",
       "      <td>France</td>\n",
       "      <td>Female</td>\n",
       "      <td>39</td>\n",
       "      <td>1.0</td>\n",
       "      <td>0.00</td>\n",
       "      <td>2</td>\n",
       "      <td>0</td>\n",
       "      <td>0</td>\n",
       "      <td>93826.63</td>\n",
       "      <td>0</td>\n",
       "    </tr>\n",
       "    <tr>\n",
       "      <th>4</th>\n",
       "      <td>850</td>\n",
       "      <td>Spain</td>\n",
       "      <td>Female</td>\n",
       "      <td>43</td>\n",
       "      <td>2.0</td>\n",
       "      <td>125510.82</td>\n",
       "      <td>1</td>\n",
       "      <td>1</td>\n",
       "      <td>1</td>\n",
       "      <td>79084.10</td>\n",
       "      <td>0</td>\n",
       "    </tr>\n",
       "  </tbody>\n",
       "</table>\n",
       "</div>"
      ],
      "text/plain": [
       "   credit_score geography  gender  age  tenure    balance  num_of_products  \\\n",
       "0           619    France  Female   42     2.0       0.00                1   \n",
       "1           608     Spain  Female   41     1.0   83807.86                1   \n",
       "2           502    France  Female   42     8.0  159660.80                3   \n",
       "3           699    France  Female   39     1.0       0.00                2   \n",
       "4           850     Spain  Female   43     2.0  125510.82                1   \n",
       "\n",
       "   has_cr_card  is_active_member  estimated_salary  exited  \n",
       "0            1                 1         101348.88       1  \n",
       "1            0                 1         112542.58       0  \n",
       "2            1                 0         113931.57       1  \n",
       "3            0                 0          93826.63       0  \n",
       "4            1                 1          79084.10       0  "
      ]
     },
     "execution_count": 11,
     "metadata": {},
     "output_type": "execute_result"
    }
   ],
   "source": [
    "df = df.drop(['row_number', 'customer_id', 'surname'], axis=1)\n",
    "df.head()"
   ]
  },
  {
   "cell_type": "markdown",
   "metadata": {},
   "source": [
    "*Избавилсь от колонок 'row_number', 'customer_id', 'surname', т.к. их значения в дальнейшем исследовании не пригодятся*"
   ]
  },
  {
   "cell_type": "markdown",
   "metadata": {},
   "source": [
    "# Вывод:\n",
    "1. Таблица состоит из 10000 строк и 14 столбцов из которых: 3 типа float, 8 типа int и 3 типа object  \n",
    "2. В столбце `tenure` порядка 9% пропусков. Какой-то прямой зависимостью между значениями и поялением пропусков обнаружить не удалось, препролажительно они могли появится в следствии переноса или перезаписи данных. 9% - это значительное количество данных, поэтому, чтобы не терять данные заполню пропсуки медианным значением, сгруппированным по `credit_score`  \n",
    "3. Избавилась от колонок 'row_number', 'customer_id', 'surname', т.к. их значения в дальнейшем исследовании не пригодятся  \n",
    "4. Обнаружили, что целевой признак `exited` не сбалансирован: количество отрицательных значений в 4 раза превышает количество положительных  \n",
    "5. Категориальные признаки `geography` и `gender` преобразуем техникой прямого кодирования (One-Hot Encoding)  \n",
    "6. Количественные признаки `credit_score`, `age`, `tenure`, `balance`, `num_of_products` и `estimated_salary`будем масштабировать"
   ]
  },
  {
   "cell_type": "markdown",
   "metadata": {},
   "source": [
    "### Подготовка"
   ]
  },
  {
   "cell_type": "code",
   "execution_count": 12,
   "metadata": {},
   "outputs": [],
   "source": [
    "df_ohe = df.copy()"
   ]
  },
  {
   "cell_type": "code",
   "execution_count": 13,
   "metadata": {},
   "outputs": [
    {
     "data": {
      "text/html": [
       "<div>\n",
       "<style scoped>\n",
       "    .dataframe tbody tr th:only-of-type {\n",
       "        vertical-align: middle;\n",
       "    }\n",
       "\n",
       "    .dataframe tbody tr th {\n",
       "        vertical-align: top;\n",
       "    }\n",
       "\n",
       "    .dataframe thead th {\n",
       "        text-align: right;\n",
       "    }\n",
       "</style>\n",
       "<table border=\"1\" class=\"dataframe\">\n",
       "  <thead>\n",
       "    <tr style=\"text-align: right;\">\n",
       "      <th></th>\n",
       "      <th>credit_score</th>\n",
       "      <th>age</th>\n",
       "      <th>tenure</th>\n",
       "      <th>balance</th>\n",
       "      <th>num_of_products</th>\n",
       "      <th>has_cr_card</th>\n",
       "      <th>is_active_member</th>\n",
       "      <th>estimated_salary</th>\n",
       "      <th>exited</th>\n",
       "      <th>geography_Germany</th>\n",
       "      <th>geography_Spain</th>\n",
       "      <th>gender_Male</th>\n",
       "    </tr>\n",
       "  </thead>\n",
       "  <tbody>\n",
       "    <tr>\n",
       "      <th>0</th>\n",
       "      <td>619</td>\n",
       "      <td>42</td>\n",
       "      <td>2.0</td>\n",
       "      <td>0.00</td>\n",
       "      <td>1</td>\n",
       "      <td>1</td>\n",
       "      <td>1</td>\n",
       "      <td>101348.88</td>\n",
       "      <td>1</td>\n",
       "      <td>0</td>\n",
       "      <td>0</td>\n",
       "      <td>0</td>\n",
       "    </tr>\n",
       "    <tr>\n",
       "      <th>1</th>\n",
       "      <td>608</td>\n",
       "      <td>41</td>\n",
       "      <td>1.0</td>\n",
       "      <td>83807.86</td>\n",
       "      <td>1</td>\n",
       "      <td>0</td>\n",
       "      <td>1</td>\n",
       "      <td>112542.58</td>\n",
       "      <td>0</td>\n",
       "      <td>0</td>\n",
       "      <td>1</td>\n",
       "      <td>0</td>\n",
       "    </tr>\n",
       "    <tr>\n",
       "      <th>2</th>\n",
       "      <td>502</td>\n",
       "      <td>42</td>\n",
       "      <td>8.0</td>\n",
       "      <td>159660.80</td>\n",
       "      <td>3</td>\n",
       "      <td>1</td>\n",
       "      <td>0</td>\n",
       "      <td>113931.57</td>\n",
       "      <td>1</td>\n",
       "      <td>0</td>\n",
       "      <td>0</td>\n",
       "      <td>0</td>\n",
       "    </tr>\n",
       "    <tr>\n",
       "      <th>3</th>\n",
       "      <td>699</td>\n",
       "      <td>39</td>\n",
       "      <td>1.0</td>\n",
       "      <td>0.00</td>\n",
       "      <td>2</td>\n",
       "      <td>0</td>\n",
       "      <td>0</td>\n",
       "      <td>93826.63</td>\n",
       "      <td>0</td>\n",
       "      <td>0</td>\n",
       "      <td>0</td>\n",
       "      <td>0</td>\n",
       "    </tr>\n",
       "    <tr>\n",
       "      <th>4</th>\n",
       "      <td>850</td>\n",
       "      <td>43</td>\n",
       "      <td>2.0</td>\n",
       "      <td>125510.82</td>\n",
       "      <td>1</td>\n",
       "      <td>1</td>\n",
       "      <td>1</td>\n",
       "      <td>79084.10</td>\n",
       "      <td>0</td>\n",
       "      <td>0</td>\n",
       "      <td>1</td>\n",
       "      <td>0</td>\n",
       "    </tr>\n",
       "  </tbody>\n",
       "</table>\n",
       "</div>"
      ],
      "text/plain": [
       "   credit_score  age  tenure    balance  num_of_products  has_cr_card  \\\n",
       "0           619   42     2.0       0.00                1            1   \n",
       "1           608   41     1.0   83807.86                1            0   \n",
       "2           502   42     8.0  159660.80                3            1   \n",
       "3           699   39     1.0       0.00                2            0   \n",
       "4           850   43     2.0  125510.82                1            1   \n",
       "\n",
       "   is_active_member  estimated_salary  exited  geography_Germany  \\\n",
       "0                 1         101348.88       1                  0   \n",
       "1                 1         112542.58       0                  0   \n",
       "2                 0         113931.57       1                  0   \n",
       "3                 0          93826.63       0                  0   \n",
       "4                 1          79084.10       0                  0   \n",
       "\n",
       "   geography_Spain  gender_Male  \n",
       "0                0            0  \n",
       "1                1            0  \n",
       "2                0            0  \n",
       "3                0            0  \n",
       "4                1            0  "
      ]
     },
     "execution_count": 13,
     "metadata": {},
     "output_type": "execute_result"
    }
   ],
   "source": [
    "df_ohe = pd.get_dummies(df_ohe, drop_first=True)\n",
    "df_ohe.head()"
   ]
  },
  {
   "cell_type": "markdown",
   "metadata": {},
   "source": [
    "*Выделим признаки и целевой признак*"
   ]
  },
  {
   "cell_type": "code",
   "execution_count": 14,
   "metadata": {},
   "outputs": [],
   "source": [
    "features = df_ohe.drop(['exited'], axis=1)\n",
    "target = df_ohe['exited']"
   ]
  },
  {
   "cell_type": "markdown",
   "metadata": {},
   "source": [
    "*Разделим на обучающую, валидационную и тестовую выборки в соотношении 60/20/20*"
   ]
  },
  {
   "cell_type": "code",
   "execution_count": 15,
   "metadata": {},
   "outputs": [],
   "source": [
    "features_train, features_test_valid, target_train, target_test_valid = train_test_split(features, target, test_size=0.4, random_state=12345)\n",
    "features_test, features_valid, target_test, target_valid = train_test_split(features_test_valid, target_test_valid, test_size=0.5, random_state=12345)"
   ]
  },
  {
   "cell_type": "markdown",
   "metadata": {},
   "source": [
    "*Проверим размеры выборок*"
   ]
  },
  {
   "cell_type": "code",
   "execution_count": 16,
   "metadata": {},
   "outputs": [
    {
     "name": "stdout",
     "output_type": "stream",
     "text": [
      "(6000, 11)\n",
      "(6000,)\n",
      "(2000, 11)\n",
      "(2000,)\n",
      "(2000, 11)\n",
      "(2000,)\n"
     ]
    }
   ],
   "source": [
    "print(features_train.shape)\n",
    "print(target_train.shape)\n",
    "print(features_valid.shape)\n",
    "print(target_valid.shape)\n",
    "print(features_test.shape)\n",
    "print(target_test.shape)"
   ]
  },
  {
   "cell_type": "markdown",
   "metadata": {},
   "source": [
    "*Произведем масштабирование*"
   ]
  },
  {
   "cell_type": "code",
   "execution_count": 17,
   "metadata": {},
   "outputs": [
    {
     "data": {
      "text/html": [
       "<div>\n",
       "<style scoped>\n",
       "    .dataframe tbody tr th:only-of-type {\n",
       "        vertical-align: middle;\n",
       "    }\n",
       "\n",
       "    .dataframe tbody tr th {\n",
       "        vertical-align: top;\n",
       "    }\n",
       "\n",
       "    .dataframe thead th {\n",
       "        text-align: right;\n",
       "    }\n",
       "</style>\n",
       "<table border=\"1\" class=\"dataframe\">\n",
       "  <thead>\n",
       "    <tr style=\"text-align: right;\">\n",
       "      <th></th>\n",
       "      <th>credit_score</th>\n",
       "      <th>age</th>\n",
       "      <th>tenure</th>\n",
       "      <th>balance</th>\n",
       "      <th>num_of_products</th>\n",
       "      <th>has_cr_card</th>\n",
       "      <th>is_active_member</th>\n",
       "      <th>estimated_salary</th>\n",
       "      <th>exited</th>\n",
       "      <th>geography_Germany</th>\n",
       "      <th>geography_Spain</th>\n",
       "      <th>gender_Male</th>\n",
       "    </tr>\n",
       "  </thead>\n",
       "  <tbody>\n",
       "    <tr>\n",
       "      <th>0</th>\n",
       "      <td>619</td>\n",
       "      <td>42</td>\n",
       "      <td>2.0</td>\n",
       "      <td>0.00</td>\n",
       "      <td>1</td>\n",
       "      <td>1</td>\n",
       "      <td>1</td>\n",
       "      <td>101348.88</td>\n",
       "      <td>1</td>\n",
       "      <td>0</td>\n",
       "      <td>0</td>\n",
       "      <td>0</td>\n",
       "    </tr>\n",
       "    <tr>\n",
       "      <th>1</th>\n",
       "      <td>608</td>\n",
       "      <td>41</td>\n",
       "      <td>1.0</td>\n",
       "      <td>83807.86</td>\n",
       "      <td>1</td>\n",
       "      <td>0</td>\n",
       "      <td>1</td>\n",
       "      <td>112542.58</td>\n",
       "      <td>0</td>\n",
       "      <td>0</td>\n",
       "      <td>1</td>\n",
       "      <td>0</td>\n",
       "    </tr>\n",
       "    <tr>\n",
       "      <th>2</th>\n",
       "      <td>502</td>\n",
       "      <td>42</td>\n",
       "      <td>8.0</td>\n",
       "      <td>159660.80</td>\n",
       "      <td>3</td>\n",
       "      <td>1</td>\n",
       "      <td>0</td>\n",
       "      <td>113931.57</td>\n",
       "      <td>1</td>\n",
       "      <td>0</td>\n",
       "      <td>0</td>\n",
       "      <td>0</td>\n",
       "    </tr>\n",
       "    <tr>\n",
       "      <th>3</th>\n",
       "      <td>699</td>\n",
       "      <td>39</td>\n",
       "      <td>1.0</td>\n",
       "      <td>0.00</td>\n",
       "      <td>2</td>\n",
       "      <td>0</td>\n",
       "      <td>0</td>\n",
       "      <td>93826.63</td>\n",
       "      <td>0</td>\n",
       "      <td>0</td>\n",
       "      <td>0</td>\n",
       "      <td>0</td>\n",
       "    </tr>\n",
       "    <tr>\n",
       "      <th>4</th>\n",
       "      <td>850</td>\n",
       "      <td>43</td>\n",
       "      <td>2.0</td>\n",
       "      <td>125510.82</td>\n",
       "      <td>1</td>\n",
       "      <td>1</td>\n",
       "      <td>1</td>\n",
       "      <td>79084.10</td>\n",
       "      <td>0</td>\n",
       "      <td>0</td>\n",
       "      <td>1</td>\n",
       "      <td>0</td>\n",
       "    </tr>\n",
       "  </tbody>\n",
       "</table>\n",
       "</div>"
      ],
      "text/plain": [
       "   credit_score  age  tenure    balance  num_of_products  has_cr_card  \\\n",
       "0           619   42     2.0       0.00                1            1   \n",
       "1           608   41     1.0   83807.86                1            0   \n",
       "2           502   42     8.0  159660.80                3            1   \n",
       "3           699   39     1.0       0.00                2            0   \n",
       "4           850   43     2.0  125510.82                1            1   \n",
       "\n",
       "   is_active_member  estimated_salary  exited  geography_Germany  \\\n",
       "0                 1         101348.88       1                  0   \n",
       "1                 1         112542.58       0                  0   \n",
       "2                 0         113931.57       1                  0   \n",
       "3                 0          93826.63       0                  0   \n",
       "4                 1          79084.10       0                  0   \n",
       "\n",
       "   geography_Spain  gender_Male  \n",
       "0                0            0  \n",
       "1                1            0  \n",
       "2                0            0  \n",
       "3                0            0  \n",
       "4                1            0  "
      ]
     },
     "execution_count": 17,
     "metadata": {},
     "output_type": "execute_result"
    }
   ],
   "source": [
    "df_ohe.head()"
   ]
  },
  {
   "cell_type": "code",
   "execution_count": 18,
   "metadata": {},
   "outputs": [
    {
     "data": {
      "text/html": [
       "<div>\n",
       "<style scoped>\n",
       "    .dataframe tbody tr th:only-of-type {\n",
       "        vertical-align: middle;\n",
       "    }\n",
       "\n",
       "    .dataframe tbody tr th {\n",
       "        vertical-align: top;\n",
       "    }\n",
       "\n",
       "    .dataframe thead th {\n",
       "        text-align: right;\n",
       "    }\n",
       "</style>\n",
       "<table border=\"1\" class=\"dataframe\">\n",
       "  <thead>\n",
       "    <tr style=\"text-align: right;\">\n",
       "      <th></th>\n",
       "      <th>credit_score</th>\n",
       "      <th>age</th>\n",
       "      <th>tenure</th>\n",
       "      <th>balance</th>\n",
       "      <th>num_of_products</th>\n",
       "      <th>has_cr_card</th>\n",
       "      <th>is_active_member</th>\n",
       "      <th>estimated_salary</th>\n",
       "      <th>geography_Germany</th>\n",
       "      <th>geography_Spain</th>\n",
       "      <th>gender_Male</th>\n",
       "    </tr>\n",
       "  </thead>\n",
       "  <tbody>\n",
       "    <tr>\n",
       "      <th>7479</th>\n",
       "      <td>-0.886751</td>\n",
       "      <td>-0.373192</td>\n",
       "      <td>1.074045</td>\n",
       "      <td>1.232271</td>\n",
       "      <td>-0.891560</td>\n",
       "      <td>1</td>\n",
       "      <td>0</td>\n",
       "      <td>-0.187705</td>\n",
       "      <td>0</td>\n",
       "      <td>1</td>\n",
       "      <td>1</td>\n",
       "    </tr>\n",
       "    <tr>\n",
       "      <th>3411</th>\n",
       "      <td>0.608663</td>\n",
       "      <td>-0.183385</td>\n",
       "      <td>1.074045</td>\n",
       "      <td>0.600563</td>\n",
       "      <td>-0.891560</td>\n",
       "      <td>0</td>\n",
       "      <td>0</td>\n",
       "      <td>-0.333945</td>\n",
       "      <td>0</td>\n",
       "      <td>0</td>\n",
       "      <td>0</td>\n",
       "    </tr>\n",
       "    <tr>\n",
       "      <th>6027</th>\n",
       "      <td>2.052152</td>\n",
       "      <td>0.480939</td>\n",
       "      <td>-0.732996</td>\n",
       "      <td>1.027098</td>\n",
       "      <td>0.830152</td>\n",
       "      <td>0</td>\n",
       "      <td>1</td>\n",
       "      <td>1.503095</td>\n",
       "      <td>1</td>\n",
       "      <td>0</td>\n",
       "      <td>1</td>\n",
       "    </tr>\n",
       "    <tr>\n",
       "      <th>1247</th>\n",
       "      <td>-1.457915</td>\n",
       "      <td>-1.417129</td>\n",
       "      <td>0.351228</td>\n",
       "      <td>-1.233163</td>\n",
       "      <td>0.830152</td>\n",
       "      <td>1</td>\n",
       "      <td>0</td>\n",
       "      <td>-1.071061</td>\n",
       "      <td>0</td>\n",
       "      <td>0</td>\n",
       "      <td>1</td>\n",
       "    </tr>\n",
       "    <tr>\n",
       "      <th>3716</th>\n",
       "      <td>0.130961</td>\n",
       "      <td>-1.132419</td>\n",
       "      <td>-1.094404</td>\n",
       "      <td>1.140475</td>\n",
       "      <td>-0.891560</td>\n",
       "      <td>0</td>\n",
       "      <td>0</td>\n",
       "      <td>1.524268</td>\n",
       "      <td>1</td>\n",
       "      <td>0</td>\n",
       "      <td>0</td>\n",
       "    </tr>\n",
       "  </tbody>\n",
       "</table>\n",
       "</div>"
      ],
      "text/plain": [
       "      credit_score       age    tenure   balance  num_of_products  \\\n",
       "7479     -0.886751 -0.373192  1.074045  1.232271        -0.891560   \n",
       "3411      0.608663 -0.183385  1.074045  0.600563        -0.891560   \n",
       "6027      2.052152  0.480939 -0.732996  1.027098         0.830152   \n",
       "1247     -1.457915 -1.417129  0.351228 -1.233163         0.830152   \n",
       "3716      0.130961 -1.132419 -1.094404  1.140475        -0.891560   \n",
       "\n",
       "      has_cr_card  is_active_member  estimated_salary  geography_Germany  \\\n",
       "7479            1                 0         -0.187705                  0   \n",
       "3411            0                 0         -0.333945                  0   \n",
       "6027            0                 1          1.503095                  1   \n",
       "1247            1                 0         -1.071061                  0   \n",
       "3716            0                 0          1.524268                  1   \n",
       "\n",
       "      geography_Spain  gender_Male  \n",
       "7479                1            1  \n",
       "3411                0            0  \n",
       "6027                0            1  \n",
       "1247                0            1  \n",
       "3716                0            0  "
      ]
     },
     "execution_count": 18,
     "metadata": {},
     "output_type": "execute_result"
    }
   ],
   "source": [
    "numeric = ['credit_score', 'age', 'tenure', 'balance', 'num_of_products', 'estimated_salary']\n",
    "scalar = StandardScaler()\n",
    "scalar.fit(features_train[numeric])\n",
    "features_train[numeric] = scalar.transform(features_train[numeric])\n",
    "features_valid[numeric] = scalar.transform(features_valid[numeric])\n",
    "features_test[numeric] = scalar.transform(features_test[numeric])\n",
    "features_train.head()"
   ]
  },
  {
   "cell_type": "markdown",
   "metadata": {},
   "source": [
    "## Исследование задачи"
   ]
  },
  {
   "cell_type": "markdown",
   "metadata": {},
   "source": [
    "### DecisionTreeClassifier"
   ]
  },
  {
   "cell_type": "code",
   "execution_count": 19,
   "metadata": {},
   "outputs": [
    {
     "name": "stdout",
     "output_type": "stream",
     "text": [
      "Лучший показатель F1 0.5337423312883436 при глубине дерева 6\n"
     ]
    }
   ],
   "source": [
    "best_f1 = 0\n",
    "best_depth = 0\n",
    "best_model = None\n",
    "for depth in range(1,10):\n",
    "    model_tree = DecisionTreeClassifier(max_depth=depth, random_state=12345).fit(features_train, target_train)\n",
    "    predicted_valid_tree = model_tree.predict(features_valid)\n",
    "    f1_tree = f1_score(target_valid, predicted_valid_tree)\n",
    "    if f1_tree>best_f1:\n",
    "        best_model = model_tree\n",
    "        best_f1 = f1_tree\n",
    "        best_depth = depth\n",
    "print('Лучший показатель F1', best_f1, 'при глубине дерева', best_depth)"
   ]
  },
  {
   "cell_type": "code",
   "execution_count": 20,
   "metadata": {},
   "outputs": [
    {
     "data": {
      "text/plain": [
       "0.5294924554183814"
      ]
     },
     "execution_count": 20,
     "metadata": {},
     "output_type": "execute_result"
    }
   ],
   "source": [
    "model_tree1 = DecisionTreeClassifier(max_depth=6, random_state=12345).fit(features_train, target_train)\n",
    "predicted_valid_tree1 = model_tree.predict(features_valid)\n",
    "f1_tree1 = f1_score(target_valid, predicted_valid_tree1)\n",
    "f1_tree1"
   ]
  },
  {
   "cell_type": "markdown",
   "metadata": {},
   "source": [
    "*Максимальный показатель F1 для дерева решений составил 0,52 при глубибине дерева 6. Это меньше, чем надо по условию проекта (0,59). Посмотрим полноту, точность и посчитаем площадь по ROC кривой (AUC-ROC)*"
   ]
  },
  {
   "cell_type": "code",
   "execution_count": 21,
   "metadata": {},
   "outputs": [
    {
     "name": "stdout",
     "output_type": "stream",
     "text": [
      "Полнота модели: 0.4562647754137116 Точность модели: 0.630718954248366\n"
     ]
    }
   ],
   "source": [
    "def rec_prec(target, predicted):\n",
    "    \n",
    "    ''' Напишем функцию, которая на вход берет целевой признак и предсказание модели\n",
    "    и считает метрики полноты и точности'''\n",
    "    \n",
    "    recall = recall_score(target, predicted)\n",
    "    precision = precision_score(target, predicted)\n",
    "    return print('Полнота модели:', recall, 'Точность модели:', precision)\n",
    "\n",
    "rec_prec(target_valid, predicted_valid_tree1)"
   ]
  },
  {
   "cell_type": "code",
   "execution_count": 22,
   "metadata": {},
   "outputs": [
    {
     "name": "stdout",
     "output_type": "stream",
     "text": [
      "AUC-ROC модели 0.8394526219847661\n"
     ]
    }
   ],
   "source": [
    "def auc(model, featues, target):\n",
    "    \n",
    "    '''Функция на вход принимает модель, признаки и целевой признак и возвращает расчет AUC-ROC'''\n",
    "\n",
    "    probabilities = model.predict_proba(featues)\n",
    "    probabilities_one = probabilities[:, 1]\n",
    "    auc_roc = roc_auc_score(target, probabilities_one)\n",
    "    tpr, fpr, thresholds = roc_curve(target, probabilities_one)\n",
    "    return print('AUC-ROC модели', auc_roc)\n",
    "\n",
    "auc(model_tree1, features_valid, target_valid)"
   ]
  },
  {
   "cell_type": "markdown",
   "metadata": {},
   "source": [
    "### RandomForestClassifier"
   ]
  },
  {
   "cell_type": "code",
   "execution_count": 23,
   "metadata": {},
   "outputs": [
    {
     "name": "stdout",
     "output_type": "stream",
     "text": [
      "Лучший показатель F1 0.5525525525525525 при глубине дерева 16 с количеством деревьев 90\n"
     ]
    }
   ],
   "source": [
    "best_f1 = 0\n",
    "best_depth = 0\n",
    "best_est = 0\n",
    "best_model = None\n",
    "for est in range(10, 100, 10):\n",
    "    for depth in range(1, 20):\n",
    "        model_forest = RandomForestClassifier(max_depth=depth, n_estimators=est, random_state=12345).fit(features_train, target_train)\n",
    "        predicted_valid_forest =  model_forest.predict(features_valid)\n",
    "        f1_forest = f1_score(target_valid, predicted_valid_forest)\n",
    "        if f1_forest>best_f1:\n",
    "            best_model = model_forest\n",
    "            best_f1 = f1_forest\n",
    "            best_depth = depth\n",
    "            best_est = est\n",
    "print('Лучший показатель F1', best_f1, 'при глубине дерева', best_depth, 'с количеством деревьев', best_est)"
   ]
  },
  {
   "cell_type": "markdown",
   "metadata": {},
   "source": [
    "*Максимальный показатель F1 для случайного леса составил 0,55 при глубибине дерева 18 и количеством деревьев 90. Это также меньше, чем надо по условию проекта (0,59).  Посмотрим полноту, точность и посчитаем площадь по ROC кривой (AUC-ROC)*"
   ]
  },
  {
   "cell_type": "code",
   "execution_count": 24,
   "metadata": {},
   "outputs": [
    {
     "data": {
      "text/plain": [
       "0.5525525525525525"
      ]
     },
     "execution_count": 24,
     "metadata": {},
     "output_type": "execute_result"
    }
   ],
   "source": [
    "model_forest1 = RandomForestClassifier(max_depth=16, n_estimators=90, random_state=12345).fit(features_train, target_train)\n",
    "predicted_valid_forest1 =  model_forest1.predict(features_valid)\n",
    "f1_forest1 = f1_score(target_valid, predicted_valid_forest1)\n",
    "f1_forest1"
   ]
  },
  {
   "cell_type": "code",
   "execution_count": 25,
   "metadata": {},
   "outputs": [
    {
     "name": "stdout",
     "output_type": "stream",
     "text": [
      "Полнота модели: 0.43498817966903075 Точность модели: 0.757201646090535\n"
     ]
    }
   ],
   "source": [
    "rec_prec(target_valid, predicted_valid_forest1)"
   ]
  },
  {
   "cell_type": "code",
   "execution_count": 26,
   "metadata": {},
   "outputs": [
    {
     "name": "stdout",
     "output_type": "stream",
     "text": [
      "AUC-ROC модели 0.8499492557763717\n"
     ]
    }
   ],
   "source": [
    "auc(model_forest1, features_valid, target_valid)"
   ]
  },
  {
   "cell_type": "markdown",
   "metadata": {},
   "source": [
    "### LogisticRegression"
   ]
  },
  {
   "cell_type": "code",
   "execution_count": 27,
   "metadata": {},
   "outputs": [
    {
     "name": "stdout",
     "output_type": "stream",
     "text": [
      "Величина F1 меры 0.271304347826087\n"
     ]
    }
   ],
   "source": [
    "model_log = LogisticRegression(random_state=12345).fit(features_train, target_train)\n",
    "predicted_valid_log = model_log.predict(features_valid)\n",
    "f1_log = f1_score(target_valid, predicted_valid_log)\n",
    "print('Величина F1 меры', f1_log)"
   ]
  },
  {
   "cell_type": "markdown",
   "metadata": {},
   "source": [
    "*Обучили модель логистической регрессии, тут показатель F1 меры совсем печально мал 0,27. Это очень далеко от заданным нам 0,59. Также посмотрим на метрики полноты, точности и площадь ROC кривой*"
   ]
  },
  {
   "cell_type": "code",
   "execution_count": 28,
   "metadata": {},
   "outputs": [
    {
     "name": "stdout",
     "output_type": "stream",
     "text": [
      "Полнота модели: 0.18439716312056736 Точность модели: 0.5131578947368421\n"
     ]
    }
   ],
   "source": [
    "rec_prec(target_valid, predicted_valid_log)"
   ]
  },
  {
   "cell_type": "code",
   "execution_count": 29,
   "metadata": {
    "scrolled": true
   },
   "outputs": [
    {
     "name": "stdout",
     "output_type": "stream",
     "text": [
      "AUC-ROC модели 0.7385900451376239\n"
     ]
    }
   ],
   "source": [
    "auc(model_log, features_valid, target_valid)"
   ]
  },
  {
   "cell_type": "markdown",
   "metadata": {},
   "source": [
    "# Вывод:  \n",
    "1. Максимальный показатель F1 для дерева решений составил 0,52 при глубибине дерева 6. Это меньше, чем надо по условию проекта (0,59). Полнота 0,45 точнось 0,63, AUC-ROC 0,83\n",
    "2. Максимальный показатель F1 для случайного леса составил 0,55 при глубибине дерева 16 и количеством деревьев 90. Это также меньше, чем надо по условию проекта (0,59). Полнота 0,43 точнось 0,75, AUC-ROC 0,84    \n",
    "3. Обучили модель логистической регрессии, тут показатель F1 меры совсем печально мал 0,27. Это очень далеко от заданных нам 0,59. Полнота 0,18 точнось 0,51, AUC-ROC 0,73"
   ]
  },
  {
   "cell_type": "markdown",
   "metadata": {},
   "source": [
    "## Борьба с дисбалансом"
   ]
  },
  {
   "cell_type": "markdown",
   "metadata": {},
   "source": [
    "*В борьбе с дисбалансом обучим три модели на уменьшенной и увеличенной выборках и с учетом взвешивания классов. В итоге будет приведена сводная таблица с результатами, которая позволит выбрать наилучшую модель для проверки ее на тесовой выборке*"
   ]
  },
  {
   "cell_type": "markdown",
   "metadata": {},
   "source": [
    "### Взвешивание классов"
   ]
  },
  {
   "cell_type": "markdown",
   "metadata": {},
   "source": [
    "#### DecisionTreeClassifier"
   ]
  },
  {
   "cell_type": "code",
   "execution_count": 30,
   "metadata": {},
   "outputs": [
    {
     "name": "stdout",
     "output_type": "stream",
     "text": [
      "Лучший показатель F1 0.5809128630705395 при глубине дерева 5\n"
     ]
    }
   ],
   "source": [
    "best_f1 = 0\n",
    "best_depth = 0\n",
    "for depth in range(1,10):\n",
    "    model_tree_weight = DecisionTreeClassifier(max_depth=depth, random_state=12345, class_weight= 'balanced').fit(features_train, target_train)\n",
    "    predicted_valid_tree_weight = model_tree_weight.predict(features_valid)\n",
    "    f1_tree_weight = f1_score(target_valid, predicted_valid_tree_weight)\n",
    "    if f1_tree_weight>best_f1:\n",
    "        best_f1 = f1_tree_weight\n",
    "        best_depth = depth\n",
    "print('Лучший показатель F1', best_f1, 'при глубине дерева', best_depth)"
   ]
  },
  {
   "cell_type": "code",
   "execution_count": 31,
   "metadata": {},
   "outputs": [
    {
     "data": {
      "text/plain": [
       "0.5809128630705395"
      ]
     },
     "execution_count": 31,
     "metadata": {},
     "output_type": "execute_result"
    }
   ],
   "source": [
    "model_tree_weight1 = DecisionTreeClassifier(max_depth=5, random_state=12345, class_weight= 'balanced').fit(features_train, target_train)\n",
    "predicted_valid_tree_weight1 = model_tree_weight1.predict(features_valid)\n",
    "f1_tree_weight1 = f1_score(target_valid, predicted_valid_tree_weight1)\n",
    "f1_tree_weight1"
   ]
  },
  {
   "cell_type": "code",
   "execution_count": 32,
   "metadata": {},
   "outputs": [
    {
     "name": "stdout",
     "output_type": "stream",
     "text": [
      "Полнота модели: 0.6619385342789598 Точность модели: 0.5175600739371534\n"
     ]
    }
   ],
   "source": [
    "rec_prec(target_valid, predicted_valid_tree_weight1)"
   ]
  },
  {
   "cell_type": "code",
   "execution_count": 33,
   "metadata": {},
   "outputs": [
    {
     "name": "stdout",
     "output_type": "stream",
     "text": [
      "AUC-ROC модели 0.8355347481752318\n"
     ]
    }
   ],
   "source": [
    "w_probabilities_valid_tree = model_tree_weight1.predict_proba(features_valid)\n",
    "w_probabilities_one_valid_tree = w_probabilities_valid_tree[:, 1]\n",
    "\n",
    "w_auc_roc_tree = roc_auc_score(target_valid, w_probabilities_one_valid_tree)\n",
    "fpr_wtree, tpr_wtree, thresholds_wtree = roc_curve(target_valid, w_probabilities_one_valid_tree)\n",
    "\n",
    "print('AUC-ROC модели', w_auc_roc_tree)"
   ]
  },
  {
   "cell_type": "markdown",
   "metadata": {},
   "source": [
    "#### RandomForestClassifier"
   ]
  },
  {
   "cell_type": "code",
   "execution_count": 34,
   "metadata": {},
   "outputs": [
    {
     "name": "stdout",
     "output_type": "stream",
     "text": [
      "Лучший показатель F1 0.6192017259978425 при глубине дерева 8 с количеством деревьев 60\n"
     ]
    }
   ],
   "source": [
    "best_f1 = 0\n",
    "best_depth = 0\n",
    "best_est = 0\n",
    "for est in range(10, 100, 10):\n",
    "    for depth in range(1, 20):\n",
    "        w_model_forest = RandomForestClassifier(max_depth=depth, n_estimators=est, random_state=12345, class_weight= 'balanced').fit(features_train, target_train)\n",
    "        w_predicted_valid_forest =  w_model_forest.predict(features_valid)\n",
    "        w_f1_score_forest = f1_score(target_valid, w_predicted_valid_forest)\n",
    "        if w_f1_score_forest>best_f1:\n",
    "            best_f1 = w_f1_score_forest\n",
    "            best_depth = depth\n",
    "            best_est = est\n",
    "print('Лучший показатель F1', best_f1, 'при глубине дерева', best_depth, 'с количеством деревьев', best_est)"
   ]
  },
  {
   "cell_type": "code",
   "execution_count": 35,
   "metadata": {},
   "outputs": [
    {
     "data": {
      "text/plain": [
       "0.6192017259978425"
      ]
     },
     "execution_count": 35,
     "metadata": {},
     "output_type": "execute_result"
    }
   ],
   "source": [
    "w_model_forest1 = RandomForestClassifier(max_depth=8, n_estimators=60, random_state=12345, class_weight= 'balanced').fit(features_train, target_train)\n",
    "w_predicted_valid_forest1 =  w_model_forest1.predict(features_valid)\n",
    "w_f1_score_forest = f1_score(target_valid, w_predicted_valid_forest1)\n",
    "w_f1_score_forest"
   ]
  },
  {
   "cell_type": "code",
   "execution_count": 36,
   "metadata": {},
   "outputs": [
    {
     "name": "stdout",
     "output_type": "stream",
     "text": [
      "Полнота модели: 0.6784869976359338 Точность модели: 0.5694444444444444\n"
     ]
    }
   ],
   "source": [
    "rec_prec(target_valid, w_predicted_valid_forest1)"
   ]
  },
  {
   "cell_type": "code",
   "execution_count": 37,
   "metadata": {
    "scrolled": true
   },
   "outputs": [
    {
     "name": "stdout",
     "output_type": "stream",
     "text": [
      "AUC-ROC модели 0.8550499122282336\n"
     ]
    }
   ],
   "source": [
    "w_probabilities_valid_forest = w_model_forest1.predict_proba(features_valid)\n",
    "w_probabilities_one_valid_forest = w_probabilities_valid_forest[:, 1]\n",
    "\n",
    "w_auc_roc_forest = roc_auc_score(target_valid, w_probabilities_one_valid_forest)\n",
    "fpr_wforest, tpr_wforest, thresholds_wforest = roc_curve(target_valid, w_probabilities_one_valid_forest)\n",
    "\n",
    "print('AUC-ROC модели', w_auc_roc_forest)"
   ]
  },
  {
   "cell_type": "markdown",
   "metadata": {},
   "source": [
    "#### LogisticRegression"
   ]
  },
  {
   "cell_type": "code",
   "execution_count": 38,
   "metadata": {},
   "outputs": [
    {
     "name": "stdout",
     "output_type": "stream",
     "text": [
      "Величина F1 меры 0.271304347826087\n"
     ]
    }
   ],
   "source": [
    "w_model_log = LogisticRegression(random_state=12345, class_weight = 'balanced').fit(features_train, target_train)\n",
    "w_predicted_valid_log = model_log.predict(features_valid)\n",
    "w_f1_log = f1_score(target_valid, w_predicted_valid_log)\n",
    "print('Величина F1 меры', f1_log)"
   ]
  },
  {
   "cell_type": "code",
   "execution_count": 39,
   "metadata": {},
   "outputs": [
    {
     "name": "stdout",
     "output_type": "stream",
     "text": [
      "Полнота модели: 0.18439716312056736 Точность модели: 0.5131578947368421\n"
     ]
    }
   ],
   "source": [
    "rec_prec(target_valid, w_predicted_valid_log)"
   ]
  },
  {
   "cell_type": "code",
   "execution_count": 40,
   "metadata": {},
   "outputs": [
    {
     "name": "stdout",
     "output_type": "stream",
     "text": [
      "AUC-ROC модели после увеличения выборки 0.7415792321956735\n"
     ]
    }
   ],
   "source": [
    "w_probabilities_valid_log = w_model_log.predict_proba(features_valid)\n",
    "w_probabilities_one_valid_log = w_probabilities_valid_log[:, 1]\n",
    "\n",
    "w_auc_roc_log = roc_auc_score(target_valid, w_probabilities_one_valid_log)\n",
    "fpr_wlog, tpr_wlog, thresholds_wlog = roc_curve(target_valid, w_probabilities_one_valid_log)\n",
    "\n",
    "print('AUC-ROC модели после увеличения выборки', w_auc_roc_log)"
   ]
  },
  {
   "cell_type": "code",
   "execution_count": 41,
   "metadata": {},
   "outputs": [
    {
     "data": {
      "image/png": "[encoded data removed]",
      "text/plain": [
       "<Figure size 432x288 with 1 Axes>"
      ]
     },
     "metadata": {
      "needs_background": "light"
     },
     "output_type": "display_data"
    }
   ],
   "source": [
    "plt.figure()\n",
    "\n",
    "plt.plot(fpr_wtree, tpr_wtree, linestyle='--')\n",
    "plt.plot(fpr_wforest, tpr_wforest)\n",
    "plt.plot(fpr_wlog, tpr_wlog)\n",
    "\n",
    "plt.plot([0, 1], [0, 1], linestyle='--')\n",
    "\n",
    "plt.xlim([0.0, 1.0])\n",
    "plt.ylim([0.0, 1.0])\n",
    "\n",
    "plt.xlabel('False Positive Rate')\n",
    "plt.ylabel('True Positive Rate')\n",
    "plt.legend(('Дерево решения','Случайный лес','Логистическая регрессия', 'Случайная модель'),\n",
    "           loc='lower right')\n",
    "\n",
    "plt.title('ROC-кривая')\n",
    "\n",
    "plt.show()"
   ]
  },
  {
   "cell_type": "markdown",
   "metadata": {},
   "source": [
    "### Увеличим выборку"
   ]
  },
  {
   "cell_type": "code",
   "execution_count": 42,
   "metadata": {},
   "outputs": [],
   "source": [
    "def upsample(features, target, repeat):\n",
    "    features_zeros = features[target == 0]\n",
    "    features_ones = features[target == 1]\n",
    "    target_zeros = target[target == 0]\n",
    "    target_ones = target[target == 1]\n",
    "\n",
    "    features_upsampled = pd.concat([features_zeros] + [features_ones] * repeat)\n",
    "    target_upsampled = pd.concat([target_zeros] + [target_ones] * repeat)\n",
    "    \n",
    "    features_upsampled, target_upsampled = shuffle(\n",
    "        features_upsampled, target_upsampled, random_state=12345)\n",
    "    \n",
    "    return features_upsampled, target_upsampled\n",
    "\n",
    "features_upsampled, target_upsampled = upsample(features_train, target_train, 4)"
   ]
  },
  {
   "cell_type": "markdown",
   "metadata": {},
   "source": [
    "#### DecisionTreeClassifier на увеличенной выборке"
   ]
  },
  {
   "cell_type": "code",
   "execution_count": 43,
   "metadata": {
    "scrolled": true
   },
   "outputs": [
    {
     "name": "stdout",
     "output_type": "stream",
     "text": [
      "Лучший показатель F1 0.5809128630705395 при глубине дерева 5\n",
      "CPU times: user 177 ms, sys: 8 µs, total: 177 ms\n",
      "Wall time: 192 ms\n"
     ]
    }
   ],
   "source": [
    "%%time\n",
    "best_f1 = 0\n",
    "best_depth = 0\n",
    "best_model = None\n",
    "for depth in range(1,10):\n",
    "    up_model_tree = DecisionTreeClassifier(max_depth=depth, random_state=12345).fit(features_upsampled, target_upsampled)\n",
    "    up_predicted_valid_tree = up_model_tree.predict(features_valid)\n",
    "    up_f1_tree = f1_score(target_valid, up_predicted_valid_tree)\n",
    "    if up_f1_tree > best_f1:\n",
    "        best_model = up_model_tree\n",
    "        best_f1 = up_f1_tree\n",
    "        best_depth = depth\n",
    "print('Лучший показатель F1', best_f1, 'при глубине дерева', best_depth)"
   ]
  },
  {
   "cell_type": "code",
   "execution_count": 44,
   "metadata": {},
   "outputs": [
    {
     "data": {
      "text/plain": [
       "0.5809128630705395"
      ]
     },
     "execution_count": 44,
     "metadata": {},
     "output_type": "execute_result"
    }
   ],
   "source": [
    "up_model_tree1 = DecisionTreeClassifier(max_depth=5, random_state=12345).fit(features_upsampled, target_upsampled)\n",
    "up_predicted_valid_tree1 = up_model_tree1.predict(features_valid)\n",
    "up_f1_tree1 = f1_score(target_valid, up_predicted_valid_tree1)\n",
    "up_f1_tree1"
   ]
  },
  {
   "cell_type": "code",
   "execution_count": 45,
   "metadata": {},
   "outputs": [
    {
     "name": "stdout",
     "output_type": "stream",
     "text": [
      "Полнота модели: 0.6619385342789598 Точность модели: 0.5175600739371534\n"
     ]
    }
   ],
   "source": [
    "rec_prec(target_valid, up_predicted_valid_tree1)"
   ]
  },
  {
   "cell_type": "code",
   "execution_count": 46,
   "metadata": {},
   "outputs": [
    {
     "name": "stdout",
     "output_type": "stream",
     "text": [
      "AUC-ROC модели после увеличения выборки 0.8355347481752318\n"
     ]
    }
   ],
   "source": [
    "up_probabilities_valid_tree = up_model_tree1.predict_proba(features_valid)\n",
    "up_probabilities_one_valid_tree = up_probabilities_valid_tree[:, 1]\n",
    "\n",
    "up_auc_roc_tree = roc_auc_score(target_valid, up_probabilities_one_valid_tree)\n",
    "fpr_tree, tpr_tree, thresholds_tree = roc_curve(target_valid, up_probabilities_one_valid_tree)\n",
    "\n",
    "print('AUC-ROC модели после увеличения выборки', up_auc_roc_tree)"
   ]
  },
  {
   "cell_type": "markdown",
   "metadata": {},
   "source": [
    "*На увеличенной выборке у модели дерева решений f1 возрасла до 0,58 (на исходной выборке 0,52), а AUC-ROC снизилась до 0,83 (на исходной 0,84)*"
   ]
  },
  {
   "cell_type": "markdown",
   "metadata": {},
   "source": [
    "#### RandomForestClassifier на увеличенной выборке"
   ]
  },
  {
   "cell_type": "code",
   "execution_count": 47,
   "metadata": {
    "scrolled": false
   },
   "outputs": [
    {
     "name": "stdout",
     "output_type": "stream",
     "text": [
      "Лучший показатель F1 0.617611580217129 при глубине дерева 13 с количеством деревьев 70\n"
     ]
    }
   ],
   "source": [
    "best_f1 = 0\n",
    "best_depth = 0\n",
    "best_est = 0\n",
    "best_model = None\n",
    "for est in range(10, 100, 10):\n",
    "    for depth in range(1, 20):\n",
    "        up_model_forest = RandomForestClassifier(max_depth=depth, n_estimators=est, random_state=12345).fit(features_upsampled, target_upsampled)\n",
    "        up_predicted_valid_forest =  up_model_forest.predict(features_valid)\n",
    "        up_f1_score = f1_score(target_valid, up_predicted_valid_forest)\n",
    "        if up_f1_score>best_f1:\n",
    "            best_model = up_model_forest\n",
    "            best_f1 = up_f1_score\n",
    "            best_depth = depth\n",
    "            best_est = est\n",
    "print('Лучший показатель F1', best_f1, 'при глубине дерева', best_depth, 'с количеством деревьев', best_est)"
   ]
  },
  {
   "cell_type": "code",
   "execution_count": 48,
   "metadata": {
    "scrolled": true
   },
   "outputs": [
    {
     "name": "stdout",
     "output_type": "stream",
     "text": [
      "F1 на увеличенной выборке 0.617611580217129\n",
      "CPU times: user 597 ms, sys: 3.97 ms, total: 601 ms\n",
      "Wall time: 604 ms\n"
     ]
    }
   ],
   "source": [
    "%%time\n",
    "up_model_forest1 = RandomForestClassifier(max_depth=13, n_estimators=70, random_state=12345).fit(features_upsampled, target_upsampled)\n",
    "up_predicted_valid_forest1 = up_model_forest1.predict(features_valid)\n",
    "up_f1_score1 = f1_score(target_valid, up_predicted_valid_forest1)\n",
    "print('F1 на увеличенной выборке', up_f1_score1)"
   ]
  },
  {
   "cell_type": "code",
   "execution_count": 49,
   "metadata": {},
   "outputs": [
    {
     "name": "stdout",
     "output_type": "stream",
     "text": [
      "Полнота модели: 0.6052009456264775 Точность модели: 0.6305418719211823\n"
     ]
    }
   ],
   "source": [
    "rec_prec(target_valid, up_predicted_valid_forest1)"
   ]
  },
  {
   "cell_type": "code",
   "execution_count": 50,
   "metadata": {},
   "outputs": [
    {
     "name": "stdout",
     "output_type": "stream",
     "text": [
      "AUC-ROC модели после увеличения выборки 0.8547013736169013\n"
     ]
    }
   ],
   "source": [
    "up_probabilities_valid_forest = up_model_forest1.predict_proba(features_valid)\n",
    "up_probabilities_one_valid_forest = up_probabilities_valid_forest[:, 1]\n",
    "\n",
    "up_auc_roc_forest = roc_auc_score(target_valid, up_probabilities_one_valid_forest)\n",
    "fpr_forest, tpr_forest, thresholds_forest = roc_curve(target_valid, up_probabilities_one_valid_forest)\n",
    "\n",
    "print('AUC-ROC модели после увеличения выборки', up_auc_roc_forest)"
   ]
  },
  {
   "cell_type": "markdown",
   "metadata": {},
   "source": [
    "*На увеличенной выборке у модели случайный лес f1 увеличелось до 0,61 (а было 0,55), а AUC-ROC увеличилась до 0,85(было 0,84)*"
   ]
  },
  {
   "cell_type": "markdown",
   "metadata": {},
   "source": [
    "#### LogisticRegression на увеличенной выборке"
   ]
  },
  {
   "cell_type": "code",
   "execution_count": 51,
   "metadata": {},
   "outputs": [
    {
     "name": "stdout",
     "output_type": "stream",
     "text": [
      "F1 логистической регресси на увеличенной выборке: 0.4765217391304348\n",
      "CPU times: user 156 ms, sys: 109 ms, total: 265 ms\n",
      "Wall time: 244 ms\n"
     ]
    }
   ],
   "source": [
    "%%time\n",
    "up_model_log = LogisticRegression(random_state=12345).fit(features_upsampled, target_upsampled)\n",
    "up_predicted_valid_log = up_model_log.predict(features_valid)\n",
    "up_f1_log = f1_score(target_valid, up_predicted_valid_log)\n",
    "print('F1 логистической регресси на увеличенной выборке:', up_f1_log)"
   ]
  },
  {
   "cell_type": "code",
   "execution_count": 52,
   "metadata": {},
   "outputs": [
    {
     "name": "stdout",
     "output_type": "stream",
     "text": [
      "Полнота модели: 0.6477541371158393 Точность модели: 0.3768913342503439\n"
     ]
    }
   ],
   "source": [
    "rec_prec(target_valid, up_predicted_valid_log)"
   ]
  },
  {
   "cell_type": "code",
   "execution_count": 53,
   "metadata": {},
   "outputs": [
    {
     "name": "stdout",
     "output_type": "stream",
     "text": [
      "AUC-ROC модели после увеличения выборки 0.7415477512888433\n"
     ]
    }
   ],
   "source": [
    "up_probabilities_valid_log = up_model_log.predict_proba(features_valid)\n",
    "up_probabilities_one_valid_log = up_probabilities_valid_log[:, 1]\n",
    "\n",
    "up_auc_roc_log = roc_auc_score(target_valid, up_probabilities_one_valid_log)\n",
    "fpr_log, tpr_log, thresholds_log = roc_curve(target_valid, up_probabilities_one_valid_log)\n",
    "\n",
    "print('AUC-ROC модели после увеличения выборки', up_auc_roc_log)"
   ]
  },
  {
   "cell_type": "markdown",
   "metadata": {},
   "source": [
    "*После увеличения выборки у модели логистической регресси f1 увеличилось с 0,13 до 0,42, а AUC-ROC c 0,49 до 0,67*"
   ]
  },
  {
   "cell_type": "code",
   "execution_count": 54,
   "metadata": {
    "scrolled": true
   },
   "outputs": [
    {
     "data": {
      "image/png": "[encoded data removed]",
      "text/plain": [
       "<Figure size 432x288 with 1 Axes>"
      ]
     },
     "metadata": {
      "needs_background": "light"
     },
     "output_type": "display_data"
    }
   ],
   "source": [
    "plt.figure()\n",
    "\n",
    "plt.plot(fpr_tree, tpr_tree, linestyle='--')\n",
    "plt.plot(fpr_forest, tpr_forest)\n",
    "plt.plot(fpr_log, tpr_log)\n",
    "\n",
    "plt.plot([0, 1], [0, 1], linestyle='--')\n",
    "\n",
    "plt.xlim([0.0, 1.0])\n",
    "plt.ylim([0.0, 1.0])\n",
    "\n",
    "plt.xlabel('False Positive Rate')\n",
    "plt.ylabel('True Positive Rate')\n",
    "plt.legend(('Дерево решения','Случайный лес','Логистическая регрессия', 'Случайная модель'),\n",
    "           loc='lower right')\n",
    "\n",
    "plt.title('ROC-кривая')\n",
    "\n",
    "plt.show()"
   ]
  },
  {
   "cell_type": "markdown",
   "metadata": {},
   "source": [
    "### Уменьшим выборку"
   ]
  },
  {
   "cell_type": "code",
   "execution_count": 55,
   "metadata": {},
   "outputs": [],
   "source": [
    "def downsample(features, target, fraction):\n",
    "    features_zeros = features[target == 0]\n",
    "    features_ones = features[target == 1]\n",
    "    target_zeros = target[target == 0]\n",
    "    target_ones = target[target == 1]\n",
    "\n",
    "    features_downsampled = pd.concat(\n",
    "        [features_zeros.sample(frac=fraction, random_state=12345)] + [features_ones])\n",
    "    target_downsampled = pd.concat(\n",
    "        [target_zeros.sample(frac=fraction, random_state=12345)] + [target_ones])\n",
    "    \n",
    "    features_downsampled, target_downsampled = shuffle(\n",
    "        features_downsampled, target_downsampled, random_state=12345)\n",
    "    \n",
    "    return features_downsampled, target_downsampled\n",
    "\n",
    "features_downsampled, target_downsampled = downsample(features_train, target_train, 0.25)"
   ]
  },
  {
   "cell_type": "markdown",
   "metadata": {},
   "source": [
    "#### DecisionTreeClassifier на уменьшенной выборке"
   ]
  },
  {
   "cell_type": "code",
   "execution_count": 56,
   "metadata": {
    "scrolled": true
   },
   "outputs": [
    {
     "name": "stdout",
     "output_type": "stream",
     "text": [
      "F1 дерева решений на уменьшенной выборке 0.6074380165289257 глубина дерева 5\n",
      "CPU times: user 77.4 ms, sys: 15 µs, total: 77.4 ms\n",
      "Wall time: 85.1 ms\n"
     ]
    }
   ],
   "source": [
    "%%time\n",
    "best_depth = 0\n",
    "best_f1 = 0\n",
    "for depth in range(1, 10):\n",
    "    down_model_tree = DecisionTreeClassifier(max_depth=depth, random_state=12345).fit(features_downsampled, target_downsampled)\n",
    "    down_predicted_tree = down_model_tree.predict(features_valid)\n",
    "    down_f1_score = f1_score(target_valid, down_predicted_tree)\n",
    "    if down_f1_score > best_f1:\n",
    "        best_depth = depth\n",
    "        best_f1 = down_f1_score\n",
    "print('F1 дерева решений на уменьшенной выборке', best_f1, 'глубина дерева', best_depth)"
   ]
  },
  {
   "cell_type": "code",
   "execution_count": 57,
   "metadata": {},
   "outputs": [
    {
     "data": {
      "text/plain": [
       "0.6074380165289257"
      ]
     },
     "execution_count": 57,
     "metadata": {},
     "output_type": "execute_result"
    }
   ],
   "source": [
    "down_model_tree1 = DecisionTreeClassifier(max_depth=5, random_state=12345).fit(features_downsampled, target_downsampled)\n",
    "down_predicted_tree1 = down_model_tree1.predict(features_valid)\n",
    "down_f1_score1 = f1_score(target_valid, down_predicted_tree1)\n",
    "down_f1_score1"
   ]
  },
  {
   "cell_type": "code",
   "execution_count": 58,
   "metadata": {},
   "outputs": [
    {
     "name": "stdout",
     "output_type": "stream",
     "text": [
      "Полнота модели: 0.6950354609929078 Точность модели: 0.5394495412844037\n"
     ]
    }
   ],
   "source": [
    "rec_prec(target_valid, down_predicted_tree1)"
   ]
  },
  {
   "cell_type": "code",
   "execution_count": 59,
   "metadata": {},
   "outputs": [
    {
     "name": "stdout",
     "output_type": "stream",
     "text": [
      "AUC-ROC модели после увеличения выборки 0.8371844976022043\n"
     ]
    }
   ],
   "source": [
    "down_probabilities_valid_tree = down_model_tree1.predict_proba(features_valid)\n",
    "down_probabilities_one_valid_tree = down_probabilities_valid_tree[:, 1]\n",
    "\n",
    "down_auc_roc_tree = roc_auc_score(target_valid, down_probabilities_one_valid_tree)\n",
    "fpr_dtree, tpr_dtree, thresholds_dtree = roc_curve(target_valid, up_probabilities_one_valid_tree)\n",
    "\n",
    "print('AUC-ROC модели после увеличения выборки', down_auc_roc_tree)"
   ]
  },
  {
   "cell_type": "markdown",
   "metadata": {},
   "source": [
    "*На уменьшенной выборке у модели дерево решений f1 увеличился до 0,60, а AUC-ROC остались такие же как и на увеличенной выборке 0,83*"
   ]
  },
  {
   "cell_type": "markdown",
   "metadata": {},
   "source": [
    "#### RandomForestClassifier на уменьшенной выборке"
   ]
  },
  {
   "cell_type": "code",
   "execution_count": 60,
   "metadata": {},
   "outputs": [
    {
     "name": "stdout",
     "output_type": "stream",
     "text": [
      "Лучший показатель F1 0.5938945420906567 при глубине дерева 8 с количеством деревьев 50\n"
     ]
    }
   ],
   "source": [
    "best_f1 = 0\n",
    "best_depth = 0\n",
    "best_est = 0\n",
    "best_model = None\n",
    "for est in range(10, 100, 10):\n",
    "    for depth in range(1, 20):\n",
    "        up_model_forest = RandomForestClassifier(max_depth=depth, n_estimators=est, random_state=12345).fit(features_downsampled, target_downsampled)\n",
    "        up_predicted_valid_forest =  up_model_forest.predict(features_valid)\n",
    "        up_f1_score = f1_score(target_valid, up_predicted_valid_forest)\n",
    "        if up_f1_score>best_f1:\n",
    "            best_model = up_model_forest\n",
    "            best_f1 = up_f1_score\n",
    "            best_depth = depth\n",
    "            best_est = est\n",
    "print('Лучший показатель F1', best_f1, 'при глубине дерева', best_depth, 'с количеством деревьев', best_est)"
   ]
  },
  {
   "cell_type": "code",
   "execution_count": 61,
   "metadata": {
    "scrolled": true
   },
   "outputs": [
    {
     "name": "stdout",
     "output_type": "stream",
     "text": [
      "F1 на уменьшенной выборке 0.5938945420906567\n",
      "CPU times: user 141 ms, sys: 11 µs, total: 141 ms\n",
      "Wall time: 148 ms\n"
     ]
    }
   ],
   "source": [
    "%%time\n",
    "down_model_forest1 = RandomForestClassifier(max_depth=8, n_estimators=50, random_state=12345).fit(features_downsampled, target_downsampled)\n",
    "down_predicted_forest1 = down_model_forest1.predict(features_valid)\n",
    "down_f1_forest1 = f1_score(target_valid, down_predicted_forest1)\n",
    "print('F1 на уменьшенной выборке', down_f1_forest1)"
   ]
  },
  {
   "cell_type": "code",
   "execution_count": 62,
   "metadata": {
    "scrolled": true
   },
   "outputs": [
    {
     "name": "stdout",
     "output_type": "stream",
     "text": [
      "Полнота модели: 0.7588652482269503 Точность модели: 0.4878419452887538\n"
     ]
    }
   ],
   "source": [
    "rec_prec(target_valid, down_predicted_forest1)"
   ]
  },
  {
   "cell_type": "code",
   "execution_count": 63,
   "metadata": {},
   "outputs": [
    {
     "name": "stdout",
     "output_type": "stream",
     "text": [
      "AUC-ROC модели после увеличения выборки 0.8518298651867642\n"
     ]
    }
   ],
   "source": [
    "down_probabilities_valid_forest = down_model_forest1.predict_proba(features_valid)\n",
    "down_probabilities_one_valid_forest = down_probabilities_valid_forest[:, 1]\n",
    "\n",
    "down_auc_roc_forest = roc_auc_score(target_valid, down_probabilities_one_valid_forest)\n",
    "fpr_dforest, tpr_dforest, thresholds_dforest = roc_curve(target_valid, down_probabilities_one_valid_forest)\n",
    "\n",
    "print('AUC-ROC на уменьшенной выборке', down_auc_roc_forest)"
   ]
  },
  {
   "cell_type": "markdown",
   "metadata": {},
   "source": [
    "*На уменьшенной выборке модель случайный лес показала себя хуже, чем на увеличенной. F1 снизился до 0,58 (на увеличенной 0,61), AUC-ROC снизилась до 0,84(на увеличенной 0,85)*"
   ]
  },
  {
   "cell_type": "markdown",
   "metadata": {},
   "source": [
    "#### LogisticRegression на уменьшеной выборке"
   ]
  },
  {
   "cell_type": "code",
   "execution_count": 64,
   "metadata": {},
   "outputs": [
    {
     "name": "stdout",
     "output_type": "stream",
     "text": [
      "F1 логистической регресси на увеличенной выборке: 0.4871794871794872\n",
      "CPU times: user 111 ms, sys: 88.5 ms, total: 200 ms\n",
      "Wall time: 146 ms\n"
     ]
    }
   ],
   "source": [
    "%%time\n",
    "down_model_log = LogisticRegression(random_state=12345).fit(features_downsampled, target_downsampled)\n",
    "down_predicted_valid_log = down_model_log.predict(features_valid)\n",
    "down_f1_log = f1_score(target_valid, down_predicted_valid_log)\n",
    "print('F1 логистической регресси на уменьшенной выборке:', down_f1_log)"
   ]
  },
  {
   "cell_type": "code",
   "execution_count": 65,
   "metadata": {},
   "outputs": [
    {
     "name": "stdout",
     "output_type": "stream",
     "text": [
      "Полнота модели: 0.6737588652482269 Точность модели: 0.3815261044176707\n"
     ]
    }
   ],
   "source": [
    "rec_prec(target_valid, down_predicted_valid_log)"
   ]
  },
  {
   "cell_type": "code",
   "execution_count": 66,
   "metadata": {},
   "outputs": [
    {
     "name": "stdout",
     "output_type": "stream",
     "text": [
      "AUC-ROC модели после увеличения выборки 0.7412884085801962\n"
     ]
    }
   ],
   "source": [
    "down_probabilities_valid_log = down_model_log.predict_proba(features_valid)\n",
    "down_probabilities_one_valid_log = down_probabilities_valid_log[:, 1]\n",
    "\n",
    "down_auc_roc_log = roc_auc_score(target_valid, down_probabilities_one_valid_log)\n",
    "fpr_dlog, tpr_dlog, thresholds_dlog = roc_curve(target_valid, down_probabilities_one_valid_log)\n",
    "\n",
    "print('AUC-ROC модели на уменьшенной выборке', down_auc_roc_log)"
   ]
  },
  {
   "cell_type": "markdown",
   "metadata": {},
   "source": [
    "*У логистической регрессии на уменьшенной выборке показатели f1 и AUC-ROC по отношению к увеличенной выборке не изменились*"
   ]
  },
  {
   "cell_type": "code",
   "execution_count": 67,
   "metadata": {},
   "outputs": [
    {
     "data": {
      "image/png": "[encoded data removed]",
      "text/plain": [
       "<Figure size 432x288 with 1 Axes>"
      ]
     },
     "metadata": {
      "needs_background": "light"
     },
     "output_type": "display_data"
    }
   ],
   "source": [
    "plt.figure()\n",
    "\n",
    "plt.plot(fpr_dtree, tpr_dtree, linestyle='--')\n",
    "plt.plot(fpr_dforest, tpr_dforest)\n",
    "plt.plot(fpr_dlog, tpr_dlog)\n",
    "\n",
    "plt.plot([0, 1], [0, 1], linestyle='--')\n",
    "\n",
    "plt.xlim([0.0, 1.0])\n",
    "plt.ylim([0.0, 1.0])\n",
    "\n",
    "plt.xlabel('False Positive Rate')\n",
    "plt.ylabel('True Positive Rate')\n",
    "plt.legend(('Дерево решения','Случайный лес','Логистическая регрессия', 'Случайная модель'),\n",
    "           loc='lower right')\n",
    "\n",
    "plt.title('ROC-кривая')\n",
    "\n",
    "plt.show()"
   ]
  },
  {
   "attachments": {
    "image-3.png": {
     "image/png": "[encoded data removed]"
    },
    "image-5.png": {
     "image/png": "[encoded data removed]"
    },
    "image-7.png": {
     "image/png": "[encoded data removed]"
    }
   },
   "cell_type": "markdown",
   "metadata": {},
   "source": [
    "# Вывод:  \n",
    "В борьбе с дисбалансом целевого сегмента были проведены обучения трех моделей: дерево решений, случайный лес и логистическая регрессия на увеличенной и уменьшенной выборках и сучнтом взвешивания классов. В результате получилось следующее :  \n",
    "\n",
    "![image-3.png](attachment:image-3.png)  \n",
    "\n",
    "![image-7.png](attachment:image-7.png)  \n",
    "\n",
    "![image-5.png](attachment:image-5.png)  \n",
    "\n",
    "На валидационных данных лучшим образом показала себя как модель **случайный лес** на **увеличенной выборке** с гиперпараметрами **max_depth = 13** и **n_estimators=70**, так и таже модель с учетом **взвешивания классов** при **max_depth=8** и **n_estimators=30**, т.к метрики у них практически идентичны проведем тестирование на первом варианте. Наихудшие результаты показала модель логистичесая регрессия\n"
   ]
  },
  {
   "cell_type": "code",
   "execution_count": 73,
   "metadata": {},
   "outputs": [
    {
     "data": {
      "text/html": [
       "<div>\n",
       "<style scoped>\n",
       "    .dataframe tbody tr th:only-of-type {\n",
       "        vertical-align: middle;\n",
       "    }\n",
       "\n",
       "    .dataframe tbody tr th {\n",
       "        vertical-align: top;\n",
       "    }\n",
       "\n",
       "    .dataframe thead th {\n",
       "        text-align: right;\n",
       "    }\n",
       "</style>\n",
       "<table border=\"1\" class=\"dataframe\">\n",
       "  <thead>\n",
       "    <tr style=\"text-align: right;\">\n",
       "      <th></th>\n",
       "      <th>down_AR</th>\n",
       "      <th>down_F1</th>\n",
       "      <th>up_AR</th>\n",
       "      <th>up_F1</th>\n",
       "      <th>w_AR</th>\n",
       "      <th>w_F1</th>\n",
       "    </tr>\n",
       "  </thead>\n",
       "  <tbody>\n",
       "    <tr>\n",
       "      <th>дерево решений</th>\n",
       "      <td>0.741288</td>\n",
       "      <td>0.487179</td>\n",
       "      <td>0.741548</td>\n",
       "      <td>0.476522</td>\n",
       "      <td>0.741579</td>\n",
       "      <td>0.271304</td>\n",
       "    </tr>\n",
       "    <tr>\n",
       "      <th>случайный лес</th>\n",
       "      <td>0.851830</td>\n",
       "      <td>0.593895</td>\n",
       "      <td>0.854701</td>\n",
       "      <td>0.617612</td>\n",
       "      <td>0.855050</td>\n",
       "      <td>0.619202</td>\n",
       "    </tr>\n",
       "  </tbody>\n",
       "</table>\n",
       "</div>"
      ],
      "text/plain": [
       "                 down_AR   down_F1     up_AR     up_F1      w_AR      w_F1\n",
       "дерево решений  0.741288  0.487179  0.741548  0.476522  0.741579  0.271304\n",
       "случайный лес   0.851830  0.593895  0.854701  0.617612  0.855050  0.619202"
      ]
     },
     "execution_count": 73,
     "metadata": {},
     "output_type": "execute_result"
    }
   ],
   "source": [
    "# Очень неудобно, что показатели отличаются в названиях например down_f1_forest1 и up_f1_score1\n",
    "pd.DataFrame(data=[[down_auc_roc_log,down_f1_log,up_auc_roc_log,up_f1_log,w_auc_roc_log,w_f1_log],\n",
    "                  [down_auc_roc_forest,down_f1_forest1,up_auc_roc_forest,up_f1_score1,w_auc_roc_forest,w_f1_score_forest]],\n",
    "            columns=['down_AR', 'down_F1', 'up_AR', 'up_F1', 'w_AR', 'w_F1'],\n",
    "            index=['дерево решений','случайный лес'])"
   ]
  },
  {
   "cell_type": "markdown",
   "metadata": {},
   "source": [
    "## Тестирование модели"
   ]
  },
  {
   "cell_type": "code",
   "execution_count": 68,
   "metadata": {},
   "outputs": [
    {
     "name": "stdout",
     "output_type": "stream",
     "text": [
      "F1 на увеличенной выборке 0.6129807692307692\n"
     ]
    }
   ],
   "source": [
    "predicted_test = up_model_forest1.predict(features_test)\n",
    "f1_score = f1_score(target_test, predicted_test)\n",
    "print('F1 на увеличенной выборке', f1_score)"
   ]
  },
  {
   "cell_type": "code",
   "execution_count": 69,
   "metadata": {
    "scrolled": true
   },
   "outputs": [
    {
     "name": "stdout",
     "output_type": "stream",
     "text": [
      "AUC-ROC модели после увеличения выборки 0.8427313254979766\n"
     ]
    }
   ],
   "source": [
    "probabilities_test = up_model_forest1.predict_proba(features_test)\n",
    "probabilities_one_test = probabilities_test[:, 1]\n",
    "\n",
    "auc_roc_test = roc_auc_score(target_test, probabilities_one_test)\n",
    "fpr_test, tpr_test, thresholds_test = roc_curve(target_test, probabilities_one_test)\n",
    "\n",
    "print('AUC-ROC модели после увеличения выборки', auc_roc_test)"
   ]
  },
  {
   "cell_type": "code",
   "execution_count": 70,
   "metadata": {
    "scrolled": true
   },
   "outputs": [
    {
     "data": {
      "image/png": "[encoded data removed]",
      "text/plain": [
       "<Figure size 432x288 with 1 Axes>"
      ]
     },
     "metadata": {
      "needs_background": "light"
     },
     "output_type": "display_data"
    }
   ],
   "source": [
    "plt.figure()\n",
    "\n",
    "plt.plot(fpr_test, tpr_test)\n",
    "\n",
    "plt.plot([0, 1], [0, 1], linestyle='--')\n",
    "\n",
    "plt.xlim([0.0, 1.0])\n",
    "plt.ylim([0.0, 1.0])\n",
    "\n",
    "plt.xlabel('False Positive Rate')\n",
    "plt.ylabel('True Positive Rate')\n",
    "plt.legend(('Увеличенная выборка', 'Взвешивание классов', 'Случайная модель'),\n",
    "           loc='lower right')\n",
    "\n",
    "plt.title('ROC-кривая')\n",
    "\n",
    "plt.show()"
   ]
  },
  {
   "attachments": {
    "image-3.png": {
     "image/png": "[encoded data removed]"
    },
    "image-4.png": {
     "image/png": "[encoded data removed]"
    },
    "image.png": {
     "image/png": "[encoded data removed]"
    }
   },
   "cell_type": "markdown",
   "metadata": {},
   "source": [
    "# Вывод:  \n",
    "1. Таблица состоит из 10000 строк и 14 столбцов из которых: 3 типа float, 8 типа int и 3 типа object  \n",
    "2. В столбце `tenure` порядка 9% пропусков. Какой-то прямой зависимостью между значениями и поялением пропусков обнаружить не удалось, препролажительно они могли появится в следствии переноса или перезаписи данных. 9% - это значительное количество данных, поэтому, чтобы не терять данные заполню пропсуки медианным значением, сгруппированным по `credit_score`  \n",
    "3. Избавилась от колонок 'row_number', 'customer_id', 'surname', т.к. их значения в дальнейшем исследовании не пригодятся  \n",
    "4. Обнаружили, что целевой признак `exited` не сбалансирован: количество отрицательных значений в 4 раза превышает количество положительных  \n",
    "5. Категориальные признаки `geography` и `gender` преобразовала техникой прямого кодирования (One-Hot Encoding)  \n",
    "6. Количественные признаки `credit_score`, `age`, `tenure`, `balance`, `num_of_products` и `estimated_salary` масштабировала для возможности дальнейшего исследования.\n",
    "\n",
    "7. В борьбе с дисбалансом целевого сегмента были проведены обучения трех моделей: дерево решений, случайный лес и логистическая регрессия на увеличенной и уменьшенной выборке и с учетом взвешивания классов. В результате получилось следующее:  \n",
    "\n",
    "![image.png](attachment:image.png)  \n",
    "\n",
    "![image-4.png](attachment:image-4.png)  \n",
    "\n",
    "![image-3.png](attachment:image-3.png)\n",
    "\n",
    "На валидационных данных лучшим образом показала себя модель **случайный лес** на **увеличенной выборке** с гиперпараметрами **max_depth = 13** и **n_estimators=70**, на ней и будем проводить тестирование. Наихудшие результаты показала модель логистичесая регрессия  \n",
    "8.После проверки модели случайный лес при условии увеличения выборки на тестовых данных f1 мера составила 0,61, что выше значения, которое было установлено по условиям проекта (0,59), а AUC-ROC 0,84 (ROC-кривая продемонстрирован на графике)"
   ]
  },
  {
   "cell_type": "code",
   "execution_count": null,
   "metadata": {},
   "outputs": [],
   "source": []
  }
 ],
 "metadata": {
  "ExecuteTimeLog": [
   {
    "duration": 114,
    "start_time": "2022-03-29T08:39:50.677Z"
   },
   {
    "duration": 1180,
    "start_time": "2022-03-29T08:40:12.010Z"
   },
   {
    "duration": 2,
    "start_time": "2022-03-29T08:41:15.081Z"
   },
   {
    "duration": 4,
    "start_time": "2022-03-29T08:43:25.541Z"
   },
   {
    "duration": 92,
    "start_time": "2022-03-29T08:44:15.360Z"
   },
   {
    "duration": 8,
    "start_time": "2022-03-29T08:44:21.380Z"
   },
   {
    "duration": 3,
    "start_time": "2022-03-29T08:44:39.167Z"
   },
   {
    "duration": 9,
    "start_time": "2022-03-29T08:45:33.630Z"
   },
   {
    "duration": 3,
    "start_time": "2022-03-29T08:45:53.803Z"
   },
   {
    "duration": 3,
    "start_time": "2022-03-29T08:48:48.134Z"
   },
   {
    "duration": 4,
    "start_time": "2022-03-29T08:49:16.333Z"
   },
   {
    "duration": 3,
    "start_time": "2022-03-29T08:49:44.080Z"
   },
   {
    "duration": 31,
    "start_time": "2022-03-29T08:51:41.274Z"
   },
   {
    "duration": 38,
    "start_time": "2022-03-29T08:51:48.570Z"
   },
   {
    "duration": 35,
    "start_time": "2022-03-29T08:52:33.408Z"
   },
   {
    "duration": 47,
    "start_time": "2022-03-29T08:52:41.736Z"
   },
   {
    "duration": 4,
    "start_time": "2022-03-29T08:56:41.008Z"
   },
   {
    "duration": 11,
    "start_time": "2022-03-29T08:57:03.581Z"
   },
   {
    "duration": 14,
    "start_time": "2022-03-29T08:58:11.098Z"
   },
   {
    "duration": 7,
    "start_time": "2022-03-29T08:58:56.280Z"
   },
   {
    "duration": 8,
    "start_time": "2022-03-29T08:59:59.892Z"
   },
   {
    "duration": 20,
    "start_time": "2022-03-29T09:00:13.733Z"
   },
   {
    "duration": 20,
    "start_time": "2022-03-29T09:00:30.852Z"
   },
   {
    "duration": 14,
    "start_time": "2022-03-29T09:00:43.615Z"
   },
   {
    "duration": 16,
    "start_time": "2022-03-29T09:03:02.079Z"
   },
   {
    "duration": 13,
    "start_time": "2022-03-29T09:06:55.026Z"
   },
   {
    "duration": 12,
    "start_time": "2022-03-29T09:07:09.473Z"
   },
   {
    "duration": 8,
    "start_time": "2022-03-29T09:07:24.416Z"
   },
   {
    "duration": 9,
    "start_time": "2022-03-29T09:09:28.426Z"
   },
   {
    "duration": 9,
    "start_time": "2022-03-29T09:09:57.481Z"
   },
   {
    "duration": 15,
    "start_time": "2022-03-29T09:11:08.096Z"
   },
   {
    "duration": 9,
    "start_time": "2022-03-29T09:11:41.157Z"
   },
   {
    "duration": 10,
    "start_time": "2022-03-29T09:12:01.860Z"
   },
   {
    "duration": 6,
    "start_time": "2022-03-29T09:13:06.037Z"
   },
   {
    "duration": 6,
    "start_time": "2022-03-29T09:13:22.626Z"
   },
   {
    "duration": 12,
    "start_time": "2022-03-29T09:24:32.723Z"
   },
   {
    "duration": 8,
    "start_time": "2022-03-29T09:24:37.827Z"
   },
   {
    "duration": 58,
    "start_time": "2022-03-29T11:01:59.093Z"
   },
   {
    "duration": 1272,
    "start_time": "2022-03-29T11:02:06.439Z"
   },
   {
    "duration": 60,
    "start_time": "2022-03-29T11:02:07.714Z"
   },
   {
    "duration": 15,
    "start_time": "2022-03-29T11:02:07.776Z"
   },
   {
    "duration": 24,
    "start_time": "2022-03-29T11:02:07.793Z"
   },
   {
    "duration": 19,
    "start_time": "2022-03-29T11:02:07.820Z"
   },
   {
    "duration": 19,
    "start_time": "2022-03-29T11:08:10.963Z"
   },
   {
    "duration": 5,
    "start_time": "2022-03-29T11:08:50.065Z"
   },
   {
    "duration": 15,
    "start_time": "2022-03-29T11:08:52.057Z"
   },
   {
    "duration": 120,
    "start_time": "2022-03-29T11:09:58.834Z"
   },
   {
    "duration": 18,
    "start_time": "2022-03-29T11:10:03.101Z"
   },
   {
    "duration": 5,
    "start_time": "2022-03-29T11:34:01.860Z"
   },
   {
    "duration": 18,
    "start_time": "2022-03-29T11:34:16.482Z"
   },
   {
    "duration": 144,
    "start_time": "2022-03-29T11:34:49.567Z"
   },
   {
    "duration": 10,
    "start_time": "2022-03-29T11:35:38.230Z"
   },
   {
    "duration": 16,
    "start_time": "2022-03-29T11:37:09.986Z"
   },
   {
    "duration": 12,
    "start_time": "2022-03-29T11:37:33.025Z"
   },
   {
    "duration": 14,
    "start_time": "2022-03-29T11:38:03.108Z"
   },
   {
    "duration": 3,
    "start_time": "2022-03-29T11:38:04.734Z"
   },
   {
    "duration": 54,
    "start_time": "2022-03-29T11:38:04.740Z"
   },
   {
    "duration": 16,
    "start_time": "2022-03-29T11:38:04.795Z"
   },
   {
    "duration": 18,
    "start_time": "2022-03-29T11:38:04.812Z"
   },
   {
    "duration": 18,
    "start_time": "2022-03-29T11:38:04.832Z"
   },
   {
    "duration": 7,
    "start_time": "2022-03-29T11:38:04.852Z"
   },
   {
    "duration": 24,
    "start_time": "2022-03-29T11:38:04.861Z"
   },
   {
    "duration": 4,
    "start_time": "2022-03-29T11:38:04.887Z"
   },
   {
    "duration": 14,
    "start_time": "2022-03-29T11:38:19.167Z"
   },
   {
    "duration": 13,
    "start_time": "2022-03-29T11:38:32.365Z"
   },
   {
    "duration": 13,
    "start_time": "2022-03-29T11:38:38.877Z"
   },
   {
    "duration": 4,
    "start_time": "2022-03-29T11:38:50.550Z"
   },
   {
    "duration": 60,
    "start_time": "2022-03-29T11:38:50.556Z"
   },
   {
    "duration": 15,
    "start_time": "2022-03-29T11:38:50.618Z"
   },
   {
    "duration": 11,
    "start_time": "2022-03-29T11:38:50.635Z"
   },
   {
    "duration": 18,
    "start_time": "2022-03-29T11:38:50.649Z"
   },
   {
    "duration": 34,
    "start_time": "2022-03-29T11:38:50.669Z"
   },
   {
    "duration": 19,
    "start_time": "2022-03-29T11:38:50.707Z"
   },
   {
    "duration": 5,
    "start_time": "2022-03-29T11:38:50.728Z"
   },
   {
    "duration": 14,
    "start_time": "2022-03-29T11:39:01.980Z"
   },
   {
    "duration": 5,
    "start_time": "2022-03-29T11:39:11.018Z"
   },
   {
    "duration": 59,
    "start_time": "2022-03-29T11:39:11.025Z"
   },
   {
    "duration": 16,
    "start_time": "2022-03-29T11:39:11.086Z"
   },
   {
    "duration": 25,
    "start_time": "2022-03-29T11:39:11.105Z"
   },
   {
    "duration": 21,
    "start_time": "2022-03-29T11:39:11.132Z"
   },
   {
    "duration": 6,
    "start_time": "2022-03-29T11:39:11.155Z"
   },
   {
    "duration": 20,
    "start_time": "2022-03-29T11:39:11.162Z"
   },
   {
    "duration": 19,
    "start_time": "2022-03-29T11:39:11.184Z"
   },
   {
    "duration": 1279,
    "start_time": "2022-03-29T11:58:53.962Z"
   },
   {
    "duration": 427,
    "start_time": "2022-03-29T11:59:08.521Z"
   },
   {
    "duration": 122,
    "start_time": "2022-03-29T12:03:31.129Z"
   },
   {
    "duration": 1576,
    "start_time": "2022-03-29T12:03:44.482Z"
   },
   {
    "duration": 67,
    "start_time": "2022-03-29T12:03:46.060Z"
   },
   {
    "duration": 17,
    "start_time": "2022-03-29T12:03:46.129Z"
   },
   {
    "duration": 13,
    "start_time": "2022-03-29T12:03:46.148Z"
   },
   {
    "duration": 18,
    "start_time": "2022-03-29T12:03:46.163Z"
   },
   {
    "duration": 4,
    "start_time": "2022-03-29T12:03:46.183Z"
   },
   {
    "duration": 19,
    "start_time": "2022-03-29T12:03:46.189Z"
   },
   {
    "duration": 164,
    "start_time": "2022-03-29T12:03:46.210Z"
   },
   {
    "duration": 14,
    "start_time": "2022-03-29T12:03:46.376Z"
   },
   {
    "duration": 159,
    "start_time": "2022-03-29T12:04:33.426Z"
   },
   {
    "duration": 111,
    "start_time": "2022-03-29T12:04:42.693Z"
   },
   {
    "duration": 10,
    "start_time": "2022-03-29T12:06:04.767Z"
   },
   {
    "duration": 5,
    "start_time": "2022-03-29T12:06:10.558Z"
   },
   {
    "duration": 6,
    "start_time": "2022-03-29T12:09:33.452Z"
   },
   {
    "duration": 7,
    "start_time": "2022-03-29T12:09:38.117Z"
   },
   {
    "duration": 157,
    "start_time": "2022-03-29T12:09:53.988Z"
   },
   {
    "duration": 113,
    "start_time": "2022-03-29T12:10:16.499Z"
   },
   {
    "duration": 130,
    "start_time": "2022-03-29T12:10:43.105Z"
   },
   {
    "duration": 216,
    "start_time": "2022-03-29T12:10:47.058Z"
   },
   {
    "duration": 124,
    "start_time": "2022-03-29T12:10:53.537Z"
   },
   {
    "duration": 114,
    "start_time": "2022-03-29T12:11:17.648Z"
   },
   {
    "duration": 122,
    "start_time": "2022-03-29T12:12:26.306Z"
   },
   {
    "duration": 120,
    "start_time": "2022-03-29T12:12:47.100Z"
   },
   {
    "duration": 119,
    "start_time": "2022-03-29T12:13:00.587Z"
   },
   {
    "duration": 10,
    "start_time": "2022-03-29T12:33:40.003Z"
   },
   {
    "duration": 1744,
    "start_time": "2022-03-29T16:41:06.664Z"
   },
   {
    "duration": 70,
    "start_time": "2022-03-29T16:41:08.411Z"
   },
   {
    "duration": 16,
    "start_time": "2022-03-29T16:41:08.483Z"
   },
   {
    "duration": 24,
    "start_time": "2022-03-29T16:41:08.501Z"
   },
   {
    "duration": 18,
    "start_time": "2022-03-29T16:41:08.531Z"
   },
   {
    "duration": 22,
    "start_time": "2022-03-29T16:41:08.551Z"
   },
   {
    "duration": 20,
    "start_time": "2022-03-29T16:41:08.575Z"
   },
   {
    "duration": 18,
    "start_time": "2022-03-29T16:41:08.596Z"
   },
   {
    "duration": 166,
    "start_time": "2022-03-29T16:41:08.616Z"
   },
   {
    "duration": 15,
    "start_time": "2022-03-29T16:41:08.784Z"
   },
   {
    "duration": 3,
    "start_time": "2022-03-29T16:43:15.179Z"
   },
   {
    "duration": 5,
    "start_time": "2022-03-29T17:02:41.140Z"
   },
   {
    "duration": 13,
    "start_time": "2022-03-29T17:03:53.140Z"
   },
   {
    "duration": 17,
    "start_time": "2022-03-29T17:04:06.554Z"
   },
   {
    "duration": 5,
    "start_time": "2022-03-29T17:18:58.813Z"
   },
   {
    "duration": 5,
    "start_time": "2022-03-29T17:19:27.084Z"
   },
   {
    "duration": 9,
    "start_time": "2022-03-29T17:20:49.923Z"
   },
   {
    "duration": 4,
    "start_time": "2022-03-29T17:21:19.182Z"
   },
   {
    "duration": 4,
    "start_time": "2022-03-29T17:22:05.244Z"
   },
   {
    "duration": 3,
    "start_time": "2022-03-29T17:22:27.932Z"
   },
   {
    "duration": 4,
    "start_time": "2022-03-29T17:22:42.523Z"
   },
   {
    "duration": 4,
    "start_time": "2022-03-29T17:22:57.883Z"
   },
   {
    "duration": 5,
    "start_time": "2022-03-29T17:23:19.001Z"
   },
   {
    "duration": 7,
    "start_time": "2022-03-29T17:23:37.067Z"
   },
   {
    "duration": 5,
    "start_time": "2022-03-29T17:23:57.784Z"
   },
   {
    "duration": 13,
    "start_time": "2022-03-29T17:28:35.226Z"
   },
   {
    "duration": 4,
    "start_time": "2022-03-29T17:32:20.681Z"
   },
   {
    "duration": 121,
    "start_time": "2022-03-29T17:32:54.696Z"
   },
   {
    "duration": 11,
    "start_time": "2022-03-29T17:33:15.407Z"
   },
   {
    "duration": 22,
    "start_time": "2022-03-29T17:34:49.037Z"
   },
   {
    "duration": 48,
    "start_time": "2022-03-29T17:35:10.329Z"
   },
   {
    "duration": 4,
    "start_time": "2022-03-29T17:48:42.462Z"
   },
   {
    "duration": 15,
    "start_time": "2022-03-29T17:53:01.430Z"
   },
   {
    "duration": 16,
    "start_time": "2022-03-29T17:58:14.151Z"
   },
   {
    "duration": 16,
    "start_time": "2022-03-29T17:58:24.364Z"
   },
   {
    "duration": 174,
    "start_time": "2022-03-29T17:58:28.970Z"
   },
   {
    "duration": 174,
    "start_time": "2022-03-29T17:58:38.121Z"
   },
   {
    "duration": 176,
    "start_time": "2022-03-29T17:59:02.600Z"
   },
   {
    "duration": 19186,
    "start_time": "2022-03-29T18:08:39.417Z"
   },
   {
    "duration": 13326,
    "start_time": "2022-03-29T18:09:27.857Z"
   },
   {
    "duration": 1866,
    "start_time": "2022-03-29T18:14:38.186Z"
   },
   {
    "duration": 3,
    "start_time": "2022-03-29T18:14:40.055Z"
   },
   {
    "duration": 73,
    "start_time": "2022-03-29T18:14:40.060Z"
   },
   {
    "duration": 17,
    "start_time": "2022-03-29T18:14:40.135Z"
   },
   {
    "duration": 16,
    "start_time": "2022-03-29T18:14:40.154Z"
   },
   {
    "duration": 18,
    "start_time": "2022-03-29T18:14:40.171Z"
   },
   {
    "duration": 6,
    "start_time": "2022-03-29T18:14:40.191Z"
   },
   {
    "duration": 38,
    "start_time": "2022-03-29T18:14:40.199Z"
   },
   {
    "duration": 18,
    "start_time": "2022-03-29T18:14:40.239Z"
   },
   {
    "duration": 150,
    "start_time": "2022-03-29T18:14:40.259Z"
   },
   {
    "duration": 22,
    "start_time": "2022-03-29T18:14:40.411Z"
   },
   {
    "duration": 10,
    "start_time": "2022-03-29T18:14:40.436Z"
   },
   {
    "duration": 29,
    "start_time": "2022-03-29T18:14:40.447Z"
   },
   {
    "duration": 10,
    "start_time": "2022-03-29T18:14:40.478Z"
   },
   {
    "duration": 12,
    "start_time": "2022-03-29T18:14:40.490Z"
   },
   {
    "duration": 11,
    "start_time": "2022-03-29T18:14:40.504Z"
   },
   {
    "duration": 13,
    "start_time": "2022-03-29T18:14:40.532Z"
   },
   {
    "duration": 34,
    "start_time": "2022-03-29T18:14:40.547Z"
   },
   {
    "duration": 173,
    "start_time": "2022-03-29T18:14:40.583Z"
   },
   {
    "duration": 12027,
    "start_time": "2022-03-29T18:14:40.758Z"
   },
   {
    "duration": 165,
    "start_time": "2022-03-29T18:22:18.407Z"
   },
   {
    "duration": 156,
    "start_time": "2022-03-29T18:22:31.566Z"
   },
   {
    "duration": 12132,
    "start_time": "2022-03-29T18:22:39.172Z"
   },
   {
    "duration": 262,
    "start_time": "2022-03-29T18:24:35.771Z"
   },
   {
    "duration": 4,
    "start_time": "2022-03-29T18:38:23.453Z"
   },
   {
    "duration": 5,
    "start_time": "2022-03-29T18:41:25.717Z"
   },
   {
    "duration": 9,
    "start_time": "2022-03-29T18:41:25.725Z"
   },
   {
    "duration": 62,
    "start_time": "2022-03-29T18:41:25.736Z"
   },
   {
    "duration": 15,
    "start_time": "2022-03-29T18:41:25.801Z"
   },
   {
    "duration": 14,
    "start_time": "2022-03-29T18:41:25.818Z"
   },
   {
    "duration": 16,
    "start_time": "2022-03-29T18:41:25.834Z"
   },
   {
    "duration": 3,
    "start_time": "2022-03-29T18:41:25.852Z"
   },
   {
    "duration": 16,
    "start_time": "2022-03-29T18:41:25.857Z"
   },
   {
    "duration": 15,
    "start_time": "2022-03-29T18:41:25.876Z"
   },
   {
    "duration": 149,
    "start_time": "2022-03-29T18:41:25.893Z"
   },
   {
    "duration": 14,
    "start_time": "2022-03-29T18:41:26.044Z"
   },
   {
    "duration": 6,
    "start_time": "2022-03-29T18:41:26.060Z"
   },
   {
    "duration": 22,
    "start_time": "2022-03-29T18:41:26.068Z"
   },
   {
    "duration": 7,
    "start_time": "2022-03-29T18:41:26.092Z"
   },
   {
    "duration": 31,
    "start_time": "2022-03-29T18:41:26.101Z"
   },
   {
    "duration": 5,
    "start_time": "2022-03-29T18:41:26.134Z"
   },
   {
    "duration": 14,
    "start_time": "2022-03-29T18:41:26.141Z"
   },
   {
    "duration": 41,
    "start_time": "2022-03-29T18:41:26.157Z"
   },
   {
    "duration": 181,
    "start_time": "2022-03-29T18:41:26.200Z"
   },
   {
    "duration": 134,
    "start_time": "2022-03-29T18:41:26.383Z"
   },
   {
    "duration": 0,
    "start_time": "2022-03-29T18:41:26.519Z"
   },
   {
    "duration": 0,
    "start_time": "2022-03-29T18:41:26.520Z"
   },
   {
    "duration": 4,
    "start_time": "2022-03-29T18:43:04.045Z"
   },
   {
    "duration": 5,
    "start_time": "2022-03-29T18:43:08.583Z"
   },
   {
    "duration": 10,
    "start_time": "2022-03-29T18:43:08.590Z"
   },
   {
    "duration": 66,
    "start_time": "2022-03-29T18:43:08.603Z"
   },
   {
    "duration": 16,
    "start_time": "2022-03-29T18:43:08.672Z"
   },
   {
    "duration": 15,
    "start_time": "2022-03-29T18:43:08.691Z"
   },
   {
    "duration": 33,
    "start_time": "2022-03-29T18:43:08.708Z"
   },
   {
    "duration": 4,
    "start_time": "2022-03-29T18:43:08.743Z"
   },
   {
    "duration": 17,
    "start_time": "2022-03-29T18:43:08.748Z"
   },
   {
    "duration": 116,
    "start_time": "2022-03-29T18:43:08.766Z"
   },
   {
    "duration": 123,
    "start_time": "2022-03-29T18:43:08.884Z"
   },
   {
    "duration": 23,
    "start_time": "2022-03-29T18:43:09.009Z"
   },
   {
    "duration": 3,
    "start_time": "2022-03-29T18:43:09.035Z"
   },
   {
    "duration": 23,
    "start_time": "2022-03-29T18:43:09.040Z"
   },
   {
    "duration": 5,
    "start_time": "2022-03-29T18:43:09.067Z"
   },
   {
    "duration": 9,
    "start_time": "2022-03-29T18:43:09.074Z"
   },
   {
    "duration": 5,
    "start_time": "2022-03-29T18:43:09.085Z"
   },
   {
    "duration": 50,
    "start_time": "2022-03-29T18:43:09.092Z"
   },
   {
    "duration": 34,
    "start_time": "2022-03-29T18:43:09.143Z"
   },
   {
    "duration": 189,
    "start_time": "2022-03-29T18:43:09.179Z"
   },
   {
    "duration": 13,
    "start_time": "2022-03-29T18:43:09.371Z"
   },
   {
    "duration": 12070,
    "start_time": "2022-03-29T18:43:09.385Z"
   },
   {
    "duration": 275,
    "start_time": "2022-03-29T18:43:21.457Z"
   },
   {
    "duration": 6,
    "start_time": "2022-03-29T18:44:33.419Z"
   },
   {
    "duration": 9,
    "start_time": "2022-03-29T18:44:33.428Z"
   },
   {
    "duration": 63,
    "start_time": "2022-03-29T18:44:33.439Z"
   },
   {
    "duration": 15,
    "start_time": "2022-03-29T18:44:33.504Z"
   },
   {
    "duration": 10,
    "start_time": "2022-03-29T18:44:33.531Z"
   },
   {
    "duration": 16,
    "start_time": "2022-03-29T18:44:33.542Z"
   },
   {
    "duration": 7,
    "start_time": "2022-03-29T18:44:33.559Z"
   },
   {
    "duration": 16,
    "start_time": "2022-03-29T18:44:33.568Z"
   },
   {
    "duration": 14,
    "start_time": "2022-03-29T18:44:33.586Z"
   },
   {
    "duration": 131,
    "start_time": "2022-03-29T18:44:33.632Z"
   },
   {
    "duration": 14,
    "start_time": "2022-03-29T18:44:33.765Z"
   },
   {
    "duration": 6,
    "start_time": "2022-03-29T18:44:33.780Z"
   },
   {
    "duration": 20,
    "start_time": "2022-03-29T18:44:33.788Z"
   },
   {
    "duration": 22,
    "start_time": "2022-03-29T18:44:33.810Z"
   },
   {
    "duration": 8,
    "start_time": "2022-03-29T18:44:33.834Z"
   },
   {
    "duration": 8,
    "start_time": "2022-03-29T18:44:33.844Z"
   },
   {
    "duration": 17,
    "start_time": "2022-03-29T18:44:33.854Z"
   },
   {
    "duration": 35,
    "start_time": "2022-03-29T18:44:33.873Z"
   },
   {
    "duration": 175,
    "start_time": "2022-03-29T18:44:33.910Z"
   },
   {
    "duration": 13,
    "start_time": "2022-03-29T18:44:34.087Z"
   },
   {
    "duration": 11969,
    "start_time": "2022-03-29T18:44:34.101Z"
   },
   {
    "duration": 22,
    "start_time": "2022-03-29T18:44:46.072Z"
   },
   {
    "duration": 635,
    "start_time": "2022-03-29T18:44:46.096Z"
   },
   {
    "duration": 4,
    "start_time": "2022-03-29T18:46:54.700Z"
   },
   {
    "duration": 13,
    "start_time": "2022-03-29T18:46:54.706Z"
   },
   {
    "duration": 73,
    "start_time": "2022-03-29T18:46:54.720Z"
   },
   {
    "duration": 15,
    "start_time": "2022-03-29T18:46:54.795Z"
   },
   {
    "duration": 25,
    "start_time": "2022-03-29T18:46:54.813Z"
   },
   {
    "duration": 18,
    "start_time": "2022-03-29T18:46:54.840Z"
   },
   {
    "duration": 6,
    "start_time": "2022-03-29T18:46:54.861Z"
   },
   {
    "duration": 27,
    "start_time": "2022-03-29T18:46:54.869Z"
   },
   {
    "duration": 17,
    "start_time": "2022-03-29T18:46:54.898Z"
   },
   {
    "duration": 129,
    "start_time": "2022-03-29T18:46:54.931Z"
   },
   {
    "duration": 14,
    "start_time": "2022-03-29T18:46:55.062Z"
   },
   {
    "duration": 9,
    "start_time": "2022-03-29T18:46:55.078Z"
   },
   {
    "duration": 30,
    "start_time": "2022-03-29T18:46:55.088Z"
   },
   {
    "duration": 13,
    "start_time": "2022-03-29T18:46:55.121Z"
   },
   {
    "duration": 10,
    "start_time": "2022-03-29T18:46:55.136Z"
   },
   {
    "duration": 10,
    "start_time": "2022-03-29T18:46:55.148Z"
   },
   {
    "duration": 18,
    "start_time": "2022-03-29T18:46:55.160Z"
   },
   {
    "duration": 46,
    "start_time": "2022-03-29T18:46:55.179Z"
   },
   {
    "duration": 154,
    "start_time": "2022-03-29T18:46:55.231Z"
   },
   {
    "duration": 12,
    "start_time": "2022-03-29T18:46:55.387Z"
   },
   {
    "duration": 11734,
    "start_time": "2022-03-29T18:46:55.401Z"
   },
   {
    "duration": 23,
    "start_time": "2022-03-29T18:47:07.137Z"
   },
   {
    "duration": 180,
    "start_time": "2022-03-29T18:47:07.162Z"
   },
   {
    "duration": 97,
    "start_time": "2022-03-29T18:47:07.344Z"
   },
   {
    "duration": 4,
    "start_time": "2022-03-29T18:53:09.802Z"
   },
   {
    "duration": 15,
    "start_time": "2022-03-29T18:53:46.233Z"
   },
   {
    "duration": 79,
    "start_time": "2022-03-30T08:52:03.353Z"
   },
   {
    "duration": 2526,
    "start_time": "2022-03-30T08:52:12.349Z"
   },
   {
    "duration": 4,
    "start_time": "2022-03-30T08:52:14.879Z"
   },
   {
    "duration": 88,
    "start_time": "2022-03-30T08:52:14.885Z"
   },
   {
    "duration": 20,
    "start_time": "2022-03-30T08:52:14.976Z"
   },
   {
    "duration": 23,
    "start_time": "2022-03-30T08:52:14.999Z"
   },
   {
    "duration": 44,
    "start_time": "2022-03-30T08:52:15.025Z"
   },
   {
    "duration": 5,
    "start_time": "2022-03-30T08:52:15.071Z"
   },
   {
    "duration": 23,
    "start_time": "2022-03-30T08:52:15.078Z"
   },
   {
    "duration": 65,
    "start_time": "2022-03-30T08:52:15.103Z"
   },
   {
    "duration": 258,
    "start_time": "2022-03-30T08:52:15.173Z"
   },
   {
    "duration": 32,
    "start_time": "2022-03-30T08:52:15.433Z"
   },
   {
    "duration": 5,
    "start_time": "2022-03-30T08:52:15.467Z"
   },
   {
    "duration": 37,
    "start_time": "2022-03-30T08:52:15.474Z"
   },
   {
    "duration": 34,
    "start_time": "2022-03-30T08:52:15.513Z"
   },
   {
    "duration": 29,
    "start_time": "2022-03-30T08:52:15.550Z"
   },
   {
    "duration": 7,
    "start_time": "2022-03-30T08:52:15.581Z"
   },
   {
    "duration": 17,
    "start_time": "2022-03-30T08:52:15.591Z"
   },
   {
    "duration": 78,
    "start_time": "2022-03-30T08:52:15.611Z"
   },
   {
    "duration": 239,
    "start_time": "2022-03-30T08:52:15.692Z"
   },
   {
    "duration": 203,
    "start_time": "2022-03-30T08:52:15.933Z"
   },
   {
    "duration": 0,
    "start_time": "2022-03-30T08:52:16.138Z"
   },
   {
    "duration": 0,
    "start_time": "2022-03-30T08:52:16.144Z"
   },
   {
    "duration": 0,
    "start_time": "2022-03-30T08:52:16.146Z"
   },
   {
    "duration": 0,
    "start_time": "2022-03-30T08:52:16.148Z"
   },
   {
    "duration": 0,
    "start_time": "2022-03-30T08:52:16.150Z"
   },
   {
    "duration": 5102,
    "start_time": "2022-03-30T08:54:18.061Z"
   },
   {
    "duration": 4097,
    "start_time": "2022-03-30T08:54:34.765Z"
   },
   {
    "duration": 2241,
    "start_time": "2022-03-30T08:54:38.865Z"
   },
   {
    "duration": 4,
    "start_time": "2022-03-30T08:54:41.108Z"
   },
   {
    "duration": 80,
    "start_time": "2022-03-30T08:54:41.115Z"
   },
   {
    "duration": 21,
    "start_time": "2022-03-30T08:54:41.199Z"
   },
   {
    "duration": 39,
    "start_time": "2022-03-30T08:54:41.223Z"
   },
   {
    "duration": 26,
    "start_time": "2022-03-30T08:54:41.264Z"
   },
   {
    "duration": 5,
    "start_time": "2022-03-30T08:54:41.293Z"
   },
   {
    "duration": 61,
    "start_time": "2022-03-30T08:54:41.300Z"
   },
   {
    "duration": 25,
    "start_time": "2022-03-30T08:54:41.364Z"
   },
   {
    "duration": 238,
    "start_time": "2022-03-30T08:54:41.391Z"
   },
   {
    "duration": 23,
    "start_time": "2022-03-30T08:54:41.632Z"
   },
   {
    "duration": 17,
    "start_time": "2022-03-30T08:54:41.658Z"
   },
   {
    "duration": 31,
    "start_time": "2022-03-30T08:54:41.681Z"
   },
   {
    "duration": 33,
    "start_time": "2022-03-30T08:54:41.714Z"
   },
   {
    "duration": 26,
    "start_time": "2022-03-30T08:54:41.750Z"
   },
   {
    "duration": 7,
    "start_time": "2022-03-30T08:54:41.779Z"
   },
   {
    "duration": 20,
    "start_time": "2022-03-30T08:54:41.789Z"
   },
   {
    "duration": 77,
    "start_time": "2022-03-30T08:54:41.812Z"
   },
   {
    "duration": 414,
    "start_time": "2022-03-30T08:54:41.892Z"
   },
   {
    "duration": 290,
    "start_time": "2022-03-30T08:54:42.309Z"
   },
   {
    "duration": 0,
    "start_time": "2022-03-30T08:54:42.601Z"
   },
   {
    "duration": 0,
    "start_time": "2022-03-30T08:54:42.605Z"
   },
   {
    "duration": 0,
    "start_time": "2022-03-30T08:54:42.606Z"
   },
   {
    "duration": 0,
    "start_time": "2022-03-30T08:54:42.607Z"
   },
   {
    "duration": 0,
    "start_time": "2022-03-30T08:54:42.609Z"
   },
   {
    "duration": 110,
    "start_time": "2022-03-30T08:55:55.297Z"
   },
   {
    "duration": 4595,
    "start_time": "2022-03-30T08:56:06.296Z"
   },
   {
    "duration": 2249,
    "start_time": "2022-03-30T08:56:10.894Z"
   },
   {
    "duration": 5,
    "start_time": "2022-03-30T08:56:13.145Z"
   },
   {
    "duration": 111,
    "start_time": "2022-03-30T08:56:13.153Z"
   },
   {
    "duration": 23,
    "start_time": "2022-03-30T08:56:13.267Z"
   },
   {
    "duration": 25,
    "start_time": "2022-03-30T08:56:13.292Z"
   },
   {
    "duration": 44,
    "start_time": "2022-03-30T08:56:13.320Z"
   },
   {
    "duration": 15,
    "start_time": "2022-03-30T08:56:13.369Z"
   },
   {
    "duration": 30,
    "start_time": "2022-03-30T08:56:13.386Z"
   },
   {
    "duration": 43,
    "start_time": "2022-03-30T08:56:13.421Z"
   },
   {
    "duration": 276,
    "start_time": "2022-03-30T08:56:13.467Z"
   },
   {
    "duration": 26,
    "start_time": "2022-03-30T08:56:13.746Z"
   },
   {
    "duration": 24,
    "start_time": "2022-03-30T08:56:13.774Z"
   },
   {
    "duration": 46,
    "start_time": "2022-03-30T08:56:13.801Z"
   },
   {
    "duration": 9,
    "start_time": "2022-03-30T08:56:13.849Z"
   },
   {
    "duration": 16,
    "start_time": "2022-03-30T08:56:13.861Z"
   },
   {
    "duration": 24,
    "start_time": "2022-03-30T08:56:13.880Z"
   },
   {
    "duration": 43,
    "start_time": "2022-03-30T08:56:13.906Z"
   },
   {
    "duration": 62,
    "start_time": "2022-03-30T08:56:13.951Z"
   },
   {
    "duration": 232,
    "start_time": "2022-03-30T08:56:14.016Z"
   },
   {
    "duration": 190,
    "start_time": "2022-03-30T08:56:14.251Z"
   },
   {
    "duration": 0,
    "start_time": "2022-03-30T08:56:14.443Z"
   },
   {
    "duration": 0,
    "start_time": "2022-03-30T08:56:14.445Z"
   },
   {
    "duration": 0,
    "start_time": "2022-03-30T08:56:14.447Z"
   },
   {
    "duration": 0,
    "start_time": "2022-03-30T08:56:14.449Z"
   },
   {
    "duration": 0,
    "start_time": "2022-03-30T08:56:14.451Z"
   },
   {
    "duration": 6,
    "start_time": "2022-03-30T09:00:46.683Z"
   },
   {
    "duration": 2743,
    "start_time": "2022-03-30T09:00:55.564Z"
   },
   {
    "duration": 4,
    "start_time": "2022-03-30T09:00:58.311Z"
   },
   {
    "duration": 85,
    "start_time": "2022-03-30T09:00:58.318Z"
   },
   {
    "duration": 21,
    "start_time": "2022-03-30T09:00:58.406Z"
   },
   {
    "duration": 16,
    "start_time": "2022-03-30T09:00:58.442Z"
   },
   {
    "duration": 35,
    "start_time": "2022-03-30T09:00:58.460Z"
   },
   {
    "duration": 4,
    "start_time": "2022-03-30T09:00:58.498Z"
   },
   {
    "duration": 51,
    "start_time": "2022-03-30T09:00:58.505Z"
   },
   {
    "duration": 21,
    "start_time": "2022-03-30T09:00:58.559Z"
   },
   {
    "duration": 222,
    "start_time": "2022-03-30T09:00:58.582Z"
   },
   {
    "duration": 20,
    "start_time": "2022-03-30T09:00:58.807Z"
   },
   {
    "duration": 4,
    "start_time": "2022-03-30T09:00:58.843Z"
   },
   {
    "duration": 39,
    "start_time": "2022-03-30T09:00:58.850Z"
   },
   {
    "duration": 7,
    "start_time": "2022-03-30T09:00:58.894Z"
   },
   {
    "duration": 42,
    "start_time": "2022-03-30T09:00:58.904Z"
   },
   {
    "duration": 7,
    "start_time": "2022-03-30T09:00:58.949Z"
   },
   {
    "duration": 23,
    "start_time": "2022-03-30T09:00:58.959Z"
   },
   {
    "duration": 92,
    "start_time": "2022-03-30T09:00:58.985Z"
   },
   {
    "duration": 297,
    "start_time": "2022-03-30T09:00:59.079Z"
   },
   {
    "duration": 296,
    "start_time": "2022-03-30T09:00:59.379Z"
   },
   {
    "duration": 17637,
    "start_time": "2022-03-30T09:00:59.678Z"
   },
   {
    "duration": 52,
    "start_time": "2022-03-30T09:01:17.318Z"
   },
   {
    "duration": 486,
    "start_time": "2022-03-30T09:01:17.372Z"
   },
   {
    "duration": 122,
    "start_time": "2022-03-30T09:01:17.948Z"
   },
   {
    "duration": 172,
    "start_time": "2022-03-30T09:01:18.085Z"
   },
   {
    "duration": 328,
    "start_time": "2022-03-30T09:02:22.389Z"
   },
   {
    "duration": 2420,
    "start_time": "2022-03-30T09:02:38.062Z"
   },
   {
    "duration": 4,
    "start_time": "2022-03-30T09:02:40.484Z"
   },
   {
    "duration": 90,
    "start_time": "2022-03-30T09:02:40.490Z"
   },
   {
    "duration": 20,
    "start_time": "2022-03-30T09:02:40.584Z"
   },
   {
    "duration": 11,
    "start_time": "2022-03-30T09:02:40.606Z"
   },
   {
    "duration": 46,
    "start_time": "2022-03-30T09:02:40.620Z"
   },
   {
    "duration": 5,
    "start_time": "2022-03-30T09:02:40.668Z"
   },
   {
    "duration": 21,
    "start_time": "2022-03-30T09:02:40.675Z"
   },
   {
    "duration": 57,
    "start_time": "2022-03-30T09:02:40.698Z"
   },
   {
    "duration": 213,
    "start_time": "2022-03-30T09:02:40.762Z"
   },
   {
    "duration": 20,
    "start_time": "2022-03-30T09:02:40.977Z"
   },
   {
    "duration": 5,
    "start_time": "2022-03-30T09:02:40.999Z"
   },
   {
    "duration": 68,
    "start_time": "2022-03-30T09:02:41.006Z"
   },
   {
    "duration": 7,
    "start_time": "2022-03-30T09:02:41.077Z"
   },
   {
    "duration": 11,
    "start_time": "2022-03-30T09:02:41.086Z"
   },
   {
    "duration": 6,
    "start_time": "2022-03-30T09:02:41.099Z"
   },
   {
    "duration": 56,
    "start_time": "2022-03-30T09:02:41.108Z"
   },
   {
    "duration": 76,
    "start_time": "2022-03-30T09:02:41.166Z"
   },
   {
    "duration": 236,
    "start_time": "2022-03-30T09:02:41.246Z"
   },
   {
    "duration": 220,
    "start_time": "2022-03-30T09:02:41.485Z"
   },
   {
    "duration": 18989,
    "start_time": "2022-03-30T09:02:41.707Z"
   },
   {
    "duration": 235,
    "start_time": "2022-03-30T09:03:00.699Z"
   },
   {
    "duration": 204,
    "start_time": "2022-03-30T09:03:00.945Z"
   },
   {
    "duration": 587,
    "start_time": "2022-03-30T09:03:01.152Z"
   },
   {
    "duration": 26,
    "start_time": "2022-03-30T09:03:01.741Z"
   },
   {
    "duration": 2229,
    "start_time": "2022-03-30T09:03:47.943Z"
   },
   {
    "duration": 4,
    "start_time": "2022-03-30T09:03:50.175Z"
   },
   {
    "duration": 77,
    "start_time": "2022-03-30T09:03:50.181Z"
   },
   {
    "duration": 24,
    "start_time": "2022-03-30T09:03:50.261Z"
   },
   {
    "duration": 14,
    "start_time": "2022-03-30T09:03:50.287Z"
   },
   {
    "duration": 51,
    "start_time": "2022-03-30T09:03:50.304Z"
   },
   {
    "duration": 5,
    "start_time": "2022-03-30T09:03:50.357Z"
   },
   {
    "duration": 28,
    "start_time": "2022-03-30T09:03:50.365Z"
   },
   {
    "duration": 21,
    "start_time": "2022-03-30T09:03:50.395Z"
   },
   {
    "duration": 241,
    "start_time": "2022-03-30T09:03:50.420Z"
   },
   {
    "duration": 19,
    "start_time": "2022-03-30T09:03:50.665Z"
   },
   {
    "duration": 8,
    "start_time": "2022-03-30T09:03:50.686Z"
   },
   {
    "duration": 47,
    "start_time": "2022-03-30T09:03:50.696Z"
   },
   {
    "duration": 11,
    "start_time": "2022-03-30T09:03:50.746Z"
   },
   {
    "duration": 21,
    "start_time": "2022-03-30T09:03:50.762Z"
   },
   {
    "duration": 7,
    "start_time": "2022-03-30T09:03:50.785Z"
   },
   {
    "duration": 16,
    "start_time": "2022-03-30T09:03:50.794Z"
   },
   {
    "duration": 84,
    "start_time": "2022-03-30T09:03:50.812Z"
   },
   {
    "duration": 228,
    "start_time": "2022-03-30T09:03:50.899Z"
   },
   {
    "duration": 23,
    "start_time": "2022-03-30T09:03:51.129Z"
   },
   {
    "duration": 18333,
    "start_time": "2022-03-30T09:03:51.154Z"
   },
   {
    "duration": 27,
    "start_time": "2022-03-30T09:04:09.490Z"
   },
   {
    "duration": 437,
    "start_time": "2022-03-30T09:04:09.519Z"
   },
   {
    "duration": 189,
    "start_time": "2022-03-30T09:04:09.970Z"
   },
   {
    "duration": 126,
    "start_time": "2022-03-30T09:04:10.172Z"
   },
   {
    "duration": 187,
    "start_time": "2022-03-30T09:04:10.301Z"
   },
   {
    "duration": 208,
    "start_time": "2022-03-30T09:22:23.599Z"
   },
   {
    "duration": 369,
    "start_time": "2022-03-30T09:23:21.606Z"
   },
   {
    "duration": 410,
    "start_time": "2022-03-30T09:24:16.563Z"
   },
   {
    "duration": 18086,
    "start_time": "2022-03-30T09:26:51.885Z"
   },
   {
    "duration": 367,
    "start_time": "2022-03-30T09:28:00.832Z"
   },
   {
    "duration": 27,
    "start_time": "2022-03-30T09:30:19.795Z"
   },
   {
    "duration": 6,
    "start_time": "2022-03-30T09:30:57.450Z"
   },
   {
    "duration": 13,
    "start_time": "2022-03-30T09:30:57.459Z"
   },
   {
    "duration": 86,
    "start_time": "2022-03-30T09:30:57.475Z"
   },
   {
    "duration": 43,
    "start_time": "2022-03-30T09:30:57.564Z"
   },
   {
    "duration": 30,
    "start_time": "2022-03-30T09:30:57.609Z"
   },
   {
    "duration": 29,
    "start_time": "2022-03-30T09:30:57.641Z"
   },
   {
    "duration": 4,
    "start_time": "2022-03-30T09:30:57.672Z"
   },
   {
    "duration": 18,
    "start_time": "2022-03-30T09:30:57.678Z"
   },
   {
    "duration": 57,
    "start_time": "2022-03-30T09:30:57.700Z"
   },
   {
    "duration": 185,
    "start_time": "2022-03-30T09:30:57.759Z"
   },
   {
    "duration": 21,
    "start_time": "2022-03-30T09:30:57.948Z"
   },
   {
    "duration": 6,
    "start_time": "2022-03-30T09:30:57.971Z"
   },
   {
    "duration": 28,
    "start_time": "2022-03-30T09:30:57.979Z"
   },
   {
    "duration": 50,
    "start_time": "2022-03-30T09:30:58.009Z"
   },
   {
    "duration": 10,
    "start_time": "2022-03-30T09:30:58.061Z"
   },
   {
    "duration": 6,
    "start_time": "2022-03-30T09:30:58.074Z"
   },
   {
    "duration": 16,
    "start_time": "2022-03-30T09:30:58.082Z"
   },
   {
    "duration": 82,
    "start_time": "2022-03-30T09:30:58.100Z"
   },
   {
    "duration": 336,
    "start_time": "2022-03-30T09:30:58.184Z"
   },
   {
    "duration": 41,
    "start_time": "2022-03-30T09:30:58.522Z"
   },
   {
    "duration": 16278,
    "start_time": "2022-03-30T09:30:58.565Z"
   },
   {
    "duration": 31,
    "start_time": "2022-03-30T09:31:14.847Z"
   },
   {
    "duration": 781,
    "start_time": "2022-03-30T09:31:14.881Z"
   },
   {
    "duration": 184,
    "start_time": "2022-03-30T09:31:15.666Z"
   },
   {
    "duration": 116,
    "start_time": "2022-03-30T09:31:15.854Z"
   },
   {
    "duration": 212,
    "start_time": "2022-03-30T09:31:15.972Z"
   },
   {
    "duration": 452,
    "start_time": "2022-03-30T09:31:34.542Z"
   },
   {
    "duration": 347,
    "start_time": "2022-03-30T09:32:44.638Z"
   },
   {
    "duration": 18,
    "start_time": "2022-03-30T09:33:35.624Z"
   },
   {
    "duration": 454,
    "start_time": "2022-03-30T09:35:03.691Z"
   },
   {
    "duration": 17,
    "start_time": "2022-03-30T09:35:09.940Z"
   },
   {
    "duration": 17,
    "start_time": "2022-03-30T09:35:52.886Z"
   },
   {
    "duration": 15485,
    "start_time": "2022-03-30T09:36:34.592Z"
   },
   {
    "duration": 17,
    "start_time": "2022-03-30T09:38:57.865Z"
   },
   {
    "duration": 2140,
    "start_time": "2022-03-30T09:39:32.674Z"
   },
   {
    "duration": 4,
    "start_time": "2022-03-30T09:39:34.817Z"
   },
   {
    "duration": 101,
    "start_time": "2022-03-30T09:39:34.823Z"
   },
   {
    "duration": 22,
    "start_time": "2022-03-30T09:39:34.927Z"
   },
   {
    "duration": 23,
    "start_time": "2022-03-30T09:39:34.951Z"
   },
   {
    "duration": 38,
    "start_time": "2022-03-30T09:39:34.977Z"
   },
   {
    "duration": 4,
    "start_time": "2022-03-30T09:39:35.017Z"
   },
   {
    "duration": 31,
    "start_time": "2022-03-30T09:39:35.023Z"
   },
   {
    "duration": 20,
    "start_time": "2022-03-30T09:39:35.056Z"
   },
   {
    "duration": 200,
    "start_time": "2022-03-30T09:39:35.080Z"
   },
   {
    "duration": 19,
    "start_time": "2022-03-30T09:39:35.282Z"
   },
   {
    "duration": 24,
    "start_time": "2022-03-30T09:39:35.304Z"
   },
   {
    "duration": 55,
    "start_time": "2022-03-30T09:39:35.330Z"
   },
   {
    "duration": 7,
    "start_time": "2022-03-30T09:39:35.387Z"
   },
   {
    "duration": 18,
    "start_time": "2022-03-30T09:39:35.396Z"
   },
   {
    "duration": 26,
    "start_time": "2022-03-30T09:39:35.416Z"
   },
   {
    "duration": 25,
    "start_time": "2022-03-30T09:39:35.444Z"
   },
   {
    "duration": 65,
    "start_time": "2022-03-30T09:39:35.471Z"
   },
   {
    "duration": 194,
    "start_time": "2022-03-30T09:39:35.539Z"
   },
   {
    "duration": 0,
    "start_time": "2022-03-30T09:39:35.736Z"
   },
   {
    "duration": 0,
    "start_time": "2022-03-30T09:39:35.742Z"
   },
   {
    "duration": 0,
    "start_time": "2022-03-30T09:39:35.744Z"
   },
   {
    "duration": 0,
    "start_time": "2022-03-30T09:39:35.746Z"
   },
   {
    "duration": 0,
    "start_time": "2022-03-30T09:39:35.749Z"
   },
   {
    "duration": 0,
    "start_time": "2022-03-30T09:39:35.751Z"
   },
   {
    "duration": 0,
    "start_time": "2022-03-30T09:39:35.753Z"
   },
   {
    "duration": 328,
    "start_time": "2022-03-30T09:40:17.793Z"
   },
   {
    "duration": 5,
    "start_time": "2022-03-30T09:40:29.615Z"
   },
   {
    "duration": 8,
    "start_time": "2022-03-30T09:40:29.623Z"
   },
   {
    "duration": 63,
    "start_time": "2022-03-30T09:40:29.633Z"
   },
   {
    "duration": 20,
    "start_time": "2022-03-30T09:40:29.698Z"
   },
   {
    "duration": 26,
    "start_time": "2022-03-30T09:40:29.722Z"
   },
   {
    "duration": 21,
    "start_time": "2022-03-30T09:40:29.751Z"
   },
   {
    "duration": 6,
    "start_time": "2022-03-30T09:40:29.774Z"
   },
   {
    "duration": 19,
    "start_time": "2022-03-30T09:40:29.782Z"
   },
   {
    "duration": 49,
    "start_time": "2022-03-30T09:40:29.803Z"
   },
   {
    "duration": 174,
    "start_time": "2022-03-30T09:40:29.854Z"
   },
   {
    "duration": 23,
    "start_time": "2022-03-30T09:40:30.030Z"
   },
   {
    "duration": 25,
    "start_time": "2022-03-30T09:40:30.055Z"
   },
   {
    "duration": 47,
    "start_time": "2022-03-30T09:40:30.082Z"
   },
   {
    "duration": 9,
    "start_time": "2022-03-30T09:40:30.133Z"
   },
   {
    "duration": 14,
    "start_time": "2022-03-30T09:40:30.144Z"
   },
   {
    "duration": 15,
    "start_time": "2022-03-30T09:40:30.160Z"
   },
   {
    "duration": 26,
    "start_time": "2022-03-30T09:40:30.177Z"
   },
   {
    "duration": 58,
    "start_time": "2022-03-30T09:40:30.205Z"
   },
   {
    "duration": 353,
    "start_time": "2022-03-30T09:40:30.266Z"
   },
   {
    "duration": 29,
    "start_time": "2022-03-30T09:40:30.621Z"
   },
   {
    "duration": 0,
    "start_time": "2022-03-30T09:40:30.653Z"
   },
   {
    "duration": 0,
    "start_time": "2022-03-30T09:40:30.654Z"
   },
   {
    "duration": 0,
    "start_time": "2022-03-30T09:40:30.655Z"
   },
   {
    "duration": 0,
    "start_time": "2022-03-30T09:40:30.657Z"
   },
   {
    "duration": 0,
    "start_time": "2022-03-30T09:40:30.658Z"
   },
   {
    "duration": 0,
    "start_time": "2022-03-30T09:40:30.660Z"
   },
   {
    "duration": 23,
    "start_time": "2022-03-30T09:40:50.448Z"
   },
   {
    "duration": 19,
    "start_time": "2022-03-30T09:41:08.805Z"
   },
   {
    "duration": 6,
    "start_time": "2022-03-30T09:41:17.003Z"
   },
   {
    "duration": 18,
    "start_time": "2022-03-30T09:41:17.011Z"
   },
   {
    "duration": 70,
    "start_time": "2022-03-30T09:41:17.031Z"
   },
   {
    "duration": 23,
    "start_time": "2022-03-30T09:41:17.103Z"
   },
   {
    "duration": 21,
    "start_time": "2022-03-30T09:41:17.130Z"
   },
   {
    "duration": 36,
    "start_time": "2022-03-30T09:41:17.153Z"
   },
   {
    "duration": 5,
    "start_time": "2022-03-30T09:41:17.191Z"
   },
   {
    "duration": 108,
    "start_time": "2022-03-30T09:41:17.199Z"
   },
   {
    "duration": 35,
    "start_time": "2022-03-30T09:41:17.309Z"
   },
   {
    "duration": 169,
    "start_time": "2022-03-30T09:41:17.347Z"
   },
   {
    "duration": 30,
    "start_time": "2022-03-30T09:41:17.519Z"
   },
   {
    "duration": 6,
    "start_time": "2022-03-30T09:41:17.552Z"
   },
   {
    "duration": 39,
    "start_time": "2022-03-30T09:41:17.560Z"
   },
   {
    "duration": 7,
    "start_time": "2022-03-30T09:41:17.603Z"
   },
   {
    "duration": 31,
    "start_time": "2022-03-30T09:41:17.612Z"
   },
   {
    "duration": 5,
    "start_time": "2022-03-30T09:41:17.645Z"
   },
   {
    "duration": 26,
    "start_time": "2022-03-30T09:41:17.652Z"
   },
   {
    "duration": 57,
    "start_time": "2022-03-30T09:41:17.680Z"
   },
   {
    "duration": 353,
    "start_time": "2022-03-30T09:41:17.743Z"
   },
   {
    "duration": 17,
    "start_time": "2022-03-30T09:41:18.098Z"
   },
   {
    "duration": 15725,
    "start_time": "2022-03-30T09:41:18.118Z"
   },
   {
    "duration": 20,
    "start_time": "2022-03-30T09:41:33.845Z"
   },
   {
    "duration": 0,
    "start_time": "2022-03-30T09:41:33.868Z"
   },
   {
    "duration": 0,
    "start_time": "2022-03-30T09:41:33.870Z"
   },
   {
    "duration": 0,
    "start_time": "2022-03-30T09:41:33.871Z"
   },
   {
    "duration": 0,
    "start_time": "2022-03-30T09:41:33.873Z"
   },
   {
    "duration": 16040,
    "start_time": "2022-03-30T09:42:26.420Z"
   },
   {
    "duration": 341,
    "start_time": "2022-03-30T09:43:11.061Z"
   },
   {
    "duration": 33,
    "start_time": "2022-03-30T09:44:04.969Z"
   },
   {
    "duration": 27,
    "start_time": "2022-03-30T09:44:17.691Z"
   },
   {
    "duration": 265,
    "start_time": "2022-03-30T09:45:08.981Z"
   },
   {
    "duration": 317,
    "start_time": "2022-03-30T09:45:17.430Z"
   },
   {
    "duration": 264,
    "start_time": "2022-03-30T09:45:26.582Z"
   },
   {
    "duration": 538,
    "start_time": "2022-03-30T09:45:59.243Z"
   },
   {
    "duration": 13,
    "start_time": "2022-03-30T09:47:24.991Z"
   },
   {
    "duration": 53,
    "start_time": "2022-03-30T09:47:52.593Z"
   },
   {
    "duration": 58,
    "start_time": "2022-03-30T09:48:06.188Z"
   },
   {
    "duration": 36,
    "start_time": "2022-03-30T09:48:18.722Z"
   },
   {
    "duration": 20,
    "start_time": "2022-03-30T09:56:39.843Z"
   },
   {
    "duration": 22,
    "start_time": "2022-03-30T10:07:31.564Z"
   },
   {
    "duration": 19,
    "start_time": "2022-03-30T10:07:43.119Z"
   },
   {
    "duration": 363,
    "start_time": "2022-03-30T10:07:45.033Z"
   },
   {
    "duration": 429,
    "start_time": "2022-03-30T10:08:41.789Z"
   },
   {
    "duration": 610,
    "start_time": "2022-03-30T10:10:00.458Z"
   },
   {
    "duration": 564,
    "start_time": "2022-03-30T10:10:21.169Z"
   },
   {
    "duration": 6,
    "start_time": "2022-03-30T10:16:28.619Z"
   },
   {
    "duration": 18,
    "start_time": "2022-03-30T10:21:56.096Z"
   },
   {
    "duration": 566,
    "start_time": "2022-03-30T10:22:32.968Z"
   },
   {
    "duration": 15,
    "start_time": "2022-03-30T10:56:27.893Z"
   },
   {
    "duration": 6,
    "start_time": "2022-03-30T10:57:16.546Z"
   },
   {
    "duration": 6,
    "start_time": "2022-03-30T10:57:36.712Z"
   },
   {
    "duration": 6,
    "start_time": "2022-03-30T10:57:36.721Z"
   },
   {
    "duration": 66,
    "start_time": "2022-03-30T10:57:36.729Z"
   },
   {
    "duration": 22,
    "start_time": "2022-03-30T10:57:36.799Z"
   },
   {
    "duration": 12,
    "start_time": "2022-03-30T10:57:36.844Z"
   },
   {
    "duration": 22,
    "start_time": "2022-03-30T10:57:36.858Z"
   },
   {
    "duration": 6,
    "start_time": "2022-03-30T10:57:36.882Z"
   },
   {
    "duration": 53,
    "start_time": "2022-03-30T10:57:36.891Z"
   },
   {
    "duration": 21,
    "start_time": "2022-03-30T10:57:36.994Z"
   },
   {
    "duration": 172,
    "start_time": "2022-03-30T10:57:37.017Z"
   },
   {
    "duration": 26,
    "start_time": "2022-03-30T10:57:37.192Z"
   },
   {
    "duration": 6,
    "start_time": "2022-03-30T10:57:37.220Z"
   },
   {
    "duration": 41,
    "start_time": "2022-03-30T10:57:37.228Z"
   },
   {
    "duration": 6,
    "start_time": "2022-03-30T10:57:37.271Z"
   },
   {
    "duration": 10,
    "start_time": "2022-03-30T10:57:37.279Z"
   },
   {
    "duration": 6,
    "start_time": "2022-03-30T10:57:37.291Z"
   },
   {
    "duration": 60,
    "start_time": "2022-03-30T10:57:37.299Z"
   },
   {
    "duration": 44,
    "start_time": "2022-03-30T10:57:37.361Z"
   },
   {
    "duration": 376,
    "start_time": "2022-03-30T10:57:37.408Z"
   },
   {
    "duration": 16,
    "start_time": "2022-03-30T10:57:37.787Z"
   },
   {
    "duration": 15556,
    "start_time": "2022-03-30T10:57:37.806Z"
   },
   {
    "duration": 29,
    "start_time": "2022-03-30T10:57:53.364Z"
   },
   {
    "duration": 660,
    "start_time": "2022-03-30T10:57:53.395Z"
   },
   {
    "duration": 21,
    "start_time": "2022-03-30T10:57:54.058Z"
   },
   {
    "duration": 107,
    "start_time": "2022-03-30T10:57:54.147Z"
   },
   {
    "duration": 591,
    "start_time": "2022-03-30T10:57:54.257Z"
   },
   {
    "duration": 19,
    "start_time": "2022-03-30T10:57:54.850Z"
   },
   {
    "duration": 13,
    "start_time": "2022-03-30T10:57:54.871Z"
   },
   {
    "duration": 37048,
    "start_time": "2022-03-30T10:58:32.713Z"
   },
   {
    "duration": 69242,
    "start_time": "2022-03-30T11:00:30.850Z"
   },
   {
    "duration": 139842,
    "start_time": "2022-03-30T11:02:11.087Z"
   },
   {
    "duration": 250932,
    "start_time": "2022-03-30T11:20:42.501Z"
   },
   {
    "duration": 118,
    "start_time": "2022-03-30T11:37:59.308Z"
   },
   {
    "duration": 2318,
    "start_time": "2022-03-30T11:38:06.563Z"
   },
   {
    "duration": 4,
    "start_time": "2022-03-30T11:38:08.884Z"
   },
   {
    "duration": 81,
    "start_time": "2022-03-30T11:38:08.891Z"
   },
   {
    "duration": 25,
    "start_time": "2022-03-30T11:38:08.976Z"
   },
   {
    "duration": 15,
    "start_time": "2022-03-30T11:38:09.003Z"
   },
   {
    "duration": 50,
    "start_time": "2022-03-30T11:38:09.020Z"
   },
   {
    "duration": 9,
    "start_time": "2022-03-30T11:38:09.073Z"
   },
   {
    "duration": 22,
    "start_time": "2022-03-30T11:38:09.084Z"
   },
   {
    "duration": 22,
    "start_time": "2022-03-30T11:38:09.108Z"
   },
   {
    "duration": 207,
    "start_time": "2022-03-30T11:38:09.134Z"
   },
   {
    "duration": 17,
    "start_time": "2022-03-30T11:38:09.344Z"
   },
   {
    "duration": 6,
    "start_time": "2022-03-30T11:38:09.367Z"
   },
   {
    "duration": 29,
    "start_time": "2022-03-30T11:38:09.375Z"
   },
   {
    "duration": 6,
    "start_time": "2022-03-30T11:38:09.407Z"
   },
   {
    "duration": 11,
    "start_time": "2022-03-30T11:38:09.415Z"
   },
   {
    "duration": 42,
    "start_time": "2022-03-30T11:38:09.427Z"
   },
   {
    "duration": 16,
    "start_time": "2022-03-30T11:38:09.472Z"
   },
   {
    "duration": 42,
    "start_time": "2022-03-30T11:38:09.490Z"
   },
   {
    "duration": 369,
    "start_time": "2022-03-30T11:38:09.535Z"
   },
   {
    "duration": 17,
    "start_time": "2022-03-30T11:38:09.906Z"
   },
   {
    "duration": 16147,
    "start_time": "2022-03-30T11:38:09.925Z"
   },
   {
    "duration": 37,
    "start_time": "2022-03-30T11:38:26.076Z"
   },
   {
    "duration": 679,
    "start_time": "2022-03-30T11:38:26.116Z"
   },
   {
    "duration": 71,
    "start_time": "2022-03-30T11:38:26.798Z"
   },
   {
    "duration": 108,
    "start_time": "2022-03-30T11:38:26.873Z"
   },
   {
    "duration": 585,
    "start_time": "2022-03-30T11:38:26.983Z"
   },
   {
    "duration": 18,
    "start_time": "2022-03-30T11:38:27.571Z"
   },
   {
    "duration": 92592,
    "start_time": "2022-03-30T11:38:27.593Z"
   },
   {
    "duration": 58,
    "start_time": "2022-03-30T11:45:35.248Z"
   },
   {
    "duration": 65,
    "start_time": "2022-03-30T11:46:11.679Z"
   },
   {
    "duration": 403199,
    "start_time": "2022-03-30T11:47:55.346Z"
   },
   {
    "duration": 2015,
    "start_time": "2022-03-30T11:55:01.956Z"
   },
   {
    "duration": 949445,
    "start_time": "2022-03-30T11:55:22.596Z"
   },
   {
    "duration": 1789,
    "start_time": "2022-03-30T12:11:27.490Z"
   },
   {
    "duration": 1828,
    "start_time": "2022-03-30T12:11:50.823Z"
   },
   {
    "duration": 1954,
    "start_time": "2022-03-30T12:12:01.255Z"
   },
   {
    "duration": 58,
    "start_time": "2022-03-30T12:13:40.793Z"
   },
   {
    "duration": 809,
    "start_time": "2022-03-30T12:13:45.462Z"
   },
   {
    "duration": 683,
    "start_time": "2022-03-30T12:14:08.995Z"
   },
   {
    "duration": 2459730,
    "start_time": "2022-03-30T12:15:32.182Z"
   },
   {
    "duration": 2367,
    "start_time": "2022-03-30T13:01:27.000Z"
   },
   {
    "duration": 2485143,
    "start_time": "2022-03-30T13:02:10.049Z"
   },
   {
    "duration": 214,
    "start_time": "2022-03-30T13:50:23.578Z"
   },
   {
    "duration": 1574,
    "start_time": "2022-03-30T13:50:46.091Z"
   },
   {
    "duration": 3,
    "start_time": "2022-03-30T13:50:47.667Z"
   },
   {
    "duration": 80,
    "start_time": "2022-03-30T13:50:47.672Z"
   },
   {
    "duration": 14,
    "start_time": "2022-03-30T13:50:47.755Z"
   },
   {
    "duration": 51,
    "start_time": "2022-03-30T13:50:47.770Z"
   },
   {
    "duration": 34,
    "start_time": "2022-03-30T13:50:47.822Z"
   },
   {
    "duration": 12,
    "start_time": "2022-03-30T13:50:47.857Z"
   },
   {
    "duration": 34,
    "start_time": "2022-03-30T13:50:47.871Z"
   },
   {
    "duration": 14,
    "start_time": "2022-03-30T13:50:47.907Z"
   },
   {
    "duration": 111,
    "start_time": "2022-03-30T13:50:47.924Z"
   },
   {
    "duration": 12,
    "start_time": "2022-03-30T13:50:48.037Z"
   },
   {
    "duration": 4,
    "start_time": "2022-03-30T13:50:48.051Z"
   },
   {
    "duration": 22,
    "start_time": "2022-03-30T13:50:48.057Z"
   },
   {
    "duration": 5,
    "start_time": "2022-03-30T13:50:48.081Z"
   },
   {
    "duration": 10,
    "start_time": "2022-03-30T13:50:48.088Z"
   },
   {
    "duration": 5,
    "start_time": "2022-03-30T13:50:48.099Z"
   },
   {
    "duration": 42,
    "start_time": "2022-03-30T13:50:48.106Z"
   },
   {
    "duration": 34,
    "start_time": "2022-03-30T13:50:48.150Z"
   },
   {
    "duration": 242,
    "start_time": "2022-03-30T13:50:48.186Z"
   },
   {
    "duration": 16,
    "start_time": "2022-03-30T13:50:48.430Z"
   },
   {
    "duration": 10517,
    "start_time": "2022-03-30T13:50:48.448Z"
   },
   {
    "duration": 21,
    "start_time": "2022-03-30T13:50:58.967Z"
   },
   {
    "duration": 514,
    "start_time": "2022-03-30T13:50:58.990Z"
   },
   {
    "duration": 33,
    "start_time": "2022-03-30T13:50:59.505Z"
   },
   {
    "duration": 109,
    "start_time": "2022-03-30T13:50:59.540Z"
   },
   {
    "duration": 424,
    "start_time": "2022-03-30T13:50:59.651Z"
   },
   {
    "duration": 13,
    "start_time": "2022-03-30T13:51:00.077Z"
   },
   {
    "duration": 28,
    "start_time": "2022-03-30T13:51:00.094Z"
   },
   {
    "duration": 1935,
    "start_time": "2022-03-30T13:51:00.124Z"
   },
   {
    "duration": 75,
    "start_time": "2022-03-30T13:51:02.061Z"
   },
   {
    "duration": 600,
    "start_time": "2022-03-30T13:51:02.139Z"
   },
   {
    "duration": 106,
    "start_time": "2022-03-30T13:51:02.742Z"
   },
   {
    "duration": 308,
    "start_time": "2022-03-30T13:51:02.850Z"
   },
   {
    "duration": 1641,
    "start_time": "2022-03-30T13:52:36.666Z"
   },
   {
    "duration": 75,
    "start_time": "2022-03-30T13:53:01.670Z"
   },
   {
    "duration": 244,
    "start_time": "2022-03-30T13:53:05.199Z"
   },
   {
    "duration": 16,
    "start_time": "2022-03-30T13:53:07.686Z"
   },
   {
    "duration": 118,
    "start_time": "2022-03-30T13:53:09.031Z"
   },
   {
    "duration": 116,
    "start_time": "2022-03-30T13:53:26.454Z"
   },
   {
    "duration": 115,
    "start_time": "2022-03-30T13:53:43.542Z"
   },
   {
    "duration": 135,
    "start_time": "2022-03-30T13:53:48.632Z"
   },
   {
    "duration": 397673,
    "start_time": "2022-03-30T13:55:05.505Z"
   },
   {
    "duration": 1666,
    "start_time": "2022-03-30T14:07:55.609Z"
   },
   {
    "duration": 313893,
    "start_time": "2022-03-30T14:08:45.055Z"
   },
   {
    "duration": 874,
    "start_time": "2022-03-30T14:41:33.517Z"
   },
   {
    "duration": 1085,
    "start_time": "2022-03-30T14:41:52.210Z"
   },
   {
    "duration": 884,
    "start_time": "2022-03-30T14:42:16.994Z"
   },
   {
    "duration": 135013,
    "start_time": "2022-03-30T14:43:14.063Z"
   },
   {
    "duration": 1590,
    "start_time": "2022-03-30T14:47:32.339Z"
   },
   {
    "duration": 417749,
    "start_time": "2022-03-30T14:48:11.205Z"
   },
   {
    "duration": 1694,
    "start_time": "2022-03-30T15:12:43.083Z"
   },
   {
    "duration": 116,
    "start_time": "2022-03-30T15:13:37.871Z"
   },
   {
    "duration": 13,
    "start_time": "2022-03-30T15:47:16.251Z"
   },
   {
    "duration": 306,
    "start_time": "2022-03-30T15:47:18.581Z"
   },
   {
    "duration": 16,
    "start_time": "2022-03-30T15:47:24.454Z"
   },
   {
    "duration": 1371,
    "start_time": "2022-03-30T15:47:29.671Z"
   },
   {
    "duration": 334128,
    "start_time": "2022-03-30T15:47:42.771Z"
   },
   {
    "duration": 1621,
    "start_time": "2022-03-31T10:11:12.232Z"
   },
   {
    "duration": 3,
    "start_time": "2022-03-31T10:11:13.856Z"
   },
   {
    "duration": 59,
    "start_time": "2022-03-31T10:11:13.860Z"
   },
   {
    "duration": 15,
    "start_time": "2022-03-31T10:11:13.922Z"
   },
   {
    "duration": 13,
    "start_time": "2022-03-31T10:11:13.939Z"
   },
   {
    "duration": 16,
    "start_time": "2022-03-31T10:11:13.953Z"
   },
   {
    "duration": 5,
    "start_time": "2022-03-31T10:11:13.971Z"
   },
   {
    "duration": 37,
    "start_time": "2022-03-31T10:11:13.977Z"
   },
   {
    "duration": 16,
    "start_time": "2022-03-31T10:11:14.016Z"
   },
   {
    "duration": 138,
    "start_time": "2022-03-31T10:11:14.036Z"
   },
   {
    "duration": 14,
    "start_time": "2022-03-31T10:11:14.176Z"
   },
   {
    "duration": 18,
    "start_time": "2022-03-31T10:11:14.192Z"
   },
   {
    "duration": 20,
    "start_time": "2022-03-31T10:11:14.212Z"
   },
   {
    "duration": 6,
    "start_time": "2022-03-31T10:11:14.234Z"
   },
   {
    "duration": 12,
    "start_time": "2022-03-31T10:11:14.242Z"
   },
   {
    "duration": 6,
    "start_time": "2022-03-31T10:11:14.256Z"
   },
   {
    "duration": 17,
    "start_time": "2022-03-31T10:11:14.263Z"
   },
   {
    "duration": 34,
    "start_time": "2022-03-31T10:11:14.308Z"
   },
   {
    "duration": 256,
    "start_time": "2022-03-31T10:11:14.344Z"
   },
   {
    "duration": 17,
    "start_time": "2022-03-31T10:11:14.609Z"
   },
   {
    "duration": 10904,
    "start_time": "2022-03-31T10:11:14.629Z"
   },
   {
    "duration": 22,
    "start_time": "2022-03-31T10:11:25.534Z"
   },
   {
    "duration": 707,
    "start_time": "2022-03-31T10:11:25.558Z"
   },
   {
    "duration": 47,
    "start_time": "2022-03-31T10:11:26.266Z"
   },
   {
    "duration": 96,
    "start_time": "2022-03-31T10:11:26.322Z"
   },
   {
    "duration": 299,
    "start_time": "2022-03-31T10:11:26.420Z"
   },
   {
    "duration": 12,
    "start_time": "2022-03-31T10:11:26.721Z"
   },
   {
    "duration": 457394,
    "start_time": "2022-03-31T10:11:26.736Z"
   },
   {
    "duration": 1365,
    "start_time": "2022-03-31T10:19:04.132Z"
   },
   {
    "duration": 81,
    "start_time": "2022-03-31T10:19:05.498Z"
   },
   {
    "duration": 331,
    "start_time": "2022-03-31T10:19:05.580Z"
   },
   {
    "duration": 105,
    "start_time": "2022-03-31T10:19:05.914Z"
   },
   {
    "duration": 360,
    "start_time": "2022-03-31T10:19:06.022Z"
   },
   {
    "duration": 455,
    "start_time": "2022-03-31T10:26:01.392Z"
   },
   {
    "duration": 30,
    "start_time": "2022-03-31T10:26:20.886Z"
   },
   {
    "duration": 3,
    "start_time": "2022-03-31T10:33:12.411Z"
   },
   {
    "duration": 8,
    "start_time": "2022-03-31T10:33:51.049Z"
   },
   {
    "duration": 8,
    "start_time": "2022-03-31T10:34:52.478Z"
   },
   {
    "duration": 8,
    "start_time": "2022-03-31T10:36:58.201Z"
   },
   {
    "duration": 9,
    "start_time": "2022-03-31T10:37:04.280Z"
   },
   {
    "duration": 9,
    "start_time": "2022-03-31T10:37:10.650Z"
   },
   {
    "duration": 121,
    "start_time": "2022-03-31T10:38:18.644Z"
   },
   {
    "duration": 17,
    "start_time": "2022-03-31T10:38:39.496Z"
   },
   {
    "duration": 8,
    "start_time": "2022-03-31T10:39:12.466Z"
   },
   {
    "duration": 13,
    "start_time": "2022-03-31T10:39:15.186Z"
   },
   {
    "duration": 10787,
    "start_time": "2022-03-31T10:39:25.009Z"
   },
   {
    "duration": 27,
    "start_time": "2022-03-31T10:39:35.798Z"
   },
   {
    "duration": 408,
    "start_time": "2022-03-31T10:40:48.176Z"
   },
   {
    "duration": 7,
    "start_time": "2022-03-31T10:40:51.693Z"
   },
   {
    "duration": 10,
    "start_time": "2022-03-31T10:40:58.669Z"
   },
   {
    "duration": 7,
    "start_time": "2022-03-31T10:43:56.709Z"
   },
   {
    "duration": 9,
    "start_time": "2022-03-31T10:43:58.389Z"
   },
   {
    "duration": 7,
    "start_time": "2022-03-31T10:45:03.957Z"
   },
   {
    "duration": 26,
    "start_time": "2022-03-31T10:45:09.378Z"
   },
   {
    "duration": 453,
    "start_time": "2022-03-31T10:52:15.036Z"
   },
   {
    "duration": 7,
    "start_time": "2022-03-31T10:53:00.925Z"
   },
   {
    "duration": 12,
    "start_time": "2022-03-31T10:53:01.900Z"
   },
   {
    "duration": 113,
    "start_time": "2022-03-31T10:53:42.345Z"
   },
   {
    "duration": 113,
    "start_time": "2022-03-31T10:53:53.625Z"
   },
   {
    "duration": 1386,
    "start_time": "2022-03-31T11:11:34.561Z"
   },
   {
    "duration": 3,
    "start_time": "2022-03-31T11:11:35.949Z"
   },
   {
    "duration": 55,
    "start_time": "2022-03-31T11:11:35.954Z"
   },
   {
    "duration": 14,
    "start_time": "2022-03-31T11:11:36.010Z"
   },
   {
    "duration": 8,
    "start_time": "2022-03-31T11:11:36.026Z"
   },
   {
    "duration": 22,
    "start_time": "2022-03-31T11:11:36.036Z"
   },
   {
    "duration": 4,
    "start_time": "2022-03-31T11:11:36.059Z"
   },
   {
    "duration": 50,
    "start_time": "2022-03-31T11:11:36.065Z"
   },
   {
    "duration": 22,
    "start_time": "2022-03-31T11:11:36.117Z"
   },
   {
    "duration": 142,
    "start_time": "2022-03-31T11:11:36.141Z"
   },
   {
    "duration": 14,
    "start_time": "2022-03-31T11:11:36.285Z"
   },
   {
    "duration": 3,
    "start_time": "2022-03-31T11:11:36.309Z"
   },
   {
    "duration": 23,
    "start_time": "2022-03-31T11:11:36.314Z"
   },
   {
    "duration": 5,
    "start_time": "2022-03-31T11:11:36.340Z"
   },
   {
    "duration": 9,
    "start_time": "2022-03-31T11:11:36.346Z"
   },
   {
    "duration": 4,
    "start_time": "2022-03-31T11:11:36.356Z"
   },
   {
    "duration": 12,
    "start_time": "2022-03-31T11:11:36.362Z"
   },
   {
    "duration": 30,
    "start_time": "2022-03-31T11:11:36.408Z"
   },
   {
    "duration": 238,
    "start_time": "2022-03-31T11:11:36.440Z"
   },
   {
    "duration": 9,
    "start_time": "2022-03-31T11:11:36.680Z"
   },
   {
    "duration": 9,
    "start_time": "2022-03-31T11:11:36.709Z"
   },
   {
    "duration": 11129,
    "start_time": "2022-03-31T11:11:36.719Z"
   },
   {
    "duration": 6,
    "start_time": "2022-03-31T11:11:47.849Z"
   },
   {
    "duration": 17,
    "start_time": "2022-03-31T11:11:47.857Z"
   },
   {
    "duration": 483,
    "start_time": "2022-03-31T11:11:47.876Z"
   },
   {
    "duration": 6,
    "start_time": "2022-03-31T11:11:48.361Z"
   },
   {
    "duration": 45,
    "start_time": "2022-03-31T11:11:48.369Z"
   },
   {
    "duration": 98,
    "start_time": "2022-03-31T11:11:48.417Z"
   },
   {
    "duration": 354,
    "start_time": "2022-03-31T11:11:48.517Z"
   },
   {
    "duration": 8,
    "start_time": "2022-03-31T11:11:48.873Z"
   },
   {
    "duration": 26,
    "start_time": "2022-03-31T11:11:48.883Z"
   },
   {
    "duration": 3,
    "start_time": "2022-03-31T11:11:48.911Z"
   },
   {
    "duration": 496,
    "start_time": "2022-03-31T11:11:48.916Z"
   },
   {
    "duration": 8,
    "start_time": "2022-03-31T11:11:49.415Z"
   },
   {
    "duration": 28,
    "start_time": "2022-03-31T11:11:49.425Z"
   },
   {
    "duration": 438,
    "start_time": "2022-03-31T11:11:49.455Z"
   },
   {
    "duration": 22,
    "start_time": "2022-03-31T11:11:49.895Z"
   },
   {
    "duration": 16,
    "start_time": "2022-03-31T11:11:49.919Z"
   },
   {
    "duration": 216,
    "start_time": "2022-03-31T11:11:50.010Z"
   },
   {
    "duration": 10,
    "start_time": "2022-03-31T11:22:39.578Z"
   },
   {
    "duration": 7,
    "start_time": "2022-03-31T11:24:00.345Z"
   },
   {
    "duration": 8,
    "start_time": "2022-03-31T11:24:01.351Z"
   },
   {
    "duration": 37,
    "start_time": "2022-03-31T11:26:19.426Z"
   },
   {
    "duration": 9,
    "start_time": "2022-03-31T11:28:23.738Z"
   },
   {
    "duration": 115,
    "start_time": "2022-03-31T11:28:51.633Z"
   },
   {
    "duration": 164,
    "start_time": "2022-03-31T11:37:20.228Z"
   },
   {
    "duration": 156,
    "start_time": "2022-03-31T11:38:36.351Z"
   },
   {
    "duration": 11,
    "start_time": "2022-03-31T11:44:03.584Z"
   },
   {
    "duration": 41,
    "start_time": "2022-03-31T11:52:20.629Z"
   },
   {
    "duration": 84,
    "start_time": "2022-03-31T11:52:55.547Z"
   },
   {
    "duration": 218,
    "start_time": "2022-03-31T11:53:23.223Z"
   },
   {
    "duration": 91,
    "start_time": "2022-03-31T11:53:29.382Z"
   },
   {
    "duration": 13,
    "start_time": "2022-03-31T11:58:08.629Z"
   },
   {
    "duration": 96,
    "start_time": "2022-03-31T11:58:15.422Z"
   },
   {
    "duration": 13,
    "start_time": "2022-03-31T11:58:21.241Z"
   },
   {
    "duration": 81,
    "start_time": "2022-03-31T11:58:22.998Z"
   },
   {
    "duration": 12,
    "start_time": "2022-03-31T11:58:27.720Z"
   },
   {
    "duration": 87,
    "start_time": "2022-03-31T11:58:28.950Z"
   },
   {
    "duration": 191,
    "start_time": "2022-03-31T11:59:26.531Z"
   },
   {
    "duration": 176,
    "start_time": "2022-03-31T11:59:34.388Z"
   },
   {
    "duration": 3,
    "start_time": "2022-03-31T12:04:33.498Z"
   },
   {
    "duration": 3,
    "start_time": "2022-03-31T12:04:38.079Z"
   },
   {
    "duration": 114,
    "start_time": "2022-03-31T12:05:00.068Z"
   },
   {
    "duration": 1437,
    "start_time": "2022-03-31T12:05:09.060Z"
   },
   {
    "duration": 3,
    "start_time": "2022-03-31T12:05:10.499Z"
   },
   {
    "duration": 49,
    "start_time": "2022-03-31T12:05:10.508Z"
   },
   {
    "duration": 15,
    "start_time": "2022-03-31T12:05:10.559Z"
   },
   {
    "duration": 22,
    "start_time": "2022-03-31T12:05:10.576Z"
   },
   {
    "duration": 16,
    "start_time": "2022-03-31T12:05:10.609Z"
   },
   {
    "duration": 3,
    "start_time": "2022-03-31T12:05:10.627Z"
   },
   {
    "duration": 14,
    "start_time": "2022-03-31T12:05:10.632Z"
   },
   {
    "duration": 16,
    "start_time": "2022-03-31T12:05:10.648Z"
   },
   {
    "duration": 155,
    "start_time": "2022-03-31T12:05:10.666Z"
   },
   {
    "duration": 14,
    "start_time": "2022-03-31T12:05:10.823Z"
   },
   {
    "duration": 4,
    "start_time": "2022-03-31T12:05:10.838Z"
   },
   {
    "duration": 20,
    "start_time": "2022-03-31T12:05:10.844Z"
   },
   {
    "duration": 5,
    "start_time": "2022-03-31T12:05:10.865Z"
   },
   {
    "duration": 44,
    "start_time": "2022-03-31T12:05:10.872Z"
   },
   {
    "duration": 4,
    "start_time": "2022-03-31T12:05:10.918Z"
   },
   {
    "duration": 14,
    "start_time": "2022-03-31T12:05:10.924Z"
   },
   {
    "duration": 33,
    "start_time": "2022-03-31T12:05:10.940Z"
   },
   {
    "duration": 278,
    "start_time": "2022-03-31T12:05:10.974Z"
   },
   {
    "duration": 8,
    "start_time": "2022-03-31T12:05:11.253Z"
   },
   {
    "duration": 8,
    "start_time": "2022-03-31T12:05:11.263Z"
   },
   {
    "duration": 11269,
    "start_time": "2022-03-31T12:05:11.272Z"
   },
   {
    "duration": 7,
    "start_time": "2022-03-31T12:05:22.542Z"
   },
   {
    "duration": 17,
    "start_time": "2022-03-31T12:05:22.550Z"
   },
   {
    "duration": 497,
    "start_time": "2022-03-31T12:05:22.569Z"
   },
   {
    "duration": 9,
    "start_time": "2022-03-31T12:05:23.068Z"
   },
   {
    "duration": 39,
    "start_time": "2022-03-31T12:05:23.078Z"
   },
   {
    "duration": 98,
    "start_time": "2022-03-31T12:05:23.122Z"
   },
   {
    "duration": 379,
    "start_time": "2022-03-31T12:05:23.222Z"
   },
   {
    "duration": 6,
    "start_time": "2022-03-31T12:05:23.609Z"
   },
   {
    "duration": 8,
    "start_time": "2022-03-31T12:05:23.617Z"
   },
   {
    "duration": 2,
    "start_time": "2022-03-31T12:05:23.627Z"
   },
   {
    "duration": 497,
    "start_time": "2022-03-31T12:05:23.631Z"
   },
   {
    "duration": 7,
    "start_time": "2022-03-31T12:05:24.130Z"
   },
   {
    "duration": 26,
    "start_time": "2022-03-31T12:05:24.139Z"
   },
   {
    "duration": 525,
    "start_time": "2022-03-31T12:05:24.167Z"
   },
   {
    "duration": 19,
    "start_time": "2022-03-31T12:05:24.694Z"
   },
   {
    "duration": 95,
    "start_time": "2022-03-31T12:05:24.715Z"
   },
   {
    "duration": 253,
    "start_time": "2022-03-31T12:05:24.813Z"
   },
   {
    "duration": 12,
    "start_time": "2022-03-31T12:05:25.068Z"
   },
   {
    "duration": 180,
    "start_time": "2022-03-31T12:05:25.081Z"
   },
   {
    "duration": 7,
    "start_time": "2022-03-31T12:05:25.262Z"
   },
   {
    "duration": 110,
    "start_time": "2022-03-31T12:08:07.985Z"
   },
   {
    "duration": 178,
    "start_time": "2022-03-31T12:08:21.332Z"
   },
   {
    "duration": 8,
    "start_time": "2022-03-31T12:08:21.788Z"
   },
   {
    "duration": 10,
    "start_time": "2022-03-31T12:08:22.332Z"
   },
   {
    "duration": 10,
    "start_time": "2022-03-31T12:09:44.124Z"
   },
   {
    "duration": 9,
    "start_time": "2022-03-31T12:11:02.182Z"
   },
   {
    "duration": 165,
    "start_time": "2022-03-31T12:16:44.128Z"
   },
   {
    "duration": 178,
    "start_time": "2022-03-31T12:16:51.206Z"
   },
   {
    "duration": 195180,
    "start_time": "2022-03-31T12:18:27.073Z"
   },
   {
    "duration": 218,
    "start_time": "2022-03-31T12:44:58.796Z"
   },
   {
    "duration": 1399,
    "start_time": "2022-03-31T12:45:40.821Z"
   },
   {
    "duration": 3,
    "start_time": "2022-03-31T12:45:42.221Z"
   },
   {
    "duration": 50,
    "start_time": "2022-03-31T12:45:42.225Z"
   },
   {
    "duration": 13,
    "start_time": "2022-03-31T12:45:42.277Z"
   },
   {
    "duration": 20,
    "start_time": "2022-03-31T12:45:42.293Z"
   },
   {
    "duration": 15,
    "start_time": "2022-03-31T12:45:42.315Z"
   },
   {
    "duration": 3,
    "start_time": "2022-03-31T12:45:42.331Z"
   },
   {
    "duration": 14,
    "start_time": "2022-03-31T12:45:42.336Z"
   },
   {
    "duration": 14,
    "start_time": "2022-03-31T12:45:42.352Z"
   },
   {
    "duration": 133,
    "start_time": "2022-03-31T12:45:42.367Z"
   },
   {
    "duration": 17,
    "start_time": "2022-03-31T12:45:42.502Z"
   },
   {
    "duration": 6,
    "start_time": "2022-03-31T12:45:42.520Z"
   },
   {
    "duration": 21,
    "start_time": "2022-03-31T12:45:42.527Z"
   },
   {
    "duration": 4,
    "start_time": "2022-03-31T12:45:42.551Z"
   },
   {
    "duration": 11,
    "start_time": "2022-03-31T12:45:42.556Z"
   },
   {
    "duration": 4,
    "start_time": "2022-03-31T12:45:42.568Z"
   },
   {
    "duration": 36,
    "start_time": "2022-03-31T12:45:42.573Z"
   },
   {
    "duration": 30,
    "start_time": "2022-03-31T12:45:42.610Z"
   },
   {
    "duration": 245,
    "start_time": "2022-03-31T12:45:42.642Z"
   },
   {
    "duration": 7,
    "start_time": "2022-03-31T12:45:42.889Z"
   },
   {
    "duration": 7,
    "start_time": "2022-03-31T12:45:42.908Z"
   },
   {
    "duration": 10628,
    "start_time": "2022-03-31T12:45:42.916Z"
   },
   {
    "duration": 6,
    "start_time": "2022-03-31T12:45:53.546Z"
   },
   {
    "duration": 17,
    "start_time": "2022-03-31T12:45:53.554Z"
   },
   {
    "duration": 575,
    "start_time": "2022-03-31T12:45:53.572Z"
   },
   {
    "duration": 6,
    "start_time": "2022-03-31T12:45:54.148Z"
   },
   {
    "duration": 53,
    "start_time": "2022-03-31T12:45:54.156Z"
   },
   {
    "duration": 101,
    "start_time": "2022-03-31T12:45:54.213Z"
   },
   {
    "duration": 303,
    "start_time": "2022-03-31T12:45:54.316Z"
   },
   {
    "duration": 7,
    "start_time": "2022-03-31T12:45:54.620Z"
   },
   {
    "duration": 8,
    "start_time": "2022-03-31T12:45:54.628Z"
   },
   {
    "duration": 2,
    "start_time": "2022-03-31T12:45:54.638Z"
   },
   {
    "duration": 478,
    "start_time": "2022-03-31T12:45:54.641Z"
   },
   {
    "duration": 6,
    "start_time": "2022-03-31T12:45:55.120Z"
   },
   {
    "duration": 24,
    "start_time": "2022-03-31T12:45:55.128Z"
   },
   {
    "duration": 432,
    "start_time": "2022-03-31T12:45:55.154Z"
   },
   {
    "duration": 24,
    "start_time": "2022-03-31T12:45:55.588Z"
   },
   {
    "duration": 13,
    "start_time": "2022-03-31T12:45:55.615Z"
   },
   {
    "duration": 257,
    "start_time": "2022-03-31T12:45:55.709Z"
   },
   {
    "duration": 10,
    "start_time": "2022-03-31T12:45:55.968Z"
   },
   {
    "duration": 184,
    "start_time": "2022-03-31T12:45:55.982Z"
   },
   {
    "duration": 7,
    "start_time": "2022-03-31T12:45:56.167Z"
   },
   {
    "duration": 8,
    "start_time": "2022-03-31T12:45:56.176Z"
   },
   {
    "duration": 24,
    "start_time": "2022-03-31T12:45:56.185Z"
   },
   {
    "duration": 315,
    "start_time": "2022-03-31T12:45:56.210Z"
   },
   {
    "duration": 225,
    "start_time": "2022-03-31T12:47:19.073Z"
   },
   {
    "duration": 338,
    "start_time": "2022-03-31T12:47:38.640Z"
   },
   {
    "duration": 406,
    "start_time": "2022-03-31T12:49:21.915Z"
   },
   {
    "duration": 426,
    "start_time": "2022-03-31T12:49:27.003Z"
   },
   {
    "duration": 358,
    "start_time": "2022-03-31T12:50:01.498Z"
   },
   {
    "duration": 377,
    "start_time": "2022-03-31T12:50:06.392Z"
   },
   {
    "duration": 378,
    "start_time": "2022-03-31T12:50:13.442Z"
   },
   {
    "duration": 461,
    "start_time": "2022-03-31T12:50:17.276Z"
   },
   {
    "duration": 10,
    "start_time": "2022-03-31T12:50:58.214Z"
   },
   {
    "duration": 377,
    "start_time": "2022-03-31T12:51:22.516Z"
   },
   {
    "duration": 10,
    "start_time": "2022-03-31T12:52:30.453Z"
   },
   {
    "duration": 50,
    "start_time": "2022-03-31T12:54:08.778Z"
   },
   {
    "duration": 5,
    "start_time": "2022-03-31T13:06:48.682Z"
   },
   {
    "duration": 12,
    "start_time": "2022-03-31T13:07:35.255Z"
   },
   {
    "duration": 9,
    "start_time": "2022-03-31T13:08:10.040Z"
   },
   {
    "duration": 12,
    "start_time": "2022-03-31T13:11:14.253Z"
   },
   {
    "duration": 14,
    "start_time": "2022-03-31T13:12:37.834Z"
   },
   {
    "duration": 8,
    "start_time": "2022-03-31T13:14:06.952Z"
   },
   {
    "duration": 200,
    "start_time": "2022-03-31T13:16:01.492Z"
   },
   {
    "duration": 123,
    "start_time": "2022-03-31T13:16:09.408Z"
   },
   {
    "duration": 10,
    "start_time": "2022-03-31T13:16:14.223Z"
   },
   {
    "duration": 9,
    "start_time": "2022-03-31T13:16:23.182Z"
   },
   {
    "duration": 16,
    "start_time": "2022-03-31T13:17:35.900Z"
   },
   {
    "duration": 11,
    "start_time": "2022-03-31T13:19:33.813Z"
   },
   {
    "duration": 305,
    "start_time": "2022-03-31T13:22:54.989Z"
   },
   {
    "duration": 345,
    "start_time": "2022-03-31T13:23:42.796Z"
   },
   {
    "duration": 19,
    "start_time": "2022-03-31T13:25:36.501Z"
   },
   {
    "duration": 14,
    "start_time": "2022-03-31T13:26:05.141Z"
   },
   {
    "duration": 1473,
    "start_time": "2022-03-31T13:26:25.412Z"
   },
   {
    "duration": 3,
    "start_time": "2022-03-31T13:26:26.888Z"
   },
   {
    "duration": 62,
    "start_time": "2022-03-31T13:26:26.893Z"
   },
   {
    "duration": 15,
    "start_time": "2022-03-31T13:26:26.957Z"
   },
   {
    "duration": 11,
    "start_time": "2022-03-31T13:26:26.974Z"
   },
   {
    "duration": 38,
    "start_time": "2022-03-31T13:26:26.987Z"
   },
   {
    "duration": 4,
    "start_time": "2022-03-31T13:26:27.027Z"
   },
   {
    "duration": 20,
    "start_time": "2022-03-31T13:26:27.033Z"
   },
   {
    "duration": 18,
    "start_time": "2022-03-31T13:26:27.055Z"
   },
   {
    "duration": 146,
    "start_time": "2022-03-31T13:26:27.075Z"
   },
   {
    "duration": 13,
    "start_time": "2022-03-31T13:26:27.223Z"
   },
   {
    "duration": 4,
    "start_time": "2022-03-31T13:26:27.238Z"
   },
   {
    "duration": 22,
    "start_time": "2022-03-31T13:26:27.243Z"
   },
   {
    "duration": 5,
    "start_time": "2022-03-31T13:26:27.268Z"
   },
   {
    "duration": 37,
    "start_time": "2022-03-31T13:26:27.274Z"
   },
   {
    "duration": 4,
    "start_time": "2022-03-31T13:26:27.313Z"
   },
   {
    "duration": 15,
    "start_time": "2022-03-31T13:26:27.319Z"
   },
   {
    "duration": 31,
    "start_time": "2022-03-31T13:26:27.336Z"
   },
   {
    "duration": 264,
    "start_time": "2022-03-31T13:26:27.368Z"
   },
   {
    "duration": 8,
    "start_time": "2022-03-31T13:26:27.633Z"
   },
   {
    "duration": 9,
    "start_time": "2022-03-31T13:26:27.643Z"
   },
   {
    "duration": 11446,
    "start_time": "2022-03-31T13:26:27.654Z"
   },
   {
    "duration": 14,
    "start_time": "2022-03-31T13:26:39.102Z"
   },
   {
    "duration": 24,
    "start_time": "2022-03-31T13:26:39.118Z"
   },
   {
    "duration": 516,
    "start_time": "2022-03-31T13:26:39.145Z"
   },
   {
    "duration": 7,
    "start_time": "2022-03-31T13:26:39.663Z"
   },
   {
    "duration": 49,
    "start_time": "2022-03-31T13:26:39.672Z"
   },
   {
    "duration": 102,
    "start_time": "2022-03-31T13:26:39.723Z"
   },
   {
    "duration": 374,
    "start_time": "2022-03-31T13:26:39.827Z"
   },
   {
    "duration": 8,
    "start_time": "2022-03-31T13:26:40.208Z"
   },
   {
    "duration": 12,
    "start_time": "2022-03-31T13:26:40.217Z"
   },
   {
    "duration": 2,
    "start_time": "2022-03-31T13:26:40.231Z"
   },
   {
    "duration": 515,
    "start_time": "2022-03-31T13:26:40.235Z"
   },
   {
    "duration": 7,
    "start_time": "2022-03-31T13:26:40.752Z"
   },
   {
    "duration": 74,
    "start_time": "2022-03-31T13:26:40.761Z"
   },
   {
    "duration": 448,
    "start_time": "2022-03-31T13:26:40.837Z"
   },
   {
    "duration": 26,
    "start_time": "2022-03-31T13:26:41.287Z"
   },
   {
    "duration": 15,
    "start_time": "2022-03-31T13:26:41.315Z"
   },
   {
    "duration": 327,
    "start_time": "2022-03-31T13:26:41.332Z"
   },
   {
    "duration": 12,
    "start_time": "2022-03-31T13:26:41.660Z"
   },
   {
    "duration": 204,
    "start_time": "2022-03-31T13:26:41.677Z"
   },
   {
    "duration": 7,
    "start_time": "2022-03-31T13:26:41.883Z"
   },
   {
    "duration": 23,
    "start_time": "2022-03-31T13:26:41.892Z"
   },
   {
    "duration": 3,
    "start_time": "2022-03-31T13:26:41.916Z"
   },
   {
    "duration": 394,
    "start_time": "2022-03-31T13:26:41.921Z"
   },
   {
    "duration": 7,
    "start_time": "2022-03-31T13:26:42.317Z"
   },
   {
    "duration": 41,
    "start_time": "2022-03-31T13:26:42.325Z"
   },
   {
    "duration": 429,
    "start_time": "2022-03-31T13:26:42.368Z"
   },
   {
    "duration": 29,
    "start_time": "2022-03-31T13:26:42.798Z"
   },
   {
    "duration": 159,
    "start_time": "2022-03-31T13:30:28.332Z"
   },
   {
    "duration": 196,
    "start_time": "2022-03-31T13:38:59.781Z"
   },
   {
    "duration": 23,
    "start_time": "2022-03-31T13:54:18.060Z"
   },
   {
    "duration": 373,
    "start_time": "2022-03-31T13:58:09.968Z"
   },
   {
    "duration": 453,
    "start_time": "2022-03-31T14:09:53.088Z"
   },
   {
    "duration": 464252,
    "start_time": "2022-03-31T14:12:22.985Z"
   },
   {
    "duration": 833,
    "start_time": "2022-03-31T14:31:31.348Z"
   },
   {
    "duration": 1414,
    "start_time": "2022-03-31T14:32:16.066Z"
   },
   {
    "duration": 3,
    "start_time": "2022-03-31T14:32:17.482Z"
   },
   {
    "duration": 51,
    "start_time": "2022-03-31T14:32:17.486Z"
   },
   {
    "duration": 15,
    "start_time": "2022-03-31T14:32:17.539Z"
   },
   {
    "duration": 8,
    "start_time": "2022-03-31T14:32:17.556Z"
   },
   {
    "duration": 16,
    "start_time": "2022-03-31T14:32:17.565Z"
   },
   {
    "duration": 4,
    "start_time": "2022-03-31T14:32:17.609Z"
   },
   {
    "duration": 15,
    "start_time": "2022-03-31T14:32:17.614Z"
   },
   {
    "duration": 16,
    "start_time": "2022-03-31T14:32:17.630Z"
   },
   {
    "duration": 144,
    "start_time": "2022-03-31T14:32:17.648Z"
   },
   {
    "duration": 17,
    "start_time": "2022-03-31T14:32:17.793Z"
   },
   {
    "duration": 3,
    "start_time": "2022-03-31T14:32:17.812Z"
   },
   {
    "duration": 25,
    "start_time": "2022-03-31T14:32:17.816Z"
   },
   {
    "duration": 4,
    "start_time": "2022-03-31T14:32:17.844Z"
   },
   {
    "duration": 9,
    "start_time": "2022-03-31T14:32:17.850Z"
   },
   {
    "duration": 4,
    "start_time": "2022-03-31T14:32:17.860Z"
   },
   {
    "duration": 15,
    "start_time": "2022-03-31T14:32:17.865Z"
   },
   {
    "duration": 55,
    "start_time": "2022-03-31T14:32:17.882Z"
   },
   {
    "duration": 248,
    "start_time": "2022-03-31T14:32:17.939Z"
   },
   {
    "duration": 20,
    "start_time": "2022-03-31T14:32:18.189Z"
   },
   {
    "duration": 9,
    "start_time": "2022-03-31T14:32:18.211Z"
   },
   {
    "duration": 11257,
    "start_time": "2022-03-31T14:32:18.222Z"
   },
   {
    "duration": 5,
    "start_time": "2022-03-31T14:32:29.481Z"
   },
   {
    "duration": 28,
    "start_time": "2022-03-31T14:32:29.487Z"
   },
   {
    "duration": 599,
    "start_time": "2022-03-31T14:32:29.516Z"
   },
   {
    "duration": 6,
    "start_time": "2022-03-31T14:32:30.116Z"
   },
   {
    "duration": 11,
    "start_time": "2022-03-31T14:32:30.124Z"
   },
   {
    "duration": 104,
    "start_time": "2022-03-31T14:32:30.210Z"
   },
   {
    "duration": 317,
    "start_time": "2022-03-31T14:32:30.316Z"
   },
   {
    "duration": 8,
    "start_time": "2022-03-31T14:32:30.635Z"
   },
   {
    "duration": 12,
    "start_time": "2022-03-31T14:32:30.645Z"
   },
   {
    "duration": 9,
    "start_time": "2022-03-31T14:32:30.659Z"
   },
   {
    "duration": 862,
    "start_time": "2022-03-31T14:32:30.669Z"
   },
   {
    "duration": 7,
    "start_time": "2022-03-31T14:32:31.534Z"
   },
   {
    "duration": 67,
    "start_time": "2022-03-31T14:32:31.542Z"
   },
   {
    "duration": 477,
    "start_time": "2022-03-31T14:32:31.611Z"
   },
   {
    "duration": 23,
    "start_time": "2022-03-31T14:32:32.091Z"
   },
   {
    "duration": 15,
    "start_time": "2022-03-31T14:32:32.116Z"
   },
   {
    "duration": 255,
    "start_time": "2022-03-31T14:32:32.209Z"
   },
   {
    "duration": 11,
    "start_time": "2022-03-31T14:32:32.466Z"
   },
   {
    "duration": 184,
    "start_time": "2022-03-31T14:32:32.480Z"
   },
   {
    "duration": 6,
    "start_time": "2022-03-31T14:32:32.665Z"
   },
   {
    "duration": 8,
    "start_time": "2022-03-31T14:32:32.673Z"
   },
   {
    "duration": 3,
    "start_time": "2022-03-31T14:32:32.682Z"
   },
   {
    "duration": 351,
    "start_time": "2022-03-31T14:32:32.708Z"
   },
   {
    "duration": 6,
    "start_time": "2022-03-31T14:32:33.060Z"
   },
   {
    "duration": 53,
    "start_time": "2022-03-31T14:32:33.068Z"
   },
   {
    "duration": 361,
    "start_time": "2022-03-31T14:32:33.123Z"
   },
   {
    "duration": 29,
    "start_time": "2022-03-31T14:32:33.485Z"
   },
   {
    "duration": 309,
    "start_time": "2022-03-31T14:32:33.516Z"
   },
   {
    "duration": 348,
    "start_time": "2022-03-31T14:32:33.826Z"
   },
   {
    "duration": 134,
    "start_time": "2022-03-31T14:33:31.272Z"
   },
   {
    "duration": 1391,
    "start_time": "2022-03-31T14:33:46.695Z"
   },
   {
    "duration": 2,
    "start_time": "2022-03-31T14:33:48.088Z"
   },
   {
    "duration": 46,
    "start_time": "2022-03-31T14:33:48.092Z"
   },
   {
    "duration": 31,
    "start_time": "2022-03-31T14:33:48.140Z"
   },
   {
    "duration": 17,
    "start_time": "2022-03-31T14:33:48.174Z"
   },
   {
    "duration": 30,
    "start_time": "2022-03-31T14:33:48.193Z"
   },
   {
    "duration": 3,
    "start_time": "2022-03-31T14:33:48.224Z"
   },
   {
    "duration": 13,
    "start_time": "2022-03-31T14:33:48.229Z"
   },
   {
    "duration": 14,
    "start_time": "2022-03-31T14:33:48.243Z"
   },
   {
    "duration": 132,
    "start_time": "2022-03-31T14:33:48.258Z"
   },
   {
    "duration": 18,
    "start_time": "2022-03-31T14:33:48.392Z"
   },
   {
    "duration": 3,
    "start_time": "2022-03-31T14:33:48.412Z"
   },
   {
    "duration": 18,
    "start_time": "2022-03-31T14:33:48.417Z"
   },
   {
    "duration": 5,
    "start_time": "2022-03-31T14:33:48.438Z"
   },
   {
    "duration": 9,
    "start_time": "2022-03-31T14:33:48.444Z"
   },
   {
    "duration": 3,
    "start_time": "2022-03-31T14:33:48.455Z"
   },
   {
    "duration": 11,
    "start_time": "2022-03-31T14:33:48.460Z"
   },
   {
    "duration": 28,
    "start_time": "2022-03-31T14:33:48.509Z"
   },
   {
    "duration": 232,
    "start_time": "2022-03-31T14:33:48.539Z"
   },
   {
    "duration": 7,
    "start_time": "2022-03-31T14:33:48.773Z"
   },
   {
    "duration": 27,
    "start_time": "2022-03-31T14:33:48.782Z"
   },
   {
    "duration": 10497,
    "start_time": "2022-03-31T14:33:48.811Z"
   },
   {
    "duration": 6,
    "start_time": "2022-03-31T14:33:59.310Z"
   },
   {
    "duration": 17,
    "start_time": "2022-03-31T14:33:59.317Z"
   },
   {
    "duration": 515,
    "start_time": "2022-03-31T14:33:59.335Z"
   },
   {
    "duration": 6,
    "start_time": "2022-03-31T14:33:59.852Z"
   },
   {
    "duration": 51,
    "start_time": "2022-03-31T14:33:59.860Z"
   },
   {
    "duration": 102,
    "start_time": "2022-03-31T14:33:59.917Z"
   },
   {
    "duration": 317,
    "start_time": "2022-03-31T14:34:00.020Z"
   },
   {
    "duration": 7,
    "start_time": "2022-03-31T14:34:00.340Z"
   },
   {
    "duration": 15,
    "start_time": "2022-03-31T14:34:00.350Z"
   },
   {
    "duration": 13,
    "start_time": "2022-03-31T14:34:00.367Z"
   },
   {
    "duration": 858,
    "start_time": "2022-03-31T14:34:00.382Z"
   },
   {
    "duration": 7,
    "start_time": "2022-03-31T14:34:01.242Z"
   },
   {
    "duration": 59,
    "start_time": "2022-03-31T14:34:01.250Z"
   },
   {
    "duration": 563,
    "start_time": "2022-03-31T14:34:01.311Z"
   },
   {
    "duration": 8,
    "start_time": "2022-03-31T14:34:01.876Z"
   },
   {
    "duration": 34,
    "start_time": "2022-03-31T14:34:01.886Z"
   },
   {
    "duration": 342,
    "start_time": "2022-03-31T14:34:01.922Z"
   },
   {
    "duration": 11,
    "start_time": "2022-03-31T14:34:02.266Z"
   },
   {
    "duration": 190,
    "start_time": "2022-03-31T14:34:02.280Z"
   },
   {
    "duration": 7,
    "start_time": "2022-03-31T14:34:02.472Z"
   },
   {
    "duration": 28,
    "start_time": "2022-03-31T14:34:02.481Z"
   },
   {
    "duration": 3,
    "start_time": "2022-03-31T14:34:02.510Z"
   },
   {
    "duration": 365,
    "start_time": "2022-03-31T14:34:02.515Z"
   },
   {
    "duration": 8,
    "start_time": "2022-03-31T14:34:02.882Z"
   },
   {
    "duration": 40,
    "start_time": "2022-03-31T14:34:02.910Z"
   },
   {
    "duration": 385,
    "start_time": "2022-03-31T14:34:02.952Z"
   },
   {
    "duration": 9,
    "start_time": "2022-03-31T14:34:03.338Z"
   },
   {
    "duration": 306,
    "start_time": "2022-03-31T14:34:03.349Z"
   },
   {
    "duration": 37,
    "start_time": "2022-03-31T14:34:03.657Z"
   },
   {
    "duration": 13,
    "start_time": "2022-03-31T14:35:00.141Z"
   },
   {
    "duration": 220,
    "start_time": "2022-03-31T14:35:06.476Z"
   },
   {
    "duration": 1640,
    "start_time": "2022-03-31T14:35:17.526Z"
   },
   {
    "duration": 3,
    "start_time": "2022-03-31T14:35:19.168Z"
   },
   {
    "duration": 56,
    "start_time": "2022-03-31T14:35:19.172Z"
   },
   {
    "duration": 15,
    "start_time": "2022-03-31T14:35:19.229Z"
   },
   {
    "duration": 15,
    "start_time": "2022-03-31T14:35:19.247Z"
   },
   {
    "duration": 18,
    "start_time": "2022-03-31T14:35:19.264Z"
   },
   {
    "duration": 24,
    "start_time": "2022-03-31T14:35:19.285Z"
   },
   {
    "duration": 19,
    "start_time": "2022-03-31T14:35:19.311Z"
   },
   {
    "duration": 17,
    "start_time": "2022-03-31T14:35:19.332Z"
   },
   {
    "duration": 169,
    "start_time": "2022-03-31T14:35:19.351Z"
   },
   {
    "duration": 14,
    "start_time": "2022-03-31T14:35:19.522Z"
   },
   {
    "duration": 7,
    "start_time": "2022-03-31T14:35:19.537Z"
   },
   {
    "duration": 22,
    "start_time": "2022-03-31T14:35:19.545Z"
   },
   {
    "duration": 5,
    "start_time": "2022-03-31T14:35:19.570Z"
   },
   {
    "duration": 39,
    "start_time": "2022-03-31T14:35:19.577Z"
   },
   {
    "duration": 4,
    "start_time": "2022-03-31T14:35:19.617Z"
   },
   {
    "duration": 16,
    "start_time": "2022-03-31T14:35:19.623Z"
   },
   {
    "duration": 30,
    "start_time": "2022-03-31T14:35:19.640Z"
   },
   {
    "duration": 268,
    "start_time": "2022-03-31T14:35:19.672Z"
   },
   {
    "duration": 7,
    "start_time": "2022-03-31T14:35:19.942Z"
   },
   {
    "duration": 8,
    "start_time": "2022-03-31T14:35:19.951Z"
   },
   {
    "duration": 10757,
    "start_time": "2022-03-31T14:35:19.961Z"
   },
   {
    "duration": 5,
    "start_time": "2022-03-31T14:35:30.720Z"
   },
   {
    "duration": 19,
    "start_time": "2022-03-31T14:35:30.727Z"
   },
   {
    "duration": 406,
    "start_time": "2022-03-31T14:35:30.748Z"
   },
   {
    "duration": 8,
    "start_time": "2022-03-31T14:35:31.155Z"
   },
   {
    "duration": 48,
    "start_time": "2022-03-31T14:35:31.164Z"
   },
   {
    "duration": 104,
    "start_time": "2022-03-31T14:35:31.213Z"
   },
   {
    "duration": 317,
    "start_time": "2022-03-31T14:35:31.318Z"
   },
   {
    "duration": 6,
    "start_time": "2022-03-31T14:35:31.636Z"
   },
   {
    "duration": 13,
    "start_time": "2022-03-31T14:35:31.643Z"
   },
   {
    "duration": 4,
    "start_time": "2022-03-31T14:35:31.658Z"
   },
   {
    "duration": 937,
    "start_time": "2022-03-31T14:35:31.663Z"
   },
   {
    "duration": 7,
    "start_time": "2022-03-31T14:35:32.609Z"
   },
   {
    "duration": 45,
    "start_time": "2022-03-31T14:35:32.617Z"
   },
   {
    "duration": 630,
    "start_time": "2022-03-31T14:35:32.664Z"
   },
   {
    "duration": 18,
    "start_time": "2022-03-31T14:35:33.296Z"
   },
   {
    "duration": 12,
    "start_time": "2022-03-31T14:35:33.315Z"
   },
   {
    "duration": 259,
    "start_time": "2022-03-31T14:35:33.411Z"
   },
   {
    "duration": 10,
    "start_time": "2022-03-31T14:35:33.672Z"
   },
   {
    "duration": 189,
    "start_time": "2022-03-31T14:35:33.686Z"
   },
   {
    "duration": 6,
    "start_time": "2022-03-31T14:35:33.876Z"
   },
   {
    "duration": 25,
    "start_time": "2022-03-31T14:35:33.884Z"
   },
   {
    "duration": 3,
    "start_time": "2022-03-31T14:35:33.910Z"
   },
   {
    "duration": 354,
    "start_time": "2022-03-31T14:35:33.914Z"
   },
   {
    "duration": 7,
    "start_time": "2022-03-31T14:35:34.270Z"
   },
   {
    "duration": 55,
    "start_time": "2022-03-31T14:35:34.279Z"
   },
   {
    "duration": 359,
    "start_time": "2022-03-31T14:35:34.336Z"
   },
   {
    "duration": 14,
    "start_time": "2022-03-31T14:35:34.708Z"
   },
   {
    "duration": 330,
    "start_time": "2022-03-31T14:35:34.724Z"
   },
   {
    "duration": 38,
    "start_time": "2022-03-31T14:35:35.055Z"
   },
   {
    "duration": 1417,
    "start_time": "2022-03-31T14:37:35.748Z"
   },
   {
    "duration": 3,
    "start_time": "2022-03-31T14:37:37.167Z"
   },
   {
    "duration": 55,
    "start_time": "2022-03-31T14:37:37.171Z"
   },
   {
    "duration": 13,
    "start_time": "2022-03-31T14:37:37.228Z"
   },
   {
    "duration": 11,
    "start_time": "2022-03-31T14:37:37.243Z"
   },
   {
    "duration": 14,
    "start_time": "2022-03-31T14:37:37.255Z"
   },
   {
    "duration": 3,
    "start_time": "2022-03-31T14:37:37.270Z"
   },
   {
    "duration": 14,
    "start_time": "2022-03-31T14:37:37.274Z"
   },
   {
    "duration": 14,
    "start_time": "2022-03-31T14:37:37.309Z"
   },
   {
    "duration": 122,
    "start_time": "2022-03-31T14:37:37.326Z"
   },
   {
    "duration": 12,
    "start_time": "2022-03-31T14:37:37.450Z"
   },
   {
    "duration": 7,
    "start_time": "2022-03-31T14:37:37.463Z"
   },
   {
    "duration": 18,
    "start_time": "2022-03-31T14:37:37.471Z"
   },
   {
    "duration": 18,
    "start_time": "2022-03-31T14:37:37.491Z"
   },
   {
    "duration": 8,
    "start_time": "2022-03-31T14:37:37.510Z"
   },
   {
    "duration": 4,
    "start_time": "2022-03-31T14:37:37.519Z"
   },
   {
    "duration": 11,
    "start_time": "2022-03-31T14:37:37.524Z"
   },
   {
    "duration": 28,
    "start_time": "2022-03-31T14:37:37.537Z"
   },
   {
    "duration": 246,
    "start_time": "2022-03-31T14:37:37.567Z"
   },
   {
    "duration": 7,
    "start_time": "2022-03-31T14:37:37.815Z"
   },
   {
    "duration": 8,
    "start_time": "2022-03-31T14:37:37.823Z"
   },
   {
    "duration": 10509,
    "start_time": "2022-03-31T14:37:37.833Z"
   },
   {
    "duration": 6,
    "start_time": "2022-03-31T14:37:48.344Z"
   },
   {
    "duration": 17,
    "start_time": "2022-03-31T14:37:48.351Z"
   },
   {
    "duration": 482,
    "start_time": "2022-03-31T14:37:48.369Z"
   },
   {
    "duration": 8,
    "start_time": "2022-03-31T14:37:48.852Z"
   },
   {
    "duration": 53,
    "start_time": "2022-03-31T14:37:48.862Z"
   },
   {
    "duration": 100,
    "start_time": "2022-03-31T14:37:48.920Z"
   },
   {
    "duration": 369,
    "start_time": "2022-03-31T14:37:49.021Z"
   },
   {
    "duration": 6,
    "start_time": "2022-03-31T14:37:49.392Z"
   },
   {
    "duration": 8,
    "start_time": "2022-03-31T14:37:49.408Z"
   },
   {
    "duration": 1455330,
    "start_time": "2022-03-31T14:37:49.418Z"
   },
   {
    "duration": 971,
    "start_time": "2022-03-31T15:02:04.749Z"
   },
   {
    "duration": 7,
    "start_time": "2022-03-31T15:02:05.722Z"
   },
   {
    "duration": 46,
    "start_time": "2022-03-31T15:02:05.730Z"
   },
   {
    "duration": 513,
    "start_time": "2022-03-31T15:02:05.778Z"
   },
   {
    "duration": 20,
    "start_time": "2022-03-31T15:02:06.293Z"
   },
   {
    "duration": 12,
    "start_time": "2022-03-31T15:02:06.315Z"
   },
   {
    "duration": 412,
    "start_time": "2022-03-31T15:02:06.330Z"
   },
   {
    "duration": 12,
    "start_time": "2022-03-31T15:02:06.743Z"
   },
   {
    "duration": 195,
    "start_time": "2022-03-31T15:02:06.757Z"
   },
   {
    "duration": 7,
    "start_time": "2022-03-31T15:02:06.953Z"
   },
   {
    "duration": 9,
    "start_time": "2022-03-31T15:02:06.961Z"
   },
   {
    "duration": 190287,
    "start_time": "2022-03-31T15:02:06.971Z"
   },
   {
    "duration": 357,
    "start_time": "2022-03-31T15:05:17.259Z"
   },
   {
    "duration": 6,
    "start_time": "2022-03-31T15:05:17.617Z"
   },
   {
    "duration": 38,
    "start_time": "2022-03-31T15:05:17.625Z"
   },
   {
    "duration": 507,
    "start_time": "2022-03-31T15:05:17.664Z"
   },
   {
    "duration": 40,
    "start_time": "2022-03-31T15:05:18.173Z"
   },
   {
    "duration": 252,
    "start_time": "2022-03-31T15:05:18.216Z"
   },
   {
    "duration": 46,
    "start_time": "2022-03-31T15:05:18.469Z"
   },
   {
    "duration": 1734,
    "start_time": "2022-03-31T15:05:26.054Z"
   },
   {
    "duration": 1376,
    "start_time": "2022-03-31T15:07:02.357Z"
   },
   {
    "duration": 3,
    "start_time": "2022-03-31T15:07:03.735Z"
   },
   {
    "duration": 55,
    "start_time": "2022-03-31T15:07:03.740Z"
   },
   {
    "duration": 14,
    "start_time": "2022-03-31T15:07:03.798Z"
   },
   {
    "duration": 8,
    "start_time": "2022-03-31T15:07:03.813Z"
   },
   {
    "duration": 15,
    "start_time": "2022-03-31T15:07:03.823Z"
   },
   {
    "duration": 3,
    "start_time": "2022-03-31T15:07:03.840Z"
   },
   {
    "duration": 15,
    "start_time": "2022-03-31T15:07:03.844Z"
   },
   {
    "duration": 48,
    "start_time": "2022-03-31T15:07:03.861Z"
   },
   {
    "duration": 118,
    "start_time": "2022-03-31T15:07:03.912Z"
   },
   {
    "duration": 12,
    "start_time": "2022-03-31T15:07:04.032Z"
   },
   {
    "duration": 4,
    "start_time": "2022-03-31T15:07:04.046Z"
   },
   {
    "duration": 28,
    "start_time": "2022-03-31T15:07:04.052Z"
   },
   {
    "duration": 5,
    "start_time": "2022-03-31T15:07:04.082Z"
   },
   {
    "duration": 26,
    "start_time": "2022-03-31T15:07:04.089Z"
   },
   {
    "duration": 4,
    "start_time": "2022-03-31T15:07:04.117Z"
   },
   {
    "duration": 12,
    "start_time": "2022-03-31T15:07:04.122Z"
   },
   {
    "duration": 31,
    "start_time": "2022-03-31T15:07:04.136Z"
   },
   {
    "duration": 258,
    "start_time": "2022-03-31T15:07:04.168Z"
   },
   {
    "duration": 7,
    "start_time": "2022-03-31T15:07:04.428Z"
   },
   {
    "duration": 8,
    "start_time": "2022-03-31T15:07:04.437Z"
   },
   {
    "duration": 10949,
    "start_time": "2022-03-31T15:07:04.447Z"
   },
   {
    "duration": 12,
    "start_time": "2022-03-31T15:07:15.397Z"
   },
   {
    "duration": 16,
    "start_time": "2022-03-31T15:07:15.411Z"
   },
   {
    "duration": 536,
    "start_time": "2022-03-31T15:07:15.429Z"
   },
   {
    "duration": 6,
    "start_time": "2022-03-31T15:07:15.967Z"
   },
   {
    "duration": 36,
    "start_time": "2022-03-31T15:07:15.974Z"
   },
   {
    "duration": 103,
    "start_time": "2022-03-31T15:07:16.016Z"
   },
   {
    "duration": 340,
    "start_time": "2022-03-31T15:07:16.121Z"
   },
   {
    "duration": 7,
    "start_time": "2022-03-31T15:07:16.463Z"
   },
   {
    "duration": 8,
    "start_time": "2022-03-31T15:07:16.472Z"
   },
   {
    "duration": 2,
    "start_time": "2022-03-31T15:07:16.482Z"
   },
   {
    "duration": 1684,
    "start_time": "2022-03-31T15:07:16.485Z"
   },
   {
    "duration": 7,
    "start_time": "2022-03-31T15:07:18.171Z"
   },
   {
    "duration": 94,
    "start_time": "2022-03-31T15:07:18.179Z"
   },
   {
    "duration": 600,
    "start_time": "2022-03-31T15:07:18.275Z"
   },
   {
    "duration": 7,
    "start_time": "2022-03-31T15:07:18.877Z"
   },
   {
    "duration": 31,
    "start_time": "2022-03-31T15:07:18.886Z"
   },
   {
    "duration": 341,
    "start_time": "2022-03-31T15:07:18.919Z"
   },
   {
    "duration": 12,
    "start_time": "2022-03-31T15:07:19.261Z"
   },
   {
    "duration": 191,
    "start_time": "2022-03-31T15:07:19.274Z"
   },
   {
    "duration": 6,
    "start_time": "2022-03-31T15:07:19.467Z"
   },
   {
    "duration": 8,
    "start_time": "2022-03-31T15:07:19.475Z"
   },
   {
    "duration": 2,
    "start_time": "2022-03-31T15:07:19.485Z"
   },
   {
    "duration": 389,
    "start_time": "2022-03-31T15:07:19.509Z"
   },
   {
    "duration": 6,
    "start_time": "2022-03-31T15:07:19.908Z"
   },
   {
    "duration": 49,
    "start_time": "2022-03-31T15:07:19.916Z"
   },
   {
    "duration": 425,
    "start_time": "2022-03-31T15:07:19.967Z"
   },
   {
    "duration": 16,
    "start_time": "2022-03-31T15:07:20.409Z"
   },
   {
    "duration": 257,
    "start_time": "2022-03-31T15:07:20.510Z"
   },
   {
    "duration": 58,
    "start_time": "2022-03-31T15:07:20.769Z"
   },
   {
    "duration": 4,
    "start_time": "2022-03-31T16:31:21.818Z"
   },
   {
    "duration": 13,
    "start_time": "2022-03-31T16:31:23.240Z"
   },
   {
    "duration": 23,
    "start_time": "2022-03-31T16:31:25.625Z"
   },
   {
    "duration": 1403,
    "start_time": "2022-03-31T16:31:42.355Z"
   },
   {
    "duration": 2,
    "start_time": "2022-03-31T16:31:43.761Z"
   },
   {
    "duration": 56,
    "start_time": "2022-03-31T16:31:43.765Z"
   },
   {
    "duration": 15,
    "start_time": "2022-03-31T16:31:43.823Z"
   },
   {
    "duration": 10,
    "start_time": "2022-03-31T16:31:43.841Z"
   },
   {
    "duration": 16,
    "start_time": "2022-03-31T16:31:43.853Z"
   },
   {
    "duration": 38,
    "start_time": "2022-03-31T16:31:43.871Z"
   },
   {
    "duration": 14,
    "start_time": "2022-03-31T16:31:43.910Z"
   },
   {
    "duration": 16,
    "start_time": "2022-03-31T16:31:43.926Z"
   },
   {
    "duration": 178,
    "start_time": "2022-03-31T16:31:43.943Z"
   },
   {
    "duration": 14,
    "start_time": "2022-03-31T16:31:44.123Z"
   },
   {
    "duration": 4,
    "start_time": "2022-03-31T16:31:44.139Z"
   },
   {
    "duration": 26,
    "start_time": "2022-03-31T16:31:44.145Z"
   },
   {
    "duration": 35,
    "start_time": "2022-03-31T16:31:44.174Z"
   },
   {
    "duration": 11,
    "start_time": "2022-03-31T16:31:44.210Z"
   },
   {
    "duration": 4,
    "start_time": "2022-03-31T16:31:44.224Z"
   },
   {
    "duration": 17,
    "start_time": "2022-03-31T16:31:44.231Z"
   },
   {
    "duration": 66,
    "start_time": "2022-03-31T16:31:44.250Z"
   },
   {
    "duration": 266,
    "start_time": "2022-03-31T16:31:44.318Z"
   },
   {
    "duration": 9,
    "start_time": "2022-03-31T16:31:44.585Z"
   },
   {
    "duration": 11,
    "start_time": "2022-03-31T16:31:44.609Z"
   },
   {
    "duration": 11400,
    "start_time": "2022-03-31T16:31:44.622Z"
   },
   {
    "duration": 7,
    "start_time": "2022-03-31T16:31:56.023Z"
   },
   {
    "duration": 17,
    "start_time": "2022-03-31T16:31:56.032Z"
   },
   {
    "duration": 497,
    "start_time": "2022-03-31T16:31:56.051Z"
   },
   {
    "duration": 6,
    "start_time": "2022-03-31T16:31:56.550Z"
   },
   {
    "duration": 51,
    "start_time": "2022-03-31T16:31:56.558Z"
   },
   {
    "duration": 97,
    "start_time": "2022-03-31T16:31:56.612Z"
   },
   {
    "duration": 343,
    "start_time": "2022-03-31T16:31:56.711Z"
   },
   {
    "duration": 7,
    "start_time": "2022-03-31T16:31:57.055Z"
   },
   {
    "duration": 9,
    "start_time": "2022-03-31T16:31:57.064Z"
   },
   {
    "duration": 3,
    "start_time": "2022-03-31T16:31:57.075Z"
   },
   {
    "duration": 1622,
    "start_time": "2022-03-31T16:31:57.080Z"
   },
   {
    "duration": 12,
    "start_time": "2022-03-31T16:31:58.703Z"
   },
   {
    "duration": 99,
    "start_time": "2022-03-31T16:31:58.717Z"
   },
   {
    "duration": 471,
    "start_time": "2022-03-31T16:31:58.818Z"
   },
   {
    "duration": 20,
    "start_time": "2022-03-31T16:31:59.290Z"
   },
   {
    "duration": 11,
    "start_time": "2022-03-31T16:31:59.311Z"
   },
   {
    "duration": 341,
    "start_time": "2022-03-31T16:31:59.326Z"
   },
   {
    "duration": 10,
    "start_time": "2022-03-31T16:31:59.669Z"
   },
   {
    "duration": 188,
    "start_time": "2022-03-31T16:31:59.684Z"
   },
   {
    "duration": 7,
    "start_time": "2022-03-31T16:31:59.873Z"
   },
   {
    "duration": 27,
    "start_time": "2022-03-31T16:31:59.882Z"
   },
   {
    "duration": 3,
    "start_time": "2022-03-31T16:31:59.910Z"
   },
   {
    "duration": 408,
    "start_time": "2022-03-31T16:31:59.914Z"
   },
   {
    "duration": 9,
    "start_time": "2022-03-31T16:32:00.324Z"
   },
   {
    "duration": 51,
    "start_time": "2022-03-31T16:32:00.334Z"
   },
   {
    "duration": 404,
    "start_time": "2022-03-31T16:32:00.386Z"
   },
   {
    "duration": 12,
    "start_time": "2022-03-31T16:32:00.808Z"
   },
   {
    "duration": 338,
    "start_time": "2022-03-31T16:32:00.822Z"
   },
   {
    "duration": 55,
    "start_time": "2022-03-31T16:32:01.162Z"
   },
   {
    "duration": 36,
    "start_time": "2022-03-31T16:42:19.050Z"
   },
   {
    "duration": 1485,
    "start_time": "2022-03-31T16:49:32.781Z"
   },
   {
    "duration": 3,
    "start_time": "2022-03-31T16:49:34.269Z"
   },
   {
    "duration": 59,
    "start_time": "2022-03-31T16:49:34.274Z"
   },
   {
    "duration": 15,
    "start_time": "2022-03-31T16:49:34.336Z"
   },
   {
    "duration": 9,
    "start_time": "2022-03-31T16:49:34.354Z"
   },
   {
    "duration": 17,
    "start_time": "2022-03-31T16:49:34.365Z"
   },
   {
    "duration": 6,
    "start_time": "2022-03-31T16:49:34.409Z"
   },
   {
    "duration": 15,
    "start_time": "2022-03-31T16:49:34.422Z"
   },
   {
    "duration": 16,
    "start_time": "2022-03-31T16:49:34.439Z"
   },
   {
    "duration": 148,
    "start_time": "2022-03-31T16:49:34.458Z"
   },
   {
    "duration": 18,
    "start_time": "2022-03-31T16:49:34.608Z"
   },
   {
    "duration": 5,
    "start_time": "2022-03-31T16:49:34.628Z"
   },
   {
    "duration": 23,
    "start_time": "2022-03-31T16:49:34.635Z"
   },
   {
    "duration": 5,
    "start_time": "2022-03-31T16:49:34.661Z"
   },
   {
    "duration": 48,
    "start_time": "2022-03-31T16:49:34.668Z"
   },
   {
    "duration": 7,
    "start_time": "2022-03-31T16:49:34.719Z"
   },
   {
    "duration": 17,
    "start_time": "2022-03-31T16:49:34.728Z"
   },
   {
    "duration": 66,
    "start_time": "2022-03-31T16:49:34.747Z"
   },
   {
    "duration": 283,
    "start_time": "2022-03-31T16:49:34.815Z"
   },
   {
    "duration": 13,
    "start_time": "2022-03-31T16:49:35.108Z"
   },
   {
    "duration": 14,
    "start_time": "2022-03-31T16:49:35.123Z"
   },
   {
    "duration": 11767,
    "start_time": "2022-03-31T16:49:35.139Z"
   },
   {
    "duration": 12,
    "start_time": "2022-03-31T16:49:46.909Z"
   },
   {
    "duration": 21,
    "start_time": "2022-03-31T16:49:46.924Z"
   },
   {
    "duration": 795,
    "start_time": "2022-03-31T16:49:46.947Z"
   },
   {
    "duration": 7,
    "start_time": "2022-03-31T16:49:47.745Z"
   },
   {
    "duration": 80,
    "start_time": "2022-03-31T16:49:47.754Z"
   },
   {
    "duration": 16,
    "start_time": "2022-03-31T16:49:47.908Z"
   },
   {
    "duration": 378,
    "start_time": "2022-03-31T16:49:47.925Z"
   },
   {
    "duration": 9,
    "start_time": "2022-03-31T16:49:48.309Z"
   },
   {
    "duration": 14,
    "start_time": "2022-03-31T16:49:48.320Z"
   },
   {
    "duration": 69,
    "start_time": "2022-03-31T16:49:48.336Z"
   },
   {
    "duration": 0,
    "start_time": "2022-03-31T16:49:48.407Z"
   },
   {
    "duration": 0,
    "start_time": "2022-03-31T16:49:48.413Z"
   },
   {
    "duration": 0,
    "start_time": "2022-03-31T16:49:48.414Z"
   },
   {
    "duration": 1,
    "start_time": "2022-03-31T16:49:48.415Z"
   },
   {
    "duration": 0,
    "start_time": "2022-03-31T16:49:48.417Z"
   },
   {
    "duration": 0,
    "start_time": "2022-03-31T16:49:48.418Z"
   },
   {
    "duration": 0,
    "start_time": "2022-03-31T16:49:48.419Z"
   },
   {
    "duration": 0,
    "start_time": "2022-03-31T16:49:48.420Z"
   },
   {
    "duration": 0,
    "start_time": "2022-03-31T16:49:48.421Z"
   },
   {
    "duration": 0,
    "start_time": "2022-03-31T16:49:48.423Z"
   },
   {
    "duration": 0,
    "start_time": "2022-03-31T16:49:48.423Z"
   },
   {
    "duration": 0,
    "start_time": "2022-03-31T16:49:48.424Z"
   },
   {
    "duration": 0,
    "start_time": "2022-03-31T16:49:48.425Z"
   },
   {
    "duration": 0,
    "start_time": "2022-03-31T16:49:48.426Z"
   },
   {
    "duration": 0,
    "start_time": "2022-03-31T16:49:48.427Z"
   },
   {
    "duration": 0,
    "start_time": "2022-03-31T16:49:48.428Z"
   },
   {
    "duration": 0,
    "start_time": "2022-03-31T16:49:48.432Z"
   },
   {
    "duration": 0,
    "start_time": "2022-03-31T16:49:48.433Z"
   },
   {
    "duration": 0,
    "start_time": "2022-03-31T16:49:48.434Z"
   },
   {
    "duration": 1478,
    "start_time": "2022-03-31T16:50:30.456Z"
   },
   {
    "duration": 3,
    "start_time": "2022-03-31T16:50:31.936Z"
   },
   {
    "duration": 59,
    "start_time": "2022-03-31T16:50:31.940Z"
   },
   {
    "duration": 21,
    "start_time": "2022-03-31T16:50:32.002Z"
   },
   {
    "duration": 10,
    "start_time": "2022-03-31T16:50:32.025Z"
   },
   {
    "duration": 16,
    "start_time": "2022-03-31T16:50:32.036Z"
   },
   {
    "duration": 4,
    "start_time": "2022-03-31T16:50:32.055Z"
   },
   {
    "duration": 19,
    "start_time": "2022-03-31T16:50:32.061Z"
   },
   {
    "duration": 48,
    "start_time": "2022-03-31T16:50:32.082Z"
   },
   {
    "duration": 157,
    "start_time": "2022-03-31T16:50:32.133Z"
   },
   {
    "duration": 22,
    "start_time": "2022-03-31T16:50:32.292Z"
   },
   {
    "duration": 7,
    "start_time": "2022-03-31T16:50:32.317Z"
   },
   {
    "duration": 30,
    "start_time": "2022-03-31T16:50:32.325Z"
   },
   {
    "duration": 5,
    "start_time": "2022-03-31T16:50:32.357Z"
   },
   {
    "duration": 8,
    "start_time": "2022-03-31T16:50:32.364Z"
   },
   {
    "duration": 5,
    "start_time": "2022-03-31T16:50:32.374Z"
   },
   {
    "duration": 20,
    "start_time": "2022-03-31T16:50:32.409Z"
   },
   {
    "duration": 57,
    "start_time": "2022-03-31T16:50:32.431Z"
   },
   {
    "duration": 292,
    "start_time": "2022-03-31T16:50:32.490Z"
   },
   {
    "duration": 8,
    "start_time": "2022-03-31T16:50:32.784Z"
   },
   {
    "duration": 34,
    "start_time": "2022-03-31T16:50:32.794Z"
   },
   {
    "duration": 12048,
    "start_time": "2022-03-31T16:50:32.830Z"
   },
   {
    "duration": 6,
    "start_time": "2022-03-31T16:50:44.880Z"
   },
   {
    "duration": 39,
    "start_time": "2022-03-31T16:50:44.888Z"
   },
   {
    "duration": 572,
    "start_time": "2022-03-31T16:50:44.929Z"
   },
   {
    "duration": 13,
    "start_time": "2022-03-31T16:50:45.508Z"
   },
   {
    "duration": 92,
    "start_time": "2022-03-31T16:50:45.523Z"
   },
   {
    "duration": 97,
    "start_time": "2022-03-31T16:50:45.624Z"
   },
   {
    "duration": 351,
    "start_time": "2022-03-31T16:50:45.727Z"
   },
   {
    "duration": 9,
    "start_time": "2022-03-31T16:50:46.079Z"
   },
   {
    "duration": 36,
    "start_time": "2022-03-31T16:50:46.090Z"
   },
   {
    "duration": 2117814,
    "start_time": "2022-03-31T16:50:46.128Z"
   },
   {
    "duration": 0,
    "start_time": "2022-03-31T17:26:03.944Z"
   },
   {
    "duration": 0,
    "start_time": "2022-03-31T17:26:03.945Z"
   },
   {
    "duration": 0,
    "start_time": "2022-03-31T17:26:03.946Z"
   },
   {
    "duration": 0,
    "start_time": "2022-03-31T17:26:03.947Z"
   },
   {
    "duration": 0,
    "start_time": "2022-03-31T17:26:03.948Z"
   },
   {
    "duration": 0,
    "start_time": "2022-03-31T17:26:03.949Z"
   },
   {
    "duration": 0,
    "start_time": "2022-03-31T17:26:03.950Z"
   },
   {
    "duration": 0,
    "start_time": "2022-03-31T17:26:03.951Z"
   },
   {
    "duration": 0,
    "start_time": "2022-03-31T17:26:03.952Z"
   },
   {
    "duration": 0,
    "start_time": "2022-03-31T17:26:03.954Z"
   },
   {
    "duration": 0,
    "start_time": "2022-03-31T17:26:03.954Z"
   },
   {
    "duration": 0,
    "start_time": "2022-03-31T17:26:03.955Z"
   },
   {
    "duration": 0,
    "start_time": "2022-03-31T17:26:03.956Z"
   },
   {
    "duration": 0,
    "start_time": "2022-03-31T17:26:03.957Z"
   },
   {
    "duration": 0,
    "start_time": "2022-03-31T17:26:03.958Z"
   },
   {
    "duration": 0,
    "start_time": "2022-03-31T17:26:03.959Z"
   },
   {
    "duration": 0,
    "start_time": "2022-03-31T17:26:03.960Z"
   },
   {
    "duration": 0,
    "start_time": "2022-03-31T17:26:03.961Z"
   },
   {
    "duration": 0,
    "start_time": "2022-03-31T17:26:03.962Z"
   },
   {
    "duration": 1543,
    "start_time": "2022-03-31T17:27:39.488Z"
   },
   {
    "duration": 2,
    "start_time": "2022-03-31T17:27:41.033Z"
   },
   {
    "duration": 55,
    "start_time": "2022-03-31T17:27:41.036Z"
   },
   {
    "duration": 26,
    "start_time": "2022-03-31T17:27:41.093Z"
   },
   {
    "duration": 9,
    "start_time": "2022-03-31T17:27:41.121Z"
   },
   {
    "duration": 17,
    "start_time": "2022-03-31T17:27:41.131Z"
   },
   {
    "duration": 3,
    "start_time": "2022-03-31T17:27:41.150Z"
   },
   {
    "duration": 15,
    "start_time": "2022-03-31T17:27:41.155Z"
   },
   {
    "duration": 40,
    "start_time": "2022-03-31T17:27:41.172Z"
   },
   {
    "duration": 133,
    "start_time": "2022-03-31T17:27:41.215Z"
   },
   {
    "duration": 13,
    "start_time": "2022-03-31T17:27:41.350Z"
   },
   {
    "duration": 5,
    "start_time": "2022-03-31T17:27:41.364Z"
   },
   {
    "duration": 20,
    "start_time": "2022-03-31T17:27:41.370Z"
   },
   {
    "duration": 4,
    "start_time": "2022-03-31T17:27:41.391Z"
   },
   {
    "duration": 15,
    "start_time": "2022-03-31T17:27:41.409Z"
   },
   {
    "duration": 4,
    "start_time": "2022-03-31T17:27:41.425Z"
   },
   {
    "duration": 13,
    "start_time": "2022-03-31T17:27:41.431Z"
   },
   {
    "duration": 34,
    "start_time": "2022-03-31T17:27:41.446Z"
   },
   {
    "duration": 286,
    "start_time": "2022-03-31T17:27:41.482Z"
   },
   {
    "duration": 8,
    "start_time": "2022-03-31T17:27:41.770Z"
   },
   {
    "duration": 32,
    "start_time": "2022-03-31T17:27:41.780Z"
   },
   {
    "duration": 12192,
    "start_time": "2022-03-31T17:27:41.814Z"
   },
   {
    "duration": 16,
    "start_time": "2022-03-31T17:27:54.008Z"
   },
   {
    "duration": 17,
    "start_time": "2022-03-31T17:27:54.026Z"
   },
   {
    "duration": 517,
    "start_time": "2022-03-31T17:27:54.045Z"
   },
   {
    "duration": 6,
    "start_time": "2022-03-31T17:27:54.563Z"
   },
   {
    "duration": 49,
    "start_time": "2022-03-31T17:27:54.571Z"
   },
   {
    "duration": 92,
    "start_time": "2022-03-31T17:27:54.624Z"
   },
   {
    "duration": 359,
    "start_time": "2022-03-31T17:27:54.720Z"
   },
   {
    "duration": 8,
    "start_time": "2022-03-31T17:27:55.081Z"
   },
   {
    "duration": 23,
    "start_time": "2022-03-31T17:27:55.091Z"
   },
   {
    "duration": 19622,
    "start_time": "2022-03-31T17:27:55.115Z"
   },
   {
    "duration": 0,
    "start_time": "2022-03-31T17:28:14.739Z"
   },
   {
    "duration": 0,
    "start_time": "2022-03-31T17:28:14.740Z"
   },
   {
    "duration": 0,
    "start_time": "2022-03-31T17:28:14.741Z"
   },
   {
    "duration": 0,
    "start_time": "2022-03-31T17:28:14.742Z"
   },
   {
    "duration": 0,
    "start_time": "2022-03-31T17:28:14.743Z"
   },
   {
    "duration": 0,
    "start_time": "2022-03-31T17:28:14.743Z"
   },
   {
    "duration": 0,
    "start_time": "2022-03-31T17:28:14.745Z"
   },
   {
    "duration": 0,
    "start_time": "2022-03-31T17:28:14.746Z"
   },
   {
    "duration": 0,
    "start_time": "2022-03-31T17:28:14.747Z"
   },
   {
    "duration": 0,
    "start_time": "2022-03-31T17:28:14.748Z"
   },
   {
    "duration": 0,
    "start_time": "2022-03-31T17:28:14.749Z"
   },
   {
    "duration": 0,
    "start_time": "2022-03-31T17:28:14.750Z"
   },
   {
    "duration": 0,
    "start_time": "2022-03-31T17:28:14.751Z"
   },
   {
    "duration": 0,
    "start_time": "2022-03-31T17:28:14.752Z"
   },
   {
    "duration": 0,
    "start_time": "2022-03-31T17:28:14.753Z"
   },
   {
    "duration": 0,
    "start_time": "2022-03-31T17:28:14.755Z"
   },
   {
    "duration": 1,
    "start_time": "2022-03-31T17:28:14.755Z"
   },
   {
    "duration": 0,
    "start_time": "2022-03-31T17:28:14.757Z"
   },
   {
    "duration": 0,
    "start_time": "2022-03-31T17:28:14.758Z"
   },
   {
    "duration": 1519,
    "start_time": "2022-03-31T17:29:07.984Z"
   },
   {
    "duration": 4,
    "start_time": "2022-03-31T17:29:09.505Z"
   },
   {
    "duration": 57,
    "start_time": "2022-03-31T17:29:09.516Z"
   },
   {
    "duration": 15,
    "start_time": "2022-03-31T17:29:09.575Z"
   },
   {
    "duration": 27,
    "start_time": "2022-03-31T17:29:09.592Z"
   },
   {
    "duration": 17,
    "start_time": "2022-03-31T17:29:09.622Z"
   },
   {
    "duration": 3,
    "start_time": "2022-03-31T17:29:09.641Z"
   },
   {
    "duration": 15,
    "start_time": "2022-03-31T17:29:09.645Z"
   },
   {
    "duration": 16,
    "start_time": "2022-03-31T17:29:09.661Z"
   },
   {
    "duration": 154,
    "start_time": "2022-03-31T17:29:09.680Z"
   },
   {
    "duration": 13,
    "start_time": "2022-03-31T17:29:09.836Z"
   },
   {
    "duration": 4,
    "start_time": "2022-03-31T17:29:09.851Z"
   },
   {
    "duration": 20,
    "start_time": "2022-03-31T17:29:09.857Z"
   },
   {
    "duration": 4,
    "start_time": "2022-03-31T17:29:09.879Z"
   },
   {
    "duration": 10,
    "start_time": "2022-03-31T17:29:09.915Z"
   },
   {
    "duration": 5,
    "start_time": "2022-03-31T17:29:09.927Z"
   },
   {
    "duration": 14,
    "start_time": "2022-03-31T17:29:09.934Z"
   },
   {
    "duration": 37,
    "start_time": "2022-03-31T17:29:09.950Z"
   },
   {
    "duration": 283,
    "start_time": "2022-03-31T17:29:09.988Z"
   },
   {
    "duration": 8,
    "start_time": "2022-03-31T17:29:10.273Z"
   },
   {
    "duration": 29,
    "start_time": "2022-03-31T17:29:10.283Z"
   },
   {
    "duration": 11764,
    "start_time": "2022-03-31T17:29:10.314Z"
   },
   {
    "duration": 7,
    "start_time": "2022-03-31T17:29:22.080Z"
   },
   {
    "duration": 34,
    "start_time": "2022-03-31T17:29:22.089Z"
   },
   {
    "duration": 628,
    "start_time": "2022-03-31T17:29:22.125Z"
   },
   {
    "duration": 7,
    "start_time": "2022-03-31T17:29:22.755Z"
   },
   {
    "duration": 51,
    "start_time": "2022-03-31T17:29:22.763Z"
   },
   {
    "duration": 95,
    "start_time": "2022-03-31T17:29:22.822Z"
   },
   {
    "duration": 360,
    "start_time": "2022-03-31T17:29:22.918Z"
   },
   {
    "duration": 7,
    "start_time": "2022-03-31T17:29:23.280Z"
   },
   {
    "duration": 30,
    "start_time": "2022-03-31T17:29:23.289Z"
   },
   {
    "duration": 1542629,
    "start_time": "2022-03-31T17:29:23.321Z"
   },
   {
    "duration": 1760,
    "start_time": "2022-03-31T17:55:05.953Z"
   },
   {
    "duration": 9,
    "start_time": "2022-03-31T17:55:07.715Z"
   },
   {
    "duration": 101,
    "start_time": "2022-03-31T17:55:07.726Z"
   },
   {
    "duration": 583,
    "start_time": "2022-03-31T17:55:07.829Z"
   },
   {
    "duration": 8,
    "start_time": "2022-03-31T17:55:08.414Z"
   },
   {
    "duration": 15,
    "start_time": "2022-03-31T17:55:08.424Z"
   },
   {
    "duration": 349,
    "start_time": "2022-03-31T17:55:08.510Z"
   },
   {
    "duration": 13,
    "start_time": "2022-03-31T17:55:08.861Z"
   },
   {
    "duration": 223,
    "start_time": "2022-03-31T17:55:08.876Z"
   },
   {
    "duration": 14,
    "start_time": "2022-03-31T17:55:09.100Z"
   },
   {
    "duration": 16,
    "start_time": "2022-03-31T17:55:09.116Z"
   },
   {
    "duration": 507998,
    "start_time": "2022-03-31T17:55:09.137Z"
   },
   {
    "duration": 405,
    "start_time": "2022-03-31T18:03:37.137Z"
   },
   {
    "duration": 7,
    "start_time": "2022-03-31T18:03:37.543Z"
   },
   {
    "duration": 64,
    "start_time": "2022-03-31T18:03:37.552Z"
   },
   {
    "duration": 375,
    "start_time": "2022-03-31T18:03:37.618Z"
   },
   {
    "duration": 114,
    "start_time": "2022-03-31T18:03:37.995Z"
   },
   {
    "duration": 333,
    "start_time": "2022-03-31T18:03:38.112Z"
   },
   {
    "duration": 91,
    "start_time": "2022-03-31T18:03:38.446Z"
   },
   {
    "duration": 849,
    "start_time": "2022-03-31T18:23:41.496Z"
   },
   {
    "duration": 1402,
    "start_time": "2022-03-31T18:24:26.860Z"
   },
   {
    "duration": 3,
    "start_time": "2022-03-31T18:24:28.264Z"
   },
   {
    "duration": 340,
    "start_time": "2022-03-31T18:24:28.268Z"
   },
   {
    "duration": 366,
    "start_time": "2022-03-31T18:24:28.610Z"
   },
   {
    "duration": 268,
    "start_time": "2022-03-31T18:24:28.978Z"
   },
   {
    "duration": 16,
    "start_time": "2022-03-31T18:24:29.248Z"
   },
   {
    "duration": 4,
    "start_time": "2022-03-31T18:24:29.266Z"
   },
   {
    "duration": 19,
    "start_time": "2022-03-31T18:24:29.271Z"
   },
   {
    "duration": 16,
    "start_time": "2022-03-31T18:24:29.292Z"
   },
   {
    "duration": 121,
    "start_time": "2022-03-31T18:24:29.309Z"
   },
   {
    "duration": 14,
    "start_time": "2022-03-31T18:24:29.432Z"
   },
   {
    "duration": 5,
    "start_time": "2022-03-31T18:24:29.448Z"
   },
   {
    "duration": 22,
    "start_time": "2022-03-31T18:24:29.454Z"
   },
   {
    "duration": 29,
    "start_time": "2022-03-31T18:24:29.480Z"
   },
   {
    "duration": 9,
    "start_time": "2022-03-31T18:24:29.511Z"
   },
   {
    "duration": 5,
    "start_time": "2022-03-31T18:24:29.521Z"
   },
   {
    "duration": 12,
    "start_time": "2022-03-31T18:24:29.528Z"
   },
   {
    "duration": 36,
    "start_time": "2022-03-31T18:24:29.541Z"
   },
   {
    "duration": 292,
    "start_time": "2022-03-31T18:24:29.579Z"
   },
   {
    "duration": 8,
    "start_time": "2022-03-31T18:24:29.872Z"
   },
   {
    "duration": 9,
    "start_time": "2022-03-31T18:24:29.882Z"
   },
   {
    "duration": 11089,
    "start_time": "2022-03-31T18:24:29.909Z"
   },
   {
    "duration": 12,
    "start_time": "2022-03-31T18:24:41.000Z"
   },
   {
    "duration": 18,
    "start_time": "2022-03-31T18:24:41.014Z"
   },
   {
    "duration": 632,
    "start_time": "2022-03-31T18:24:41.033Z"
   },
   {
    "duration": 6,
    "start_time": "2022-03-31T18:24:41.667Z"
   },
   {
    "duration": 34,
    "start_time": "2022-03-31T18:24:41.675Z"
   },
   {
    "duration": 100,
    "start_time": "2022-03-31T18:24:41.712Z"
   },
   {
    "duration": 362,
    "start_time": "2022-03-31T18:24:41.814Z"
   },
   {
    "duration": 8,
    "start_time": "2022-03-31T18:24:42.178Z"
   },
   {
    "duration": 27,
    "start_time": "2022-03-31T18:24:42.187Z"
   },
   {
    "duration": 3,
    "start_time": "2022-03-31T18:24:42.216Z"
   },
   {
    "duration": 763,
    "start_time": "2022-03-31T18:24:42.221Z"
   },
   {
    "duration": 6,
    "start_time": "2022-03-31T18:24:42.986Z"
   },
   {
    "duration": 49,
    "start_time": "2022-03-31T18:24:42.993Z"
   },
   {
    "duration": 550,
    "start_time": "2022-03-31T18:24:43.043Z"
   },
   {
    "duration": 19,
    "start_time": "2022-03-31T18:24:43.595Z"
   },
   {
    "duration": 13,
    "start_time": "2022-03-31T18:24:43.616Z"
   },
   {
    "duration": 256,
    "start_time": "2022-03-31T18:24:43.711Z"
   },
   {
    "duration": 11,
    "start_time": "2022-03-31T18:24:43.969Z"
   },
   {
    "duration": 195,
    "start_time": "2022-03-31T18:24:43.984Z"
   },
   {
    "duration": 8,
    "start_time": "2022-03-31T18:24:44.180Z"
   },
   {
    "duration": 26,
    "start_time": "2022-03-31T18:24:44.189Z"
   },
   {
    "duration": 2,
    "start_time": "2022-03-31T18:24:44.217Z"
   },
   {
    "duration": 213,
    "start_time": "2022-03-31T18:24:44.220Z"
   },
   {
    "duration": 7,
    "start_time": "2022-03-31T18:24:44.435Z"
   },
   {
    "duration": 20,
    "start_time": "2022-03-31T18:24:44.443Z"
   },
   {
    "duration": 431,
    "start_time": "2022-03-31T18:24:44.465Z"
   },
   {
    "duration": 12,
    "start_time": "2022-03-31T18:24:44.909Z"
   },
   {
    "duration": 347,
    "start_time": "2022-03-31T18:24:44.924Z"
   },
   {
    "duration": 56,
    "start_time": "2022-03-31T18:24:45.273Z"
   },
   {
    "duration": 950,
    "start_time": "2022-03-31T18:25:38.597Z"
   },
   {
    "duration": 5,
    "start_time": "2022-03-31T18:25:45.489Z"
   },
   {
    "duration": 6,
    "start_time": "2022-03-31T18:25:45.497Z"
   },
   {
    "duration": 44,
    "start_time": "2022-03-31T18:25:45.505Z"
   },
   {
    "duration": 15,
    "start_time": "2022-03-31T18:25:45.551Z"
   },
   {
    "duration": 11,
    "start_time": "2022-03-31T18:25:45.568Z"
   },
   {
    "duration": 41,
    "start_time": "2022-03-31T18:25:45.581Z"
   },
   {
    "duration": 3,
    "start_time": "2022-03-31T18:25:45.624Z"
   },
   {
    "duration": 15,
    "start_time": "2022-03-31T18:25:45.629Z"
   },
   {
    "duration": 16,
    "start_time": "2022-03-31T18:25:45.646Z"
   },
   {
    "duration": 144,
    "start_time": "2022-03-31T18:25:45.665Z"
   },
   {
    "duration": 14,
    "start_time": "2022-03-31T18:25:45.810Z"
   },
   {
    "duration": 7,
    "start_time": "2022-03-31T18:25:45.826Z"
   },
   {
    "duration": 28,
    "start_time": "2022-03-31T18:25:45.835Z"
   },
   {
    "duration": 5,
    "start_time": "2022-03-31T18:25:45.865Z"
   },
   {
    "duration": 10,
    "start_time": "2022-03-31T18:25:45.872Z"
   },
   {
    "duration": 24,
    "start_time": "2022-03-31T18:25:45.885Z"
   },
   {
    "duration": 17,
    "start_time": "2022-03-31T18:25:45.911Z"
   },
   {
    "duration": 51,
    "start_time": "2022-03-31T18:25:45.930Z"
   },
   {
    "duration": 280,
    "start_time": "2022-03-31T18:25:45.982Z"
   },
   {
    "duration": 8,
    "start_time": "2022-03-31T18:25:46.263Z"
   },
   {
    "duration": 56,
    "start_time": "2022-03-31T18:25:46.273Z"
   },
   {
    "duration": 11528,
    "start_time": "2022-03-31T18:25:46.331Z"
   },
   {
    "duration": 7,
    "start_time": "2022-03-31T18:25:57.861Z"
   },
   {
    "duration": 18,
    "start_time": "2022-03-31T18:25:57.870Z"
   },
   {
    "duration": 371,
    "start_time": "2022-03-31T18:25:57.909Z"
   },
   {
    "duration": 8,
    "start_time": "2022-03-31T18:25:58.282Z"
   },
   {
    "duration": 28,
    "start_time": "2022-03-31T18:25:58.292Z"
   },
   {
    "duration": 95,
    "start_time": "2022-03-31T18:25:58.325Z"
   },
   {
    "duration": 421,
    "start_time": "2022-03-31T18:25:58.423Z"
   },
   {
    "duration": 7,
    "start_time": "2022-03-31T18:25:58.845Z"
   },
   {
    "duration": 11,
    "start_time": "2022-03-31T18:25:58.854Z"
   },
   {
    "duration": 20,
    "start_time": "2022-03-31T18:25:58.867Z"
   },
   {
    "duration": 748,
    "start_time": "2022-03-31T18:25:58.889Z"
   },
   {
    "duration": 6,
    "start_time": "2022-03-31T18:25:59.639Z"
   },
   {
    "duration": 38,
    "start_time": "2022-03-31T18:25:59.647Z"
   },
   {
    "duration": 484,
    "start_time": "2022-03-31T18:25:59.708Z"
   },
   {
    "duration": 8,
    "start_time": "2022-03-31T18:26:00.209Z"
   },
   {
    "duration": 12,
    "start_time": "2022-03-31T18:26:00.219Z"
   },
   {
    "duration": 350,
    "start_time": "2022-03-31T18:26:00.234Z"
   },
   {
    "duration": 12,
    "start_time": "2022-03-31T18:26:00.586Z"
   },
   {
    "duration": 201,
    "start_time": "2022-03-31T18:26:00.609Z"
   },
   {
    "duration": 7,
    "start_time": "2022-03-31T18:26:00.811Z"
   },
   {
    "duration": 14,
    "start_time": "2022-03-31T18:26:00.820Z"
   },
   {
    "duration": 2,
    "start_time": "2022-03-31T18:26:00.836Z"
   },
   {
    "duration": 227,
    "start_time": "2022-03-31T18:26:00.840Z"
   },
   {
    "duration": 7,
    "start_time": "2022-03-31T18:26:01.069Z"
   },
   {
    "duration": 42,
    "start_time": "2022-03-31T18:26:01.077Z"
   },
   {
    "duration": 489,
    "start_time": "2022-03-31T18:26:01.121Z"
   },
   {
    "duration": 14,
    "start_time": "2022-03-31T18:26:01.611Z"
   },
   {
    "duration": 265,
    "start_time": "2022-03-31T18:26:01.709Z"
   },
   {
    "duration": 46,
    "start_time": "2022-03-31T18:26:01.976Z"
   },
   {
    "duration": 13,
    "start_time": "2022-03-31T18:26:19.264Z"
   },
   {
    "duration": 767,
    "start_time": "2022-03-31T18:26:26.637Z"
   },
   {
    "duration": 741,
    "start_time": "2022-03-31T18:26:50.973Z"
   },
   {
    "duration": 12,
    "start_time": "2022-03-31T18:26:59.978Z"
   },
   {
    "duration": 173,
    "start_time": "2022-03-31T18:27:01.081Z"
   },
   {
    "duration": 5,
    "start_time": "2022-03-31T18:27:43.680Z"
   },
   {
    "duration": 4,
    "start_time": "2022-03-31T18:27:43.688Z"
   },
   {
    "duration": 53,
    "start_time": "2022-03-31T18:27:43.694Z"
   },
   {
    "duration": 15,
    "start_time": "2022-03-31T18:27:43.750Z"
   },
   {
    "duration": 47,
    "start_time": "2022-03-31T18:27:43.767Z"
   },
   {
    "duration": 23,
    "start_time": "2022-03-31T18:27:43.816Z"
   },
   {
    "duration": 4,
    "start_time": "2022-03-31T18:27:43.841Z"
   },
   {
    "duration": 20,
    "start_time": "2022-03-31T18:27:43.847Z"
   },
   {
    "duration": 49,
    "start_time": "2022-03-31T18:27:43.870Z"
   },
   {
    "duration": 139,
    "start_time": "2022-03-31T18:27:43.923Z"
   },
   {
    "duration": 15,
    "start_time": "2022-03-31T18:27:44.064Z"
   },
   {
    "duration": 7,
    "start_time": "2022-03-31T18:27:44.081Z"
   },
   {
    "duration": 35,
    "start_time": "2022-03-31T18:27:44.090Z"
   },
   {
    "duration": 7,
    "start_time": "2022-03-31T18:27:44.127Z"
   },
   {
    "duration": 10,
    "start_time": "2022-03-31T18:27:44.136Z"
   },
   {
    "duration": 5,
    "start_time": "2022-03-31T18:27:44.148Z"
   },
   {
    "duration": 54,
    "start_time": "2022-03-31T18:27:44.155Z"
   },
   {
    "duration": 45,
    "start_time": "2022-03-31T18:27:44.212Z"
   },
   {
    "duration": 283,
    "start_time": "2022-03-31T18:27:44.259Z"
   },
   {
    "duration": 9,
    "start_time": "2022-03-31T18:27:44.544Z"
   },
   {
    "duration": 11,
    "start_time": "2022-03-31T18:27:44.555Z"
   },
   {
    "duration": 12467,
    "start_time": "2022-03-31T18:27:44.567Z"
   },
   {
    "duration": 10,
    "start_time": "2022-03-31T18:27:57.037Z"
   },
   {
    "duration": 23,
    "start_time": "2022-03-31T18:27:57.050Z"
   },
   {
    "duration": 540,
    "start_time": "2022-03-31T18:27:57.075Z"
   },
   {
    "duration": 8,
    "start_time": "2022-03-31T18:27:57.617Z"
   },
   {
    "duration": 88,
    "start_time": "2022-03-31T18:27:57.627Z"
   },
   {
    "duration": 102,
    "start_time": "2022-03-31T18:27:57.723Z"
   },
   {
    "duration": 385,
    "start_time": "2022-03-31T18:27:57.828Z"
   },
   {
    "duration": 10,
    "start_time": "2022-03-31T18:27:58.214Z"
   },
   {
    "duration": 10,
    "start_time": "2022-03-31T18:27:58.226Z"
   },
   {
    "duration": 2,
    "start_time": "2022-03-31T18:27:58.238Z"
   },
   {
    "duration": 879,
    "start_time": "2022-03-31T18:27:58.242Z"
   },
   {
    "duration": 7,
    "start_time": "2022-03-31T18:27:59.123Z"
   },
   {
    "duration": 50,
    "start_time": "2022-03-31T18:27:59.132Z"
   },
   {
    "duration": 886,
    "start_time": "2022-03-31T18:27:59.184Z"
   },
   {
    "duration": 9,
    "start_time": "2022-03-31T18:28:00.072Z"
   },
   {
    "duration": 38,
    "start_time": "2022-03-31T18:28:00.083Z"
   },
   {
    "duration": 415,
    "start_time": "2022-03-31T18:28:00.124Z"
   },
   {
    "duration": 12,
    "start_time": "2022-03-31T18:28:00.542Z"
   },
   {
    "duration": 265,
    "start_time": "2022-03-31T18:28:00.557Z"
   },
   {
    "duration": 9,
    "start_time": "2022-03-31T18:28:00.824Z"
   },
   {
    "duration": 12,
    "start_time": "2022-03-31T18:28:00.836Z"
   },
   {
    "duration": 3,
    "start_time": "2022-03-31T18:28:00.850Z"
   },
   {
    "duration": 283,
    "start_time": "2022-03-31T18:28:00.855Z"
   },
   {
    "duration": 10,
    "start_time": "2022-03-31T18:28:01.140Z"
   },
   {
    "duration": 66,
    "start_time": "2022-03-31T18:28:01.151Z"
   },
   {
    "duration": 517,
    "start_time": "2022-03-31T18:28:01.220Z"
   },
   {
    "duration": 77,
    "start_time": "2022-03-31T18:28:01.741Z"
   },
   {
    "duration": 606,
    "start_time": "2022-03-31T18:28:01.821Z"
   },
   {
    "duration": 98,
    "start_time": "2022-03-31T18:28:02.429Z"
   },
   {
    "duration": 1451,
    "start_time": "2022-03-31T18:30:50.847Z"
   },
   {
    "duration": 4,
    "start_time": "2022-03-31T18:30:52.300Z"
   },
   {
    "duration": 53,
    "start_time": "2022-03-31T18:30:52.308Z"
   },
   {
    "duration": 15,
    "start_time": "2022-03-31T18:30:52.364Z"
   },
   {
    "duration": 36,
    "start_time": "2022-03-31T18:30:52.381Z"
   },
   {
    "duration": 25,
    "start_time": "2022-03-31T18:30:52.420Z"
   },
   {
    "duration": 3,
    "start_time": "2022-03-31T18:30:52.448Z"
   },
   {
    "duration": 19,
    "start_time": "2022-03-31T18:30:52.453Z"
   },
   {
    "duration": 47,
    "start_time": "2022-03-31T18:30:52.474Z"
   },
   {
    "duration": 137,
    "start_time": "2022-03-31T18:30:52.524Z"
   },
   {
    "duration": 14,
    "start_time": "2022-03-31T18:30:52.662Z"
   },
   {
    "duration": 5,
    "start_time": "2022-03-31T18:30:52.678Z"
   },
   {
    "duration": 37,
    "start_time": "2022-03-31T18:30:52.684Z"
   },
   {
    "duration": 5,
    "start_time": "2022-03-31T18:30:52.723Z"
   },
   {
    "duration": 9,
    "start_time": "2022-03-31T18:30:52.729Z"
   },
   {
    "duration": 4,
    "start_time": "2022-03-31T18:30:52.740Z"
   },
   {
    "duration": 12,
    "start_time": "2022-03-31T18:30:52.746Z"
   },
   {
    "duration": 71,
    "start_time": "2022-03-31T18:30:52.760Z"
   },
   {
    "duration": 272,
    "start_time": "2022-03-31T18:30:52.833Z"
   },
   {
    "duration": 7,
    "start_time": "2022-03-31T18:30:53.109Z"
   },
   {
    "duration": 9,
    "start_time": "2022-03-31T18:30:53.118Z"
   },
   {
    "duration": 11422,
    "start_time": "2022-03-31T18:30:53.128Z"
   },
   {
    "duration": 7,
    "start_time": "2022-03-31T18:31:04.551Z"
   },
   {
    "duration": 20,
    "start_time": "2022-03-31T18:31:04.559Z"
   },
   {
    "duration": 554,
    "start_time": "2022-03-31T18:31:04.581Z"
   },
   {
    "duration": 7,
    "start_time": "2022-03-31T18:31:05.137Z"
   },
   {
    "duration": 164,
    "start_time": "2022-03-31T18:31:05.145Z"
   },
   {
    "duration": 12,
    "start_time": "2022-03-31T18:31:05.313Z"
   },
   {
    "duration": 368,
    "start_time": "2022-03-31T18:31:05.327Z"
   },
   {
    "duration": 19,
    "start_time": "2022-03-31T18:31:05.696Z"
   },
   {
    "duration": 10,
    "start_time": "2022-03-31T18:31:05.718Z"
   },
   {
    "duration": 460693,
    "start_time": "2022-03-31T18:31:05.730Z"
   },
   {
    "duration": 766,
    "start_time": "2022-03-31T18:38:46.425Z"
   },
   {
    "duration": 17,
    "start_time": "2022-03-31T18:38:47.192Z"
   },
   {
    "duration": 37,
    "start_time": "2022-03-31T18:38:47.210Z"
   },
   {
    "duration": 632,
    "start_time": "2022-03-31T18:38:47.249Z"
   },
   {
    "duration": 7,
    "start_time": "2022-03-31T18:38:47.882Z"
   },
   {
    "duration": 13,
    "start_time": "2022-03-31T18:38:47.909Z"
   },
   {
    "duration": 345,
    "start_time": "2022-03-31T18:38:47.924Z"
   },
   {
    "duration": 12,
    "start_time": "2022-03-31T18:38:48.271Z"
   },
   {
    "duration": 195,
    "start_time": "2022-03-31T18:38:48.285Z"
   },
   {
    "duration": 7,
    "start_time": "2022-03-31T18:38:48.482Z"
   },
   {
    "duration": 23,
    "start_time": "2022-03-31T18:38:48.490Z"
   },
   {
    "duration": 22521,
    "start_time": "2022-03-31T18:38:48.514Z"
   },
   {
    "duration": 202,
    "start_time": "2022-03-31T18:39:11.037Z"
   },
   {
    "duration": 6,
    "start_time": "2022-03-31T18:39:11.241Z"
   },
   {
    "duration": 20,
    "start_time": "2022-03-31T18:39:11.249Z"
   },
   {
    "duration": 425,
    "start_time": "2022-03-31T18:39:11.270Z"
   },
   {
    "duration": 15,
    "start_time": "2022-03-31T18:39:11.709Z"
   },
   {
    "duration": 342,
    "start_time": "2022-03-31T18:39:11.812Z"
   },
   {
    "duration": 40,
    "start_time": "2022-03-31T18:39:12.156Z"
   },
   {
    "duration": 1480,
    "start_time": "2022-03-31T18:53:59.374Z"
   },
   {
    "duration": 3,
    "start_time": "2022-03-31T18:54:00.856Z"
   },
   {
    "duration": 55,
    "start_time": "2022-03-31T18:54:00.860Z"
   },
   {
    "duration": 15,
    "start_time": "2022-03-31T18:54:00.917Z"
   },
   {
    "duration": 17,
    "start_time": "2022-03-31T18:54:00.933Z"
   },
   {
    "duration": 19,
    "start_time": "2022-03-31T18:54:00.952Z"
   },
   {
    "duration": 3,
    "start_time": "2022-03-31T18:54:00.973Z"
   },
   {
    "duration": 33,
    "start_time": "2022-03-31T18:54:00.978Z"
   },
   {
    "duration": 17,
    "start_time": "2022-03-31T18:54:01.012Z"
   },
   {
    "duration": 132,
    "start_time": "2022-03-31T18:54:01.033Z"
   },
   {
    "duration": 14,
    "start_time": "2022-03-31T18:54:01.167Z"
   },
   {
    "duration": 5,
    "start_time": "2022-03-31T18:54:01.184Z"
   },
   {
    "duration": 19,
    "start_time": "2022-03-31T18:54:01.209Z"
   },
   {
    "duration": 4,
    "start_time": "2022-03-31T18:54:01.230Z"
   },
   {
    "duration": 13,
    "start_time": "2022-03-31T18:54:01.236Z"
   },
   {
    "duration": 5,
    "start_time": "2022-03-31T18:54:01.250Z"
   },
   {
    "duration": 13,
    "start_time": "2022-03-31T18:54:01.257Z"
   },
   {
    "duration": 62,
    "start_time": "2022-03-31T18:54:01.272Z"
   },
   {
    "duration": 256,
    "start_time": "2022-03-31T18:54:01.335Z"
   },
   {
    "duration": 16,
    "start_time": "2022-03-31T18:54:01.593Z"
   },
   {
    "duration": 9,
    "start_time": "2022-03-31T18:54:01.611Z"
   },
   {
    "duration": 11298,
    "start_time": "2022-03-31T18:54:01.621Z"
   },
   {
    "duration": 7,
    "start_time": "2022-03-31T18:54:12.921Z"
   },
   {
    "duration": 25,
    "start_time": "2022-03-31T18:54:12.930Z"
   },
   {
    "duration": 662,
    "start_time": "2022-03-31T18:54:12.957Z"
   },
   {
    "duration": 8,
    "start_time": "2022-03-31T18:54:13.621Z"
   },
   {
    "duration": 82,
    "start_time": "2022-03-31T18:54:13.631Z"
   },
   {
    "duration": 102,
    "start_time": "2022-03-31T18:54:13.719Z"
   },
   {
    "duration": 360,
    "start_time": "2022-03-31T18:54:13.823Z"
   },
   {
    "duration": 7,
    "start_time": "2022-03-31T18:54:14.185Z"
   },
   {
    "duration": 9,
    "start_time": "2022-03-31T18:54:14.209Z"
   },
   {
    "duration": 3,
    "start_time": "2022-03-31T18:54:14.220Z"
   },
   {
    "duration": 215,
    "start_time": "2022-03-31T18:54:14.224Z"
   },
   {
    "duration": 8,
    "start_time": "2022-03-31T18:54:14.440Z"
   },
   {
    "duration": 13,
    "start_time": "2022-03-31T18:54:14.449Z"
   },
   {
    "duration": 414,
    "start_time": "2022-03-31T18:54:14.464Z"
   },
   {
    "duration": 8,
    "start_time": "2022-03-31T18:54:14.880Z"
   },
   {
    "duration": 31,
    "start_time": "2022-03-31T18:54:14.890Z"
   },
   {
    "duration": 374,
    "start_time": "2022-03-31T18:54:14.925Z"
   },
   {
    "duration": 15,
    "start_time": "2022-03-31T18:54:15.300Z"
   },
   {
    "duration": 187,
    "start_time": "2022-03-31T18:54:15.316Z"
   },
   {
    "duration": 9,
    "start_time": "2022-03-31T18:54:15.504Z"
   },
   {
    "duration": 8,
    "start_time": "2022-03-31T18:54:15.515Z"
   },
   {
    "duration": 2,
    "start_time": "2022-03-31T18:54:15.525Z"
   },
   {
    "duration": 231,
    "start_time": "2022-03-31T18:54:15.529Z"
   },
   {
    "duration": 7,
    "start_time": "2022-03-31T18:54:15.761Z"
   },
   {
    "duration": 44,
    "start_time": "2022-03-31T18:54:15.769Z"
   },
   {
    "duration": 617,
    "start_time": "2022-03-31T18:54:15.815Z"
   },
   {
    "duration": 175,
    "start_time": "2022-03-31T18:54:16.434Z"
   },
   {
    "duration": 248,
    "start_time": "2022-03-31T18:54:16.611Z"
   },
   {
    "duration": 15,
    "start_time": "2022-03-31T18:54:16.861Z"
   },
   {
    "duration": 1407,
    "start_time": "2022-03-31T18:55:54.314Z"
   },
   {
    "duration": 3,
    "start_time": "2022-03-31T18:55:55.723Z"
   },
   {
    "duration": 50,
    "start_time": "2022-03-31T18:55:55.728Z"
   },
   {
    "duration": 27,
    "start_time": "2022-03-31T18:55:55.781Z"
   },
   {
    "duration": 9,
    "start_time": "2022-03-31T18:55:55.810Z"
   },
   {
    "duration": 17,
    "start_time": "2022-03-31T18:55:55.821Z"
   },
   {
    "duration": 4,
    "start_time": "2022-03-31T18:55:55.840Z"
   },
   {
    "duration": 14,
    "start_time": "2022-03-31T18:55:55.846Z"
   },
   {
    "duration": 56,
    "start_time": "2022-03-31T18:55:55.862Z"
   },
   {
    "duration": 126,
    "start_time": "2022-03-31T18:55:55.922Z"
   },
   {
    "duration": 14,
    "start_time": "2022-03-31T18:55:56.049Z"
   },
   {
    "duration": 5,
    "start_time": "2022-03-31T18:55:56.065Z"
   },
   {
    "duration": 40,
    "start_time": "2022-03-31T18:55:56.072Z"
   },
   {
    "duration": 4,
    "start_time": "2022-03-31T18:55:56.114Z"
   },
   {
    "duration": 8,
    "start_time": "2022-03-31T18:55:56.120Z"
   },
   {
    "duration": 4,
    "start_time": "2022-03-31T18:55:56.129Z"
   },
   {
    "duration": 12,
    "start_time": "2022-03-31T18:55:56.134Z"
   },
   {
    "duration": 71,
    "start_time": "2022-03-31T18:55:56.147Z"
   },
   {
    "duration": 258,
    "start_time": "2022-03-31T18:55:56.220Z"
   },
   {
    "duration": 8,
    "start_time": "2022-03-31T18:55:56.480Z"
   },
   {
    "duration": 23,
    "start_time": "2022-03-31T18:55:56.490Z"
   },
   {
    "duration": 11351,
    "start_time": "2022-03-31T18:55:56.515Z"
   },
   {
    "duration": 6,
    "start_time": "2022-03-31T18:56:07.868Z"
   },
   {
    "duration": 36,
    "start_time": "2022-03-31T18:56:07.876Z"
   },
   {
    "duration": 649,
    "start_time": "2022-03-31T18:56:07.913Z"
   },
   {
    "duration": 8,
    "start_time": "2022-03-31T18:56:08.564Z"
   },
   {
    "duration": 136,
    "start_time": "2022-03-31T18:56:08.574Z"
   },
   {
    "duration": 16,
    "start_time": "2022-03-31T18:56:08.715Z"
   },
   {
    "duration": 359,
    "start_time": "2022-03-31T18:56:08.733Z"
   },
   {
    "duration": 19,
    "start_time": "2022-03-31T18:56:09.093Z"
   },
   {
    "duration": 8,
    "start_time": "2022-03-31T18:56:09.114Z"
   },
   {
    "duration": 686062,
    "start_time": "2022-03-31T18:56:09.125Z"
   },
   {
    "duration": 189,
    "start_time": "2022-03-31T19:07:35.189Z"
   },
   {
    "duration": 7,
    "start_time": "2022-03-31T19:07:35.380Z"
   },
   {
    "duration": 31,
    "start_time": "2022-03-31T19:07:35.388Z"
   },
   {
    "duration": 528,
    "start_time": "2022-03-31T19:07:35.420Z"
   },
   {
    "duration": 8,
    "start_time": "2022-03-31T19:07:35.950Z"
   },
   {
    "duration": 53,
    "start_time": "2022-03-31T19:07:35.960Z"
   },
   {
    "duration": 256,
    "start_time": "2022-03-31T19:07:36.016Z"
   },
   {
    "duration": 11,
    "start_time": "2022-03-31T19:07:36.273Z"
   },
   {
    "duration": 192,
    "start_time": "2022-03-31T19:07:36.285Z"
   },
   {
    "duration": 7,
    "start_time": "2022-03-31T19:07:36.479Z"
   },
   {
    "duration": 22,
    "start_time": "2022-03-31T19:07:36.487Z"
   },
   {
    "duration": 220542,
    "start_time": "2022-03-31T19:07:36.511Z"
   },
   {
    "duration": 231,
    "start_time": "2022-03-31T19:11:17.054Z"
   },
   {
    "duration": 6,
    "start_time": "2022-03-31T19:11:17.287Z"
   },
   {
    "duration": 34,
    "start_time": "2022-03-31T19:11:17.295Z"
   },
   {
    "duration": 280,
    "start_time": "2022-03-31T19:11:17.330Z"
   },
   {
    "duration": 97,
    "start_time": "2022-03-31T19:11:17.612Z"
   },
   {
    "duration": 258,
    "start_time": "2022-03-31T19:11:17.711Z"
   },
   {
    "duration": 15,
    "start_time": "2022-03-31T19:11:17.971Z"
   },
   {
    "duration": 1464,
    "start_time": "2022-03-31T19:27:04.309Z"
   },
   {
    "duration": 3,
    "start_time": "2022-03-31T19:27:05.776Z"
   },
   {
    "duration": 76,
    "start_time": "2022-03-31T19:27:05.780Z"
   },
   {
    "duration": 15,
    "start_time": "2022-03-31T19:27:05.858Z"
   },
   {
    "duration": 19,
    "start_time": "2022-03-31T19:27:05.876Z"
   },
   {
    "duration": 21,
    "start_time": "2022-03-31T19:27:05.897Z"
   },
   {
    "duration": 5,
    "start_time": "2022-03-31T19:27:05.919Z"
   },
   {
    "duration": 15,
    "start_time": "2022-03-31T19:27:05.926Z"
   },
   {
    "duration": 16,
    "start_time": "2022-03-31T19:27:05.943Z"
   },
   {
    "duration": 160,
    "start_time": "2022-03-31T19:27:05.961Z"
   },
   {
    "duration": 15,
    "start_time": "2022-03-31T19:27:06.123Z"
   },
   {
    "duration": 5,
    "start_time": "2022-03-31T19:27:06.140Z"
   },
   {
    "duration": 23,
    "start_time": "2022-03-31T19:27:06.147Z"
   },
   {
    "duration": 5,
    "start_time": "2022-03-31T19:27:06.173Z"
   },
   {
    "duration": 39,
    "start_time": "2022-03-31T19:27:06.180Z"
   },
   {
    "duration": 5,
    "start_time": "2022-03-31T19:27:06.222Z"
   },
   {
    "duration": 13,
    "start_time": "2022-03-31T19:27:06.229Z"
   },
   {
    "duration": 37,
    "start_time": "2022-03-31T19:27:06.243Z"
   },
   {
    "duration": 271,
    "start_time": "2022-03-31T19:27:06.308Z"
   },
   {
    "duration": 9,
    "start_time": "2022-03-31T19:27:06.581Z"
   },
   {
    "duration": 11,
    "start_time": "2022-03-31T19:27:06.608Z"
   },
   {
    "duration": 11622,
    "start_time": "2022-03-31T19:27:06.621Z"
   },
   {
    "duration": 7,
    "start_time": "2022-03-31T19:27:18.245Z"
   },
   {
    "duration": 18,
    "start_time": "2022-03-31T19:27:18.254Z"
   },
   {
    "duration": 529,
    "start_time": "2022-03-31T19:27:18.273Z"
   },
   {
    "duration": 7,
    "start_time": "2022-03-31T19:27:18.808Z"
   },
   {
    "duration": 12,
    "start_time": "2022-03-31T19:27:18.817Z"
   },
   {
    "duration": 15,
    "start_time": "2022-03-31T19:27:18.908Z"
   },
   {
    "duration": 349,
    "start_time": "2022-03-31T19:27:19.010Z"
   },
   {
    "duration": 8,
    "start_time": "2022-03-31T19:27:19.361Z"
   },
   {
    "duration": 10,
    "start_time": "2022-03-31T19:27:19.371Z"
   },
   {
    "duration": 20184,
    "start_time": "2022-03-31T19:27:19.408Z"
   },
   {
    "duration": 0,
    "start_time": "2022-03-31T19:27:39.594Z"
   },
   {
    "duration": 0,
    "start_time": "2022-03-31T19:27:39.595Z"
   },
   {
    "duration": 0,
    "start_time": "2022-03-31T19:27:39.596Z"
   },
   {
    "duration": 0,
    "start_time": "2022-03-31T19:27:39.598Z"
   },
   {
    "duration": 0,
    "start_time": "2022-03-31T19:27:39.599Z"
   },
   {
    "duration": 0,
    "start_time": "2022-03-31T19:27:39.609Z"
   },
   {
    "duration": 0,
    "start_time": "2022-03-31T19:27:39.610Z"
   },
   {
    "duration": 0,
    "start_time": "2022-03-31T19:27:39.612Z"
   },
   {
    "duration": 0,
    "start_time": "2022-03-31T19:27:39.613Z"
   },
   {
    "duration": 0,
    "start_time": "2022-03-31T19:27:39.615Z"
   },
   {
    "duration": 0,
    "start_time": "2022-03-31T19:27:39.616Z"
   },
   {
    "duration": 0,
    "start_time": "2022-03-31T19:27:39.617Z"
   },
   {
    "duration": 0,
    "start_time": "2022-03-31T19:27:39.619Z"
   },
   {
    "duration": 0,
    "start_time": "2022-03-31T19:27:39.621Z"
   },
   {
    "duration": 0,
    "start_time": "2022-03-31T19:27:39.622Z"
   },
   {
    "duration": 0,
    "start_time": "2022-03-31T19:27:39.624Z"
   },
   {
    "duration": 0,
    "start_time": "2022-03-31T19:27:39.625Z"
   },
   {
    "duration": 0,
    "start_time": "2022-03-31T19:27:39.627Z"
   },
   {
    "duration": 0,
    "start_time": "2022-03-31T19:27:39.628Z"
   },
   {
    "duration": 1416,
    "start_time": "2022-03-31T19:28:00.951Z"
   },
   {
    "duration": 3,
    "start_time": "2022-03-31T19:28:02.369Z"
   },
   {
    "duration": 53,
    "start_time": "2022-03-31T19:28:02.373Z"
   },
   {
    "duration": 14,
    "start_time": "2022-03-31T19:28:02.428Z"
   },
   {
    "duration": 11,
    "start_time": "2022-03-31T19:28:02.444Z"
   },
   {
    "duration": 16,
    "start_time": "2022-03-31T19:28:02.457Z"
   },
   {
    "duration": 11,
    "start_time": "2022-03-31T19:28:02.474Z"
   },
   {
    "duration": 32,
    "start_time": "2022-03-31T19:28:02.486Z"
   },
   {
    "duration": 15,
    "start_time": "2022-03-31T19:28:02.520Z"
   },
   {
    "duration": 138,
    "start_time": "2022-03-31T19:28:02.536Z"
   },
   {
    "duration": 13,
    "start_time": "2022-03-31T19:28:02.676Z"
   },
   {
    "duration": 18,
    "start_time": "2022-03-31T19:28:02.690Z"
   },
   {
    "duration": 18,
    "start_time": "2022-03-31T19:28:02.710Z"
   },
   {
    "duration": 4,
    "start_time": "2022-03-31T19:28:02.731Z"
   },
   {
    "duration": 8,
    "start_time": "2022-03-31T19:28:02.737Z"
   },
   {
    "duration": 4,
    "start_time": "2022-03-31T19:28:02.746Z"
   },
   {
    "duration": 11,
    "start_time": "2022-03-31T19:28:02.752Z"
   },
   {
    "duration": 71,
    "start_time": "2022-03-31T19:28:02.765Z"
   },
   {
    "duration": 255,
    "start_time": "2022-03-31T19:28:02.838Z"
   },
   {
    "duration": 17,
    "start_time": "2022-03-31T19:28:03.094Z"
   },
   {
    "duration": 11,
    "start_time": "2022-03-31T19:28:03.113Z"
   },
   {
    "duration": 11408,
    "start_time": "2022-03-31T19:28:03.126Z"
   },
   {
    "duration": 7,
    "start_time": "2022-03-31T19:28:14.536Z"
   },
   {
    "duration": 18,
    "start_time": "2022-03-31T19:28:14.544Z"
   },
   {
    "duration": 621,
    "start_time": "2022-03-31T19:28:14.564Z"
   },
   {
    "duration": 7,
    "start_time": "2022-03-31T19:28:15.187Z"
   },
   {
    "duration": 14,
    "start_time": "2022-03-31T19:28:15.196Z"
   },
   {
    "duration": 97,
    "start_time": "2022-03-31T19:28:15.212Z"
   },
   {
    "duration": 435,
    "start_time": "2022-03-31T19:28:15.311Z"
   },
   {
    "duration": 7,
    "start_time": "2022-03-31T19:28:15.748Z"
   },
   {
    "duration": 12,
    "start_time": "2022-03-31T19:28:15.756Z"
   },
   {
    "duration": 3,
    "start_time": "2022-03-31T19:28:15.770Z"
   },
   {
    "duration": 190,
    "start_time": "2022-03-31T19:28:15.775Z"
   },
   {
    "duration": 6,
    "start_time": "2022-03-31T19:28:15.967Z"
   },
   {
    "duration": 11,
    "start_time": "2022-03-31T19:28:15.975Z"
   },
   {
    "duration": 743,
    "start_time": "2022-03-31T19:28:15.988Z"
   },
   {
    "duration": 7,
    "start_time": "2022-03-31T19:28:16.733Z"
   },
   {
    "duration": 73,
    "start_time": "2022-03-31T19:28:16.742Z"
   },
   {
    "duration": 314,
    "start_time": "2022-03-31T19:28:16.818Z"
   },
   {
    "duration": 12,
    "start_time": "2022-03-31T19:28:17.134Z"
   },
   {
    "duration": 200,
    "start_time": "2022-03-31T19:28:17.150Z"
   },
   {
    "duration": 7,
    "start_time": "2022-03-31T19:28:17.352Z"
   },
   {
    "duration": 9,
    "start_time": "2022-03-31T19:28:17.361Z"
   },
   {
    "duration": 2,
    "start_time": "2022-03-31T19:28:17.372Z"
   },
   {
    "duration": 349,
    "start_time": "2022-03-31T19:28:17.376Z"
   },
   {
    "duration": 6,
    "start_time": "2022-03-31T19:28:17.727Z"
   },
   {
    "duration": 35,
    "start_time": "2022-03-31T19:28:17.735Z"
   },
   {
    "duration": 422,
    "start_time": "2022-03-31T19:28:17.771Z"
   },
   {
    "duration": 16,
    "start_time": "2022-03-31T19:28:18.209Z"
   },
   {
    "duration": 340,
    "start_time": "2022-03-31T19:28:18.227Z"
   },
   {
    "duration": 16,
    "start_time": "2022-03-31T19:28:18.569Z"
   },
   {
    "duration": 241,
    "start_time": "2022-03-31T19:28:57.081Z"
   },
   {
    "duration": 4,
    "start_time": "2022-03-31T19:29:00.426Z"
   },
   {
    "duration": 12,
    "start_time": "2022-03-31T19:29:00.432Z"
   },
   {
    "duration": 47,
    "start_time": "2022-03-31T19:29:00.446Z"
   },
   {
    "duration": 13,
    "start_time": "2022-03-31T19:29:00.496Z"
   },
   {
    "duration": 12,
    "start_time": "2022-03-31T19:29:00.511Z"
   },
   {
    "duration": 15,
    "start_time": "2022-03-31T19:29:00.525Z"
   },
   {
    "duration": 3,
    "start_time": "2022-03-31T19:29:00.542Z"
   },
   {
    "duration": 14,
    "start_time": "2022-03-31T19:29:00.546Z"
   },
   {
    "duration": 14,
    "start_time": "2022-03-31T19:29:00.563Z"
   },
   {
    "duration": 140,
    "start_time": "2022-03-31T19:29:00.579Z"
   },
   {
    "duration": 12,
    "start_time": "2022-03-31T19:29:00.721Z"
   },
   {
    "duration": 5,
    "start_time": "2022-03-31T19:29:00.735Z"
   },
   {
    "duration": 24,
    "start_time": "2022-03-31T19:29:00.741Z"
   },
   {
    "duration": 5,
    "start_time": "2022-03-31T19:29:00.767Z"
   },
   {
    "duration": 36,
    "start_time": "2022-03-31T19:29:00.773Z"
   },
   {
    "duration": 5,
    "start_time": "2022-03-31T19:29:00.810Z"
   },
   {
    "duration": 16,
    "start_time": "2022-03-31T19:29:00.816Z"
   },
   {
    "duration": 35,
    "start_time": "2022-03-31T19:29:00.833Z"
   },
   {
    "duration": 271,
    "start_time": "2022-03-31T19:29:00.870Z"
   },
   {
    "duration": 8,
    "start_time": "2022-03-31T19:29:01.143Z"
   },
   {
    "duration": 12,
    "start_time": "2022-03-31T19:29:01.152Z"
   },
   {
    "duration": 11283,
    "start_time": "2022-03-31T19:29:01.166Z"
   },
   {
    "duration": 6,
    "start_time": "2022-03-31T19:29:12.451Z"
   },
   {
    "duration": 17,
    "start_time": "2022-03-31T19:29:12.461Z"
   },
   {
    "duration": 598,
    "start_time": "2022-03-31T19:29:12.479Z"
   },
   {
    "duration": 7,
    "start_time": "2022-03-31T19:29:13.079Z"
   },
   {
    "duration": 24,
    "start_time": "2022-03-31T19:29:13.088Z"
   },
   {
    "duration": 115,
    "start_time": "2022-03-31T19:29:13.115Z"
   },
   {
    "duration": 428,
    "start_time": "2022-03-31T19:29:13.232Z"
   },
   {
    "duration": 7,
    "start_time": "2022-03-31T19:29:13.662Z"
   },
   {
    "duration": 9,
    "start_time": "2022-03-31T19:29:13.671Z"
   },
   {
    "duration": 3,
    "start_time": "2022-03-31T19:29:13.682Z"
   },
   {
    "duration": 227,
    "start_time": "2022-03-31T19:29:13.686Z"
   },
   {
    "duration": 7,
    "start_time": "2022-03-31T19:29:13.915Z"
   },
   {
    "duration": 13,
    "start_time": "2022-03-31T19:29:13.924Z"
   },
   {
    "duration": 681,
    "start_time": "2022-03-31T19:29:13.939Z"
   },
   {
    "duration": 8,
    "start_time": "2022-03-31T19:29:14.621Z"
   },
   {
    "duration": 11,
    "start_time": "2022-03-31T19:29:14.631Z"
   },
   {
    "duration": 331,
    "start_time": "2022-03-31T19:29:14.645Z"
   },
   {
    "duration": 12,
    "start_time": "2022-03-31T19:29:14.978Z"
   },
   {
    "duration": 217,
    "start_time": "2022-03-31T19:29:14.992Z"
   },
   {
    "duration": 7,
    "start_time": "2022-03-31T19:29:15.211Z"
   },
   {
    "duration": 9,
    "start_time": "2022-03-31T19:29:15.220Z"
   },
   {
    "duration": 2,
    "start_time": "2022-03-31T19:29:15.231Z"
   },
   {
    "duration": 344,
    "start_time": "2022-03-31T19:29:15.235Z"
   },
   {
    "duration": 7,
    "start_time": "2022-03-31T19:29:15.581Z"
   },
   {
    "duration": 52,
    "start_time": "2022-03-31T19:29:15.590Z"
   },
   {
    "duration": 377,
    "start_time": "2022-03-31T19:29:15.644Z"
   },
   {
    "duration": 86,
    "start_time": "2022-03-31T19:29:16.023Z"
   },
   {
    "duration": 425,
    "start_time": "2022-03-31T19:29:16.116Z"
   },
   {
    "duration": 70,
    "start_time": "2022-03-31T19:29:16.543Z"
   },
   {
    "duration": 1463,
    "start_time": "2022-03-31T19:30:05.213Z"
   },
   {
    "duration": 3,
    "start_time": "2022-03-31T19:30:06.678Z"
   },
   {
    "duration": 54,
    "start_time": "2022-03-31T19:30:06.683Z"
   },
   {
    "duration": 15,
    "start_time": "2022-03-31T19:30:06.739Z"
   },
   {
    "duration": 12,
    "start_time": "2022-03-31T19:30:06.756Z"
   },
   {
    "duration": 19,
    "start_time": "2022-03-31T19:30:06.769Z"
   },
   {
    "duration": 21,
    "start_time": "2022-03-31T19:30:06.790Z"
   },
   {
    "duration": 15,
    "start_time": "2022-03-31T19:30:06.813Z"
   },
   {
    "duration": 18,
    "start_time": "2022-03-31T19:30:06.830Z"
   },
   {
    "duration": 153,
    "start_time": "2022-03-31T19:30:06.850Z"
   },
   {
    "duration": 14,
    "start_time": "2022-03-31T19:30:07.005Z"
   },
   {
    "duration": 7,
    "start_time": "2022-03-31T19:30:07.021Z"
   },
   {
    "duration": 21,
    "start_time": "2022-03-31T19:30:07.030Z"
   },
   {
    "duration": 5,
    "start_time": "2022-03-31T19:30:07.056Z"
   },
   {
    "duration": 10,
    "start_time": "2022-03-31T19:30:07.063Z"
   },
   {
    "duration": 5,
    "start_time": "2022-03-31T19:30:07.108Z"
   },
   {
    "duration": 14,
    "start_time": "2022-03-31T19:30:07.115Z"
   },
   {
    "duration": 37,
    "start_time": "2022-03-31T19:30:07.131Z"
   },
   {
    "duration": 278,
    "start_time": "2022-03-31T19:30:07.170Z"
   },
   {
    "duration": 7,
    "start_time": "2022-03-31T19:30:07.450Z"
   },
   {
    "duration": 9,
    "start_time": "2022-03-31T19:30:07.459Z"
   },
   {
    "duration": 11776,
    "start_time": "2022-03-31T19:30:07.469Z"
   },
   {
    "duration": 6,
    "start_time": "2022-03-31T19:30:19.247Z"
   },
   {
    "duration": 18,
    "start_time": "2022-03-31T19:30:19.255Z"
   },
   {
    "duration": 614,
    "start_time": "2022-03-31T19:30:19.275Z"
   },
   {
    "duration": 17,
    "start_time": "2022-03-31T19:30:19.891Z"
   },
   {
    "duration": 11,
    "start_time": "2022-03-31T19:30:19.910Z"
   },
   {
    "duration": 188,
    "start_time": "2022-03-31T19:30:19.927Z"
   },
   {
    "duration": 397,
    "start_time": "2022-03-31T19:30:20.117Z"
   },
   {
    "duration": 8,
    "start_time": "2022-03-31T19:30:20.516Z"
   },
   {
    "duration": 10,
    "start_time": "2022-03-31T19:30:20.526Z"
   },
   {
    "duration": 3,
    "start_time": "2022-03-31T19:30:20.538Z"
   },
   {
    "duration": 248,
    "start_time": "2022-03-31T19:30:20.543Z"
   },
   {
    "duration": 23,
    "start_time": "2022-03-31T19:30:20.793Z"
   },
   {
    "duration": 13,
    "start_time": "2022-03-31T19:30:20.818Z"
   },
   {
    "duration": 678,
    "start_time": "2022-03-31T19:30:20.833Z"
   },
   {
    "duration": 8,
    "start_time": "2022-03-31T19:30:21.513Z"
   },
   {
    "duration": 87,
    "start_time": "2022-03-31T19:30:21.524Z"
   },
   {
    "duration": 265,
    "start_time": "2022-03-31T19:30:21.613Z"
   },
   {
    "duration": 13,
    "start_time": "2022-03-31T19:30:21.880Z"
   },
   {
    "duration": 221,
    "start_time": "2022-03-31T19:30:21.897Z"
   },
   {
    "duration": 9,
    "start_time": "2022-03-31T19:30:22.120Z"
   },
   {
    "duration": 10,
    "start_time": "2022-03-31T19:30:22.130Z"
   },
   {
    "duration": 2,
    "start_time": "2022-03-31T19:30:22.143Z"
   },
   {
    "duration": 373,
    "start_time": "2022-03-31T19:30:22.147Z"
   },
   {
    "duration": 7,
    "start_time": "2022-03-31T19:30:22.522Z"
   },
   {
    "duration": 40,
    "start_time": "2022-03-31T19:30:22.531Z"
   },
   {
    "duration": 422,
    "start_time": "2022-03-31T19:30:22.573Z"
   },
   {
    "duration": 12,
    "start_time": "2022-03-31T19:30:23.009Z"
   },
   {
    "duration": 344,
    "start_time": "2022-03-31T19:30:23.023Z"
   },
   {
    "duration": 19,
    "start_time": "2022-03-31T19:30:23.369Z"
   },
   {
    "duration": 1463,
    "start_time": "2022-03-31T19:36:21.353Z"
   },
   {
    "duration": 3,
    "start_time": "2022-03-31T19:36:22.818Z"
   },
   {
    "duration": 52,
    "start_time": "2022-03-31T19:36:22.823Z"
   },
   {
    "duration": 14,
    "start_time": "2022-03-31T19:36:22.877Z"
   },
   {
    "duration": 19,
    "start_time": "2022-03-31T19:36:22.893Z"
   },
   {
    "duration": 16,
    "start_time": "2022-03-31T19:36:22.914Z"
   },
   {
    "duration": 4,
    "start_time": "2022-03-31T19:36:22.931Z"
   },
   {
    "duration": 14,
    "start_time": "2022-03-31T19:36:22.936Z"
   },
   {
    "duration": 15,
    "start_time": "2022-03-31T19:36:22.952Z"
   },
   {
    "duration": 148,
    "start_time": "2022-03-31T19:36:22.969Z"
   },
   {
    "duration": 15,
    "start_time": "2022-03-31T19:36:23.120Z"
   },
   {
    "duration": 5,
    "start_time": "2022-03-31T19:36:23.136Z"
   },
   {
    "duration": 19,
    "start_time": "2022-03-31T19:36:23.142Z"
   },
   {
    "duration": 5,
    "start_time": "2022-03-31T19:36:23.163Z"
   },
   {
    "duration": 41,
    "start_time": "2022-03-31T19:36:23.170Z"
   },
   {
    "duration": 5,
    "start_time": "2022-03-31T19:36:23.212Z"
   },
   {
    "duration": 19,
    "start_time": "2022-03-31T19:36:23.218Z"
   },
   {
    "duration": 37,
    "start_time": "2022-03-31T19:36:23.238Z"
   },
   {
    "duration": 261,
    "start_time": "2022-03-31T19:36:23.277Z"
   },
   {
    "duration": 7,
    "start_time": "2022-03-31T19:36:23.540Z"
   },
   {
    "duration": 9,
    "start_time": "2022-03-31T19:36:23.549Z"
   },
   {
    "duration": 10829,
    "start_time": "2022-03-31T19:36:23.560Z"
   },
   {
    "duration": 18,
    "start_time": "2022-03-31T19:36:34.391Z"
   },
   {
    "duration": 17,
    "start_time": "2022-03-31T19:36:34.410Z"
   },
   {
    "duration": 524,
    "start_time": "2022-03-31T19:36:34.428Z"
   },
   {
    "duration": 6,
    "start_time": "2022-03-31T19:36:34.954Z"
   },
   {
    "duration": 54,
    "start_time": "2022-03-31T19:36:34.961Z"
   },
   {
    "duration": 98,
    "start_time": "2022-03-31T19:36:35.021Z"
   },
   {
    "duration": 362,
    "start_time": "2022-03-31T19:36:35.120Z"
   },
   {
    "duration": 8,
    "start_time": "2022-03-31T19:36:35.484Z"
   },
   {
    "duration": 10,
    "start_time": "2022-03-31T19:36:35.509Z"
   },
   {
    "duration": 879238,
    "start_time": "2022-03-31T19:36:35.521Z"
   },
   {
    "duration": 188,
    "start_time": "2022-03-31T19:51:14.761Z"
   },
   {
    "duration": 6,
    "start_time": "2022-03-31T19:51:14.951Z"
   },
   {
    "duration": 12,
    "start_time": "2022-03-31T19:51:14.958Z"
   },
   {
    "duration": 588,
    "start_time": "2022-03-31T19:51:14.972Z"
   },
   {
    "duration": 7,
    "start_time": "2022-03-31T19:51:15.562Z"
   },
   {
    "duration": 43,
    "start_time": "2022-03-31T19:51:15.570Z"
   },
   {
    "duration": 254,
    "start_time": "2022-03-31T19:51:15.616Z"
   },
   {
    "duration": 13,
    "start_time": "2022-03-31T19:51:15.872Z"
   },
   {
    "duration": 191,
    "start_time": "2022-03-31T19:51:15.886Z"
   },
   {
    "duration": 6,
    "start_time": "2022-03-31T19:51:16.079Z"
   },
   {
    "duration": 26,
    "start_time": "2022-03-31T19:51:16.087Z"
   },
   {
    "duration": 216331,
    "start_time": "2022-03-31T19:51:16.115Z"
   },
   {
    "duration": 311,
    "start_time": "2022-03-31T19:54:52.447Z"
   },
   {
    "duration": 6,
    "start_time": "2022-03-31T19:54:52.760Z"
   },
   {
    "duration": 50,
    "start_time": "2022-03-31T19:54:52.768Z"
   },
   {
    "duration": 373,
    "start_time": "2022-03-31T19:54:52.819Z"
   },
   {
    "duration": 13,
    "start_time": "2022-03-31T19:54:53.209Z"
   },
   {
    "duration": 333,
    "start_time": "2022-03-31T19:54:53.224Z"
   },
   {
    "duration": 15,
    "start_time": "2022-03-31T19:54:53.559Z"
   },
   {
    "duration": 2872,
    "start_time": "2022-04-01T08:35:43.024Z"
   },
   {
    "duration": 16,
    "start_time": "2022-04-01T08:35:45.912Z"
   },
   {
    "duration": 101,
    "start_time": "2022-04-01T08:35:45.935Z"
   },
   {
    "duration": 22,
    "start_time": "2022-04-01T08:35:46.038Z"
   },
   {
    "duration": 11,
    "start_time": "2022-04-01T08:35:46.063Z"
   },
   {
    "duration": 24,
    "start_time": "2022-04-01T08:35:46.076Z"
   },
   {
    "duration": 5,
    "start_time": "2022-04-01T08:35:46.102Z"
   },
   {
    "duration": 23,
    "start_time": "2022-04-01T08:35:46.144Z"
   },
   {
    "duration": 26,
    "start_time": "2022-04-01T08:35:46.169Z"
   },
   {
    "duration": 219,
    "start_time": "2022-04-01T08:35:46.197Z"
   },
   {
    "duration": 30,
    "start_time": "2022-04-01T08:35:46.419Z"
   },
   {
    "duration": 4,
    "start_time": "2022-04-01T08:35:46.452Z"
   },
   {
    "duration": 31,
    "start_time": "2022-04-01T08:35:46.459Z"
   },
   {
    "duration": 7,
    "start_time": "2022-04-01T08:35:46.497Z"
   },
   {
    "duration": 43,
    "start_time": "2022-04-01T08:35:46.506Z"
   },
   {
    "duration": 9,
    "start_time": "2022-04-01T08:35:46.551Z"
   },
   {
    "duration": 33,
    "start_time": "2022-04-01T08:35:46.564Z"
   },
   {
    "duration": 91,
    "start_time": "2022-04-01T08:35:46.600Z"
   },
   {
    "duration": 479,
    "start_time": "2022-04-01T08:35:46.693Z"
   },
   {
    "duration": 12,
    "start_time": "2022-04-01T08:35:47.174Z"
   },
   {
    "duration": 12,
    "start_time": "2022-04-01T08:35:47.189Z"
   },
   {
    "duration": 16961,
    "start_time": "2022-04-01T08:35:47.204Z"
   },
   {
    "duration": 10,
    "start_time": "2022-04-01T08:36:04.167Z"
   },
   {
    "duration": 33,
    "start_time": "2022-04-01T08:36:04.179Z"
   },
   {
    "duration": 761,
    "start_time": "2022-04-01T08:36:04.214Z"
   },
   {
    "duration": 13,
    "start_time": "2022-04-01T08:36:04.978Z"
   },
   {
    "duration": 55,
    "start_time": "2022-04-01T08:36:04.993Z"
   },
   {
    "duration": 124,
    "start_time": "2022-04-01T08:36:05.052Z"
   },
   {
    "duration": 575,
    "start_time": "2022-04-01T08:36:05.179Z"
   },
   {
    "duration": 10,
    "start_time": "2022-04-01T08:36:05.757Z"
   },
   {
    "duration": 20,
    "start_time": "2022-04-01T08:36:05.769Z"
   },
   {
    "duration": 371675,
    "start_time": "2022-04-01T08:36:05.791Z"
   },
   {
    "duration": 300,
    "start_time": "2022-04-01T08:42:17.468Z"
   },
   {
    "duration": 9,
    "start_time": "2022-04-01T08:42:17.770Z"
   },
   {
    "duration": 17,
    "start_time": "2022-04-01T08:42:17.782Z"
   },
   {
    "duration": 699,
    "start_time": "2022-04-01T08:42:17.801Z"
   },
   {
    "duration": 9,
    "start_time": "2022-04-01T08:42:18.502Z"
   },
   {
    "duration": 34,
    "start_time": "2022-04-01T08:42:18.513Z"
   },
   {
    "duration": 397,
    "start_time": "2022-04-01T08:42:18.551Z"
   },
   {
    "duration": 16,
    "start_time": "2022-04-01T08:42:18.950Z"
   },
   {
    "duration": 280,
    "start_time": "2022-04-01T08:42:18.971Z"
   },
   {
    "duration": 9,
    "start_time": "2022-04-01T08:42:19.253Z"
   },
   {
    "duration": 12,
    "start_time": "2022-04-01T08:42:19.264Z"
   },
   {
    "duration": 137708,
    "start_time": "2022-04-01T08:42:19.279Z"
   },
   {
    "duration": 473,
    "start_time": "2022-04-01T08:44:36.989Z"
   },
   {
    "duration": 9,
    "start_time": "2022-04-01T08:44:37.464Z"
   },
   {
    "duration": 41,
    "start_time": "2022-04-01T08:44:37.475Z"
   },
   {
    "duration": 730,
    "start_time": "2022-04-01T08:44:37.551Z"
   },
   {
    "duration": 67,
    "start_time": "2022-04-01T08:44:38.283Z"
   },
   {
    "duration": 328,
    "start_time": "2022-04-01T08:44:38.359Z"
   },
   {
    "duration": 20,
    "start_time": "2022-04-01T08:44:38.689Z"
   },
   {
    "duration": 7,
    "start_time": "2022-04-01T08:45:45.510Z"
   },
   {
    "duration": 13,
    "start_time": "2022-04-01T08:45:45.519Z"
   },
   {
    "duration": 83,
    "start_time": "2022-04-01T08:45:45.534Z"
   },
   {
    "duration": 25,
    "start_time": "2022-04-01T08:45:45.620Z"
   },
   {
    "duration": 27,
    "start_time": "2022-04-01T08:45:45.647Z"
   },
   {
    "duration": 27,
    "start_time": "2022-04-01T08:45:45.677Z"
   },
   {
    "duration": 5,
    "start_time": "2022-04-01T08:45:45.706Z"
   },
   {
    "duration": 45,
    "start_time": "2022-04-01T08:45:45.713Z"
   },
   {
    "duration": 20,
    "start_time": "2022-04-01T08:45:45.762Z"
   },
   {
    "duration": 184,
    "start_time": "2022-04-01T08:45:45.785Z"
   },
   {
    "duration": 20,
    "start_time": "2022-04-01T08:45:45.971Z"
   },
   {
    "duration": 5,
    "start_time": "2022-04-01T08:45:45.993Z"
   },
   {
    "duration": 57,
    "start_time": "2022-04-01T08:45:46.000Z"
   },
   {
    "duration": 6,
    "start_time": "2022-04-01T08:45:46.059Z"
   },
   {
    "duration": 13,
    "start_time": "2022-04-01T08:45:46.067Z"
   },
   {
    "duration": 11,
    "start_time": "2022-04-01T08:45:46.083Z"
   },
   {
    "duration": 27,
    "start_time": "2022-04-01T08:45:46.096Z"
   },
   {
    "duration": 52,
    "start_time": "2022-04-01T08:45:46.143Z"
   },
   {
    "duration": 365,
    "start_time": "2022-04-01T08:45:46.197Z"
   },
   {
    "duration": 10,
    "start_time": "2022-04-01T08:45:46.565Z"
   },
   {
    "duration": 12,
    "start_time": "2022-04-01T08:45:46.577Z"
   },
   {
    "duration": 15655,
    "start_time": "2022-04-01T08:45:46.591Z"
   },
   {
    "duration": 9,
    "start_time": "2022-04-01T08:46:02.248Z"
   },
   {
    "duration": 21,
    "start_time": "2022-04-01T08:46:02.262Z"
   },
   {
    "duration": 537,
    "start_time": "2022-04-01T08:46:02.285Z"
   },
   {
    "duration": 21,
    "start_time": "2022-04-01T08:46:02.824Z"
   },
   {
    "duration": 13,
    "start_time": "2022-04-01T08:46:02.847Z"
   },
   {
    "duration": 186,
    "start_time": "2022-04-01T08:46:02.863Z"
   },
   {
    "duration": 502,
    "start_time": "2022-04-01T08:46:03.052Z"
   },
   {
    "duration": 9,
    "start_time": "2022-04-01T08:46:03.556Z"
   },
   {
    "duration": 11,
    "start_time": "2022-04-01T08:46:03.568Z"
   },
   {
    "duration": 3,
    "start_time": "2022-04-01T08:46:03.581Z"
   },
   {
    "duration": 2077,
    "start_time": "2022-04-01T08:46:03.586Z"
   },
   {
    "duration": 9,
    "start_time": "2022-04-01T08:46:05.666Z"
   },
   {
    "duration": 93,
    "start_time": "2022-04-01T08:46:05.677Z"
   },
   {
    "duration": 618,
    "start_time": "2022-04-01T08:46:05.772Z"
   },
   {
    "duration": 10,
    "start_time": "2022-04-01T08:46:06.393Z"
   },
   {
    "duration": 711,
    "start_time": "2022-04-01T08:46:06.405Z"
   },
   {
    "duration": 381,
    "start_time": "2022-04-01T08:46:07.119Z"
   },
   {
    "duration": 20,
    "start_time": "2022-04-01T08:46:07.503Z"
   },
   {
    "duration": 345,
    "start_time": "2022-04-01T08:46:07.542Z"
   },
   {
    "duration": 11,
    "start_time": "2022-04-01T08:46:07.890Z"
   },
   {
    "duration": 39,
    "start_time": "2022-04-01T08:46:07.904Z"
   },
   {
    "duration": 4,
    "start_time": "2022-04-01T08:46:07.945Z"
   },
   {
    "duration": 646,
    "start_time": "2022-04-01T08:46:07.952Z"
   },
   {
    "duration": 9,
    "start_time": "2022-04-01T08:46:08.600Z"
   },
   {
    "duration": 78,
    "start_time": "2022-04-01T08:46:08.611Z"
   },
   {
    "duration": 501,
    "start_time": "2022-04-01T08:46:08.691Z"
   },
   {
    "duration": 53,
    "start_time": "2022-04-01T08:46:09.194Z"
   },
   {
    "duration": 336,
    "start_time": "2022-04-01T08:46:09.250Z"
   },
   {
    "duration": 4,
    "start_time": "2022-04-01T08:46:09.588Z"
   },
   {
    "duration": 103,
    "start_time": "2022-04-01T08:48:58.324Z"
   },
   {
    "duration": 267,
    "start_time": "2022-04-01T08:58:29.987Z"
   },
   {
    "duration": 2102,
    "start_time": "2022-04-01T09:01:40.451Z"
   },
   {
    "duration": 4,
    "start_time": "2022-04-01T09:01:42.556Z"
   },
   {
    "duration": 73,
    "start_time": "2022-04-01T09:01:42.562Z"
   },
   {
    "duration": 25,
    "start_time": "2022-04-01T09:01:42.643Z"
   },
   {
    "duration": 13,
    "start_time": "2022-04-01T09:01:42.671Z"
   },
   {
    "duration": 24,
    "start_time": "2022-04-01T09:01:42.687Z"
   },
   {
    "duration": 8,
    "start_time": "2022-04-01T09:01:42.750Z"
   },
   {
    "duration": 20,
    "start_time": "2022-04-01T09:01:42.760Z"
   },
   {
    "duration": 23,
    "start_time": "2022-04-01T09:01:42.782Z"
   },
   {
    "duration": 210,
    "start_time": "2022-04-01T09:01:42.810Z"
   },
   {
    "duration": 23,
    "start_time": "2022-04-01T09:01:43.022Z"
   },
   {
    "duration": 7,
    "start_time": "2022-04-01T09:01:43.049Z"
   },
   {
    "duration": 30,
    "start_time": "2022-04-01T09:01:43.058Z"
   },
   {
    "duration": 6,
    "start_time": "2022-04-01T09:01:43.090Z"
   },
   {
    "duration": 12,
    "start_time": "2022-04-01T09:01:43.098Z"
   },
   {
    "duration": 10,
    "start_time": "2022-04-01T09:01:43.143Z"
   },
   {
    "duration": 30,
    "start_time": "2022-04-01T09:01:43.156Z"
   },
   {
    "duration": 89,
    "start_time": "2022-04-01T09:01:43.189Z"
   },
   {
    "duration": 351,
    "start_time": "2022-04-01T09:01:43.280Z"
   },
   {
    "duration": 22,
    "start_time": "2022-04-01T09:01:43.633Z"
   },
   {
    "duration": 17,
    "start_time": "2022-04-01T09:01:43.657Z"
   },
   {
    "duration": 16288,
    "start_time": "2022-04-01T09:01:43.677Z"
   },
   {
    "duration": 10,
    "start_time": "2022-04-01T09:01:59.967Z"
   },
   {
    "duration": 21,
    "start_time": "2022-04-01T09:01:59.979Z"
   },
   {
    "duration": 863,
    "start_time": "2022-04-01T09:02:00.002Z"
   },
   {
    "duration": 9,
    "start_time": "2022-04-01T09:02:00.868Z"
   },
   {
    "duration": 82,
    "start_time": "2022-04-01T09:02:00.879Z"
   },
   {
    "duration": 95,
    "start_time": "2022-04-01T09:02:00.968Z"
   },
   {
    "duration": 619,
    "start_time": "2022-04-01T09:02:01.066Z"
   },
   {
    "duration": 11,
    "start_time": "2022-04-01T09:02:01.687Z"
   },
   {
    "duration": 22,
    "start_time": "2022-04-01T09:02:01.700Z"
   },
   {
    "duration": 28,
    "start_time": "2022-04-01T09:02:01.724Z"
   },
   {
    "duration": 1950,
    "start_time": "2022-04-01T09:02:01.755Z"
   },
   {
    "duration": 11,
    "start_time": "2022-04-01T09:02:03.708Z"
   },
   {
    "duration": 69,
    "start_time": "2022-04-01T09:02:03.748Z"
   },
   {
    "duration": 657,
    "start_time": "2022-04-01T09:02:03.820Z"
   },
   {
    "duration": 10,
    "start_time": "2022-04-01T09:02:04.479Z"
   },
   {
    "duration": 64,
    "start_time": "2022-04-01T09:02:04.491Z"
   },
   {
    "duration": 324,
    "start_time": "2022-04-01T09:02:04.562Z"
   },
   {
    "duration": 17,
    "start_time": "2022-04-01T09:02:04.888Z"
   },
   {
    "duration": 392,
    "start_time": "2022-04-01T09:02:04.907Z"
   },
   {
    "duration": 11,
    "start_time": "2022-04-01T09:02:05.302Z"
   },
   {
    "duration": 43,
    "start_time": "2022-04-01T09:02:05.316Z"
   },
   {
    "duration": 4,
    "start_time": "2022-04-01T09:02:05.361Z"
   },
   {
    "duration": 660,
    "start_time": "2022-04-01T09:02:05.368Z"
   },
   {
    "duration": 23,
    "start_time": "2022-04-01T09:02:06.031Z"
   },
   {
    "duration": 66,
    "start_time": "2022-04-01T09:02:06.059Z"
   },
   {
    "duration": 552,
    "start_time": "2022-04-01T09:02:06.143Z"
   },
   {
    "duration": 55,
    "start_time": "2022-04-01T09:02:06.697Z"
   },
   {
    "duration": 327,
    "start_time": "2022-04-01T09:02:06.758Z"
   },
   {
    "duration": 235,
    "start_time": "2022-04-01T09:02:07.088Z"
   },
   {
    "duration": 94,
    "start_time": "2022-04-01T09:02:07.325Z"
   },
   {
    "duration": 228,
    "start_time": "2022-04-01T09:02:07.421Z"
   },
   {
    "duration": 168,
    "start_time": "2022-04-01T09:19:43.228Z"
   },
   {
    "duration": 1480,
    "start_time": "2022-04-02T09:48:14.518Z"
   },
   {
    "duration": 2,
    "start_time": "2022-04-02T09:48:16.000Z"
   },
   {
    "duration": 49,
    "start_time": "2022-04-02T09:48:16.004Z"
   },
   {
    "duration": 18,
    "start_time": "2022-04-02T09:48:16.055Z"
   },
   {
    "duration": 19,
    "start_time": "2022-04-02T09:48:16.075Z"
   },
   {
    "duration": 22,
    "start_time": "2022-04-02T09:48:16.096Z"
   },
   {
    "duration": 4,
    "start_time": "2022-04-02T09:48:16.119Z"
   },
   {
    "duration": 14,
    "start_time": "2022-04-02T09:48:16.124Z"
   },
   {
    "duration": 27,
    "start_time": "2022-04-02T09:48:16.139Z"
   },
   {
    "duration": 118,
    "start_time": "2022-04-02T09:48:16.167Z"
   },
   {
    "duration": 12,
    "start_time": "2022-04-02T09:48:16.286Z"
   },
   {
    "duration": 6,
    "start_time": "2022-04-02T09:48:16.299Z"
   },
   {
    "duration": 18,
    "start_time": "2022-04-02T09:48:16.307Z"
   },
   {
    "duration": 5,
    "start_time": "2022-04-02T09:48:16.327Z"
   },
   {
    "duration": 30,
    "start_time": "2022-04-02T09:48:16.333Z"
   },
   {
    "duration": 4,
    "start_time": "2022-04-02T09:48:16.364Z"
   },
   {
    "duration": 12,
    "start_time": "2022-04-02T09:48:16.369Z"
   },
   {
    "duration": 36,
    "start_time": "2022-04-02T09:48:16.382Z"
   },
   {
    "duration": 213,
    "start_time": "2022-04-02T09:48:16.420Z"
   },
   {
    "duration": 7,
    "start_time": "2022-04-02T09:48:16.634Z"
   },
   {
    "duration": 13,
    "start_time": "2022-04-02T09:48:16.642Z"
   },
   {
    "duration": 10080,
    "start_time": "2022-04-02T09:48:16.657Z"
   },
   {
    "duration": 7,
    "start_time": "2022-04-02T09:48:26.738Z"
   },
   {
    "duration": 29,
    "start_time": "2022-04-02T09:48:26.746Z"
   },
   {
    "duration": 433,
    "start_time": "2022-04-02T09:48:26.776Z"
   },
   {
    "duration": 7,
    "start_time": "2022-04-02T09:48:27.210Z"
   },
   {
    "duration": 44,
    "start_time": "2022-04-02T09:48:27.219Z"
   },
   {
    "duration": 102,
    "start_time": "2022-04-02T09:48:27.265Z"
   },
   {
    "duration": 313,
    "start_time": "2022-04-02T09:48:27.369Z"
   },
   {
    "duration": 8,
    "start_time": "2022-04-02T09:48:27.683Z"
   },
   {
    "duration": 9,
    "start_time": "2022-04-02T09:48:27.693Z"
   },
   {
    "duration": 226425,
    "start_time": "2022-04-02T09:48:27.704Z"
   },
   {
    "duration": 1103,
    "start_time": "2022-04-02T09:52:14.131Z"
   },
   {
    "duration": 7,
    "start_time": "2022-04-02T09:52:15.236Z"
   },
   {
    "duration": 49,
    "start_time": "2022-04-02T09:52:15.262Z"
   },
   {
    "duration": 461,
    "start_time": "2022-04-02T09:52:15.313Z"
   },
   {
    "duration": 6,
    "start_time": "2022-04-02T09:52:15.775Z"
   },
   {
    "duration": 82,
    "start_time": "2022-04-02T09:52:15.783Z"
   },
   {
    "duration": 148,
    "start_time": "2022-04-02T09:52:15.963Z"
   },
   {
    "duration": 11,
    "start_time": "2022-04-02T09:52:16.112Z"
   },
   {
    "duration": 189,
    "start_time": "2022-04-02T09:52:16.128Z"
   },
   {
    "duration": 7,
    "start_time": "2022-04-02T09:52:16.318Z"
   },
   {
    "duration": 10,
    "start_time": "2022-04-02T09:52:16.326Z"
   },
   {
    "duration": 84895,
    "start_time": "2022-04-02T09:52:16.338Z"
   },
   {
    "duration": 393,
    "start_time": "2022-04-02T09:53:41.235Z"
   },
   {
    "duration": 7,
    "start_time": "2022-04-02T09:53:41.629Z"
   },
   {
    "duration": 58,
    "start_time": "2022-04-02T09:53:41.637Z"
   },
   {
    "duration": 343,
    "start_time": "2022-04-02T09:53:41.696Z"
   },
   {
    "duration": 29,
    "start_time": "2022-04-02T09:53:42.041Z"
   },
   {
    "duration": 369,
    "start_time": "2022-04-02T09:53:42.073Z"
   },
   {
    "duration": 137,
    "start_time": "2022-04-02T09:53:42.444Z"
   },
   {
    "duration": 47,
    "start_time": "2022-04-02T09:53:42.583Z"
   },
   {
    "duration": 133,
    "start_time": "2022-04-02T09:53:42.631Z"
   },
   {
    "duration": 2285,
    "start_time": "2022-04-02T10:17:16.845Z"
   },
   {
    "duration": 4,
    "start_time": "2022-04-02T10:17:19.133Z"
   },
   {
    "duration": 91,
    "start_time": "2022-04-02T10:17:19.139Z"
   },
   {
    "duration": 22,
    "start_time": "2022-04-02T10:17:19.233Z"
   },
   {
    "duration": 12,
    "start_time": "2022-04-02T10:17:19.274Z"
   },
   {
    "duration": 48,
    "start_time": "2022-04-02T10:17:19.290Z"
   },
   {
    "duration": 36,
    "start_time": "2022-04-02T10:17:19.341Z"
   },
   {
    "duration": 32,
    "start_time": "2022-04-02T10:17:19.380Z"
   },
   {
    "duration": 67,
    "start_time": "2022-04-02T10:17:19.416Z"
   },
   {
    "duration": 348,
    "start_time": "2022-04-02T10:17:19.490Z"
   },
   {
    "duration": 19,
    "start_time": "2022-04-02T10:17:19.839Z"
   },
   {
    "duration": 32,
    "start_time": "2022-04-02T10:17:19.875Z"
   },
   {
    "duration": 4,
    "start_time": "2022-04-02T10:17:19.910Z"
   },
   {
    "duration": 59,
    "start_time": "2022-04-02T10:17:19.916Z"
   },
   {
    "duration": 7,
    "start_time": "2022-04-02T10:17:19.977Z"
   },
   {
    "duration": 13,
    "start_time": "2022-04-02T10:17:19.986Z"
   },
   {
    "duration": 6,
    "start_time": "2022-04-02T10:17:20.001Z"
   },
   {
    "duration": 19,
    "start_time": "2022-04-02T10:17:20.009Z"
   },
   {
    "duration": 92,
    "start_time": "2022-04-02T10:17:20.031Z"
   },
   {
    "duration": 373,
    "start_time": "2022-04-02T10:17:20.125Z"
   },
   {
    "duration": 12,
    "start_time": "2022-04-02T10:17:20.500Z"
   },
   {
    "duration": 14,
    "start_time": "2022-04-02T10:17:20.515Z"
   },
   {
    "duration": 16776,
    "start_time": "2022-04-02T10:17:20.532Z"
   },
   {
    "duration": 9,
    "start_time": "2022-04-02T10:17:37.310Z"
   },
   {
    "duration": 39,
    "start_time": "2022-04-02T10:17:37.321Z"
   },
   {
    "duration": 726,
    "start_time": "2022-04-02T10:17:37.374Z"
   },
   {
    "duration": 10,
    "start_time": "2022-04-02T10:17:38.102Z"
   },
   {
    "duration": 65,
    "start_time": "2022-04-02T10:17:38.117Z"
   },
   {
    "duration": 25,
    "start_time": "2022-04-02T10:17:38.274Z"
   },
   {
    "duration": 500,
    "start_time": "2022-04-02T10:17:38.301Z"
   },
   {
    "duration": 11,
    "start_time": "2022-04-02T10:17:38.804Z"
   },
   {
    "duration": 12,
    "start_time": "2022-04-02T10:17:38.818Z"
   },
   {
    "duration": 41,
    "start_time": "2022-04-02T10:17:38.832Z"
   },
   {
    "duration": 1621,
    "start_time": "2022-04-02T10:17:38.876Z"
   },
   {
    "duration": 11,
    "start_time": "2022-04-02T10:17:40.500Z"
   },
   {
    "duration": 109,
    "start_time": "2022-04-02T10:17:40.514Z"
   },
   {
    "duration": 486,
    "start_time": "2022-04-02T10:17:40.626Z"
   },
   {
    "duration": 11,
    "start_time": "2022-04-02T10:17:41.115Z"
   },
   {
    "duration": 52,
    "start_time": "2022-04-02T10:17:41.128Z"
   },
   {
    "duration": 349,
    "start_time": "2022-04-02T10:17:41.183Z"
   },
   {
    "duration": 17,
    "start_time": "2022-04-02T10:17:41.534Z"
   },
   {
    "duration": 310,
    "start_time": "2022-04-02T10:17:41.554Z"
   },
   {
    "duration": 15,
    "start_time": "2022-04-02T10:17:41.866Z"
   },
   {
    "duration": 13,
    "start_time": "2022-04-02T10:17:41.883Z"
   },
   {
    "duration": 3,
    "start_time": "2022-04-02T10:17:41.898Z"
   },
   {
    "duration": 720,
    "start_time": "2022-04-02T10:17:41.903Z"
   },
   {
    "duration": 9,
    "start_time": "2022-04-02T10:17:42.625Z"
   },
   {
    "duration": 90,
    "start_time": "2022-04-02T10:17:42.639Z"
   },
   {
    "duration": 477,
    "start_time": "2022-04-02T10:17:42.731Z"
   },
   {
    "duration": 66,
    "start_time": "2022-04-02T10:17:43.210Z"
   },
   {
    "duration": 342,
    "start_time": "2022-04-02T10:17:43.280Z"
   },
   {
    "duration": 238,
    "start_time": "2022-04-02T10:17:43.624Z"
   },
   {
    "duration": 75,
    "start_time": "2022-04-02T10:17:43.864Z"
   },
   {
    "duration": 230,
    "start_time": "2022-04-02T10:17:43.941Z"
   },
   {
    "duration": 12,
    "start_time": "2022-04-02T10:18:53.346Z"
   },
   {
    "duration": 31,
    "start_time": "2022-04-02T10:21:50.354Z"
   },
   {
    "duration": 175,
    "start_time": "2022-04-02T10:24:15.172Z"
   },
   {
    "duration": 13,
    "start_time": "2022-04-02T10:24:20.841Z"
   },
   {
    "duration": 7,
    "start_time": "2022-04-02T10:24:28.396Z"
   },
   {
    "duration": 104,
    "start_time": "2022-04-02T10:25:03.497Z"
   },
   {
    "duration": 9,
    "start_time": "2022-04-02T10:25:10.392Z"
   },
   {
    "duration": 27,
    "start_time": "2022-04-02T10:25:34.475Z"
   },
   {
    "duration": 10,
    "start_time": "2022-04-02T10:25:56.406Z"
   },
   {
    "duration": 20,
    "start_time": "2022-04-02T10:26:29.939Z"
   },
   {
    "duration": 345,
    "start_time": "2022-04-02T10:26:32.931Z"
   },
   {
    "duration": 351,
    "start_time": "2022-04-02T10:26:41.844Z"
   },
   {
    "duration": 5,
    "start_time": "2022-04-02T10:26:45.873Z"
   },
   {
    "duration": 5,
    "start_time": "2022-04-02T10:26:45.881Z"
   },
   {
    "duration": 90,
    "start_time": "2022-04-02T10:26:45.888Z"
   },
   {
    "duration": 21,
    "start_time": "2022-04-02T10:26:45.981Z"
   },
   {
    "duration": 13,
    "start_time": "2022-04-02T10:26:46.005Z"
   },
   {
    "duration": 64,
    "start_time": "2022-04-02T10:26:46.020Z"
   },
   {
    "duration": 20,
    "start_time": "2022-04-02T10:26:46.087Z"
   },
   {
    "duration": 211,
    "start_time": "2022-04-02T10:26:46.109Z"
   },
   {
    "duration": 19,
    "start_time": "2022-04-02T10:26:46.323Z"
   },
   {
    "duration": 31,
    "start_time": "2022-04-02T10:26:46.344Z"
   },
   {
    "duration": 112,
    "start_time": "2022-04-02T10:26:46.377Z"
   },
   {
    "duration": 3,
    "start_time": "2022-04-02T10:26:46.492Z"
   },
   {
    "duration": 28,
    "start_time": "2022-04-02T10:26:46.497Z"
   },
   {
    "duration": 7,
    "start_time": "2022-04-02T10:26:46.527Z"
   },
   {
    "duration": 39,
    "start_time": "2022-04-02T10:26:46.535Z"
   },
   {
    "duration": 6,
    "start_time": "2022-04-02T10:26:46.576Z"
   },
   {
    "duration": 17,
    "start_time": "2022-04-02T10:26:46.584Z"
   },
   {
    "duration": 75,
    "start_time": "2022-04-02T10:26:46.604Z"
   },
   {
    "duration": 29,
    "start_time": "2022-04-02T10:26:46.681Z"
   },
   {
    "duration": 0,
    "start_time": "2022-04-02T10:26:46.713Z"
   },
   {
    "duration": 0,
    "start_time": "2022-04-02T10:26:46.715Z"
   },
   {
    "duration": 0,
    "start_time": "2022-04-02T10:26:46.716Z"
   },
   {
    "duration": 0,
    "start_time": "2022-04-02T10:26:46.718Z"
   },
   {
    "duration": 0,
    "start_time": "2022-04-02T10:26:46.719Z"
   },
   {
    "duration": 0,
    "start_time": "2022-04-02T10:26:46.720Z"
   },
   {
    "duration": 0,
    "start_time": "2022-04-02T10:26:46.721Z"
   },
   {
    "duration": 0,
    "start_time": "2022-04-02T10:26:46.723Z"
   },
   {
    "duration": 0,
    "start_time": "2022-04-02T10:26:46.724Z"
   },
   {
    "duration": 0,
    "start_time": "2022-04-02T10:26:46.725Z"
   },
   {
    "duration": 0,
    "start_time": "2022-04-02T10:26:46.726Z"
   },
   {
    "duration": 0,
    "start_time": "2022-04-02T10:26:46.727Z"
   },
   {
    "duration": 0,
    "start_time": "2022-04-02T10:26:46.728Z"
   },
   {
    "duration": 0,
    "start_time": "2022-04-02T10:26:46.729Z"
   },
   {
    "duration": 0,
    "start_time": "2022-04-02T10:26:46.730Z"
   },
   {
    "duration": 0,
    "start_time": "2022-04-02T10:26:46.732Z"
   },
   {
    "duration": 0,
    "start_time": "2022-04-02T10:26:46.774Z"
   },
   {
    "duration": 1,
    "start_time": "2022-04-02T10:26:46.775Z"
   },
   {
    "duration": 0,
    "start_time": "2022-04-02T10:26:46.777Z"
   },
   {
    "duration": 0,
    "start_time": "2022-04-02T10:26:46.778Z"
   },
   {
    "duration": 0,
    "start_time": "2022-04-02T10:26:46.779Z"
   },
   {
    "duration": 0,
    "start_time": "2022-04-02T10:26:46.780Z"
   },
   {
    "duration": 0,
    "start_time": "2022-04-02T10:26:46.782Z"
   },
   {
    "duration": 0,
    "start_time": "2022-04-02T10:26:46.783Z"
   },
   {
    "duration": 0,
    "start_time": "2022-04-02T10:26:46.784Z"
   },
   {
    "duration": 0,
    "start_time": "2022-04-02T10:26:46.786Z"
   },
   {
    "duration": 0,
    "start_time": "2022-04-02T10:26:46.787Z"
   },
   {
    "duration": 0,
    "start_time": "2022-04-02T10:26:46.788Z"
   },
   {
    "duration": 0,
    "start_time": "2022-04-02T10:26:46.790Z"
   },
   {
    "duration": 0,
    "start_time": "2022-04-02T10:26:46.791Z"
   },
   {
    "duration": 0,
    "start_time": "2022-04-02T10:26:46.792Z"
   },
   {
    "duration": 0,
    "start_time": "2022-04-02T10:26:46.793Z"
   },
   {
    "duration": 0,
    "start_time": "2022-04-02T10:26:46.795Z"
   },
   {
    "duration": 0,
    "start_time": "2022-04-02T10:26:46.796Z"
   },
   {
    "duration": 18,
    "start_time": "2022-04-02T10:27:39.042Z"
   },
   {
    "duration": 13,
    "start_time": "2022-04-02T10:27:43.907Z"
   },
   {
    "duration": 13,
    "start_time": "2022-04-02T10:27:54.416Z"
   },
   {
    "duration": 12,
    "start_time": "2022-04-02T10:29:05.871Z"
   },
   {
    "duration": 8,
    "start_time": "2022-04-02T10:31:08.891Z"
   },
   {
    "duration": 12,
    "start_time": "2022-04-02T10:31:20.903Z"
   },
   {
    "duration": 13,
    "start_time": "2022-04-02T10:31:26.294Z"
   },
   {
    "duration": 12,
    "start_time": "2022-04-02T10:32:58.530Z"
   },
   {
    "duration": 12,
    "start_time": "2022-04-02T10:33:39.296Z"
   },
   {
    "duration": 12,
    "start_time": "2022-04-02T10:35:12.179Z"
   },
   {
    "duration": 11,
    "start_time": "2022-04-02T10:37:08.695Z"
   },
   {
    "duration": 20,
    "start_time": "2022-04-02T10:37:09.458Z"
   },
   {
    "duration": 180,
    "start_time": "2022-04-02T10:37:10.454Z"
   },
   {
    "duration": 21,
    "start_time": "2022-04-02T10:37:11.158Z"
   },
   {
    "duration": 9,
    "start_time": "2022-04-02T10:37:42.694Z"
   },
   {
    "duration": 7,
    "start_time": "2022-04-02T10:37:42.707Z"
   },
   {
    "duration": 66,
    "start_time": "2022-04-02T10:37:42.716Z"
   },
   {
    "duration": 29,
    "start_time": "2022-04-02T10:37:42.787Z"
   },
   {
    "duration": 15,
    "start_time": "2022-04-02T10:37:42.818Z"
   },
   {
    "duration": 57,
    "start_time": "2022-04-02T10:37:42.835Z"
   },
   {
    "duration": 17,
    "start_time": "2022-04-02T10:37:42.896Z"
   },
   {
    "duration": 30,
    "start_time": "2022-04-02T10:37:42.916Z"
   },
   {
    "duration": 190,
    "start_time": "2022-04-02T10:37:42.974Z"
   },
   {
    "duration": 29,
    "start_time": "2022-04-02T10:37:43.176Z"
   },
   {
    "duration": 18,
    "start_time": "2022-04-02T10:38:15.108Z"
   },
   {
    "duration": 8,
    "start_time": "2022-04-02T10:42:29.082Z"
   },
   {
    "duration": 6,
    "start_time": "2022-04-02T10:42:29.094Z"
   },
   {
    "duration": 75,
    "start_time": "2022-04-02T10:42:29.103Z"
   },
   {
    "duration": 21,
    "start_time": "2022-04-02T10:42:29.181Z"
   },
   {
    "duration": 11,
    "start_time": "2022-04-02T10:42:29.205Z"
   },
   {
    "duration": 56,
    "start_time": "2022-04-02T10:42:29.219Z"
   },
   {
    "duration": 13,
    "start_time": "2022-04-02T10:42:29.278Z"
   },
   {
    "duration": 18,
    "start_time": "2022-04-02T10:42:29.294Z"
   },
   {
    "duration": 20,
    "start_time": "2022-04-02T10:42:29.314Z"
   },
   {
    "duration": 216,
    "start_time": "2022-04-02T10:42:29.336Z"
   },
   {
    "duration": 28,
    "start_time": "2022-04-02T10:42:29.554Z"
   },
   {
    "duration": 6,
    "start_time": "2022-04-02T10:42:29.584Z"
   },
   {
    "duration": 31,
    "start_time": "2022-04-02T10:42:29.592Z"
   },
   {
    "duration": 6,
    "start_time": "2022-04-02T10:42:29.626Z"
   },
   {
    "duration": 42,
    "start_time": "2022-04-02T10:42:29.634Z"
   },
   {
    "duration": 6,
    "start_time": "2022-04-02T10:42:51.382Z"
   },
   {
    "duration": 6,
    "start_time": "2022-04-02T10:42:51.394Z"
   },
   {
    "duration": 60,
    "start_time": "2022-04-02T10:42:51.402Z"
   },
   {
    "duration": 22,
    "start_time": "2022-04-02T10:42:51.474Z"
   },
   {
    "duration": 13,
    "start_time": "2022-04-02T10:42:51.500Z"
   },
   {
    "duration": 23,
    "start_time": "2022-04-02T10:42:51.515Z"
   },
   {
    "duration": 42,
    "start_time": "2022-04-02T10:42:51.540Z"
   },
   {
    "duration": 19,
    "start_time": "2022-04-02T10:42:51.584Z"
   },
   {
    "duration": 19,
    "start_time": "2022-04-02T10:42:51.605Z"
   },
   {
    "duration": 206,
    "start_time": "2022-04-02T10:42:51.626Z"
   },
   {
    "duration": 19,
    "start_time": "2022-04-02T10:42:51.835Z"
   },
   {
    "duration": 20,
    "start_time": "2022-04-02T10:42:51.856Z"
   },
   {
    "duration": 28,
    "start_time": "2022-04-02T10:42:51.878Z"
   },
   {
    "duration": 5,
    "start_time": "2022-04-02T10:42:51.908Z"
   },
   {
    "duration": 9,
    "start_time": "2022-04-02T10:42:51.916Z"
   },
   {
    "duration": 5,
    "start_time": "2022-04-02T10:42:51.927Z"
   },
   {
    "duration": 16,
    "start_time": "2022-04-02T10:42:51.974Z"
   },
   {
    "duration": 373,
    "start_time": "2022-04-02T10:45:09.346Z"
   },
   {
    "duration": 211,
    "start_time": "2022-04-02T10:45:29.503Z"
   },
   {
    "duration": 92,
    "start_time": "2022-04-02T10:47:42.667Z"
   },
   {
    "duration": 31,
    "start_time": "2022-04-02T10:47:53.722Z"
   },
   {
    "duration": 35,
    "start_time": "2022-04-02T10:48:03.848Z"
   },
   {
    "duration": 42,
    "start_time": "2022-04-02T10:48:16.712Z"
   },
   {
    "duration": 38,
    "start_time": "2022-04-02T10:48:47.047Z"
   },
   {
    "duration": 11,
    "start_time": "2022-04-02T10:49:35.467Z"
   },
   {
    "duration": 12,
    "start_time": "2022-04-02T10:50:07.541Z"
   },
   {
    "duration": 92,
    "start_time": "2022-04-02T10:53:02.787Z"
   },
   {
    "duration": 68279,
    "start_time": "2022-04-02T10:55:01.926Z"
   },
   {
    "duration": 926,
    "start_time": "2022-04-02T10:57:41.038Z"
   },
   {
    "duration": 907,
    "start_time": "2022-04-02T10:59:07.597Z"
   },
   {
    "duration": 945,
    "start_time": "2022-04-02T10:59:14.461Z"
   },
   {
    "duration": 61,
    "start_time": "2022-04-02T10:59:40.937Z"
   },
   {
    "duration": 10,
    "start_time": "2022-04-02T10:59:43.130Z"
   },
   {
    "duration": 68088,
    "start_time": "2022-04-02T11:07:08.887Z"
   },
   {
    "duration": 9,
    "start_time": "2022-04-02T11:09:00.335Z"
   },
   {
    "duration": 16,
    "start_time": "2022-04-02T11:09:01.088Z"
   },
   {
    "duration": 18,
    "start_time": "2022-04-02T11:10:53.610Z"
   },
   {
    "duration": 482,
    "start_time": "2022-04-02T11:10:59.401Z"
   },
   {
    "duration": 314,
    "start_time": "2022-04-02T11:11:20.617Z"
   },
   {
    "duration": 39,
    "start_time": "2022-04-02T11:12:40.086Z"
   },
   {
    "duration": 9,
    "start_time": "2022-04-02T11:12:48.288Z"
   },
   {
    "duration": 12,
    "start_time": "2022-04-02T11:13:29.559Z"
   },
   {
    "duration": 281,
    "start_time": "2022-04-02T11:15:38.158Z"
   },
   {
    "duration": 47,
    "start_time": "2022-04-02T11:15:45.453Z"
   },
   {
    "duration": 67103,
    "start_time": "2022-04-02T11:31:04.226Z"
   },
   {
    "duration": 94848,
    "start_time": "2022-04-02T11:33:37.287Z"
   },
   {
    "duration": 942,
    "start_time": "2022-04-02T11:36:14.904Z"
   },
   {
    "duration": 11,
    "start_time": "2022-04-02T11:36:23.540Z"
   },
   {
    "duration": 54,
    "start_time": "2022-04-02T11:36:26.436Z"
   },
   {
    "duration": 1298,
    "start_time": "2022-04-02T11:45:23.675Z"
   },
   {
    "duration": 10,
    "start_time": "2022-04-02T11:45:31.153Z"
   },
   {
    "duration": 15,
    "start_time": "2022-04-02T11:45:33.616Z"
   },
   {
    "duration": 1603,
    "start_time": "2022-04-02T11:47:56.787Z"
   },
   {
    "duration": 257,
    "start_time": "2022-04-02T11:52:14.267Z"
   },
   {
    "duration": 23,
    "start_time": "2022-04-02T11:56:10.077Z"
   },
   {
    "duration": 385,
    "start_time": "2022-04-02T11:56:17.726Z"
   },
   {
    "duration": 137,
    "start_time": "2022-04-02T11:56:22.526Z"
   },
   {
    "duration": 130,
    "start_time": "2022-04-02T11:57:07.438Z"
   },
   {
    "duration": 21,
    "start_time": "2022-04-02T11:57:27.515Z"
   },
   {
    "duration": 22,
    "start_time": "2022-04-02T11:57:34.521Z"
   },
   {
    "duration": 10,
    "start_time": "2022-04-02T11:57:40.761Z"
   },
   {
    "duration": 12,
    "start_time": "2022-04-02T11:57:44.713Z"
   },
   {
    "duration": 37572,
    "start_time": "2022-04-02T12:01:12.739Z"
   },
   {
    "duration": 63,
    "start_time": "2022-04-02T12:03:11.066Z"
   },
   {
    "duration": 10,
    "start_time": "2022-04-02T12:03:28.285Z"
   },
   {
    "duration": 17,
    "start_time": "2022-04-02T12:04:13.436Z"
   },
   {
    "duration": 968,
    "start_time": "2022-04-02T12:06:03.717Z"
   },
   {
    "duration": 19,
    "start_time": "2022-04-02T12:06:14.130Z"
   },
   {
    "duration": 340,
    "start_time": "2022-04-02T12:10:08.287Z"
   },
   {
    "duration": 219,
    "start_time": "2022-04-02T12:17:48.087Z"
   },
   {
    "duration": 43,
    "start_time": "2022-04-02T12:18:43.360Z"
   },
   {
    "duration": 229,
    "start_time": "2022-04-02T12:18:45.601Z"
   },
   {
    "duration": 43,
    "start_time": "2022-04-02T12:19:34.387Z"
   },
   {
    "duration": 10,
    "start_time": "2022-04-02T12:20:33.457Z"
   },
   {
    "duration": 16,
    "start_time": "2022-04-02T12:22:28.261Z"
   },
   {
    "duration": 43,
    "start_time": "2022-04-02T12:22:53.191Z"
   },
   {
    "duration": 12,
    "start_time": "2022-04-02T12:22:54.375Z"
   },
   {
    "duration": 20,
    "start_time": "2022-04-02T12:22:55.160Z"
   },
   {
    "duration": 16,
    "start_time": "2022-04-02T12:23:18.711Z"
   },
   {
    "duration": 7,
    "start_time": "2022-04-02T12:23:55.404Z"
   },
   {
    "duration": 18,
    "start_time": "2022-04-02T12:23:55.413Z"
   },
   {
    "duration": 83,
    "start_time": "2022-04-02T12:23:55.433Z"
   },
   {
    "duration": 21,
    "start_time": "2022-04-02T12:23:55.519Z"
   },
   {
    "duration": 34,
    "start_time": "2022-04-02T12:23:55.543Z"
   },
   {
    "duration": 27,
    "start_time": "2022-04-02T12:23:55.579Z"
   },
   {
    "duration": 12,
    "start_time": "2022-04-02T12:23:55.608Z"
   },
   {
    "duration": 18,
    "start_time": "2022-04-02T12:23:55.622Z"
   },
   {
    "duration": 56,
    "start_time": "2022-04-02T12:23:55.642Z"
   },
   {
    "duration": 205,
    "start_time": "2022-04-02T12:23:55.700Z"
   },
   {
    "duration": 19,
    "start_time": "2022-04-02T12:23:55.909Z"
   },
   {
    "duration": 9,
    "start_time": "2022-04-02T12:23:55.929Z"
   },
   {
    "duration": 52,
    "start_time": "2022-04-02T12:23:55.940Z"
   },
   {
    "duration": 6,
    "start_time": "2022-04-02T12:23:55.994Z"
   },
   {
    "duration": 11,
    "start_time": "2022-04-02T12:23:56.002Z"
   },
   {
    "duration": 6,
    "start_time": "2022-04-02T12:23:56.015Z"
   },
   {
    "duration": 22,
    "start_time": "2022-04-02T12:23:56.023Z"
   },
   {
    "duration": 60,
    "start_time": "2022-04-02T12:23:56.074Z"
   },
   {
    "duration": 225,
    "start_time": "2022-04-02T12:23:56.137Z"
   },
   {
    "duration": 39,
    "start_time": "2022-04-02T12:23:56.365Z"
   },
   {
    "duration": 13,
    "start_time": "2022-04-02T12:23:56.407Z"
   },
   {
    "duration": 14,
    "start_time": "2022-04-02T12:23:56.422Z"
   },
   {
    "duration": 69602,
    "start_time": "2022-04-02T12:23:56.479Z"
   },
   {
    "duration": 931,
    "start_time": "2022-04-02T12:25:06.084Z"
   },
   {
    "duration": 12,
    "start_time": "2022-04-02T12:25:07.018Z"
   },
   {
    "duration": 91,
    "start_time": "2022-04-02T12:25:07.033Z"
   },
   {
    "duration": 464,
    "start_time": "2022-04-02T12:25:07.127Z"
   },
   {
    "duration": 102,
    "start_time": "2022-04-02T12:25:07.594Z"
   },
   {
    "duration": 33,
    "start_time": "2022-04-02T12:25:07.780Z"
   },
   {
    "duration": 388,
    "start_time": "2022-04-02T12:25:07.815Z"
   },
   {
    "duration": 45,
    "start_time": "2022-04-02T12:25:08.205Z"
   },
   {
    "duration": 29,
    "start_time": "2022-04-02T12:25:08.253Z"
   },
   {
    "duration": 21,
    "start_time": "2022-04-02T12:25:08.285Z"
   },
   {
    "duration": 928,
    "start_time": "2022-04-02T12:25:20.827Z"
   },
   {
    "duration": 10,
    "start_time": "2022-04-02T12:25:23.268Z"
   },
   {
    "duration": 65,
    "start_time": "2022-04-02T12:25:24.074Z"
   },
   {
    "duration": 226,
    "start_time": "2022-04-02T12:25:32.153Z"
   },
   {
    "duration": 11,
    "start_time": "2022-04-02T12:25:32.869Z"
   },
   {
    "duration": 28,
    "start_time": "2022-04-02T12:25:33.060Z"
   },
   {
    "duration": 234,
    "start_time": "2022-04-02T12:25:43.109Z"
   },
   {
    "duration": 44,
    "start_time": "2022-04-02T12:25:45.029Z"
   },
   {
    "duration": 14,
    "start_time": "2022-04-02T12:25:48.020Z"
   },
   {
    "duration": 16,
    "start_time": "2022-04-02T12:25:49.384Z"
   },
   {
    "duration": 21,
    "start_time": "2022-04-02T12:28:43.340Z"
   },
   {
    "duration": 19,
    "start_time": "2022-04-02T12:29:15.720Z"
   },
   {
    "duration": 23,
    "start_time": "2022-04-02T12:29:52.855Z"
   },
   {
    "duration": 15,
    "start_time": "2022-04-02T12:30:03.591Z"
   },
   {
    "duration": 26,
    "start_time": "2022-04-02T12:30:39.287Z"
   },
   {
    "duration": 15,
    "start_time": "2022-04-02T12:31:41.522Z"
   },
   {
    "duration": 13,
    "start_time": "2022-04-02T12:32:26.302Z"
   },
   {
    "duration": 229,
    "start_time": "2022-04-02T12:37:55.568Z"
   },
   {
    "duration": 34,
    "start_time": "2022-04-02T12:38:01.525Z"
   },
   {
    "duration": 9,
    "start_time": "2022-04-02T12:38:23.391Z"
   },
   {
    "duration": 12,
    "start_time": "2022-04-02T12:38:25.388Z"
   },
   {
    "duration": 68011,
    "start_time": "2022-04-02T12:39:41.336Z"
   },
   {
    "duration": 67573,
    "start_time": "2022-04-02T12:42:00.468Z"
   },
   {
    "duration": 67205,
    "start_time": "2022-04-02T13:34:59.949Z"
   },
   {
    "duration": 465,
    "start_time": "2022-04-02T13:42:26.687Z"
   },
   {
    "duration": 453,
    "start_time": "2022-04-02T13:42:33.960Z"
   },
   {
    "duration": 53,
    "start_time": "2022-04-02T13:42:42.664Z"
   },
   {
    "duration": 47,
    "start_time": "2022-04-02T13:42:53.815Z"
   },
   {
    "duration": 46,
    "start_time": "2022-04-02T13:44:48.211Z"
   },
   {
    "duration": 51,
    "start_time": "2022-04-02T13:44:54.517Z"
   },
   {
    "duration": 10,
    "start_time": "2022-04-02T13:45:28.560Z"
   },
   {
    "duration": 18,
    "start_time": "2022-04-02T13:46:02.575Z"
   },
   {
    "duration": 260,
    "start_time": "2022-04-02T13:50:45.527Z"
   },
   {
    "duration": 9,
    "start_time": "2022-04-02T13:51:08.498Z"
   },
   {
    "duration": 38,
    "start_time": "2022-04-02T13:52:31.838Z"
   },
   {
    "duration": 13,
    "start_time": "2022-04-02T13:53:41.835Z"
   },
   {
    "duration": 16,
    "start_time": "2022-04-02T13:55:46.711Z"
   },
   {
    "duration": 12,
    "start_time": "2022-04-02T13:56:02.646Z"
   },
   {
    "duration": 16,
    "start_time": "2022-04-02T13:56:12.307Z"
   },
   {
    "duration": 242,
    "start_time": "2022-04-02T13:57:35.597Z"
   },
   {
    "duration": 2491,
    "start_time": "2022-04-02T16:37:24.235Z"
   },
   {
    "duration": 4,
    "start_time": "2022-04-02T16:37:26.729Z"
   },
   {
    "duration": 75,
    "start_time": "2022-04-02T16:37:26.743Z"
   },
   {
    "duration": 26,
    "start_time": "2022-04-02T16:37:26.821Z"
   },
   {
    "duration": 12,
    "start_time": "2022-04-02T16:37:26.849Z"
   },
   {
    "duration": 24,
    "start_time": "2022-04-02T16:37:26.863Z"
   },
   {
    "duration": 12,
    "start_time": "2022-04-02T16:37:26.889Z"
   },
   {
    "duration": 56,
    "start_time": "2022-04-02T16:37:26.903Z"
   },
   {
    "duration": 27,
    "start_time": "2022-04-02T16:37:26.961Z"
   },
   {
    "duration": 211,
    "start_time": "2022-04-02T16:37:26.994Z"
   },
   {
    "duration": 19,
    "start_time": "2022-04-02T16:37:27.207Z"
   },
   {
    "duration": 17,
    "start_time": "2022-04-02T16:37:27.228Z"
   },
   {
    "duration": 30,
    "start_time": "2022-04-02T16:37:27.247Z"
   },
   {
    "duration": 6,
    "start_time": "2022-04-02T16:37:27.279Z"
   },
   {
    "duration": 10,
    "start_time": "2022-04-02T16:37:27.287Z"
   },
   {
    "duration": 47,
    "start_time": "2022-04-02T16:37:27.299Z"
   },
   {
    "duration": 20,
    "start_time": "2022-04-02T16:37:27.349Z"
   },
   {
    "duration": 77,
    "start_time": "2022-04-02T16:37:27.372Z"
   },
   {
    "duration": 222,
    "start_time": "2022-04-02T16:37:27.452Z"
   },
   {
    "duration": 35,
    "start_time": "2022-04-02T16:37:27.677Z"
   },
   {
    "duration": 36,
    "start_time": "2022-04-02T16:37:27.715Z"
   },
   {
    "duration": 14,
    "start_time": "2022-04-02T16:37:27.754Z"
   },
   {
    "duration": 12457,
    "start_time": "2022-04-02T16:37:27.771Z"
   },
   {
    "duration": 0,
    "start_time": "2022-04-02T16:37:40.232Z"
   },
   {
    "duration": 0,
    "start_time": "2022-04-02T16:37:40.234Z"
   },
   {
    "duration": 0,
    "start_time": "2022-04-02T16:37:40.235Z"
   },
   {
    "duration": 0,
    "start_time": "2022-04-02T16:37:40.243Z"
   },
   {
    "duration": 0,
    "start_time": "2022-04-02T16:37:40.245Z"
   },
   {
    "duration": 0,
    "start_time": "2022-04-02T16:37:40.247Z"
   },
   {
    "duration": 0,
    "start_time": "2022-04-02T16:37:40.248Z"
   },
   {
    "duration": 0,
    "start_time": "2022-04-02T16:37:40.249Z"
   },
   {
    "duration": 0,
    "start_time": "2022-04-02T16:37:40.250Z"
   },
   {
    "duration": 0,
    "start_time": "2022-04-02T16:37:40.252Z"
   },
   {
    "duration": 0,
    "start_time": "2022-04-02T16:37:40.253Z"
   },
   {
    "duration": 0,
    "start_time": "2022-04-02T16:37:40.254Z"
   },
   {
    "duration": 0,
    "start_time": "2022-04-02T16:37:40.255Z"
   },
   {
    "duration": 0,
    "start_time": "2022-04-02T16:37:40.256Z"
   },
   {
    "duration": 0,
    "start_time": "2022-04-02T16:37:40.258Z"
   },
   {
    "duration": 0,
    "start_time": "2022-04-02T16:37:40.259Z"
   },
   {
    "duration": 0,
    "start_time": "2022-04-02T16:37:40.260Z"
   },
   {
    "duration": 1,
    "start_time": "2022-04-02T16:37:40.261Z"
   },
   {
    "duration": 0,
    "start_time": "2022-04-02T16:37:40.263Z"
   },
   {
    "duration": 0,
    "start_time": "2022-04-02T16:37:40.264Z"
   },
   {
    "duration": 0,
    "start_time": "2022-04-02T16:37:40.266Z"
   },
   {
    "duration": 0,
    "start_time": "2022-04-02T16:37:40.267Z"
   },
   {
    "duration": 0,
    "start_time": "2022-04-02T16:37:40.268Z"
   },
   {
    "duration": 0,
    "start_time": "2022-04-02T16:37:40.269Z"
   },
   {
    "duration": 0,
    "start_time": "2022-04-02T16:37:40.271Z"
   },
   {
    "duration": 0,
    "start_time": "2022-04-02T16:37:40.272Z"
   },
   {
    "duration": 0,
    "start_time": "2022-04-02T16:37:40.274Z"
   },
   {
    "duration": 0,
    "start_time": "2022-04-02T16:37:40.275Z"
   },
   {
    "duration": 0,
    "start_time": "2022-04-02T16:37:40.276Z"
   },
   {
    "duration": 0,
    "start_time": "2022-04-02T16:37:40.278Z"
   },
   {
    "duration": 0,
    "start_time": "2022-04-02T16:37:40.279Z"
   },
   {
    "duration": 0,
    "start_time": "2022-04-02T16:37:40.343Z"
   },
   {
    "duration": 0,
    "start_time": "2022-04-02T16:37:40.344Z"
   },
   {
    "duration": 0,
    "start_time": "2022-04-02T16:37:40.346Z"
   },
   {
    "duration": 0,
    "start_time": "2022-04-02T16:37:40.347Z"
   },
   {
    "duration": 0,
    "start_time": "2022-04-02T16:37:40.349Z"
   },
   {
    "duration": 0,
    "start_time": "2022-04-02T16:37:40.356Z"
   },
   {
    "duration": 0,
    "start_time": "2022-04-02T16:37:40.357Z"
   },
   {
    "duration": 0,
    "start_time": "2022-04-02T16:37:40.359Z"
   },
   {
    "duration": 0,
    "start_time": "2022-04-02T16:37:40.360Z"
   },
   {
    "duration": 0,
    "start_time": "2022-04-02T16:37:40.362Z"
   },
   {
    "duration": 0,
    "start_time": "2022-04-02T16:37:40.365Z"
   },
   {
    "duration": 0,
    "start_time": "2022-04-02T16:37:40.366Z"
   },
   {
    "duration": 0,
    "start_time": "2022-04-02T16:37:40.369Z"
   },
   {
    "duration": 0,
    "start_time": "2022-04-02T16:37:40.371Z"
   },
   {
    "duration": 0,
    "start_time": "2022-04-02T16:37:40.374Z"
   },
   {
    "duration": 2950,
    "start_time": "2022-04-02T16:38:02.435Z"
   },
   {
    "duration": 3,
    "start_time": "2022-04-02T16:38:05.388Z"
   },
   {
    "duration": 76,
    "start_time": "2022-04-02T16:38:05.393Z"
   },
   {
    "duration": 23,
    "start_time": "2022-04-02T16:38:05.473Z"
   },
   {
    "duration": 12,
    "start_time": "2022-04-02T16:38:05.499Z"
   },
   {
    "duration": 52,
    "start_time": "2022-04-02T16:38:05.513Z"
   },
   {
    "duration": 15,
    "start_time": "2022-04-02T16:38:05.567Z"
   },
   {
    "duration": 21,
    "start_time": "2022-04-02T16:38:05.584Z"
   },
   {
    "duration": 23,
    "start_time": "2022-04-02T16:38:05.643Z"
   },
   {
    "duration": 206,
    "start_time": "2022-04-02T16:38:05.669Z"
   },
   {
    "duration": 20,
    "start_time": "2022-04-02T16:38:05.877Z"
   },
   {
    "duration": 9,
    "start_time": "2022-04-02T16:38:05.899Z"
   },
   {
    "duration": 56,
    "start_time": "2022-04-02T16:38:05.910Z"
   },
   {
    "duration": 6,
    "start_time": "2022-04-02T16:38:05.969Z"
   },
   {
    "duration": 15,
    "start_time": "2022-04-02T16:38:05.977Z"
   },
   {
    "duration": 7,
    "start_time": "2022-04-02T16:38:05.994Z"
   },
   {
    "duration": 56,
    "start_time": "2022-04-02T16:38:06.003Z"
   },
   {
    "duration": 68,
    "start_time": "2022-04-02T16:38:06.062Z"
   },
   {
    "duration": 224,
    "start_time": "2022-04-02T16:38:06.132Z"
   },
   {
    "duration": 36,
    "start_time": "2022-04-02T16:38:06.359Z"
   },
   {
    "duration": 12,
    "start_time": "2022-04-02T16:38:06.397Z"
   },
   {
    "duration": 41,
    "start_time": "2022-04-02T16:38:06.411Z"
   },
   {
    "duration": 4,
    "start_time": "2022-04-02T16:38:06.455Z"
   },
   {
    "duration": 920,
    "start_time": "2022-04-02T16:38:06.461Z"
   },
   {
    "duration": 12,
    "start_time": "2022-04-02T16:38:07.384Z"
   },
   {
    "duration": 78,
    "start_time": "2022-04-02T16:38:07.399Z"
   },
   {
    "duration": 266,
    "start_time": "2022-04-02T16:38:07.479Z"
   },
   {
    "duration": 10,
    "start_time": "2022-04-02T16:38:07.843Z"
   },
   {
    "duration": 14,
    "start_time": "2022-04-02T16:38:07.855Z"
   },
   {
    "duration": 378,
    "start_time": "2022-04-02T16:38:07.872Z"
   },
   {
    "duration": 34,
    "start_time": "2022-04-02T16:38:08.253Z"
   },
   {
    "duration": 10,
    "start_time": "2022-04-02T16:38:08.290Z"
   },
   {
    "duration": 198,
    "start_time": "2022-04-02T16:38:08.302Z"
   },
   {
    "duration": 0,
    "start_time": "2022-04-02T16:38:08.502Z"
   },
   {
    "duration": 0,
    "start_time": "2022-04-02T16:38:08.503Z"
   },
   {
    "duration": 0,
    "start_time": "2022-04-02T16:38:08.505Z"
   },
   {
    "duration": 0,
    "start_time": "2022-04-02T16:38:08.507Z"
   },
   {
    "duration": 0,
    "start_time": "2022-04-02T16:38:08.508Z"
   },
   {
    "duration": 0,
    "start_time": "2022-04-02T16:38:08.510Z"
   },
   {
    "duration": 0,
    "start_time": "2022-04-02T16:38:08.512Z"
   },
   {
    "duration": 0,
    "start_time": "2022-04-02T16:38:08.513Z"
   },
   {
    "duration": 0,
    "start_time": "2022-04-02T16:38:08.515Z"
   },
   {
    "duration": 0,
    "start_time": "2022-04-02T16:38:08.543Z"
   },
   {
    "duration": 0,
    "start_time": "2022-04-02T16:38:08.544Z"
   },
   {
    "duration": 0,
    "start_time": "2022-04-02T16:38:08.546Z"
   },
   {
    "duration": 0,
    "start_time": "2022-04-02T16:38:08.547Z"
   },
   {
    "duration": 0,
    "start_time": "2022-04-02T16:38:08.549Z"
   },
   {
    "duration": 0,
    "start_time": "2022-04-02T16:38:08.550Z"
   },
   {
    "duration": 0,
    "start_time": "2022-04-02T16:38:08.552Z"
   },
   {
    "duration": 0,
    "start_time": "2022-04-02T16:38:08.553Z"
   },
   {
    "duration": 0,
    "start_time": "2022-04-02T16:38:08.555Z"
   },
   {
    "duration": 0,
    "start_time": "2022-04-02T16:38:08.556Z"
   },
   {
    "duration": 0,
    "start_time": "2022-04-02T16:38:08.558Z"
   },
   {
    "duration": 0,
    "start_time": "2022-04-02T16:38:08.560Z"
   },
   {
    "duration": 1,
    "start_time": "2022-04-02T16:38:08.561Z"
   },
   {
    "duration": 0,
    "start_time": "2022-04-02T16:38:08.563Z"
   },
   {
    "duration": 0,
    "start_time": "2022-04-02T16:38:08.564Z"
   },
   {
    "duration": 0,
    "start_time": "2022-04-02T16:38:08.566Z"
   },
   {
    "duration": 0,
    "start_time": "2022-04-02T16:38:08.567Z"
   },
   {
    "duration": 0,
    "start_time": "2022-04-02T16:38:08.570Z"
   },
   {
    "duration": 0,
    "start_time": "2022-04-02T16:38:08.572Z"
   },
   {
    "duration": 0,
    "start_time": "2022-04-02T16:38:08.574Z"
   },
   {
    "duration": 0,
    "start_time": "2022-04-02T16:38:08.576Z"
   },
   {
    "duration": 1,
    "start_time": "2022-04-02T16:38:08.577Z"
   },
   {
    "duration": 0,
    "start_time": "2022-04-02T16:38:08.643Z"
   },
   {
    "duration": 0,
    "start_time": "2022-04-02T16:38:08.645Z"
   },
   {
    "duration": 0,
    "start_time": "2022-04-02T16:38:08.648Z"
   },
   {
    "duration": 0,
    "start_time": "2022-04-02T16:38:08.650Z"
   },
   {
    "duration": 0,
    "start_time": "2022-04-02T16:38:08.652Z"
   },
   {
    "duration": 7,
    "start_time": "2022-04-02T16:39:07.053Z"
   },
   {
    "duration": 9,
    "start_time": "2022-04-02T16:39:07.063Z"
   },
   {
    "duration": 89,
    "start_time": "2022-04-02T16:39:07.075Z"
   },
   {
    "duration": 27,
    "start_time": "2022-04-02T16:39:07.168Z"
   },
   {
    "duration": 13,
    "start_time": "2022-04-02T16:39:07.197Z"
   },
   {
    "duration": 54,
    "start_time": "2022-04-02T16:39:07.212Z"
   },
   {
    "duration": 15,
    "start_time": "2022-04-02T16:39:07.269Z"
   },
   {
    "duration": 19,
    "start_time": "2022-04-02T16:39:07.286Z"
   },
   {
    "duration": 22,
    "start_time": "2022-04-02T16:39:07.343Z"
   },
   {
    "duration": 221,
    "start_time": "2022-04-02T16:39:07.368Z"
   },
   {
    "duration": 21,
    "start_time": "2022-04-02T16:39:07.592Z"
   },
   {
    "duration": 28,
    "start_time": "2022-04-02T16:39:07.615Z"
   },
   {
    "duration": 28,
    "start_time": "2022-04-02T16:39:07.645Z"
   },
   {
    "duration": 6,
    "start_time": "2022-04-02T16:39:07.675Z"
   },
   {
    "duration": 10,
    "start_time": "2022-04-02T16:39:07.683Z"
   },
   {
    "duration": 6,
    "start_time": "2022-04-02T16:39:07.696Z"
   },
   {
    "duration": 53,
    "start_time": "2022-04-02T16:39:07.705Z"
   },
   {
    "duration": 52,
    "start_time": "2022-04-02T16:39:07.760Z"
   },
   {
    "duration": 238,
    "start_time": "2022-04-02T16:39:07.814Z"
   },
   {
    "duration": 35,
    "start_time": "2022-04-02T16:39:08.054Z"
   },
   {
    "duration": 11,
    "start_time": "2022-04-02T16:39:08.091Z"
   },
   {
    "duration": 42,
    "start_time": "2022-04-02T16:39:08.104Z"
   },
   {
    "duration": 3,
    "start_time": "2022-04-02T16:39:08.148Z"
   },
   {
    "duration": 926,
    "start_time": "2022-04-02T16:39:08.153Z"
   },
   {
    "duration": 10,
    "start_time": "2022-04-02T16:39:09.081Z"
   },
   {
    "duration": 80,
    "start_time": "2022-04-02T16:39:09.094Z"
   },
   {
    "duration": 175,
    "start_time": "2022-04-02T16:39:09.177Z"
   },
   {
    "duration": 185,
    "start_time": "2022-04-02T16:39:09.361Z"
   },
   {
    "duration": 194,
    "start_time": "2022-04-02T16:39:09.549Z"
   },
   {
    "duration": 330,
    "start_time": "2022-04-02T16:39:09.746Z"
   },
   {
    "duration": 34,
    "start_time": "2022-04-02T16:39:10.078Z"
   },
   {
    "duration": 28,
    "start_time": "2022-04-02T16:39:10.115Z"
   },
   {
    "duration": 24,
    "start_time": "2022-04-02T16:39:10.145Z"
   },
   {
    "duration": 0,
    "start_time": "2022-04-02T16:39:10.172Z"
   },
   {
    "duration": 0,
    "start_time": "2022-04-02T16:39:10.174Z"
   },
   {
    "duration": 0,
    "start_time": "2022-04-02T16:39:10.176Z"
   },
   {
    "duration": 0,
    "start_time": "2022-04-02T16:39:10.178Z"
   },
   {
    "duration": 0,
    "start_time": "2022-04-02T16:39:10.180Z"
   },
   {
    "duration": 0,
    "start_time": "2022-04-02T16:39:10.182Z"
   },
   {
    "duration": 0,
    "start_time": "2022-04-02T16:39:10.183Z"
   },
   {
    "duration": 0,
    "start_time": "2022-04-02T16:39:10.185Z"
   },
   {
    "duration": 0,
    "start_time": "2022-04-02T16:39:10.186Z"
   },
   {
    "duration": 0,
    "start_time": "2022-04-02T16:39:10.187Z"
   },
   {
    "duration": 0,
    "start_time": "2022-04-02T16:39:10.189Z"
   },
   {
    "duration": 0,
    "start_time": "2022-04-02T16:39:10.190Z"
   },
   {
    "duration": 0,
    "start_time": "2022-04-02T16:39:10.192Z"
   },
   {
    "duration": 0,
    "start_time": "2022-04-02T16:39:10.193Z"
   },
   {
    "duration": 0,
    "start_time": "2022-04-02T16:39:10.194Z"
   },
   {
    "duration": 0,
    "start_time": "2022-04-02T16:39:10.195Z"
   },
   {
    "duration": 0,
    "start_time": "2022-04-02T16:39:10.196Z"
   },
   {
    "duration": 0,
    "start_time": "2022-04-02T16:39:10.197Z"
   },
   {
    "duration": 0,
    "start_time": "2022-04-02T16:39:10.243Z"
   },
   {
    "duration": 0,
    "start_time": "2022-04-02T16:39:10.245Z"
   },
   {
    "duration": 0,
    "start_time": "2022-04-02T16:39:10.246Z"
   },
   {
    "duration": 0,
    "start_time": "2022-04-02T16:39:10.248Z"
   },
   {
    "duration": 0,
    "start_time": "2022-04-02T16:39:10.251Z"
   },
   {
    "duration": 0,
    "start_time": "2022-04-02T16:39:10.252Z"
   },
   {
    "duration": 0,
    "start_time": "2022-04-02T16:39:10.255Z"
   },
   {
    "duration": 0,
    "start_time": "2022-04-02T16:39:10.257Z"
   },
   {
    "duration": 0,
    "start_time": "2022-04-02T16:39:10.259Z"
   },
   {
    "duration": 1,
    "start_time": "2022-04-02T16:39:10.260Z"
   },
   {
    "duration": 0,
    "start_time": "2022-04-02T16:39:10.262Z"
   },
   {
    "duration": 0,
    "start_time": "2022-04-02T16:39:10.264Z"
   },
   {
    "duration": 0,
    "start_time": "2022-04-02T16:39:10.266Z"
   },
   {
    "duration": 0,
    "start_time": "2022-04-02T16:39:10.268Z"
   },
   {
    "duration": 0,
    "start_time": "2022-04-02T16:39:10.270Z"
   },
   {
    "duration": 0,
    "start_time": "2022-04-02T16:39:10.272Z"
   },
   {
    "duration": 0,
    "start_time": "2022-04-02T16:39:10.274Z"
   },
   {
    "duration": 0,
    "start_time": "2022-04-02T16:39:10.276Z"
   },
   {
    "duration": 8,
    "start_time": "2022-04-02T16:39:54.743Z"
   },
   {
    "duration": 10,
    "start_time": "2022-04-02T16:39:54.754Z"
   },
   {
    "duration": 85,
    "start_time": "2022-04-02T16:39:54.766Z"
   },
   {
    "duration": 23,
    "start_time": "2022-04-02T16:39:54.855Z"
   },
   {
    "duration": 15,
    "start_time": "2022-04-02T16:39:54.881Z"
   },
   {
    "duration": 74,
    "start_time": "2022-04-02T16:39:54.898Z"
   },
   {
    "duration": 16,
    "start_time": "2022-04-02T16:39:54.974Z"
   },
   {
    "duration": 21,
    "start_time": "2022-04-02T16:39:55.045Z"
   },
   {
    "duration": 22,
    "start_time": "2022-04-02T16:39:55.068Z"
   },
   {
    "duration": 201,
    "start_time": "2022-04-02T16:39:55.095Z"
   },
   {
    "duration": 20,
    "start_time": "2022-04-02T16:39:55.299Z"
   },
   {
    "duration": 5,
    "start_time": "2022-04-02T16:39:55.342Z"
   },
   {
    "duration": 29,
    "start_time": "2022-04-02T16:39:55.350Z"
   },
   {
    "duration": 7,
    "start_time": "2022-04-02T16:39:55.381Z"
   },
   {
    "duration": 52,
    "start_time": "2022-04-02T16:39:55.391Z"
   },
   {
    "duration": 6,
    "start_time": "2022-04-02T16:39:55.446Z"
   },
   {
    "duration": 17,
    "start_time": "2022-04-02T16:39:55.455Z"
   },
   {
    "duration": 75,
    "start_time": "2022-04-02T16:39:55.474Z"
   },
   {
    "duration": 201,
    "start_time": "2022-04-02T16:39:55.551Z"
   },
   {
    "duration": 31,
    "start_time": "2022-04-02T16:39:55.754Z"
   },
   {
    "duration": 10,
    "start_time": "2022-04-02T16:39:55.787Z"
   },
   {
    "duration": 12,
    "start_time": "2022-04-02T16:39:55.799Z"
   },
   {
    "duration": 3,
    "start_time": "2022-04-02T16:39:55.843Z"
   },
   {
    "duration": 830,
    "start_time": "2022-04-02T16:39:55.848Z"
   },
   {
    "duration": 8,
    "start_time": "2022-04-02T16:39:56.680Z"
   },
   {
    "duration": 76,
    "start_time": "2022-04-02T16:39:56.690Z"
   },
   {
    "duration": 374,
    "start_time": "2022-04-02T16:39:56.768Z"
   },
   {
    "duration": 10,
    "start_time": "2022-04-02T16:39:57.242Z"
   },
   {
    "duration": 13,
    "start_time": "2022-04-02T16:39:57.254Z"
   },
   {
    "duration": 308,
    "start_time": "2022-04-02T16:39:57.346Z"
   },
   {
    "duration": 33,
    "start_time": "2022-04-02T16:39:57.656Z"
   },
   {
    "duration": 10,
    "start_time": "2022-04-02T16:39:57.691Z"
   },
   {
    "duration": 44,
    "start_time": "2022-04-02T16:39:57.703Z"
   },
   {
    "duration": 4,
    "start_time": "2022-04-02T16:39:57.749Z"
   },
   {
    "duration": 51,
    "start_time": "2022-04-02T16:39:57.755Z"
   },
   {
    "duration": 10,
    "start_time": "2022-04-02T16:39:57.808Z"
   },
   {
    "duration": 21,
    "start_time": "2022-04-02T16:39:57.844Z"
   },
   {
    "duration": 0,
    "start_time": "2022-04-02T16:39:57.868Z"
   },
   {
    "duration": 0,
    "start_time": "2022-04-02T16:39:57.869Z"
   },
   {
    "duration": 0,
    "start_time": "2022-04-02T16:39:57.871Z"
   },
   {
    "duration": 0,
    "start_time": "2022-04-02T16:39:57.873Z"
   },
   {
    "duration": 0,
    "start_time": "2022-04-02T16:39:57.874Z"
   },
   {
    "duration": 0,
    "start_time": "2022-04-02T16:39:57.875Z"
   },
   {
    "duration": 0,
    "start_time": "2022-04-02T16:39:57.877Z"
   },
   {
    "duration": 0,
    "start_time": "2022-04-02T16:39:57.878Z"
   },
   {
    "duration": 0,
    "start_time": "2022-04-02T16:39:57.880Z"
   },
   {
    "duration": 0,
    "start_time": "2022-04-02T16:39:57.882Z"
   },
   {
    "duration": 0,
    "start_time": "2022-04-02T16:39:57.883Z"
   },
   {
    "duration": 0,
    "start_time": "2022-04-02T16:39:57.884Z"
   },
   {
    "duration": 1,
    "start_time": "2022-04-02T16:39:57.885Z"
   },
   {
    "duration": 0,
    "start_time": "2022-04-02T16:39:57.887Z"
   },
   {
    "duration": 0,
    "start_time": "2022-04-02T16:39:57.888Z"
   },
   {
    "duration": 0,
    "start_time": "2022-04-02T16:39:57.890Z"
   },
   {
    "duration": 0,
    "start_time": "2022-04-02T16:39:57.943Z"
   },
   {
    "duration": 0,
    "start_time": "2022-04-02T16:39:57.945Z"
   },
   {
    "duration": 0,
    "start_time": "2022-04-02T16:39:57.947Z"
   },
   {
    "duration": 0,
    "start_time": "2022-04-02T16:39:57.948Z"
   },
   {
    "duration": 0,
    "start_time": "2022-04-02T16:39:57.949Z"
   },
   {
    "duration": 0,
    "start_time": "2022-04-02T16:39:57.951Z"
   },
   {
    "duration": 0,
    "start_time": "2022-04-02T16:39:57.952Z"
   },
   {
    "duration": 0,
    "start_time": "2022-04-02T16:39:57.953Z"
   },
   {
    "duration": 0,
    "start_time": "2022-04-02T16:39:57.955Z"
   },
   {
    "duration": 0,
    "start_time": "2022-04-02T16:39:57.956Z"
   },
   {
    "duration": 0,
    "start_time": "2022-04-02T16:39:57.957Z"
   },
   {
    "duration": 1,
    "start_time": "2022-04-02T16:39:57.958Z"
   },
   {
    "duration": 0,
    "start_time": "2022-04-02T16:39:57.960Z"
   },
   {
    "duration": 0,
    "start_time": "2022-04-02T16:39:57.961Z"
   },
   {
    "duration": 0,
    "start_time": "2022-04-02T16:39:57.962Z"
   },
   {
    "duration": 0,
    "start_time": "2022-04-02T16:39:57.964Z"
   },
   {
    "duration": 15,
    "start_time": "2022-04-02T16:40:36.758Z"
   },
   {
    "duration": 160,
    "start_time": "2022-04-02T16:40:40.890Z"
   },
   {
    "duration": 102,
    "start_time": "2022-04-02T16:40:41.143Z"
   },
   {
    "duration": 96,
    "start_time": "2022-04-02T16:40:41.248Z"
   },
   {
    "duration": 331,
    "start_time": "2022-04-02T16:40:41.349Z"
   },
   {
    "duration": 15,
    "start_time": "2022-04-02T16:40:41.682Z"
   },
   {
    "duration": 280,
    "start_time": "2022-04-02T16:40:41.700Z"
   },
   {
    "duration": 40,
    "start_time": "2022-04-02T16:40:41.982Z"
   },
   {
    "duration": 26,
    "start_time": "2022-04-02T16:40:42.024Z"
   },
   {
    "duration": 11,
    "start_time": "2022-04-02T16:40:42.052Z"
   },
   {
    "duration": 4,
    "start_time": "2022-04-02T16:40:42.067Z"
   },
   {
    "duration": 992,
    "start_time": "2022-04-02T16:40:42.073Z"
   },
   {
    "duration": 13,
    "start_time": "2022-04-02T16:40:43.068Z"
   },
   {
    "duration": 73,
    "start_time": "2022-04-02T16:40:43.084Z"
   },
   {
    "duration": 182,
    "start_time": "2022-04-02T16:40:43.160Z"
   },
   {
    "duration": 98,
    "start_time": "2022-04-02T16:40:43.346Z"
   },
   {
    "duration": 18,
    "start_time": "2022-04-02T16:40:43.447Z"
   },
   {
    "duration": 335,
    "start_time": "2022-04-02T16:40:43.544Z"
   },
   {
    "duration": 16,
    "start_time": "2022-04-02T16:40:43.881Z"
   },
   {
    "duration": 137,
    "start_time": "2022-04-02T16:40:43.899Z"
   },
   {
    "duration": 23,
    "start_time": "2022-04-02T16:40:44.038Z"
   },
   {
    "duration": 9,
    "start_time": "2022-04-02T16:40:44.063Z"
   },
   {
    "duration": 11,
    "start_time": "2022-04-02T16:40:44.074Z"
   },
   {
    "duration": 4,
    "start_time": "2022-04-02T16:40:44.087Z"
   },
   {
    "duration": 464,
    "start_time": "2022-04-02T16:40:44.092Z"
   },
   {
    "duration": 10,
    "start_time": "2022-04-02T16:40:44.558Z"
   },
   {
    "duration": 17,
    "start_time": "2022-04-02T16:40:44.570Z"
   },
   {
    "duration": 258,
    "start_time": "2022-04-02T16:40:44.588Z"
   },
   {
    "duration": 103,
    "start_time": "2022-04-02T16:40:44.853Z"
   },
   {
    "duration": 333,
    "start_time": "2022-04-02T16:40:45.045Z"
   },
   {
    "duration": 13,
    "start_time": "2022-04-02T16:40:45.380Z"
   },
   {
    "duration": 0,
    "start_time": "2022-04-02T16:40:45.395Z"
   },
   {
    "duration": 0,
    "start_time": "2022-04-02T16:40:45.396Z"
   },
   {
    "duration": 10,
    "start_time": "2022-04-02T16:43:44.608Z"
   },
   {
    "duration": 45,
    "start_time": "2022-04-02T17:30:22.288Z"
   },
   {
    "duration": 48,
    "start_time": "2022-04-02T17:33:11.960Z"
   },
   {
    "duration": 201,
    "start_time": "2022-04-02T17:39:40.490Z"
   },
   {
    "duration": 290,
    "start_time": "2022-04-02T17:44:42.792Z"
   },
   {
    "duration": 8,
    "start_time": "2022-04-02T17:44:48.741Z"
   },
   {
    "duration": 5,
    "start_time": "2022-04-02T17:44:48.751Z"
   },
   {
    "duration": 64,
    "start_time": "2022-04-02T17:44:48.759Z"
   },
   {
    "duration": 21,
    "start_time": "2022-04-02T17:44:48.844Z"
   },
   {
    "duration": 13,
    "start_time": "2022-04-02T17:44:48.868Z"
   },
   {
    "duration": 22,
    "start_time": "2022-04-02T17:44:48.884Z"
   },
   {
    "duration": 45,
    "start_time": "2022-04-02T17:44:48.909Z"
   },
   {
    "duration": 24,
    "start_time": "2022-04-02T17:44:48.956Z"
   },
   {
    "duration": 28,
    "start_time": "2022-04-02T17:44:48.982Z"
   },
   {
    "duration": 234,
    "start_time": "2022-04-02T17:44:49.042Z"
   },
   {
    "duration": 25,
    "start_time": "2022-04-02T17:44:49.279Z"
   },
   {
    "duration": 5,
    "start_time": "2022-04-02T17:44:49.307Z"
   },
   {
    "duration": 61,
    "start_time": "2022-04-02T17:44:49.315Z"
   },
   {
    "duration": 8,
    "start_time": "2022-04-02T17:44:49.379Z"
   },
   {
    "duration": 62,
    "start_time": "2022-04-02T17:44:49.389Z"
   },
   {
    "duration": 7,
    "start_time": "2022-04-02T17:44:49.453Z"
   },
   {
    "duration": 21,
    "start_time": "2022-04-02T17:44:49.465Z"
   },
   {
    "duration": 84,
    "start_time": "2022-04-02T17:44:49.489Z"
   },
   {
    "duration": 212,
    "start_time": "2022-04-02T17:44:49.575Z"
   },
   {
    "duration": 32,
    "start_time": "2022-04-02T17:44:49.790Z"
   },
   {
    "duration": 26,
    "start_time": "2022-04-02T17:44:49.824Z"
   },
   {
    "duration": 13,
    "start_time": "2022-04-02T17:44:49.852Z"
   },
   {
    "duration": 4,
    "start_time": "2022-04-02T17:44:49.868Z"
   },
   {
    "duration": 895,
    "start_time": "2022-04-02T17:44:49.874Z"
   },
   {
    "duration": 9,
    "start_time": "2022-04-02T17:44:50.771Z"
   },
   {
    "duration": 74,
    "start_time": "2022-04-02T17:44:50.782Z"
   },
   {
    "duration": 287,
    "start_time": "2022-04-02T17:44:50.858Z"
   },
   {
    "duration": 100,
    "start_time": "2022-04-02T17:44:51.148Z"
   },
   {
    "duration": 13,
    "start_time": "2022-04-02T17:44:51.251Z"
   },
   {
    "duration": 392,
    "start_time": "2022-04-02T17:44:51.267Z"
   },
   {
    "duration": 32,
    "start_time": "2022-04-02T17:44:51.662Z"
   },
   {
    "duration": 9,
    "start_time": "2022-04-02T17:44:51.699Z"
   },
   {
    "duration": 39,
    "start_time": "2022-04-02T17:44:51.710Z"
   },
   {
    "duration": 3,
    "start_time": "2022-04-02T17:44:51.751Z"
   },
   {
    "duration": 52,
    "start_time": "2022-04-02T17:44:51.756Z"
   },
   {
    "duration": 34,
    "start_time": "2022-04-02T17:44:51.810Z"
   },
   {
    "duration": 16,
    "start_time": "2022-04-02T17:44:51.846Z"
   },
   {
    "duration": 281,
    "start_time": "2022-04-02T17:44:51.865Z"
   },
   {
    "duration": 100,
    "start_time": "2022-04-02T17:44:52.149Z"
   },
   {
    "duration": 14,
    "start_time": "2022-04-02T17:44:52.252Z"
   },
   {
    "duration": 411,
    "start_time": "2022-04-02T17:44:52.269Z"
   },
   {
    "duration": 18,
    "start_time": "2022-04-02T17:44:52.683Z"
   },
   {
    "duration": 291,
    "start_time": "2022-04-02T17:44:52.703Z"
   },
   {
    "duration": 49,
    "start_time": "2022-04-02T17:44:52.996Z"
   },
   {
    "duration": 10,
    "start_time": "2022-04-02T17:44:53.047Z"
   },
   {
    "duration": 12,
    "start_time": "2022-04-02T17:44:53.059Z"
   },
   {
    "duration": 3,
    "start_time": "2022-04-02T17:44:53.074Z"
   },
   {
    "duration": 940,
    "start_time": "2022-04-02T17:44:53.080Z"
   },
   {
    "duration": 21,
    "start_time": "2022-04-02T17:44:54.023Z"
   },
   {
    "duration": 49,
    "start_time": "2022-04-02T17:44:54.046Z"
   },
   {
    "duration": 246,
    "start_time": "2022-04-02T17:44:54.097Z"
   },
   {
    "duration": 97,
    "start_time": "2022-04-02T17:44:54.346Z"
   },
   {
    "duration": 18,
    "start_time": "2022-04-02T17:44:54.445Z"
   },
   {
    "duration": 322,
    "start_time": "2022-04-02T17:44:54.549Z"
   },
   {
    "duration": 17,
    "start_time": "2022-04-02T17:44:54.874Z"
   },
   {
    "duration": 148,
    "start_time": "2022-04-02T17:44:54.893Z"
   },
   {
    "duration": 23,
    "start_time": "2022-04-02T17:44:55.044Z"
   },
   {
    "duration": 11,
    "start_time": "2022-04-02T17:44:55.070Z"
   },
   {
    "duration": 13,
    "start_time": "2022-04-02T17:44:55.083Z"
   },
   {
    "duration": 44,
    "start_time": "2022-04-02T17:44:55.099Z"
   },
   {
    "duration": 275,
    "start_time": "2022-04-02T17:44:55.145Z"
   },
   {
    "duration": 10,
    "start_time": "2022-04-02T17:44:55.422Z"
   },
   {
    "duration": 18,
    "start_time": "2022-04-02T17:44:55.434Z"
   },
   {
    "duration": 192,
    "start_time": "2022-04-02T17:44:55.454Z"
   },
   {
    "duration": 95,
    "start_time": "2022-04-02T17:44:55.649Z"
   },
   {
    "duration": 17,
    "start_time": "2022-04-02T17:44:55.747Z"
   },
   {
    "duration": 336,
    "start_time": "2022-04-02T17:44:55.846Z"
   },
   {
    "duration": 59,
    "start_time": "2022-04-02T17:44:56.184Z"
   },
   {
    "duration": 47,
    "start_time": "2022-04-02T17:44:56.246Z"
   },
   {
    "duration": 233,
    "start_time": "2022-04-02T17:44:56.295Z"
   },
   {
    "duration": 210,
    "start_time": "2022-04-02T17:46:48.715Z"
   },
   {
    "duration": 54,
    "start_time": "2022-04-02T17:47:48.288Z"
   },
   {
    "duration": 2632,
    "start_time": "2022-04-02T17:48:34.001Z"
   },
   {
    "duration": 7,
    "start_time": "2022-04-02T17:48:36.636Z"
   },
   {
    "duration": 109,
    "start_time": "2022-04-02T17:48:36.646Z"
   },
   {
    "duration": 27,
    "start_time": "2022-04-02T17:48:36.759Z"
   },
   {
    "duration": 15,
    "start_time": "2022-04-02T17:48:36.789Z"
   },
   {
    "duration": 45,
    "start_time": "2022-04-02T17:48:36.806Z"
   },
   {
    "duration": 13,
    "start_time": "2022-04-02T17:48:36.854Z"
   },
   {
    "duration": 18,
    "start_time": "2022-04-02T17:48:36.869Z"
   },
   {
    "duration": 22,
    "start_time": "2022-04-02T17:48:36.889Z"
   },
   {
    "duration": 192,
    "start_time": "2022-04-02T17:48:36.942Z"
   },
   {
    "duration": 22,
    "start_time": "2022-04-02T17:48:37.136Z"
   },
   {
    "duration": 5,
    "start_time": "2022-04-02T17:48:37.160Z"
   },
   {
    "duration": 26,
    "start_time": "2022-04-02T17:48:37.167Z"
   },
   {
    "duration": 6,
    "start_time": "2022-04-02T17:48:37.195Z"
   },
   {
    "duration": 47,
    "start_time": "2022-04-02T17:48:37.203Z"
   },
   {
    "duration": 7,
    "start_time": "2022-04-02T17:48:37.252Z"
   },
   {
    "duration": 24,
    "start_time": "2022-04-02T17:48:37.261Z"
   },
   {
    "duration": 80,
    "start_time": "2022-04-02T17:48:37.287Z"
   },
   {
    "duration": 213,
    "start_time": "2022-04-02T17:48:37.370Z"
   },
   {
    "duration": 33,
    "start_time": "2022-04-02T17:48:37.585Z"
   },
   {
    "duration": 27,
    "start_time": "2022-04-02T17:48:37.621Z"
   },
   {
    "duration": 12,
    "start_time": "2022-04-02T17:48:37.650Z"
   },
   {
    "duration": 65680,
    "start_time": "2022-04-02T17:48:37.664Z"
   },
   {
    "duration": 851,
    "start_time": "2022-04-02T17:49:43.346Z"
   },
   {
    "duration": 9,
    "start_time": "2022-04-02T17:49:44.199Z"
   },
   {
    "duration": 76,
    "start_time": "2022-04-02T17:49:44.210Z"
   },
   {
    "duration": 266,
    "start_time": "2022-04-02T17:49:44.289Z"
   },
   {
    "duration": 97,
    "start_time": "2022-04-02T17:49:44.655Z"
   },
   {
    "duration": 16,
    "start_time": "2022-04-02T17:49:44.755Z"
   },
   {
    "duration": 383,
    "start_time": "2022-04-02T17:49:44.845Z"
   },
   {
    "duration": 40,
    "start_time": "2022-04-02T17:49:45.230Z"
   },
   {
    "duration": 9,
    "start_time": "2022-04-02T17:49:45.272Z"
   },
   {
    "duration": 11,
    "start_time": "2022-04-02T17:49:45.284Z"
   },
   {
    "duration": 232,
    "start_time": "2022-04-02T17:49:45.298Z"
   },
   {
    "duration": 0,
    "start_time": "2022-04-02T17:49:45.533Z"
   },
   {
    "duration": 0,
    "start_time": "2022-04-02T17:49:45.534Z"
   },
   {
    "duration": 0,
    "start_time": "2022-04-02T17:49:45.536Z"
   },
   {
    "duration": 0,
    "start_time": "2022-04-02T17:49:45.543Z"
   },
   {
    "duration": 0,
    "start_time": "2022-04-02T17:49:45.545Z"
   },
   {
    "duration": 0,
    "start_time": "2022-04-02T17:49:45.546Z"
   },
   {
    "duration": 0,
    "start_time": "2022-04-02T17:49:45.548Z"
   },
   {
    "duration": 0,
    "start_time": "2022-04-02T17:49:45.549Z"
   },
   {
    "duration": 0,
    "start_time": "2022-04-02T17:49:45.551Z"
   },
   {
    "duration": 0,
    "start_time": "2022-04-02T17:49:45.553Z"
   },
   {
    "duration": 0,
    "start_time": "2022-04-02T17:49:45.554Z"
   },
   {
    "duration": 0,
    "start_time": "2022-04-02T17:49:45.556Z"
   },
   {
    "duration": 0,
    "start_time": "2022-04-02T17:49:45.557Z"
   },
   {
    "duration": 0,
    "start_time": "2022-04-02T17:49:45.559Z"
   },
   {
    "duration": 0,
    "start_time": "2022-04-02T17:49:45.561Z"
   },
   {
    "duration": 0,
    "start_time": "2022-04-02T17:49:45.562Z"
   },
   {
    "duration": 0,
    "start_time": "2022-04-02T17:49:45.564Z"
   },
   {
    "duration": 0,
    "start_time": "2022-04-02T17:49:45.565Z"
   },
   {
    "duration": 0,
    "start_time": "2022-04-02T17:49:45.567Z"
   },
   {
    "duration": 0,
    "start_time": "2022-04-02T17:49:45.568Z"
   },
   {
    "duration": 0,
    "start_time": "2022-04-02T17:49:45.569Z"
   },
   {
    "duration": 0,
    "start_time": "2022-04-02T17:49:45.570Z"
   },
   {
    "duration": 0,
    "start_time": "2022-04-02T17:49:45.572Z"
   },
   {
    "duration": 0,
    "start_time": "2022-04-02T17:49:45.573Z"
   },
   {
    "duration": 0,
    "start_time": "2022-04-02T17:49:45.574Z"
   },
   {
    "duration": 0,
    "start_time": "2022-04-02T17:49:45.576Z"
   },
   {
    "duration": 0,
    "start_time": "2022-04-02T17:49:45.577Z"
   },
   {
    "duration": 0,
    "start_time": "2022-04-02T17:49:45.579Z"
   },
   {
    "duration": 0,
    "start_time": "2022-04-02T17:49:45.643Z"
   },
   {
    "duration": 0,
    "start_time": "2022-04-02T17:49:45.645Z"
   },
   {
    "duration": 0,
    "start_time": "2022-04-02T17:49:45.646Z"
   },
   {
    "duration": 0,
    "start_time": "2022-04-02T17:49:45.647Z"
   },
   {
    "duration": 0,
    "start_time": "2022-04-02T17:49:45.649Z"
   },
   {
    "duration": 0,
    "start_time": "2022-04-02T17:49:45.651Z"
   },
   {
    "duration": 0,
    "start_time": "2022-04-02T17:49:45.652Z"
   },
   {
    "duration": 0,
    "start_time": "2022-04-02T17:49:45.654Z"
   },
   {
    "duration": 2105,
    "start_time": "2022-04-02T17:51:38.890Z"
   },
   {
    "duration": 4,
    "start_time": "2022-04-02T17:51:40.998Z"
   },
   {
    "duration": 75,
    "start_time": "2022-04-02T17:51:41.004Z"
   },
   {
    "duration": 21,
    "start_time": "2022-04-02T17:51:41.082Z"
   },
   {
    "duration": 11,
    "start_time": "2022-04-02T17:51:41.105Z"
   },
   {
    "duration": 45,
    "start_time": "2022-04-02T17:51:41.118Z"
   },
   {
    "duration": 14,
    "start_time": "2022-04-02T17:51:41.165Z"
   },
   {
    "duration": 19,
    "start_time": "2022-04-02T17:51:41.181Z"
   },
   {
    "duration": 58,
    "start_time": "2022-04-02T17:51:41.202Z"
   },
   {
    "duration": 200,
    "start_time": "2022-04-02T17:51:41.264Z"
   },
   {
    "duration": 18,
    "start_time": "2022-04-02T17:51:41.467Z"
   },
   {
    "duration": 7,
    "start_time": "2022-04-02T17:51:41.487Z"
   },
   {
    "duration": 78,
    "start_time": "2022-04-02T17:51:41.496Z"
   },
   {
    "duration": 9,
    "start_time": "2022-04-02T17:51:41.576Z"
   },
   {
    "duration": 12,
    "start_time": "2022-04-02T17:51:41.587Z"
   },
   {
    "duration": 7,
    "start_time": "2022-04-02T17:51:41.600Z"
   },
   {
    "duration": 42,
    "start_time": "2022-04-02T17:51:41.609Z"
   },
   {
    "duration": 51,
    "start_time": "2022-04-02T17:51:41.653Z"
   },
   {
    "duration": 327,
    "start_time": "2022-04-02T17:51:41.706Z"
   },
   {
    "duration": 31,
    "start_time": "2022-04-02T17:51:42.044Z"
   },
   {
    "duration": 11,
    "start_time": "2022-04-02T17:51:42.077Z"
   },
   {
    "duration": 12,
    "start_time": "2022-04-02T17:51:42.090Z"
   },
   {
    "duration": 64467,
    "start_time": "2022-04-02T17:51:42.104Z"
   },
   {
    "duration": 873,
    "start_time": "2022-04-02T17:52:46.574Z"
   },
   {
    "duration": 9,
    "start_time": "2022-04-02T17:52:47.450Z"
   },
   {
    "duration": 55,
    "start_time": "2022-04-02T17:52:47.461Z"
   },
   {
    "duration": 326,
    "start_time": "2022-04-02T17:52:47.519Z"
   },
   {
    "duration": 89,
    "start_time": "2022-04-02T17:52:47.856Z"
   },
   {
    "duration": 16,
    "start_time": "2022-04-02T17:52:47.947Z"
   },
   {
    "duration": 313,
    "start_time": "2022-04-02T17:52:48.044Z"
   },
   {
    "duration": 32,
    "start_time": "2022-04-02T17:52:48.359Z"
   },
   {
    "duration": 9,
    "start_time": "2022-04-02T17:52:48.393Z"
   },
   {
    "duration": 39,
    "start_time": "2022-04-02T17:52:48.404Z"
   },
   {
    "duration": 63412,
    "start_time": "2022-04-02T17:52:48.445Z"
   },
   {
    "duration": 48,
    "start_time": "2022-04-02T17:53:51.859Z"
   },
   {
    "duration": 34,
    "start_time": "2022-04-02T17:53:51.909Z"
   },
   {
    "duration": 15,
    "start_time": "2022-04-02T17:53:51.945Z"
   },
   {
    "duration": 382,
    "start_time": "2022-04-02T17:53:51.962Z"
   },
   {
    "duration": 101,
    "start_time": "2022-04-02T17:53:52.347Z"
   },
   {
    "duration": 94,
    "start_time": "2022-04-02T17:53:52.451Z"
   },
   {
    "duration": 417,
    "start_time": "2022-04-02T17:53:52.550Z"
   },
   {
    "duration": 19,
    "start_time": "2022-04-02T17:53:52.970Z"
   },
   {
    "duration": 362,
    "start_time": "2022-04-02T17:53:52.993Z"
   },
   {
    "duration": 52,
    "start_time": "2022-04-02T17:53:53.358Z"
   },
   {
    "duration": 35,
    "start_time": "2022-04-02T17:53:53.413Z"
   },
   {
    "duration": 15,
    "start_time": "2022-04-02T17:53:53.451Z"
   },
   {
    "duration": 91063,
    "start_time": "2022-04-02T17:53:53.468Z"
   },
   {
    "duration": 902,
    "start_time": "2022-04-02T17:55:24.533Z"
   },
   {
    "duration": 8,
    "start_time": "2022-04-02T17:55:25.443Z"
   },
   {
    "duration": 49,
    "start_time": "2022-04-02T17:55:25.453Z"
   },
   {
    "duration": 443,
    "start_time": "2022-04-02T17:55:25.505Z"
   },
   {
    "duration": 95,
    "start_time": "2022-04-02T17:55:25.954Z"
   },
   {
    "duration": 99,
    "start_time": "2022-04-02T17:55:26.051Z"
   },
   {
    "duration": 338,
    "start_time": "2022-04-02T17:55:26.154Z"
   },
   {
    "duration": 16,
    "start_time": "2022-04-02T17:55:26.494Z"
   },
   {
    "duration": 137,
    "start_time": "2022-04-02T17:55:26.513Z"
   },
   {
    "duration": 20,
    "start_time": "2022-04-02T17:55:26.652Z"
   },
   {
    "duration": 9,
    "start_time": "2022-04-02T17:55:26.675Z"
   },
   {
    "duration": 11,
    "start_time": "2022-04-02T17:55:26.686Z"
   },
   {
    "duration": 36014,
    "start_time": "2022-04-02T17:55:26.699Z"
   },
   {
    "duration": 435,
    "start_time": "2022-04-02T17:56:02.715Z"
   },
   {
    "duration": 11,
    "start_time": "2022-04-02T17:56:03.152Z"
   },
   {
    "duration": 16,
    "start_time": "2022-04-02T17:56:03.166Z"
   },
   {
    "duration": 261,
    "start_time": "2022-04-02T17:56:03.184Z"
   },
   {
    "duration": 97,
    "start_time": "2022-04-02T17:56:03.448Z"
   },
   {
    "duration": 19,
    "start_time": "2022-04-02T17:56:03.547Z"
   },
   {
    "duration": 406,
    "start_time": "2022-04-02T17:56:03.568Z"
   },
   {
    "duration": 48,
    "start_time": "2022-04-02T17:56:03.976Z"
   },
   {
    "duration": 48,
    "start_time": "2022-04-02T17:56:04.043Z"
   },
   {
    "duration": 228,
    "start_time": "2022-04-02T17:56:04.093Z"
   },
   {
    "duration": 459,
    "start_time": "2022-04-02T17:57:03.022Z"
   },
   {
    "duration": 10,
    "start_time": "2022-04-02T17:57:17.845Z"
   },
   {
    "duration": 37,
    "start_time": "2022-04-02T17:57:17.858Z"
   },
   {
    "duration": 457,
    "start_time": "2022-04-02T17:57:17.898Z"
   },
   {
    "duration": 0,
    "start_time": "2022-04-02T17:57:18.443Z"
   },
   {
    "duration": 1,
    "start_time": "2022-04-02T17:57:18.445Z"
   },
   {
    "duration": 0,
    "start_time": "2022-04-02T17:57:18.448Z"
   },
   {
    "duration": 0,
    "start_time": "2022-04-02T17:57:18.450Z"
   },
   {
    "duration": 0,
    "start_time": "2022-04-02T17:57:18.452Z"
   },
   {
    "duration": 0,
    "start_time": "2022-04-02T17:57:18.453Z"
   },
   {
    "duration": 0,
    "start_time": "2022-04-02T17:57:18.455Z"
   },
   {
    "duration": 0,
    "start_time": "2022-04-02T17:57:18.457Z"
   },
   {
    "duration": 0,
    "start_time": "2022-04-02T17:57:18.459Z"
   },
   {
    "duration": 0,
    "start_time": "2022-04-02T17:57:18.460Z"
   },
   {
    "duration": 0,
    "start_time": "2022-04-02T17:57:18.463Z"
   },
   {
    "duration": 0,
    "start_time": "2022-04-02T17:57:18.464Z"
   },
   {
    "duration": 0,
    "start_time": "2022-04-02T17:57:18.466Z"
   },
   {
    "duration": 0,
    "start_time": "2022-04-02T17:57:18.468Z"
   },
   {
    "duration": 0,
    "start_time": "2022-04-02T17:57:18.470Z"
   },
   {
    "duration": 0,
    "start_time": "2022-04-02T17:57:18.471Z"
   },
   {
    "duration": 0,
    "start_time": "2022-04-02T17:57:18.472Z"
   },
   {
    "duration": 0,
    "start_time": "2022-04-02T17:57:18.473Z"
   },
   {
    "duration": 0,
    "start_time": "2022-04-02T17:57:18.475Z"
   },
   {
    "duration": 0,
    "start_time": "2022-04-02T17:57:18.476Z"
   },
   {
    "duration": 0,
    "start_time": "2022-04-02T17:57:18.477Z"
   },
   {
    "duration": 0,
    "start_time": "2022-04-02T17:57:18.479Z"
   },
   {
    "duration": 0,
    "start_time": "2022-04-02T17:57:18.480Z"
   },
   {
    "duration": 0,
    "start_time": "2022-04-02T17:57:18.481Z"
   },
   {
    "duration": 0,
    "start_time": "2022-04-02T17:57:18.483Z"
   },
   {
    "duration": 0,
    "start_time": "2022-04-02T17:57:18.543Z"
   },
   {
    "duration": 0,
    "start_time": "2022-04-02T17:57:18.545Z"
   },
   {
    "duration": 0,
    "start_time": "2022-04-02T17:57:18.547Z"
   },
   {
    "duration": 0,
    "start_time": "2022-04-02T17:57:18.549Z"
   },
   {
    "duration": 0,
    "start_time": "2022-04-02T17:57:18.551Z"
   },
   {
    "duration": 0,
    "start_time": "2022-04-02T17:57:18.553Z"
   },
   {
    "duration": 0,
    "start_time": "2022-04-02T17:57:18.554Z"
   },
   {
    "duration": 2608,
    "start_time": "2022-04-02T17:57:33.156Z"
   },
   {
    "duration": 5,
    "start_time": "2022-04-02T17:57:35.767Z"
   },
   {
    "duration": 77,
    "start_time": "2022-04-02T17:57:35.774Z"
   },
   {
    "duration": 20,
    "start_time": "2022-04-02T17:57:35.854Z"
   },
   {
    "duration": 13,
    "start_time": "2022-04-02T17:57:35.877Z"
   },
   {
    "duration": 52,
    "start_time": "2022-04-02T17:57:35.892Z"
   },
   {
    "duration": 17,
    "start_time": "2022-04-02T17:57:35.947Z"
   },
   {
    "duration": 22,
    "start_time": "2022-04-02T17:57:35.966Z"
   },
   {
    "duration": 53,
    "start_time": "2022-04-02T17:57:35.991Z"
   },
   {
    "duration": 197,
    "start_time": "2022-04-02T17:57:36.048Z"
   },
   {
    "duration": 19,
    "start_time": "2022-04-02T17:57:36.247Z"
   },
   {
    "duration": 6,
    "start_time": "2022-04-02T17:57:36.268Z"
   },
   {
    "duration": 27,
    "start_time": "2022-04-02T17:57:36.276Z"
   },
   {
    "duration": 41,
    "start_time": "2022-04-02T17:57:36.305Z"
   },
   {
    "duration": 11,
    "start_time": "2022-04-02T17:57:36.348Z"
   },
   {
    "duration": 6,
    "start_time": "2022-04-02T17:57:36.361Z"
   },
   {
    "duration": 16,
    "start_time": "2022-04-02T17:57:36.369Z"
   },
   {
    "duration": 92,
    "start_time": "2022-04-02T17:57:36.387Z"
   },
   {
    "duration": 212,
    "start_time": "2022-04-02T17:57:36.481Z"
   },
   {
    "duration": 31,
    "start_time": "2022-04-02T17:57:36.695Z"
   },
   {
    "duration": 23,
    "start_time": "2022-04-02T17:57:36.729Z"
   },
   {
    "duration": 12,
    "start_time": "2022-04-02T17:57:36.754Z"
   },
   {
    "duration": 64903,
    "start_time": "2022-04-02T17:57:36.768Z"
   },
   {
    "duration": 876,
    "start_time": "2022-04-02T17:58:41.673Z"
   },
   {
    "duration": 9,
    "start_time": "2022-04-02T17:58:42.551Z"
   },
   {
    "duration": 80,
    "start_time": "2022-04-02T17:58:42.563Z"
   },
   {
    "duration": 204,
    "start_time": "2022-04-02T17:58:42.645Z"
   },
   {
    "duration": 11,
    "start_time": "2022-04-02T17:58:42.943Z"
   },
   {
    "duration": 190,
    "start_time": "2022-04-02T17:58:42.957Z"
   },
   {
    "duration": 313,
    "start_time": "2022-04-02T17:58:43.151Z"
   },
   {
    "duration": 43,
    "start_time": "2022-04-02T17:58:43.467Z"
   },
   {
    "duration": 33,
    "start_time": "2022-04-02T17:58:43.513Z"
   },
   {
    "duration": 16,
    "start_time": "2022-04-02T17:58:43.549Z"
   },
   {
    "duration": 66008,
    "start_time": "2022-04-02T17:58:43.568Z"
   },
   {
    "duration": 459,
    "start_time": "2022-04-02T17:59:49.579Z"
   },
   {
    "duration": 10,
    "start_time": "2022-04-02T17:59:50.043Z"
   },
   {
    "duration": 36,
    "start_time": "2022-04-02T17:59:50.056Z"
   },
   {
    "duration": 151,
    "start_time": "2022-04-02T17:59:50.094Z"
   },
   {
    "duration": 101,
    "start_time": "2022-04-02T17:59:50.249Z"
   },
   {
    "duration": 17,
    "start_time": "2022-04-02T17:59:50.353Z"
   },
   {
    "duration": 415,
    "start_time": "2022-04-02T17:59:50.373Z"
   },
   {
    "duration": 18,
    "start_time": "2022-04-02T17:59:50.790Z"
   },
   {
    "duration": 307,
    "start_time": "2022-04-02T17:59:50.812Z"
   },
   {
    "duration": 53,
    "start_time": "2022-04-02T17:59:51.122Z"
   },
   {
    "duration": 10,
    "start_time": "2022-04-02T17:59:51.177Z"
   },
   {
    "duration": 25,
    "start_time": "2022-04-02T17:59:51.189Z"
   },
   {
    "duration": 93555,
    "start_time": "2022-04-02T17:59:51.216Z"
   },
   {
    "duration": 982,
    "start_time": "2022-04-02T18:01:24.773Z"
   },
   {
    "duration": 12,
    "start_time": "2022-04-02T18:01:25.758Z"
   },
   {
    "duration": 74,
    "start_time": "2022-04-02T18:01:25.772Z"
   },
   {
    "duration": 208,
    "start_time": "2022-04-02T18:01:25.849Z"
   },
   {
    "duration": 98,
    "start_time": "2022-04-02T18:01:26.145Z"
   },
   {
    "duration": 103,
    "start_time": "2022-04-02T18:01:26.245Z"
   },
   {
    "duration": 463,
    "start_time": "2022-04-02T18:01:26.353Z"
   },
   {
    "duration": 31,
    "start_time": "2022-04-02T18:01:26.818Z"
   },
   {
    "duration": 132,
    "start_time": "2022-04-02T18:01:26.852Z"
   },
   {
    "duration": 21,
    "start_time": "2022-04-02T18:01:26.986Z"
   },
   {
    "duration": 36,
    "start_time": "2022-04-02T18:01:27.009Z"
   },
   {
    "duration": 17,
    "start_time": "2022-04-02T18:01:27.047Z"
   },
   {
    "duration": 37913,
    "start_time": "2022-04-02T18:01:27.067Z"
   },
   {
    "duration": 431,
    "start_time": "2022-04-02T18:02:04.982Z"
   },
   {
    "duration": 11,
    "start_time": "2022-04-02T18:02:05.416Z"
   },
   {
    "duration": 18,
    "start_time": "2022-04-02T18:02:05.429Z"
   },
   {
    "duration": 392,
    "start_time": "2022-04-02T18:02:05.450Z"
   },
   {
    "duration": 99,
    "start_time": "2022-04-02T18:02:05.845Z"
   },
   {
    "duration": 96,
    "start_time": "2022-04-02T18:02:05.947Z"
   },
   {
    "duration": 335,
    "start_time": "2022-04-02T18:02:06.047Z"
   },
   {
    "duration": 65,
    "start_time": "2022-04-02T18:02:06.384Z"
   },
   {
    "duration": 62,
    "start_time": "2022-04-02T18:02:06.452Z"
   },
   {
    "duration": 304,
    "start_time": "2022-04-02T18:02:06.517Z"
   },
   {
    "duration": 42,
    "start_time": "2022-04-02T18:16:09.177Z"
   },
   {
    "duration": 2121,
    "start_time": "2022-04-02T18:26:47.893Z"
   },
   {
    "duration": 4,
    "start_time": "2022-04-02T18:26:50.017Z"
   },
   {
    "duration": 91,
    "start_time": "2022-04-02T18:26:50.023Z"
   },
   {
    "duration": 30,
    "start_time": "2022-04-02T18:26:50.116Z"
   },
   {
    "duration": 15,
    "start_time": "2022-04-02T18:26:50.151Z"
   },
   {
    "duration": 34,
    "start_time": "2022-04-02T18:26:50.169Z"
   },
   {
    "duration": 46,
    "start_time": "2022-04-02T18:26:50.205Z"
   },
   {
    "duration": 26,
    "start_time": "2022-04-02T18:26:50.254Z"
   },
   {
    "duration": 20,
    "start_time": "2022-04-02T18:26:50.283Z"
   },
   {
    "duration": 219,
    "start_time": "2022-04-02T18:26:50.305Z"
   },
   {
    "duration": 27,
    "start_time": "2022-04-02T18:26:50.526Z"
   },
   {
    "duration": 7,
    "start_time": "2022-04-02T18:26:50.555Z"
   },
   {
    "duration": 41,
    "start_time": "2022-04-02T18:26:50.564Z"
   },
   {
    "duration": 37,
    "start_time": "2022-04-02T18:26:50.611Z"
   },
   {
    "duration": 16,
    "start_time": "2022-04-02T18:26:50.651Z"
   },
   {
    "duration": 7,
    "start_time": "2022-04-02T18:26:50.669Z"
   },
   {
    "duration": 25,
    "start_time": "2022-04-02T18:26:50.679Z"
   },
   {
    "duration": 56,
    "start_time": "2022-04-02T18:26:50.742Z"
   },
   {
    "duration": 227,
    "start_time": "2022-04-02T18:26:50.800Z"
   },
   {
    "duration": 42,
    "start_time": "2022-04-02T18:26:51.030Z"
   },
   {
    "duration": 13,
    "start_time": "2022-04-02T18:26:51.074Z"
   },
   {
    "duration": 12,
    "start_time": "2022-04-02T18:26:51.090Z"
   },
   {
    "duration": 3,
    "start_time": "2022-04-02T18:26:51.104Z"
   },
   {
    "duration": 976,
    "start_time": "2022-04-02T18:26:51.142Z"
   },
   {
    "duration": 10,
    "start_time": "2022-04-02T18:26:52.120Z"
   },
   {
    "duration": 59,
    "start_time": "2022-04-02T18:26:52.144Z"
   },
   {
    "duration": 243,
    "start_time": "2022-04-02T18:26:52.206Z"
   },
   {
    "duration": 103,
    "start_time": "2022-04-02T18:26:52.452Z"
   },
   {
    "duration": 17,
    "start_time": "2022-04-02T18:26:52.643Z"
   },
   {
    "duration": 309,
    "start_time": "2022-04-02T18:26:52.745Z"
   },
   {
    "duration": 31,
    "start_time": "2022-04-02T18:26:53.056Z"
   },
   {
    "duration": 10,
    "start_time": "2022-04-02T18:26:53.089Z"
   },
   {
    "duration": 42,
    "start_time": "2022-04-02T18:26:53.101Z"
   },
   {
    "duration": 4,
    "start_time": "2022-04-02T18:26:53.145Z"
   },
   {
    "duration": 457,
    "start_time": "2022-04-02T18:26:53.151Z"
   },
   {
    "duration": 11,
    "start_time": "2022-04-02T18:26:53.610Z"
   },
   {
    "duration": 52,
    "start_time": "2022-04-02T18:26:53.623Z"
   },
   {
    "duration": 174,
    "start_time": "2022-04-02T18:26:53.677Z"
   },
   {
    "duration": 99,
    "start_time": "2022-04-02T18:26:53.854Z"
   },
   {
    "duration": 101,
    "start_time": "2022-04-02T18:26:53.956Z"
   },
   {
    "duration": 342,
    "start_time": "2022-04-02T18:26:54.152Z"
   },
   {
    "duration": 21,
    "start_time": "2022-04-02T18:26:54.498Z"
   },
   {
    "duration": 392,
    "start_time": "2022-04-02T18:26:54.522Z"
   },
   {
    "duration": 57,
    "start_time": "2022-04-02T18:26:54.917Z"
   },
   {
    "duration": 11,
    "start_time": "2022-04-02T18:26:54.977Z"
   },
   {
    "duration": 11,
    "start_time": "2022-04-02T18:26:54.990Z"
   },
   {
    "duration": 4,
    "start_time": "2022-04-02T18:26:55.003Z"
   },
   {
    "duration": 927,
    "start_time": "2022-04-02T18:26:55.009Z"
   },
   {
    "duration": 11,
    "start_time": "2022-04-02T18:26:55.938Z"
   },
   {
    "duration": 45,
    "start_time": "2022-04-02T18:26:55.951Z"
   },
   {
    "duration": 651,
    "start_time": "2022-04-02T18:26:55.998Z"
   },
   {
    "duration": 100,
    "start_time": "2022-04-02T18:26:56.653Z"
   },
   {
    "duration": 92,
    "start_time": "2022-04-02T18:26:56.755Z"
   },
   {
    "duration": 329,
    "start_time": "2022-04-02T18:26:56.850Z"
   },
   {
    "duration": 16,
    "start_time": "2022-04-02T18:26:57.182Z"
   },
   {
    "duration": 144,
    "start_time": "2022-04-02T18:26:57.200Z"
   },
   {
    "duration": 21,
    "start_time": "2022-04-02T18:26:57.347Z"
   },
   {
    "duration": 10,
    "start_time": "2022-04-02T18:26:57.371Z"
   },
   {
    "duration": 12,
    "start_time": "2022-04-02T18:26:57.383Z"
   },
   {
    "duration": 3,
    "start_time": "2022-04-02T18:26:57.397Z"
   },
   {
    "duration": 220,
    "start_time": "2022-04-02T18:26:57.443Z"
   },
   {
    "duration": 12,
    "start_time": "2022-04-02T18:26:57.665Z"
   },
   {
    "duration": 34,
    "start_time": "2022-04-02T18:26:57.680Z"
   },
   {
    "duration": 202,
    "start_time": "2022-04-02T18:26:57.744Z"
   },
   {
    "duration": 100,
    "start_time": "2022-04-02T18:26:57.949Z"
   },
   {
    "duration": 94,
    "start_time": "2022-04-02T18:26:58.051Z"
   },
   {
    "duration": 327,
    "start_time": "2022-04-02T18:26:58.149Z"
   },
   {
    "duration": 46,
    "start_time": "2022-04-02T18:26:58.478Z"
   },
   {
    "duration": 47,
    "start_time": "2022-04-02T18:26:58.542Z"
   },
   {
    "duration": 200,
    "start_time": "2022-04-02T18:26:58.591Z"
   },
   {
    "duration": 0,
    "start_time": "2022-04-02T18:26:58.793Z"
   },
   {
    "duration": 0,
    "start_time": "2022-04-02T18:26:58.795Z"
   },
   {
    "duration": 44,
    "start_time": "2022-04-02T18:30:38.817Z"
   },
   {
    "duration": 41,
    "start_time": "2022-04-02T18:31:06.615Z"
   },
   {
    "duration": 57,
    "start_time": "2022-04-02T18:32:44.131Z"
   },
   {
    "duration": 58,
    "start_time": "2022-04-02T18:32:44.191Z"
   },
   {
    "duration": 0,
    "start_time": "2022-04-02T18:32:44.251Z"
   },
   {
    "duration": 0,
    "start_time": "2022-04-02T18:32:44.254Z"
   },
   {
    "duration": 36,
    "start_time": "2022-04-02T18:33:45.393Z"
   },
   {
    "duration": 41,
    "start_time": "2022-04-02T18:36:31.040Z"
   },
   {
    "duration": 33,
    "start_time": "2022-04-02T18:38:07.508Z"
   },
   {
    "duration": 44,
    "start_time": "2022-04-02T18:38:28.803Z"
   },
   {
    "duration": 42,
    "start_time": "2022-04-02T18:39:14.770Z"
   },
   {
    "duration": 56,
    "start_time": "2022-04-02T18:40:02.591Z"
   },
   {
    "duration": 55,
    "start_time": "2022-04-02T18:40:10.447Z"
   },
   {
    "duration": 41,
    "start_time": "2022-04-02T18:42:08.619Z"
   },
   {
    "duration": 138,
    "start_time": "2022-04-02T18:49:36.155Z"
   },
   {
    "duration": 213,
    "start_time": "2022-04-02T18:50:02.276Z"
   },
   {
    "duration": 219,
    "start_time": "2022-04-02T18:50:31.398Z"
   },
   {
    "duration": 2196,
    "start_time": "2022-04-02T18:52:53.778Z"
   },
   {
    "duration": 5,
    "start_time": "2022-04-02T18:52:55.977Z"
   },
   {
    "duration": 83,
    "start_time": "2022-04-02T18:52:55.984Z"
   },
   {
    "duration": 22,
    "start_time": "2022-04-02T18:52:56.070Z"
   },
   {
    "duration": 13,
    "start_time": "2022-04-02T18:52:56.094Z"
   },
   {
    "duration": 57,
    "start_time": "2022-04-02T18:52:56.110Z"
   },
   {
    "duration": 15,
    "start_time": "2022-04-02T18:52:56.169Z"
   },
   {
    "duration": 23,
    "start_time": "2022-04-02T18:52:56.187Z"
   },
   {
    "duration": 54,
    "start_time": "2022-04-02T18:52:56.213Z"
   },
   {
    "duration": 198,
    "start_time": "2022-04-02T18:52:56.270Z"
   },
   {
    "duration": 19,
    "start_time": "2022-04-02T18:52:56.470Z"
   },
   {
    "duration": 7,
    "start_time": "2022-04-02T18:52:56.492Z"
   },
   {
    "duration": 66,
    "start_time": "2022-04-02T18:52:56.502Z"
   },
   {
    "duration": 8,
    "start_time": "2022-04-02T18:52:56.571Z"
   },
   {
    "duration": 12,
    "start_time": "2022-04-02T18:52:56.581Z"
   },
   {
    "duration": 6,
    "start_time": "2022-04-02T18:52:56.596Z"
   },
   {
    "duration": 53,
    "start_time": "2022-04-02T18:52:56.605Z"
   },
   {
    "duration": 89,
    "start_time": "2022-04-02T18:52:56.661Z"
   },
   {
    "duration": 279,
    "start_time": "2022-04-02T18:52:56.753Z"
   },
   {
    "duration": 33,
    "start_time": "2022-04-02T18:52:57.042Z"
   },
   {
    "duration": 10,
    "start_time": "2022-04-02T18:52:57.078Z"
   },
   {
    "duration": 12,
    "start_time": "2022-04-02T18:52:57.091Z"
   },
   {
    "duration": 4,
    "start_time": "2022-04-02T18:52:57.105Z"
   },
   {
    "duration": 882,
    "start_time": "2022-04-02T18:52:57.143Z"
   },
   {
    "duration": 18,
    "start_time": "2022-04-02T18:52:58.027Z"
   },
   {
    "duration": 57,
    "start_time": "2022-04-02T18:52:58.048Z"
   },
   {
    "duration": 237,
    "start_time": "2022-04-02T18:52:58.107Z"
   },
   {
    "duration": 91,
    "start_time": "2022-04-02T18:52:58.354Z"
   },
   {
    "duration": 96,
    "start_time": "2022-04-02T18:52:58.448Z"
   },
   {
    "duration": 311,
    "start_time": "2022-04-02T18:52:58.548Z"
   },
   {
    "duration": 42,
    "start_time": "2022-04-02T18:52:58.862Z"
   },
   {
    "duration": 36,
    "start_time": "2022-04-02T18:52:58.907Z"
   },
   {
    "duration": 15,
    "start_time": "2022-04-02T18:52:58.945Z"
   },
   {
    "duration": 4,
    "start_time": "2022-04-02T18:52:58.963Z"
   },
   {
    "duration": 623,
    "start_time": "2022-04-02T18:52:58.970Z"
   },
   {
    "duration": 12,
    "start_time": "2022-04-02T18:52:59.596Z"
   },
   {
    "duration": 65,
    "start_time": "2022-04-02T18:52:59.610Z"
   },
   {
    "duration": 179,
    "start_time": "2022-04-02T18:52:59.677Z"
   },
   {
    "duration": 12,
    "start_time": "2022-04-02T18:52:59.944Z"
   },
   {
    "duration": 17,
    "start_time": "2022-04-02T18:53:00.044Z"
   },
   {
    "duration": 354,
    "start_time": "2022-04-02T18:53:00.142Z"
   },
   {
    "duration": 17,
    "start_time": "2022-04-02T18:53:00.498Z"
   },
   {
    "duration": 290,
    "start_time": "2022-04-02T18:53:00.517Z"
   },
   {
    "duration": 55,
    "start_time": "2022-04-02T18:53:00.809Z"
   },
   {
    "duration": 12,
    "start_time": "2022-04-02T18:53:00.867Z"
   },
   {
    "duration": 13,
    "start_time": "2022-04-02T18:53:00.881Z"
   },
   {
    "duration": 8,
    "start_time": "2022-04-02T18:53:00.896Z"
   },
   {
    "duration": 1094,
    "start_time": "2022-04-02T18:53:00.906Z"
   },
   {
    "duration": 11,
    "start_time": "2022-04-02T18:53:02.002Z"
   },
   {
    "duration": 80,
    "start_time": "2022-04-02T18:53:02.015Z"
   },
   {
    "duration": 246,
    "start_time": "2022-04-02T18:53:02.098Z"
   },
   {
    "duration": 96,
    "start_time": "2022-04-02T18:53:02.347Z"
   },
   {
    "duration": 15,
    "start_time": "2022-04-02T18:53:02.446Z"
   },
   {
    "duration": 483,
    "start_time": "2022-04-02T18:53:02.464Z"
   },
   {
    "duration": 18,
    "start_time": "2022-04-02T18:53:02.949Z"
   },
   {
    "duration": 148,
    "start_time": "2022-04-02T18:53:02.969Z"
   },
   {
    "duration": 30,
    "start_time": "2022-04-02T18:53:03.120Z"
   },
   {
    "duration": 10,
    "start_time": "2022-04-02T18:53:03.153Z"
   },
   {
    "duration": 11,
    "start_time": "2022-04-02T18:53:03.165Z"
   },
   {
    "duration": 4,
    "start_time": "2022-04-02T18:53:03.178Z"
   },
   {
    "duration": 260,
    "start_time": "2022-04-02T18:53:03.184Z"
   },
   {
    "duration": 11,
    "start_time": "2022-04-02T18:53:03.446Z"
   },
   {
    "duration": 40,
    "start_time": "2022-04-02T18:53:03.459Z"
   },
   {
    "duration": 147,
    "start_time": "2022-04-02T18:53:03.501Z"
   },
   {
    "duration": 101,
    "start_time": "2022-04-02T18:53:03.651Z"
   },
   {
    "duration": 95,
    "start_time": "2022-04-02T18:53:03.755Z"
   },
   {
    "duration": 424,
    "start_time": "2022-04-02T18:53:03.852Z"
   },
   {
    "duration": 47,
    "start_time": "2022-04-02T18:53:04.279Z"
   },
   {
    "duration": 70,
    "start_time": "2022-04-02T18:53:04.328Z"
   },
   {
    "duration": 308,
    "start_time": "2022-04-02T18:53:04.400Z"
   },
   {
    "duration": 0,
    "start_time": "2022-04-02T18:53:04.710Z"
   },
   {
    "duration": 0,
    "start_time": "2022-04-02T18:53:04.713Z"
   },
   {
    "duration": 255,
    "start_time": "2022-04-02T18:55:56.572Z"
   },
   {
    "duration": 34,
    "start_time": "2022-04-02T18:55:58.704Z"
   },
   {
    "duration": 41,
    "start_time": "2022-04-02T18:56:05.769Z"
   },
   {
    "duration": 225,
    "start_time": "2022-04-02T18:56:07.930Z"
   },
   {
    "duration": 216,
    "start_time": "2022-04-02T18:59:30.611Z"
   },
   {
    "duration": 1481,
    "start_time": "2022-04-03T06:46:47.253Z"
   },
   {
    "duration": 3,
    "start_time": "2022-04-03T06:46:48.736Z"
   },
   {
    "duration": 60,
    "start_time": "2022-04-03T06:46:48.740Z"
   },
   {
    "duration": 15,
    "start_time": "2022-04-03T06:46:48.802Z"
   },
   {
    "duration": 12,
    "start_time": "2022-04-03T06:46:48.819Z"
   },
   {
    "duration": 17,
    "start_time": "2022-04-03T06:46:48.838Z"
   },
   {
    "duration": 10,
    "start_time": "2022-04-03T06:46:48.857Z"
   },
   {
    "duration": 13,
    "start_time": "2022-04-03T06:46:48.869Z"
   },
   {
    "duration": 15,
    "start_time": "2022-04-03T06:46:48.884Z"
   },
   {
    "duration": 123,
    "start_time": "2022-04-03T06:46:48.937Z"
   },
   {
    "duration": 13,
    "start_time": "2022-04-03T06:46:49.062Z"
   },
   {
    "duration": 5,
    "start_time": "2022-04-03T06:46:49.077Z"
   },
   {
    "duration": 20,
    "start_time": "2022-04-03T06:46:49.084Z"
   },
   {
    "duration": 31,
    "start_time": "2022-04-03T06:46:49.106Z"
   },
   {
    "duration": 10,
    "start_time": "2022-04-03T06:46:49.139Z"
   },
   {
    "duration": 4,
    "start_time": "2022-04-03T06:46:49.151Z"
   },
   {
    "duration": 13,
    "start_time": "2022-04-03T06:46:49.157Z"
   },
   {
    "duration": 36,
    "start_time": "2022-04-03T06:46:49.171Z"
   },
   {
    "duration": 165,
    "start_time": "2022-04-03T06:46:49.209Z"
   },
   {
    "duration": 23,
    "start_time": "2022-04-03T06:46:49.376Z"
   },
   {
    "duration": 8,
    "start_time": "2022-04-03T06:46:49.400Z"
   },
   {
    "duration": 30,
    "start_time": "2022-04-03T06:46:49.409Z"
   },
   {
    "duration": 42502,
    "start_time": "2022-04-03T06:46:49.441Z"
   },
   {
    "duration": 596,
    "start_time": "2022-04-03T06:47:31.945Z"
   },
   {
    "duration": 5,
    "start_time": "2022-04-03T06:47:32.543Z"
   },
   {
    "duration": 53,
    "start_time": "2022-04-03T06:47:32.550Z"
   },
   {
    "duration": 235,
    "start_time": "2022-04-03T06:47:32.605Z"
   },
   {
    "duration": 96,
    "start_time": "2022-04-03T06:47:32.846Z"
   },
   {
    "duration": 14,
    "start_time": "2022-04-03T06:47:32.944Z"
   },
   {
    "duration": 330,
    "start_time": "2022-04-03T06:47:32.960Z"
   },
   {
    "duration": 22,
    "start_time": "2022-04-03T06:47:33.292Z"
   },
   {
    "duration": 23,
    "start_time": "2022-04-03T06:47:33.316Z"
   },
   {
    "duration": 9,
    "start_time": "2022-04-03T06:47:33.340Z"
   },
   {
    "duration": 42102,
    "start_time": "2022-04-03T06:47:33.350Z"
   },
   {
    "duration": 295,
    "start_time": "2022-04-03T06:48:15.454Z"
   },
   {
    "duration": 7,
    "start_time": "2022-04-03T06:48:15.751Z"
   },
   {
    "duration": 31,
    "start_time": "2022-04-03T06:48:15.760Z"
   },
   {
    "duration": 246,
    "start_time": "2022-04-03T06:48:15.793Z"
   },
   {
    "duration": 98,
    "start_time": "2022-04-03T06:48:16.041Z"
   },
   {
    "duration": 14,
    "start_time": "2022-04-03T06:48:16.141Z"
   },
   {
    "duration": 338,
    "start_time": "2022-04-03T06:48:16.158Z"
   },
   {
    "duration": 12,
    "start_time": "2022-04-03T06:48:16.499Z"
   },
   {
    "duration": 197,
    "start_time": "2022-04-03T06:48:16.513Z"
   },
   {
    "duration": 36,
    "start_time": "2022-04-03T06:48:16.712Z"
   },
   {
    "duration": 7,
    "start_time": "2022-04-03T06:48:16.749Z"
   },
   {
    "duration": 8,
    "start_time": "2022-04-03T06:48:16.758Z"
   },
   {
    "duration": 57064,
    "start_time": "2022-04-03T06:48:16.768Z"
   },
   {
    "duration": 610,
    "start_time": "2022-04-03T06:49:13.833Z"
   },
   {
    "duration": 8,
    "start_time": "2022-04-03T06:49:14.445Z"
   },
   {
    "duration": 41,
    "start_time": "2022-04-03T06:49:14.454Z"
   },
   {
    "duration": 247,
    "start_time": "2022-04-03T06:49:14.498Z"
   },
   {
    "duration": 93,
    "start_time": "2022-04-03T06:49:14.748Z"
   },
   {
    "duration": 109,
    "start_time": "2022-04-03T06:49:14.843Z"
   },
   {
    "duration": 336,
    "start_time": "2022-04-03T06:49:14.955Z"
   },
   {
    "duration": 12,
    "start_time": "2022-04-03T06:49:15.292Z"
   },
   {
    "duration": 93,
    "start_time": "2022-04-03T06:49:15.305Z"
   },
   {
    "duration": 14,
    "start_time": "2022-04-03T06:49:15.400Z"
   },
   {
    "duration": 23,
    "start_time": "2022-04-03T06:49:15.416Z"
   },
   {
    "duration": 9,
    "start_time": "2022-04-03T06:49:15.441Z"
   },
   {
    "duration": 24356,
    "start_time": "2022-04-03T06:49:15.451Z"
   },
   {
    "duration": 152,
    "start_time": "2022-04-03T06:49:39.809Z"
   },
   {
    "duration": 7,
    "start_time": "2022-04-03T06:49:39.962Z"
   },
   {
    "duration": 27,
    "start_time": "2022-04-03T06:49:39.970Z"
   },
   {
    "duration": 240,
    "start_time": "2022-04-03T06:49:39.999Z"
   },
   {
    "duration": 102,
    "start_time": "2022-04-03T06:49:40.241Z"
   },
   {
    "duration": 12,
    "start_time": "2022-04-03T06:49:40.344Z"
   },
   {
    "duration": 257,
    "start_time": "2022-04-03T06:49:40.438Z"
   },
   {
    "duration": 49,
    "start_time": "2022-04-03T06:49:40.698Z"
   },
   {
    "duration": 40,
    "start_time": "2022-04-03T06:49:40.750Z"
   },
   {
    "duration": 157,
    "start_time": "2022-04-03T06:49:40.792Z"
   },
   {
    "duration": 106,
    "start_time": "2022-04-03T07:48:11.116Z"
   },
   {
    "duration": 15,
    "start_time": "2022-04-03T07:48:36.284Z"
   },
   {
    "duration": 12,
    "start_time": "2022-04-03T07:52:47.645Z"
   },
   {
    "duration": 1277,
    "start_time": "2022-08-12T09:10:15.262Z"
   },
   {
    "duration": 3,
    "start_time": "2022-08-12T09:10:16.541Z"
   },
   {
    "duration": 200,
    "start_time": "2022-08-12T09:10:16.545Z"
   },
   {
    "duration": 14,
    "start_time": "2022-08-12T09:10:16.747Z"
   },
   {
    "duration": 16,
    "start_time": "2022-08-12T09:10:16.762Z"
   },
   {
    "duration": 18,
    "start_time": "2022-08-12T09:10:16.780Z"
   },
   {
    "duration": 15,
    "start_time": "2022-08-12T09:10:16.800Z"
   },
   {
    "duration": 12,
    "start_time": "2022-08-12T09:10:16.816Z"
   },
   {
    "duration": 26,
    "start_time": "2022-08-12T09:10:16.829Z"
   },
   {
    "duration": 108,
    "start_time": "2022-08-12T09:10:16.858Z"
   },
   {
    "duration": 12,
    "start_time": "2022-08-12T09:10:16.968Z"
   },
   {
    "duration": 12,
    "start_time": "2022-08-12T09:10:16.981Z"
   },
   {
    "duration": 20,
    "start_time": "2022-08-12T09:10:16.995Z"
   },
   {
    "duration": 5,
    "start_time": "2022-08-12T09:10:17.016Z"
   },
   {
    "duration": 7,
    "start_time": "2022-08-12T09:10:17.023Z"
   },
   {
    "duration": 25,
    "start_time": "2022-08-12T09:10:17.032Z"
   },
   {
    "duration": 15,
    "start_time": "2022-08-12T09:10:17.059Z"
   },
   {
    "duration": 30,
    "start_time": "2022-08-12T09:10:17.075Z"
   },
   {
    "duration": 134,
    "start_time": "2022-08-12T09:10:17.107Z"
   },
   {
    "duration": 26,
    "start_time": "2022-08-12T09:10:17.243Z"
   },
   {
    "duration": 11,
    "start_time": "2022-08-12T09:10:17.271Z"
   },
   {
    "duration": 17,
    "start_time": "2022-08-12T09:10:17.283Z"
   },
   {
    "duration": 39678,
    "start_time": "2022-08-12T09:10:17.301Z"
   },
   {
    "duration": 598,
    "start_time": "2022-08-12T09:10:56.981Z"
   },
   {
    "duration": 6,
    "start_time": "2022-08-12T09:10:57.580Z"
   },
   {
    "duration": 51,
    "start_time": "2022-08-12T09:10:57.587Z"
   },
   {
    "duration": 216,
    "start_time": "2022-08-12T09:10:57.640Z"
   },
   {
    "duration": 8,
    "start_time": "2022-08-12T09:10:57.860Z"
   },
   {
    "duration": 100,
    "start_time": "2022-08-12T09:10:57.869Z"
   },
   {
    "duration": 310,
    "start_time": "2022-08-12T09:10:57.971Z"
   },
   {
    "duration": 18,
    "start_time": "2022-08-12T09:10:58.283Z"
   },
   {
    "duration": 5,
    "start_time": "2022-08-12T09:10:58.303Z"
   },
   {
    "duration": 18,
    "start_time": "2022-08-12T09:10:58.309Z"
   },
   {
    "duration": 39682,
    "start_time": "2022-08-12T09:10:58.329Z"
   },
   {
    "duration": 293,
    "start_time": "2022-08-12T09:11:38.013Z"
   },
   {
    "duration": 7,
    "start_time": "2022-08-12T09:11:38.308Z"
   },
   {
    "duration": 26,
    "start_time": "2022-08-12T09:11:45.883Z"
   },
   {
    "duration": 4,
    "start_time": "2022-08-12T09:11:54.542Z"
   }
  ],
  "kernelspec": {
   "display_name": "Python 3 (ipykernel)",
   "language": "python",
   "name": "python3"
  },
  "language_info": {
   "codemirror_mode": {
    "name": "ipython",
    "version": 3
   },
   "file_extension": ".py",
   "mimetype": "text/x-python",
   "name": "python",
   "nbconvert_exporter": "python",
   "pygments_lexer": "ipython3",
   "version": "3.9.7"
  },
  "toc": {
   "base_numbering": 1,
   "nav_menu": {},
   "number_sections": true,
   "sideBar": true,
   "skip_h1_title": true,
   "title_cell": "Содержание",
   "title_sidebar": "Contents",
   "toc_cell": true,
   "toc_position": {
    "height": "calc(100% - 180px)",
    "left": "10px",
    "top": "150px",
    "width": "351px"
   },
   "toc_section_display": true,
   "toc_window_display": true
  }
 },
 "nbformat": 4,
 "nbformat_minor": 2
}
