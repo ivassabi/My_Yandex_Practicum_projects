{
 "cells": [
  {
   "cell_type": "markdown",
   "id": "eb837047",
   "metadata": {
    "toc": true
   },
   "source": [
    "<h1>Содержание<span class=\"tocSkip\"></span></h1>\n",
    "<div class=\"toc\"><ul class=\"toc-item\"><li><span><a href=\"#Ознакомление-с-данными\" data-toc-modified-id=\"Ознакомление-с-данными-1\"><span class=\"toc-item-num\">1&nbsp;&nbsp;</span>Ознакомление с данными</a></span><ul class=\"toc-item\"><li><span><a href=\"#Вывод:\" data-toc-modified-id=\"Вывод:-1.1\"><span class=\"toc-item-num\">1.1&nbsp;&nbsp;</span>Вывод:</a></span></li></ul></li><li><span><a href=\"#Предобработка-данных\" data-toc-modified-id=\"Предобработка-данных-2\"><span class=\"toc-item-num\">2&nbsp;&nbsp;</span>Предобработка данных</a></span></li><li><span><a href=\"#Исследовательский-анализ-данных\" data-toc-modified-id=\"Исследовательский-анализ-данных-3\"><span class=\"toc-item-num\">3&nbsp;&nbsp;</span>Исследовательский анализ данных</a></span><ul class=\"toc-item\"><li><span><a href=\"#Вывод\" data-toc-modified-id=\"Вывод-3.1\"><span class=\"toc-item-num\">3.1&nbsp;&nbsp;</span>Вывод</a></span></li></ul></li><li><span><a href=\"#Подготовка-данных\" data-toc-modified-id=\"Подготовка-данных-4\"><span class=\"toc-item-num\">4&nbsp;&nbsp;</span>Подготовка данных</a></span><ul class=\"toc-item\"><li><span><a href=\"#One-Hot-Encoder\" data-toc-modified-id=\"One-Hot-Encoder-4.1\"><span class=\"toc-item-num\">4.1&nbsp;&nbsp;</span>One Hot Encoder</a></span></li><li><span><a href=\"#Вывод:\" data-toc-modified-id=\"Вывод:-4.2\"><span class=\"toc-item-num\">4.2&nbsp;&nbsp;</span>Вывод:</a></span></li></ul></li><li><span><a href=\"#Обучение-моделей\" data-toc-modified-id=\"Обучение-моделей-5\"><span class=\"toc-item-num\">5&nbsp;&nbsp;</span>Обучение моделей</a></span><ul class=\"toc-item\"><li><span><a href=\"#Catboost\" data-toc-modified-id=\"Catboost-5.1\"><span class=\"toc-item-num\">5.1&nbsp;&nbsp;</span>Catboost</a></span></li><li><span><a href=\"#LightGBM\" data-toc-modified-id=\"LightGBM-5.2\"><span class=\"toc-item-num\">5.2&nbsp;&nbsp;</span>LightGBM</a></span></li><li><span><a href=\"#LogisticRegression\" data-toc-modified-id=\"LogisticRegression-5.3\"><span class=\"toc-item-num\">5.3&nbsp;&nbsp;</span>LogisticRegression</a></span></li><li><span><a href=\"#RandomForest\" data-toc-modified-id=\"RandomForest-5.4\"><span class=\"toc-item-num\">5.4&nbsp;&nbsp;</span>RandomForest</a></span></li><li><span><a href=\"#Вывод:\" data-toc-modified-id=\"Вывод:-5.5\"><span class=\"toc-item-num\">5.5&nbsp;&nbsp;</span>Вывод:</a></span></li></ul></li><li><span><a href=\"#Тестирование-модели\" data-toc-modified-id=\"Тестирование-модели-6\"><span class=\"toc-item-num\">6&nbsp;&nbsp;</span>Тестирование модели</a></span><ul class=\"toc-item\"><li><span><a href=\"#Вывод:\" data-toc-modified-id=\"Вывод:-6.1\"><span class=\"toc-item-num\">6.1&nbsp;&nbsp;</span>Вывод:</a></span></li><li><span><a href=\"#Отчет-по-проекту-&quot;Телеком:-отток-клиентов&quot;\" data-toc-modified-id=\"Отчет-по-проекту-&quot;Телеком:-отток-клиентов&quot;-6.2\"><span class=\"toc-item-num\">6.2&nbsp;&nbsp;</span>Отчет по проекту \"Телеком: отток клиентов\"</a></span></li></ul></li></ul></div>"
   ]
  },
  {
   "cell_type": "markdown",
   "id": "5e9aa25e",
   "metadata": {
    "id": "5e9aa25e"
   },
   "source": [
    "**__\"Телеком: отток клиентов\"__**  \n",
    "\n",
    "**Описание задания** \n",
    "\n",
    "Оператор связи «Ниединогоразрыва.ком» хочет научиться прогнозировать отток клиентов. Если выяснится, что пользователь планирует уйти, ему будут предложены промокоды и специальные условия. Команда оператора собрала персональные данные о некоторых клиентах, информацию об их тарифах и договорах.\n",
    "\n",
    "**Цель задания:**  \n",
    "\n",
    "Разработать и обучить модель, которая будет прогнозировть отток клиентов  \n",
    "Целевой признак: столбец `EndDate`  \n",
    "Метрика качества: ROC-AUC, значение которой должно быть не менее 0.87  \n",
    "Дополнительная метрика качества : accuracy"
   ]
  },
  {
   "cell_type": "markdown",
   "id": "16c00edd",
   "metadata": {
    "id": "16c00edd"
   },
   "source": [
    "**Описание данных**  \n",
    "\n",
    "**_contract_**- информация о договоре:  \n",
    "`customerID` - ID клиента  \n",
    "`BeginDate` - дата заключения договора  \n",
    "`EndDate` - дата прекращения договора  \n",
    "`Type` - тип оплаты договора  \n",
    "`PaperlessBilling` - безналичный расчет \n",
    "`PaymentMethod`- способ оплаты  \n",
    "`MonthlyCharges` - ежемесячные платежи  \n",
    "`TotalCharges` - общий доход  \n",
    " \n",
    " **_internet_**- информация об интернет-услугах\n",
    "`customerID` - ID клиента  \n",
    "`InternetService`- тип подключения к интернету (DSL или Fiber optic(оптоволокно))  \n",
    "`OnlineSecurity`- блокировка небезопасных сайтов  \n",
    "`OnlineBackup`- облачное хранилище файлов для резервного копирования данных   \n",
    "`DeviceProtection`- антивирус   \n",
    "`TechSupport`- выделенная линия технической поддержки  \n",
    "`StreamingTV`- стриминговое телевидение  \n",
    "`StreamingMovies`- каталог фильмов  \n",
    "\n",
    "**_personal_**-персональные данные клиента:  \n",
    "`customerID`- ID клиента   \n",
    "`gender` - пол    \n",
    "`SeniorCitizen`- пенсионер/не пенсионер  \n",
    "`Partner`- наличие супрруга(ги)   \n",
    "`Dependents` -наличие иждивенцев  \n",
    "\n",
    "**_phone_**- информация об услугах телефонии:  \n",
    "`customerID`- ID клиента  \n",
    "`MultipleLines`- подключение телефонного аппарата к нескольким линиям одновременно  "
   ]
  },
  {
   "cell_type": "markdown",
   "id": "da5d1c3d",
   "metadata": {
    "id": "da5d1c3d"
   },
   "source": [
    "**План работ:**  \n",
    "\n",
    "1. Ознакомление с данными: выгрузить датасеты, посмотреть наличие пропусков и дубликатов, посмотреть размерность датасетов и типы данных в столбцах  \n",
    "2. Предобработка данных: выявить и обработать пропуски, при необходимости поменять в столбцах тип дынных, обработать дубликаты, при их наличии  \n",
    "3. Исследовательский анализ данных: посмотреть на распределение данных, на особенности.   \n",
    "4. Подготовка данных: при необходимости провечси масштабирование и кодирование. Попробовать устранить дисбаланс классов. Подготовить обучающую и валидационную выборки.\n",
    "5. Обучение моделей: обучить несколько моделей\n",
    "6. Тестирование модели: протестировать модель, с наивысшей метрикой качества.\n",
    "7. Подготовка отчета: "
   ]
  },
  {
   "cell_type": "markdown",
   "id": "81bdfce1",
   "metadata": {
    "id": "81bdfce1"
   },
   "source": [
    "# Ознакомление с данными"
   ]
  },
  {
   "cell_type": "code",
   "execution_count": 1,
   "id": "18a141b0",
   "metadata": {},
   "outputs": [
    {
     "name": "stdout",
     "output_type": "stream",
     "text": [
      "Requirement already satisfied: phik in c:\\anaconda\\lib\\site-packages (0.12.2)\n",
      "Requirement already satisfied: numpy>=1.18.0 in c:\\anaconda\\lib\\site-packages (from phik) (1.20.3)\n",
      "Requirement already satisfied: joblib>=0.14.1 in c:\\anaconda\\lib\\site-packages (from phik) (1.1.0)\n",
      "Requirement already satisfied: scipy>=1.5.2 in c:\\anaconda\\lib\\site-packages (from phik) (1.7.1)\n",
      "Requirement already satisfied: pandas>=0.25.1 in c:\\anaconda\\lib\\site-packages (from phik) (1.3.4)\n",
      "Requirement already satisfied: matplotlib>=2.2.3 in c:\\anaconda\\lib\\site-packages (from phik) (3.4.3)\n",
      "Requirement already satisfied: python-dateutil>=2.7 in c:\\anaconda\\lib\\site-packages (from matplotlib>=2.2.3->phik) (2.8.2)\n",
      "Requirement already satisfied: pillow>=6.2.0 in c:\\anaconda\\lib\\site-packages (from matplotlib>=2.2.3->phik) (8.4.0)\n",
      "Requirement already satisfied: pyparsing>=2.2.1 in c:\\anaconda\\lib\\site-packages (from matplotlib>=2.2.3->phik) (3.0.4)\n",
      "Requirement already satisfied: kiwisolver>=1.0.1 in c:\\anaconda\\lib\\site-packages (from matplotlib>=2.2.3->phik) (1.3.1)\n",
      "Requirement already satisfied: cycler>=0.10 in c:\\anaconda\\lib\\site-packages (from matplotlib>=2.2.3->phik) (0.10.0)\n",
      "Requirement already satisfied: pytz>=2017.3 in c:\\anaconda\\lib\\site-packages (from pandas>=0.25.1->phik) (2021.3)\n",
      "Requirement already satisfied: six in c:\\anaconda\\lib\\site-packages (from cycler>=0.10->matplotlib>=2.2.3->phik) (1.16.0)\n",
      "\n",
      "[notice] A new release of pip available: 22.1.2 -> 22.3.1\n",
      "[notice] To update, run: python.exe -m pip install --upgrade pip\n",
      "Note: you may need to restart the kernel to use updated packages.\n"
     ]
    }
   ],
   "source": [
    "pip install phik"
   ]
  },
  {
   "cell_type": "code",
   "execution_count": 2,
   "id": "6bfa0fcf",
   "metadata": {
    "id": "0769a880"
   },
   "outputs": [
    {
     "name": "stdout",
     "output_type": "stream",
     "text": [
      "Requirement already satisfied: optuna in c:\\anaconda\\lib\\site-packages (2.10.1)\n",
      "Requirement already satisfied: PyYAML in c:\\anaconda\\lib\\site-packages (from optuna) (6.0)\n",
      "Requirement already satisfied: cmaes>=0.8.2 in c:\\anaconda\\lib\\site-packages (from optuna) (0.8.2)\n",
      "Requirement already satisfied: tqdm in c:\\anaconda\\lib\\site-packages (from optuna) (4.62.3)\n",
      "Requirement already satisfied: packaging>=20.0 in c:\\anaconda\\lib\\site-packages (from optuna) (21.0)\n",
      "Requirement already satisfied: scipy!=1.4.0 in c:\\anaconda\\lib\\site-packages (from optuna) (1.7.1)\n",
      "Requirement already satisfied: numpy in c:\\anaconda\\lib\\site-packages (from optuna) (1.20.3)\n",
      "Requirement already satisfied: colorlog in c:\\anaconda\\lib\\site-packages (from optuna) (6.6.0)\n",
      "Requirement already satisfied: sqlalchemy>=1.1.0 in c:\\anaconda\\lib\\site-packages (from optuna) (1.4.22)\n",
      "Requirement already satisfied: cliff in c:\\anaconda\\lib\\site-packages (from optuna) (3.10.1)\n",
      "Requirement already satisfied: alembic in c:\\anaconda\\lib\\site-packages (from optuna) (1.8.0)\n",
      "Requirement already satisfied: pyparsing>=2.0.2 in c:\\anaconda\\lib\\site-packages (from packaging>=20.0->optuna) (3.0.4)\n",
      "Requirement already satisfied: greenlet!=0.4.17 in c:\\anaconda\\lib\\site-packages (from sqlalchemy>=1.1.0->optuna) (1.1.1)\n",
      "Requirement already satisfied: Mako in c:\\anaconda\\lib\\site-packages (from alembic->optuna) (1.2.0)\n",
      "Requirement already satisfied: cmd2>=1.0.0 in c:\\anaconda\\lib\\site-packages (from cliff->optuna) (2.4.1)\n",
      "Requirement already satisfied: autopage>=0.4.0 in c:\\anaconda\\lib\\site-packages (from cliff->optuna) (0.5.1)\n",
      "Requirement already satisfied: PrettyTable>=0.7.2 in c:\\anaconda\\lib\\site-packages (from cliff->optuna) (3.3.0)\n",
      "Requirement already satisfied: pbr!=2.1.0,>=2.0.0 in c:\\anaconda\\lib\\site-packages (from cliff->optuna) (5.9.0)\n",
      "Requirement already satisfied: stevedore>=2.0.1 in c:\\anaconda\\lib\\site-packages (from cliff->optuna) (3.5.0)\n",
      "Requirement already satisfied: colorama in c:\\anaconda\\lib\\site-packages (from colorlog->optuna) (0.4.4)\n",
      "Requirement already satisfied: wcwidth>=0.1.7 in c:\\anaconda\\lib\\site-packages (from cmd2>=1.0.0->cliff->optuna) (0.2.5)\n",
      "Requirement already satisfied: pyperclip>=1.6 in c:\\anaconda\\lib\\site-packages (from cmd2>=1.0.0->cliff->optuna) (1.8.2)\n",
      "Requirement already satisfied: attrs>=16.3.0 in c:\\anaconda\\lib\\site-packages (from cmd2>=1.0.0->cliff->optuna) (21.2.0)\n",
      "Requirement already satisfied: pyreadline3 in c:\\anaconda\\lib\\site-packages (from cmd2>=1.0.0->cliff->optuna) (3.4.1)\n",
      "Requirement already satisfied: MarkupSafe>=0.9.2 in c:\\anaconda\\lib\\site-packages (from Mako->alembic->optuna) (1.1.1)\n",
      "\n",
      "[notice] A new release of pip available: 22.1.2 -> 22.3.1\n",
      "[notice] To update, run: python.exe -m pip install --upgrade pip\n"
     ]
    }
   ],
   "source": [
    "!pip install optuna"
   ]
  },
  {
   "cell_type": "code",
   "execution_count": 3,
   "id": "0769a880",
   "metadata": {
    "id": "0769a880"
   },
   "outputs": [],
   "source": [
    "import pandas as pd\n",
    "import numpy as np\n",
    "import re\n",
    "import matplotlib.pyplot as plt\n",
    "import seaborn as sns\n",
    "from sklearn.preprocessing import OneHotEncoder, StandardScaler\n",
    "from sklearn.model_selection import train_test_split, cross_val_score\n",
    "from sklearn.metrics import roc_curve, roc_auc_score\n",
    "from catboost import CatBoostClassifier, cv, Pool\n",
    "from sklearn.linear_model import LogisticRegression\n",
    "import lightgbm as lgb\n",
    "import optuna\n",
    "import warnings\n",
    "warnings.filterwarnings(\"ignore\")\n",
    "from sklearn.ensemble import RandomForestClassifier\n",
    "import phik\n",
    "from sklearn.model_selection import GridSearchCV"
   ]
  },
  {
   "cell_type": "code",
   "execution_count": 4,
   "id": "b855a1b8",
   "metadata": {
    "id": "b855a1b8"
   },
   "outputs": [],
   "source": [
    "pd.options.display.max_columns = 50\n",
    "pd.set_option('max_colwidth', None)"
   ]
  },
  {
   "cell_type": "code",
   "execution_count": 5,
   "id": "b14f74b7",
   "metadata": {
    "id": "b14f74b7"
   },
   "outputs": [],
   "source": [
    "try:\n",
    "    contract = pd.read_csv('/datasets/final_provider/contract.csv',\n",
    "                           sep=',')\n",
    "    internet = pd.read_csv('/datasets/final_provider/internet.csv')\n",
    "    personal = pd.read_csv('/datasets/final_provider/personal.csv')\n",
    "    phone = pd.read_csv('/datasets/final_provider/phone.csv')\n",
    "except:\n",
    "    contract = pd.read_csv('C:/Users/79119/Desktop/Проекты/DataFrame/final_provider/final_provider/contract.csv',\n",
    "                    sep=',')\n",
    "    internet = pd.read_csv('C:/Users/79119/Desktop/Проекты/DataFrame/final_provider/final_provider/internet.csv')\n",
    "    personal = pd.read_csv('C:/Users/79119/Desktop/Проекты/DataFrame/final_provider/final_provider/personal.csv')\n",
    "    phone = pd.read_csv('C:/Users/79119/Desktop/Проекты/DataFrame/final_provider/final_provider/phone.csv')\n"
   ]
  },
  {
   "cell_type": "code",
   "execution_count": 6,
   "id": "9fbaa256",
   "metadata": {
    "id": "9fbaa256"
   },
   "outputs": [],
   "source": [
    "def df_info(df):\n",
    "    df.columns = df.columns.str.replace(r\"([A-Z])\", r\" \\1\").str.strip().str.lower().str.replace(' ', '_')\n",
    "    print('Первые строки датасета')\n",
    "    display(df.head())\n",
    "    print(' ')\n",
    "    print('Общая информация')\n",
    "    print(df.info())\n",
    "    print(' ')\n",
    "    print('Пропуски')\n",
    "    print(df.isna().sum())\n",
    "    print(' ')\n",
    "    print('Статистика')\n",
    "    print(df.describe())\n",
    "    print(' ')\n",
    "    print('Дубликаты')\n",
    "    print(df.duplicated().sum())\n",
    "    "
   ]
  },
  {
   "cell_type": "code",
   "execution_count": 7,
   "id": "5364e845",
   "metadata": {
    "colab": {
     "base_uri": "https://localhost:8080/",
     "height": 1000
    },
    "id": "5364e845",
    "outputId": "c609c9f7-6a75-461b-b794-f57f3680c67a"
   },
   "outputs": [
    {
     "name": "stdout",
     "output_type": "stream",
     "text": [
      "Первые строки датасета\n"
     ]
    },
    {
     "data": {
      "text/html": [
       "<div>\n",
       "<style scoped>\n",
       "    .dataframe tbody tr th:only-of-type {\n",
       "        vertical-align: middle;\n",
       "    }\n",
       "\n",
       "    .dataframe tbody tr th {\n",
       "        vertical-align: top;\n",
       "    }\n",
       "\n",
       "    .dataframe thead th {\n",
       "        text-align: right;\n",
       "    }\n",
       "</style>\n",
       "<table border=\"1\" class=\"dataframe\">\n",
       "  <thead>\n",
       "    <tr style=\"text-align: right;\">\n",
       "      <th></th>\n",
       "      <th>customer_i_d</th>\n",
       "      <th>begin_date</th>\n",
       "      <th>end_date</th>\n",
       "      <th>type</th>\n",
       "      <th>paperless_billing</th>\n",
       "      <th>payment_method</th>\n",
       "      <th>monthly_charges</th>\n",
       "      <th>total_charges</th>\n",
       "    </tr>\n",
       "  </thead>\n",
       "  <tbody>\n",
       "    <tr>\n",
       "      <th>0</th>\n",
       "      <td>7590-VHVEG</td>\n",
       "      <td>2020-01-01</td>\n",
       "      <td>No</td>\n",
       "      <td>Month-to-month</td>\n",
       "      <td>Yes</td>\n",
       "      <td>Electronic check</td>\n",
       "      <td>29.85</td>\n",
       "      <td>29.85</td>\n",
       "    </tr>\n",
       "    <tr>\n",
       "      <th>1</th>\n",
       "      <td>5575-GNVDE</td>\n",
       "      <td>2017-04-01</td>\n",
       "      <td>No</td>\n",
       "      <td>One year</td>\n",
       "      <td>No</td>\n",
       "      <td>Mailed check</td>\n",
       "      <td>56.95</td>\n",
       "      <td>1889.5</td>\n",
       "    </tr>\n",
       "    <tr>\n",
       "      <th>2</th>\n",
       "      <td>3668-QPYBK</td>\n",
       "      <td>2019-10-01</td>\n",
       "      <td>2019-12-01 00:00:00</td>\n",
       "      <td>Month-to-month</td>\n",
       "      <td>Yes</td>\n",
       "      <td>Mailed check</td>\n",
       "      <td>53.85</td>\n",
       "      <td>108.15</td>\n",
       "    </tr>\n",
       "    <tr>\n",
       "      <th>3</th>\n",
       "      <td>7795-CFOCW</td>\n",
       "      <td>2016-05-01</td>\n",
       "      <td>No</td>\n",
       "      <td>One year</td>\n",
       "      <td>No</td>\n",
       "      <td>Bank transfer (automatic)</td>\n",
       "      <td>42.30</td>\n",
       "      <td>1840.75</td>\n",
       "    </tr>\n",
       "    <tr>\n",
       "      <th>4</th>\n",
       "      <td>9237-HQITU</td>\n",
       "      <td>2019-09-01</td>\n",
       "      <td>2019-11-01 00:00:00</td>\n",
       "      <td>Month-to-month</td>\n",
       "      <td>Yes</td>\n",
       "      <td>Electronic check</td>\n",
       "      <td>70.70</td>\n",
       "      <td>151.65</td>\n",
       "    </tr>\n",
       "  </tbody>\n",
       "</table>\n",
       "</div>"
      ],
      "text/plain": [
       "  customer_i_d  begin_date             end_date            type  \\\n",
       "0   7590-VHVEG  2020-01-01                   No  Month-to-month   \n",
       "1   5575-GNVDE  2017-04-01                   No        One year   \n",
       "2   3668-QPYBK  2019-10-01  2019-12-01 00:00:00  Month-to-month   \n",
       "3   7795-CFOCW  2016-05-01                   No        One year   \n",
       "4   9237-HQITU  2019-09-01  2019-11-01 00:00:00  Month-to-month   \n",
       "\n",
       "  paperless_billing             payment_method  monthly_charges total_charges  \n",
       "0               Yes           Electronic check            29.85         29.85  \n",
       "1                No               Mailed check            56.95        1889.5  \n",
       "2               Yes               Mailed check            53.85        108.15  \n",
       "3                No  Bank transfer (automatic)            42.30       1840.75  \n",
       "4               Yes           Electronic check            70.70        151.65  "
      ]
     },
     "metadata": {},
     "output_type": "display_data"
    },
    {
     "name": "stdout",
     "output_type": "stream",
     "text": [
      " \n",
      "Общая информация\n",
      "<class 'pandas.core.frame.DataFrame'>\n",
      "RangeIndex: 7043 entries, 0 to 7042\n",
      "Data columns (total 8 columns):\n",
      " #   Column             Non-Null Count  Dtype  \n",
      "---  ------             --------------  -----  \n",
      " 0   customer_i_d       7043 non-null   object \n",
      " 1   begin_date         7043 non-null   object \n",
      " 2   end_date           7043 non-null   object \n",
      " 3   type               7043 non-null   object \n",
      " 4   paperless_billing  7043 non-null   object \n",
      " 5   payment_method     7043 non-null   object \n",
      " 6   monthly_charges    7043 non-null   float64\n",
      " 7   total_charges      7043 non-null   object \n",
      "dtypes: float64(1), object(7)\n",
      "memory usage: 440.3+ KB\n",
      "None\n",
      " \n",
      "Пропуски\n",
      "customer_i_d         0\n",
      "begin_date           0\n",
      "end_date             0\n",
      "type                 0\n",
      "paperless_billing    0\n",
      "payment_method       0\n",
      "monthly_charges      0\n",
      "total_charges        0\n",
      "dtype: int64\n",
      " \n",
      "Статистика\n",
      "       monthly_charges\n",
      "count      7043.000000\n",
      "mean         64.761692\n",
      "std          30.090047\n",
      "min          18.250000\n",
      "25%          35.500000\n",
      "50%          70.350000\n",
      "75%          89.850000\n",
      "max         118.750000\n",
      " \n",
      "Дубликаты\n",
      "0\n"
     ]
    }
   ],
   "source": [
    "df_info(contract)"
   ]
  },
  {
   "cell_type": "code",
   "execution_count": 8,
   "id": "27bcd39d",
   "metadata": {
    "colab": {
     "base_uri": "https://localhost:8080/"
    },
    "id": "27bcd39d",
    "outputId": "6f9748a9-41ce-43ec-90ec-50ce995cfda6",
    "scrolled": true
   },
   "outputs": [
    {
     "name": "stdout",
     "output_type": "stream",
     "text": [
      "Временной отрезок с 2013-10-01 по 2020-02-01\n"
     ]
    }
   ],
   "source": [
    "print(f'Временной отрезок с {contract.begin_date.min()} по {contract.begin_date.max()}')\n"
   ]
  },
  {
   "cell_type": "code",
   "execution_count": 9,
   "id": "54e80f19",
   "metadata": {
    "colab": {
     "base_uri": "https://localhost:8080/",
     "height": 1000
    },
    "id": "54e80f19",
    "outputId": "14709f94-8b1a-418a-81ee-530ce3e1356a"
   },
   "outputs": [
    {
     "name": "stdout",
     "output_type": "stream",
     "text": [
      "Первые строки датасета\n"
     ]
    },
    {
     "data": {
      "text/html": [
       "<div>\n",
       "<style scoped>\n",
       "    .dataframe tbody tr th:only-of-type {\n",
       "        vertical-align: middle;\n",
       "    }\n",
       "\n",
       "    .dataframe tbody tr th {\n",
       "        vertical-align: top;\n",
       "    }\n",
       "\n",
       "    .dataframe thead th {\n",
       "        text-align: right;\n",
       "    }\n",
       "</style>\n",
       "<table border=\"1\" class=\"dataframe\">\n",
       "  <thead>\n",
       "    <tr style=\"text-align: right;\">\n",
       "      <th></th>\n",
       "      <th>customer_i_d</th>\n",
       "      <th>internet_service</th>\n",
       "      <th>online_security</th>\n",
       "      <th>online_backup</th>\n",
       "      <th>device_protection</th>\n",
       "      <th>tech_support</th>\n",
       "      <th>streaming_t_v</th>\n",
       "      <th>streaming_movies</th>\n",
       "    </tr>\n",
       "  </thead>\n",
       "  <tbody>\n",
       "    <tr>\n",
       "      <th>0</th>\n",
       "      <td>7590-VHVEG</td>\n",
       "      <td>DSL</td>\n",
       "      <td>No</td>\n",
       "      <td>Yes</td>\n",
       "      <td>No</td>\n",
       "      <td>No</td>\n",
       "      <td>No</td>\n",
       "      <td>No</td>\n",
       "    </tr>\n",
       "    <tr>\n",
       "      <th>1</th>\n",
       "      <td>5575-GNVDE</td>\n",
       "      <td>DSL</td>\n",
       "      <td>Yes</td>\n",
       "      <td>No</td>\n",
       "      <td>Yes</td>\n",
       "      <td>No</td>\n",
       "      <td>No</td>\n",
       "      <td>No</td>\n",
       "    </tr>\n",
       "    <tr>\n",
       "      <th>2</th>\n",
       "      <td>3668-QPYBK</td>\n",
       "      <td>DSL</td>\n",
       "      <td>Yes</td>\n",
       "      <td>Yes</td>\n",
       "      <td>No</td>\n",
       "      <td>No</td>\n",
       "      <td>No</td>\n",
       "      <td>No</td>\n",
       "    </tr>\n",
       "    <tr>\n",
       "      <th>3</th>\n",
       "      <td>7795-CFOCW</td>\n",
       "      <td>DSL</td>\n",
       "      <td>Yes</td>\n",
       "      <td>No</td>\n",
       "      <td>Yes</td>\n",
       "      <td>Yes</td>\n",
       "      <td>No</td>\n",
       "      <td>No</td>\n",
       "    </tr>\n",
       "    <tr>\n",
       "      <th>4</th>\n",
       "      <td>9237-HQITU</td>\n",
       "      <td>Fiber optic</td>\n",
       "      <td>No</td>\n",
       "      <td>No</td>\n",
       "      <td>No</td>\n",
       "      <td>No</td>\n",
       "      <td>No</td>\n",
       "      <td>No</td>\n",
       "    </tr>\n",
       "  </tbody>\n",
       "</table>\n",
       "</div>"
      ],
      "text/plain": [
       "  customer_i_d internet_service online_security online_backup  \\\n",
       "0   7590-VHVEG              DSL              No           Yes   \n",
       "1   5575-GNVDE              DSL             Yes            No   \n",
       "2   3668-QPYBK              DSL             Yes           Yes   \n",
       "3   7795-CFOCW              DSL             Yes            No   \n",
       "4   9237-HQITU      Fiber optic              No            No   \n",
       "\n",
       "  device_protection tech_support streaming_t_v streaming_movies  \n",
       "0                No           No            No               No  \n",
       "1               Yes           No            No               No  \n",
       "2                No           No            No               No  \n",
       "3               Yes          Yes            No               No  \n",
       "4                No           No            No               No  "
      ]
     },
     "metadata": {},
     "output_type": "display_data"
    },
    {
     "name": "stdout",
     "output_type": "stream",
     "text": [
      " \n",
      "Общая информация\n",
      "<class 'pandas.core.frame.DataFrame'>\n",
      "RangeIndex: 5517 entries, 0 to 5516\n",
      "Data columns (total 8 columns):\n",
      " #   Column             Non-Null Count  Dtype \n",
      "---  ------             --------------  ----- \n",
      " 0   customer_i_d       5517 non-null   object\n",
      " 1   internet_service   5517 non-null   object\n",
      " 2   online_security    5517 non-null   object\n",
      " 3   online_backup      5517 non-null   object\n",
      " 4   device_protection  5517 non-null   object\n",
      " 5   tech_support       5517 non-null   object\n",
      " 6   streaming_t_v      5517 non-null   object\n",
      " 7   streaming_movies   5517 non-null   object\n",
      "dtypes: object(8)\n",
      "memory usage: 344.9+ KB\n",
      "None\n",
      " \n",
      "Пропуски\n",
      "customer_i_d         0\n",
      "internet_service     0\n",
      "online_security      0\n",
      "online_backup        0\n",
      "device_protection    0\n",
      "tech_support         0\n",
      "streaming_t_v        0\n",
      "streaming_movies     0\n",
      "dtype: int64\n",
      " \n",
      "Статистика\n",
      "       customer_i_d internet_service online_security online_backup  \\\n",
      "count          5517             5517            5517          5517   \n",
      "unique         5517                2               2             2   \n",
      "top      7590-VHVEG      Fiber optic              No            No   \n",
      "freq              1             3096            3498          3088   \n",
      "\n",
      "       device_protection tech_support streaming_t_v streaming_movies  \n",
      "count               5517         5517          5517             5517  \n",
      "unique                 2            2             2                2  \n",
      "top                   No           No            No               No  \n",
      "freq                3095         3473          2810             2785  \n",
      " \n",
      "Дубликаты\n",
      "0\n"
     ]
    }
   ],
   "source": [
    " df_info(internet)"
   ]
  },
  {
   "cell_type": "code",
   "execution_count": 10,
   "id": "e947a241",
   "metadata": {
    "colab": {
     "base_uri": "https://localhost:8080/",
     "height": 866
    },
    "id": "e947a241",
    "outputId": "bd17a07e-51fd-4598-fe03-39e507d3088a"
   },
   "outputs": [
    {
     "name": "stdout",
     "output_type": "stream",
     "text": [
      "Первые строки датасета\n"
     ]
    },
    {
     "data": {
      "text/html": [
       "<div>\n",
       "<style scoped>\n",
       "    .dataframe tbody tr th:only-of-type {\n",
       "        vertical-align: middle;\n",
       "    }\n",
       "\n",
       "    .dataframe tbody tr th {\n",
       "        vertical-align: top;\n",
       "    }\n",
       "\n",
       "    .dataframe thead th {\n",
       "        text-align: right;\n",
       "    }\n",
       "</style>\n",
       "<table border=\"1\" class=\"dataframe\">\n",
       "  <thead>\n",
       "    <tr style=\"text-align: right;\">\n",
       "      <th></th>\n",
       "      <th>customer_i_d</th>\n",
       "      <th>gender</th>\n",
       "      <th>senior_citizen</th>\n",
       "      <th>partner</th>\n",
       "      <th>dependents</th>\n",
       "    </tr>\n",
       "  </thead>\n",
       "  <tbody>\n",
       "    <tr>\n",
       "      <th>0</th>\n",
       "      <td>7590-VHVEG</td>\n",
       "      <td>Female</td>\n",
       "      <td>0</td>\n",
       "      <td>Yes</td>\n",
       "      <td>No</td>\n",
       "    </tr>\n",
       "    <tr>\n",
       "      <th>1</th>\n",
       "      <td>5575-GNVDE</td>\n",
       "      <td>Male</td>\n",
       "      <td>0</td>\n",
       "      <td>No</td>\n",
       "      <td>No</td>\n",
       "    </tr>\n",
       "    <tr>\n",
       "      <th>2</th>\n",
       "      <td>3668-QPYBK</td>\n",
       "      <td>Male</td>\n",
       "      <td>0</td>\n",
       "      <td>No</td>\n",
       "      <td>No</td>\n",
       "    </tr>\n",
       "    <tr>\n",
       "      <th>3</th>\n",
       "      <td>7795-CFOCW</td>\n",
       "      <td>Male</td>\n",
       "      <td>0</td>\n",
       "      <td>No</td>\n",
       "      <td>No</td>\n",
       "    </tr>\n",
       "    <tr>\n",
       "      <th>4</th>\n",
       "      <td>9237-HQITU</td>\n",
       "      <td>Female</td>\n",
       "      <td>0</td>\n",
       "      <td>No</td>\n",
       "      <td>No</td>\n",
       "    </tr>\n",
       "  </tbody>\n",
       "</table>\n",
       "</div>"
      ],
      "text/plain": [
       "  customer_i_d  gender  senior_citizen partner dependents\n",
       "0   7590-VHVEG  Female               0     Yes         No\n",
       "1   5575-GNVDE    Male               0      No         No\n",
       "2   3668-QPYBK    Male               0      No         No\n",
       "3   7795-CFOCW    Male               0      No         No\n",
       "4   9237-HQITU  Female               0      No         No"
      ]
     },
     "metadata": {},
     "output_type": "display_data"
    },
    {
     "name": "stdout",
     "output_type": "stream",
     "text": [
      " \n",
      "Общая информация\n",
      "<class 'pandas.core.frame.DataFrame'>\n",
      "RangeIndex: 7043 entries, 0 to 7042\n",
      "Data columns (total 5 columns):\n",
      " #   Column          Non-Null Count  Dtype \n",
      "---  ------          --------------  ----- \n",
      " 0   customer_i_d    7043 non-null   object\n",
      " 1   gender          7043 non-null   object\n",
      " 2   senior_citizen  7043 non-null   int64 \n",
      " 3   partner         7043 non-null   object\n",
      " 4   dependents      7043 non-null   object\n",
      "dtypes: int64(1), object(4)\n",
      "memory usage: 275.2+ KB\n",
      "None\n",
      " \n",
      "Пропуски\n",
      "customer_i_d      0\n",
      "gender            0\n",
      "senior_citizen    0\n",
      "partner           0\n",
      "dependents        0\n",
      "dtype: int64\n",
      " \n",
      "Статистика\n",
      "       senior_citizen\n",
      "count     7043.000000\n",
      "mean         0.162147\n",
      "std          0.368612\n",
      "min          0.000000\n",
      "25%          0.000000\n",
      "50%          0.000000\n",
      "75%          0.000000\n",
      "max          1.000000\n",
      " \n",
      "Дубликаты\n",
      "0\n"
     ]
    }
   ],
   "source": [
    " df_info(personal)"
   ]
  },
  {
   "cell_type": "code",
   "execution_count": 11,
   "id": "299051e8",
   "metadata": {
    "colab": {
     "base_uri": "https://localhost:8080/",
     "height": 692
    },
    "id": "299051e8",
    "outputId": "a32920a6-e634-4607-b3f9-c05f31930dfd"
   },
   "outputs": [
    {
     "name": "stdout",
     "output_type": "stream",
     "text": [
      "Первые строки датасета\n"
     ]
    },
    {
     "data": {
      "text/html": [
       "<div>\n",
       "<style scoped>\n",
       "    .dataframe tbody tr th:only-of-type {\n",
       "        vertical-align: middle;\n",
       "    }\n",
       "\n",
       "    .dataframe tbody tr th {\n",
       "        vertical-align: top;\n",
       "    }\n",
       "\n",
       "    .dataframe thead th {\n",
       "        text-align: right;\n",
       "    }\n",
       "</style>\n",
       "<table border=\"1\" class=\"dataframe\">\n",
       "  <thead>\n",
       "    <tr style=\"text-align: right;\">\n",
       "      <th></th>\n",
       "      <th>customer_i_d</th>\n",
       "      <th>multiple_lines</th>\n",
       "    </tr>\n",
       "  </thead>\n",
       "  <tbody>\n",
       "    <tr>\n",
       "      <th>0</th>\n",
       "      <td>5575-GNVDE</td>\n",
       "      <td>No</td>\n",
       "    </tr>\n",
       "    <tr>\n",
       "      <th>1</th>\n",
       "      <td>3668-QPYBK</td>\n",
       "      <td>No</td>\n",
       "    </tr>\n",
       "    <tr>\n",
       "      <th>2</th>\n",
       "      <td>9237-HQITU</td>\n",
       "      <td>No</td>\n",
       "    </tr>\n",
       "    <tr>\n",
       "      <th>3</th>\n",
       "      <td>9305-CDSKC</td>\n",
       "      <td>Yes</td>\n",
       "    </tr>\n",
       "    <tr>\n",
       "      <th>4</th>\n",
       "      <td>1452-KIOVK</td>\n",
       "      <td>Yes</td>\n",
       "    </tr>\n",
       "  </tbody>\n",
       "</table>\n",
       "</div>"
      ],
      "text/plain": [
       "  customer_i_d multiple_lines\n",
       "0   5575-GNVDE             No\n",
       "1   3668-QPYBK             No\n",
       "2   9237-HQITU             No\n",
       "3   9305-CDSKC            Yes\n",
       "4   1452-KIOVK            Yes"
      ]
     },
     "metadata": {},
     "output_type": "display_data"
    },
    {
     "name": "stdout",
     "output_type": "stream",
     "text": [
      " \n",
      "Общая информация\n",
      "<class 'pandas.core.frame.DataFrame'>\n",
      "RangeIndex: 6361 entries, 0 to 6360\n",
      "Data columns (total 2 columns):\n",
      " #   Column          Non-Null Count  Dtype \n",
      "---  ------          --------------  ----- \n",
      " 0   customer_i_d    6361 non-null   object\n",
      " 1   multiple_lines  6361 non-null   object\n",
      "dtypes: object(2)\n",
      "memory usage: 99.5+ KB\n",
      "None\n",
      " \n",
      "Пропуски\n",
      "customer_i_d      0\n",
      "multiple_lines    0\n",
      "dtype: int64\n",
      " \n",
      "Статистика\n",
      "       customer_i_d multiple_lines\n",
      "count          6361           6361\n",
      "unique         6361              2\n",
      "top      5575-GNVDE             No\n",
      "freq              1           3390\n",
      " \n",
      "Дубликаты\n",
      "0\n"
     ]
    }
   ],
   "source": [
    " df_info(phone)"
   ]
  },
  {
   "cell_type": "markdown",
   "id": "d8ba602c",
   "metadata": {
    "id": "d8ba602c"
   },
   "source": [
    "## Вывод:  \n",
    "Проедоставлены 4 датасета:  \n",
    "\n",
    "Название| Количество строк| Количество столбцов\n",
    "--------|-----------------|--------------------\n",
    "contract|7043|8\n",
    "internet|5517|8\n",
    "personal|7043|5\n",
    "phone|6361|2\n",
    "\n",
    "1. У таблиц contract и personal одинаковое колиечство строк, т.е. количество клиентов соосветствует количеству договоров. А вот интернетом и телефонией пользуются не все клиенты, т.к. в таблице internet и phone меньше строк по отношению к contract и personal  \n",
    "2. В таблице contract столбцам `begin_date` и `total_charges` стоит изменить тип данных на datetime и float, т.к. в первом находятся даты начала действия договоров, а во втором общий доход\n"
   ]
  },
  {
   "cell_type": "markdown",
   "id": "a7db3fa4",
   "metadata": {
    "id": "a7db3fa4"
   },
   "source": [
    "# Предобработка данных"
   ]
  },
  {
   "cell_type": "markdown",
   "id": "e86c2bdd",
   "metadata": {
    "id": "e86c2bdd"
   },
   "source": [
    "Приведем признак `begin_date` к типу datetime"
   ]
  },
  {
   "cell_type": "code",
   "execution_count": 12,
   "id": "5bb943eb",
   "metadata": {
    "id": "5bb943eb"
   },
   "outputs": [],
   "source": [
    "contract['begin_date'] = pd.to_datetime(contract['begin_date'])"
   ]
  },
  {
   "cell_type": "code",
   "execution_count": 13,
   "id": "75f6c07d",
   "metadata": {
    "colab": {
     "base_uri": "https://localhost:8080/"
    },
    "id": "75f6c07d",
    "outputId": "99268fc4-ce49-4b87-dffe-3f2b2a01bd5b",
    "scrolled": true
   },
   "outputs": [
    {
     "data": {
      "text/plain": [
       "customer_i_d                 object\n",
       "begin_date           datetime64[ns]\n",
       "end_date                     object\n",
       "type                         object\n",
       "paperless_billing            object\n",
       "payment_method               object\n",
       "monthly_charges             float64\n",
       "total_charges                object\n",
       "dtype: object"
      ]
     },
     "execution_count": 13,
     "metadata": {},
     "output_type": "execute_result"
    }
   ],
   "source": [
    "contract.dtypes"
   ]
  },
  {
   "cell_type": "code",
   "execution_count": 14,
   "id": "fecf8e21",
   "metadata": {
    "colab": {
     "base_uri": "https://localhost:8080/"
    },
    "id": "fecf8e21",
    "outputId": "1233df7f-6633-4503-dafa-d38a559c4cac",
    "scrolled": true
   },
   "outputs": [
    {
     "data": {
      "text/plain": [
       "          11\n",
       "20.2      11\n",
       "19.75      9\n",
       "20.05      8\n",
       "19.9       8\n",
       "          ..\n",
       "6849.4     1\n",
       "692.35     1\n",
       "130.15     1\n",
       "3211.9     1\n",
       "6844.5     1\n",
       "Name: total_charges, Length: 6531, dtype: int64"
      ]
     },
     "execution_count": 14,
     "metadata": {},
     "output_type": "execute_result"
    }
   ],
   "source": [
    "contract['total_charges'].value_counts()"
   ]
  },
  {
   "cell_type": "code",
   "execution_count": 15,
   "id": "aa9cb166",
   "metadata": {
    "colab": {
     "base_uri": "https://localhost:8080/",
     "height": 629
    },
    "id": "aa9cb166",
    "outputId": "7f80a253-b8d7-450b-bd02-c9bd23ba05b5"
   },
   "outputs": [
    {
     "data": {
      "text/html": [
       "<div>\n",
       "<style scoped>\n",
       "    .dataframe tbody tr th:only-of-type {\n",
       "        vertical-align: middle;\n",
       "    }\n",
       "\n",
       "    .dataframe tbody tr th {\n",
       "        vertical-align: top;\n",
       "    }\n",
       "\n",
       "    .dataframe thead th {\n",
       "        text-align: right;\n",
       "    }\n",
       "</style>\n",
       "<table border=\"1\" class=\"dataframe\">\n",
       "  <thead>\n",
       "    <tr style=\"text-align: right;\">\n",
       "      <th></th>\n",
       "      <th>customer_i_d</th>\n",
       "      <th>begin_date</th>\n",
       "      <th>end_date</th>\n",
       "      <th>type</th>\n",
       "      <th>paperless_billing</th>\n",
       "      <th>payment_method</th>\n",
       "      <th>monthly_charges</th>\n",
       "      <th>total_charges</th>\n",
       "    </tr>\n",
       "  </thead>\n",
       "  <tbody>\n",
       "    <tr>\n",
       "      <th>488</th>\n",
       "      <td>4472-LVYGI</td>\n",
       "      <td>2020-02-01</td>\n",
       "      <td>No</td>\n",
       "      <td>Two year</td>\n",
       "      <td>Yes</td>\n",
       "      <td>Bank transfer (automatic)</td>\n",
       "      <td>52.55</td>\n",
       "      <td></td>\n",
       "    </tr>\n",
       "    <tr>\n",
       "      <th>753</th>\n",
       "      <td>3115-CZMZD</td>\n",
       "      <td>2020-02-01</td>\n",
       "      <td>No</td>\n",
       "      <td>Two year</td>\n",
       "      <td>No</td>\n",
       "      <td>Mailed check</td>\n",
       "      <td>20.25</td>\n",
       "      <td></td>\n",
       "    </tr>\n",
       "    <tr>\n",
       "      <th>936</th>\n",
       "      <td>5709-LVOEQ</td>\n",
       "      <td>2020-02-01</td>\n",
       "      <td>No</td>\n",
       "      <td>Two year</td>\n",
       "      <td>No</td>\n",
       "      <td>Mailed check</td>\n",
       "      <td>80.85</td>\n",
       "      <td></td>\n",
       "    </tr>\n",
       "    <tr>\n",
       "      <th>1082</th>\n",
       "      <td>4367-NUYAO</td>\n",
       "      <td>2020-02-01</td>\n",
       "      <td>No</td>\n",
       "      <td>Two year</td>\n",
       "      <td>No</td>\n",
       "      <td>Mailed check</td>\n",
       "      <td>25.75</td>\n",
       "      <td></td>\n",
       "    </tr>\n",
       "    <tr>\n",
       "      <th>1340</th>\n",
       "      <td>1371-DWPAZ</td>\n",
       "      <td>2020-02-01</td>\n",
       "      <td>No</td>\n",
       "      <td>Two year</td>\n",
       "      <td>No</td>\n",
       "      <td>Credit card (automatic)</td>\n",
       "      <td>56.05</td>\n",
       "      <td></td>\n",
       "    </tr>\n",
       "    <tr>\n",
       "      <th>3331</th>\n",
       "      <td>7644-OMVMY</td>\n",
       "      <td>2020-02-01</td>\n",
       "      <td>No</td>\n",
       "      <td>Two year</td>\n",
       "      <td>No</td>\n",
       "      <td>Mailed check</td>\n",
       "      <td>19.85</td>\n",
       "      <td></td>\n",
       "    </tr>\n",
       "    <tr>\n",
       "      <th>3826</th>\n",
       "      <td>3213-VVOLG</td>\n",
       "      <td>2020-02-01</td>\n",
       "      <td>No</td>\n",
       "      <td>Two year</td>\n",
       "      <td>No</td>\n",
       "      <td>Mailed check</td>\n",
       "      <td>25.35</td>\n",
       "      <td></td>\n",
       "    </tr>\n",
       "    <tr>\n",
       "      <th>4380</th>\n",
       "      <td>2520-SGTTA</td>\n",
       "      <td>2020-02-01</td>\n",
       "      <td>No</td>\n",
       "      <td>Two year</td>\n",
       "      <td>No</td>\n",
       "      <td>Mailed check</td>\n",
       "      <td>20.00</td>\n",
       "      <td></td>\n",
       "    </tr>\n",
       "    <tr>\n",
       "      <th>5218</th>\n",
       "      <td>2923-ARZLG</td>\n",
       "      <td>2020-02-01</td>\n",
       "      <td>No</td>\n",
       "      <td>One year</td>\n",
       "      <td>Yes</td>\n",
       "      <td>Mailed check</td>\n",
       "      <td>19.70</td>\n",
       "      <td></td>\n",
       "    </tr>\n",
       "    <tr>\n",
       "      <th>6670</th>\n",
       "      <td>4075-WKNIU</td>\n",
       "      <td>2020-02-01</td>\n",
       "      <td>No</td>\n",
       "      <td>Two year</td>\n",
       "      <td>No</td>\n",
       "      <td>Mailed check</td>\n",
       "      <td>73.35</td>\n",
       "      <td></td>\n",
       "    </tr>\n",
       "    <tr>\n",
       "      <th>6754</th>\n",
       "      <td>2775-SEFEE</td>\n",
       "      <td>2020-02-01</td>\n",
       "      <td>No</td>\n",
       "      <td>Two year</td>\n",
       "      <td>Yes</td>\n",
       "      <td>Bank transfer (automatic)</td>\n",
       "      <td>61.90</td>\n",
       "      <td></td>\n",
       "    </tr>\n",
       "  </tbody>\n",
       "</table>\n",
       "</div>"
      ],
      "text/plain": [
       "     customer_i_d begin_date end_date      type paperless_billing  \\\n",
       "488    4472-LVYGI 2020-02-01       No  Two year               Yes   \n",
       "753    3115-CZMZD 2020-02-01       No  Two year                No   \n",
       "936    5709-LVOEQ 2020-02-01       No  Two year                No   \n",
       "1082   4367-NUYAO 2020-02-01       No  Two year                No   \n",
       "1340   1371-DWPAZ 2020-02-01       No  Two year                No   \n",
       "3331   7644-OMVMY 2020-02-01       No  Two year                No   \n",
       "3826   3213-VVOLG 2020-02-01       No  Two year                No   \n",
       "4380   2520-SGTTA 2020-02-01       No  Two year                No   \n",
       "5218   2923-ARZLG 2020-02-01       No  One year               Yes   \n",
       "6670   4075-WKNIU 2020-02-01       No  Two year                No   \n",
       "6754   2775-SEFEE 2020-02-01       No  Two year               Yes   \n",
       "\n",
       "                 payment_method  monthly_charges total_charges  \n",
       "488   Bank transfer (automatic)            52.55                \n",
       "753                Mailed check            20.25                \n",
       "936                Mailed check            80.85                \n",
       "1082               Mailed check            25.75                \n",
       "1340    Credit card (automatic)            56.05                \n",
       "3331               Mailed check            19.85                \n",
       "3826               Mailed check            25.35                \n",
       "4380               Mailed check            20.00                \n",
       "5218               Mailed check            19.70                \n",
       "6670               Mailed check            73.35                \n",
       "6754  Bank transfer (automatic)            61.90                "
      ]
     },
     "execution_count": 15,
     "metadata": {},
     "output_type": "execute_result"
    }
   ],
   "source": [
    "contract[contract['total_charges'] == ' ']"
   ]
  },
  {
   "cell_type": "markdown",
   "id": "02718437",
   "metadata": {
    "id": "02718437"
   },
   "source": [
    "Отсутствие данных в столбце связана с тем, что все договора только что были заключены, и по ним еще не было дохода. В связи с этим заполним пропуски значением из столбца с ежемесячными платежами (т.е. фактическими поступлениями от клиентов)"
   ]
  },
  {
   "cell_type": "markdown",
   "id": "08a15f51",
   "metadata": {
    "id": "08a15f51"
   },
   "source": [
    "Заполним пропуски в столбце `total_charges` None и приведем к типу float"
   ]
  },
  {
   "cell_type": "code",
   "execution_count": 16,
   "id": "5da7b8e7",
   "metadata": {
    "id": "5da7b8e7"
   },
   "outputs": [],
   "source": [
    "contract.loc[(contract['total_charges'] == ' '), 'total_charges'] = None"
   ]
  },
  {
   "cell_type": "code",
   "execution_count": 17,
   "id": "846bcf55",
   "metadata": {
    "id": "846bcf55"
   },
   "outputs": [],
   "source": [
    "contract['total_charges'] = contract['total_charges'].fillna(contract['monthly_charges'])"
   ]
  },
  {
   "cell_type": "code",
   "execution_count": 18,
   "id": "9221e124",
   "metadata": {
    "id": "9221e124"
   },
   "outputs": [],
   "source": [
    "contract['total_charges'] = contract['total_charges'].astype('float')"
   ]
  },
  {
   "cell_type": "code",
   "execution_count": 19,
   "id": "24e88a18",
   "metadata": {
    "colab": {
     "base_uri": "https://localhost:8080/"
    },
    "id": "24e88a18",
    "outputId": "735b8338-7f07-4d78-b656-2ceafc762631"
   },
   "outputs": [
    {
     "data": {
      "text/plain": [
       "0"
      ]
     },
     "execution_count": 19,
     "metadata": {},
     "output_type": "execute_result"
    }
   ],
   "source": [
    "contract['total_charges'].isna().sum()"
   ]
  },
  {
   "cell_type": "code",
   "execution_count": 20,
   "id": "3b48870b",
   "metadata": {
    "colab": {
     "base_uri": "https://localhost:8080/",
     "height": 1000
    },
    "id": "3b48870b",
    "outputId": "a3122239-9959-44d0-c2ec-79d8667b68a5"
   },
   "outputs": [
    {
     "name": "stdout",
     "output_type": "stream",
     "text": [
      "Первые строки датасета\n"
     ]
    },
    {
     "data": {
      "text/html": [
       "<div>\n",
       "<style scoped>\n",
       "    .dataframe tbody tr th:only-of-type {\n",
       "        vertical-align: middle;\n",
       "    }\n",
       "\n",
       "    .dataframe tbody tr th {\n",
       "        vertical-align: top;\n",
       "    }\n",
       "\n",
       "    .dataframe thead th {\n",
       "        text-align: right;\n",
       "    }\n",
       "</style>\n",
       "<table border=\"1\" class=\"dataframe\">\n",
       "  <thead>\n",
       "    <tr style=\"text-align: right;\">\n",
       "      <th></th>\n",
       "      <th>customer_i_d</th>\n",
       "      <th>begin_date</th>\n",
       "      <th>end_date</th>\n",
       "      <th>type</th>\n",
       "      <th>paperless_billing</th>\n",
       "      <th>payment_method</th>\n",
       "      <th>monthly_charges</th>\n",
       "      <th>total_charges</th>\n",
       "    </tr>\n",
       "  </thead>\n",
       "  <tbody>\n",
       "    <tr>\n",
       "      <th>0</th>\n",
       "      <td>7590-VHVEG</td>\n",
       "      <td>2020-01-01</td>\n",
       "      <td>No</td>\n",
       "      <td>Month-to-month</td>\n",
       "      <td>Yes</td>\n",
       "      <td>Electronic check</td>\n",
       "      <td>29.85</td>\n",
       "      <td>29.85</td>\n",
       "    </tr>\n",
       "    <tr>\n",
       "      <th>1</th>\n",
       "      <td>5575-GNVDE</td>\n",
       "      <td>2017-04-01</td>\n",
       "      <td>No</td>\n",
       "      <td>One year</td>\n",
       "      <td>No</td>\n",
       "      <td>Mailed check</td>\n",
       "      <td>56.95</td>\n",
       "      <td>1889.50</td>\n",
       "    </tr>\n",
       "    <tr>\n",
       "      <th>2</th>\n",
       "      <td>3668-QPYBK</td>\n",
       "      <td>2019-10-01</td>\n",
       "      <td>2019-12-01 00:00:00</td>\n",
       "      <td>Month-to-month</td>\n",
       "      <td>Yes</td>\n",
       "      <td>Mailed check</td>\n",
       "      <td>53.85</td>\n",
       "      <td>108.15</td>\n",
       "    </tr>\n",
       "    <tr>\n",
       "      <th>3</th>\n",
       "      <td>7795-CFOCW</td>\n",
       "      <td>2016-05-01</td>\n",
       "      <td>No</td>\n",
       "      <td>One year</td>\n",
       "      <td>No</td>\n",
       "      <td>Bank transfer (automatic)</td>\n",
       "      <td>42.30</td>\n",
       "      <td>1840.75</td>\n",
       "    </tr>\n",
       "    <tr>\n",
       "      <th>4</th>\n",
       "      <td>9237-HQITU</td>\n",
       "      <td>2019-09-01</td>\n",
       "      <td>2019-11-01 00:00:00</td>\n",
       "      <td>Month-to-month</td>\n",
       "      <td>Yes</td>\n",
       "      <td>Electronic check</td>\n",
       "      <td>70.70</td>\n",
       "      <td>151.65</td>\n",
       "    </tr>\n",
       "  </tbody>\n",
       "</table>\n",
       "</div>"
      ],
      "text/plain": [
       "  customer_i_d begin_date             end_date            type  \\\n",
       "0   7590-VHVEG 2020-01-01                   No  Month-to-month   \n",
       "1   5575-GNVDE 2017-04-01                   No        One year   \n",
       "2   3668-QPYBK 2019-10-01  2019-12-01 00:00:00  Month-to-month   \n",
       "3   7795-CFOCW 2016-05-01                   No        One year   \n",
       "4   9237-HQITU 2019-09-01  2019-11-01 00:00:00  Month-to-month   \n",
       "\n",
       "  paperless_billing             payment_method  monthly_charges  total_charges  \n",
       "0               Yes           Electronic check            29.85          29.85  \n",
       "1                No               Mailed check            56.95        1889.50  \n",
       "2               Yes               Mailed check            53.85         108.15  \n",
       "3                No  Bank transfer (automatic)            42.30        1840.75  \n",
       "4               Yes           Electronic check            70.70         151.65  "
      ]
     },
     "metadata": {},
     "output_type": "display_data"
    },
    {
     "name": "stdout",
     "output_type": "stream",
     "text": [
      " \n",
      "Общая информация\n",
      "<class 'pandas.core.frame.DataFrame'>\n",
      "RangeIndex: 7043 entries, 0 to 7042\n",
      "Data columns (total 8 columns):\n",
      " #   Column             Non-Null Count  Dtype         \n",
      "---  ------             --------------  -----         \n",
      " 0   customer_i_d       7043 non-null   object        \n",
      " 1   begin_date         7043 non-null   datetime64[ns]\n",
      " 2   end_date           7043 non-null   object        \n",
      " 3   type               7043 non-null   object        \n",
      " 4   paperless_billing  7043 non-null   object        \n",
      " 5   payment_method     7043 non-null   object        \n",
      " 6   monthly_charges    7043 non-null   float64       \n",
      " 7   total_charges      7043 non-null   float64       \n",
      "dtypes: datetime64[ns](1), float64(2), object(5)\n",
      "memory usage: 440.3+ KB\n",
      "None\n",
      " \n",
      "Пропуски\n",
      "customer_i_d         0\n",
      "begin_date           0\n",
      "end_date             0\n",
      "type                 0\n",
      "paperless_billing    0\n",
      "payment_method       0\n",
      "monthly_charges      0\n",
      "total_charges        0\n",
      "dtype: int64\n",
      " \n",
      "Статистика\n",
      "       monthly_charges  total_charges\n",
      "count      7043.000000    7043.000000\n",
      "mean         64.761692    2279.798992\n",
      "std          30.090047    2266.730170\n",
      "min          18.250000      18.800000\n",
      "25%          35.500000     398.550000\n",
      "50%          70.350000    1394.550000\n",
      "75%          89.850000    3786.600000\n",
      "max         118.750000    8684.800000\n",
      " \n",
      "Дубликаты\n",
      "0\n"
     ]
    }
   ],
   "source": [
    "df_info(contract)"
   ]
  },
  {
   "cell_type": "markdown",
   "id": "e97012a2",
   "metadata": {
    "id": "e97012a2"
   },
   "source": [
    "# Исследовательский анализ данных"
   ]
  },
  {
   "cell_type": "code",
   "execution_count": 21,
   "id": "f3c08568",
   "metadata": {
    "colab": {
     "base_uri": "https://localhost:8080/"
    },
    "id": "f3c08568",
    "outputId": "c4bea78e-ffb0-421b-83e7-b8bbfd6c8f69",
    "scrolled": true
   },
   "outputs": [
    {
     "data": {
      "text/plain": [
       "No                     5174\n",
       "2019-11-01 00:00:00     485\n",
       "2019-12-01 00:00:00     466\n",
       "2020-01-01 00:00:00     460\n",
       "2019-10-01 00:00:00     458\n",
       "Name: end_date, dtype: int64"
      ]
     },
     "execution_count": 21,
     "metadata": {},
     "output_type": "execute_result"
    }
   ],
   "source": [
    "contract['end_date'].value_counts()"
   ]
  },
  {
   "cell_type": "markdown",
   "id": "9e796e1a",
   "metadata": {
    "id": "9e796e1a"
   },
   "source": [
    "Отток начинается с 1 ноября 2019 г. Каждый следующий месяц уходит примерно одно количество клиентов (в районе 460)"
   ]
  },
  {
   "cell_type": "code",
   "execution_count": 22,
   "id": "84b453dd",
   "metadata": {
    "colab": {
     "base_uri": "https://localhost:8080/"
    },
    "id": "84b453dd",
    "outputId": "8c6ed3f4-191b-4e8a-b2a2-c6708cb1894d"
   },
   "outputs": [
    {
     "data": {
      "text/plain": [
       "2014-02-01    366\n",
       "2019-10-01    237\n",
       "2019-11-01    237\n",
       "2019-09-01    237\n",
       "2020-01-01    233\n",
       "2019-12-01    220\n",
       "2014-03-01    178\n",
       "2019-07-01    156\n",
       "2019-08-01    146\n",
       "2019-06-01    141\n",
       "Name: begin_date, dtype: int64"
      ]
     },
     "execution_count": 22,
     "metadata": {},
     "output_type": "execute_result"
    }
   ],
   "source": [
    "contract['begin_date'].value_counts().head(10)"
   ]
  },
  {
   "cell_type": "markdown",
   "id": "0388ca74",
   "metadata": {
    "id": "0388ca74"
   },
   "source": [
    "С сентября 2019 по январь 2020 наблюдается прирост в количестве заключенных договоров. Эти даты рядом с датами прекращения договоров уже действующих клиентов. Возможно увеличения количество заключенных договоров связано с проведением какой-либо промо акции для привлечения. Что в этот период могло повлиять на отток?"
   ]
  },
  {
   "cell_type": "code",
   "execution_count": 23,
   "id": "12ac7913",
   "metadata": {
    "id": "12ac7913"
   },
   "outputs": [],
   "source": [
    "contract['begin_year'] = pd.DatetimeIndex(contract['begin_date']).year"
   ]
  },
  {
   "cell_type": "code",
   "execution_count": 24,
   "id": "771a902b",
   "metadata": {
    "colab": {
     "base_uri": "https://localhost:8080/",
     "height": 332
    },
    "id": "771a902b",
    "outputId": "6f012f9b-09fa-4669-fa3f-50e621a9a251"
   },
   "outputs": [
    {
     "data": {
      "text/html": [
       "<div>\n",
       "<style scoped>\n",
       "    .dataframe tbody tr th:only-of-type {\n",
       "        vertical-align: middle;\n",
       "    }\n",
       "\n",
       "    .dataframe tbody tr th {\n",
       "        vertical-align: top;\n",
       "    }\n",
       "\n",
       "    .dataframe thead th {\n",
       "        text-align: right;\n",
       "    }\n",
       "</style>\n",
       "<table border=\"1\" class=\"dataframe\">\n",
       "  <thead>\n",
       "    <tr style=\"text-align: right;\">\n",
       "      <th></th>\n",
       "      <th>begin_date</th>\n",
       "    </tr>\n",
       "    <tr>\n",
       "      <th>begin_year</th>\n",
       "      <th></th>\n",
       "    </tr>\n",
       "  </thead>\n",
       "  <tbody>\n",
       "    <tr>\n",
       "      <th>2013</th>\n",
       "      <td>8</td>\n",
       "    </tr>\n",
       "    <tr>\n",
       "      <th>2014</th>\n",
       "      <td>1344</td>\n",
       "    </tr>\n",
       "    <tr>\n",
       "      <th>2015</th>\n",
       "      <td>852</td>\n",
       "    </tr>\n",
       "    <tr>\n",
       "      <th>2016</th>\n",
       "      <td>763</td>\n",
       "    </tr>\n",
       "    <tr>\n",
       "      <th>2017</th>\n",
       "      <td>845</td>\n",
       "    </tr>\n",
       "    <tr>\n",
       "      <th>2018</th>\n",
       "      <td>1030</td>\n",
       "    </tr>\n",
       "    <tr>\n",
       "      <th>2019</th>\n",
       "      <td>1957</td>\n",
       "    </tr>\n",
       "    <tr>\n",
       "      <th>2020</th>\n",
       "      <td>244</td>\n",
       "    </tr>\n",
       "  </tbody>\n",
       "</table>\n",
       "</div>"
      ],
      "text/plain": [
       "            begin_date\n",
       "begin_year            \n",
       "2013                 8\n",
       "2014              1344\n",
       "2015               852\n",
       "2016               763\n",
       "2017               845\n",
       "2018              1030\n",
       "2019              1957\n",
       "2020               244"
      ]
     },
     "execution_count": 24,
     "metadata": {},
     "output_type": "execute_result"
    }
   ],
   "source": [
    "contract.pivot_table(index='begin_year', values='begin_date', aggfunc='count')"
   ]
  },
  {
   "cell_type": "markdown",
   "id": "4eececd8",
   "metadata": {
    "id": "4eececd8"
   },
   "source": [
    "Как и предполагалось в 2019 г. было заключено самое большое количество новых договоров"
   ]
  },
  {
   "cell_type": "code",
   "execution_count": 25,
   "id": "e4471303",
   "metadata": {
    "colab": {
     "base_uri": "https://localhost:8080/",
     "height": 611
    },
    "id": "e4471303",
    "outputId": "d07b3ed1-9ed0-4280-ed7e-f9576e815cb9"
   },
   "outputs": [
    {
     "data": {
      "text/html": [
       "<div>\n",
       "<style scoped>\n",
       "    .dataframe tbody tr th:only-of-type {\n",
       "        vertical-align: middle;\n",
       "    }\n",
       "\n",
       "    .dataframe tbody tr th {\n",
       "        vertical-align: top;\n",
       "    }\n",
       "\n",
       "    .dataframe thead th {\n",
       "        text-align: right;\n",
       "    }\n",
       "</style>\n",
       "<table border=\"1\" class=\"dataframe\">\n",
       "  <thead>\n",
       "    <tr style=\"text-align: right;\">\n",
       "      <th></th>\n",
       "      <th>monthly_charges</th>\n",
       "    </tr>\n",
       "    <tr>\n",
       "      <th>begin_year</th>\n",
       "      <th></th>\n",
       "    </tr>\n",
       "  </thead>\n",
       "  <tbody>\n",
       "    <tr>\n",
       "      <th>2013</th>\n",
       "      <td>804.25</td>\n",
       "    </tr>\n",
       "    <tr>\n",
       "      <th>2014</th>\n",
       "      <td>102323.75</td>\n",
       "    </tr>\n",
       "    <tr>\n",
       "      <th>2015</th>\n",
       "      <td>60435.55</td>\n",
       "    </tr>\n",
       "    <tr>\n",
       "      <th>2016</th>\n",
       "      <td>50975.10</td>\n",
       "    </tr>\n",
       "    <tr>\n",
       "      <th>2017</th>\n",
       "      <td>56117.20</td>\n",
       "    </tr>\n",
       "    <tr>\n",
       "      <th>2018</th>\n",
       "      <td>63885.60</td>\n",
       "    </tr>\n",
       "    <tr>\n",
       "      <th>2019</th>\n",
       "      <td>112286.75</td>\n",
       "    </tr>\n",
       "    <tr>\n",
       "      <th>2020</th>\n",
       "      <td>9288.40</td>\n",
       "    </tr>\n",
       "  </tbody>\n",
       "</table>\n",
       "</div>"
      ],
      "text/plain": [
       "            monthly_charges\n",
       "begin_year                 \n",
       "2013                 804.25\n",
       "2014              102323.75\n",
       "2015               60435.55\n",
       "2016               50975.10\n",
       "2017               56117.20\n",
       "2018               63885.60\n",
       "2019              112286.75\n",
       "2020                9288.40"
      ]
     },
     "metadata": {},
     "output_type": "display_data"
    },
    {
     "data": {
      "image/png": "[encoded data removed]",
      "text/plain": [
       "<Figure size 720x288 with 2 Axes>"
      ]
     },
     "metadata": {
      "needs_background": "light"
     },
     "output_type": "display_data"
    }
   ],
   "source": [
    "display(contract.pivot_table(index='begin_year', values='monthly_charges', aggfunc='sum'))\n",
    "plt.figure(figsize=(10,4))\n",
    "ax1 = plt.subplot(1, 2, 1)\n",
    "ax1 = sns.barplot(data=contract.pivot_table(index='begin_year', values='monthly_charges', aggfunc='sum').reset_index(),\n",
    "            x='begin_year', y='monthly_charges')\n",
    "ax1 = plt.title('Распред-ие ежемесячных платежей по годам')\n",
    "ax2 = plt.subplot(1, 2, 2)\n",
    "ax2 = sns.histplot(data=contract, x='monthly_charges')\n",
    "ax2 = plt.title('Распред-ие размеров ежемесячных платежей')\n",
    "plt.show()"
   ]
  },
  {
   "cell_type": "code",
   "execution_count": 26,
   "id": "a74a2bae",
   "metadata": {
    "id": "a74a2bae"
   },
   "outputs": [],
   "source": [
    "month_charges = contract.query('monthly_charges <=25')"
   ]
  },
  {
   "cell_type": "code",
   "execution_count": 27,
   "id": "e8a9bda4",
   "metadata": {
    "colab": {
     "base_uri": "https://localhost:8080/"
    },
    "id": "e8a9bda4",
    "outputId": "0b856f97-b78e-4765-f2af-76bef61a81f0"
   },
   "outputs": [
    {
     "name": "stdout",
     "output_type": "stream",
     "text": [
      " Количество человек, с размером ежемесячного платежа менее 25 у.е.: 1406\n"
     ]
    }
   ],
   "source": [
    "print(f' Количество человек, с размером ежемесячного платежа менее 25 у.е.: {len(month_charges)}')"
   ]
  },
  {
   "cell_type": "code",
   "execution_count": 28,
   "id": "fae1d4ae",
   "metadata": {
    "colab": {
     "base_uri": "https://localhost:8080/",
     "height": 548
    },
    "id": "fae1d4ae",
    "outputId": "f4e77b5c-6a40-4927-a30e-edcb9e8f8faa"
   },
   "outputs": [
    {
     "data": {
      "image/png": "[encoded data removed]",
      "text/plain": [
       "<Figure size 432x288 with 1 Axes>"
      ]
     },
     "metadata": {
      "needs_background": "light"
     },
     "output_type": "display_data"
    },
    {
     "data": {
      "text/html": [
       "<div>\n",
       "<style scoped>\n",
       "    .dataframe tbody tr th:only-of-type {\n",
       "        vertical-align: middle;\n",
       "    }\n",
       "\n",
       "    .dataframe tbody tr th {\n",
       "        vertical-align: top;\n",
       "    }\n",
       "\n",
       "    .dataframe thead th {\n",
       "        text-align: right;\n",
       "    }\n",
       "</style>\n",
       "<table border=\"1\" class=\"dataframe\">\n",
       "  <thead>\n",
       "    <tr style=\"text-align: right;\">\n",
       "      <th></th>\n",
       "      <th>begin_year</th>\n",
       "      <th>monthly_charges</th>\n",
       "    </tr>\n",
       "  </thead>\n",
       "  <tbody>\n",
       "    <tr>\n",
       "      <th>0</th>\n",
       "      <td>2014</td>\n",
       "      <td>197</td>\n",
       "    </tr>\n",
       "    <tr>\n",
       "      <th>1</th>\n",
       "      <td>2015</td>\n",
       "      <td>152</td>\n",
       "    </tr>\n",
       "    <tr>\n",
       "      <th>2</th>\n",
       "      <td>2016</td>\n",
       "      <td>144</td>\n",
       "    </tr>\n",
       "    <tr>\n",
       "      <th>3</th>\n",
       "      <td>2017</td>\n",
       "      <td>145</td>\n",
       "    </tr>\n",
       "    <tr>\n",
       "      <th>4</th>\n",
       "      <td>2018</td>\n",
       "      <td>223</td>\n",
       "    </tr>\n",
       "    <tr>\n",
       "      <th>5</th>\n",
       "      <td>2019</td>\n",
       "      <td>429</td>\n",
       "    </tr>\n",
       "    <tr>\n",
       "      <th>6</th>\n",
       "      <td>2020</td>\n",
       "      <td>116</td>\n",
       "    </tr>\n",
       "  </tbody>\n",
       "</table>\n",
       "</div>"
      ],
      "text/plain": [
       "   begin_year  monthly_charges\n",
       "0        2014              197\n",
       "1        2015              152\n",
       "2        2016              144\n",
       "3        2017              145\n",
       "4        2018              223\n",
       "5        2019              429\n",
       "6        2020              116"
      ]
     },
     "metadata": {},
     "output_type": "display_data"
    }
   ],
   "source": [
    "sns.barplot(\n",
    "    data=month_charges.pivot_table(index='begin_year', values='monthly_charges', aggfunc='count')\n",
    "    .reset_index(),\n",
    "    x='begin_year', y='monthly_charges')\n",
    "plt.title('Количество платежей размером менее 25 у.е.')\n",
    "plt.show()\n",
    "display(month_charges.pivot_table(index='begin_year', values='monthly_charges', aggfunc='count').reset_index())"
   ]
  },
  {
   "cell_type": "markdown",
   "id": "f009c7e7",
   "metadata": {
    "id": "f009c7e7"
   },
   "source": [
    "Также в 2019 г . лидирует по количеству ежемесячных платежей, размер которых не привышает 25 у.е. Из общего количества в 1405 человек, 429 приходится на 2019г, что частично подверждает привлечение клиентов в конце 2019 г. проведением промо-акции с льготными тарифами"
   ]
  },
  {
   "cell_type": "code",
   "execution_count": 29,
   "id": "0f425837",
   "metadata": {
    "colab": {
     "base_uri": "https://localhost:8080/",
     "height": 611
    },
    "id": "0f425837",
    "outputId": "7be54915-e2b4-4e3c-a54d-020223c6146e"
   },
   "outputs": [
    {
     "data": {
      "text/html": [
       "<div>\n",
       "<style scoped>\n",
       "    .dataframe tbody tr th:only-of-type {\n",
       "        vertical-align: middle;\n",
       "    }\n",
       "\n",
       "    .dataframe tbody tr th {\n",
       "        vertical-align: top;\n",
       "    }\n",
       "\n",
       "    .dataframe thead th {\n",
       "        text-align: right;\n",
       "    }\n",
       "</style>\n",
       "<table border=\"1\" class=\"dataframe\">\n",
       "  <thead>\n",
       "    <tr style=\"text-align: right;\">\n",
       "      <th></th>\n",
       "      <th>total_charges</th>\n",
       "    </tr>\n",
       "    <tr>\n",
       "      <th>begin_year</th>\n",
       "      <th></th>\n",
       "    </tr>\n",
       "  </thead>\n",
       "  <tbody>\n",
       "    <tr>\n",
       "      <th>2013</th>\n",
       "      <td>57107.05</td>\n",
       "    </tr>\n",
       "    <tr>\n",
       "      <th>2014</th>\n",
       "      <td>7001476.90</td>\n",
       "    </tr>\n",
       "    <tr>\n",
       "      <th>2015</th>\n",
       "      <td>3331765.75</td>\n",
       "    </tr>\n",
       "    <tr>\n",
       "      <th>2016</th>\n",
       "      <td>2196566.80</td>\n",
       "    </tr>\n",
       "    <tr>\n",
       "      <th>2017</th>\n",
       "      <td>1709424.75</td>\n",
       "    </tr>\n",
       "    <tr>\n",
       "      <th>2018</th>\n",
       "      <td>1163962.85</td>\n",
       "    </tr>\n",
       "    <tr>\n",
       "      <th>2019</th>\n",
       "      <td>587031.80</td>\n",
       "    </tr>\n",
       "    <tr>\n",
       "      <th>2020</th>\n",
       "      <td>9288.40</td>\n",
       "    </tr>\n",
       "  </tbody>\n",
       "</table>\n",
       "</div>"
      ],
      "text/plain": [
       "            total_charges\n",
       "begin_year               \n",
       "2013             57107.05\n",
       "2014           7001476.90\n",
       "2015           3331765.75\n",
       "2016           2196566.80\n",
       "2017           1709424.75\n",
       "2018           1163962.85\n",
       "2019            587031.80\n",
       "2020              9288.40"
      ]
     },
     "metadata": {},
     "output_type": "display_data"
    },
    {
     "data": {
      "image/png": "[encoded data removed]",
      "text/plain": [
       "<Figure size 720x288 with 2 Axes>"
      ]
     },
     "metadata": {
      "needs_background": "light"
     },
     "output_type": "display_data"
    }
   ],
   "source": [
    "display(contract.pivot_table(index='begin_year', values='total_charges', aggfunc='sum'))\n",
    "plt.figure(figsize=(10,4))\n",
    "ax1 = plt.subplot(1, 2, 1)\n",
    "ax1 = sns.barplot(data=contract.pivot_table(index='begin_year', values='total_charges', aggfunc='sum').reset_index(),\n",
    "            x='begin_year', y='total_charges')\n",
    "ax1 = plt.title('Распределение общего дохода по годам')\n",
    "ax2 = plt.subplot(1, 2, 2)\n",
    "ax2 = sns.histplot(data=contract, x='total_charges', bins=40)\n",
    "ax2 = plt.title('Распред-ие размеров общего дохода')\n",
    "plt.show()"
   ]
  },
  {
   "cell_type": "markdown",
   "id": "d5624241",
   "metadata": {
    "id": "d5624241"
   },
   "source": [
    "По графикам также видно, что в 2019 увеличилась общая сумма ежемесячных платежей, но это не повлияло на увеличение суммы общего дохода (из года в год заментное падение)"
   ]
  },
  {
   "cell_type": "markdown",
   "id": "15f2c385",
   "metadata": {
    "id": "15f2c385"
   },
   "source": [
    "Добавим столбец `target`, в котором в бинарном виде будет отображаться факт ухода клиентов 0- действующий догово; 1- прекращенный договор"
   ]
  },
  {
   "cell_type": "code",
   "execution_count": 30,
   "id": "e215a90d",
   "metadata": {
    "id": "e215a90d"
   },
   "outputs": [],
   "source": [
    "contract['target'] = 1\n",
    "contract.loc[(contract['end_date']=='No'), 'target'] = 0"
   ]
  },
  {
   "cell_type": "code",
   "execution_count": 31,
   "id": "bed12539",
   "metadata": {
    "colab": {
     "base_uri": "https://localhost:8080/"
    },
    "id": "bed12539",
    "outputId": "e975689c-6295-4b95-eff3-3efc282f4a4a"
   },
   "outputs": [
    {
     "data": {
      "text/plain": [
       "0    0.73463\n",
       "1    0.26537\n",
       "Name: target, dtype: float64"
      ]
     },
     "execution_count": 31,
     "metadata": {},
     "output_type": "execute_result"
    }
   ],
   "source": [
    "contract['target'].value_counts(normalize=True)"
   ]
  },
  {
   "cell_type": "markdown",
   "id": "5b4a1e51",
   "metadata": {
    "id": "5b4a1e51"
   },
   "source": [
    "Соотношение ушедших клиентов к действующим составляет примерно 70/30"
   ]
  },
  {
   "cell_type": "code",
   "execution_count": 32,
   "id": "fc95be1b",
   "metadata": {
    "colab": {
     "base_uri": "https://localhost:8080/"
    },
    "id": "fc95be1b",
    "outputId": "1b9aade9-0033-439a-85d9-5a76d5a0d5f6",
    "scrolled": true
   },
   "outputs": [
    {
     "data": {
      "text/plain": [
       "Month-to-month    1655\n",
       "One year           166\n",
       "Two year            48\n",
       "Name: type, dtype: int64"
      ]
     },
     "execution_count": 32,
     "metadata": {},
     "output_type": "execute_result"
    }
   ],
   "source": [
    "torn = contract.query('target == 1')\n",
    "torn['type'].value_counts()"
   ]
  },
  {
   "cell_type": "markdown",
   "id": "2d6e1f8e",
   "metadata": {
    "id": "2d6e1f8e"
   },
   "source": [
    "Наибольшая доля ушедших клиентов выбрала помесячный спопоб оплаты"
   ]
  },
  {
   "cell_type": "markdown",
   "id": "19219d51",
   "metadata": {
    "id": "19219d51"
   },
   "source": [
    "Создадим столбец `termination_date`  для вычисления дельты действия договоров, значения которой будут находиться в столбце `duration`"
   ]
  },
  {
   "cell_type": "code",
   "execution_count": 33,
   "id": "d8dc3bd3",
   "metadata": {
    "id": "d8dc3bd3"
   },
   "outputs": [],
   "source": [
    "contract['termination_date'] = contract['end_date']"
   ]
  },
  {
   "cell_type": "code",
   "execution_count": 34,
   "id": "13f88c64",
   "metadata": {
    "id": "13f88c64"
   },
   "outputs": [],
   "source": [
    "contract.loc[(contract['termination_date']=='No'), 'termination_date'] = '2020-02-01'"
   ]
  },
  {
   "cell_type": "code",
   "execution_count": 35,
   "id": "05ff7582",
   "metadata": {
    "id": "05ff7582"
   },
   "outputs": [],
   "source": [
    "contract['termination_date'] = pd.to_datetime(contract['termination_date'])"
   ]
  },
  {
   "cell_type": "code",
   "execution_count": 36,
   "id": "0966bb19",
   "metadata": {
    "colab": {
     "base_uri": "https://localhost:8080/"
    },
    "id": "0966bb19",
    "outputId": "32d5939e-b02a-46c1-8144-d4b02162a6aa"
   },
   "outputs": [
    {
     "name": "stdout",
     "output_type": "stream",
     "text": [
      "<class 'pandas.core.frame.DataFrame'>\n",
      "RangeIndex: 7043 entries, 0 to 7042\n",
      "Data columns (total 12 columns):\n",
      " #   Column             Non-Null Count  Dtype         \n",
      "---  ------             --------------  -----         \n",
      " 0   customer_i_d       7043 non-null   object        \n",
      " 1   begin_date         7043 non-null   datetime64[ns]\n",
      " 2   end_date           7043 non-null   object        \n",
      " 3   type               7043 non-null   object        \n",
      " 4   paperless_billing  7043 non-null   object        \n",
      " 5   payment_method     7043 non-null   object        \n",
      " 6   monthly_charges    7043 non-null   float64       \n",
      " 7   total_charges      7043 non-null   float64       \n",
      " 8   begin_year         7043 non-null   int64         \n",
      " 9   target             7043 non-null   int64         \n",
      " 10  termination_date   7043 non-null   datetime64[ns]\n",
      " 11  duration           7043 non-null   int64         \n",
      "dtypes: datetime64[ns](2), float64(2), int64(3), object(5)\n",
      "memory usage: 660.4+ KB\n"
     ]
    }
   ],
   "source": [
    "contract['duration'] = (contract['termination_date'] - contract['begin_date'])\n",
    "contract['duration'] = contract['duration'].dt.days \n",
    "contract.info()"
   ]
  },
  {
   "cell_type": "code",
   "execution_count": 37,
   "id": "d8b2a825",
   "metadata": {
    "colab": {
     "base_uri": "https://localhost:8080/",
     "height": 295
    },
    "id": "d8b2a825",
    "outputId": "0b3e0a45-64e8-416e-bf87-2b1d6a0c9cc2",
    "scrolled": false
   },
   "outputs": [
    {
     "data": {
      "image/png": "[encoded data removed]",
      "text/plain": [
       "<Figure size 432x288 with 1 Axes>"
      ]
     },
     "metadata": {
      "needs_background": "light"
     },
     "output_type": "display_data"
    }
   ],
   "source": [
    "sns.histplot(data=contract, x='duration')\n",
    "plt.title('Распределение продолжительности действия договоров (в днях)')\n",
    "plt.show()"
   ]
  },
  {
   "cell_type": "code",
   "execution_count": 38,
   "id": "9c320e0a",
   "metadata": {
    "colab": {
     "base_uri": "https://localhost:8080/",
     "height": 206
    },
    "id": "9c320e0a",
    "outputId": "5e16639a-e5c3-40f8-cb32-af6e628e0dd9"
   },
   "outputs": [
    {
     "data": {
      "text/html": [
       "<div>\n",
       "<style scoped>\n",
       "    .dataframe tbody tr th:only-of-type {\n",
       "        vertical-align: middle;\n",
       "    }\n",
       "\n",
       "    .dataframe tbody tr th {\n",
       "        vertical-align: top;\n",
       "    }\n",
       "\n",
       "    .dataframe thead th {\n",
       "        text-align: right;\n",
       "    }\n",
       "</style>\n",
       "<table border=\"1\" class=\"dataframe\">\n",
       "  <thead>\n",
       "    <tr style=\"text-align: right;\">\n",
       "      <th></th>\n",
       "      <th>monthly_charges</th>\n",
       "    </tr>\n",
       "    <tr>\n",
       "      <th>begin_date</th>\n",
       "      <th></th>\n",
       "    </tr>\n",
       "  </thead>\n",
       "  <tbody>\n",
       "    <tr>\n",
       "      <th>2019-09-01</th>\n",
       "      <td>83</td>\n",
       "    </tr>\n",
       "    <tr>\n",
       "      <th>2019-10-01</th>\n",
       "      <td>93</td>\n",
       "    </tr>\n",
       "    <tr>\n",
       "      <th>2019-11-01</th>\n",
       "      <td>99</td>\n",
       "    </tr>\n",
       "    <tr>\n",
       "      <th>2019-12-01</th>\n",
       "      <td>105</td>\n",
       "    </tr>\n",
       "  </tbody>\n",
       "</table>\n",
       "</div>"
      ],
      "text/plain": [
       "            monthly_charges\n",
       "begin_date                 \n",
       "2019-09-01               83\n",
       "2019-10-01               93\n",
       "2019-11-01               99\n",
       "2019-12-01              105"
      ]
     },
     "execution_count": 38,
     "metadata": {},
     "output_type": "execute_result"
    }
   ],
   "source": [
    "short_term = contract.query('duration <=31 and target==1')\n",
    "b = short_term.pivot_table(index='begin_date', values='monthly_charges', aggfunc='count')\n",
    "b"
   ]
  },
  {
   "cell_type": "code",
   "execution_count": 39,
   "id": "c0f13e5b",
   "metadata": {
    "colab": {
     "base_uri": "https://localhost:8080/"
    },
    "id": "c0f13e5b",
    "outputId": "c5833ea0-9b3f-4d8a-e7bc-33974c7ebed7",
    "scrolled": true
   },
   "outputs": [
    {
     "name": "stdout",
     "output_type": "stream",
     "text": [
      "Количество расторгнутых договоров, срок которых менее 31 дня: 380\n",
      "Общее количество расторгнутых договоров: 1869\n"
     ]
    }
   ],
   "source": [
    "print(f'Количество расторгнутых договоров, срок которых менее 31 дня: {b.monthly_charges.sum()}')\n",
    "print(f'Общее количество расторгнутых договоров: {contract[contract.target ==1].shape[0]}')"
   ]
  },
  {
   "cell_type": "code",
   "execution_count": 40,
   "id": "7487cee7",
   "metadata": {
    "colab": {
     "base_uri": "https://localhost:8080/",
     "height": 708
    },
    "id": "7487cee7",
    "outputId": "c123c3a2-23bd-44c5-92d7-d045e9d13aaa",
    "scrolled": true
   },
   "outputs": [
    {
     "data": {
      "text/html": [
       "<div>\n",
       "<style scoped>\n",
       "    .dataframe tbody tr th:only-of-type {\n",
       "        vertical-align: middle;\n",
       "    }\n",
       "\n",
       "    .dataframe tbody tr th {\n",
       "        vertical-align: top;\n",
       "    }\n",
       "\n",
       "    .dataframe thead th {\n",
       "        text-align: right;\n",
       "    }\n",
       "</style>\n",
       "<table border=\"1\" class=\"dataframe\">\n",
       "  <thead>\n",
       "    <tr style=\"text-align: right;\">\n",
       "      <th></th>\n",
       "      <th>type</th>\n",
       "    </tr>\n",
       "    <tr>\n",
       "      <th>begin_date</th>\n",
       "      <th></th>\n",
       "    </tr>\n",
       "  </thead>\n",
       "  <tbody>\n",
       "    <tr>\n",
       "      <th>2019-09-01</th>\n",
       "      <td>168</td>\n",
       "    </tr>\n",
       "    <tr>\n",
       "      <th>2019-10-01</th>\n",
       "      <td>144</td>\n",
       "    </tr>\n",
       "    <tr>\n",
       "      <th>2019-11-01</th>\n",
       "      <td>131</td>\n",
       "    </tr>\n",
       "    <tr>\n",
       "      <th>2019-12-01</th>\n",
       "      <td>105</td>\n",
       "    </tr>\n",
       "    <tr>\n",
       "      <th>2019-08-01</th>\n",
       "      <td>76</td>\n",
       "    </tr>\n",
       "    <tr>\n",
       "      <th>2019-07-01</th>\n",
       "      <td>76</td>\n",
       "    </tr>\n",
       "    <tr>\n",
       "      <th>2019-06-01</th>\n",
       "      <td>60</td>\n",
       "    </tr>\n",
       "    <tr>\n",
       "      <th>2019-05-01</th>\n",
       "      <td>50</td>\n",
       "    </tr>\n",
       "    <tr>\n",
       "      <th>2019-02-01</th>\n",
       "      <td>49</td>\n",
       "    </tr>\n",
       "    <tr>\n",
       "      <th>2019-01-01</th>\n",
       "      <td>43</td>\n",
       "    </tr>\n",
       "    <tr>\n",
       "      <th>2019-03-01</th>\n",
       "      <td>42</td>\n",
       "    </tr>\n",
       "    <tr>\n",
       "      <th>2018-09-01</th>\n",
       "      <td>39</td>\n",
       "    </tr>\n",
       "    <tr>\n",
       "      <th>2018-12-01</th>\n",
       "      <td>38</td>\n",
       "    </tr>\n",
       "    <tr>\n",
       "      <th>2019-04-01</th>\n",
       "      <td>37</td>\n",
       "    </tr>\n",
       "    <tr>\n",
       "      <th>2018-11-01</th>\n",
       "      <td>37</td>\n",
       "    </tr>\n",
       "    <tr>\n",
       "      <th>2018-06-01</th>\n",
       "      <td>31</td>\n",
       "    </tr>\n",
       "    <tr>\n",
       "      <th>2018-08-01</th>\n",
       "      <td>27</td>\n",
       "    </tr>\n",
       "    <tr>\n",
       "      <th>2017-12-01</th>\n",
       "      <td>26</td>\n",
       "    </tr>\n",
       "    <tr>\n",
       "      <th>2018-07-01</th>\n",
       "      <td>26</td>\n",
       "    </tr>\n",
       "    <tr>\n",
       "      <th>2018-10-01</th>\n",
       "      <td>26</td>\n",
       "    </tr>\n",
       "  </tbody>\n",
       "</table>\n",
       "</div>"
      ],
      "text/plain": [
       "            type\n",
       "begin_date      \n",
       "2019-09-01   168\n",
       "2019-10-01   144\n",
       "2019-11-01   131\n",
       "2019-12-01   105\n",
       "2019-08-01    76\n",
       "2019-07-01    76\n",
       "2019-06-01    60\n",
       "2019-05-01    50\n",
       "2019-02-01    49\n",
       "2019-01-01    43\n",
       "2019-03-01    42\n",
       "2018-09-01    39\n",
       "2018-12-01    38\n",
       "2019-04-01    37\n",
       "2018-11-01    37\n",
       "2018-06-01    31\n",
       "2018-08-01    27\n",
       "2017-12-01    26\n",
       "2018-07-01    26\n",
       "2018-10-01    26"
      ]
     },
     "execution_count": 40,
     "metadata": {},
     "output_type": "execute_result"
    }
   ],
   "source": [
    "(torn\n",
    " .pivot_table(index='begin_date', values=['type'], aggfunc='count')\n",
    " .sort_values(by='type', ascending=False)\n",
    ").head(20)\n"
   ]
  },
  {
   "cell_type": "markdown",
   "id": "58a9d75e",
   "metadata": {
    "id": "58a9d75e"
   },
   "source": [
    "Наибольшее количество расторгнутых договоров у клиентов, которые заключили договор с сентября по декабрь 2019г."
   ]
  },
  {
   "cell_type": "markdown",
   "id": "745a7646",
   "metadata": {
    "id": "745a7646"
   },
   "source": [
    "## Вывод\n",
    "\n",
    "1. Отток начинается с 1 ноября 2019 г. Каждый следующий месяц уходит примерно одно количество клиентов (в районе 460)  \n",
    "2. С сентября 2019 по январь 2020 наблюдается прирост в количестве заключенных договоров. Эти даты рядом с датами прекращения договоров уже действующих клиентов. Возможно увеличения количество заключенных договоров связано с проведением какой-либо промо акции для привлечения. Что в этот период могло повлиять на отток?  \n",
    "3. Как и предполагалось в 2019 г. было заключено самое большое количество новых договоров  \n",
    "4. Также в 2019 г . лидирует по количеству ежемесячных платежей, размер которых не привышает 25 у.е. Из общего количества в 1405 человек, 429 приходится на 2019г, что частично подверждает привлечение клиентов в конце 2019 г. проведением промо-акции с льготными тарифами  \n",
    "5. По графикам, представленным выше, также видно, что в 2019 увеличилась общая сумма ежемесячных платежей, но это не повлияло на увеличение суммы общего дохода (из года в год заментное падение)\n",
    "6. Наибольшая доля ушедших клиентов выбрала помесячный спопоб оплаты\n",
    "\n",
    "Итог: предположительно, для привлечения новых клиентов во второй половине 2019 г. была запущена какая-то сезонная промо акция. Следовательно, увеличилось количество первичных договоров, которые по итогу, спустя короткое время, прекращались."
   ]
  },
  {
   "cell_type": "markdown",
   "id": "149838f9",
   "metadata": {
    "id": "149838f9"
   },
   "source": [
    "# Подготовка данных"
   ]
  },
  {
   "cell_type": "markdown",
   "id": "NRa9DorflBEA",
   "metadata": {
    "id": "NRa9DorflBEA"
   },
   "source": [
    "Объединим все таблицы в одну по столбцу `customer_i_d`"
   ]
  },
  {
   "cell_type": "code",
   "execution_count": 41,
   "id": "005dc467",
   "metadata": {
    "id": "005dc467"
   },
   "outputs": [],
   "source": [
    "df = personal.merge(contract, on='customer_i_d', how='left')"
   ]
  },
  {
   "cell_type": "code",
   "execution_count": 42,
   "id": "a5060ff0",
   "metadata": {
    "colab": {
     "base_uri": "https://localhost:8080/",
     "height": 228
    },
    "id": "a5060ff0",
    "outputId": "735567b7-f673-498f-9555-7bf9cfd861a9"
   },
   "outputs": [
    {
     "data": {
      "text/html": [
       "<div>\n",
       "<style scoped>\n",
       "    .dataframe tbody tr th:only-of-type {\n",
       "        vertical-align: middle;\n",
       "    }\n",
       "\n",
       "    .dataframe tbody tr th {\n",
       "        vertical-align: top;\n",
       "    }\n",
       "\n",
       "    .dataframe thead th {\n",
       "        text-align: right;\n",
       "    }\n",
       "</style>\n",
       "<table border=\"1\" class=\"dataframe\">\n",
       "  <thead>\n",
       "    <tr style=\"text-align: right;\">\n",
       "      <th></th>\n",
       "      <th>customer_i_d</th>\n",
       "      <th>gender</th>\n",
       "      <th>senior_citizen</th>\n",
       "      <th>partner</th>\n",
       "      <th>dependents</th>\n",
       "      <th>begin_date</th>\n",
       "      <th>end_date</th>\n",
       "      <th>type</th>\n",
       "      <th>paperless_billing</th>\n",
       "      <th>payment_method</th>\n",
       "      <th>monthly_charges</th>\n",
       "      <th>total_charges</th>\n",
       "      <th>begin_year</th>\n",
       "      <th>target</th>\n",
       "      <th>termination_date</th>\n",
       "      <th>duration</th>\n",
       "    </tr>\n",
       "  </thead>\n",
       "  <tbody>\n",
       "    <tr>\n",
       "      <th>0</th>\n",
       "      <td>7590-VHVEG</td>\n",
       "      <td>Female</td>\n",
       "      <td>0</td>\n",
       "      <td>Yes</td>\n",
       "      <td>No</td>\n",
       "      <td>2020-01-01</td>\n",
       "      <td>No</td>\n",
       "      <td>Month-to-month</td>\n",
       "      <td>Yes</td>\n",
       "      <td>Electronic check</td>\n",
       "      <td>29.85</td>\n",
       "      <td>29.85</td>\n",
       "      <td>2020</td>\n",
       "      <td>0</td>\n",
       "      <td>2020-02-01</td>\n",
       "      <td>31</td>\n",
       "    </tr>\n",
       "    <tr>\n",
       "      <th>1</th>\n",
       "      <td>5575-GNVDE</td>\n",
       "      <td>Male</td>\n",
       "      <td>0</td>\n",
       "      <td>No</td>\n",
       "      <td>No</td>\n",
       "      <td>2017-04-01</td>\n",
       "      <td>No</td>\n",
       "      <td>One year</td>\n",
       "      <td>No</td>\n",
       "      <td>Mailed check</td>\n",
       "      <td>56.95</td>\n",
       "      <td>1889.50</td>\n",
       "      <td>2017</td>\n",
       "      <td>0</td>\n",
       "      <td>2020-02-01</td>\n",
       "      <td>1036</td>\n",
       "    </tr>\n",
       "  </tbody>\n",
       "</table>\n",
       "</div>"
      ],
      "text/plain": [
       "  customer_i_d  gender  senior_citizen partner dependents begin_date end_date  \\\n",
       "0   7590-VHVEG  Female               0     Yes         No 2020-01-01       No   \n",
       "1   5575-GNVDE    Male               0      No         No 2017-04-01       No   \n",
       "\n",
       "             type paperless_billing    payment_method  monthly_charges  \\\n",
       "0  Month-to-month               Yes  Electronic check            29.85   \n",
       "1        One year                No      Mailed check            56.95   \n",
       "\n",
       "   total_charges  begin_year  target termination_date  duration  \n",
       "0          29.85        2020       0       2020-02-01        31  \n",
       "1        1889.50        2017       0       2020-02-01      1036  "
      ]
     },
     "execution_count": 42,
     "metadata": {},
     "output_type": "execute_result"
    }
   ],
   "source": [
    "df.head(2)"
   ]
  },
  {
   "cell_type": "code",
   "execution_count": 43,
   "id": "e50eac7b",
   "metadata": {
    "id": "e50eac7b"
   },
   "outputs": [],
   "source": [
    "df = df.merge(internet, on='customer_i_d', how='left')"
   ]
  },
  {
   "cell_type": "code",
   "execution_count": 44,
   "id": "23f676e2",
   "metadata": {
    "colab": {
     "base_uri": "https://localhost:8080/",
     "height": 228
    },
    "id": "23f676e2",
    "outputId": "9134242d-a462-4e1b-8fe9-8ef20b248dfb"
   },
   "outputs": [
    {
     "data": {
      "text/html": [
       "<div>\n",
       "<style scoped>\n",
       "    .dataframe tbody tr th:only-of-type {\n",
       "        vertical-align: middle;\n",
       "    }\n",
       "\n",
       "    .dataframe tbody tr th {\n",
       "        vertical-align: top;\n",
       "    }\n",
       "\n",
       "    .dataframe thead th {\n",
       "        text-align: right;\n",
       "    }\n",
       "</style>\n",
       "<table border=\"1\" class=\"dataframe\">\n",
       "  <thead>\n",
       "    <tr style=\"text-align: right;\">\n",
       "      <th></th>\n",
       "      <th>customer_i_d</th>\n",
       "      <th>gender</th>\n",
       "      <th>senior_citizen</th>\n",
       "      <th>partner</th>\n",
       "      <th>dependents</th>\n",
       "      <th>begin_date</th>\n",
       "      <th>end_date</th>\n",
       "      <th>type</th>\n",
       "      <th>paperless_billing</th>\n",
       "      <th>payment_method</th>\n",
       "      <th>monthly_charges</th>\n",
       "      <th>total_charges</th>\n",
       "      <th>begin_year</th>\n",
       "      <th>target</th>\n",
       "      <th>termination_date</th>\n",
       "      <th>duration</th>\n",
       "      <th>internet_service</th>\n",
       "      <th>online_security</th>\n",
       "      <th>online_backup</th>\n",
       "      <th>device_protection</th>\n",
       "      <th>tech_support</th>\n",
       "      <th>streaming_t_v</th>\n",
       "      <th>streaming_movies</th>\n",
       "    </tr>\n",
       "  </thead>\n",
       "  <tbody>\n",
       "    <tr>\n",
       "      <th>0</th>\n",
       "      <td>7590-VHVEG</td>\n",
       "      <td>Female</td>\n",
       "      <td>0</td>\n",
       "      <td>Yes</td>\n",
       "      <td>No</td>\n",
       "      <td>2020-01-01</td>\n",
       "      <td>No</td>\n",
       "      <td>Month-to-month</td>\n",
       "      <td>Yes</td>\n",
       "      <td>Electronic check</td>\n",
       "      <td>29.85</td>\n",
       "      <td>29.85</td>\n",
       "      <td>2020</td>\n",
       "      <td>0</td>\n",
       "      <td>2020-02-01</td>\n",
       "      <td>31</td>\n",
       "      <td>DSL</td>\n",
       "      <td>No</td>\n",
       "      <td>Yes</td>\n",
       "      <td>No</td>\n",
       "      <td>No</td>\n",
       "      <td>No</td>\n",
       "      <td>No</td>\n",
       "    </tr>\n",
       "    <tr>\n",
       "      <th>1</th>\n",
       "      <td>5575-GNVDE</td>\n",
       "      <td>Male</td>\n",
       "      <td>0</td>\n",
       "      <td>No</td>\n",
       "      <td>No</td>\n",
       "      <td>2017-04-01</td>\n",
       "      <td>No</td>\n",
       "      <td>One year</td>\n",
       "      <td>No</td>\n",
       "      <td>Mailed check</td>\n",
       "      <td>56.95</td>\n",
       "      <td>1889.50</td>\n",
       "      <td>2017</td>\n",
       "      <td>0</td>\n",
       "      <td>2020-02-01</td>\n",
       "      <td>1036</td>\n",
       "      <td>DSL</td>\n",
       "      <td>Yes</td>\n",
       "      <td>No</td>\n",
       "      <td>Yes</td>\n",
       "      <td>No</td>\n",
       "      <td>No</td>\n",
       "      <td>No</td>\n",
       "    </tr>\n",
       "  </tbody>\n",
       "</table>\n",
       "</div>"
      ],
      "text/plain": [
       "  customer_i_d  gender  senior_citizen partner dependents begin_date end_date  \\\n",
       "0   7590-VHVEG  Female               0     Yes         No 2020-01-01       No   \n",
       "1   5575-GNVDE    Male               0      No         No 2017-04-01       No   \n",
       "\n",
       "             type paperless_billing    payment_method  monthly_charges  \\\n",
       "0  Month-to-month               Yes  Electronic check            29.85   \n",
       "1        One year                No      Mailed check            56.95   \n",
       "\n",
       "   total_charges  begin_year  target termination_date  duration  \\\n",
       "0          29.85        2020       0       2020-02-01        31   \n",
       "1        1889.50        2017       0       2020-02-01      1036   \n",
       "\n",
       "  internet_service online_security online_backup device_protection  \\\n",
       "0              DSL              No           Yes                No   \n",
       "1              DSL             Yes            No               Yes   \n",
       "\n",
       "  tech_support streaming_t_v streaming_movies  \n",
       "0           No            No               No  \n",
       "1           No            No               No  "
      ]
     },
     "execution_count": 44,
     "metadata": {},
     "output_type": "execute_result"
    }
   ],
   "source": [
    "df.head(2)"
   ]
  },
  {
   "cell_type": "code",
   "execution_count": 45,
   "id": "7388f676",
   "metadata": {
    "id": "7388f676"
   },
   "outputs": [],
   "source": [
    "df = df.merge(phone, on='customer_i_d', how='left')"
   ]
  },
  {
   "cell_type": "code",
   "execution_count": 46,
   "id": "80ae7702",
   "metadata": {
    "colab": {
     "base_uri": "https://localhost:8080/",
     "height": 228
    },
    "id": "80ae7702",
    "outputId": "964a4296-6e3a-4674-f475-ea408fbb44f3"
   },
   "outputs": [
    {
     "data": {
      "text/html": [
       "<div>\n",
       "<style scoped>\n",
       "    .dataframe tbody tr th:only-of-type {\n",
       "        vertical-align: middle;\n",
       "    }\n",
       "\n",
       "    .dataframe tbody tr th {\n",
       "        vertical-align: top;\n",
       "    }\n",
       "\n",
       "    .dataframe thead th {\n",
       "        text-align: right;\n",
       "    }\n",
       "</style>\n",
       "<table border=\"1\" class=\"dataframe\">\n",
       "  <thead>\n",
       "    <tr style=\"text-align: right;\">\n",
       "      <th></th>\n",
       "      <th>customer_i_d</th>\n",
       "      <th>gender</th>\n",
       "      <th>senior_citizen</th>\n",
       "      <th>partner</th>\n",
       "      <th>dependents</th>\n",
       "      <th>begin_date</th>\n",
       "      <th>end_date</th>\n",
       "      <th>type</th>\n",
       "      <th>paperless_billing</th>\n",
       "      <th>payment_method</th>\n",
       "      <th>monthly_charges</th>\n",
       "      <th>total_charges</th>\n",
       "      <th>begin_year</th>\n",
       "      <th>target</th>\n",
       "      <th>termination_date</th>\n",
       "      <th>duration</th>\n",
       "      <th>internet_service</th>\n",
       "      <th>online_security</th>\n",
       "      <th>online_backup</th>\n",
       "      <th>device_protection</th>\n",
       "      <th>tech_support</th>\n",
       "      <th>streaming_t_v</th>\n",
       "      <th>streaming_movies</th>\n",
       "      <th>multiple_lines</th>\n",
       "    </tr>\n",
       "  </thead>\n",
       "  <tbody>\n",
       "    <tr>\n",
       "      <th>0</th>\n",
       "      <td>7590-VHVEG</td>\n",
       "      <td>Female</td>\n",
       "      <td>0</td>\n",
       "      <td>Yes</td>\n",
       "      <td>No</td>\n",
       "      <td>2020-01-01</td>\n",
       "      <td>No</td>\n",
       "      <td>Month-to-month</td>\n",
       "      <td>Yes</td>\n",
       "      <td>Electronic check</td>\n",
       "      <td>29.85</td>\n",
       "      <td>29.85</td>\n",
       "      <td>2020</td>\n",
       "      <td>0</td>\n",
       "      <td>2020-02-01</td>\n",
       "      <td>31</td>\n",
       "      <td>DSL</td>\n",
       "      <td>No</td>\n",
       "      <td>Yes</td>\n",
       "      <td>No</td>\n",
       "      <td>No</td>\n",
       "      <td>No</td>\n",
       "      <td>No</td>\n",
       "      <td>NaN</td>\n",
       "    </tr>\n",
       "    <tr>\n",
       "      <th>1</th>\n",
       "      <td>5575-GNVDE</td>\n",
       "      <td>Male</td>\n",
       "      <td>0</td>\n",
       "      <td>No</td>\n",
       "      <td>No</td>\n",
       "      <td>2017-04-01</td>\n",
       "      <td>No</td>\n",
       "      <td>One year</td>\n",
       "      <td>No</td>\n",
       "      <td>Mailed check</td>\n",
       "      <td>56.95</td>\n",
       "      <td>1889.50</td>\n",
       "      <td>2017</td>\n",
       "      <td>0</td>\n",
       "      <td>2020-02-01</td>\n",
       "      <td>1036</td>\n",
       "      <td>DSL</td>\n",
       "      <td>Yes</td>\n",
       "      <td>No</td>\n",
       "      <td>Yes</td>\n",
       "      <td>No</td>\n",
       "      <td>No</td>\n",
       "      <td>No</td>\n",
       "      <td>No</td>\n",
       "    </tr>\n",
       "  </tbody>\n",
       "</table>\n",
       "</div>"
      ],
      "text/plain": [
       "  customer_i_d  gender  senior_citizen partner dependents begin_date end_date  \\\n",
       "0   7590-VHVEG  Female               0     Yes         No 2020-01-01       No   \n",
       "1   5575-GNVDE    Male               0      No         No 2017-04-01       No   \n",
       "\n",
       "             type paperless_billing    payment_method  monthly_charges  \\\n",
       "0  Month-to-month               Yes  Electronic check            29.85   \n",
       "1        One year                No      Mailed check            56.95   \n",
       "\n",
       "   total_charges  begin_year  target termination_date  duration  \\\n",
       "0          29.85        2020       0       2020-02-01        31   \n",
       "1        1889.50        2017       0       2020-02-01      1036   \n",
       "\n",
       "  internet_service online_security online_backup device_protection  \\\n",
       "0              DSL              No           Yes                No   \n",
       "1              DSL             Yes            No               Yes   \n",
       "\n",
       "  tech_support streaming_t_v streaming_movies multiple_lines  \n",
       "0           No            No               No            NaN  \n",
       "1           No            No               No             No  "
      ]
     },
     "execution_count": 46,
     "metadata": {},
     "output_type": "execute_result"
    }
   ],
   "source": [
    "df.head(2)"
   ]
  },
  {
   "cell_type": "code",
   "execution_count": 47,
   "id": "f1c5049d",
   "metadata": {
    "colab": {
     "base_uri": "https://localhost:8080/"
    },
    "id": "f1c5049d",
    "outputId": "d4325527-948b-4968-9429-32cc1d9a9cc7",
    "scrolled": true
   },
   "outputs": [
    {
     "name": "stdout",
     "output_type": "stream",
     "text": [
      "<class 'pandas.core.frame.DataFrame'>\n",
      "Int64Index: 7043 entries, 0 to 7042\n",
      "Data columns (total 24 columns):\n",
      " #   Column             Non-Null Count  Dtype         \n",
      "---  ------             --------------  -----         \n",
      " 0   customer_i_d       7043 non-null   object        \n",
      " 1   gender             7043 non-null   object        \n",
      " 2   senior_citizen     7043 non-null   int64         \n",
      " 3   partner            7043 non-null   object        \n",
      " 4   dependents         7043 non-null   object        \n",
      " 5   begin_date         7043 non-null   datetime64[ns]\n",
      " 6   end_date           7043 non-null   object        \n",
      " 7   type               7043 non-null   object        \n",
      " 8   paperless_billing  7043 non-null   object        \n",
      " 9   payment_method     7043 non-null   object        \n",
      " 10  monthly_charges    7043 non-null   float64       \n",
      " 11  total_charges      7043 non-null   float64       \n",
      " 12  begin_year         7043 non-null   int64         \n",
      " 13  target             7043 non-null   int64         \n",
      " 14  termination_date   7043 non-null   datetime64[ns]\n",
      " 15  duration           7043 non-null   int64         \n",
      " 16  internet_service   5517 non-null   object        \n",
      " 17  online_security    5517 non-null   object        \n",
      " 18  online_backup      5517 non-null   object        \n",
      " 19  device_protection  5517 non-null   object        \n",
      " 20  tech_support       5517 non-null   object        \n",
      " 21  streaming_t_v      5517 non-null   object        \n",
      " 22  streaming_movies   5517 non-null   object        \n",
      " 23  multiple_lines     6361 non-null   object        \n",
      "dtypes: datetime64[ns](2), float64(2), int64(4), object(16)\n",
      "memory usage: 1.3+ MB\n"
     ]
    }
   ],
   "source": [
    "df.info()"
   ]
  },
  {
   "cell_type": "code",
   "execution_count": 48,
   "id": "58e7c088",
   "metadata": {
    "id": "58e7c088"
   },
   "outputs": [],
   "source": [
    "df = df.fillna({'internet_service':'no_use',  'multiple_lines':'no_use'})"
   ]
  },
  {
   "cell_type": "code",
   "execution_count": 49,
   "id": "06f6f186",
   "metadata": {},
   "outputs": [
    {
     "data": {
      "text/plain": [
       "array([1, 0], dtype=int64)"
      ]
     },
     "execution_count": 49,
     "metadata": {},
     "output_type": "execute_result"
    }
   ],
   "source": [
    "df['internet_users'] = 1\n",
    "df.loc[(df['internet_service']=='no_use'), 'internet_users'] = 0\n",
    "df['internet_users'].unique()"
   ]
  },
  {
   "cell_type": "code",
   "execution_count": 50,
   "id": "77be92f8",
   "metadata": {
    "scrolled": true
   },
   "outputs": [
    {
     "data": {
      "text/plain": [
       "array([0, 1], dtype=int64)"
      ]
     },
     "execution_count": 50,
     "metadata": {},
     "output_type": "execute_result"
    }
   ],
   "source": [
    "df['phone_users'] = 1\n",
    "df.loc[(df['multiple_lines']=='no_use'), 'phone_users'] = 0\n",
    "df['phone_users'].unique()"
   ]
  },
  {
   "cell_type": "code",
   "execution_count": 51,
   "id": "824fc0bc",
   "metadata": {},
   "outputs": [
    {
     "data": {
      "text/plain": [
       "array(['No', 'Yes'], dtype=object)"
      ]
     },
     "execution_count": 51,
     "metadata": {},
     "output_type": "execute_result"
    }
   ],
   "source": [
    "df.loc[(df['multiple_lines']=='no_use'), 'multiple_lines'] = 'No'\n",
    "df['multiple_lines'].unique()"
   ]
  },
  {
   "cell_type": "code",
   "execution_count": 52,
   "id": "b3f78922",
   "metadata": {},
   "outputs": [],
   "source": [
    "df = df.fillna({'online_security': 'No', 'device_protection': 'No',\n",
    "                'online_backup': 'No', 'tech_support': 'No',\n",
    "                'streaming_t_v': 'No', 'streaming_movies': 'No'})"
   ]
  },
  {
   "cell_type": "markdown",
   "id": "6b2c7e89",
   "metadata": {},
   "source": [
    "Удалим столбец end_date, т.к. он продублирован в target в бинароном виде "
   ]
  },
  {
   "cell_type": "code",
   "execution_count": 53,
   "id": "ff418625",
   "metadata": {},
   "outputs": [],
   "source": [
    "df = df.drop('end_date', axis=1)"
   ]
  },
  {
   "cell_type": "code",
   "execution_count": 54,
   "id": "8fc4af1e",
   "metadata": {
    "colab": {
     "base_uri": "https://localhost:8080/"
    },
    "id": "8fc4af1e",
    "outputId": "f0998018-b7df-4d40-9ffa-552e89f2f186"
   },
   "outputs": [
    {
     "data": {
      "text/plain": [
       "customer_i_d         0\n",
       "gender               0\n",
       "senior_citizen       0\n",
       "partner              0\n",
       "dependents           0\n",
       "begin_date           0\n",
       "type                 0\n",
       "paperless_billing    0\n",
       "payment_method       0\n",
       "monthly_charges      0\n",
       "total_charges        0\n",
       "begin_year           0\n",
       "target               0\n",
       "termination_date     0\n",
       "duration             0\n",
       "internet_service     0\n",
       "online_security      0\n",
       "online_backup        0\n",
       "device_protection    0\n",
       "tech_support         0\n",
       "streaming_t_v        0\n",
       "streaming_movies     0\n",
       "multiple_lines       0\n",
       "internet_users       0\n",
       "phone_users          0\n",
       "dtype: int64"
      ]
     },
     "execution_count": 54,
     "metadata": {},
     "output_type": "execute_result"
    }
   ],
   "source": [
    "df.isna().sum()"
   ]
  },
  {
   "cell_type": "code",
   "execution_count": 55,
   "id": "d59ec5a5",
   "metadata": {
    "colab": {
     "base_uri": "https://localhost:8080/"
    },
    "id": "d59ec5a5",
    "outputId": "679c048c-a31d-4e74-85b3-ace2f9cc5480"
   },
   "outputs": [
    {
     "data": {
      "text/plain": [
       "0"
      ]
     },
     "execution_count": 55,
     "metadata": {},
     "output_type": "execute_result"
    }
   ],
   "source": [
    "df.duplicated().sum()"
   ]
  },
  {
   "cell_type": "code",
   "execution_count": 56,
   "id": "8240f17d",
   "metadata": {
    "colab": {
     "base_uri": "https://localhost:8080/",
     "height": 409
    },
    "id": "8240f17d",
    "outputId": "63437941-93c6-4fd4-9e10-72ccfceec169",
    "scrolled": true
   },
   "outputs": [
    {
     "data": {
      "text/html": [
       "<div>\n",
       "<style scoped>\n",
       "    .dataframe tbody tr th:only-of-type {\n",
       "        vertical-align: middle;\n",
       "    }\n",
       "\n",
       "    .dataframe tbody tr th {\n",
       "        vertical-align: top;\n",
       "    }\n",
       "\n",
       "    .dataframe thead th {\n",
       "        text-align: right;\n",
       "    }\n",
       "</style>\n",
       "<table border=\"1\" class=\"dataframe\">\n",
       "  <thead>\n",
       "    <tr style=\"text-align: right;\">\n",
       "      <th></th>\n",
       "      <th>customer_i_d</th>\n",
       "      <th>gender</th>\n",
       "      <th>senior_citizen</th>\n",
       "      <th>partner</th>\n",
       "      <th>dependents</th>\n",
       "      <th>begin_date</th>\n",
       "      <th>type</th>\n",
       "      <th>paperless_billing</th>\n",
       "      <th>payment_method</th>\n",
       "      <th>monthly_charges</th>\n",
       "      <th>total_charges</th>\n",
       "      <th>begin_year</th>\n",
       "      <th>target</th>\n",
       "      <th>termination_date</th>\n",
       "      <th>duration</th>\n",
       "      <th>internet_service</th>\n",
       "      <th>online_security</th>\n",
       "      <th>online_backup</th>\n",
       "      <th>device_protection</th>\n",
       "      <th>tech_support</th>\n",
       "      <th>streaming_t_v</th>\n",
       "      <th>streaming_movies</th>\n",
       "      <th>multiple_lines</th>\n",
       "      <th>internet_users</th>\n",
       "      <th>phone_users</th>\n",
       "    </tr>\n",
       "  </thead>\n",
       "  <tbody>\n",
       "    <tr>\n",
       "      <th>0</th>\n",
       "      <td>7590-VHVEG</td>\n",
       "      <td>Female</td>\n",
       "      <td>0</td>\n",
       "      <td>Yes</td>\n",
       "      <td>No</td>\n",
       "      <td>2020-01-01</td>\n",
       "      <td>Month-to-month</td>\n",
       "      <td>Yes</td>\n",
       "      <td>Electronic check</td>\n",
       "      <td>29.85</td>\n",
       "      <td>29.85</td>\n",
       "      <td>2020</td>\n",
       "      <td>0</td>\n",
       "      <td>2020-02-01</td>\n",
       "      <td>31</td>\n",
       "      <td>DSL</td>\n",
       "      <td>No</td>\n",
       "      <td>Yes</td>\n",
       "      <td>No</td>\n",
       "      <td>No</td>\n",
       "      <td>No</td>\n",
       "      <td>No</td>\n",
       "      <td>No</td>\n",
       "      <td>1</td>\n",
       "      <td>0</td>\n",
       "    </tr>\n",
       "    <tr>\n",
       "      <th>1</th>\n",
       "      <td>5575-GNVDE</td>\n",
       "      <td>Male</td>\n",
       "      <td>0</td>\n",
       "      <td>No</td>\n",
       "      <td>No</td>\n",
       "      <td>2017-04-01</td>\n",
       "      <td>One year</td>\n",
       "      <td>No</td>\n",
       "      <td>Mailed check</td>\n",
       "      <td>56.95</td>\n",
       "      <td>1889.50</td>\n",
       "      <td>2017</td>\n",
       "      <td>0</td>\n",
       "      <td>2020-02-01</td>\n",
       "      <td>1036</td>\n",
       "      <td>DSL</td>\n",
       "      <td>Yes</td>\n",
       "      <td>No</td>\n",
       "      <td>Yes</td>\n",
       "      <td>No</td>\n",
       "      <td>No</td>\n",
       "      <td>No</td>\n",
       "      <td>No</td>\n",
       "      <td>1</td>\n",
       "      <td>1</td>\n",
       "    </tr>\n",
       "    <tr>\n",
       "      <th>2</th>\n",
       "      <td>3668-QPYBK</td>\n",
       "      <td>Male</td>\n",
       "      <td>0</td>\n",
       "      <td>No</td>\n",
       "      <td>No</td>\n",
       "      <td>2019-10-01</td>\n",
       "      <td>Month-to-month</td>\n",
       "      <td>Yes</td>\n",
       "      <td>Mailed check</td>\n",
       "      <td>53.85</td>\n",
       "      <td>108.15</td>\n",
       "      <td>2019</td>\n",
       "      <td>1</td>\n",
       "      <td>2019-12-01</td>\n",
       "      <td>61</td>\n",
       "      <td>DSL</td>\n",
       "      <td>Yes</td>\n",
       "      <td>Yes</td>\n",
       "      <td>No</td>\n",
       "      <td>No</td>\n",
       "      <td>No</td>\n",
       "      <td>No</td>\n",
       "      <td>No</td>\n",
       "      <td>1</td>\n",
       "      <td>1</td>\n",
       "    </tr>\n",
       "    <tr>\n",
       "      <th>3</th>\n",
       "      <td>7795-CFOCW</td>\n",
       "      <td>Male</td>\n",
       "      <td>0</td>\n",
       "      <td>No</td>\n",
       "      <td>No</td>\n",
       "      <td>2016-05-01</td>\n",
       "      <td>One year</td>\n",
       "      <td>No</td>\n",
       "      <td>Bank transfer (automatic)</td>\n",
       "      <td>42.30</td>\n",
       "      <td>1840.75</td>\n",
       "      <td>2016</td>\n",
       "      <td>0</td>\n",
       "      <td>2020-02-01</td>\n",
       "      <td>1371</td>\n",
       "      <td>DSL</td>\n",
       "      <td>Yes</td>\n",
       "      <td>No</td>\n",
       "      <td>Yes</td>\n",
       "      <td>Yes</td>\n",
       "      <td>No</td>\n",
       "      <td>No</td>\n",
       "      <td>No</td>\n",
       "      <td>1</td>\n",
       "      <td>0</td>\n",
       "    </tr>\n",
       "    <tr>\n",
       "      <th>4</th>\n",
       "      <td>9237-HQITU</td>\n",
       "      <td>Female</td>\n",
       "      <td>0</td>\n",
       "      <td>No</td>\n",
       "      <td>No</td>\n",
       "      <td>2019-09-01</td>\n",
       "      <td>Month-to-month</td>\n",
       "      <td>Yes</td>\n",
       "      <td>Electronic check</td>\n",
       "      <td>70.70</td>\n",
       "      <td>151.65</td>\n",
       "      <td>2019</td>\n",
       "      <td>1</td>\n",
       "      <td>2019-11-01</td>\n",
       "      <td>61</td>\n",
       "      <td>Fiber optic</td>\n",
       "      <td>No</td>\n",
       "      <td>No</td>\n",
       "      <td>No</td>\n",
       "      <td>No</td>\n",
       "      <td>No</td>\n",
       "      <td>No</td>\n",
       "      <td>No</td>\n",
       "      <td>1</td>\n",
       "      <td>1</td>\n",
       "    </tr>\n",
       "  </tbody>\n",
       "</table>\n",
       "</div>"
      ],
      "text/plain": [
       "  customer_i_d  gender  senior_citizen partner dependents begin_date  \\\n",
       "0   7590-VHVEG  Female               0     Yes         No 2020-01-01   \n",
       "1   5575-GNVDE    Male               0      No         No 2017-04-01   \n",
       "2   3668-QPYBK    Male               0      No         No 2019-10-01   \n",
       "3   7795-CFOCW    Male               0      No         No 2016-05-01   \n",
       "4   9237-HQITU  Female               0      No         No 2019-09-01   \n",
       "\n",
       "             type paperless_billing             payment_method  \\\n",
       "0  Month-to-month               Yes           Electronic check   \n",
       "1        One year                No               Mailed check   \n",
       "2  Month-to-month               Yes               Mailed check   \n",
       "3        One year                No  Bank transfer (automatic)   \n",
       "4  Month-to-month               Yes           Electronic check   \n",
       "\n",
       "   monthly_charges  total_charges  begin_year  target termination_date  \\\n",
       "0            29.85          29.85        2020       0       2020-02-01   \n",
       "1            56.95        1889.50        2017       0       2020-02-01   \n",
       "2            53.85         108.15        2019       1       2019-12-01   \n",
       "3            42.30        1840.75        2016       0       2020-02-01   \n",
       "4            70.70         151.65        2019       1       2019-11-01   \n",
       "\n",
       "   duration internet_service online_security online_backup device_protection  \\\n",
       "0        31              DSL              No           Yes                No   \n",
       "1      1036              DSL             Yes            No               Yes   \n",
       "2        61              DSL             Yes           Yes                No   \n",
       "3      1371              DSL             Yes            No               Yes   \n",
       "4        61      Fiber optic              No            No                No   \n",
       "\n",
       "  tech_support streaming_t_v streaming_movies multiple_lines  internet_users  \\\n",
       "0           No            No               No             No               1   \n",
       "1           No            No               No             No               1   \n",
       "2           No            No               No             No               1   \n",
       "3          Yes            No               No             No               1   \n",
       "4           No            No               No             No               1   \n",
       "\n",
       "   phone_users  \n",
       "0            0  \n",
       "1            1  \n",
       "2            1  \n",
       "3            0  \n",
       "4            1  "
      ]
     },
     "execution_count": 56,
     "metadata": {},
     "output_type": "execute_result"
    }
   ],
   "source": [
    "df.head()"
   ]
  },
  {
   "cell_type": "code",
   "execution_count": 57,
   "id": "d6e39854",
   "metadata": {
    "scrolled": true
   },
   "outputs": [
    {
     "name": "stdout",
     "output_type": "stream",
     "text": [
      "<class 'pandas.core.frame.DataFrame'>\n",
      "Int64Index: 7043 entries, 0 to 7042\n",
      "Data columns (total 25 columns):\n",
      " #   Column             Non-Null Count  Dtype         \n",
      "---  ------             --------------  -----         \n",
      " 0   customer_i_d       7043 non-null   object        \n",
      " 1   gender             7043 non-null   object        \n",
      " 2   senior_citizen     7043 non-null   int64         \n",
      " 3   partner            7043 non-null   object        \n",
      " 4   dependents         7043 non-null   object        \n",
      " 5   begin_date         7043 non-null   datetime64[ns]\n",
      " 6   type               7043 non-null   object        \n",
      " 7   paperless_billing  7043 non-null   object        \n",
      " 8   payment_method     7043 non-null   object        \n",
      " 9   monthly_charges    7043 non-null   float64       \n",
      " 10  total_charges      7043 non-null   float64       \n",
      " 11  begin_year         7043 non-null   int64         \n",
      " 12  target             7043 non-null   int64         \n",
      " 13  termination_date   7043 non-null   datetime64[ns]\n",
      " 14  duration           7043 non-null   int64         \n",
      " 15  internet_service   7043 non-null   object        \n",
      " 16  online_security    7043 non-null   object        \n",
      " 17  online_backup      7043 non-null   object        \n",
      " 18  device_protection  7043 non-null   object        \n",
      " 19  tech_support       7043 non-null   object        \n",
      " 20  streaming_t_v      7043 non-null   object        \n",
      " 21  streaming_movies   7043 non-null   object        \n",
      " 22  multiple_lines     7043 non-null   object        \n",
      " 23  internet_users     7043 non-null   int64         \n",
      " 24  phone_users        7043 non-null   int64         \n",
      "dtypes: datetime64[ns](2), float64(2), int64(6), object(15)\n",
      "memory usage: 1.4+ MB\n"
     ]
    }
   ],
   "source": [
    "df.info()"
   ]
  },
  {
   "cell_type": "markdown",
   "id": "-AOfUvj3nm3X",
   "metadata": {
    "id": "-AOfUvj3nm3X"
   },
   "source": [
    "Для модели Catboost кодирование данных не нужно, поэтому подготовим данные для дальнейшего обучения модели, удалив следующие столбцы:  \n",
    "- `termination_date`, потому что он нужен был дл вычисления срока действия договоров (столбец `duration`)  \n",
    "- `customer_i_d`, т.к. он не несет в себе для дальнейших вычислений никакой смысловой нагрузки  \n",
    "- `begin_date`, т.к. даты для дальнешего исследования нам не пригодятся  \n",
    "- `begin_year`, чтобы избежать утечки целевого признака"
   ]
  },
  {
   "cell_type": "code",
   "execution_count": 58,
   "id": "5c2a11ff",
   "metadata": {
    "id": "5c2a11ff"
   },
   "outputs": [],
   "source": [
    "df_1 = df.copy(deep=True)"
   ]
  },
  {
   "cell_type": "code",
   "execution_count": 59,
   "id": "QyAYSPLtrViP",
   "metadata": {
    "colab": {
     "base_uri": "https://localhost:8080/"
    },
    "id": "QyAYSPLtrViP",
    "outputId": "54f48797-b91f-420b-be21-eeb62f0457c2",
    "scrolled": false
   },
   "outputs": [
    {
     "name": "stdout",
     "output_type": "stream",
     "text": [
      "<class 'pandas.core.frame.DataFrame'>\n",
      "Int64Index: 7043 entries, 0 to 7042\n",
      "Data columns (total 25 columns):\n",
      " #   Column             Non-Null Count  Dtype         \n",
      "---  ------             --------------  -----         \n",
      " 0   customer_i_d       7043 non-null   object        \n",
      " 1   gender             7043 non-null   object        \n",
      " 2   senior_citizen     7043 non-null   int64         \n",
      " 3   partner            7043 non-null   object        \n",
      " 4   dependents         7043 non-null   object        \n",
      " 5   begin_date         7043 non-null   datetime64[ns]\n",
      " 6   type               7043 non-null   object        \n",
      " 7   paperless_billing  7043 non-null   object        \n",
      " 8   payment_method     7043 non-null   object        \n",
      " 9   monthly_charges    7043 non-null   float64       \n",
      " 10  total_charges      7043 non-null   float64       \n",
      " 11  begin_year         7043 non-null   int64         \n",
      " 12  target             7043 non-null   int64         \n",
      " 13  termination_date   7043 non-null   datetime64[ns]\n",
      " 14  duration           7043 non-null   int64         \n",
      " 15  internet_service   7043 non-null   object        \n",
      " 16  online_security    7043 non-null   object        \n",
      " 17  online_backup      7043 non-null   object        \n",
      " 18  device_protection  7043 non-null   object        \n",
      " 19  tech_support       7043 non-null   object        \n",
      " 20  streaming_t_v      7043 non-null   object        \n",
      " 21  streaming_movies   7043 non-null   object        \n",
      " 22  multiple_lines     7043 non-null   object        \n",
      " 23  internet_users     7043 non-null   int64         \n",
      " 24  phone_users        7043 non-null   int64         \n",
      "dtypes: datetime64[ns](2), float64(2), int64(6), object(15)\n",
      "memory usage: 1.4+ MB\n"
     ]
    }
   ],
   "source": [
    "df_1.info()"
   ]
  },
  {
   "cell_type": "code",
   "execution_count": 60,
   "id": "ffd64399",
   "metadata": {
    "id": "ffd64399"
   },
   "outputs": [],
   "source": [
    "df_1 = df_1.drop(['termination_date', 'customer_i_d', 'begin_date',\n",
    "                  'begin_year'], axis=1)"
   ]
  },
  {
   "cell_type": "markdown",
   "id": "094bfb7f",
   "metadata": {},
   "source": [
    "Посмотрим на корреляцию признаков"
   ]
  },
  {
   "cell_type": "code",
   "execution_count": 61,
   "id": "d888a97e",
   "metadata": {
    "scrolled": false
   },
   "outputs": [
    {
     "name": "stdout",
     "output_type": "stream",
     "text": [
      "interval columns not set, guessing: ['senior_citizen', 'monthly_charges', 'total_charges', 'target', 'duration', 'internet_users', 'phone_users']\n"
     ]
    },
    {
     "data": {
      "image/png": "[encoded data removed]",
      "text/plain": [
       "<Figure size 1080x1080 with 2 Axes>"
      ]
     },
     "metadata": {
      "needs_background": "light"
     },
     "output_type": "display_data"
    }
   ],
   "source": [
    "plt.figure(figsize=(15,15))\n",
    "sns.heatmap(df_1.phik_matrix(), annot=True, cmap='Greens', linewidths=.5)\n",
    "plt.title(r'correlation $\\phi_K$')\n",
    "plt.show()"
   ]
  },
  {
   "cell_type": "markdown",
   "id": "dca3112a",
   "metadata": {},
   "source": [
    "Как видно из тепловой матрицы, ежемесячные платежи напрямую связаны с пользователями интернета и тем, какой сервис они выбирают."
   ]
  },
  {
   "cell_type": "code",
   "execution_count": 62,
   "id": "d2b159aa",
   "metadata": {
    "id": "d2b159aa"
   },
   "outputs": [],
   "source": [
    "RANDOM_STATE = 80822"
   ]
  },
  {
   "cell_type": "markdown",
   "id": "45e55748",
   "metadata": {},
   "source": [
    "Поделим данные на признаки и целевой признак"
   ]
  },
  {
   "cell_type": "code",
   "execution_count": 63,
   "id": "a7bd0545",
   "metadata": {
    "id": "a7bd0545"
   },
   "outputs": [],
   "source": [
    "features = df_1.drop('target', axis=1)\n",
    "target = df_1.target"
   ]
  },
  {
   "cell_type": "code",
   "execution_count": 64,
   "id": "037741ac",
   "metadata": {
    "id": "037741ac"
   },
   "outputs": [],
   "source": [
    "X_train, X_test, y_train, y_test = train_test_split(features,\n",
    "                                                    target, test_size=0.25,\n",
    "                                                    random_state=RANDOM_STATE)                                             "
   ]
  },
  {
   "cell_type": "markdown",
   "id": "ec1bc6e6",
   "metadata": {},
   "source": [
    "Проведем масштабирование числовых признаков"
   ]
  },
  {
   "cell_type": "code",
   "execution_count": 65,
   "id": "17c9565f",
   "metadata": {},
   "outputs": [],
   "source": [
    "numeric = ['monthly_charges', 'total_charges', 'duration']"
   ]
  },
  {
   "cell_type": "code",
   "execution_count": 66,
   "id": "628b5a86",
   "metadata": {},
   "outputs": [],
   "source": [
    "scaler = StandardScaler()\n",
    "scaler.fit(X_train[numeric])\n",
    "\n",
    "X_train[numeric] = scaler.transform(X_train[numeric])\n",
    "X_test[numeric] = scaler.transform(X_test[numeric])"
   ]
  },
  {
   "cell_type": "code",
   "execution_count": 67,
   "id": "ec8a964d",
   "metadata": {},
   "outputs": [
    {
     "data": {
      "text/html": [
       "<div>\n",
       "<style scoped>\n",
       "    .dataframe tbody tr th:only-of-type {\n",
       "        vertical-align: middle;\n",
       "    }\n",
       "\n",
       "    .dataframe tbody tr th {\n",
       "        vertical-align: top;\n",
       "    }\n",
       "\n",
       "    .dataframe thead th {\n",
       "        text-align: right;\n",
       "    }\n",
       "</style>\n",
       "<table border=\"1\" class=\"dataframe\">\n",
       "  <thead>\n",
       "    <tr style=\"text-align: right;\">\n",
       "      <th></th>\n",
       "      <th>gender</th>\n",
       "      <th>senior_citizen</th>\n",
       "      <th>partner</th>\n",
       "      <th>dependents</th>\n",
       "      <th>type</th>\n",
       "      <th>paperless_billing</th>\n",
       "      <th>payment_method</th>\n",
       "      <th>monthly_charges</th>\n",
       "      <th>total_charges</th>\n",
       "      <th>duration</th>\n",
       "      <th>internet_service</th>\n",
       "      <th>online_security</th>\n",
       "      <th>online_backup</th>\n",
       "      <th>device_protection</th>\n",
       "      <th>tech_support</th>\n",
       "      <th>streaming_t_v</th>\n",
       "      <th>streaming_movies</th>\n",
       "      <th>multiple_lines</th>\n",
       "      <th>internet_users</th>\n",
       "      <th>phone_users</th>\n",
       "    </tr>\n",
       "  </thead>\n",
       "  <tbody>\n",
       "    <tr>\n",
       "      <th>3248</th>\n",
       "      <td>Male</td>\n",
       "      <td>1</td>\n",
       "      <td>Yes</td>\n",
       "      <td>No</td>\n",
       "      <td>Month-to-month</td>\n",
       "      <td>Yes</td>\n",
       "      <td>Electronic check</td>\n",
       "      <td>0.730826</td>\n",
       "      <td>-0.625738</td>\n",
       "      <td>-0.913071</td>\n",
       "      <td>Fiber optic</td>\n",
       "      <td>No</td>\n",
       "      <td>No</td>\n",
       "      <td>No</td>\n",
       "      <td>No</td>\n",
       "      <td>No</td>\n",
       "      <td>Yes</td>\n",
       "      <td>Yes</td>\n",
       "      <td>1</td>\n",
       "      <td>1</td>\n",
       "    </tr>\n",
       "    <tr>\n",
       "      <th>6898</th>\n",
       "      <td>Male</td>\n",
       "      <td>0</td>\n",
       "      <td>Yes</td>\n",
       "      <td>Yes</td>\n",
       "      <td>One year</td>\n",
       "      <td>Yes</td>\n",
       "      <td>Mailed check</td>\n",
       "      <td>1.175559</td>\n",
       "      <td>-0.080279</td>\n",
       "      <td>-0.421383</td>\n",
       "      <td>Fiber optic</td>\n",
       "      <td>No</td>\n",
       "      <td>Yes</td>\n",
       "      <td>Yes</td>\n",
       "      <td>No</td>\n",
       "      <td>Yes</td>\n",
       "      <td>Yes</td>\n",
       "      <td>No</td>\n",
       "      <td>1</td>\n",
       "      <td>1</td>\n",
       "    </tr>\n",
       "    <tr>\n",
       "      <th>2450</th>\n",
       "      <td>Female</td>\n",
       "      <td>0</td>\n",
       "      <td>Yes</td>\n",
       "      <td>Yes</td>\n",
       "      <td>Two year</td>\n",
       "      <td>Yes</td>\n",
       "      <td>Bank transfer (automatic)</td>\n",
       "      <td>1.520725</td>\n",
       "      <td>2.558844</td>\n",
       "      <td>1.615039</td>\n",
       "      <td>Fiber optic</td>\n",
       "      <td>Yes</td>\n",
       "      <td>No</td>\n",
       "      <td>Yes</td>\n",
       "      <td>Yes</td>\n",
       "      <td>Yes</td>\n",
       "      <td>Yes</td>\n",
       "      <td>Yes</td>\n",
       "      <td>1</td>\n",
       "      <td>1</td>\n",
       "    </tr>\n",
       "    <tr>\n",
       "      <th>5153</th>\n",
       "      <td>Male</td>\n",
       "      <td>1</td>\n",
       "      <td>Yes</td>\n",
       "      <td>No</td>\n",
       "      <td>Month-to-month</td>\n",
       "      <td>Yes</td>\n",
       "      <td>Electronic check</td>\n",
       "      <td>0.993019</td>\n",
       "      <td>0.698467</td>\n",
       "      <td>0.351654</td>\n",
       "      <td>Fiber optic</td>\n",
       "      <td>No</td>\n",
       "      <td>Yes</td>\n",
       "      <td>No</td>\n",
       "      <td>No</td>\n",
       "      <td>Yes</td>\n",
       "      <td>Yes</td>\n",
       "      <td>No</td>\n",
       "      <td>1</td>\n",
       "      <td>1</td>\n",
       "    </tr>\n",
       "    <tr>\n",
       "      <th>5176</th>\n",
       "      <td>Female</td>\n",
       "      <td>0</td>\n",
       "      <td>No</td>\n",
       "      <td>Yes</td>\n",
       "      <td>Month-to-month</td>\n",
       "      <td>No</td>\n",
       "      <td>Mailed check</td>\n",
       "      <td>-0.624945</td>\n",
       "      <td>-0.497354</td>\n",
       "      <td>-0.259273</td>\n",
       "      <td>DSL</td>\n",
       "      <td>Yes</td>\n",
       "      <td>No</td>\n",
       "      <td>No</td>\n",
       "      <td>Yes</td>\n",
       "      <td>No</td>\n",
       "      <td>Yes</td>\n",
       "      <td>No</td>\n",
       "      <td>1</td>\n",
       "      <td>0</td>\n",
       "    </tr>\n",
       "  </tbody>\n",
       "</table>\n",
       "</div>"
      ],
      "text/plain": [
       "      gender  senior_citizen partner dependents            type  \\\n",
       "3248    Male               1     Yes         No  Month-to-month   \n",
       "6898    Male               0     Yes        Yes        One year   \n",
       "2450  Female               0     Yes        Yes        Two year   \n",
       "5153    Male               1     Yes         No  Month-to-month   \n",
       "5176  Female               0      No        Yes  Month-to-month   \n",
       "\n",
       "     paperless_billing             payment_method  monthly_charges  \\\n",
       "3248               Yes           Electronic check         0.730826   \n",
       "6898               Yes               Mailed check         1.175559   \n",
       "2450               Yes  Bank transfer (automatic)         1.520725   \n",
       "5153               Yes           Electronic check         0.993019   \n",
       "5176                No               Mailed check        -0.624945   \n",
       "\n",
       "      total_charges  duration internet_service online_security online_backup  \\\n",
       "3248      -0.625738 -0.913071      Fiber optic              No            No   \n",
       "6898      -0.080279 -0.421383      Fiber optic              No           Yes   \n",
       "2450       2.558844  1.615039      Fiber optic             Yes            No   \n",
       "5153       0.698467  0.351654      Fiber optic              No           Yes   \n",
       "5176      -0.497354 -0.259273              DSL             Yes            No   \n",
       "\n",
       "     device_protection tech_support streaming_t_v streaming_movies  \\\n",
       "3248                No           No            No              Yes   \n",
       "6898               Yes           No           Yes              Yes   \n",
       "2450               Yes          Yes           Yes              Yes   \n",
       "5153                No           No           Yes              Yes   \n",
       "5176                No          Yes            No              Yes   \n",
       "\n",
       "     multiple_lines  internet_users  phone_users  \n",
       "3248            Yes               1            1  \n",
       "6898             No               1            1  \n",
       "2450            Yes               1            1  \n",
       "5153             No               1            1  \n",
       "5176             No               1            0  "
      ]
     },
     "execution_count": 67,
     "metadata": {},
     "output_type": "execute_result"
    }
   ],
   "source": [
    "X_train.head()"
   ]
  },
  {
   "cell_type": "code",
   "execution_count": 68,
   "id": "db5093bb",
   "metadata": {
    "colab": {
     "base_uri": "https://localhost:8080/"
    },
    "id": "db5093bb",
    "outputId": "b6fc7d42-24a0-4cfd-9832-b74dc5ba700c",
    "scrolled": false
   },
   "outputs": [
    {
     "name": "stdout",
     "output_type": "stream",
     "text": [
      "(5282, 20)\n",
      "(5282,)\n",
      "(1761, 20)\n",
      "(1761,)\n"
     ]
    }
   ],
   "source": [
    "print(X_train.shape)\n",
    "print(y_train.shape)\n",
    "print(X_test.shape)\n",
    "print(y_test.shape)"
   ]
  },
  {
   "cell_type": "markdown",
   "id": "i1RuHgXzp5iq",
   "metadata": {
    "id": "i1RuHgXzp5iq"
   },
   "source": [
    "## One Hot Encoder"
   ]
  },
  {
   "cell_type": "markdown",
   "id": "cf61d21b",
   "metadata": {},
   "source": [
    "Для обучения остальных моделей проведем кодирование и масштабирование признаков и также выделим обучающий и тестовый набор данных"
   ]
  },
  {
   "cell_type": "code",
   "execution_count": 69,
   "id": "5559b17e",
   "metadata": {
    "id": "5559b17e"
   },
   "outputs": [],
   "source": [
    "df_ohe = pd.get_dummies(features, drop_first=True)"
   ]
  },
  {
   "cell_type": "code",
   "execution_count": 70,
   "id": "092788e0",
   "metadata": {
    "id": "092788e0"
   },
   "outputs": [],
   "source": [
    "features_train, features_test, target_train, target_test = train_test_split(\n",
    "    df_ohe, target, test_size=0.25, random_state=RANDOM_STATE)"
   ]
  },
  {
   "cell_type": "code",
   "execution_count": 71,
   "id": "a5933c5e",
   "metadata": {},
   "outputs": [],
   "source": [
    "scaler.fit(features_train[numeric])\n",
    "\n",
    "features_train[numeric] = scaler.transform(features_train[numeric])\n",
    "features_test[numeric] = scaler.transform(features_test[numeric])"
   ]
  },
  {
   "cell_type": "code",
   "execution_count": 72,
   "id": "fa209f8b",
   "metadata": {},
   "outputs": [
    {
     "data": {
      "text/html": [
       "<div>\n",
       "<style scoped>\n",
       "    .dataframe tbody tr th:only-of-type {\n",
       "        vertical-align: middle;\n",
       "    }\n",
       "\n",
       "    .dataframe tbody tr th {\n",
       "        vertical-align: top;\n",
       "    }\n",
       "\n",
       "    .dataframe thead th {\n",
       "        text-align: right;\n",
       "    }\n",
       "</style>\n",
       "<table border=\"1\" class=\"dataframe\">\n",
       "  <thead>\n",
       "    <tr style=\"text-align: right;\">\n",
       "      <th></th>\n",
       "      <th>senior_citizen</th>\n",
       "      <th>monthly_charges</th>\n",
       "      <th>total_charges</th>\n",
       "      <th>duration</th>\n",
       "      <th>internet_users</th>\n",
       "      <th>phone_users</th>\n",
       "      <th>gender_Male</th>\n",
       "      <th>partner_Yes</th>\n",
       "      <th>dependents_Yes</th>\n",
       "      <th>type_One year</th>\n",
       "      <th>type_Two year</th>\n",
       "      <th>paperless_billing_Yes</th>\n",
       "      <th>payment_method_Credit card (automatic)</th>\n",
       "      <th>payment_method_Electronic check</th>\n",
       "      <th>payment_method_Mailed check</th>\n",
       "      <th>internet_service_Fiber optic</th>\n",
       "      <th>internet_service_no_use</th>\n",
       "      <th>online_security_Yes</th>\n",
       "      <th>online_backup_Yes</th>\n",
       "      <th>device_protection_Yes</th>\n",
       "      <th>tech_support_Yes</th>\n",
       "      <th>streaming_t_v_Yes</th>\n",
       "      <th>streaming_movies_Yes</th>\n",
       "      <th>multiple_lines_Yes</th>\n",
       "    </tr>\n",
       "  </thead>\n",
       "  <tbody>\n",
       "    <tr>\n",
       "      <th>3248</th>\n",
       "      <td>1</td>\n",
       "      <td>0.730826</td>\n",
       "      <td>-0.625738</td>\n",
       "      <td>-0.913071</td>\n",
       "      <td>1</td>\n",
       "      <td>1</td>\n",
       "      <td>1</td>\n",
       "      <td>1</td>\n",
       "      <td>0</td>\n",
       "      <td>0</td>\n",
       "      <td>0</td>\n",
       "      <td>1</td>\n",
       "      <td>0</td>\n",
       "      <td>1</td>\n",
       "      <td>0</td>\n",
       "      <td>1</td>\n",
       "      <td>0</td>\n",
       "      <td>0</td>\n",
       "      <td>0</td>\n",
       "      <td>0</td>\n",
       "      <td>0</td>\n",
       "      <td>0</td>\n",
       "      <td>1</td>\n",
       "      <td>1</td>\n",
       "    </tr>\n",
       "    <tr>\n",
       "      <th>6898</th>\n",
       "      <td>0</td>\n",
       "      <td>1.175559</td>\n",
       "      <td>-0.080279</td>\n",
       "      <td>-0.421383</td>\n",
       "      <td>1</td>\n",
       "      <td>1</td>\n",
       "      <td>1</td>\n",
       "      <td>1</td>\n",
       "      <td>1</td>\n",
       "      <td>1</td>\n",
       "      <td>0</td>\n",
       "      <td>1</td>\n",
       "      <td>0</td>\n",
       "      <td>0</td>\n",
       "      <td>1</td>\n",
       "      <td>1</td>\n",
       "      <td>0</td>\n",
       "      <td>0</td>\n",
       "      <td>1</td>\n",
       "      <td>1</td>\n",
       "      <td>0</td>\n",
       "      <td>1</td>\n",
       "      <td>1</td>\n",
       "      <td>0</td>\n",
       "    </tr>\n",
       "    <tr>\n",
       "      <th>2450</th>\n",
       "      <td>0</td>\n",
       "      <td>1.520725</td>\n",
       "      <td>2.558844</td>\n",
       "      <td>1.615039</td>\n",
       "      <td>1</td>\n",
       "      <td>1</td>\n",
       "      <td>0</td>\n",
       "      <td>1</td>\n",
       "      <td>1</td>\n",
       "      <td>0</td>\n",
       "      <td>1</td>\n",
       "      <td>1</td>\n",
       "      <td>0</td>\n",
       "      <td>0</td>\n",
       "      <td>0</td>\n",
       "      <td>1</td>\n",
       "      <td>0</td>\n",
       "      <td>1</td>\n",
       "      <td>0</td>\n",
       "      <td>1</td>\n",
       "      <td>1</td>\n",
       "      <td>1</td>\n",
       "      <td>1</td>\n",
       "      <td>1</td>\n",
       "    </tr>\n",
       "    <tr>\n",
       "      <th>5153</th>\n",
       "      <td>1</td>\n",
       "      <td>0.993019</td>\n",
       "      <td>0.698467</td>\n",
       "      <td>0.351654</td>\n",
       "      <td>1</td>\n",
       "      <td>1</td>\n",
       "      <td>1</td>\n",
       "      <td>1</td>\n",
       "      <td>0</td>\n",
       "      <td>0</td>\n",
       "      <td>0</td>\n",
       "      <td>1</td>\n",
       "      <td>0</td>\n",
       "      <td>1</td>\n",
       "      <td>0</td>\n",
       "      <td>1</td>\n",
       "      <td>0</td>\n",
       "      <td>0</td>\n",
       "      <td>1</td>\n",
       "      <td>0</td>\n",
       "      <td>0</td>\n",
       "      <td>1</td>\n",
       "      <td>1</td>\n",
       "      <td>0</td>\n",
       "    </tr>\n",
       "    <tr>\n",
       "      <th>5176</th>\n",
       "      <td>0</td>\n",
       "      <td>-0.624945</td>\n",
       "      <td>-0.497354</td>\n",
       "      <td>-0.259273</td>\n",
       "      <td>1</td>\n",
       "      <td>0</td>\n",
       "      <td>0</td>\n",
       "      <td>0</td>\n",
       "      <td>1</td>\n",
       "      <td>0</td>\n",
       "      <td>0</td>\n",
       "      <td>0</td>\n",
       "      <td>0</td>\n",
       "      <td>0</td>\n",
       "      <td>1</td>\n",
       "      <td>0</td>\n",
       "      <td>0</td>\n",
       "      <td>1</td>\n",
       "      <td>0</td>\n",
       "      <td>0</td>\n",
       "      <td>1</td>\n",
       "      <td>0</td>\n",
       "      <td>1</td>\n",
       "      <td>0</td>\n",
       "    </tr>\n",
       "  </tbody>\n",
       "</table>\n",
       "</div>"
      ],
      "text/plain": [
       "      senior_citizen  monthly_charges  total_charges  duration  \\\n",
       "3248               1         0.730826      -0.625738 -0.913071   \n",
       "6898               0         1.175559      -0.080279 -0.421383   \n",
       "2450               0         1.520725       2.558844  1.615039   \n",
       "5153               1         0.993019       0.698467  0.351654   \n",
       "5176               0        -0.624945      -0.497354 -0.259273   \n",
       "\n",
       "      internet_users  phone_users  gender_Male  partner_Yes  dependents_Yes  \\\n",
       "3248               1            1            1            1               0   \n",
       "6898               1            1            1            1               1   \n",
       "2450               1            1            0            1               1   \n",
       "5153               1            1            1            1               0   \n",
       "5176               1            0            0            0               1   \n",
       "\n",
       "      type_One year  type_Two year  paperless_billing_Yes  \\\n",
       "3248              0              0                      1   \n",
       "6898              1              0                      1   \n",
       "2450              0              1                      1   \n",
       "5153              0              0                      1   \n",
       "5176              0              0                      0   \n",
       "\n",
       "      payment_method_Credit card (automatic)  payment_method_Electronic check  \\\n",
       "3248                                       0                                1   \n",
       "6898                                       0                                0   \n",
       "2450                                       0                                0   \n",
       "5153                                       0                                1   \n",
       "5176                                       0                                0   \n",
       "\n",
       "      payment_method_Mailed check  internet_service_Fiber optic  \\\n",
       "3248                            0                             1   \n",
       "6898                            1                             1   \n",
       "2450                            0                             1   \n",
       "5153                            0                             1   \n",
       "5176                            1                             0   \n",
       "\n",
       "      internet_service_no_use  online_security_Yes  online_backup_Yes  \\\n",
       "3248                        0                    0                  0   \n",
       "6898                        0                    0                  1   \n",
       "2450                        0                    1                  0   \n",
       "5153                        0                    0                  1   \n",
       "5176                        0                    1                  0   \n",
       "\n",
       "      device_protection_Yes  tech_support_Yes  streaming_t_v_Yes  \\\n",
       "3248                      0                 0                  0   \n",
       "6898                      1                 0                  1   \n",
       "2450                      1                 1                  1   \n",
       "5153                      0                 0                  1   \n",
       "5176                      0                 1                  0   \n",
       "\n",
       "      streaming_movies_Yes  multiple_lines_Yes  \n",
       "3248                     1                   1  \n",
       "6898                     1                   0  \n",
       "2450                     1                   1  \n",
       "5153                     1                   0  \n",
       "5176                     1                   0  "
      ]
     },
     "execution_count": 72,
     "metadata": {},
     "output_type": "execute_result"
    }
   ],
   "source": [
    "features_train.head()"
   ]
  },
  {
   "cell_type": "code",
   "execution_count": 73,
   "id": "2KE3pmZ9lNeh",
   "metadata": {
    "colab": {
     "base_uri": "https://localhost:8080/"
    },
    "id": "2KE3pmZ9lNeh",
    "outputId": "fd026c4d-bd1b-4d70-c0e7-6f72abef4d96",
    "scrolled": false
   },
   "outputs": [
    {
     "name": "stdout",
     "output_type": "stream",
     "text": [
      "(5282, 24)\n",
      "(1761, 24)\n",
      "(5282,)\n",
      "(1761,)\n"
     ]
    }
   ],
   "source": [
    "print(features_train.shape)\n",
    "print(features_test.shape)\n",
    "print(target_train.shape)\n",
    "print(target_test.shape)"
   ]
  },
  {
   "cell_type": "markdown",
   "id": "TRFjfL3jsNv2",
   "metadata": {
    "id": "TRFjfL3jsNv2"
   },
   "source": [
    "## Вывод:  \n",
    "1. Объединим все таблицы в одну по столбцу `customer_i_d`.  \n",
    "2. В результате объединения, в столбцах internet_service, online_security, device_protection, online_backup, tech_support, streaming_t_v, streaming_movies и multiple_lines образовались пропуски. Целесообразно заполнить их следующим образом:  \n",
    "- пропуски в столбцах internet_service и multiple_lines заполнить значением no_use  \n",
    "- в связи с тем, что часть клиентов пользуется только интернетом или только телефонией, выделим столбцы internet_users и phone_users, в которых 1 - клиент пользуется данной услугой, а 0 - не пользуется.  \n",
    "- пропуски в столбцах online_security, device_protection, online_backup, tech_support, streaming_t_v, streaming_movies заполним значением No, т.к. это клиенты которые не пользуются интернетом и, соотвественно, данные услуги не используют  \n",
    "3. Для модели Catboost кодирование данных не нужно, поэтому подготовим данные для дальнейшего обучения модели, удалив следующие столбцы:  \n",
    "- `termination_date`, потому что он нужен был дл вычисления срока действия договоров (столбец `duration`)  \n",
    "- `customer_i_d`, т.к. он не несет в себе для дальнейших вычислений никакой смысловой нагрузки  \n",
    "- `begin_date`, т.к. даты для дальнешего исследования нам не пригодятся  \n",
    "- `begin_year`, чтобы избежать утечки целевого признака  \n",
    "и также  масштабируем числовые признаки. Выделены тестовый и обучающий наборы данных.\n",
    "4. Для моделей LightGBM, LogisticRegression и RandomForest данные былы закодированы при помощи One Hot Encoding и масштабированы. Также расделены на обучающую и тестовую выборки  \n"
   ]
  },
  {
   "cell_type": "markdown",
   "id": "1fdfd146",
   "metadata": {
    "id": "1fdfd146"
   },
   "source": [
    "# Обучение моделей"
   ]
  },
  {
   "cell_type": "markdown",
   "id": "uooBcXj1mO90",
   "metadata": {
    "id": "uooBcXj1mO90"
   },
   "source": [
    "## Catboost"
   ]
  },
  {
   "cell_type": "code",
   "execution_count": 74,
   "id": "670ce3fe",
   "metadata": {},
   "outputs": [],
   "source": [
    "def cat_objectiv(trial):\n",
    "    params = {\n",
    "        'learning_rate': trial.suggest_float('learning_rate', 0.001, 0.5),\n",
    "        'n_estimators': trial.suggest_int('n_estimators', 1, 1300),\n",
    "        'max_depth': trial.suggest_int('max_depth', 3, 15),\n",
    "        'objective': trial.suggest_categorical('objective', ['Logloss']),\n",
    "        'eval_metric': 'AUC',\n",
    "        'random_state': RANDOM_STATE\n",
    "    }\n",
    "    cat_features = list(df_1.select_dtypes(include=object))\n",
    "    pool = Pool(X_test, label=y_test, cat_features=cat_features)\n",
    "    clf = cv(pool, params, verbose=False)\n",
    "\n",
    "    return clf['test-AUC-mean'].max()"
   ]
  },
  {
   "cell_type": "code",
   "execution_count": 75,
   "id": "d3b85ee6",
   "metadata": {
    "scrolled": false
   },
   "outputs": [
    {
     "name": "stderr",
     "output_type": "stream",
     "text": [
      "\u001b[32m[I 2023-01-12 12:03:53,716]\u001b[0m A new study created in memory with name: no-name-22a7c275-122a-4001-ac50-a5229fd1a231\u001b[0m\n"
     ]
    },
    {
     "name": "stdout",
     "output_type": "stream",
     "text": [
      "Training on fold [0/3]\n",
      "\n",
      "bestTest = 0.8718649333\n",
      "bestIteration = 49\n",
      "\n",
      "Training on fold [1/3]\n",
      "\n",
      "bestTest = 0.8772343309\n",
      "bestIteration = 55\n",
      "\n",
      "Training on fold [2/3]\n"
     ]
    },
    {
     "name": "stderr",
     "output_type": "stream",
     "text": [
      "\u001b[32m[I 2023-01-12 12:04:22,918]\u001b[0m Trial 0 finished with value: 0.8626313280466782 and parameters: {'learning_rate': 0.4162202746865251, 'n_estimators': 883, 'max_depth': 3, 'objective': 'Logloss'}. Best is trial 0 with value: 0.8626313280466782.\u001b[0m\n"
     ]
    },
    {
     "name": "stdout",
     "output_type": "stream",
     "text": [
      "\n",
      "bestTest = 0.8492726508\n",
      "bestIteration = 101\n",
      "\n",
      "Training on fold [0/3]\n",
      "\n",
      "bestTest = 0.8439657156\n",
      "bestIteration = 124\n",
      "\n",
      "Training on fold [1/3]\n",
      "\n",
      "bestTest = 0.8586245171\n",
      "bestIteration = 54\n",
      "\n",
      "Training on fold [2/3]\n"
     ]
    },
    {
     "name": "stderr",
     "output_type": "stream",
     "text": [
      "\u001b[32m[I 2023-01-12 12:04:47,459]\u001b[0m Trial 1 finished with value: 0.8357230577326508 and parameters: {'learning_rate': 0.29917921433608724, 'n_estimators': 136, 'max_depth': 11, 'objective': 'Logloss'}. Best is trial 0 with value: 0.8626313280466782.\u001b[0m\n"
     ]
    },
    {
     "name": "stdout",
     "output_type": "stream",
     "text": [
      "\n",
      "bestTest = 0.8196420543\n",
      "bestIteration = 8\n",
      "\n",
      "Training on fold [0/3]\n",
      "\n",
      "bestTest = 0.8752732398\n",
      "bestIteration = 513\n",
      "\n",
      "Training on fold [1/3]\n",
      "\n",
      "bestTest = 0.8801461685\n",
      "bestIteration = 361\n",
      "\n",
      "Training on fold [2/3]\n"
     ]
    },
    {
     "name": "stderr",
     "output_type": "stream",
     "text": [
      "\u001b[32m[I 2023-01-12 12:06:23,501]\u001b[0m Trial 2 finished with value: 0.863795892636861 and parameters: {'learning_rate': 0.04096810564611288, 'n_estimators': 1102, 'max_depth': 7, 'objective': 'Logloss'}. Best is trial 2 with value: 0.863795892636861.\u001b[0m\n"
     ]
    },
    {
     "name": "stdout",
     "output_type": "stream",
     "text": [
      "\n",
      "bestTest = 0.8389534293\n",
      "bestIteration = 306\n",
      "\n",
      "Training on fold [0/3]\n",
      "\n",
      "bestTest = 0.86960711\n",
      "bestIteration = 42\n",
      "\n",
      "Training on fold [1/3]\n",
      "\n",
      "bestTest = 0.8741711353\n",
      "bestIteration = 31\n",
      "\n",
      "Training on fold [2/3]\n"
     ]
    },
    {
     "name": "stderr",
     "output_type": "stream",
     "text": [
      "\u001b[32m[I 2023-01-12 12:07:11,418]\u001b[0m Trial 3 finished with value: 0.8552051413913917 and parameters: {'learning_rate': 0.4094028708041735, 'n_estimators': 619, 'max_depth': 6, 'objective': 'Logloss'}. Best is trial 2 with value: 0.863795892636861.\u001b[0m\n"
     ]
    },
    {
     "name": "stdout",
     "output_type": "stream",
     "text": [
      "\n",
      "bestTest = 0.8367634048\n",
      "bestIteration = 400\n",
      "\n",
      "Training on fold [0/3]\n",
      "\n",
      "bestTest = 0.8433329498\n",
      "bestIteration = 228\n",
      "\n",
      "Training on fold [1/3]\n",
      "\n",
      "bestTest = 0.8637058179\n",
      "bestIteration = 4\n",
      "\n",
      "Training on fold [2/3]\n"
     ]
    },
    {
     "name": "stderr",
     "output_type": "stream",
     "text": [
      "\u001b[32m[I 2023-01-12 12:10:37,322]\u001b[0m Trial 4 finished with value: 0.8369807294533494 and parameters: {'learning_rate': 0.36630076264879485, 'n_estimators': 232, 'max_depth': 14, 'objective': 'Logloss'}. Best is trial 2 with value: 0.863795892636861.\u001b[0m\n"
     ]
    },
    {
     "name": "stdout",
     "output_type": "stream",
     "text": [
      "\n",
      "bestTest = 0.8330070052\n",
      "bestIteration = 3\n",
      "\n"
     ]
    }
   ],
   "source": [
    "cat_study = optuna.create_study(direction=\"maximize\")\n",
    "cat_study.optimize(cat_objectiv, n_trials=5)"
   ]
  },
  {
   "cell_type": "code",
   "execution_count": 76,
   "id": "e7b81a2a",
   "metadata": {
    "scrolled": true
   },
   "outputs": [
    {
     "name": "stdout",
     "output_type": "stream",
     "text": [
      "Лучшие параметры для Catboost: {'learning_rate': 0.04096810564611288, 'n_estimators': 1102, 'max_depth': 7, 'objective': 'Logloss'}\n"
     ]
    }
   ],
   "source": [
    "print(f'Лучшие параметры для Catboost: {cat_study.best_params}')"
   ]
  },
  {
   "cell_type": "code",
   "execution_count": 77,
   "id": "0c566b20",
   "metadata": {},
   "outputs": [
    {
     "name": "stdout",
     "output_type": "stream",
     "text": [
      "Значение ROC-AUC на кросс-валидации модели Catboost: 0.86\n"
     ]
    }
   ],
   "source": [
    "auc_cat = round(cat_study.best_value, 2)\n",
    "print(f'Значение ROC-AUC на кросс-валидации модели Catboost: {auc_cat}')"
   ]
  },
  {
   "cell_type": "code",
   "execution_count": 78,
   "id": "dcb51820",
   "metadata": {},
   "outputs": [],
   "source": [
    "params_cat = {\"n_estimators\": 640,\n",
    "              \"learning_rate\": 0.1,\n",
    "              \"depth\": 5,\n",
    "              \"eval_metric\": 'AUC',\n",
    "              \"loss_function\": 'Logloss',\n",
    "              \"random_state\": RANDOM_STATE,\n",
    "              \"verbose\": False}\n",
    "          "
   ]
  },
  {
   "cell_type": "markdown",
   "id": "eES1EyLic_b2",
   "metadata": {
    "id": "eES1EyLic_b2"
   },
   "source": [
    "## LightGBM"
   ]
  },
  {
   "cell_type": "code",
   "execution_count": 79,
   "id": "ee0487bf",
   "metadata": {},
   "outputs": [],
   "source": [
    "def lgb_objective(trial):\n",
    "    params = {\n",
    "        \"objective\": \"binary\",\n",
    "        \"num_iterations\": trial.suggest_int(\"num_iterations\", 50, 500),\n",
    "        \"max_depth\": trial.suggest_int(\"max_depth\", 1, 31),\n",
    "        \"learning_rate\": trial.suggest_float(\"learning_rate\", 0.001, 0.1),\n",
    "        \"seed\": RANDOM_STATE\n",
    "    }\n",
    "    model = lgb.LGBMClassifier(**params, silent=True)\n",
    "    cv = cross_val_score(model, features_train, target_train, scoring='roc_auc', n_jobs=-1, cv=5).mean()\n",
    "    return cv"
   ]
  },
  {
   "cell_type": "code",
   "execution_count": 80,
   "id": "076d2677",
   "metadata": {
    "scrolled": true
   },
   "outputs": [
    {
     "name": "stderr",
     "output_type": "stream",
     "text": [
      "\u001b[32m[I 2023-01-12 12:10:37,405]\u001b[0m A new study created in memory with name: no-name-dd4178d5-4122-4222-b003-29ab46d340b9\u001b[0m\n",
      "\u001b[32m[I 2023-01-12 12:10:42,760]\u001b[0m Trial 0 finished with value: 0.8858682102457781 and parameters: {'num_iterations': 417, 'max_depth': 31, 'learning_rate': 0.0146675243729117}. Best is trial 0 with value: 0.8858682102457781.\u001b[0m\n",
      "\u001b[32m[I 2023-01-12 12:10:46,441]\u001b[0m Trial 1 finished with value: 0.886909301520725 and parameters: {'num_iterations': 366, 'max_depth': 28, 'learning_rate': 0.04590942314234018}. Best is trial 1 with value: 0.886909301520725.\u001b[0m\n",
      "\u001b[32m[I 2023-01-12 12:10:46,726]\u001b[0m Trial 2 finished with value: 0.875866660158858 and parameters: {'num_iterations': 303, 'max_depth': 3, 'learning_rate': 0.039122547888007585}. Best is trial 1 with value: 0.886909301520725.\u001b[0m\n",
      "\u001b[32m[I 2023-01-12 12:10:47,129]\u001b[0m Trial 3 finished with value: 0.8851173939256387 and parameters: {'num_iterations': 234, 'max_depth': 16, 'learning_rate': 0.09404372031353946}. Best is trial 1 with value: 0.886909301520725.\u001b[0m\n",
      "\u001b[32m[I 2023-01-12 12:10:47,432]\u001b[0m Trial 4 finished with value: 0.8813984425423216 and parameters: {'num_iterations': 162, 'max_depth': 19, 'learning_rate': 0.023701904855580425}. Best is trial 1 with value: 0.886909301520725.\u001b[0m\n",
      "\u001b[32m[I 2023-01-12 12:10:47,731]\u001b[0m Trial 5 finished with value: 0.8887165295874307 and parameters: {'num_iterations': 166, 'max_depth': 8, 'learning_rate': 0.09770657853954652}. Best is trial 5 with value: 0.8887165295874307.\u001b[0m\n",
      "\u001b[32m[I 2023-01-12 12:10:48,131]\u001b[0m Trial 6 finished with value: 0.8892094086519293 and parameters: {'num_iterations': 201, 'max_depth': 19, 'learning_rate': 0.06701078219605817}. Best is trial 6 with value: 0.8892094086519293.\u001b[0m\n",
      "\u001b[32m[I 2023-01-12 12:10:48,802]\u001b[0m Trial 7 finished with value: 0.8767097534425096 and parameters: {'num_iterations': 310, 'max_depth': 22, 'learning_rate': 0.009090763439048005}. Best is trial 6 with value: 0.8892094086519293.\u001b[0m\n",
      "\u001b[32m[I 2023-01-12 12:10:49,193]\u001b[0m Trial 8 finished with value: 0.8887180776305227 and parameters: {'num_iterations': 244, 'max_depth': 12, 'learning_rate': 0.09003948062511473}. Best is trial 6 with value: 0.8892094086519293.\u001b[0m\n",
      "\u001b[32m[I 2023-01-12 12:10:50,084]\u001b[0m Trial 9 finished with value: 0.8878725158565386 and parameters: {'num_iterations': 488, 'max_depth': 22, 'learning_rate': 0.039839156361801055}. Best is trial 6 with value: 0.8892094086519293.\u001b[0m\n",
      "\u001b[32m[I 2023-01-12 12:10:50,286]\u001b[0m Trial 10 finished with value: 0.8839492883065644 and parameters: {'num_iterations': 79, 'max_depth': 12, 'learning_rate': 0.06932216140082136}. Best is trial 6 with value: 0.8892094086519293.\u001b[0m\n",
      "\u001b[32m[I 2023-01-12 12:10:50,663]\u001b[0m Trial 11 finished with value: 0.8884536359293499 and parameters: {'num_iterations': 200, 'max_depth': 12, 'learning_rate': 0.07115885271469877}. Best is trial 6 with value: 0.8892094086519293.\u001b[0m\n",
      "\u001b[32m[I 2023-01-12 12:10:50,818]\u001b[0m Trial 12 finished with value: 0.8811483078334941 and parameters: {'num_iterations': 54, 'max_depth': 14, 'learning_rate': 0.07423752673782294}. Best is trial 6 with value: 0.8892094086519293.\u001b[0m\n",
      "\u001b[32m[I 2023-01-12 12:10:51,263]\u001b[0m Trial 13 finished with value: 0.891558117845709 and parameters: {'num_iterations': 253, 'max_depth': 8, 'learning_rate': 0.08283479958271582}. Best is trial 13 with value: 0.891558117845709.\u001b[0m\n",
      "\u001b[32m[I 2023-01-12 12:10:51,409]\u001b[0m Trial 14 finished with value: 0.8701243988387422 and parameters: {'num_iterations': 121, 'max_depth': 3, 'learning_rate': 0.05734070917493772}. Best is trial 13 with value: 0.891558117845709.\u001b[0m\n",
      "\u001b[32m[I 2023-01-12 12:10:51,852]\u001b[0m Trial 15 finished with value: 0.8913122132557639 and parameters: {'num_iterations': 270, 'max_depth': 8, 'learning_rate': 0.08030889244187868}. Best is trial 13 with value: 0.891558117845709.\u001b[0m\n",
      "\u001b[32m[I 2023-01-12 12:10:52,422]\u001b[0m Trial 16 finished with value: 0.8901193320155075 and parameters: {'num_iterations': 360, 'max_depth': 7, 'learning_rate': 0.08351747810780556}. Best is trial 13 with value: 0.891558117845709.\u001b[0m\n",
      "\u001b[32m[I 2023-01-12 12:10:52,879]\u001b[0m Trial 17 finished with value: 0.8909012896923881 and parameters: {'num_iterations': 275, 'max_depth': 8, 'learning_rate': 0.08384446725252039}. Best is trial 13 with value: 0.891558117845709.\u001b[0m\n",
      "\u001b[32m[I 2023-01-12 12:10:53,374]\u001b[0m Trial 18 finished with value: 0.8930476712772404 and parameters: {'num_iterations': 351, 'max_depth': 6, 'learning_rate': 0.06180496803085678}. Best is trial 18 with value: 0.8930476712772404.\u001b[0m\n",
      "\u001b[32m[I 2023-01-12 12:10:53,629]\u001b[0m Trial 19 finished with value: 0.8610390469817067 and parameters: {'num_iterations': 440, 'max_depth': 1, 'learning_rate': 0.05897513268429604}. Best is trial 18 with value: 0.8930476712772404.\u001b[0m\n",
      "\u001b[32m[I 2023-01-12 12:10:54,054]\u001b[0m Trial 20 finished with value: 0.8869159507103893 and parameters: {'num_iterations': 349, 'max_depth': 5, 'learning_rate': 0.05660522821449169}. Best is trial 18 with value: 0.8930476712772404.\u001b[0m\n",
      "\u001b[32m[I 2023-01-12 12:10:54,733]\u001b[0m Trial 21 finished with value: 0.8898008526635148 and parameters: {'num_iterations': 310, 'max_depth': 9, 'learning_rate': 0.0812977293679594}. Best is trial 18 with value: 0.8930476712772404.\u001b[0m\n",
      "\u001b[32m[I 2023-01-12 12:10:55,478]\u001b[0m Trial 22 finished with value: 0.8902119659784999 and parameters: {'num_iterations': 403, 'max_depth': 5, 'learning_rate': 0.07503797816649119}. Best is trial 18 with value: 0.8930476712772404.\u001b[0m\n",
      "\u001b[32m[I 2023-01-12 12:10:56,012]\u001b[0m Trial 23 finished with value: 0.887347487200769 and parameters: {'num_iterations': 255, 'max_depth': 10, 'learning_rate': 0.06328466417558107}. Best is trial 18 with value: 0.8930476712772404.\u001b[0m\n",
      "\u001b[32m[I 2023-01-12 12:10:56,538]\u001b[0m Trial 24 finished with value: 0.889314038870196 and parameters: {'num_iterations': 335, 'max_depth': 6, 'learning_rate': 0.049324109860773416}. Best is trial 18 with value: 0.8930476712772404.\u001b[0m\n",
      "\u001b[32m[I 2023-01-12 12:10:56,721]\u001b[0m Trial 25 finished with value: 0.8594941334451578 and parameters: {'num_iterations': 215, 'max_depth': 1, 'learning_rate': 0.08952986138400008}. Best is trial 18 with value: 0.8930476712772404.\u001b[0m\n",
      "\u001b[32m[I 2023-01-12 12:10:57,239]\u001b[0m Trial 26 finished with value: 0.8876896755767628 and parameters: {'num_iterations': 279, 'max_depth': 15, 'learning_rate': 0.07933095841485988}. Best is trial 18 with value: 0.8930476712772404.\u001b[0m\n",
      "\u001b[32m[I 2023-01-12 12:10:57,639]\u001b[0m Trial 27 finished with value: 0.8926825594210079 and parameters: {'num_iterations': 393, 'max_depth': 4, 'learning_rate': 0.06371943016895745}. Best is trial 18 with value: 0.8930476712772404.\u001b[0m\n",
      "\u001b[32m[I 2023-01-12 12:10:57,965]\u001b[0m Trial 28 finished with value: 0.875948275281474 and parameters: {'num_iterations': 389, 'max_depth': 3, 'learning_rate': 0.03060023983497541}. Best is trial 18 with value: 0.8930476712772404.\u001b[0m\n",
      "\u001b[32m[I 2023-01-12 12:10:58,514]\u001b[0m Trial 29 finished with value: 0.8911130799881704 and parameters: {'num_iterations': 457, 'max_depth': 5, 'learning_rate': 0.05235169075612962}. Best is trial 18 with value: 0.8930476712772404.\u001b[0m\n",
      "\u001b[32m[I 2023-01-12 12:10:59,396]\u001b[0m Trial 30 finished with value: 0.8643901324340144 and parameters: {'num_iterations': 426, 'max_depth': 10, 'learning_rate': 0.001700215912194207}. Best is trial 18 with value: 0.8930476712772404.\u001b[0m\n",
      "\u001b[32m[I 2023-01-12 12:10:59,745]\u001b[0m Trial 31 finished with value: 0.8862551432559226 and parameters: {'num_iterations': 381, 'max_depth': 3, 'learning_rate': 0.06402307395316627}. Best is trial 18 with value: 0.8930476712772404.\u001b[0m\n",
      "\u001b[32m[I 2023-01-12 12:11:00,389]\u001b[0m Trial 32 finished with value: 0.887076984553979 and parameters: {'num_iterations': 323, 'max_depth': 30, 'learning_rate': 0.07659093971509529}. Best is trial 18 with value: 0.8930476712772404.\u001b[0m\n",
      "\u001b[32m[I 2023-01-12 12:11:00,835]\u001b[0m Trial 33 finished with value: 0.8881226193456193 and parameters: {'num_iterations': 289, 'max_depth': 7, 'learning_rate': 0.08619014180100913}. Best is trial 18 with value: 0.8930476712772404.\u001b[0m\n",
      "\u001b[32m[I 2023-01-12 12:11:01,521]\u001b[0m Trial 34 finished with value: 0.8893799404465218 and parameters: {'num_iterations': 368, 'max_depth': 10, 'learning_rate': 0.09925280016454766}. Best is trial 18 with value: 0.8930476712772404.\u001b[0m\n",
      "\u001b[32m[I 2023-01-12 12:11:01,801]\u001b[0m Trial 35 finished with value: 0.8851252506609353 and parameters: {'num_iterations': 261, 'max_depth': 4, 'learning_rate': 0.04586630444038482}. Best is trial 18 with value: 0.8930476712772404.\u001b[0m\n",
      "\u001b[32m[I 2023-01-12 12:11:01,968]\u001b[0m Trial 36 finished with value: 0.8581064810399136 and parameters: {'num_iterations': 229, 'max_depth': 1, 'learning_rate': 0.061207620140981654}. Best is trial 18 with value: 0.8930476712772404.\u001b[0m\n",
      "\u001b[32m[I 2023-01-12 12:11:02,558]\u001b[0m Trial 37 finished with value: 0.888642773427776 and parameters: {'num_iterations': 336, 'max_depth': 7, 'learning_rate': 0.06917474248587573}. Best is trial 18 with value: 0.8930476712772404.\u001b[0m\n",
      "\u001b[32m[I 2023-01-12 12:11:03,488]\u001b[0m Trial 38 finished with value: 0.8856934843750519 and parameters: {'num_iterations': 467, 'max_depth': 14, 'learning_rate': 0.09504913489605238}. Best is trial 18 with value: 0.8930476712772404.\u001b[0m\n",
      "\u001b[32m[I 2023-01-12 12:11:03,826]\u001b[0m Trial 39 finished with value: 0.8859549041626227 and parameters: {'num_iterations': 162, 'max_depth': 17, 'learning_rate': 0.0533206549867962}. Best is trial 18 with value: 0.8930476712772404.\u001b[0m\n",
      "\u001b[32m[I 2023-01-12 12:11:04,714]\u001b[0m Trial 40 finished with value: 0.8853061955549568 and parameters: {'num_iterations': 413, 'max_depth': 25, 'learning_rate': 0.09067792682722649}. Best is trial 18 with value: 0.8930476712772404.\u001b[0m\n",
      "\u001b[32m[I 2023-01-12 12:11:05,288]\u001b[0m Trial 41 finished with value: 0.8880651175897656 and parameters: {'num_iterations': 446, 'max_depth': 5, 'learning_rate': 0.04476885753802665}. Best is trial 18 with value: 0.8930476712772404.\u001b[0m\n",
      "\u001b[32m[I 2023-01-12 12:11:06,274]\u001b[0m Trial 42 finished with value: 0.8886833250671836 and parameters: {'num_iterations': 493, 'max_depth': 9, 'learning_rate': 0.05112889106500697}. Best is trial 18 with value: 0.8930476712772404.\u001b[0m\n",
      "\u001b[32m[I 2023-01-12 12:11:07,020]\u001b[0m Trial 43 finished with value: 0.8880848363473202 and parameters: {'num_iterations': 462, 'max_depth': 6, 'learning_rate': 0.03332249503044045}. Best is trial 18 with value: 0.8930476712772404.\u001b[0m\n",
      "\u001b[32m[I 2023-01-12 12:11:07,235]\u001b[0m Trial 44 finished with value: 0.8780728452178378 and parameters: {'num_iterations': 188, 'max_depth': 3, 'learning_rate': 0.07228786418443041}. Best is trial 18 with value: 0.8930476712772404.\u001b[0m\n",
      "\u001b[32m[I 2023-01-12 12:11:07,812]\u001b[0m Trial 45 finished with value: 0.8876236731066938 and parameters: {'num_iterations': 297, 'max_depth': 11, 'learning_rate': 0.06514007010801301}. Best is trial 18 with value: 0.8930476712772404.\u001b[0m\n",
      "\u001b[32m[I 2023-01-12 12:11:08,236]\u001b[0m Trial 46 finished with value: 0.8884992106605563 and parameters: {'num_iterations': 402, 'max_depth': 4, 'learning_rate': 0.05495215888220334}. Best is trial 18 with value: 0.8930476712772404.\u001b[0m\n",
      "\u001b[32m[I 2023-01-12 12:11:09,134]\u001b[0m Trial 47 finished with value: 0.8868630693364731 and parameters: {'num_iterations': 469, 'max_depth': 13, 'learning_rate': 0.04274504062500297}. Best is trial 18 with value: 0.8930476712772404.\u001b[0m\n",
      "\u001b[32m[I 2023-01-12 12:11:09,863]\u001b[0m Trial 48 finished with value: 0.8922988480681238 and parameters: {'num_iterations': 431, 'max_depth': 8, 'learning_rate': 0.06741318856569072}. Best is trial 18 with value: 0.8930476712772404.\u001b[0m\n",
      "\u001b[32m[I 2023-01-12 12:11:10,530]\u001b[0m Trial 49 finished with value: 0.8888865266127416 and parameters: {'num_iterations': 382, 'max_depth': 8, 'learning_rate': 0.07779507240616701}. Best is trial 18 with value: 0.8930476712772404.\u001b[0m\n"
     ]
    }
   ],
   "source": [
    "lgb_study = optuna.create_study(direction=\"maximize\")\n",
    "lgb_study.optimize(lgb_objective, n_trials=50)"
   ]
  },
  {
   "cell_type": "code",
   "execution_count": 82,
   "id": "ba1339ff",
   "metadata": {
    "scrolled": false
   },
   "outputs": [
    {
     "name": "stdout",
     "output_type": "stream",
     "text": [
      "Лучшие параметры для Catboost: {'num_iterations': 351, 'max_depth': 6, 'learning_rate': 0.06180496803085678}\n"
     ]
    }
   ],
   "source": [
    "print(f'Лучшие параметры для Catboost: {lgb_study.best_params}')"
   ]
  },
  {
   "cell_type": "code",
   "execution_count": 83,
   "id": "1a77d40d",
   "metadata": {},
   "outputs": [
    {
     "name": "stdout",
     "output_type": "stream",
     "text": [
      "Значение ROC-AUC на кросс-валидации модели LightGBM :0.89\n"
     ]
    }
   ],
   "source": [
    "auc_lgb = round(lgb_study.best_value, 2)\n",
    "print(f'Значение ROC-AUC на кросс-валидации модели LightGBM :{auc_lgb}')"
   ]
  },
  {
   "cell_type": "code",
   "execution_count": 84,
   "id": "jN6-UTl_dH7g",
   "metadata": {
    "id": "jN6-UTl_dH7g"
   },
   "outputs": [],
   "source": [
    "params_lgb = {\"objective\": 'binary',\n",
    "              \"boosting_type\": 'gbdt',\n",
    "              \"learning_rate\": 0.09,\n",
    "              'num_iterations': 486,\n",
    "              \"max_depth\": 2,\n",
    "              \"metrics\": 'auc',\n",
    "              \"random_state\": RANDOM_STATE,\n",
    "              \"verbosity\": -1}"
   ]
  },
  {
   "cell_type": "markdown",
   "id": "93GLU5R3qcIj",
   "metadata": {
    "id": "93GLU5R3qcIj"
   },
   "source": [
    "## LogisticRegression"
   ]
  },
  {
   "cell_type": "code",
   "execution_count": 85,
   "id": "0de65770",
   "metadata": {
    "id": "0de65770"
   },
   "outputs": [],
   "source": [
    "lr_model = LogisticRegression(random_state=RANDOM_STATE)"
   ]
  },
  {
   "cell_type": "code",
   "execution_count": 86,
   "id": "47abb182",
   "metadata": {},
   "outputs": [],
   "source": [
    "lr_auc = cross_val_score(lr_model,\n",
    "                        features_train,\n",
    "                        target_train,\n",
    "                        scoring='roc_auc').mean()"
   ]
  },
  {
   "cell_type": "code",
   "execution_count": 87,
   "id": "af1ffe15",
   "metadata": {
    "id": "af1ffe15"
   },
   "outputs": [
    {
     "name": "stdout",
     "output_type": "stream",
     "text": [
      "Значение ROC-AUC на кросс-валидации модели LogisticRegression: 0.84\n"
     ]
    }
   ],
   "source": [
    "auc_lr =  round(lr_auc, 2)\n",
    "print(f'Значение ROC-AUC на кросс-валидации модели LogisticRegression: {auc_lr}')"
   ]
  },
  {
   "cell_type": "markdown",
   "id": "tTHzDmMM7jWZ",
   "metadata": {
    "id": "tTHzDmMM7jWZ"
   },
   "source": [
    "## RandomForest"
   ]
  },
  {
   "cell_type": "code",
   "execution_count": 88,
   "id": "ewtWlVtf7ngg",
   "metadata": {
    "id": "ewtWlVtf7ngg"
   },
   "outputs": [],
   "source": [
    "def objective(trial):\n",
    "    params = {\n",
    "        'n_estimators': trial.suggest_int('n_estimators', 2, 300),\n",
    "        'max_depth': trial.suggest_int('max_depth', 1, 15)\n",
    "    }\n",
    "    model = RandomForestClassifier(**params, random_state=RANDOM_STATE)\n",
    "    cv = cross_val_score(model,\n",
    "                         features_train,\n",
    "                         target_train,\n",
    "                         n_jobs=-1,\n",
    "                         scoring='roc_auc').mean()\n",
    "    return cv"
   ]
  },
  {
   "cell_type": "code",
   "execution_count": 89,
   "id": "4QrZaVFfJn4z",
   "metadata": {
    "colab": {
     "base_uri": "https://localhost:8080/"
    },
    "id": "4QrZaVFfJn4z",
    "outputId": "3465776c-d570-4cbf-a6f3-60bf61813e57",
    "scrolled": true
   },
   "outputs": [
    {
     "name": "stderr",
     "output_type": "stream",
     "text": [
      "\u001b[32m[I 2023-01-12 12:12:31,153]\u001b[0m A new study created in memory with name: no-name-ca699202-7217-4d68-9544-9997879ee375\u001b[0m\n",
      "\u001b[32m[I 2023-01-12 12:12:31,442]\u001b[0m Trial 0 finished with value: 0.8509265278675873 and parameters: {'n_estimators': 21, 'max_depth': 8}. Best is trial 0 with value: 0.8509265278675873.\u001b[0m\n",
      "\u001b[32m[I 2023-01-12 12:12:31,888]\u001b[0m Trial 1 finished with value: 0.831019332474017 and parameters: {'n_estimators': 107, 'max_depth': 1}. Best is trial 0 with value: 0.8509265278675873.\u001b[0m\n",
      "\u001b[32m[I 2023-01-12 12:12:32,798]\u001b[0m Trial 2 finished with value: 0.836068137124308 and parameters: {'n_estimators': 281, 'max_depth': 1}. Best is trial 0 with value: 0.8509265278675873.\u001b[0m\n",
      "\u001b[32m[I 2023-01-12 12:12:34,253]\u001b[0m Trial 3 finished with value: 0.8465374637069093 and parameters: {'n_estimators': 203, 'max_depth': 15}. Best is trial 0 with value: 0.8509265278675873.\u001b[0m\n",
      "\u001b[32m[I 2023-01-12 12:12:35,682]\u001b[0m Trial 4 finished with value: 0.8573343501865462 and parameters: {'n_estimators': 268, 'max_depth': 8}. Best is trial 4 with value: 0.8573343501865462.\u001b[0m\n",
      "\u001b[32m[I 2023-01-12 12:12:35,822]\u001b[0m Trial 5 finished with value: 0.8361639882243483 and parameters: {'n_estimators': 17, 'max_depth': 14}. Best is trial 4 with value: 0.8573343501865462.\u001b[0m\n",
      "\u001b[32m[I 2023-01-12 12:12:36,203]\u001b[0m Trial 6 finished with value: 0.8535140435115245 and parameters: {'n_estimators': 85, 'max_depth': 5}. Best is trial 4 with value: 0.8573343501865462.\u001b[0m\n",
      "\u001b[32m[I 2023-01-12 12:12:36,502]\u001b[0m Trial 7 finished with value: 0.8486524433955822 and parameters: {'n_estimators': 46, 'max_depth': 12}. Best is trial 4 with value: 0.8573343501865462.\u001b[0m\n",
      "\u001b[32m[I 2023-01-12 12:12:37,097]\u001b[0m Trial 8 finished with value: 0.8459052807374358 and parameters: {'n_estimators': 154, 'max_depth': 3}. Best is trial 4 with value: 0.8573343501865462.\u001b[0m\n",
      "\u001b[32m[I 2023-01-12 12:12:38,216]\u001b[0m Trial 9 finished with value: 0.8535518782759917 and parameters: {'n_estimators': 177, 'max_depth': 12}. Best is trial 4 with value: 0.8573343501865462.\u001b[0m\n",
      "\u001b[32m[I 2023-01-12 12:12:39,632]\u001b[0m Trial 10 finished with value: 0.8576864399803774 and parameters: {'n_estimators': 300, 'max_depth': 7}. Best is trial 10 with value: 0.8576864399803774.\u001b[0m\n",
      "\u001b[32m[I 2023-01-12 12:12:41,131]\u001b[0m Trial 11 finished with value: 0.8576919036415223 and parameters: {'n_estimators': 296, 'max_depth': 8}. Best is trial 11 with value: 0.8576919036415223.\u001b[0m\n",
      "\u001b[32m[I 2023-01-12 12:12:42,204]\u001b[0m Trial 12 finished with value: 0.8557000183533614 and parameters: {'n_estimators': 231, 'max_depth': 6}. Best is trial 11 with value: 0.8576919036415223.\u001b[0m\n",
      "\u001b[32m[I 2023-01-12 12:12:43,906]\u001b[0m Trial 13 finished with value: 0.8557682567607137 and parameters: {'n_estimators': 292, 'max_depth': 11}. Best is trial 11 with value: 0.8576919036415223.\u001b[0m\n",
      "\u001b[32m[I 2023-01-12 12:12:45,246]\u001b[0m Trial 14 finished with value: 0.857570524315695 and parameters: {'n_estimators': 236, 'max_depth': 10}. Best is trial 11 with value: 0.8576919036415223.\u001b[0m\n",
      "\u001b[32m[I 2023-01-12 12:12:46,378]\u001b[0m Trial 15 finished with value: 0.8556088795534599 and parameters: {'n_estimators': 242, 'max_depth': 6}. Best is trial 11 with value: 0.8576919036415223.\u001b[0m\n",
      "\u001b[32m[I 2023-01-12 12:12:47,910]\u001b[0m Trial 16 finished with value: 0.8574359764639228 and parameters: {'n_estimators': 293, 'max_depth': 9}. Best is trial 11 with value: 0.8576919036415223.\u001b[0m\n",
      "\u001b[32m[I 2023-01-12 12:12:48,844]\u001b[0m Trial 17 finished with value: 0.8539362486283102 and parameters: {'n_estimators': 207, 'max_depth': 5}. Best is trial 11 with value: 0.8576919036415223.\u001b[0m\n",
      "\u001b[32m[I 2023-01-12 12:12:50,098]\u001b[0m Trial 18 finished with value: 0.857794302053418 and parameters: {'n_estimators': 260, 'max_depth': 7}. Best is trial 18 with value: 0.857794302053418.\u001b[0m\n",
      "\u001b[32m[I 2023-01-12 12:12:50,998]\u001b[0m Trial 19 finished with value: 0.8466570173642349 and parameters: {'n_estimators': 255, 'max_depth': 3}. Best is trial 18 with value: 0.857794302053418.\u001b[0m\n",
      "\u001b[32m[I 2023-01-12 12:12:51,688]\u001b[0m Trial 20 finished with value: 0.8566861605490453 and parameters: {'n_estimators': 122, 'max_depth': 9}. Best is trial 18 with value: 0.857794302053418.\u001b[0m\n",
      "\u001b[32m[I 2023-01-12 12:12:52,987]\u001b[0m Trial 21 finished with value: 0.8577542665293041 and parameters: {'n_estimators': 264, 'max_depth': 7}. Best is trial 18 with value: 0.857794302053418.\u001b[0m\n",
      "\u001b[32m[I 2023-01-12 12:12:53,798]\u001b[0m Trial 22 finished with value: 0.8507611970319202 and parameters: {'n_estimators': 196, 'max_depth': 4}. Best is trial 18 with value: 0.857794302053418.\u001b[0m\n",
      "\u001b[32m[I 2023-01-12 12:12:55,137]\u001b[0m Trial 23 finished with value: 0.8577497188492569 and parameters: {'n_estimators': 263, 'max_depth': 7}. Best is trial 18 with value: 0.857794302053418.\u001b[0m\n",
      "\u001b[32m[I 2023-01-12 12:12:56,242]\u001b[0m Trial 24 finished with value: 0.85789105045894 and parameters: {'n_estimators': 225, 'max_depth': 7}. Best is trial 24 with value: 0.85789105045894.\u001b[0m\n",
      "\u001b[32m[I 2023-01-12 12:12:57,199]\u001b[0m Trial 25 finished with value: 0.855621775179672 and parameters: {'n_estimators': 216, 'max_depth': 6}. Best is trial 24 with value: 0.85789105045894.\u001b[0m\n",
      "\u001b[32m[I 2023-01-12 12:12:58,219]\u001b[0m Trial 26 finished with value: 0.8573303488250323 and parameters: {'n_estimators': 179, 'max_depth': 10}. Best is trial 24 with value: 0.85789105045894.\u001b[0m\n",
      "\u001b[32m[I 2023-01-12 12:12:59,448]\u001b[0m Trial 27 finished with value: 0.8576875018626952 and parameters: {'n_estimators': 254, 'max_depth': 7}. Best is trial 24 with value: 0.85789105045894.\u001b[0m\n",
      "\u001b[32m[I 2023-01-12 12:13:00,350]\u001b[0m Trial 28 finished with value: 0.8507085117141205 and parameters: {'n_estimators': 227, 'max_depth': 4}. Best is trial 24 with value: 0.85789105045894.\u001b[0m\n",
      "\u001b[32m[I 2023-01-12 12:13:01,176]\u001b[0m Trial 29 finished with value: 0.8571894223258972 and parameters: {'n_estimators': 154, 'max_depth': 9}. Best is trial 24 with value: 0.85789105045894.\u001b[0m\n",
      "\u001b[32m[I 2023-01-12 12:13:01,994]\u001b[0m Trial 30 finished with value: 0.8535749884907599 and parameters: {'n_estimators': 183, 'max_depth': 5}. Best is trial 24 with value: 0.85789105045894.\u001b[0m\n",
      "\u001b[32m[I 2023-01-12 12:13:03,299]\u001b[0m Trial 31 finished with value: 0.8576334238111223 and parameters: {'n_estimators': 272, 'max_depth': 7}. Best is trial 24 with value: 0.85789105045894.\u001b[0m\n",
      "\u001b[32m[I 2023-01-12 12:13:04,510]\u001b[0m Trial 32 finished with value: 0.8577517547184641 and parameters: {'n_estimators': 257, 'max_depth': 7}. Best is trial 24 with value: 0.85789105045894.\u001b[0m\n",
      "\u001b[32m[I 2023-01-12 12:13:05,765]\u001b[0m Trial 33 finished with value: 0.8573095475197853 and parameters: {'n_estimators': 245, 'max_depth': 8}. Best is trial 24 with value: 0.85789105045894.\u001b[0m\n",
      "\u001b[32m[I 2023-01-12 12:13:07,002]\u001b[0m Trial 34 finished with value: 0.8556282416792076 and parameters: {'n_estimators': 277, 'max_depth': 6}. Best is trial 24 with value: 0.85789105045894.\u001b[0m\n",
      "\u001b[32m[I 2023-01-12 12:13:08,164]\u001b[0m Trial 35 finished with value: 0.8574998908444325 and parameters: {'n_estimators': 218, 'max_depth': 8}. Best is trial 24 with value: 0.85789105045894.\u001b[0m\n",
      "\u001b[32m[I 2023-01-12 12:13:09,097]\u001b[0m Trial 36 finished with value: 0.8420098010107196 and parameters: {'n_estimators': 276, 'max_depth': 2}. Best is trial 24 with value: 0.85789105045894.\u001b[0m\n",
      "\u001b[32m[I 2023-01-12 12:13:10,571]\u001b[0m Trial 37 finished with value: 0.8572275125797088 and parameters: {'n_estimators': 257, 'max_depth': 10}. Best is trial 24 with value: 0.85789105045894.\u001b[0m\n",
      "\u001b[32m[I 2023-01-12 12:13:11,105]\u001b[0m Trial 38 finished with value: 0.8498740427260023 and parameters: {'n_estimators': 133, 'max_depth': 4}. Best is trial 24 with value: 0.85789105045894.\u001b[0m\n",
      "\u001b[32m[I 2023-01-12 12:13:11,492]\u001b[0m Trial 39 finished with value: 0.857467435479154 and parameters: {'n_estimators': 69, 'max_depth': 7}. Best is trial 24 with value: 0.85789105045894.\u001b[0m\n",
      "\u001b[32m[I 2023-01-12 12:13:12,577]\u001b[0m Trial 40 finished with value: 0.8578815407748493 and parameters: {'n_estimators': 196, 'max_depth': 9}. Best is trial 24 with value: 0.85789105045894.\u001b[0m\n",
      "\u001b[32m[I 2023-01-12 12:13:13,626]\u001b[0m Trial 41 finished with value: 0.857706795579673 and parameters: {'n_estimators': 199, 'max_depth': 9}. Best is trial 24 with value: 0.85789105045894.\u001b[0m\n",
      "\u001b[32m[I 2023-01-12 12:13:14,946]\u001b[0m Trial 42 finished with value: 0.8572975281660078 and parameters: {'n_estimators': 246, 'max_depth': 8}. Best is trial 24 with value: 0.85789105045894.\u001b[0m\n",
      "\u001b[32m[I 2023-01-12 12:13:15,919]\u001b[0m Trial 43 finished with value: 0.8539738951767426 and parameters: {'n_estimators': 223, 'max_depth': 5}. Best is trial 24 with value: 0.85789105045894.\u001b[0m\n",
      "\u001b[32m[I 2023-01-12 12:13:17,172]\u001b[0m Trial 44 finished with value: 0.8516766519463452 and parameters: {'n_estimators': 190, 'max_depth': 13}. Best is trial 24 with value: 0.85789105045894.\u001b[0m\n",
      "\u001b[32m[I 2023-01-12 12:13:18,002]\u001b[0m Trial 45 finished with value: 0.8554400174692164 and parameters: {'n_estimators': 169, 'max_depth': 6}. Best is trial 24 with value: 0.85789105045894.\u001b[0m\n",
      "\u001b[32m[I 2023-01-12 12:13:19,312]\u001b[0m Trial 46 finished with value: 0.8555163099223947 and parameters: {'n_estimators': 210, 'max_depth': 11}. Best is trial 24 with value: 0.85789105045894.\u001b[0m\n",
      "\u001b[32m[I 2023-01-12 12:13:19,384]\u001b[0m Trial 47 finished with value: 0.8452100409842712 and parameters: {'n_estimators': 6, 'max_depth': 7}. Best is trial 24 with value: 0.85789105045894.\u001b[0m\n",
      "\u001b[32m[I 2023-01-12 12:13:20,844]\u001b[0m Trial 48 finished with value: 0.8575684748642217 and parameters: {'n_estimators': 286, 'max_depth': 8}. Best is trial 24 with value: 0.85789105045894.\u001b[0m\n",
      "\u001b[32m[I 2023-01-12 12:13:22,435]\u001b[0m Trial 49 finished with value: 0.8472765277334948 and parameters: {'n_estimators': 235, 'max_depth': 15}. Best is trial 24 with value: 0.85789105045894.\u001b[0m\n"
     ]
    }
   ],
   "source": [
    "study = optuna.create_study(direction=\"maximize\")\n",
    "study.optimize(objective, n_trials=50)"
   ]
  },
  {
   "cell_type": "code",
   "execution_count": 90,
   "id": "JoGhOTk6L3ZW",
   "metadata": {
    "colab": {
     "base_uri": "https://localhost:8080/"
    },
    "id": "JoGhOTk6L3ZW",
    "outputId": "239c993e-457d-47fe-f2d6-e9e75b440fcd",
    "scrolled": true
   },
   "outputs": [
    {
     "name": "stdout",
     "output_type": "stream",
     "text": [
      "Лучшие параметры для RandomForest: {'n_estimators': 225, 'max_depth': 7}\n"
     ]
    }
   ],
   "source": [
    "print(f'Лучшие параметры для RandomForest: {study.best_params}')"
   ]
  },
  {
   "cell_type": "code",
   "execution_count": 91,
   "id": "1eab88db",
   "metadata": {},
   "outputs": [
    {
     "name": "stdout",
     "output_type": "stream",
     "text": [
      "Значение ROC-AUC на кросс-валидации модели RandomForest: 0.86\n"
     ]
    }
   ],
   "source": [
    "auc_rf = round(study.best_value, 2)\n",
    "print(f'Значение ROC-AUC на кросс-валидации модели RandomForest: {auc_rf}')"
   ]
  },
  {
   "cell_type": "code",
   "execution_count": 92,
   "id": "SzeCBwrQ2g7R",
   "metadata": {
    "id": "SzeCBwrQ2g7R"
   },
   "outputs": [],
   "source": [
    "pivot = pd.DataFrame(data={'ROC_AUC': [auc_cat, auc_lgb, auc_lr, auc_rf]}, \n",
    "                     index=['Catboost', 'LightGBM', 'LogisticRegression', 'RandomForest'])"
   ]
  },
  {
   "cell_type": "markdown",
   "id": "OSGqSX4D0ysD",
   "metadata": {
    "id": "OSGqSX4D0ysD"
   },
   "source": [
    "## Вывод:  \n",
    "В результате обучения 4х моделей были достигнуты следующие результаты:"
   ]
  },
  {
   "cell_type": "code",
   "execution_count": 93,
   "id": "nFdvNIM_01Oj",
   "metadata": {
    "colab": {
     "base_uri": "https://localhost:8080/",
     "height": 175
    },
    "id": "nFdvNIM_01Oj",
    "outputId": "317a7aa5-6cc7-48ed-aa64-4c10c79342a7"
   },
   "outputs": [
    {
     "data": {
      "text/html": [
       "<div>\n",
       "<style scoped>\n",
       "    .dataframe tbody tr th:only-of-type {\n",
       "        vertical-align: middle;\n",
       "    }\n",
       "\n",
       "    .dataframe tbody tr th {\n",
       "        vertical-align: top;\n",
       "    }\n",
       "\n",
       "    .dataframe thead th {\n",
       "        text-align: right;\n",
       "    }\n",
       "</style>\n",
       "<table border=\"1\" class=\"dataframe\">\n",
       "  <thead>\n",
       "    <tr style=\"text-align: right;\">\n",
       "      <th></th>\n",
       "      <th>ROC_AUC</th>\n",
       "    </tr>\n",
       "  </thead>\n",
       "  <tbody>\n",
       "    <tr>\n",
       "      <th>Catboost</th>\n",
       "      <td>0.86</td>\n",
       "    </tr>\n",
       "    <tr>\n",
       "      <th>LightGBM</th>\n",
       "      <td>0.89</td>\n",
       "    </tr>\n",
       "    <tr>\n",
       "      <th>LogisticRegression</th>\n",
       "      <td>0.84</td>\n",
       "    </tr>\n",
       "    <tr>\n",
       "      <th>RandomForest</th>\n",
       "      <td>0.86</td>\n",
       "    </tr>\n",
       "  </tbody>\n",
       "</table>\n",
       "</div>"
      ],
      "text/plain": [
       "                    ROC_AUC\n",
       "Catboost               0.86\n",
       "LightGBM               0.89\n",
       "LogisticRegression     0.84\n",
       "RandomForest           0.86"
      ]
     },
     "execution_count": 93,
     "metadata": {},
     "output_type": "execute_result"
    }
   ],
   "source": [
    "pivot"
   ]
  },
  {
   "cell_type": "markdown",
   "id": "nLZKaPrc6up7",
   "metadata": {
    "id": "nLZKaPrc6up7"
   },
   "source": [
    "Наибольшего значения roc-auc достиглa модель LightGBM, ее в дальнейшем и будем тестировать."
   ]
  },
  {
   "cell_type": "markdown",
   "id": "0b16c649",
   "metadata": {
    "id": "0b16c649"
   },
   "source": [
    "# Тестирование модели"
   ]
  },
  {
   "cell_type": "code",
   "execution_count": 94,
   "id": "c938e253",
   "metadata": {},
   "outputs": [],
   "source": [
    "lgb_model = lgb.LGBMClassifier(**params_lgb, silent=True).fit(features_train, target_train)"
   ]
  },
  {
   "cell_type": "code",
   "execution_count": 95,
   "id": "56bf32e6",
   "metadata": {},
   "outputs": [],
   "source": [
    "prob = lgb_model.predict_proba(features_test)[:,1]\n",
    "roc_auc = roc_auc_score(target_test, prob)"
   ]
  },
  {
   "cell_type": "code",
   "execution_count": 96,
   "id": "301f9113",
   "metadata": {},
   "outputs": [
    {
     "name": "stdout",
     "output_type": "stream",
     "text": [
      "Значение ROC-AUC на тестовых данных: 0.90\n"
     ]
    }
   ],
   "source": [
    "print(f'Значение ROC-AUC на тестовых данных: {roc_auc:.2f}')"
   ]
  },
  {
   "cell_type": "code",
   "execution_count": 97,
   "id": "dbe60028",
   "metadata": {},
   "outputs": [
    {
     "data": {
      "text/plain": [
       "Text(0.5, 1.0, 'LightGBM features importance')"
      ]
     },
     "execution_count": 97,
     "metadata": {},
     "output_type": "execute_result"
    },
    {
     "data": {
      "image/png": "[encoded data removed]",
      "text/plain": [
       "<Figure size 864x432 with 1 Axes>"
      ]
     },
     "metadata": {
      "needs_background": "light"
     },
     "output_type": "display_data"
    }
   ],
   "source": [
    "importance_lgb = lgb_model.feature_importances_.argsort()\n",
    "plt.figure(figsize=(12, 6))\n",
    "plt.barh(features_test.columns[importance_lgb], lgb_model.feature_importances_[importance_lgb], color='purple')\n",
    "plt.title('LightGBM features importance')"
   ]
  },
  {
   "cell_type": "markdown",
   "id": "8ed68d0a",
   "metadata": {},
   "source": [
    "Наиболее ценным признаком модели является продолжительность действия договора, на 2 и 3 месте ежемесячные платежи и общий доход."
   ]
  },
  {
   "cell_type": "markdown",
   "id": "csazZjky9odc",
   "metadata": {
    "id": "csazZjky9odc"
   },
   "source": [
    "## Вывод:  \n",
    "В результате тестирования модель LightGBM значение roc-auc составило 0.9, что соответствует поставленной цели значения не менее 0.87"
   ]
  },
  {
   "cell_type": "markdown",
   "id": "28c036b2",
   "metadata": {},
   "source": [
    "## Отчет по проекту \"Телеком: отток клиентов\""
   ]
  },
  {
   "cell_type": "markdown",
   "id": "0936139f",
   "metadata": {},
   "source": [
    "**1. Описание задания** \n",
    "\n",
    "Оператор связи «Ниединогоразрыва.ком» хочет научиться прогнозировать отток клиентов. Если выяснится, что пользователь планирует уйти, ему будут предложены промокоды и специальные условия. Команда оператора собрала персональные данные о некоторых клиентах, информацию об их тарифах и договорах в период с октября 2013г. по февраль 2020г.\n",
    "\n",
    "**2. Цель задания:**  \n",
    "\n",
    "Разработать и обучить модель, которая будет прогнозировть отток клиентов  \n",
    "Целевой признак: столбец `EndDate`  \n",
    "Метрика качества: ROC-AUC, значение которой должно быть не менее 0.87  \n",
    "Дополнительная метрика качества : accuracy\n",
    "\n",
    "**3. Описание данных:**  \n",
    "\n",
    "**contract** - таблица с договорами клиентов, которая содержит в себе с привязкой по клиету: начало и окончания договора, тип договора, виды оплаты и ежемесячные платежи с общим доходом по договору.  \n",
    "**internet** - таблица содержит информация об интернет-услугах, таких как тип интернет подключения и подключение разнообразных интернет сервисов.  \n",
    "**personal** - персональные данные клиента\n",
    "**phone** - подключение телефонного аппарата к нескольким линиям одновременно.  \n",
    "\n",
    "P. S. Более подробная информация по содержанию столбцов таблиц расписана в первом пункте проекта\n",
    "\n",
    "**4. Ход работы:**  \n",
    "\n",
    "- **Ознакомление и предобработка:**  \n",
    "Проедоставлены 4 датасета:  \n",
    "\n",
    "Название| Количество строк| Количество столбцов\n",
    "--------|-----------------|--------------------\n",
    "contract|7043|8\n",
    "internet|5517|8\n",
    "personal|7043|5\n",
    "phone|6361|2\n",
    "\n",
    "В датасете с информацией по контрактам были выявлены: несоответствие формата в столбце с датой начала договора и последующее приведение его в нужный вид (datetime). В столбце с общим доходом были выявленыы пропуски, в результате которых он тоже не соответствовал нужному формату. Т.к. пропуски соответствовали дате начала договора 01.02.2020, делаем вывод, что данные клиенты - новоприбывшие и пропуски были заполнены данными, взятыми из ежемесячноых платежей и столбец переведен в формат float, для удобства дальнейшего исследования.  \n",
    "\n",
    "- **Исследовательский анализ данных:**  \n",
    "В результате исследования были установлены следующие моменты:  \n",
    "1. Отток начинается с ноября 2019 г. Каждый следующий месяц уходит примерно одно количество клиентов (в районе 460)  \n",
    "2. С сентября 2019 по январь 2020 наблюдается прирост в количестве заключенных договоров. Эти даты рядом с датами прекращения договоров уже действующих клиентов. Предположительно, увеличения количество заключенных договоров связано с проведением какой-либо промо акции для привлечения нового бизнеса.  \n",
    "3. Как и предполагалось в 2019 г. было заключено самое большое количество новых договоров  \n",
    "4. Также в 2019 г . лидирует по количеству ежемесячных платежей, размер которых не привышает 25 у.е. Из общего количества в 1405 человек, 429 приходится на 2019г, что частично подверждает привлечение клиентов в конце 2019 г. проведением промо-акции с льготными тарифами сезонного характера\n",
    "5. По графикам, представленным выше, также видно, что в 2019 увеличилась общая сумма ежемесячных платежей, но это не повлияло на увеличение суммы общего дохода (из года в год заментное падение)\n",
    "6. Наибольшая доля ушедших клиентов выбрала помесячный спопоб оплаты\n",
    "Итог: предположительно, для привлечения новых клиентов во второй половине 2019 г. была запущена какая-то сезонная промо акция. Следовательно, увеличилось количество первичных договоров, которые по итогу, спустя короткое время, прекращались.\n",
    "\n",
    "- **Подготовка данных:**  \n",
    "1. Объединили все таблицы в одну по столбцу `customer_i_d`.  \n",
    "2. В ходе анализа данных был добавлен признак `duration` (длительность действия договора в днях), который является наиважнейшим в определении лояльности клиента\n",
    "3. В результате объединения, в столбцах internet_service, online_security, device_protection, online_backup, tech_support, streaming_t_v, streaming_movies и multiple_lines образовались пропуски. Целесообразно заполнить их следующим образом:  \n",
    "- пропуски в столбцах internet_service и multiple_lines заполнить значением no_use  \n",
    "- в связи с тем, что часть клиентов пользуется только интернетом или только телефонией, выделим столбцы internet_users и phone_users, в которых 1 - клиент пользуется данной услугой, а 0 - не пользуется.  \n",
    "- пропуски в столбцах online_security, device_protection, online_backup, tech_support, streaming_t_v, streaming_movies заполним значением No, т.к. это клиенты которые не пользуются интернетом и, соотвественно, данные услуги не используют  \n",
    "4. Для модели Catboost кодирование данных не нужно, поэтому подготовим данные для дальнейшего обучения модели, удалив следующие столбцы:  \n",
    "- `termination_date`, потому что он нужен был для вычисления срока действия договоров (столбец `duration`)  \n",
    "- `customer_i_d`, т.к. он не несет в себе для дальнейших вычислений никакой смысловой нагрузки  \n",
    "- `begin_date`, т.к. даты для дальнешего исследования нам не пригодятся  \n",
    "- `begin_year`, чтобы избежать утечки целевого признака  \n",
    "и также  масштабируем числовые признаки. Выделены тестовый и обучающий наборы данных.\n",
    "5. Для моделей LightGBM, LogisticRegression и RandomForest взяли уже почищенные от ненужных столбцов данные, закодировали их при помощи One Hot Encoding и масштабировали. Также расделены на обучающую и тестовую выборки.\n",
    "\n",
    "В результате того, что предоставленные данные оказались достаочно чистыми, проблем в работе с ними не возникало. Исследование проведено придерживаясь первоначального плана.\n",
    "\n",
    "**5.Обучение моделей:**  \n",
    "\n",
    "Для обучения были выбраны 4 модели: Catboost, LightGBM, LogisticRegression и RandomForest. Подбор гиперпараметров осуществлялся при помощи Optuna с оценкой качества на кросс-валидации. В результате обучения были получены следующие значения:\n",
    "\n",
    "Модель| ROC_AUC| Гиперпараметры\n",
    "------|--------|---------------\n",
    "Catboost| 0.86|n_estimators:640, max_depth:5, learning_rate:0.1\n",
    "LightGBM| 0.89|n_estimators:486, max_depth:2, learning_rate:0.09\n",
    "LogisticRegression| 0.84| \n",
    "RandomForest| 0.86|n_estimators:199, max_depth:7\n",
    "\n",
    "**6.Тестирование модели:**\n",
    "Т.к. критерием выбора подходящей модели была обозначена метрика ROC-AUC, значение которой должно быть не меньше 0.87, под данный параметр подподает модель LightGBM. После проведения тестирования данная модель показала значение метрики 0.9, что соответствует цели задания. Также, хотелось бы отметить, что согласно графику важности признаков в пункте проекта \"Тестирование модели\", наиболее значимыми для модели являются: на первом месте - длительность действия договора, второе и третье разделяют ежемесячные платежи и общий доход."
   ]
  },
  {
   "cell_type": "code",
   "execution_count": null,
   "id": "6df42b94",
   "metadata": {},
   "outputs": [],
   "source": []
  }
 ],
 "metadata": {
  "ExecuteTimeLog": [
   {
    "duration": 42,
    "start_time": "2022-08-11T08:19:05.028Z"
   },
   {
    "duration": 380,
    "start_time": "2022-08-11T08:19:13.245Z"
   },
   {
    "duration": 106,
    "start_time": "2022-08-11T08:19:13.627Z"
   },
   {
    "duration": 0,
    "start_time": "2022-08-11T08:19:13.735Z"
   },
   {
    "duration": 0,
    "start_time": "2022-08-11T08:19:13.736Z"
   },
   {
    "duration": 0,
    "start_time": "2022-08-11T08:19:13.737Z"
   },
   {
    "duration": 0,
    "start_time": "2022-08-11T08:19:13.738Z"
   },
   {
    "duration": 0,
    "start_time": "2022-08-11T08:19:13.739Z"
   },
   {
    "duration": 0,
    "start_time": "2022-08-11T08:19:13.740Z"
   },
   {
    "duration": 0,
    "start_time": "2022-08-11T08:19:13.741Z"
   },
   {
    "duration": 0,
    "start_time": "2022-08-11T08:19:13.742Z"
   },
   {
    "duration": 0,
    "start_time": "2022-08-11T08:19:13.742Z"
   },
   {
    "duration": 0,
    "start_time": "2022-08-11T08:19:13.744Z"
   },
   {
    "duration": 0,
    "start_time": "2022-08-11T08:19:13.745Z"
   },
   {
    "duration": 305,
    "start_time": "2022-08-11T08:20:10.477Z"
   },
   {
    "duration": 131,
    "start_time": "2022-08-11T08:20:21.587Z"
   },
   {
    "duration": 386,
    "start_time": "2022-08-11T08:20:28.085Z"
   },
   {
    "duration": 101,
    "start_time": "2022-08-11T08:20:28.473Z"
   },
   {
    "duration": 4,
    "start_time": "2022-08-11T08:20:28.576Z"
   },
   {
    "duration": 45,
    "start_time": "2022-08-11T08:20:28.581Z"
   },
   {
    "duration": 4,
    "start_time": "2022-08-11T08:20:28.627Z"
   },
   {
    "duration": 44,
    "start_time": "2022-08-11T08:20:28.632Z"
   },
   {
    "duration": 52,
    "start_time": "2022-08-11T08:20:28.677Z"
   },
   {
    "duration": 26,
    "start_time": "2022-08-11T08:20:28.730Z"
   },
   {
    "duration": 5,
    "start_time": "2022-08-11T08:20:28.758Z"
   },
   {
    "duration": 6,
    "start_time": "2022-08-11T08:20:28.766Z"
   },
   {
    "duration": 36,
    "start_time": "2022-08-11T08:20:28.774Z"
   },
   {
    "duration": 39,
    "start_time": "2022-08-11T08:20:28.811Z"
   },
   {
    "duration": 5,
    "start_time": "2022-08-11T08:20:28.851Z"
   },
   {
    "duration": 6,
    "start_time": "2022-08-11T08:21:19.654Z"
   },
   {
    "duration": 4,
    "start_time": "2022-08-11T08:22:17.730Z"
   },
   {
    "duration": 12,
    "start_time": "2022-08-11T08:22:26.714Z"
   },
   {
    "duration": 96,
    "start_time": "2022-08-11T08:23:01.280Z"
   },
   {
    "duration": 838,
    "start_time": "2022-08-11T08:23:47.437Z"
   },
   {
    "duration": 316,
    "start_time": "2022-08-11T08:23:59.128Z"
   },
   {
    "duration": 6,
    "start_time": "2022-08-11T08:24:44.970Z"
   },
   {
    "duration": 133,
    "start_time": "2022-08-11T08:25:13.277Z"
   },
   {
    "duration": 72,
    "start_time": "2022-08-11T08:28:55.963Z"
   },
   {
    "duration": 4,
    "start_time": "2022-08-11T08:29:03.544Z"
   },
   {
    "duration": 295,
    "start_time": "2022-08-11T08:30:03.777Z"
   },
   {
    "duration": 6,
    "start_time": "2022-08-11T08:31:26.243Z"
   },
   {
    "duration": 106,
    "start_time": "2022-08-11T08:32:20.821Z"
   },
   {
    "duration": 4,
    "start_time": "2022-08-11T08:32:25.744Z"
   },
   {
    "duration": 5,
    "start_time": "2022-08-11T08:36:07.581Z"
   },
   {
    "duration": 6,
    "start_time": "2022-08-11T08:41:32.691Z"
   },
   {
    "duration": 8,
    "start_time": "2022-08-11T08:42:42.957Z"
   },
   {
    "duration": 5,
    "start_time": "2022-08-11T08:45:01.394Z"
   },
   {
    "duration": 5,
    "start_time": "2022-08-11T08:45:09.029Z"
   },
   {
    "duration": 13,
    "start_time": "2022-08-11T08:45:18.794Z"
   },
   {
    "duration": 3,
    "start_time": "2022-08-11T08:51:47.513Z"
   },
   {
    "duration": 21,
    "start_time": "2022-08-11T08:51:59.640Z"
   },
   {
    "duration": 4,
    "start_time": "2022-08-11T08:52:25.125Z"
   },
   {
    "duration": 8,
    "start_time": "2022-08-11T08:52:25.290Z"
   },
   {
    "duration": 12,
    "start_time": "2022-08-11T08:52:25.508Z"
   },
   {
    "duration": 135,
    "start_time": "2022-08-11T08:57:13.877Z"
   },
   {
    "duration": 84,
    "start_time": "2022-08-11T09:00:21.104Z"
   },
   {
    "duration": 150,
    "start_time": "2022-08-11T09:01:44.327Z"
   },
   {
    "duration": 84,
    "start_time": "2022-08-11T09:02:02.032Z"
   },
   {
    "duration": 13,
    "start_time": "2022-08-11T09:04:13.618Z"
   },
   {
    "duration": 5,
    "start_time": "2022-08-11T09:04:24.896Z"
   },
   {
    "duration": 13,
    "start_time": "2022-08-11T09:06:09.584Z"
   },
   {
    "duration": 10,
    "start_time": "2022-08-11T09:45:03.116Z"
   },
   {
    "duration": 14,
    "start_time": "2022-08-11T09:52:28.233Z"
   },
   {
    "duration": 15,
    "start_time": "2022-08-11T09:52:35.607Z"
   },
   {
    "duration": 12,
    "start_time": "2022-08-11T09:53:08.265Z"
   },
   {
    "duration": 11,
    "start_time": "2022-08-11T09:54:17.893Z"
   },
   {
    "duration": 19,
    "start_time": "2022-08-11T09:54:44.670Z"
   },
   {
    "duration": 10,
    "start_time": "2022-08-11T09:56:49.469Z"
   },
   {
    "duration": 20,
    "start_time": "2022-08-11T09:57:03.741Z"
   },
   {
    "duration": 16,
    "start_time": "2022-08-11T09:58:20.582Z"
   },
   {
    "duration": 8,
    "start_time": "2022-08-11T10:02:23.264Z"
   },
   {
    "duration": 10,
    "start_time": "2022-08-11T10:04:45.021Z"
   },
   {
    "duration": 10,
    "start_time": "2022-08-11T10:05:10.655Z"
   },
   {
    "duration": 11,
    "start_time": "2022-08-11T10:06:07.072Z"
   },
   {
    "duration": 4,
    "start_time": "2022-08-11T10:07:20.668Z"
   },
   {
    "duration": 3,
    "start_time": "2022-08-11T10:10:53.353Z"
   },
   {
    "duration": 108,
    "start_time": "2022-08-11T10:12:13.524Z"
   },
   {
    "duration": 15,
    "start_time": "2022-08-11T10:12:24.258Z"
   },
   {
    "duration": 1032,
    "start_time": "2022-08-11T10:23:52.656Z"
   },
   {
    "duration": 104,
    "start_time": "2022-08-11T10:23:53.690Z"
   },
   {
    "duration": 4,
    "start_time": "2022-08-11T10:23:53.795Z"
   },
   {
    "duration": 40,
    "start_time": "2022-08-11T10:23:53.801Z"
   },
   {
    "duration": 3,
    "start_time": "2022-08-11T10:23:53.843Z"
   },
   {
    "duration": 46,
    "start_time": "2022-08-11T10:23:53.848Z"
   },
   {
    "duration": 29,
    "start_time": "2022-08-11T10:23:53.906Z"
   },
   {
    "duration": 26,
    "start_time": "2022-08-11T10:23:53.936Z"
   },
   {
    "duration": 4,
    "start_time": "2022-08-11T10:23:53.964Z"
   },
   {
    "duration": 35,
    "start_time": "2022-08-11T10:23:53.971Z"
   },
   {
    "duration": 5,
    "start_time": "2022-08-11T10:23:54.007Z"
   },
   {
    "duration": 44,
    "start_time": "2022-08-11T10:23:54.014Z"
   },
   {
    "duration": 5,
    "start_time": "2022-08-11T10:23:54.060Z"
   },
   {
    "duration": 7,
    "start_time": "2022-08-11T10:23:54.066Z"
   },
   {
    "duration": 5,
    "start_time": "2022-08-11T10:23:54.074Z"
   },
   {
    "duration": 35,
    "start_time": "2022-08-11T10:23:54.080Z"
   },
   {
    "duration": 293,
    "start_time": "2022-08-11T10:23:54.116Z"
   },
   {
    "duration": 5,
    "start_time": "2022-08-11T10:23:54.411Z"
   },
   {
    "duration": 6,
    "start_time": "2022-08-11T10:23:54.418Z"
   },
   {
    "duration": 150,
    "start_time": "2022-08-11T10:23:54.426Z"
   },
   {
    "duration": 305,
    "start_time": "2022-08-11T10:23:54.578Z"
   },
   {
    "duration": 4,
    "start_time": "2022-08-11T10:23:54.885Z"
   },
   {
    "duration": 15,
    "start_time": "2022-08-11T10:23:54.891Z"
   },
   {
    "duration": 8,
    "start_time": "2022-08-11T10:23:54.908Z"
   },
   {
    "duration": 5,
    "start_time": "2022-08-11T10:23:54.918Z"
   },
   {
    "duration": 9,
    "start_time": "2022-08-11T10:23:54.925Z"
   },
   {
    "duration": 6,
    "start_time": "2022-08-11T10:23:54.935Z"
   },
   {
    "duration": 14,
    "start_time": "2022-08-11T10:23:54.944Z"
   },
   {
    "duration": 159,
    "start_time": "2022-08-11T10:23:54.960Z"
   },
   {
    "duration": 14,
    "start_time": "2022-08-11T10:23:55.120Z"
   },
   {
    "duration": 6,
    "start_time": "2022-08-11T10:23:55.135Z"
   },
   {
    "duration": 15,
    "start_time": "2022-08-11T10:23:55.142Z"
   },
   {
    "duration": 9,
    "start_time": "2022-08-11T10:23:55.158Z"
   },
   {
    "duration": 12,
    "start_time": "2022-08-11T10:23:55.169Z"
   },
   {
    "duration": 15,
    "start_time": "2022-08-11T10:23:55.182Z"
   },
   {
    "duration": 17,
    "start_time": "2022-08-11T10:23:55.199Z"
   },
   {
    "duration": 10,
    "start_time": "2022-08-11T10:23:55.218Z"
   },
   {
    "duration": 17,
    "start_time": "2022-08-11T10:23:55.229Z"
   },
   {
    "duration": 14,
    "start_time": "2022-08-11T10:23:55.247Z"
   },
   {
    "duration": 94,
    "start_time": "2022-08-11T10:25:27.141Z"
   },
   {
    "duration": 4,
    "start_time": "2022-08-11T10:25:48.517Z"
   },
   {
    "duration": 4,
    "start_time": "2022-08-11T10:28:00.149Z"
   },
   {
    "duration": 6,
    "start_time": "2022-08-11T10:28:08.517Z"
   },
   {
    "duration": 87,
    "start_time": "2022-08-11T10:32:55.781Z"
   },
   {
    "duration": 102,
    "start_time": "2022-08-11T12:56:56.413Z"
   },
   {
    "duration": 85,
    "start_time": "2022-08-11T12:59:28.503Z"
   },
   {
    "duration": 105,
    "start_time": "2022-08-11T13:01:16.279Z"
   },
   {
    "duration": 76,
    "start_time": "2022-08-11T13:01:35.867Z"
   },
   {
    "duration": 44,
    "start_time": "2022-08-11T13:25:38.398Z"
   },
   {
    "duration": 1205,
    "start_time": "2022-08-11T13:25:48.808Z"
   },
   {
    "duration": 317,
    "start_time": "2022-08-11T13:25:50.015Z"
   },
   {
    "duration": 4,
    "start_time": "2022-08-11T13:25:50.334Z"
   },
   {
    "duration": 47,
    "start_time": "2022-08-11T13:25:50.340Z"
   },
   {
    "duration": 4,
    "start_time": "2022-08-11T13:25:50.388Z"
   },
   {
    "duration": 56,
    "start_time": "2022-08-11T13:25:50.394Z"
   },
   {
    "duration": 49,
    "start_time": "2022-08-11T13:25:50.451Z"
   },
   {
    "duration": 28,
    "start_time": "2022-08-11T13:25:50.502Z"
   },
   {
    "duration": 6,
    "start_time": "2022-08-11T13:25:50.531Z"
   },
   {
    "duration": 6,
    "start_time": "2022-08-11T13:25:50.539Z"
   },
   {
    "duration": 11,
    "start_time": "2022-08-11T13:25:50.547Z"
   },
   {
    "duration": 4,
    "start_time": "2022-08-11T13:25:50.587Z"
   },
   {
    "duration": 7,
    "start_time": "2022-08-11T13:25:50.592Z"
   },
   {
    "duration": 42,
    "start_time": "2022-08-11T13:25:50.600Z"
   },
   {
    "duration": 5,
    "start_time": "2022-08-11T13:25:50.644Z"
   },
   {
    "duration": 15,
    "start_time": "2022-08-11T13:25:50.651Z"
   },
   {
    "duration": 3,
    "start_time": "2022-08-11T13:25:50.687Z"
   },
   {
    "duration": 14,
    "start_time": "2022-08-11T13:25:50.692Z"
   },
   {
    "duration": 304,
    "start_time": "2022-08-11T13:25:50.707Z"
   },
   {
    "duration": 6,
    "start_time": "2022-08-11T13:25:51.013Z"
   },
   {
    "duration": 6,
    "start_time": "2022-08-11T13:25:51.020Z"
   },
   {
    "duration": 144,
    "start_time": "2022-08-11T13:25:51.028Z"
   },
   {
    "duration": 304,
    "start_time": "2022-08-11T13:25:51.174Z"
   },
   {
    "duration": 10,
    "start_time": "2022-08-11T13:25:51.479Z"
   },
   {
    "duration": 8,
    "start_time": "2022-08-11T13:25:51.491Z"
   },
   {
    "duration": 10,
    "start_time": "2022-08-11T13:25:51.500Z"
   },
   {
    "duration": 3,
    "start_time": "2022-08-11T13:25:51.512Z"
   },
   {
    "duration": 7,
    "start_time": "2022-08-11T13:25:51.518Z"
   },
   {
    "duration": 10,
    "start_time": "2022-08-11T13:25:51.526Z"
   },
   {
    "duration": 17,
    "start_time": "2022-08-11T13:25:51.537Z"
   },
   {
    "duration": 144,
    "start_time": "2022-08-11T13:25:51.555Z"
   },
   {
    "duration": 14,
    "start_time": "2022-08-11T13:25:51.700Z"
   },
   {
    "duration": 4,
    "start_time": "2022-08-11T13:25:51.716Z"
   },
   {
    "duration": 15,
    "start_time": "2022-08-11T13:25:51.721Z"
   },
   {
    "duration": 10,
    "start_time": "2022-08-11T13:25:51.738Z"
   },
   {
    "duration": 38,
    "start_time": "2022-08-11T13:25:51.749Z"
   },
   {
    "duration": 9,
    "start_time": "2022-08-11T13:25:51.789Z"
   },
   {
    "duration": 21,
    "start_time": "2022-08-11T13:25:51.800Z"
   },
   {
    "duration": 12,
    "start_time": "2022-08-11T13:25:51.823Z"
   },
   {
    "duration": 19,
    "start_time": "2022-08-11T13:25:51.836Z"
   },
   {
    "duration": 42,
    "start_time": "2022-08-11T13:25:51.856Z"
   },
   {
    "duration": 5,
    "start_time": "2022-08-11T13:26:37.844Z"
   },
   {
    "duration": 6,
    "start_time": "2022-08-11T13:26:59.857Z"
   },
   {
    "duration": 7,
    "start_time": "2022-08-11T13:27:13.445Z"
   },
   {
    "duration": 4,
    "start_time": "2022-08-11T13:28:48.125Z"
   },
   {
    "duration": 7,
    "start_time": "2022-08-11T13:28:54.140Z"
   },
   {
    "duration": 6,
    "start_time": "2022-08-11T13:29:09.198Z"
   },
   {
    "duration": 6,
    "start_time": "2022-08-11T13:29:59.702Z"
   },
   {
    "duration": 4,
    "start_time": "2022-08-11T13:36:53.141Z"
   },
   {
    "duration": 1098,
    "start_time": "2022-08-11T13:38:23.766Z"
   },
   {
    "duration": 114,
    "start_time": "2022-08-11T13:38:24.866Z"
   },
   {
    "duration": 4,
    "start_time": "2022-08-11T13:38:24.982Z"
   },
   {
    "duration": 46,
    "start_time": "2022-08-11T13:38:24.988Z"
   },
   {
    "duration": 5,
    "start_time": "2022-08-11T13:38:25.036Z"
   },
   {
    "duration": 73,
    "start_time": "2022-08-11T13:38:25.042Z"
   },
   {
    "duration": 28,
    "start_time": "2022-08-11T13:38:25.117Z"
   },
   {
    "duration": 56,
    "start_time": "2022-08-11T13:38:25.146Z"
   },
   {
    "duration": 5,
    "start_time": "2022-08-11T13:38:25.204Z"
   },
   {
    "duration": 100,
    "start_time": "2022-08-11T13:39:11.236Z"
   },
   {
    "duration": 11,
    "start_time": "2022-08-11T13:39:51.570Z"
   },
   {
    "duration": 1028,
    "start_time": "2022-08-11T13:46:03.837Z"
   },
   {
    "duration": 116,
    "start_time": "2022-08-11T13:46:04.866Z"
   },
   {
    "duration": 5,
    "start_time": "2022-08-11T13:46:04.984Z"
   },
   {
    "duration": 47,
    "start_time": "2022-08-11T13:46:04.991Z"
   },
   {
    "duration": 5,
    "start_time": "2022-08-11T13:46:05.039Z"
   },
   {
    "duration": 70,
    "start_time": "2022-08-11T13:46:05.046Z"
   },
   {
    "duration": 28,
    "start_time": "2022-08-11T13:46:05.118Z"
   },
   {
    "duration": 53,
    "start_time": "2022-08-11T13:46:05.147Z"
   },
   {
    "duration": 5,
    "start_time": "2022-08-11T13:46:05.202Z"
   },
   {
    "duration": 26,
    "start_time": "2022-08-11T13:46:05.209Z"
   },
   {
    "duration": 12,
    "start_time": "2022-08-11T13:46:05.237Z"
   },
   {
    "duration": 12,
    "start_time": "2022-08-11T13:46:05.251Z"
   },
   {
    "duration": 9,
    "start_time": "2022-08-11T13:46:05.264Z"
   },
   {
    "duration": 50,
    "start_time": "2022-08-11T13:46:05.275Z"
   },
   {
    "duration": 5,
    "start_time": "2022-08-11T13:46:05.326Z"
   },
   {
    "duration": 8,
    "start_time": "2022-08-11T13:46:05.333Z"
   },
   {
    "duration": 6,
    "start_time": "2022-08-11T13:46:05.342Z"
   },
   {
    "duration": 16,
    "start_time": "2022-08-11T13:46:05.349Z"
   },
   {
    "duration": 321,
    "start_time": "2022-08-11T13:46:05.366Z"
   },
   {
    "duration": 5,
    "start_time": "2022-08-11T13:46:05.689Z"
   },
   {
    "duration": 7,
    "start_time": "2022-08-11T13:46:05.695Z"
   },
   {
    "duration": 150,
    "start_time": "2022-08-11T13:46:05.704Z"
   },
   {
    "duration": 342,
    "start_time": "2022-08-11T13:46:05.856Z"
   },
   {
    "duration": 8,
    "start_time": "2022-08-11T13:46:06.199Z"
   },
   {
    "duration": 18,
    "start_time": "2022-08-11T13:46:06.209Z"
   },
   {
    "duration": 12,
    "start_time": "2022-08-11T13:46:06.230Z"
   },
   {
    "duration": 11,
    "start_time": "2022-08-11T13:46:06.244Z"
   },
   {
    "duration": 25,
    "start_time": "2022-08-11T13:46:06.260Z"
   },
   {
    "duration": 39,
    "start_time": "2022-08-11T13:46:06.287Z"
   },
   {
    "duration": 26,
    "start_time": "2022-08-11T13:46:06.329Z"
   },
   {
    "duration": 183,
    "start_time": "2022-08-11T13:46:06.357Z"
   },
   {
    "duration": 14,
    "start_time": "2022-08-11T13:46:06.542Z"
   },
   {
    "duration": 5,
    "start_time": "2022-08-11T13:46:06.558Z"
   },
   {
    "duration": 29,
    "start_time": "2022-08-11T13:46:06.565Z"
   },
   {
    "duration": 11,
    "start_time": "2022-08-11T13:46:06.596Z"
   },
   {
    "duration": 14,
    "start_time": "2022-08-11T13:46:06.609Z"
   },
   {
    "duration": 17,
    "start_time": "2022-08-11T13:46:06.624Z"
   },
   {
    "duration": 44,
    "start_time": "2022-08-11T13:46:06.643Z"
   },
   {
    "duration": 12,
    "start_time": "2022-08-11T13:46:06.689Z"
   },
   {
    "duration": 20,
    "start_time": "2022-08-11T13:46:06.702Z"
   },
   {
    "duration": 17,
    "start_time": "2022-08-11T13:46:06.724Z"
   },
   {
    "duration": 1138,
    "start_time": "2022-08-12T06:57:41.182Z"
   },
   {
    "duration": 334,
    "start_time": "2022-08-12T06:57:42.322Z"
   },
   {
    "duration": 4,
    "start_time": "2022-08-12T06:57:42.657Z"
   },
   {
    "duration": 39,
    "start_time": "2022-08-12T06:57:42.663Z"
   },
   {
    "duration": 3,
    "start_time": "2022-08-12T06:57:42.704Z"
   },
   {
    "duration": 64,
    "start_time": "2022-08-12T06:57:42.709Z"
   },
   {
    "duration": 28,
    "start_time": "2022-08-12T06:57:42.774Z"
   },
   {
    "duration": 24,
    "start_time": "2022-08-12T06:57:42.804Z"
   },
   {
    "duration": 6,
    "start_time": "2022-08-12T06:57:42.854Z"
   },
   {
    "duration": 7,
    "start_time": "2022-08-12T06:57:42.861Z"
   },
   {
    "duration": 10,
    "start_time": "2022-08-12T06:57:42.870Z"
   },
   {
    "duration": 12,
    "start_time": "2022-08-12T06:57:42.881Z"
   },
   {
    "duration": 5,
    "start_time": "2022-08-12T06:57:42.894Z"
   },
   {
    "duration": 5,
    "start_time": "2022-08-12T06:57:42.900Z"
   },
   {
    "duration": 6,
    "start_time": "2022-08-12T06:57:42.906Z"
   },
   {
    "duration": 6,
    "start_time": "2022-08-12T06:57:42.913Z"
   },
   {
    "duration": 46,
    "start_time": "2022-08-12T06:57:47.343Z"
   },
   {
    "duration": 5,
    "start_time": "2022-08-12T06:57:54.713Z"
   },
   {
    "duration": 7,
    "start_time": "2022-08-12T06:57:54.719Z"
   },
   {
    "duration": 3,
    "start_time": "2022-08-12T06:57:54.730Z"
   },
   {
    "duration": 10,
    "start_time": "2022-08-12T06:57:54.734Z"
   },
   {
    "duration": 277,
    "start_time": "2022-08-12T06:57:54.745Z"
   },
   {
    "duration": 5,
    "start_time": "2022-08-12T06:57:55.023Z"
   },
   {
    "duration": 5,
    "start_time": "2022-08-12T06:57:55.030Z"
   },
   {
    "duration": 134,
    "start_time": "2022-08-12T06:57:55.036Z"
   },
   {
    "duration": 287,
    "start_time": "2022-08-12T06:57:55.171Z"
   },
   {
    "duration": 4,
    "start_time": "2022-08-12T06:57:55.460Z"
   },
   {
    "duration": 11,
    "start_time": "2022-08-12T06:57:55.465Z"
   },
   {
    "duration": 8,
    "start_time": "2022-08-12T06:57:55.477Z"
   },
   {
    "duration": 2,
    "start_time": "2022-08-12T06:57:55.487Z"
   },
   {
    "duration": 7,
    "start_time": "2022-08-12T06:57:55.491Z"
   },
   {
    "duration": 6,
    "start_time": "2022-08-12T06:57:55.499Z"
   },
   {
    "duration": 13,
    "start_time": "2022-08-12T06:57:55.507Z"
   },
   {
    "duration": 153,
    "start_time": "2022-08-12T06:57:55.521Z"
   },
   {
    "duration": 14,
    "start_time": "2022-08-12T06:57:55.676Z"
   },
   {
    "duration": 4,
    "start_time": "2022-08-12T06:57:55.692Z"
   },
   {
    "duration": 15,
    "start_time": "2022-08-12T06:57:55.698Z"
   },
   {
    "duration": 12,
    "start_time": "2022-08-12T06:57:55.715Z"
   },
   {
    "duration": 37,
    "start_time": "2022-08-12T06:57:55.728Z"
   },
   {
    "duration": 12,
    "start_time": "2022-08-12T06:57:55.766Z"
   },
   {
    "duration": 17,
    "start_time": "2022-08-12T06:57:55.779Z"
   },
   {
    "duration": 9,
    "start_time": "2022-08-12T06:57:55.798Z"
   },
   {
    "duration": 17,
    "start_time": "2022-08-12T06:57:55.808Z"
   },
   {
    "duration": 37,
    "start_time": "2022-08-12T06:57:55.827Z"
   },
   {
    "duration": 1023,
    "start_time": "2022-08-12T06:59:49.390Z"
   },
   {
    "duration": 105,
    "start_time": "2022-08-12T06:59:50.416Z"
   },
   {
    "duration": 5,
    "start_time": "2022-08-12T06:59:50.522Z"
   },
   {
    "duration": 43,
    "start_time": "2022-08-12T06:59:50.530Z"
   },
   {
    "duration": 5,
    "start_time": "2022-08-12T06:59:50.574Z"
   },
   {
    "duration": 48,
    "start_time": "2022-08-12T06:59:50.580Z"
   },
   {
    "duration": 48,
    "start_time": "2022-08-12T06:59:50.629Z"
   },
   {
    "duration": 27,
    "start_time": "2022-08-12T06:59:50.679Z"
   },
   {
    "duration": 5,
    "start_time": "2022-08-12T06:59:50.708Z"
   },
   {
    "duration": 11,
    "start_time": "2022-08-12T06:59:50.716Z"
   },
   {
    "duration": 12,
    "start_time": "2022-08-12T06:59:50.754Z"
   },
   {
    "duration": 19,
    "start_time": "2022-08-12T06:59:50.767Z"
   },
   {
    "duration": 7,
    "start_time": "2022-08-12T06:59:50.787Z"
   },
   {
    "duration": 11,
    "start_time": "2022-08-12T06:59:50.795Z"
   },
   {
    "duration": 7,
    "start_time": "2022-08-12T06:59:50.808Z"
   },
   {
    "duration": 8,
    "start_time": "2022-08-12T06:59:50.816Z"
   },
   {
    "duration": 58,
    "start_time": "2022-08-12T06:59:50.826Z"
   },
   {
    "duration": 6,
    "start_time": "2022-08-12T06:59:50.886Z"
   },
   {
    "duration": 8,
    "start_time": "2022-08-12T06:59:50.893Z"
   },
   {
    "duration": 6,
    "start_time": "2022-08-12T06:59:50.903Z"
   },
   {
    "duration": 12,
    "start_time": "2022-08-12T06:59:50.910Z"
   },
   {
    "duration": 334,
    "start_time": "2022-08-12T06:59:50.924Z"
   },
   {
    "duration": 7,
    "start_time": "2022-08-12T06:59:51.259Z"
   },
   {
    "duration": 12,
    "start_time": "2022-08-12T06:59:51.268Z"
   },
   {
    "duration": 147,
    "start_time": "2022-08-12T06:59:51.282Z"
   },
   {
    "duration": 284,
    "start_time": "2022-08-12T06:59:51.431Z"
   },
   {
    "duration": 6,
    "start_time": "2022-08-12T06:59:51.719Z"
   },
   {
    "duration": 13,
    "start_time": "2022-08-12T06:59:51.728Z"
   },
   {
    "duration": 13,
    "start_time": "2022-08-12T06:59:51.742Z"
   },
   {
    "duration": 15,
    "start_time": "2022-08-12T06:59:51.757Z"
   },
   {
    "duration": 9,
    "start_time": "2022-08-12T06:59:51.774Z"
   },
   {
    "duration": 6,
    "start_time": "2022-08-12T06:59:51.784Z"
   },
   {
    "duration": 20,
    "start_time": "2022-08-12T06:59:51.792Z"
   },
   {
    "duration": 152,
    "start_time": "2022-08-12T06:59:51.814Z"
   },
   {
    "duration": 15,
    "start_time": "2022-08-12T06:59:51.968Z"
   },
   {
    "duration": 5,
    "start_time": "2022-08-12T06:59:51.985Z"
   },
   {
    "duration": 14,
    "start_time": "2022-08-12T06:59:51.992Z"
   },
   {
    "duration": 12,
    "start_time": "2022-08-12T06:59:52.008Z"
   },
   {
    "duration": 40,
    "start_time": "2022-08-12T06:59:52.022Z"
   },
   {
    "duration": 11,
    "start_time": "2022-08-12T06:59:52.064Z"
   },
   {
    "duration": 19,
    "start_time": "2022-08-12T06:59:52.076Z"
   },
   {
    "duration": 9,
    "start_time": "2022-08-12T06:59:52.097Z"
   },
   {
    "duration": 49,
    "start_time": "2022-08-12T06:59:52.108Z"
   },
   {
    "duration": 14,
    "start_time": "2022-08-12T06:59:52.158Z"
   },
   {
    "duration": 1017,
    "start_time": "2022-08-12T07:03:12.086Z"
   },
   {
    "duration": 106,
    "start_time": "2022-08-12T07:03:13.105Z"
   },
   {
    "duration": 4,
    "start_time": "2022-08-12T07:03:13.212Z"
   },
   {
    "duration": 39,
    "start_time": "2022-08-12T07:03:13.218Z"
   },
   {
    "duration": 5,
    "start_time": "2022-08-12T07:03:13.259Z"
   },
   {
    "duration": 58,
    "start_time": "2022-08-12T07:03:13.265Z"
   },
   {
    "duration": 45,
    "start_time": "2022-08-12T07:03:13.324Z"
   },
   {
    "duration": 25,
    "start_time": "2022-08-12T07:03:13.371Z"
   },
   {
    "duration": 5,
    "start_time": "2022-08-12T07:03:13.397Z"
   },
   {
    "duration": 6,
    "start_time": "2022-08-12T07:03:13.404Z"
   },
   {
    "duration": 10,
    "start_time": "2022-08-12T07:03:13.412Z"
   },
   {
    "duration": 34,
    "start_time": "2022-08-12T07:03:13.423Z"
   },
   {
    "duration": 6,
    "start_time": "2022-08-12T07:03:13.459Z"
   },
   {
    "duration": 4,
    "start_time": "2022-08-12T07:03:13.467Z"
   },
   {
    "duration": 6,
    "start_time": "2022-08-12T07:03:13.472Z"
   },
   {
    "duration": 6,
    "start_time": "2022-08-12T07:03:13.479Z"
   },
   {
    "duration": 36,
    "start_time": "2022-08-12T07:03:13.487Z"
   },
   {
    "duration": 34,
    "start_time": "2022-08-12T07:03:13.525Z"
   },
   {
    "duration": 6,
    "start_time": "2022-08-12T07:03:13.560Z"
   },
   {
    "duration": 5,
    "start_time": "2022-08-12T07:03:13.568Z"
   },
   {
    "duration": 11,
    "start_time": "2022-08-12T07:03:13.575Z"
   },
   {
    "duration": 293,
    "start_time": "2022-08-12T07:03:13.587Z"
   },
   {
    "duration": 6,
    "start_time": "2022-08-12T07:03:13.882Z"
   },
   {
    "duration": 7,
    "start_time": "2022-08-12T07:03:13.889Z"
   },
   {
    "duration": 136,
    "start_time": "2022-08-12T07:03:13.898Z"
   },
   {
    "duration": 302,
    "start_time": "2022-08-12T07:03:14.035Z"
   },
   {
    "duration": 4,
    "start_time": "2022-08-12T07:03:14.339Z"
   },
   {
    "duration": 13,
    "start_time": "2022-08-12T07:03:14.345Z"
   },
   {
    "duration": 10,
    "start_time": "2022-08-12T07:03:14.359Z"
   },
   {
    "duration": 3,
    "start_time": "2022-08-12T07:03:14.370Z"
   },
   {
    "duration": 7,
    "start_time": "2022-08-12T07:03:14.374Z"
   },
   {
    "duration": 6,
    "start_time": "2022-08-12T07:03:14.382Z"
   },
   {
    "duration": 15,
    "start_time": "2022-08-12T07:03:14.389Z"
   },
   {
    "duration": 147,
    "start_time": "2022-08-12T07:03:14.405Z"
   },
   {
    "duration": 13,
    "start_time": "2022-08-12T07:03:14.554Z"
   },
   {
    "duration": 7,
    "start_time": "2022-08-12T07:03:14.568Z"
   },
   {
    "duration": 14,
    "start_time": "2022-08-12T07:03:14.576Z"
   },
   {
    "duration": 11,
    "start_time": "2022-08-12T07:03:14.592Z"
   },
   {
    "duration": 11,
    "start_time": "2022-08-12T07:03:14.604Z"
   },
   {
    "duration": 11,
    "start_time": "2022-08-12T07:03:14.616Z"
   },
   {
    "duration": 38,
    "start_time": "2022-08-12T07:03:14.630Z"
   },
   {
    "duration": 9,
    "start_time": "2022-08-12T07:03:14.670Z"
   },
   {
    "duration": 17,
    "start_time": "2022-08-12T07:03:14.680Z"
   },
   {
    "duration": 14,
    "start_time": "2022-08-12T07:03:14.698Z"
   },
   {
    "duration": 12,
    "start_time": "2022-08-12T07:03:14.713Z"
   },
   {
    "duration": 32,
    "start_time": "2022-08-12T07:03:14.726Z"
   },
   {
    "duration": 14,
    "start_time": "2022-08-12T07:03:14.760Z"
   },
   {
    "duration": 288,
    "start_time": "2022-08-12T07:03:14.775Z"
   },
   {
    "duration": 426,
    "start_time": "2022-08-12T07:04:12.705Z"
   },
   {
    "duration": 3,
    "start_time": "2022-08-12T07:06:36.149Z"
   },
   {
    "duration": 3,
    "start_time": "2022-08-12T07:06:36.419Z"
   },
   {
    "duration": 519,
    "start_time": "2022-08-12T07:07:17.945Z"
   },
   {
    "duration": 447,
    "start_time": "2022-08-12T07:09:02.202Z"
   },
   {
    "duration": 4,
    "start_time": "2022-08-12T07:12:54.898Z"
   },
   {
    "duration": 92,
    "start_time": "2022-08-12T07:13:14.919Z"
   },
   {
    "duration": 11,
    "start_time": "2022-08-12T07:13:20.463Z"
   },
   {
    "duration": 11,
    "start_time": "2022-08-12T07:13:22.954Z"
   },
   {
    "duration": 15,
    "start_time": "2022-08-12T07:13:26.735Z"
   },
   {
    "duration": 11,
    "start_time": "2022-08-12T07:13:49.355Z"
   },
   {
    "duration": 2,
    "start_time": "2022-08-12T07:13:59.253Z"
   },
   {
    "duration": 6,
    "start_time": "2022-08-12T07:13:59.257Z"
   },
   {
    "duration": 105,
    "start_time": "2022-08-12T07:13:59.264Z"
   },
   {
    "duration": 3,
    "start_time": "2022-08-12T07:13:59.371Z"
   },
   {
    "duration": 35,
    "start_time": "2022-08-12T07:13:59.376Z"
   },
   {
    "duration": 3,
    "start_time": "2022-08-12T07:13:59.413Z"
   },
   {
    "duration": 48,
    "start_time": "2022-08-12T07:13:59.417Z"
   },
   {
    "duration": 26,
    "start_time": "2022-08-12T07:13:59.466Z"
   },
   {
    "duration": 24,
    "start_time": "2022-08-12T07:13:59.494Z"
   },
   {
    "duration": 36,
    "start_time": "2022-08-12T07:13:59.519Z"
   },
   {
    "duration": 5,
    "start_time": "2022-08-12T07:13:59.556Z"
   },
   {
    "duration": 10,
    "start_time": "2022-08-12T07:13:59.562Z"
   },
   {
    "duration": 12,
    "start_time": "2022-08-12T07:13:59.573Z"
   },
   {
    "duration": 5,
    "start_time": "2022-08-12T07:13:59.586Z"
   },
   {
    "duration": 5,
    "start_time": "2022-08-12T07:13:59.592Z"
   },
   {
    "duration": 6,
    "start_time": "2022-08-12T07:13:59.598Z"
   },
   {
    "duration": 6,
    "start_time": "2022-08-12T07:13:59.606Z"
   },
   {
    "duration": 66,
    "start_time": "2022-08-12T07:13:59.613Z"
   },
   {
    "duration": 5,
    "start_time": "2022-08-12T07:13:59.680Z"
   },
   {
    "duration": 7,
    "start_time": "2022-08-12T07:13:59.686Z"
   },
   {
    "duration": 6,
    "start_time": "2022-08-12T07:13:59.694Z"
   },
   {
    "duration": 10,
    "start_time": "2022-08-12T07:13:59.701Z"
   },
   {
    "duration": 294,
    "start_time": "2022-08-12T07:13:59.712Z"
   },
   {
    "duration": 4,
    "start_time": "2022-08-12T07:14:00.009Z"
   },
   {
    "duration": 3,
    "start_time": "2022-08-12T07:14:00.015Z"
   },
   {
    "duration": 135,
    "start_time": "2022-08-12T07:14:00.020Z"
   },
   {
    "duration": 355,
    "start_time": "2022-08-12T07:14:00.157Z"
   },
   {
    "duration": 5,
    "start_time": "2022-08-12T07:14:00.513Z"
   },
   {
    "duration": 15,
    "start_time": "2022-08-12T07:14:00.519Z"
   },
   {
    "duration": 24,
    "start_time": "2022-08-12T07:14:00.536Z"
   },
   {
    "duration": 14,
    "start_time": "2022-08-12T07:14:00.561Z"
   },
   {
    "duration": 11,
    "start_time": "2022-08-12T07:14:00.576Z"
   },
   {
    "duration": 32,
    "start_time": "2022-08-12T07:14:00.588Z"
   },
   {
    "duration": 21,
    "start_time": "2022-08-12T07:14:00.622Z"
   },
   {
    "duration": 131,
    "start_time": "2022-08-12T07:14:00.644Z"
   },
   {
    "duration": 14,
    "start_time": "2022-08-12T07:14:00.777Z"
   },
   {
    "duration": 16,
    "start_time": "2022-08-12T07:14:00.793Z"
   },
   {
    "duration": 22,
    "start_time": "2022-08-12T07:14:00.810Z"
   },
   {
    "duration": 16,
    "start_time": "2022-08-12T07:14:00.833Z"
   },
   {
    "duration": 16,
    "start_time": "2022-08-12T07:14:00.852Z"
   },
   {
    "duration": 17,
    "start_time": "2022-08-12T07:14:00.869Z"
   },
   {
    "duration": 18,
    "start_time": "2022-08-12T07:14:00.887Z"
   },
   {
    "duration": 10,
    "start_time": "2022-08-12T07:14:00.906Z"
   },
   {
    "duration": 20,
    "start_time": "2022-08-12T07:14:00.917Z"
   },
   {
    "duration": 30,
    "start_time": "2022-08-12T07:14:00.938Z"
   },
   {
    "duration": 14,
    "start_time": "2022-08-12T07:14:00.969Z"
   },
   {
    "duration": 9,
    "start_time": "2022-08-12T07:14:00.985Z"
   },
   {
    "duration": 19,
    "start_time": "2022-08-12T07:14:00.995Z"
   },
   {
    "duration": 515,
    "start_time": "2022-08-12T07:14:01.016Z"
   },
   {
    "duration": 4,
    "start_time": "2022-08-12T07:14:01.533Z"
   },
   {
    "duration": 9,
    "start_time": "2022-08-12T07:14:23.561Z"
   },
   {
    "duration": 4,
    "start_time": "2022-08-12T07:14:26.159Z"
   },
   {
    "duration": 3,
    "start_time": "2022-08-12T07:25:33.834Z"
   },
   {
    "duration": 5,
    "start_time": "2022-08-12T07:25:33.839Z"
   },
   {
    "duration": 108,
    "start_time": "2022-08-12T07:25:33.845Z"
   },
   {
    "duration": 3,
    "start_time": "2022-08-12T07:25:33.955Z"
   },
   {
    "duration": 38,
    "start_time": "2022-08-12T07:25:33.960Z"
   },
   {
    "duration": 4,
    "start_time": "2022-08-12T07:25:33.999Z"
   },
   {
    "duration": 157,
    "start_time": "2022-08-12T07:25:34.004Z"
   },
   {
    "duration": 26,
    "start_time": "2022-08-12T07:25:34.163Z"
   },
   {
    "duration": 25,
    "start_time": "2022-08-12T07:25:34.191Z"
   },
   {
    "duration": 5,
    "start_time": "2022-08-12T07:25:34.217Z"
   },
   {
    "duration": 40,
    "start_time": "2022-08-12T07:25:34.223Z"
   },
   {
    "duration": 13,
    "start_time": "2022-08-12T07:25:34.265Z"
   },
   {
    "duration": 12,
    "start_time": "2022-08-12T07:25:34.279Z"
   },
   {
    "duration": 4,
    "start_time": "2022-08-12T07:25:34.294Z"
   },
   {
    "duration": 6,
    "start_time": "2022-08-12T07:25:34.299Z"
   },
   {
    "duration": 7,
    "start_time": "2022-08-12T07:25:34.306Z"
   },
   {
    "duration": 6,
    "start_time": "2022-08-12T07:25:34.315Z"
   },
   {
    "duration": 53,
    "start_time": "2022-08-12T07:25:34.322Z"
   },
   {
    "duration": 5,
    "start_time": "2022-08-12T07:25:34.376Z"
   },
   {
    "duration": 9,
    "start_time": "2022-08-12T07:25:34.382Z"
   },
   {
    "duration": 13,
    "start_time": "2022-08-12T07:25:34.392Z"
   },
   {
    "duration": 21,
    "start_time": "2022-08-12T07:25:34.407Z"
   },
   {
    "duration": 262,
    "start_time": "2022-08-12T07:25:34.429Z"
   },
   {
    "duration": 6,
    "start_time": "2022-08-12T07:25:34.693Z"
   },
   {
    "duration": 16,
    "start_time": "2022-08-12T07:25:34.701Z"
   },
   {
    "duration": 148,
    "start_time": "2022-08-12T07:25:34.719Z"
   },
   {
    "duration": 326,
    "start_time": "2022-08-12T07:25:34.869Z"
   },
   {
    "duration": 6,
    "start_time": "2022-08-12T07:25:35.197Z"
   },
   {
    "duration": 10,
    "start_time": "2022-08-12T07:25:35.204Z"
   },
   {
    "duration": 12,
    "start_time": "2022-08-12T07:25:35.216Z"
   },
   {
    "duration": 3,
    "start_time": "2022-08-12T07:25:35.230Z"
   },
   {
    "duration": 22,
    "start_time": "2022-08-12T07:25:35.234Z"
   },
   {
    "duration": 5,
    "start_time": "2022-08-12T07:25:35.258Z"
   },
   {
    "duration": 22,
    "start_time": "2022-08-12T07:25:35.265Z"
   },
   {
    "duration": 158,
    "start_time": "2022-08-12T07:25:35.288Z"
   },
   {
    "duration": 14,
    "start_time": "2022-08-12T07:25:35.455Z"
   },
   {
    "duration": 7,
    "start_time": "2022-08-12T07:25:35.470Z"
   },
   {
    "duration": 14,
    "start_time": "2022-08-12T07:25:35.478Z"
   },
   {
    "duration": 11,
    "start_time": "2022-08-12T07:25:35.494Z"
   },
   {
    "duration": 12,
    "start_time": "2022-08-12T07:25:35.507Z"
   },
   {
    "duration": 33,
    "start_time": "2022-08-12T07:25:35.522Z"
   },
   {
    "duration": 19,
    "start_time": "2022-08-12T07:25:35.556Z"
   },
   {
    "duration": 9,
    "start_time": "2022-08-12T07:25:35.576Z"
   },
   {
    "duration": 17,
    "start_time": "2022-08-12T07:25:35.587Z"
   },
   {
    "duration": 14,
    "start_time": "2022-08-12T07:25:35.605Z"
   },
   {
    "duration": 38,
    "start_time": "2022-08-12T07:25:35.620Z"
   },
   {
    "duration": 9,
    "start_time": "2022-08-12T07:25:35.659Z"
   },
   {
    "duration": 19,
    "start_time": "2022-08-12T07:25:35.669Z"
   },
   {
    "duration": 2,
    "start_time": "2022-08-12T07:25:35.690Z"
   },
   {
    "duration": 1042,
    "start_time": "2022-08-12T07:25:54.215Z"
   },
   {
    "duration": 3,
    "start_time": "2022-08-12T07:25:55.259Z"
   },
   {
    "duration": 108,
    "start_time": "2022-08-12T07:25:55.263Z"
   },
   {
    "duration": 4,
    "start_time": "2022-08-12T07:25:55.373Z"
   },
   {
    "duration": 41,
    "start_time": "2022-08-12T07:25:55.378Z"
   },
   {
    "duration": 3,
    "start_time": "2022-08-12T07:25:55.421Z"
   },
   {
    "duration": 52,
    "start_time": "2022-08-12T07:25:55.426Z"
   },
   {
    "duration": 27,
    "start_time": "2022-08-12T07:25:55.480Z"
   },
   {
    "duration": 55,
    "start_time": "2022-08-12T07:25:55.508Z"
   },
   {
    "duration": 5,
    "start_time": "2022-08-12T07:25:55.565Z"
   },
   {
    "duration": 7,
    "start_time": "2022-08-12T07:25:55.571Z"
   },
   {
    "duration": 10,
    "start_time": "2022-08-12T07:25:55.579Z"
   },
   {
    "duration": 13,
    "start_time": "2022-08-12T07:25:55.590Z"
   },
   {
    "duration": 8,
    "start_time": "2022-08-12T07:25:55.604Z"
   },
   {
    "duration": 7,
    "start_time": "2022-08-12T07:25:55.613Z"
   },
   {
    "duration": 5,
    "start_time": "2022-08-12T07:25:55.622Z"
   },
   {
    "duration": 26,
    "start_time": "2022-08-12T07:25:55.629Z"
   },
   {
    "duration": 35,
    "start_time": "2022-08-12T07:25:55.657Z"
   },
   {
    "duration": 5,
    "start_time": "2022-08-12T07:25:55.693Z"
   },
   {
    "duration": 9,
    "start_time": "2022-08-12T07:25:55.699Z"
   },
   {
    "duration": 22,
    "start_time": "2022-08-12T07:25:55.709Z"
   },
   {
    "duration": 24,
    "start_time": "2022-08-12T07:25:55.732Z"
   },
   {
    "duration": 296,
    "start_time": "2022-08-12T07:25:55.757Z"
   },
   {
    "duration": 6,
    "start_time": "2022-08-12T07:25:56.055Z"
   },
   {
    "duration": 9,
    "start_time": "2022-08-12T07:25:56.063Z"
   },
   {
    "duration": 149,
    "start_time": "2022-08-12T07:25:56.074Z"
   },
   {
    "duration": 312,
    "start_time": "2022-08-12T07:25:56.224Z"
   },
   {
    "duration": 4,
    "start_time": "2022-08-12T07:25:56.541Z"
   },
   {
    "duration": 18,
    "start_time": "2022-08-12T07:25:56.547Z"
   },
   {
    "duration": 17,
    "start_time": "2022-08-12T07:25:56.566Z"
   },
   {
    "duration": 9,
    "start_time": "2022-08-12T07:25:56.585Z"
   },
   {
    "duration": 15,
    "start_time": "2022-08-12T07:25:56.595Z"
   },
   {
    "duration": 13,
    "start_time": "2022-08-12T07:25:56.611Z"
   },
   {
    "duration": 35,
    "start_time": "2022-08-12T07:25:56.625Z"
   },
   {
    "duration": 160,
    "start_time": "2022-08-12T07:25:56.661Z"
   },
   {
    "duration": 15,
    "start_time": "2022-08-12T07:25:56.822Z"
   },
   {
    "duration": 19,
    "start_time": "2022-08-12T07:25:56.839Z"
   },
   {
    "duration": 12,
    "start_time": "2022-08-12T07:25:56.860Z"
   },
   {
    "duration": 11,
    "start_time": "2022-08-12T07:25:56.874Z"
   },
   {
    "duration": 13,
    "start_time": "2022-08-12T07:25:56.886Z"
   },
   {
    "duration": 10,
    "start_time": "2022-08-12T07:25:56.901Z"
   },
   {
    "duration": 50,
    "start_time": "2022-08-12T07:25:56.913Z"
   },
   {
    "duration": 11,
    "start_time": "2022-08-12T07:25:56.965Z"
   },
   {
    "duration": 22,
    "start_time": "2022-08-12T07:25:56.977Z"
   },
   {
    "duration": 20,
    "start_time": "2022-08-12T07:25:57.001Z"
   },
   {
    "duration": 39,
    "start_time": "2022-08-12T07:25:57.023Z"
   },
   {
    "duration": 9,
    "start_time": "2022-08-12T07:25:57.063Z"
   },
   {
    "duration": 15,
    "start_time": "2022-08-12T07:25:57.073Z"
   },
   {
    "duration": 2,
    "start_time": "2022-08-12T07:25:57.090Z"
   },
   {
    "duration": 203,
    "start_time": "2022-08-15T15:24:06.756Z"
   },
   {
    "duration": 201,
    "start_time": "2022-08-15T15:26:53.258Z"
   },
   {
    "duration": 128,
    "start_time": "2022-08-15T15:30:20.756Z"
   },
   {
    "duration": 202,
    "start_time": "2022-08-15T15:30:58.356Z"
   },
   {
    "duration": 201,
    "start_time": "2022-08-15T15:42:23.956Z"
   },
   {
    "duration": 8796,
    "start_time": "2022-08-15T15:43:44.561Z"
   },
   {
    "duration": 0,
    "start_time": "2022-08-15T15:43:53.367Z"
   },
   {
    "duration": 0,
    "start_time": "2022-08-15T15:43:53.369Z"
   },
   {
    "duration": 0,
    "start_time": "2022-08-15T15:43:53.369Z"
   },
   {
    "duration": 0,
    "start_time": "2022-08-15T15:43:53.370Z"
   },
   {
    "duration": 0,
    "start_time": "2022-08-15T15:43:53.370Z"
   },
   {
    "duration": 0,
    "start_time": "2022-08-15T15:43:53.371Z"
   },
   {
    "duration": 0,
    "start_time": "2022-08-15T15:43:53.371Z"
   },
   {
    "duration": 0,
    "start_time": "2022-08-15T15:43:53.457Z"
   },
   {
    "duration": 0,
    "start_time": "2022-08-15T15:43:53.467Z"
   },
   {
    "duration": 0,
    "start_time": "2022-08-15T15:43:53.467Z"
   },
   {
    "duration": 0,
    "start_time": "2022-08-15T15:43:53.468Z"
   },
   {
    "duration": 0,
    "start_time": "2022-08-15T15:43:53.468Z"
   },
   {
    "duration": 0,
    "start_time": "2022-08-15T15:43:53.469Z"
   },
   {
    "duration": 1,
    "start_time": "2022-08-15T15:43:53.469Z"
   },
   {
    "duration": 0,
    "start_time": "2022-08-15T15:43:53.470Z"
   },
   {
    "duration": 0,
    "start_time": "2022-08-15T15:43:53.470Z"
   },
   {
    "duration": 0,
    "start_time": "2022-08-15T15:43:53.471Z"
   },
   {
    "duration": 0,
    "start_time": "2022-08-15T15:43:53.471Z"
   },
   {
    "duration": 0,
    "start_time": "2022-08-15T15:43:53.559Z"
   },
   {
    "duration": 0,
    "start_time": "2022-08-15T15:43:53.563Z"
   },
   {
    "duration": 0,
    "start_time": "2022-08-15T15:43:53.655Z"
   },
   {
    "duration": 0,
    "start_time": "2022-08-15T15:43:53.656Z"
   },
   {
    "duration": 0,
    "start_time": "2022-08-15T15:43:53.657Z"
   },
   {
    "duration": 0,
    "start_time": "2022-08-15T15:43:53.660Z"
   },
   {
    "duration": 0,
    "start_time": "2022-08-15T15:43:53.660Z"
   },
   {
    "duration": 0,
    "start_time": "2022-08-15T15:43:53.661Z"
   },
   {
    "duration": 0,
    "start_time": "2022-08-15T15:43:53.662Z"
   },
   {
    "duration": 0,
    "start_time": "2022-08-15T15:43:53.662Z"
   },
   {
    "duration": 0,
    "start_time": "2022-08-15T15:43:53.663Z"
   },
   {
    "duration": 0,
    "start_time": "2022-08-15T15:43:53.664Z"
   },
   {
    "duration": 0,
    "start_time": "2022-08-15T15:43:53.664Z"
   },
   {
    "duration": 0,
    "start_time": "2022-08-15T15:43:53.666Z"
   },
   {
    "duration": 0,
    "start_time": "2022-08-15T15:43:53.667Z"
   },
   {
    "duration": 0,
    "start_time": "2022-08-15T15:43:53.668Z"
   },
   {
    "duration": 0,
    "start_time": "2022-08-15T15:43:53.670Z"
   },
   {
    "duration": 0,
    "start_time": "2022-08-15T15:43:53.671Z"
   },
   {
    "duration": 0,
    "start_time": "2022-08-15T15:43:53.672Z"
   },
   {
    "duration": 0,
    "start_time": "2022-08-15T15:43:53.673Z"
   },
   {
    "duration": 0,
    "start_time": "2022-08-15T15:43:53.673Z"
   },
   {
    "duration": 0,
    "start_time": "2022-08-15T15:43:53.674Z"
   },
   {
    "duration": 0,
    "start_time": "2022-08-15T15:43:53.674Z"
   },
   {
    "duration": 0,
    "start_time": "2022-08-15T15:43:53.675Z"
   },
   {
    "duration": 0,
    "start_time": "2022-08-15T15:43:53.756Z"
   },
   {
    "duration": 0,
    "start_time": "2022-08-15T15:43:53.760Z"
   },
   {
    "duration": 0,
    "start_time": "2022-08-15T15:43:53.763Z"
   },
   {
    "duration": 0,
    "start_time": "2022-08-15T15:43:53.766Z"
   },
   {
    "duration": 0,
    "start_time": "2022-08-15T15:43:53.768Z"
   },
   {
    "duration": 0,
    "start_time": "2022-08-15T15:43:53.769Z"
   },
   {
    "duration": 0,
    "start_time": "2022-08-15T15:43:53.770Z"
   },
   {
    "duration": 0,
    "start_time": "2022-08-15T15:43:53.771Z"
   },
   {
    "duration": 0,
    "start_time": "2022-08-15T15:43:53.856Z"
   },
   {
    "duration": 0,
    "start_time": "2022-08-15T15:43:53.862Z"
   },
   {
    "duration": 0,
    "start_time": "2022-08-15T15:43:53.864Z"
   },
   {
    "duration": 0,
    "start_time": "2022-08-15T15:43:53.865Z"
   },
   {
    "duration": 0,
    "start_time": "2022-08-15T15:43:53.954Z"
   },
   {
    "duration": 0,
    "start_time": "2022-08-15T15:43:54.056Z"
   },
   {
    "duration": 0,
    "start_time": "2022-08-15T15:43:54.061Z"
   },
   {
    "duration": 212,
    "start_time": "2022-08-15T15:44:15.956Z"
   },
   {
    "duration": 8,
    "start_time": "2022-08-15T15:44:17.756Z"
   },
   {
    "duration": 708,
    "start_time": "2022-08-15T15:44:18.156Z"
   },
   {
    "duration": 8,
    "start_time": "2022-08-15T15:44:21.656Z"
   },
   {
    "duration": 499,
    "start_time": "2022-08-15T15:44:23.056Z"
   },
   {
    "duration": 6,
    "start_time": "2022-08-15T15:44:23.657Z"
   },
   {
    "duration": 693,
    "start_time": "2022-08-15T15:44:23.664Z"
   },
   {
    "duration": 308,
    "start_time": "2022-08-15T15:44:24.360Z"
   },
   {
    "duration": 291,
    "start_time": "2022-08-15T15:44:24.672Z"
   },
   {
    "duration": 95,
    "start_time": "2022-08-15T15:44:24.968Z"
   },
   {
    "duration": 390,
    "start_time": "2022-08-15T15:44:25.065Z"
   },
   {
    "duration": 110,
    "start_time": "2022-08-15T15:44:25.457Z"
   },
   {
    "duration": 100,
    "start_time": "2022-08-15T15:44:25.657Z"
   },
   {
    "duration": 98,
    "start_time": "2022-08-15T15:44:25.764Z"
   },
   {
    "duration": 91,
    "start_time": "2022-08-15T15:44:25.867Z"
   },
   {
    "duration": 91,
    "start_time": "2022-08-15T15:44:25.968Z"
   },
   {
    "duration": 291,
    "start_time": "2022-08-15T15:44:26.064Z"
   },
   {
    "duration": 310,
    "start_time": "2022-08-15T15:44:26.357Z"
   },
   {
    "duration": 8,
    "start_time": "2022-08-15T15:44:26.756Z"
   },
   {
    "duration": 94,
    "start_time": "2022-08-15T15:44:26.766Z"
   },
   {
    "duration": 196,
    "start_time": "2022-08-15T15:44:26.862Z"
   },
   {
    "duration": 107,
    "start_time": "2022-08-15T15:44:27.059Z"
   },
   {
    "duration": 2492,
    "start_time": "2022-08-15T15:44:27.265Z"
   },
   {
    "duration": 8,
    "start_time": "2022-08-15T15:44:29.758Z"
   },
   {
    "duration": 296,
    "start_time": "2022-08-15T15:44:29.859Z"
   },
   {
    "duration": 1306,
    "start_time": "2022-08-15T15:44:30.158Z"
   },
   {
    "duration": 2692,
    "start_time": "2022-08-15T15:44:31.467Z"
   },
   {
    "duration": 14,
    "start_time": "2022-08-15T15:44:34.254Z"
   },
   {
    "duration": 199,
    "start_time": "2022-08-15T15:44:34.356Z"
   },
   {
    "duration": 105,
    "start_time": "2022-08-15T15:44:34.557Z"
   },
   {
    "duration": 92,
    "start_time": "2022-08-15T15:44:34.664Z"
   },
   {
    "duration": 197,
    "start_time": "2022-08-15T15:44:34.758Z"
   },
   {
    "duration": 11,
    "start_time": "2022-08-15T15:44:34.958Z"
   },
   {
    "duration": 191,
    "start_time": "2022-08-15T15:44:34.971Z"
   },
   {
    "duration": 1306,
    "start_time": "2022-08-15T15:44:35.167Z"
   },
   {
    "duration": 107,
    "start_time": "2022-08-15T15:44:36.556Z"
   },
   {
    "duration": 96,
    "start_time": "2022-08-15T15:44:36.667Z"
   },
   {
    "duration": 496,
    "start_time": "2022-08-15T15:44:36.768Z"
   },
   {
    "duration": 102,
    "start_time": "2022-08-15T15:44:37.266Z"
   },
   {
    "duration": 102,
    "start_time": "2022-08-15T15:44:37.370Z"
   },
   {
    "duration": 14,
    "start_time": "2022-08-15T15:44:37.556Z"
   },
   {
    "duration": 106,
    "start_time": "2022-08-15T15:44:37.655Z"
   },
   {
    "duration": 101,
    "start_time": "2022-08-15T15:44:37.763Z"
   },
   {
    "duration": 394,
    "start_time": "2022-08-15T15:44:37.866Z"
   },
   {
    "duration": 193,
    "start_time": "2022-08-15T15:44:38.262Z"
   },
   {
    "duration": 102,
    "start_time": "2022-08-15T15:44:38.457Z"
   },
   {
    "duration": 308,
    "start_time": "2022-08-15T15:44:38.563Z"
   },
   {
    "duration": 201,
    "start_time": "2022-08-15T15:44:38.957Z"
   },
   {
    "duration": 403,
    "start_time": "2022-08-15T15:44:39.161Z"
   },
   {
    "duration": 102,
    "start_time": "2022-08-15T15:44:39.572Z"
   },
   {
    "duration": 5,
    "start_time": "2022-08-15T15:44:39.758Z"
   },
   {
    "duration": 389,
    "start_time": "2022-08-15T15:44:39.769Z"
   },
   {
    "duration": 5,
    "start_time": "2022-08-15T15:45:00.658Z"
   },
   {
    "duration": 291,
    "start_time": "2022-08-15T15:45:00.665Z"
   },
   {
    "duration": 1104,
    "start_time": "2022-08-15T15:45:00.957Z"
   },
   {
    "duration": 94,
    "start_time": "2022-08-15T15:45:02.062Z"
   },
   {
    "duration": 398,
    "start_time": "2022-08-15T15:45:02.162Z"
   },
   {
    "duration": 98,
    "start_time": "2022-08-15T15:45:02.562Z"
   },
   {
    "duration": 706,
    "start_time": "2022-08-15T15:45:02.663Z"
   },
   {
    "duration": 304,
    "start_time": "2022-08-15T15:45:03.456Z"
   },
   {
    "duration": 398,
    "start_time": "2022-08-15T15:45:03.766Z"
   },
   {
    "duration": 95,
    "start_time": "2022-08-15T15:45:04.165Z"
   },
   {
    "duration": 390,
    "start_time": "2022-08-15T15:45:04.267Z"
   },
   {
    "duration": 107,
    "start_time": "2022-08-15T15:45:04.659Z"
   },
   {
    "duration": 103,
    "start_time": "2022-08-15T15:45:04.859Z"
   },
   {
    "duration": 189,
    "start_time": "2022-08-15T15:45:04.969Z"
   },
   {
    "duration": 198,
    "start_time": "2022-08-15T15:45:05.159Z"
   },
   {
    "duration": 301,
    "start_time": "2022-08-15T15:45:05.358Z"
   },
   {
    "duration": 393,
    "start_time": "2022-08-15T15:45:05.661Z"
   },
   {
    "duration": 411,
    "start_time": "2022-08-15T15:45:06.057Z"
   },
   {
    "duration": 11,
    "start_time": "2022-08-15T15:45:06.556Z"
   },
   {
    "duration": 94,
    "start_time": "2022-08-15T15:45:06.665Z"
   },
   {
    "duration": 100,
    "start_time": "2022-08-15T15:45:06.760Z"
   },
   {
    "duration": 193,
    "start_time": "2022-08-15T15:45:06.861Z"
   },
   {
    "duration": 2103,
    "start_time": "2022-08-15T15:45:07.056Z"
   },
   {
    "duration": 97,
    "start_time": "2022-08-15T15:45:09.167Z"
   },
   {
    "duration": 93,
    "start_time": "2022-08-15T15:45:09.265Z"
   },
   {
    "duration": 1300,
    "start_time": "2022-08-15T15:45:09.361Z"
   },
   {
    "duration": 2401,
    "start_time": "2022-08-15T15:45:10.665Z"
   },
   {
    "duration": 95,
    "start_time": "2022-08-15T15:45:13.069Z"
   },
   {
    "duration": 199,
    "start_time": "2022-08-15T15:45:13.257Z"
   },
   {
    "duration": 305,
    "start_time": "2022-08-15T15:45:13.458Z"
   },
   {
    "duration": 297,
    "start_time": "2022-08-15T15:45:13.765Z"
   },
   {
    "duration": 293,
    "start_time": "2022-08-15T15:45:14.064Z"
   },
   {
    "duration": 303,
    "start_time": "2022-08-15T15:45:14.358Z"
   },
   {
    "duration": 98,
    "start_time": "2022-08-15T15:45:14.664Z"
   },
   {
    "duration": 1198,
    "start_time": "2022-08-15T15:45:14.766Z"
   },
   {
    "duration": 189,
    "start_time": "2022-08-15T15:45:15.967Z"
   },
   {
    "duration": 110,
    "start_time": "2022-08-15T15:45:16.158Z"
   },
   {
    "duration": 105,
    "start_time": "2022-08-15T15:45:16.355Z"
   },
   {
    "duration": 301,
    "start_time": "2022-08-15T15:45:16.465Z"
   },
   {
    "duration": 198,
    "start_time": "2022-08-15T15:45:16.770Z"
   },
   {
    "duration": 114,
    "start_time": "2022-08-15T15:45:17.058Z"
   },
   {
    "duration": 199,
    "start_time": "2022-08-15T15:45:17.257Z"
   },
   {
    "duration": 193,
    "start_time": "2022-08-15T15:45:17.461Z"
   },
   {
    "duration": 409,
    "start_time": "2022-08-15T15:45:17.657Z"
   },
   {
    "duration": 89,
    "start_time": "2022-08-15T15:45:18.067Z"
   },
   {
    "duration": 102,
    "start_time": "2022-08-15T15:45:18.158Z"
   },
   {
    "duration": 201,
    "start_time": "2022-08-15T15:45:18.266Z"
   },
   {
    "duration": 504,
    "start_time": "2022-08-15T15:45:18.560Z"
   },
   {
    "duration": 300,
    "start_time": "2022-08-15T15:45:19.154Z"
   },
   {
    "duration": 8,
    "start_time": "2022-08-15T15:45:19.456Z"
   },
   {
    "duration": 388,
    "start_time": "2022-08-15T15:45:19.466Z"
   },
   {
    "duration": 198,
    "start_time": "2022-08-15T15:45:19.860Z"
   },
   {
    "duration": 399,
    "start_time": "2022-08-15T15:45:20.059Z"
   },
   {
    "duration": 100,
    "start_time": "2022-08-15T15:45:20.459Z"
   },
   {
    "duration": 502,
    "start_time": "2022-08-15T15:45:20.560Z"
   },
   {
    "duration": 296,
    "start_time": "2022-08-15T15:45:21.064Z"
   },
   {
    "duration": 496,
    "start_time": "2022-08-15T15:45:21.362Z"
   },
   {
    "duration": 287,
    "start_time": "2022-08-15T15:45:21.868Z"
   },
   {
    "duration": 5,
    "start_time": "2022-08-15T15:45:27.656Z"
   },
   {
    "duration": 208,
    "start_time": "2022-08-15T15:45:38.456Z"
   },
   {
    "duration": 5,
    "start_time": "2022-08-15T15:45:47.156Z"
   },
   {
    "duration": 114,
    "start_time": "2022-08-15T15:45:50.256Z"
   },
   {
    "duration": 104,
    "start_time": "2022-08-15T15:46:36.257Z"
   },
   {
    "duration": 10,
    "start_time": "2022-08-15T15:46:38.556Z"
   },
   {
    "duration": 4,
    "start_time": "2022-08-15T15:46:46.756Z"
   },
   {
    "duration": 10,
    "start_time": "2022-08-15T15:46:55.356Z"
   },
   {
    "duration": 82,
    "start_time": "2022-08-15T15:46:55.778Z"
   },
   {
    "duration": 110,
    "start_time": "2022-08-15T15:47:11.156Z"
   },
   {
    "duration": 303,
    "start_time": "2022-08-15T15:47:11.356Z"
   },
   {
    "duration": 106,
    "start_time": "2022-08-15T15:47:11.661Z"
   },
   {
    "duration": 9,
    "start_time": "2022-08-15T15:47:12.856Z"
   },
   {
    "duration": 8,
    "start_time": "2022-08-15T15:47:14.956Z"
   },
   {
    "duration": 6,
    "start_time": "2022-08-15T15:48:19.055Z"
   },
   {
    "duration": 12,
    "start_time": "2022-08-15T15:48:20.755Z"
   },
   {
    "duration": 5,
    "start_time": "2022-08-15T15:48:21.456Z"
   },
   {
    "duration": 123105,
    "start_time": "2022-08-15T15:48:22.256Z"
   },
   {
    "duration": 197,
    "start_time": "2022-08-15T15:50:25.364Z"
   },
   {
    "duration": 109,
    "start_time": "2022-08-15T15:50:25.563Z"
   },
   {
    "duration": 583,
    "start_time": "2022-08-15T15:50:25.674Z"
   },
   {
    "duration": 95,
    "start_time": "2022-08-15T15:50:26.262Z"
   },
   {
    "duration": 194,
    "start_time": "2022-08-15T15:50:26.362Z"
   },
   {
    "duration": 522325,
    "start_time": "2022-08-15T15:50:26.557Z"
   },
   {
    "duration": 90,
    "start_time": "2022-08-15T15:59:08.884Z"
   },
   {
    "duration": 25,
    "start_time": "2022-08-15T15:59:08.984Z"
   },
   {
    "duration": 100,
    "start_time": "2022-08-15T15:59:09.012Z"
   },
   {
    "duration": 1268,
    "start_time": "2022-08-15T15:59:09.117Z"
   },
   {
    "duration": 13,
    "start_time": "2022-08-15T15:59:10.392Z"
   },
   {
    "duration": 153,
    "start_time": "2022-08-15T15:59:10.456Z"
   },
   {
    "duration": 9,
    "start_time": "2022-08-15T15:59:10.613Z"
   },
   {
    "duration": 170,
    "start_time": "2022-08-15T15:59:10.626Z"
   },
   {
    "duration": 19,
    "start_time": "2022-08-15T15:59:10.800Z"
   },
   {
    "duration": 0,
    "start_time": "2022-08-15T15:59:10.820Z"
   },
   {
    "duration": 0,
    "start_time": "2022-08-15T15:59:10.822Z"
   },
   {
    "duration": 0,
    "start_time": "2022-08-15T15:59:10.822Z"
   },
   {
    "duration": 0,
    "start_time": "2022-08-15T15:59:10.824Z"
   },
   {
    "duration": 0,
    "start_time": "2022-08-15T15:59:10.824Z"
   },
   {
    "duration": 0,
    "start_time": "2022-08-15T15:59:10.825Z"
   },
   {
    "duration": 0,
    "start_time": "2022-08-15T15:59:10.826Z"
   },
   {
    "duration": 0,
    "start_time": "2022-08-15T15:59:10.827Z"
   },
   {
    "duration": 0,
    "start_time": "2022-08-15T15:59:10.829Z"
   },
   {
    "duration": 0,
    "start_time": "2022-08-15T15:59:10.829Z"
   },
   {
    "duration": 0,
    "start_time": "2022-08-15T15:59:10.855Z"
   },
   {
    "duration": 0,
    "start_time": "2022-08-15T15:59:10.856Z"
   },
   {
    "duration": 0,
    "start_time": "2022-08-15T15:59:10.856Z"
   },
   {
    "duration": 0,
    "start_time": "2022-08-15T15:59:10.857Z"
   },
   {
    "duration": 0,
    "start_time": "2022-08-15T15:59:10.858Z"
   },
   {
    "duration": 27752,
    "start_time": "2022-08-15T16:02:32.807Z"
   },
   {
    "duration": 1509,
    "start_time": "2022-08-15T16:03:00.561Z"
   },
   {
    "duration": 2208,
    "start_time": "2022-08-15T16:04:54.245Z"
   },
   {
    "duration": 2232,
    "start_time": "2022-08-15T16:04:56.459Z"
   },
   {
    "duration": 6,
    "start_time": "2022-08-15T16:04:58.696Z"
   },
   {
    "duration": 130,
    "start_time": "2022-08-15T16:04:58.704Z"
   },
   {
    "duration": 4,
    "start_time": "2022-08-15T16:04:58.836Z"
   },
   {
    "duration": 57,
    "start_time": "2022-08-15T16:04:58.842Z"
   },
   {
    "duration": 6,
    "start_time": "2022-08-15T16:04:58.903Z"
   },
   {
    "duration": 64,
    "start_time": "2022-08-15T16:04:58.910Z"
   },
   {
    "duration": 40,
    "start_time": "2022-08-15T16:04:58.976Z"
   },
   {
    "duration": 45,
    "start_time": "2022-08-15T16:04:59.019Z"
   },
   {
    "duration": 8,
    "start_time": "2022-08-15T16:04:59.065Z"
   },
   {
    "duration": 28,
    "start_time": "2022-08-15T16:04:59.074Z"
   },
   {
    "duration": 11,
    "start_time": "2022-08-15T16:04:59.103Z"
   },
   {
    "duration": 13,
    "start_time": "2022-08-15T16:04:59.115Z"
   },
   {
    "duration": 6,
    "start_time": "2022-08-15T16:04:59.130Z"
   },
   {
    "duration": 6,
    "start_time": "2022-08-15T16:04:59.137Z"
   },
   {
    "duration": 6,
    "start_time": "2022-08-15T16:04:59.144Z"
   },
   {
    "duration": 37,
    "start_time": "2022-08-15T16:04:59.151Z"
   },
   {
    "duration": 38,
    "start_time": "2022-08-15T16:04:59.191Z"
   },
   {
    "duration": 5,
    "start_time": "2022-08-15T16:04:59.230Z"
   },
   {
    "duration": 8,
    "start_time": "2022-08-15T16:04:59.237Z"
   },
   {
    "duration": 5,
    "start_time": "2022-08-15T16:04:59.246Z"
   },
   {
    "duration": 46,
    "start_time": "2022-08-15T16:04:59.253Z"
   },
   {
    "duration": 317,
    "start_time": "2022-08-15T16:04:59.300Z"
   },
   {
    "duration": 5,
    "start_time": "2022-08-15T16:04:59.619Z"
   },
   {
    "duration": 15,
    "start_time": "2022-08-15T16:04:59.626Z"
   },
   {
    "duration": 160,
    "start_time": "2022-08-15T16:04:59.642Z"
   },
   {
    "duration": 364,
    "start_time": "2022-08-15T16:04:59.808Z"
   },
   {
    "duration": 8,
    "start_time": "2022-08-15T16:05:00.174Z"
   },
   {
    "duration": 32,
    "start_time": "2022-08-15T16:05:00.185Z"
   },
   {
    "duration": 15,
    "start_time": "2022-08-15T16:05:00.219Z"
   },
   {
    "duration": 11,
    "start_time": "2022-08-15T16:05:00.235Z"
   },
   {
    "duration": 11,
    "start_time": "2022-08-15T16:05:00.248Z"
   },
   {
    "duration": 45,
    "start_time": "2022-08-15T16:05:00.263Z"
   },
   {
    "duration": 16,
    "start_time": "2022-08-15T16:05:00.310Z"
   },
   {
    "duration": 295,
    "start_time": "2022-08-15T16:05:00.328Z"
   },
   {
    "duration": 15,
    "start_time": "2022-08-15T16:05:00.625Z"
   },
   {
    "duration": 55,
    "start_time": "2022-08-15T16:05:00.642Z"
   },
   {
    "duration": 24,
    "start_time": "2022-08-15T16:05:00.698Z"
   },
   {
    "duration": 16,
    "start_time": "2022-08-15T16:05:00.724Z"
   },
   {
    "duration": 16,
    "start_time": "2022-08-15T16:05:00.741Z"
   },
   {
    "duration": 75,
    "start_time": "2022-08-15T16:05:00.758Z"
   },
   {
    "duration": 18,
    "start_time": "2022-08-15T16:05:00.835Z"
   },
   {
    "duration": 61,
    "start_time": "2022-08-15T16:05:00.854Z"
   },
   {
    "duration": 17,
    "start_time": "2022-08-15T16:05:00.917Z"
   },
   {
    "duration": 41,
    "start_time": "2022-08-15T16:05:00.935Z"
   },
   {
    "duration": 23,
    "start_time": "2022-08-15T16:05:00.977Z"
   },
   {
    "duration": 22,
    "start_time": "2022-08-15T16:05:01.002Z"
   },
   {
    "duration": 18,
    "start_time": "2022-08-15T16:05:01.025Z"
   },
   {
    "duration": 24,
    "start_time": "2022-08-15T16:05:01.044Z"
   },
   {
    "duration": 53,
    "start_time": "2022-08-15T16:05:01.069Z"
   },
   {
    "duration": 10,
    "start_time": "2022-08-15T16:05:01.125Z"
   },
   {
    "duration": 6,
    "start_time": "2022-08-15T16:05:01.137Z"
   },
   {
    "duration": 15,
    "start_time": "2022-08-15T16:05:01.145Z"
   },
   {
    "duration": 61,
    "start_time": "2022-08-15T16:05:01.162Z"
   },
   {
    "duration": 18,
    "start_time": "2022-08-15T16:05:01.225Z"
   },
   {
    "duration": 6,
    "start_time": "2022-08-15T16:05:01.245Z"
   },
   {
    "duration": 56,
    "start_time": "2022-08-15T16:05:01.253Z"
   },
   {
    "duration": 5,
    "start_time": "2022-08-15T16:05:01.312Z"
   },
   {
    "duration": 9,
    "start_time": "2022-08-15T16:05:01.319Z"
   },
   {
    "duration": 9,
    "start_time": "2022-08-15T16:05:01.330Z"
   },
   {
    "duration": 6,
    "start_time": "2022-08-15T16:05:01.342Z"
   },
   {
    "duration": 50,
    "start_time": "2022-08-15T16:05:01.350Z"
   },
   {
    "duration": 19,
    "start_time": "2022-08-15T16:05:01.402Z"
   },
   {
    "duration": 20,
    "start_time": "2022-08-15T16:05:01.423Z"
   },
   {
    "duration": 7,
    "start_time": "2022-08-15T16:05:01.445Z"
   },
   {
    "duration": 34,
    "start_time": "2022-08-15T16:05:01.453Z"
   },
   {
    "duration": 24,
    "start_time": "2022-08-15T16:05:01.488Z"
   },
   {
    "duration": 11,
    "start_time": "2022-08-15T16:05:01.514Z"
   },
   {
    "duration": 10,
    "start_time": "2022-08-15T16:05:01.526Z"
   },
   {
    "duration": 6,
    "start_time": "2022-08-15T16:05:01.537Z"
   },
   {
    "duration": 20152,
    "start_time": "2022-08-15T16:05:01.544Z"
   },
   {
    "duration": 24,
    "start_time": "2022-08-15T16:05:21.698Z"
   },
   {
    "duration": 6,
    "start_time": "2022-08-15T16:05:21.723Z"
   },
   {
    "duration": 32,
    "start_time": "2022-08-15T16:05:21.730Z"
   },
   {
    "duration": 20,
    "start_time": "2022-08-15T16:05:21.764Z"
   },
   {
    "duration": 6,
    "start_time": "2022-08-15T16:05:21.794Z"
   },
   {
    "duration": 87179,
    "start_time": "2022-08-15T16:05:21.802Z"
   },
   {
    "duration": 101,
    "start_time": "2022-08-15T16:06:48.983Z"
   },
   {
    "duration": 12,
    "start_time": "2022-08-15T16:06:49.090Z"
   },
   {
    "duration": 74,
    "start_time": "2022-08-15T16:06:49.104Z"
   },
   {
    "duration": 1500,
    "start_time": "2022-08-15T16:06:49.189Z"
   },
   {
    "duration": 24,
    "start_time": "2022-08-15T16:06:50.761Z"
   },
   {
    "duration": 114,
    "start_time": "2022-08-15T16:06:50.795Z"
   },
   {
    "duration": 94,
    "start_time": "2022-08-15T16:06:50.911Z"
   },
   {
    "duration": 51,
    "start_time": "2022-08-15T16:06:51.007Z"
   },
   {
    "duration": 19328,
    "start_time": "2022-08-15T16:06:51.064Z"
   },
   {
    "duration": 5,
    "start_time": "2022-08-15T16:07:10.394Z"
   },
   {
    "duration": 808,
    "start_time": "2022-08-15T16:07:10.401Z"
   },
   {
    "duration": 160,
    "start_time": "2022-08-15T16:07:11.211Z"
   },
   {
    "duration": 11,
    "start_time": "2022-08-15T16:07:11.380Z"
   },
   {
    "duration": 153,
    "start_time": "2022-08-15T16:07:11.393Z"
   },
   {
    "duration": 13,
    "start_time": "2022-08-15T16:07:11.548Z"
   },
   {
    "duration": 37,
    "start_time": "2022-08-15T16:07:11.564Z"
   },
   {
    "duration": 10,
    "start_time": "2022-08-15T16:07:11.603Z"
   },
   {
    "duration": 34577,
    "start_time": "2022-08-15T16:07:11.614Z"
   },
   {
    "duration": 13,
    "start_time": "2022-08-15T16:07:46.193Z"
   },
   {
    "duration": 6,
    "start_time": "2022-08-15T16:07:46.208Z"
   },
   {
    "duration": 14,
    "start_time": "2022-08-15T16:07:46.215Z"
   },
   {
    "duration": 1922,
    "start_time": "2022-08-15T16:07:46.230Z"
   },
   {
    "duration": 9,
    "start_time": "2022-08-15T16:07:48.154Z"
   },
   {
    "duration": 103,
    "start_time": "2022-08-15T16:07:48.173Z"
   },
   {
    "duration": 157,
    "start_time": "2022-08-15T16:07:48.283Z"
   },
   {
    "duration": 172,
    "start_time": "2022-08-15T16:09:19.976Z"
   },
   {
    "duration": 80,
    "start_time": "2022-08-19T06:09:49.290Z"
   },
   {
    "duration": 2879,
    "start_time": "2022-08-19T07:41:40.558Z"
   },
   {
    "duration": 5872,
    "start_time": "2022-08-19T07:41:43.440Z"
   },
   {
    "duration": 1854,
    "start_time": "2022-08-19T07:41:49.314Z"
   },
   {
    "duration": 3,
    "start_time": "2022-08-19T07:41:51.170Z"
   },
   {
    "duration": 335,
    "start_time": "2022-08-19T07:41:51.174Z"
   },
   {
    "duration": 4,
    "start_time": "2022-08-19T07:41:51.511Z"
   },
   {
    "duration": 48,
    "start_time": "2022-08-19T07:41:51.516Z"
   },
   {
    "duration": 4,
    "start_time": "2022-08-19T07:41:51.566Z"
   },
   {
    "duration": 56,
    "start_time": "2022-08-19T07:41:51.571Z"
   },
   {
    "duration": 25,
    "start_time": "2022-08-19T07:41:51.629Z"
   },
   {
    "duration": 23,
    "start_time": "2022-08-19T07:41:51.656Z"
   },
   {
    "duration": 6,
    "start_time": "2022-08-19T07:41:51.705Z"
   },
   {
    "duration": 7,
    "start_time": "2022-08-19T07:41:51.712Z"
   },
   {
    "duration": 9,
    "start_time": "2022-08-19T07:41:51.721Z"
   },
   {
    "duration": 13,
    "start_time": "2022-08-19T07:41:51.732Z"
   },
   {
    "duration": 4,
    "start_time": "2022-08-19T07:41:51.746Z"
   },
   {
    "duration": 7,
    "start_time": "2022-08-19T07:41:51.751Z"
   },
   {
    "duration": 8,
    "start_time": "2022-08-19T07:41:51.759Z"
   },
   {
    "duration": 39,
    "start_time": "2022-08-19T07:41:51.768Z"
   },
   {
    "duration": 43,
    "start_time": "2022-08-19T07:41:51.809Z"
   },
   {
    "duration": 5,
    "start_time": "2022-08-19T07:41:51.853Z"
   },
   {
    "duration": 6,
    "start_time": "2022-08-19T07:41:51.860Z"
   },
   {
    "duration": 7,
    "start_time": "2022-08-19T07:41:51.867Z"
   },
   {
    "duration": 39,
    "start_time": "2022-08-19T07:41:51.876Z"
   },
   {
    "duration": 290,
    "start_time": "2022-08-19T07:41:51.916Z"
   },
   {
    "duration": 5,
    "start_time": "2022-08-19T07:41:52.208Z"
   },
   {
    "duration": 6,
    "start_time": "2022-08-19T07:41:52.214Z"
   },
   {
    "duration": 146,
    "start_time": "2022-08-19T07:41:52.223Z"
   },
   {
    "duration": 295,
    "start_time": "2022-08-19T07:41:52.371Z"
   },
   {
    "duration": 4,
    "start_time": "2022-08-19T07:41:52.667Z"
   },
   {
    "duration": 8,
    "start_time": "2022-08-19T07:41:52.673Z"
   },
   {
    "duration": 8,
    "start_time": "2022-08-19T07:41:52.682Z"
   },
   {
    "duration": 3,
    "start_time": "2022-08-19T07:41:52.706Z"
   },
   {
    "duration": 10,
    "start_time": "2022-08-19T07:41:52.710Z"
   },
   {
    "duration": 7,
    "start_time": "2022-08-19T07:41:52.722Z"
   },
   {
    "duration": 18,
    "start_time": "2022-08-19T07:41:52.730Z"
   },
   {
    "duration": 231,
    "start_time": "2022-08-19T07:41:52.749Z"
   },
   {
    "duration": 24,
    "start_time": "2022-08-19T07:41:52.982Z"
   },
   {
    "duration": 6,
    "start_time": "2022-08-19T07:41:53.008Z"
   },
   {
    "duration": 20,
    "start_time": "2022-08-19T07:41:53.015Z"
   },
   {
    "duration": 12,
    "start_time": "2022-08-19T07:41:53.037Z"
   },
   {
    "duration": 15,
    "start_time": "2022-08-19T07:41:53.050Z"
   },
   {
    "duration": 12,
    "start_time": "2022-08-19T07:41:53.067Z"
   },
   {
    "duration": 20,
    "start_time": "2022-08-19T07:41:53.105Z"
   },
   {
    "duration": 13,
    "start_time": "2022-08-19T07:41:53.127Z"
   },
   {
    "duration": 18,
    "start_time": "2022-08-19T07:41:53.141Z"
   },
   {
    "duration": 46,
    "start_time": "2022-08-19T07:41:53.160Z"
   },
   {
    "duration": 9,
    "start_time": "2022-08-19T07:41:53.208Z"
   },
   {
    "duration": 6,
    "start_time": "2022-08-19T07:41:53.219Z"
   },
   {
    "duration": 9,
    "start_time": "2022-08-19T07:41:53.227Z"
   },
   {
    "duration": 8,
    "start_time": "2022-08-19T07:41:53.238Z"
   },
   {
    "duration": 15,
    "start_time": "2022-08-19T07:41:53.248Z"
   },
   {
    "duration": 5,
    "start_time": "2022-08-19T07:41:53.265Z"
   },
   {
    "duration": 14,
    "start_time": "2022-08-19T07:41:53.306Z"
   },
   {
    "duration": 24,
    "start_time": "2022-08-19T07:41:53.322Z"
   },
   {
    "duration": 25,
    "start_time": "2022-08-19T07:41:53.348Z"
   },
   {
    "duration": 43,
    "start_time": "2022-08-19T07:41:53.374Z"
   },
   {
    "duration": 3,
    "start_time": "2022-08-19T07:41:53.419Z"
   },
   {
    "duration": 20,
    "start_time": "2022-08-19T07:41:53.423Z"
   },
   {
    "duration": 4,
    "start_time": "2022-08-19T07:41:53.444Z"
   },
   {
    "duration": 3691,
    "start_time": "2022-08-19T07:41:53.450Z"
   },
   {
    "duration": 3,
    "start_time": "2022-08-19T07:41:57.142Z"
   },
   {
    "duration": 7,
    "start_time": "2022-08-19T07:41:57.146Z"
   },
   {
    "duration": 7,
    "start_time": "2022-08-19T07:41:57.154Z"
   },
   {
    "duration": 3,
    "start_time": "2022-08-19T07:41:57.162Z"
   },
   {
    "duration": 16,
    "start_time": "2022-08-19T07:41:57.166Z"
   },
   {
    "duration": 14,
    "start_time": "2022-08-19T07:41:57.183Z"
   },
   {
    "duration": 4,
    "start_time": "2022-08-19T07:41:57.199Z"
   },
   {
    "duration": 22,
    "start_time": "2022-08-19T07:41:57.205Z"
   },
   {
    "duration": 6,
    "start_time": "2022-08-19T07:41:57.229Z"
   },
   {
    "duration": 16,
    "start_time": "2022-08-19T07:41:57.236Z"
   },
   {
    "duration": 19,
    "start_time": "2022-08-19T07:41:57.254Z"
   },
   {
    "duration": 5,
    "start_time": "2022-08-19T07:41:57.275Z"
   },
   {
    "duration": 5,
    "start_time": "2022-08-19T07:42:05.053Z"
   },
   {
    "duration": 495706,
    "start_time": "2022-08-19T07:42:05.532Z"
   },
   {
    "duration": 0,
    "start_time": "2022-08-19T07:50:21.240Z"
   },
   {
    "duration": 0,
    "start_time": "2022-08-19T07:50:21.240Z"
   },
   {
    "duration": 3,
    "start_time": "2022-08-19T07:50:28.221Z"
   },
   {
    "duration": 5788,
    "start_time": "2022-08-19T07:50:32.431Z"
   },
   {
    "duration": 90,
    "start_time": "2022-08-19T07:50:38.221Z"
   },
   {
    "duration": 3,
    "start_time": "2022-08-19T07:50:40.044Z"
   },
   {
    "duration": 16,
    "start_time": "2022-08-19T07:53:08.320Z"
   },
   {
    "duration": 83,
    "start_time": "2022-08-19T15:33:00.147Z"
   },
   {
    "duration": 81,
    "start_time": "2022-08-19T15:38:53.309Z"
   },
   {
    "duration": 105,
    "start_time": "2022-08-19T15:39:02.325Z"
   }
  ],
  "colab": {
   "collapsed_sections": [
    "d8ba602c"
   ],
   "name": "telecom_2.ipynb",
   "provenance": [],
   "toc_visible": true
  },
  "kernelspec": {
   "display_name": "Python 3 (ipykernel)",
   "language": "python",
   "name": "python3"
  },
  "language_info": {
   "codemirror_mode": {
    "name": "ipython",
    "version": 3
   },
   "file_extension": ".py",
   "mimetype": "text/x-python",
   "name": "python",
   "nbconvert_exporter": "python",
   "pygments_lexer": "ipython3",
   "version": "3.9.7"
  },
  "toc": {
   "base_numbering": 1,
   "nav_menu": {},
   "number_sections": true,
   "sideBar": true,
   "skip_h1_title": false,
   "title_cell": "Содержание",
   "title_sidebar": "Contents",
   "toc_cell": true,
   "toc_position": {
    "height": "calc(100% - 180px)",
    "left": "10px",
    "top": "150px",
    "width": "384px"
   },
   "toc_section_display": true,
   "toc_window_display": true
  }
 },
 "nbformat": 4,
 "nbformat_minor": 5
}
