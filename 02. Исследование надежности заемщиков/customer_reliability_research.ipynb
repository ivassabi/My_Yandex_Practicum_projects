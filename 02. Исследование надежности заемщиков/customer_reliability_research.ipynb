{
 "cells": [
  {
   "cell_type": "markdown",
   "metadata": {},
   "source": [
    "# Исследование надёжности заёмщиков\n",
    "\n",
    "Заказчик — кредитный отдел банка. Нужно разобраться, влияет ли семейное положение и количество детей клиента на факт погашения кредита в срок. Входные данные от банка — статистика о платёжеспособности клиентов.\n",
    "\n",
    "Результаты исследования будут учтены при построении модели **кредитного скоринга** — специальной системы, которая оценивает способность потенциального заёмщика вернуть кредит банку."
   ]
  },
  {
   "cell_type": "markdown",
   "metadata": {},
   "source": [
    "# Описание данных\n",
    "\n",
    "`children` — количество детей в семье  \n",
    "`days_employed` — общий трудовой стаж в днях  \n",
    "`dob_years` — возраст клиента в годах  \n",
    "`education` — уровень образования клиента  \n",
    "`education_id` — идентификатор уровня образования  \n",
    "`family_status` — семейное положение  \n",
    "`family_status_id` — идентификатор семейного положения  \n",
    "`gender` — пол клиента  \n",
    "`income_type` — тип занятости  \n",
    "`debt` — имел ли задолженность по возврату кредитов  \n",
    "`total_income` — ежемесячный доход  \n",
    "`purpose`— цель получения кредита"
   ]
  },
  {
   "cell_type": "markdown",
   "metadata": {},
   "source": [
    "**План работ:**\n",
    "\n",
    "- Ознакомление с данными\n",
    "- Предобработка данных\n",
    "- Выяление зависимостей\n",
    "- Выводы по поставленным вопросам"
   ]
  },
  {
   "cell_type": "markdown",
   "metadata": {},
   "source": [
    "## Шаг 1. Ознакомление с данными\n",
    "Загрузим необходимые библиотеки и произведем первичное ознакомление с данными."
   ]
  },
  {
   "cell_type": "code",
   "execution_count": 1,
   "metadata": {},
   "outputs": [],
   "source": [
    "import pandas as pd\n",
    "from pymystem3 import Mystem\n",
    "from collections import Counter"
   ]
  },
  {
   "cell_type": "code",
   "execution_count": 2,
   "metadata": {},
   "outputs": [],
   "source": [
    "m = Mystem()"
   ]
  },
  {
   "cell_type": "code",
   "execution_count": 3,
   "metadata": {},
   "outputs": [],
   "source": [
    "data = pd.read_csv(r'C:\\Users\\79119\\Desktop\\DF\\reliability_research\\data.csv')"
   ]
  },
  {
   "cell_type": "code",
   "execution_count": 4,
   "metadata": {},
   "outputs": [
    {
     "data": {
      "text/html": [
       "<div>\n",
       "<style scoped>\n",
       "    .dataframe tbody tr th:only-of-type {\n",
       "        vertical-align: middle;\n",
       "    }\n",
       "\n",
       "    .dataframe tbody tr th {\n",
       "        vertical-align: top;\n",
       "    }\n",
       "\n",
       "    .dataframe thead th {\n",
       "        text-align: right;\n",
       "    }\n",
       "</style>\n",
       "<table border=\"1\" class=\"dataframe\">\n",
       "  <thead>\n",
       "    <tr style=\"text-align: right;\">\n",
       "      <th></th>\n",
       "      <th>children</th>\n",
       "      <th>days_employed</th>\n",
       "      <th>dob_years</th>\n",
       "      <th>education</th>\n",
       "      <th>education_id</th>\n",
       "      <th>family_status</th>\n",
       "      <th>family_status_id</th>\n",
       "      <th>gender</th>\n",
       "      <th>income_type</th>\n",
       "      <th>debt</th>\n",
       "      <th>total_income</th>\n",
       "      <th>purpose</th>\n",
       "    </tr>\n",
       "  </thead>\n",
       "  <tbody>\n",
       "    <tr>\n",
       "      <th>0</th>\n",
       "      <td>1</td>\n",
       "      <td>-8437.673028</td>\n",
       "      <td>42</td>\n",
       "      <td>высшее</td>\n",
       "      <td>0</td>\n",
       "      <td>женат / замужем</td>\n",
       "      <td>0</td>\n",
       "      <td>F</td>\n",
       "      <td>сотрудник</td>\n",
       "      <td>0</td>\n",
       "      <td>253875.639453</td>\n",
       "      <td>покупка жилья</td>\n",
       "    </tr>\n",
       "    <tr>\n",
       "      <th>1</th>\n",
       "      <td>1</td>\n",
       "      <td>-4024.803754</td>\n",
       "      <td>36</td>\n",
       "      <td>среднее</td>\n",
       "      <td>1</td>\n",
       "      <td>женат / замужем</td>\n",
       "      <td>0</td>\n",
       "      <td>F</td>\n",
       "      <td>сотрудник</td>\n",
       "      <td>0</td>\n",
       "      <td>112080.014102</td>\n",
       "      <td>приобретение автомобиля</td>\n",
       "    </tr>\n",
       "    <tr>\n",
       "      <th>2</th>\n",
       "      <td>0</td>\n",
       "      <td>-5623.422610</td>\n",
       "      <td>33</td>\n",
       "      <td>Среднее</td>\n",
       "      <td>1</td>\n",
       "      <td>женат / замужем</td>\n",
       "      <td>0</td>\n",
       "      <td>M</td>\n",
       "      <td>сотрудник</td>\n",
       "      <td>0</td>\n",
       "      <td>145885.952297</td>\n",
       "      <td>покупка жилья</td>\n",
       "    </tr>\n",
       "    <tr>\n",
       "      <th>3</th>\n",
       "      <td>3</td>\n",
       "      <td>-4124.747207</td>\n",
       "      <td>32</td>\n",
       "      <td>среднее</td>\n",
       "      <td>1</td>\n",
       "      <td>женат / замужем</td>\n",
       "      <td>0</td>\n",
       "      <td>M</td>\n",
       "      <td>сотрудник</td>\n",
       "      <td>0</td>\n",
       "      <td>267628.550329</td>\n",
       "      <td>дополнительное образование</td>\n",
       "    </tr>\n",
       "    <tr>\n",
       "      <th>4</th>\n",
       "      <td>0</td>\n",
       "      <td>340266.072047</td>\n",
       "      <td>53</td>\n",
       "      <td>среднее</td>\n",
       "      <td>1</td>\n",
       "      <td>гражданский брак</td>\n",
       "      <td>1</td>\n",
       "      <td>F</td>\n",
       "      <td>пенсионер</td>\n",
       "      <td>0</td>\n",
       "      <td>158616.077870</td>\n",
       "      <td>сыграть свадьбу</td>\n",
       "    </tr>\n",
       "    <tr>\n",
       "      <th>5</th>\n",
       "      <td>0</td>\n",
       "      <td>-926.185831</td>\n",
       "      <td>27</td>\n",
       "      <td>высшее</td>\n",
       "      <td>0</td>\n",
       "      <td>гражданский брак</td>\n",
       "      <td>1</td>\n",
       "      <td>M</td>\n",
       "      <td>компаньон</td>\n",
       "      <td>0</td>\n",
       "      <td>255763.565419</td>\n",
       "      <td>покупка жилья</td>\n",
       "    </tr>\n",
       "    <tr>\n",
       "      <th>6</th>\n",
       "      <td>0</td>\n",
       "      <td>-2879.202052</td>\n",
       "      <td>43</td>\n",
       "      <td>высшее</td>\n",
       "      <td>0</td>\n",
       "      <td>женат / замужем</td>\n",
       "      <td>0</td>\n",
       "      <td>F</td>\n",
       "      <td>компаньон</td>\n",
       "      <td>0</td>\n",
       "      <td>240525.971920</td>\n",
       "      <td>операции с жильем</td>\n",
       "    </tr>\n",
       "    <tr>\n",
       "      <th>7</th>\n",
       "      <td>0</td>\n",
       "      <td>-152.779569</td>\n",
       "      <td>50</td>\n",
       "      <td>СРЕДНЕЕ</td>\n",
       "      <td>1</td>\n",
       "      <td>женат / замужем</td>\n",
       "      <td>0</td>\n",
       "      <td>M</td>\n",
       "      <td>сотрудник</td>\n",
       "      <td>0</td>\n",
       "      <td>135823.934197</td>\n",
       "      <td>образование</td>\n",
       "    </tr>\n",
       "    <tr>\n",
       "      <th>8</th>\n",
       "      <td>2</td>\n",
       "      <td>-6929.865299</td>\n",
       "      <td>35</td>\n",
       "      <td>ВЫСШЕЕ</td>\n",
       "      <td>0</td>\n",
       "      <td>гражданский брак</td>\n",
       "      <td>1</td>\n",
       "      <td>F</td>\n",
       "      <td>сотрудник</td>\n",
       "      <td>0</td>\n",
       "      <td>95856.832424</td>\n",
       "      <td>на проведение свадьбы</td>\n",
       "    </tr>\n",
       "    <tr>\n",
       "      <th>9</th>\n",
       "      <td>0</td>\n",
       "      <td>-2188.756445</td>\n",
       "      <td>41</td>\n",
       "      <td>среднее</td>\n",
       "      <td>1</td>\n",
       "      <td>женат / замужем</td>\n",
       "      <td>0</td>\n",
       "      <td>M</td>\n",
       "      <td>сотрудник</td>\n",
       "      <td>0</td>\n",
       "      <td>144425.938277</td>\n",
       "      <td>покупка жилья для семьи</td>\n",
       "    </tr>\n",
       "  </tbody>\n",
       "</table>\n",
       "</div>"
      ],
      "text/plain": [
       "   children  days_employed  dob_years education  education_id  \\\n",
       "0         1   -8437.673028         42    высшее             0   \n",
       "1         1   -4024.803754         36   среднее             1   \n",
       "2         0   -5623.422610         33   Среднее             1   \n",
       "3         3   -4124.747207         32   среднее             1   \n",
       "4         0  340266.072047         53   среднее             1   \n",
       "5         0    -926.185831         27    высшее             0   \n",
       "6         0   -2879.202052         43    высшее             0   \n",
       "7         0    -152.779569         50   СРЕДНЕЕ             1   \n",
       "8         2   -6929.865299         35    ВЫСШЕЕ             0   \n",
       "9         0   -2188.756445         41   среднее             1   \n",
       "\n",
       "      family_status  family_status_id gender income_type  debt   total_income  \\\n",
       "0   женат / замужем                 0      F   сотрудник     0  253875.639453   \n",
       "1   женат / замужем                 0      F   сотрудник     0  112080.014102   \n",
       "2   женат / замужем                 0      M   сотрудник     0  145885.952297   \n",
       "3   женат / замужем                 0      M   сотрудник     0  267628.550329   \n",
       "4  гражданский брак                 1      F   пенсионер     0  158616.077870   \n",
       "5  гражданский брак                 1      M   компаньон     0  255763.565419   \n",
       "6   женат / замужем                 0      F   компаньон     0  240525.971920   \n",
       "7   женат / замужем                 0      M   сотрудник     0  135823.934197   \n",
       "8  гражданский брак                 1      F   сотрудник     0   95856.832424   \n",
       "9   женат / замужем                 0      M   сотрудник     0  144425.938277   \n",
       "\n",
       "                      purpose  \n",
       "0               покупка жилья  \n",
       "1     приобретение автомобиля  \n",
       "2               покупка жилья  \n",
       "3  дополнительное образование  \n",
       "4             сыграть свадьбу  \n",
       "5               покупка жилья  \n",
       "6           операции с жильем  \n",
       "7                 образование  \n",
       "8       на проведение свадьбы  \n",
       "9     покупка жилья для семьи  "
      ]
     },
     "execution_count": 4,
     "metadata": {},
     "output_type": "execute_result"
    }
   ],
   "source": [
    "data.head(10)"
   ]
  },
  {
   "cell_type": "code",
   "execution_count": 5,
   "metadata": {},
   "outputs": [
    {
     "name": "stdout",
     "output_type": "stream",
     "text": [
      "<class 'pandas.core.frame.DataFrame'>\n",
      "RangeIndex: 21525 entries, 0 to 21524\n",
      "Data columns (total 12 columns):\n",
      " #   Column            Non-Null Count  Dtype  \n",
      "---  ------            --------------  -----  \n",
      " 0   children          21525 non-null  int64  \n",
      " 1   days_employed     19351 non-null  float64\n",
      " 2   dob_years         21525 non-null  int64  \n",
      " 3   education         21525 non-null  object \n",
      " 4   education_id      21525 non-null  int64  \n",
      " 5   family_status     21525 non-null  object \n",
      " 6   family_status_id  21525 non-null  int64  \n",
      " 7   gender            21525 non-null  object \n",
      " 8   income_type       21525 non-null  object \n",
      " 9   debt              21525 non-null  int64  \n",
      " 10  total_income      19351 non-null  float64\n",
      " 11  purpose           21525 non-null  object \n",
      "dtypes: float64(2), int64(5), object(5)\n",
      "memory usage: 2.0+ MB\n"
     ]
    }
   ],
   "source": [
    "data.info()"
   ]
  },
  {
   "cell_type": "markdown",
   "metadata": {},
   "source": [
    "**Вывод**  \n",
    "В представленной таблице 21524 строки и 12 столбцов, из которых:  \n",
    "- 5 - типа int;  \n",
    "- 2 - типа float;  \n",
    "- 5 - типа object.  \n",
    "\n",
    "Также в столбцах 'days_employed' и 'total_income' присутствуют пропуски. "
   ]
  },
  {
   "cell_type": "markdown",
   "metadata": {},
   "source": [
    "## Шаг 2. Предобработка данных"
   ]
  },
  {
   "cell_type": "markdown",
   "metadata": {},
   "source": [
    "### Обработка пропусков"
   ]
  },
  {
   "cell_type": "markdown",
   "metadata": {},
   "source": [
    "Для начала, посчитаем количесство пропущенных значений в каждом из столбцов."
   ]
  },
  {
   "cell_type": "code",
   "execution_count": 6,
   "metadata": {
    "scrolled": false
   },
   "outputs": [
    {
     "data": {
      "text/plain": [
       "children               0\n",
       "days_employed       2174\n",
       "dob_years              0\n",
       "education              0\n",
       "education_id           0\n",
       "family_status          0\n",
       "family_status_id       0\n",
       "gender                 0\n",
       "income_type            0\n",
       "debt                   0\n",
       "total_income        2174\n",
       "purpose                0\n",
       "dtype: int64"
      ]
     },
     "execution_count": 6,
     "metadata": {},
     "output_type": "execute_result"
    }
   ],
   "source": [
    "data.isna().sum()"
   ]
  },
  {
   "cell_type": "markdown",
   "metadata": {},
   "source": [
    "Количество пропусков в `days_employed` и `total_income` совпадают. Проверим, одни и теже ли строки с пропусками в `days_employed` и `total_income`. Для этого создадим переменную passes, в которой будут хранится строки с пропусками в столбце `days_employed`"
   ]
  },
  {
   "cell_type": "code",
   "execution_count": 7,
   "metadata": {},
   "outputs": [],
   "source": [
    "passes = data[data['days_employed'].isna()]"
   ]
  },
  {
   "cell_type": "code",
   "execution_count": 8,
   "metadata": {
    "scrolled": true
   },
   "outputs": [
    {
     "name": "stdout",
     "output_type": "stream",
     "text": [
      "<class 'pandas.core.frame.DataFrame'>\n",
      "Int64Index: 2174 entries, 12 to 21510\n",
      "Data columns (total 12 columns):\n",
      " #   Column            Non-Null Count  Dtype  \n",
      "---  ------            --------------  -----  \n",
      " 0   children          2174 non-null   int64  \n",
      " 1   days_employed     0 non-null      float64\n",
      " 2   dob_years         2174 non-null   int64  \n",
      " 3   education         2174 non-null   object \n",
      " 4   education_id      2174 non-null   int64  \n",
      " 5   family_status     2174 non-null   object \n",
      " 6   family_status_id  2174 non-null   int64  \n",
      " 7   gender            2174 non-null   object \n",
      " 8   income_type       2174 non-null   object \n",
      " 9   debt              2174 non-null   int64  \n",
      " 10  total_income      0 non-null      float64\n",
      " 11  purpose           2174 non-null   object \n",
      "dtypes: float64(2), int64(5), object(5)\n",
      "memory usage: 220.8+ KB\n"
     ]
    }
   ],
   "source": [
    "passes.info()"
   ]
  },
  {
   "cell_type": "markdown",
   "metadata": {},
   "source": [
    "**Вывод**  \n",
    "Как видно из общей информации по таблице passes, строки с пропусками в столбцах с общим трудовым стажем и ежемесячным доходом совпадают. Соответчтвенно там, где не указан стаж работы, не указан доход. "
   ]
  },
  {
   "cell_type": "markdown",
   "metadata": {},
   "source": [
    "### Замена типа данных"
   ]
  },
  {
   "cell_type": "markdown",
   "metadata": {},
   "source": [
    "Для сохранения 10% данных, заменим пропуски в столбцах на медианное значение в зависимости от категории занятости."
   ]
  },
  {
   "cell_type": "code",
   "execution_count": 9,
   "metadata": {},
   "outputs": [],
   "source": [
    "data['total_income'] = data['total_income'].fillna(data.groupby('income_type')['total_income'].transform('median'))\n",
    "data['total_income'] = data['total_income'].fillna(data['total_income'].median())"
   ]
  },
  {
   "cell_type": "code",
   "execution_count": 10,
   "metadata": {},
   "outputs": [],
   "source": [
    "data['days_employed'] = data['days_employed'].fillna(data.groupby('income_type')['days_employed'].transform('median'))\n",
    "data['days_employed'] = data['days_employed'].fillna(data['days_employed'].median())"
   ]
  },
  {
   "cell_type": "markdown",
   "metadata": {},
   "source": [
    "Проверим, что пропусков больше нет"
   ]
  },
  {
   "cell_type": "code",
   "execution_count": 11,
   "metadata": {
    "scrolled": false
   },
   "outputs": [
    {
     "data": {
      "text/plain": [
       "children            0\n",
       "days_employed       0\n",
       "dob_years           0\n",
       "education           0\n",
       "education_id        0\n",
       "family_status       0\n",
       "family_status_id    0\n",
       "gender              0\n",
       "income_type         0\n",
       "debt                0\n",
       "total_income        0\n",
       "purpose             0\n",
       "dtype: int64"
      ]
     },
     "execution_count": 11,
     "metadata": {},
     "output_type": "execute_result"
    }
   ],
   "source": [
    "data.isna().sum()"
   ]
  },
  {
   "cell_type": "markdown",
   "metadata": {},
   "source": [
    "Приведем столбцы со стажем и доходом к целочисленные значениям (тип int)"
   ]
  },
  {
   "cell_type": "code",
   "execution_count": 12,
   "metadata": {
    "scrolled": true
   },
   "outputs": [],
   "source": [
    "data['days_employed'] = data['days_employed'].astype('int')\n",
    "data['total_income'] = data['total_income'].astype('int')"
   ]
  },
  {
   "cell_type": "markdown",
   "metadata": {},
   "source": [
    "Проверим, что преобразование проведено корректно."
   ]
  },
  {
   "cell_type": "code",
   "execution_count": 13,
   "metadata": {
    "scrolled": true
   },
   "outputs": [
    {
     "data": {
      "text/plain": [
       "children             int64\n",
       "days_employed        int32\n",
       "dob_years            int64\n",
       "education           object\n",
       "education_id         int64\n",
       "family_status       object\n",
       "family_status_id     int64\n",
       "gender              object\n",
       "income_type         object\n",
       "debt                 int64\n",
       "total_income         int32\n",
       "purpose             object\n",
       "dtype: object"
      ]
     },
     "execution_count": 13,
     "metadata": {},
     "output_type": "execute_result"
    }
   ],
   "source": [
    "data.dtypes"
   ]
  },
  {
   "cell_type": "markdown",
   "metadata": {},
   "source": [
    "Проверим количественные признаки на наличие аномалий"
   ]
  },
  {
   "cell_type": "code",
   "execution_count": 14,
   "metadata": {
    "scrolled": true
   },
   "outputs": [
    {
     "data": {
      "text/html": [
       "<div>\n",
       "<style scoped>\n",
       "    .dataframe tbody tr th:only-of-type {\n",
       "        vertical-align: middle;\n",
       "    }\n",
       "\n",
       "    .dataframe tbody tr th {\n",
       "        vertical-align: top;\n",
       "    }\n",
       "\n",
       "    .dataframe thead th {\n",
       "        text-align: right;\n",
       "    }\n",
       "</style>\n",
       "<table border=\"1\" class=\"dataframe\">\n",
       "  <thead>\n",
       "    <tr style=\"text-align: right;\">\n",
       "      <th></th>\n",
       "      <th>children</th>\n",
       "      <th>days_employed</th>\n",
       "      <th>dob_years</th>\n",
       "      <th>education_id</th>\n",
       "      <th>family_status_id</th>\n",
       "      <th>debt</th>\n",
       "      <th>total_income</th>\n",
       "    </tr>\n",
       "  </thead>\n",
       "  <tbody>\n",
       "    <tr>\n",
       "      <th>count</th>\n",
       "      <td>21525.000000</td>\n",
       "      <td>21525.000000</td>\n",
       "      <td>21525.000000</td>\n",
       "      <td>21525.000000</td>\n",
       "      <td>21525.000000</td>\n",
       "      <td>21525.000000</td>\n",
       "      <td>2.152500e+04</td>\n",
       "    </tr>\n",
       "    <tr>\n",
       "      <th>mean</th>\n",
       "      <td>0.538908</td>\n",
       "      <td>63550.801812</td>\n",
       "      <td>43.293380</td>\n",
       "      <td>0.817236</td>\n",
       "      <td>0.972544</td>\n",
       "      <td>0.080883</td>\n",
       "      <td>1.652248e+05</td>\n",
       "    </tr>\n",
       "    <tr>\n",
       "      <th>std</th>\n",
       "      <td>1.381587</td>\n",
       "      <td>141150.053986</td>\n",
       "      <td>12.574584</td>\n",
       "      <td>0.548138</td>\n",
       "      <td>1.420324</td>\n",
       "      <td>0.272661</td>\n",
       "      <td>9.804367e+04</td>\n",
       "    </tr>\n",
       "    <tr>\n",
       "      <th>min</th>\n",
       "      <td>-1.000000</td>\n",
       "      <td>-18388.000000</td>\n",
       "      <td>0.000000</td>\n",
       "      <td>0.000000</td>\n",
       "      <td>0.000000</td>\n",
       "      <td>0.000000</td>\n",
       "      <td>2.066700e+04</td>\n",
       "    </tr>\n",
       "    <tr>\n",
       "      <th>25%</th>\n",
       "      <td>0.000000</td>\n",
       "      <td>-2570.000000</td>\n",
       "      <td>33.000000</td>\n",
       "      <td>1.000000</td>\n",
       "      <td>0.000000</td>\n",
       "      <td>0.000000</td>\n",
       "      <td>1.077980e+05</td>\n",
       "    </tr>\n",
       "    <tr>\n",
       "      <th>50%</th>\n",
       "      <td>0.000000</td>\n",
       "      <td>-1355.000000</td>\n",
       "      <td>42.000000</td>\n",
       "      <td>1.000000</td>\n",
       "      <td>0.000000</td>\n",
       "      <td>0.000000</td>\n",
       "      <td>1.425940e+05</td>\n",
       "    </tr>\n",
       "    <tr>\n",
       "      <th>75%</th>\n",
       "      <td>1.000000</td>\n",
       "      <td>-316.000000</td>\n",
       "      <td>53.000000</td>\n",
       "      <td>1.000000</td>\n",
       "      <td>1.000000</td>\n",
       "      <td>0.000000</td>\n",
       "      <td>1.955490e+05</td>\n",
       "    </tr>\n",
       "    <tr>\n",
       "      <th>max</th>\n",
       "      <td>20.000000</td>\n",
       "      <td>401755.000000</td>\n",
       "      <td>75.000000</td>\n",
       "      <td>4.000000</td>\n",
       "      <td>4.000000</td>\n",
       "      <td>1.000000</td>\n",
       "      <td>2.265604e+06</td>\n",
       "    </tr>\n",
       "  </tbody>\n",
       "</table>\n",
       "</div>"
      ],
      "text/plain": [
       "           children  days_employed     dob_years  education_id  \\\n",
       "count  21525.000000   21525.000000  21525.000000  21525.000000   \n",
       "mean       0.538908   63550.801812     43.293380      0.817236   \n",
       "std        1.381587  141150.053986     12.574584      0.548138   \n",
       "min       -1.000000  -18388.000000      0.000000      0.000000   \n",
       "25%        0.000000   -2570.000000     33.000000      1.000000   \n",
       "50%        0.000000   -1355.000000     42.000000      1.000000   \n",
       "75%        1.000000    -316.000000     53.000000      1.000000   \n",
       "max       20.000000  401755.000000     75.000000      4.000000   \n",
       "\n",
       "       family_status_id          debt  total_income  \n",
       "count      21525.000000  21525.000000  2.152500e+04  \n",
       "mean           0.972544      0.080883  1.652248e+05  \n",
       "std            1.420324      0.272661  9.804367e+04  \n",
       "min            0.000000      0.000000  2.066700e+04  \n",
       "25%            0.000000      0.000000  1.077980e+05  \n",
       "50%            0.000000      0.000000  1.425940e+05  \n",
       "75%            1.000000      0.000000  1.955490e+05  \n",
       "max            4.000000      1.000000  2.265604e+06  "
      ]
     },
     "execution_count": 14,
     "metadata": {},
     "output_type": "execute_result"
    }
   ],
   "source": [
    "data.describe()"
   ]
  },
  {
   "cell_type": "markdown",
   "metadata": {},
   "source": [
    "Выявлены аномальные значения -1 и 20 в столбце с количеством детей, также отрицательные и положительные значения в количестве дней трудового стажа."
   ]
  },
  {
   "cell_type": "code",
   "execution_count": 15,
   "metadata": {
    "scrolled": false
   },
   "outputs": [
    {
     "data": {
      "text/plain": [
       "children\n",
       "-1        47\n",
       " 0     14149\n",
       " 1      4818\n",
       " 2      2055\n",
       " 3       330\n",
       " 4        41\n",
       " 5         9\n",
       " 20       76\n",
       "Name: income_type, dtype: int64"
      ]
     },
     "execution_count": 15,
     "metadata": {},
     "output_type": "execute_result"
    }
   ],
   "source": [
    "data.groupby('children')['income_type'].count()"
   ]
  },
  {
   "cell_type": "markdown",
   "metadata": {},
   "source": [
    "В связи с тем, что объем данных с аномальным значение в столбце количества детей, составляет менее 1%, эти строки решено удалить."
   ]
  },
  {
   "cell_type": "code",
   "execution_count": 16,
   "metadata": {},
   "outputs": [],
   "source": [
    "data = data.drop(data[data['children'] == -1].index)\n",
    "data = data.drop(data[data['children'] == 20].index)"
   ]
  },
  {
   "cell_type": "markdown",
   "metadata": {},
   "source": [
    "Проверим, что значения удалены корректно"
   ]
  },
  {
   "cell_type": "code",
   "execution_count": 17,
   "metadata": {
    "scrolled": false
   },
   "outputs": [
    {
     "data": {
      "text/plain": [
       "children\n",
       "0    14149\n",
       "1     4818\n",
       "2     2055\n",
       "3      330\n",
       "4       41\n",
       "5        9\n",
       "Name: income_type, dtype: int64"
      ]
     },
     "execution_count": 17,
     "metadata": {},
     "output_type": "execute_result"
    }
   ],
   "source": [
    "data.groupby('children')['income_type'].count()"
   ]
  },
  {
   "cell_type": "markdown",
   "metadata": {},
   "source": [
    "Проверим, есть ли какая-то закономерность между странными значениями в трудовом стаже и типом занятости. Посмотрим минимальное и максимальное значение столбца `days_employed` в разбивке по типам занятости."
   ]
  },
  {
   "cell_type": "code",
   "execution_count": 18,
   "metadata": {
    "scrolled": false
   },
   "outputs": [
    {
     "data": {
      "text/plain": [
       "income_type\n",
       "безработный        337524\n",
       "в декрете           -3296\n",
       "госслужащий        -15193\n",
       "компаньон          -17615\n",
       "пенсионер          328728\n",
       "предприниматель      -520\n",
       "сотрудник          -18388\n",
       "студент              -578\n",
       "Name: days_employed, dtype: int32"
      ]
     },
     "execution_count": 18,
     "metadata": {},
     "output_type": "execute_result"
    }
   ],
   "source": [
    "data.groupby('income_type')['days_employed'].min()"
   ]
  },
  {
   "cell_type": "code",
   "execution_count": 19,
   "metadata": {},
   "outputs": [
    {
     "data": {
      "text/plain": [
       "income_type\n",
       "безработный        395302\n",
       "в декрете           -3296\n",
       "госслужащий           -39\n",
       "компаньон             -30\n",
       "пенсионер          401755\n",
       "предприниматель      -520\n",
       "сотрудник             -24\n",
       "студент              -578\n",
       "Name: days_employed, dtype: int32"
      ]
     },
     "execution_count": 19,
     "metadata": {},
     "output_type": "execute_result"
    }
   ],
   "source": [
    "data.groupby('income_type')['days_employed'].max()"
   ]
  },
  {
   "cell_type": "markdown",
   "metadata": {},
   "source": [
    "Столбец `income_type` указан в количестве дней, поэтому при делении отрицательных значений на 365  получается какое-то логичное количество лет. Но положительные значения слишком велики и присутствуют только в двух типах занятости: безработные и пенсионеры."
   ]
  },
  {
   "cell_type": "code",
   "execution_count": 20,
   "metadata": {
    "scrolled": false
   },
   "outputs": [
    {
     "data": {
      "text/plain": [
       "F      14154\n",
       "M       7247\n",
       "XNA        1\n",
       "Name: gender, dtype: int64"
      ]
     },
     "execution_count": 20,
     "metadata": {},
     "output_type": "execute_result"
    }
   ],
   "source": [
    "data['gender'].value_counts()"
   ]
  },
  {
   "cell_type": "markdown",
   "metadata": {},
   "source": [
    "В столбце, который отображает пол заемщика, есть одно нестандартное значение(возможно какая-то небинарная личность)"
   ]
  },
  {
   "cell_type": "markdown",
   "metadata": {},
   "source": [
    "**Вывод**  \n",
    "1.Заменили пропуски в столбцах 'days_employed' и 'total_income' на медианное значение по группам занятости, чтобы не терять эти данные.   \n",
    "2.Округлила до целых чисел столбцы 'days_employed' и 'total_income'.  \n",
    "3.Выявлены аномальные значения в столбце `children`, но в связи с тем, что природу их установить не удалось, а количество таких данных составляет менее 1% было принято решения данные строки удалить.  \n",
    "4.Обнаружила закономерность: в столбце 'days_employed' значения указаны в днях, если с отрицаательными значениями при делении на 365 все более или менее логично, то положительные значения только у категорий пенсионеры и безработный, и эти положительные значения при делении 365 получаются запредельно большими. Но в связи с тем, что в выводах значения этого столца не участвуют, никаких изменеий с ним не производились, кроме округления до целых чисел.  \n",
    "5. Также в столбце `gender` обнаружено одно нестандартное значение. Т.к. это никак не повлияет на дальнейших ход исследования, данное значение оставлено без изменений."
   ]
  },
  {
   "cell_type": "markdown",
   "metadata": {},
   "source": [
    "### Обработка дубликатов"
   ]
  },
  {
   "cell_type": "markdown",
   "metadata": {},
   "source": [
    "Посчитаем, сколько же явных дубликатов в таблицу"
   ]
  },
  {
   "cell_type": "code",
   "execution_count": 21,
   "metadata": {
    "scrolled": true
   },
   "outputs": [
    {
     "data": {
      "text/plain": [
       "54"
      ]
     },
     "execution_count": 21,
     "metadata": {},
     "output_type": "execute_result"
    }
   ],
   "source": [
    "data.duplicated().sum()"
   ]
  },
  {
   "cell_type": "markdown",
   "metadata": {},
   "source": [
    "Проверим уникальные значения в столбце 'education'."
   ]
  },
  {
   "cell_type": "code",
   "execution_count": 22,
   "metadata": {
    "scrolled": true
   },
   "outputs": [
    {
     "data": {
      "text/plain": [
       "array(['высшее', 'среднее', 'Среднее', 'СРЕДНЕЕ', 'ВЫСШЕЕ',\n",
       "       'неоконченное высшее', 'начальное', 'Высшее',\n",
       "       'НЕОКОНЧЕННОЕ ВЫСШЕЕ', 'Неоконченное высшее', 'НАЧАЛЬНОЕ',\n",
       "       'Начальное', 'Ученая степень', 'УЧЕНАЯ СТЕПЕНЬ', 'ученая степень'],\n",
       "      dtype=object)"
      ]
     },
     "execution_count": 22,
     "metadata": {},
     "output_type": "execute_result"
    }
   ],
   "source": [
    "data['education'].unique()"
   ]
  },
  {
   "cell_type": "markdown",
   "metadata": {},
   "source": [
    "Как видно, в таблице много повтров в связи с тем, что разнится написание. Поэтому приведем все значения к нижнему ркгистру и избавимся от дубликатов."
   ]
  },
  {
   "cell_type": "code",
   "execution_count": 23,
   "metadata": {},
   "outputs": [
    {
     "data": {
      "text/plain": [
       "array(['высшее', 'среднее', 'неоконченное высшее', 'начальное',\n",
       "       'ученая степень'], dtype=object)"
      ]
     },
     "execution_count": 23,
     "metadata": {},
     "output_type": "execute_result"
    }
   ],
   "source": [
    "data['education'] = data['education'].str.lower()\n",
    "data['education'].unique()"
   ]
  },
  {
   "cell_type": "code",
   "execution_count": 24,
   "metadata": {
    "scrolled": true
   },
   "outputs": [
    {
     "data": {
      "text/plain": [
       "0"
      ]
     },
     "execution_count": 24,
     "metadata": {},
     "output_type": "execute_result"
    }
   ],
   "source": [
    "data = data.drop_duplicates().reset_index(drop=True)\n",
    "data.duplicated().sum()"
   ]
  },
  {
   "cell_type": "markdown",
   "metadata": {},
   "source": [
    "Проверим, что все дубликаты удалены."
   ]
  },
  {
   "cell_type": "code",
   "execution_count": 25,
   "metadata": {},
   "outputs": [
    {
     "data": {
      "text/plain": [
       "0"
      ]
     },
     "execution_count": 25,
     "metadata": {},
     "output_type": "execute_result"
    }
   ],
   "source": [
    "data.duplicated().sum()"
   ]
  },
  {
   "cell_type": "markdown",
   "metadata": {},
   "source": [
    "**Вывод**\n",
    "\n",
    "В процессе исследования было выявлено 54 дубликата и неявные дубликаты в столбце `education`, которые образовались из-за того, что значения были заполнены в разном регистре. После приведений значений в данном столбце к нижнему регистру, все дублирующиеся значения были удалены."
   ]
  },
  {
   "cell_type": "markdown",
   "metadata": {},
   "source": [
    "### Лемматизация"
   ]
  },
  {
   "cell_type": "markdown",
   "metadata": {},
   "source": [
    "Чтобы выявить основные цели получения кредита, провизведем лемматизацию и подчет наиболее часто встречающихся лемм для дальнейшей категоризации столбца `purpose`"
   ]
  },
  {
   "cell_type": "code",
   "execution_count": 26,
   "metadata": {
    "scrolled": true
   },
   "outputs": [
    {
     "data": {
      "text/plain": [
       "Counter({'покупка': 5865,\n",
       "         ' ': 54708,\n",
       "         'жилье': 4437,\n",
       "         'приобретение': 459,\n",
       "         'автомобиль': 4279,\n",
       "         'дополнительный': 899,\n",
       "         'образование': 3988,\n",
       "         'сыграть': 760,\n",
       "         'свадьба': 2313,\n",
       "         'операция': 2587,\n",
       "         'с': 2900,\n",
       "         'на': 2207,\n",
       "         'проведение': 763,\n",
       "         'для': 1286,\n",
       "         'семья': 637,\n",
       "         'недвижимость': 6314,\n",
       "         'коммерческий': 1303,\n",
       "         'жилой': 1222,\n",
       "         'строительство': 1867,\n",
       "         'собственный': 628,\n",
       "         'подержать': 842,\n",
       "         'свой': 2219,\n",
       "         'со': 623,\n",
       "         'заниматься': 904,\n",
       "         'сделка': 936,\n",
       "         'получение': 1309,\n",
       "         'высокий': 1367,\n",
       "         'подержанный': 110,\n",
       "         'профильный': 432,\n",
       "         'сдача': 649,\n",
       "         'ремонт': 604,\n",
       "         '\\n': 1})"
      ]
     },
     "metadata": {},
     "output_type": "display_data"
    }
   ],
   "source": [
    "text = \" \".join(data['purpose'])\n",
    "lemmas = m.lemmatize(text)\n",
    "display(Counter(lemmas))"
   ]
  },
  {
   "cell_type": "markdown",
   "metadata": {},
   "source": [
    "**Вывод**\n",
    "\n",
    "Лемматизация и подсчет лемм была произведена, для того чтобы выявить наиболее популярные слова. А это в дальнейщем поможет разбить эти значения на категории. В данном случае выявлены лидеры: жилье, недвижимость, автомобиль, свадьба, образование"
   ]
  },
  {
   "cell_type": "markdown",
   "metadata": {},
   "source": [
    "### Категоризация данных"
   ]
  },
  {
   "cell_type": "markdown",
   "metadata": {},
   "source": [
    "Для удобства создадим солццы `purpose_category` с категориями целей получения кредита: покупка недвтжимости, проведение свадьбы, покупка автомобиля и получение образования и `total_income_category` с категориями уровня ежемесячного дохода: низкий от 0 до 100000, средний от 100000 до 500000 и высокий от 500000 и выше."
   ]
  },
  {
   "cell_type": "code",
   "execution_count": 27,
   "metadata": {
    "scrolled": false
   },
   "outputs": [
    {
     "data": {
      "text/plain": [
       "array(['покупка недвижимости', 'покупка автомобиля',\n",
       "       'получение образования', 'проведение свадьбы'], dtype=object)"
      ]
     },
     "execution_count": 27,
     "metadata": {},
     "output_type": "execute_result"
    }
   ],
   "source": [
    "def scroll (purpose):\n",
    "    if  'недвижим' in purpose or 'жиль' in purpose:\n",
    "        return 'покупка недвижимости'\n",
    " \n",
    "    elif 'свадьб'in purpose:\n",
    "        return 'проведение свадьбы'\n",
    " \n",
    "    elif 'автомоб'in purpose:\n",
    "        return 'покупка автомобиля'\n",
    "    return 'получение образования'\n",
    "\n",
    "data['purpose_category'] = data['purpose'].apply(scroll)\n",
    "data['purpose_category'].unique()\n",
    "# для категоризации применена функция одной строки"
   ]
  },
  {
   "cell_type": "code",
   "execution_count": 28,
   "metadata": {
    "scrolled": true
   },
   "outputs": [
    {
     "data": {
      "text/plain": [
       "min      20667\n",
       "max    2265604\n",
       "Name: total_income, dtype: int64"
      ]
     },
     "execution_count": 28,
     "metadata": {},
     "output_type": "execute_result"
    }
   ],
   "source": [
    "data['total_income'].agg(['min', 'max'])"
   ]
  },
  {
   "cell_type": "code",
   "execution_count": 29,
   "metadata": {
    "scrolled": true
   },
   "outputs": [
    {
     "data": {
      "text/plain": [
       "4444"
      ]
     },
     "execution_count": 29,
     "metadata": {},
     "output_type": "execute_result"
    }
   ],
   "source": [
    "data.query('0 < total_income < 100000')['children'].count()"
   ]
  },
  {
   "cell_type": "code",
   "execution_count": 30,
   "metadata": {
    "scrolled": false
   },
   "outputs": [
    {
     "data": {
      "text/plain": [
       "16542"
      ]
     },
     "execution_count": 30,
     "metadata": {},
     "output_type": "execute_result"
    }
   ],
   "source": [
    "data.query('101000 <= total_income < 500000')['children'].count()"
   ]
  },
  {
   "cell_type": "code",
   "execution_count": 31,
   "metadata": {},
   "outputs": [
    {
     "data": {
      "text/plain": [
       "222"
      ]
     },
     "execution_count": 31,
     "metadata": {},
     "output_type": "execute_result"
    }
   ],
   "source": [
    "data.query('501000 <= total_income <= 2265604')['children'].count()"
   ]
  },
  {
   "cell_type": "code",
   "execution_count": 32,
   "metadata": {},
   "outputs": [
    {
     "data": {
      "text/plain": [
       "array(['средний доход', 'низкий доход', 'высокий доход'], dtype=object)"
      ]
     },
     "execution_count": 32,
     "metadata": {},
     "output_type": "execute_result"
    }
   ],
   "source": [
    "def counter(income):\n",
    "    if income <= 100000:\n",
    "        return 'низкий доход'\n",
    "    if income <= 500000:\n",
    "        return 'средний доход'\n",
    "    return 'высокий доход'\n",
    "data['total_income_category'] = data['total_income'].apply(counter)\n",
    "data['total_income_category'].unique()"
   ]
  },
  {
   "cell_type": "markdown",
   "metadata": {},
   "source": [
    "**Вывод**"
   ]
  },
  {
   "cell_type": "markdown",
   "metadata": {},
   "source": [
    "Добавлено 2 новых столбца 'purpose_category' и 'total_income_category' с категориями данных по целям кредита и доходу для проверки зависимости между семейным положением и возвратом кредита в срок, и зависимости между уровнем дохода и возврата кредита."
   ]
  },
  {
   "cell_type": "markdown",
   "metadata": {},
   "source": [
    "## Шаг 3. Ответьте на вопросы"
   ]
  },
  {
   "cell_type": "markdown",
   "metadata": {},
   "source": [
    "- Есть ли зависимость между наличием детей и возвратом кредита в срок?"
   ]
  },
  {
   "cell_type": "code",
   "execution_count": 33,
   "metadata": {},
   "outputs": [
    {
     "data": {
      "text/html": [
       "<div>\n",
       "<style scoped>\n",
       "    .dataframe tbody tr th:only-of-type {\n",
       "        vertical-align: middle;\n",
       "    }\n",
       "\n",
       "    .dataframe tbody tr th {\n",
       "        vertical-align: top;\n",
       "    }\n",
       "\n",
       "    .dataframe thead th {\n",
       "        text-align: right;\n",
       "    }\n",
       "</style>\n",
       "<table border=\"1\" class=\"dataframe\">\n",
       "  <thead>\n",
       "    <tr style=\"text-align: right;\">\n",
       "      <th></th>\n",
       "      <th>debt</th>\n",
       "    </tr>\n",
       "    <tr>\n",
       "      <th>children</th>\n",
       "      <th></th>\n",
       "    </tr>\n",
       "  </thead>\n",
       "  <tbody>\n",
       "    <tr>\n",
       "      <th>0</th>\n",
       "      <td>0.075438</td>\n",
       "    </tr>\n",
       "    <tr>\n",
       "      <th>1</th>\n",
       "      <td>0.092346</td>\n",
       "    </tr>\n",
       "    <tr>\n",
       "      <th>2</th>\n",
       "      <td>0.094542</td>\n",
       "    </tr>\n",
       "    <tr>\n",
       "      <th>3</th>\n",
       "      <td>0.081818</td>\n",
       "    </tr>\n",
       "    <tr>\n",
       "      <th>4</th>\n",
       "      <td>0.097561</td>\n",
       "    </tr>\n",
       "    <tr>\n",
       "      <th>5</th>\n",
       "      <td>0.000000</td>\n",
       "    </tr>\n",
       "  </tbody>\n",
       "</table>\n",
       "</div>"
      ],
      "text/plain": [
       "              debt\n",
       "children          \n",
       "0         0.075438\n",
       "1         0.092346\n",
       "2         0.094542\n",
       "3         0.081818\n",
       "4         0.097561\n",
       "5         0.000000"
      ]
     },
     "execution_count": 33,
     "metadata": {},
     "output_type": "execute_result"
    }
   ],
   "source": [
    "pivot_table_children = data.pivot_table(index= 'children', values='debt', aggfunc='mean')\n",
    "pivot_table_children"
   ]
  },
  {
   "cell_type": "markdown",
   "metadata": {},
   "source": [
    "**Вывод**\n",
    "\n",
    "При наличие детей в семье растет риск невыплаты по кредиту, вероятней всего это связано с увеличением финансовой нагрузки на каждого ребенка и соотвественно снижением платежеспособности по кредиту. Там где 5 детей показетель можно не принимать к расчету, т.к. таких клиентов вего 9 человек в таблице."
   ]
  },
  {
   "cell_type": "markdown",
   "metadata": {},
   "source": [
    "- Есть ли зависимость между семейным положением и возвратом кредита в срок?"
   ]
  },
  {
   "cell_type": "code",
   "execution_count": 34,
   "metadata": {},
   "outputs": [
    {
     "data": {
      "text/html": [
       "<div>\n",
       "<style scoped>\n",
       "    .dataframe tbody tr th:only-of-type {\n",
       "        vertical-align: middle;\n",
       "    }\n",
       "\n",
       "    .dataframe tbody tr th {\n",
       "        vertical-align: top;\n",
       "    }\n",
       "\n",
       "    .dataframe thead th {\n",
       "        text-align: right;\n",
       "    }\n",
       "</style>\n",
       "<table border=\"1\" class=\"dataframe\">\n",
       "  <thead>\n",
       "    <tr style=\"text-align: right;\">\n",
       "      <th></th>\n",
       "      <th>family_status</th>\n",
       "      <th>debt</th>\n",
       "    </tr>\n",
       "  </thead>\n",
       "  <tbody>\n",
       "    <tr>\n",
       "      <th>0</th>\n",
       "      <td>Не женат / не замужем</td>\n",
       "      <td>0.097639</td>\n",
       "    </tr>\n",
       "    <tr>\n",
       "      <th>1</th>\n",
       "      <td>в разводе</td>\n",
       "      <td>0.070648</td>\n",
       "    </tr>\n",
       "    <tr>\n",
       "      <th>2</th>\n",
       "      <td>вдовец / вдова</td>\n",
       "      <td>0.066246</td>\n",
       "    </tr>\n",
       "    <tr>\n",
       "      <th>3</th>\n",
       "      <td>гражданский брак</td>\n",
       "      <td>0.093130</td>\n",
       "    </tr>\n",
       "    <tr>\n",
       "      <th>4</th>\n",
       "      <td>женат / замужем</td>\n",
       "      <td>0.075606</td>\n",
       "    </tr>\n",
       "  </tbody>\n",
       "</table>\n",
       "</div>"
      ],
      "text/plain": [
       "           family_status      debt\n",
       "0  Не женат / не замужем  0.097639\n",
       "1              в разводе  0.070648\n",
       "2         вдовец / вдова  0.066246\n",
       "3       гражданский брак  0.093130\n",
       "4        женат / замужем  0.075606"
      ]
     },
     "execution_count": 34,
     "metadata": {},
     "output_type": "execute_result"
    }
   ],
   "source": [
    "family_status_table = data.pivot_table(index= 'family_status', values='debt', aggfunc='mean').reset_index()\n",
    "family_status_table"
   ]
  },
  {
   "cell_type": "markdown",
   "metadata": {},
   "source": [
    "**Вывод**\n",
    "\n",
    "Наибольшая доля невозврата у категории граждан без каких-либо официально оформленных отношений (не женат/не замужем и гражданский брак). Нет овественноси перед семьей = нет отвественности перед банком..?"
   ]
  },
  {
   "cell_type": "markdown",
   "metadata": {},
   "source": [
    "- Есть ли зависимость между уровнем дохода и возвратом кредита в срок?"
   ]
  },
  {
   "cell_type": "code",
   "execution_count": 35,
   "metadata": {
    "scrolled": true
   },
   "outputs": [
    {
     "data": {
      "text/html": [
       "<div>\n",
       "<style scoped>\n",
       "    .dataframe tbody tr th:only-of-type {\n",
       "        vertical-align: middle;\n",
       "    }\n",
       "\n",
       "    .dataframe tbody tr th {\n",
       "        vertical-align: top;\n",
       "    }\n",
       "\n",
       "    .dataframe thead th {\n",
       "        text-align: right;\n",
       "    }\n",
       "</style>\n",
       "<table border=\"1\" class=\"dataframe\">\n",
       "  <thead>\n",
       "    <tr style=\"text-align: right;\">\n",
       "      <th></th>\n",
       "      <th>debt</th>\n",
       "    </tr>\n",
       "    <tr>\n",
       "      <th>total_income_category</th>\n",
       "      <th></th>\n",
       "    </tr>\n",
       "  </thead>\n",
       "  <tbody>\n",
       "    <tr>\n",
       "      <th>высокий доход</th>\n",
       "      <td>0.063063</td>\n",
       "    </tr>\n",
       "    <tr>\n",
       "      <th>низкий доход</th>\n",
       "      <td>0.079658</td>\n",
       "    </tr>\n",
       "    <tr>\n",
       "      <th>средний доход</th>\n",
       "      <td>0.081848</td>\n",
       "    </tr>\n",
       "  </tbody>\n",
       "</table>\n",
       "</div>"
      ],
      "text/plain": [
       "                           debt\n",
       "total_income_category          \n",
       "высокий доход          0.063063\n",
       "низкий доход           0.079658\n",
       "средний доход          0.081848"
      ]
     },
     "execution_count": 35,
     "metadata": {},
     "output_type": "execute_result"
    }
   ],
   "source": [
    "total_income_table = data.pivot_table(index= 'total_income_category', values='debt', aggfunc='mean')\n",
    "total_income_table"
   ]
  },
  {
   "cell_type": "code",
   "execution_count": 36,
   "metadata": {},
   "outputs": [
    {
     "data": {
      "text/plain": [
       "total_income_category\n",
       "высокий доход      222\n",
       "низкий доход      4444\n",
       "средний доход    16665\n",
       "Name: total_income, dtype: int64"
      ]
     },
     "execution_count": 36,
     "metadata": {},
     "output_type": "execute_result"
    }
   ],
   "source": [
    "data.groupby('total_income_category')['total_income'].count()"
   ]
  },
  {
   "cell_type": "markdown",
   "metadata": {},
   "source": [
    "**Вывод**\n",
    "\n",
    "Самая высокая доля невозврата у категории заемщиков с высоким уровнем дохода. Возможно часть этих клиентов имеют свое дело и высокую кредитную нагрузку на его развитие, а возможно это опечатка при заполнении анкеты и , к примеру, был проставлен лишний ноль. Таких клиентов примерно 1%. Далее с небольшой разницей в доле невозврата идут низкий и средний уровень дохода."
   ]
  },
  {
   "cell_type": "markdown",
   "metadata": {},
   "source": [
    "- Как разные цели кредита влияют на его возврат в срок?"
   ]
  },
  {
   "cell_type": "code",
   "execution_count": 37,
   "metadata": {},
   "outputs": [
    {
     "data": {
      "text/html": [
       "<div>\n",
       "<style scoped>\n",
       "    .dataframe tbody tr th:only-of-type {\n",
       "        vertical-align: middle;\n",
       "    }\n",
       "\n",
       "    .dataframe tbody tr th {\n",
       "        vertical-align: top;\n",
       "    }\n",
       "\n",
       "    .dataframe thead th {\n",
       "        text-align: right;\n",
       "    }\n",
       "</style>\n",
       "<table border=\"1\" class=\"dataframe\">\n",
       "  <thead>\n",
       "    <tr style=\"text-align: right;\">\n",
       "      <th></th>\n",
       "      <th>debt</th>\n",
       "    </tr>\n",
       "    <tr>\n",
       "      <th>purpose_category</th>\n",
       "      <th></th>\n",
       "    </tr>\n",
       "  </thead>\n",
       "  <tbody>\n",
       "    <tr>\n",
       "      <th>покупка автомобиля</th>\n",
       "      <td>0.093480</td>\n",
       "    </tr>\n",
       "    <tr>\n",
       "      <th>покупка недвижимости</th>\n",
       "      <td>0.072551</td>\n",
       "    </tr>\n",
       "    <tr>\n",
       "      <th>получение образования</th>\n",
       "      <td>0.092528</td>\n",
       "    </tr>\n",
       "    <tr>\n",
       "      <th>проведение свадьбы</th>\n",
       "      <td>0.079118</td>\n",
       "    </tr>\n",
       "  </tbody>\n",
       "</table>\n",
       "</div>"
      ],
      "text/plain": [
       "                           debt\n",
       "purpose_category               \n",
       "покупка автомобиля     0.093480\n",
       "покупка недвижимости   0.072551\n",
       "получение образования  0.092528\n",
       "проведение свадьбы     0.079118"
      ]
     },
     "execution_count": 37,
     "metadata": {},
     "output_type": "execute_result"
    }
   ],
   "source": [
    "purpose_table = data.pivot_table(index='purpose_category', values='debt', aggfunc='mean')\n",
    "purpose_table"
   ]
  },
  {
   "cell_type": "code",
   "execution_count": 38,
   "metadata": {},
   "outputs": [
    {
     "data": {
      "text/plain": [
       "покупка недвижимости     10751\n",
       "покупка автомобиля        4279\n",
       "получение образования     3988\n",
       "проведение свадьбы        2313\n",
       "Name: purpose_category, dtype: int64"
      ]
     },
     "execution_count": 38,
     "metadata": {},
     "output_type": "execute_result"
    }
   ],
   "source": [
    "data['purpose_category'].value_counts()"
   ]
  },
  {
   "cell_type": "markdown",
   "metadata": {},
   "source": [
    "**Вывод**\n",
    "\n",
    "Кредит на образование и авто являются лидерами по невозврату. Количество клиентов по этим категориям тоже примерно схоже."
   ]
  },
  {
   "cell_type": "markdown",
   "metadata": {},
   "source": [
    "## Шаг 4. Общий вывод"
   ]
  },
  {
   "cell_type": "markdown",
   "metadata": {},
   "source": [
    "На мой взгляд, основными критериями для оценки возвратности по кредиту нужно брать доход и количество детей, т.к. это напрямую связано с платежеспособностью клиента. Семейное положение косвенно может дать представление, если принять в расчет, что отвеноность перед семьей = отвественность в общем и перед банком в частности. Касаемо целей, чем крупнее цель - тем более отвественный подход к ее реализации, но в нашем конкретном примере цель расходов свадьба на мой взгляд не самая крупная, но тут возможно предположение, описанное ранее отвественность перед семьей = отвественност перед банком."
   ]
  }
 ],
 "metadata": {
  "ExecuteTimeLog": [
   {
    "duration": 2335,
    "start_time": "2022-01-13T08:25:20.955Z"
   },
   {
    "duration": 1956,
    "start_time": "2022-01-13T08:25:29.495Z"
   },
   {
    "duration": 85,
    "start_time": "2022-01-13T08:26:20.197Z"
   },
   {
    "duration": 14,
    "start_time": "2022-01-13T08:57:43.615Z"
   },
   {
    "duration": 696,
    "start_time": "2022-01-13T10:10:38.561Z"
   },
   {
    "duration": 24,
    "start_time": "2022-01-13T10:13:04.332Z"
   },
   {
    "duration": 25,
    "start_time": "2022-01-13T10:13:40.565Z"
   },
   {
    "duration": 26,
    "start_time": "2022-01-13T10:15:26.005Z"
   },
   {
    "duration": 82,
    "start_time": "2022-01-13T10:16:43.409Z"
   },
   {
    "duration": 10,
    "start_time": "2022-01-13T10:19:36.146Z"
   },
   {
    "duration": 60,
    "start_time": "2022-01-13T10:23:06.257Z"
   },
   {
    "duration": 64,
    "start_time": "2022-01-13T10:23:35.167Z"
   },
   {
    "duration": 70,
    "start_time": "2022-01-13T13:13:06.928Z"
   },
   {
    "duration": 72,
    "start_time": "2022-01-13T13:13:25.775Z"
   },
   {
    "duration": 84,
    "start_time": "2022-01-13T13:14:53.738Z"
   },
   {
    "duration": 371,
    "start_time": "2022-01-13T13:17:16.075Z"
   },
   {
    "duration": 87,
    "start_time": "2022-01-13T13:17:23.947Z"
   },
   {
    "duration": 96,
    "start_time": "2022-01-13T13:26:11.759Z"
   },
   {
    "duration": 85,
    "start_time": "2022-01-13T13:26:41.646Z"
   },
   {
    "duration": 7,
    "start_time": "2022-01-13T13:37:11.200Z"
   },
   {
    "duration": 259,
    "start_time": "2022-01-13T13:38:19.084Z"
   },
   {
    "duration": 314,
    "start_time": "2022-01-13T13:38:59.777Z"
   },
   {
    "duration": 271,
    "start_time": "2022-01-13T13:39:08.039Z"
   },
   {
    "duration": 12,
    "start_time": "2022-01-13T13:39:15.213Z"
   },
   {
    "duration": 8,
    "start_time": "2022-01-13T13:41:05.603Z"
   },
   {
    "duration": 286,
    "start_time": "2022-01-13T13:42:23.522Z"
   },
   {
    "duration": 270,
    "start_time": "2022-01-13T13:42:30.554Z"
   },
   {
    "duration": 7,
    "start_time": "2022-01-13T13:43:01.187Z"
   },
   {
    "duration": 65,
    "start_time": "2022-01-13T13:46:22.889Z"
   },
   {
    "duration": 6,
    "start_time": "2022-01-13T13:46:38.118Z"
   },
   {
    "duration": 2274,
    "start_time": "2022-01-13T13:48:12.450Z"
   },
   {
    "duration": 7,
    "start_time": "2022-01-13T13:48:23.724Z"
   },
   {
    "duration": 85,
    "start_time": "2022-01-13T13:49:10.767Z"
   },
   {
    "duration": 64,
    "start_time": "2022-01-13T13:51:07.316Z"
   },
   {
    "duration": 63,
    "start_time": "2022-01-13T13:51:22.885Z"
   },
   {
    "duration": 69,
    "start_time": "2022-01-13T13:52:15.840Z"
   },
   {
    "duration": 66,
    "start_time": "2022-01-13T13:52:44.826Z"
   },
   {
    "duration": 10,
    "start_time": "2022-01-13T13:58:42.339Z"
   },
   {
    "duration": 84,
    "start_time": "2022-01-13T13:58:50.383Z"
   },
   {
    "duration": 64,
    "start_time": "2022-01-13T13:58:57.194Z"
   },
   {
    "duration": 168,
    "start_time": "2022-01-13T14:01:33.941Z"
   },
   {
    "duration": 145,
    "start_time": "2022-01-13T14:01:42.761Z"
   },
   {
    "duration": 259,
    "start_time": "2022-01-17T11:08:05.881Z"
   },
   {
    "duration": 899,
    "start_time": "2022-01-17T11:09:31.033Z"
   },
   {
    "duration": 67,
    "start_time": "2022-01-17T11:12:03.646Z"
   },
   {
    "duration": 64,
    "start_time": "2022-01-17T11:12:52.925Z"
   },
   {
    "duration": 28,
    "start_time": "2022-01-17T11:12:52.991Z"
   },
   {
    "duration": 5991,
    "start_time": "2022-01-17T11:12:53.022Z"
   },
   {
    "duration": 7,
    "start_time": "2022-01-17T11:13:32.347Z"
   },
   {
    "duration": 75,
    "start_time": "2022-01-17T11:13:49.752Z"
   },
   {
    "duration": 13,
    "start_time": "2022-01-17T11:17:09.633Z"
   },
   {
    "duration": 65,
    "start_time": "2022-01-17T11:18:02.613Z"
   },
   {
    "duration": 10,
    "start_time": "2022-01-17T11:18:02.681Z"
   },
   {
    "duration": 15,
    "start_time": "2022-01-17T11:18:02.693Z"
   },
   {
    "duration": 7,
    "start_time": "2022-01-17T11:18:02.709Z"
   },
   {
    "duration": 10,
    "start_time": "2022-01-17T11:18:36.106Z"
   },
   {
    "duration": 10,
    "start_time": "2022-01-17T11:20:44.363Z"
   },
   {
    "duration": 13,
    "start_time": "2022-01-17T11:21:38.880Z"
   },
   {
    "duration": 15,
    "start_time": "2022-01-17T11:23:33.595Z"
   },
   {
    "duration": 19,
    "start_time": "2022-01-17T11:24:26.137Z"
   },
   {
    "duration": 17,
    "start_time": "2022-01-17T11:24:34.024Z"
   },
   {
    "duration": 16,
    "start_time": "2022-01-17T11:24:52.008Z"
   },
   {
    "duration": 16,
    "start_time": "2022-01-17T11:25:14.087Z"
   },
   {
    "duration": 18,
    "start_time": "2022-01-17T11:25:26.615Z"
   },
   {
    "duration": 16,
    "start_time": "2022-01-17T11:25:39.511Z"
   },
   {
    "duration": 18,
    "start_time": "2022-01-17T11:29:29.988Z"
   },
   {
    "duration": 2904,
    "start_time": "2022-01-17T11:30:08.207Z"
   },
   {
    "duration": 3171,
    "start_time": "2022-01-17T11:31:53.359Z"
   },
   {
    "duration": 69,
    "start_time": "2022-01-17T11:32:20.087Z"
   },
   {
    "duration": 11,
    "start_time": "2022-01-17T11:32:20.158Z"
   },
   {
    "duration": 30,
    "start_time": "2022-01-17T11:32:20.171Z"
   },
   {
    "duration": 3543,
    "start_time": "2022-01-17T11:32:20.203Z"
   },
   {
    "duration": 2885,
    "start_time": "2022-01-17T11:33:08.723Z"
   },
   {
    "duration": 64,
    "start_time": "2022-01-17T11:33:24.423Z"
   },
   {
    "duration": 9,
    "start_time": "2022-01-17T11:33:24.489Z"
   },
   {
    "duration": 10,
    "start_time": "2022-01-17T11:33:24.500Z"
   },
   {
    "duration": 3994,
    "start_time": "2022-01-17T11:33:24.511Z"
   },
   {
    "duration": 3957,
    "start_time": "2022-01-17T11:33:54.594Z"
   },
   {
    "duration": 67,
    "start_time": "2022-01-17T11:34:01.839Z"
   },
   {
    "duration": 10,
    "start_time": "2022-01-17T11:34:01.908Z"
   },
   {
    "duration": 13,
    "start_time": "2022-01-17T11:34:01.920Z"
   },
   {
    "duration": 25,
    "start_time": "2022-01-17T11:34:01.935Z"
   },
   {
    "duration": 26,
    "start_time": "2022-01-17T11:44:08.726Z"
   },
   {
    "duration": 15,
    "start_time": "2022-01-17T11:45:25.217Z"
   },
   {
    "duration": 243,
    "start_time": "2022-01-17T11:55:57.132Z"
   },
   {
    "duration": 14,
    "start_time": "2022-01-17T11:56:23.178Z"
   },
   {
    "duration": 13,
    "start_time": "2022-01-17T11:57:11.064Z"
   },
   {
    "duration": 12,
    "start_time": "2022-01-17T11:58:20.341Z"
   },
   {
    "duration": 63,
    "start_time": "2022-01-17T11:58:24.618Z"
   },
   {
    "duration": 11,
    "start_time": "2022-01-17T11:58:24.683Z"
   },
   {
    "duration": 11,
    "start_time": "2022-01-17T11:58:24.696Z"
   },
   {
    "duration": 236,
    "start_time": "2022-01-17T11:58:24.709Z"
   },
   {
    "duration": 22,
    "start_time": "2022-01-17T12:02:55.546Z"
   },
   {
    "duration": 251,
    "start_time": "2022-01-17T12:03:24.743Z"
   },
   {
    "duration": 23,
    "start_time": "2022-01-17T12:03:30.375Z"
   },
   {
    "duration": 42,
    "start_time": "2022-01-17T13:06:23.020Z"
   },
   {
    "duration": 39,
    "start_time": "2022-01-17T13:06:29.312Z"
   },
   {
    "duration": 66,
    "start_time": "2022-01-17T13:06:37.335Z"
   },
   {
    "duration": 10,
    "start_time": "2022-01-17T13:06:37.403Z"
   },
   {
    "duration": 12,
    "start_time": "2022-01-17T13:06:37.415Z"
   },
   {
    "duration": 35,
    "start_time": "2022-01-17T13:06:37.429Z"
   },
   {
    "duration": 45,
    "start_time": "2022-01-17T13:07:01.399Z"
   },
   {
    "duration": 31,
    "start_time": "2022-01-17T13:08:05.751Z"
   },
   {
    "duration": 19,
    "start_time": "2022-01-17T13:08:22.933Z"
   },
   {
    "duration": 16,
    "start_time": "2022-01-17T13:08:33.891Z"
   },
   {
    "duration": 61,
    "start_time": "2022-01-17T13:08:46.216Z"
   },
   {
    "duration": 9,
    "start_time": "2022-01-17T13:08:46.278Z"
   },
   {
    "duration": 13,
    "start_time": "2022-01-17T13:08:46.289Z"
   },
   {
    "duration": 17,
    "start_time": "2022-01-17T13:08:46.303Z"
   },
   {
    "duration": 15,
    "start_time": "2022-01-17T13:09:09.923Z"
   },
   {
    "duration": 22,
    "start_time": "2022-01-17T13:13:39.958Z"
   },
   {
    "duration": 66,
    "start_time": "2022-01-17T13:13:55.604Z"
   },
   {
    "duration": 67,
    "start_time": "2022-01-17T13:16:12.720Z"
   },
   {
    "duration": 10,
    "start_time": "2022-01-17T13:16:12.788Z"
   },
   {
    "duration": 18,
    "start_time": "2022-01-17T13:16:12.800Z"
   },
   {
    "duration": 1344,
    "start_time": "2022-01-17T13:16:48.405Z"
   },
   {
    "duration": 20,
    "start_time": "2022-01-17T13:17:00.458Z"
   },
   {
    "duration": 20,
    "start_time": "2022-01-17T13:17:04.715Z"
   },
   {
    "duration": 21,
    "start_time": "2022-01-17T13:24:31.353Z"
   },
   {
    "duration": 3501,
    "start_time": "2022-01-17T13:24:51.046Z"
   },
   {
    "duration": 69,
    "start_time": "2022-01-17T13:25:25.488Z"
   },
   {
    "duration": 11,
    "start_time": "2022-01-17T13:25:25.560Z"
   },
   {
    "duration": 25,
    "start_time": "2022-01-17T13:25:25.573Z"
   },
   {
    "duration": 42,
    "start_time": "2022-01-17T13:25:25.600Z"
   },
   {
    "duration": 3506,
    "start_time": "2022-01-17T13:30:57.077Z"
   },
   {
    "duration": 3001,
    "start_time": "2022-01-17T13:31:12.772Z"
   },
   {
    "duration": 61,
    "start_time": "2022-01-17T13:31:38.443Z"
   },
   {
    "duration": 12,
    "start_time": "2022-01-17T13:31:38.507Z"
   },
   {
    "duration": 20,
    "start_time": "2022-01-17T13:31:38.521Z"
   },
   {
    "duration": 27,
    "start_time": "2022-01-17T13:31:38.543Z"
   },
   {
    "duration": 62,
    "start_time": "2022-01-17T13:33:06.549Z"
   },
   {
    "duration": 10,
    "start_time": "2022-01-17T13:33:06.613Z"
   },
   {
    "duration": 11,
    "start_time": "2022-01-17T13:33:06.625Z"
   },
   {
    "duration": 22,
    "start_time": "2022-01-17T13:33:06.638Z"
   },
   {
    "duration": 893,
    "start_time": "2022-01-17T18:08:39.922Z"
   },
   {
    "duration": 18,
    "start_time": "2022-01-17T18:08:40.819Z"
   },
   {
    "duration": 29,
    "start_time": "2022-01-17T18:08:40.840Z"
   },
   {
    "duration": 29,
    "start_time": "2022-01-17T18:08:40.872Z"
   },
   {
    "duration": 4652,
    "start_time": "2022-01-17T18:09:06.462Z"
   },
   {
    "duration": 358,
    "start_time": "2022-01-17T18:11:07.160Z"
   },
   {
    "duration": 575,
    "start_time": "2022-01-17T18:11:21.271Z"
   },
   {
    "duration": 15,
    "start_time": "2022-01-17T18:11:28.567Z"
   },
   {
    "duration": 8,
    "start_time": "2022-01-17T18:11:47.142Z"
   },
   {
    "duration": 332,
    "start_time": "2022-01-18T09:31:49.934Z"
   },
   {
    "duration": 859,
    "start_time": "2022-01-18T09:31:54.201Z"
   },
   {
    "duration": 15,
    "start_time": "2022-01-18T09:31:55.063Z"
   },
   {
    "duration": 17,
    "start_time": "2022-01-18T09:31:55.081Z"
   },
   {
    "duration": 416,
    "start_time": "2022-01-18T09:31:55.100Z"
   },
   {
    "duration": 18,
    "start_time": "2022-01-18T09:32:46.798Z"
   },
   {
    "duration": 301,
    "start_time": "2022-01-19T14:20:26.969Z"
   },
   {
    "duration": 884,
    "start_time": "2022-01-19T14:20:37.386Z"
   },
   {
    "duration": 539,
    "start_time": "2022-01-19T14:22:21.700Z"
   },
   {
    "duration": 788,
    "start_time": "2022-01-19T14:23:11.401Z"
   },
   {
    "duration": 83,
    "start_time": "2022-01-19T14:23:22.559Z"
   },
   {
    "duration": 23,
    "start_time": "2022-01-19T14:23:22.645Z"
   },
   {
    "duration": 19,
    "start_time": "2022-01-19T14:23:22.671Z"
   },
   {
    "duration": 80,
    "start_time": "2022-01-19T14:23:26.040Z"
   },
   {
    "duration": 14,
    "start_time": "2022-01-19T14:23:26.123Z"
   },
   {
    "duration": 27,
    "start_time": "2022-01-19T14:23:26.140Z"
   },
   {
    "duration": 4,
    "start_time": "2022-01-19T14:23:26.169Z"
   },
   {
    "duration": 5,
    "start_time": "2022-01-19T14:23:39.615Z"
   },
   {
    "duration": 421,
    "start_time": "2022-01-19T14:24:14.606Z"
   },
   {
    "duration": 298,
    "start_time": "2022-01-19T14:24:47.693Z"
   },
   {
    "duration": 1900,
    "start_time": "2022-01-19T14:25:19.788Z"
   },
   {
    "duration": 91,
    "start_time": "2022-01-19T15:08:42.661Z"
   },
   {
    "duration": 13,
    "start_time": "2022-01-19T15:09:15.955Z"
   },
   {
    "duration": 17,
    "start_time": "2022-01-19T15:10:31.758Z"
   },
   {
    "duration": 82,
    "start_time": "2022-01-19T15:12:10.304Z"
   },
   {
    "duration": 16,
    "start_time": "2022-01-19T15:12:10.389Z"
   },
   {
    "duration": 24,
    "start_time": "2022-01-19T15:12:10.407Z"
   },
   {
    "duration": 36,
    "start_time": "2022-01-19T15:12:10.433Z"
   },
   {
    "duration": 21,
    "start_time": "2022-01-19T15:12:10.471Z"
   },
   {
    "duration": 28,
    "start_time": "2022-01-19T15:15:06.106Z"
   },
   {
    "duration": 31,
    "start_time": "2022-01-19T15:15:27.905Z"
   },
   {
    "duration": 30,
    "start_time": "2022-01-19T15:16:01.511Z"
   },
   {
    "duration": 19,
    "start_time": "2022-01-19T15:17:34.718Z"
   },
   {
    "duration": 23,
    "start_time": "2022-01-19T15:21:27.848Z"
   },
   {
    "duration": 32,
    "start_time": "2022-01-19T15:21:45.987Z"
   },
   {
    "duration": 11,
    "start_time": "2022-01-19T15:22:16.726Z"
   },
   {
    "duration": 24,
    "start_time": "2022-01-19T15:22:46.060Z"
   },
   {
    "duration": 50,
    "start_time": "2022-01-19T15:23:01.531Z"
   },
   {
    "duration": 319,
    "start_time": "2022-01-19T15:29:12.946Z"
   },
   {
    "duration": 363,
    "start_time": "2022-01-19T15:29:42.057Z"
   },
   {
    "duration": 515,
    "start_time": "2022-01-19T15:32:36.726Z"
   },
   {
    "duration": 553,
    "start_time": "2022-01-19T15:36:01.961Z"
   },
   {
    "duration": 14,
    "start_time": "2022-01-19T15:38:04.034Z"
   },
   {
    "duration": 329,
    "start_time": "2022-01-19T15:42:41.783Z"
   },
   {
    "duration": 312,
    "start_time": "2022-01-19T15:45:13.775Z"
   },
   {
    "duration": 18,
    "start_time": "2022-01-19T15:47:33.921Z"
   },
   {
    "duration": 19,
    "start_time": "2022-01-19T15:47:37.672Z"
   },
   {
    "duration": 308,
    "start_time": "2022-01-19T15:47:44.663Z"
   },
   {
    "duration": 322,
    "start_time": "2022-01-19T15:52:40.307Z"
   },
   {
    "duration": 12,
    "start_time": "2022-01-19T15:59:12.505Z"
   },
   {
    "duration": 342,
    "start_time": "2022-01-19T17:35:37.101Z"
   },
   {
    "duration": 840,
    "start_time": "2022-01-19T17:35:48.223Z"
   },
   {
    "duration": 15,
    "start_time": "2022-01-19T17:35:49.067Z"
   },
   {
    "duration": 11,
    "start_time": "2022-01-19T17:35:49.086Z"
   },
   {
    "duration": 15,
    "start_time": "2022-01-19T17:35:49.100Z"
   },
   {
    "duration": 60,
    "start_time": "2022-01-19T17:35:49.118Z"
   },
   {
    "duration": 28,
    "start_time": "2022-01-19T17:35:49.181Z"
   },
   {
    "duration": 55,
    "start_time": "2022-01-19T17:35:49.212Z"
   },
   {
    "duration": 19,
    "start_time": "2022-01-19T17:35:49.270Z"
   },
   {
    "duration": 22,
    "start_time": "2022-01-19T17:35:49.292Z"
   },
   {
    "duration": 10,
    "start_time": "2022-01-19T17:35:49.317Z"
   },
   {
    "duration": 24,
    "start_time": "2022-01-19T17:35:49.364Z"
   },
   {
    "duration": 42,
    "start_time": "2022-01-19T17:35:49.390Z"
   },
   {
    "duration": 311,
    "start_time": "2022-01-19T17:35:49.435Z"
   },
   {
    "duration": 326,
    "start_time": "2022-01-19T17:35:49.422Z"
   },
   {
    "duration": 427,
    "start_time": "2022-01-19T17:54:17.801Z"
   },
   {
    "duration": 79,
    "start_time": "2022-01-19T17:54:31.442Z"
   },
   {
    "duration": 15,
    "start_time": "2022-01-19T17:54:31.524Z"
   },
   {
    "duration": 28,
    "start_time": "2022-01-19T17:54:31.543Z"
   },
   {
    "duration": 17,
    "start_time": "2022-01-19T17:54:31.575Z"
   },
   {
    "duration": 25,
    "start_time": "2022-01-19T17:54:31.595Z"
   },
   {
    "duration": 69,
    "start_time": "2022-01-19T17:54:31.623Z"
   },
   {
    "duration": 29,
    "start_time": "2022-01-19T17:54:31.695Z"
   },
   {
    "duration": 56,
    "start_time": "2022-01-19T17:54:31.726Z"
   },
   {
    "duration": 22,
    "start_time": "2022-01-19T17:54:31.785Z"
   },
   {
    "duration": 10,
    "start_time": "2022-01-19T17:54:31.810Z"
   },
   {
    "duration": 61,
    "start_time": "2022-01-19T17:54:31.822Z"
   },
   {
    "duration": 46,
    "start_time": "2022-01-19T17:54:31.885Z"
   },
   {
    "duration": 319,
    "start_time": "2022-01-19T17:54:31.933Z"
   },
   {
    "duration": 331,
    "start_time": "2022-01-19T17:54:31.923Z"
   },
   {
    "duration": 428,
    "start_time": "2022-01-19T17:57:39.733Z"
   },
   {
    "duration": 281,
    "start_time": "2022-01-19T18:01:53.594Z"
   },
   {
    "duration": 26,
    "start_time": "2022-01-19T18:04:19.579Z"
   },
   {
    "duration": 29,
    "start_time": "2022-01-19T18:04:56.306Z"
   },
   {
    "duration": 12,
    "start_time": "2022-01-19T18:17:55.318Z"
   },
   {
    "duration": 95,
    "start_time": "2022-01-19T18:28:56.323Z"
   },
   {
    "duration": 6,
    "start_time": "2022-01-19T18:31:43.398Z"
   },
   {
    "duration": 9,
    "start_time": "2022-01-19T18:32:02.510Z"
   },
   {
    "duration": 14,
    "start_time": "2022-01-19T18:32:57.273Z"
   },
   {
    "duration": 34,
    "start_time": "2022-01-19T18:33:07.348Z"
   },
   {
    "duration": 11,
    "start_time": "2022-01-19T18:37:32.852Z"
   },
   {
    "duration": 10,
    "start_time": "2022-01-19T18:41:19.100Z"
   },
   {
    "duration": 83,
    "start_time": "2022-01-20T07:08:51.295Z"
   },
   {
    "duration": 101,
    "start_time": "2022-01-20T07:09:18.143Z"
   },
   {
    "duration": 87,
    "start_time": "2022-01-20T07:11:11.096Z"
   },
   {
    "duration": 361,
    "start_time": "2022-01-20T07:14:34.512Z"
   },
   {
    "duration": 771,
    "start_time": "2022-01-20T07:14:54.781Z"
   },
   {
    "duration": 14,
    "start_time": "2022-01-20T07:14:55.555Z"
   },
   {
    "duration": 11,
    "start_time": "2022-01-20T07:14:55.573Z"
   },
   {
    "duration": 46,
    "start_time": "2022-01-20T07:14:55.587Z"
   },
   {
    "duration": 27,
    "start_time": "2022-01-20T07:14:55.636Z"
   },
   {
    "duration": 29,
    "start_time": "2022-01-20T07:14:55.665Z"
   },
   {
    "duration": 56,
    "start_time": "2022-01-20T07:14:55.697Z"
   },
   {
    "duration": 18,
    "start_time": "2022-01-20T07:14:55.755Z"
   },
   {
    "duration": 22,
    "start_time": "2022-01-20T07:14:55.776Z"
   },
   {
    "duration": 38,
    "start_time": "2022-01-20T07:14:55.800Z"
   },
   {
    "duration": 26,
    "start_time": "2022-01-20T07:14:55.841Z"
   },
   {
    "duration": 71,
    "start_time": "2022-01-20T07:14:55.869Z"
   },
   {
    "duration": 302,
    "start_time": "2022-01-20T07:14:55.943Z"
   },
   {
    "duration": -36,
    "start_time": "2022-01-20T07:14:56.284Z"
   },
   {
    "duration": -40,
    "start_time": "2022-01-20T07:14:56.290Z"
   },
   {
    "duration": -42,
    "start_time": "2022-01-20T07:14:56.293Z"
   },
   {
    "duration": -46,
    "start_time": "2022-01-20T07:14:56.299Z"
   },
   {
    "duration": 76,
    "start_time": "2022-01-20T07:15:27.965Z"
   },
   {
    "duration": 14,
    "start_time": "2022-01-20T07:15:28.044Z"
   },
   {
    "duration": 17,
    "start_time": "2022-01-20T07:15:28.062Z"
   },
   {
    "duration": 50,
    "start_time": "2022-01-20T07:15:28.083Z"
   },
   {
    "duration": 26,
    "start_time": "2022-01-20T07:15:28.136Z"
   },
   {
    "duration": 28,
    "start_time": "2022-01-20T07:15:28.165Z"
   },
   {
    "duration": 58,
    "start_time": "2022-01-20T07:15:28.195Z"
   },
   {
    "duration": 18,
    "start_time": "2022-01-20T07:15:28.255Z"
   },
   {
    "duration": 23,
    "start_time": "2022-01-20T07:15:28.276Z"
   },
   {
    "duration": 40,
    "start_time": "2022-01-20T07:15:28.301Z"
   },
   {
    "duration": 42,
    "start_time": "2022-01-20T07:15:28.344Z"
   },
   {
    "duration": 55,
    "start_time": "2022-01-20T07:15:28.388Z"
   },
   {
    "duration": 272,
    "start_time": "2022-01-20T07:15:28.446Z"
   },
   {
    "duration": -46,
    "start_time": "2022-01-20T07:15:28.766Z"
   },
   {
    "duration": -51,
    "start_time": "2022-01-20T07:15:28.773Z"
   },
   {
    "duration": -54,
    "start_time": "2022-01-20T07:15:28.777Z"
   },
   {
    "duration": -57,
    "start_time": "2022-01-20T07:15:28.781Z"
   },
   {
    "duration": 280,
    "start_time": "2022-01-20T07:18:55.042Z"
   },
   {
    "duration": 79,
    "start_time": "2022-01-20T07:19:00.254Z"
   },
   {
    "duration": 15,
    "start_time": "2022-01-20T07:19:00.335Z"
   },
   {
    "duration": 14,
    "start_time": "2022-01-20T07:19:00.354Z"
   },
   {
    "duration": 20,
    "start_time": "2022-01-20T07:19:00.371Z"
   },
   {
    "duration": 59,
    "start_time": "2022-01-20T07:19:00.393Z"
   },
   {
    "duration": 31,
    "start_time": "2022-01-20T07:19:00.454Z"
   },
   {
    "duration": 54,
    "start_time": "2022-01-20T07:19:00.488Z"
   },
   {
    "duration": 19,
    "start_time": "2022-01-20T07:19:00.544Z"
   },
   {
    "duration": 24,
    "start_time": "2022-01-20T07:19:00.567Z"
   },
   {
    "duration": 38,
    "start_time": "2022-01-20T07:19:00.594Z"
   },
   {
    "duration": 24,
    "start_time": "2022-01-20T07:19:00.635Z"
   },
   {
    "duration": 84,
    "start_time": "2022-01-20T07:19:00.662Z"
   },
   {
    "duration": 283,
    "start_time": "2022-01-20T07:19:00.748Z"
   },
   {
    "duration": -45,
    "start_time": "2022-01-20T07:19:01.078Z"
   },
   {
    "duration": -48,
    "start_time": "2022-01-20T07:19:01.082Z"
   },
   {
    "duration": -51,
    "start_time": "2022-01-20T07:19:01.087Z"
   },
   {
    "duration": -52,
    "start_time": "2022-01-20T07:19:01.089Z"
   },
   {
    "duration": 88,
    "start_time": "2022-01-20T07:19:13.014Z"
   },
   {
    "duration": 31,
    "start_time": "2022-01-20T07:19:13.105Z"
   },
   {
    "duration": 12,
    "start_time": "2022-01-20T07:19:13.139Z"
   },
   {
    "duration": 15,
    "start_time": "2022-01-20T07:19:13.154Z"
   },
   {
    "duration": 60,
    "start_time": "2022-01-20T07:19:13.172Z"
   },
   {
    "duration": 28,
    "start_time": "2022-01-20T07:19:13.235Z"
   },
   {
    "duration": 29,
    "start_time": "2022-01-20T07:19:13.266Z"
   },
   {
    "duration": 52,
    "start_time": "2022-01-20T07:19:13.297Z"
   },
   {
    "duration": 21,
    "start_time": "2022-01-20T07:19:13.353Z"
   },
   {
    "duration": 9,
    "start_time": "2022-01-20T07:19:13.377Z"
   },
   {
    "duration": 57,
    "start_time": "2022-01-20T07:19:13.388Z"
   },
   {
    "duration": 51,
    "start_time": "2022-01-20T07:19:13.448Z"
   },
   {
    "duration": 285,
    "start_time": "2022-01-20T07:19:13.501Z"
   },
   {
    "duration": -48,
    "start_time": "2022-01-20T07:19:13.836Z"
   },
   {
    "duration": -48,
    "start_time": "2022-01-20T07:19:13.838Z"
   },
   {
    "duration": -53,
    "start_time": "2022-01-20T07:19:13.844Z"
   },
   {
    "duration": -52,
    "start_time": "2022-01-20T07:19:13.845Z"
   },
   {
    "duration": 16,
    "start_time": "2022-01-20T07:28:57.992Z"
   },
   {
    "duration": -62,
    "start_time": "2022-01-20T07:29:10.525Z"
   },
   {
    "duration": 33,
    "start_time": "2022-01-20T07:29:22.474Z"
   },
   {
    "duration": 8,
    "start_time": "2022-01-20T07:30:18.230Z"
   },
   {
    "duration": 36,
    "start_time": "2022-01-20T07:32:01.153Z"
   },
   {
    "duration": 19,
    "start_time": "2022-01-20T07:32:27.518Z"
   },
   {
    "duration": 6,
    "start_time": "2022-01-20T07:37:24.919Z"
   },
   {
    "duration": 9,
    "start_time": "2022-01-20T07:37:33.135Z"
   },
   {
    "duration": 261,
    "start_time": "2022-01-20T07:38:57.166Z"
   },
   {
    "duration": 76,
    "start_time": "2022-01-20T07:39:02.178Z"
   },
   {
    "duration": 15,
    "start_time": "2022-01-20T07:39:02.256Z"
   },
   {
    "duration": 13,
    "start_time": "2022-01-20T07:39:02.274Z"
   },
   {
    "duration": 50,
    "start_time": "2022-01-20T07:39:02.290Z"
   },
   {
    "duration": 29,
    "start_time": "2022-01-20T07:39:02.343Z"
   },
   {
    "duration": 61,
    "start_time": "2022-01-20T07:39:02.375Z"
   },
   {
    "duration": 30,
    "start_time": "2022-01-20T07:39:02.439Z"
   },
   {
    "duration": 20,
    "start_time": "2022-01-20T07:39:02.472Z"
   },
   {
    "duration": 52,
    "start_time": "2022-01-20T07:39:02.496Z"
   },
   {
    "duration": 9,
    "start_time": "2022-01-20T07:39:02.551Z"
   },
   {
    "duration": 30,
    "start_time": "2022-01-20T07:39:02.563Z"
   },
   {
    "duration": 79,
    "start_time": "2022-01-20T07:39:02.596Z"
   },
   {
    "duration": 287,
    "start_time": "2022-01-20T07:39:02.678Z"
   },
   {
    "duration": -52,
    "start_time": "2022-01-20T07:39:03.019Z"
   },
   {
    "duration": -56,
    "start_time": "2022-01-20T07:39:03.024Z"
   },
   {
    "duration": -58,
    "start_time": "2022-01-20T07:39:03.028Z"
   },
   {
    "duration": 9,
    "start_time": "2022-01-20T07:41:44.229Z"
   },
   {
    "duration": 80,
    "start_time": "2022-01-20T07:45:38.169Z"
   },
   {
    "duration": 751,
    "start_time": "2022-01-20T07:45:45.017Z"
   },
   {
    "duration": 720,
    "start_time": "2022-01-20T07:47:05.335Z"
   },
   {
    "duration": 21,
    "start_time": "2022-01-20T07:52:26.302Z"
   },
   {
    "duration": 23,
    "start_time": "2022-01-20T07:52:56.438Z"
   },
   {
    "duration": 47,
    "start_time": "2022-01-20T07:53:03.030Z"
   },
   {
    "duration": 25,
    "start_time": "2022-01-20T07:53:44.579Z"
   },
   {
    "duration": 78,
    "start_time": "2022-01-20T07:53:48.280Z"
   },
   {
    "duration": 16,
    "start_time": "2022-01-20T07:53:48.362Z"
   },
   {
    "duration": 15,
    "start_time": "2022-01-20T07:53:48.383Z"
   },
   {
    "duration": 19,
    "start_time": "2022-01-20T07:53:48.433Z"
   },
   {
    "duration": 28,
    "start_time": "2022-01-20T07:53:48.456Z"
   },
   {
    "duration": 66,
    "start_time": "2022-01-20T07:53:48.487Z"
   },
   {
    "duration": 29,
    "start_time": "2022-01-20T07:53:48.556Z"
   },
   {
    "duration": 47,
    "start_time": "2022-01-20T07:53:48.589Z"
   },
   {
    "duration": 23,
    "start_time": "2022-01-20T07:53:48.638Z"
   },
   {
    "duration": 11,
    "start_time": "2022-01-20T07:53:48.664Z"
   },
   {
    "duration": 57,
    "start_time": "2022-01-20T07:53:48.677Z"
   },
   {
    "duration": 47,
    "start_time": "2022-01-20T07:53:48.736Z"
   },
   {
    "duration": 49,
    "start_time": "2022-01-20T07:53:48.785Z"
   },
   {
    "duration": 40,
    "start_time": "2022-01-20T07:53:48.836Z"
   },
   {
    "duration": 326,
    "start_time": "2022-01-20T07:53:48.879Z"
   },
   {
    "duration": -54,
    "start_time": "2022-01-20T07:53:49.262Z"
   },
   {
    "duration": -56,
    "start_time": "2022-01-20T07:53:49.266Z"
   },
   {
    "duration": -58,
    "start_time": "2022-01-20T07:53:49.270Z"
   },
   {
    "duration": 11,
    "start_time": "2022-01-20T07:54:23.074Z"
   },
   {
    "duration": 78,
    "start_time": "2022-01-20T07:54:30.712Z"
   },
   {
    "duration": 14,
    "start_time": "2022-01-20T07:54:30.792Z"
   },
   {
    "duration": 34,
    "start_time": "2022-01-20T07:54:30.811Z"
   },
   {
    "duration": 21,
    "start_time": "2022-01-20T07:54:30.848Z"
   },
   {
    "duration": 38,
    "start_time": "2022-01-20T07:54:30.872Z"
   },
   {
    "duration": 35,
    "start_time": "2022-01-20T07:54:30.934Z"
   },
   {
    "duration": 63,
    "start_time": "2022-01-20T07:54:30.971Z"
   },
   {
    "duration": 18,
    "start_time": "2022-01-20T07:54:31.038Z"
   },
   {
    "duration": 23,
    "start_time": "2022-01-20T07:54:31.059Z"
   },
   {
    "duration": 9,
    "start_time": "2022-01-20T07:54:31.084Z"
   },
   {
    "duration": 59,
    "start_time": "2022-01-20T07:54:31.095Z"
   },
   {
    "duration": 76,
    "start_time": "2022-01-20T07:54:31.157Z"
   },
   {
    "duration": 9,
    "start_time": "2022-01-20T07:54:31.235Z"
   },
   {
    "duration": 45,
    "start_time": "2022-01-20T07:54:31.247Z"
   },
   {
    "duration": 272,
    "start_time": "2022-01-20T07:54:31.294Z"
   },
   {
    "duration": -55,
    "start_time": "2022-01-20T07:54:31.624Z"
   },
   {
    "duration": -63,
    "start_time": "2022-01-20T07:54:31.633Z"
   },
   {
    "duration": -64,
    "start_time": "2022-01-20T07:54:31.636Z"
   },
   {
    "duration": 299,
    "start_time": "2022-01-20T08:00:03.210Z"
   },
   {
    "duration": 81,
    "start_time": "2022-01-20T08:00:15.341Z"
   },
   {
    "duration": 15,
    "start_time": "2022-01-20T08:00:15.433Z"
   },
   {
    "duration": 17,
    "start_time": "2022-01-20T08:00:15.451Z"
   },
   {
    "duration": 17,
    "start_time": "2022-01-20T08:00:15.470Z"
   },
   {
    "duration": 65,
    "start_time": "2022-01-20T08:00:15.489Z"
   },
   {
    "duration": 29,
    "start_time": "2022-01-20T08:00:15.556Z"
   },
   {
    "duration": 53,
    "start_time": "2022-01-20T08:00:15.587Z"
   },
   {
    "duration": 20,
    "start_time": "2022-01-20T08:00:15.643Z"
   },
   {
    "duration": 24,
    "start_time": "2022-01-20T08:00:15.665Z"
   },
   {
    "duration": 40,
    "start_time": "2022-01-20T08:00:15.692Z"
   },
   {
    "duration": 24,
    "start_time": "2022-01-20T08:00:15.734Z"
   },
   {
    "duration": 78,
    "start_time": "2022-01-20T08:00:15.761Z"
   },
   {
    "duration": 10,
    "start_time": "2022-01-20T08:00:15.842Z"
   },
   {
    "duration": 79,
    "start_time": "2022-01-20T08:00:15.855Z"
   },
   {
    "duration": 287,
    "start_time": "2022-01-20T08:00:15.936Z"
   },
   {
    "duration": -50,
    "start_time": "2022-01-20T08:00:16.276Z"
   },
   {
    "duration": -51,
    "start_time": "2022-01-20T08:00:16.278Z"
   },
   {
    "duration": -57,
    "start_time": "2022-01-20T08:00:16.285Z"
   },
   {
    "duration": 275,
    "start_time": "2022-01-20T08:00:32.304Z"
   },
   {
    "duration": 82,
    "start_time": "2022-01-20T08:05:39.994Z"
   },
   {
    "duration": 14,
    "start_time": "2022-01-20T08:05:40.079Z"
   },
   {
    "duration": 32,
    "start_time": "2022-01-20T08:05:40.097Z"
   },
   {
    "duration": 20,
    "start_time": "2022-01-20T08:05:40.132Z"
   },
   {
    "duration": 34,
    "start_time": "2022-01-20T08:05:40.154Z"
   },
   {
    "duration": 51,
    "start_time": "2022-01-20T08:05:40.190Z"
   },
   {
    "duration": 40,
    "start_time": "2022-01-20T08:05:40.243Z"
   },
   {
    "duration": 46,
    "start_time": "2022-01-20T08:05:40.288Z"
   },
   {
    "duration": 31,
    "start_time": "2022-01-20T08:05:40.337Z"
   },
   {
    "duration": 9,
    "start_time": "2022-01-20T08:05:40.371Z"
   },
   {
    "duration": 53,
    "start_time": "2022-01-20T08:05:40.383Z"
   },
   {
    "duration": 57,
    "start_time": "2022-01-20T08:05:40.439Z"
   },
   {
    "duration": 8,
    "start_time": "2022-01-20T08:05:40.498Z"
   },
   {
    "duration": 59,
    "start_time": "2022-01-20T08:05:40.508Z"
   },
   {
    "duration": 255,
    "start_time": "2022-01-20T08:05:40.570Z"
   },
   {
    "duration": -62,
    "start_time": "2022-01-20T08:05:40.889Z"
   },
   {
    "duration": -67,
    "start_time": "2022-01-20T08:05:40.895Z"
   },
   {
    "duration": -68,
    "start_time": "2022-01-20T08:05:40.898Z"
   },
   {
    "duration": 286,
    "start_time": "2022-01-20T08:05:50.931Z"
   },
   {
    "duration": 318,
    "start_time": "2022-01-20T08:06:08.513Z"
   },
   {
    "duration": 109,
    "start_time": "2022-01-20T08:06:18.989Z"
   },
   {
    "duration": 14,
    "start_time": "2022-01-20T08:06:19.100Z"
   },
   {
    "duration": 18,
    "start_time": "2022-01-20T08:06:19.132Z"
   },
   {
    "duration": 20,
    "start_time": "2022-01-20T08:06:19.153Z"
   },
   {
    "duration": 63,
    "start_time": "2022-01-20T08:06:19.176Z"
   },
   {
    "duration": 31,
    "start_time": "2022-01-20T08:06:19.242Z"
   },
   {
    "duration": 28,
    "start_time": "2022-01-20T08:06:19.275Z"
   },
   {
    "duration": 45,
    "start_time": "2022-01-20T08:06:19.305Z"
   },
   {
    "duration": 23,
    "start_time": "2022-01-20T08:06:19.354Z"
   },
   {
    "duration": 10,
    "start_time": "2022-01-20T08:06:19.379Z"
   },
   {
    "duration": 61,
    "start_time": "2022-01-20T08:06:19.391Z"
   },
   {
    "duration": 55,
    "start_time": "2022-01-20T08:06:19.454Z"
   },
   {
    "duration": 27,
    "start_time": "2022-01-20T08:06:19.511Z"
   },
   {
    "duration": 57,
    "start_time": "2022-01-20T08:06:19.540Z"
   },
   {
    "duration": 279,
    "start_time": "2022-01-20T08:06:19.600Z"
   },
   {
    "duration": -61,
    "start_time": "2022-01-20T08:06:19.943Z"
   },
   {
    "duration": -64,
    "start_time": "2022-01-20T08:06:19.947Z"
   },
   {
    "duration": -66,
    "start_time": "2022-01-20T08:06:19.950Z"
   },
   {
    "duration": 23,
    "start_time": "2022-01-20T08:07:55.260Z"
   },
   {
    "duration": 14,
    "start_time": "2022-01-20T08:08:34.170Z"
   },
   {
    "duration": 77,
    "start_time": "2022-01-20T08:09:06.650Z"
   },
   {
    "duration": 13,
    "start_time": "2022-01-20T08:09:06.730Z"
   },
   {
    "duration": 12,
    "start_time": "2022-01-20T08:09:06.747Z"
   },
   {
    "duration": 18,
    "start_time": "2022-01-20T08:09:06.762Z"
   },
   {
    "duration": 64,
    "start_time": "2022-01-20T08:09:06.783Z"
   },
   {
    "duration": 30,
    "start_time": "2022-01-20T08:09:06.849Z"
   },
   {
    "duration": 58,
    "start_time": "2022-01-20T08:09:06.881Z"
   },
   {
    "duration": 19,
    "start_time": "2022-01-20T08:09:06.942Z"
   },
   {
    "duration": 21,
    "start_time": "2022-01-20T08:09:06.964Z"
   },
   {
    "duration": 10,
    "start_time": "2022-01-20T08:09:06.987Z"
   },
   {
    "duration": 54,
    "start_time": "2022-01-20T08:09:06.999Z"
   },
   {
    "duration": 45,
    "start_time": "2022-01-20T08:09:07.055Z"
   },
   {
    "duration": 35,
    "start_time": "2022-01-20T08:09:07.103Z"
   },
   {
    "duration": 13,
    "start_time": "2022-01-20T08:09:07.141Z"
   },
   {
    "duration": 263,
    "start_time": "2022-01-20T08:09:07.156Z"
   },
   {
    "duration": -59,
    "start_time": "2022-01-20T08:09:07.480Z"
   },
   {
    "duration": -59,
    "start_time": "2022-01-20T08:09:07.482Z"
   },
   {
    "duration": -62,
    "start_time": "2022-01-20T08:09:07.487Z"
   },
   {
    "duration": 258,
    "start_time": "2022-01-20T08:09:16.121Z"
   },
   {
    "duration": 76,
    "start_time": "2022-01-20T08:09:25.623Z"
   },
   {
    "duration": 31,
    "start_time": "2022-01-20T08:09:25.701Z"
   },
   {
    "duration": 13,
    "start_time": "2022-01-20T08:09:25.735Z"
   },
   {
    "duration": 18,
    "start_time": "2022-01-20T08:09:25.752Z"
   },
   {
    "duration": 64,
    "start_time": "2022-01-20T08:09:25.772Z"
   },
   {
    "duration": 29,
    "start_time": "2022-01-20T08:09:25.838Z"
   },
   {
    "duration": 30,
    "start_time": "2022-01-20T08:09:25.869Z"
   },
   {
    "duration": 46,
    "start_time": "2022-01-20T08:09:25.901Z"
   },
   {
    "duration": 23,
    "start_time": "2022-01-20T08:09:25.951Z"
   },
   {
    "duration": 10,
    "start_time": "2022-01-20T08:09:25.977Z"
   },
   {
    "duration": 59,
    "start_time": "2022-01-20T08:09:25.991Z"
   },
   {
    "duration": 48,
    "start_time": "2022-01-20T08:09:26.053Z"
   },
   {
    "duration": 30,
    "start_time": "2022-01-20T08:09:26.104Z"
   },
   {
    "duration": 14,
    "start_time": "2022-01-20T08:09:26.136Z"
   },
   {
    "duration": 280,
    "start_time": "2022-01-20T08:09:26.153Z"
   },
   {
    "duration": -64,
    "start_time": "2022-01-20T08:09:26.500Z"
   },
   {
    "duration": -65,
    "start_time": "2022-01-20T08:09:26.503Z"
   },
   {
    "duration": -64,
    "start_time": "2022-01-20T08:09:26.504Z"
   },
   {
    "duration": 12,
    "start_time": "2022-01-20T08:11:17.187Z"
   },
   {
    "duration": 33,
    "start_time": "2022-01-20T08:11:39.555Z"
   },
   {
    "duration": 258,
    "start_time": "2022-01-20T08:18:36.072Z"
   },
   {
    "duration": 37,
    "start_time": "2022-01-20T08:18:52.287Z"
   },
   {
    "duration": 31,
    "start_time": "2022-01-20T08:20:01.021Z"
   },
   {
    "duration": 270,
    "start_time": "2022-01-20T08:35:19.771Z"
   },
   {
    "duration": 78,
    "start_time": "2022-01-20T08:35:42.113Z"
   },
   {
    "duration": 16,
    "start_time": "2022-01-20T08:35:42.195Z"
   },
   {
    "duration": 14,
    "start_time": "2022-01-20T08:35:42.234Z"
   },
   {
    "duration": 16,
    "start_time": "2022-01-20T08:35:42.251Z"
   },
   {
    "duration": 26,
    "start_time": "2022-01-20T08:35:42.270Z"
   },
   {
    "duration": 64,
    "start_time": "2022-01-20T08:35:42.298Z"
   },
   {
    "duration": 28,
    "start_time": "2022-01-20T08:35:42.364Z"
   },
   {
    "duration": 50,
    "start_time": "2022-01-20T08:35:42.394Z"
   },
   {
    "duration": 23,
    "start_time": "2022-01-20T08:35:42.449Z"
   },
   {
    "duration": 10,
    "start_time": "2022-01-20T08:35:42.475Z"
   },
   {
    "duration": 61,
    "start_time": "2022-01-20T08:35:42.488Z"
   },
   {
    "duration": 56,
    "start_time": "2022-01-20T08:35:42.551Z"
   },
   {
    "duration": 25,
    "start_time": "2022-01-20T08:35:42.609Z"
   },
   {
    "duration": 13,
    "start_time": "2022-01-20T08:35:42.637Z"
   },
   {
    "duration": 274,
    "start_time": "2022-01-20T08:35:42.652Z"
   },
   {
    "duration": -70,
    "start_time": "2022-01-20T08:35:42.998Z"
   },
   {
    "duration": -73,
    "start_time": "2022-01-20T08:35:43.003Z"
   },
   {
    "duration": -82,
    "start_time": "2022-01-20T08:35:43.013Z"
   },
   {
    "duration": -83,
    "start_time": "2022-01-20T08:35:43.016Z"
   },
   {
    "duration": 262,
    "start_time": "2022-01-20T08:35:48.591Z"
   },
   {
    "duration": 394,
    "start_time": "2022-01-20T08:36:22.142Z"
   },
   {
    "duration": 284,
    "start_time": "2022-01-20T08:36:56.473Z"
   },
   {
    "duration": 81,
    "start_time": "2022-01-20T08:41:06.142Z"
   },
   {
    "duration": 22,
    "start_time": "2022-01-20T08:41:06.226Z"
   },
   {
    "duration": 13,
    "start_time": "2022-01-20T08:41:06.252Z"
   },
   {
    "duration": 16,
    "start_time": "2022-01-20T08:41:06.268Z"
   },
   {
    "duration": 72,
    "start_time": "2022-01-20T08:41:06.286Z"
   },
   {
    "duration": 39,
    "start_time": "2022-01-20T08:41:06.361Z"
   },
   {
    "duration": 63,
    "start_time": "2022-01-20T08:41:06.403Z"
   },
   {
    "duration": 27,
    "start_time": "2022-01-20T08:41:06.469Z"
   },
   {
    "duration": 59,
    "start_time": "2022-01-20T08:41:06.501Z"
   },
   {
    "duration": 19,
    "start_time": "2022-01-20T08:41:06.563Z"
   },
   {
    "duration": 60,
    "start_time": "2022-01-20T08:41:06.585Z"
   },
   {
    "duration": 52,
    "start_time": "2022-01-20T08:41:06.648Z"
   },
   {
    "duration": 31,
    "start_time": "2022-01-20T08:41:06.702Z"
   },
   {
    "duration": 13,
    "start_time": "2022-01-20T08:41:06.736Z"
   },
   {
    "duration": 294,
    "start_time": "2022-01-20T08:41:06.752Z"
   },
   {
    "duration": -72,
    "start_time": "2022-01-20T08:41:07.122Z"
   },
   {
    "duration": -79,
    "start_time": "2022-01-20T08:41:07.131Z"
   },
   {
    "duration": -81,
    "start_time": "2022-01-20T08:41:07.135Z"
   },
   {
    "duration": -83,
    "start_time": "2022-01-20T08:41:07.139Z"
   },
   {
    "duration": 49,
    "start_time": "2022-01-20T08:41:39.284Z"
   },
   {
    "duration": 55,
    "start_time": "2022-01-20T08:41:44.805Z"
   },
   {
    "duration": 119,
    "start_time": "2022-01-20T08:41:55.116Z"
   },
   {
    "duration": 22,
    "start_time": "2022-01-20T08:41:55.238Z"
   },
   {
    "duration": 17,
    "start_time": "2022-01-20T08:41:55.263Z"
   },
   {
    "duration": 57,
    "start_time": "2022-01-20T08:41:55.284Z"
   },
   {
    "duration": 38,
    "start_time": "2022-01-20T08:41:55.344Z"
   },
   {
    "duration": 65,
    "start_time": "2022-01-20T08:41:55.385Z"
   },
   {
    "duration": 41,
    "start_time": "2022-01-20T08:41:55.453Z"
   },
   {
    "duration": 50,
    "start_time": "2022-01-20T08:41:55.497Z"
   },
   {
    "duration": 32,
    "start_time": "2022-01-20T08:41:55.552Z"
   },
   {
    "duration": 10,
    "start_time": "2022-01-20T08:41:55.586Z"
   },
   {
    "duration": 56,
    "start_time": "2022-01-20T08:41:55.598Z"
   },
   {
    "duration": 53,
    "start_time": "2022-01-20T08:41:55.656Z"
   },
   {
    "duration": 26,
    "start_time": "2022-01-20T08:41:55.712Z"
   },
   {
    "duration": 13,
    "start_time": "2022-01-20T08:41:55.740Z"
   },
   {
    "duration": 273,
    "start_time": "2022-01-20T08:41:55.755Z"
   },
   {
    "duration": -62,
    "start_time": "2022-01-20T08:41:56.092Z"
   },
   {
    "duration": -64,
    "start_time": "2022-01-20T08:41:56.096Z"
   },
   {
    "duration": -68,
    "start_time": "2022-01-20T08:41:56.101Z"
   },
   {
    "duration": -70,
    "start_time": "2022-01-20T08:41:56.105Z"
   },
   {
    "duration": 266,
    "start_time": "2022-01-20T08:42:19.461Z"
   },
   {
    "duration": 43,
    "start_time": "2022-01-20T08:44:29.789Z"
   },
   {
    "duration": 44,
    "start_time": "2022-01-20T08:44:34.756Z"
   },
   {
    "duration": 49,
    "start_time": "2022-01-20T08:44:42.444Z"
   },
   {
    "duration": 35,
    "start_time": "2022-01-20T08:44:49.947Z"
   },
   {
    "duration": 21,
    "start_time": "2022-01-20T08:45:13.769Z"
   },
   {
    "duration": 296,
    "start_time": "2022-01-20T08:45:54.088Z"
   },
   {
    "duration": 307,
    "start_time": "2022-01-20T08:46:33.320Z"
   },
   {
    "duration": 33,
    "start_time": "2022-01-20T08:46:41.750Z"
   },
   {
    "duration": 37,
    "start_time": "2022-01-20T08:46:48.311Z"
   },
   {
    "duration": 299,
    "start_time": "2022-01-20T08:46:51.877Z"
   },
   {
    "duration": 20,
    "start_time": "2022-01-20T08:47:06.181Z"
   },
   {
    "duration": 330,
    "start_time": "2022-01-20T08:47:49.972Z"
   },
   {
    "duration": 17,
    "start_time": "2022-01-20T09:31:29.496Z"
   },
   {
    "duration": 272,
    "start_time": "2022-01-20T09:31:54.230Z"
   },
   {
    "duration": 18,
    "start_time": "2022-01-20T09:32:08.822Z"
   },
   {
    "duration": 3308,
    "start_time": "2022-01-20T09:35:44.914Z"
   },
   {
    "duration": 3282,
    "start_time": "2022-01-20T09:36:24.057Z"
   },
   {
    "duration": 308,
    "start_time": "2022-01-20T09:40:20.071Z"
   },
   {
    "duration": 18,
    "start_time": "2022-01-20T09:40:41.894Z"
   },
   {
    "duration": 18,
    "start_time": "2022-01-20T09:42:19.696Z"
   },
   {
    "duration": 81,
    "start_time": "2022-01-20T09:42:28.816Z"
   },
   {
    "duration": 38,
    "start_time": "2022-01-20T09:42:28.901Z"
   },
   {
    "duration": 13,
    "start_time": "2022-01-20T09:42:28.947Z"
   },
   {
    "duration": 15,
    "start_time": "2022-01-20T09:42:28.963Z"
   },
   {
    "duration": 62,
    "start_time": "2022-01-20T09:42:28.981Z"
   },
   {
    "duration": 28,
    "start_time": "2022-01-20T09:42:29.046Z"
   },
   {
    "duration": 28,
    "start_time": "2022-01-20T09:42:29.077Z"
   },
   {
    "duration": 19,
    "start_time": "2022-01-20T09:42:29.133Z"
   },
   {
    "duration": 28,
    "start_time": "2022-01-20T09:42:29.155Z"
   },
   {
    "duration": 10,
    "start_time": "2022-01-20T09:42:29.185Z"
   },
   {
    "duration": 54,
    "start_time": "2022-01-20T09:42:29.197Z"
   },
   {
    "duration": 49,
    "start_time": "2022-01-20T09:42:29.254Z"
   },
   {
    "duration": 29,
    "start_time": "2022-01-20T09:42:29.305Z"
   },
   {
    "duration": 14,
    "start_time": "2022-01-20T09:42:29.337Z"
   },
   {
    "duration": 3263,
    "start_time": "2022-01-20T09:42:29.353Z"
   },
   {
    "duration": 43,
    "start_time": "2022-01-20T09:42:32.619Z"
   },
   {
    "duration": 30,
    "start_time": "2022-01-20T09:42:32.664Z"
   },
   {
    "duration": 50,
    "start_time": "2022-01-20T09:42:32.696Z"
   },
   {
    "duration": 20,
    "start_time": "2022-01-20T09:42:41.647Z"
   },
   {
    "duration": 45,
    "start_time": "2022-01-20T09:43:24.559Z"
   },
   {
    "duration": 19,
    "start_time": "2022-01-20T09:44:11.707Z"
   },
   {
    "duration": 330,
    "start_time": "2022-01-20T12:11:18.384Z"
   },
   {
    "duration": 932,
    "start_time": "2022-01-20T12:11:23.213Z"
   },
   {
    "duration": 17,
    "start_time": "2022-01-20T12:11:24.149Z"
   },
   {
    "duration": 12,
    "start_time": "2022-01-20T12:11:24.170Z"
   },
   {
    "duration": 22,
    "start_time": "2022-01-20T12:11:24.185Z"
   },
   {
    "duration": 33,
    "start_time": "2022-01-20T12:11:24.232Z"
   },
   {
    "duration": 29,
    "start_time": "2022-01-20T12:11:24.267Z"
   },
   {
    "duration": 65,
    "start_time": "2022-01-20T12:11:24.299Z"
   },
   {
    "duration": 25,
    "start_time": "2022-01-20T12:11:24.367Z"
   },
   {
    "duration": 59,
    "start_time": "2022-01-20T12:11:24.396Z"
   },
   {
    "duration": 10,
    "start_time": "2022-01-20T12:11:24.457Z"
   },
   {
    "duration": 28,
    "start_time": "2022-01-20T12:11:24.470Z"
   },
   {
    "duration": 93,
    "start_time": "2022-01-20T12:11:24.501Z"
   },
   {
    "duration": 34,
    "start_time": "2022-01-20T12:11:24.598Z"
   },
   {
    "duration": 50,
    "start_time": "2022-01-20T12:11:24.636Z"
   },
   {
    "duration": 703,
    "start_time": "2022-01-20T12:11:24.688Z"
   },
   {
    "duration": 597,
    "start_time": "2022-01-20T12:11:24.797Z"
   },
   {
    "duration": 595,
    "start_time": "2022-01-20T12:11:24.800Z"
   },
   {
    "duration": 592,
    "start_time": "2022-01-20T12:11:24.805Z"
   },
   {
    "duration": 427,
    "start_time": "2022-01-20T12:11:36.476Z"
   },
   {
    "duration": 79,
    "start_time": "2022-01-20T12:14:29.842Z"
   },
   {
    "duration": 16,
    "start_time": "2022-01-20T12:14:29.923Z"
   },
   {
    "duration": 15,
    "start_time": "2022-01-20T12:14:29.944Z"
   },
   {
    "duration": 20,
    "start_time": "2022-01-20T12:14:29.962Z"
   },
   {
    "duration": 68,
    "start_time": "2022-01-20T12:14:29.985Z"
   },
   {
    "duration": 30,
    "start_time": "2022-01-20T12:14:30.056Z"
   },
   {
    "duration": 60,
    "start_time": "2022-01-20T12:14:30.088Z"
   },
   {
    "duration": 21,
    "start_time": "2022-01-20T12:14:30.150Z"
   },
   {
    "duration": 22,
    "start_time": "2022-01-20T12:14:30.175Z"
   },
   {
    "duration": 40,
    "start_time": "2022-01-20T12:14:30.200Z"
   },
   {
    "duration": 41,
    "start_time": "2022-01-20T12:14:30.243Z"
   },
   {
    "duration": 58,
    "start_time": "2022-01-20T12:14:30.287Z"
   },
   {
    "duration": 10,
    "start_time": "2022-01-20T12:14:30.348Z"
   },
   {
    "duration": 45,
    "start_time": "2022-01-20T12:14:30.361Z"
   },
   {
    "duration": 83,
    "start_time": "2022-01-20T12:15:49.244Z"
   },
   {
    "duration": 16,
    "start_time": "2022-01-20T12:15:49.330Z"
   },
   {
    "duration": 24,
    "start_time": "2022-01-20T12:15:49.349Z"
   },
   {
    "duration": 18,
    "start_time": "2022-01-20T12:15:49.377Z"
   },
   {
    "duration": 60,
    "start_time": "2022-01-20T12:15:49.398Z"
   },
   {
    "duration": 30,
    "start_time": "2022-01-20T12:15:49.461Z"
   },
   {
    "duration": 64,
    "start_time": "2022-01-20T12:15:49.494Z"
   },
   {
    "duration": 19,
    "start_time": "2022-01-20T12:15:49.561Z"
   },
   {
    "duration": 22,
    "start_time": "2022-01-20T12:15:49.582Z"
   },
   {
    "duration": 40,
    "start_time": "2022-01-20T12:15:49.607Z"
   },
   {
    "duration": 32,
    "start_time": "2022-01-20T12:15:49.650Z"
   },
   {
    "duration": 68,
    "start_time": "2022-01-20T12:15:49.685Z"
   },
   {
    "duration": 9,
    "start_time": "2022-01-20T12:15:49.756Z"
   },
   {
    "duration": 46,
    "start_time": "2022-01-20T12:15:49.767Z"
   },
   {
    "duration": 277,
    "start_time": "2022-01-20T12:15:49.834Z"
   },
   {
    "duration": 580,
    "start_time": "2022-01-20T12:15:49.533Z"
   },
   {
    "duration": 579,
    "start_time": "2022-01-20T12:15:49.535Z"
   },
   {
    "duration": 580,
    "start_time": "2022-01-20T12:15:49.536Z"
   },
   {
    "duration": 40,
    "start_time": "2022-01-20T12:16:08.962Z"
   },
   {
    "duration": 270,
    "start_time": "2022-01-20T12:16:11.345Z"
   },
   {
    "duration": 1257,
    "start_time": "2022-01-20T12:16:14.226Z"
   },
   {
    "duration": 89,
    "start_time": "2022-01-20T12:16:23.090Z"
   },
   {
    "duration": 84,
    "start_time": "2022-01-20T12:16:31.764Z"
   },
   {
    "duration": 14,
    "start_time": "2022-01-20T12:16:31.850Z"
   },
   {
    "duration": 13,
    "start_time": "2022-01-20T12:16:31.867Z"
   },
   {
    "duration": 17,
    "start_time": "2022-01-20T12:16:31.882Z"
   },
   {
    "duration": 58,
    "start_time": "2022-01-20T12:16:31.901Z"
   },
   {
    "duration": 28,
    "start_time": "2022-01-20T12:16:31.962Z"
   },
   {
    "duration": 59,
    "start_time": "2022-01-20T12:16:31.993Z"
   },
   {
    "duration": 19,
    "start_time": "2022-01-20T12:16:32.054Z"
   },
   {
    "duration": 21,
    "start_time": "2022-01-20T12:16:32.076Z"
   },
   {
    "duration": 41,
    "start_time": "2022-01-20T12:16:32.100Z"
   },
   {
    "duration": 29,
    "start_time": "2022-01-20T12:16:32.145Z"
   },
   {
    "duration": 70,
    "start_time": "2022-01-20T12:16:32.176Z"
   },
   {
    "duration": 10,
    "start_time": "2022-01-20T12:16:32.249Z"
   },
   {
    "duration": 43,
    "start_time": "2022-01-20T12:16:32.262Z"
   },
   {
    "duration": 402,
    "start_time": "2022-01-20T12:16:32.308Z"
   },
   {
    "duration": 598,
    "start_time": "2022-01-20T12:16:32.116Z"
   },
   {
    "duration": 592,
    "start_time": "2022-01-20T12:16:32.124Z"
   },
   {
    "duration": 592,
    "start_time": "2022-01-20T12:16:32.127Z"
   },
   {
    "duration": 74,
    "start_time": "2022-01-20T12:16:43.552Z"
   },
   {
    "duration": 14,
    "start_time": "2022-01-20T12:16:47.903Z"
   },
   {
    "duration": 13,
    "start_time": "2022-01-20T12:16:51.377Z"
   },
   {
    "duration": 27,
    "start_time": "2022-01-20T12:16:53.219Z"
   },
   {
    "duration": 30,
    "start_time": "2022-01-20T12:16:56.930Z"
   },
   {
    "duration": 31,
    "start_time": "2022-01-20T12:17:01.952Z"
   },
   {
    "duration": 288,
    "start_time": "2022-01-20T12:17:08.083Z"
   },
   {
    "duration": 279,
    "start_time": "2022-01-20T12:17:11.829Z"
   },
   {
    "duration": 30,
    "start_time": "2022-01-20T12:17:30.494Z"
   },
   {
    "duration": 281,
    "start_time": "2022-01-20T12:17:38.974Z"
   },
   {
    "duration": 30,
    "start_time": "2022-01-20T12:18:22.461Z"
   },
   {
    "duration": 80,
    "start_time": "2022-01-20T12:19:19.603Z"
   },
   {
    "duration": 16,
    "start_time": "2022-01-20T12:19:19.687Z"
   },
   {
    "duration": 35,
    "start_time": "2022-01-20T12:19:19.707Z"
   },
   {
    "duration": 19,
    "start_time": "2022-01-20T12:19:19.745Z"
   },
   {
    "duration": 65,
    "start_time": "2022-01-20T12:19:19.767Z"
   },
   {
    "duration": 29,
    "start_time": "2022-01-20T12:19:19.835Z"
   },
   {
    "duration": 29,
    "start_time": "2022-01-20T12:19:19.866Z"
   },
   {
    "duration": 44,
    "start_time": "2022-01-20T12:19:19.897Z"
   },
   {
    "duration": 23,
    "start_time": "2022-01-20T12:19:19.944Z"
   },
   {
    "duration": 12,
    "start_time": "2022-01-20T12:19:19.970Z"
   },
   {
    "duration": 66,
    "start_time": "2022-01-20T12:19:19.985Z"
   },
   {
    "duration": 49,
    "start_time": "2022-01-20T12:19:20.054Z"
   },
   {
    "duration": 29,
    "start_time": "2022-01-20T12:19:20.105Z"
   },
   {
    "duration": 40,
    "start_time": "2022-01-20T12:19:20.136Z"
   },
   {
    "duration": 283,
    "start_time": "2022-01-20T12:19:20.178Z"
   },
   {
    "duration": 596,
    "start_time": "2022-01-20T12:19:19.867Z"
   },
   {
    "duration": 595,
    "start_time": "2022-01-20T12:19:19.870Z"
   },
   {
    "duration": 592,
    "start_time": "2022-01-20T12:19:19.874Z"
   },
   {
    "duration": 1235,
    "start_time": "2022-01-20T12:20:04.902Z"
   },
   {
    "duration": 18,
    "start_time": "2022-01-20T12:24:10.939Z"
   },
   {
    "duration": 22,
    "start_time": "2022-01-20T12:24:13.324Z"
   },
   {
    "duration": 73,
    "start_time": "2022-01-20T12:30:14.025Z"
   },
   {
    "duration": 31,
    "start_time": "2022-01-20T12:30:14.101Z"
   },
   {
    "duration": 19,
    "start_time": "2022-01-20T12:30:14.136Z"
   },
   {
    "duration": 26,
    "start_time": "2022-01-20T12:30:14.160Z"
   },
   {
    "duration": 67,
    "start_time": "2022-01-20T12:30:14.189Z"
   },
   {
    "duration": 45,
    "start_time": "2022-01-20T12:30:14.259Z"
   },
   {
    "duration": 52,
    "start_time": "2022-01-20T12:30:14.307Z"
   },
   {
    "duration": 21,
    "start_time": "2022-01-20T12:30:14.362Z"
   },
   {
    "duration": 60,
    "start_time": "2022-01-20T12:30:14.388Z"
   },
   {
    "duration": 10,
    "start_time": "2022-01-20T12:30:14.452Z"
   },
   {
    "duration": 33,
    "start_time": "2022-01-20T12:30:14.464Z"
   },
   {
    "duration": 68,
    "start_time": "2022-01-20T12:30:14.500Z"
   },
   {
    "duration": 3523,
    "start_time": "2022-01-20T12:30:14.571Z"
   },
   {
    "duration": 46,
    "start_time": "2022-01-20T12:30:18.097Z"
   },
   {
    "duration": 23,
    "start_time": "2022-01-20T12:30:18.146Z"
   },
   {
    "duration": 19,
    "start_time": "2022-01-20T12:30:18.172Z"
   },
   {
    "duration": 9,
    "start_time": "2022-01-20T13:19:46.386Z"
   },
   {
    "duration": 13,
    "start_time": "2022-01-20T13:20:20.787Z"
   },
   {
    "duration": 25,
    "start_time": "2022-01-20T13:20:54.607Z"
   },
   {
    "duration": 86,
    "start_time": "2022-01-20T13:20:59.598Z"
   },
   {
    "duration": 17,
    "start_time": "2022-01-20T13:20:59.688Z"
   },
   {
    "duration": 36,
    "start_time": "2022-01-20T13:20:59.709Z"
   },
   {
    "duration": 16,
    "start_time": "2022-01-20T13:20:59.748Z"
   },
   {
    "duration": 26,
    "start_time": "2022-01-20T13:20:59.766Z"
   },
   {
    "duration": 65,
    "start_time": "2022-01-20T13:20:59.795Z"
   },
   {
    "duration": 32,
    "start_time": "2022-01-20T13:20:59.863Z"
   },
   {
    "duration": 49,
    "start_time": "2022-01-20T13:20:59.900Z"
   },
   {
    "duration": 30,
    "start_time": "2022-01-20T13:20:59.952Z"
   },
   {
    "duration": 13,
    "start_time": "2022-01-20T13:20:59.985Z"
   },
   {
    "duration": 58,
    "start_time": "2022-01-20T13:21:00.000Z"
   },
   {
    "duration": 73,
    "start_time": "2022-01-20T13:21:00.060Z"
   },
   {
    "duration": 9,
    "start_time": "2022-01-20T13:21:00.135Z"
   },
   {
    "duration": 17,
    "start_time": "2022-01-20T13:21:00.147Z"
   },
   {
    "duration": 65,
    "start_time": "2022-01-20T13:21:00.167Z"
   },
   {
    "duration": 4794,
    "start_time": "2022-01-20T13:21:00.235Z"
   },
   {
    "duration": 35,
    "start_time": "2022-01-20T13:21:05.033Z"
   },
   {
    "duration": 23,
    "start_time": "2022-01-20T13:21:05.070Z"
   },
   {
    "duration": 52,
    "start_time": "2022-01-20T13:21:05.096Z"
   },
   {
    "duration": 40,
    "start_time": "2022-01-20T13:28:26.411Z"
   },
   {
    "duration": 266,
    "start_time": "2022-01-20T13:33:22.590Z"
   },
   {
    "duration": 271,
    "start_time": "2022-01-20T13:33:57.612Z"
   },
   {
    "duration": 18,
    "start_time": "2022-01-20T13:34:22.043Z"
   },
   {
    "duration": 18,
    "start_time": "2022-01-20T13:34:41.770Z"
   },
   {
    "duration": 24,
    "start_time": "2022-01-20T13:34:48.128Z"
   },
   {
    "duration": 21,
    "start_time": "2022-01-20T13:36:06.309Z"
   },
   {
    "duration": 18,
    "start_time": "2022-01-20T13:36:28.805Z"
   },
   {
    "duration": 78,
    "start_time": "2022-01-20T13:36:34.413Z"
   },
   {
    "duration": 16,
    "start_time": "2022-01-20T13:36:34.494Z"
   },
   {
    "duration": 14,
    "start_time": "2022-01-20T13:36:34.534Z"
   },
   {
    "duration": 18,
    "start_time": "2022-01-20T13:36:34.552Z"
   },
   {
    "duration": 61,
    "start_time": "2022-01-20T13:36:34.573Z"
   },
   {
    "duration": 29,
    "start_time": "2022-01-20T13:36:34.637Z"
   },
   {
    "duration": 31,
    "start_time": "2022-01-20T13:36:34.669Z"
   },
   {
    "duration": 48,
    "start_time": "2022-01-20T13:36:34.704Z"
   },
   {
    "duration": 29,
    "start_time": "2022-01-20T13:36:34.755Z"
   },
   {
    "duration": 10,
    "start_time": "2022-01-20T13:36:34.786Z"
   },
   {
    "duration": 24,
    "start_time": "2022-01-20T13:36:34.833Z"
   },
   {
    "duration": 50,
    "start_time": "2022-01-20T13:36:34.859Z"
   },
   {
    "duration": 29,
    "start_time": "2022-01-20T13:36:34.911Z"
   },
   {
    "duration": 13,
    "start_time": "2022-01-20T13:36:34.942Z"
   },
   {
    "duration": 22,
    "start_time": "2022-01-20T13:36:34.957Z"
   },
   {
    "duration": 4054,
    "start_time": "2022-01-20T13:36:34.982Z"
   },
   {
    "duration": 36,
    "start_time": "2022-01-20T13:36:39.040Z"
   },
   {
    "duration": 38,
    "start_time": "2022-01-20T13:36:39.078Z"
   },
   {
    "duration": 20,
    "start_time": "2022-01-20T13:36:39.133Z"
   },
   {
    "duration": 18,
    "start_time": "2022-01-20T13:36:39.156Z"
   },
   {
    "duration": 22,
    "start_time": "2022-01-20T13:36:39.176Z"
   },
   {
    "duration": 19,
    "start_time": "2022-01-20T13:37:11.667Z"
   },
   {
    "duration": 305,
    "start_time": "2022-01-20T13:37:43.745Z"
   },
   {
    "duration": 20,
    "start_time": "2022-01-20T13:37:58.186Z"
   },
   {
    "duration": 552,
    "start_time": "2022-01-20T13:43:29.618Z"
   },
   {
    "duration": 54,
    "start_time": "2022-01-20T13:43:37.696Z"
   },
   {
    "duration": 66,
    "start_time": "2022-01-20T13:44:49.634Z"
   },
   {
    "duration": 54,
    "start_time": "2022-01-20T13:47:39.847Z"
   },
   {
    "duration": 319,
    "start_time": "2022-01-20T13:50:17.230Z"
   },
   {
    "duration": 29,
    "start_time": "2022-01-20T13:50:36.029Z"
   },
   {
    "duration": 90,
    "start_time": "2022-01-20T13:51:48.636Z"
   },
   {
    "duration": 93,
    "start_time": "2022-01-20T13:52:26.649Z"
   },
   {
    "duration": 27,
    "start_time": "2022-01-20T13:55:08.547Z"
   },
   {
    "duration": 24,
    "start_time": "2022-01-20T14:38:51.626Z"
   },
   {
    "duration": 26,
    "start_time": "2022-01-20T14:38:58.631Z"
   },
   {
    "duration": 26,
    "start_time": "2022-01-20T14:39:32.775Z"
   },
   {
    "duration": 6850,
    "start_time": "2022-01-20T14:44:07.722Z"
   },
   {
    "duration": 25,
    "start_time": "2022-01-20T14:45:10.839Z"
   },
   {
    "duration": 31,
    "start_time": "2022-01-20T14:45:42.999Z"
   },
   {
    "duration": 26,
    "start_time": "2022-01-20T14:50:50.460Z"
   },
   {
    "duration": 97,
    "start_time": "2022-01-20T14:56:08.953Z"
   },
   {
    "duration": 306,
    "start_time": "2022-01-20T14:56:16.541Z"
   },
   {
    "duration": 31,
    "start_time": "2022-01-20T14:58:10.036Z"
   },
   {
    "duration": 5302,
    "start_time": "2022-01-20T15:01:23.428Z"
   },
   {
    "duration": 5639,
    "start_time": "2022-01-20T15:01:31.678Z"
   },
   {
    "duration": 30,
    "start_time": "2022-01-20T15:01:54.923Z"
   },
   {
    "duration": 9,
    "start_time": "2022-01-20T15:10:05.666Z"
   },
   {
    "duration": 271,
    "start_time": "2022-01-20T15:14:09.947Z"
   },
   {
    "duration": 12,
    "start_time": "2022-01-20T15:14:15.414Z"
   },
   {
    "duration": 28,
    "start_time": "2022-01-20T15:15:20.003Z"
   },
   {
    "duration": 726,
    "start_time": "2022-01-21T08:23:34.431Z"
   },
   {
    "duration": 11,
    "start_time": "2022-01-21T08:23:35.159Z"
   },
   {
    "duration": 22,
    "start_time": "2022-01-21T08:23:35.172Z"
   },
   {
    "duration": 38,
    "start_time": "2022-01-21T08:23:35.195Z"
   },
   {
    "duration": 49,
    "start_time": "2022-01-21T08:23:35.234Z"
   },
   {
    "duration": 29,
    "start_time": "2022-01-21T08:23:35.285Z"
   },
   {
    "duration": 18,
    "start_time": "2022-01-21T08:23:35.316Z"
   },
   {
    "duration": 22,
    "start_time": "2022-01-21T08:23:35.338Z"
   },
   {
    "duration": 24,
    "start_time": "2022-01-21T08:23:35.362Z"
   },
   {
    "duration": 14,
    "start_time": "2022-01-21T08:23:35.387Z"
   },
   {
    "duration": 43,
    "start_time": "2022-01-21T08:23:35.403Z"
   },
   {
    "duration": 43,
    "start_time": "2022-01-21T08:23:35.450Z"
   },
   {
    "duration": 9,
    "start_time": "2022-01-21T08:23:35.494Z"
   },
   {
    "duration": 26,
    "start_time": "2022-01-21T08:23:35.505Z"
   },
   {
    "duration": 31,
    "start_time": "2022-01-21T08:23:35.533Z"
   },
   {
    "duration": 2447,
    "start_time": "2022-01-21T08:23:35.565Z"
   },
   {
    "duration": 19,
    "start_time": "2022-01-21T08:23:38.013Z"
   },
   {
    "duration": 50,
    "start_time": "2022-01-21T08:23:38.042Z"
   },
   {
    "duration": 23,
    "start_time": "2022-01-21T08:23:38.094Z"
   },
   {
    "duration": 34,
    "start_time": "2022-01-21T08:23:38.118Z"
   },
   {
    "duration": 32,
    "start_time": "2022-01-21T08:23:38.154Z"
   },
   {
    "duration": 1965,
    "start_time": "2022-01-21T08:23:55.840Z"
   },
   {
    "duration": 12,
    "start_time": "2022-01-21T08:31:39.102Z"
   },
   {
    "duration": 12,
    "start_time": "2022-01-21T08:32:06.267Z"
   },
   {
    "duration": 6,
    "start_time": "2022-01-21T08:32:40.329Z"
   },
   {
    "duration": 315,
    "start_time": "2022-01-21T08:36:09.185Z"
   },
   {
    "duration": 9,
    "start_time": "2022-01-21T08:36:17.616Z"
   },
   {
    "duration": 100,
    "start_time": "2022-01-21T08:36:21.602Z"
   },
   {
    "duration": 9,
    "start_time": "2022-01-21T08:36:21.704Z"
   },
   {
    "duration": 16,
    "start_time": "2022-01-21T08:36:21.718Z"
   },
   {
    "duration": 36,
    "start_time": "2022-01-21T08:36:21.735Z"
   },
   {
    "duration": 30,
    "start_time": "2022-01-21T08:36:21.773Z"
   },
   {
    "duration": 24,
    "start_time": "2022-01-21T08:36:21.805Z"
   },
   {
    "duration": 59,
    "start_time": "2022-01-21T08:36:21.830Z"
   },
   {
    "duration": 11,
    "start_time": "2022-01-21T08:36:21.891Z"
   },
   {
    "duration": 22,
    "start_time": "2022-01-21T08:36:21.905Z"
   },
   {
    "duration": 31,
    "start_time": "2022-01-21T08:36:21.929Z"
   },
   {
    "duration": 30,
    "start_time": "2022-01-21T08:36:21.961Z"
   },
   {
    "duration": 48,
    "start_time": "2022-01-21T08:36:21.993Z"
   },
   {
    "duration": 10,
    "start_time": "2022-01-21T08:36:22.044Z"
   },
   {
    "duration": 23,
    "start_time": "2022-01-21T08:36:22.056Z"
   },
   {
    "duration": 9,
    "start_time": "2022-01-21T08:36:22.080Z"
   },
   {
    "duration": 15,
    "start_time": "2022-01-21T08:36:22.091Z"
   },
   {
    "duration": 2516,
    "start_time": "2022-01-21T08:36:22.107Z"
   },
   {
    "duration": 28,
    "start_time": "2022-01-21T08:36:24.625Z"
   },
   {
    "duration": 21,
    "start_time": "2022-01-21T08:36:24.656Z"
   },
   {
    "duration": 12,
    "start_time": "2022-01-21T08:36:24.678Z"
   },
   {
    "duration": 10,
    "start_time": "2022-01-21T08:36:24.691Z"
   },
   {
    "duration": 1,
    "start_time": "2022-01-21T08:36:24.703Z"
   },
   {
    "duration": 6591,
    "start_time": "2022-01-21T08:44:51.730Z"
   },
   {
    "duration": 5,
    "start_time": "2022-01-21T08:45:27.480Z"
   },
   {
    "duration": 11,
    "start_time": "2022-01-21T08:45:57.508Z"
   },
   {
    "duration": 7,
    "start_time": "2022-01-21T08:47:04.736Z"
   },
   {
    "duration": 5,
    "start_time": "2022-01-21T08:54:54.022Z"
   },
   {
    "duration": 18,
    "start_time": "2022-01-21T08:55:19.595Z"
   },
   {
    "duration": 8,
    "start_time": "2022-01-21T08:56:23.357Z"
   },
   {
    "duration": 8,
    "start_time": "2022-01-21T08:56:28.919Z"
   },
   {
    "duration": 14,
    "start_time": "2022-01-21T08:57:16.821Z"
   },
   {
    "duration": 321,
    "start_time": "2022-01-21T08:59:10.513Z"
   },
   {
    "duration": 14,
    "start_time": "2022-01-21T08:59:19.394Z"
   },
   {
    "duration": 119,
    "start_time": "2022-01-21T09:01:12.890Z"
   },
   {
    "duration": 10,
    "start_time": "2022-01-21T09:01:13.011Z"
   },
   {
    "duration": 47,
    "start_time": "2022-01-21T09:01:13.023Z"
   },
   {
    "duration": 38,
    "start_time": "2022-01-21T09:01:13.073Z"
   },
   {
    "duration": 27,
    "start_time": "2022-01-21T09:01:13.113Z"
   },
   {
    "duration": 47,
    "start_time": "2022-01-21T09:01:13.143Z"
   },
   {
    "duration": 19,
    "start_time": "2022-01-21T09:01:13.192Z"
   },
   {
    "duration": 18,
    "start_time": "2022-01-21T09:01:13.213Z"
   },
   {
    "duration": 33,
    "start_time": "2022-01-21T09:01:13.234Z"
   },
   {
    "duration": 27,
    "start_time": "2022-01-21T09:01:13.270Z"
   },
   {
    "duration": 49,
    "start_time": "2022-01-21T09:01:13.299Z"
   },
   {
    "duration": 58,
    "start_time": "2022-01-21T09:01:13.350Z"
   },
   {
    "duration": 7,
    "start_time": "2022-01-21T09:01:13.410Z"
   },
   {
    "duration": 59,
    "start_time": "2022-01-21T09:01:13.419Z"
   },
   {
    "duration": 39,
    "start_time": "2022-01-21T09:01:13.480Z"
   },
   {
    "duration": 51,
    "start_time": "2022-01-21T09:01:13.521Z"
   },
   {
    "duration": 2930,
    "start_time": "2022-01-21T09:01:13.574Z"
   },
   {
    "duration": 43,
    "start_time": "2022-01-21T09:01:16.506Z"
   },
   {
    "duration": 41,
    "start_time": "2022-01-21T09:01:16.552Z"
   },
   {
    "duration": 19,
    "start_time": "2022-01-21T09:01:16.595Z"
   },
   {
    "duration": 36,
    "start_time": "2022-01-21T09:01:16.616Z"
   },
   {
    "duration": 35,
    "start_time": "2022-01-21T09:01:16.655Z"
   },
   {
    "duration": 8,
    "start_time": "2022-01-21T09:03:27.350Z"
   },
   {
    "duration": 100,
    "start_time": "2022-01-21T09:03:33.701Z"
   },
   {
    "duration": 11,
    "start_time": "2022-01-21T09:03:33.803Z"
   },
   {
    "duration": 11,
    "start_time": "2022-01-21T09:03:33.817Z"
   },
   {
    "duration": 13,
    "start_time": "2022-01-21T09:03:33.829Z"
   },
   {
    "duration": 24,
    "start_time": "2022-01-21T09:03:33.843Z"
   },
   {
    "duration": 27,
    "start_time": "2022-01-21T09:03:33.869Z"
   },
   {
    "duration": 50,
    "start_time": "2022-01-21T09:03:33.898Z"
   },
   {
    "duration": 16,
    "start_time": "2022-01-21T09:03:33.951Z"
   },
   {
    "duration": 16,
    "start_time": "2022-01-21T09:03:33.969Z"
   },
   {
    "duration": 5,
    "start_time": "2022-01-21T09:03:33.986Z"
   },
   {
    "duration": 19,
    "start_time": "2022-01-21T09:03:33.992Z"
   },
   {
    "duration": 66,
    "start_time": "2022-01-21T09:03:34.012Z"
   },
   {
    "duration": 6,
    "start_time": "2022-01-21T09:03:34.080Z"
   },
   {
    "duration": 23,
    "start_time": "2022-01-21T09:03:34.088Z"
   },
   {
    "duration": 37,
    "start_time": "2022-01-21T09:03:34.112Z"
   },
   {
    "duration": 21,
    "start_time": "2022-01-21T09:03:34.151Z"
   },
   {
    "duration": 2754,
    "start_time": "2022-01-21T09:03:34.174Z"
   },
   {
    "duration": 34,
    "start_time": "2022-01-21T09:03:36.930Z"
   },
   {
    "duration": 15,
    "start_time": "2022-01-21T09:03:36.966Z"
   },
   {
    "duration": 12,
    "start_time": "2022-01-21T09:03:36.983Z"
   },
   {
    "duration": 11,
    "start_time": "2022-01-21T09:03:36.997Z"
   },
   {
    "duration": 46,
    "start_time": "2022-01-21T09:03:37.009Z"
   },
   {
    "duration": 16,
    "start_time": "2022-01-21T09:03:54.611Z"
   },
   {
    "duration": 22,
    "start_time": "2022-01-21T09:06:25.340Z"
   },
   {
    "duration": 11,
    "start_time": "2022-01-21T09:33:29.729Z"
   },
   {
    "duration": 95,
    "start_time": "2022-01-21T09:33:35.832Z"
   },
   {
    "duration": 12,
    "start_time": "2022-01-21T09:33:35.929Z"
   },
   {
    "duration": 27,
    "start_time": "2022-01-21T09:33:35.943Z"
   },
   {
    "duration": 12,
    "start_time": "2022-01-21T09:33:35.972Z"
   },
   {
    "duration": 53,
    "start_time": "2022-01-21T09:33:35.985Z"
   },
   {
    "duration": 24,
    "start_time": "2022-01-21T09:33:36.039Z"
   },
   {
    "duration": 27,
    "start_time": "2022-01-21T09:33:36.064Z"
   },
   {
    "duration": 23,
    "start_time": "2022-01-21T09:33:36.093Z"
   },
   {
    "duration": 20,
    "start_time": "2022-01-21T09:33:36.118Z"
   },
   {
    "duration": 23,
    "start_time": "2022-01-21T09:33:36.139Z"
   },
   {
    "duration": 38,
    "start_time": "2022-01-21T09:33:36.164Z"
   },
   {
    "duration": 57,
    "start_time": "2022-01-21T09:33:36.203Z"
   },
   {
    "duration": 5,
    "start_time": "2022-01-21T09:33:36.262Z"
   },
   {
    "duration": 17,
    "start_time": "2022-01-21T09:33:36.269Z"
   },
   {
    "duration": 21,
    "start_time": "2022-01-21T09:33:36.288Z"
   },
   {
    "duration": 15,
    "start_time": "2022-01-21T09:33:36.311Z"
   },
   {
    "duration": 2486,
    "start_time": "2022-01-21T09:33:36.328Z"
   },
   {
    "duration": 29,
    "start_time": "2022-01-21T09:33:38.815Z"
   },
   {
    "duration": 29,
    "start_time": "2022-01-21T09:33:38.846Z"
   },
   {
    "duration": 13,
    "start_time": "2022-01-21T09:33:38.876Z"
   },
   {
    "duration": 12,
    "start_time": "2022-01-21T09:33:38.891Z"
   },
   {
    "duration": 16,
    "start_time": "2022-01-21T09:33:38.904Z"
   },
   {
    "duration": 7,
    "start_time": "2022-01-21T09:33:52.913Z"
   },
   {
    "duration": 95,
    "start_time": "2022-01-21T09:34:11.880Z"
   },
   {
    "duration": 9,
    "start_time": "2022-01-21T09:34:11.976Z"
   },
   {
    "duration": 38,
    "start_time": "2022-01-21T09:34:11.987Z"
   },
   {
    "duration": 54,
    "start_time": "2022-01-21T09:34:12.027Z"
   },
   {
    "duration": 46,
    "start_time": "2022-01-21T09:34:12.083Z"
   },
   {
    "duration": 45,
    "start_time": "2022-01-21T09:34:12.131Z"
   },
   {
    "duration": 39,
    "start_time": "2022-01-21T09:34:12.178Z"
   },
   {
    "duration": 63,
    "start_time": "2022-01-21T09:34:12.219Z"
   },
   {
    "duration": 36,
    "start_time": "2022-01-21T09:34:12.283Z"
   },
   {
    "duration": 12,
    "start_time": "2022-01-21T09:34:12.320Z"
   },
   {
    "duration": 38,
    "start_time": "2022-01-21T09:34:12.334Z"
   },
   {
    "duration": 50,
    "start_time": "2022-01-21T09:34:12.374Z"
   },
   {
    "duration": 5,
    "start_time": "2022-01-21T09:34:12.426Z"
   },
   {
    "duration": 44,
    "start_time": "2022-01-21T09:34:12.432Z"
   },
   {
    "duration": 24,
    "start_time": "2022-01-21T09:34:12.477Z"
   },
   {
    "duration": 47,
    "start_time": "2022-01-21T09:34:12.503Z"
   },
   {
    "duration": 2563,
    "start_time": "2022-01-21T09:34:12.552Z"
   },
   {
    "duration": 35,
    "start_time": "2022-01-21T09:34:15.117Z"
   },
   {
    "duration": 21,
    "start_time": "2022-01-21T09:34:15.154Z"
   },
   {
    "duration": 11,
    "start_time": "2022-01-21T09:34:15.176Z"
   },
   {
    "duration": 17,
    "start_time": "2022-01-21T09:34:15.189Z"
   },
   {
    "duration": 19,
    "start_time": "2022-01-21T09:34:15.207Z"
   },
   {
    "duration": 5,
    "start_time": "2022-01-21T09:51:37.792Z"
   },
   {
    "duration": 11,
    "start_time": "2022-01-21T09:51:51.470Z"
   },
   {
    "duration": 5,
    "start_time": "2022-01-21T09:56:30.786Z"
   },
   {
    "duration": 5,
    "start_time": "2022-01-21T09:57:00.481Z"
   },
   {
    "duration": 20,
    "start_time": "2022-01-21T09:58:02.673Z"
   },
   {
    "duration": 20,
    "start_time": "2022-01-21T09:58:57.613Z"
   },
   {
    "duration": 22,
    "start_time": "2022-01-21T09:59:20.220Z"
   },
   {
    "duration": 30,
    "start_time": "2022-01-21T09:59:31.418Z"
   },
   {
    "duration": 21,
    "start_time": "2022-01-21T10:18:51.650Z"
   },
   {
    "duration": 15,
    "start_time": "2022-01-21T10:20:47.994Z"
   },
   {
    "duration": 96,
    "start_time": "2022-01-21T10:21:43.252Z"
   },
   {
    "duration": 14,
    "start_time": "2022-01-21T10:21:43.350Z"
   },
   {
    "duration": 10,
    "start_time": "2022-01-21T10:21:43.366Z"
   },
   {
    "duration": 12,
    "start_time": "2022-01-21T10:21:43.378Z"
   },
   {
    "duration": 16,
    "start_time": "2022-01-21T10:21:43.391Z"
   },
   {
    "duration": 48,
    "start_time": "2022-01-21T10:21:43.409Z"
   },
   {
    "duration": 17,
    "start_time": "2022-01-21T10:21:43.459Z"
   },
   {
    "duration": 36,
    "start_time": "2022-01-21T10:21:43.478Z"
   },
   {
    "duration": 17,
    "start_time": "2022-01-21T10:21:43.516Z"
   },
   {
    "duration": 10,
    "start_time": "2022-01-21T10:21:43.534Z"
   },
   {
    "duration": 33,
    "start_time": "2022-01-21T10:21:43.546Z"
   },
   {
    "duration": 49,
    "start_time": "2022-01-21T10:21:43.580Z"
   },
   {
    "duration": 6,
    "start_time": "2022-01-21T10:21:43.631Z"
   },
   {
    "duration": 52,
    "start_time": "2022-01-21T10:21:43.639Z"
   },
   {
    "duration": 23,
    "start_time": "2022-01-21T10:21:43.693Z"
   },
   {
    "duration": 44,
    "start_time": "2022-01-21T10:21:43.718Z"
   },
   {
    "duration": 2497,
    "start_time": "2022-01-21T10:21:43.763Z"
   },
   {
    "duration": 20,
    "start_time": "2022-01-21T10:21:46.261Z"
   },
   {
    "duration": 22,
    "start_time": "2022-01-21T10:21:46.282Z"
   },
   {
    "duration": 15,
    "start_time": "2022-01-21T10:21:46.306Z"
   },
   {
    "duration": 34,
    "start_time": "2022-01-21T10:21:46.323Z"
   },
   {
    "duration": 20,
    "start_time": "2022-01-21T10:21:46.359Z"
   },
   {
    "duration": 12,
    "start_time": "2022-01-21T10:21:46.380Z"
   },
   {
    "duration": 27,
    "start_time": "2022-01-21T10:33:34.532Z"
   },
   {
    "duration": 105,
    "start_time": "2022-01-21T10:33:49.392Z"
   },
   {
    "duration": 10,
    "start_time": "2022-01-21T10:33:49.498Z"
   },
   {
    "duration": 9,
    "start_time": "2022-01-21T10:33:49.509Z"
   },
   {
    "duration": 30,
    "start_time": "2022-01-21T10:33:49.519Z"
   },
   {
    "duration": 24,
    "start_time": "2022-01-21T10:33:49.552Z"
   },
   {
    "duration": 18,
    "start_time": "2022-01-21T10:33:49.578Z"
   },
   {
    "duration": 19,
    "start_time": "2022-01-21T10:33:49.598Z"
   },
   {
    "duration": 40,
    "start_time": "2022-01-21T10:33:49.620Z"
   },
   {
    "duration": 16,
    "start_time": "2022-01-21T10:33:49.662Z"
   },
   {
    "duration": 6,
    "start_time": "2022-01-21T10:33:49.679Z"
   },
   {
    "duration": 19,
    "start_time": "2022-01-21T10:33:49.686Z"
   },
   {
    "duration": 73,
    "start_time": "2022-01-21T10:33:49.707Z"
   },
   {
    "duration": 7,
    "start_time": "2022-01-21T10:33:49.782Z"
   },
   {
    "duration": 14,
    "start_time": "2022-01-21T10:33:49.791Z"
   },
   {
    "duration": 14,
    "start_time": "2022-01-21T10:33:49.807Z"
   },
   {
    "duration": 39,
    "start_time": "2022-01-21T10:33:49.822Z"
   },
   {
    "duration": 2657,
    "start_time": "2022-01-21T10:33:49.863Z"
   },
   {
    "duration": 25,
    "start_time": "2022-01-21T10:33:52.522Z"
   },
   {
    "duration": 44,
    "start_time": "2022-01-21T10:33:52.550Z"
   },
   {
    "duration": 20,
    "start_time": "2022-01-21T10:33:52.596Z"
   },
   {
    "duration": 18,
    "start_time": "2022-01-21T10:33:52.617Z"
   },
   {
    "duration": 21,
    "start_time": "2022-01-21T10:33:52.636Z"
   },
   {
    "duration": 19,
    "start_time": "2022-01-21T10:33:52.660Z"
   },
   {
    "duration": 27,
    "start_time": "2022-01-21T10:37:13.998Z"
   },
   {
    "duration": 102,
    "start_time": "2022-01-21T10:39:06.397Z"
   },
   {
    "duration": 10,
    "start_time": "2022-01-21T10:39:06.501Z"
   },
   {
    "duration": 13,
    "start_time": "2022-01-21T10:39:06.513Z"
   },
   {
    "duration": 19,
    "start_time": "2022-01-21T10:39:06.527Z"
   },
   {
    "duration": 15,
    "start_time": "2022-01-21T10:39:06.547Z"
   },
   {
    "duration": 18,
    "start_time": "2022-01-21T10:39:06.564Z"
   },
   {
    "duration": 17,
    "start_time": "2022-01-21T10:39:06.583Z"
   },
   {
    "duration": 14,
    "start_time": "2022-01-21T10:39:06.602Z"
   },
   {
    "duration": 15,
    "start_time": "2022-01-21T10:39:06.641Z"
   },
   {
    "duration": 4,
    "start_time": "2022-01-21T10:39:06.657Z"
   },
   {
    "duration": 20,
    "start_time": "2022-01-21T10:39:06.662Z"
   },
   {
    "duration": 32,
    "start_time": "2022-01-21T10:39:06.683Z"
   },
   {
    "duration": 25,
    "start_time": "2022-01-21T10:39:06.717Z"
   },
   {
    "duration": 13,
    "start_time": "2022-01-21T10:39:06.743Z"
   },
   {
    "duration": 12,
    "start_time": "2022-01-21T10:39:06.758Z"
   },
   {
    "duration": 18,
    "start_time": "2022-01-21T10:39:06.771Z"
   },
   {
    "duration": 2451,
    "start_time": "2022-01-21T10:39:06.790Z"
   },
   {
    "duration": 20,
    "start_time": "2022-01-21T10:39:09.242Z"
   },
   {
    "duration": 33,
    "start_time": "2022-01-21T10:39:09.264Z"
   },
   {
    "duration": 14,
    "start_time": "2022-01-21T10:39:09.299Z"
   },
   {
    "duration": 28,
    "start_time": "2022-01-21T10:39:09.314Z"
   },
   {
    "duration": 11,
    "start_time": "2022-01-21T10:39:09.343Z"
   },
   {
    "duration": 23,
    "start_time": "2022-01-21T10:39:09.357Z"
   },
   {
    "duration": 32,
    "start_time": "2022-01-21T10:39:09.382Z"
   },
   {
    "duration": 364,
    "start_time": "2022-01-21T10:43:54.322Z"
   },
   {
    "duration": 18,
    "start_time": "2022-01-21T10:44:29.319Z"
   },
   {
    "duration": 4,
    "start_time": "2022-01-21T10:45:49.205Z"
   },
   {
    "duration": 6,
    "start_time": "2022-01-21T10:45:51.714Z"
   },
   {
    "duration": 96,
    "start_time": "2022-01-21T10:58:48.301Z"
   },
   {
    "duration": 10,
    "start_time": "2022-01-21T10:58:48.399Z"
   },
   {
    "duration": 13,
    "start_time": "2022-01-21T10:58:48.410Z"
   },
   {
    "duration": 11,
    "start_time": "2022-01-21T10:58:48.425Z"
   },
   {
    "duration": 43,
    "start_time": "2022-01-21T10:58:48.438Z"
   },
   {
    "duration": 18,
    "start_time": "2022-01-21T10:58:48.483Z"
   },
   {
    "duration": 17,
    "start_time": "2022-01-21T10:58:48.502Z"
   },
   {
    "duration": 15,
    "start_time": "2022-01-21T10:58:48.521Z"
   },
   {
    "duration": 16,
    "start_time": "2022-01-21T10:58:48.537Z"
   },
   {
    "duration": 17,
    "start_time": "2022-01-21T10:58:48.555Z"
   },
   {
    "duration": 26,
    "start_time": "2022-01-21T10:58:48.574Z"
   },
   {
    "duration": 47,
    "start_time": "2022-01-21T10:58:48.602Z"
   },
   {
    "duration": 6,
    "start_time": "2022-01-21T10:58:48.651Z"
   },
   {
    "duration": 28,
    "start_time": "2022-01-21T10:58:48.658Z"
   },
   {
    "duration": 23,
    "start_time": "2022-01-21T10:58:48.687Z"
   },
   {
    "duration": 30,
    "start_time": "2022-01-21T10:58:48.711Z"
   },
   {
    "duration": 2543,
    "start_time": "2022-01-21T10:58:48.743Z"
   },
   {
    "duration": 21,
    "start_time": "2022-01-21T10:58:51.288Z"
   },
   {
    "duration": 37,
    "start_time": "2022-01-21T10:58:51.311Z"
   },
   {
    "duration": 22,
    "start_time": "2022-01-21T10:58:51.350Z"
   },
   {
    "duration": 17,
    "start_time": "2022-01-21T10:58:51.373Z"
   },
   {
    "duration": 11,
    "start_time": "2022-01-21T10:58:51.392Z"
   },
   {
    "duration": 5,
    "start_time": "2022-01-21T10:58:51.406Z"
   },
   {
    "duration": 37,
    "start_time": "2022-01-21T10:58:51.413Z"
   },
   {
    "duration": 8,
    "start_time": "2022-01-21T11:09:24.131Z"
   },
   {
    "duration": 256,
    "start_time": "2022-01-21T11:34:40.429Z"
   },
   {
    "duration": 98,
    "start_time": "2022-01-21T11:34:47.661Z"
   },
   {
    "duration": 10,
    "start_time": "2022-01-21T11:34:47.760Z"
   },
   {
    "duration": 9,
    "start_time": "2022-01-21T11:34:47.771Z"
   },
   {
    "duration": 271,
    "start_time": "2022-01-21T11:34:47.781Z"
   },
   {
    "duration": -36,
    "start_time": "2022-01-21T11:34:48.090Z"
   },
   {
    "duration": -37,
    "start_time": "2022-01-21T11:34:48.092Z"
   },
   {
    "duration": -67,
    "start_time": "2022-01-21T11:34:48.123Z"
   },
   {
    "duration": -71,
    "start_time": "2022-01-21T11:34:48.128Z"
   },
   {
    "duration": -72,
    "start_time": "2022-01-21T11:34:48.130Z"
   },
   {
    "duration": -73,
    "start_time": "2022-01-21T11:34:48.132Z"
   },
   {
    "duration": -74,
    "start_time": "2022-01-21T11:34:48.134Z"
   },
   {
    "duration": -75,
    "start_time": "2022-01-21T11:34:48.136Z"
   },
   {
    "duration": -77,
    "start_time": "2022-01-21T11:34:48.138Z"
   },
   {
    "duration": -78,
    "start_time": "2022-01-21T11:34:48.140Z"
   },
   {
    "duration": -79,
    "start_time": "2022-01-21T11:34:48.142Z"
   },
   {
    "duration": -79,
    "start_time": "2022-01-21T11:34:48.143Z"
   },
   {
    "duration": -81,
    "start_time": "2022-01-21T11:34:48.146Z"
   },
   {
    "duration": -82,
    "start_time": "2022-01-21T11:34:48.148Z"
   },
   {
    "duration": -82,
    "start_time": "2022-01-21T11:34:48.149Z"
   },
   {
    "duration": -83,
    "start_time": "2022-01-21T11:34:48.152Z"
   },
   {
    "duration": -84,
    "start_time": "2022-01-21T11:34:48.154Z"
   },
   {
    "duration": -85,
    "start_time": "2022-01-21T11:34:48.156Z"
   },
   {
    "duration": -85,
    "start_time": "2022-01-21T11:34:48.157Z"
   },
   {
    "duration": -87,
    "start_time": "2022-01-21T11:34:48.160Z"
   },
   {
    "duration": -88,
    "start_time": "2022-01-21T11:34:48.162Z"
   },
   {
    "duration": 28,
    "start_time": "2022-01-21T11:38:34.115Z"
   },
   {
    "duration": 63,
    "start_time": "2022-01-21T11:39:03.522Z"
   },
   {
    "duration": 9,
    "start_time": "2022-01-21T11:39:03.587Z"
   },
   {
    "duration": 32,
    "start_time": "2022-01-21T11:39:03.598Z"
   },
   {
    "duration": 23,
    "start_time": "2022-01-21T11:39:03.632Z"
   },
   {
    "duration": 14,
    "start_time": "2022-01-21T11:39:03.657Z"
   },
   {
    "duration": 32,
    "start_time": "2022-01-21T11:39:03.673Z"
   },
   {
    "duration": 17,
    "start_time": "2022-01-21T11:39:03.706Z"
   },
   {
    "duration": 11,
    "start_time": "2022-01-21T11:39:03.725Z"
   },
   {
    "duration": 14,
    "start_time": "2022-01-21T11:39:03.739Z"
   },
   {
    "duration": 4,
    "start_time": "2022-01-21T11:39:03.755Z"
   },
   {
    "duration": 19,
    "start_time": "2022-01-21T11:39:03.761Z"
   },
   {
    "duration": 59,
    "start_time": "2022-01-21T11:39:03.782Z"
   },
   {
    "duration": 8,
    "start_time": "2022-01-21T11:39:03.843Z"
   },
   {
    "duration": 15,
    "start_time": "2022-01-21T11:39:03.853Z"
   },
   {
    "duration": 11,
    "start_time": "2022-01-21T11:39:03.870Z"
   },
   {
    "duration": 15,
    "start_time": "2022-01-21T11:39:03.883Z"
   },
   {
    "duration": 2447,
    "start_time": "2022-01-21T11:39:03.900Z"
   },
   {
    "duration": 20,
    "start_time": "2022-01-21T11:39:06.349Z"
   },
   {
    "duration": 24,
    "start_time": "2022-01-21T11:39:06.370Z"
   },
   {
    "duration": 19,
    "start_time": "2022-01-21T11:39:06.396Z"
   },
   {
    "duration": 39,
    "start_time": "2022-01-21T11:39:06.417Z"
   },
   {
    "duration": 24,
    "start_time": "2022-01-21T11:39:06.458Z"
   },
   {
    "duration": 13,
    "start_time": "2022-01-21T11:39:06.485Z"
   },
   {
    "duration": 42,
    "start_time": "2022-01-21T11:39:06.500Z"
   },
   {
    "duration": 25,
    "start_time": "2022-01-21T11:39:06.543Z"
   },
   {
    "duration": 8,
    "start_time": "2022-01-21T11:39:53.086Z"
   },
   {
    "duration": 86,
    "start_time": "2022-01-21T11:39:56.972Z"
   },
   {
    "duration": 10,
    "start_time": "2022-01-21T11:39:57.059Z"
   },
   {
    "duration": 10,
    "start_time": "2022-01-21T11:39:57.071Z"
   },
   {
    "duration": 27,
    "start_time": "2022-01-21T11:39:57.083Z"
   },
   {
    "duration": 7,
    "start_time": "2022-01-21T11:39:57.112Z"
   },
   {
    "duration": 39,
    "start_time": "2022-01-21T11:39:57.121Z"
   },
   {
    "duration": 17,
    "start_time": "2022-01-21T11:39:57.162Z"
   },
   {
    "duration": 12,
    "start_time": "2022-01-21T11:39:57.181Z"
   },
   {
    "duration": 46,
    "start_time": "2022-01-21T11:39:57.195Z"
   },
   {
    "duration": 4,
    "start_time": "2022-01-21T11:39:57.243Z"
   },
   {
    "duration": 18,
    "start_time": "2022-01-21T11:39:57.248Z"
   },
   {
    "duration": 27,
    "start_time": "2022-01-21T11:39:57.268Z"
   },
   {
    "duration": 6,
    "start_time": "2022-01-21T11:39:57.296Z"
   },
   {
    "duration": 13,
    "start_time": "2022-01-21T11:39:57.303Z"
   },
   {
    "duration": 10,
    "start_time": "2022-01-21T11:39:57.341Z"
   },
   {
    "duration": 15,
    "start_time": "2022-01-21T11:39:57.353Z"
   },
   {
    "duration": 3250,
    "start_time": "2022-01-21T11:39:57.369Z"
   },
   {
    "duration": 27,
    "start_time": "2022-01-21T11:40:00.621Z"
   },
   {
    "duration": 22,
    "start_time": "2022-01-21T11:40:00.649Z"
   },
   {
    "duration": 30,
    "start_time": "2022-01-21T11:40:00.673Z"
   },
   {
    "duration": 17,
    "start_time": "2022-01-21T11:40:00.705Z"
   },
   {
    "duration": 25,
    "start_time": "2022-01-21T11:40:00.724Z"
   },
   {
    "duration": 6,
    "start_time": "2022-01-21T11:40:00.753Z"
   },
   {
    "duration": 30,
    "start_time": "2022-01-21T11:40:00.760Z"
   },
   {
    "duration": 7,
    "start_time": "2022-01-21T11:40:00.792Z"
   },
   {
    "duration": 94,
    "start_time": "2022-01-21T11:42:07.836Z"
   },
   {
    "duration": 9,
    "start_time": "2022-01-21T11:42:07.931Z"
   },
   {
    "duration": 20,
    "start_time": "2022-01-21T11:42:07.942Z"
   },
   {
    "duration": 27,
    "start_time": "2022-01-21T11:42:07.964Z"
   },
   {
    "duration": 7,
    "start_time": "2022-01-21T11:42:07.992Z"
   },
   {
    "duration": 34,
    "start_time": "2022-01-21T11:42:08.000Z"
   },
   {
    "duration": 23,
    "start_time": "2022-01-21T11:42:08.036Z"
   },
   {
    "duration": 14,
    "start_time": "2022-01-21T11:42:08.061Z"
   },
   {
    "duration": 29,
    "start_time": "2022-01-21T11:42:08.077Z"
   },
   {
    "duration": 20,
    "start_time": "2022-01-21T11:42:08.108Z"
   },
   {
    "duration": 28,
    "start_time": "2022-01-21T11:42:08.129Z"
   },
   {
    "duration": 37,
    "start_time": "2022-01-21T11:42:08.159Z"
   },
   {
    "duration": 5,
    "start_time": "2022-01-21T11:42:08.198Z"
   },
   {
    "duration": 31,
    "start_time": "2022-01-21T11:42:08.205Z"
   },
   {
    "duration": 11,
    "start_time": "2022-01-21T11:42:08.238Z"
   },
   {
    "duration": 17,
    "start_time": "2022-01-21T11:42:08.251Z"
   },
   {
    "duration": 2412,
    "start_time": "2022-01-21T11:42:08.269Z"
   },
   {
    "duration": 32,
    "start_time": "2022-01-21T11:42:10.684Z"
   },
   {
    "duration": 40,
    "start_time": "2022-01-21T11:42:10.718Z"
   },
   {
    "duration": 17,
    "start_time": "2022-01-21T11:42:10.760Z"
   },
   {
    "duration": 23,
    "start_time": "2022-01-21T11:42:10.779Z"
   },
   {
    "duration": 42,
    "start_time": "2022-01-21T11:42:10.804Z"
   },
   {
    "duration": 8,
    "start_time": "2022-01-21T11:42:10.849Z"
   },
   {
    "duration": 19,
    "start_time": "2022-01-21T11:42:10.859Z"
   },
   {
    "duration": 9,
    "start_time": "2022-01-21T11:42:10.880Z"
   },
   {
    "duration": 7,
    "start_time": "2022-01-21T11:43:45.515Z"
   },
   {
    "duration": 12,
    "start_time": "2022-01-21T11:43:59.362Z"
   },
   {
    "duration": 7,
    "start_time": "2022-01-21T11:44:01.379Z"
   },
   {
    "duration": 91,
    "start_time": "2022-01-21T11:46:19.907Z"
   },
   {
    "duration": 10,
    "start_time": "2022-01-21T11:46:20.000Z"
   },
   {
    "duration": 32,
    "start_time": "2022-01-21T11:46:20.013Z"
   },
   {
    "duration": 27,
    "start_time": "2022-01-21T11:46:20.047Z"
   },
   {
    "duration": 42,
    "start_time": "2022-01-21T11:46:20.076Z"
   },
   {
    "duration": 24,
    "start_time": "2022-01-21T11:46:20.120Z"
   },
   {
    "duration": 12,
    "start_time": "2022-01-21T11:46:20.146Z"
   },
   {
    "duration": 22,
    "start_time": "2022-01-21T11:46:20.159Z"
   },
   {
    "duration": 4,
    "start_time": "2022-01-21T11:46:20.183Z"
   },
   {
    "duration": 24,
    "start_time": "2022-01-21T11:46:20.189Z"
   },
   {
    "duration": 46,
    "start_time": "2022-01-21T11:46:20.214Z"
   },
   {
    "duration": 6,
    "start_time": "2022-01-21T11:46:20.261Z"
   },
   {
    "duration": 41,
    "start_time": "2022-01-21T11:46:20.269Z"
   },
   {
    "duration": 14,
    "start_time": "2022-01-21T11:46:20.312Z"
   },
   {
    "duration": 22,
    "start_time": "2022-01-21T11:46:20.328Z"
   },
   {
    "duration": 2643,
    "start_time": "2022-01-21T11:46:20.352Z"
   },
   {
    "duration": 20,
    "start_time": "2022-01-21T11:46:22.997Z"
   },
   {
    "duration": 32,
    "start_time": "2022-01-21T11:46:23.019Z"
   },
   {
    "duration": 18,
    "start_time": "2022-01-21T11:46:23.054Z"
   },
   {
    "duration": 18,
    "start_time": "2022-01-21T11:46:23.074Z"
   },
   {
    "duration": 15,
    "start_time": "2022-01-21T11:46:23.094Z"
   },
   {
    "duration": 6,
    "start_time": "2022-01-21T11:46:23.111Z"
   },
   {
    "duration": 33,
    "start_time": "2022-01-21T11:46:23.118Z"
   },
   {
    "duration": 9,
    "start_time": "2022-01-21T11:46:23.152Z"
   },
   {
    "duration": 4,
    "start_time": "2022-01-21T11:48:13.176Z"
   },
   {
    "duration": 9,
    "start_time": "2022-01-21T11:48:20.856Z"
   },
   {
    "duration": 7,
    "start_time": "2022-01-21T11:49:25.957Z"
   },
   {
    "duration": 95,
    "start_time": "2022-01-21T11:49:31.477Z"
   },
   {
    "duration": 11,
    "start_time": "2022-01-21T11:49:31.574Z"
   },
   {
    "duration": 8,
    "start_time": "2022-01-21T11:49:31.587Z"
   },
   {
    "duration": 22,
    "start_time": "2022-01-21T11:49:31.597Z"
   },
   {
    "duration": 37,
    "start_time": "2022-01-21T11:49:31.621Z"
   },
   {
    "duration": 19,
    "start_time": "2022-01-21T11:49:31.659Z"
   },
   {
    "duration": 13,
    "start_time": "2022-01-21T11:49:31.680Z"
   },
   {
    "duration": 48,
    "start_time": "2022-01-21T11:49:31.695Z"
   },
   {
    "duration": 5,
    "start_time": "2022-01-21T11:49:31.746Z"
   },
   {
    "duration": 18,
    "start_time": "2022-01-21T11:49:31.752Z"
   },
   {
    "duration": 30,
    "start_time": "2022-01-21T11:49:31.771Z"
   },
   {
    "duration": 6,
    "start_time": "2022-01-21T11:49:31.803Z"
   },
   {
    "duration": 42,
    "start_time": "2022-01-21T11:49:31.810Z"
   },
   {
    "duration": 9,
    "start_time": "2022-01-21T11:49:31.854Z"
   },
   {
    "duration": 16,
    "start_time": "2022-01-21T11:49:31.864Z"
   },
   {
    "duration": 2352,
    "start_time": "2022-01-21T11:49:31.882Z"
   },
   {
    "duration": 23,
    "start_time": "2022-01-21T11:49:34.235Z"
   },
   {
    "duration": 20,
    "start_time": "2022-01-21T11:49:34.259Z"
   },
   {
    "duration": 14,
    "start_time": "2022-01-21T11:49:34.281Z"
   },
   {
    "duration": 21,
    "start_time": "2022-01-21T11:49:34.296Z"
   },
   {
    "duration": 29,
    "start_time": "2022-01-21T11:49:34.318Z"
   },
   {
    "duration": 5,
    "start_time": "2022-01-21T11:49:34.348Z"
   },
   {
    "duration": 26,
    "start_time": "2022-01-21T11:49:34.355Z"
   },
   {
    "duration": 6,
    "start_time": "2022-01-21T11:49:34.383Z"
   },
   {
    "duration": 8,
    "start_time": "2022-01-21T11:49:59.412Z"
   },
   {
    "duration": 93,
    "start_time": "2022-01-21T11:50:07.034Z"
   },
   {
    "duration": 10,
    "start_time": "2022-01-21T11:50:07.128Z"
   },
   {
    "duration": 9,
    "start_time": "2022-01-21T11:50:07.140Z"
   },
   {
    "duration": 16,
    "start_time": "2022-01-21T11:50:07.151Z"
   },
   {
    "duration": 17,
    "start_time": "2022-01-21T11:50:07.168Z"
   },
   {
    "duration": 16,
    "start_time": "2022-01-21T11:50:07.187Z"
   },
   {
    "duration": 10,
    "start_time": "2022-01-21T11:50:07.205Z"
   },
   {
    "duration": 15,
    "start_time": "2022-01-21T11:50:07.242Z"
   },
   {
    "duration": 4,
    "start_time": "2022-01-21T11:50:07.259Z"
   },
   {
    "duration": 20,
    "start_time": "2022-01-21T11:50:07.264Z"
   },
   {
    "duration": 30,
    "start_time": "2022-01-21T11:50:07.285Z"
   },
   {
    "duration": 28,
    "start_time": "2022-01-21T11:50:07.316Z"
   },
   {
    "duration": 12,
    "start_time": "2022-01-21T11:50:07.345Z"
   },
   {
    "duration": 16,
    "start_time": "2022-01-21T11:50:07.359Z"
   },
   {
    "duration": 15,
    "start_time": "2022-01-21T11:50:07.377Z"
   },
   {
    "duration": 2625,
    "start_time": "2022-01-21T11:50:07.394Z"
   },
   {
    "duration": 25,
    "start_time": "2022-01-21T11:50:10.021Z"
   },
   {
    "duration": 31,
    "start_time": "2022-01-21T11:50:10.048Z"
   },
   {
    "duration": 14,
    "start_time": "2022-01-21T11:50:10.081Z"
   },
   {
    "duration": 16,
    "start_time": "2022-01-21T11:50:10.097Z"
   },
   {
    "duration": 27,
    "start_time": "2022-01-21T11:50:10.114Z"
   },
   {
    "duration": 6,
    "start_time": "2022-01-21T11:50:10.143Z"
   },
   {
    "duration": 18,
    "start_time": "2022-01-21T11:50:10.153Z"
   },
   {
    "duration": 6,
    "start_time": "2022-01-21T11:50:10.173Z"
   },
   {
    "duration": 92,
    "start_time": "2022-01-21T11:55:09.567Z"
   },
   {
    "duration": 11,
    "start_time": "2022-01-21T11:55:09.661Z"
   },
   {
    "duration": 8,
    "start_time": "2022-01-21T11:55:09.674Z"
   },
   {
    "duration": 13,
    "start_time": "2022-01-21T11:55:09.683Z"
   },
   {
    "duration": 45,
    "start_time": "2022-01-21T11:55:09.697Z"
   },
   {
    "duration": 17,
    "start_time": "2022-01-21T11:55:09.744Z"
   },
   {
    "duration": 15,
    "start_time": "2022-01-21T11:55:09.762Z"
   },
   {
    "duration": 14,
    "start_time": "2022-01-21T11:55:09.778Z"
   },
   {
    "duration": 4,
    "start_time": "2022-01-21T11:55:09.794Z"
   },
   {
    "duration": 47,
    "start_time": "2022-01-21T11:55:09.800Z"
   },
   {
    "duration": 29,
    "start_time": "2022-01-21T11:55:09.848Z"
   },
   {
    "duration": 6,
    "start_time": "2022-01-21T11:55:09.878Z"
   },
   {
    "duration": 13,
    "start_time": "2022-01-21T11:55:09.885Z"
   },
   {
    "duration": 11,
    "start_time": "2022-01-21T11:55:09.900Z"
   },
   {
    "duration": 38,
    "start_time": "2022-01-21T11:55:09.913Z"
   },
   {
    "duration": 2705,
    "start_time": "2022-01-21T11:55:09.953Z"
   },
   {
    "duration": 19,
    "start_time": "2022-01-21T11:55:12.660Z"
   },
   {
    "duration": 53,
    "start_time": "2022-01-21T11:55:12.681Z"
   },
   {
    "duration": 49,
    "start_time": "2022-01-21T11:55:12.735Z"
   },
   {
    "duration": 52,
    "start_time": "2022-01-21T11:55:12.786Z"
   },
   {
    "duration": 43,
    "start_time": "2022-01-21T11:55:12.839Z"
   },
   {
    "duration": 38,
    "start_time": "2022-01-21T11:55:12.884Z"
   },
   {
    "duration": 52,
    "start_time": "2022-01-21T11:55:12.923Z"
   },
   {
    "duration": 38,
    "start_time": "2022-01-21T11:55:12.977Z"
   },
   {
    "duration": 7,
    "start_time": "2022-01-21T12:04:08.163Z"
   },
   {
    "duration": 97,
    "start_time": "2022-01-21T12:04:14.870Z"
   },
   {
    "duration": 10,
    "start_time": "2022-01-21T12:04:14.969Z"
   },
   {
    "duration": 15,
    "start_time": "2022-01-21T12:04:14.981Z"
   },
   {
    "duration": 18,
    "start_time": "2022-01-21T12:04:14.998Z"
   },
   {
    "duration": 24,
    "start_time": "2022-01-21T12:04:15.018Z"
   },
   {
    "duration": 20,
    "start_time": "2022-01-21T12:04:15.043Z"
   },
   {
    "duration": 21,
    "start_time": "2022-01-21T12:04:15.064Z"
   },
   {
    "duration": 11,
    "start_time": "2022-01-21T12:04:15.087Z"
   },
   {
    "duration": 41,
    "start_time": "2022-01-21T12:04:15.101Z"
   },
   {
    "duration": 4,
    "start_time": "2022-01-21T12:04:15.144Z"
   },
   {
    "duration": 17,
    "start_time": "2022-01-21T12:04:15.149Z"
   },
   {
    "duration": 33,
    "start_time": "2022-01-21T12:04:15.168Z"
   },
   {
    "duration": 13,
    "start_time": "2022-01-21T12:04:15.203Z"
   },
   {
    "duration": 30,
    "start_time": "2022-01-21T12:04:15.217Z"
   },
   {
    "duration": 12,
    "start_time": "2022-01-21T12:04:15.249Z"
   },
   {
    "duration": 24,
    "start_time": "2022-01-21T12:04:15.262Z"
   },
   {
    "duration": 2547,
    "start_time": "2022-01-21T12:04:15.288Z"
   },
   {
    "duration": 22,
    "start_time": "2022-01-21T12:04:17.836Z"
   },
   {
    "duration": 21,
    "start_time": "2022-01-21T12:04:17.859Z"
   },
   {
    "duration": 16,
    "start_time": "2022-01-21T12:04:17.881Z"
   },
   {
    "duration": 43,
    "start_time": "2022-01-21T12:04:17.899Z"
   },
   {
    "duration": 14,
    "start_time": "2022-01-21T12:04:17.943Z"
   },
   {
    "duration": 6,
    "start_time": "2022-01-21T12:04:17.958Z"
   },
   {
    "duration": 14,
    "start_time": "2022-01-21T12:04:17.966Z"
   },
   {
    "duration": 6,
    "start_time": "2022-01-21T12:04:17.982Z"
   },
   {
    "duration": 12,
    "start_time": "2022-01-21T12:06:05.494Z"
   },
   {
    "duration": 354,
    "start_time": "2022-01-26T06:42:17.786Z"
   }
  ],
  "kernelspec": {
   "display_name": "Python 3 (ipykernel)",
   "language": "python",
   "name": "python3"
  },
  "language_info": {
   "codemirror_mode": {
    "name": "ipython",
    "version": 3
   },
   "file_extension": ".py",
   "mimetype": "text/x-python",
   "name": "python",
   "nbconvert_exporter": "python",
   "pygments_lexer": "ipython3",
   "version": "3.9.7"
  },
  "toc": {
   "base_numbering": 1,
   "nav_menu": {},
   "number_sections": true,
   "sideBar": true,
   "skip_h1_title": true,
   "title_cell": "Table of Contents",
   "title_sidebar": "Contents",
   "toc_cell": false,
   "toc_position": {},
   "toc_section_display": true,
   "toc_window_display": true
  }
 },
 "nbformat": 4,
 "nbformat_minor": 2
}
