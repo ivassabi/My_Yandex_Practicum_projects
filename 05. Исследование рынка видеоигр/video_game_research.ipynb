{
 "cells": [
  {
   "cell_type": "markdown",
   "metadata": {
    "toc": true
   },
   "source": [
    "<h1>Содержание<span class=\"tocSkip\"></span></h1>\n",
    "<div class=\"toc\"><ul class=\"toc-item\"><li><span><a href=\"#Шаг-1.-Ознакомление-с-данными\" data-toc-modified-id=\"Шаг-1.-Ознакомление-с-данными-1\"><span class=\"toc-item-num\">1&nbsp;&nbsp;</span>Шаг 1. Ознакомление с данными</a></span></li><li><span><a href=\"#Шаг-2.-Подготовьте-данные\" data-toc-modified-id=\"Шаг-2.-Подготовьте-данные-2\"><span class=\"toc-item-num\">2&nbsp;&nbsp;</span><strong>Шаг 2. Подготовьте данные</strong></a></span><ul class=\"toc-item\"><li><span><a href=\"#Заменим-названия-столбцов-(приведите-к-нижнему-регистру)\" data-toc-modified-id=\"Заменим-названия-столбцов-(приведите-к-нижнему-регистру)-2.1\"><span class=\"toc-item-num\">2.1&nbsp;&nbsp;</span>Заменим названия столбцов (приведите к нижнему регистру)</a></span></li><li><span><a href=\"#Преобразуйте-данные-в-нужные-типы.-Опишите,-в-каких-столбцах-заменили-тип-данных-и-почему\" data-toc-modified-id=\"Преобразуйте-данные-в-нужные-типы.-Опишите,-в-каких-столбцах-заменили-тип-данных-и-почему-2.2\"><span class=\"toc-item-num\">2.2&nbsp;&nbsp;</span>Преобразуйте данные в нужные типы. Опишите, в каких столбцах заменили тип данных и почему</a></span></li><li><span><a href=\"#Посчитаем-суммарные-продажи-по-всем-регионам\" data-toc-modified-id=\"Посчитаем-суммарные-продажи-по-всем-регионам-2.3\"><span class=\"toc-item-num\">2.3&nbsp;&nbsp;</span>Посчитаем суммарные продажи по всем регионам</a></span></li></ul></li><li><span><a href=\"#Шаг-3.-Проведите-исследовательский-анализ-данных\" data-toc-modified-id=\"Шаг-3.-Проведите-исследовательский-анализ-данных-3\"><span class=\"toc-item-num\">3&nbsp;&nbsp;</span><strong>Шаг 3. Проведите исследовательский анализ данных</strong></a></span><ul class=\"toc-item\"><li><span><a href=\"#Посмотрим,-сколько-игр-выпускалось-в-разные-годы.\" data-toc-modified-id=\"Посмотрим,-сколько-игр-выпускалось-в-разные-годы.-3.1\"><span class=\"toc-item-num\">3.1&nbsp;&nbsp;</span>Посмотрим, сколько игр выпускалось в разные годы.</a></span></li><li><span><a href=\"#Посмотрим,-как-менялись-продажи-по-платформам.-Выберем-платформы-с-наибольшими-суммарными-продажами-и-построим-распределение-по-годам.-Рассчитаем-характерный-срок-появляются-новых-и-исчезновение-старых-платформ.\" data-toc-modified-id=\"Посмотрим,-как-менялись-продажи-по-платформам.-Выберем-платформы-с-наибольшими-суммарными-продажами-и-построим-распределение-по-годам.-Рассчитаем-характерный-срок-появляются-новых-и-исчезновение-старых-платформ.-3.2\"><span class=\"toc-item-num\">3.2&nbsp;&nbsp;</span>Посмотрим, как менялись продажи по платформам. Выберем платформы с наибольшими суммарными продажами и построим распределение по годам. Рассчитаем характерный срок появляются новых и исчезновение старых платформ.</a></span><ul class=\"toc-item\"><li><span><a href=\"#Отсортируем-платформы-с-наибольшими-суммарными-продажами\" data-toc-modified-id=\"Отсортируем-платформы-с-наибольшими-суммарными-продажами-3.2.1\"><span class=\"toc-item-num\">3.2.1&nbsp;&nbsp;</span>Отсортируем платформы с наибольшими суммарными продажами</a></span></li><li><span><a href=\"#Выберем-платформы-с-наибольшими-суммарными-продажами-и-построим-распределение-по-годам.\" data-toc-modified-id=\"Выберем-платформы-с-наибольшими-суммарными-продажами-и-построим-распределение-по-годам.-3.2.2\"><span class=\"toc-item-num\">3.2.2&nbsp;&nbsp;</span>Выберем платформы с наибольшими суммарными продажами и построим распределение по годам.</a></span></li><li><span><a href=\"#Посчитаем-срок-появления-новых-и-исчезновения-старые-платформ\" data-toc-modified-id=\"Посчитаем-срок-появления-новых-и-исчезновения-старые-платформ-3.2.3\"><span class=\"toc-item-num\">3.2.3&nbsp;&nbsp;</span>Посчитаем срок появления новых и исчезновения старые платформ</a></span></li></ul></li><li><span><a href=\"#Определим-актуальный-период\" data-toc-modified-id=\"Определим-актуальный-период-3.3\"><span class=\"toc-item-num\">3.3&nbsp;&nbsp;</span>Определим актуальный период</a></span></li><li><span><a href=\"#Выберем-5-наиболее-прибыльных-платформ-за-актуальный-период\" data-toc-modified-id=\"Выберем-5-наиболее-прибыльных-платформ-за-актуальный-период-3.4\"><span class=\"toc-item-num\">3.4&nbsp;&nbsp;</span>Выберем 5 наиболее прибыльных платформ за актуальный период</a></span></li><li><span><a href=\"#Построим-график-«ящик-с-усами»-по-глобальным-продажам-игр-в-разбивке-по-платформам.\" data-toc-modified-id=\"Построим-график-«ящик-с-усами»-по-глобальным-продажам-игр-в-разбивке-по-платформам.-3.5\"><span class=\"toc-item-num\">3.5&nbsp;&nbsp;</span>Построим график «ящик с усами» по глобальным продажам игр в разбивке по платформам.</a></span></li><li><span><a href=\"#Посмотрим,-как-влияют-на-продажи-внутри-одной-популярной-платформы-отзывы-пользователей-и-критиков.-Построим-диаграмму-рассеяния-и-посчитаем-корреляцию-между-отзывами-и-продажами.\" data-toc-modified-id=\"Посмотрим,-как-влияют-на-продажи-внутри-одной-популярной-платформы-отзывы-пользователей-и-критиков.-Построим-диаграмму-рассеяния-и-посчитаем-корреляцию-между-отзывами-и-продажами.-3.6\"><span class=\"toc-item-num\">3.6&nbsp;&nbsp;</span>Посмотрим, как влияют на продажи внутри одной популярной платформы отзывы пользователей и критиков. Построим диаграмму рассеяния и посчитаем корреляцию между отзывами и продажами.</a></span></li><li><span><a href=\"#Посмотрим-на-общее-распределение-игр-по-жанрам.-Что-можно-сказать-о-самых-прибыльных-жанрах?-Выделяются-ли-жанры-с-высокими-и-низкими-продажами?\" data-toc-modified-id=\"Посмотрим-на-общее-распределение-игр-по-жанрам.-Что-можно-сказать-о-самых-прибыльных-жанрах?-Выделяются-ли-жанры-с-высокими-и-низкими-продажами?-3.7\"><span class=\"toc-item-num\">3.7&nbsp;&nbsp;</span>Посмотрим на общее распределение игр по жанрам. Что можно сказать о самых прибыльных жанрах? Выделяются ли жанры с высокими и низкими продажами?</a></span></li></ul></li><li><span><a href=\"#Шаг-4.-Составьте-портрет-пользователя-каждого-региона\" data-toc-modified-id=\"Шаг-4.-Составьте-портрет-пользователя-каждого-региона-4\"><span class=\"toc-item-num\">4&nbsp;&nbsp;</span><strong>Шаг 4. Составьте портрет пользователя каждого региона</strong></a></span><ul class=\"toc-item\"><li><span><a href=\"#Определим-для-пользователя-каждого-региона-(NA,-EU,-JP):\" data-toc-modified-id=\"Определим-для-пользователя-каждого-региона-(NA,-EU,-JP):-4.1\"><span class=\"toc-item-num\">4.1&nbsp;&nbsp;</span>Определим для пользователя каждого региона (NA, EU, JP):</a></span><ul class=\"toc-item\"><li><span><a href=\"#Самые-популярные-платформы-(топ-5).-Опишите-различия-в-долях-продаж.\" data-toc-modified-id=\"Самые-популярные-платформы-(топ-5).-Опишите-различия-в-долях-продаж.-4.1.1\"><span class=\"toc-item-num\">4.1.1&nbsp;&nbsp;</span>Самые популярные платформы (топ-5). Опишите различия в долях продаж.</a></span></li><li><span><a href=\"#Самые-популярные-жанры-(топ-5).-Поясните-разницу.\" data-toc-modified-id=\"Самые-популярные-жанры-(топ-5).-Поясните-разницу.-4.1.2\"><span class=\"toc-item-num\">4.1.2&nbsp;&nbsp;</span>Самые популярные жанры (топ-5). Поясните разницу.</a></span></li><li><span><a href=\"#Влияет-ли-рейтинг-ESRB-на-продажи-в-отдельном-регионе?\" data-toc-modified-id=\"Влияет-ли-рейтинг-ESRB-на-продажи-в-отдельном-регионе?-4.1.3\"><span class=\"toc-item-num\">4.1.3&nbsp;&nbsp;</span>Влияет ли рейтинг ESRB на продажи в отдельном регионе?</a></span></li></ul></li></ul></li><li><span><a href=\"#Шаг-5.-Проверьте-гипотезы\" data-toc-modified-id=\"Шаг-5.-Проверьте-гипотезы-5\"><span class=\"toc-item-num\">5&nbsp;&nbsp;</span><strong>Шаг 5. Проверьте гипотезы</strong></a></span><ul class=\"toc-item\"><li><span><a href=\"#Проверим-гипотезу-о-равенстве-средних-пользовательских-рейтингов-платформ-Xbox-One-и-PC\" data-toc-modified-id=\"Проверим-гипотезу-о-равенстве-средних-пользовательских-рейтингов-платформ-Xbox-One-и-PC-5.1\"><span class=\"toc-item-num\">5.1&nbsp;&nbsp;</span>Проверим гипотезу о равенстве средних пользовательских рейтингов платформ Xbox One и PC</a></span></li><li><span><a href=\"#Средние-пользовательские-рейтинги-жанров-Action-(англ.-«действие»,-экшен-игры)-и-Sports-(англ.-«спортивные-соревнования»)-разные.\" data-toc-modified-id=\"Средние-пользовательские-рейтинги-жанров-Action-(англ.-«действие»,-экшен-игры)-и-Sports-(англ.-«спортивные-соревнования»)-разные.-5.2\"><span class=\"toc-item-num\">5.2&nbsp;&nbsp;</span>Средние пользовательские рейтинги жанров Action (англ. «действие», экшен-игры) и Sports (англ. «спортивные соревнования») разные.</a></span></li></ul></li></ul></div>"
   ]
  },
  {
   "cell_type": "markdown",
   "metadata": {},
   "source": [
    "# Исследование видео игр\n",
    "\n",
    "**Описание проекта**\n",
    "\n",
    "Вы работаете в интернет-магазине «Стримчик», который продаёт по всему миру\n",
    "компьютерные игры. Из открытых источников доступны исторические данные о\n",
    "продажах игр, оценки пользователей и экспертов, жанры и платформы\n",
    "(например, Xbox или PlayStation).   \n",
    "**Задача:**  \n",
    "Нужно выявить определяющие успешность\n",
    "игры закономерности. Это позволит сделать ставку на потенциально популярный\n",
    "продукт и спланировать рекламные кампании.  \n",
    "\n",
    "Перед вами данные до 2016 года. Представим, что сейчас декабрь 2016 г., и вы\n",
    "планируете кампанию на 2017-й. Нужно отработать принцип работы с данными.\n",
    "Неважно, прогнозируете ли вы продажи на 2017 год по данным 2016-го или же\n",
    "2027-й — по данным 2026 года"
   ]
  },
  {
   "cell_type": "markdown",
   "metadata": {},
   "source": [
    "**Описание данных**  \n",
    "\n",
    "`Name` — название игры;  \n",
    "`Platform` — платформа;  \n",
    "`Year_of_Release` — год выпуска;  \n",
    "`Genre` — жанр игры;  \n",
    "`NA_sales` — продажи в Северной Америке (миллионы проданных копий);  \n",
    "`EU_sales` — продажи в Европе (миллионы проданных копий);  \n",
    "`JP_sales` — продажи в Японии (миллионы проданных копий);  \n",
    "`Other_sales` — продажи в других странах (миллионы проданных копий);  \n",
    "`Critic_Score` — оценка критиков (максимум 100);  \n",
    "`User_Score` — оценка пользователей (максимум 10);  \n",
    "`Rating` — рейтинг от организации ESRB (англ. Entertainment Software Rating\n",
    "Board). Эта ассоциация определяет рейтинг компьютерных игр и присваивает\n",
    "им подходящую возрастную категорию."
   ]
  },
  {
   "cell_type": "markdown",
   "metadata": {
    "id": "mrbF5_uNTVPf"
   },
   "source": [
    "## Шаг 1. Ознакомление с данными"
   ]
  },
  {
   "cell_type": "code",
   "execution_count": 1,
   "metadata": {
    "id": "jA82Vtd7QB4e"
   },
   "outputs": [],
   "source": [
    "import pandas as pd\n",
    "import numpy as np\n",
    "import matplotlib.pyplot as plt\n",
    "import seaborn as sns\n",
    "import warnings\n",
    "warnings.filterwarnings('ignore')\n",
    "from scipy import stats as st\n",
    "\n",
    "pd.set_option('display.max_columns', None)"
   ]
  },
  {
   "cell_type": "code",
   "execution_count": 2,
   "metadata": {
    "id": "E4rNp9GYQWDh"
   },
   "outputs": [],
   "source": [
    "df = pd.read_csv('C:/Users/79119/Desktop/DF/games_research/games.csv')"
   ]
  },
  {
   "cell_type": "code",
   "execution_count": 3,
   "metadata": {},
   "outputs": [],
   "source": [
    "def df_info(data):\n",
    "    print('Вывод первых строк:')\n",
    "    display(data.head())\n",
    "    print(' ')\n",
    "    print('Общая информация:')\n",
    "    print(data.info())\n",
    "    print(' ')\n",
    "    print('Количество дубликатов')\n",
    "    print(data.duplicated().sum())\n",
    "    print(' ')\n",
    "    print('Количество пропусков:')\n",
    "    print(data.isna().sum())"
   ]
  },
  {
   "cell_type": "code",
   "execution_count": 4,
   "metadata": {},
   "outputs": [
    {
     "name": "stdout",
     "output_type": "stream",
     "text": [
      "Вывод первых строк:\n"
     ]
    },
    {
     "data": {
      "text/html": [
       "<div>\n",
       "<style scoped>\n",
       "    .dataframe tbody tr th:only-of-type {\n",
       "        vertical-align: middle;\n",
       "    }\n",
       "\n",
       "    .dataframe tbody tr th {\n",
       "        vertical-align: top;\n",
       "    }\n",
       "\n",
       "    .dataframe thead th {\n",
       "        text-align: right;\n",
       "    }\n",
       "</style>\n",
       "<table border=\"1\" class=\"dataframe\">\n",
       "  <thead>\n",
       "    <tr style=\"text-align: right;\">\n",
       "      <th></th>\n",
       "      <th>Name</th>\n",
       "      <th>Platform</th>\n",
       "      <th>Year_of_Release</th>\n",
       "      <th>Genre</th>\n",
       "      <th>NA_sales</th>\n",
       "      <th>EU_sales</th>\n",
       "      <th>JP_sales</th>\n",
       "      <th>Other_sales</th>\n",
       "      <th>Critic_Score</th>\n",
       "      <th>User_Score</th>\n",
       "      <th>Rating</th>\n",
       "    </tr>\n",
       "  </thead>\n",
       "  <tbody>\n",
       "    <tr>\n",
       "      <th>0</th>\n",
       "      <td>Wii Sports</td>\n",
       "      <td>Wii</td>\n",
       "      <td>2006.0</td>\n",
       "      <td>Sports</td>\n",
       "      <td>41.36</td>\n",
       "      <td>28.96</td>\n",
       "      <td>3.77</td>\n",
       "      <td>8.45</td>\n",
       "      <td>76.0</td>\n",
       "      <td>8</td>\n",
       "      <td>E</td>\n",
       "    </tr>\n",
       "    <tr>\n",
       "      <th>1</th>\n",
       "      <td>Super Mario Bros.</td>\n",
       "      <td>NES</td>\n",
       "      <td>1985.0</td>\n",
       "      <td>Platform</td>\n",
       "      <td>29.08</td>\n",
       "      <td>3.58</td>\n",
       "      <td>6.81</td>\n",
       "      <td>0.77</td>\n",
       "      <td>NaN</td>\n",
       "      <td>NaN</td>\n",
       "      <td>NaN</td>\n",
       "    </tr>\n",
       "    <tr>\n",
       "      <th>2</th>\n",
       "      <td>Mario Kart Wii</td>\n",
       "      <td>Wii</td>\n",
       "      <td>2008.0</td>\n",
       "      <td>Racing</td>\n",
       "      <td>15.68</td>\n",
       "      <td>12.76</td>\n",
       "      <td>3.79</td>\n",
       "      <td>3.29</td>\n",
       "      <td>82.0</td>\n",
       "      <td>8.3</td>\n",
       "      <td>E</td>\n",
       "    </tr>\n",
       "    <tr>\n",
       "      <th>3</th>\n",
       "      <td>Wii Sports Resort</td>\n",
       "      <td>Wii</td>\n",
       "      <td>2009.0</td>\n",
       "      <td>Sports</td>\n",
       "      <td>15.61</td>\n",
       "      <td>10.93</td>\n",
       "      <td>3.28</td>\n",
       "      <td>2.95</td>\n",
       "      <td>80.0</td>\n",
       "      <td>8</td>\n",
       "      <td>E</td>\n",
       "    </tr>\n",
       "    <tr>\n",
       "      <th>4</th>\n",
       "      <td>Pokemon Red/Pokemon Blue</td>\n",
       "      <td>GB</td>\n",
       "      <td>1996.0</td>\n",
       "      <td>Role-Playing</td>\n",
       "      <td>11.27</td>\n",
       "      <td>8.89</td>\n",
       "      <td>10.22</td>\n",
       "      <td>1.00</td>\n",
       "      <td>NaN</td>\n",
       "      <td>NaN</td>\n",
       "      <td>NaN</td>\n",
       "    </tr>\n",
       "  </tbody>\n",
       "</table>\n",
       "</div>"
      ],
      "text/plain": [
       "                       Name Platform  Year_of_Release         Genre  NA_sales  \\\n",
       "0                Wii Sports      Wii           2006.0        Sports     41.36   \n",
       "1         Super Mario Bros.      NES           1985.0      Platform     29.08   \n",
       "2            Mario Kart Wii      Wii           2008.0        Racing     15.68   \n",
       "3         Wii Sports Resort      Wii           2009.0        Sports     15.61   \n",
       "4  Pokemon Red/Pokemon Blue       GB           1996.0  Role-Playing     11.27   \n",
       "\n",
       "   EU_sales  JP_sales  Other_sales  Critic_Score User_Score Rating  \n",
       "0     28.96      3.77         8.45          76.0          8      E  \n",
       "1      3.58      6.81         0.77           NaN        NaN    NaN  \n",
       "2     12.76      3.79         3.29          82.0        8.3      E  \n",
       "3     10.93      3.28         2.95          80.0          8      E  \n",
       "4      8.89     10.22         1.00           NaN        NaN    NaN  "
      ]
     },
     "metadata": {},
     "output_type": "display_data"
    },
    {
     "name": "stdout",
     "output_type": "stream",
     "text": [
      " \n",
      "Общая информация:\n",
      "<class 'pandas.core.frame.DataFrame'>\n",
      "RangeIndex: 16715 entries, 0 to 16714\n",
      "Data columns (total 11 columns):\n",
      " #   Column           Non-Null Count  Dtype  \n",
      "---  ------           --------------  -----  \n",
      " 0   Name             16713 non-null  object \n",
      " 1   Platform         16715 non-null  object \n",
      " 2   Year_of_Release  16446 non-null  float64\n",
      " 3   Genre            16713 non-null  object \n",
      " 4   NA_sales         16715 non-null  float64\n",
      " 5   EU_sales         16715 non-null  float64\n",
      " 6   JP_sales         16715 non-null  float64\n",
      " 7   Other_sales      16715 non-null  float64\n",
      " 8   Critic_Score     8137 non-null   float64\n",
      " 9   User_Score       10014 non-null  object \n",
      " 10  Rating           9949 non-null   object \n",
      "dtypes: float64(6), object(5)\n",
      "memory usage: 1.4+ MB\n",
      "None\n",
      " \n",
      "Количество дубликатов\n",
      "0\n",
      " \n",
      "Количество пропусков:\n",
      "Name                  2\n",
      "Platform              0\n",
      "Year_of_Release     269\n",
      "Genre                 2\n",
      "NA_sales              0\n",
      "EU_sales              0\n",
      "JP_sales              0\n",
      "Other_sales           0\n",
      "Critic_Score       8578\n",
      "User_Score         6701\n",
      "Rating             6766\n",
      "dtype: int64\n"
     ]
    }
   ],
   "source": [
    "df_info(df)"
   ]
  },
  {
   "cell_type": "markdown",
   "metadata": {
    "id": "MALngbxzUKct"
   },
   "source": [
    "Предоставленная таблица состоит из 16715 строк и 11 столбцов, и которых 6 столбцов типа float и 5- типа object. При первичном ознакомлении в признаках `Name`, `Critic_Score`, `Year_of_Release`, `User_Score`, и `Rating` присутствуют пропуски. Я вных дубликатов не выявлено."
   ]
  },
  {
   "cell_type": "markdown",
   "metadata": {
    "id": "_SeNVRXsUoUE"
   },
   "source": [
    "## **Шаг 2. Подготовьте данные**"
   ]
  },
  {
   "cell_type": "markdown",
   "metadata": {
    "id": "-mg89uWuU4q9"
   },
   "source": [
    "### Заменим названия столбцов (приведите к нижнему регистру)"
   ]
  },
  {
   "cell_type": "code",
   "execution_count": 5,
   "metadata": {
    "id": "Xze5M53yB4F9"
   },
   "outputs": [],
   "source": [
    "df.columns = df.columns.str.lower()"
   ]
  },
  {
   "cell_type": "code",
   "execution_count": 6,
   "metadata": {
    "colab": {
     "base_uri": "https://localhost:8080/",
     "height": 206
    },
    "id": "MNaZ9Xc7W3BH",
    "outputId": "989b3b2c-28a4-4451-d360-187ec1a47246"
   },
   "outputs": [
    {
     "data": {
      "text/plain": [
       "Index(['name', 'platform', 'year_of_release', 'genre', 'na_sales', 'eu_sales',\n",
       "       'jp_sales', 'other_sales', 'critic_score', 'user_score', 'rating'],\n",
       "      dtype='object')"
      ]
     },
     "execution_count": 6,
     "metadata": {},
     "output_type": "execute_result"
    }
   ],
   "source": [
    "df.columns"
   ]
  },
  {
   "cell_type": "markdown",
   "metadata": {
    "id": "I6mRg1tVb7AP"
   },
   "source": [
    "### Преобразуйте данные в нужные типы. Опишите, в каких столбцах заменили тип данных и почему\n"
   ]
  },
  {
   "cell_type": "markdown",
   "metadata": {
    "id": "ECGqZCmZmhT9"
   },
   "source": [
    "Пропуски столбцах name, year_of_release и genre занимают менее 2% поэтому целесообразней их удалить"
   ]
  },
  {
   "cell_type": "code",
   "execution_count": 7,
   "metadata": {
    "id": "rmy47oKCfA_u"
   },
   "outputs": [],
   "source": [
    "df1 = df.copy()"
   ]
  },
  {
   "cell_type": "code",
   "execution_count": 8,
   "metadata": {
    "id": "J4aAT0tDm_Sm"
   },
   "outputs": [],
   "source": [
    "df1 = df.dropna(subset=['name', 'year_of_release', 'genre'])"
   ]
  },
  {
   "cell_type": "code",
   "execution_count": 9,
   "metadata": {
    "colab": {
     "base_uri": "https://localhost:8080/"
    },
    "id": "bG-BSrnrnuc-",
    "outputId": "e4a3072e-3768-41b9-bcf4-308d283b30a8"
   },
   "outputs": [
    {
     "data": {
      "text/plain": [
       "name                  0\n",
       "platform              0\n",
       "year_of_release       0\n",
       "genre                 0\n",
       "na_sales              0\n",
       "eu_sales              0\n",
       "jp_sales              0\n",
       "other_sales           0\n",
       "critic_score       8461\n",
       "user_score         6605\n",
       "rating             6676\n",
       "dtype: int64"
      ]
     },
     "execution_count": 9,
     "metadata": {},
     "output_type": "execute_result"
    }
   ],
   "source": [
    "df1.isna().sum()"
   ]
  },
  {
   "cell_type": "markdown",
   "metadata": {
    "id": "I6ZALxVtokDe"
   },
   "source": [
    "Приведем столбец year_of_release к типу integer, т.к. значениями столбца является год выпуска игр."
   ]
  },
  {
   "cell_type": "code",
   "execution_count": 10,
   "metadata": {
    "id": "pPPjU_LMoC4K"
   },
   "outputs": [],
   "source": [
    "df1['year_of_release'] = df1['year_of_release'].astype(int)"
   ]
  },
  {
   "cell_type": "code",
   "execution_count": 11,
   "metadata": {
    "colab": {
     "base_uri": "https://localhost:8080/"
    },
    "id": "JMN1WkDJoSH5",
    "outputId": "617760bd-5daa-48af-f600-61da94ead1e1"
   },
   "outputs": [
    {
     "data": {
      "text/plain": [
       "dtype('int32')"
      ]
     },
     "execution_count": 11,
     "metadata": {},
     "output_type": "execute_result"
    }
   ],
   "source": [
    "df1['year_of_release'].dtype"
   ]
  },
  {
   "cell_type": "markdown",
   "metadata": {
    "id": "AKQ1Nr7buO2z"
   },
   "source": [
    "Приведем значения в столбцах 'name', 'platform', 'genre' к нижнем регистру и посмотрим наличие дубликатов"
   ]
  },
  {
   "cell_type": "code",
   "execution_count": 12,
   "metadata": {
    "colab": {
     "base_uri": "https://localhost:8080/",
     "height": 206
    },
    "id": "vHySMZtHsQZB",
    "outputId": "cdabdc19-78e3-4bc2-ce4d-317d1ac18df0"
   },
   "outputs": [
    {
     "data": {
      "text/html": [
       "<div>\n",
       "<style scoped>\n",
       "    .dataframe tbody tr th:only-of-type {\n",
       "        vertical-align: middle;\n",
       "    }\n",
       "\n",
       "    .dataframe tbody tr th {\n",
       "        vertical-align: top;\n",
       "    }\n",
       "\n",
       "    .dataframe thead th {\n",
       "        text-align: right;\n",
       "    }\n",
       "</style>\n",
       "<table border=\"1\" class=\"dataframe\">\n",
       "  <thead>\n",
       "    <tr style=\"text-align: right;\">\n",
       "      <th></th>\n",
       "      <th>name</th>\n",
       "      <th>platform</th>\n",
       "      <th>year_of_release</th>\n",
       "      <th>genre</th>\n",
       "      <th>na_sales</th>\n",
       "      <th>eu_sales</th>\n",
       "      <th>jp_sales</th>\n",
       "      <th>other_sales</th>\n",
       "      <th>critic_score</th>\n",
       "      <th>user_score</th>\n",
       "      <th>rating</th>\n",
       "    </tr>\n",
       "  </thead>\n",
       "  <tbody>\n",
       "    <tr>\n",
       "      <th>0</th>\n",
       "      <td>wii sports</td>\n",
       "      <td>wii</td>\n",
       "      <td>2006</td>\n",
       "      <td>sports</td>\n",
       "      <td>41.36</td>\n",
       "      <td>28.96</td>\n",
       "      <td>3.77</td>\n",
       "      <td>8.45</td>\n",
       "      <td>76.0</td>\n",
       "      <td>8</td>\n",
       "      <td>E</td>\n",
       "    </tr>\n",
       "    <tr>\n",
       "      <th>1</th>\n",
       "      <td>super mario bros.</td>\n",
       "      <td>nes</td>\n",
       "      <td>1985</td>\n",
       "      <td>platform</td>\n",
       "      <td>29.08</td>\n",
       "      <td>3.58</td>\n",
       "      <td>6.81</td>\n",
       "      <td>0.77</td>\n",
       "      <td>NaN</td>\n",
       "      <td>NaN</td>\n",
       "      <td>NaN</td>\n",
       "    </tr>\n",
       "    <tr>\n",
       "      <th>2</th>\n",
       "      <td>mario kart wii</td>\n",
       "      <td>wii</td>\n",
       "      <td>2008</td>\n",
       "      <td>racing</td>\n",
       "      <td>15.68</td>\n",
       "      <td>12.76</td>\n",
       "      <td>3.79</td>\n",
       "      <td>3.29</td>\n",
       "      <td>82.0</td>\n",
       "      <td>8.3</td>\n",
       "      <td>E</td>\n",
       "    </tr>\n",
       "    <tr>\n",
       "      <th>3</th>\n",
       "      <td>wii sports resort</td>\n",
       "      <td>wii</td>\n",
       "      <td>2009</td>\n",
       "      <td>sports</td>\n",
       "      <td>15.61</td>\n",
       "      <td>10.93</td>\n",
       "      <td>3.28</td>\n",
       "      <td>2.95</td>\n",
       "      <td>80.0</td>\n",
       "      <td>8</td>\n",
       "      <td>E</td>\n",
       "    </tr>\n",
       "    <tr>\n",
       "      <th>4</th>\n",
       "      <td>pokemon red/pokemon blue</td>\n",
       "      <td>gb</td>\n",
       "      <td>1996</td>\n",
       "      <td>role-playing</td>\n",
       "      <td>11.27</td>\n",
       "      <td>8.89</td>\n",
       "      <td>10.22</td>\n",
       "      <td>1.00</td>\n",
       "      <td>NaN</td>\n",
       "      <td>NaN</td>\n",
       "      <td>NaN</td>\n",
       "    </tr>\n",
       "  </tbody>\n",
       "</table>\n",
       "</div>"
      ],
      "text/plain": [
       "                       name platform  year_of_release         genre  na_sales  \\\n",
       "0                wii sports      wii             2006        sports     41.36   \n",
       "1         super mario bros.      nes             1985      platform     29.08   \n",
       "2            mario kart wii      wii             2008        racing     15.68   \n",
       "3         wii sports resort      wii             2009        sports     15.61   \n",
       "4  pokemon red/pokemon blue       gb             1996  role-playing     11.27   \n",
       "\n",
       "   eu_sales  jp_sales  other_sales  critic_score user_score rating  \n",
       "0     28.96      3.77         8.45          76.0          8      E  \n",
       "1      3.58      6.81         0.77           NaN        NaN    NaN  \n",
       "2     12.76      3.79         3.29          82.0        8.3      E  \n",
       "3     10.93      3.28         2.95          80.0          8      E  \n",
       "4      8.89     10.22         1.00           NaN        NaN    NaN  "
      ]
     },
     "execution_count": 12,
     "metadata": {},
     "output_type": "execute_result"
    }
   ],
   "source": [
    "for column_value in ['name', 'platform', 'genre']:\n",
    "    df1[column_value] = df1[column_value].str.lower()\n",
    "df1.head()"
   ]
  },
  {
   "cell_type": "code",
   "execution_count": 13,
   "metadata": {
    "colab": {
     "base_uri": "https://localhost:8080/"
    },
    "id": "oAa3c2aYswgx",
    "outputId": "68a1e910-346e-4ef0-983c-92c9e70ccac1"
   },
   "outputs": [
    {
     "data": {
      "text/plain": [
       "0"
      ]
     },
     "execution_count": 13,
     "metadata": {},
     "output_type": "execute_result"
    }
   ],
   "source": [
    "df1.duplicated().sum()"
   ]
  },
  {
   "cell_type": "markdown",
   "metadata": {
    "id": "px6ldVY74dD7"
   },
   "source": [
    "Аббревиатура tbd значит to be determined, to be done. То есть, данные были нарочно не заполнены, так как не определились с рейтингом. Поэтому предлагаю заменить tbd на Nan и перевести значения в столбце user_score к типу float"
   ]
  },
  {
   "cell_type": "code",
   "execution_count": 14,
   "metadata": {
    "colab": {
     "base_uri": "https://localhost:8080/",
     "height": 590
    },
    "id": "6qmd81pGuhhy",
    "outputId": "a6b2c1a4-15fa-4d15-aac7-a5906b069fc0"
   },
   "outputs": [],
   "source": [
    "df1.loc[df1['user_score'] == 'tbd', 'user_score'] = None\n",
    "df1['user_score'] = df1['user_score'].astype(float)"
   ]
  },
  {
   "cell_type": "code",
   "execution_count": 15,
   "metadata": {
    "scrolled": true
   },
   "outputs": [
    {
     "data": {
      "text/plain": [
       "8981"
      ]
     },
     "execution_count": 15,
     "metadata": {},
     "output_type": "execute_result"
    }
   ],
   "source": [
    "df1['user_score'].isna().sum()"
   ]
  },
  {
   "cell_type": "code",
   "execution_count": 16,
   "metadata": {},
   "outputs": [
    {
     "data": {
      "text/plain": [
       "dtype('float64')"
      ]
     },
     "execution_count": 16,
     "metadata": {},
     "output_type": "execute_result"
    }
   ],
   "source": [
    "df1['user_score'].dtype"
   ]
  },
  {
   "cell_type": "markdown",
   "metadata": {
    "id": "qv96UH3tJuHn"
   },
   "source": [
    "ESRB была основана в 1994 году, поэтому часть пропусков до этого года объяснима. Предположим, что пропуски в рейтинге пользователей и критиков появились в связи с недостаточным количеством отзывов по тем или иным играм. Чтобы не терять значительную часть данных, заполним пропуски в столбцах 'critic_score' и 'user_score' значением -1. Пропуски в столбце 'rating' заполним значением unknown"
   ]
  },
  {
   "cell_type": "code",
   "execution_count": 17,
   "metadata": {
    "colab": {
     "base_uri": "https://localhost:8080/"
    },
    "id": "dqi5fvBuK7OB",
    "outputId": "280d6adc-b88e-4be9-b53c-dda1c1fcadf8"
   },
   "outputs": [
    {
     "data": {
      "text/plain": [
       "name               0\n",
       "platform           0\n",
       "year_of_release    0\n",
       "genre              0\n",
       "na_sales           0\n",
       "eu_sales           0\n",
       "jp_sales           0\n",
       "other_sales        0\n",
       "critic_score       0\n",
       "user_score         0\n",
       "rating             0\n",
       "dtype: int64"
      ]
     },
     "execution_count": 17,
     "metadata": {},
     "output_type": "execute_result"
    }
   ],
   "source": [
    "df1['critic_score'] = df1['critic_score'].fillna(-1)\n",
    "df1['user_score'] = df1['user_score'].fillna(-1)\n",
    "df1['rating'] = df1['rating'].fillna('unknown')\n",
    "df1.isna().sum()"
   ]
  },
  {
   "cell_type": "code",
   "execution_count": 18,
   "metadata": {},
   "outputs": [
    {
     "data": {
      "text/plain": [
       "array(['E', 'unknown', 'M', 'T', 'E10+', 'K-A', 'AO', 'EC', 'RP'],\n",
       "      dtype=object)"
      ]
     },
     "execution_count": 18,
     "metadata": {},
     "output_type": "execute_result"
    }
   ],
   "source": [
    "df1['rating'].unique()"
   ]
  },
  {
   "cell_type": "markdown",
   "metadata": {},
   "source": [
    "Переименум рейтинг K-A \"kids to adults\" в E. Этот рейтинг был заменён на E(«Everyone») 1 января 1998 года."
   ]
  },
  {
   "cell_type": "code",
   "execution_count": 19,
   "metadata": {},
   "outputs": [
    {
     "data": {
      "text/plain": [
       "array(['E', 'unknown', 'M', 'T', 'E10+', 'AO', 'EC', 'RP'], dtype=object)"
      ]
     },
     "execution_count": 19,
     "metadata": {},
     "output_type": "execute_result"
    }
   ],
   "source": [
    "df1.loc[df1['rating'] == 'K-A', 'rating'] = 'E'\n",
    "df1['rating'].unique()"
   ]
  },
  {
   "cell_type": "markdown",
   "metadata": {
    "id": "-VLYvf_QWo7J"
   },
   "source": [
    "### Посчитаем суммарные продажи по всем регионам"
   ]
  },
  {
   "cell_type": "code",
   "execution_count": 20,
   "metadata": {
    "colab": {
     "base_uri": "https://localhost:8080/",
     "height": 268
    },
    "id": "0Uw8tQwPXmNO",
    "outputId": "17d12b95-1c45-42b1-efcc-c1356edbdfd3"
   },
   "outputs": [
    {
     "data": {
      "text/plain": [
       "Index(['name', 'platform', 'year_of_release', 'genre', 'na_sales', 'eu_sales',\n",
       "       'jp_sales', 'other_sales', 'critic_score', 'user_score', 'rating',\n",
       "       'general_sales'],\n",
       "      dtype='object')"
      ]
     },
     "execution_count": 20,
     "metadata": {},
     "output_type": "execute_result"
    }
   ],
   "source": [
    "df1['general_sales'] = df1[['na_sales','eu_sales','jp_sales','other_sales']].sum(axis=1)\n",
    "df1.columns"
   ]
  },
  {
   "cell_type": "markdown",
   "metadata": {
    "id": "o0KtuRSLW8l9"
   },
   "source": [
    "# **Итог:**\n",
    "1. Привели названия столбцов к единому формату  \n",
    "2. Удалили пропуски в столбцах 'name', 'year_of_release' и 'genre' т.к. они занимают менее 2% данных и заменить иэти пропуски какими-то объективными данными не представлятся возможным.  \n",
    "3. Привели столбец year_of_release к типу int, т.к. это год выпуска в дальнейшем так проще будет выполнять вычисления. Также столбцы 'name', 'platform' и 'genre' привели к нижнему регистру и проверили на наличие дубликатов.  \n",
    "4. Проанализировали и заполнили пропуски в столбцах 'critic_scor', 'user_score' и 'rating'\n",
    "5. Посчитали суммарные продажи во всех регионах и записали их в отдельный\n",
    "столбец 'general_sales'\n"
   ]
  },
  {
   "cell_type": "markdown",
   "metadata": {
    "id": "W3060SjPbqAS"
   },
   "source": [
    "## **Шаг 3. Проведите исследовательский анализ данных**"
   ]
  },
  {
   "cell_type": "markdown",
   "metadata": {
    "id": "DNBRZYVYcl71"
   },
   "source": [
    "### Посмотрим, сколько игр выпускалось в разные годы. \n"
   ]
  },
  {
   "cell_type": "code",
   "execution_count": 21,
   "metadata": {
    "colab": {
     "base_uri": "https://localhost:8080/",
     "height": 1000
    },
    "id": "FOKYjdblbWLl",
    "outputId": "a1195d04-f730-4ac8-e67b-f4784963b44c"
   },
   "outputs": [
    {
     "data": {
      "image/png": "[encoded data removed]",
      "text/plain": [
       "<Figure size 720x504 with 1 Axes>"
      ]
     },
     "metadata": {
      "needs_background": "light"
     },
     "output_type": "display_data"
    },
    {
     "data": {
      "text/html": [
       "<div>\n",
       "<style scoped>\n",
       "    .dataframe tbody tr th:only-of-type {\n",
       "        vertical-align: middle;\n",
       "    }\n",
       "\n",
       "    .dataframe tbody tr th {\n",
       "        vertical-align: top;\n",
       "    }\n",
       "\n",
       "    .dataframe thead th {\n",
       "        text-align: right;\n",
       "    }\n",
       "</style>\n",
       "<table border=\"1\" class=\"dataframe\">\n",
       "  <thead>\n",
       "    <tr style=\"text-align: right;\">\n",
       "      <th></th>\n",
       "      <th>year_of_release</th>\n",
       "      <th>count</th>\n",
       "    </tr>\n",
       "  </thead>\n",
       "  <tbody>\n",
       "    <tr>\n",
       "      <th>0</th>\n",
       "      <td>1980</td>\n",
       "      <td>9</td>\n",
       "    </tr>\n",
       "    <tr>\n",
       "      <th>1</th>\n",
       "      <td>1981</td>\n",
       "      <td>46</td>\n",
       "    </tr>\n",
       "    <tr>\n",
       "      <th>2</th>\n",
       "      <td>1982</td>\n",
       "      <td>36</td>\n",
       "    </tr>\n",
       "    <tr>\n",
       "      <th>3</th>\n",
       "      <td>1983</td>\n",
       "      <td>17</td>\n",
       "    </tr>\n",
       "    <tr>\n",
       "      <th>4</th>\n",
       "      <td>1984</td>\n",
       "      <td>14</td>\n",
       "    </tr>\n",
       "    <tr>\n",
       "      <th>5</th>\n",
       "      <td>1985</td>\n",
       "      <td>14</td>\n",
       "    </tr>\n",
       "    <tr>\n",
       "      <th>6</th>\n",
       "      <td>1986</td>\n",
       "      <td>21</td>\n",
       "    </tr>\n",
       "    <tr>\n",
       "      <th>7</th>\n",
       "      <td>1987</td>\n",
       "      <td>16</td>\n",
       "    </tr>\n",
       "    <tr>\n",
       "      <th>8</th>\n",
       "      <td>1988</td>\n",
       "      <td>15</td>\n",
       "    </tr>\n",
       "    <tr>\n",
       "      <th>9</th>\n",
       "      <td>1989</td>\n",
       "      <td>17</td>\n",
       "    </tr>\n",
       "    <tr>\n",
       "      <th>10</th>\n",
       "      <td>1990</td>\n",
       "      <td>16</td>\n",
       "    </tr>\n",
       "    <tr>\n",
       "      <th>11</th>\n",
       "      <td>1991</td>\n",
       "      <td>41</td>\n",
       "    </tr>\n",
       "    <tr>\n",
       "      <th>12</th>\n",
       "      <td>1992</td>\n",
       "      <td>43</td>\n",
       "    </tr>\n",
       "    <tr>\n",
       "      <th>13</th>\n",
       "      <td>1993</td>\n",
       "      <td>60</td>\n",
       "    </tr>\n",
       "    <tr>\n",
       "      <th>14</th>\n",
       "      <td>1994</td>\n",
       "      <td>121</td>\n",
       "    </tr>\n",
       "    <tr>\n",
       "      <th>15</th>\n",
       "      <td>1995</td>\n",
       "      <td>219</td>\n",
       "    </tr>\n",
       "    <tr>\n",
       "      <th>16</th>\n",
       "      <td>1996</td>\n",
       "      <td>263</td>\n",
       "    </tr>\n",
       "    <tr>\n",
       "      <th>17</th>\n",
       "      <td>1997</td>\n",
       "      <td>289</td>\n",
       "    </tr>\n",
       "    <tr>\n",
       "      <th>18</th>\n",
       "      <td>1998</td>\n",
       "      <td>379</td>\n",
       "    </tr>\n",
       "    <tr>\n",
       "      <th>19</th>\n",
       "      <td>1999</td>\n",
       "      <td>338</td>\n",
       "    </tr>\n",
       "    <tr>\n",
       "      <th>20</th>\n",
       "      <td>2000</td>\n",
       "      <td>350</td>\n",
       "    </tr>\n",
       "    <tr>\n",
       "      <th>21</th>\n",
       "      <td>2001</td>\n",
       "      <td>482</td>\n",
       "    </tr>\n",
       "    <tr>\n",
       "      <th>22</th>\n",
       "      <td>2002</td>\n",
       "      <td>829</td>\n",
       "    </tr>\n",
       "    <tr>\n",
       "      <th>23</th>\n",
       "      <td>2003</td>\n",
       "      <td>775</td>\n",
       "    </tr>\n",
       "    <tr>\n",
       "      <th>24</th>\n",
       "      <td>2004</td>\n",
       "      <td>762</td>\n",
       "    </tr>\n",
       "    <tr>\n",
       "      <th>25</th>\n",
       "      <td>2005</td>\n",
       "      <td>939</td>\n",
       "    </tr>\n",
       "    <tr>\n",
       "      <th>26</th>\n",
       "      <td>2006</td>\n",
       "      <td>1006</td>\n",
       "    </tr>\n",
       "    <tr>\n",
       "      <th>27</th>\n",
       "      <td>2007</td>\n",
       "      <td>1197</td>\n",
       "    </tr>\n",
       "    <tr>\n",
       "      <th>28</th>\n",
       "      <td>2008</td>\n",
       "      <td>1427</td>\n",
       "    </tr>\n",
       "    <tr>\n",
       "      <th>29</th>\n",
       "      <td>2009</td>\n",
       "      <td>1426</td>\n",
       "    </tr>\n",
       "    <tr>\n",
       "      <th>30</th>\n",
       "      <td>2010</td>\n",
       "      <td>1255</td>\n",
       "    </tr>\n",
       "    <tr>\n",
       "      <th>31</th>\n",
       "      <td>2011</td>\n",
       "      <td>1136</td>\n",
       "    </tr>\n",
       "    <tr>\n",
       "      <th>32</th>\n",
       "      <td>2012</td>\n",
       "      <td>653</td>\n",
       "    </tr>\n",
       "    <tr>\n",
       "      <th>33</th>\n",
       "      <td>2013</td>\n",
       "      <td>544</td>\n",
       "    </tr>\n",
       "    <tr>\n",
       "      <th>34</th>\n",
       "      <td>2014</td>\n",
       "      <td>581</td>\n",
       "    </tr>\n",
       "    <tr>\n",
       "      <th>35</th>\n",
       "      <td>2015</td>\n",
       "      <td>606</td>\n",
       "    </tr>\n",
       "    <tr>\n",
       "      <th>36</th>\n",
       "      <td>2016</td>\n",
       "      <td>502</td>\n",
       "    </tr>\n",
       "  </tbody>\n",
       "</table>\n",
       "</div>"
      ],
      "text/plain": [
       "    year_of_release  count\n",
       "0              1980      9\n",
       "1              1981     46\n",
       "2              1982     36\n",
       "3              1983     17\n",
       "4              1984     14\n",
       "5              1985     14\n",
       "6              1986     21\n",
       "7              1987     16\n",
       "8              1988     15\n",
       "9              1989     17\n",
       "10             1990     16\n",
       "11             1991     41\n",
       "12             1992     43\n",
       "13             1993     60\n",
       "14             1994    121\n",
       "15             1995    219\n",
       "16             1996    263\n",
       "17             1997    289\n",
       "18             1998    379\n",
       "19             1999    338\n",
       "20             2000    350\n",
       "21             2001    482\n",
       "22             2002    829\n",
       "23             2003    775\n",
       "24             2004    762\n",
       "25             2005    939\n",
       "26             2006   1006\n",
       "27             2007   1197\n",
       "28             2008   1427\n",
       "29             2009   1426\n",
       "30             2010   1255\n",
       "31             2011   1136\n",
       "32             2012    653\n",
       "33             2013    544\n",
       "34             2014    581\n",
       "35             2015    606\n",
       "36             2016    502"
      ]
     },
     "execution_count": 21,
     "metadata": {},
     "output_type": "execute_result"
    }
   ],
   "source": [
    "count_games = df1.pivot_table(index = 'year_of_release', values = 'name', aggfunc= 'count').reset_index()\n",
    "count_games.columns = ['year_of_release', 'count']\n",
    "plt.figure(figsize=(10,7))\n",
    "sns.barplot(data = count_games, x = 'year_of_release', y = 'count')\n",
    "plt.title('Количество выпущенных игр в разгые годы', fontsize = 20)\n",
    "plt.xlabel('Год выпуска')\n",
    "plt.ylabel('Количество игр')\n",
    "plt.xticks(rotation=90)\n",
    "plt.show()\n",
    "\n",
    "count_games"
   ]
  },
  {
   "cell_type": "markdown",
   "metadata": {
    "id": "hYYZZIsZrVgu"
   },
   "source": [
    "Рост количества компьютерных игр практически в 2 раза наблюдается с 2002г. Но в 2008г. этот показатель достигает максимума и потом идет на спад"
   ]
  },
  {
   "cell_type": "markdown",
   "metadata": {
    "id": "5aJhKlgmq-4v"
   },
   "source": [
    "### Посмотрим, как менялись продажи по платформам. Выберем платформы с наибольшими суммарными продажами и построим распределение по годам. Рассчитаем характерный срок появляются новых и исчезновение старых платформ."
   ]
  },
  {
   "cell_type": "markdown",
   "metadata": {
    "id": "pINEa1KzeA3e"
   },
   "source": [
    "#### Отсортируем платформы с наибольшими суммарными продажами"
   ]
  },
  {
   "cell_type": "code",
   "execution_count": 22,
   "metadata": {
    "id": "W_-6S-l2xgzc"
   },
   "outputs": [],
   "source": [
    "top_platforms = (\n",
    "    df1.pivot_table(index=['platform'], values='general_sales', aggfunc='sum')\n",
    "    .reset_index()\n",
    "    .sort_values('general_sales', ascending=False)\n",
    "    .head(10)\n",
    ")"
   ]
  },
  {
   "cell_type": "code",
   "execution_count": 23,
   "metadata": {
    "colab": {
     "base_uri": "https://localhost:8080/",
     "height": 701
    },
    "id": "bj6HqieIVdzR",
    "outputId": "501319e1-26ca-4535-dbb5-8e5e8cd4ea01"
   },
   "outputs": [
    {
     "data": {
      "image/png": "[encoded data removed]",
      "text/plain": [
       "<Figure size 720x360 with 1 Axes>"
      ]
     },
     "metadata": {
      "needs_background": "light"
     },
     "output_type": "display_data"
    },
    {
     "data": {
      "text/html": [
       "<div>\n",
       "<style scoped>\n",
       "    .dataframe tbody tr th:only-of-type {\n",
       "        vertical-align: middle;\n",
       "    }\n",
       "\n",
       "    .dataframe tbody tr th {\n",
       "        vertical-align: top;\n",
       "    }\n",
       "\n",
       "    .dataframe thead th {\n",
       "        text-align: right;\n",
       "    }\n",
       "</style>\n",
       "<table border=\"1\" class=\"dataframe\">\n",
       "  <thead>\n",
       "    <tr style=\"text-align: right;\">\n",
       "      <th></th>\n",
       "      <th>platform</th>\n",
       "      <th>general_sales</th>\n",
       "    </tr>\n",
       "  </thead>\n",
       "  <tbody>\n",
       "    <tr>\n",
       "      <th>16</th>\n",
       "      <td>ps2</td>\n",
       "      <td>1233.56</td>\n",
       "    </tr>\n",
       "    <tr>\n",
       "      <th>28</th>\n",
       "      <td>x360</td>\n",
       "      <td>961.24</td>\n",
       "    </tr>\n",
       "    <tr>\n",
       "      <th>17</th>\n",
       "      <td>ps3</td>\n",
       "      <td>931.34</td>\n",
       "    </tr>\n",
       "    <tr>\n",
       "      <th>25</th>\n",
       "      <td>wii</td>\n",
       "      <td>891.18</td>\n",
       "    </tr>\n",
       "    <tr>\n",
       "      <th>4</th>\n",
       "      <td>ds</td>\n",
       "      <td>802.78</td>\n",
       "    </tr>\n",
       "    <tr>\n",
       "      <th>15</th>\n",
       "      <td>ps</td>\n",
       "      <td>727.58</td>\n",
       "    </tr>\n",
       "    <tr>\n",
       "      <th>18</th>\n",
       "      <td>ps4</td>\n",
       "      <td>314.14</td>\n",
       "    </tr>\n",
       "    <tr>\n",
       "      <th>6</th>\n",
       "      <td>gba</td>\n",
       "      <td>312.88</td>\n",
       "    </tr>\n",
       "    <tr>\n",
       "      <th>19</th>\n",
       "      <td>psp</td>\n",
       "      <td>289.53</td>\n",
       "    </tr>\n",
       "    <tr>\n",
       "      <th>2</th>\n",
       "      <td>3ds</td>\n",
       "      <td>257.81</td>\n",
       "    </tr>\n",
       "  </tbody>\n",
       "</table>\n",
       "</div>"
      ],
      "text/plain": [
       "   platform  general_sales\n",
       "16      ps2        1233.56\n",
       "28     x360         961.24\n",
       "17      ps3         931.34\n",
       "25      wii         891.18\n",
       "4        ds         802.78\n",
       "15       ps         727.58\n",
       "18      ps4         314.14\n",
       "6       gba         312.88\n",
       "19      psp         289.53\n",
       "2       3ds         257.81"
      ]
     },
     "execution_count": 23,
     "metadata": {},
     "output_type": "execute_result"
    }
   ],
   "source": [
    "plt.figure(figsize=(10,5))\n",
    "sns.barplot(x='platform', y= 'general_sales', data=top_platforms)\n",
    "plt.title('Уровень суммарных продаж по платформам', fontsize= 20)\n",
    "plt.xlabel('Платформы')\n",
    "plt.ylabel('Суммарные продажи')\n",
    "plt.show()\n",
    "\n",
    "top_platforms"
   ]
  },
  {
   "cell_type": "markdown",
   "metadata": {
    "id": "WTo8cgLJeeI2"
   },
   "source": [
    "Как по таблице, так и по графику видно, что лидерами в продажах являются: PS, PS2, PS3, Wii, X360 и DS"
   ]
  },
  {
   "cell_type": "markdown",
   "metadata": {
    "id": "MTi22kY1xI5r"
   },
   "source": [
    "#### Выберем платформы с наибольшими суммарными продажами и построим распределение по годам."
   ]
  },
  {
   "cell_type": "code",
   "execution_count": 24,
   "metadata": {
    "colab": {
     "base_uri": "https://localhost:8080/",
     "height": 206
    },
    "id": "tj7C2T_3drsT",
    "outputId": "72f1c8b3-3e12-4a47-e924-2e4c749f6ebf"
   },
   "outputs": [
    {
     "data": {
      "text/html": [
       "<div>\n",
       "<style scoped>\n",
       "    .dataframe tbody tr th:only-of-type {\n",
       "        vertical-align: middle;\n",
       "    }\n",
       "\n",
       "    .dataframe tbody tr th {\n",
       "        vertical-align: top;\n",
       "    }\n",
       "\n",
       "    .dataframe thead th {\n",
       "        text-align: right;\n",
       "    }\n",
       "</style>\n",
       "<table border=\"1\" class=\"dataframe\">\n",
       "  <thead>\n",
       "    <tr style=\"text-align: right;\">\n",
       "      <th></th>\n",
       "      <th>platform</th>\n",
       "      <th>year_of_release</th>\n",
       "      <th>general_sales</th>\n",
       "    </tr>\n",
       "  </thead>\n",
       "  <tbody>\n",
       "    <tr>\n",
       "      <th>0</th>\n",
       "      <td>ds</td>\n",
       "      <td>1985</td>\n",
       "      <td>0.02</td>\n",
       "    </tr>\n",
       "    <tr>\n",
       "      <th>1</th>\n",
       "      <td>ds</td>\n",
       "      <td>2004</td>\n",
       "      <td>17.27</td>\n",
       "    </tr>\n",
       "    <tr>\n",
       "      <th>2</th>\n",
       "      <td>ds</td>\n",
       "      <td>2005</td>\n",
       "      <td>130.14</td>\n",
       "    </tr>\n",
       "    <tr>\n",
       "      <th>3</th>\n",
       "      <td>ds</td>\n",
       "      <td>2006</td>\n",
       "      <td>119.81</td>\n",
       "    </tr>\n",
       "    <tr>\n",
       "      <th>4</th>\n",
       "      <td>ds</td>\n",
       "      <td>2007</td>\n",
       "      <td>146.94</td>\n",
       "    </tr>\n",
       "  </tbody>\n",
       "</table>\n",
       "</div>"
      ],
      "text/plain": [
       "  platform  year_of_release  general_sales\n",
       "0       ds             1985           0.02\n",
       "1       ds             2004          17.27\n",
       "2       ds             2005         130.14\n",
       "3       ds             2006         119.81\n",
       "4       ds             2007         146.94"
      ]
     },
     "execution_count": 24,
     "metadata": {},
     "output_type": "execute_result"
    }
   ],
   "source": [
    "top_platforms_stat = df1.query('platform in [\"ps2\", \"x360\", \"ps3\", \"wii\", \"ds\", \"ps\"]')\n",
    "top_platforms_stat = top_platforms_stat.pivot_table(index= ['platform', 'year_of_release'], values= 'general_sales', aggfunc = 'sum').reset_index()\n",
    "top_platforms_stat.head()"
   ]
  },
  {
   "cell_type": "code",
   "execution_count": 25,
   "metadata": {
    "colab": {
     "base_uri": "https://localhost:8080/",
     "height": 627
    },
    "id": "JxapTFjh1eK4",
    "outputId": "3941edad-e99a-4c74-8daf-22e1309b858b",
    "scrolled": true
   },
   "outputs": [
    {
     "data": {
      "image/png": "[encoded data removed]",
      "text/plain": [
       "<Figure size 720x504 with 1 Axes>"
      ]
     },
     "metadata": {
      "needs_background": "light"
     },
     "output_type": "display_data"
    }
   ],
   "source": [
    "plt.figure(figsize=(10,7))\n",
    "sns.lineplot(x= 'year_of_release', y= 'general_sales', hue= 'platform', data = top_platforms_stat)\n",
    "plt.grid(True)\n",
    "plt.xticks(np.arange(1985, 2017, step=1), rotation=90)\n",
    "plt.title('Распределение по годам платформ с наибольшими суммарными продажами', fontsize=20)\n",
    "plt.xlabel('Годы')\n",
    "plt.ylabel('Суммарные продажи')\n",
    "plt.show()"
   ]
  },
  {
   "cell_type": "markdown",
   "metadata": {},
   "source": [
    "В результате получилось следующее:\n",
    "\n",
    "Название| Пик продаж\n",
    "---|---\n",
    "DS| 2007\n",
    "PS| 1998\n",
    "PS2| 2002, 2004\n",
    "PS3| 2011\n",
    "Wii| 2009\n",
    "X360|2010"
   ]
  },
  {
   "cell_type": "markdown",
   "metadata": {
    "id": "h_lWM8q6y2Z3"
   },
   "source": [
    "#### Посчитаем срок появления новых и исчезновения старые платформ"
   ]
  },
  {
   "cell_type": "code",
   "execution_count": 26,
   "metadata": {
    "colab": {
     "base_uri": "https://localhost:8080/",
     "height": 269
    },
    "id": "DKfomGtnp_9s",
    "outputId": "712876db-0358-492d-ecb8-5c2e06c5beb7",
    "scrolled": true
   },
   "outputs": [
    {
     "data": {
      "text/html": [
       "<div>\n",
       "<style scoped>\n",
       "    .dataframe tbody tr th:only-of-type {\n",
       "        vertical-align: middle;\n",
       "    }\n",
       "\n",
       "    .dataframe tbody tr th {\n",
       "        vertical-align: top;\n",
       "    }\n",
       "\n",
       "    .dataframe thead tr th {\n",
       "        text-align: left;\n",
       "    }\n",
       "</style>\n",
       "<table border=\"1\" class=\"dataframe\">\n",
       "  <thead>\n",
       "    <tr>\n",
       "      <th></th>\n",
       "      <th>platform</th>\n",
       "      <th colspan=\"2\" halign=\"left\">year_of_release</th>\n",
       "    </tr>\n",
       "    <tr>\n",
       "      <th></th>\n",
       "      <th></th>\n",
       "      <th>max</th>\n",
       "      <th>min</th>\n",
       "    </tr>\n",
       "  </thead>\n",
       "  <tbody>\n",
       "    <tr>\n",
       "      <th>0</th>\n",
       "      <td>ds</td>\n",
       "      <td>2013</td>\n",
       "      <td>1985</td>\n",
       "    </tr>\n",
       "    <tr>\n",
       "      <th>1</th>\n",
       "      <td>ps</td>\n",
       "      <td>2003</td>\n",
       "      <td>1994</td>\n",
       "    </tr>\n",
       "    <tr>\n",
       "      <th>2</th>\n",
       "      <td>ps2</td>\n",
       "      <td>2011</td>\n",
       "      <td>2000</td>\n",
       "    </tr>\n",
       "    <tr>\n",
       "      <th>3</th>\n",
       "      <td>ps3</td>\n",
       "      <td>2016</td>\n",
       "      <td>2006</td>\n",
       "    </tr>\n",
       "    <tr>\n",
       "      <th>4</th>\n",
       "      <td>wii</td>\n",
       "      <td>2016</td>\n",
       "      <td>2006</td>\n",
       "    </tr>\n",
       "    <tr>\n",
       "      <th>5</th>\n",
       "      <td>x360</td>\n",
       "      <td>2016</td>\n",
       "      <td>2005</td>\n",
       "    </tr>\n",
       "  </tbody>\n",
       "</table>\n",
       "</div>"
      ],
      "text/plain": [
       "  platform year_of_release      \n",
       "                       max   min\n",
       "0       ds            2013  1985\n",
       "1       ps            2003  1994\n",
       "2      ps2            2011  2000\n",
       "3      ps3            2016  2006\n",
       "4      wii            2016  2006\n",
       "5     x360            2016  2005"
      ]
     },
     "execution_count": 26,
     "metadata": {},
     "output_type": "execute_result"
    }
   ],
   "source": [
    "platform_lifespan = top_platforms_stat.pivot_table(index= 'platform',  aggfunc = {'year_of_release':['min', 'max']}).reset_index()\n",
    "platform_lifespan"
   ]
  },
  {
   "cell_type": "code",
   "execution_count": 27,
   "metadata": {
    "colab": {
     "base_uri": "https://localhost:8080/",
     "height": 269
    },
    "id": "xh96Jp63rpE7",
    "outputId": "7ea70ea0-05ce-422b-a92f-b40000298836"
   },
   "outputs": [
    {
     "data": {
      "text/html": [
       "<div>\n",
       "<style scoped>\n",
       "    .dataframe tbody tr th:only-of-type {\n",
       "        vertical-align: middle;\n",
       "    }\n",
       "\n",
       "    .dataframe tbody tr th {\n",
       "        vertical-align: top;\n",
       "    }\n",
       "\n",
       "    .dataframe thead tr th {\n",
       "        text-align: left;\n",
       "    }\n",
       "</style>\n",
       "<table border=\"1\" class=\"dataframe\">\n",
       "  <thead>\n",
       "    <tr>\n",
       "      <th></th>\n",
       "      <th>platform</th>\n",
       "      <th colspan=\"2\" halign=\"left\">year_of_release</th>\n",
       "      <th>years_of_life</th>\n",
       "    </tr>\n",
       "    <tr>\n",
       "      <th></th>\n",
       "      <th></th>\n",
       "      <th>max</th>\n",
       "      <th>min</th>\n",
       "      <th></th>\n",
       "    </tr>\n",
       "  </thead>\n",
       "  <tbody>\n",
       "    <tr>\n",
       "      <th>0</th>\n",
       "      <td>ds</td>\n",
       "      <td>2013</td>\n",
       "      <td>1985</td>\n",
       "      <td>28</td>\n",
       "    </tr>\n",
       "    <tr>\n",
       "      <th>1</th>\n",
       "      <td>ps</td>\n",
       "      <td>2003</td>\n",
       "      <td>1994</td>\n",
       "      <td>9</td>\n",
       "    </tr>\n",
       "    <tr>\n",
       "      <th>2</th>\n",
       "      <td>ps2</td>\n",
       "      <td>2011</td>\n",
       "      <td>2000</td>\n",
       "      <td>11</td>\n",
       "    </tr>\n",
       "    <tr>\n",
       "      <th>3</th>\n",
       "      <td>ps3</td>\n",
       "      <td>2016</td>\n",
       "      <td>2006</td>\n",
       "      <td>10</td>\n",
       "    </tr>\n",
       "    <tr>\n",
       "      <th>4</th>\n",
       "      <td>wii</td>\n",
       "      <td>2016</td>\n",
       "      <td>2006</td>\n",
       "      <td>10</td>\n",
       "    </tr>\n",
       "    <tr>\n",
       "      <th>5</th>\n",
       "      <td>x360</td>\n",
       "      <td>2016</td>\n",
       "      <td>2005</td>\n",
       "      <td>11</td>\n",
       "    </tr>\n",
       "  </tbody>\n",
       "</table>\n",
       "</div>"
      ],
      "text/plain": [
       "  platform year_of_release       years_of_life\n",
       "                       max   min              \n",
       "0       ds            2013  1985            28\n",
       "1       ps            2003  1994             9\n",
       "2      ps2            2011  2000            11\n",
       "3      ps3            2016  2006            10\n",
       "4      wii            2016  2006            10\n",
       "5     x360            2016  2005            11"
      ]
     },
     "execution_count": 27,
     "metadata": {},
     "output_type": "execute_result"
    }
   ],
   "source": [
    "platform_lifespan['years_of_life'] = platform_lifespan[('year_of_release', 'max')] - platform_lifespan[('year_of_release', 'min')]\n",
    "platform_lifespan"
   ]
  },
  {
   "cell_type": "markdown",
   "metadata": {
    "id": "c00_UVaRsg-Y"
   },
   "source": [
    "По таблице видно, что лидером по живучести выступает платформа DS. Остальные представители живут от 9-11 лет"
   ]
  },
  {
   "cell_type": "markdown",
   "metadata": {
    "id": "8yS3GCMl54x0"
   },
   "source": [
    "### Определим актуальный период "
   ]
  },
  {
   "cell_type": "markdown",
   "metadata": {},
   "source": [
    "Т.к. сфера видеоигр является быстроразвивающейся, целесообразнее всего проанализировать данные за последние 3 года, т.е. 2014-2016."
   ]
  },
  {
   "cell_type": "code",
   "execution_count": 28,
   "metadata": {
    "id": "z1h5JT8l1Sxh"
   },
   "outputs": [],
   "source": [
    "current_period = df1.copy()"
   ]
  },
  {
   "cell_type": "code",
   "execution_count": 29,
   "metadata": {
    "colab": {
     "base_uri": "https://localhost:8080/"
    },
    "id": "iiKcS0Fd5tYf",
    "outputId": "b0f91621-10f0-4d36-db1e-5180e06b43bd"
   },
   "outputs": [
    {
     "data": {
      "text/plain": [
       "array([2015, 2014, 2016])"
      ]
     },
     "execution_count": 29,
     "metadata": {},
     "output_type": "execute_result"
    }
   ],
   "source": [
    "current_period = current_period.query('year_of_release >= 2014')\n",
    "current_period['year_of_release'].unique()"
   ]
  },
  {
   "cell_type": "markdown",
   "metadata": {
    "id": "AF_qX8sL4VEG"
   },
   "source": [
    "### Выберем 5 наиболее прибыльных платформ за актуальный период"
   ]
  },
  {
   "cell_type": "code",
   "execution_count": 30,
   "metadata": {
    "colab": {
     "base_uri": "https://localhost:8080/",
     "height": 206
    },
    "id": "Eo4c_Dvf1fax",
    "outputId": "a9aee12f-5693-459d-b675-9f46c522c936"
   },
   "outputs": [
    {
     "data": {
      "text/html": [
       "<div>\n",
       "<style scoped>\n",
       "    .dataframe tbody tr th:only-of-type {\n",
       "        vertical-align: middle;\n",
       "    }\n",
       "\n",
       "    .dataframe tbody tr th {\n",
       "        vertical-align: top;\n",
       "    }\n",
       "\n",
       "    .dataframe thead th {\n",
       "        text-align: right;\n",
       "    }\n",
       "</style>\n",
       "<table border=\"1\" class=\"dataframe\">\n",
       "  <thead>\n",
       "    <tr style=\"text-align: right;\">\n",
       "      <th></th>\n",
       "      <th>platform</th>\n",
       "      <th>general_sales</th>\n",
       "    </tr>\n",
       "  </thead>\n",
       "  <tbody>\n",
       "    <tr>\n",
       "      <th>3</th>\n",
       "      <td>ps4</td>\n",
       "      <td>288.15</td>\n",
       "    </tr>\n",
       "    <tr>\n",
       "      <th>9</th>\n",
       "      <td>xone</td>\n",
       "      <td>140.36</td>\n",
       "    </tr>\n",
       "    <tr>\n",
       "      <th>0</th>\n",
       "      <td>3ds</td>\n",
       "      <td>86.68</td>\n",
       "    </tr>\n",
       "    <tr>\n",
       "      <th>2</th>\n",
       "      <td>ps3</td>\n",
       "      <td>68.18</td>\n",
       "    </tr>\n",
       "    <tr>\n",
       "      <th>8</th>\n",
       "      <td>x360</td>\n",
       "      <td>48.22</td>\n",
       "    </tr>\n",
       "  </tbody>\n",
       "</table>\n",
       "</div>"
      ],
      "text/plain": [
       "  platform  general_sales\n",
       "3      ps4         288.15\n",
       "9     xone         140.36\n",
       "0      3ds          86.68\n",
       "2      ps3          68.18\n",
       "8     x360          48.22"
      ]
     },
     "execution_count": 30,
     "metadata": {},
     "output_type": "execute_result"
    }
   ],
   "source": [
    "(current_period\n",
    "    .pivot_table(index= 'platform', values= 'general_sales', aggfunc= 'sum')\n",
    "    .reset_index()\n",
    "    .sort_values('general_sales', ascending=False)\n",
    "    .head()\n",
    "    )\n"
   ]
  },
  {
   "cell_type": "markdown",
   "metadata": {
    "id": "M6dzSmcL401_"
   },
   "source": [
    "Прибыльными платформами будем считать те, у которых самые большие суммарные продажи, а именно: \"ps4\", \"x360\", \"ps3\", \"xone\" и \"3ds\" "
   ]
  },
  {
   "cell_type": "code",
   "execution_count": 31,
   "metadata": {
    "colab": {
     "base_uri": "https://localhost:8080/",
     "height": 627
    },
    "id": "lS9arZGP3vAt",
    "outputId": "34c9a688-d482-4b74-94a1-730feacec07c"
   },
   "outputs": [
    {
     "data": {
      "image/png": "[encoded data removed]",
      "text/plain": [
       "<Figure size 1080x720 with 1 Axes>"
      ]
     },
     "metadata": {
      "needs_background": "light"
     },
     "output_type": "display_data"
    }
   ],
   "source": [
    "platforms = (\n",
    "    current_period.query('platform in [\"ps4\", \"x360\", \"ps3\", \"xone\", \"3ds\"]')\n",
    "    .pivot_table(index= ['platform', 'year_of_release'], values= 'general_sales', aggfunc = 'sum')\n",
    "    .reset_index()\n",
    ")\n",
    "\n",
    "plt.figure(figsize=(15,10))\n",
    "sns.barplot(x= 'year_of_release', y= 'general_sales', hue= 'platform', data = platforms)\n",
    "plt.title('Распределение по годам платформ с наибольшими суммарными продажами', fontsize=20)\n",
    "plt.xlabel('Годы')\n",
    "plt.ylabel('Суммарные продажи')\n",
    "plt.show()"
   ]
  },
  {
   "cell_type": "markdown",
   "metadata": {
    "id": "LNdqYkLI60nO"
   },
   "source": [
    "По графику видно, что все из вышеперечисленных платформ достигли своего пика продаж и пошли на спад"
   ]
  },
  {
   "cell_type": "code",
   "execution_count": 32,
   "metadata": {
    "colab": {
     "base_uri": "https://localhost:8080/",
     "height": 351
    },
    "id": "g_iP55Nh8AqN",
    "outputId": "3fd6ec57-73d4-4a96-a5a0-b7a01fc66478",
    "scrolled": true
   },
   "outputs": [
    {
     "data": {
      "image/png": "[encoded data removed]",
      "text/plain": [
       "<Figure size 720x360 with 1 Axes>"
      ]
     },
     "metadata": {
      "needs_background": "light"
     },
     "output_type": "display_data"
    }
   ],
   "source": [
    "plt.figure(figsize=(10,5))\n",
    "sns.barplot(\n",
    "    data=current_period.pivot_table(index= 'year_of_release', values= 'general_sales', aggfunc= 'sum').reset_index(),\n",
    "    x= 'year_of_release',\n",
    "    y= 'general_sales'\n",
    ")\n",
    "plt.title('Изменения уровня суммарных продаж по годам за актуальный период')\n",
    "plt.show()"
   ]
  },
  {
   "cell_type": "markdown",
   "metadata": {
    "id": "BWWMa4GU-CMD"
   },
   "source": [
    "Суммарные продажи также идут на спад."
   ]
  },
  {
   "cell_type": "markdown",
   "metadata": {
    "id": "rU0eGfjAJ8MW"
   },
   "source": [
    "### Построим график «ящик с усами» по глобальным продажам игр в разбивке по платформам."
   ]
  },
  {
   "cell_type": "code",
   "execution_count": 33,
   "metadata": {
    "colab": {
     "base_uri": "https://localhost:8080/",
     "height": 443
    },
    "id": "LjxLeHmAHZFP",
    "outputId": "338a1665-b6b2-45ae-cae2-db09498ccf31"
   },
   "outputs": [
    {
     "data": {
      "image/png": "[encoded data removed]",
      "text/plain": [
       "<Figure size 1080x504 with 1 Axes>"
      ]
     },
     "metadata": {
      "needs_background": "light"
     },
     "output_type": "display_data"
    }
   ],
   "source": [
    "plt.figure(figsize=(15,7))\n",
    "sns.boxplot( x= 'general_sales', y= 'platform', orient = 'h', data=current_period.query('platform in [\"ps4\", \"x360\", \"ps3\", \"xone\", \"3ds\"]'))\n",
    "plt.show()"
   ]
  },
  {
   "cell_type": "markdown",
   "metadata": {
    "id": "_GuaU2EcIxi0"
   },
   "source": [
    "Приблизим"
   ]
  },
  {
   "cell_type": "code",
   "execution_count": 34,
   "metadata": {
    "colab": {
     "base_uri": "https://localhost:8080/",
     "height": 460
    },
    "id": "55Uw7JA4-iLb",
    "outputId": "781942a0-cd00-446e-c602-e1500a7fd4e3"
   },
   "outputs": [
    {
     "data": {
      "text/plain": [
       "(-1.0, 5.0)"
      ]
     },
     "execution_count": 34,
     "metadata": {},
     "output_type": "execute_result"
    },
    {
     "data": {
      "image/png": "[encoded data removed]",
      "text/plain": [
       "<Figure size 1080x504 with 1 Axes>"
      ]
     },
     "metadata": {
      "needs_background": "light"
     },
     "output_type": "display_data"
    }
   ],
   "source": [
    "plt.figure(figsize=(15,7))\n",
    "sns.boxplot(x= 'general_sales', y= 'platform', orient = 'h', data=current_period.query('platform in [\"ps4\", \"x360\", \"ps3\", \"xone\", \"3ds\"]'))\n",
    "plt.xlim(-1,5)"
   ]
  },
  {
   "cell_type": "code",
   "execution_count": 35,
   "metadata": {
    "colab": {
     "base_uri": "https://localhost:8080/"
    },
    "id": "ZIMSMA50EFwB",
    "outputId": "63418362-c411-4ae8-e630-396e0128c92b"
   },
   "outputs": [
    {
     "data": {
      "text/plain": [
       "count    1146.000000\n",
       "mean        0.551126\n",
       "std         1.215718\n",
       "min         0.010000\n",
       "25%         0.050000\n",
       "50%         0.140000\n",
       "75%         0.480000\n",
       "max        14.630000\n",
       "Name: general_sales, dtype: float64"
      ]
     },
     "execution_count": 35,
     "metadata": {},
     "output_type": "execute_result"
    }
   ],
   "source": [
    "current_period.query('platform in [\"ps4\", \"x360\", \"ps3\", \"xone\", \"3ds\"]')['general_sales'].describe()"
   ]
  },
  {
   "cell_type": "markdown",
   "metadata": {
    "id": "HkmZF3QT_0SG"
   },
   "source": [
    "У платформ XOne и PS4 граница 3 квартиля в пределах 1.5 млн за одну игру. X360 - 1 млн, а 3DS и PS3 - 0.5-0.6 млн. Средний уровень продаж по этим платформам 0.55 млн за одну игру, а медиана 0.14. Такая разница в значениях среднего и медианы связана с большим количеством выбросов."
   ]
  },
  {
   "cell_type": "markdown",
   "metadata": {
    "id": "RKyuhVuBUXdM"
   },
   "source": [
    "### Посмотрим, как влияют на продажи внутри одной популярной платформы отзывы пользователей и критиков. Построим диаграмму рассеяния и посчитаем корреляцию между отзывами и продажами."
   ]
  },
  {
   "cell_type": "code",
   "execution_count": 36,
   "metadata": {
    "colab": {
     "base_uri": "https://localhost:8080/",
     "height": 385
    },
    "id": "PlMfNrmqMm85",
    "outputId": "567fcc1a-ca2c-47c2-d0d2-a7208d36f286"
   },
   "outputs": [
    {
     "data": {
      "image/png": "[encoded data removed]",
      "text/plain": [
       "<Figure size 720x360 with 2 Axes>"
      ]
     },
     "metadata": {
      "needs_background": "light"
     },
     "output_type": "display_data"
    },
    {
     "name": "stdout",
     "output_type": "stream",
     "text": [
      "Коэффициент корреляции между отзывами критиков и продажами: 0.4026614106810407\n",
      "Коэффициент корреляции между отзывами пользователей и продажами: -0.04013158947269733\n"
     ]
    }
   ],
   "source": [
    "plt.figure(figsize=(10,5))\n",
    "\n",
    "ax1 = plt.subplot(1, 2, 1)\n",
    "ax1 = sns.scatterplot(x= 'general_sales', y= 'critic_score', data = current_period.query('platform == \"ps4\" and critic_score != -1'))\n",
    "ax1.set(xlabel= 'глобальные продажи', ylabel= 'оценка критиков', title= 'PS4 критики')\n",
    "\n",
    "ax2 = plt.subplot(1, 2, 2)\n",
    "ax2 = sns.scatterplot(x= 'general_sales', y= 'user_score', data = current_period.query('platform == \"ps4\" and user_score != -1'))\n",
    "ax2.set(xlabel= 'глобальные продажи', ylabel= 'оценка пользователей', title= 'PS4 пользователи')\n",
    "plt.show()\n",
    "\n",
    "print('Коэффициент корреляции между отзывами критиков и продажами:', current_period['general_sales'].corr(current_period.query('platform == \"ps4\" and critic_score != -1')['critic_score']))\n",
    "print('Коэффициент корреляции между отзывами пользователей и продажами:', current_period['general_sales'].corr(current_period.query('platform == \"ps4\" and user_score != -1')['user_score']))"
   ]
  },
  {
   "cell_type": "markdown",
   "metadata": {
    "id": "3-dApIrBKfRy"
   },
   "source": [
    "Присутствует слабая зависимость между оценками критиков и уровнем суммарных продаж. И очень слабая зависимость между оценками пользователей и уровнем продаж"
   ]
  },
  {
   "cell_type": "code",
   "execution_count": 37,
   "metadata": {
    "colab": {
     "base_uri": "https://localhost:8080/",
     "height": 752
    },
    "id": "KpSbdvdDaSWK",
    "outputId": "1e2c1308-344e-4ee4-ade8-a717cd426237"
   },
   "outputs": [
    {
     "data": {
      "image/png": "[encoded data removed]",
      "text/plain": [
       "<Figure size 720x360 with 2 Axes>"
      ]
     },
     "metadata": {
      "needs_background": "light"
     },
     "output_type": "display_data"
    },
    {
     "name": "stdout",
     "output_type": "stream",
     "text": [
      "Коэффициент корреляции между отзывами критиков и продажами: 0.428676943703332\n",
      "Коэффициент корреляции между отзывами пользователей и продажами: -0.07038392806475818\n"
     ]
    },
    {
     "data": {
      "image/png": "[encoded data removed]",
      "text/plain": [
       "<Figure size 720x360 with 2 Axes>"
      ]
     },
     "metadata": {
      "needs_background": "light"
     },
     "output_type": "display_data"
    },
    {
     "name": "stdout",
     "output_type": "stream",
     "text": [
      "Коэффициент корреляции между отзывами критиков и продажами: 0.3141174928690509\n",
      "Коэффициент корреляции между отзывами пользователей и продажами: 0.2151932718527028\n"
     ]
    }
   ],
   "source": [
    "plt.figure(figsize=(10,5))\n",
    "\n",
    "ax1 = plt.subplot(1, 2, 1)\n",
    "ax1 = sns.scatterplot(x= 'general_sales', color= 'orange', y= 'critic_score', data = current_period.query('platform == \"xone\" and critic_score != -1'))\n",
    "ax1.set(xlabel= 'глобальные продажи', ylabel= 'оценка критиков', title= 'XOne критики')\n",
    "\n",
    "ax2 = plt.subplot(1, 2, 2)\n",
    "ax2 = sns.scatterplot(x= 'general_sales', y= 'user_score', color= 'orange', data = current_period.query('platform == \"xone\" and user_score != -1'))\n",
    "ax2.set(xlabel= 'глобальные продажи', ylabel= 'оценка пользователей', title= 'XOne пользователи')\n",
    "\n",
    "plt.show()\n",
    "\n",
    "print('Коэффициент корреляции между отзывами критиков и продажами:', current_period['general_sales'].corr(current_period.query('platform == \"xone\" and critic_score != -1')['critic_score']))\n",
    "print('Коэффициент корреляции между отзывами пользователей и продажами:', current_period['general_sales'].corr(current_period.query('platform == \"xone\" and user_score != -1')['user_score']))\n",
    "\n",
    "plt.figure(figsize=(10,5))\n",
    "\n",
    "ax1 = plt.subplot(1, 2, 1)\n",
    "ax1 = sns.scatterplot(x= 'general_sales', color= 'red', y= 'critic_score', data = current_period.query('platform == \"3ds\" and critic_score != -1'))\n",
    "ax1.set(xlabel= 'глобальные продажи', ylabel= 'оценка критиков', title= '3DS критики')\n",
    "\n",
    "ax2 = plt.subplot(1, 2, 2)\n",
    "ax2 = sns.scatterplot(x= 'general_sales', y= 'user_score', color= 'red', data = current_period.query('platform == \"3ds\" and user_score != -1'))\n",
    "ax2.set(xlabel= 'глобальные продажи', ylabel= 'оценка пользователей', title= '3DS пользователи')\n",
    "\n",
    "plt.show()\n",
    "print('Коэффициент корреляции между отзывами критиков и продажами:', current_period['general_sales'].corr(current_period.query('platform == \"3ds\" and critic_score != -1')['critic_score']))\n",
    "print('Коэффициент корреляции между отзывами пользователей и продажами:', current_period['general_sales'].corr(current_period.query('platform == \"3ds\" and user_score != -1')['user_score']))"
   ]
  },
  {
   "cell_type": "markdown",
   "metadata": {
    "id": "vYeyQVOzLeyO"
   },
   "source": [
    "Примерно такая же ситуация зависимостью между оценками критиков/пользователей как у PS4 и у платформ XOne и 3DS"
   ]
  },
  {
   "cell_type": "markdown",
   "metadata": {
    "id": "NGnxEgevoHu5"
   },
   "source": [
    "### Посмотрим на общее распределение игр по жанрам. Что можно сказать о самых прибыльных жанрах? Выделяются ли жанры с высокими и низкими продажами?"
   ]
  },
  {
   "cell_type": "code",
   "execution_count": 38,
   "metadata": {
    "id": "DemN00ogwWCO"
   },
   "outputs": [],
   "source": [
    "genre = current_period.copy()"
   ]
  },
  {
   "cell_type": "code",
   "execution_count": 39,
   "metadata": {
    "colab": {
     "base_uri": "https://localhost:8080/",
     "height": 841
    },
    "id": "HWI4kZ70mGNR",
    "outputId": "c7f8055c-ee29-4b04-df9d-b3dc2b52809b"
   },
   "outputs": [
    {
     "data": {
      "image/png": "[encoded data removed]",
      "text/plain": [
       "<Figure size 504x360 with 1 Axes>"
      ]
     },
     "metadata": {
      "needs_background": "light"
     },
     "output_type": "display_data"
    },
    {
     "data": {
      "text/html": [
       "<div>\n",
       "<style scoped>\n",
       "    .dataframe tbody tr th:only-of-type {\n",
       "        vertical-align: middle;\n",
       "    }\n",
       "\n",
       "    .dataframe tbody tr th {\n",
       "        vertical-align: top;\n",
       "    }\n",
       "\n",
       "    .dataframe thead th {\n",
       "        text-align: right;\n",
       "    }\n",
       "</style>\n",
       "<table border=\"1\" class=\"dataframe\">\n",
       "  <thead>\n",
       "    <tr style=\"text-align: right;\">\n",
       "      <th></th>\n",
       "      <th>name</th>\n",
       "    </tr>\n",
       "    <tr>\n",
       "      <th>genre</th>\n",
       "      <th></th>\n",
       "    </tr>\n",
       "  </thead>\n",
       "  <tbody>\n",
       "    <tr>\n",
       "      <th>action</th>\n",
       "      <td>619</td>\n",
       "    </tr>\n",
       "    <tr>\n",
       "      <th>role-playing</th>\n",
       "      <td>221</td>\n",
       "    </tr>\n",
       "    <tr>\n",
       "      <th>adventure</th>\n",
       "      <td>185</td>\n",
       "    </tr>\n",
       "    <tr>\n",
       "      <th>sports</th>\n",
       "      <td>161</td>\n",
       "    </tr>\n",
       "    <tr>\n",
       "      <th>shooter</th>\n",
       "      <td>128</td>\n",
       "    </tr>\n",
       "    <tr>\n",
       "      <th>misc</th>\n",
       "      <td>113</td>\n",
       "    </tr>\n",
       "    <tr>\n",
       "      <th>racing</th>\n",
       "      <td>69</td>\n",
       "    </tr>\n",
       "    <tr>\n",
       "      <th>fighting</th>\n",
       "      <td>60</td>\n",
       "    </tr>\n",
       "    <tr>\n",
       "      <th>simulation</th>\n",
       "      <td>44</td>\n",
       "    </tr>\n",
       "    <tr>\n",
       "      <th>platform</th>\n",
       "      <td>38</td>\n",
       "    </tr>\n",
       "    <tr>\n",
       "      <th>strategy</th>\n",
       "      <td>37</td>\n",
       "    </tr>\n",
       "    <tr>\n",
       "      <th>puzzle</th>\n",
       "      <td>14</td>\n",
       "    </tr>\n",
       "  </tbody>\n",
       "</table>\n",
       "</div>"
      ],
      "text/plain": [
       "              name\n",
       "genre             \n",
       "action         619\n",
       "role-playing   221\n",
       "adventure      185\n",
       "sports         161\n",
       "shooter        128\n",
       "misc           113\n",
       "racing          69\n",
       "fighting        60\n",
       "simulation      44\n",
       "platform        38\n",
       "strategy        37\n",
       "puzzle          14"
      ]
     },
     "execution_count": 39,
     "metadata": {},
     "output_type": "execute_result"
    }
   ],
   "source": [
    "plt.figure(figsize=(7,5))\n",
    "sns.barplot(x='genre', y= 'name', data = genre.pivot_table(index= 'genre', values= 'name', aggfunc= 'count').reset_index().sort_values('name', ascending=False))\n",
    "plt.xticks(rotation=90)\n",
    "plt.title('Топ 5 жанров по количеству выпущенных игр', fontsize=15)\n",
    "plt.show()\n",
    "\n",
    "genre.groupby('genre')['name'].agg('count').to_frame().sort_values('name', ascending=False)"
   ]
  },
  {
   "cell_type": "code",
   "execution_count": 40,
   "metadata": {
    "colab": {
     "base_uri": "https://localhost:8080/",
     "height": 790
    },
    "id": "uKw_tCcDtjHA",
    "outputId": "953584de-e647-438f-87f7-c1adab86c6b1",
    "scrolled": true
   },
   "outputs": [
    {
     "data": {
      "image/png": "[encoded data removed]",
      "text/plain": [
       "<Figure size 432x288 with 1 Axes>"
      ]
     },
     "metadata": {
      "needs_background": "light"
     },
     "output_type": "display_data"
    },
    {
     "data": {
      "text/html": [
       "<div>\n",
       "<style scoped>\n",
       "    .dataframe tbody tr th:only-of-type {\n",
       "        vertical-align: middle;\n",
       "    }\n",
       "\n",
       "    .dataframe tbody tr th {\n",
       "        vertical-align: top;\n",
       "    }\n",
       "\n",
       "    .dataframe thead th {\n",
       "        text-align: right;\n",
       "    }\n",
       "</style>\n",
       "<table border=\"1\" class=\"dataframe\">\n",
       "  <thead>\n",
       "    <tr style=\"text-align: right;\">\n",
       "      <th></th>\n",
       "      <th>general_sales</th>\n",
       "    </tr>\n",
       "    <tr>\n",
       "      <th>genre</th>\n",
       "      <th></th>\n",
       "    </tr>\n",
       "  </thead>\n",
       "  <tbody>\n",
       "    <tr>\n",
       "      <th>action</th>\n",
       "      <td>199.36</td>\n",
       "    </tr>\n",
       "    <tr>\n",
       "      <th>shooter</th>\n",
       "      <td>170.94</td>\n",
       "    </tr>\n",
       "    <tr>\n",
       "      <th>sports</th>\n",
       "      <td>109.48</td>\n",
       "    </tr>\n",
       "    <tr>\n",
       "      <th>role-playing</th>\n",
       "      <td>101.44</td>\n",
       "    </tr>\n",
       "    <tr>\n",
       "      <th>misc</th>\n",
       "      <td>37.55</td>\n",
       "    </tr>\n",
       "    <tr>\n",
       "      <th>fighting</th>\n",
       "      <td>28.22</td>\n",
       "    </tr>\n",
       "    <tr>\n",
       "      <th>racing</th>\n",
       "      <td>27.52</td>\n",
       "    </tr>\n",
       "    <tr>\n",
       "      <th>platform</th>\n",
       "      <td>18.09</td>\n",
       "    </tr>\n",
       "    <tr>\n",
       "      <th>adventure</th>\n",
       "      <td>17.55</td>\n",
       "    </tr>\n",
       "    <tr>\n",
       "      <th>simulation</th>\n",
       "      <td>13.13</td>\n",
       "    </tr>\n",
       "    <tr>\n",
       "      <th>strategy</th>\n",
       "      <td>3.96</td>\n",
       "    </tr>\n",
       "    <tr>\n",
       "      <th>puzzle</th>\n",
       "      <td>2.21</td>\n",
       "    </tr>\n",
       "  </tbody>\n",
       "</table>\n",
       "</div>"
      ],
      "text/plain": [
       "              general_sales\n",
       "genre                      \n",
       "action               199.36\n",
       "shooter              170.94\n",
       "sports               109.48\n",
       "role-playing         101.44\n",
       "misc                  37.55\n",
       "fighting              28.22\n",
       "racing                27.52\n",
       "platform              18.09\n",
       "adventure             17.55\n",
       "simulation            13.13\n",
       "strategy               3.96\n",
       "puzzle                 2.21"
      ]
     },
     "execution_count": 40,
     "metadata": {},
     "output_type": "execute_result"
    }
   ],
   "source": [
    "sns.barplot(x= 'genre', y= 'general_sales', data = genre.pivot_table(index= 'genre', values= 'general_sales', aggfunc= 'sum').reset_index().sort_values('general_sales', ascending=False))\n",
    "plt.xticks(rotation=90)\n",
    "plt.xlabel('жанр')\n",
    "plt.ylabel('суммарные продажи')\n",
    "plt.title('Уровень продаж по жанрам', fontsize=20)\n",
    "plt.show()\n",
    "\n",
    "genre.pivot_table(index= 'genre', values= 'general_sales', aggfunc= 'sum').sort_values('general_sales', ascending=False)"
   ]
  },
  {
   "cell_type": "code",
   "execution_count": 41,
   "metadata": {},
   "outputs": [
    {
     "data": {
      "image/png": "[encoded data removed]",
      "text/plain": [
       "<Figure size 1080x504 with 1 Axes>"
      ]
     },
     "metadata": {
      "needs_background": "light"
     },
     "output_type": "display_data"
    },
    {
     "data": {
      "text/html": [
       "<div>\n",
       "<style scoped>\n",
       "    .dataframe tbody tr th:only-of-type {\n",
       "        vertical-align: middle;\n",
       "    }\n",
       "\n",
       "    .dataframe tbody tr th {\n",
       "        vertical-align: top;\n",
       "    }\n",
       "\n",
       "    .dataframe thead th {\n",
       "        text-align: right;\n",
       "    }\n",
       "</style>\n",
       "<table border=\"1\" class=\"dataframe\">\n",
       "  <thead>\n",
       "    <tr style=\"text-align: right;\">\n",
       "      <th></th>\n",
       "      <th>general_sales</th>\n",
       "    </tr>\n",
       "    <tr>\n",
       "      <th>genre</th>\n",
       "      <th></th>\n",
       "    </tr>\n",
       "  </thead>\n",
       "  <tbody>\n",
       "    <tr>\n",
       "      <th>shooter</th>\n",
       "      <td>0.515</td>\n",
       "    </tr>\n",
       "    <tr>\n",
       "      <th>sports</th>\n",
       "      <td>0.180</td>\n",
       "    </tr>\n",
       "    <tr>\n",
       "      <th>platform</th>\n",
       "      <td>0.140</td>\n",
       "    </tr>\n",
       "    <tr>\n",
       "      <th>fighting</th>\n",
       "      <td>0.125</td>\n",
       "    </tr>\n",
       "    <tr>\n",
       "      <th>role-playing</th>\n",
       "      <td>0.110</td>\n",
       "    </tr>\n",
       "    <tr>\n",
       "      <th>simulation</th>\n",
       "      <td>0.100</td>\n",
       "    </tr>\n",
       "    <tr>\n",
       "      <th>action</th>\n",
       "      <td>0.090</td>\n",
       "    </tr>\n",
       "    <tr>\n",
       "      <th>misc</th>\n",
       "      <td>0.090</td>\n",
       "    </tr>\n",
       "    <tr>\n",
       "      <th>racing</th>\n",
       "      <td>0.090</td>\n",
       "    </tr>\n",
       "    <tr>\n",
       "      <th>strategy</th>\n",
       "      <td>0.060</td>\n",
       "    </tr>\n",
       "    <tr>\n",
       "      <th>puzzle</th>\n",
       "      <td>0.045</td>\n",
       "    </tr>\n",
       "    <tr>\n",
       "      <th>adventure</th>\n",
       "      <td>0.030</td>\n",
       "    </tr>\n",
       "  </tbody>\n",
       "</table>\n",
       "</div>"
      ],
      "text/plain": [
       "              general_sales\n",
       "genre                      \n",
       "shooter               0.515\n",
       "sports                0.180\n",
       "platform              0.140\n",
       "fighting              0.125\n",
       "role-playing          0.110\n",
       "simulation            0.100\n",
       "action                0.090\n",
       "misc                  0.090\n",
       "racing                0.090\n",
       "strategy              0.060\n",
       "puzzle                0.045\n",
       "adventure             0.030"
      ]
     },
     "execution_count": 41,
     "metadata": {},
     "output_type": "execute_result"
    }
   ],
   "source": [
    "plt.figure(figsize=(15,7))\n",
    "sns.boxplot(x= 'genre', y= 'general_sales', data = genre.sort_values('general_sales', ascending=False))\n",
    "plt.ylim(-1,4)\n",
    "plt.xticks(rotation=90)\n",
    "plt.xlabel('жанр')\n",
    "plt.ylabel('суммарные продажи')\n",
    "plt.title('Уровень продаж по жанрам', fontsize=20)\n",
    "plt.show()\n",
    "\n",
    "genre.pivot_table(index= 'genre', values= 'general_sales', aggfunc= 'median').sort_values('general_sales', ascending=False)"
   ]
  },
  {
   "cell_type": "markdown",
   "metadata": {
    "id": "Ckyx_3_rrTV7"
   },
   "source": [
    "\n",
    "1. Лидерами по количеству выпущенных игр являются жанры: action, misk и sports.  \n",
    "2. Лидерами по продажам являются жанры: action, sports и shooter  \n",
    "3. В то время как за одну игру в жанре shooter наибольшее медианное значение суммарных продаж. Вторую и третю позицию с заметным отставанием по этому параметру занимают жанры sports и platform.\n",
    "4. На последних позициях по количеству выпущенных игр являются жанры: puzzle и platform  \n",
    "5. На последних позициях по продажам являются жанры: puzzle и strategy  \n",
    "6. На послних местах по значению медианы суммарных продаж за одну игру занимают жанры puzzle и adventure  \n",
    "Это говорит нам о том, что не во всех случая количество проданных игр определенного жанра влияет на величину его суммарных продаж. А наибольшую стабильность и прибыльность будут показывать жанры, где высокий показатель значения медианы суммарных продаж за одну игру жанра."
   ]
  },
  {
   "cell_type": "markdown",
   "metadata": {
    "id": "i9cNu4xVVw_U"
   },
   "source": [
    "# **Итог:**"
   ]
  },
  {
   "cell_type": "markdown",
   "metadata": {
    "id": "RcxVdJ8SV4xu"
   },
   "source": [
    "1. Рост количества компьютерных игр практически в 2 раза наблюдается с 2002г. Но в 2008г. этот показатель достигает максимума и потом пошел на спад  \n",
    "2. Лидерами продаж за весь период являются: PS, PS2, PS3, Wii, X360 и DS  \n",
    "3. Самой живучей является платформа DS - 28 лет. Остальные представители вышепредставленных платформ живут от 9-11 лет.  \n",
    "4. Актуальный период определен как 2014-2016г.   \n",
    "5. Самыми прибыльными платформами за **актуальны период** являются \"ps4\", \"x360\", \"ps3\", \"xone\" и \"ds3\"  \n",
    "6. На примере этих платформ мы установили, что они минули пик продаж и  идут на спад  \n",
    "7. У платформ XOne и PS4 граница 3 квартиля в пределах 1.5 млн за одну игру. X360 - 1 млн, а 3DS и PS3 - 0.5-0.6 млн. Средний уровень продаж по этим платформам 0.55 млн за одну игру, а медиана 0.14. Такая разница в значениях среднего и медианы связана с большим количеством выбросов.  \n",
    "8. Установили на примере наиболее полпулярных платформ, что наличие прямой зависимости между рейтингом пользователей и критиков к уровню продаж по платформам очень слабая  \n",
    "9. Выявили, что не во всех случаях количество проданных игр определенного жанра влияет на величину его суммарных продаж. И что более стабильным показателем выступает медианное значение суммарных продаж за одну игру жанра\n"
   ]
  },
  {
   "cell_type": "markdown",
   "metadata": {
    "id": "dIuxAvxKHPiZ"
   },
   "source": [
    "## **Шаг 4. Составьте портрет пользователя каждого региона**"
   ]
  },
  {
   "cell_type": "markdown",
   "metadata": {
    "id": "1XLcHc4gIUlo"
   },
   "source": [
    "### Определим для пользователя каждого региона (NA, EU, JP):"
   ]
  },
  {
   "cell_type": "markdown",
   "metadata": {
    "id": "GQHuiLonL_B2"
   },
   "source": [
    "#### Самые популярные платформы (топ-5). Опишите различия в долях продаж."
   ]
  },
  {
   "cell_type": "code",
   "execution_count": 42,
   "metadata": {
    "colab": {
     "base_uri": "https://localhost:8080/"
    },
    "id": "vRWHm_HZMF_w",
    "outputId": "6391ea69-00c5-4ace-f534-312bb55495c1"
   },
   "outputs": [
    {
     "data": {
      "text/plain": [
       "array([2015, 2014, 2016])"
      ]
     },
     "execution_count": 42,
     "metadata": {},
     "output_type": "execute_result"
    }
   ],
   "source": [
    "platform_analys = df1.copy()\n",
    "platform_analys = platform_analys.query('year_of_release >= 2014')\n",
    "platform_analys['year_of_release'].unique()"
   ]
  },
  {
   "cell_type": "code",
   "execution_count": 43,
   "metadata": {
    "colab": {
     "base_uri": "https://localhost:8080/",
     "height": 671
    },
    "id": "YJW4R5ZyxzCh",
    "outputId": "e7d14bc0-c41d-49c3-a910-032b770d8044",
    "scrolled": false
   },
   "outputs": [
    {
     "name": "stdout",
     "output_type": "stream",
     "text": [
      "ТОП 5 платформ Северной Америки\n"
     ]
    },
    {
     "data": {
      "text/html": [
       "<div>\n",
       "<style scoped>\n",
       "    .dataframe tbody tr th:only-of-type {\n",
       "        vertical-align: middle;\n",
       "    }\n",
       "\n",
       "    .dataframe tbody tr th {\n",
       "        vertical-align: top;\n",
       "    }\n",
       "\n",
       "    .dataframe thead th {\n",
       "        text-align: right;\n",
       "    }\n",
       "</style>\n",
       "<table border=\"1\" class=\"dataframe\">\n",
       "  <thead>\n",
       "    <tr style=\"text-align: right;\">\n",
       "      <th></th>\n",
       "      <th>platform</th>\n",
       "      <th>na_sales</th>\n",
       "    </tr>\n",
       "  </thead>\n",
       "  <tbody>\n",
       "    <tr>\n",
       "      <th>3</th>\n",
       "      <td>ps4</td>\n",
       "      <td>98.61</td>\n",
       "    </tr>\n",
       "    <tr>\n",
       "      <th>9</th>\n",
       "      <td>xone</td>\n",
       "      <td>81.27</td>\n",
       "    </tr>\n",
       "    <tr>\n",
       "      <th>8</th>\n",
       "      <td>x360</td>\n",
       "      <td>28.30</td>\n",
       "    </tr>\n",
       "    <tr>\n",
       "      <th>0</th>\n",
       "      <td>3ds</td>\n",
       "      <td>22.64</td>\n",
       "    </tr>\n",
       "    <tr>\n",
       "      <th>2</th>\n",
       "      <td>ps3</td>\n",
       "      <td>22.05</td>\n",
       "    </tr>\n",
       "  </tbody>\n",
       "</table>\n",
       "</div>"
      ],
      "text/plain": [
       "  platform  na_sales\n",
       "3      ps4     98.61\n",
       "9     xone     81.27\n",
       "8     x360     28.30\n",
       "0      3ds     22.64\n",
       "2      ps3     22.05"
      ]
     },
     "metadata": {},
     "output_type": "display_data"
    },
    {
     "name": "stdout",
     "output_type": "stream",
     "text": [
      "___________________________________\n",
      "ТОП 5 платформ Европы\n"
     ]
    },
    {
     "data": {
      "text/html": [
       "<div>\n",
       "<style scoped>\n",
       "    .dataframe tbody tr th:only-of-type {\n",
       "        vertical-align: middle;\n",
       "    }\n",
       "\n",
       "    .dataframe tbody tr th {\n",
       "        vertical-align: top;\n",
       "    }\n",
       "\n",
       "    .dataframe thead th {\n",
       "        text-align: right;\n",
       "    }\n",
       "</style>\n",
       "<table border=\"1\" class=\"dataframe\">\n",
       "  <thead>\n",
       "    <tr style=\"text-align: right;\">\n",
       "      <th></th>\n",
       "      <th>platform</th>\n",
       "      <th>eu_sales</th>\n",
       "    </tr>\n",
       "  </thead>\n",
       "  <tbody>\n",
       "    <tr>\n",
       "      <th>3</th>\n",
       "      <td>ps4</td>\n",
       "      <td>130.04</td>\n",
       "    </tr>\n",
       "    <tr>\n",
       "      <th>9</th>\n",
       "      <td>xone</td>\n",
       "      <td>46.25</td>\n",
       "    </tr>\n",
       "    <tr>\n",
       "      <th>2</th>\n",
       "      <td>ps3</td>\n",
       "      <td>25.54</td>\n",
       "    </tr>\n",
       "    <tr>\n",
       "      <th>1</th>\n",
       "      <td>pc</td>\n",
       "      <td>17.97</td>\n",
       "    </tr>\n",
       "    <tr>\n",
       "      <th>0</th>\n",
       "      <td>3ds</td>\n",
       "      <td>16.12</td>\n",
       "    </tr>\n",
       "  </tbody>\n",
       "</table>\n",
       "</div>"
      ],
      "text/plain": [
       "  platform  eu_sales\n",
       "3      ps4    130.04\n",
       "9     xone     46.25\n",
       "2      ps3     25.54\n",
       "1       pc     17.97\n",
       "0      3ds     16.12"
      ]
     },
     "metadata": {},
     "output_type": "display_data"
    },
    {
     "name": "stdout",
     "output_type": "stream",
     "text": [
      "___________________________________\n",
      "ТОП 5 платформ \n"
     ]
    },
    {
     "data": {
      "text/html": [
       "<div>\n",
       "<style scoped>\n",
       "    .dataframe tbody tr th:only-of-type {\n",
       "        vertical-align: middle;\n",
       "    }\n",
       "\n",
       "    .dataframe tbody tr th {\n",
       "        vertical-align: top;\n",
       "    }\n",
       "\n",
       "    .dataframe thead th {\n",
       "        text-align: right;\n",
       "    }\n",
       "</style>\n",
       "<table border=\"1\" class=\"dataframe\">\n",
       "  <thead>\n",
       "    <tr style=\"text-align: right;\">\n",
       "      <th></th>\n",
       "      <th>platform</th>\n",
       "      <th>jp_sales</th>\n",
       "    </tr>\n",
       "  </thead>\n",
       "  <tbody>\n",
       "    <tr>\n",
       "      <th>0</th>\n",
       "      <td>3ds</td>\n",
       "      <td>44.24</td>\n",
       "    </tr>\n",
       "    <tr>\n",
       "      <th>3</th>\n",
       "      <td>ps4</td>\n",
       "      <td>15.02</td>\n",
       "    </tr>\n",
       "    <tr>\n",
       "      <th>5</th>\n",
       "      <td>psv</td>\n",
       "      <td>14.54</td>\n",
       "    </tr>\n",
       "    <tr>\n",
       "      <th>2</th>\n",
       "      <td>ps3</td>\n",
       "      <td>11.22</td>\n",
       "    </tr>\n",
       "    <tr>\n",
       "      <th>7</th>\n",
       "      <td>wiiu</td>\n",
       "      <td>7.31</td>\n",
       "    </tr>\n",
       "  </tbody>\n",
       "</table>\n",
       "</div>"
      ],
      "text/plain": [
       "  platform  jp_sales\n",
       "0      3ds     44.24\n",
       "3      ps4     15.02\n",
       "5      psv     14.54\n",
       "2      ps3     11.22\n",
       "7     wiiu      7.31"
      ]
     },
     "execution_count": 43,
     "metadata": {},
     "output_type": "execute_result"
    }
   ],
   "source": [
    "top_na_platform = platform_analys.pivot_table(index= 'platform', values= 'na_sales', aggfunc= 'sum').reset_index().sort_values('na_sales', ascending= False).head()\n",
    "print('ТОП 5 платформ Северной Америки')\n",
    "display(top_na_platform)\n",
    "\n",
    "top_eu_platform = platform_analys.pivot_table(index= 'platform', values= 'eu_sales', aggfunc= 'sum').reset_index().sort_values('eu_sales', ascending= False).head()\n",
    "print('___________________________________')\n",
    "print('ТОП 5 платформ Европы')\n",
    "display(top_eu_platform)\n",
    "\n",
    "top_jp_platform = platform_analys.pivot_table(index= 'platform', values= 'jp_sales', aggfunc= 'sum').reset_index().sort_values('jp_sales', ascending= False).head()\n",
    "print('___________________________________')\n",
    "print('ТОП 5 платформ ')\n",
    "top_jp_platform"
   ]
  },
  {
   "cell_type": "code",
   "execution_count": 44,
   "metadata": {},
   "outputs": [],
   "source": [
    "na_platform = platform_analys.pivot_table(index= 'platform', values= 'na_sales', aggfunc= 'sum').reset_index().sort_values('na_sales', ascending= False)\n",
    "na_platform.loc[na_platform['na_sales']<21, 'platform'] = 'other'\n",
    "na_platform = na_platform.pivot_table(index= 'platform', values= 'na_sales', aggfunc= 'sum').reset_index().sort_values('na_sales', ascending= False)\n",
    "\n",
    "eu_platform = platform_analys.pivot_table(index= 'platform', values= 'eu_sales', aggfunc= 'sum').reset_index().sort_values('eu_sales', ascending= False)\n",
    "eu_platform.loc[eu_platform['eu_sales']<16, 'platform'] = 'other'\n",
    "eu_platform = eu_platform.pivot_table(index= 'platform', values= 'eu_sales', aggfunc= 'sum').reset_index().sort_values('eu_sales', ascending= False)\n",
    "\n",
    "jp_platform = platform_analys.pivot_table(index= 'platform', values= 'jp_sales', aggfunc= 'sum').reset_index().sort_values('jp_sales', ascending= False)\n",
    "jp_platform.loc[jp_platform['jp_sales']<7, 'platform'] = 'other'\n",
    "jp_platform = jp_platform.pivot_table(index= 'platform', values= 'jp_sales', aggfunc= 'sum').reset_index().sort_values('jp_sales', ascending= False)"
   ]
  },
  {
   "cell_type": "code",
   "execution_count": 45,
   "metadata": {},
   "outputs": [
    {
     "data": {
      "image/png": "[encoded data removed]",
      "text/plain": [
       "<Figure size 864x864 with 3 Axes>"
      ]
     },
     "metadata": {},
     "output_type": "display_data"
    }
   ],
   "source": [
    "plt.figure(figsize=(12,12))\n",
    "\n",
    "#строим диаграмму распределения платформ в Америке\n",
    "ax1 = plt.subplot(2,2,1)\n",
    "names = 'ps4', 'xone', 'other', 'x360', '3ds', 'ps3'\n",
    "colors = 'red', 'orange', 'yellow', 'green', 'blue', 'indigo'\n",
    "ax1 = plt.pie(na_platform['na_sales'], labels=names, autopct='%1.1f%%', colors = colors, wedgeprops = { 'linewidth' : 3, 'edgecolor' : 'white' })\n",
    "ax1 = plt.title('Распределение платформ в Америке')\n",
    "\n",
    "#строим диаграмму распределения платформ в Европе\n",
    "ax2 = plt.subplot(2,2,2)\n",
    "names = 'ps4', 'xone', 'other', 'ps3', 'pc', '3ds'\n",
    "colors = 'salmon', 'orangered', 'gold', 'springgreen', 'deepskyblue', 'fuchsia'\n",
    "ax2 = plt.pie(eu_platform['eu_sales'], labels=names, autopct='%1.1f%%', colors=colors, wedgeprops = { 'linewidth' : 3, 'edgecolor' : 'white' })\n",
    "ax2 = plt.title('Распределение платформ в Европе')\n",
    "\n",
    "#строим диаграмму распределения платформ в Японии\n",
    "ax3 = plt.subplot(2,2,3)\n",
    "names = '3ds', 'ps4', 'psv', 'ps3', 'wiiu', 'other'\n",
    "colors = 'purple', 'sandybrown', 'lemonchiffon', 'greenyellow', 'aquamarine', 'black'\n",
    "ax3 = plt.pie(jp_platform['jp_sales'], labels=names, autopct='%1.1f%%', colors=colors, wedgeprops = { 'linewidth' : 3, 'edgecolor' : 'white' })\n",
    "ax3 = plt.title('Распределение платформ в Японии')\n",
    "\n",
    "plt.show()"
   ]
  },
  {
   "cell_type": "markdown",
   "metadata": {
    "id": "q40DKjBzutkJ"
   },
   "source": [
    "Платформы лидирующие по продажам в Америке и Европе похожи: первые 2 места- это PS4 и XOne. Рынок Японии отличается: там в лидерах платформа 3DS и в Японии в лидерах консоли собственного производства (Sony, Nintendo). Во всех регионах на лидирующих позициях следующие платформы: PS4, XOne, PS3 и 3DS."
   ]
  },
  {
   "cell_type": "markdown",
   "metadata": {
    "id": "ddX3B9Vh_LlI"
   },
   "source": [
    "#### Самые популярные жанры (топ-5). Поясните разницу."
   ]
  },
  {
   "cell_type": "code",
   "execution_count": 46,
   "metadata": {
    "colab": {
     "base_uri": "https://localhost:8080/",
     "height": 250
    },
    "id": "3QsMlfygEkPb",
    "outputId": "a476c000-d5ba-47d0-c9e9-2f461b5b564e"
   },
   "outputs": [
    {
     "data": {
      "text/html": [
       "<div>\n",
       "<style scoped>\n",
       "    .dataframe tbody tr th:only-of-type {\n",
       "        vertical-align: middle;\n",
       "    }\n",
       "\n",
       "    .dataframe tbody tr th {\n",
       "        vertical-align: top;\n",
       "    }\n",
       "\n",
       "    .dataframe thead th {\n",
       "        text-align: right;\n",
       "    }\n",
       "</style>\n",
       "<table border=\"1\" class=\"dataframe\">\n",
       "  <thead>\n",
       "    <tr style=\"text-align: right;\">\n",
       "      <th></th>\n",
       "      <th>name</th>\n",
       "      <th>platform</th>\n",
       "      <th>year_of_release</th>\n",
       "      <th>genre</th>\n",
       "      <th>na_sales</th>\n",
       "      <th>eu_sales</th>\n",
       "      <th>jp_sales</th>\n",
       "      <th>other_sales</th>\n",
       "      <th>critic_score</th>\n",
       "      <th>user_score</th>\n",
       "      <th>rating</th>\n",
       "      <th>general_sales</th>\n",
       "    </tr>\n",
       "  </thead>\n",
       "  <tbody>\n",
       "    <tr>\n",
       "      <th>31</th>\n",
       "      <td>call of duty: black ops 3</td>\n",
       "      <td>ps4</td>\n",
       "      <td>2015</td>\n",
       "      <td>shooter</td>\n",
       "      <td>6.03</td>\n",
       "      <td>5.86</td>\n",
       "      <td>0.36</td>\n",
       "      <td>2.38</td>\n",
       "      <td>-1.0</td>\n",
       "      <td>-1.0</td>\n",
       "      <td>unknown</td>\n",
       "      <td>14.63</td>\n",
       "    </tr>\n",
       "    <tr>\n",
       "      <th>42</th>\n",
       "      <td>grand theft auto v</td>\n",
       "      <td>ps4</td>\n",
       "      <td>2014</td>\n",
       "      <td>action</td>\n",
       "      <td>3.96</td>\n",
       "      <td>6.31</td>\n",
       "      <td>0.38</td>\n",
       "      <td>1.97</td>\n",
       "      <td>97.0</td>\n",
       "      <td>8.3</td>\n",
       "      <td>M</td>\n",
       "      <td>12.62</td>\n",
       "    </tr>\n",
       "    <tr>\n",
       "      <th>47</th>\n",
       "      <td>pokemon omega ruby/pokemon alpha sapphire</td>\n",
       "      <td>3ds</td>\n",
       "      <td>2014</td>\n",
       "      <td>role-playing</td>\n",
       "      <td>4.35</td>\n",
       "      <td>3.49</td>\n",
       "      <td>3.10</td>\n",
       "      <td>0.74</td>\n",
       "      <td>-1.0</td>\n",
       "      <td>-1.0</td>\n",
       "      <td>unknown</td>\n",
       "      <td>11.68</td>\n",
       "    </tr>\n",
       "    <tr>\n",
       "      <th>77</th>\n",
       "      <td>fifa 16</td>\n",
       "      <td>ps4</td>\n",
       "      <td>2015</td>\n",
       "      <td>sports</td>\n",
       "      <td>1.12</td>\n",
       "      <td>6.12</td>\n",
       "      <td>0.06</td>\n",
       "      <td>1.28</td>\n",
       "      <td>82.0</td>\n",
       "      <td>4.3</td>\n",
       "      <td>E</td>\n",
       "      <td>8.58</td>\n",
       "    </tr>\n",
       "    <tr>\n",
       "      <th>87</th>\n",
       "      <td>star wars battlefront (2015)</td>\n",
       "      <td>ps4</td>\n",
       "      <td>2015</td>\n",
       "      <td>shooter</td>\n",
       "      <td>2.99</td>\n",
       "      <td>3.49</td>\n",
       "      <td>0.22</td>\n",
       "      <td>1.28</td>\n",
       "      <td>-1.0</td>\n",
       "      <td>-1.0</td>\n",
       "      <td>unknown</td>\n",
       "      <td>7.98</td>\n",
       "    </tr>\n",
       "  </tbody>\n",
       "</table>\n",
       "</div>"
      ],
      "text/plain": [
       "                                         name platform  year_of_release  \\\n",
       "31                  call of duty: black ops 3      ps4             2015   \n",
       "42                         grand theft auto v      ps4             2014   \n",
       "47  pokemon omega ruby/pokemon alpha sapphire      3ds             2014   \n",
       "77                                    fifa 16      ps4             2015   \n",
       "87               star wars battlefront (2015)      ps4             2015   \n",
       "\n",
       "           genre  na_sales  eu_sales  jp_sales  other_sales  critic_score  \\\n",
       "31       shooter      6.03      5.86      0.36         2.38          -1.0   \n",
       "42        action      3.96      6.31      0.38         1.97          97.0   \n",
       "47  role-playing      4.35      3.49      3.10         0.74          -1.0   \n",
       "77        sports      1.12      6.12      0.06         1.28          82.0   \n",
       "87       shooter      2.99      3.49      0.22         1.28          -1.0   \n",
       "\n",
       "    user_score   rating  general_sales  \n",
       "31        -1.0  unknown          14.63  \n",
       "42         8.3        M          12.62  \n",
       "47        -1.0  unknown          11.68  \n",
       "77         4.3        E           8.58  \n",
       "87        -1.0  unknown           7.98  "
      ]
     },
     "execution_count": 46,
     "metadata": {},
     "output_type": "execute_result"
    }
   ],
   "source": [
    "platform_analys.head()"
   ]
  },
  {
   "cell_type": "code",
   "execution_count": 47,
   "metadata": {
    "colab": {
     "base_uri": "https://localhost:8080/",
     "height": 671
    },
    "id": "R19AYb6r_Wt6",
    "outputId": "64cf230d-1e5f-4aef-9205-e1eddb7a82dd"
   },
   "outputs": [
    {
     "name": "stdout",
     "output_type": "stream",
     "text": [
      "ТОП 5 жанров Северной Америки\n"
     ]
    },
    {
     "data": {
      "text/html": [
       "<div>\n",
       "<style scoped>\n",
       "    .dataframe tbody tr th:only-of-type {\n",
       "        vertical-align: middle;\n",
       "    }\n",
       "\n",
       "    .dataframe tbody tr th {\n",
       "        vertical-align: top;\n",
       "    }\n",
       "\n",
       "    .dataframe thead th {\n",
       "        text-align: right;\n",
       "    }\n",
       "</style>\n",
       "<table border=\"1\" class=\"dataframe\">\n",
       "  <thead>\n",
       "    <tr style=\"text-align: right;\">\n",
       "      <th></th>\n",
       "      <th>genre</th>\n",
       "      <th>na_sales</th>\n",
       "    </tr>\n",
       "  </thead>\n",
       "  <tbody>\n",
       "    <tr>\n",
       "      <th>8</th>\n",
       "      <td>shooter</td>\n",
       "      <td>79.02</td>\n",
       "    </tr>\n",
       "    <tr>\n",
       "      <th>0</th>\n",
       "      <td>action</td>\n",
       "      <td>72.53</td>\n",
       "    </tr>\n",
       "    <tr>\n",
       "      <th>10</th>\n",
       "      <td>sports</td>\n",
       "      <td>46.13</td>\n",
       "    </tr>\n",
       "    <tr>\n",
       "      <th>7</th>\n",
       "      <td>role-playing</td>\n",
       "      <td>33.47</td>\n",
       "    </tr>\n",
       "    <tr>\n",
       "      <th>3</th>\n",
       "      <td>misc</td>\n",
       "      <td>15.05</td>\n",
       "    </tr>\n",
       "  </tbody>\n",
       "</table>\n",
       "</div>"
      ],
      "text/plain": [
       "           genre  na_sales\n",
       "8        shooter     79.02\n",
       "0         action     72.53\n",
       "10        sports     46.13\n",
       "7   role-playing     33.47\n",
       "3           misc     15.05"
      ]
     },
     "metadata": {},
     "output_type": "display_data"
    },
    {
     "name": "stdout",
     "output_type": "stream",
     "text": [
      "___________________________________\n",
      "ТОП 5 жанров Европы\n"
     ]
    },
    {
     "data": {
      "text/html": [
       "<div>\n",
       "<style scoped>\n",
       "    .dataframe tbody tr th:only-of-type {\n",
       "        vertical-align: middle;\n",
       "    }\n",
       "\n",
       "    .dataframe tbody tr th {\n",
       "        vertical-align: top;\n",
       "    }\n",
       "\n",
       "    .dataframe thead th {\n",
       "        text-align: right;\n",
       "    }\n",
       "</style>\n",
       "<table border=\"1\" class=\"dataframe\">\n",
       "  <thead>\n",
       "    <tr style=\"text-align: right;\">\n",
       "      <th></th>\n",
       "      <th>genre</th>\n",
       "      <th>eu_sales</th>\n",
       "    </tr>\n",
       "  </thead>\n",
       "  <tbody>\n",
       "    <tr>\n",
       "      <th>0</th>\n",
       "      <td>action</td>\n",
       "      <td>74.68</td>\n",
       "    </tr>\n",
       "    <tr>\n",
       "      <th>8</th>\n",
       "      <td>shooter</td>\n",
       "      <td>65.52</td>\n",
       "    </tr>\n",
       "    <tr>\n",
       "      <th>10</th>\n",
       "      <td>sports</td>\n",
       "      <td>45.73</td>\n",
       "    </tr>\n",
       "    <tr>\n",
       "      <th>7</th>\n",
       "      <td>role-playing</td>\n",
       "      <td>28.17</td>\n",
       "    </tr>\n",
       "    <tr>\n",
       "      <th>6</th>\n",
       "      <td>racing</td>\n",
       "      <td>14.13</td>\n",
       "    </tr>\n",
       "  </tbody>\n",
       "</table>\n",
       "</div>"
      ],
      "text/plain": [
       "           genre  eu_sales\n",
       "0         action     74.68\n",
       "8        shooter     65.52\n",
       "10        sports     45.73\n",
       "7   role-playing     28.17\n",
       "6         racing     14.13"
      ]
     },
     "metadata": {},
     "output_type": "display_data"
    },
    {
     "name": "stdout",
     "output_type": "stream",
     "text": [
      "___________________________________\n",
      "ТОП 5 жанров Японии\n"
     ]
    },
    {
     "data": {
      "text/html": [
       "<div>\n",
       "<style scoped>\n",
       "    .dataframe tbody tr th:only-of-type {\n",
       "        vertical-align: middle;\n",
       "    }\n",
       "\n",
       "    .dataframe tbody tr th {\n",
       "        vertical-align: top;\n",
       "    }\n",
       "\n",
       "    .dataframe thead th {\n",
       "        text-align: right;\n",
       "    }\n",
       "</style>\n",
       "<table border=\"1\" class=\"dataframe\">\n",
       "  <thead>\n",
       "    <tr style=\"text-align: right;\">\n",
       "      <th></th>\n",
       "      <th>genre</th>\n",
       "      <th>jp_sales</th>\n",
       "    </tr>\n",
       "  </thead>\n",
       "  <tbody>\n",
       "    <tr>\n",
       "      <th>7</th>\n",
       "      <td>role-playing</td>\n",
       "      <td>31.16</td>\n",
       "    </tr>\n",
       "    <tr>\n",
       "      <th>0</th>\n",
       "      <td>action</td>\n",
       "      <td>29.58</td>\n",
       "    </tr>\n",
       "    <tr>\n",
       "      <th>2</th>\n",
       "      <td>fighting</td>\n",
       "      <td>6.37</td>\n",
       "    </tr>\n",
       "    <tr>\n",
       "      <th>3</th>\n",
       "      <td>misc</td>\n",
       "      <td>5.61</td>\n",
       "    </tr>\n",
       "    <tr>\n",
       "      <th>8</th>\n",
       "      <td>shooter</td>\n",
       "      <td>4.87</td>\n",
       "    </tr>\n",
       "  </tbody>\n",
       "</table>\n",
       "</div>"
      ],
      "text/plain": [
       "          genre  jp_sales\n",
       "7  role-playing     31.16\n",
       "0        action     29.58\n",
       "2      fighting      6.37\n",
       "3          misc      5.61\n",
       "8       shooter      4.87"
      ]
     },
     "execution_count": 47,
     "metadata": {},
     "output_type": "execute_result"
    }
   ],
   "source": [
    "top_na_genre = platform_analys.pivot_table(index= 'genre', values= 'na_sales', aggfunc= 'sum').reset_index().sort_values('na_sales', ascending= False).head()\n",
    "print('ТОП 5 жанров Северной Америки')\n",
    "display(top_na_genre)\n",
    "\n",
    "top_eu_genre = platform_analys.pivot_table(index= 'genre', values= 'eu_sales', aggfunc= 'sum').reset_index().sort_values('eu_sales', ascending= False).head()\n",
    "print('___________________________________')\n",
    "print('ТОП 5 жанров Европы')\n",
    "display(top_eu_genre)\n",
    "\n",
    "top_jp_genre = platform_analys.pivot_table(index= 'genre', values= 'jp_sales', aggfunc= 'sum').reset_index().sort_values('jp_sales', ascending= False).head()\n",
    "print('___________________________________')\n",
    "print('ТОП 5 жанров Японии')\n",
    "top_jp_genre"
   ]
  },
  {
   "cell_type": "code",
   "execution_count": 48,
   "metadata": {},
   "outputs": [],
   "source": [
    "na_genre =  platform_analys.pivot_table(index= 'genre', values= 'na_sales', aggfunc= 'sum').reset_index().sort_values('na_sales', ascending= False)\n",
    "na_genre.loc[na_genre['na_sales']<13, 'genre'] = 'other'\n",
    "na_genre = na_genre.pivot_table(index= 'genre', values= 'na_sales', aggfunc= 'sum').reset_index().sort_values('na_sales', ascending= False)\n",
    "\n",
    "eu_genre =  platform_analys.pivot_table(index= 'genre', values= 'eu_sales', aggfunc= 'sum').reset_index().sort_values('eu_sales', ascending= False)\n",
    "eu_genre.loc[eu_genre['eu_sales']<13, 'genre'] = 'other'\n",
    "eu_genre =  eu_genre.pivot_table(index= 'genre', values= 'eu_sales', aggfunc= 'sum').reset_index().sort_values('eu_sales', ascending= False)\n",
    "\n",
    "jp_genre = platform_analys.pivot_table(index= 'genre', values= 'jp_sales', aggfunc= 'sum').reset_index().sort_values('jp_sales', ascending= False)\n",
    "jp_genre.loc[jp_genre['jp_sales']<4, 'genre'] = 'other'\n",
    "jp_genre = jp_genre.pivot_table(index= 'genre', values= 'jp_sales', aggfunc= 'sum').reset_index().sort_values('jp_sales', ascending= False)"
   ]
  },
  {
   "cell_type": "code",
   "execution_count": 49,
   "metadata": {},
   "outputs": [
    {
     "data": {
      "image/png": "[encoded data removed]",
      "text/plain": [
       "<Figure size 864x864 with 3 Axes>"
      ]
     },
     "metadata": {},
     "output_type": "display_data"
    }
   ],
   "source": [
    "plt.figure(figsize=(12,12))\n",
    "\n",
    "#строим диаграмму распределения жанров в Америке\n",
    "ax1 = plt.subplot(2,2,1)\n",
    "names = 'shooter', 'action', 'sports', 'other', 'role-playing', 'misc'\n",
    "colors = 'dodgerblue', 'gold', 'lawngreen', 'deeppink', 'rebeccapurple', 'lightcoral'\n",
    "ax1 = plt.pie(na_genre['na_sales'], labels=names, autopct='%1.1f%%', colors = colors)\n",
    "my_circle = plt.Circle( (0,0), 0.7, color='white')\n",
    "p = plt.gcf()\n",
    "p.gca().add_artist(my_circle)\n",
    "ax1 = plt.title('Распределение жанров в Америке')\n",
    "\n",
    "#строим диаграмму распределения жанров в Европе\n",
    "ax2 = plt.subplot(2,2,2)\n",
    "names = 'action', 'shooter', 'sports', 'other', 'role-playing', 'racing'\n",
    "ax2 = plt.pie(eu_genre['eu_sales'], labels=names, autopct='%1.1f%%')\n",
    "my_circle = plt.Circle( (0,0), 0.7, color='white')\n",
    "p = plt.gcf()\n",
    "p.gca().add_artist(my_circle)\n",
    "ax2 = plt.title('Распределение жанров в Европе')\n",
    "\n",
    "#строим диаграмму распределения жанров в Японии\n",
    "ax3 = plt.subplot(2,2,3)\n",
    "names = 'role-playing', 'action', 'other', 'fighting', 'misc', 'shooter'\n",
    "colors = 'lightskyblue', 'lightgoldenrodyellow', 'lightgreen', 'pink', 'blueviolet', 'rosybrown'\n",
    "ax3 = plt.pie(jp_genre['jp_sales'], labels=names, autopct='%1.1f%%', colors=colors)\n",
    "my_circle = plt.Circle( (0,0), 0.7, color='white')\n",
    "p = plt.gcf()\n",
    "p.gca().add_artist(my_circle)\n",
    "ax3 = plt.title('Распределение жанров в Японии')\n",
    "\n",
    "plt.show()"
   ]
  },
  {
   "cell_type": "markdown",
   "metadata": {
    "id": "pu_KUPGHwVVj"
   },
   "source": [
    "По популярным жанрам Америка и Европа также схожи. У Японии популярные жанры почти такие же как  у Америки и Еврпы, только доля их по-разному распределена"
   ]
  },
  {
   "cell_type": "markdown",
   "metadata": {
    "id": "EhBF_xXkOz-9"
   },
   "source": [
    "#### Влияет ли рейтинг ESRB на продажи в отдельном регионе?"
   ]
  },
  {
   "cell_type": "markdown",
   "metadata": {
    "id": "Rx-NkxdjQy_l"
   },
   "source": [
    "«EC» («Early childhood») — «Для детей младшего возраста»  \n",
    "«E» («Everyone») — «Для всех»  \n",
    "«E10+» («Everyone 10 and older») — «Для всех от 10 лет и старше»  \n",
    "«T» («Teen») — «Подросткам»  \n",
    "«M» («Mature») — «Для взрослых»  \n",
    "«AO» («Adults Only 18+») — «Только для взрослых»  \n",
    "«RP» («Rating Pending») — «Рейтинг ожидается»  "
   ]
  },
  {
   "cell_type": "code",
   "execution_count": 50,
   "metadata": {
    "colab": {
     "base_uri": "https://localhost:8080/",
     "height": 671
    },
    "id": "LqADwsnlPKuW",
    "outputId": "138021c1-ebf2-47ce-d36b-75a6fc68f1b6"
   },
   "outputs": [
    {
     "name": "stdout",
     "output_type": "stream",
     "text": [
      "ТОП 5 Северной Америки\n"
     ]
    },
    {
     "data": {
      "text/html": [
       "<div>\n",
       "<style scoped>\n",
       "    .dataframe tbody tr th:only-of-type {\n",
       "        vertical-align: middle;\n",
       "    }\n",
       "\n",
       "    .dataframe tbody tr th {\n",
       "        vertical-align: top;\n",
       "    }\n",
       "\n",
       "    .dataframe thead th {\n",
       "        text-align: right;\n",
       "    }\n",
       "</style>\n",
       "<table border=\"1\" class=\"dataframe\">\n",
       "  <thead>\n",
       "    <tr style=\"text-align: right;\">\n",
       "      <th></th>\n",
       "      <th>rating</th>\n",
       "      <th>na_sales</th>\n",
       "    </tr>\n",
       "  </thead>\n",
       "  <tbody>\n",
       "    <tr>\n",
       "      <th>2</th>\n",
       "      <td>M</td>\n",
       "      <td>96.42</td>\n",
       "    </tr>\n",
       "    <tr>\n",
       "      <th>4</th>\n",
       "      <td>unknown</td>\n",
       "      <td>64.72</td>\n",
       "    </tr>\n",
       "    <tr>\n",
       "      <th>0</th>\n",
       "      <td>E</td>\n",
       "      <td>50.74</td>\n",
       "    </tr>\n",
       "    <tr>\n",
       "      <th>3</th>\n",
       "      <td>T</td>\n",
       "      <td>38.95</td>\n",
       "    </tr>\n",
       "    <tr>\n",
       "      <th>1</th>\n",
       "      <td>E10+</td>\n",
       "      <td>33.23</td>\n",
       "    </tr>\n",
       "  </tbody>\n",
       "</table>\n",
       "</div>"
      ],
      "text/plain": [
       "    rating  na_sales\n",
       "2        M     96.42\n",
       "4  unknown     64.72\n",
       "0        E     50.74\n",
       "3        T     38.95\n",
       "1     E10+     33.23"
      ]
     },
     "metadata": {},
     "output_type": "display_data"
    },
    {
     "name": "stdout",
     "output_type": "stream",
     "text": [
      "___________________________________\n",
      "ТОП 5 Европы\n"
     ]
    },
    {
     "data": {
      "text/html": [
       "<div>\n",
       "<style scoped>\n",
       "    .dataframe tbody tr th:only-of-type {\n",
       "        vertical-align: middle;\n",
       "    }\n",
       "\n",
       "    .dataframe tbody tr th {\n",
       "        vertical-align: top;\n",
       "    }\n",
       "\n",
       "    .dataframe thead th {\n",
       "        text-align: right;\n",
       "    }\n",
       "</style>\n",
       "<table border=\"1\" class=\"dataframe\">\n",
       "  <thead>\n",
       "    <tr style=\"text-align: right;\">\n",
       "      <th></th>\n",
       "      <th>rating</th>\n",
       "      <th>eu_sales</th>\n",
       "    </tr>\n",
       "  </thead>\n",
       "  <tbody>\n",
       "    <tr>\n",
       "      <th>2</th>\n",
       "      <td>M</td>\n",
       "      <td>93.44</td>\n",
       "    </tr>\n",
       "    <tr>\n",
       "      <th>4</th>\n",
       "      <td>unknown</td>\n",
       "      <td>58.95</td>\n",
       "    </tr>\n",
       "    <tr>\n",
       "      <th>0</th>\n",
       "      <td>E</td>\n",
       "      <td>58.06</td>\n",
       "    </tr>\n",
       "    <tr>\n",
       "      <th>3</th>\n",
       "      <td>T</td>\n",
       "      <td>34.07</td>\n",
       "    </tr>\n",
       "    <tr>\n",
       "      <th>1</th>\n",
       "      <td>E10+</td>\n",
       "      <td>26.16</td>\n",
       "    </tr>\n",
       "  </tbody>\n",
       "</table>\n",
       "</div>"
      ],
      "text/plain": [
       "    rating  eu_sales\n",
       "2        M     93.44\n",
       "4  unknown     58.95\n",
       "0        E     58.06\n",
       "3        T     34.07\n",
       "1     E10+     26.16"
      ]
     },
     "metadata": {},
     "output_type": "display_data"
    },
    {
     "name": "stdout",
     "output_type": "stream",
     "text": [
      "___________________________________\n",
      "ТОП 5 Японии\n"
     ]
    },
    {
     "data": {
      "text/html": [
       "<div>\n",
       "<style scoped>\n",
       "    .dataframe tbody tr th:only-of-type {\n",
       "        vertical-align: middle;\n",
       "    }\n",
       "\n",
       "    .dataframe tbody tr th {\n",
       "        vertical-align: top;\n",
       "    }\n",
       "\n",
       "    .dataframe thead th {\n",
       "        text-align: right;\n",
       "    }\n",
       "</style>\n",
       "<table border=\"1\" class=\"dataframe\">\n",
       "  <thead>\n",
       "    <tr style=\"text-align: right;\">\n",
       "      <th></th>\n",
       "      <th>rating</th>\n",
       "      <th>jp_sales</th>\n",
       "    </tr>\n",
       "  </thead>\n",
       "  <tbody>\n",
       "    <tr>\n",
       "      <th>4</th>\n",
       "      <td>unknown</td>\n",
       "      <td>56.90</td>\n",
       "    </tr>\n",
       "    <tr>\n",
       "      <th>3</th>\n",
       "      <td>T</td>\n",
       "      <td>14.78</td>\n",
       "    </tr>\n",
       "    <tr>\n",
       "      <th>0</th>\n",
       "      <td>E</td>\n",
       "      <td>8.94</td>\n",
       "    </tr>\n",
       "    <tr>\n",
       "      <th>2</th>\n",
       "      <td>M</td>\n",
       "      <td>8.01</td>\n",
       "    </tr>\n",
       "    <tr>\n",
       "      <th>1</th>\n",
       "      <td>E10+</td>\n",
       "      <td>4.46</td>\n",
       "    </tr>\n",
       "  </tbody>\n",
       "</table>\n",
       "</div>"
      ],
      "text/plain": [
       "    rating  jp_sales\n",
       "4  unknown     56.90\n",
       "3        T     14.78\n",
       "0        E      8.94\n",
       "2        M      8.01\n",
       "1     E10+      4.46"
      ]
     },
     "execution_count": 50,
     "metadata": {},
     "output_type": "execute_result"
    }
   ],
   "source": [
    "top_na_rating = platform_analys.pivot_table(index= 'rating', values= 'na_sales', aggfunc= 'sum').reset_index().sort_values('na_sales', ascending= False).head()\n",
    "print('ТОП 5 Северной Америки')\n",
    "display(top_na_rating)\n",
    "\n",
    "top_eu_rating = platform_analys.pivot_table(index= 'rating', values= 'eu_sales', aggfunc= 'sum').reset_index().sort_values('eu_sales', ascending= False).head()\n",
    "print('___________________________________')\n",
    "print('ТОП 5 Европы')\n",
    "display(top_eu_rating)\n",
    "\n",
    "top_jp_rating = platform_analys.pivot_table(index= 'rating', values= 'jp_sales', aggfunc= 'sum').reset_index().sort_values('jp_sales', ascending= False).head()\n",
    "print('___________________________________')\n",
    "print('ТОП 5 Японии')\n",
    "top_jp_rating"
   ]
  },
  {
   "cell_type": "code",
   "execution_count": 51,
   "metadata": {
    "colab": {
     "base_uri": "https://localhost:8080/",
     "height": 350
    },
    "id": "xIVpiIGzSIzM",
    "outputId": "cbb9c1b1-9635-4f05-d739-9de97edcf778"
   },
   "outputs": [
    {
     "data": {
      "image/png": "[encoded data removed]",
      "text/plain": [
       "<Figure size 1080x360 with 3 Axes>"
      ]
     },
     "metadata": {
      "needs_background": "light"
     },
     "output_type": "display_data"
    }
   ],
   "source": [
    "fig = plt.figure(figsize= (15,5))\n",
    "\n",
    "plt.subplot(1,3,1)\n",
    "ax1 = sns.barplot(x= 'rating', alpha= 0.7, y= 'na_sales', color= 'pink', data = top_na_rating)\n",
    "ax1.set(xlabel= 'Платформы', ylabel= 'Продажи', title= 'Топ 5 ESRB Северной Америки')\n",
    "\n",
    "plt.subplot(1,3,2)\n",
    "ax2 = sns.barplot(x= 'rating', y= 'eu_sales', color= 'yellow', alpha= 0.5, data = top_eu_rating)\n",
    "ax2.set(xlabel= 'Платформы', ylabel= 'Продажи', title= 'Топ 5 ESRB Европы')\n",
    "\n",
    "plt.subplot(1,3,3)\n",
    "ax3 = sns.barplot(x= 'rating', y= 'jp_sales', color= 'grey', data = top_jp_rating)\n",
    "ax3.set(xlabel= 'Платформы', ylabel= 'Продажи', title= 'Топ 5 ESRB Японии')\n",
    "plt.show()"
   ]
  },
  {
   "cell_type": "markdown",
   "metadata": {
    "id": "YNA-uP5xUXcn"
   },
   "source": [
    "У Америки с Европой на первом месте категория М (для взрослых), а на втором месте, все то, что было пропуском и обозначено как unknown. Рейтинг ESRB предназначался для маркировки игр для США и Канады. И логично, что для других регионов он не заполняется. Поэтому доля unknown так высока."
   ]
  },
  {
   "cell_type": "markdown",
   "metadata": {
    "id": "g6mIcc9CxNL0"
   },
   "source": [
    "# Итог:"
   ]
  },
  {
   "cell_type": "markdown",
   "metadata": {
    "id": "b2DZyEVQxRz2"
   },
   "source": [
    "1. Доля продаж Северной Америки и Европы примерно равны, в 2 раза меньше доля продаж Японии. Платформы лидирующие по продажам в Америке и Европе похожи: первые 2 местя это PS4 и XOne. Рынок Японии несколько отличается: там в лидерах платформа 3DS. Во всех регионах на лидирующих позициях следующие платформы: PS4, XOne, PS3 и 3DS.  \n",
    "2. По популярным жанрам Америка и Европа также схожи. У Японии популярные жанры почти такие же как  у Америки и Еврпы, только доля из по-разному распределена  \n",
    "3. У Америки с Европой на первом месте категория М (для взрослых), а на втором месте, все то, что было пропуском и обозначено как unknown. Рейтинг ESRB предназначался для маркировки игр для США и Канады. И логично, что для других регионов он не заполняется. Поэтому доля unknown так высока.\n"
   ]
  },
  {
   "cell_type": "markdown",
   "metadata": {
    "id": "MouQTpfmaG55"
   },
   "source": [
    "## **Шаг 5. Проверьте гипотезы**"
   ]
  },
  {
   "cell_type": "markdown",
   "metadata": {
    "id": "8wKWWkoaaMOg"
   },
   "source": [
    "### Проверим гипотезу о равенстве средних пользовательских рейтингов платформ Xbox One и PC\n",
    "**H0: Средние пользовательские рейтинги платформ Xbox One и PC одинаковые.  \n",
    "H1: Средние пользовательские рейтинги платформ Xbox One и PC разные.**"
   ]
  },
  {
   "cell_type": "code",
   "execution_count": 52,
   "metadata": {
    "colab": {
     "base_uri": "https://localhost:8080/"
    },
    "id": "b8g1Ty7Wg29l",
    "outputId": "2cafc761-ec13-40d0-b2c0-7fab3cc33681"
   },
   "outputs": [
    {
     "data": {
      "text/plain": [
       "array(['wii', 'nes', 'gb', 'ds', 'x360', 'ps3', 'ps2', 'snes', 'gba',\n",
       "       'ps4', '3ds', 'n64', 'ps', 'xb', 'pc', '2600', 'psp', 'xone',\n",
       "       'wiiu', 'gc', 'gen', 'dc', 'psv', 'sat', 'scd', 'ws', 'ng', 'tg16',\n",
       "       '3do', 'gg', 'pcfx'], dtype=object)"
      ]
     },
     "execution_count": 52,
     "metadata": {},
     "output_type": "execute_result"
    }
   ],
   "source": [
    "df1['platform'].unique()"
   ]
  },
  {
   "cell_type": "code",
   "execution_count": 53,
   "metadata": {
    "colab": {
     "base_uri": "https://localhost:8080/"
    },
    "id": "NPFVPGFMUU0F",
    "outputId": "5c6304b1-233c-413d-b58e-0ba09c5d81b5"
   },
   "outputs": [
    {
     "name": "stdout",
     "output_type": "stream",
     "text": [
      "p-значение:  0.0012202763945006337\n",
      "Отвергаем нулевую гипотезу\n"
     ]
    }
   ],
   "source": [
    "alpha = .05 \n",
    "\n",
    "results = st.ttest_ind(\n",
    "    df1.query('platform == \"xone\"')['user_score'], \n",
    "    df1.query('platform == \"pc\"')['user_score'],\n",
    "    equal_var = False)\n",
    "\n",
    "print('p-значение: ', results.pvalue)\n",
    "\n",
    "if results.pvalue < alpha:\n",
    "    print(\"Отвергаем нулевую гипотезу\")\n",
    "else:\n",
    "    print(\"Не получилось отвергнуть нулевую гипотезу\")"
   ]
  },
  {
   "cell_type": "code",
   "execution_count": 54,
   "metadata": {
    "colab": {
     "base_uri": "https://localhost:8080/"
    },
    "id": "ggxO--G1k5GF",
    "outputId": "57c2267d-6643-4112-c18b-90c6ceaadeb9"
   },
   "outputs": [
    {
     "name": "stdout",
     "output_type": "stream",
     "text": [
      "Среденее по Xbox One 4.542105263157893\n",
      "Среднее по PC 5.363427377220491\n"
     ]
    }
   ],
   "source": [
    "print(\"Среденее по Xbox One\", df1.query('platform == \"xone\"')['user_score'].mean())\n",
    "print('Среднее по PC', df1.query('platform == \"pc\"')['user_score'].mean())"
   ]
  },
  {
   "cell_type": "markdown",
   "metadata": {
    "id": "swZsAq4ipxDf"
   },
   "source": [
    "Проверим, влияют ли пропуски в оценках пользователей, значение которых мы приняли за -1, на результат проверки гипотез"
   ]
  },
  {
   "cell_type": "code",
   "execution_count": 55,
   "metadata": {
    "colab": {
     "base_uri": "https://localhost:8080/"
    },
    "id": "wBPNAHdChXlf",
    "outputId": "bba72815-30cb-4b54-c1e3-04d1ed9fe9b0"
   },
   "outputs": [
    {
     "name": "stdout",
     "output_type": "stream",
     "text": [
      "p-значение:  4.5385802963771776e-06\n",
      "Отвергаем нулевую гипотезу\n"
     ]
    }
   ],
   "source": [
    "alpha = .05 \n",
    "\n",
    "results = st.ttest_ind(\n",
    "    df1.query('platform == \"xone\" and user_score != -1')['user_score'], \n",
    "    df1.query('platform == \"pc\" and user_score != -1')['user_score'],\n",
    "    equal_var = False)\n",
    "\n",
    "print('p-значение: ', results.pvalue)\n",
    "\n",
    "if results.pvalue < alpha:\n",
    "    print(\"Отвергаем нулевую гипотезу\")\n",
    "else:\n",
    "    print(\"Не получилось отвергнуть нулевую гипотезу\")"
   ]
  },
  {
   "cell_type": "code",
   "execution_count": 56,
   "metadata": {
    "colab": {
     "base_uri": "https://localhost:8080/"
    },
    "id": "eAGjdE6_qna-",
    "outputId": "28b68878-9a9d-4473-fec8-541e91948244"
   },
   "outputs": [
    {
     "name": "stdout",
     "output_type": "stream",
     "text": [
      "Среденее по Xbox One 6.52142857142857\n",
      "Среденее по PC 7.065960264900677\n"
     ]
    }
   ],
   "source": [
    "print(\"Среденее по Xbox One\", df1.query('platform == \"xone\" and user_score != -1')['user_score'].mean())\n",
    "print(\"Среденее по PC\", df1.query('platform == \"pc\" and user_score != -1')['user_score'].mean())"
   ]
  },
  {
   "cell_type": "markdown",
   "metadata": {
    "id": "o6HWGJHWrtNC"
   },
   "source": [
    "Результат проверки дает основание предпологать, что средние пользовательского рейтинг платформ Xbox One и PC разные. И что пропуски не повлияли на результат t-test"
   ]
  },
  {
   "cell_type": "markdown",
   "metadata": {
    "id": "eXH1nndqhqLr"
   },
   "source": [
    "### Средние пользовательские рейтинги жанров Action (англ. «действие», экшен-игры) и Sports (англ. «спортивные соревнования») разные.\n",
    "**H0: Средние пользовательские рейтинги жанров Action и Sports равны  \n",
    "H1: Средние пользовательские рейтинги жанров Action и Sports разные**"
   ]
  },
  {
   "cell_type": "code",
   "execution_count": 57,
   "metadata": {
    "colab": {
     "base_uri": "https://localhost:8080/"
    },
    "id": "d1ZhTOLpkEfJ",
    "outputId": "9da0b7af-8465-4380-b97c-43021ebeeadd"
   },
   "outputs": [
    {
     "name": "stdout",
     "output_type": "stream",
     "text": [
      "p-значение:  0.07370217419278534\n",
      "Не получилось отвергнуть нулевую гипотезу\n"
     ]
    }
   ],
   "source": [
    "alpha = .05\n",
    "\n",
    "results = st.ttest_ind(\n",
    "    df1.query('genre == \"action\" and user_score != -1')['user_score'], \n",
    "    df1.query('genre == \"sports\" and user_score != -1')['user_score'],\n",
    "    equal_var = False)\n",
    "\n",
    "print('p-значение: ', results.pvalue)\n",
    "\n",
    "if results.pvalue < alpha:\n",
    "    print(\"Отвергаем нулевую гипотезу\")\n",
    "else:\n",
    "    print(\"Не получилось отвергнуть нулевую гипотезу\") "
   ]
  },
  {
   "cell_type": "code",
   "execution_count": 58,
   "metadata": {
    "colab": {
     "base_uri": "https://localhost:8080/"
    },
    "id": "5iZU1SwytO4t",
    "outputId": "1c4af8a3-bdfb-41a1-c93a-b2d846e64d83"
   },
   "outputs": [
    {
     "name": "stdout",
     "output_type": "stream",
     "text": [
      "Среднее по жанру action 7.058129175946543\n",
      "Среднее по жанру sports 6.951433857539316\n"
     ]
    }
   ],
   "source": [
    "print('Среднее по жанру action', df1.query('genre == \"action\" and user_score != -1')['user_score'].mean())\n",
    "print('Среднее по жанру sports', df1.query('genre == \"sports\" and user_score != -1')['user_score'].mean())"
   ]
  },
  {
   "cell_type": "markdown",
   "metadata": {
    "id": "c-8CjBo6v6bz"
   },
   "source": [
    "В ходе проверки альтернатвная гипотеза о том, что средние пользовательские рейтинги жанров Action и Sports разные не подтвердилась"
   ]
  },
  {
   "cell_type": "markdown",
   "metadata": {
    "id": "WogF7d66w5du"
   },
   "source": [
    "# **Итог:**"
   ]
  },
  {
   "cell_type": "markdown",
   "metadata": {
    "id": "wfqEgp1Tw_HV"
   },
   "source": [
    "1. Результат t-test дает основание предполагать, что гипотеза о равенстве средних пользовательских рейтингов платформ Xbox One и PC подтвердилась.  \n",
    "2. Результат проверки t-test дает основание предполагать, что альтернативная гипотеза о том, что средние пользовательские рейтинги жанров action и sports разные не подтвердилась."
   ]
  },
  {
   "cell_type": "markdown",
   "metadata": {
    "id": "yN_4v1eCWRvm"
   },
   "source": [
    "# **Вывод:**"
   ]
  },
  {
   "cell_type": "markdown",
   "metadata": {
    "id": "yDS2V9GUWXuI"
   },
   "source": [
    "1. Рост количества компьютерных игр практически в 2 раза наблюдается с 2002г. Но в 2008г. этот показатель достигает максимума и потом пошел на спад  \n",
    "2. Лидерами продаж за весь период являются: PS, PS2, PS3, Wii, X360 и DS  \n",
    "3. Самой живучей является платформа DS - 28 лет. Остальные представители вышепредставленных платформ живут от 9-11 лет.  \n",
    "4. Актуальный период определен как 2014-2016г.   \n",
    "5. Самыми прибыльными платформами за **актуальны период** являются \"ps4\", \"x360\", \"ps3\", \"xone\" и \"ds3\"  \n",
    "6. На примере этих платформ мы установили, что они минули пик продаж и  идут на спад  \n",
    "7. У платформ XOne и PS4 граница 3 квартиля в пределах 1.5 млн за одну игру. X360 - 1 млн, а 3DS и PS3 - 0.5-0.6 млн. Средний уровень продаж по этим платформам 0.55 млн за одну игру, а медиана 0.14. Такая разница в значениях среднего и медианы связана с большим количеством выбросов.  \n",
    "8. Установили на примере наиболее популярных платформ, что наличие прямой зависимости между рейтингом пользователей и критиков к уровню продаж по платформам очень слабая  \n",
    "9. Выявили, что не во всех случаях количество проданных игр определенного жанра влияет на величину его суммарных продаж. И что более стабильным показателем выступает медианное значение суммарных продаж за одну игру жанра  \n",
    "10. Доля продаж Северной Америки и Европы примерно равны, в 2 раза меньше доля продаж Японии. Платформы лидирующие по продажам в Америке и Европе похожи: первые 2 места- это PS4 и XOne. Рынок Японии несколько отличается, там в лидерах платформа 3DS. Во всех регионах на лидирующих позициях следующие платформы: PS4, XOne, PS3 и 3DS.  \n",
    "11. По популярным жанрам Америка и Европа также схожи. У Японии популярные жанры почти такие же как  у Америки и Европы, только доля их по-разному распределена  \n",
    "12. У Америки с Европой на первом месте категория М (для взрослых), а на втором месте, все то, что было пропуском и обозначено как unknown. Рейтинг ESRB предназначался для маркировки игр для США и Канады. И логично, что для других регионов он не заполняется. Поэтому доля unknown так высока.  \n",
    "13. Результат t-test дает основание предполагать, что гипотеза о равенстве средних пользовательских рейтингов платформ Xbox One и PC подтвердилась.  \n",
    "14. Результат проверки t-test дает основание предполагать, что альтернативная гипотеза о том, что средние пользовательские рейтинги жанров action и sports разные не подтвердилась."
   ]
  }
 ],
 "metadata": {
  "ExecuteTimeLog": [
   {
    "duration": 325,
    "start_time": "2022-03-03T11:47:46.882Z"
   },
   {
    "duration": 1107,
    "start_time": "2022-03-03T11:47:52.318Z"
   },
   {
    "duration": 2260,
    "start_time": "2022-03-03T11:47:53.426Z"
   },
   {
    "duration": 35,
    "start_time": "2022-03-03T11:48:05.992Z"
   },
   {
    "duration": 1093,
    "start_time": "2022-03-03T11:48:15.837Z"
   },
   {
    "duration": 35,
    "start_time": "2022-03-03T11:48:16.932Z"
   },
   {
    "duration": 13,
    "start_time": "2022-03-03T11:48:16.969Z"
   },
   {
    "duration": 9,
    "start_time": "2022-03-03T11:48:16.984Z"
   },
   {
    "duration": 3,
    "start_time": "2022-03-03T11:48:17.001Z"
   },
   {
    "duration": 4,
    "start_time": "2022-03-03T11:48:17.005Z"
   },
   {
    "duration": 12,
    "start_time": "2022-03-03T11:48:17.010Z"
   },
   {
    "duration": 7,
    "start_time": "2022-03-03T11:48:17.024Z"
   },
   {
    "duration": 3,
    "start_time": "2022-03-03T11:48:17.033Z"
   },
   {
    "duration": 8,
    "start_time": "2022-03-03T11:48:17.037Z"
   },
   {
    "duration": 9,
    "start_time": "2022-03-03T11:48:17.047Z"
   },
   {
    "duration": 5,
    "start_time": "2022-03-03T11:48:17.057Z"
   },
   {
    "duration": 37,
    "start_time": "2022-03-03T11:48:17.064Z"
   },
   {
    "duration": 12,
    "start_time": "2022-03-03T11:48:17.103Z"
   },
   {
    "duration": 29,
    "start_time": "2022-03-03T11:48:17.116Z"
   },
   {
    "duration": 15,
    "start_time": "2022-03-03T11:48:17.147Z"
   },
   {
    "duration": 38,
    "start_time": "2022-03-03T11:48:17.164Z"
   },
   {
    "duration": 22,
    "start_time": "2022-03-03T11:48:17.203Z"
   },
   {
    "duration": 11,
    "start_time": "2022-03-03T11:48:17.226Z"
   },
   {
    "duration": 14,
    "start_time": "2022-03-03T11:48:17.238Z"
   },
   {
    "duration": 433,
    "start_time": "2022-03-03T11:48:17.254Z"
   },
   {
    "duration": 20,
    "start_time": "2022-03-03T11:48:17.689Z"
   },
   {
    "duration": 215,
    "start_time": "2022-03-03T11:48:17.713Z"
   },
   {
    "duration": 21,
    "start_time": "2022-03-03T11:48:17.930Z"
   },
   {
    "duration": 904,
    "start_time": "2022-03-03T11:48:17.952Z"
   },
   {
    "duration": 18,
    "start_time": "2022-03-03T11:48:18.858Z"
   },
   {
    "duration": 26,
    "start_time": "2022-03-03T11:48:18.878Z"
   },
   {
    "duration": 4,
    "start_time": "2022-03-03T11:48:18.905Z"
   },
   {
    "duration": 90,
    "start_time": "2022-03-03T11:48:18.911Z"
   },
   {
    "duration": 3,
    "start_time": "2022-03-03T11:48:19.003Z"
   },
   {
    "duration": 12,
    "start_time": "2022-03-03T11:48:19.008Z"
   },
   {
    "duration": 14,
    "start_time": "2022-03-03T11:48:19.021Z"
   },
   {
    "duration": 530,
    "start_time": "2022-03-03T11:48:19.036Z"
   },
   {
    "duration": 225,
    "start_time": "2022-03-03T11:48:19.568Z"
   },
   {
    "duration": 272,
    "start_time": "2022-03-03T11:48:19.795Z"
   },
   {
    "duration": 269,
    "start_time": "2022-03-03T11:48:20.069Z"
   },
   {
    "duration": 11,
    "start_time": "2022-03-03T11:48:20.340Z"
   },
   {
    "duration": 463,
    "start_time": "2022-03-03T11:48:20.352Z"
   },
   {
    "duration": 985,
    "start_time": "2022-03-03T11:48:20.816Z"
   },
   {
    "duration": 2,
    "start_time": "2022-03-03T11:48:21.803Z"
   },
   {
    "duration": 218,
    "start_time": "2022-03-03T11:48:21.807Z"
   },
   {
    "duration": 211,
    "start_time": "2022-03-03T11:48:22.027Z"
   },
   {
    "duration": 8,
    "start_time": "2022-03-03T11:48:22.240Z"
   },
   {
    "duration": 54,
    "start_time": "2022-03-03T11:48:22.250Z"
   },
   {
    "duration": 474,
    "start_time": "2022-03-03T11:48:22.305Z"
   },
   {
    "duration": 11,
    "start_time": "2022-03-03T11:48:22.781Z"
   },
   {
    "duration": 38,
    "start_time": "2022-03-03T11:48:22.801Z"
   },
   {
    "duration": 414,
    "start_time": "2022-03-03T11:48:22.840Z"
   },
   {
    "duration": 15,
    "start_time": "2022-03-03T11:48:23.255Z"
   },
   {
    "duration": 49,
    "start_time": "2022-03-03T11:48:23.271Z"
   },
   {
    "duration": 382,
    "start_time": "2022-03-03T11:48:23.321Z"
   },
   {
    "duration": 4,
    "start_time": "2022-03-03T11:48:23.705Z"
   },
   {
    "duration": 9,
    "start_time": "2022-03-03T11:48:23.710Z"
   },
   {
    "duration": 8,
    "start_time": "2022-03-03T11:48:23.720Z"
   },
   {
    "duration": 10,
    "start_time": "2022-03-03T11:48:23.730Z"
   },
   {
    "duration": 10,
    "start_time": "2022-03-03T11:48:23.742Z"
   },
   {
    "duration": 49,
    "start_time": "2022-03-03T11:48:23.753Z"
   },
   {
    "duration": 9,
    "start_time": "2022-03-03T11:48:23.804Z"
   },
   {
    "duration": 11,
    "start_time": "2022-03-03T11:48:23.815Z"
   },
   {
    "duration": 11,
    "start_time": "2022-03-03T11:48:23.827Z"
   },
   {
    "duration": 1099,
    "start_time": "2022-03-03T12:03:45.233Z"
   },
   {
    "duration": 45,
    "start_time": "2022-03-03T12:03:46.334Z"
   },
   {
    "duration": 13,
    "start_time": "2022-03-03T12:03:46.381Z"
   },
   {
    "duration": 11,
    "start_time": "2022-03-03T12:03:46.395Z"
   },
   {
    "duration": 3,
    "start_time": "2022-03-03T12:03:46.407Z"
   },
   {
    "duration": 4,
    "start_time": "2022-03-03T12:03:46.412Z"
   },
   {
    "duration": 12,
    "start_time": "2022-03-03T12:03:46.417Z"
   },
   {
    "duration": 7,
    "start_time": "2022-03-03T12:03:46.431Z"
   },
   {
    "duration": 5,
    "start_time": "2022-03-03T12:03:46.439Z"
   },
   {
    "duration": 13,
    "start_time": "2022-03-03T12:03:46.445Z"
   },
   {
    "duration": 8,
    "start_time": "2022-03-03T12:03:46.460Z"
   },
   {
    "duration": 6,
    "start_time": "2022-03-03T12:03:46.469Z"
   },
   {
    "duration": 33,
    "start_time": "2022-03-03T12:03:46.476Z"
   },
   {
    "duration": 10,
    "start_time": "2022-03-03T12:03:46.510Z"
   },
   {
    "duration": 27,
    "start_time": "2022-03-03T12:03:46.522Z"
   },
   {
    "duration": 17,
    "start_time": "2022-03-03T12:03:46.551Z"
   },
   {
    "duration": 32,
    "start_time": "2022-03-03T12:03:46.569Z"
   },
   {
    "duration": 21,
    "start_time": "2022-03-03T12:03:46.604Z"
   },
   {
    "duration": 10,
    "start_time": "2022-03-03T12:03:46.628Z"
   },
   {
    "duration": 14,
    "start_time": "2022-03-03T12:03:46.640Z"
   },
   {
    "duration": 439,
    "start_time": "2022-03-03T12:03:46.656Z"
   },
   {
    "duration": 14,
    "start_time": "2022-03-03T12:03:47.097Z"
   },
   {
    "duration": 216,
    "start_time": "2022-03-03T12:03:47.112Z"
   },
   {
    "duration": 25,
    "start_time": "2022-03-03T12:03:47.330Z"
   },
   {
    "duration": 936,
    "start_time": "2022-03-03T12:03:47.356Z"
   },
   {
    "duration": 19,
    "start_time": "2022-03-03T12:03:48.302Z"
   },
   {
    "duration": 10,
    "start_time": "2022-03-03T12:03:48.323Z"
   },
   {
    "duration": 5,
    "start_time": "2022-03-03T12:03:48.334Z"
   },
   {
    "duration": 105,
    "start_time": "2022-03-03T12:03:48.340Z"
   },
   {
    "duration": 4,
    "start_time": "2022-03-03T12:03:48.447Z"
   },
   {
    "duration": 12,
    "start_time": "2022-03-03T12:03:48.453Z"
   },
   {
    "duration": 39,
    "start_time": "2022-03-03T12:03:48.467Z"
   },
   {
    "duration": 543,
    "start_time": "2022-03-03T12:03:48.508Z"
   },
   {
    "duration": 222,
    "start_time": "2022-03-03T12:03:49.053Z"
   },
   {
    "duration": 257,
    "start_time": "2022-03-03T12:03:49.277Z"
   },
   {
    "duration": 267,
    "start_time": "2022-03-03T12:03:49.536Z"
   },
   {
    "duration": 11,
    "start_time": "2022-03-03T12:03:49.805Z"
   },
   {
    "duration": 497,
    "start_time": "2022-03-03T12:03:49.817Z"
   },
   {
    "duration": 992,
    "start_time": "2022-03-03T12:03:50.316Z"
   },
   {
    "duration": 3,
    "start_time": "2022-03-03T12:03:51.310Z"
   },
   {
    "duration": 228,
    "start_time": "2022-03-03T12:03:51.315Z"
   },
   {
    "duration": 211,
    "start_time": "2022-03-03T12:03:51.545Z"
   },
   {
    "duration": 9,
    "start_time": "2022-03-03T12:03:51.757Z"
   },
   {
    "duration": 53,
    "start_time": "2022-03-03T12:03:51.767Z"
   },
   {
    "duration": 481,
    "start_time": "2022-03-03T12:03:51.822Z"
   },
   {
    "duration": 11,
    "start_time": "2022-03-03T12:03:52.305Z"
   },
   {
    "duration": 41,
    "start_time": "2022-03-03T12:03:52.317Z"
   },
   {
    "duration": 426,
    "start_time": "2022-03-03T12:03:52.360Z"
   },
   {
    "duration": 23,
    "start_time": "2022-03-03T12:03:52.788Z"
   },
   {
    "duration": 37,
    "start_time": "2022-03-03T12:03:52.812Z"
   },
   {
    "duration": 404,
    "start_time": "2022-03-03T12:03:52.850Z"
   },
   {
    "duration": 5,
    "start_time": "2022-03-03T12:03:53.256Z"
   },
   {
    "duration": 10,
    "start_time": "2022-03-03T12:03:53.263Z"
   },
   {
    "duration": 29,
    "start_time": "2022-03-03T12:03:53.277Z"
   },
   {
    "duration": 11,
    "start_time": "2022-03-03T12:03:53.308Z"
   },
   {
    "duration": 11,
    "start_time": "2022-03-03T12:03:53.320Z"
   },
   {
    "duration": 10,
    "start_time": "2022-03-03T12:03:53.332Z"
   },
   {
    "duration": 9,
    "start_time": "2022-03-03T12:03:53.343Z"
   },
   {
    "duration": 10,
    "start_time": "2022-03-03T12:03:53.354Z"
   },
   {
    "duration": 46,
    "start_time": "2022-03-03T12:03:53.365Z"
   },
   {
    "duration": 1126,
    "start_time": "2022-03-11T17:14:28.372Z"
   },
   {
    "duration": 34,
    "start_time": "2022-03-11T17:14:29.500Z"
   },
   {
    "duration": 24,
    "start_time": "2022-03-11T17:14:29.536Z"
   },
   {
    "duration": 10,
    "start_time": "2022-03-11T17:14:29.562Z"
   },
   {
    "duration": 4,
    "start_time": "2022-03-11T17:14:29.573Z"
   },
   {
    "duration": 3,
    "start_time": "2022-03-11T17:14:29.579Z"
   },
   {
    "duration": 14,
    "start_time": "2022-03-11T17:14:29.583Z"
   },
   {
    "duration": 9,
    "start_time": "2022-03-11T17:14:29.600Z"
   },
   {
    "duration": 3,
    "start_time": "2022-03-11T17:14:29.611Z"
   },
   {
    "duration": 48,
    "start_time": "2022-03-11T17:14:29.616Z"
   },
   {
    "duration": 9,
    "start_time": "2022-03-11T17:14:29.666Z"
   },
   {
    "duration": 4,
    "start_time": "2022-03-11T17:14:29.677Z"
   },
   {
    "duration": 11,
    "start_time": "2022-03-11T17:14:29.682Z"
   },
   {
    "duration": 12,
    "start_time": "2022-03-11T17:14:29.695Z"
   },
   {
    "duration": 61,
    "start_time": "2022-03-11T17:14:29.709Z"
   },
   {
    "duration": 16,
    "start_time": "2022-03-11T17:14:29.771Z"
   },
   {
    "duration": 8,
    "start_time": "2022-03-11T17:14:29.788Z"
   },
   {
    "duration": 22,
    "start_time": "2022-03-11T17:14:29.798Z"
   },
   {
    "duration": 44,
    "start_time": "2022-03-11T17:14:29.822Z"
   },
   {
    "duration": 16,
    "start_time": "2022-03-11T17:14:29.868Z"
   },
   {
    "duration": 548,
    "start_time": "2022-03-11T17:14:29.885Z"
   },
   {
    "duration": 30,
    "start_time": "2022-03-11T17:14:30.434Z"
   },
   {
    "duration": 268,
    "start_time": "2022-03-11T17:14:30.468Z"
   },
   {
    "duration": 33,
    "start_time": "2022-03-11T17:14:30.739Z"
   },
   {
    "duration": 1257,
    "start_time": "2022-03-11T17:14:30.773Z"
   },
   {
    "duration": 29,
    "start_time": "2022-03-11T17:14:32.032Z"
   },
   {
    "duration": 13,
    "start_time": "2022-03-11T17:14:32.063Z"
   },
   {
    "duration": 20,
    "start_time": "2022-03-11T17:14:32.077Z"
   },
   {
    "duration": 26,
    "start_time": "2022-03-11T17:14:32.099Z"
   },
   {
    "duration": 26,
    "start_time": "2022-03-11T17:14:32.126Z"
   },
   {
    "duration": 25,
    "start_time": "2022-03-11T17:14:32.153Z"
   },
   {
    "duration": 25,
    "start_time": "2022-03-11T17:14:32.180Z"
   },
   {
    "duration": 763,
    "start_time": "2022-03-11T17:14:32.207Z"
   },
   {
    "duration": 280,
    "start_time": "2022-03-11T17:14:32.972Z"
   },
   {
    "duration": 326,
    "start_time": "2022-03-11T17:14:33.254Z"
   },
   {
    "duration": 341,
    "start_time": "2022-03-11T17:14:33.582Z"
   },
   {
    "duration": 13,
    "start_time": "2022-03-11T17:14:33.925Z"
   },
   {
    "duration": 608,
    "start_time": "2022-03-11T17:14:33.940Z"
   },
   {
    "duration": 1184,
    "start_time": "2022-03-11T17:14:34.549Z"
   },
   {
    "duration": 4,
    "start_time": "2022-03-11T17:14:35.735Z"
   },
   {
    "duration": 288,
    "start_time": "2022-03-11T17:14:35.741Z"
   },
   {
    "duration": 278,
    "start_time": "2022-03-11T17:14:36.031Z"
   },
   {
    "duration": 9,
    "start_time": "2022-03-11T17:14:36.311Z"
   },
   {
    "duration": 59,
    "start_time": "2022-03-11T17:14:36.322Z"
   },
   {
    "duration": 598,
    "start_time": "2022-03-11T17:14:36.383Z"
   },
   {
    "duration": 14,
    "start_time": "2022-03-11T17:14:36.983Z"
   },
   {
    "duration": 68,
    "start_time": "2022-03-11T17:14:36.998Z"
   },
   {
    "duration": 528,
    "start_time": "2022-03-11T17:14:37.068Z"
   },
   {
    "duration": 18,
    "start_time": "2022-03-11T17:14:37.598Z"
   },
   {
    "duration": 72,
    "start_time": "2022-03-11T17:14:37.618Z"
   },
   {
    "duration": 514,
    "start_time": "2022-03-11T17:14:37.692Z"
   },
   {
    "duration": 5,
    "start_time": "2022-03-11T17:14:38.207Z"
   },
   {
    "duration": 17,
    "start_time": "2022-03-11T17:14:38.214Z"
   },
   {
    "duration": 26,
    "start_time": "2022-03-11T17:14:38.233Z"
   },
   {
    "duration": 13,
    "start_time": "2022-03-11T17:14:38.262Z"
   },
   {
    "duration": 12,
    "start_time": "2022-03-11T17:14:38.277Z"
   },
   {
    "duration": 12,
    "start_time": "2022-03-11T17:14:38.291Z"
   },
   {
    "duration": 12,
    "start_time": "2022-03-11T17:14:38.305Z"
   },
   {
    "duration": 51,
    "start_time": "2022-03-11T17:14:38.319Z"
   },
   {
    "duration": 13,
    "start_time": "2022-03-11T17:14:38.372Z"
   },
   {
    "duration": 6,
    "start_time": "2022-03-11T17:58:00.869Z"
   },
   {
    "duration": 1084,
    "start_time": "2022-03-12T06:48:54.602Z"
   },
   {
    "duration": 33,
    "start_time": "2022-03-12T06:48:55.687Z"
   },
   {
    "duration": 16,
    "start_time": "2022-03-12T06:48:55.722Z"
   },
   {
    "duration": 9,
    "start_time": "2022-03-12T06:48:55.740Z"
   },
   {
    "duration": 4,
    "start_time": "2022-03-12T06:48:55.750Z"
   },
   {
    "duration": 9,
    "start_time": "2022-03-12T06:48:55.756Z"
   },
   {
    "duration": 15,
    "start_time": "2022-03-12T06:48:55.767Z"
   },
   {
    "duration": 13,
    "start_time": "2022-03-12T06:48:55.784Z"
   },
   {
    "duration": 8,
    "start_time": "2022-03-12T06:48:55.799Z"
   },
   {
    "duration": 29,
    "start_time": "2022-03-12T06:48:55.808Z"
   },
   {
    "duration": 8,
    "start_time": "2022-03-12T06:48:55.839Z"
   },
   {
    "duration": 8,
    "start_time": "2022-03-12T06:48:55.848Z"
   },
   {
    "duration": 13,
    "start_time": "2022-03-12T06:48:55.857Z"
   },
   {
    "duration": 11,
    "start_time": "2022-03-12T06:48:55.872Z"
   },
   {
    "duration": 49,
    "start_time": "2022-03-12T06:48:55.885Z"
   },
   {
    "duration": 16,
    "start_time": "2022-03-12T06:48:55.935Z"
   },
   {
    "duration": 9,
    "start_time": "2022-03-12T06:48:55.952Z"
   },
   {
    "duration": 25,
    "start_time": "2022-03-12T06:48:55.963Z"
   },
   {
    "duration": 11,
    "start_time": "2022-03-12T06:48:55.989Z"
   },
   {
    "duration": 43,
    "start_time": "2022-03-12T06:48:56.001Z"
   },
   {
    "duration": 428,
    "start_time": "2022-03-12T06:48:56.046Z"
   },
   {
    "duration": 11,
    "start_time": "2022-03-12T06:48:56.475Z"
   },
   {
    "duration": 228,
    "start_time": "2022-03-12T06:48:56.489Z"
   },
   {
    "duration": 26,
    "start_time": "2022-03-12T06:48:56.719Z"
   },
   {
    "duration": 948,
    "start_time": "2022-03-12T06:48:56.746Z"
   },
   {
    "duration": 19,
    "start_time": "2022-03-12T06:48:57.696Z"
   },
   {
    "duration": 23,
    "start_time": "2022-03-12T06:48:57.717Z"
   },
   {
    "duration": 10,
    "start_time": "2022-03-12T06:48:57.742Z"
   },
   {
    "duration": 98,
    "start_time": "2022-03-12T06:48:57.753Z"
   },
   {
    "duration": 7,
    "start_time": "2022-03-12T06:48:57.852Z"
   },
   {
    "duration": 16,
    "start_time": "2022-03-12T06:48:57.861Z"
   },
   {
    "duration": 22,
    "start_time": "2022-03-12T06:48:57.879Z"
   },
   {
    "duration": 560,
    "start_time": "2022-03-12T06:48:57.902Z"
   },
   {
    "duration": 240,
    "start_time": "2022-03-12T06:48:58.465Z"
   },
   {
    "duration": 265,
    "start_time": "2022-03-12T06:48:58.706Z"
   },
   {
    "duration": 285,
    "start_time": "2022-03-12T06:48:58.973Z"
   },
   {
    "duration": 11,
    "start_time": "2022-03-12T06:48:59.260Z"
   },
   {
    "duration": 590,
    "start_time": "2022-03-12T06:48:59.273Z"
   },
   {
    "duration": 1110,
    "start_time": "2022-03-12T06:48:59.865Z"
   },
   {
    "duration": 3,
    "start_time": "2022-03-12T06:49:00.977Z"
   },
   {
    "duration": 252,
    "start_time": "2022-03-12T06:49:00.982Z"
   },
   {
    "duration": 227,
    "start_time": "2022-03-12T06:49:01.235Z"
   },
   {
    "duration": 10,
    "start_time": "2022-03-12T06:49:01.464Z"
   },
   {
    "duration": 69,
    "start_time": "2022-03-12T06:49:01.475Z"
   },
   {
    "duration": 503,
    "start_time": "2022-03-12T06:49:01.545Z"
   },
   {
    "duration": 12,
    "start_time": "2022-03-12T06:49:02.050Z"
   },
   {
    "duration": 42,
    "start_time": "2022-03-12T06:49:02.064Z"
   },
   {
    "duration": 450,
    "start_time": "2022-03-12T06:49:02.108Z"
   },
   {
    "duration": 16,
    "start_time": "2022-03-12T06:49:02.559Z"
   },
   {
    "duration": 65,
    "start_time": "2022-03-12T06:49:02.577Z"
   },
   {
    "duration": 407,
    "start_time": "2022-03-12T06:49:02.643Z"
   },
   {
    "duration": 5,
    "start_time": "2022-03-12T06:49:03.052Z"
   },
   {
    "duration": 12,
    "start_time": "2022-03-12T06:49:03.059Z"
   },
   {
    "duration": 10,
    "start_time": "2022-03-12T06:49:03.073Z"
   },
   {
    "duration": 13,
    "start_time": "2022-03-12T06:49:03.085Z"
   },
   {
    "duration": 47,
    "start_time": "2022-03-12T06:49:03.099Z"
   },
   {
    "duration": 13,
    "start_time": "2022-03-12T06:49:03.147Z"
   },
   {
    "duration": 11,
    "start_time": "2022-03-12T06:49:03.162Z"
   },
   {
    "duration": 13,
    "start_time": "2022-03-12T06:49:03.174Z"
   },
   {
    "duration": 52,
    "start_time": "2022-03-12T06:49:03.189Z"
   },
   {
    "duration": 8,
    "start_time": "2022-03-12T06:52:38.372Z"
   },
   {
    "duration": 5,
    "start_time": "2022-03-12T06:52:43.121Z"
   },
   {
    "duration": 3,
    "start_time": "2022-03-12T06:52:45.611Z"
   },
   {
    "duration": 32,
    "start_time": "2022-03-12T06:52:45.616Z"
   },
   {
    "duration": 12,
    "start_time": "2022-03-12T06:52:45.650Z"
   },
   {
    "duration": 10,
    "start_time": "2022-03-12T06:52:45.664Z"
   },
   {
    "duration": 3,
    "start_time": "2022-03-12T06:52:45.676Z"
   },
   {
    "duration": 4,
    "start_time": "2022-03-12T06:52:45.681Z"
   },
   {
    "duration": 48,
    "start_time": "2022-03-12T06:52:45.686Z"
   },
   {
    "duration": 9,
    "start_time": "2022-03-12T06:52:45.737Z"
   },
   {
    "duration": 5,
    "start_time": "2022-03-12T06:52:45.748Z"
   },
   {
    "duration": 11,
    "start_time": "2022-03-12T06:52:45.754Z"
   },
   {
    "duration": 9,
    "start_time": "2022-03-12T06:52:45.766Z"
   },
   {
    "duration": 3,
    "start_time": "2022-03-12T06:52:45.776Z"
   },
   {
    "duration": 11,
    "start_time": "2022-03-12T06:52:45.781Z"
   },
   {
    "duration": 12,
    "start_time": "2022-03-12T06:52:45.832Z"
   },
   {
    "duration": 30,
    "start_time": "2022-03-12T06:52:45.846Z"
   },
   {
    "duration": 15,
    "start_time": "2022-03-12T06:52:45.877Z"
   },
   {
    "duration": 8,
    "start_time": "2022-03-12T06:52:45.893Z"
   },
   {
    "duration": 45,
    "start_time": "2022-03-12T06:52:45.902Z"
   },
   {
    "duration": 10,
    "start_time": "2022-03-12T06:52:45.949Z"
   },
   {
    "duration": 14,
    "start_time": "2022-03-12T06:52:45.960Z"
   },
   {
    "duration": 446,
    "start_time": "2022-03-12T06:52:45.975Z"
   },
   {
    "duration": 19,
    "start_time": "2022-03-12T06:52:46.423Z"
   },
   {
    "duration": 216,
    "start_time": "2022-03-12T06:52:46.446Z"
   },
   {
    "duration": 20,
    "start_time": "2022-03-12T06:52:46.664Z"
   },
   {
    "duration": 1035,
    "start_time": "2022-03-12T06:52:46.685Z"
   },
   {
    "duration": 28,
    "start_time": "2022-03-12T06:52:47.721Z"
   },
   {
    "duration": 10,
    "start_time": "2022-03-12T06:52:47.750Z"
   },
   {
    "duration": 5,
    "start_time": "2022-03-12T06:52:47.762Z"
   },
   {
    "duration": 8,
    "start_time": "2022-03-12T06:52:47.769Z"
   },
   {
    "duration": 3,
    "start_time": "2022-03-12T06:52:47.779Z"
   },
   {
    "duration": 13,
    "start_time": "2022-03-12T06:52:47.784Z"
   },
   {
    "duration": 44,
    "start_time": "2022-03-12T06:52:47.798Z"
   },
   {
    "duration": 334,
    "start_time": "2022-03-12T06:52:47.843Z"
   },
   {
    "duration": 175,
    "start_time": "2022-03-12T06:52:48.178Z"
   },
   {
    "duration": 247,
    "start_time": "2022-03-12T06:52:48.355Z"
   },
   {
    "duration": 258,
    "start_time": "2022-03-12T06:52:48.604Z"
   },
   {
    "duration": 10,
    "start_time": "2022-03-12T06:52:48.864Z"
   },
   {
    "duration": 589,
    "start_time": "2022-03-12T06:52:48.875Z"
   },
   {
    "duration": 1013,
    "start_time": "2022-03-12T06:52:49.465Z"
   },
   {
    "duration": 4,
    "start_time": "2022-03-12T06:52:50.480Z"
   },
   {
    "duration": 237,
    "start_time": "2022-03-12T06:52:50.485Z"
   },
   {
    "duration": 338,
    "start_time": "2022-03-12T06:52:50.723Z"
   },
   {
    "duration": 10,
    "start_time": "2022-03-12T06:52:51.062Z"
   },
   {
    "duration": 68,
    "start_time": "2022-03-12T06:52:51.074Z"
   },
   {
    "duration": 430,
    "start_time": "2022-03-12T06:52:51.144Z"
   },
   {
    "duration": 13,
    "start_time": "2022-03-12T06:52:51.575Z"
   },
   {
    "duration": 62,
    "start_time": "2022-03-12T06:52:51.590Z"
   },
   {
    "duration": 432,
    "start_time": "2022-03-12T06:52:51.654Z"
   },
   {
    "duration": 17,
    "start_time": "2022-03-12T06:52:52.088Z"
   },
   {
    "duration": 57,
    "start_time": "2022-03-12T06:52:52.107Z"
   },
   {
    "duration": 412,
    "start_time": "2022-03-12T06:52:52.166Z"
   },
   {
    "duration": 5,
    "start_time": "2022-03-12T06:52:52.580Z"
   },
   {
    "duration": 12,
    "start_time": "2022-03-12T06:52:52.586Z"
   },
   {
    "duration": 9,
    "start_time": "2022-03-12T06:52:52.600Z"
   },
   {
    "duration": 33,
    "start_time": "2022-03-12T06:52:52.610Z"
   },
   {
    "duration": 11,
    "start_time": "2022-03-12T06:52:52.644Z"
   },
   {
    "duration": 11,
    "start_time": "2022-03-12T06:52:52.656Z"
   },
   {
    "duration": 17,
    "start_time": "2022-03-12T06:52:52.668Z"
   },
   {
    "duration": 13,
    "start_time": "2022-03-12T06:52:52.686Z"
   },
   {
    "duration": 43,
    "start_time": "2022-03-12T06:52:52.700Z"
   },
   {
    "duration": 341,
    "start_time": "2022-03-12T06:54:36.248Z"
   },
   {
    "duration": 287,
    "start_time": "2022-03-12T06:59:43.260Z"
   },
   {
    "duration": 258,
    "start_time": "2022-03-12T06:59:53.258Z"
   },
   {
    "duration": 11,
    "start_time": "2022-03-12T07:00:10.553Z"
   },
   {
    "duration": 498,
    "start_time": "2022-03-12T07:06:31.263Z"
   },
   {
    "duration": 568,
    "start_time": "2022-03-12T07:07:31.716Z"
   },
   {
    "duration": 994,
    "start_time": "2022-03-12T07:12:22.639Z"
   },
   {
    "duration": 220,
    "start_time": "2022-03-12T07:17:46.697Z"
   },
   {
    "duration": 324,
    "start_time": "2022-03-12T07:20:00.610Z"
   },
   {
    "duration": 405,
    "start_time": "2022-03-12T07:21:04.813Z"
   },
   {
    "duration": 498,
    "start_time": "2022-03-12T07:25:30.881Z"
   },
   {
    "duration": 407,
    "start_time": "2022-03-12T07:25:38.738Z"
   },
   {
    "duration": 406,
    "start_time": "2022-03-12T07:28:35.048Z"
   },
   {
    "duration": 404,
    "start_time": "2022-03-12T07:30:50.161Z"
   },
   {
    "duration": 14,
    "start_time": "2022-03-12T07:32:31.919Z"
   },
   {
    "duration": 379,
    "start_time": "2022-03-12T07:32:40.110Z"
   },
   {
    "duration": 397,
    "start_time": "2022-03-12T07:34:31.293Z"
   },
   {
    "duration": 479,
    "start_time": "2022-03-12T07:37:13.311Z"
   },
   {
    "duration": 218,
    "start_time": "2022-03-12T07:41:18.547Z"
   },
   {
    "duration": 9,
    "start_time": "2022-03-12T09:05:47.001Z"
   },
   {
    "duration": 4,
    "start_time": "2022-03-12T09:06:00.601Z"
   },
   {
    "duration": 49,
    "start_time": "2022-03-12T09:06:00.606Z"
   },
   {
    "duration": 12,
    "start_time": "2022-03-12T09:06:00.657Z"
   },
   {
    "duration": 19,
    "start_time": "2022-03-12T09:06:00.671Z"
   },
   {
    "duration": 19,
    "start_time": "2022-03-12T09:06:00.692Z"
   },
   {
    "duration": 6,
    "start_time": "2022-03-12T09:06:00.713Z"
   },
   {
    "duration": 25,
    "start_time": "2022-03-12T09:06:00.720Z"
   },
   {
    "duration": 12,
    "start_time": "2022-03-12T09:06:00.747Z"
   },
   {
    "duration": 4,
    "start_time": "2022-03-12T09:06:00.761Z"
   },
   {
    "duration": 20,
    "start_time": "2022-03-12T09:06:00.766Z"
   },
   {
    "duration": 17,
    "start_time": "2022-03-12T09:06:00.788Z"
   },
   {
    "duration": 38,
    "start_time": "2022-03-12T09:06:00.807Z"
   },
   {
    "duration": 10,
    "start_time": "2022-03-12T09:06:00.847Z"
   },
   {
    "duration": 12,
    "start_time": "2022-03-12T09:06:00.859Z"
   },
   {
    "duration": 32,
    "start_time": "2022-03-12T09:06:00.872Z"
   },
   {
    "duration": 14,
    "start_time": "2022-03-12T09:06:00.906Z"
   },
   {
    "duration": 10,
    "start_time": "2022-03-12T09:06:00.933Z"
   },
   {
    "duration": 25,
    "start_time": "2022-03-12T09:06:00.944Z"
   },
   {
    "duration": 11,
    "start_time": "2022-03-12T09:06:00.970Z"
   },
   {
    "duration": 19,
    "start_time": "2022-03-12T09:06:00.983Z"
   },
   {
    "duration": 444,
    "start_time": "2022-03-12T09:06:01.034Z"
   },
   {
    "duration": 13,
    "start_time": "2022-03-12T09:06:01.480Z"
   },
   {
    "duration": 224,
    "start_time": "2022-03-12T09:06:01.496Z"
   },
   {
    "duration": 31,
    "start_time": "2022-03-12T09:06:01.722Z"
   },
   {
    "duration": 1016,
    "start_time": "2022-03-12T09:06:01.755Z"
   },
   {
    "duration": 21,
    "start_time": "2022-03-12T09:06:02.773Z"
   },
   {
    "duration": 19,
    "start_time": "2022-03-12T09:06:02.796Z"
   },
   {
    "duration": 22,
    "start_time": "2022-03-12T09:06:02.817Z"
   },
   {
    "duration": 15,
    "start_time": "2022-03-12T09:06:02.840Z"
   },
   {
    "duration": 6,
    "start_time": "2022-03-12T09:06:02.856Z"
   },
   {
    "duration": 15,
    "start_time": "2022-03-12T09:06:02.863Z"
   },
   {
    "duration": 27,
    "start_time": "2022-03-12T09:06:02.879Z"
   },
   {
    "duration": 367,
    "start_time": "2022-03-12T09:06:02.908Z"
   },
   {
    "duration": 278,
    "start_time": "2022-03-12T09:06:03.277Z"
   },
   {
    "duration": 279,
    "start_time": "2022-03-12T09:06:03.556Z"
   },
   {
    "duration": 278,
    "start_time": "2022-03-12T09:06:03.837Z"
   },
   {
    "duration": 17,
    "start_time": "2022-03-12T09:06:04.117Z"
   },
   {
    "duration": 530,
    "start_time": "2022-03-12T09:06:04.135Z"
   },
   {
    "duration": 994,
    "start_time": "2022-03-12T09:06:04.667Z"
   },
   {
    "duration": 3,
    "start_time": "2022-03-12T09:06:05.662Z"
   },
   {
    "duration": 237,
    "start_time": "2022-03-12T09:06:05.667Z"
   },
   {
    "duration": 233,
    "start_time": "2022-03-12T09:06:05.905Z"
   },
   {
    "duration": 496,
    "start_time": "2022-03-12T09:06:06.140Z"
   },
   {
    "duration": 8,
    "start_time": "2022-03-12T09:06:06.638Z"
   },
   {
    "duration": 36,
    "start_time": "2022-03-12T09:06:06.648Z"
   },
   {
    "duration": 422,
    "start_time": "2022-03-12T09:06:06.686Z"
   },
   {
    "duration": 12,
    "start_time": "2022-03-12T09:06:07.109Z"
   },
   {
    "duration": 48,
    "start_time": "2022-03-12T09:06:07.123Z"
   },
   {
    "duration": 430,
    "start_time": "2022-03-12T09:06:07.173Z"
   },
   {
    "duration": 16,
    "start_time": "2022-03-12T09:06:07.605Z"
   },
   {
    "duration": 47,
    "start_time": "2022-03-12T09:06:07.622Z"
   },
   {
    "duration": 393,
    "start_time": "2022-03-12T09:06:07.671Z"
   },
   {
    "duration": 4,
    "start_time": "2022-03-12T09:06:08.066Z"
   },
   {
    "duration": 13,
    "start_time": "2022-03-12T09:06:08.071Z"
   },
   {
    "duration": 12,
    "start_time": "2022-03-12T09:06:08.086Z"
   },
   {
    "duration": 35,
    "start_time": "2022-03-12T09:06:08.099Z"
   },
   {
    "duration": 12,
    "start_time": "2022-03-12T09:06:08.136Z"
   },
   {
    "duration": 12,
    "start_time": "2022-03-12T09:06:08.150Z"
   },
   {
    "duration": 14,
    "start_time": "2022-03-12T09:06:08.164Z"
   },
   {
    "duration": 13,
    "start_time": "2022-03-12T09:06:08.180Z"
   },
   {
    "duration": 48,
    "start_time": "2022-03-12T09:06:08.194Z"
   },
   {
    "duration": 292,
    "start_time": "2022-03-12T09:54:05.638Z"
   },
   {
    "duration": 182,
    "start_time": "2022-03-12T09:55:26.848Z"
   },
   {
    "duration": 313,
    "start_time": "2022-03-12T09:55:53.050Z"
   },
   {
    "duration": 136,
    "start_time": "2022-03-12T09:57:20.886Z"
   },
   {
    "duration": 179,
    "start_time": "2022-03-12T10:01:08.075Z"
   },
   {
    "duration": 15,
    "start_time": "2022-03-12T10:06:39.483Z"
   },
   {
    "duration": 13,
    "start_time": "2022-03-12T10:09:41.572Z"
   },
   {
    "duration": 11,
    "start_time": "2022-03-12T10:11:16.911Z"
   },
   {
    "duration": 13,
    "start_time": "2022-03-12T10:11:23.614Z"
   },
   {
    "duration": 18,
    "start_time": "2022-03-12T10:11:57.798Z"
   },
   {
    "duration": 17,
    "start_time": "2022-03-12T10:12:20.751Z"
   },
   {
    "duration": 16,
    "start_time": "2022-03-12T10:12:36.291Z"
   },
   {
    "duration": 17,
    "start_time": "2022-03-12T10:12:55.194Z"
   },
   {
    "duration": 17,
    "start_time": "2022-03-12T10:13:17.065Z"
   },
   {
    "duration": 373,
    "start_time": "2022-03-12T10:15:15.957Z"
   },
   {
    "duration": 25,
    "start_time": "2022-03-12T10:17:24.176Z"
   },
   {
    "duration": 25,
    "start_time": "2022-03-12T10:17:44.493Z"
   },
   {
    "duration": 5014,
    "start_time": "2022-03-12T10:17:59.805Z"
   },
   {
    "duration": 26,
    "start_time": "2022-03-12T10:18:15.724Z"
   },
   {
    "duration": 31,
    "start_time": "2022-03-12T10:19:30.842Z"
   },
   {
    "duration": 32,
    "start_time": "2022-03-12T10:19:41.866Z"
   },
   {
    "duration": 5607,
    "start_time": "2022-03-12T10:20:05.401Z"
   },
   {
    "duration": 34,
    "start_time": "2022-03-12T10:20:16.662Z"
   },
   {
    "duration": 33,
    "start_time": "2022-03-12T10:20:40.422Z"
   },
   {
    "duration": 27,
    "start_time": "2022-03-12T10:21:37.156Z"
   },
   {
    "duration": 61,
    "start_time": "2022-03-12T10:23:14.241Z"
   },
   {
    "duration": 298,
    "start_time": "2022-03-12T10:23:40.990Z"
   },
   {
    "duration": 386,
    "start_time": "2022-03-12T10:23:56.365Z"
   },
   {
    "duration": 284,
    "start_time": "2022-03-12T10:24:00.828Z"
   },
   {
    "duration": 125,
    "start_time": "2022-03-12T10:24:37.864Z"
   },
   {
    "duration": 254,
    "start_time": "2022-03-12T10:25:48.040Z"
   },
   {
    "duration": 8,
    "start_time": "2022-03-12T10:27:57.077Z"
   },
   {
    "duration": 29,
    "start_time": "2022-03-12T10:28:21.168Z"
   },
   {
    "duration": 8,
    "start_time": "2022-03-12T10:28:23.315Z"
   },
   {
    "duration": 8,
    "start_time": "2022-03-12T10:29:51.037Z"
   },
   {
    "duration": 35,
    "start_time": "2022-03-12T10:29:54.673Z"
   },
   {
    "duration": 7,
    "start_time": "2022-03-12T10:29:55.835Z"
   },
   {
    "duration": 44,
    "start_time": "2022-03-12T10:31:06.330Z"
   },
   {
    "duration": 207,
    "start_time": "2022-03-12T10:31:53.160Z"
   },
   {
    "duration": 225,
    "start_time": "2022-03-12T10:36:05.420Z"
   },
   {
    "duration": 227,
    "start_time": "2022-03-12T10:36:20.251Z"
   },
   {
    "duration": 223,
    "start_time": "2022-03-12T10:38:28.255Z"
   },
   {
    "duration": 50,
    "start_time": "2022-03-12T10:41:16.445Z"
   },
   {
    "duration": 135,
    "start_time": "2022-03-12T10:41:58.109Z"
   },
   {
    "duration": 225,
    "start_time": "2022-03-12T10:42:10.411Z"
   },
   {
    "duration": 188,
    "start_time": "2022-03-12T10:42:25.130Z"
   },
   {
    "duration": 173,
    "start_time": "2022-03-12T10:43:41.531Z"
   },
   {
    "duration": 342,
    "start_time": "2022-03-12T10:46:20.832Z"
   },
   {
    "duration": 419,
    "start_time": "2022-03-12T11:03:20.854Z"
   },
   {
    "duration": 340,
    "start_time": "2022-03-12T11:05:30.403Z"
   },
   {
    "duration": 336,
    "start_time": "2022-03-12T11:05:39.963Z"
   },
   {
    "duration": 340,
    "start_time": "2022-03-12T11:06:02.987Z"
   },
   {
    "duration": 175,
    "start_time": "2022-03-12T11:06:28.911Z"
   },
   {
    "duration": 181,
    "start_time": "2022-03-12T11:06:37.706Z"
   },
   {
    "duration": 389,
    "start_time": "2022-03-12T11:08:36.436Z"
   },
   {
    "duration": 186,
    "start_time": "2022-03-12T11:09:35.539Z"
   },
   {
    "duration": 304,
    "start_time": "2022-03-12T14:21:43.683Z"
   },
   {
    "duration": 1450,
    "start_time": "2022-03-12T14:21:54.847Z"
   },
   {
    "duration": 46,
    "start_time": "2022-03-12T14:21:56.299Z"
   },
   {
    "duration": 24,
    "start_time": "2022-03-12T14:21:56.348Z"
   },
   {
    "duration": 17,
    "start_time": "2022-03-12T14:21:56.376Z"
   },
   {
    "duration": 6,
    "start_time": "2022-03-12T14:21:56.396Z"
   },
   {
    "duration": 48,
    "start_time": "2022-03-12T14:21:56.404Z"
   },
   {
    "duration": 20,
    "start_time": "2022-03-12T14:21:56.455Z"
   },
   {
    "duration": 12,
    "start_time": "2022-03-12T14:21:56.478Z"
   },
   {
    "duration": 4,
    "start_time": "2022-03-12T14:21:56.494Z"
   },
   {
    "duration": 49,
    "start_time": "2022-03-12T14:21:56.501Z"
   },
   {
    "duration": 12,
    "start_time": "2022-03-12T14:21:56.552Z"
   },
   {
    "duration": 5,
    "start_time": "2022-03-12T14:21:56.566Z"
   },
   {
    "duration": 16,
    "start_time": "2022-03-12T14:21:56.574Z"
   },
   {
    "duration": 58,
    "start_time": "2022-03-12T14:21:56.593Z"
   },
   {
    "duration": 42,
    "start_time": "2022-03-12T14:21:56.654Z"
   },
   {
    "duration": 22,
    "start_time": "2022-03-12T14:21:56.699Z"
   },
   {
    "duration": 13,
    "start_time": "2022-03-12T14:21:56.750Z"
   },
   {
    "duration": 30,
    "start_time": "2022-03-12T14:21:56.765Z"
   },
   {
    "duration": 55,
    "start_time": "2022-03-12T14:21:56.798Z"
   },
   {
    "duration": 30,
    "start_time": "2022-03-12T14:21:56.855Z"
   },
   {
    "duration": 809,
    "start_time": "2022-03-12T14:21:56.887Z"
   },
   {
    "duration": 16,
    "start_time": "2022-03-12T14:21:57.699Z"
   },
   {
    "duration": 487,
    "start_time": "2022-03-12T14:21:57.717Z"
   },
   {
    "duration": 46,
    "start_time": "2022-03-12T14:21:58.207Z"
   },
   {
    "duration": 1664,
    "start_time": "2022-03-12T14:21:58.256Z"
   },
   {
    "duration": 45,
    "start_time": "2022-03-12T14:21:59.923Z"
   },
   {
    "duration": 15,
    "start_time": "2022-03-12T14:21:59.974Z"
   },
   {
    "duration": 5,
    "start_time": "2022-03-12T14:21:59.992Z"
   },
   {
    "duration": 12,
    "start_time": "2022-03-12T14:21:59.999Z"
   },
   {
    "duration": 7,
    "start_time": "2022-03-12T14:22:00.052Z"
   },
   {
    "duration": 21,
    "start_time": "2022-03-12T14:22:00.061Z"
   },
   {
    "duration": 22,
    "start_time": "2022-03-12T14:22:00.085Z"
   },
   {
    "duration": 703,
    "start_time": "2022-03-12T14:22:00.110Z"
   },
   {
    "duration": 345,
    "start_time": "2022-03-12T14:22:00.816Z"
   },
   {
    "duration": 472,
    "start_time": "2022-03-12T14:22:01.166Z"
   },
   {
    "duration": 478,
    "start_time": "2022-03-12T14:22:01.652Z"
   },
   {
    "duration": 24,
    "start_time": "2022-03-12T14:22:02.132Z"
   },
   {
    "duration": 844,
    "start_time": "2022-03-12T14:22:02.159Z"
   },
   {
    "duration": 1650,
    "start_time": "2022-03-12T14:22:03.006Z"
   },
   {
    "duration": 4,
    "start_time": "2022-03-12T14:22:04.659Z"
   },
   {
    "duration": 415,
    "start_time": "2022-03-12T14:22:04.666Z"
   },
   {
    "duration": 407,
    "start_time": "2022-03-12T14:22:05.085Z"
   },
   {
    "duration": 801,
    "start_time": "2022-03-12T14:22:05.495Z"
   },
   {
    "duration": 15,
    "start_time": "2022-03-12T14:22:06.300Z"
   },
   {
    "duration": 94,
    "start_time": "2022-03-12T14:22:06.318Z"
   },
   {
    "duration": 955,
    "start_time": "2022-03-12T14:22:06.415Z"
   },
   {
    "duration": 30,
    "start_time": "2022-03-12T14:22:07.373Z"
   },
   {
    "duration": 112,
    "start_time": "2022-03-12T14:22:07.406Z"
   },
   {
    "duration": 1153,
    "start_time": "2022-03-12T14:22:07.521Z"
   },
   {
    "duration": 105,
    "start_time": "2022-03-12T14:22:08.677Z"
   },
   {
    "duration": 867,
    "start_time": "2022-03-12T14:22:08.784Z"
   },
   {
    "duration": 9580,
    "start_time": "2022-03-12T14:22:00.074Z"
   },
   {
    "duration": 9574,
    "start_time": "2022-03-12T14:22:00.081Z"
   },
   {
    "duration": 9572,
    "start_time": "2022-03-12T14:22:00.084Z"
   },
   {
    "duration": 9570,
    "start_time": "2022-03-12T14:22:00.088Z"
   },
   {
    "duration": 9568,
    "start_time": "2022-03-12T14:22:00.091Z"
   },
   {
    "duration": 9565,
    "start_time": "2022-03-12T14:22:00.095Z"
   },
   {
    "duration": 9563,
    "start_time": "2022-03-12T14:22:00.098Z"
   },
   {
    "duration": 9561,
    "start_time": "2022-03-12T14:22:00.102Z"
   },
   {
    "duration": 9559,
    "start_time": "2022-03-12T14:22:00.105Z"
   },
   {
    "duration": 9557,
    "start_time": "2022-03-12T14:22:00.108Z"
   },
   {
    "duration": 9555,
    "start_time": "2022-03-12T14:22:00.111Z"
   },
   {
    "duration": 9554,
    "start_time": "2022-03-12T14:22:00.114Z"
   },
   {
    "duration": 309,
    "start_time": "2022-03-12T14:25:22.416Z"
   },
   {
    "duration": 315,
    "start_time": "2022-03-12T14:25:44.170Z"
   },
   {
    "duration": 338,
    "start_time": "2022-03-12T14:26:25.109Z"
   },
   {
    "duration": 359,
    "start_time": "2022-03-12T14:27:48.434Z"
   },
   {
    "duration": 696,
    "start_time": "2022-03-12T14:28:30.800Z"
   },
   {
    "duration": 386,
    "start_time": "2022-03-12T14:28:36.977Z"
   },
   {
    "duration": 353,
    "start_time": "2022-03-12T14:31:31.538Z"
   },
   {
    "duration": 331,
    "start_time": "2022-03-12T14:34:55.663Z"
   },
   {
    "duration": 314,
    "start_time": "2022-03-12T14:35:04.559Z"
   },
   {
    "duration": 298,
    "start_time": "2022-03-12T14:35:22.542Z"
   },
   {
    "duration": 11,
    "start_time": "2022-03-12T14:37:00.608Z"
   },
   {
    "duration": 305,
    "start_time": "2022-03-12T14:38:49.363Z"
   },
   {
    "duration": 10,
    "start_time": "2022-03-12T14:40:19.427Z"
   },
   {
    "duration": 286,
    "start_time": "2022-03-12T14:42:29.297Z"
   },
   {
    "duration": 308,
    "start_time": "2022-03-12T14:42:53.448Z"
   },
   {
    "duration": 62,
    "start_time": "2022-03-12T14:57:39.962Z"
   },
   {
    "duration": 717,
    "start_time": "2022-03-12T14:57:59.296Z"
   },
   {
    "duration": 314,
    "start_time": "2022-03-12T15:09:01.569Z"
   },
   {
    "duration": 7,
    "start_time": "2022-03-12T15:09:20.735Z"
   },
   {
    "duration": 12,
    "start_time": "2022-03-12T15:21:11.872Z"
   },
   {
    "duration": 4,
    "start_time": "2022-03-12T15:21:24.260Z"
   },
   {
    "duration": 42,
    "start_time": "2022-03-12T15:21:24.267Z"
   },
   {
    "duration": 26,
    "start_time": "2022-03-12T15:21:24.313Z"
   },
   {
    "duration": 16,
    "start_time": "2022-03-12T15:21:24.352Z"
   },
   {
    "duration": 6,
    "start_time": "2022-03-12T15:21:24.370Z"
   },
   {
    "duration": 11,
    "start_time": "2022-03-12T15:21:24.379Z"
   },
   {
    "duration": 24,
    "start_time": "2022-03-12T15:21:24.393Z"
   },
   {
    "duration": 13,
    "start_time": "2022-03-12T15:21:24.701Z"
   },
   {
    "duration": 4,
    "start_time": "2022-03-12T15:21:24.717Z"
   },
   {
    "duration": 15,
    "start_time": "2022-03-12T15:21:24.724Z"
   },
   {
    "duration": 12,
    "start_time": "2022-03-12T15:21:24.742Z"
   },
   {
    "duration": 125,
    "start_time": "2022-03-12T15:21:24.757Z"
   },
   {
    "duration": 16,
    "start_time": "2022-03-12T15:21:24.885Z"
   },
   {
    "duration": 18,
    "start_time": "2022-03-12T15:21:24.904Z"
   },
   {
    "duration": 62,
    "start_time": "2022-03-12T15:21:24.924Z"
   },
   {
    "duration": 24,
    "start_time": "2022-03-12T15:21:24.990Z"
   },
   {
    "duration": 40,
    "start_time": "2022-03-12T15:21:25.017Z"
   },
   {
    "duration": 31,
    "start_time": "2022-03-12T15:21:25.060Z"
   },
   {
    "duration": 62,
    "start_time": "2022-03-12T15:21:25.093Z"
   },
   {
    "duration": 6,
    "start_time": "2022-03-12T15:21:25.158Z"
   },
   {
    "duration": 15,
    "start_time": "2022-03-12T15:21:25.166Z"
   },
   {
    "duration": 36,
    "start_time": "2022-03-12T15:21:25.183Z"
   },
   {
    "duration": 775,
    "start_time": "2022-03-12T15:21:25.222Z"
   },
   {
    "duration": 17,
    "start_time": "2022-03-12T15:21:26.000Z"
   },
   {
    "duration": 376,
    "start_time": "2022-03-12T15:21:26.019Z"
   },
   {
    "duration": 29,
    "start_time": "2022-03-12T15:21:26.397Z"
   },
   {
    "duration": 1808,
    "start_time": "2022-03-12T15:21:26.429Z"
   },
   {
    "duration": 37,
    "start_time": "2022-03-12T15:21:28.241Z"
   },
   {
    "duration": 16,
    "start_time": "2022-03-12T15:21:28.280Z"
   },
   {
    "duration": 7,
    "start_time": "2022-03-12T15:21:28.298Z"
   },
   {
    "duration": 49,
    "start_time": "2022-03-12T15:21:28.307Z"
   },
   {
    "duration": 7,
    "start_time": "2022-03-12T15:21:28.359Z"
   },
   {
    "duration": 29,
    "start_time": "2022-03-12T15:21:28.369Z"
   },
   {
    "duration": 58,
    "start_time": "2022-03-12T15:21:28.405Z"
   },
   {
    "duration": 601,
    "start_time": "2022-03-12T15:21:28.467Z"
   },
   {
    "duration": 305,
    "start_time": "2022-03-12T15:21:29.071Z"
   },
   {
    "duration": 476,
    "start_time": "2022-03-12T15:21:29.380Z"
   },
   {
    "duration": 488,
    "start_time": "2022-03-12T15:21:29.858Z"
   },
   {
    "duration": 14,
    "start_time": "2022-03-12T15:21:30.352Z"
   },
   {
    "duration": 951,
    "start_time": "2022-03-12T15:21:30.369Z"
   },
   {
    "duration": 1649,
    "start_time": "2022-03-12T15:21:31.323Z"
   },
   {
    "duration": 5,
    "start_time": "2022-03-12T15:21:32.975Z"
   },
   {
    "duration": 586,
    "start_time": "2022-03-12T15:21:32.983Z"
   },
   {
    "duration": 589,
    "start_time": "2022-03-12T15:21:33.572Z"
   },
   {
    "duration": 1126,
    "start_time": "2022-03-12T15:21:34.164Z"
   },
   {
    "duration": 13,
    "start_time": "2022-03-12T15:21:35.293Z"
   },
   {
    "duration": 92,
    "start_time": "2022-03-12T15:21:35.309Z"
   },
   {
    "duration": 890,
    "start_time": "2022-03-12T15:21:35.404Z"
   },
   {
    "duration": 21,
    "start_time": "2022-03-12T15:21:36.297Z"
   },
   {
    "duration": 187,
    "start_time": "2022-03-12T15:21:36.321Z"
   },
   {
    "duration": 861,
    "start_time": "2022-03-12T15:21:36.511Z"
   },
   {
    "duration": 105,
    "start_time": "2022-03-12T15:21:37.375Z"
   },
   {
    "duration": 323,
    "start_time": "2022-03-12T15:21:37.482Z"
   },
   {
    "duration": 323,
    "start_time": "2022-03-12T15:21:37.808Z"
   },
   {
    "duration": 315,
    "start_time": "2022-03-12T15:21:38.134Z"
   },
   {
    "duration": 101,
    "start_time": "2022-03-12T15:21:38.452Z"
   },
   {
    "duration": 696,
    "start_time": "2022-03-12T15:21:38.555Z"
   },
   {
    "duration": 7,
    "start_time": "2022-03-12T15:21:39.253Z"
   },
   {
    "duration": 15,
    "start_time": "2022-03-12T15:21:39.262Z"
   },
   {
    "duration": 13,
    "start_time": "2022-03-12T15:21:39.279Z"
   },
   {
    "duration": 60,
    "start_time": "2022-03-12T15:21:39.295Z"
   },
   {
    "duration": 16,
    "start_time": "2022-03-12T15:21:39.358Z"
   },
   {
    "duration": 16,
    "start_time": "2022-03-12T15:21:39.377Z"
   },
   {
    "duration": 55,
    "start_time": "2022-03-12T15:21:39.396Z"
   },
   {
    "duration": 24,
    "start_time": "2022-03-12T15:21:39.454Z"
   },
   {
    "duration": 21,
    "start_time": "2022-03-12T15:21:39.481Z"
   },
   {
    "duration": 369,
    "start_time": "2022-03-12T17:47:36.975Z"
   },
   {
    "duration": 1496,
    "start_time": "2022-03-12T17:47:46.948Z"
   },
   {
    "duration": 42,
    "start_time": "2022-03-12T17:47:48.447Z"
   },
   {
    "duration": 24,
    "start_time": "2022-03-12T17:47:48.492Z"
   },
   {
    "duration": 12,
    "start_time": "2022-03-12T17:47:48.518Z"
   },
   {
    "duration": 5,
    "start_time": "2022-03-12T17:47:48.533Z"
   },
   {
    "duration": 41,
    "start_time": "2022-03-12T17:47:48.541Z"
   },
   {
    "duration": 18,
    "start_time": "2022-03-12T17:47:48.585Z"
   },
   {
    "duration": 15,
    "start_time": "2022-03-12T17:47:48.607Z"
   },
   {
    "duration": 4,
    "start_time": "2022-03-12T17:47:48.625Z"
   },
   {
    "duration": 14,
    "start_time": "2022-03-12T17:47:48.631Z"
   },
   {
    "duration": 40,
    "start_time": "2022-03-12T17:47:48.647Z"
   },
   {
    "duration": 6,
    "start_time": "2022-03-12T17:47:48.690Z"
   },
   {
    "duration": 16,
    "start_time": "2022-03-12T17:47:48.698Z"
   },
   {
    "duration": 18,
    "start_time": "2022-03-12T17:47:48.717Z"
   },
   {
    "duration": 81,
    "start_time": "2022-03-12T17:47:48.738Z"
   },
   {
    "duration": 22,
    "start_time": "2022-03-12T17:47:48.822Z"
   },
   {
    "duration": 38,
    "start_time": "2022-03-12T17:47:48.847Z"
   },
   {
    "duration": 36,
    "start_time": "2022-03-12T17:47:48.888Z"
   },
   {
    "duration": 57,
    "start_time": "2022-03-12T17:47:48.928Z"
   },
   {
    "duration": 9,
    "start_time": "2022-03-12T17:47:48.988Z"
   },
   {
    "duration": 13,
    "start_time": "2022-03-12T17:47:49.000Z"
   },
   {
    "duration": 70,
    "start_time": "2022-03-12T17:47:49.016Z"
   },
   {
    "duration": 771,
    "start_time": "2022-03-12T17:47:49.095Z"
   },
   {
    "duration": 25,
    "start_time": "2022-03-12T17:47:49.870Z"
   },
   {
    "duration": 390,
    "start_time": "2022-03-12T17:47:49.897Z"
   },
   {
    "duration": 35,
    "start_time": "2022-03-12T17:47:50.290Z"
   },
   {
    "duration": 1771,
    "start_time": "2022-03-12T17:47:50.328Z"
   },
   {
    "duration": 30,
    "start_time": "2022-03-12T17:47:52.101Z"
   },
   {
    "duration": 19,
    "start_time": "2022-03-12T17:47:52.134Z"
   },
   {
    "duration": 30,
    "start_time": "2022-03-12T17:47:52.155Z"
   },
   {
    "duration": 112,
    "start_time": "2022-03-12T17:47:52.188Z"
   },
   {
    "duration": 8,
    "start_time": "2022-03-12T17:47:52.303Z"
   },
   {
    "duration": 22,
    "start_time": "2022-03-12T17:47:52.313Z"
   },
   {
    "duration": 61,
    "start_time": "2022-03-12T17:47:52.337Z"
   },
   {
    "duration": 633,
    "start_time": "2022-03-12T17:47:52.401Z"
   },
   {
    "duration": 352,
    "start_time": "2022-03-12T17:47:53.037Z"
   },
   {
    "duration": 602,
    "start_time": "2022-03-12T17:47:53.392Z"
   },
   {
    "duration": 271,
    "start_time": "2022-03-12T17:47:53.725Z"
   },
   {
    "duration": 270,
    "start_time": "2022-03-12T17:47:53.728Z"
   },
   {
    "duration": 267,
    "start_time": "2022-03-12T17:47:53.732Z"
   },
   {
    "duration": 264,
    "start_time": "2022-03-12T17:47:53.737Z"
   },
   {
    "duration": 261,
    "start_time": "2022-03-12T17:47:53.741Z"
   },
   {
    "duration": 259,
    "start_time": "2022-03-12T17:47:53.745Z"
   },
   {
    "duration": 256,
    "start_time": "2022-03-12T17:47:53.749Z"
   },
   {
    "duration": 255,
    "start_time": "2022-03-12T17:47:53.752Z"
   },
   {
    "duration": 252,
    "start_time": "2022-03-12T17:47:53.756Z"
   },
   {
    "duration": 251,
    "start_time": "2022-03-12T17:47:53.759Z"
   },
   {
    "duration": 242,
    "start_time": "2022-03-12T17:47:53.769Z"
   },
   {
    "duration": 240,
    "start_time": "2022-03-12T17:47:53.773Z"
   },
   {
    "duration": 238,
    "start_time": "2022-03-12T17:47:53.777Z"
   },
   {
    "duration": 236,
    "start_time": "2022-03-12T17:47:53.780Z"
   },
   {
    "duration": 233,
    "start_time": "2022-03-12T17:47:53.784Z"
   },
   {
    "duration": 231,
    "start_time": "2022-03-12T17:47:53.788Z"
   },
   {
    "duration": 228,
    "start_time": "2022-03-12T17:47:53.792Z"
   },
   {
    "duration": 220,
    "start_time": "2022-03-12T17:47:53.801Z"
   },
   {
    "duration": 218,
    "start_time": "2022-03-12T17:47:53.805Z"
   },
   {
    "duration": 215,
    "start_time": "2022-03-12T17:47:53.809Z"
   },
   {
    "duration": 214,
    "start_time": "2022-03-12T17:47:53.812Z"
   },
   {
    "duration": 211,
    "start_time": "2022-03-12T17:47:53.816Z"
   },
   {
    "duration": 209,
    "start_time": "2022-03-12T17:47:53.820Z"
   },
   {
    "duration": 207,
    "start_time": "2022-03-12T17:47:53.823Z"
   },
   {
    "duration": 205,
    "start_time": "2022-03-12T17:47:53.827Z"
   },
   {
    "duration": 203,
    "start_time": "2022-03-12T17:47:53.830Z"
   },
   {
    "duration": 243,
    "start_time": "2022-03-12T17:47:53.839Z"
   },
   {
    "duration": 241,
    "start_time": "2022-03-12T17:47:53.843Z"
   },
   {
    "duration": 238,
    "start_time": "2022-03-12T17:47:53.847Z"
   },
   {
    "duration": 237,
    "start_time": "2022-03-12T17:47:53.850Z"
   },
   {
    "duration": 1398,
    "start_time": "2022-03-12T17:50:26.100Z"
   },
   {
    "duration": 1422,
    "start_time": "2022-03-12T17:50:42.034Z"
   },
   {
    "duration": 342,
    "start_time": "2022-03-12T17:58:49.379Z"
   },
   {
    "duration": 309,
    "start_time": "2022-03-12T17:59:14.195Z"
   },
   {
    "duration": 313,
    "start_time": "2022-03-12T17:59:18.650Z"
   },
   {
    "duration": 2035,
    "start_time": "2022-03-12T22:59:37.834Z"
   },
   {
    "duration": 60,
    "start_time": "2022-03-12T22:59:39.872Z"
   },
   {
    "duration": 23,
    "start_time": "2022-03-12T22:59:39.936Z"
   },
   {
    "duration": 15,
    "start_time": "2022-03-12T22:59:39.973Z"
   },
   {
    "duration": 7,
    "start_time": "2022-03-12T22:59:39.991Z"
   },
   {
    "duration": 18,
    "start_time": "2022-03-12T22:59:40.000Z"
   },
   {
    "duration": 24,
    "start_time": "2022-03-12T22:59:40.021Z"
   },
   {
    "duration": 14,
    "start_time": "2022-03-12T22:59:40.073Z"
   },
   {
    "duration": 6,
    "start_time": "2022-03-12T22:59:40.091Z"
   },
   {
    "duration": 16,
    "start_time": "2022-03-12T22:59:40.100Z"
   },
   {
    "duration": 58,
    "start_time": "2022-03-12T22:59:40.119Z"
   },
   {
    "duration": 6,
    "start_time": "2022-03-12T22:59:40.180Z"
   },
   {
    "duration": 19,
    "start_time": "2022-03-12T22:59:40.189Z"
   },
   {
    "duration": 61,
    "start_time": "2022-03-12T22:59:40.212Z"
   },
   {
    "duration": 46,
    "start_time": "2022-03-12T22:59:40.275Z"
   },
   {
    "duration": 51,
    "start_time": "2022-03-12T22:59:40.324Z"
   },
   {
    "duration": 13,
    "start_time": "2022-03-12T22:59:40.377Z"
   },
   {
    "duration": 33,
    "start_time": "2022-03-12T22:59:40.392Z"
   },
   {
    "duration": 55,
    "start_time": "2022-03-12T22:59:40.428Z"
   },
   {
    "duration": 8,
    "start_time": "2022-03-12T22:59:40.486Z"
   },
   {
    "duration": 15,
    "start_time": "2022-03-12T22:59:40.496Z"
   },
   {
    "duration": 60,
    "start_time": "2022-03-12T22:59:40.515Z"
   },
   {
    "duration": 910,
    "start_time": "2022-03-12T22:59:40.583Z"
   },
   {
    "duration": 20,
    "start_time": "2022-03-12T22:59:41.498Z"
   },
   {
    "duration": 409,
    "start_time": "2022-03-12T22:59:41.520Z"
   },
   {
    "duration": 46,
    "start_time": "2022-03-12T22:59:41.932Z"
   },
   {
    "duration": 2008,
    "start_time": "2022-03-12T22:59:41.981Z"
   },
   {
    "duration": 47,
    "start_time": "2022-03-12T22:59:43.991Z"
   },
   {
    "duration": 42,
    "start_time": "2022-03-12T22:59:44.043Z"
   },
   {
    "duration": 10,
    "start_time": "2022-03-12T22:59:44.089Z"
   },
   {
    "duration": 185,
    "start_time": "2022-03-12T22:59:44.107Z"
   },
   {
    "duration": 26,
    "start_time": "2022-03-12T22:59:44.296Z"
   },
   {
    "duration": 39,
    "start_time": "2022-03-12T22:59:44.327Z"
   },
   {
    "duration": 35,
    "start_time": "2022-03-12T22:59:44.369Z"
   },
   {
    "duration": 886,
    "start_time": "2022-03-12T22:59:44.407Z"
   },
   {
    "duration": 413,
    "start_time": "2022-03-12T22:59:45.297Z"
   },
   {
    "duration": 714,
    "start_time": "2022-03-12T22:59:45.713Z"
   },
   {
    "duration": 558,
    "start_time": "2022-03-12T22:59:46.430Z"
   },
   {
    "duration": 17,
    "start_time": "2022-03-12T22:59:46.991Z"
   },
   {
    "duration": 970,
    "start_time": "2022-03-12T22:59:47.011Z"
   },
   {
    "duration": 1816,
    "start_time": "2022-03-12T22:59:47.983Z"
   },
   {
    "duration": 10,
    "start_time": "2022-03-12T22:59:49.802Z"
   },
   {
    "duration": 463,
    "start_time": "2022-03-12T22:59:49.815Z"
   },
   {
    "duration": 570,
    "start_time": "2022-03-12T22:59:50.281Z"
   },
   {
    "duration": 1376,
    "start_time": "2022-03-12T22:59:50.854Z"
   },
   {
    "duration": 39,
    "start_time": "2022-03-12T22:59:52.234Z"
   },
   {
    "duration": 113,
    "start_time": "2022-03-12T22:59:52.275Z"
   },
   {
    "duration": 805,
    "start_time": "2022-03-12T22:59:52.391Z"
   },
   {
    "duration": 23,
    "start_time": "2022-03-12T22:59:53.199Z"
   },
   {
    "duration": 99,
    "start_time": "2022-03-12T22:59:53.224Z"
   },
   {
    "duration": 848,
    "start_time": "2022-03-12T22:59:53.326Z"
   },
   {
    "duration": 108,
    "start_time": "2022-03-12T22:59:54.176Z"
   },
   {
    "duration": 341,
    "start_time": "2022-03-12T22:59:54.287Z"
   },
   {
    "duration": 326,
    "start_time": "2022-03-12T22:59:54.630Z"
   },
   {
    "duration": 425,
    "start_time": "2022-03-12T22:59:54.959Z"
   },
   {
    "duration": 89,
    "start_time": "2022-03-12T22:59:55.386Z"
   },
   {
    "duration": 724,
    "start_time": "2022-03-12T22:59:55.478Z"
   },
   {
    "duration": 7,
    "start_time": "2022-03-12T22:59:56.205Z"
   },
   {
    "duration": 22,
    "start_time": "2022-03-12T22:59:56.214Z"
   },
   {
    "duration": 42,
    "start_time": "2022-03-12T22:59:56.239Z"
   },
   {
    "duration": 17,
    "start_time": "2022-03-12T22:59:56.284Z"
   },
   {
    "duration": 16,
    "start_time": "2022-03-12T22:59:56.304Z"
   },
   {
    "duration": 157,
    "start_time": "2022-03-12T22:59:56.323Z"
   },
   {
    "duration": 15,
    "start_time": "2022-03-12T22:59:56.482Z"
   },
   {
    "duration": 19,
    "start_time": "2022-03-12T22:59:56.499Z"
   },
   {
    "duration": 55,
    "start_time": "2022-03-12T22:59:56.520Z"
   },
   {
    "duration": 304,
    "start_time": "2022-03-14T08:35:06.430Z"
   },
   {
    "duration": 1242,
    "start_time": "2022-03-14T08:35:40.832Z"
   },
   {
    "duration": 41,
    "start_time": "2022-03-14T08:35:42.077Z"
   },
   {
    "duration": 18,
    "start_time": "2022-03-14T08:35:42.120Z"
   },
   {
    "duration": 18,
    "start_time": "2022-03-14T08:35:42.141Z"
   },
   {
    "duration": 23,
    "start_time": "2022-03-14T08:35:42.162Z"
   },
   {
    "duration": 14,
    "start_time": "2022-03-14T08:35:42.187Z"
   },
   {
    "duration": 41,
    "start_time": "2022-03-14T08:35:42.203Z"
   },
   {
    "duration": 11,
    "start_time": "2022-03-14T08:35:42.248Z"
   },
   {
    "duration": 16,
    "start_time": "2022-03-14T08:35:42.261Z"
   },
   {
    "duration": 19,
    "start_time": "2022-03-14T08:35:42.279Z"
   },
   {
    "duration": 22,
    "start_time": "2022-03-14T08:35:42.300Z"
   },
   {
    "duration": 9,
    "start_time": "2022-03-14T08:35:42.325Z"
   },
   {
    "duration": 15,
    "start_time": "2022-03-14T08:35:42.336Z"
   },
   {
    "duration": 16,
    "start_time": "2022-03-14T08:35:42.353Z"
   },
   {
    "duration": 42,
    "start_time": "2022-03-14T08:35:42.371Z"
   },
   {
    "duration": 18,
    "start_time": "2022-03-14T08:35:42.416Z"
   },
   {
    "duration": 12,
    "start_time": "2022-03-14T08:35:42.437Z"
   },
   {
    "duration": 58,
    "start_time": "2022-03-14T08:35:42.451Z"
   },
   {
    "duration": 14,
    "start_time": "2022-03-14T08:35:42.511Z"
   },
   {
    "duration": 13,
    "start_time": "2022-03-14T08:35:42.528Z"
   },
   {
    "duration": 20,
    "start_time": "2022-03-14T08:35:42.543Z"
   },
   {
    "duration": 39,
    "start_time": "2022-03-14T08:35:42.566Z"
   },
   {
    "duration": 515,
    "start_time": "2022-03-14T08:35:42.611Z"
   },
   {
    "duration": 19,
    "start_time": "2022-03-14T08:35:43.129Z"
   },
   {
    "duration": 267,
    "start_time": "2022-03-14T08:35:43.151Z"
   },
   {
    "duration": 39,
    "start_time": "2022-03-14T08:35:43.420Z"
   },
   {
    "duration": 1110,
    "start_time": "2022-03-14T08:35:43.461Z"
   },
   {
    "duration": 37,
    "start_time": "2022-03-14T08:35:44.573Z"
   },
   {
    "duration": 13,
    "start_time": "2022-03-14T08:35:44.612Z"
   },
   {
    "duration": 5,
    "start_time": "2022-03-14T08:35:44.627Z"
   },
   {
    "duration": 109,
    "start_time": "2022-03-14T08:35:44.634Z"
   },
   {
    "duration": 5,
    "start_time": "2022-03-14T08:35:44.745Z"
   },
   {
    "duration": 18,
    "start_time": "2022-03-14T08:35:44.752Z"
   },
   {
    "duration": 39,
    "start_time": "2022-03-14T08:35:44.771Z"
   },
   {
    "duration": 416,
    "start_time": "2022-03-14T08:35:44.812Z"
   },
   {
    "duration": 202,
    "start_time": "2022-03-14T08:35:45.230Z"
   },
   {
    "duration": 315,
    "start_time": "2022-03-14T08:35:45.434Z"
   },
   {
    "duration": 405,
    "start_time": "2022-03-14T08:35:45.750Z"
   },
   {
    "duration": 15,
    "start_time": "2022-03-14T08:35:46.158Z"
   },
   {
    "duration": 874,
    "start_time": "2022-03-14T08:35:46.175Z"
   },
   {
    "duration": 1589,
    "start_time": "2022-03-14T08:35:47.051Z"
   },
   {
    "duration": 4,
    "start_time": "2022-03-14T08:35:48.643Z"
   },
   {
    "duration": 424,
    "start_time": "2022-03-14T08:35:48.649Z"
   },
   {
    "duration": 428,
    "start_time": "2022-03-14T08:35:49.075Z"
   },
   {
    "duration": 848,
    "start_time": "2022-03-14T08:35:49.505Z"
   },
   {
    "duration": 12,
    "start_time": "2022-03-14T08:35:50.356Z"
   },
   {
    "duration": 81,
    "start_time": "2022-03-14T08:35:50.371Z"
   },
   {
    "duration": 472,
    "start_time": "2022-03-14T08:35:50.454Z"
   },
   {
    "duration": 14,
    "start_time": "2022-03-14T08:35:50.929Z"
   },
   {
    "duration": 75,
    "start_time": "2022-03-14T08:35:50.945Z"
   },
   {
    "duration": 497,
    "start_time": "2022-03-14T08:35:51.022Z"
   },
   {
    "duration": 57,
    "start_time": "2022-03-14T08:35:51.520Z"
   },
   {
    "duration": 230,
    "start_time": "2022-03-14T08:35:51.578Z"
   },
   {
    "duration": 225,
    "start_time": "2022-03-14T08:35:51.810Z"
   },
   {
    "duration": 314,
    "start_time": "2022-03-14T08:35:52.037Z"
   },
   {
    "duration": 69,
    "start_time": "2022-03-14T08:35:52.354Z"
   },
   {
    "duration": 462,
    "start_time": "2022-03-14T08:35:52.425Z"
   },
   {
    "duration": 13,
    "start_time": "2022-03-14T08:35:52.889Z"
   },
   {
    "duration": 13,
    "start_time": "2022-03-14T08:35:52.904Z"
   },
   {
    "duration": 14,
    "start_time": "2022-03-14T08:35:52.919Z"
   },
   {
    "duration": 18,
    "start_time": "2022-03-14T08:35:52.935Z"
   },
   {
    "duration": 13,
    "start_time": "2022-03-14T08:35:52.955Z"
   },
   {
    "duration": 131,
    "start_time": "2022-03-14T08:35:52.970Z"
   },
   {
    "duration": 13,
    "start_time": "2022-03-14T08:35:53.103Z"
   },
   {
    "duration": 21,
    "start_time": "2022-03-14T08:35:53.117Z"
   },
   {
    "duration": 20,
    "start_time": "2022-03-14T08:35:53.140Z"
   },
   {
    "duration": 365,
    "start_time": "2022-03-14T08:36:40.145Z"
   },
   {
    "duration": 262,
    "start_time": "2022-03-14T08:37:01.605Z"
   },
   {
    "duration": 462,
    "start_time": "2022-03-14T08:38:05.329Z"
   },
   {
    "duration": 449,
    "start_time": "2022-03-14T08:38:28.649Z"
   },
   {
    "duration": 413,
    "start_time": "2022-03-14T08:39:28.096Z"
   },
   {
    "duration": 67,
    "start_time": "2022-03-14T08:39:52.390Z"
   },
   {
    "duration": 64,
    "start_time": "2022-03-14T08:41:40.012Z"
   },
   {
    "duration": 79,
    "start_time": "2022-03-14T08:42:39.165Z"
   },
   {
    "duration": 94,
    "start_time": "2022-03-14T08:51:10.296Z"
   },
   {
    "duration": 97,
    "start_time": "2022-03-14T08:54:59.036Z"
   },
   {
    "duration": 249,
    "start_time": "2022-03-14T08:55:32.763Z"
   },
   {
    "duration": 130,
    "start_time": "2022-03-14T08:55:45.338Z"
   },
   {
    "duration": 104,
    "start_time": "2022-03-14T08:55:52.550Z"
   },
   {
    "duration": 115,
    "start_time": "2022-03-14T08:55:56.680Z"
   },
   {
    "duration": 116,
    "start_time": "2022-03-14T08:56:00.728Z"
   },
   {
    "duration": 121,
    "start_time": "2022-03-14T09:15:34.832Z"
   },
   {
    "duration": 126,
    "start_time": "2022-03-14T09:16:04.232Z"
   },
   {
    "duration": 291,
    "start_time": "2022-03-14T09:22:17.769Z"
   },
   {
    "duration": 121,
    "start_time": "2022-03-14T09:22:36.208Z"
   },
   {
    "duration": 203,
    "start_time": "2022-03-14T09:32:37.029Z"
   },
   {
    "duration": 117,
    "start_time": "2022-03-14T09:35:36.743Z"
   },
   {
    "duration": 119,
    "start_time": "2022-03-14T09:44:50.885Z"
   },
   {
    "duration": 138,
    "start_time": "2022-03-14T09:45:22.304Z"
   },
   {
    "duration": 106,
    "start_time": "2022-03-14T09:45:54.513Z"
   },
   {
    "duration": 134,
    "start_time": "2022-03-14T09:46:12.610Z"
   },
   {
    "duration": 149,
    "start_time": "2022-03-14T09:46:19.769Z"
   },
   {
    "duration": 228,
    "start_time": "2022-03-14T09:46:27.962Z"
   },
   {
    "duration": 178,
    "start_time": "2022-03-14T09:46:36.209Z"
   },
   {
    "duration": 203,
    "start_time": "2022-03-14T09:47:21.626Z"
   },
   {
    "duration": 220,
    "start_time": "2022-03-14T09:47:57.688Z"
   },
   {
    "duration": 337,
    "start_time": "2022-03-14T09:48:17.238Z"
   },
   {
    "duration": 275,
    "start_time": "2022-03-14T09:50:35.525Z"
   },
   {
    "duration": 213,
    "start_time": "2022-03-14T09:50:46.758Z"
   },
   {
    "duration": 285,
    "start_time": "2022-03-14T09:51:01.180Z"
   },
   {
    "duration": 311,
    "start_time": "2022-03-14T09:51:12.197Z"
   },
   {
    "duration": 338,
    "start_time": "2022-03-14T09:52:40.474Z"
   },
   {
    "duration": 444,
    "start_time": "2022-03-14T10:24:01.531Z"
   },
   {
    "duration": 339,
    "start_time": "2022-03-14T10:25:12.864Z"
   },
   {
    "duration": 335,
    "start_time": "2022-03-14T10:31:57.714Z"
   },
   {
    "duration": 730,
    "start_time": "2022-03-14T10:32:16.032Z"
   },
   {
    "duration": 701,
    "start_time": "2022-03-14T10:32:46.376Z"
   },
   {
    "duration": 859,
    "start_time": "2022-03-14T10:33:05.024Z"
   },
   {
    "duration": 349,
    "start_time": "2022-03-14T10:33:26.673Z"
   },
   {
    "duration": 13,
    "start_time": "2022-03-14T12:15:22.197Z"
   },
   {
    "duration": 17,
    "start_time": "2022-03-14T12:15:59.167Z"
   },
   {
    "duration": 294,
    "start_time": "2022-03-14T12:17:45.733Z"
   },
   {
    "duration": 356,
    "start_time": "2022-03-14T12:18:13.542Z"
   },
   {
    "duration": 8155,
    "start_time": "2022-03-14T12:18:43.372Z"
   },
   {
    "duration": 6915,
    "start_time": "2022-03-14T12:19:47.067Z"
   },
   {
    "duration": 7345,
    "start_time": "2022-03-14T12:20:07.786Z"
   },
   {
    "duration": 7471,
    "start_time": "2022-03-14T12:20:29.529Z"
   },
   {
    "duration": 7458,
    "start_time": "2022-03-14T12:21:41.777Z"
   },
   {
    "duration": 14,
    "start_time": "2022-03-14T12:22:07.671Z"
   },
   {
    "duration": 18,
    "start_time": "2022-03-14T12:22:12.103Z"
   },
   {
    "duration": 29,
    "start_time": "2022-03-14T12:23:05.246Z"
   },
   {
    "duration": 25,
    "start_time": "2022-03-14T12:23:58.021Z"
   },
   {
    "duration": 41,
    "start_time": "2022-03-14T12:25:44.299Z"
   },
   {
    "duration": 31,
    "start_time": "2022-03-14T12:25:59.371Z"
   },
   {
    "duration": 43,
    "start_time": "2022-03-14T12:26:20.730Z"
   },
   {
    "duration": 311,
    "start_time": "2022-03-14T12:32:51.050Z"
   },
   {
    "duration": 51,
    "start_time": "2022-03-14T12:33:11.369Z"
   },
   {
    "duration": 348,
    "start_time": "2022-03-14T12:34:18.424Z"
   },
   {
    "duration": 51,
    "start_time": "2022-03-14T12:34:43.648Z"
   },
   {
    "duration": 57,
    "start_time": "2022-03-14T12:35:08.868Z"
   },
   {
    "duration": 52,
    "start_time": "2022-03-14T12:35:49.398Z"
   },
   {
    "duration": 50,
    "start_time": "2022-03-14T12:36:03.630Z"
   },
   {
    "duration": 357,
    "start_time": "2022-03-14T12:38:40.389Z"
   },
   {
    "duration": 56,
    "start_time": "2022-03-14T12:39:43.170Z"
   },
   {
    "duration": 60,
    "start_time": "2022-03-14T12:42:28.813Z"
   },
   {
    "duration": 57,
    "start_time": "2022-03-14T12:44:18.003Z"
   },
   {
    "duration": 338,
    "start_time": "2022-03-14T12:45:06.963Z"
   },
   {
    "duration": 337,
    "start_time": "2022-03-14T12:48:03.047Z"
   },
   {
    "duration": 320,
    "start_time": "2022-03-14T12:48:16.541Z"
   },
   {
    "duration": 51,
    "start_time": "2022-03-14T12:51:26.114Z"
   },
   {
    "duration": 427,
    "start_time": "2022-03-14T12:56:56.219Z"
   },
   {
    "duration": 328,
    "start_time": "2022-03-14T13:00:44.250Z"
   },
   {
    "duration": 345,
    "start_time": "2022-03-14T13:04:40.679Z"
   },
   {
    "duration": 326,
    "start_time": "2022-03-14T13:05:57.869Z"
   },
   {
    "duration": 336,
    "start_time": "2022-03-14T13:06:21.877Z"
   }
  ],
  "colab": {
   "collapsed_sections": [],
   "name": "Untitled0.ipynb",
   "provenance": []
  },
  "kernelspec": {
   "display_name": "Python 3 (ipykernel)",
   "language": "python",
   "name": "python3"
  },
  "language_info": {
   "codemirror_mode": {
    "name": "ipython",
    "version": 3
   },
   "file_extension": ".py",
   "mimetype": "text/x-python",
   "name": "python",
   "nbconvert_exporter": "python",
   "pygments_lexer": "ipython3",
   "version": "3.9.7"
  },
  "toc": {
   "base_numbering": 1,
   "nav_menu": {},
   "number_sections": true,
   "sideBar": true,
   "skip_h1_title": true,
   "title_cell": "Содержание",
   "title_sidebar": "Contents",
   "toc_cell": true,
   "toc_position": {
    "height": "757px",
    "left": "39px",
    "top": "175px",
    "width": "362.938px"
   },
   "toc_section_display": true,
   "toc_window_display": true
  }
 },
 "nbformat": 4,
 "nbformat_minor": 1
}
