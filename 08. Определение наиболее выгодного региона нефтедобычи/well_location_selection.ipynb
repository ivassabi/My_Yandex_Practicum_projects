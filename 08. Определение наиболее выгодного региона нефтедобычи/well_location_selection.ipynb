{
 "cells": [
  {
   "cell_type": "markdown",
   "id": "f90f05e4",
   "metadata": {
    "toc": true
   },
   "source": [
    "<h1>Содержание:<span class=\"tocSkip\"></span></h1>\n",
    "<div class=\"toc\"><ul class=\"toc-item\"><li><span><a href=\"#Загрузка-и-подготовка-данных\" data-toc-modified-id=\"Загрузка-и-подготовка-данных-1\"><span class=\"toc-item-num\">1&nbsp;&nbsp;</span>Загрузка и подготовка данных</a></span><ul class=\"toc-item\"><li><span><a href=\"#Информация-по-первой-таблице\" data-toc-modified-id=\"Информация-по-первой-таблице-1.1\"><span class=\"toc-item-num\">1.1&nbsp;&nbsp;</span>Информация по первой таблице</a></span></li><li><span><a href=\"#Информация-по-второй-таблице\" data-toc-modified-id=\"Информация-по-второй-таблице-1.2\"><span class=\"toc-item-num\">1.2&nbsp;&nbsp;</span>Информация по второй таблице</a></span></li><li><span><a href=\"#Информация-по-третьей-таблице\" data-toc-modified-id=\"Информация-по-третьей-таблице-1.3\"><span class=\"toc-item-num\">1.3&nbsp;&nbsp;</span>Информация по третьей таблице</a></span></li></ul></li><li><span><a href=\"#Обучение-и-проверка-модели\" data-toc-modified-id=\"Обучение-и-проверка-модели-2\"><span class=\"toc-item-num\">2&nbsp;&nbsp;</span>Обучение и проверка модели</a></span><ul class=\"toc-item\"><li><span><a href=\"#Первый-регион\" data-toc-modified-id=\"Первый-регион-2.1\"><span class=\"toc-item-num\">2.1&nbsp;&nbsp;</span>Первый регион</a></span></li><li><span><a href=\"#Второй-регион\" data-toc-modified-id=\"Второй-регион-2.2\"><span class=\"toc-item-num\">2.2&nbsp;&nbsp;</span>Второй регион</a></span></li><li><span><a href=\"#Третий-регион\" data-toc-modified-id=\"Третий-регион-2.3\"><span class=\"toc-item-num\">2.3&nbsp;&nbsp;</span>Третий регион</a></span></li></ul></li><li><span><a href=\"#Подготовка-к-расчёту-прибыли\" data-toc-modified-id=\"Подготовка-к-расчёту-прибыли-3\"><span class=\"toc-item-num\">3&nbsp;&nbsp;</span>Подготовка к расчёту прибыли</a></span></li><li><span><a href=\"#Расчёт-прибыли-и-рисков\" data-toc-modified-id=\"Расчёт-прибыли-и-рисков-4\"><span class=\"toc-item-num\">4&nbsp;&nbsp;</span>Расчёт прибыли и рисков</a></span></li><li><span><a href=\"#Чек-лист-готовности-проекта\" data-toc-modified-id=\"Чек-лист-готовности-проекта-5\"><span class=\"toc-item-num\">5&nbsp;&nbsp;</span>Чек-лист готовности проекта</a></span></li></ul></div>"
   ]
  },
  {
   "cell_type": "markdown",
   "id": "bcf7b97e",
   "metadata": {},
   "source": [
    "# Выбор локации для скважины"
   ]
  },
  {
   "cell_type": "markdown",
   "id": "137ea3bb",
   "metadata": {},
   "source": [
    "Допустим, вы работаете в добывающей компании «ГлавРосГосНефть». Нужно решить, где бурить новую скважину.\n",
    "\n",
    "Вам предоставлены пробы нефти в трёх регионах: в каждом 10 000 месторождений, где измерили качество нефти и объём её запасов.  \n",
    "**Задача проекта:** Постройте модель машинного обучения, которая поможет определить регион, где добыча принесёт наибольшую прибыль. Проанализируйте возможную прибыль и риски техникой *Bootstrap.*\n",
    "\n",
    "Шаги для выбора локации:  \n",
    "\n",
    "- В избранном регионе ищут месторождения, для каждого определяют значения признаков;  \n",
    "- Строят модель и оценивают объём запасов;  \n",
    "- Выбирают месторождения с самым высокими оценками значений. Количество месторождений зависит от бюджета компании и стоимости разработки одной скважины;  \n",
    "- Прибыль равна суммарной прибыли отобранных месторождений.  "
   ]
  },
  {
   "cell_type": "markdown",
   "id": "43790043",
   "metadata": {},
   "source": [
    "# Описание данных:  \n",
    "\n",
    "`id` — уникальный идентификатор скважины;  \n",
    "`f0`, `f1`, `f2` — три признака точек (неважно, что они означают, но сами признаки значимы);  \n",
    "`product` — объём запасов в скважине (тыс. баррелей).  "
   ]
  },
  {
   "cell_type": "markdown",
   "id": "919d293b",
   "metadata": {},
   "source": [
    "## Загрузка и подготовка данных"
   ]
  },
  {
   "cell_type": "code",
   "execution_count": 1,
   "id": "cb4c469c",
   "metadata": {},
   "outputs": [],
   "source": [
    "import pandas as pd\n",
    "import numpy as np\n",
    "from scipy import stats as st\n",
    "from sklearn.model_selection import train_test_split\n",
    "from sklearn.metrics import mean_squared_error\n",
    "from sklearn.linear_model import LinearRegression\n",
    "import matplotlib.pyplot as plt\n",
    "import seaborn as sns"
   ]
  },
  {
   "cell_type": "code",
   "execution_count": 2,
   "id": "bc9fc35d",
   "metadata": {},
   "outputs": [],
   "source": [
    "df1 = pd.read_csv('/datasets/geo_data_0.csv')\n",
    "df2 = pd.read_csv('/datasets/geo_data_1.csv')\n",
    "df3 = pd.read_csv('/datasets/geo_data_2.csv')"
   ]
  },
  {
   "cell_type": "code",
   "execution_count": 3,
   "id": "e54aeef5",
   "metadata": {},
   "outputs": [],
   "source": [
    "def info(df):\n",
    "    print('Вывод таблицы')\n",
    "    display(df.head())\n",
    "    print('Просмотр информации')\n",
    "    print(' ')\n",
    "    display(df.info())\n",
    "    print('Количество пропусков в столбцах')\n",
    "    display(df.isna().sum())\n",
    "    print(' ')\n",
    "    print('Количество явных дубликатов', df.duplicated().sum())\n",
    "    print(' ')\n",
    "    print('Количество неявных дубликатов', df['id'].duplicated().sum())\n",
    "    pd.plotting.scatter_matrix(df, figsize=(5,5))\n",
    "    plt.suptitle('Матрица диаграмм рассеяния')\n",
    "    plt.show()\n",
    "    sns.heatmap(df.corr(), annot=True)\n",
    "    plt.title('Матрица корреляции признаков')"
   ]
  },
  {
   "cell_type": "markdown",
   "id": "417c3ef5",
   "metadata": {},
   "source": [
    "### Информация по первой таблице"
   ]
  },
  {
   "cell_type": "code",
   "execution_count": 4,
   "id": "c4ef4da0",
   "metadata": {},
   "outputs": [
    {
     "name": "stdout",
     "output_type": "stream",
     "text": [
      "Вывод таблицы\n"
     ]
    },
    {
     "data": {
      "text/html": [
       "<div>\n",
       "<style scoped>\n",
       "    .dataframe tbody tr th:only-of-type {\n",
       "        vertical-align: middle;\n",
       "    }\n",
       "\n",
       "    .dataframe tbody tr th {\n",
       "        vertical-align: top;\n",
       "    }\n",
       "\n",
       "    .dataframe thead th {\n",
       "        text-align: right;\n",
       "    }\n",
       "</style>\n",
       "<table border=\"1\" class=\"dataframe\">\n",
       "  <thead>\n",
       "    <tr style=\"text-align: right;\">\n",
       "      <th></th>\n",
       "      <th>id</th>\n",
       "      <th>f0</th>\n",
       "      <th>f1</th>\n",
       "      <th>f2</th>\n",
       "      <th>product</th>\n",
       "    </tr>\n",
       "  </thead>\n",
       "  <tbody>\n",
       "    <tr>\n",
       "      <th>0</th>\n",
       "      <td>txEyH</td>\n",
       "      <td>0.705745</td>\n",
       "      <td>-0.497823</td>\n",
       "      <td>1.221170</td>\n",
       "      <td>105.280062</td>\n",
       "    </tr>\n",
       "    <tr>\n",
       "      <th>1</th>\n",
       "      <td>2acmU</td>\n",
       "      <td>1.334711</td>\n",
       "      <td>-0.340164</td>\n",
       "      <td>4.365080</td>\n",
       "      <td>73.037750</td>\n",
       "    </tr>\n",
       "    <tr>\n",
       "      <th>2</th>\n",
       "      <td>409Wp</td>\n",
       "      <td>1.022732</td>\n",
       "      <td>0.151990</td>\n",
       "      <td>1.419926</td>\n",
       "      <td>85.265647</td>\n",
       "    </tr>\n",
       "    <tr>\n",
       "      <th>3</th>\n",
       "      <td>iJLyR</td>\n",
       "      <td>-0.032172</td>\n",
       "      <td>0.139033</td>\n",
       "      <td>2.978566</td>\n",
       "      <td>168.620776</td>\n",
       "    </tr>\n",
       "    <tr>\n",
       "      <th>4</th>\n",
       "      <td>Xdl7t</td>\n",
       "      <td>1.988431</td>\n",
       "      <td>0.155413</td>\n",
       "      <td>4.751769</td>\n",
       "      <td>154.036647</td>\n",
       "    </tr>\n",
       "  </tbody>\n",
       "</table>\n",
       "</div>"
      ],
      "text/plain": [
       "      id        f0        f1        f2     product\n",
       "0  txEyH  0.705745 -0.497823  1.221170  105.280062\n",
       "1  2acmU  1.334711 -0.340164  4.365080   73.037750\n",
       "2  409Wp  1.022732  0.151990  1.419926   85.265647\n",
       "3  iJLyR -0.032172  0.139033  2.978566  168.620776\n",
       "4  Xdl7t  1.988431  0.155413  4.751769  154.036647"
      ]
     },
     "metadata": {},
     "output_type": "display_data"
    },
    {
     "name": "stdout",
     "output_type": "stream",
     "text": [
      "Просмотр информации\n",
      " \n",
      "<class 'pandas.core.frame.DataFrame'>\n",
      "RangeIndex: 100000 entries, 0 to 99999\n",
      "Data columns (total 5 columns):\n",
      " #   Column   Non-Null Count   Dtype  \n",
      "---  ------   --------------   -----  \n",
      " 0   id       100000 non-null  object \n",
      " 1   f0       100000 non-null  float64\n",
      " 2   f1       100000 non-null  float64\n",
      " 3   f2       100000 non-null  float64\n",
      " 4   product  100000 non-null  float64\n",
      "dtypes: float64(4), object(1)\n",
      "memory usage: 3.8+ MB\n"
     ]
    },
    {
     "data": {
      "text/plain": [
       "None"
      ]
     },
     "metadata": {},
     "output_type": "display_data"
    },
    {
     "name": "stdout",
     "output_type": "stream",
     "text": [
      "Количество пропусков в столбцах\n"
     ]
    },
    {
     "data": {
      "text/plain": [
       "id         0\n",
       "f0         0\n",
       "f1         0\n",
       "f2         0\n",
       "product    0\n",
       "dtype: int64"
      ]
     },
     "metadata": {},
     "output_type": "display_data"
    },
    {
     "name": "stdout",
     "output_type": "stream",
     "text": [
      " \n",
      "Количество явных дубликатов 0\n",
      " \n",
      "Количество неявных дубликатов 10\n"
     ]
    },
    {
     "data": {
      "image/png": "[encoded data removed]",
      "text/plain": [
       "<Figure size 360x360 with 16 Axes>"
      ]
     },
     "metadata": {
      "needs_background": "light"
     },
     "output_type": "display_data"
    },
    {
     "data": {
      "image/png": "[encoded data removed]",
      "text/plain": [
       "<Figure size 432x288 with 2 Axes>"
      ]
     },
     "metadata": {
      "needs_background": "light"
     },
     "output_type": "display_data"
    }
   ],
   "source": [
    "info(df1)"
   ]
  },
  {
   "cell_type": "markdown",
   "id": "15f58a52",
   "metadata": {},
   "source": [
    "### Информация по второй таблице"
   ]
  },
  {
   "cell_type": "code",
   "execution_count": 5,
   "id": "524911d3",
   "metadata": {},
   "outputs": [
    {
     "name": "stdout",
     "output_type": "stream",
     "text": [
      "Вывод таблицы\n"
     ]
    },
    {
     "data": {
      "text/html": [
       "<div>\n",
       "<style scoped>\n",
       "    .dataframe tbody tr th:only-of-type {\n",
       "        vertical-align: middle;\n",
       "    }\n",
       "\n",
       "    .dataframe tbody tr th {\n",
       "        vertical-align: top;\n",
       "    }\n",
       "\n",
       "    .dataframe thead th {\n",
       "        text-align: right;\n",
       "    }\n",
       "</style>\n",
       "<table border=\"1\" class=\"dataframe\">\n",
       "  <thead>\n",
       "    <tr style=\"text-align: right;\">\n",
       "      <th></th>\n",
       "      <th>id</th>\n",
       "      <th>f0</th>\n",
       "      <th>f1</th>\n",
       "      <th>f2</th>\n",
       "      <th>product</th>\n",
       "    </tr>\n",
       "  </thead>\n",
       "  <tbody>\n",
       "    <tr>\n",
       "      <th>0</th>\n",
       "      <td>kBEdx</td>\n",
       "      <td>-15.001348</td>\n",
       "      <td>-8.276000</td>\n",
       "      <td>-0.005876</td>\n",
       "      <td>3.179103</td>\n",
       "    </tr>\n",
       "    <tr>\n",
       "      <th>1</th>\n",
       "      <td>62mP7</td>\n",
       "      <td>14.272088</td>\n",
       "      <td>-3.475083</td>\n",
       "      <td>0.999183</td>\n",
       "      <td>26.953261</td>\n",
       "    </tr>\n",
       "    <tr>\n",
       "      <th>2</th>\n",
       "      <td>vyE1P</td>\n",
       "      <td>6.263187</td>\n",
       "      <td>-5.948386</td>\n",
       "      <td>5.001160</td>\n",
       "      <td>134.766305</td>\n",
       "    </tr>\n",
       "    <tr>\n",
       "      <th>3</th>\n",
       "      <td>KcrkZ</td>\n",
       "      <td>-13.081196</td>\n",
       "      <td>-11.506057</td>\n",
       "      <td>4.999415</td>\n",
       "      <td>137.945408</td>\n",
       "    </tr>\n",
       "    <tr>\n",
       "      <th>4</th>\n",
       "      <td>AHL4O</td>\n",
       "      <td>12.702195</td>\n",
       "      <td>-8.147433</td>\n",
       "      <td>5.004363</td>\n",
       "      <td>134.766305</td>\n",
       "    </tr>\n",
       "  </tbody>\n",
       "</table>\n",
       "</div>"
      ],
      "text/plain": [
       "      id         f0         f1        f2     product\n",
       "0  kBEdx -15.001348  -8.276000 -0.005876    3.179103\n",
       "1  62mP7  14.272088  -3.475083  0.999183   26.953261\n",
       "2  vyE1P   6.263187  -5.948386  5.001160  134.766305\n",
       "3  KcrkZ -13.081196 -11.506057  4.999415  137.945408\n",
       "4  AHL4O  12.702195  -8.147433  5.004363  134.766305"
      ]
     },
     "metadata": {},
     "output_type": "display_data"
    },
    {
     "name": "stdout",
     "output_type": "stream",
     "text": [
      "Просмотр информации\n",
      " \n",
      "<class 'pandas.core.frame.DataFrame'>\n",
      "RangeIndex: 100000 entries, 0 to 99999\n",
      "Data columns (total 5 columns):\n",
      " #   Column   Non-Null Count   Dtype  \n",
      "---  ------   --------------   -----  \n",
      " 0   id       100000 non-null  object \n",
      " 1   f0       100000 non-null  float64\n",
      " 2   f1       100000 non-null  float64\n",
      " 3   f2       100000 non-null  float64\n",
      " 4   product  100000 non-null  float64\n",
      "dtypes: float64(4), object(1)\n",
      "memory usage: 3.8+ MB\n"
     ]
    },
    {
     "data": {
      "text/plain": [
       "None"
      ]
     },
     "metadata": {},
     "output_type": "display_data"
    },
    {
     "name": "stdout",
     "output_type": "stream",
     "text": [
      "Количество пропусков в столбцах\n"
     ]
    },
    {
     "data": {
      "text/plain": [
       "id         0\n",
       "f0         0\n",
       "f1         0\n",
       "f2         0\n",
       "product    0\n",
       "dtype: int64"
      ]
     },
     "metadata": {},
     "output_type": "display_data"
    },
    {
     "name": "stdout",
     "output_type": "stream",
     "text": [
      " \n",
      "Количество явных дубликатов 0\n",
      " \n",
      "Количество неявных дубликатов 4\n"
     ]
    },
    {
     "data": {
      "image/png": "[encoded data removed]",
      "text/plain": [
       "<Figure size 360x360 with 16 Axes>"
      ]
     },
     "metadata": {
      "needs_background": "light"
     },
     "output_type": "display_data"
    },
    {
     "data": {
      "image/png": "[encoded data removed]",
      "text/plain": [
       "<Figure size 432x288 with 2 Axes>"
      ]
     },
     "metadata": {
      "needs_background": "light"
     },
     "output_type": "display_data"
    }
   ],
   "source": [
    "info(df2)"
   ]
  },
  {
   "cell_type": "markdown",
   "id": "24c352a8",
   "metadata": {},
   "source": [
    "### Информация по третьей таблице"
   ]
  },
  {
   "cell_type": "code",
   "execution_count": 6,
   "id": "c1154310",
   "metadata": {
    "scrolled": false
   },
   "outputs": [
    {
     "name": "stdout",
     "output_type": "stream",
     "text": [
      "Вывод таблицы\n"
     ]
    },
    {
     "data": {
      "text/html": [
       "<div>\n",
       "<style scoped>\n",
       "    .dataframe tbody tr th:only-of-type {\n",
       "        vertical-align: middle;\n",
       "    }\n",
       "\n",
       "    .dataframe tbody tr th {\n",
       "        vertical-align: top;\n",
       "    }\n",
       "\n",
       "    .dataframe thead th {\n",
       "        text-align: right;\n",
       "    }\n",
       "</style>\n",
       "<table border=\"1\" class=\"dataframe\">\n",
       "  <thead>\n",
       "    <tr style=\"text-align: right;\">\n",
       "      <th></th>\n",
       "      <th>id</th>\n",
       "      <th>f0</th>\n",
       "      <th>f1</th>\n",
       "      <th>f2</th>\n",
       "      <th>product</th>\n",
       "    </tr>\n",
       "  </thead>\n",
       "  <tbody>\n",
       "    <tr>\n",
       "      <th>0</th>\n",
       "      <td>fwXo0</td>\n",
       "      <td>-1.146987</td>\n",
       "      <td>0.963328</td>\n",
       "      <td>-0.828965</td>\n",
       "      <td>27.758673</td>\n",
       "    </tr>\n",
       "    <tr>\n",
       "      <th>1</th>\n",
       "      <td>WJtFt</td>\n",
       "      <td>0.262778</td>\n",
       "      <td>0.269839</td>\n",
       "      <td>-2.530187</td>\n",
       "      <td>56.069697</td>\n",
       "    </tr>\n",
       "    <tr>\n",
       "      <th>2</th>\n",
       "      <td>ovLUW</td>\n",
       "      <td>0.194587</td>\n",
       "      <td>0.289035</td>\n",
       "      <td>-5.586433</td>\n",
       "      <td>62.871910</td>\n",
       "    </tr>\n",
       "    <tr>\n",
       "      <th>3</th>\n",
       "      <td>q6cA6</td>\n",
       "      <td>2.236060</td>\n",
       "      <td>-0.553760</td>\n",
       "      <td>0.930038</td>\n",
       "      <td>114.572842</td>\n",
       "    </tr>\n",
       "    <tr>\n",
       "      <th>4</th>\n",
       "      <td>WPMUX</td>\n",
       "      <td>-0.515993</td>\n",
       "      <td>1.716266</td>\n",
       "      <td>5.899011</td>\n",
       "      <td>149.600746</td>\n",
       "    </tr>\n",
       "  </tbody>\n",
       "</table>\n",
       "</div>"
      ],
      "text/plain": [
       "      id        f0        f1        f2     product\n",
       "0  fwXo0 -1.146987  0.963328 -0.828965   27.758673\n",
       "1  WJtFt  0.262778  0.269839 -2.530187   56.069697\n",
       "2  ovLUW  0.194587  0.289035 -5.586433   62.871910\n",
       "3  q6cA6  2.236060 -0.553760  0.930038  114.572842\n",
       "4  WPMUX -0.515993  1.716266  5.899011  149.600746"
      ]
     },
     "metadata": {},
     "output_type": "display_data"
    },
    {
     "name": "stdout",
     "output_type": "stream",
     "text": [
      "Просмотр информации\n",
      " \n",
      "<class 'pandas.core.frame.DataFrame'>\n",
      "RangeIndex: 100000 entries, 0 to 99999\n",
      "Data columns (total 5 columns):\n",
      " #   Column   Non-Null Count   Dtype  \n",
      "---  ------   --------------   -----  \n",
      " 0   id       100000 non-null  object \n",
      " 1   f0       100000 non-null  float64\n",
      " 2   f1       100000 non-null  float64\n",
      " 3   f2       100000 non-null  float64\n",
      " 4   product  100000 non-null  float64\n",
      "dtypes: float64(4), object(1)\n",
      "memory usage: 3.8+ MB\n"
     ]
    },
    {
     "data": {
      "text/plain": [
       "None"
      ]
     },
     "metadata": {},
     "output_type": "display_data"
    },
    {
     "name": "stdout",
     "output_type": "stream",
     "text": [
      "Количество пропусков в столбцах\n"
     ]
    },
    {
     "data": {
      "text/plain": [
       "id         0\n",
       "f0         0\n",
       "f1         0\n",
       "f2         0\n",
       "product    0\n",
       "dtype: int64"
      ]
     },
     "metadata": {},
     "output_type": "display_data"
    },
    {
     "name": "stdout",
     "output_type": "stream",
     "text": [
      " \n",
      "Количество явных дубликатов 0\n",
      " \n",
      "Количество неявных дубликатов 4\n"
     ]
    },
    {
     "data": {
      "image/png": "[encoded data removed]",
      "text/plain": [
       "<Figure size 360x360 with 16 Axes>"
      ]
     },
     "metadata": {
      "needs_background": "light"
     },
     "output_type": "display_data"
    },
    {
     "data": {
      "image/png": "[encoded data removed]",
      "text/plain": [
       "<Figure size 432x288 with 2 Axes>"
      ]
     },
     "metadata": {
      "needs_background": "light"
     },
     "output_type": "display_data"
    }
   ],
   "source": [
    "info(df3)"
   ]
  },
  {
   "cell_type": "code",
   "execution_count": 7,
   "id": "8135c74d",
   "metadata": {},
   "outputs": [],
   "source": [
    "def drop(df):\n",
    "    df.drop_duplicates('id', inplace = True)\n",
    "    df.reset_index(drop=True)\n",
    "    return df1['id'].duplicated().sum()"
   ]
  },
  {
   "cell_type": "code",
   "execution_count": 8,
   "id": "bd6c5a0c",
   "metadata": {},
   "outputs": [
    {
     "data": {
      "text/plain": [
       "0"
      ]
     },
     "execution_count": 8,
     "metadata": {},
     "output_type": "execute_result"
    }
   ],
   "source": [
    "drop(df1)"
   ]
  },
  {
   "cell_type": "code",
   "execution_count": 9,
   "id": "ac46ee7c",
   "metadata": {
    "scrolled": true
   },
   "outputs": [
    {
     "data": {
      "text/plain": [
       "0"
      ]
     },
     "execution_count": 9,
     "metadata": {},
     "output_type": "execute_result"
    }
   ],
   "source": [
    "drop(df2)"
   ]
  },
  {
   "cell_type": "code",
   "execution_count": 10,
   "id": "6ade2827",
   "metadata": {
    "scrolled": true
   },
   "outputs": [
    {
     "data": {
      "text/plain": [
       "0"
      ]
     },
     "execution_count": 10,
     "metadata": {},
     "output_type": "execute_result"
    }
   ],
   "source": [
    "drop(df3)"
   ]
  },
  {
   "cell_type": "markdown",
   "id": "19047e04",
   "metadata": {},
   "source": [
    "# Вывод"
   ]
  },
  {
   "attachments": {},
   "cell_type": "markdown",
   "id": "39521f6f",
   "metadata": {},
   "source": [
    "1. Все таблицы одинакогового размера, состоят из 100000 строк и 5 столбцов, один из которых типа object осталные типа float. Пропусков нет. Выявлено менее 1% дубликатов, которые в последствии были удалены.  \n",
    "2. В таблице по первому региону прослеживается слабая зависимость (см. таблицу) между признаком `f2` и целевым признаком, а также видна слабая отрицательная корреляция между признаками `f0` и `f1`.  \n",
    "3. В таблице по второму региону выявлена очень высокая корреляция (1) между признаком `f2` и целевым признаком.  \n",
    "4. В таблице по третьему региону также как у первой просматривается слабая зависимость между признаком `f2` и целевым признаком.  "
   ]
  },
  {
   "cell_type": "markdown",
   "id": "0c0e9f6b",
   "metadata": {},
   "source": [
    "## Обучение и проверка модели"
   ]
  },
  {
   "cell_type": "markdown",
   "id": "ce43d8fa",
   "metadata": {},
   "source": [
    "### Первый регион"
   ]
  },
  {
   "cell_type": "code",
   "execution_count": 11,
   "id": "00f9e2d5",
   "metadata": {},
   "outputs": [
    {
     "name": "stdout",
     "output_type": "stream",
     "text": [
      "(74992, 3)\n",
      "(74992,)\n",
      "(24998, 3)\n",
      "(24998,)\n"
     ]
    }
   ],
   "source": [
    "def x_y(df):\n",
    "    \n",
    "    '''Функция разделяет на признаки и целевой признак \n",
    "    и далее делит на тренировочную и тестовую выборки в пропорции 75:25'''\n",
    "    \n",
    "    features = df.drop(['id', 'product'], axis=1)\n",
    "    target = df['product']\n",
    "    features_train, features_valid, target_train, target_valid = train_test_split(\n",
    "    features, target, test_size = 0.25, random_state = 12345)\n",
    "    print(features_train.shape)\n",
    "    print(target_train.shape)\n",
    "    print(features_valid.shape)\n",
    "    print(target_valid.shape)\n",
    "    return features_train, features_valid, target_train, target_valid\n",
    "    \n",
    "\n",
    "features_train_1, features_valid_1, target_train_1, target_valid_1 = x_y(df1)"
   ]
  },
  {
   "cell_type": "code",
   "execution_count": 12,
   "id": "c8beb37d",
   "metadata": {},
   "outputs": [],
   "source": [
    "def model(features_train, features_valid, target_train, target_valid):\n",
    "    \n",
    "    '''Функция принимает на вход тренировочные и тестовые X и y,\n",
    "    обучает модель линейной регрессии и выдает предсказания и расчет rmse'''\n",
    "    \n",
    "    model = LinearRegression().fit(features_train, target_train)\n",
    "    predictions_valid = model.predict(features_valid)\n",
    "    rmse = mean_squared_error(target_valid, predictions_valid)**0.5\n",
    "    print(f'Средний запас сырья: {predictions_valid.mean():2f} тыс. баррелей')\n",
    "    print(f'RMSE модели на валидационной выборке: {rmse:.2f}')\n",
    "    return predictions_valid, rmse"
   ]
  },
  {
   "cell_type": "code",
   "execution_count": 13,
   "id": "c6d33db5",
   "metadata": {},
   "outputs": [
    {
     "name": "stdout",
     "output_type": "stream",
     "text": [
      "Средний запас сырья: 92.789156 тыс. баррелей\n",
      "RMSE модели на валидационной выборке: 37.85\n"
     ]
    }
   ],
   "source": [
    "predictions_valid_1, rmse_1 = model(features_train_1, features_valid_1, target_train_1, target_valid_1)"
   ]
  },
  {
   "cell_type": "markdown",
   "id": "bd56a801",
   "metadata": {},
   "source": [
    "### Второй регион"
   ]
  },
  {
   "cell_type": "code",
   "execution_count": 14,
   "id": "0b292a16",
   "metadata": {},
   "outputs": [
    {
     "name": "stdout",
     "output_type": "stream",
     "text": [
      "(74997, 3)\n",
      "(74997,)\n",
      "(24999, 3)\n",
      "(24999,)\n"
     ]
    }
   ],
   "source": [
    "features_train_2, features_valid_2, target_train_2, target_valid_2 = x_y(df2)"
   ]
  },
  {
   "cell_type": "code",
   "execution_count": 15,
   "id": "f82fb23e",
   "metadata": {},
   "outputs": [
    {
     "name": "stdout",
     "output_type": "stream",
     "text": [
      "Средний запас сырья: 69.178320 тыс. баррелей\n",
      "RMSE модели на валидационной выборке: 0.89\n"
     ]
    }
   ],
   "source": [
    "predictions_valid_2, rmse_2 = model(features_train_2, features_valid_2, target_train_2, target_valid_2)"
   ]
  },
  {
   "cell_type": "markdown",
   "id": "0a86132a",
   "metadata": {},
   "source": [
    "### Третий регион"
   ]
  },
  {
   "cell_type": "code",
   "execution_count": 16,
   "id": "b49cbd22",
   "metadata": {},
   "outputs": [
    {
     "name": "stdout",
     "output_type": "stream",
     "text": [
      "(74997, 3)\n",
      "(74997,)\n",
      "(24999, 3)\n",
      "(24999,)\n"
     ]
    }
   ],
   "source": [
    "features_train_3, features_valid_3, target_train_3, target_valid_3 = x_y(df3)"
   ]
  },
  {
   "cell_type": "code",
   "execution_count": 17,
   "id": "2e454fb7",
   "metadata": {
    "scrolled": true
   },
   "outputs": [
    {
     "name": "stdout",
     "output_type": "stream",
     "text": [
      "Средний запас сырья: 94.865725 тыс. баррелей\n",
      "RMSE модели на валидационной выборке: 40.08\n"
     ]
    }
   ],
   "source": [
    "predictions_valid_3, rmse_3 = model(features_train_3, features_valid_3, target_train_3, target_valid_3)"
   ]
  },
  {
   "cell_type": "markdown",
   "id": "1a7ba67b",
   "metadata": {},
   "source": [
    "# Вывод"
   ]
  },
  {
   "attachments": {
    "image.png": {
     "image/png": "[encoded data removed]"
    }
   },
   "cell_type": "markdown",
   "id": "1a53343b",
   "metadata": {},
   "source": [
    "![image.png](attachment:image.png)\n",
    "\n",
    "Как видно из таблицы, наиболее высокие показатели среднего запаса сырья у первого и третьего регионов, но и значение средней квадратичной ошибки тоже высоки. У второго региона запас меньше, но и ошибка минимальна."
   ]
  },
  {
   "cell_type": "markdown",
   "id": "583d0816",
   "metadata": {},
   "source": [
    "## Подготовка к расчёту прибыли"
   ]
  },
  {
   "cell_type": "code",
   "execution_count": 20,
   "id": "4382cc6a",
   "metadata": {},
   "outputs": [
    {
     "name": "stdout",
     "output_type": "stream",
     "text": [
      "Достаточный объём сырья для безубыточной разработки новой скважины: 111.11 тыс. баррелей\n"
     ]
    }
   ],
   "source": [
    "WELLS = 500 # количество исследуемых точек\n",
    "TOP_WELLS = 200 # количество лучших из них\n",
    "INVESTMENTS = 10000000000 # бюджет на разработку скважин в регионе\n",
    "INCOME_PER_UNIT = 450000 #стоимость единицы сырья; 1 единица = 1000 баррелей, стоимость одного барреля 450\n",
    "INTERVAL = 0.95 #доверительный интервал\n",
    "ENOUGH_RAW = INVESTMENTS/TOP_WELLS/INCOME_PER_UNIT\n",
    "print(f'Достаточный объём сырья для безубыточной разработки новой скважины: {ENOUGH_RAW:.2f} тыс. баррелей')"
   ]
  },
  {
   "cell_type": "code",
   "execution_count": 21,
   "id": "021d97d9",
   "metadata": {
    "scrolled": true
   },
   "outputs": [
    {
     "name": "stdout",
     "output_type": "stream",
     "text": [
      "Средний запас сырья в первом регионе: 92.79 тыс. баррелей\n",
      "Средний запас сырья в первом регионе: 69.18 тыс. баррелей\n",
      "Средний запас сырья в первом регионе: 94.87 тыс. баррелей\n"
     ]
    }
   ],
   "source": [
    "print(f'Средний запас сырья в первом регионе: {predictions_valid_1.mean():.2f} тыс. баррелей')\n",
    "print(f'Средний запас сырья в первом регионе: {predictions_valid_2.mean():.2f} тыс. баррелей')\n",
    "print(f'Средний запас сырья в первом регионе: {predictions_valid_3.mean():.2f} тыс. баррелей')"
   ]
  },
  {
   "cell_type": "markdown",
   "id": "0ed906af",
   "metadata": {},
   "source": [
    "# Вывод:\n",
    "Достаточный объем сырья для безубыточной разработки новой скважины составляет 111 тыс. баррелей. Как видно из расчетов, ни один из вышепредставленных регионов этому объему не соответствует"
   ]
  },
  {
   "cell_type": "markdown",
   "id": "ef3da690",
   "metadata": {},
   "source": [
    "## Расчёт прибыли и рисков "
   ]
  },
  {
   "cell_type": "code",
   "execution_count": 22,
   "id": "510f44ad",
   "metadata": {},
   "outputs": [],
   "source": [
    "def profit(target, predictions):\n",
    "    \n",
    "    profit = 0\n",
    "    pred_sorted = predictions.sort_values(ascending=False).head(TOP_WELLS)\n",
    "    selected = target[pred_sorted.index][:TOP_WELLS]\n",
    "    \n",
    "    for well in selected:\n",
    "        profit += (well-ENOUGH_RAW)*INCOME_PER_UNIT\n",
    "        \n",
    "    return profit"
   ]
  },
  {
   "cell_type": "code",
   "execution_count": 29,
   "id": "55ab30d0",
   "metadata": {},
   "outputs": [],
   "source": [
    "def bootstrep(target, predictions):\n",
    "    \n",
    "    state = np.random.RandomState(12345)\n",
    "    values = []\n",
    "    \n",
    "    for i in range(1000):\n",
    "        target_subsample = target.sample(n=WELLS, random_state=state, replace=True)\n",
    "        probs_subsample = (pd.Series(predictions, index=target.index))[target_subsample.index]\n",
    "        values.append(profit(target_subsample, probs_subsample))\n",
    "        \n",
    "    values = pd.Series(values)\n",
    "    lower = values.quantile(0.025)/1000000\n",
    "    upper = values.quantile(0.975)/1000000\n",
    "    confidence_interval = st.t.interval(INTERVAL, len(values)-1, values.mean(), values.sem())\n",
    "    mean = values.mean()/1000000\n",
    "    risk = (values < 0).mean()\n",
    "    \n",
    "    print(f'Средняя выручка: {mean:.2f} млн. руб.')\n",
    "    print(f'95% доверительный интервал от {lower:.2f} млн. руб до {upper:.2f} млн. руб.')\n",
    "    print(f'Среднее с вероятностью 95% находится в этом интервале {confidence_interval}')\n",
    "    print(f'Риск убытка: {risk:.1%}')"
   ]
  },
  {
   "cell_type": "code",
   "execution_count": 30,
   "id": "8118a9c2",
   "metadata": {
    "scrolled": true
   },
   "outputs": [
    {
     "name": "stdout",
     "output_type": "stream",
     "text": [
      "Средняя выручка: 409.43 млн. руб.\n",
      "95% доверительный интервал от -131.54 млн. руб до 944.40 млн. руб.\n",
      "Среднее с вероятностью 95% находится в этом интервале (392436312.2689622, 426419764.9739091)\n",
      "Риск убытка: 7.1%\n"
     ]
    }
   ],
   "source": [
    "bootstrep(target_valid_1, predictions_valid_1)"
   ]
  },
  {
   "cell_type": "code",
   "execution_count": 31,
   "id": "0b4bf4d2",
   "metadata": {
    "scrolled": true
   },
   "outputs": [
    {
     "name": "stdout",
     "output_type": "stream",
     "text": [
      "Средняя выручка: 536.90 млн. руб.\n",
      "95% доверительный интервал от 114.53 млн. руб до 970.79 млн. руб.\n",
      "Среднее с вероятностью 95% находится в этом интервале (523348898.586955, 550456276.387961)\n",
      "Риск убытка: 0.9%\n"
     ]
    }
   ],
   "source": [
    "bootstrep(target_valid_2, predictions_valid_2)"
   ]
  },
  {
   "cell_type": "code",
   "execution_count": 32,
   "id": "5c77fe69",
   "metadata": {
    "scrolled": true
   },
   "outputs": [
    {
     "name": "stdout",
     "output_type": "stream",
     "text": [
      "Средняя выручка: 353.79 млн. руб.\n",
      "95% доверительный интервал от -159.19 млн. руб до 875.65 млн. руб.\n",
      "Среднее с вероятностью 95% находится в этом интервале (336935105.90829766, 370645619.55358577)\n",
      "Риск убытка: 10.2%\n"
     ]
    }
   ],
   "source": [
    "bootstrep(target_valid_3, predictions_valid_3)"
   ]
  },
  {
   "cell_type": "markdown",
   "id": "7a8325a8",
   "metadata": {},
   "source": [
    "# Вывод:\n",
    "Риск убытка менее 2,5% имеет второй регион (0,9%)и также у него самая большая средняя выручка 536,90 млн. руб. Исходя из этих данных второй регион подходит для реализации проекта по разработке."
   ]
  },
  {
   "cell_type": "code",
   "execution_count": null,
   "id": "d51df505",
   "metadata": {},
   "outputs": [],
   "source": []
  }
 ],
 "metadata": {
  "ExecuteTimeLog": [
   {
    "duration": 48,
    "start_time": "2022-04-13T08:42:04.421Z"
   },
   {
    "duration": 1624,
    "start_time": "2022-04-13T08:42:07.029Z"
   },
   {
    "duration": 348,
    "start_time": "2022-04-13T08:42:08.655Z"
   },
   {
    "duration": 1330,
    "start_time": "2022-04-13T08:43:50.842Z"
   },
   {
    "duration": 328,
    "start_time": "2022-04-13T08:43:52.174Z"
   },
   {
    "duration": 5,
    "start_time": "2022-04-13T08:43:52.504Z"
   },
   {
    "duration": 4552,
    "start_time": "2022-04-13T08:43:52.510Z"
   },
   {
    "duration": 4417,
    "start_time": "2022-04-13T08:43:57.072Z"
   },
   {
    "duration": 4721,
    "start_time": "2022-04-13T08:44:01.491Z"
   },
   {
    "duration": 3,
    "start_time": "2022-04-13T08:44:06.213Z"
   },
   {
    "duration": 43,
    "start_time": "2022-04-13T08:44:06.217Z"
   },
   {
    "duration": 42,
    "start_time": "2022-04-13T08:44:06.272Z"
   },
   {
    "duration": 58,
    "start_time": "2022-04-13T08:44:06.316Z"
   },
   {
    "duration": 15,
    "start_time": "2022-04-13T08:44:06.376Z"
   },
   {
    "duration": 4,
    "start_time": "2022-04-13T08:44:06.392Z"
   },
   {
    "duration": 23,
    "start_time": "2022-04-13T08:44:06.398Z"
   },
   {
    "duration": 106,
    "start_time": "2022-04-13T08:44:06.477Z"
   },
   {
    "duration": 13,
    "start_time": "2022-04-13T08:44:06.585Z"
   },
   {
    "duration": 179,
    "start_time": "2022-04-13T08:44:06.600Z"
   },
   {
    "duration": 20,
    "start_time": "2022-04-13T08:44:06.781Z"
   },
   {
    "duration": 72,
    "start_time": "2022-04-13T08:44:06.803Z"
   },
   {
    "duration": 99,
    "start_time": "2022-04-13T08:44:06.877Z"
   },
   {
    "duration": 7,
    "start_time": "2022-04-13T08:44:06.978Z"
   },
   {
    "duration": 7,
    "start_time": "2022-04-13T08:44:06.986Z"
   },
   {
    "duration": 1100,
    "start_time": "2022-04-13T08:44:06.994Z"
   },
   {
    "duration": 1066,
    "start_time": "2022-04-13T08:44:08.096Z"
   },
   {
    "duration": 1064,
    "start_time": "2022-04-13T08:44:09.163Z"
   },
   {
    "duration": 1689,
    "start_time": "2022-04-14T06:13:32.214Z"
   },
   {
    "duration": 1475,
    "start_time": "2022-04-14T06:24:44.932Z"
   },
   {
    "duration": 334,
    "start_time": "2022-04-14T06:24:46.409Z"
   },
   {
    "duration": 4,
    "start_time": "2022-04-14T06:24:46.745Z"
   },
   {
    "duration": 4446,
    "start_time": "2022-04-14T06:24:46.753Z"
   },
   {
    "duration": 4355,
    "start_time": "2022-04-14T06:24:51.200Z"
   },
   {
    "duration": 4528,
    "start_time": "2022-04-14T06:24:55.557Z"
   },
   {
    "duration": 3,
    "start_time": "2022-04-14T06:25:00.087Z"
   },
   {
    "duration": 42,
    "start_time": "2022-04-14T06:25:00.092Z"
   },
   {
    "duration": 52,
    "start_time": "2022-04-14T06:25:00.135Z"
   },
   {
    "duration": 37,
    "start_time": "2022-04-14T06:25:00.189Z"
   },
   {
    "duration": 28,
    "start_time": "2022-04-14T06:25:00.227Z"
   },
   {
    "duration": 4,
    "start_time": "2022-04-14T06:25:00.257Z"
   },
   {
    "duration": 95,
    "start_time": "2022-04-14T06:25:00.262Z"
   },
   {
    "duration": 105,
    "start_time": "2022-04-14T06:25:00.360Z"
   },
   {
    "duration": 17,
    "start_time": "2022-04-14T06:25:00.467Z"
   },
   {
    "duration": 186,
    "start_time": "2022-04-14T06:25:00.486Z"
   },
   {
    "duration": 14,
    "start_time": "2022-04-14T06:25:00.674Z"
   },
   {
    "duration": 330,
    "start_time": "2022-04-14T06:25:00.690Z"
   },
   {
    "duration": 0,
    "start_time": "2022-04-14T06:25:01.022Z"
   },
   {
    "duration": 0,
    "start_time": "2022-04-14T06:25:01.023Z"
   },
   {
    "duration": 0,
    "start_time": "2022-04-14T06:25:01.027Z"
   },
   {
    "duration": 0,
    "start_time": "2022-04-14T06:25:01.028Z"
   },
   {
    "duration": 0,
    "start_time": "2022-04-14T06:25:01.029Z"
   },
   {
    "duration": 0,
    "start_time": "2022-04-14T06:25:01.030Z"
   },
   {
    "duration": 10,
    "start_time": "2022-04-14T06:25:33.161Z"
   },
   {
    "duration": 0,
    "start_time": "2022-04-14T06:25:33.172Z"
   },
   {
    "duration": 0,
    "start_time": "2022-04-14T06:25:33.174Z"
   },
   {
    "duration": 0,
    "start_time": "2022-04-14T06:25:33.175Z"
   },
   {
    "duration": 0,
    "start_time": "2022-04-14T06:25:33.176Z"
   },
   {
    "duration": 0,
    "start_time": "2022-04-14T06:25:33.177Z"
   },
   {
    "duration": 0,
    "start_time": "2022-04-14T06:25:33.179Z"
   },
   {
    "duration": 5,
    "start_time": "2022-04-14T06:25:56.405Z"
   },
   {
    "duration": 17,
    "start_time": "2022-04-14T06:25:56.412Z"
   },
   {
    "duration": 30,
    "start_time": "2022-04-14T06:25:56.431Z"
   },
   {
    "duration": 22,
    "start_time": "2022-04-14T06:25:56.464Z"
   },
   {
    "duration": 1044,
    "start_time": "2022-04-14T06:25:56.488Z"
   },
   {
    "duration": 0,
    "start_time": "2022-04-14T06:25:57.534Z"
   },
   {
    "duration": 0,
    "start_time": "2022-04-14T06:25:57.535Z"
   },
   {
    "duration": 6,
    "start_time": "2022-04-14T06:26:19.996Z"
   },
   {
    "duration": 1072,
    "start_time": "2022-04-14T06:26:20.004Z"
   },
   {
    "duration": 992,
    "start_time": "2022-04-14T06:26:21.077Z"
   },
   {
    "duration": 1072,
    "start_time": "2022-04-14T06:26:22.071Z"
   },
   {
    "duration": 6,
    "start_time": "2022-04-14T06:31:50.200Z"
   },
   {
    "duration": 1031,
    "start_time": "2022-04-14T06:31:53.124Z"
   },
   {
    "duration": 1075,
    "start_time": "2022-04-14T06:31:54.408Z"
   },
   {
    "duration": 1037,
    "start_time": "2022-04-14T06:31:55.959Z"
   }
  ],
  "kernelspec": {
   "display_name": "Python 3 (ipykernel)",
   "language": "python",
   "name": "python3"
  },
  "language_info": {
   "codemirror_mode": {
    "name": "ipython",
    "version": 3
   },
   "file_extension": ".py",
   "mimetype": "text/x-python",
   "name": "python",
   "nbconvert_exporter": "python",
   "pygments_lexer": "ipython3",
   "version": "3.9.7"
  },
  "toc": {
   "base_numbering": 1,
   "nav_menu": {},
   "number_sections": true,
   "sideBar": true,
   "skip_h1_title": true,
   "title_cell": "Содержание:",
   "title_sidebar": "Contents",
   "toc_cell": true,
   "toc_position": {},
   "toc_section_display": true,
   "toc_window_display": true
  }
 },
 "nbformat": 4,
 "nbformat_minor": 5
}
