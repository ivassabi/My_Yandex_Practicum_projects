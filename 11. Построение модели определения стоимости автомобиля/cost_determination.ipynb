{
 "cells": [
  {
   "cell_type": "markdown",
   "metadata": {
    "id": "bS90Af8iqhJn"
   },
   "source": [
    "**Описание проекта**\n",
    "\n",
    "Сервис по продаже автомобилей с пробегом «Не бит, не крашен» разрабатывает приложение для привлечения новых клиентов. В нём можно быстро узнать рыночную стоимость своего автомобиля. В вашем распоряжении исторические данные: технические характеристики, комплектации и цены автомобилей.   \n",
    "**Задача проекта:** Вам нужно построить модель для определения стоимости.  \n",
    "Заказчику важны:    \n",
    "* качество предсказания;\n",
    "* скорость предсказания;\n",
    "* время обучения."
   ]
  },
  {
   "cell_type": "markdown",
   "metadata": {
    "id": "ExUqULGqp2KH"
   },
   "source": [
    "**Описание данных**  \n",
    "\n",
    "Признаки  \n",
    "\n",
    "`DateCrawled` — дата скачивания анкеты из базы  \n",
    "`VehicleType` — тип автомобильного кузова  \n",
    "`RegistrationYear` — год регистрации автомобиля  \n",
    "`Power` — мощность (л. с.)  \n",
    "`Model` — модель автомобиля  \n",
    "`Kilometer` — пробег (км)  \n",
    "`RegistrationMonth` — месяц регистрации автомобиля  \n",
    "`FuelType` — тип топлива  \n",
    "`Brand` — марка автомобиля  \n",
    "`Repaired` — была машина в ремонте или нет  \n",
    "`DateCreated` — дата создания анкеты  \n",
    "`NumberOfPictures` — количество фотографий автомобиля  \n",
    "`PostalCode` — почтовый индекс владельца анкеты (пользователя)  \n",
    "`LastSeen` — дата последней активности пользователя \n",
    "\n",
    "Целевой признак\n",
    "\n",
    "`Price` — цена (евро)  "
   ]
  },
  {
   "cell_type": "markdown",
   "metadata": {
    "id": "1H0AIFhUlhpw"
   },
   "source": [
    "## Загрузка данных"
   ]
  },
  {
   "cell_type": "code",
   "execution_count": 1,
   "metadata": {
    "colab": {
     "base_uri": "https://localhost:8080/"
    },
    "id": "suGlQ7ISEKLR",
    "outputId": "bfdf9f13-b98c-45fe-ed38-a77ea05998ba"
   },
   "outputs": [
    {
     "name": "stdout",
     "output_type": "stream",
     "text": [
      "Requirement already satisfied: catboost in c:\\anaconda\\lib\\site-packages (1.0.6)\n",
      "Requirement already satisfied: scipy in c:\\anaconda\\lib\\site-packages (from catboost) (1.7.1)\n",
      "Requirement already satisfied: pandas>=0.24.0 in c:\\anaconda\\lib\\site-packages (from catboost) (1.3.4)\n",
      "Requirement already satisfied: numpy>=1.16.0 in c:\\anaconda\\lib\\site-packages (from catboost) (1.20.3)\n",
      "Requirement already satisfied: graphviz in c:\\anaconda\\lib\\site-packages (from catboost) (0.20)\n",
      "Requirement already satisfied: matplotlib in c:\\anaconda\\lib\\site-packages (from catboost) (3.4.3)\n",
      "Requirement already satisfied: six in c:\\anaconda\\lib\\site-packages (from catboost) (1.16.0)\n",
      "Requirement already satisfied: plotly in c:\\anaconda\\lib\\site-packages (from catboost) (5.8.0)\n",
      "Requirement already satisfied: python-dateutil>=2.7.3 in c:\\anaconda\\lib\\site-packages (from pandas>=0.24.0->catboost) (2.8.2)\n",
      "Requirement already satisfied: pytz>=2017.3 in c:\\anaconda\\lib\\site-packages (from pandas>=0.24.0->catboost) (2021.3)\n",
      "Requirement already satisfied: pillow>=6.2.0 in c:\\anaconda\\lib\\site-packages (from matplotlib->catboost) (8.4.0)\n",
      "Requirement already satisfied: cycler>=0.10 in c:\\anaconda\\lib\\site-packages (from matplotlib->catboost) (0.10.0)\n",
      "Requirement already satisfied: pyparsing>=2.2.1 in c:\\anaconda\\lib\\site-packages (from matplotlib->catboost) (3.0.4)\n",
      "Requirement already satisfied: kiwisolver>=1.0.1 in c:\\anaconda\\lib\\site-packages (from matplotlib->catboost) (1.3.1)\n",
      "Requirement already satisfied: tenacity>=6.2.0 in c:\\anaconda\\lib\\site-packages (from plotly->catboost) (8.0.1)\n",
      "\n",
      "[notice] A new release of pip available: 22.1.2 -> 22.3.1\n",
      "[notice] To update, run: python.exe -m pip install --upgrade pip\n",
      "Note: you may need to restart the kernel to use updated packages.\n"
     ]
    }
   ],
   "source": [
    "pip install catboost"
   ]
  },
  {
   "cell_type": "code",
   "execution_count": 2,
   "metadata": {
    "id": "_fMfekakFwYU"
   },
   "outputs": [],
   "source": [
    "import pandas as pd\n",
    "import numpy as np\n",
    "from sklearn.model_selection import train_test_split\n",
    "from sklearn.preprocessing import OrdinalEncoder\n",
    "from sklearn.preprocessing import StandardScaler\n",
    "from sklearn.model_selection import cross_val_score\n",
    "from sklearn.metrics import mean_squared_error\n",
    "from sklearn.metrics import make_scorer\n",
    "from sklearn.model_selection import GridSearchCV\n",
    "from sklearn.model_selection import RandomizedSearchCV\n",
    "from sklearn.linear_model import LinearRegression\n",
    "from sklearn.tree import DecisionTreeRegressor\n",
    "import lightgbm as lgb\n",
    "from catboost import CatBoostRegressor, Pool, cv\n",
    "import matplotlib.pyplot as plt\n",
    "import seaborn as sns"
   ]
  },
  {
   "cell_type": "code",
   "execution_count": 3,
   "metadata": {
    "id": "i_D5jALKGofM"
   },
   "outputs": [],
   "source": [
    "df = pd.read_csv(r'C:\\Users\\79119\\Desktop\\DF\\autos_price\\autos.csv')"
   ]
  },
  {
   "cell_type": "code",
   "execution_count": 4,
   "metadata": {
    "id": "xNOmxYZQI11P"
   },
   "outputs": [],
   "source": [
    "def df_info(df):\n",
    "    print('Выгрузка таблицы')\n",
    "    display(df.head())\n",
    "    print(' ')\n",
    "    print('Общая информация')\n",
    "    print(df.info())\n",
    "    print(' ')\n",
    "    print('Пропуски')\n",
    "    print(df.isna().sum())\n",
    "    print(' ')\n",
    "    print('Дубликаты')\n",
    "    print(df.duplicated().sum())\n",
    "    print(' ')\n",
    "    print('Статистика')\n",
    "    display(df.describe())\n"
   ]
  },
  {
   "cell_type": "code",
   "execution_count": 5,
   "metadata": {
    "colab": {
     "base_uri": "https://localhost:8080/",
     "height": 1000
    },
    "id": "0C-yBegUKoKu",
    "outputId": "9d3e621b-cefb-4f85-e7cb-759cb78e09a7",
    "scrolled": true
   },
   "outputs": [
    {
     "name": "stdout",
     "output_type": "stream",
     "text": [
      "Выгрузка таблицы\n"
     ]
    },
    {
     "data": {
      "text/html": [
       "<div>\n",
       "<style scoped>\n",
       "    .dataframe tbody tr th:only-of-type {\n",
       "        vertical-align: middle;\n",
       "    }\n",
       "\n",
       "    .dataframe tbody tr th {\n",
       "        vertical-align: top;\n",
       "    }\n",
       "\n",
       "    .dataframe thead th {\n",
       "        text-align: right;\n",
       "    }\n",
       "</style>\n",
       "<table border=\"1\" class=\"dataframe\">\n",
       "  <thead>\n",
       "    <tr style=\"text-align: right;\">\n",
       "      <th></th>\n",
       "      <th>DateCrawled</th>\n",
       "      <th>Price</th>\n",
       "      <th>VehicleType</th>\n",
       "      <th>RegistrationYear</th>\n",
       "      <th>Gearbox</th>\n",
       "      <th>Power</th>\n",
       "      <th>Model</th>\n",
       "      <th>Kilometer</th>\n",
       "      <th>RegistrationMonth</th>\n",
       "      <th>FuelType</th>\n",
       "      <th>Brand</th>\n",
       "      <th>Repaired</th>\n",
       "      <th>DateCreated</th>\n",
       "      <th>NumberOfPictures</th>\n",
       "      <th>PostalCode</th>\n",
       "      <th>LastSeen</th>\n",
       "    </tr>\n",
       "  </thead>\n",
       "  <tbody>\n",
       "    <tr>\n",
       "      <th>0</th>\n",
       "      <td>2016-03-24 11:52:17</td>\n",
       "      <td>480</td>\n",
       "      <td>NaN</td>\n",
       "      <td>1993</td>\n",
       "      <td>manual</td>\n",
       "      <td>0</td>\n",
       "      <td>golf</td>\n",
       "      <td>150000</td>\n",
       "      <td>0</td>\n",
       "      <td>petrol</td>\n",
       "      <td>volkswagen</td>\n",
       "      <td>NaN</td>\n",
       "      <td>2016-03-24 00:00:00</td>\n",
       "      <td>0</td>\n",
       "      <td>70435</td>\n",
       "      <td>2016-04-07 03:16:57</td>\n",
       "    </tr>\n",
       "    <tr>\n",
       "      <th>1</th>\n",
       "      <td>2016-03-24 10:58:45</td>\n",
       "      <td>18300</td>\n",
       "      <td>coupe</td>\n",
       "      <td>2011</td>\n",
       "      <td>manual</td>\n",
       "      <td>190</td>\n",
       "      <td>NaN</td>\n",
       "      <td>125000</td>\n",
       "      <td>5</td>\n",
       "      <td>gasoline</td>\n",
       "      <td>audi</td>\n",
       "      <td>yes</td>\n",
       "      <td>2016-03-24 00:00:00</td>\n",
       "      <td>0</td>\n",
       "      <td>66954</td>\n",
       "      <td>2016-04-07 01:46:50</td>\n",
       "    </tr>\n",
       "    <tr>\n",
       "      <th>2</th>\n",
       "      <td>2016-03-14 12:52:21</td>\n",
       "      <td>9800</td>\n",
       "      <td>suv</td>\n",
       "      <td>2004</td>\n",
       "      <td>auto</td>\n",
       "      <td>163</td>\n",
       "      <td>grand</td>\n",
       "      <td>125000</td>\n",
       "      <td>8</td>\n",
       "      <td>gasoline</td>\n",
       "      <td>jeep</td>\n",
       "      <td>NaN</td>\n",
       "      <td>2016-03-14 00:00:00</td>\n",
       "      <td>0</td>\n",
       "      <td>90480</td>\n",
       "      <td>2016-04-05 12:47:46</td>\n",
       "    </tr>\n",
       "    <tr>\n",
       "      <th>3</th>\n",
       "      <td>2016-03-17 16:54:04</td>\n",
       "      <td>1500</td>\n",
       "      <td>small</td>\n",
       "      <td>2001</td>\n",
       "      <td>manual</td>\n",
       "      <td>75</td>\n",
       "      <td>golf</td>\n",
       "      <td>150000</td>\n",
       "      <td>6</td>\n",
       "      <td>petrol</td>\n",
       "      <td>volkswagen</td>\n",
       "      <td>no</td>\n",
       "      <td>2016-03-17 00:00:00</td>\n",
       "      <td>0</td>\n",
       "      <td>91074</td>\n",
       "      <td>2016-03-17 17:40:17</td>\n",
       "    </tr>\n",
       "    <tr>\n",
       "      <th>4</th>\n",
       "      <td>2016-03-31 17:25:20</td>\n",
       "      <td>3600</td>\n",
       "      <td>small</td>\n",
       "      <td>2008</td>\n",
       "      <td>manual</td>\n",
       "      <td>69</td>\n",
       "      <td>fabia</td>\n",
       "      <td>90000</td>\n",
       "      <td>7</td>\n",
       "      <td>gasoline</td>\n",
       "      <td>skoda</td>\n",
       "      <td>no</td>\n",
       "      <td>2016-03-31 00:00:00</td>\n",
       "      <td>0</td>\n",
       "      <td>60437</td>\n",
       "      <td>2016-04-06 10:17:21</td>\n",
       "    </tr>\n",
       "  </tbody>\n",
       "</table>\n",
       "</div>"
      ],
      "text/plain": [
       "           DateCrawled  Price VehicleType  RegistrationYear Gearbox  Power  \\\n",
       "0  2016-03-24 11:52:17    480         NaN              1993  manual      0   \n",
       "1  2016-03-24 10:58:45  18300       coupe              2011  manual    190   \n",
       "2  2016-03-14 12:52:21   9800         suv              2004    auto    163   \n",
       "3  2016-03-17 16:54:04   1500       small              2001  manual     75   \n",
       "4  2016-03-31 17:25:20   3600       small              2008  manual     69   \n",
       "\n",
       "   Model  Kilometer  RegistrationMonth  FuelType       Brand Repaired  \\\n",
       "0   golf     150000                  0    petrol  volkswagen      NaN   \n",
       "1    NaN     125000                  5  gasoline        audi      yes   \n",
       "2  grand     125000                  8  gasoline        jeep      NaN   \n",
       "3   golf     150000                  6    petrol  volkswagen       no   \n",
       "4  fabia      90000                  7  gasoline       skoda       no   \n",
       "\n",
       "           DateCreated  NumberOfPictures  PostalCode             LastSeen  \n",
       "0  2016-03-24 00:00:00                 0       70435  2016-04-07 03:16:57  \n",
       "1  2016-03-24 00:00:00                 0       66954  2016-04-07 01:46:50  \n",
       "2  2016-03-14 00:00:00                 0       90480  2016-04-05 12:47:46  \n",
       "3  2016-03-17 00:00:00                 0       91074  2016-03-17 17:40:17  \n",
       "4  2016-03-31 00:00:00                 0       60437  2016-04-06 10:17:21  "
      ]
     },
     "metadata": {},
     "output_type": "display_data"
    },
    {
     "name": "stdout",
     "output_type": "stream",
     "text": [
      " \n",
      "Общая информация\n",
      "<class 'pandas.core.frame.DataFrame'>\n",
      "RangeIndex: 354369 entries, 0 to 354368\n",
      "Data columns (total 16 columns):\n",
      " #   Column             Non-Null Count   Dtype \n",
      "---  ------             --------------   ----- \n",
      " 0   DateCrawled        354369 non-null  object\n",
      " 1   Price              354369 non-null  int64 \n",
      " 2   VehicleType        316879 non-null  object\n",
      " 3   RegistrationYear   354369 non-null  int64 \n",
      " 4   Gearbox            334536 non-null  object\n",
      " 5   Power              354369 non-null  int64 \n",
      " 6   Model              334664 non-null  object\n",
      " 7   Kilometer          354369 non-null  int64 \n",
      " 8   RegistrationMonth  354369 non-null  int64 \n",
      " 9   FuelType           321474 non-null  object\n",
      " 10  Brand              354369 non-null  object\n",
      " 11  Repaired           283215 non-null  object\n",
      " 12  DateCreated        354369 non-null  object\n",
      " 13  NumberOfPictures   354369 non-null  int64 \n",
      " 14  PostalCode         354369 non-null  int64 \n",
      " 15  LastSeen           354369 non-null  object\n",
      "dtypes: int64(7), object(9)\n",
      "memory usage: 43.3+ MB\n",
      "None\n",
      " \n",
      "Пропуски\n",
      "DateCrawled              0\n",
      "Price                    0\n",
      "VehicleType          37490\n",
      "RegistrationYear         0\n",
      "Gearbox              19833\n",
      "Power                    0\n",
      "Model                19705\n",
      "Kilometer                0\n",
      "RegistrationMonth        0\n",
      "FuelType             32895\n",
      "Brand                    0\n",
      "Repaired             71154\n",
      "DateCreated              0\n",
      "NumberOfPictures         0\n",
      "PostalCode               0\n",
      "LastSeen                 0\n",
      "dtype: int64\n",
      " \n",
      "Дубликаты\n",
      "4\n",
      " \n",
      "Статистика\n"
     ]
    },
    {
     "data": {
      "text/html": [
       "<div>\n",
       "<style scoped>\n",
       "    .dataframe tbody tr th:only-of-type {\n",
       "        vertical-align: middle;\n",
       "    }\n",
       "\n",
       "    .dataframe tbody tr th {\n",
       "        vertical-align: top;\n",
       "    }\n",
       "\n",
       "    .dataframe thead th {\n",
       "        text-align: right;\n",
       "    }\n",
       "</style>\n",
       "<table border=\"1\" class=\"dataframe\">\n",
       "  <thead>\n",
       "    <tr style=\"text-align: right;\">\n",
       "      <th></th>\n",
       "      <th>Price</th>\n",
       "      <th>RegistrationYear</th>\n",
       "      <th>Power</th>\n",
       "      <th>Kilometer</th>\n",
       "      <th>RegistrationMonth</th>\n",
       "      <th>NumberOfPictures</th>\n",
       "      <th>PostalCode</th>\n",
       "    </tr>\n",
       "  </thead>\n",
       "  <tbody>\n",
       "    <tr>\n",
       "      <th>count</th>\n",
       "      <td>354369.000000</td>\n",
       "      <td>354369.000000</td>\n",
       "      <td>354369.000000</td>\n",
       "      <td>354369.000000</td>\n",
       "      <td>354369.000000</td>\n",
       "      <td>354369.0</td>\n",
       "      <td>354369.000000</td>\n",
       "    </tr>\n",
       "    <tr>\n",
       "      <th>mean</th>\n",
       "      <td>4416.656776</td>\n",
       "      <td>2004.234448</td>\n",
       "      <td>110.094337</td>\n",
       "      <td>128211.172535</td>\n",
       "      <td>5.714645</td>\n",
       "      <td>0.0</td>\n",
       "      <td>50508.689087</td>\n",
       "    </tr>\n",
       "    <tr>\n",
       "      <th>std</th>\n",
       "      <td>4514.158514</td>\n",
       "      <td>90.227958</td>\n",
       "      <td>189.850405</td>\n",
       "      <td>37905.341530</td>\n",
       "      <td>3.726421</td>\n",
       "      <td>0.0</td>\n",
       "      <td>25783.096248</td>\n",
       "    </tr>\n",
       "    <tr>\n",
       "      <th>min</th>\n",
       "      <td>0.000000</td>\n",
       "      <td>1000.000000</td>\n",
       "      <td>0.000000</td>\n",
       "      <td>5000.000000</td>\n",
       "      <td>0.000000</td>\n",
       "      <td>0.0</td>\n",
       "      <td>1067.000000</td>\n",
       "    </tr>\n",
       "    <tr>\n",
       "      <th>25%</th>\n",
       "      <td>1050.000000</td>\n",
       "      <td>1999.000000</td>\n",
       "      <td>69.000000</td>\n",
       "      <td>125000.000000</td>\n",
       "      <td>3.000000</td>\n",
       "      <td>0.0</td>\n",
       "      <td>30165.000000</td>\n",
       "    </tr>\n",
       "    <tr>\n",
       "      <th>50%</th>\n",
       "      <td>2700.000000</td>\n",
       "      <td>2003.000000</td>\n",
       "      <td>105.000000</td>\n",
       "      <td>150000.000000</td>\n",
       "      <td>6.000000</td>\n",
       "      <td>0.0</td>\n",
       "      <td>49413.000000</td>\n",
       "    </tr>\n",
       "    <tr>\n",
       "      <th>75%</th>\n",
       "      <td>6400.000000</td>\n",
       "      <td>2008.000000</td>\n",
       "      <td>143.000000</td>\n",
       "      <td>150000.000000</td>\n",
       "      <td>9.000000</td>\n",
       "      <td>0.0</td>\n",
       "      <td>71083.000000</td>\n",
       "    </tr>\n",
       "    <tr>\n",
       "      <th>max</th>\n",
       "      <td>20000.000000</td>\n",
       "      <td>9999.000000</td>\n",
       "      <td>20000.000000</td>\n",
       "      <td>150000.000000</td>\n",
       "      <td>12.000000</td>\n",
       "      <td>0.0</td>\n",
       "      <td>99998.000000</td>\n",
       "    </tr>\n",
       "  </tbody>\n",
       "</table>\n",
       "</div>"
      ],
      "text/plain": [
       "               Price  RegistrationYear          Power      Kilometer  \\\n",
       "count  354369.000000     354369.000000  354369.000000  354369.000000   \n",
       "mean     4416.656776       2004.234448     110.094337  128211.172535   \n",
       "std      4514.158514         90.227958     189.850405   37905.341530   \n",
       "min         0.000000       1000.000000       0.000000    5000.000000   \n",
       "25%      1050.000000       1999.000000      69.000000  125000.000000   \n",
       "50%      2700.000000       2003.000000     105.000000  150000.000000   \n",
       "75%      6400.000000       2008.000000     143.000000  150000.000000   \n",
       "max     20000.000000       9999.000000   20000.000000  150000.000000   \n",
       "\n",
       "       RegistrationMonth  NumberOfPictures     PostalCode  \n",
       "count      354369.000000          354369.0  354369.000000  \n",
       "mean            5.714645               0.0   50508.689087  \n",
       "std             3.726421               0.0   25783.096248  \n",
       "min             0.000000               0.0    1067.000000  \n",
       "25%             3.000000               0.0   30165.000000  \n",
       "50%             6.000000               0.0   49413.000000  \n",
       "75%             9.000000               0.0   71083.000000  \n",
       "max            12.000000               0.0   99998.000000  "
      ]
     },
     "metadata": {},
     "output_type": "display_data"
    }
   ],
   "source": [
    "df_info(df)"
   ]
  },
  {
   "cell_type": "code",
   "execution_count": 6,
   "metadata": {
    "id": "uJdFHFpgWPsu"
   },
   "outputs": [],
   "source": [
    "import re\n",
    "new_columns = []\n",
    "for column in df.columns:\n",
    "    # имя колонки в строке\n",
    "    c = column\n",
    "    # имя колонки в списке\n",
    "    cl = list(column)\n",
    "    \n",
    "    points_of_start = []\n",
    "    # ищем индексы вхождения больших букв и сохраняем их в список\n",
    "    for match in re.finditer(\"[A-Z]\", c):\n",
    "        points_of_start.append(match.start())\n",
    "    \n",
    "    # преобразовываем название колонки на основании найденных индексов\n",
    "    for symbol in points_of_start[:0:-1]:\n",
    "        cl.insert(symbol, '_')\n",
    "        \n",
    "    new_columns.append(''.join(cl).lower())\n",
    "    \n",
    "df.columns = new_columns"
   ]
  },
  {
   "cell_type": "code",
   "execution_count": 7,
   "metadata": {
    "colab": {
     "base_uri": "https://localhost:8080/",
     "height": 444
    },
    "id": "VZsm4Df6Wavp",
    "outputId": "fe428b60-5fdd-42d3-ae87-655d8d157558",
    "scrolled": false
   },
   "outputs": [
    {
     "data": {
      "text/html": [
       "<div>\n",
       "<style scoped>\n",
       "    .dataframe tbody tr th:only-of-type {\n",
       "        vertical-align: middle;\n",
       "    }\n",
       "\n",
       "    .dataframe tbody tr th {\n",
       "        vertical-align: top;\n",
       "    }\n",
       "\n",
       "    .dataframe thead th {\n",
       "        text-align: right;\n",
       "    }\n",
       "</style>\n",
       "<table border=\"1\" class=\"dataframe\">\n",
       "  <thead>\n",
       "    <tr style=\"text-align: right;\">\n",
       "      <th></th>\n",
       "      <th>date_crawled</th>\n",
       "      <th>price</th>\n",
       "      <th>vehicle_type</th>\n",
       "      <th>registration_year</th>\n",
       "      <th>gearbox</th>\n",
       "      <th>power</th>\n",
       "      <th>model</th>\n",
       "      <th>kilometer</th>\n",
       "      <th>registration_month</th>\n",
       "      <th>fuel_type</th>\n",
       "      <th>brand</th>\n",
       "      <th>repaired</th>\n",
       "      <th>date_created</th>\n",
       "      <th>number_of_pictures</th>\n",
       "      <th>postal_code</th>\n",
       "      <th>last_seen</th>\n",
       "    </tr>\n",
       "  </thead>\n",
       "  <tbody>\n",
       "    <tr>\n",
       "      <th>0</th>\n",
       "      <td>2016-03-24 11:52:17</td>\n",
       "      <td>480</td>\n",
       "      <td>NaN</td>\n",
       "      <td>1993</td>\n",
       "      <td>manual</td>\n",
       "      <td>0</td>\n",
       "      <td>golf</td>\n",
       "      <td>150000</td>\n",
       "      <td>0</td>\n",
       "      <td>petrol</td>\n",
       "      <td>volkswagen</td>\n",
       "      <td>NaN</td>\n",
       "      <td>2016-03-24 00:00:00</td>\n",
       "      <td>0</td>\n",
       "      <td>70435</td>\n",
       "      <td>2016-04-07 03:16:57</td>\n",
       "    </tr>\n",
       "    <tr>\n",
       "      <th>1</th>\n",
       "      <td>2016-03-24 10:58:45</td>\n",
       "      <td>18300</td>\n",
       "      <td>coupe</td>\n",
       "      <td>2011</td>\n",
       "      <td>manual</td>\n",
       "      <td>190</td>\n",
       "      <td>NaN</td>\n",
       "      <td>125000</td>\n",
       "      <td>5</td>\n",
       "      <td>gasoline</td>\n",
       "      <td>audi</td>\n",
       "      <td>yes</td>\n",
       "      <td>2016-03-24 00:00:00</td>\n",
       "      <td>0</td>\n",
       "      <td>66954</td>\n",
       "      <td>2016-04-07 01:46:50</td>\n",
       "    </tr>\n",
       "    <tr>\n",
       "      <th>2</th>\n",
       "      <td>2016-03-14 12:52:21</td>\n",
       "      <td>9800</td>\n",
       "      <td>suv</td>\n",
       "      <td>2004</td>\n",
       "      <td>auto</td>\n",
       "      <td>163</td>\n",
       "      <td>grand</td>\n",
       "      <td>125000</td>\n",
       "      <td>8</td>\n",
       "      <td>gasoline</td>\n",
       "      <td>jeep</td>\n",
       "      <td>NaN</td>\n",
       "      <td>2016-03-14 00:00:00</td>\n",
       "      <td>0</td>\n",
       "      <td>90480</td>\n",
       "      <td>2016-04-05 12:47:46</td>\n",
       "    </tr>\n",
       "    <tr>\n",
       "      <th>3</th>\n",
       "      <td>2016-03-17 16:54:04</td>\n",
       "      <td>1500</td>\n",
       "      <td>small</td>\n",
       "      <td>2001</td>\n",
       "      <td>manual</td>\n",
       "      <td>75</td>\n",
       "      <td>golf</td>\n",
       "      <td>150000</td>\n",
       "      <td>6</td>\n",
       "      <td>petrol</td>\n",
       "      <td>volkswagen</td>\n",
       "      <td>no</td>\n",
       "      <td>2016-03-17 00:00:00</td>\n",
       "      <td>0</td>\n",
       "      <td>91074</td>\n",
       "      <td>2016-03-17 17:40:17</td>\n",
       "    </tr>\n",
       "    <tr>\n",
       "      <th>4</th>\n",
       "      <td>2016-03-31 17:25:20</td>\n",
       "      <td>3600</td>\n",
       "      <td>small</td>\n",
       "      <td>2008</td>\n",
       "      <td>manual</td>\n",
       "      <td>69</td>\n",
       "      <td>fabia</td>\n",
       "      <td>90000</td>\n",
       "      <td>7</td>\n",
       "      <td>gasoline</td>\n",
       "      <td>skoda</td>\n",
       "      <td>no</td>\n",
       "      <td>2016-03-31 00:00:00</td>\n",
       "      <td>0</td>\n",
       "      <td>60437</td>\n",
       "      <td>2016-04-06 10:17:21</td>\n",
       "    </tr>\n",
       "  </tbody>\n",
       "</table>\n",
       "</div>"
      ],
      "text/plain": [
       "          date_crawled  price vehicle_type  registration_year gearbox  power  \\\n",
       "0  2016-03-24 11:52:17    480          NaN               1993  manual      0   \n",
       "1  2016-03-24 10:58:45  18300        coupe               2011  manual    190   \n",
       "2  2016-03-14 12:52:21   9800          suv               2004    auto    163   \n",
       "3  2016-03-17 16:54:04   1500        small               2001  manual     75   \n",
       "4  2016-03-31 17:25:20   3600        small               2008  manual     69   \n",
       "\n",
       "   model  kilometer  registration_month fuel_type       brand repaired  \\\n",
       "0   golf     150000                   0    petrol  volkswagen      NaN   \n",
       "1    NaN     125000                   5  gasoline        audi      yes   \n",
       "2  grand     125000                   8  gasoline        jeep      NaN   \n",
       "3   golf     150000                   6    petrol  volkswagen       no   \n",
       "4  fabia      90000                   7  gasoline       skoda       no   \n",
       "\n",
       "          date_created  number_of_pictures  postal_code            last_seen  \n",
       "0  2016-03-24 00:00:00                   0        70435  2016-04-07 03:16:57  \n",
       "1  2016-03-24 00:00:00                   0        66954  2016-04-07 01:46:50  \n",
       "2  2016-03-14 00:00:00                   0        90480  2016-04-05 12:47:46  \n",
       "3  2016-03-17 00:00:00                   0        91074  2016-03-17 17:40:17  \n",
       "4  2016-03-31 00:00:00                   0        60437  2016-04-06 10:17:21  "
      ]
     },
     "execution_count": 7,
     "metadata": {},
     "output_type": "execute_result"
    }
   ],
   "source": [
    "df.head()"
   ]
  },
  {
   "cell_type": "markdown",
   "metadata": {},
   "source": [
    "Посмотрим на выбросы в  признаках `power` и `registration_year`"
   ]
  },
  {
   "cell_type": "code",
   "execution_count": 8,
   "metadata": {
    "colab": {
     "base_uri": "https://localhost:8080/",
     "height": 432
    },
    "id": "N78ggi-HxuJ9",
    "outputId": "e04756e0-5de3-4501-c626-45bc1546d4e6"
   },
   "outputs": [
    {
     "data": {
      "image/png": "[encoded data removed]",
      "text/plain": [
       "<Figure size 720x504 with 2 Axes>"
      ]
     },
     "metadata": {
      "needs_background": "light"
     },
     "output_type": "display_data"
    }
   ],
   "source": [
    "plt.figure(figsize=(10, 7))\n",
    "plt.subplot(1, 2, 1)\n",
    "sns.boxplot(data=df['power'])\n",
    "plt.title('Boxplot признака \"power\"')\n",
    "plt.subplot(1, 2, 2)\n",
    "sns.boxplot(data=df['power'])\n",
    "plt.ylim(0, 1000)\n",
    "plt.title('Масштабированный Boxplot признака \"power\"')\n",
    "plt.show()"
   ]
  },
  {
   "cell_type": "code",
   "execution_count": 9,
   "metadata": {
    "colab": {
     "base_uri": "https://localhost:8080/",
     "height": 432
    },
    "id": "IFI6I5Zv1bhT",
    "outputId": "63d48cb3-4d85-4c66-b1ed-0266db969e2e"
   },
   "outputs": [
    {
     "data": {
      "image/png": "[encoded data removed]",
      "text/plain": [
       "<Figure size 720x504 with 2 Axes>"
      ]
     },
     "metadata": {
      "needs_background": "light"
     },
     "output_type": "display_data"
    }
   ],
   "source": [
    "plt.figure(figsize=(10, 7))\n",
    "plt.subplot(1, 2, 1)\n",
    "sns.boxplot(data = df['registration_year'])\n",
    "plt.title('Boxplot признака \"registration_year\"')\n",
    "plt.subplot(1, 2, 2)\n",
    "sns.boxplot(data = df['registration_year'])\n",
    "plt.ylim(1800, 2100)\n",
    "plt.title('Масштабированный Boxplot признака \"registration_year\"')\n",
    "plt.show()"
   ]
  },
  {
   "cell_type": "markdown",
   "metadata": {
    "id": "02TETRtemnYH"
   },
   "source": [
    "# Вывод:\n",
    "Загружена таблица размером 354369 строк и 16 столбцов из которых 7 типа int и 9 типа object. В столбцах `vehicle_type`, `gearbox`, `model`, `fuel_type`, `not_repaired` присутствует значительное количество пропусков. Также в датафрейме имеется 4 дубликата. Признаки `price`, `registration_year` и `power` имеют выбросы."
   ]
  },
  {
   "cell_type": "markdown",
   "metadata": {
    "id": "70dYcBmwRcoE"
   },
   "source": [
    "## Предобработка"
   ]
  },
  {
   "cell_type": "code",
   "execution_count": 10,
   "metadata": {
    "id": "YdDd8FvaLyL5"
   },
   "outputs": [],
   "source": [
    "data = df.copy()"
   ]
  },
  {
   "cell_type": "code",
   "execution_count": 11,
   "metadata": {
    "colab": {
     "base_uri": "https://localhost:8080/"
    },
    "id": "W2GEbgN4Se4d",
    "outputId": "b012ad38-a931-4667-c0dd-86fb7ed0f737"
   },
   "outputs": [
    {
     "data": {
      "text/plain": [
       "sedan          91457\n",
       "small          79831\n",
       "wagon          65166\n",
       "bus            28775\n",
       "convertible    20203\n",
       "coupe          16163\n",
       "suv            11996\n",
       "other           3288\n",
       "Name: vehicle_type, dtype: int64"
      ]
     },
     "execution_count": 11,
     "metadata": {},
     "output_type": "execute_result"
    }
   ],
   "source": [
    "data['vehicle_type'].value_counts()"
   ]
  },
  {
   "cell_type": "code",
   "execution_count": 12,
   "metadata": {
    "colab": {
     "base_uri": "https://localhost:8080/"
    },
    "id": "bSQ0KZ4uXGfr",
    "outputId": "bcb6ec12-fe8a-4a1a-e561-f3f0468b7171"
   },
   "outputs": [
    {
     "data": {
      "text/plain": [
       "golf           29232\n",
       "other          24421\n",
       "3er            19761\n",
       "polo           13066\n",
       "corsa          12570\n",
       "astra          10809\n",
       "passat         10146\n",
       "a4              9900\n",
       "c_klasse        8312\n",
       "5er             7868\n",
       "e_klasse        6785\n",
       "a3              6122\n",
       "focus           5874\n",
       "fiesta          5774\n",
       "a6              5541\n",
       "twingo          4953\n",
       "transporter     4822\n",
       "2_reihe         4816\n",
       "fortwo          4337\n",
       "vectra          4254\n",
       "Name: model, dtype: int64"
      ]
     },
     "execution_count": 12,
     "metadata": {},
     "output_type": "execute_result"
    }
   ],
   "source": [
    "data['model'].value_counts().head(20)"
   ]
  },
  {
   "cell_type": "code",
   "execution_count": 13,
   "metadata": {
    "colab": {
     "base_uri": "https://localhost:8080/"
    },
    "id": "gRPAEQhyaKJi",
    "outputId": "e334ea05-92ea-438a-934d-27a0f9fa9249"
   },
   "outputs": [
    {
     "data": {
      "text/plain": [
       "petrol      216352\n",
       "gasoline     98720\n",
       "lpg           5310\n",
       "cng            565\n",
       "hybrid         233\n",
       "other          204\n",
       "electric        90\n",
       "Name: fuel_type, dtype: int64"
      ]
     },
     "execution_count": 13,
     "metadata": {},
     "output_type": "execute_result"
    }
   ],
   "source": [
    "data['fuel_type'].value_counts()"
   ]
  },
  {
   "cell_type": "markdown",
   "metadata": {},
   "source": [
    "Т.к. в столбцах `vehicle_type`, `model` и `fuel_type` присутствует категория other, то к ней мы отнесем и пропуски в данных столбцах. А пропуски в `gearbox` и `repaired` заполнили значение unknown."
   ]
  },
  {
   "cell_type": "code",
   "execution_count": 14,
   "metadata": {},
   "outputs": [
    {
     "data": {
      "text/plain": [
       "Index(['date_crawled', 'price', 'vehicle_type', 'registration_year', 'gearbox',\n",
       "       'power', 'model', 'kilometer', 'registration_month', 'fuel_type',\n",
       "       'brand', 'repaired', 'date_created', 'number_of_pictures',\n",
       "       'postal_code', 'last_seen'],\n",
       "      dtype='object')"
      ]
     },
     "execution_count": 14,
     "metadata": {},
     "output_type": "execute_result"
    }
   ],
   "source": [
    "data.columns"
   ]
  },
  {
   "cell_type": "code",
   "execution_count": 15,
   "metadata": {
    "id": "FZBZ3g9rdDM1"
   },
   "outputs": [],
   "source": [
    "data['vehicle_type'] = data['vehicle_type'].fillna('other')\n",
    "data['model'] = data['model'].fillna('other')\n",
    "data['fuel_type'] = data['fuel_type'].fillna('other')\n",
    "data['gearbox'] = data['gearbox'].fillna('unknown')\n",
    "data['repaired'] = data['repaired'].fillna('unknown')"
   ]
  },
  {
   "cell_type": "code",
   "execution_count": 16,
   "metadata": {
    "colab": {
     "base_uri": "https://localhost:8080/"
    },
    "id": "r_TPtWAUiVPv",
    "outputId": "da38345f-ba7c-4add-94a4-21a9f40631e8"
   },
   "outputs": [
    {
     "data": {
      "text/plain": [
       "date_crawled          0\n",
       "price                 0\n",
       "vehicle_type          0\n",
       "registration_year     0\n",
       "gearbox               0\n",
       "power                 0\n",
       "model                 0\n",
       "kilometer             0\n",
       "registration_month    0\n",
       "fuel_type             0\n",
       "brand                 0\n",
       "repaired              0\n",
       "date_created          0\n",
       "number_of_pictures    0\n",
       "postal_code           0\n",
       "last_seen             0\n",
       "dtype: int64"
      ]
     },
     "execution_count": 16,
     "metadata": {},
     "output_type": "execute_result"
    }
   ],
   "source": [
    "data.isna().sum()"
   ]
  },
  {
   "cell_type": "markdown",
   "metadata": {},
   "source": [
    "Минимальная мощность автомобиля состаляет 4.2 л.с., а максимально возможная 1500 л.с. Следовательно в столбце `power` значения, которые менее 4.2 л.с. (40308 шт.) заполним медианным значением, сгруппированным по марке, модели и году регистрации (в разные года у одних и тех же моделей может меняться двигатель). После этого избавимся от выбросов, которые мегьше 4.2 и больше 1500."
   ]
  },
  {
   "cell_type": "code",
   "execution_count": 17,
   "metadata": {
    "colab": {
     "base_uri": "https://localhost:8080/"
    },
    "id": "5oOaeCXqms0i",
    "outputId": "aabbbf5f-11e4-46e0-a8fc-961b15982a56"
   },
   "outputs": [
    {
     "name": "stdout",
     "output_type": "stream",
     "text": [
      "Количество наблюдений с power меньше 4.2 л.с.: 40308\n",
      "Количество наблюдений с power больше 1500 л.с.: 203\n"
     ]
    }
   ],
   "source": [
    "print('Количество наблюдений с power меньше 4.2 л.с.:', data[data['power'] < 4.2]['power'].count())\n",
    "print('Количество наблюдений с power больше 1500 л.с.:', data[data['power'] > 1500]['power'].count())"
   ]
  },
  {
   "cell_type": "code",
   "execution_count": 18,
   "metadata": {
    "colab": {
     "base_uri": "https://localhost:8080/"
    },
    "id": "7I8Ge9gToPZm",
    "outputId": "17e979c4-423a-4404-a88b-ae7e8493ef87"
   },
   "outputs": [
    {
     "data": {
      "text/plain": [
       "3104"
      ]
     },
     "execution_count": 18,
     "metadata": {},
     "output_type": "execute_result"
    }
   ],
   "source": [
    "data.loc[data['power'] < 4.2, 'power'] = data.groupby(['brand', 'model', 'registration_year'])['power'].transform('median')\n",
    "data[data['power'] < 4.2]['power'].count()"
   ]
  },
  {
   "cell_type": "code",
   "execution_count": 19,
   "metadata": {
    "colab": {
     "base_uri": "https://localhost:8080/"
    },
    "id": "f7L_gOsLhSVD",
    "outputId": "fa0ba55f-5f29-410c-db4c-9556c9312f33"
   },
   "outputs": [
    {
     "data": {
      "text/plain": [
       "count    351062.000000\n",
       "mean        118.184081\n",
       "std          57.257285\n",
       "min           5.000000\n",
       "25%          75.000000\n",
       "50%         109.000000\n",
       "75%         143.000000\n",
       "max        1500.000000\n",
       "Name: power, dtype: float64"
      ]
     },
     "execution_count": 19,
     "metadata": {},
     "output_type": "execute_result"
    }
   ],
   "source": [
    "data= data.query('4.2 < power <= 1500')\n",
    "data['power'].describe()"
   ]
  },
  {
   "cell_type": "code",
   "execution_count": 20,
   "metadata": {
    "colab": {
     "base_uri": "https://localhost:8080/",
     "height": 35
    },
    "id": "DjQgG5B7qbqw",
    "outputId": "f368d0d6-f1b4-4f36-df10-8595e7efba14"
   },
   "outputs": [
    {
     "data": {
      "text/plain": [
       "'2016-04-07 00:00:00'"
      ]
     },
     "execution_count": 20,
     "metadata": {},
     "output_type": "execute_result"
    }
   ],
   "source": [
    "data['date_created'].max()"
   ]
  },
  {
   "cell_type": "code",
   "execution_count": 21,
   "metadata": {
    "colab": {
     "base_uri": "https://localhost:8080/"
    },
    "id": "Q3z1dZkmIvKs",
    "outputId": "17345fd6-649c-4adb-c167-dfd5ccb2c83f"
   },
   "outputs": [
    {
     "name": "stdout",
     "output_type": "stream",
     "text": [
      "Количество наблюдений с годом регистарации меньшим, чем 1950: 87\n",
      "Количество наблюдений с годом регистарации большим, чем 2016: 23532\n"
     ]
    }
   ],
   "source": [
    "print('Количество наблюдений с годом регистарации меньшим, чем 1950:', data[data['registration_year']<=1950]['registration_year'].count())\n",
    "print('Количество наблюдений с годом регистарации большим, чем 2016:', data[data['registration_year']>=2016]['registration_year'].count())"
   ]
  },
  {
   "cell_type": "code",
   "execution_count": 22,
   "metadata": {
    "colab": {
     "base_uri": "https://localhost:8080/"
    },
    "id": "P2UXXtNNoIDj",
    "outputId": "48087e3d-9761-4370-94e0-0e68e3931619"
   },
   "outputs": [
    {
     "data": {
      "text/plain": [
       "count    336850.000000\n",
       "mean       2002.594609\n",
       "std           6.676913\n",
       "min        1950.000000\n",
       "25%        1999.000000\n",
       "50%        2003.000000\n",
       "75%        2007.000000\n",
       "max        2016.000000\n",
       "Name: registration_year, dtype: float64"
      ]
     },
     "execution_count": 22,
     "metadata": {},
     "output_type": "execute_result"
    }
   ],
   "source": [
    "data = data.query('2016 >= registration_year >= 1950')\n",
    "data['registration_year'].describe()"
   ]
  },
  {
   "cell_type": "code",
   "execution_count": 23,
   "metadata": {
    "colab": {
     "base_uri": "https://localhost:8080/"
    },
    "id": "VVuQ9MA3PirX",
    "outputId": "b1ea023a-55fc-474e-822a-39c98ac29d04"
   },
   "outputs": [
    {
     "data": {
      "text/plain": [
       "count    336850.000000\n",
       "mean       4493.019193\n",
       "std        4547.278035\n",
       "min           0.000000\n",
       "25%        1100.000000\n",
       "50%        2800.000000\n",
       "75%        6500.000000\n",
       "max       20000.000000\n",
       "Name: price, dtype: float64"
      ]
     },
     "execution_count": 23,
     "metadata": {},
     "output_type": "execute_result"
    }
   ],
   "source": [
    "data['price'].describe()"
   ]
  },
  {
   "cell_type": "code",
   "execution_count": 24,
   "metadata": {
    "colab": {
     "base_uri": "https://localhost:8080/"
    },
    "id": "1JaDVJOardeF",
    "outputId": "2edf9e30-119d-48c9-ef07-807037131e7c"
   },
   "outputs": [
    {
     "name": "stdout",
     "output_type": "stream",
     "text": [
      "Количество наблюдений со стоимостью равной 0: 9286\n"
     ]
    }
   ],
   "source": [
    "print('Количество наблюдений со стоимостью равной 0:', data[data['price'] == 0]['price'].count())"
   ]
  },
  {
   "cell_type": "code",
   "execution_count": 25,
   "metadata": {
    "id": "IkXdIBYtsYck"
   },
   "outputs": [],
   "source": [
    "data = data.query('price != 0')"
   ]
  },
  {
   "cell_type": "code",
   "execution_count": 26,
   "metadata": {
    "id": "dA2qaFhGxAjn"
   },
   "outputs": [],
   "source": [
    "data = data.drop_duplicates().reset_index(drop=True)"
   ]
  },
  {
   "cell_type": "code",
   "execution_count": 27,
   "metadata": {
    "colab": {
     "base_uri": "https://localhost:8080/"
    },
    "id": "-NXR4cfGxr_h",
    "outputId": "7ce50357-3a69-4835-d40f-766c6b7c8baa"
   },
   "outputs": [
    {
     "data": {
      "text/plain": [
       "0"
      ]
     },
     "execution_count": 27,
     "metadata": {},
     "output_type": "execute_result"
    }
   ],
   "source": [
    "data.duplicated().sum()"
   ]
  },
  {
   "cell_type": "code",
   "execution_count": 28,
   "metadata": {
    "colab": {
     "base_uri": "https://localhost:8080/"
    },
    "id": "XecHm3TUyFxW",
    "outputId": "5e7897c1-6fdc-44f9-9cb6-a46c296bc705"
   },
   "outputs": [
    {
     "data": {
      "text/plain": [
       "3     32593\n",
       "6     29675\n",
       "0     28243\n",
       "4     27588\n",
       "5     27484\n",
       "7     25691\n",
       "10    24751\n",
       "11    22950\n",
       "12    22838\n",
       "9     22612\n",
       "1     21772\n",
       "8     21299\n",
       "2     20064\n",
       "Name: registration_month, dtype: int64"
      ]
     },
     "execution_count": 28,
     "metadata": {},
     "output_type": "execute_result"
    }
   ],
   "source": [
    "data['registration_month'].value_counts()"
   ]
  },
  {
   "cell_type": "code",
   "execution_count": 29,
   "metadata": {},
   "outputs": [
    {
     "data": {
      "text/plain": [
       "min    2016-03-05 14:06:22\n",
       "max    2016-04-07 14:36:58\n",
       "Name: date_crawled, dtype: object"
      ]
     },
     "execution_count": 29,
     "metadata": {},
     "output_type": "execute_result"
    }
   ],
   "source": [
    "data['date_crawled'].agg(['min', 'max'])"
   ]
  },
  {
   "cell_type": "code",
   "execution_count": 30,
   "metadata": {},
   "outputs": [
    {
     "data": {
      "text/plain": [
       "min    2014-03-10 00:00:00\n",
       "max    2016-04-07 00:00:00\n",
       "Name: date_created, dtype: object"
      ]
     },
     "execution_count": 30,
     "metadata": {},
     "output_type": "execute_result"
    }
   ],
   "source": [
    "data['date_created'].agg(['min', 'max'])"
   ]
  },
  {
   "cell_type": "code",
   "execution_count": 31,
   "metadata": {
    "colab": {
     "base_uri": "https://localhost:8080/"
    },
    "id": "k8bafh76qkPy",
    "outputId": "1f6bd543-b33c-41a6-937f-eebac66682a5"
   },
   "outputs": [
    {
     "name": "stdout",
     "output_type": "stream",
     "text": [
      "Потеря данных составляет: 7.57%\n"
     ]
    }
   ],
   "source": [
    "print(f'Потеря данных составляет: {(df.shape[0] - data.shape[0]) / df.shape[0]:.2%}') "
   ]
  },
  {
   "cell_type": "code",
   "execution_count": 32,
   "metadata": {
    "id": "jp6ylUhts1dk"
   },
   "outputs": [],
   "source": [
    "data = data.drop(['date_crawled', 'last_seen', 'number_of_pictures', 'date_created', 'postal_code'], axis=1)"
   ]
  },
  {
   "cell_type": "code",
   "execution_count": 33,
   "metadata": {
    "colab": {
     "base_uri": "https://localhost:8080/",
     "height": 206
    },
    "id": "K_26ZJlTxPip",
    "outputId": "5701d269-329d-4011-cbfa-f96bb97cc5f0"
   },
   "outputs": [
    {
     "data": {
      "text/html": [
       "<div>\n",
       "<style scoped>\n",
       "    .dataframe tbody tr th:only-of-type {\n",
       "        vertical-align: middle;\n",
       "    }\n",
       "\n",
       "    .dataframe tbody tr th {\n",
       "        vertical-align: top;\n",
       "    }\n",
       "\n",
       "    .dataframe thead th {\n",
       "        text-align: right;\n",
       "    }\n",
       "</style>\n",
       "<table border=\"1\" class=\"dataframe\">\n",
       "  <thead>\n",
       "    <tr style=\"text-align: right;\">\n",
       "      <th></th>\n",
       "      <th>price</th>\n",
       "      <th>vehicle_type</th>\n",
       "      <th>registration_year</th>\n",
       "      <th>gearbox</th>\n",
       "      <th>power</th>\n",
       "      <th>model</th>\n",
       "      <th>kilometer</th>\n",
       "      <th>registration_month</th>\n",
       "      <th>fuel_type</th>\n",
       "      <th>brand</th>\n",
       "      <th>repaired</th>\n",
       "    </tr>\n",
       "  </thead>\n",
       "  <tbody>\n",
       "    <tr>\n",
       "      <th>0</th>\n",
       "      <td>480</td>\n",
       "      <td>other</td>\n",
       "      <td>1993</td>\n",
       "      <td>manual</td>\n",
       "      <td>75.0</td>\n",
       "      <td>golf</td>\n",
       "      <td>150000</td>\n",
       "      <td>0</td>\n",
       "      <td>petrol</td>\n",
       "      <td>volkswagen</td>\n",
       "      <td>unknown</td>\n",
       "    </tr>\n",
       "    <tr>\n",
       "      <th>1</th>\n",
       "      <td>18300</td>\n",
       "      <td>coupe</td>\n",
       "      <td>2011</td>\n",
       "      <td>manual</td>\n",
       "      <td>190.0</td>\n",
       "      <td>other</td>\n",
       "      <td>125000</td>\n",
       "      <td>5</td>\n",
       "      <td>gasoline</td>\n",
       "      <td>audi</td>\n",
       "      <td>yes</td>\n",
       "    </tr>\n",
       "    <tr>\n",
       "      <th>2</th>\n",
       "      <td>9800</td>\n",
       "      <td>suv</td>\n",
       "      <td>2004</td>\n",
       "      <td>auto</td>\n",
       "      <td>163.0</td>\n",
       "      <td>grand</td>\n",
       "      <td>125000</td>\n",
       "      <td>8</td>\n",
       "      <td>gasoline</td>\n",
       "      <td>jeep</td>\n",
       "      <td>unknown</td>\n",
       "    </tr>\n",
       "    <tr>\n",
       "      <th>3</th>\n",
       "      <td>1500</td>\n",
       "      <td>small</td>\n",
       "      <td>2001</td>\n",
       "      <td>manual</td>\n",
       "      <td>75.0</td>\n",
       "      <td>golf</td>\n",
       "      <td>150000</td>\n",
       "      <td>6</td>\n",
       "      <td>petrol</td>\n",
       "      <td>volkswagen</td>\n",
       "      <td>no</td>\n",
       "    </tr>\n",
       "    <tr>\n",
       "      <th>4</th>\n",
       "      <td>3600</td>\n",
       "      <td>small</td>\n",
       "      <td>2008</td>\n",
       "      <td>manual</td>\n",
       "      <td>69.0</td>\n",
       "      <td>fabia</td>\n",
       "      <td>90000</td>\n",
       "      <td>7</td>\n",
       "      <td>gasoline</td>\n",
       "      <td>skoda</td>\n",
       "      <td>no</td>\n",
       "    </tr>\n",
       "  </tbody>\n",
       "</table>\n",
       "</div>"
      ],
      "text/plain": [
       "   price vehicle_type  registration_year gearbox  power  model  kilometer  \\\n",
       "0    480        other               1993  manual   75.0   golf     150000   \n",
       "1  18300        coupe               2011  manual  190.0  other     125000   \n",
       "2   9800          suv               2004    auto  163.0  grand     125000   \n",
       "3   1500        small               2001  manual   75.0   golf     150000   \n",
       "4   3600        small               2008  manual   69.0  fabia      90000   \n",
       "\n",
       "   registration_month fuel_type       brand repaired  \n",
       "0                   0    petrol  volkswagen  unknown  \n",
       "1                   5  gasoline        audi      yes  \n",
       "2                   8  gasoline        jeep  unknown  \n",
       "3                   6    petrol  volkswagen       no  \n",
       "4                   7  gasoline       skoda       no  "
      ]
     },
     "execution_count": 33,
     "metadata": {},
     "output_type": "execute_result"
    }
   ],
   "source": [
    "data.head()"
   ]
  },
  {
   "cell_type": "code",
   "execution_count": 34,
   "metadata": {
    "colab": {
     "base_uri": "https://localhost:8080/"
    },
    "id": "GG-DCZXXxRTQ",
    "outputId": "38323795-4a66-4247-b857-bad93e89e7e8",
    "scrolled": true
   },
   "outputs": [
    {
     "data": {
      "text/plain": [
       "price                 0\n",
       "vehicle_type          0\n",
       "registration_year     0\n",
       "gearbox               0\n",
       "power                 0\n",
       "model                 0\n",
       "kilometer             0\n",
       "registration_month    0\n",
       "fuel_type             0\n",
       "brand                 0\n",
       "repaired              0\n",
       "dtype: int64"
      ]
     },
     "execution_count": 34,
     "metadata": {},
     "output_type": "execute_result"
    }
   ],
   "source": [
    "data.isna().sum()"
   ]
  },
  {
   "cell_type": "markdown",
   "metadata": {
    "id": "Ve1Nw3Q9qq6U"
   },
   "source": [
    "# Вывод:  \n",
    "1. Т.к. в столбцах `vehicle_type`, `model` и `fuel_type` присутствует категория other, то к ней мы отнесем и пропуски в данных столбцах. А пропуски в `gearbox` и `not_repaired` заполнили значение unknown. Образование пропусков как и значения 0 в столбце `registration_month` вероятней всего связаны незаполнением данных граф в анкете при регистрации объявления.  \n",
    "2. Минимальная мощность автомобиля состаляет 4.2 л.с., а максимально возможная 1500 л.с. Следовательно в столбце `power` значения, которые менее 4.2 л.с. (40308 шт.) заполним медианным значением, сгруппированным по марке, модели и году регистрации (в разные года у одних и тех же моделей может меняться двигатель). После этого избавимся от выбросов, которые мегьше 4.2 и больше 1500.  \n",
    "3. Год создания первого серийного автомобиля 1885, а максимальная дата размещения объявления 07.04.2016г. Соответственно все значения которые меньше 1885 и больше или равно 2016 в столбце `registration_year`, чтобы не исказить результаты дальгейшего исследования. Тоже самое сделаем и с нулевыми значениями в столбце `price`  \n",
    "4. Столбцы `date_crawled`, `last_seen`, `number_of_pictures` и `date_created` не несут како-либо важной информации поэтому избавились от них."
   ]
  },
  {
   "cell_type": "markdown",
   "metadata": {
    "id": "DjqLUD5iSjt_"
   },
   "source": [
    "## Подготовка"
   ]
  },
  {
   "cell_type": "code",
   "execution_count": 35,
   "metadata": {
    "id": "BNL-tjAcO5xZ"
   },
   "outputs": [],
   "source": [
    "data_1 = data.copy()"
   ]
  },
  {
   "cell_type": "code",
   "execution_count": 36,
   "metadata": {
    "id": "ZjUX6-tOS4Aw"
   },
   "outputs": [],
   "source": [
    "category = list(data_1.select_dtypes(include = 'object'))\n",
    "numeric = list(data_1.select_dtypes( exclude = 'object'))\n",
    "numeric.remove('price')"
   ]
  },
  {
   "cell_type": "markdown",
   "metadata": {
    "id": "ovfZ4VMQd8gX"
   },
   "source": [
    "### OrdinalEncoder"
   ]
  },
  {
   "cell_type": "code",
   "execution_count": 37,
   "metadata": {
    "id": "l8tudRZgUTg9"
   },
   "outputs": [],
   "source": [
    "encoder = OrdinalEncoder()"
   ]
  },
  {
   "cell_type": "code",
   "execution_count": 38,
   "metadata": {
    "id": "bqFBbXVNUzBC"
   },
   "outputs": [],
   "source": [
    "data_ord = pd.DataFrame(encoder.fit_transform(data_1[category]), columns = data_1[category].columns)"
   ]
  },
  {
   "cell_type": "code",
   "execution_count": 39,
   "metadata": {
    "colab": {
     "base_uri": "https://localhost:8080/",
     "height": 424
    },
    "id": "3yivFw0bVSWd",
    "outputId": "d31b5b29-151f-4776-b615-6a60abb5a949"
   },
   "outputs": [
    {
     "data": {
      "text/html": [
       "<div>\n",
       "<style scoped>\n",
       "    .dataframe tbody tr th:only-of-type {\n",
       "        vertical-align: middle;\n",
       "    }\n",
       "\n",
       "    .dataframe tbody tr th {\n",
       "        vertical-align: top;\n",
       "    }\n",
       "\n",
       "    .dataframe thead th {\n",
       "        text-align: right;\n",
       "    }\n",
       "</style>\n",
       "<table border=\"1\" class=\"dataframe\">\n",
       "  <thead>\n",
       "    <tr style=\"text-align: right;\">\n",
       "      <th></th>\n",
       "      <th>vehicle_type</th>\n",
       "      <th>gearbox</th>\n",
       "      <th>model</th>\n",
       "      <th>fuel_type</th>\n",
       "      <th>brand</th>\n",
       "      <th>repaired</th>\n",
       "    </tr>\n",
       "  </thead>\n",
       "  <tbody>\n",
       "    <tr>\n",
       "      <th>0</th>\n",
       "      <td>3.0</td>\n",
       "      <td>1.0</td>\n",
       "      <td>116.0</td>\n",
       "      <td>6.0</td>\n",
       "      <td>38.0</td>\n",
       "      <td>1.0</td>\n",
       "    </tr>\n",
       "    <tr>\n",
       "      <th>1</th>\n",
       "      <td>2.0</td>\n",
       "      <td>1.0</td>\n",
       "      <td>166.0</td>\n",
       "      <td>2.0</td>\n",
       "      <td>1.0</td>\n",
       "      <td>2.0</td>\n",
       "    </tr>\n",
       "    <tr>\n",
       "      <th>2</th>\n",
       "      <td>6.0</td>\n",
       "      <td>0.0</td>\n",
       "      <td>117.0</td>\n",
       "      <td>2.0</td>\n",
       "      <td>14.0</td>\n",
       "      <td>1.0</td>\n",
       "    </tr>\n",
       "    <tr>\n",
       "      <th>3</th>\n",
       "      <td>5.0</td>\n",
       "      <td>1.0</td>\n",
       "      <td>116.0</td>\n",
       "      <td>6.0</td>\n",
       "      <td>38.0</td>\n",
       "      <td>0.0</td>\n",
       "    </tr>\n",
       "    <tr>\n",
       "      <th>4</th>\n",
       "      <td>5.0</td>\n",
       "      <td>1.0</td>\n",
       "      <td>101.0</td>\n",
       "      <td>2.0</td>\n",
       "      <td>31.0</td>\n",
       "      <td>0.0</td>\n",
       "    </tr>\n",
       "    <tr>\n",
       "      <th>...</th>\n",
       "      <td>...</td>\n",
       "      <td>...</td>\n",
       "      <td>...</td>\n",
       "      <td>...</td>\n",
       "      <td>...</td>\n",
       "      <td>...</td>\n",
       "    </tr>\n",
       "    <tr>\n",
       "      <th>327555</th>\n",
       "      <td>4.0</td>\n",
       "      <td>1.0</td>\n",
       "      <td>140.0</td>\n",
       "      <td>6.0</td>\n",
       "      <td>30.0</td>\n",
       "      <td>2.0</td>\n",
       "    </tr>\n",
       "    <tr>\n",
       "      <th>327556</th>\n",
       "      <td>0.0</td>\n",
       "      <td>1.0</td>\n",
       "      <td>248.0</td>\n",
       "      <td>6.0</td>\n",
       "      <td>24.0</td>\n",
       "      <td>0.0</td>\n",
       "    </tr>\n",
       "    <tr>\n",
       "      <th>327557</th>\n",
       "      <td>1.0</td>\n",
       "      <td>0.0</td>\n",
       "      <td>106.0</td>\n",
       "      <td>6.0</td>\n",
       "      <td>32.0</td>\n",
       "      <td>0.0</td>\n",
       "    </tr>\n",
       "    <tr>\n",
       "      <th>327558</th>\n",
       "      <td>0.0</td>\n",
       "      <td>1.0</td>\n",
       "      <td>223.0</td>\n",
       "      <td>2.0</td>\n",
       "      <td>38.0</td>\n",
       "      <td>0.0</td>\n",
       "    </tr>\n",
       "    <tr>\n",
       "      <th>327559</th>\n",
       "      <td>7.0</td>\n",
       "      <td>1.0</td>\n",
       "      <td>116.0</td>\n",
       "      <td>2.0</td>\n",
       "      <td>38.0</td>\n",
       "      <td>1.0</td>\n",
       "    </tr>\n",
       "  </tbody>\n",
       "</table>\n",
       "<p>327560 rows × 6 columns</p>\n",
       "</div>"
      ],
      "text/plain": [
       "        vehicle_type  gearbox  model  fuel_type  brand  repaired\n",
       "0                3.0      1.0  116.0        6.0   38.0       1.0\n",
       "1                2.0      1.0  166.0        2.0    1.0       2.0\n",
       "2                6.0      0.0  117.0        2.0   14.0       1.0\n",
       "3                5.0      1.0  116.0        6.0   38.0       0.0\n",
       "4                5.0      1.0  101.0        2.0   31.0       0.0\n",
       "...              ...      ...    ...        ...    ...       ...\n",
       "327555           4.0      1.0  140.0        6.0   30.0       2.0\n",
       "327556           0.0      1.0  248.0        6.0   24.0       0.0\n",
       "327557           1.0      0.0  106.0        6.0   32.0       0.0\n",
       "327558           0.0      1.0  223.0        2.0   38.0       0.0\n",
       "327559           7.0      1.0  116.0        2.0   38.0       1.0\n",
       "\n",
       "[327560 rows x 6 columns]"
      ]
     },
     "execution_count": 39,
     "metadata": {},
     "output_type": "execute_result"
    }
   ],
   "source": [
    "data_ord"
   ]
  },
  {
   "cell_type": "code",
   "execution_count": 40,
   "metadata": {
    "id": "MT00xhfjWzT4"
   },
   "outputs": [],
   "source": [
    "df_ord = data_1.drop(columns = category, axis=1).join(data_ord)"
   ]
  },
  {
   "cell_type": "code",
   "execution_count": 41,
   "metadata": {
    "colab": {
     "base_uri": "https://localhost:8080/"
    },
    "id": "83JV3rpqZB5K",
    "outputId": "88ffd6ab-9f3d-4401-fbba-8585b68da604"
   },
   "outputs": [
    {
     "name": "stdout",
     "output_type": "stream",
     "text": [
      "<class 'pandas.core.frame.DataFrame'>\n",
      "RangeIndex: 327560 entries, 0 to 327559\n",
      "Data columns (total 11 columns):\n",
      " #   Column              Non-Null Count   Dtype  \n",
      "---  ------              --------------   -----  \n",
      " 0   price               327560 non-null  int64  \n",
      " 1   registration_year   327560 non-null  int64  \n",
      " 2   power               327560 non-null  float64\n",
      " 3   kilometer           327560 non-null  int64  \n",
      " 4   registration_month  327560 non-null  int64  \n",
      " 5   vehicle_type        327560 non-null  float64\n",
      " 6   gearbox             327560 non-null  float64\n",
      " 7   model               327560 non-null  float64\n",
      " 8   fuel_type           327560 non-null  float64\n",
      " 9   brand               327560 non-null  float64\n",
      " 10  repaired            327560 non-null  float64\n",
      "dtypes: float64(7), int64(4)\n",
      "memory usage: 27.5 MB\n"
     ]
    }
   ],
   "source": [
    "df_ord.info()"
   ]
  },
  {
   "cell_type": "code",
   "execution_count": 42,
   "metadata": {
    "colab": {
     "base_uri": "https://localhost:8080/",
     "height": 206
    },
    "id": "5iXHV8ZQdiGG",
    "outputId": "a9acd5be-b0fd-4d64-d2db-fe66ffcf480f"
   },
   "outputs": [
    {
     "data": {
      "text/html": [
       "<div>\n",
       "<style scoped>\n",
       "    .dataframe tbody tr th:only-of-type {\n",
       "        vertical-align: middle;\n",
       "    }\n",
       "\n",
       "    .dataframe tbody tr th {\n",
       "        vertical-align: top;\n",
       "    }\n",
       "\n",
       "    .dataframe thead th {\n",
       "        text-align: right;\n",
       "    }\n",
       "</style>\n",
       "<table border=\"1\" class=\"dataframe\">\n",
       "  <thead>\n",
       "    <tr style=\"text-align: right;\">\n",
       "      <th></th>\n",
       "      <th>price</th>\n",
       "      <th>registration_year</th>\n",
       "      <th>power</th>\n",
       "      <th>kilometer</th>\n",
       "      <th>registration_month</th>\n",
       "      <th>vehicle_type</th>\n",
       "      <th>gearbox</th>\n",
       "      <th>model</th>\n",
       "      <th>fuel_type</th>\n",
       "      <th>brand</th>\n",
       "      <th>repaired</th>\n",
       "    </tr>\n",
       "  </thead>\n",
       "  <tbody>\n",
       "    <tr>\n",
       "      <th>0</th>\n",
       "      <td>480</td>\n",
       "      <td>1993</td>\n",
       "      <td>75.0</td>\n",
       "      <td>150000</td>\n",
       "      <td>0</td>\n",
       "      <td>3.0</td>\n",
       "      <td>1.0</td>\n",
       "      <td>116.0</td>\n",
       "      <td>6.0</td>\n",
       "      <td>38.0</td>\n",
       "      <td>1.0</td>\n",
       "    </tr>\n",
       "    <tr>\n",
       "      <th>1</th>\n",
       "      <td>18300</td>\n",
       "      <td>2011</td>\n",
       "      <td>190.0</td>\n",
       "      <td>125000</td>\n",
       "      <td>5</td>\n",
       "      <td>2.0</td>\n",
       "      <td>1.0</td>\n",
       "      <td>166.0</td>\n",
       "      <td>2.0</td>\n",
       "      <td>1.0</td>\n",
       "      <td>2.0</td>\n",
       "    </tr>\n",
       "    <tr>\n",
       "      <th>2</th>\n",
       "      <td>9800</td>\n",
       "      <td>2004</td>\n",
       "      <td>163.0</td>\n",
       "      <td>125000</td>\n",
       "      <td>8</td>\n",
       "      <td>6.0</td>\n",
       "      <td>0.0</td>\n",
       "      <td>117.0</td>\n",
       "      <td>2.0</td>\n",
       "      <td>14.0</td>\n",
       "      <td>1.0</td>\n",
       "    </tr>\n",
       "    <tr>\n",
       "      <th>3</th>\n",
       "      <td>1500</td>\n",
       "      <td>2001</td>\n",
       "      <td>75.0</td>\n",
       "      <td>150000</td>\n",
       "      <td>6</td>\n",
       "      <td>5.0</td>\n",
       "      <td>1.0</td>\n",
       "      <td>116.0</td>\n",
       "      <td>6.0</td>\n",
       "      <td>38.0</td>\n",
       "      <td>0.0</td>\n",
       "    </tr>\n",
       "    <tr>\n",
       "      <th>4</th>\n",
       "      <td>3600</td>\n",
       "      <td>2008</td>\n",
       "      <td>69.0</td>\n",
       "      <td>90000</td>\n",
       "      <td>7</td>\n",
       "      <td>5.0</td>\n",
       "      <td>1.0</td>\n",
       "      <td>101.0</td>\n",
       "      <td>2.0</td>\n",
       "      <td>31.0</td>\n",
       "      <td>0.0</td>\n",
       "    </tr>\n",
       "  </tbody>\n",
       "</table>\n",
       "</div>"
      ],
      "text/plain": [
       "   price  registration_year  power  kilometer  registration_month  \\\n",
       "0    480               1993   75.0     150000                   0   \n",
       "1  18300               2011  190.0     125000                   5   \n",
       "2   9800               2004  163.0     125000                   8   \n",
       "3   1500               2001   75.0     150000                   6   \n",
       "4   3600               2008   69.0      90000                   7   \n",
       "\n",
       "   vehicle_type  gearbox  model  fuel_type  brand  repaired  \n",
       "0           3.0      1.0  116.0        6.0   38.0       1.0  \n",
       "1           2.0      1.0  166.0        2.0    1.0       2.0  \n",
       "2           6.0      0.0  117.0        2.0   14.0       1.0  \n",
       "3           5.0      1.0  116.0        6.0   38.0       0.0  \n",
       "4           5.0      1.0  101.0        2.0   31.0       0.0  "
      ]
     },
     "execution_count": 42,
     "metadata": {},
     "output_type": "execute_result"
    }
   ],
   "source": [
    "df_ord.head()"
   ]
  },
  {
   "cell_type": "code",
   "execution_count": 43,
   "metadata": {
    "colab": {
     "base_uri": "https://localhost:8080/"
    },
    "id": "RG1Muq8vZFZW",
    "outputId": "f9d1506a-2659-4400-f051-646a2585c81d"
   },
   "outputs": [
    {
     "data": {
      "text/plain": [
       "0"
      ]
     },
     "execution_count": 43,
     "metadata": {},
     "output_type": "execute_result"
    }
   ],
   "source": [
    "data.shape[0]-df_ord.shape[0]"
   ]
  },
  {
   "cell_type": "code",
   "execution_count": 44,
   "metadata": {
    "id": "grqbPJ4VZu2F"
   },
   "outputs": [],
   "source": [
    "features_train, features_test, target_train, target_test = train_test_split(df_ord.drop('price', axis=1), df_ord.price, test_size=0.25, random_state=42)"
   ]
  },
  {
   "cell_type": "code",
   "execution_count": 45,
   "metadata": {
    "colab": {
     "base_uri": "https://localhost:8080/"
    },
    "id": "bVAslDJufL8l",
    "outputId": "f777922c-d230-4957-9870-70e883caaf94"
   },
   "outputs": [
    {
     "name": "stdout",
     "output_type": "stream",
     "text": [
      "(245670, 10)\n",
      "(245670,)\n",
      "(81890, 10)\n",
      "(81890,)\n"
     ]
    }
   ],
   "source": [
    "print(features_train.shape)\n",
    "print(target_train.shape)\n",
    "print(features_test.shape)\n",
    "print(target_test.shape)"
   ]
  },
  {
   "cell_type": "code",
   "execution_count": 46,
   "metadata": {
    "id": "3eqL7ZGzfPcK"
   },
   "outputs": [],
   "source": [
    "scaler = StandardScaler()\n",
    "scaler.fit(features_train[numeric])\n",
    "features_train[numeric] = scaler.transform(features_train[numeric])\n",
    "features_test[numeric] = scaler.transform(features_test[numeric])"
   ]
  },
  {
   "cell_type": "code",
   "execution_count": 47,
   "metadata": {
    "colab": {
     "base_uri": "https://localhost:8080/",
     "height": 206
    },
    "id": "Xg14v38wge6A",
    "outputId": "2f29bdeb-7997-4477-fd08-8d3a102463e9"
   },
   "outputs": [
    {
     "data": {
      "text/html": [
       "<div>\n",
       "<style scoped>\n",
       "    .dataframe tbody tr th:only-of-type {\n",
       "        vertical-align: middle;\n",
       "    }\n",
       "\n",
       "    .dataframe tbody tr th {\n",
       "        vertical-align: top;\n",
       "    }\n",
       "\n",
       "    .dataframe thead th {\n",
       "        text-align: right;\n",
       "    }\n",
       "</style>\n",
       "<table border=\"1\" class=\"dataframe\">\n",
       "  <thead>\n",
       "    <tr style=\"text-align: right;\">\n",
       "      <th></th>\n",
       "      <th>registration_year</th>\n",
       "      <th>power</th>\n",
       "      <th>kilometer</th>\n",
       "      <th>registration_month</th>\n",
       "      <th>vehicle_type</th>\n",
       "      <th>gearbox</th>\n",
       "      <th>model</th>\n",
       "      <th>fuel_type</th>\n",
       "      <th>brand</th>\n",
       "      <th>repaired</th>\n",
       "    </tr>\n",
       "  </thead>\n",
       "  <tbody>\n",
       "    <tr>\n",
       "      <th>48904</th>\n",
       "      <td>0.802488</td>\n",
       "      <td>0.722295</td>\n",
       "      <td>-1.299425</td>\n",
       "      <td>1.677363</td>\n",
       "      <td>7.0</td>\n",
       "      <td>0.0</td>\n",
       "      <td>28.0</td>\n",
       "      <td>6.0</td>\n",
       "      <td>1.0</td>\n",
       "      <td>0.0</td>\n",
       "    </tr>\n",
       "    <tr>\n",
       "      <th>36756</th>\n",
       "      <td>-1.009253</td>\n",
       "      <td>-0.367384</td>\n",
       "      <td>0.580184</td>\n",
       "      <td>0.314458</td>\n",
       "      <td>7.0</td>\n",
       "      <td>1.0</td>\n",
       "      <td>166.0</td>\n",
       "      <td>6.0</td>\n",
       "      <td>35.0</td>\n",
       "      <td>0.0</td>\n",
       "    </tr>\n",
       "    <tr>\n",
       "      <th>307688</th>\n",
       "      <td>0.500532</td>\n",
       "      <td>0.898049</td>\n",
       "      <td>0.580184</td>\n",
       "      <td>1.677363</td>\n",
       "      <td>0.0</td>\n",
       "      <td>1.0</td>\n",
       "      <td>36.0</td>\n",
       "      <td>2.0</td>\n",
       "      <td>30.0</td>\n",
       "      <td>1.0</td>\n",
       "    </tr>\n",
       "    <tr>\n",
       "      <th>30625</th>\n",
       "      <td>0.651510</td>\n",
       "      <td>0.177455</td>\n",
       "      <td>-0.091105</td>\n",
       "      <td>-0.503285</td>\n",
       "      <td>4.0</td>\n",
       "      <td>0.0</td>\n",
       "      <td>44.0</td>\n",
       "      <td>6.0</td>\n",
       "      <td>36.0</td>\n",
       "      <td>0.0</td>\n",
       "    </tr>\n",
       "    <tr>\n",
       "      <th>98798</th>\n",
       "      <td>-0.103382</td>\n",
       "      <td>0.036852</td>\n",
       "      <td>0.580184</td>\n",
       "      <td>-1.593609</td>\n",
       "      <td>7.0</td>\n",
       "      <td>1.0</td>\n",
       "      <td>17.0</td>\n",
       "      <td>6.0</td>\n",
       "      <td>19.0</td>\n",
       "      <td>1.0</td>\n",
       "    </tr>\n",
       "  </tbody>\n",
       "</table>\n",
       "</div>"
      ],
      "text/plain": [
       "        registration_year     power  kilometer  registration_month  \\\n",
       "48904            0.802488  0.722295  -1.299425            1.677363   \n",
       "36756           -1.009253 -0.367384   0.580184            0.314458   \n",
       "307688           0.500532  0.898049   0.580184            1.677363   \n",
       "30625            0.651510  0.177455  -0.091105           -0.503285   \n",
       "98798           -0.103382  0.036852   0.580184           -1.593609   \n",
       "\n",
       "        vehicle_type  gearbox  model  fuel_type  brand  repaired  \n",
       "48904            7.0      0.0   28.0        6.0    1.0       0.0  \n",
       "36756            7.0      1.0  166.0        6.0   35.0       0.0  \n",
       "307688           0.0      1.0   36.0        2.0   30.0       1.0  \n",
       "30625            4.0      0.0   44.0        6.0   36.0       0.0  \n",
       "98798            7.0      1.0   17.0        6.0   19.0       1.0  "
      ]
     },
     "execution_count": 47,
     "metadata": {},
     "output_type": "execute_result"
    }
   ],
   "source": [
    "features_train.head()"
   ]
  },
  {
   "cell_type": "markdown",
   "metadata": {
    "id": "-HDVDWgweFCD"
   },
   "source": [
    "### OHE"
   ]
  },
  {
   "cell_type": "code",
   "execution_count": 48,
   "metadata": {
    "id": "zi_t7zlAeJoE"
   },
   "outputs": [],
   "source": [
    "data_2 = data.copy()"
   ]
  },
  {
   "cell_type": "code",
   "execution_count": 49,
   "metadata": {
    "colab": {
     "base_uri": "https://localhost:8080/",
     "height": 300
    },
    "id": "zvDC1hB8vPQl",
    "outputId": "bc4942aa-f86c-466d-a28f-2ff2b5e7c319"
   },
   "outputs": [
    {
     "data": {
      "text/html": [
       "<div>\n",
       "<style scoped>\n",
       "    .dataframe tbody tr th:only-of-type {\n",
       "        vertical-align: middle;\n",
       "    }\n",
       "\n",
       "    .dataframe tbody tr th {\n",
       "        vertical-align: top;\n",
       "    }\n",
       "\n",
       "    .dataframe thead th {\n",
       "        text-align: right;\n",
       "    }\n",
       "</style>\n",
       "<table border=\"1\" class=\"dataframe\">\n",
       "  <thead>\n",
       "    <tr style=\"text-align: right;\">\n",
       "      <th></th>\n",
       "      <th>price</th>\n",
       "      <th>registration_year</th>\n",
       "      <th>power</th>\n",
       "      <th>kilometer</th>\n",
       "      <th>registration_month</th>\n",
       "      <th>vehicle_type_convertible</th>\n",
       "      <th>vehicle_type_coupe</th>\n",
       "      <th>vehicle_type_other</th>\n",
       "      <th>vehicle_type_sedan</th>\n",
       "      <th>vehicle_type_small</th>\n",
       "      <th>...</th>\n",
       "      <th>brand_smart</th>\n",
       "      <th>brand_sonstige_autos</th>\n",
       "      <th>brand_subaru</th>\n",
       "      <th>brand_suzuki</th>\n",
       "      <th>brand_toyota</th>\n",
       "      <th>brand_trabant</th>\n",
       "      <th>brand_volkswagen</th>\n",
       "      <th>brand_volvo</th>\n",
       "      <th>repaired_unknown</th>\n",
       "      <th>repaired_yes</th>\n",
       "    </tr>\n",
       "  </thead>\n",
       "  <tbody>\n",
       "    <tr>\n",
       "      <th>0</th>\n",
       "      <td>480</td>\n",
       "      <td>1993</td>\n",
       "      <td>75.0</td>\n",
       "      <td>150000</td>\n",
       "      <td>0</td>\n",
       "      <td>0</td>\n",
       "      <td>0</td>\n",
       "      <td>1</td>\n",
       "      <td>0</td>\n",
       "      <td>0</td>\n",
       "      <td>...</td>\n",
       "      <td>0</td>\n",
       "      <td>0</td>\n",
       "      <td>0</td>\n",
       "      <td>0</td>\n",
       "      <td>0</td>\n",
       "      <td>0</td>\n",
       "      <td>1</td>\n",
       "      <td>0</td>\n",
       "      <td>1</td>\n",
       "      <td>0</td>\n",
       "    </tr>\n",
       "    <tr>\n",
       "      <th>1</th>\n",
       "      <td>18300</td>\n",
       "      <td>2011</td>\n",
       "      <td>190.0</td>\n",
       "      <td>125000</td>\n",
       "      <td>5</td>\n",
       "      <td>0</td>\n",
       "      <td>1</td>\n",
       "      <td>0</td>\n",
       "      <td>0</td>\n",
       "      <td>0</td>\n",
       "      <td>...</td>\n",
       "      <td>0</td>\n",
       "      <td>0</td>\n",
       "      <td>0</td>\n",
       "      <td>0</td>\n",
       "      <td>0</td>\n",
       "      <td>0</td>\n",
       "      <td>0</td>\n",
       "      <td>0</td>\n",
       "      <td>0</td>\n",
       "      <td>1</td>\n",
       "    </tr>\n",
       "    <tr>\n",
       "      <th>2</th>\n",
       "      <td>9800</td>\n",
       "      <td>2004</td>\n",
       "      <td>163.0</td>\n",
       "      <td>125000</td>\n",
       "      <td>8</td>\n",
       "      <td>0</td>\n",
       "      <td>0</td>\n",
       "      <td>0</td>\n",
       "      <td>0</td>\n",
       "      <td>0</td>\n",
       "      <td>...</td>\n",
       "      <td>0</td>\n",
       "      <td>0</td>\n",
       "      <td>0</td>\n",
       "      <td>0</td>\n",
       "      <td>0</td>\n",
       "      <td>0</td>\n",
       "      <td>0</td>\n",
       "      <td>0</td>\n",
       "      <td>1</td>\n",
       "      <td>0</td>\n",
       "    </tr>\n",
       "    <tr>\n",
       "      <th>3</th>\n",
       "      <td>1500</td>\n",
       "      <td>2001</td>\n",
       "      <td>75.0</td>\n",
       "      <td>150000</td>\n",
       "      <td>6</td>\n",
       "      <td>0</td>\n",
       "      <td>0</td>\n",
       "      <td>0</td>\n",
       "      <td>0</td>\n",
       "      <td>1</td>\n",
       "      <td>...</td>\n",
       "      <td>0</td>\n",
       "      <td>0</td>\n",
       "      <td>0</td>\n",
       "      <td>0</td>\n",
       "      <td>0</td>\n",
       "      <td>0</td>\n",
       "      <td>1</td>\n",
       "      <td>0</td>\n",
       "      <td>0</td>\n",
       "      <td>0</td>\n",
       "    </tr>\n",
       "    <tr>\n",
       "      <th>4</th>\n",
       "      <td>3600</td>\n",
       "      <td>2008</td>\n",
       "      <td>69.0</td>\n",
       "      <td>90000</td>\n",
       "      <td>7</td>\n",
       "      <td>0</td>\n",
       "      <td>0</td>\n",
       "      <td>0</td>\n",
       "      <td>0</td>\n",
       "      <td>1</td>\n",
       "      <td>...</td>\n",
       "      <td>0</td>\n",
       "      <td>0</td>\n",
       "      <td>0</td>\n",
       "      <td>0</td>\n",
       "      <td>0</td>\n",
       "      <td>0</td>\n",
       "      <td>0</td>\n",
       "      <td>0</td>\n",
       "      <td>0</td>\n",
       "      <td>0</td>\n",
       "    </tr>\n",
       "  </tbody>\n",
       "</table>\n",
       "<p>5 rows × 309 columns</p>\n",
       "</div>"
      ],
      "text/plain": [
       "   price  registration_year  power  kilometer  registration_month  \\\n",
       "0    480               1993   75.0     150000                   0   \n",
       "1  18300               2011  190.0     125000                   5   \n",
       "2   9800               2004  163.0     125000                   8   \n",
       "3   1500               2001   75.0     150000                   6   \n",
       "4   3600               2008   69.0      90000                   7   \n",
       "\n",
       "   vehicle_type_convertible  vehicle_type_coupe  vehicle_type_other  \\\n",
       "0                         0                   0                   1   \n",
       "1                         0                   1                   0   \n",
       "2                         0                   0                   0   \n",
       "3                         0                   0                   0   \n",
       "4                         0                   0                   0   \n",
       "\n",
       "   vehicle_type_sedan  vehicle_type_small  ...  brand_smart  \\\n",
       "0                   0                   0  ...            0   \n",
       "1                   0                   0  ...            0   \n",
       "2                   0                   0  ...            0   \n",
       "3                   0                   1  ...            0   \n",
       "4                   0                   1  ...            0   \n",
       "\n",
       "   brand_sonstige_autos  brand_subaru  brand_suzuki  brand_toyota  \\\n",
       "0                     0             0             0             0   \n",
       "1                     0             0             0             0   \n",
       "2                     0             0             0             0   \n",
       "3                     0             0             0             0   \n",
       "4                     0             0             0             0   \n",
       "\n",
       "   brand_trabant  brand_volkswagen  brand_volvo  repaired_unknown  \\\n",
       "0              0                 1            0                 1   \n",
       "1              0                 0            0                 0   \n",
       "2              0                 0            0                 1   \n",
       "3              0                 1            0                 0   \n",
       "4              0                 0            0                 0   \n",
       "\n",
       "   repaired_yes  \n",
       "0             0  \n",
       "1             1  \n",
       "2             0  \n",
       "3             0  \n",
       "4             0  \n",
       "\n",
       "[5 rows x 309 columns]"
      ]
     },
     "execution_count": 49,
     "metadata": {},
     "output_type": "execute_result"
    }
   ],
   "source": [
    "data_ohe = pd.get_dummies(data_2, drop_first=True)\n",
    "data_ohe.head()"
   ]
  },
  {
   "cell_type": "code",
   "execution_count": 50,
   "metadata": {
    "colab": {
     "base_uri": "https://localhost:8080/"
    },
    "id": "EtRuEzTBxAJm",
    "outputId": "270ade30-9cf4-49f1-9313-b63a64645348"
   },
   "outputs": [
    {
     "name": "stdout",
     "output_type": "stream",
     "text": [
      "<class 'pandas.core.frame.DataFrame'>\n",
      "RangeIndex: 327560 entries, 0 to 327559\n",
      "Columns: 309 entries, price to repaired_yes\n",
      "dtypes: float64(1), int64(4), uint8(304)\n",
      "memory usage: 107.5 MB\n"
     ]
    }
   ],
   "source": [
    "data_ohe.info()"
   ]
  },
  {
   "cell_type": "code",
   "execution_count": 51,
   "metadata": {
    "colab": {
     "base_uri": "https://localhost:8080/"
    },
    "id": "ytsN9g2kzxpc",
    "outputId": "3a799c21-4b09-4b82-b5ff-886f5d0170d5"
   },
   "outputs": [
    {
     "name": "stdout",
     "output_type": "stream",
     "text": [
      "<class 'pandas.core.frame.DataFrame'>\n",
      "RangeIndex: 327560 entries, 0 to 327559\n",
      "Data columns (total 11 columns):\n",
      " #   Column              Non-Null Count   Dtype  \n",
      "---  ------              --------------   -----  \n",
      " 0   price               327560 non-null  int64  \n",
      " 1   vehicle_type        327560 non-null  object \n",
      " 2   registration_year   327560 non-null  int64  \n",
      " 3   gearbox             327560 non-null  object \n",
      " 4   power               327560 non-null  float64\n",
      " 5   model               327560 non-null  object \n",
      " 6   kilometer           327560 non-null  int64  \n",
      " 7   registration_month  327560 non-null  int64  \n",
      " 8   fuel_type           327560 non-null  object \n",
      " 9   brand               327560 non-null  object \n",
      " 10  repaired            327560 non-null  object \n",
      "dtypes: float64(1), int64(4), object(6)\n",
      "memory usage: 27.5+ MB\n"
     ]
    }
   ],
   "source": [
    "data_2.info()"
   ]
  },
  {
   "cell_type": "code",
   "execution_count": 52,
   "metadata": {
    "id": "QXYel9NV0YAr"
   },
   "outputs": [],
   "source": [
    "features_train_ohe, features_test_ohe, target_train_ohe, target_test_ohe = train_test_split(data_ohe.drop('price', axis=1),\n",
    "                                                                                            data_ohe.price, \n",
    "                                                                                            test_size=0.25, \n",
    "                                                                                            random_state=42)"
   ]
  },
  {
   "cell_type": "code",
   "execution_count": 53,
   "metadata": {
    "id": "lBWmVDV11zbk"
   },
   "outputs": [],
   "source": [
    "scaler_ohe = StandardScaler()\n",
    "scaler_ohe.fit(features_train_ohe[numeric])\n",
    "features_train_ohe[numeric] = scaler.transform(features_train_ohe[numeric])\n",
    "features_test_ohe[numeric] = scaler.transform(features_test_ohe[numeric])"
   ]
  },
  {
   "cell_type": "code",
   "execution_count": 54,
   "metadata": {
    "id": "niVBVZxMUSH5"
   },
   "outputs": [],
   "source": [
    "def grid(model, params, scoring, features, target):\n",
    "    grid = GridSearchCV(model, params, scoring=scoring, n_jobs=-1).fit(features, target)\n",
    "    return grid.best_params_, grid.best_score_"
   ]
  },
  {
   "cell_type": "code",
   "execution_count": 55,
   "metadata": {
    "id": "b7o-fpw3JnQ9"
   },
   "outputs": [],
   "source": [
    "def random(model, params, scoring, features, target):\n",
    "    random = RandomizedSearchCV(model, params, scoring=scoring, n_jobs=-1).fit(features, target)\n",
    "    return random.best_params_, random.best_score_"
   ]
  },
  {
   "cell_type": "markdown",
   "metadata": {
    "id": "_5NLjiF80cyO"
   },
   "source": [
    "# Вывод:  \n",
    "Подготовили два набора данных: один техникой OrdinalEncoder и второй One Hot Encoder для дальнейшего сравнения."
   ]
  },
  {
   "cell_type": "markdown",
   "metadata": {
    "id": "DFGsN5z3mScb"
   },
   "source": [
    "## Обучение моделей"
   ]
  },
  {
   "cell_type": "markdown",
   "metadata": {
    "id": "Iox_5nxJwohj"
   },
   "source": [
    "### LinearRegression"
   ]
  },
  {
   "cell_type": "markdown",
   "metadata": {
    "id": "RFHHBCJPhgoL"
   },
   "source": [
    "#### LinearRegression OrdinalEncoder"
   ]
  },
  {
   "cell_type": "code",
   "execution_count": 56,
   "metadata": {
    "colab": {
     "base_uri": "https://localhost:8080/"
    },
    "id": "GmIzE3irijBB",
    "outputId": "388fa86c-b887-4845-f071-17d37c7d8dbb"
   },
   "outputs": [
    {
     "name": "stdout",
     "output_type": "stream",
     "text": [
      "Wall time: 162 ms\n"
     ]
    },
    {
     "data": {
      "text/plain": [
       "LinearRegression()"
      ]
     },
     "execution_count": 56,
     "metadata": {},
     "output_type": "execute_result"
    }
   ],
   "source": [
    "%%time\n",
    "model_lr_ord = LinearRegression()\n",
    "model_lr_ord.fit(features_train, target_train)"
   ]
  },
  {
   "cell_type": "code",
   "execution_count": 57,
   "metadata": {
    "colab": {
     "base_uri": "https://localhost:8080/"
    },
    "id": "-HXnAy0FMvS_",
    "outputId": "7e3ccff4-d958-4bee-cd43-ec3ce05bd8d4"
   },
   "outputs": [
    {
     "name": "stdout",
     "output_type": "stream",
     "text": [
      "Wall time: 12 ms\n"
     ]
    }
   ],
   "source": [
    "%%time\n",
    "pred_lr_ord = model_lr_ord.predict(features_train)"
   ]
  },
  {
   "cell_type": "code",
   "execution_count": 58,
   "metadata": {
    "colab": {
     "base_uri": "https://localhost:8080/"
    },
    "id": "Wa-YVAu1M-Ed",
    "outputId": "5b33a7cb-2ff4-440c-f105-3b6352e49992"
   },
   "outputs": [
    {
     "name": "stdout",
     "output_type": "stream",
     "text": [
      "RMSE линейной регресси: 3055.65\n"
     ]
    }
   ],
   "source": [
    "rmse_lr_ord = mean_squared_error(target_train, pred_lr_ord)**0.5\n",
    "print(f'RMSE линейной регресси: {rmse_lr_ord:.2f}')"
   ]
  },
  {
   "cell_type": "markdown",
   "metadata": {
    "id": "dXLpZPo2hz1k"
   },
   "source": [
    "#### CV LinearRegression OrdinalEncoder"
   ]
  },
  {
   "cell_type": "code",
   "execution_count": 59,
   "metadata": {
    "colab": {
     "base_uri": "https://localhost:8080/"
    },
    "id": "j03t0xJNXX68",
    "outputId": "4e227511-6ee4-44d9-f08e-8a1e43b1c5d2"
   },
   "outputs": [
    {
     "name": "stdout",
     "output_type": "stream",
     "text": [
      "RMSE линейной регрессии после кросс-валидации: 3056.19\n",
      "Wall time: 492 ms\n"
     ]
    }
   ],
   "source": [
    "%%time\n",
    "cv_lr_ord = cross_val_score(LinearRegression(),\n",
    "                        features_train,\n",
    "                        target_train,\n",
    "                        scoring='neg_root_mean_squared_error').mean()\n",
    "print(f'RMSE линейной регрессии после кросс-валидации: {cv_lr_ord*-1:.2f}')"
   ]
  },
  {
   "cell_type": "markdown",
   "metadata": {
    "id": "v1vYXsMFw0M5"
   },
   "source": [
    "#### LinearRegression OHE"
   ]
  },
  {
   "cell_type": "code",
   "execution_count": 60,
   "metadata": {
    "colab": {
     "base_uri": "https://localhost:8080/"
    },
    "id": "KaWitUIGMUdJ",
    "outputId": "ba9f71a7-21e7-4aab-dd83-1839a5138658"
   },
   "outputs": [
    {
     "name": "stdout",
     "output_type": "stream",
     "text": [
      "Wall time: 5.33 s\n"
     ]
    }
   ],
   "source": [
    "%%time\n",
    "model_lr_ohe = LinearRegression().fit(features_train_ohe, target_train_ohe)"
   ]
  },
  {
   "cell_type": "code",
   "execution_count": 61,
   "metadata": {
    "colab": {
     "base_uri": "https://localhost:8080/"
    },
    "id": "f1IW1F6HOAdv",
    "outputId": "d7e25d00-cc28-45a7-bc20-b37199b52936"
   },
   "outputs": [
    {
     "name": "stdout",
     "output_type": "stream",
     "text": [
      "Wall time: 511 ms\n"
     ]
    }
   ],
   "source": [
    "%%time\n",
    "pred_lr_ohe = model_lr_ohe.predict(features_train_ohe)"
   ]
  },
  {
   "cell_type": "code",
   "execution_count": 62,
   "metadata": {
    "colab": {
     "base_uri": "https://localhost:8080/"
    },
    "id": "yVD5weHVOIO6",
    "outputId": "03158139-f821-4f1d-8d95-ae6f1e44a1ad"
   },
   "outputs": [
    {
     "name": "stdout",
     "output_type": "stream",
     "text": [
      "RMSE линейной регресси: 2686.72\n"
     ]
    }
   ],
   "source": [
    "rmse_lr_ohe = mean_squared_error(target_train_ohe, pred_lr_ohe)**0.5\n",
    "print(f'RMSE линейной регресси: {rmse_lr_ohe:.2f}')"
   ]
  },
  {
   "cell_type": "markdown",
   "metadata": {
    "id": "AWuixuV1iNUB"
   },
   "source": [
    "#### CV LinearRegression OHE"
   ]
  },
  {
   "cell_type": "code",
   "execution_count": 63,
   "metadata": {
    "colab": {
     "base_uri": "https://localhost:8080/"
    },
    "id": "Dznhm5nUNhY0",
    "outputId": "cd5503e9-8dc7-4cc5-8cdf-e9e43394bcf5"
   },
   "outputs": [
    {
     "name": "stdout",
     "output_type": "stream",
     "text": [
      "RMSE линейной регрессии после кросс-валидации: 2690.98\n",
      "Wall time: 24.5 s\n"
     ]
    }
   ],
   "source": [
    "%%time\n",
    "cv_lr_ohe = cross_val_score(LinearRegression(),\n",
    "                            features_train_ohe,\n",
    "                            target_train_ohe,\n",
    "                            scoring='neg_root_mean_squared_error').mean()\n",
    "print(f'RMSE линейной регрессии после кросс-валидации: {cv_lr_ohe*-1:.2f}')"
   ]
  },
  {
   "cell_type": "markdown",
   "metadata": {
    "id": "1kUivyIlQ6XU"
   },
   "source": [
    "### DecisionTreeRegressor"
   ]
  },
  {
   "cell_type": "markdown",
   "metadata": {
    "id": "oMb5EhqTRChv"
   },
   "source": [
    "#### DecisionTreeRegressor OrdinalEncoder"
   ]
  },
  {
   "cell_type": "code",
   "execution_count": 64,
   "metadata": {
    "id": "3-a5kd0NkI73"
   },
   "outputs": [],
   "source": [
    "model_dt = DecisionTreeRegressor(random_state=42)\n",
    "params_tree = {'max_depth': range(1,5)}"
   ]
  },
  {
   "cell_type": "code",
   "execution_count": 65,
   "metadata": {
    "id": "01m9DduRUokC"
   },
   "outputs": [],
   "source": [
    "# grid(model_dt, params_tree, 'neg_root_mean_squared_error', features_train, target_train)"
   ]
  },
  {
   "cell_type": "code",
   "execution_count": 66,
   "metadata": {
    "id": "cdcy7e3FRoOb"
   },
   "outputs": [],
   "source": [
    "# grid(model_dt, params_tree, 'neg_root_mean_squared_error', features_train_ohe,  target_train_ohe)\n"
   ]
  },
  {
   "cell_type": "code",
   "execution_count": 67,
   "metadata": {
    "colab": {
     "base_uri": "https://localhost:8080/"
    },
    "id": "f8nZRomDZH-f",
    "outputId": "4b31b4ff-1413-4c5e-9acf-52f27b621c95"
   },
   "outputs": [
    {
     "name": "stdout",
     "output_type": "stream",
     "text": [
      "Wall time: 311 ms\n"
     ]
    },
    {
     "data": {
      "text/plain": [
       "DecisionTreeRegressor(max_depth=4, random_state=42)"
      ]
     },
     "execution_count": 67,
     "metadata": {},
     "output_type": "execute_result"
    }
   ],
   "source": [
    "%%time\n",
    "model_tree_ord = DecisionTreeRegressor(random_state=42, max_depth=4)\n",
    "model_tree_ord.fit(features_train, target_train)"
   ]
  },
  {
   "cell_type": "code",
   "execution_count": 68,
   "metadata": {
    "colab": {
     "base_uri": "https://localhost:8080/"
    },
    "id": "nT23FKp0PZad",
    "outputId": "8f23f731-90e2-49ae-a6af-7f3d8ccde851"
   },
   "outputs": [
    {
     "name": "stdout",
     "output_type": "stream",
     "text": [
      "Wall time: 21 ms\n"
     ]
    }
   ],
   "source": [
    "%%time\n",
    "pred_tree_ord = model_tree_ord.predict(features_train)"
   ]
  },
  {
   "cell_type": "code",
   "execution_count": 69,
   "metadata": {
    "colab": {
     "base_uri": "https://localhost:8080/"
    },
    "id": "E1Wm5PSpPo6s",
    "outputId": "f5b45ab5-2590-4720-ddc8-86bc97e7b9d2"
   },
   "outputs": [
    {
     "name": "stdout",
     "output_type": "stream",
     "text": [
      "RMSE модели дерево решений: 2593.86\n"
     ]
    }
   ],
   "source": [
    "rmse_tree_ord = mean_squared_error(target_train, pred_tree_ord)**0.5\n",
    "print(f'RMSE модели дерево решений: {rmse_tree_ord:.2f}')"
   ]
  },
  {
   "cell_type": "markdown",
   "metadata": {
    "id": "rBfCUB2IRekG"
   },
   "source": [
    "#### DecisionTreeRegressor OHE"
   ]
  },
  {
   "cell_type": "code",
   "execution_count": 70,
   "metadata": {
    "colab": {
     "base_uri": "https://localhost:8080/"
    },
    "id": "wxur7ZQaRjE7",
    "outputId": "e67ebccd-2563-4e38-a1d6-f0db59a06ad1"
   },
   "outputs": [
    {
     "name": "stdout",
     "output_type": "stream",
     "text": [
      "Wall time: 2.84 s\n"
     ]
    }
   ],
   "source": [
    "%%time\n",
    "model_tree_ohe = DecisionTreeRegressor(max_depth=4, random_state=42).fit(features_train_ohe, target_train_ohe)"
   ]
  },
  {
   "cell_type": "code",
   "execution_count": 71,
   "metadata": {
    "colab": {
     "base_uri": "https://localhost:8080/"
    },
    "id": "vFPVmZXPRFLX",
    "outputId": "4ad4fe9e-4e50-4a33-a228-6d5a18688795"
   },
   "outputs": [
    {
     "name": "stdout",
     "output_type": "stream",
     "text": [
      "Wall time: 421 ms\n"
     ]
    }
   ],
   "source": [
    "%%time\n",
    "pred_tree_ohe = model_tree_ohe.predict(features_train_ohe)"
   ]
  },
  {
   "cell_type": "code",
   "execution_count": 72,
   "metadata": {
    "colab": {
     "base_uri": "https://localhost:8080/"
    },
    "id": "mxidCTG7RML7",
    "outputId": "84264c15-e3bf-4a21-e091-76e09e07b292"
   },
   "outputs": [
    {
     "name": "stdout",
     "output_type": "stream",
     "text": [
      "RMSE модели дерево решений: 2593.86\n"
     ]
    }
   ],
   "source": [
    "rmse_tree_ohe = mean_squared_error(target_train_ohe, pred_tree_ohe)**0.5\n",
    "print(f'RMSE модели дерево решений: {rmse_tree_ohe:.2f}')"
   ]
  },
  {
   "cell_type": "markdown",
   "metadata": {
    "id": "FTaX_ORA_ZIJ"
   },
   "source": [
    "### LightGBM"
   ]
  },
  {
   "cell_type": "code",
   "execution_count": 73,
   "metadata": {},
   "outputs": [],
   "source": [
    "df_cat = data.copy()"
   ]
  },
  {
   "cell_type": "code",
   "execution_count": 74,
   "metadata": {},
   "outputs": [],
   "source": [
    "cat = list(df_cat.select_dtypes(include='object'))"
   ]
  },
  {
   "cell_type": "code",
   "execution_count": 75,
   "metadata": {},
   "outputs": [],
   "source": [
    "for col in cat:\n",
    "    df_cat[col] = df_cat[col].astype('category')"
   ]
  },
  {
   "cell_type": "code",
   "execution_count": 76,
   "metadata": {},
   "outputs": [],
   "source": [
    "features_train_cat, features_test_cat, target_train_cat, target_test_cat = train_test_split(df_cat.drop('price', axis=1),\n",
    "                                                                                            df_cat['price'],\n",
    "                                                                                            test_size = 0.25,\n",
    "                                                                                            random_state=42)"
   ]
  },
  {
   "cell_type": "code",
   "execution_count": 77,
   "metadata": {
    "id": "tYeEeGx3Ebp2"
   },
   "outputs": [],
   "source": [
    "model_grid_lgb = lgb.LGBMRegressor(random_state=42)\n",
    "params_random_lgb = {\"n_estimators\": range(50, 200, 10),\n",
    "                     \"max_depth\": range(1, 10, 2),\n",
    "                     \"num_leaves\": range(1, 40, 5)}"
   ]
  },
  {
   "cell_type": "code",
   "execution_count": 78,
   "metadata": {
    "id": "QPY0P8e3GzBB"
   },
   "outputs": [],
   "source": [
    "# random(model_grid_lgb, params_random_lgb, 'neg_root_mean_squared_error', features_train_cat, target_train_cat)"
   ]
  },
  {
   "cell_type": "code",
   "execution_count": 79,
   "metadata": {
    "id": "sIhpHRjdNcvG"
   },
   "outputs": [],
   "source": [
    "# params_grid_lgb = {\"n_estimators\": range(135, 145, 1),\n",
    "#               \"max_depth\": range(7, 11, 1),\n",
    "#               \"num_leaves\": range(28, 35, 1)}"
   ]
  },
  {
   "cell_type": "code",
   "execution_count": 80,
   "metadata": {
    "id": "JWuWuH3aN0F2"
   },
   "outputs": [],
   "source": [
    "# grid(model_grid_lgb, params_grid_lgb, 'neg_root_mean_squared_error', features_train_cat, target_train_cat)"
   ]
  },
  {
   "cell_type": "code",
   "execution_count": 81,
   "metadata": {
    "colab": {
     "base_uri": "https://localhost:8080/"
    },
    "id": "_J0IjOmXCFrp",
    "outputId": "0c67d982-3cef-46e4-8c5f-5d7de9b0f2a4"
   },
   "outputs": [
    {
     "name": "stdout",
     "output_type": "stream",
     "text": [
      "Wall time: 1.59 s\n"
     ]
    },
    {
     "data": {
      "text/plain": [
       "LGBMRegressor(max_depth=9, n_estimators=130, random_state=42)"
      ]
     },
     "execution_count": 81,
     "metadata": {},
     "output_type": "execute_result"
    }
   ],
   "source": [
    "%%time\n",
    "model_lgb = lgb.LGBMRegressor(max_depth=9, \n",
    "                                  n_estimators=130, \n",
    "                                  num_leaves=31, \n",
    "                                  random_state=42)\n",
    "model_lgb.fit(features_train_cat, target_train_cat, eval_metric=\"rmse\", categorical_feature='auto')"
   ]
  },
  {
   "cell_type": "code",
   "execution_count": 82,
   "metadata": {
    "colab": {
     "base_uri": "https://localhost:8080/"
    },
    "id": "Jh8EsrPTSG-4",
    "outputId": "1fe9dd5b-de71-46ae-fa90-5008bf7c40ee"
   },
   "outputs": [
    {
     "name": "stdout",
     "output_type": "stream",
     "text": [
      "Wall time: 742 ms\n"
     ]
    }
   ],
   "source": [
    "%%time\n",
    "pred_lgb = model_lgb.predict(features_train_cat)"
   ]
  },
  {
   "cell_type": "code",
   "execution_count": 83,
   "metadata": {
    "colab": {
     "base_uri": "https://localhost:8080/"
    },
    "id": "y8NbLLQ_IWXp",
    "outputId": "a5e8e295-e5a8-4bbd-b5f4-d505a3f20636"
   },
   "outputs": [
    {
     "name": "stdout",
     "output_type": "stream",
     "text": [
      "RMSE модели LightGBM: 1560.82\n"
     ]
    }
   ],
   "source": [
    "rmse_lgb = mean_squared_error(target_train_cat, pred_lgb)**0.5\n",
    "print(f'RMSE модели LightGBM: {rmse_lgb:.2f}')"
   ]
  },
  {
   "cell_type": "markdown",
   "metadata": {
    "id": "SUPOXXEuYIUq"
   },
   "source": [
    "#### LightGBM OrdinalEncoder"
   ]
  },
  {
   "cell_type": "code",
   "execution_count": 84,
   "metadata": {},
   "outputs": [],
   "source": [
    "for col in category:\n",
    "    df_ord[col] = df_ord[col].astype('category')"
   ]
  },
  {
   "cell_type": "code",
   "execution_count": 85,
   "metadata": {},
   "outputs": [
    {
     "name": "stdout",
     "output_type": "stream",
     "text": [
      "<class 'pandas.core.frame.DataFrame'>\n",
      "RangeIndex: 327560 entries, 0 to 327559\n",
      "Data columns (total 11 columns):\n",
      " #   Column              Non-Null Count   Dtype   \n",
      "---  ------              --------------   -----   \n",
      " 0   price               327560 non-null  int64   \n",
      " 1   registration_year   327560 non-null  int64   \n",
      " 2   power               327560 non-null  float64 \n",
      " 3   kilometer           327560 non-null  int64   \n",
      " 4   registration_month  327560 non-null  int64   \n",
      " 5   vehicle_type        327560 non-null  category\n",
      " 6   gearbox             327560 non-null  category\n",
      " 7   model               327560 non-null  category\n",
      " 8   fuel_type           327560 non-null  category\n",
      " 9   brand               327560 non-null  category\n",
      " 10  repaired            327560 non-null  category\n",
      "dtypes: category(6), float64(1), int64(4)\n",
      "memory usage: 14.7 MB\n"
     ]
    }
   ],
   "source": [
    "df_ord.info()"
   ]
  },
  {
   "cell_type": "code",
   "execution_count": 86,
   "metadata": {},
   "outputs": [],
   "source": [
    "features_train_cat_ord, features_test_cat_ord, target_train_cat_ord, target_test_cat_ord = train_test_split(df_ord.drop('price', axis=1),\n",
    "                                                                                                            df_ord['price'],\n",
    "                                                                                                            test_size = 0.25,\n",
    "                                                                                                            random_state=42)"
   ]
  },
  {
   "cell_type": "code",
   "execution_count": 87,
   "metadata": {},
   "outputs": [],
   "source": [
    "# random(model_grid_lgb, params_random_lgb, 'neg_root_mean_squared_error', features_train_cat_ord, target_train_cat_ord)"
   ]
  },
  {
   "cell_type": "code",
   "execution_count": 88,
   "metadata": {},
   "outputs": [],
   "source": [
    "params_grid_lgb = {\"n_estimators\": range(135, 145, 1),\n",
    "                   \"max_depth\": range(7, 11, 1),\n",
    "                   \"num_leaves\": range(28, 35, 1)}"
   ]
  },
  {
   "cell_type": "code",
   "execution_count": 89,
   "metadata": {},
   "outputs": [],
   "source": [
    "# grid(model_grid_lgb, params_grid_lgb, 'neg_root_mean_squared_error', features_train_cat_ord, target_train_cat_ord)"
   ]
  },
  {
   "cell_type": "code",
   "execution_count": 90,
   "metadata": {},
   "outputs": [
    {
     "name": "stdout",
     "output_type": "stream",
     "text": [
      "Wall time: 1.48 s\n"
     ]
    },
    {
     "data": {
      "text/plain": [
       "LGBMRegressor(max_depth=5, n_estimators=144, num_leaves=34, random_state=42)"
      ]
     },
     "execution_count": 90,
     "metadata": {},
     "output_type": "execute_result"
    }
   ],
   "source": [
    "%%time\n",
    "model_lgb_ord = lgb.LGBMRegressor(max_depth=5,\n",
    "                                  n_estimators=144,\n",
    "                                  num_leaves=34,\n",
    "                                  random_state=42)\n",
    "model_lgb_ord.fit(features_train_cat_ord, target_train_cat_ord, eval_metric='rmse', categorical_feature='auto')"
   ]
  },
  {
   "cell_type": "code",
   "execution_count": 91,
   "metadata": {
    "scrolled": true
   },
   "outputs": [
    {
     "name": "stdout",
     "output_type": "stream",
     "text": [
      "Wall time: 810 ms\n"
     ]
    }
   ],
   "source": [
    "%%time\n",
    "pred_lgb_ord = model_lgb_ord.predict(features_train_cat_ord)"
   ]
  },
  {
   "cell_type": "code",
   "execution_count": 92,
   "metadata": {},
   "outputs": [
    {
     "name": "stdout",
     "output_type": "stream",
     "text": [
      "RMSE модели LightGBM: 1583.32\n"
     ]
    }
   ],
   "source": [
    "rmse_lgb_ord = mean_squared_error(target_train_cat_ord, pred_lgb_ord)**0.5\n",
    "print(f'RMSE модели LightGBM: {rmse_lgb_ord:.2f}')"
   ]
  },
  {
   "cell_type": "markdown",
   "metadata": {
    "id": "Ff3G9ZCPKYQC"
   },
   "source": [
    "#### LightGBM OHE"
   ]
  },
  {
   "cell_type": "code",
   "execution_count": 93,
   "metadata": {},
   "outputs": [],
   "source": [
    "cat_ohe = list(data_ohe.select_dtypes(include = 'uint8'))"
   ]
  },
  {
   "cell_type": "code",
   "execution_count": 94,
   "metadata": {},
   "outputs": [],
   "source": [
    "for col in cat_ohe:\n",
    "    data_ohe[col] = data_ohe[col].astype('category')"
   ]
  },
  {
   "cell_type": "code",
   "execution_count": 95,
   "metadata": {},
   "outputs": [],
   "source": [
    "features_train_cat_ohe, features_test_cat_ohe, target_train_cat_ohe, target_test_cat_ohe = train_test_split(data_ohe.drop('price', axis=1),\n",
    "                                                                                                            data_ohe['price'],\n",
    "                                                                                                            test_size = 0.25,\n",
    "                                                                                                            random_state=42)"
   ]
  },
  {
   "cell_type": "code",
   "execution_count": 96,
   "metadata": {
    "id": "Z9-uW8nsKztF"
   },
   "outputs": [],
   "source": [
    "# random(model_grid_lgb, params_random_lgb, 'neg_root_mean_squared_error', features_train_ohe, target_train_ohe)"
   ]
  },
  {
   "cell_type": "code",
   "execution_count": 97,
   "metadata": {
    "id": "DGI1_IfhLZsR"
   },
   "outputs": [],
   "source": [
    "parans_gris_ohe =  {\"n_estimators\": range(178, 190, 2),\n",
    "                    \"max_depth\": range(5, 8, 1),\n",
    "                    \"num_leaves\": range(30, 35, 1)}"
   ]
  },
  {
   "cell_type": "code",
   "execution_count": 98,
   "metadata": {
    "id": "sjJuaTvgMyxj"
   },
   "outputs": [],
   "source": [
    "# grid(model_grid_lgb, parans_gris_ohe, 'neg_root_mean_squared_error',  features_train_ohe, target_train_ohe)"
   ]
  },
  {
   "cell_type": "code",
   "execution_count": 99,
   "metadata": {
    "colab": {
     "base_uri": "https://localhost:8080/"
    },
    "id": "WE10_64CM9tK",
    "outputId": "28f7cc60-29d0-4965-84e5-f37bb3701d0c"
   },
   "outputs": [
    {
     "name": "stdout",
     "output_type": "stream",
     "text": [
      "Wall time: 3.93 s\n"
     ]
    },
    {
     "data": {
      "text/plain": [
       "LGBMRegressor(max_depth=7, n_estimators=188, num_leaves=34, random_state=42)"
      ]
     },
     "execution_count": 99,
     "metadata": {},
     "output_type": "execute_result"
    }
   ],
   "source": [
    "%%time\n",
    "model_lgb_ohe = lgb.LGBMRegressor(max_depth=7,\n",
    "                                  n_estimators=188,\n",
    "                                  num_leaves=34,\n",
    "                                  random_state=42)\n",
    "model_lgb_ohe.fit(features_train_cat_ohe, target_train_cat_ohe, eval_metric=\"rmse\", categorical_feature='auto')"
   ]
  },
  {
   "cell_type": "code",
   "execution_count": 100,
   "metadata": {
    "colab": {
     "base_uri": "https://localhost:8080/"
    },
    "id": "4Kz3Nz1-VSN0",
    "outputId": "59c85257-c3c0-406a-eae8-07aa883d5d89"
   },
   "outputs": [
    {
     "name": "stdout",
     "output_type": "stream",
     "text": [
      "Wall time: 2.33 s\n"
     ]
    }
   ],
   "source": [
    "%%time\n",
    "pred_lgb_ohe = model_lgb_ohe.predict(features_train_cat_ohe)"
   ]
  },
  {
   "cell_type": "code",
   "execution_count": 101,
   "metadata": {
    "colab": {
     "base_uri": "https://localhost:8080/"
    },
    "id": "usmO7tfpWAyx",
    "outputId": "683778ba-f85b-4690-933f-3da3dc57bf10"
   },
   "outputs": [
    {
     "name": "stdout",
     "output_type": "stream",
     "text": [
      "RMSE модели LightGBM: 1632.12\n"
     ]
    }
   ],
   "source": [
    "rmse_lgb_ohe = mean_squared_error(target_train_cat_ohe, pred_lgb_ohe)**0.5\n",
    "print(f'RMSE модели LightGBM: {rmse_lgb_ohe:.2f}')"
   ]
  },
  {
   "cell_type": "code",
   "execution_count": 102,
   "metadata": {
    "id": "Dga3A-H-WvTc"
   },
   "outputs": [],
   "source": [
    "train_dataset_ohe = lgb.Dataset(features_train_ohe, target_train_ohe, feature_name=features_train_ohe.columns.tolist())\n",
    "test_dataset_ohe = lgb.Dataset(features_test_ohe, target_test_ohe, feature_name=features_test_ohe.columns.tolist())"
   ]
  },
  {
   "cell_type": "markdown",
   "metadata": {
    "id": "2PK9tP__X6Kp"
   },
   "source": [
    "### Catboost"
   ]
  },
  {
   "cell_type": "code",
   "execution_count": 103,
   "metadata": {
    "colab": {
     "base_uri": "https://localhost:8080/"
    },
    "id": "5cg56r_BLoZx",
    "outputId": "f07c50b5-ca56-4166-d418-6beb9c572eb4"
   },
   "outputs": [
    {
     "name": "stdout",
     "output_type": "stream",
     "text": [
      "0:\tlearn: 4482.8819092\ttotal: 479ms\tremaining: 9m 34s\n",
      "1:\tlearn: 4419.0612255\ttotal: 774ms\tremaining: 7m 43s\n",
      "2:\tlearn: 4356.8546348\ttotal: 1.05s\tremaining: 6m 58s\n",
      "3:\tlearn: 4295.6346765\ttotal: 1.33s\tremaining: 6m 38s\n",
      "4:\tlearn: 4235.9615248\ttotal: 1.61s\tremaining: 6m 26s\n",
      "5:\tlearn: 4178.2794317\ttotal: 1.85s\tremaining: 6m 8s\n",
      "6:\tlearn: 4121.0407611\ttotal: 2.09s\tremaining: 5m 56s\n",
      "7:\tlearn: 4064.7968995\ttotal: 2.35s\tremaining: 5m 50s\n",
      "8:\tlearn: 4010.2718638\ttotal: 2.6s\tremaining: 5m 43s\n",
      "9:\tlearn: 3957.4093062\ttotal: 2.9s\tremaining: 5m 44s\n",
      "10:\tlearn: 3906.3323977\ttotal: 3.22s\tremaining: 5m 47s\n",
      "11:\tlearn: 3856.1714654\ttotal: 3.5s\tremaining: 5m 47s\n",
      "12:\tlearn: 3807.2281050\ttotal: 3.82s\tremaining: 5m 48s\n",
      "13:\tlearn: 3759.1633648\ttotal: 4.07s\tremaining: 5m 45s\n",
      "14:\tlearn: 3713.1074066\ttotal: 4.41s\tremaining: 5m 48s\n",
      "15:\tlearn: 3667.7680020\ttotal: 4.72s\tremaining: 5m 49s\n",
      "16:\tlearn: 3623.9703299\ttotal: 4.98s\tremaining: 5m 46s\n",
      "17:\tlearn: 3581.0281998\ttotal: 5.32s\tremaining: 5m 49s\n",
      "18:\tlearn: 3538.1441634\ttotal: 5.58s\tremaining: 5m 46s\n",
      "19:\tlearn: 3497.2306036\ttotal: 5.89s\tremaining: 5m 47s\n",
      "20:\tlearn: 3456.1191302\ttotal: 6.17s\tremaining: 5m 46s\n",
      "21:\tlearn: 3416.5006240\ttotal: 6.47s\tremaining: 5m 46s\n",
      "22:\tlearn: 3378.1227196\ttotal: 6.73s\tremaining: 5m 44s\n",
      "23:\tlearn: 3340.6877136\ttotal: 7.03s\tremaining: 5m 44s\n",
      "24:\tlearn: 3304.2205130\ttotal: 7.32s\tremaining: 5m 44s\n",
      "25:\tlearn: 3268.7909427\ttotal: 7.62s\tremaining: 5m 44s\n",
      "26:\tlearn: 3234.0844956\ttotal: 7.94s\tremaining: 5m 44s\n",
      "27:\tlearn: 3200.2093012\ttotal: 8.28s\tremaining: 5m 46s\n",
      "28:\tlearn: 3166.8786739\ttotal: 8.58s\tremaining: 5m 46s\n",
      "29:\tlearn: 3134.3737194\ttotal: 8.82s\tremaining: 5m 44s\n",
      "30:\tlearn: 3102.2604076\ttotal: 9.12s\tremaining: 5m 43s\n",
      "31:\tlearn: 3071.1228278\ttotal: 9.42s\tremaining: 5m 43s\n",
      "32:\tlearn: 3041.0000401\ttotal: 9.68s\tremaining: 5m 42s\n",
      "33:\tlearn: 3011.0081151\ttotal: 9.96s\tremaining: 5m 41s\n",
      "34:\tlearn: 2981.6733076\ttotal: 10.3s\tremaining: 5m 42s\n",
      "35:\tlearn: 2953.7020791\ttotal: 10.6s\tremaining: 5m 41s\n",
      "36:\tlearn: 2926.8743183\ttotal: 10.9s\tremaining: 5m 41s\n",
      "37:\tlearn: 2899.9099132\ttotal: 11.2s\tremaining: 5m 41s\n",
      "38:\tlearn: 2873.8883643\ttotal: 11.5s\tremaining: 5m 41s\n",
      "39:\tlearn: 2848.8782117\ttotal: 11.8s\tremaining: 5m 41s\n",
      "40:\tlearn: 2824.1967936\ttotal: 12.1s\tremaining: 5m 42s\n",
      "41:\tlearn: 2799.6415116\ttotal: 12.4s\tremaining: 5m 41s\n",
      "42:\tlearn: 2776.4083359\ttotal: 12.7s\tremaining: 5m 40s\n",
      "43:\tlearn: 2753.2474491\ttotal: 12.9s\tremaining: 5m 40s\n",
      "44:\tlearn: 2730.5670694\ttotal: 13.3s\tremaining: 5m 40s\n",
      "45:\tlearn: 2707.7989845\ttotal: 13.6s\tremaining: 5m 40s\n",
      "46:\tlearn: 2686.0109590\ttotal: 13.9s\tremaining: 5m 40s\n",
      "47:\tlearn: 2664.9645250\ttotal: 14.1s\tremaining: 5m 39s\n",
      "48:\tlearn: 2643.7802300\ttotal: 14.5s\tremaining: 5m 39s\n",
      "49:\tlearn: 2624.0188375\ttotal: 14.8s\tremaining: 5m 39s\n",
      "50:\tlearn: 2604.4195935\ttotal: 15.1s\tremaining: 5m 39s\n",
      "51:\tlearn: 2585.5411329\ttotal: 15.4s\tremaining: 5m 39s\n",
      "52:\tlearn: 2567.2514329\ttotal: 15.6s\tremaining: 5m 38s\n",
      "53:\tlearn: 2549.3942468\ttotal: 15.9s\tremaining: 5m 37s\n",
      "54:\tlearn: 2531.9898910\ttotal: 16.2s\tremaining: 5m 37s\n",
      "55:\tlearn: 2515.1010264\ttotal: 16.5s\tremaining: 5m 37s\n",
      "56:\tlearn: 2498.4996948\ttotal: 16.8s\tremaining: 5m 37s\n",
      "57:\tlearn: 2482.3594951\ttotal: 17.1s\tremaining: 5m 37s\n",
      "58:\tlearn: 2466.5494097\ttotal: 17.4s\tremaining: 5m 37s\n",
      "59:\tlearn: 2451.3233706\ttotal: 17.8s\tremaining: 5m 37s\n",
      "60:\tlearn: 2436.5494206\ttotal: 18.1s\tremaining: 5m 37s\n",
      "61:\tlearn: 2421.8150815\ttotal: 18.4s\tremaining: 5m 36s\n",
      "62:\tlearn: 2407.0476355\ttotal: 18.6s\tremaining: 5m 36s\n",
      "63:\tlearn: 2392.8784843\ttotal: 18.9s\tremaining: 5m 36s\n",
      "64:\tlearn: 2379.2092375\ttotal: 19.2s\tremaining: 5m 35s\n",
      "65:\tlearn: 2365.7848863\ttotal: 19.5s\tremaining: 5m 35s\n",
      "66:\tlearn: 2353.0305089\ttotal: 19.9s\tremaining: 5m 37s\n",
      "67:\tlearn: 2341.1995704\ttotal: 20.3s\tremaining: 5m 37s\n",
      "68:\tlearn: 2329.2396268\ttotal: 20.7s\tremaining: 5m 38s\n",
      "69:\tlearn: 2317.2672184\ttotal: 21s\tremaining: 5m 39s\n",
      "70:\tlearn: 2305.4649999\ttotal: 21.3s\tremaining: 5m 39s\n",
      "71:\tlearn: 2294.2300614\ttotal: 21.6s\tremaining: 5m 39s\n",
      "72:\tlearn: 2283.2026650\ttotal: 22s\tremaining: 5m 39s\n",
      "73:\tlearn: 2272.5064641\ttotal: 22.4s\tremaining: 5m 40s\n",
      "74:\tlearn: 2261.8673568\ttotal: 22.7s\tremaining: 5m 40s\n",
      "75:\tlearn: 2251.8520268\ttotal: 23s\tremaining: 5m 40s\n",
      "76:\tlearn: 2242.0598076\ttotal: 23.4s\tremaining: 5m 40s\n",
      "77:\tlearn: 2232.9012696\ttotal: 23.7s\tremaining: 5m 40s\n",
      "78:\tlearn: 2223.3505110\ttotal: 24s\tremaining: 5m 39s\n",
      "79:\tlearn: 2213.2653244\ttotal: 24.3s\tremaining: 5m 40s\n",
      "80:\tlearn: 2203.1173394\ttotal: 24.6s\tremaining: 5m 39s\n",
      "81:\tlearn: 2193.7940348\ttotal: 24.9s\tremaining: 5m 39s\n",
      "82:\tlearn: 2184.5167380\ttotal: 25.2s\tremaining: 5m 39s\n",
      "83:\tlearn: 2175.4837494\ttotal: 25.5s\tremaining: 5m 38s\n",
      "84:\tlearn: 2166.5670104\ttotal: 25.8s\tremaining: 5m 38s\n",
      "85:\tlearn: 2157.8912217\ttotal: 26s\tremaining: 5m 37s\n",
      "86:\tlearn: 2149.0639540\ttotal: 26.3s\tremaining: 5m 36s\n",
      "87:\tlearn: 2141.1199612\ttotal: 26.6s\tremaining: 5m 35s\n",
      "88:\tlearn: 2133.2780862\ttotal: 26.9s\tremaining: 5m 35s\n",
      "89:\tlearn: 2125.6481981\ttotal: 27.1s\tremaining: 5m 34s\n",
      "90:\tlearn: 2117.5718807\ttotal: 27.5s\tremaining: 5m 35s\n",
      "91:\tlearn: 2110.4261215\ttotal: 27.8s\tremaining: 5m 35s\n",
      "92:\tlearn: 2103.0400579\ttotal: 28.2s\tremaining: 5m 35s\n",
      "93:\tlearn: 2095.9216465\ttotal: 28.5s\tremaining: 5m 35s\n",
      "94:\tlearn: 2089.5644068\ttotal: 28.8s\tremaining: 5m 35s\n",
      "95:\tlearn: 2083.1235977\ttotal: 29.1s\tremaining: 5m 35s\n",
      "96:\tlearn: 2075.9593746\ttotal: 29.4s\tremaining: 5m 34s\n",
      "97:\tlearn: 2069.7883387\ttotal: 29.7s\tremaining: 5m 34s\n",
      "98:\tlearn: 2063.3201614\ttotal: 30s\tremaining: 5m 33s\n",
      "99:\tlearn: 2057.3538867\ttotal: 30.3s\tremaining: 5m 33s\n",
      "100:\tlearn: 2050.9379589\ttotal: 30.6s\tremaining: 5m 32s\n",
      "101:\tlearn: 2044.5936642\ttotal: 30.9s\tremaining: 5m 32s\n",
      "102:\tlearn: 2038.1924965\ttotal: 31.2s\tremaining: 5m 32s\n",
      "103:\tlearn: 2032.5524972\ttotal: 31.5s\tremaining: 5m 32s\n",
      "104:\tlearn: 2027.6439616\ttotal: 31.8s\tremaining: 5m 31s\n",
      "105:\tlearn: 2022.1197210\ttotal: 32.1s\tremaining: 5m 31s\n",
      "106:\tlearn: 2016.5933457\ttotal: 32.4s\tremaining: 5m 30s\n",
      "107:\tlearn: 2011.3196661\ttotal: 32.7s\tremaining: 5m 30s\n",
      "108:\tlearn: 2006.1709412\ttotal: 33s\tremaining: 5m 30s\n",
      "109:\tlearn: 2001.5210077\ttotal: 33.3s\tremaining: 5m 29s\n",
      "110:\tlearn: 1996.7386390\ttotal: 33.6s\tremaining: 5m 29s\n",
      "111:\tlearn: 1992.1914554\ttotal: 33.9s\tremaining: 5m 29s\n",
      "112:\tlearn: 1988.0895586\ttotal: 34.1s\tremaining: 5m 28s\n",
      "113:\tlearn: 1984.1238115\ttotal: 34.5s\tremaining: 5m 28s\n",
      "114:\tlearn: 1979.8096079\ttotal: 34.8s\tremaining: 5m 27s\n",
      "115:\tlearn: 1975.3120519\ttotal: 35.1s\tremaining: 5m 27s\n",
      "116:\tlearn: 1971.0292388\ttotal: 35.4s\tremaining: 5m 27s\n",
      "117:\tlearn: 1966.8128959\ttotal: 35.7s\tremaining: 5m 27s\n",
      "118:\tlearn: 1962.9435420\ttotal: 36s\tremaining: 5m 27s\n",
      "119:\tlearn: 1959.1742649\ttotal: 36.3s\tremaining: 5m 26s\n",
      "120:\tlearn: 1955.0049480\ttotal: 36.5s\tremaining: 5m 25s\n",
      "121:\tlearn: 1951.6906306\ttotal: 36.8s\tremaining: 5m 25s\n",
      "122:\tlearn: 1948.1448644\ttotal: 37.1s\tremaining: 5m 24s\n",
      "123:\tlearn: 1944.1931460\ttotal: 37.4s\tremaining: 5m 24s\n",
      "124:\tlearn: 1940.2401745\ttotal: 37.7s\tremaining: 5m 23s\n",
      "125:\tlearn: 1936.6598027\ttotal: 37.9s\tremaining: 5m 23s\n",
      "126:\tlearn: 1933.6813027\ttotal: 38.2s\tremaining: 5m 22s\n",
      "127:\tlearn: 1930.1000691\ttotal: 38.5s\tremaining: 5m 22s\n",
      "128:\tlearn: 1926.5964473\ttotal: 38.7s\tremaining: 5m 21s\n",
      "129:\tlearn: 1923.0945069\ttotal: 39s\tremaining: 5m 21s\n",
      "130:\tlearn: 1920.3524388\ttotal: 39.3s\tremaining: 5m 21s\n",
      "131:\tlearn: 1917.3532109\ttotal: 39.6s\tremaining: 5m 20s\n",
      "132:\tlearn: 1914.4559403\ttotal: 39.9s\tremaining: 5m 20s\n",
      "133:\tlearn: 1911.3367718\ttotal: 40.3s\tremaining: 5m 20s\n",
      "134:\tlearn: 1908.4674364\ttotal: 40.5s\tremaining: 5m 19s\n",
      "135:\tlearn: 1905.1200780\ttotal: 40.8s\tremaining: 5m 19s\n",
      "136:\tlearn: 1902.4463825\ttotal: 41.2s\tremaining: 5m 19s\n",
      "137:\tlearn: 1899.4971764\ttotal: 41.5s\tremaining: 5m 18s\n",
      "138:\tlearn: 1896.6374709\ttotal: 41.8s\tremaining: 5m 18s\n",
      "139:\tlearn: 1893.9741511\ttotal: 42.1s\tremaining: 5m 18s\n",
      "140:\tlearn: 1891.3989942\ttotal: 42.4s\tremaining: 5m 18s\n",
      "141:\tlearn: 1888.8685621\ttotal: 42.7s\tremaining: 5m 18s\n",
      "142:\tlearn: 1886.5312879\ttotal: 43s\tremaining: 5m 18s\n",
      "143:\tlearn: 1883.9140069\ttotal: 43.4s\tremaining: 5m 18s\n",
      "144:\tlearn: 1881.4606755\ttotal: 43.7s\tremaining: 5m 18s\n",
      "145:\tlearn: 1879.1978506\ttotal: 44s\tremaining: 5m 17s\n",
      "146:\tlearn: 1877.0393747\ttotal: 44.3s\tremaining: 5m 17s\n",
      "147:\tlearn: 1874.9403057\ttotal: 44.6s\tremaining: 5m 16s\n",
      "148:\tlearn: 1872.7842942\ttotal: 44.9s\tremaining: 5m 16s\n",
      "149:\tlearn: 1870.9750602\ttotal: 45.2s\tremaining: 5m 16s\n",
      "150:\tlearn: 1868.7846513\ttotal: 45.5s\tremaining: 5m 16s\n",
      "151:\tlearn: 1866.8717433\ttotal: 45.8s\tremaining: 5m 16s\n",
      "152:\tlearn: 1864.8484456\ttotal: 46.1s\tremaining: 5m 15s\n",
      "153:\tlearn: 1863.0416220\ttotal: 46.4s\tremaining: 5m 15s\n",
      "154:\tlearn: 1861.2734356\ttotal: 46.7s\tremaining: 5m 15s\n",
      "155:\tlearn: 1859.1447961\ttotal: 47s\tremaining: 5m 14s\n",
      "156:\tlearn: 1856.9460505\ttotal: 47.3s\tremaining: 5m 14s\n",
      "157:\tlearn: 1854.6442529\ttotal: 47.7s\tremaining: 5m 14s\n",
      "158:\tlearn: 1852.6334605\ttotal: 47.9s\tremaining: 5m 13s\n",
      "159:\tlearn: 1850.8402125\ttotal: 48.2s\tremaining: 5m 13s\n",
      "160:\tlearn: 1848.9999687\ttotal: 48.6s\tremaining: 5m 13s\n",
      "161:\tlearn: 1847.3546096\ttotal: 48.9s\tremaining: 5m 13s\n",
      "162:\tlearn: 1845.5108474\ttotal: 49.2s\tremaining: 5m 12s\n",
      "163:\tlearn: 1843.5666171\ttotal: 49.5s\tremaining: 5m 12s\n",
      "164:\tlearn: 1841.7574900\ttotal: 49.8s\tremaining: 5m 12s\n",
      "165:\tlearn: 1840.2171544\ttotal: 50.1s\tremaining: 5m 12s\n",
      "166:\tlearn: 1838.7005697\ttotal: 50.4s\tremaining: 5m 11s\n",
      "167:\tlearn: 1837.2187908\ttotal: 50.7s\tremaining: 5m 11s\n",
      "168:\tlearn: 1835.5926005\ttotal: 51s\tremaining: 5m 11s\n",
      "169:\tlearn: 1833.7446858\ttotal: 51.3s\tremaining: 5m 10s\n",
      "170:\tlearn: 1832.3035742\ttotal: 51.6s\tremaining: 5m 10s\n",
      "171:\tlearn: 1830.8455672\ttotal: 51.9s\tremaining: 5m 9s\n",
      "172:\tlearn: 1829.4401639\ttotal: 52.2s\tremaining: 5m 9s\n",
      "173:\tlearn: 1828.1391827\ttotal: 52.5s\tremaining: 5m 9s\n",
      "174:\tlearn: 1826.9391544\ttotal: 52.8s\tremaining: 5m 9s\n",
      "175:\tlearn: 1825.3884895\ttotal: 53.2s\tremaining: 5m 9s\n",
      "176:\tlearn: 1823.9578814\ttotal: 53.5s\tremaining: 5m 9s\n",
      "177:\tlearn: 1822.8129468\ttotal: 53.8s\tremaining: 5m 8s\n",
      "178:\tlearn: 1821.3984003\ttotal: 54.1s\tremaining: 5m 8s\n",
      "179:\tlearn: 1820.2491112\ttotal: 54.3s\tremaining: 5m 7s\n",
      "180:\tlearn: 1819.0134448\ttotal: 54.6s\tremaining: 5m 7s\n",
      "181:\tlearn: 1817.9004394\ttotal: 54.9s\tremaining: 5m 7s\n",
      "182:\tlearn: 1816.8644802\ttotal: 55.2s\tremaining: 5m 6s\n",
      "183:\tlearn: 1815.5790077\ttotal: 55.5s\tremaining: 5m 6s\n",
      "184:\tlearn: 1814.0233742\ttotal: 55.7s\tremaining: 5m 5s\n",
      "185:\tlearn: 1813.0135786\ttotal: 56s\tremaining: 5m 5s\n",
      "186:\tlearn: 1811.7798956\ttotal: 56.4s\tremaining: 5m 5s\n",
      "187:\tlearn: 1810.7156253\ttotal: 56.7s\tremaining: 5m 5s\n",
      "188:\tlearn: 1809.0721833\ttotal: 57s\tremaining: 5m 4s\n",
      "189:\tlearn: 1808.1102288\ttotal: 57.2s\tremaining: 5m 4s\n",
      "190:\tlearn: 1806.9004599\ttotal: 57.5s\tremaining: 5m 3s\n",
      "191:\tlearn: 1805.5920326\ttotal: 57.8s\tremaining: 5m 3s\n",
      "192:\tlearn: 1804.4985101\ttotal: 58s\tremaining: 5m 2s\n",
      "193:\tlearn: 1803.5849595\ttotal: 58.3s\tremaining: 5m 2s\n",
      "194:\tlearn: 1802.5632750\ttotal: 58.6s\tremaining: 5m 2s\n",
      "195:\tlearn: 1801.5291664\ttotal: 59s\tremaining: 5m 2s\n",
      "196:\tlearn: 1800.4124367\ttotal: 59.2s\tremaining: 5m 1s\n",
      "197:\tlearn: 1799.5426421\ttotal: 59.5s\tremaining: 5m 1s\n",
      "198:\tlearn: 1798.3526946\ttotal: 59.9s\tremaining: 5m 1s\n",
      "199:\tlearn: 1797.4274614\ttotal: 1m\tremaining: 5m\n",
      "200:\tlearn: 1796.6590194\ttotal: 1m\tremaining: 5m\n",
      "201:\tlearn: 1795.8010248\ttotal: 1m\tremaining: 5m\n",
      "202:\tlearn: 1794.9754408\ttotal: 1m\tremaining: 4m 59s\n",
      "203:\tlearn: 1794.1485882\ttotal: 1m 1s\tremaining: 4m 59s\n",
      "204:\tlearn: 1793.2758983\ttotal: 1m 1s\tremaining: 4m 58s\n",
      "205:\tlearn: 1792.4792761\ttotal: 1m 1s\tremaining: 4m 58s\n",
      "206:\tlearn: 1791.7416757\ttotal: 1m 2s\tremaining: 4m 58s\n",
      "207:\tlearn: 1790.8121530\ttotal: 1m 2s\tremaining: 4m 57s\n",
      "208:\tlearn: 1789.7389267\ttotal: 1m 2s\tremaining: 4m 57s\n",
      "209:\tlearn: 1788.7341491\ttotal: 1m 3s\tremaining: 4m 57s\n",
      "210:\tlearn: 1787.9675952\ttotal: 1m 3s\tremaining: 4m 56s\n",
      "211:\tlearn: 1786.9884920\ttotal: 1m 3s\tremaining: 4m 56s\n",
      "212:\tlearn: 1786.2261498\ttotal: 1m 3s\tremaining: 4m 56s\n",
      "213:\tlearn: 1785.0511788\ttotal: 1m 4s\tremaining: 4m 55s\n",
      "214:\tlearn: 1784.1229428\ttotal: 1m 4s\tremaining: 4m 55s\n",
      "215:\tlearn: 1782.9257906\ttotal: 1m 4s\tremaining: 4m 54s\n",
      "216:\tlearn: 1782.0123806\ttotal: 1m 4s\tremaining: 4m 54s\n",
      "217:\tlearn: 1781.3204691\ttotal: 1m 5s\tremaining: 4m 53s\n",
      "218:\tlearn: 1780.5613637\ttotal: 1m 5s\tremaining: 4m 53s\n",
      "219:\tlearn: 1779.8953129\ttotal: 1m 5s\tremaining: 4m 53s\n",
      "220:\tlearn: 1779.1819255\ttotal: 1m 6s\tremaining: 4m 52s\n",
      "221:\tlearn: 1778.1049041\ttotal: 1m 6s\tremaining: 4m 52s\n",
      "222:\tlearn: 1777.3289896\ttotal: 1m 6s\tremaining: 4m 52s\n",
      "223:\tlearn: 1776.7095694\ttotal: 1m 7s\tremaining: 4m 52s\n",
      "224:\tlearn: 1775.8556371\ttotal: 1m 7s\tremaining: 4m 51s\n",
      "225:\tlearn: 1775.1502487\ttotal: 1m 7s\tremaining: 4m 51s\n",
      "226:\tlearn: 1774.5494002\ttotal: 1m 7s\tremaining: 4m 51s\n",
      "227:\tlearn: 1773.7293880\ttotal: 1m 8s\tremaining: 4m 50s\n",
      "228:\tlearn: 1773.1483580\ttotal: 1m 8s\tremaining: 4m 50s\n",
      "229:\tlearn: 1772.4757692\ttotal: 1m 8s\tremaining: 4m 50s\n",
      "230:\tlearn: 1771.6732896\ttotal: 1m 9s\tremaining: 4m 50s\n",
      "231:\tlearn: 1770.8481445\ttotal: 1m 9s\tremaining: 4m 49s\n",
      "232:\tlearn: 1770.2574350\ttotal: 1m 9s\tremaining: 4m 49s\n",
      "233:\tlearn: 1769.3118670\ttotal: 1m 10s\tremaining: 4m 49s\n",
      "234:\tlearn: 1768.6074386\ttotal: 1m 10s\tremaining: 4m 48s\n",
      "235:\tlearn: 1767.7570238\ttotal: 1m 10s\tremaining: 4m 48s\n",
      "236:\tlearn: 1766.9743169\ttotal: 1m 10s\tremaining: 4m 48s\n",
      "237:\tlearn: 1766.4890187\ttotal: 1m 11s\tremaining: 4m 47s\n",
      "238:\tlearn: 1765.5548968\ttotal: 1m 11s\tremaining: 4m 47s\n",
      "239:\tlearn: 1764.9057620\ttotal: 1m 11s\tremaining: 4m 47s\n",
      "240:\tlearn: 1764.2132252\ttotal: 1m 11s\tremaining: 4m 46s\n",
      "241:\tlearn: 1763.4631958\ttotal: 1m 12s\tremaining: 4m 46s\n",
      "242:\tlearn: 1762.5539239\ttotal: 1m 12s\tremaining: 4m 45s\n",
      "243:\tlearn: 1761.6814611\ttotal: 1m 12s\tremaining: 4m 45s\n",
      "244:\tlearn: 1761.2638646\ttotal: 1m 13s\tremaining: 4m 45s\n",
      "245:\tlearn: 1760.5559729\ttotal: 1m 13s\tremaining: 4m 45s\n",
      "246:\tlearn: 1759.8189990\ttotal: 1m 13s\tremaining: 4m 44s\n",
      "247:\tlearn: 1759.2928400\ttotal: 1m 14s\tremaining: 4m 44s\n",
      "248:\tlearn: 1758.5259586\ttotal: 1m 14s\tremaining: 4m 44s\n",
      "249:\tlearn: 1757.8556552\ttotal: 1m 14s\tremaining: 4m 43s\n",
      "250:\tlearn: 1757.1927007\ttotal: 1m 14s\tremaining: 4m 43s\n",
      "251:\tlearn: 1756.6151140\ttotal: 1m 15s\tremaining: 4m 43s\n",
      "252:\tlearn: 1756.0188425\ttotal: 1m 15s\tremaining: 4m 43s\n",
      "253:\tlearn: 1755.6242576\ttotal: 1m 15s\tremaining: 4m 42s\n",
      "254:\tlearn: 1755.0637244\ttotal: 1m 16s\tremaining: 4m 42s\n",
      "255:\tlearn: 1754.3511709\ttotal: 1m 16s\tremaining: 4m 42s\n",
      "256:\tlearn: 1753.8580250\ttotal: 1m 16s\tremaining: 4m 42s\n",
      "257:\tlearn: 1753.4419434\ttotal: 1m 17s\tremaining: 4m 42s\n",
      "258:\tlearn: 1752.9735061\ttotal: 1m 17s\tremaining: 4m 43s\n",
      "259:\tlearn: 1752.5620401\ttotal: 1m 18s\tremaining: 4m 43s\n",
      "260:\tlearn: 1751.7597854\ttotal: 1m 18s\tremaining: 4m 43s\n",
      "261:\tlearn: 1751.1293668\ttotal: 1m 19s\tremaining: 4m 42s\n",
      "262:\tlearn: 1750.5853191\ttotal: 1m 19s\tremaining: 4m 42s\n",
      "263:\tlearn: 1749.9098283\ttotal: 1m 19s\tremaining: 4m 42s\n",
      "264:\tlearn: 1749.2786813\ttotal: 1m 19s\tremaining: 4m 42s\n",
      "265:\tlearn: 1748.7159328\ttotal: 1m 20s\tremaining: 4m 41s\n",
      "266:\tlearn: 1748.2149137\ttotal: 1m 20s\tremaining: 4m 41s\n",
      "267:\tlearn: 1747.5930852\ttotal: 1m 20s\tremaining: 4m 40s\n",
      "268:\tlearn: 1747.1015052\ttotal: 1m 21s\tremaining: 4m 40s\n",
      "269:\tlearn: 1746.4174863\ttotal: 1m 21s\tremaining: 4m 40s\n",
      "270:\tlearn: 1746.0504253\ttotal: 1m 21s\tremaining: 4m 40s\n",
      "271:\tlearn: 1745.4772255\ttotal: 1m 22s\tremaining: 4m 39s\n",
      "272:\tlearn: 1745.1230448\ttotal: 1m 22s\tremaining: 4m 39s\n",
      "273:\tlearn: 1744.6368552\ttotal: 1m 22s\tremaining: 4m 39s\n",
      "274:\tlearn: 1744.3027172\ttotal: 1m 22s\tremaining: 4m 39s\n",
      "275:\tlearn: 1743.4928323\ttotal: 1m 23s\tremaining: 4m 38s\n",
      "276:\tlearn: 1742.9097362\ttotal: 1m 23s\tremaining: 4m 38s\n",
      "277:\tlearn: 1742.4978295\ttotal: 1m 23s\tremaining: 4m 38s\n",
      "278:\tlearn: 1742.0055765\ttotal: 1m 24s\tremaining: 4m 37s\n",
      "279:\tlearn: 1741.4709589\ttotal: 1m 24s\tremaining: 4m 37s\n",
      "280:\tlearn: 1740.8780656\ttotal: 1m 24s\tremaining: 4m 37s\n",
      "281:\tlearn: 1740.1802040\ttotal: 1m 25s\tremaining: 4m 36s\n",
      "282:\tlearn: 1739.5887521\ttotal: 1m 25s\tremaining: 4m 36s\n",
      "283:\tlearn: 1739.1584188\ttotal: 1m 25s\tremaining: 4m 36s\n",
      "284:\tlearn: 1738.4482888\ttotal: 1m 25s\tremaining: 4m 35s\n",
      "285:\tlearn: 1738.0669987\ttotal: 1m 26s\tremaining: 4m 35s\n",
      "286:\tlearn: 1737.3218576\ttotal: 1m 26s\tremaining: 4m 35s\n",
      "287:\tlearn: 1736.5301109\ttotal: 1m 26s\tremaining: 4m 34s\n",
      "288:\tlearn: 1735.8492810\ttotal: 1m 26s\tremaining: 4m 34s\n",
      "289:\tlearn: 1735.4371777\ttotal: 1m 27s\tremaining: 4m 33s\n",
      "290:\tlearn: 1734.9037850\ttotal: 1m 27s\tremaining: 4m 33s\n",
      "291:\tlearn: 1734.5814951\ttotal: 1m 27s\tremaining: 4m 33s\n",
      "292:\tlearn: 1733.8610992\ttotal: 1m 28s\tremaining: 4m 32s\n",
      "293:\tlearn: 1733.2875420\ttotal: 1m 28s\tremaining: 4m 32s\n",
      "294:\tlearn: 1732.7198946\ttotal: 1m 28s\tremaining: 4m 31s\n",
      "295:\tlearn: 1732.1586062\ttotal: 1m 28s\tremaining: 4m 31s\n",
      "296:\tlearn: 1731.8676675\ttotal: 1m 29s\tremaining: 4m 31s\n",
      "297:\tlearn: 1731.4097572\ttotal: 1m 29s\tremaining: 4m 30s\n",
      "298:\tlearn: 1730.8510102\ttotal: 1m 29s\tremaining: 4m 30s\n",
      "299:\tlearn: 1730.2188215\ttotal: 1m 30s\tremaining: 4m 30s\n",
      "300:\tlearn: 1729.6283587\ttotal: 1m 30s\tremaining: 4m 29s\n",
      "301:\tlearn: 1729.3328483\ttotal: 1m 30s\tremaining: 4m 29s\n",
      "302:\tlearn: 1728.8521881\ttotal: 1m 30s\tremaining: 4m 29s\n",
      "303:\tlearn: 1728.5001021\ttotal: 1m 31s\tremaining: 4m 28s\n",
      "304:\tlearn: 1727.7850504\ttotal: 1m 31s\tremaining: 4m 28s\n",
      "305:\tlearn: 1727.1870588\ttotal: 1m 31s\tremaining: 4m 28s\n",
      "306:\tlearn: 1726.7893920\ttotal: 1m 32s\tremaining: 4m 27s\n",
      "307:\tlearn: 1726.2569066\ttotal: 1m 32s\tremaining: 4m 27s\n",
      "308:\tlearn: 1725.7764145\ttotal: 1m 32s\tremaining: 4m 26s\n",
      "309:\tlearn: 1725.3296079\ttotal: 1m 32s\tremaining: 4m 26s\n",
      "310:\tlearn: 1724.8179750\ttotal: 1m 33s\tremaining: 4m 26s\n",
      "311:\tlearn: 1724.2781378\ttotal: 1m 33s\tremaining: 4m 25s\n",
      "312:\tlearn: 1723.8990670\ttotal: 1m 33s\tremaining: 4m 25s\n",
      "313:\tlearn: 1723.6514936\ttotal: 1m 33s\tremaining: 4m 25s\n",
      "314:\tlearn: 1723.1429934\ttotal: 1m 34s\tremaining: 4m 24s\n",
      "315:\tlearn: 1722.6956149\ttotal: 1m 34s\tremaining: 4m 24s\n",
      "316:\tlearn: 1722.3087382\ttotal: 1m 34s\tremaining: 4m 24s\n",
      "317:\tlearn: 1721.6773744\ttotal: 1m 35s\tremaining: 4m 23s\n",
      "318:\tlearn: 1721.0258890\ttotal: 1m 35s\tremaining: 4m 23s\n",
      "319:\tlearn: 1720.6431572\ttotal: 1m 35s\tremaining: 4m 23s\n",
      "320:\tlearn: 1720.1229170\ttotal: 1m 35s\tremaining: 4m 22s\n",
      "321:\tlearn: 1719.7591874\ttotal: 1m 36s\tremaining: 4m 22s\n",
      "322:\tlearn: 1719.1261317\ttotal: 1m 36s\tremaining: 4m 21s\n",
      "323:\tlearn: 1718.4346928\ttotal: 1m 36s\tremaining: 4m 21s\n",
      "324:\tlearn: 1717.8232104\ttotal: 1m 36s\tremaining: 4m 21s\n",
      "325:\tlearn: 1717.3766374\ttotal: 1m 37s\tremaining: 4m 20s\n",
      "326:\tlearn: 1716.6756163\ttotal: 1m 37s\tremaining: 4m 20s\n",
      "327:\tlearn: 1716.2221924\ttotal: 1m 37s\tremaining: 4m 19s\n",
      "328:\tlearn: 1715.7584068\ttotal: 1m 38s\tremaining: 4m 19s\n",
      "329:\tlearn: 1715.3430058\ttotal: 1m 38s\tremaining: 4m 19s\n",
      "330:\tlearn: 1715.0505566\ttotal: 1m 38s\tremaining: 4m 18s\n",
      "331:\tlearn: 1714.5570179\ttotal: 1m 38s\tremaining: 4m 18s\n",
      "332:\tlearn: 1714.0574561\ttotal: 1m 39s\tremaining: 4m 18s\n",
      "333:\tlearn: 1713.5754020\ttotal: 1m 39s\tremaining: 4m 18s\n",
      "334:\tlearn: 1713.1200991\ttotal: 1m 39s\tremaining: 4m 17s\n",
      "335:\tlearn: 1712.7074568\ttotal: 1m 40s\tremaining: 4m 17s\n",
      "336:\tlearn: 1712.2832110\ttotal: 1m 40s\tremaining: 4m 17s\n",
      "337:\tlearn: 1711.9367827\ttotal: 1m 40s\tremaining: 4m 16s\n",
      "338:\tlearn: 1711.6745723\ttotal: 1m 41s\tremaining: 4m 16s\n",
      "339:\tlearn: 1711.2976637\ttotal: 1m 41s\tremaining: 4m 16s\n",
      "340:\tlearn: 1710.9152291\ttotal: 1m 41s\tremaining: 4m 15s\n",
      "341:\tlearn: 1710.5996180\ttotal: 1m 41s\tremaining: 4m 15s\n",
      "342:\tlearn: 1709.7787281\ttotal: 1m 42s\tremaining: 4m 15s\n",
      "343:\tlearn: 1709.3060996\ttotal: 1m 42s\tremaining: 4m 14s\n",
      "344:\tlearn: 1708.8707320\ttotal: 1m 42s\tremaining: 4m 14s\n",
      "345:\tlearn: 1708.4112510\ttotal: 1m 43s\tremaining: 4m 14s\n",
      "346:\tlearn: 1708.0713819\ttotal: 1m 43s\tremaining: 4m 13s\n",
      "347:\tlearn: 1707.6696015\ttotal: 1m 43s\tremaining: 4m 13s\n",
      "348:\tlearn: 1707.3745165\ttotal: 1m 43s\tremaining: 4m 13s\n",
      "349:\tlearn: 1706.8907921\ttotal: 1m 44s\tremaining: 4m 12s\n",
      "350:\tlearn: 1706.5281241\ttotal: 1m 44s\tremaining: 4m 12s\n",
      "351:\tlearn: 1706.1172752\ttotal: 1m 44s\tremaining: 4m 12s\n",
      "352:\tlearn: 1705.4712713\ttotal: 1m 44s\tremaining: 4m 11s\n",
      "353:\tlearn: 1705.1495198\ttotal: 1m 45s\tremaining: 4m 11s\n",
      "354:\tlearn: 1704.7213703\ttotal: 1m 45s\tremaining: 4m 11s\n",
      "355:\tlearn: 1704.1789314\ttotal: 1m 45s\tremaining: 4m 10s\n",
      "356:\tlearn: 1703.9264798\ttotal: 1m 46s\tremaining: 4m 10s\n",
      "357:\tlearn: 1703.5340706\ttotal: 1m 46s\tremaining: 4m 10s\n",
      "358:\tlearn: 1702.9830086\ttotal: 1m 46s\tremaining: 4m 10s\n",
      "359:\tlearn: 1702.7592985\ttotal: 1m 47s\tremaining: 4m 9s\n",
      "360:\tlearn: 1702.3703721\ttotal: 1m 47s\tremaining: 4m 9s\n",
      "361:\tlearn: 1702.0918896\ttotal: 1m 47s\tremaining: 4m 9s\n",
      "362:\tlearn: 1701.5863862\ttotal: 1m 47s\tremaining: 4m 8s\n",
      "363:\tlearn: 1701.0817346\ttotal: 1m 48s\tremaining: 4m 8s\n",
      "364:\tlearn: 1700.8349264\ttotal: 1m 48s\tremaining: 4m 8s\n",
      "365:\tlearn: 1700.5625011\ttotal: 1m 48s\tremaining: 4m 7s\n",
      "366:\tlearn: 1700.2519289\ttotal: 1m 49s\tremaining: 4m 7s\n",
      "367:\tlearn: 1699.9135905\ttotal: 1m 49s\tremaining: 4m 7s\n",
      "368:\tlearn: 1699.4115426\ttotal: 1m 49s\tremaining: 4m 6s\n",
      "369:\tlearn: 1698.8727745\ttotal: 1m 49s\tremaining: 4m 6s\n",
      "370:\tlearn: 1698.3305118\ttotal: 1m 50s\tremaining: 4m 6s\n",
      "371:\tlearn: 1697.7770197\ttotal: 1m 50s\tremaining: 4m 5s\n",
      "372:\tlearn: 1697.2795013\ttotal: 1m 50s\tremaining: 4m 5s\n",
      "373:\tlearn: 1696.8298986\ttotal: 1m 50s\tremaining: 4m 4s\n",
      "374:\tlearn: 1696.3598955\ttotal: 1m 51s\tremaining: 4m 4s\n",
      "375:\tlearn: 1695.9783094\ttotal: 1m 51s\tremaining: 4m 4s\n",
      "376:\tlearn: 1695.7164009\ttotal: 1m 51s\tremaining: 4m 3s\n",
      "377:\tlearn: 1695.2747632\ttotal: 1m 51s\tremaining: 4m 3s\n",
      "378:\tlearn: 1695.0760406\ttotal: 1m 52s\tremaining: 4m 3s\n",
      "379:\tlearn: 1694.7505416\ttotal: 1m 52s\tremaining: 4m 2s\n",
      "380:\tlearn: 1694.3240197\ttotal: 1m 52s\tremaining: 4m 2s\n",
      "381:\tlearn: 1693.6650142\ttotal: 1m 53s\tremaining: 4m 2s\n",
      "382:\tlearn: 1693.2860661\ttotal: 1m 53s\tremaining: 4m 1s\n",
      "383:\tlearn: 1692.9659910\ttotal: 1m 53s\tremaining: 4m 1s\n",
      "384:\tlearn: 1692.4753859\ttotal: 1m 53s\tremaining: 4m 1s\n",
      "385:\tlearn: 1692.2243180\ttotal: 1m 54s\tremaining: 4m\n",
      "386:\tlearn: 1691.9413104\ttotal: 1m 54s\tremaining: 4m\n",
      "387:\tlearn: 1691.4564036\ttotal: 1m 54s\tremaining: 3m 59s\n",
      "388:\tlearn: 1691.2803079\ttotal: 1m 54s\tremaining: 3m 59s\n",
      "389:\tlearn: 1691.1087393\ttotal: 1m 55s\tremaining: 3m 59s\n",
      "390:\tlearn: 1690.9395643\ttotal: 1m 55s\tremaining: 3m 58s\n",
      "391:\tlearn: 1690.6737952\ttotal: 1m 55s\tremaining: 3m 58s\n",
      "392:\tlearn: 1690.1732021\ttotal: 1m 56s\tremaining: 3m 58s\n",
      "393:\tlearn: 1689.7863582\ttotal: 1m 56s\tremaining: 3m 57s\n",
      "394:\tlearn: 1689.4888736\ttotal: 1m 56s\tremaining: 3m 57s\n",
      "395:\tlearn: 1689.2868536\ttotal: 1m 56s\tremaining: 3m 57s\n",
      "396:\tlearn: 1689.0882280\ttotal: 1m 57s\tremaining: 3m 57s\n",
      "397:\tlearn: 1688.6898171\ttotal: 1m 57s\tremaining: 3m 56s\n",
      "398:\tlearn: 1688.1973761\ttotal: 1m 57s\tremaining: 3m 56s\n",
      "399:\tlearn: 1687.8407881\ttotal: 1m 58s\tremaining: 3m 56s\n",
      "400:\tlearn: 1687.4789113\ttotal: 1m 58s\tremaining: 3m 55s\n",
      "401:\tlearn: 1687.0691308\ttotal: 1m 58s\tremaining: 3m 55s\n",
      "402:\tlearn: 1686.8794155\ttotal: 1m 58s\tremaining: 3m 54s\n",
      "403:\tlearn: 1686.4383187\ttotal: 1m 59s\tremaining: 3m 54s\n",
      "404:\tlearn: 1685.9929471\ttotal: 1m 59s\tremaining: 3m 54s\n",
      "405:\tlearn: 1685.6015723\ttotal: 1m 59s\tremaining: 3m 53s\n",
      "406:\tlearn: 1685.3166602\ttotal: 1m 59s\tremaining: 3m 53s\n",
      "407:\tlearn: 1684.9692349\ttotal: 2m\tremaining: 3m 53s\n",
      "408:\tlearn: 1684.3721733\ttotal: 2m\tremaining: 3m 52s\n",
      "409:\tlearn: 1683.9343241\ttotal: 2m\tremaining: 3m 52s\n",
      "410:\tlearn: 1683.6705623\ttotal: 2m\tremaining: 3m 52s\n",
      "411:\tlearn: 1683.3768027\ttotal: 2m 1s\tremaining: 3m 51s\n",
      "412:\tlearn: 1683.0656291\ttotal: 2m 1s\tremaining: 3m 51s\n",
      "413:\tlearn: 1682.8262337\ttotal: 2m 1s\tremaining: 3m 51s\n",
      "414:\tlearn: 1682.4164306\ttotal: 2m 2s\tremaining: 3m 51s\n",
      "415:\tlearn: 1682.0247980\ttotal: 2m 2s\tremaining: 3m 50s\n",
      "416:\tlearn: 1681.7032769\ttotal: 2m 2s\tremaining: 3m 50s\n",
      "417:\tlearn: 1681.3892048\ttotal: 2m 3s\tremaining: 3m 50s\n",
      "418:\tlearn: 1680.8952468\ttotal: 2m 3s\tremaining: 3m 49s\n",
      "419:\tlearn: 1680.6195349\ttotal: 2m 3s\tremaining: 3m 49s\n",
      "420:\tlearn: 1680.3262115\ttotal: 2m 3s\tremaining: 3m 48s\n",
      "421:\tlearn: 1680.1355876\ttotal: 2m 4s\tremaining: 3m 48s\n",
      "422:\tlearn: 1679.8565821\ttotal: 2m 4s\tremaining: 3m 48s\n",
      "423:\tlearn: 1679.6005267\ttotal: 2m 4s\tremaining: 3m 48s\n",
      "424:\tlearn: 1679.3202879\ttotal: 2m 4s\tremaining: 3m 47s\n",
      "425:\tlearn: 1678.8637800\ttotal: 2m 5s\tremaining: 3m 47s\n",
      "426:\tlearn: 1678.7353610\ttotal: 2m 5s\tremaining: 3m 47s\n",
      "427:\tlearn: 1678.4834337\ttotal: 2m 5s\tremaining: 3m 46s\n",
      "428:\tlearn: 1678.2072766\ttotal: 2m 5s\tremaining: 3m 46s\n",
      "429:\tlearn: 1677.7331342\ttotal: 2m 6s\tremaining: 3m 46s\n",
      "430:\tlearn: 1677.5878190\ttotal: 2m 6s\tremaining: 3m 45s\n",
      "431:\tlearn: 1677.0694791\ttotal: 2m 6s\tremaining: 3m 45s\n",
      "432:\tlearn: 1676.8801607\ttotal: 2m 7s\tremaining: 3m 45s\n",
      "433:\tlearn: 1676.4912566\ttotal: 2m 7s\tremaining: 3m 44s\n",
      "434:\tlearn: 1676.1985824\ttotal: 2m 7s\tremaining: 3m 44s\n",
      "435:\tlearn: 1675.7393792\ttotal: 2m 7s\tremaining: 3m 44s\n",
      "436:\tlearn: 1675.3178655\ttotal: 2m 8s\tremaining: 3m 43s\n",
      "437:\tlearn: 1675.0367675\ttotal: 2m 8s\tremaining: 3m 43s\n",
      "438:\tlearn: 1674.7525273\ttotal: 2m 8s\tremaining: 3m 43s\n",
      "439:\tlearn: 1674.5361159\ttotal: 2m 9s\tremaining: 3m 43s\n",
      "440:\tlearn: 1674.2596947\ttotal: 2m 9s\tremaining: 3m 42s\n",
      "441:\tlearn: 1673.9791239\ttotal: 2m 9s\tremaining: 3m 42s\n",
      "442:\tlearn: 1673.7061982\ttotal: 2m 10s\tremaining: 3m 42s\n",
      "443:\tlearn: 1673.4828377\ttotal: 2m 10s\tremaining: 3m 41s\n",
      "444:\tlearn: 1673.0705044\ttotal: 2m 10s\tremaining: 3m 41s\n",
      "445:\tlearn: 1672.8023615\ttotal: 2m 10s\tremaining: 3m 41s\n",
      "446:\tlearn: 1672.4684918\ttotal: 2m 11s\tremaining: 3m 40s\n",
      "447:\tlearn: 1672.2634722\ttotal: 2m 11s\tremaining: 3m 40s\n",
      "448:\tlearn: 1672.1002679\ttotal: 2m 11s\tremaining: 3m 40s\n",
      "449:\tlearn: 1671.7722379\ttotal: 2m 12s\tremaining: 3m 40s\n",
      "450:\tlearn: 1671.4135647\ttotal: 2m 12s\tremaining: 3m 39s\n",
      "451:\tlearn: 1671.1779879\ttotal: 2m 12s\tremaining: 3m 39s\n",
      "452:\tlearn: 1670.8502116\ttotal: 2m 12s\tremaining: 3m 39s\n",
      "453:\tlearn: 1670.5621673\ttotal: 2m 13s\tremaining: 3m 38s\n",
      "454:\tlearn: 1670.3261171\ttotal: 2m 13s\tremaining: 3m 38s\n",
      "455:\tlearn: 1670.0529042\ttotal: 2m 13s\tremaining: 3m 38s\n",
      "456:\tlearn: 1669.7719158\ttotal: 2m 14s\tremaining: 3m 37s\n",
      "457:\tlearn: 1669.4544504\ttotal: 2m 14s\tremaining: 3m 37s\n",
      "458:\tlearn: 1669.1660941\ttotal: 2m 14s\tremaining: 3m 37s\n",
      "459:\tlearn: 1668.7991981\ttotal: 2m 14s\tremaining: 3m 37s\n",
      "460:\tlearn: 1668.4391285\ttotal: 2m 15s\tremaining: 3m 36s\n",
      "461:\tlearn: 1668.0982741\ttotal: 2m 15s\tremaining: 3m 36s\n",
      "462:\tlearn: 1667.6654723\ttotal: 2m 15s\tremaining: 3m 36s\n",
      "463:\tlearn: 1667.3612016\ttotal: 2m 16s\tremaining: 3m 35s\n",
      "464:\tlearn: 1667.0867493\ttotal: 2m 16s\tremaining: 3m 35s\n",
      "465:\tlearn: 1666.9579664\ttotal: 2m 16s\tremaining: 3m 35s\n",
      "466:\tlearn: 1666.6854552\ttotal: 2m 16s\tremaining: 3m 34s\n",
      "467:\tlearn: 1666.4504165\ttotal: 2m 17s\tremaining: 3m 34s\n",
      "468:\tlearn: 1666.3091884\ttotal: 2m 17s\tremaining: 3m 34s\n",
      "469:\tlearn: 1665.9316941\ttotal: 2m 17s\tremaining: 3m 34s\n",
      "470:\tlearn: 1665.6815049\ttotal: 2m 18s\tremaining: 3m 33s\n",
      "471:\tlearn: 1665.2495029\ttotal: 2m 18s\tremaining: 3m 33s\n",
      "472:\tlearn: 1664.7047141\ttotal: 2m 18s\tremaining: 3m 33s\n",
      "473:\tlearn: 1664.4575944\ttotal: 2m 18s\tremaining: 3m 32s\n",
      "474:\tlearn: 1664.2012580\ttotal: 2m 19s\tremaining: 3m 32s\n",
      "475:\tlearn: 1663.9138459\ttotal: 2m 19s\tremaining: 3m 32s\n",
      "476:\tlearn: 1663.4798928\ttotal: 2m 19s\tremaining: 3m 31s\n",
      "477:\tlearn: 1663.2326357\ttotal: 2m 20s\tremaining: 3m 31s\n",
      "478:\tlearn: 1663.0244186\ttotal: 2m 20s\tremaining: 3m 31s\n",
      "479:\tlearn: 1662.7876820\ttotal: 2m 20s\tremaining: 3m 30s\n",
      "480:\tlearn: 1662.6054288\ttotal: 2m 20s\tremaining: 3m 30s\n",
      "481:\tlearn: 1662.0660806\ttotal: 2m 21s\tremaining: 3m 30s\n",
      "482:\tlearn: 1661.8033283\ttotal: 2m 21s\tremaining: 3m 30s\n",
      "483:\tlearn: 1661.5277071\ttotal: 2m 21s\tremaining: 3m 29s\n",
      "484:\tlearn: 1661.1627304\ttotal: 2m 22s\tremaining: 3m 29s\n",
      "485:\tlearn: 1660.7821099\ttotal: 2m 22s\tremaining: 3m 29s\n",
      "486:\tlearn: 1660.6300708\ttotal: 2m 22s\tremaining: 3m 28s\n",
      "487:\tlearn: 1660.4074369\ttotal: 2m 23s\tremaining: 3m 28s\n",
      "488:\tlearn: 1660.1796890\ttotal: 2m 23s\tremaining: 3m 28s\n",
      "489:\tlearn: 1659.9303869\ttotal: 2m 23s\tremaining: 3m 28s\n",
      "490:\tlearn: 1659.7994418\ttotal: 2m 23s\tremaining: 3m 27s\n",
      "491:\tlearn: 1659.5527870\ttotal: 2m 24s\tremaining: 3m 27s\n",
      "492:\tlearn: 1659.3235232\ttotal: 2m 24s\tremaining: 3m 27s\n",
      "493:\tlearn: 1659.0661000\ttotal: 2m 24s\tremaining: 3m 26s\n",
      "494:\tlearn: 1658.7522628\ttotal: 2m 25s\tremaining: 3m 26s\n",
      "495:\tlearn: 1658.4764435\ttotal: 2m 25s\tremaining: 3m 26s\n",
      "496:\tlearn: 1658.1212117\ttotal: 2m 25s\tremaining: 3m 25s\n",
      "497:\tlearn: 1657.9915423\ttotal: 2m 25s\tremaining: 3m 25s\n",
      "498:\tlearn: 1657.6005951\ttotal: 2m 26s\tremaining: 3m 25s\n",
      "499:\tlearn: 1657.4384830\ttotal: 2m 26s\tremaining: 3m 24s\n",
      "500:\tlearn: 1657.1770809\ttotal: 2m 26s\tremaining: 3m 24s\n",
      "501:\tlearn: 1656.9656251\ttotal: 2m 27s\tremaining: 3m 24s\n",
      "502:\tlearn: 1656.5524236\ttotal: 2m 27s\tremaining: 3m 24s\n",
      "503:\tlearn: 1656.1394446\ttotal: 2m 27s\tremaining: 3m 23s\n",
      "504:\tlearn: 1655.9912764\ttotal: 2m 27s\tremaining: 3m 23s\n",
      "505:\tlearn: 1655.7143334\ttotal: 2m 28s\tremaining: 3m 23s\n",
      "506:\tlearn: 1655.5563105\ttotal: 2m 28s\tremaining: 3m 22s\n",
      "507:\tlearn: 1655.3185541\ttotal: 2m 28s\tremaining: 3m 22s\n",
      "508:\tlearn: 1654.9909797\ttotal: 2m 28s\tremaining: 3m 22s\n",
      "509:\tlearn: 1654.6553781\ttotal: 2m 29s\tremaining: 3m 21s\n",
      "510:\tlearn: 1654.4103677\ttotal: 2m 29s\tremaining: 3m 21s\n",
      "511:\tlearn: 1654.2345596\ttotal: 2m 29s\tremaining: 3m 21s\n",
      "512:\tlearn: 1654.0142079\ttotal: 2m 29s\tremaining: 3m 20s\n",
      "513:\tlearn: 1653.7517519\ttotal: 2m 30s\tremaining: 3m 20s\n",
      "514:\tlearn: 1653.3396357\ttotal: 2m 30s\tremaining: 3m 20s\n",
      "515:\tlearn: 1653.1573457\ttotal: 2m 30s\tremaining: 3m 19s\n",
      "516:\tlearn: 1652.7658564\ttotal: 2m 30s\tremaining: 3m 19s\n",
      "517:\tlearn: 1652.5482203\ttotal: 2m 31s\tremaining: 3m 19s\n",
      "518:\tlearn: 1652.3953490\ttotal: 2m 31s\tremaining: 3m 18s\n",
      "519:\tlearn: 1652.1863205\ttotal: 2m 31s\tremaining: 3m 18s\n",
      "520:\tlearn: 1651.9958846\ttotal: 2m 32s\tremaining: 3m 18s\n",
      "521:\tlearn: 1651.6362999\ttotal: 2m 32s\tremaining: 3m 17s\n",
      "522:\tlearn: 1651.5135086\ttotal: 2m 32s\tremaining: 3m 17s\n",
      "523:\tlearn: 1651.2187176\ttotal: 2m 32s\tremaining: 3m 17s\n",
      "524:\tlearn: 1650.8778747\ttotal: 2m 33s\tremaining: 3m 16s\n",
      "525:\tlearn: 1650.5240126\ttotal: 2m 33s\tremaining: 3m 16s\n",
      "526:\tlearn: 1650.2773901\ttotal: 2m 33s\tremaining: 3m 16s\n",
      "527:\tlearn: 1649.8710635\ttotal: 2m 33s\tremaining: 3m 15s\n",
      "528:\tlearn: 1649.5803361\ttotal: 2m 34s\tremaining: 3m 15s\n",
      "529:\tlearn: 1649.2401774\ttotal: 2m 34s\tremaining: 3m 15s\n",
      "530:\tlearn: 1648.9372827\ttotal: 2m 34s\tremaining: 3m 14s\n",
      "531:\tlearn: 1648.6960717\ttotal: 2m 34s\tremaining: 3m 14s\n",
      "532:\tlearn: 1648.4242319\ttotal: 2m 35s\tremaining: 3m 14s\n",
      "533:\tlearn: 1648.2136111\ttotal: 2m 35s\tremaining: 3m 13s\n",
      "534:\tlearn: 1648.0104715\ttotal: 2m 35s\tremaining: 3m 13s\n",
      "535:\tlearn: 1647.8358712\ttotal: 2m 36s\tremaining: 3m 13s\n",
      "536:\tlearn: 1647.6157296\ttotal: 2m 36s\tremaining: 3m 13s\n",
      "537:\tlearn: 1647.2654793\ttotal: 2m 36s\tremaining: 3m 12s\n",
      "538:\tlearn: 1647.0746366\ttotal: 2m 36s\tremaining: 3m 12s\n",
      "539:\tlearn: 1646.8676043\ttotal: 2m 37s\tremaining: 3m 12s\n",
      "540:\tlearn: 1646.5263471\ttotal: 2m 37s\tremaining: 3m 11s\n",
      "541:\tlearn: 1646.1996735\ttotal: 2m 37s\tremaining: 3m 11s\n",
      "542:\tlearn: 1645.8236104\ttotal: 2m 37s\tremaining: 3m 11s\n",
      "543:\tlearn: 1645.5939426\ttotal: 2m 38s\tremaining: 3m 10s\n",
      "544:\tlearn: 1645.2404904\ttotal: 2m 38s\tremaining: 3m 10s\n",
      "545:\tlearn: 1644.9768261\ttotal: 2m 38s\tremaining: 3m 10s\n",
      "546:\tlearn: 1644.8079591\ttotal: 2m 39s\tremaining: 3m 9s\n",
      "547:\tlearn: 1644.6502525\ttotal: 2m 39s\tremaining: 3m 9s\n",
      "548:\tlearn: 1644.2736370\ttotal: 2m 39s\tremaining: 3m 9s\n",
      "549:\tlearn: 1643.8343811\ttotal: 2m 39s\tremaining: 3m 8s\n",
      "550:\tlearn: 1643.6202606\ttotal: 2m 40s\tremaining: 3m 8s\n",
      "551:\tlearn: 1643.4691957\ttotal: 2m 40s\tremaining: 3m 8s\n",
      "552:\tlearn: 1643.1763327\ttotal: 2m 40s\tremaining: 3m 8s\n",
      "553:\tlearn: 1642.8133286\ttotal: 2m 41s\tremaining: 3m 7s\n",
      "554:\tlearn: 1642.6487759\ttotal: 2m 41s\tremaining: 3m 7s\n",
      "555:\tlearn: 1642.3632790\ttotal: 2m 41s\tremaining: 3m 7s\n",
      "556:\tlearn: 1642.1196820\ttotal: 2m 41s\tremaining: 3m 6s\n",
      "557:\tlearn: 1641.7987968\ttotal: 2m 42s\tremaining: 3m 6s\n",
      "558:\tlearn: 1641.7138024\ttotal: 2m 42s\tremaining: 3m 6s\n",
      "559:\tlearn: 1641.5364743\ttotal: 2m 42s\tremaining: 3m 5s\n",
      "560:\tlearn: 1641.3606437\ttotal: 2m 43s\tremaining: 3m 5s\n",
      "561:\tlearn: 1640.9901226\ttotal: 2m 43s\tremaining: 3m 5s\n",
      "562:\tlearn: 1640.8112498\ttotal: 2m 43s\tremaining: 3m 5s\n",
      "563:\tlearn: 1640.5715503\ttotal: 2m 43s\tremaining: 3m 4s\n",
      "564:\tlearn: 1640.4212798\ttotal: 2m 44s\tremaining: 3m 4s\n",
      "565:\tlearn: 1640.1230619\ttotal: 2m 44s\tremaining: 3m 4s\n",
      "566:\tlearn: 1639.9828919\ttotal: 2m 44s\tremaining: 3m 4s\n",
      "567:\tlearn: 1639.6387569\ttotal: 2m 45s\tremaining: 3m 3s\n",
      "568:\tlearn: 1639.3639490\ttotal: 2m 45s\tremaining: 3m 3s\n",
      "569:\tlearn: 1639.1496684\ttotal: 2m 45s\tremaining: 3m 3s\n",
      "570:\tlearn: 1638.7867572\ttotal: 2m 45s\tremaining: 3m 2s\n",
      "571:\tlearn: 1638.5177967\ttotal: 2m 46s\tremaining: 3m 2s\n",
      "572:\tlearn: 1638.3619663\ttotal: 2m 46s\tremaining: 3m 2s\n",
      "573:\tlearn: 1638.1796846\ttotal: 2m 46s\tremaining: 3m 1s\n",
      "574:\tlearn: 1638.0009838\ttotal: 2m 47s\tremaining: 3m 1s\n",
      "575:\tlearn: 1637.6469271\ttotal: 2m 47s\tremaining: 3m 1s\n",
      "576:\tlearn: 1637.3397679\ttotal: 2m 47s\tremaining: 3m 1s\n",
      "577:\tlearn: 1637.1628980\ttotal: 2m 47s\tremaining: 3m\n",
      "578:\tlearn: 1636.9503453\ttotal: 2m 48s\tremaining: 3m\n",
      "579:\tlearn: 1636.8423463\ttotal: 2m 48s\tremaining: 3m\n",
      "580:\tlearn: 1636.6123307\ttotal: 2m 48s\tremaining: 2m 59s\n",
      "581:\tlearn: 1636.3830836\ttotal: 2m 49s\tremaining: 2m 59s\n",
      "582:\tlearn: 1636.0237177\ttotal: 2m 49s\tremaining: 2m 59s\n",
      "583:\tlearn: 1635.7660615\ttotal: 2m 49s\tremaining: 2m 58s\n",
      "584:\tlearn: 1635.5317237\ttotal: 2m 49s\tremaining: 2m 58s\n",
      "585:\tlearn: 1635.3231405\ttotal: 2m 50s\tremaining: 2m 58s\n",
      "586:\tlearn: 1635.1009007\ttotal: 2m 50s\tremaining: 2m 57s\n",
      "587:\tlearn: 1634.8733082\ttotal: 2m 50s\tremaining: 2m 57s\n",
      "588:\tlearn: 1634.6843492\ttotal: 2m 50s\tremaining: 2m 57s\n",
      "589:\tlearn: 1634.5114300\ttotal: 2m 51s\tremaining: 2m 57s\n",
      "590:\tlearn: 1634.2862696\ttotal: 2m 51s\tremaining: 2m 56s\n",
      "591:\tlearn: 1634.1363701\ttotal: 2m 51s\tremaining: 2m 56s\n",
      "592:\tlearn: 1633.8141357\ttotal: 2m 52s\tremaining: 2m 56s\n",
      "593:\tlearn: 1633.7138897\ttotal: 2m 52s\tremaining: 2m 55s\n",
      "594:\tlearn: 1633.4852131\ttotal: 2m 52s\tremaining: 2m 55s\n",
      "595:\tlearn: 1633.2357364\ttotal: 2m 52s\tremaining: 2m 55s\n",
      "596:\tlearn: 1633.0769301\ttotal: 2m 53s\tremaining: 2m 55s\n",
      "597:\tlearn: 1632.9370986\ttotal: 2m 53s\tremaining: 2m 54s\n",
      "598:\tlearn: 1632.6976110\ttotal: 2m 53s\tremaining: 2m 54s\n",
      "599:\tlearn: 1632.5358418\ttotal: 2m 54s\tremaining: 2m 54s\n",
      "600:\tlearn: 1632.1181356\ttotal: 2m 54s\tremaining: 2m 53s\n",
      "601:\tlearn: 1631.8274375\ttotal: 2m 54s\tremaining: 2m 53s\n",
      "602:\tlearn: 1631.4806883\ttotal: 2m 55s\tremaining: 2m 53s\n",
      "603:\tlearn: 1631.2475974\ttotal: 2m 55s\tremaining: 2m 52s\n",
      "604:\tlearn: 1631.1757780\ttotal: 2m 55s\tremaining: 2m 52s\n",
      "605:\tlearn: 1630.9463469\ttotal: 2m 55s\tremaining: 2m 52s\n",
      "606:\tlearn: 1630.6972552\ttotal: 2m 56s\tremaining: 2m 52s\n",
      "607:\tlearn: 1630.4509193\ttotal: 2m 56s\tremaining: 2m 51s\n",
      "608:\tlearn: 1630.2684456\ttotal: 2m 56s\tremaining: 2m 51s\n",
      "609:\tlearn: 1630.0920995\ttotal: 2m 57s\tremaining: 2m 51s\n",
      "610:\tlearn: 1629.8518302\ttotal: 2m 57s\tremaining: 2m 51s\n",
      "611:\tlearn: 1629.5644886\ttotal: 2m 57s\tremaining: 2m 50s\n",
      "612:\tlearn: 1629.4069455\ttotal: 2m 58s\tremaining: 2m 50s\n",
      "613:\tlearn: 1629.1104444\ttotal: 2m 58s\tremaining: 2m 50s\n",
      "614:\tlearn: 1628.9640514\ttotal: 2m 58s\tremaining: 2m 49s\n",
      "615:\tlearn: 1628.7128495\ttotal: 2m 59s\tremaining: 2m 49s\n",
      "616:\tlearn: 1628.6119361\ttotal: 2m 59s\tremaining: 2m 49s\n",
      "617:\tlearn: 1628.4291815\ttotal: 2m 59s\tremaining: 2m 49s\n",
      "618:\tlearn: 1628.2976519\ttotal: 2m 59s\tremaining: 2m 48s\n",
      "619:\tlearn: 1628.1406344\ttotal: 3m\tremaining: 2m 48s\n",
      "620:\tlearn: 1627.9890661\ttotal: 3m\tremaining: 2m 48s\n",
      "621:\tlearn: 1627.7822387\ttotal: 3m\tremaining: 2m 48s\n",
      "622:\tlearn: 1627.6063837\ttotal: 3m 1s\tremaining: 2m 47s\n",
      "623:\tlearn: 1627.3487563\ttotal: 3m 1s\tremaining: 2m 47s\n",
      "624:\tlearn: 1627.0474797\ttotal: 3m 1s\tremaining: 2m 47s\n",
      "625:\tlearn: 1626.8519197\ttotal: 3m 2s\tremaining: 2m 46s\n",
      "626:\tlearn: 1626.6335883\ttotal: 3m 2s\tremaining: 2m 46s\n",
      "627:\tlearn: 1626.4293206\ttotal: 3m 2s\tremaining: 2m 46s\n",
      "628:\tlearn: 1626.2440847\ttotal: 3m 3s\tremaining: 2m 46s\n",
      "629:\tlearn: 1626.0353551\ttotal: 3m 3s\tremaining: 2m 45s\n",
      "630:\tlearn: 1625.8563786\ttotal: 3m 3s\tremaining: 2m 45s\n",
      "631:\tlearn: 1625.4815325\ttotal: 3m 3s\tremaining: 2m 45s\n",
      "632:\tlearn: 1625.3602764\ttotal: 3m 4s\tremaining: 2m 45s\n",
      "633:\tlearn: 1624.9263107\ttotal: 3m 4s\tremaining: 2m 44s\n",
      "634:\tlearn: 1624.6559322\ttotal: 3m 4s\tremaining: 2m 44s\n",
      "635:\tlearn: 1624.4976372\ttotal: 3m 5s\tremaining: 2m 44s\n",
      "636:\tlearn: 1624.3664465\ttotal: 3m 5s\tremaining: 2m 43s\n",
      "637:\tlearn: 1624.2143518\ttotal: 3m 5s\tremaining: 2m 43s\n",
      "638:\tlearn: 1624.1145759\ttotal: 3m 6s\tremaining: 2m 43s\n",
      "639:\tlearn: 1623.8637666\ttotal: 3m 6s\tremaining: 2m 43s\n",
      "640:\tlearn: 1623.6735912\ttotal: 3m 6s\tremaining: 2m 42s\n",
      "641:\tlearn: 1623.5097232\ttotal: 3m 7s\tremaining: 2m 42s\n",
      "642:\tlearn: 1623.3421972\ttotal: 3m 7s\tremaining: 2m 42s\n",
      "643:\tlearn: 1623.2134838\ttotal: 3m 7s\tremaining: 2m 42s\n",
      "644:\tlearn: 1622.8285987\ttotal: 3m 7s\tremaining: 2m 41s\n",
      "645:\tlearn: 1622.6203425\ttotal: 3m 8s\tremaining: 2m 41s\n",
      "646:\tlearn: 1622.2114913\ttotal: 3m 8s\tremaining: 2m 41s\n",
      "647:\tlearn: 1621.7915001\ttotal: 3m 8s\tremaining: 2m 40s\n",
      "648:\tlearn: 1621.7134707\ttotal: 3m 9s\tremaining: 2m 40s\n",
      "649:\tlearn: 1621.4594884\ttotal: 3m 9s\tremaining: 2m 40s\n",
      "650:\tlearn: 1621.1742036\ttotal: 3m 9s\tremaining: 2m 40s\n",
      "651:\tlearn: 1621.0286297\ttotal: 3m 10s\tremaining: 2m 39s\n",
      "652:\tlearn: 1620.7596034\ttotal: 3m 10s\tremaining: 2m 39s\n",
      "653:\tlearn: 1620.6622562\ttotal: 3m 10s\tremaining: 2m 39s\n",
      "654:\tlearn: 1620.4464546\ttotal: 3m 11s\tremaining: 2m 38s\n",
      "655:\tlearn: 1620.2603994\ttotal: 3m 11s\tremaining: 2m 38s\n",
      "656:\tlearn: 1620.0766734\ttotal: 3m 11s\tremaining: 2m 38s\n",
      "657:\tlearn: 1619.7599626\ttotal: 3m 11s\tremaining: 2m 38s\n",
      "658:\tlearn: 1619.4573491\ttotal: 3m 12s\tremaining: 2m 37s\n",
      "659:\tlearn: 1619.2632307\ttotal: 3m 12s\tremaining: 2m 37s\n",
      "660:\tlearn: 1618.9373938\ttotal: 3m 12s\tremaining: 2m 37s\n",
      "661:\tlearn: 1618.7966862\ttotal: 3m 13s\tremaining: 2m 36s\n",
      "662:\tlearn: 1618.5285215\ttotal: 3m 13s\tremaining: 2m 36s\n",
      "663:\tlearn: 1618.3057968\ttotal: 3m 13s\tremaining: 2m 36s\n",
      "664:\tlearn: 1618.2224409\ttotal: 3m 13s\tremaining: 2m 36s\n",
      "665:\tlearn: 1617.9551118\ttotal: 3m 14s\tremaining: 2m 35s\n",
      "666:\tlearn: 1617.7273418\ttotal: 3m 14s\tremaining: 2m 35s\n",
      "667:\tlearn: 1617.4896952\ttotal: 3m 14s\tremaining: 2m 35s\n",
      "668:\tlearn: 1617.2206503\ttotal: 3m 15s\tremaining: 2m 34s\n",
      "669:\tlearn: 1616.9884631\ttotal: 3m 15s\tremaining: 2m 34s\n",
      "670:\tlearn: 1616.8200419\ttotal: 3m 15s\tremaining: 2m 34s\n",
      "671:\tlearn: 1616.6806505\ttotal: 3m 15s\tremaining: 2m 33s\n",
      "672:\tlearn: 1616.4719284\ttotal: 3m 16s\tremaining: 2m 33s\n",
      "673:\tlearn: 1616.2315645\ttotal: 3m 16s\tremaining: 2m 33s\n",
      "674:\tlearn: 1616.0207802\ttotal: 3m 16s\tremaining: 2m 33s\n",
      "675:\tlearn: 1615.8616952\ttotal: 3m 17s\tremaining: 2m 32s\n",
      "676:\tlearn: 1615.7157321\ttotal: 3m 17s\tremaining: 2m 32s\n",
      "677:\tlearn: 1615.5724963\ttotal: 3m 17s\tremaining: 2m 32s\n",
      "678:\tlearn: 1615.4967077\ttotal: 3m 17s\tremaining: 2m 31s\n",
      "679:\tlearn: 1615.2864376\ttotal: 3m 18s\tremaining: 2m 31s\n",
      "680:\tlearn: 1615.1372732\ttotal: 3m 18s\tremaining: 2m 31s\n",
      "681:\tlearn: 1614.9544152\ttotal: 3m 18s\tremaining: 2m 31s\n",
      "682:\tlearn: 1614.6731458\ttotal: 3m 19s\tremaining: 2m 30s\n",
      "683:\tlearn: 1614.4644916\ttotal: 3m 19s\tremaining: 2m 30s\n",
      "684:\tlearn: 1614.2587446\ttotal: 3m 19s\tremaining: 2m 30s\n",
      "685:\tlearn: 1614.1517213\ttotal: 3m 19s\tremaining: 2m 29s\n",
      "686:\tlearn: 1614.0615638\ttotal: 3m 20s\tremaining: 2m 29s\n",
      "687:\tlearn: 1613.9343785\ttotal: 3m 20s\tremaining: 2m 29s\n",
      "688:\tlearn: 1613.6904350\ttotal: 3m 20s\tremaining: 2m 28s\n",
      "689:\tlearn: 1613.3782257\ttotal: 3m 21s\tremaining: 2m 28s\n",
      "690:\tlearn: 1613.0030991\ttotal: 3m 21s\tremaining: 2m 28s\n",
      "691:\tlearn: 1612.8115566\ttotal: 3m 21s\tremaining: 2m 28s\n",
      "692:\tlearn: 1612.6222136\ttotal: 3m 21s\tremaining: 2m 27s\n",
      "693:\tlearn: 1612.5139787\ttotal: 3m 22s\tremaining: 2m 27s\n",
      "694:\tlearn: 1612.4431060\ttotal: 3m 22s\tremaining: 2m 27s\n",
      "695:\tlearn: 1612.2771095\ttotal: 3m 22s\tremaining: 2m 26s\n",
      "696:\tlearn: 1611.9971012\ttotal: 3m 23s\tremaining: 2m 26s\n",
      "697:\tlearn: 1611.7728922\ttotal: 3m 23s\tremaining: 2m 26s\n",
      "698:\tlearn: 1611.4345347\ttotal: 3m 23s\tremaining: 2m 25s\n",
      "699:\tlearn: 1611.3526627\ttotal: 3m 23s\tremaining: 2m 25s\n",
      "700:\tlearn: 1611.1674042\ttotal: 3m 24s\tremaining: 2m 25s\n",
      "701:\tlearn: 1611.0878763\ttotal: 3m 24s\tremaining: 2m 25s\n",
      "702:\tlearn: 1610.8163071\ttotal: 3m 24s\tremaining: 2m 24s\n",
      "703:\tlearn: 1610.5228390\ttotal: 3m 25s\tremaining: 2m 24s\n",
      "704:\tlearn: 1610.1239187\ttotal: 3m 25s\tremaining: 2m 24s\n",
      "705:\tlearn: 1610.1239175\ttotal: 3m 25s\tremaining: 2m 23s\n",
      "706:\tlearn: 1609.9196082\ttotal: 3m 25s\tremaining: 2m 23s\n",
      "707:\tlearn: 1609.6611176\ttotal: 3m 26s\tremaining: 2m 23s\n",
      "708:\tlearn: 1609.4208066\ttotal: 3m 26s\tremaining: 2m 22s\n",
      "709:\tlearn: 1609.0663629\ttotal: 3m 26s\tremaining: 2m 22s\n",
      "710:\tlearn: 1608.9734582\ttotal: 3m 26s\tremaining: 2m 22s\n",
      "711:\tlearn: 1608.6962948\ttotal: 3m 27s\tremaining: 2m 22s\n",
      "712:\tlearn: 1608.4022719\ttotal: 3m 27s\tremaining: 2m 21s\n",
      "713:\tlearn: 1608.1052569\ttotal: 3m 27s\tremaining: 2m 21s\n",
      "714:\tlearn: 1607.9195700\ttotal: 3m 28s\tremaining: 2m 21s\n",
      "715:\tlearn: 1607.6498753\ttotal: 3m 28s\tremaining: 2m 20s\n",
      "716:\tlearn: 1607.3245145\ttotal: 3m 28s\tremaining: 2m 20s\n",
      "717:\tlearn: 1607.1184942\ttotal: 3m 29s\tremaining: 2m 20s\n",
      "718:\tlearn: 1606.8427328\ttotal: 3m 29s\tremaining: 2m 20s\n",
      "719:\tlearn: 1606.7021364\ttotal: 3m 29s\tremaining: 2m 19s\n",
      "720:\tlearn: 1606.5496130\ttotal: 3m 29s\tremaining: 2m 19s\n",
      "721:\tlearn: 1606.3191511\ttotal: 3m 30s\tremaining: 2m 19s\n",
      "722:\tlearn: 1606.1466860\ttotal: 3m 30s\tremaining: 2m 18s\n",
      "723:\tlearn: 1605.8513879\ttotal: 3m 30s\tremaining: 2m 18s\n",
      "724:\tlearn: 1605.7268585\ttotal: 3m 31s\tremaining: 2m 18s\n",
      "725:\tlearn: 1605.3909388\ttotal: 3m 31s\tremaining: 2m 17s\n",
      "726:\tlearn: 1605.1798940\ttotal: 3m 31s\tremaining: 2m 17s\n",
      "727:\tlearn: 1605.0235854\ttotal: 3m 31s\tremaining: 2m 17s\n",
      "728:\tlearn: 1604.8869641\ttotal: 3m 32s\tremaining: 2m 17s\n",
      "729:\tlearn: 1604.7434354\ttotal: 3m 32s\tremaining: 2m 16s\n",
      "730:\tlearn: 1604.5818928\ttotal: 3m 32s\tremaining: 2m 16s\n",
      "731:\tlearn: 1604.4025321\ttotal: 3m 33s\tremaining: 2m 16s\n",
      "732:\tlearn: 1604.3055410\ttotal: 3m 33s\tremaining: 2m 16s\n",
      "733:\tlearn: 1604.1532081\ttotal: 3m 33s\tremaining: 2m 15s\n",
      "734:\tlearn: 1603.9511423\ttotal: 3m 33s\tremaining: 2m 15s\n",
      "735:\tlearn: 1603.7375450\ttotal: 3m 34s\tremaining: 2m 15s\n",
      "736:\tlearn: 1603.5430664\ttotal: 3m 34s\tremaining: 2m 14s\n",
      "737:\tlearn: 1603.3600882\ttotal: 3m 34s\tremaining: 2m 14s\n",
      "738:\tlearn: 1603.1978388\ttotal: 3m 35s\tremaining: 2m 14s\n",
      "739:\tlearn: 1603.0075123\ttotal: 3m 35s\tremaining: 2m 14s\n",
      "740:\tlearn: 1602.8685533\ttotal: 3m 35s\tremaining: 2m 13s\n",
      "741:\tlearn: 1602.6461837\ttotal: 3m 36s\tremaining: 2m 13s\n",
      "742:\tlearn: 1602.5443230\ttotal: 3m 36s\tremaining: 2m 13s\n",
      "743:\tlearn: 1602.2968374\ttotal: 3m 36s\tremaining: 2m 12s\n",
      "744:\tlearn: 1602.1527580\ttotal: 3m 37s\tremaining: 2m 12s\n",
      "745:\tlearn: 1601.9056198\ttotal: 3m 37s\tremaining: 2m 12s\n",
      "746:\tlearn: 1601.7451103\ttotal: 3m 37s\tremaining: 2m 11s\n",
      "747:\tlearn: 1601.5693028\ttotal: 3m 37s\tremaining: 2m 11s\n",
      "748:\tlearn: 1601.4061907\ttotal: 3m 38s\tremaining: 2m 11s\n",
      "749:\tlearn: 1601.1751054\ttotal: 3m 38s\tremaining: 2m 11s\n",
      "750:\tlearn: 1600.9454532\ttotal: 3m 38s\tremaining: 2m 10s\n",
      "751:\tlearn: 1600.7625886\ttotal: 3m 38s\tremaining: 2m 10s\n",
      "752:\tlearn: 1600.5977211\ttotal: 3m 39s\tremaining: 2m 10s\n",
      "753:\tlearn: 1600.5228080\ttotal: 3m 39s\tremaining: 2m 9s\n",
      "754:\tlearn: 1600.3349423\ttotal: 3m 39s\tremaining: 2m 9s\n",
      "755:\tlearn: 1600.1263515\ttotal: 3m 40s\tremaining: 2m 9s\n",
      "756:\tlearn: 1599.9885099\ttotal: 3m 40s\tremaining: 2m 8s\n",
      "757:\tlearn: 1599.7714205\ttotal: 3m 40s\tremaining: 2m 8s\n",
      "758:\tlearn: 1599.5645250\ttotal: 3m 40s\tremaining: 2m 8s\n",
      "759:\tlearn: 1599.3505519\ttotal: 3m 41s\tremaining: 2m 8s\n",
      "760:\tlearn: 1599.2136890\ttotal: 3m 41s\tremaining: 2m 7s\n",
      "761:\tlearn: 1599.0772799\ttotal: 3m 41s\tremaining: 2m 7s\n",
      "762:\tlearn: 1598.9250823\ttotal: 3m 42s\tremaining: 2m 7s\n",
      "763:\tlearn: 1598.8273314\ttotal: 3m 42s\tremaining: 2m 6s\n",
      "764:\tlearn: 1598.6977888\ttotal: 3m 42s\tremaining: 2m 6s\n",
      "765:\tlearn: 1598.5389694\ttotal: 3m 43s\tremaining: 2m 6s\n",
      "766:\tlearn: 1598.3731223\ttotal: 3m 43s\tremaining: 2m 6s\n",
      "767:\tlearn: 1598.3084644\ttotal: 3m 43s\tremaining: 2m 5s\n",
      "768:\tlearn: 1598.1574784\ttotal: 3m 43s\tremaining: 2m 5s\n",
      "769:\tlearn: 1597.9164687\ttotal: 3m 44s\tremaining: 2m 5s\n",
      "770:\tlearn: 1597.8111256\ttotal: 3m 44s\tremaining: 2m 4s\n",
      "771:\tlearn: 1597.6096926\ttotal: 3m 44s\tremaining: 2m 4s\n",
      "772:\tlearn: 1597.3670626\ttotal: 3m 45s\tremaining: 2m 4s\n",
      "773:\tlearn: 1597.1062385\ttotal: 3m 45s\tremaining: 2m 4s\n",
      "774:\tlearn: 1596.9506056\ttotal: 3m 45s\tremaining: 2m 3s\n",
      "775:\tlearn: 1596.7514612\ttotal: 3m 46s\tremaining: 2m 3s\n",
      "776:\tlearn: 1596.5885841\ttotal: 3m 46s\tremaining: 2m 3s\n",
      "777:\tlearn: 1596.3648731\ttotal: 3m 46s\tremaining: 2m 2s\n",
      "778:\tlearn: 1596.1861900\ttotal: 3m 47s\tremaining: 2m 2s\n",
      "779:\tlearn: 1596.1210944\ttotal: 3m 47s\tremaining: 2m 2s\n",
      "780:\tlearn: 1595.9636052\ttotal: 3m 47s\tremaining: 2m 2s\n",
      "781:\tlearn: 1595.8464923\ttotal: 3m 47s\tremaining: 2m 1s\n",
      "782:\tlearn: 1595.7011846\ttotal: 3m 48s\tremaining: 2m 1s\n",
      "783:\tlearn: 1595.5467863\ttotal: 3m 48s\tremaining: 2m 1s\n",
      "784:\tlearn: 1595.4028070\ttotal: 3m 48s\tremaining: 2m\n",
      "785:\tlearn: 1595.2079438\ttotal: 3m 49s\tremaining: 2m\n",
      "786:\tlearn: 1594.9538269\ttotal: 3m 49s\tremaining: 2m\n",
      "787:\tlearn: 1594.7907651\ttotal: 3m 49s\tremaining: 2m\n",
      "788:\tlearn: 1594.5998041\ttotal: 3m 49s\tremaining: 1m 59s\n",
      "789:\tlearn: 1594.3953401\ttotal: 3m 50s\tremaining: 1m 59s\n",
      "790:\tlearn: 1594.1530173\ttotal: 3m 50s\tremaining: 1m 59s\n",
      "791:\tlearn: 1593.9703639\ttotal: 3m 50s\tremaining: 1m 58s\n",
      "792:\tlearn: 1593.8639687\ttotal: 3m 51s\tremaining: 1m 58s\n",
      "793:\tlearn: 1593.7436637\ttotal: 3m 51s\tremaining: 1m 58s\n",
      "794:\tlearn: 1593.5901654\ttotal: 3m 51s\tremaining: 1m 58s\n",
      "795:\tlearn: 1593.5074700\ttotal: 3m 52s\tremaining: 1m 57s\n",
      "796:\tlearn: 1593.3818237\ttotal: 3m 52s\tremaining: 1m 57s\n",
      "797:\tlearn: 1593.1989993\ttotal: 3m 52s\tremaining: 1m 57s\n",
      "798:\tlearn: 1593.0260191\ttotal: 3m 53s\tremaining: 1m 57s\n",
      "799:\tlearn: 1592.8855127\ttotal: 3m 53s\tremaining: 1m 56s\n",
      "800:\tlearn: 1592.7037903\ttotal: 3m 53s\tremaining: 1m 56s\n",
      "801:\tlearn: 1592.5413733\ttotal: 3m 54s\tremaining: 1m 56s\n",
      "802:\tlearn: 1592.4332399\ttotal: 3m 54s\tremaining: 1m 55s\n",
      "803:\tlearn: 1592.1536958\ttotal: 3m 54s\tremaining: 1m 55s\n",
      "804:\tlearn: 1592.0949659\ttotal: 3m 54s\tremaining: 1m 55s\n",
      "805:\tlearn: 1592.0145867\ttotal: 3m 55s\tremaining: 1m 54s\n",
      "806:\tlearn: 1591.9099516\ttotal: 3m 55s\tremaining: 1m 54s\n",
      "807:\tlearn: 1591.6545327\ttotal: 3m 55s\tremaining: 1m 54s\n",
      "808:\tlearn: 1591.4824058\ttotal: 3m 56s\tremaining: 1m 54s\n",
      "809:\tlearn: 1591.2941090\ttotal: 3m 56s\tremaining: 1m 53s\n",
      "810:\tlearn: 1591.0456100\ttotal: 3m 56s\tremaining: 1m 53s\n",
      "811:\tlearn: 1590.9500455\ttotal: 3m 56s\tremaining: 1m 53s\n",
      "812:\tlearn: 1590.7899436\ttotal: 3m 57s\tremaining: 1m 52s\n",
      "813:\tlearn: 1590.6547334\ttotal: 3m 57s\tremaining: 1m 52s\n",
      "814:\tlearn: 1590.3579882\ttotal: 3m 57s\tremaining: 1m 52s\n",
      "815:\tlearn: 1590.1232819\ttotal: 3m 58s\tremaining: 1m 52s\n",
      "816:\tlearn: 1589.9429972\ttotal: 3m 58s\tremaining: 1m 51s\n",
      "817:\tlearn: 1589.7339691\ttotal: 3m 58s\tremaining: 1m 51s\n",
      "818:\tlearn: 1589.5102907\ttotal: 3m 59s\tremaining: 1m 51s\n",
      "819:\tlearn: 1589.3611710\ttotal: 3m 59s\tremaining: 1m 50s\n",
      "820:\tlearn: 1589.2223901\ttotal: 3m 59s\tremaining: 1m 50s\n",
      "821:\tlearn: 1589.0982297\ttotal: 3m 59s\tremaining: 1m 50s\n",
      "822:\tlearn: 1589.0181049\ttotal: 4m\tremaining: 1m 50s\n",
      "823:\tlearn: 1588.8932476\ttotal: 4m\tremaining: 1m 49s\n",
      "824:\tlearn: 1588.7481508\ttotal: 4m\tremaining: 1m 49s\n",
      "825:\tlearn: 1588.6684406\ttotal: 4m 1s\tremaining: 1m 49s\n",
      "826:\tlearn: 1588.4786909\ttotal: 4m 1s\tremaining: 1m 48s\n",
      "827:\tlearn: 1588.3035717\ttotal: 4m 1s\tremaining: 1m 48s\n",
      "828:\tlearn: 1588.1492417\ttotal: 4m 1s\tremaining: 1m 48s\n",
      "829:\tlearn: 1587.9960873\ttotal: 4m 2s\tremaining: 1m 47s\n",
      "830:\tlearn: 1587.8762924\ttotal: 4m 2s\tremaining: 1m 47s\n",
      "831:\tlearn: 1587.8034156\ttotal: 4m 2s\tremaining: 1m 47s\n",
      "832:\tlearn: 1587.6748088\ttotal: 4m 3s\tremaining: 1m 47s\n",
      "833:\tlearn: 1587.4972451\ttotal: 4m 3s\tremaining: 1m 46s\n",
      "834:\tlearn: 1587.3265211\ttotal: 4m 3s\tremaining: 1m 46s\n",
      "835:\tlearn: 1587.1137550\ttotal: 4m 3s\tremaining: 1m 46s\n",
      "836:\tlearn: 1587.0604657\ttotal: 4m 4s\tremaining: 1m 45s\n",
      "837:\tlearn: 1586.9509643\ttotal: 4m 4s\tremaining: 1m 45s\n",
      "838:\tlearn: 1586.8236108\ttotal: 4m 4s\tremaining: 1m 45s\n",
      "839:\tlearn: 1586.7420590\ttotal: 4m 4s\tremaining: 1m 44s\n",
      "840:\tlearn: 1586.6565773\ttotal: 4m 5s\tremaining: 1m 44s\n",
      "841:\tlearn: 1586.4869730\ttotal: 4m 5s\tremaining: 1m 44s\n",
      "842:\tlearn: 1586.3807416\ttotal: 4m 5s\tremaining: 1m 44s\n",
      "843:\tlearn: 1586.2796500\ttotal: 4m 6s\tremaining: 1m 43s\n",
      "844:\tlearn: 1586.2012499\ttotal: 4m 6s\tremaining: 1m 43s\n",
      "845:\tlearn: 1585.9627693\ttotal: 4m 6s\tremaining: 1m 43s\n",
      "846:\tlearn: 1585.8191126\ttotal: 4m 7s\tremaining: 1m 42s\n",
      "847:\tlearn: 1585.6400771\ttotal: 4m 7s\tremaining: 1m 42s\n",
      "848:\tlearn: 1585.4563231\ttotal: 4m 7s\tremaining: 1m 42s\n",
      "849:\tlearn: 1585.3147092\ttotal: 4m 7s\tremaining: 1m 42s\n",
      "850:\tlearn: 1585.2023891\ttotal: 4m 8s\tremaining: 1m 41s\n",
      "851:\tlearn: 1585.1121089\ttotal: 4m 8s\tremaining: 1m 41s\n",
      "852:\tlearn: 1585.0057608\ttotal: 4m 8s\tremaining: 1m 41s\n",
      "853:\tlearn: 1584.8611688\ttotal: 4m 9s\tremaining: 1m 40s\n",
      "854:\tlearn: 1584.7197499\ttotal: 4m 9s\tremaining: 1m 40s\n",
      "855:\tlearn: 1584.6132861\ttotal: 4m 9s\tremaining: 1m 40s\n",
      "856:\tlearn: 1584.4991069\ttotal: 4m 10s\tremaining: 1m 40s\n",
      "857:\tlearn: 1584.3457854\ttotal: 4m 10s\tremaining: 1m 39s\n",
      "858:\tlearn: 1584.2565475\ttotal: 4m 10s\tremaining: 1m 39s\n",
      "859:\tlearn: 1584.0413407\ttotal: 4m 10s\tremaining: 1m 39s\n",
      "860:\tlearn: 1583.8430110\ttotal: 4m 11s\tremaining: 1m 38s\n",
      "861:\tlearn: 1583.6999053\ttotal: 4m 11s\tremaining: 1m 38s\n",
      "862:\tlearn: 1583.5155708\ttotal: 4m 11s\tremaining: 1m 38s\n",
      "863:\tlearn: 1583.3249493\ttotal: 4m 12s\tremaining: 1m 38s\n",
      "864:\tlearn: 1583.1401017\ttotal: 4m 12s\tremaining: 1m 37s\n",
      "865:\tlearn: 1583.0015995\ttotal: 4m 12s\tremaining: 1m 37s\n",
      "866:\tlearn: 1582.8990688\ttotal: 4m 12s\tremaining: 1m 37s\n",
      "867:\tlearn: 1582.7718443\ttotal: 4m 13s\tremaining: 1m 36s\n",
      "868:\tlearn: 1582.5346674\ttotal: 4m 13s\tremaining: 1m 36s\n",
      "869:\tlearn: 1582.4452471\ttotal: 4m 13s\tremaining: 1m 36s\n",
      "870:\tlearn: 1582.3130863\ttotal: 4m 14s\tremaining: 1m 36s\n",
      "871:\tlearn: 1582.1423365\ttotal: 4m 14s\tremaining: 1m 35s\n",
      "872:\tlearn: 1582.0462058\ttotal: 4m 14s\tremaining: 1m 35s\n",
      "873:\tlearn: 1581.8563190\ttotal: 4m 15s\tremaining: 1m 35s\n",
      "874:\tlearn: 1581.7456395\ttotal: 4m 15s\tremaining: 1m 34s\n",
      "875:\tlearn: 1581.5997496\ttotal: 4m 15s\tremaining: 1m 34s\n",
      "876:\tlearn: 1581.3994636\ttotal: 4m 15s\tremaining: 1m 34s\n",
      "877:\tlearn: 1581.2882744\ttotal: 4m 16s\tremaining: 1m 33s\n",
      "878:\tlearn: 1581.1431563\ttotal: 4m 16s\tremaining: 1m 33s\n",
      "879:\tlearn: 1581.0363829\ttotal: 4m 16s\tremaining: 1m 33s\n",
      "880:\tlearn: 1580.9418984\ttotal: 4m 16s\tremaining: 1m 33s\n",
      "881:\tlearn: 1580.8150988\ttotal: 4m 17s\tremaining: 1m 32s\n",
      "882:\tlearn: 1580.7040933\ttotal: 4m 17s\tremaining: 1m 32s\n",
      "883:\tlearn: 1580.6116430\ttotal: 4m 17s\tremaining: 1m 32s\n",
      "884:\tlearn: 1580.4307707\ttotal: 4m 17s\tremaining: 1m 31s\n",
      "885:\tlearn: 1580.2945516\ttotal: 4m 18s\tremaining: 1m 31s\n",
      "886:\tlearn: 1580.0949600\ttotal: 4m 18s\tremaining: 1m 31s\n",
      "887:\tlearn: 1579.9331268\ttotal: 4m 18s\tremaining: 1m 30s\n",
      "888:\tlearn: 1579.7480100\ttotal: 4m 18s\tremaining: 1m 30s\n",
      "889:\tlearn: 1579.6825927\ttotal: 4m 19s\tremaining: 1m 30s\n",
      "890:\tlearn: 1579.6368030\ttotal: 4m 19s\tremaining: 1m 30s\n",
      "891:\tlearn: 1579.4838110\ttotal: 4m 19s\tremaining: 1m 29s\n",
      "892:\tlearn: 1579.3218080\ttotal: 4m 20s\tremaining: 1m 29s\n",
      "893:\tlearn: 1579.2654618\ttotal: 4m 20s\tremaining: 1m 29s\n",
      "894:\tlearn: 1579.1365515\ttotal: 4m 20s\tremaining: 1m 28s\n",
      "895:\tlearn: 1579.0344683\ttotal: 4m 21s\tremaining: 1m 28s\n",
      "896:\tlearn: 1578.9494222\ttotal: 4m 21s\tremaining: 1m 28s\n",
      "897:\tlearn: 1578.8310679\ttotal: 4m 21s\tremaining: 1m 27s\n",
      "898:\tlearn: 1578.7215219\ttotal: 4m 21s\tremaining: 1m 27s\n",
      "899:\tlearn: 1578.5930602\ttotal: 4m 22s\tremaining: 1m 27s\n",
      "900:\tlearn: 1578.5488125\ttotal: 4m 22s\tremaining: 1m 27s\n",
      "901:\tlearn: 1578.4040559\ttotal: 4m 22s\tremaining: 1m 26s\n",
      "902:\tlearn: 1578.2101386\ttotal: 4m 23s\tremaining: 1m 26s\n",
      "903:\tlearn: 1578.1081576\ttotal: 4m 23s\tremaining: 1m 26s\n",
      "904:\tlearn: 1577.9853180\ttotal: 4m 23s\tremaining: 1m 25s\n",
      "905:\tlearn: 1577.8433931\ttotal: 4m 23s\tremaining: 1m 25s\n",
      "906:\tlearn: 1577.6203240\ttotal: 4m 24s\tremaining: 1m 25s\n",
      "907:\tlearn: 1577.5222419\ttotal: 4m 24s\tremaining: 1m 25s\n",
      "908:\tlearn: 1577.3836723\ttotal: 4m 24s\tremaining: 1m 24s\n",
      "909:\tlearn: 1577.1186793\ttotal: 4m 25s\tremaining: 1m 24s\n",
      "910:\tlearn: 1576.9709078\ttotal: 4m 25s\tremaining: 1m 24s\n",
      "911:\tlearn: 1576.8828077\ttotal: 4m 25s\tremaining: 1m 23s\n",
      "912:\tlearn: 1576.7502345\ttotal: 4m 25s\tremaining: 1m 23s\n",
      "913:\tlearn: 1576.6981483\ttotal: 4m 26s\tremaining: 1m 23s\n",
      "914:\tlearn: 1576.5770495\ttotal: 4m 26s\tremaining: 1m 22s\n",
      "915:\tlearn: 1576.5341809\ttotal: 4m 26s\tremaining: 1m 22s\n",
      "916:\tlearn: 1576.4241981\ttotal: 4m 27s\tremaining: 1m 22s\n",
      "917:\tlearn: 1576.3268614\ttotal: 4m 27s\tremaining: 1m 22s\n",
      "918:\tlearn: 1576.2126610\ttotal: 4m 27s\tremaining: 1m 21s\n",
      "919:\tlearn: 1576.1517401\ttotal: 4m 27s\tremaining: 1m 21s\n",
      "920:\tlearn: 1576.0436289\ttotal: 4m 28s\tremaining: 1m 21s\n",
      "921:\tlearn: 1575.9043038\ttotal: 4m 28s\tremaining: 1m 20s\n",
      "922:\tlearn: 1575.7085049\ttotal: 4m 28s\tremaining: 1m 20s\n",
      "923:\tlearn: 1575.5825348\ttotal: 4m 29s\tremaining: 1m 20s\n",
      "924:\tlearn: 1575.4960543\ttotal: 4m 29s\tremaining: 1m 20s\n",
      "925:\tlearn: 1575.3639236\ttotal: 4m 29s\tremaining: 1m 19s\n",
      "926:\tlearn: 1575.2770377\ttotal: 4m 29s\tremaining: 1m 19s\n",
      "927:\tlearn: 1575.1569161\ttotal: 4m 30s\tremaining: 1m 19s\n",
      "928:\tlearn: 1575.0629400\ttotal: 4m 30s\tremaining: 1m 18s\n",
      "929:\tlearn: 1574.9180889\ttotal: 4m 30s\tremaining: 1m 18s\n",
      "930:\tlearn: 1574.8361004\ttotal: 4m 30s\tremaining: 1m 18s\n",
      "931:\tlearn: 1574.6774806\ttotal: 4m 31s\tremaining: 1m 18s\n",
      "932:\tlearn: 1574.5277105\ttotal: 4m 31s\tremaining: 1m 17s\n",
      "933:\tlearn: 1574.4227560\ttotal: 4m 31s\tremaining: 1m 17s\n",
      "934:\tlearn: 1574.3875743\ttotal: 4m 32s\tremaining: 1m 17s\n",
      "935:\tlearn: 1574.3001884\ttotal: 4m 32s\tremaining: 1m 16s\n",
      "936:\tlearn: 1574.2230563\ttotal: 4m 32s\tremaining: 1m 16s\n",
      "937:\tlearn: 1574.0990003\ttotal: 4m 32s\tremaining: 1m 16s\n",
      "938:\tlearn: 1573.9198005\ttotal: 4m 33s\tremaining: 1m 15s\n",
      "939:\tlearn: 1573.8606598\ttotal: 4m 33s\tremaining: 1m 15s\n",
      "940:\tlearn: 1573.7183979\ttotal: 4m 33s\tremaining: 1m 15s\n",
      "941:\tlearn: 1573.5884500\ttotal: 4m 33s\tremaining: 1m 15s\n",
      "942:\tlearn: 1573.4917266\ttotal: 4m 34s\tremaining: 1m 14s\n",
      "943:\tlearn: 1573.4090946\ttotal: 4m 34s\tremaining: 1m 14s\n",
      "944:\tlearn: 1573.2709794\ttotal: 4m 34s\tremaining: 1m 14s\n",
      "945:\tlearn: 1573.1847038\ttotal: 4m 34s\tremaining: 1m 13s\n",
      "946:\tlearn: 1573.0538472\ttotal: 4m 35s\tremaining: 1m 13s\n",
      "947:\tlearn: 1572.9363602\ttotal: 4m 35s\tremaining: 1m 13s\n",
      "948:\tlearn: 1572.7252438\ttotal: 4m 35s\tremaining: 1m 12s\n",
      "949:\tlearn: 1572.6109927\ttotal: 4m 36s\tremaining: 1m 12s\n",
      "950:\tlearn: 1572.5006600\ttotal: 4m 36s\tremaining: 1m 12s\n",
      "951:\tlearn: 1572.4344710\ttotal: 4m 36s\tremaining: 1m 12s\n",
      "952:\tlearn: 1572.2945944\ttotal: 4m 36s\tremaining: 1m 11s\n",
      "953:\tlearn: 1572.1437016\ttotal: 4m 37s\tremaining: 1m 11s\n",
      "954:\tlearn: 1571.9405405\ttotal: 4m 37s\tremaining: 1m 11s\n",
      "955:\tlearn: 1571.7961944\ttotal: 4m 37s\tremaining: 1m 10s\n",
      "956:\tlearn: 1571.6860704\ttotal: 4m 38s\tremaining: 1m 10s\n",
      "957:\tlearn: 1571.6270537\ttotal: 4m 38s\tremaining: 1m 10s\n",
      "958:\tlearn: 1571.4803512\ttotal: 4m 38s\tremaining: 1m 10s\n",
      "959:\tlearn: 1571.4715751\ttotal: 4m 38s\tremaining: 1m 9s\n",
      "960:\tlearn: 1571.2693128\ttotal: 4m 39s\tremaining: 1m 9s\n",
      "961:\tlearn: 1571.1977495\ttotal: 4m 39s\tremaining: 1m 9s\n",
      "962:\tlearn: 1571.1143305\ttotal: 4m 39s\tremaining: 1m 8s\n",
      "963:\tlearn: 1570.9942292\ttotal: 4m 40s\tremaining: 1m 8s\n",
      "964:\tlearn: 1570.7829700\ttotal: 4m 40s\tremaining: 1m 8s\n",
      "965:\tlearn: 1570.6240084\ttotal: 4m 40s\tremaining: 1m 7s\n",
      "966:\tlearn: 1570.5002727\ttotal: 4m 40s\tremaining: 1m 7s\n",
      "967:\tlearn: 1570.3764110\ttotal: 4m 41s\tremaining: 1m 7s\n",
      "968:\tlearn: 1570.2244695\ttotal: 4m 41s\tremaining: 1m 7s\n",
      "969:\tlearn: 1569.9930147\ttotal: 4m 41s\tremaining: 1m 6s\n",
      "970:\tlearn: 1569.8171701\ttotal: 4m 42s\tremaining: 1m 6s\n",
      "971:\tlearn: 1569.7021106\ttotal: 4m 42s\tremaining: 1m 6s\n",
      "972:\tlearn: 1569.6130525\ttotal: 4m 42s\tremaining: 1m 5s\n",
      "973:\tlearn: 1569.4941196\ttotal: 4m 43s\tremaining: 1m 5s\n",
      "974:\tlearn: 1569.3421033\ttotal: 4m 43s\tremaining: 1m 5s\n",
      "975:\tlearn: 1569.2718259\ttotal: 4m 43s\tremaining: 1m 5s\n",
      "976:\tlearn: 1569.1278611\ttotal: 4m 43s\tremaining: 1m 4s\n",
      "977:\tlearn: 1568.9376892\ttotal: 4m 44s\tremaining: 1m 4s\n",
      "978:\tlearn: 1568.8545936\ttotal: 4m 44s\tremaining: 1m 4s\n",
      "979:\tlearn: 1568.6461500\ttotal: 4m 44s\tremaining: 1m 3s\n",
      "980:\tlearn: 1568.5433925\ttotal: 4m 45s\tremaining: 1m 3s\n",
      "981:\tlearn: 1568.4209447\ttotal: 4m 45s\tremaining: 1m 3s\n",
      "982:\tlearn: 1568.2313441\ttotal: 4m 45s\tremaining: 1m 3s\n",
      "983:\tlearn: 1568.1265969\ttotal: 4m 45s\tremaining: 1m 2s\n",
      "984:\tlearn: 1568.0528923\ttotal: 4m 46s\tremaining: 1m 2s\n",
      "985:\tlearn: 1567.9538338\ttotal: 4m 46s\tremaining: 1m 2s\n",
      "986:\tlearn: 1567.8209340\ttotal: 4m 46s\tremaining: 1m 1s\n",
      "987:\tlearn: 1567.7600979\ttotal: 4m 46s\tremaining: 1m 1s\n",
      "988:\tlearn: 1567.7073690\ttotal: 4m 47s\tremaining: 1m 1s\n",
      "989:\tlearn: 1567.5730259\ttotal: 4m 47s\tremaining: 1m\n",
      "990:\tlearn: 1567.4504903\ttotal: 4m 47s\tremaining: 1m\n",
      "991:\tlearn: 1567.3112715\ttotal: 4m 48s\tremaining: 1m\n",
      "992:\tlearn: 1567.2026103\ttotal: 4m 48s\tremaining: 1m\n",
      "993:\tlearn: 1567.0302873\ttotal: 4m 48s\tremaining: 59.8s\n",
      "994:\tlearn: 1566.9064843\ttotal: 4m 48s\tremaining: 59.5s\n",
      "995:\tlearn: 1566.7655629\ttotal: 4m 49s\tremaining: 59.2s\n",
      "996:\tlearn: 1566.5363047\ttotal: 4m 49s\tremaining: 58.9s\n",
      "997:\tlearn: 1566.3846675\ttotal: 4m 49s\tremaining: 58.6s\n",
      "998:\tlearn: 1566.3497170\ttotal: 4m 50s\tremaining: 58.4s\n",
      "999:\tlearn: 1566.2428364\ttotal: 4m 50s\tremaining: 58.1s\n",
      "1000:\tlearn: 1566.1558530\ttotal: 4m 50s\tremaining: 57.8s\n",
      "1001:\tlearn: 1566.0119074\ttotal: 4m 50s\tremaining: 57.5s\n",
      "1002:\tlearn: 1565.9268086\ttotal: 4m 51s\tremaining: 57.2s\n",
      "1003:\tlearn: 1565.8037506\ttotal: 4m 51s\tremaining: 56.9s\n",
      "1004:\tlearn: 1565.7010994\ttotal: 4m 51s\tremaining: 56.6s\n",
      "1005:\tlearn: 1565.6455404\ttotal: 4m 52s\tremaining: 56.3s\n",
      "1006:\tlearn: 1565.5038751\ttotal: 4m 52s\tremaining: 56s\n",
      "1007:\tlearn: 1565.4533524\ttotal: 4m 52s\tremaining: 55.8s\n",
      "1008:\tlearn: 1565.4047603\ttotal: 4m 52s\tremaining: 55.5s\n",
      "1009:\tlearn: 1565.2924990\ttotal: 4m 53s\tremaining: 55.2s\n",
      "1010:\tlearn: 1565.1129163\ttotal: 4m 53s\tremaining: 54.9s\n",
      "1011:\tlearn: 1564.9852875\ttotal: 4m 53s\tremaining: 54.6s\n",
      "1012:\tlearn: 1564.8400089\ttotal: 4m 54s\tremaining: 54.3s\n",
      "1013:\tlearn: 1564.8382870\ttotal: 4m 54s\tremaining: 54s\n",
      "1014:\tlearn: 1564.7151854\ttotal: 4m 54s\tremaining: 53.7s\n",
      "1015:\tlearn: 1564.6865149\ttotal: 4m 55s\tremaining: 53.4s\n",
      "1016:\tlearn: 1564.5728624\ttotal: 4m 55s\tremaining: 53.1s\n",
      "1017:\tlearn: 1564.4972695\ttotal: 4m 55s\tremaining: 52.9s\n",
      "1018:\tlearn: 1564.3781374\ttotal: 4m 55s\tremaining: 52.6s\n",
      "1019:\tlearn: 1564.3437872\ttotal: 4m 56s\tremaining: 52.3s\n",
      "1020:\tlearn: 1564.1786951\ttotal: 4m 56s\tremaining: 52s\n",
      "1021:\tlearn: 1564.0441345\ttotal: 4m 56s\tremaining: 51.7s\n",
      "1022:\tlearn: 1563.9239970\ttotal: 4m 57s\tremaining: 51.4s\n",
      "1023:\tlearn: 1563.8646048\ttotal: 4m 57s\tremaining: 51.1s\n",
      "1024:\tlearn: 1563.8545902\ttotal: 4m 57s\tremaining: 50.8s\n",
      "1025:\tlearn: 1563.8243875\ttotal: 4m 57s\tremaining: 50.5s\n",
      "1026:\tlearn: 1563.7646392\ttotal: 4m 58s\tremaining: 50.2s\n",
      "1027:\tlearn: 1563.6700989\ttotal: 4m 58s\tremaining: 49.9s\n",
      "1028:\tlearn: 1563.5480921\ttotal: 4m 58s\tremaining: 49.6s\n",
      "1029:\tlearn: 1563.3485524\ttotal: 4m 59s\tremaining: 49.4s\n",
      "1030:\tlearn: 1563.2032348\ttotal: 4m 59s\tremaining: 49.1s\n",
      "1031:\tlearn: 1563.0120580\ttotal: 4m 59s\tremaining: 48.8s\n",
      "1032:\tlearn: 1562.9048525\ttotal: 4m 59s\tremaining: 48.5s\n",
      "1033:\tlearn: 1562.8439293\ttotal: 5m\tremaining: 48.2s\n",
      "1034:\tlearn: 1562.7810072\ttotal: 5m\tremaining: 47.9s\n",
      "1035:\tlearn: 1562.5860811\ttotal: 5m\tremaining: 47.6s\n",
      "1036:\tlearn: 1562.4646385\ttotal: 5m 1s\tremaining: 47.3s\n",
      "1037:\tlearn: 1562.4164528\ttotal: 5m 1s\tremaining: 47s\n",
      "1038:\tlearn: 1562.3555166\ttotal: 5m 1s\tremaining: 46.7s\n",
      "1039:\tlearn: 1562.2542008\ttotal: 5m 1s\tremaining: 46.4s\n",
      "1040:\tlearn: 1562.1646553\ttotal: 5m 2s\tremaining: 46.1s\n",
      "1041:\tlearn: 1561.9777364\ttotal: 5m 2s\tremaining: 45.9s\n",
      "1042:\tlearn: 1561.9123182\ttotal: 5m 2s\tremaining: 45.6s\n",
      "1043:\tlearn: 1561.8546003\ttotal: 5m 2s\tremaining: 45.3s\n",
      "1044:\tlearn: 1561.7428921\ttotal: 5m 3s\tremaining: 45s\n",
      "1045:\tlearn: 1561.6348024\ttotal: 5m 3s\tremaining: 44.7s\n",
      "1046:\tlearn: 1561.5147714\ttotal: 5m 3s\tremaining: 44.4s\n",
      "1047:\tlearn: 1561.4527724\ttotal: 5m 4s\tremaining: 44.1s\n",
      "1048:\tlearn: 1561.3479551\ttotal: 5m 4s\tremaining: 43.8s\n",
      "1049:\tlearn: 1561.1738801\ttotal: 5m 4s\tremaining: 43.5s\n",
      "1050:\tlearn: 1560.9537263\ttotal: 5m 4s\tremaining: 43.2s\n",
      "1051:\tlearn: 1560.8389530\ttotal: 5m 5s\tremaining: 42.9s\n",
      "1052:\tlearn: 1560.7832752\ttotal: 5m 5s\tremaining: 42.7s\n",
      "1053:\tlearn: 1560.6753495\ttotal: 5m 5s\tremaining: 42.4s\n",
      "1054:\tlearn: 1560.6055294\ttotal: 5m 6s\tremaining: 42.1s\n",
      "1055:\tlearn: 1560.5003622\ttotal: 5m 6s\tremaining: 41.8s\n",
      "1056:\tlearn: 1560.4516966\ttotal: 5m 6s\tremaining: 41.5s\n",
      "1057:\tlearn: 1560.3512640\ttotal: 5m 6s\tremaining: 41.2s\n",
      "1058:\tlearn: 1560.3065775\ttotal: 5m 7s\tremaining: 40.9s\n",
      "1059:\tlearn: 1560.2553167\ttotal: 5m 7s\tremaining: 40.6s\n",
      "1060:\tlearn: 1560.1973173\ttotal: 5m 7s\tremaining: 40.3s\n",
      "1061:\tlearn: 1560.1488710\ttotal: 5m 8s\tremaining: 40s\n",
      "1062:\tlearn: 1560.0401920\ttotal: 5m 8s\tremaining: 39.7s\n",
      "1063:\tlearn: 1560.0081280\ttotal: 5m 8s\tremaining: 39.4s\n",
      "1064:\tlearn: 1559.8612474\ttotal: 5m 8s\tremaining: 39.2s\n",
      "1065:\tlearn: 1559.7793713\ttotal: 5m 9s\tremaining: 38.9s\n",
      "1066:\tlearn: 1559.6414289\ttotal: 5m 9s\tremaining: 38.6s\n",
      "1067:\tlearn: 1559.6105511\ttotal: 5m 9s\tremaining: 38.3s\n",
      "1068:\tlearn: 1559.5411352\ttotal: 5m 10s\tremaining: 38s\n",
      "1069:\tlearn: 1559.3912951\ttotal: 5m 10s\tremaining: 37.7s\n",
      "1070:\tlearn: 1559.2715797\ttotal: 5m 10s\tremaining: 37.4s\n",
      "1071:\tlearn: 1559.1021360\ttotal: 5m 10s\tremaining: 37.1s\n",
      "1072:\tlearn: 1558.9763172\ttotal: 5m 11s\tremaining: 36.8s\n",
      "1073:\tlearn: 1558.9038675\ttotal: 5m 11s\tremaining: 36.5s\n",
      "1074:\tlearn: 1558.8181716\ttotal: 5m 11s\tremaining: 36.3s\n",
      "1075:\tlearn: 1558.7810960\ttotal: 5m 12s\tremaining: 36s\n",
      "1076:\tlearn: 1558.6513818\ttotal: 5m 12s\tremaining: 35.7s\n",
      "1077:\tlearn: 1558.6078073\ttotal: 5m 12s\tremaining: 35.4s\n",
      "1078:\tlearn: 1558.5554966\ttotal: 5m 13s\tremaining: 35.1s\n",
      "1079:\tlearn: 1558.4469665\ttotal: 5m 13s\tremaining: 34.8s\n",
      "1080:\tlearn: 1558.3917188\ttotal: 5m 13s\tremaining: 34.5s\n",
      "1081:\tlearn: 1558.2606836\ttotal: 5m 13s\tremaining: 34.2s\n",
      "1082:\tlearn: 1558.1528095\ttotal: 5m 14s\tremaining: 33.9s\n",
      "1083:\tlearn: 1558.0214011\ttotal: 5m 14s\tremaining: 33.7s\n",
      "1084:\tlearn: 1557.8389360\ttotal: 5m 14s\tremaining: 33.4s\n",
      "1085:\tlearn: 1557.8337212\ttotal: 5m 15s\tremaining: 33.1s\n",
      "1086:\tlearn: 1557.7886362\ttotal: 5m 15s\tremaining: 32.8s\n",
      "1087:\tlearn: 1557.6979695\ttotal: 5m 15s\tremaining: 32.5s\n",
      "1088:\tlearn: 1557.5735495\ttotal: 5m 15s\tremaining: 32.2s\n",
      "1089:\tlearn: 1557.5074350\ttotal: 5m 16s\tremaining: 31.9s\n",
      "1090:\tlearn: 1557.3884418\ttotal: 5m 16s\tremaining: 31.6s\n",
      "1091:\tlearn: 1557.2863782\ttotal: 5m 16s\tremaining: 31.3s\n",
      "1092:\tlearn: 1557.1051781\ttotal: 5m 17s\tremaining: 31s\n",
      "1093:\tlearn: 1556.9931335\ttotal: 5m 17s\tremaining: 30.8s\n",
      "1094:\tlearn: 1556.8392518\ttotal: 5m 17s\tremaining: 30.5s\n",
      "1095:\tlearn: 1556.6607708\ttotal: 5m 18s\tremaining: 30.2s\n",
      "1096:\tlearn: 1556.6201924\ttotal: 5m 18s\tremaining: 29.9s\n",
      "1097:\tlearn: 1556.5816197\ttotal: 5m 18s\tremaining: 29.6s\n",
      "1098:\tlearn: 1556.4999132\ttotal: 5m 18s\tremaining: 29.3s\n",
      "1099:\tlearn: 1556.3742996\ttotal: 5m 19s\tremaining: 29s\n",
      "1100:\tlearn: 1556.2430807\ttotal: 5m 19s\tremaining: 28.7s\n",
      "1101:\tlearn: 1556.0947454\ttotal: 5m 19s\tremaining: 28.4s\n",
      "1102:\tlearn: 1556.0040611\ttotal: 5m 20s\tremaining: 28.2s\n",
      "1103:\tlearn: 1555.8339751\ttotal: 5m 20s\tremaining: 27.9s\n",
      "1104:\tlearn: 1555.7204142\ttotal: 5m 20s\tremaining: 27.6s\n",
      "1105:\tlearn: 1555.4824871\ttotal: 5m 21s\tremaining: 27.3s\n",
      "1106:\tlearn: 1555.3282620\ttotal: 5m 21s\tremaining: 27s\n",
      "1107:\tlearn: 1555.2659698\ttotal: 5m 21s\tremaining: 26.7s\n",
      "1108:\tlearn: 1555.1400100\ttotal: 5m 21s\tremaining: 26.4s\n",
      "1109:\tlearn: 1555.0144771\ttotal: 5m 22s\tremaining: 26.1s\n",
      "1110:\tlearn: 1554.9390290\ttotal: 5m 22s\tremaining: 25.8s\n",
      "1111:\tlearn: 1554.8444307\ttotal: 5m 22s\tremaining: 25.5s\n",
      "1112:\tlearn: 1554.6905990\ttotal: 5m 23s\tremaining: 25.3s\n",
      "1113:\tlearn: 1554.6419162\ttotal: 5m 23s\tremaining: 25s\n",
      "1114:\tlearn: 1554.5851576\ttotal: 5m 23s\tremaining: 24.7s\n",
      "1115:\tlearn: 1554.4802181\ttotal: 5m 23s\tremaining: 24.4s\n",
      "1116:\tlearn: 1554.3858113\ttotal: 5m 24s\tremaining: 24.1s\n",
      "1117:\tlearn: 1554.2544277\ttotal: 5m 24s\tremaining: 23.8s\n",
      "1118:\tlearn: 1554.1401187\ttotal: 5m 24s\tremaining: 23.5s\n",
      "1119:\tlearn: 1554.0133391\ttotal: 5m 25s\tremaining: 23.2s\n",
      "1120:\tlearn: 1553.9053515\ttotal: 5m 25s\tremaining: 22.9s\n",
      "1121:\tlearn: 1553.8084292\ttotal: 5m 25s\tremaining: 22.6s\n",
      "1122:\tlearn: 1553.7594968\ttotal: 5m 26s\tremaining: 22.4s\n",
      "1123:\tlearn: 1553.6493391\ttotal: 5m 26s\tremaining: 22.1s\n",
      "1124:\tlearn: 1553.5604755\ttotal: 5m 26s\tremaining: 21.8s\n",
      "1125:\tlearn: 1553.5100794\ttotal: 5m 26s\tremaining: 21.5s\n",
      "1126:\tlearn: 1553.4742010\ttotal: 5m 27s\tremaining: 21.2s\n",
      "1127:\tlearn: 1553.3272376\ttotal: 5m 27s\tremaining: 20.9s\n",
      "1128:\tlearn: 1553.1970135\ttotal: 5m 27s\tremaining: 20.6s\n",
      "1129:\tlearn: 1553.1467747\ttotal: 5m 28s\tremaining: 20.3s\n",
      "1130:\tlearn: 1553.0063159\ttotal: 5m 28s\tremaining: 20s\n",
      "1131:\tlearn: 1552.9267207\ttotal: 5m 28s\tremaining: 19.7s\n",
      "1132:\tlearn: 1552.7656470\ttotal: 5m 29s\tremaining: 19.5s\n",
      "1133:\tlearn: 1552.6910912\ttotal: 5m 29s\tremaining: 19.2s\n",
      "1134:\tlearn: 1552.6390893\ttotal: 5m 29s\tremaining: 18.9s\n",
      "1135:\tlearn: 1552.5682278\ttotal: 5m 29s\tremaining: 18.6s\n",
      "1136:\tlearn: 1552.5610880\ttotal: 5m 30s\tremaining: 18.3s\n",
      "1137:\tlearn: 1552.4605703\ttotal: 5m 30s\tremaining: 18s\n",
      "1138:\tlearn: 1552.3975633\ttotal: 5m 30s\tremaining: 17.7s\n",
      "1139:\tlearn: 1552.3746165\ttotal: 5m 31s\tremaining: 17.4s\n",
      "1140:\tlearn: 1552.3081529\ttotal: 5m 31s\tremaining: 17.1s\n",
      "1141:\tlearn: 1552.2634547\ttotal: 5m 31s\tremaining: 16.8s\n",
      "1142:\tlearn: 1552.2100093\ttotal: 5m 31s\tremaining: 16.6s\n",
      "1143:\tlearn: 1552.1359262\ttotal: 5m 32s\tremaining: 16.3s\n",
      "1144:\tlearn: 1552.0280306\ttotal: 5m 32s\tremaining: 16s\n",
      "1145:\tlearn: 1551.9485618\ttotal: 5m 32s\tremaining: 15.7s\n",
      "1146:\tlearn: 1551.8226079\ttotal: 5m 33s\tremaining: 15.4s\n",
      "1147:\tlearn: 1551.7658214\ttotal: 5m 33s\tremaining: 15.1s\n",
      "1148:\tlearn: 1551.7162936\ttotal: 5m 33s\tremaining: 14.8s\n",
      "1149:\tlearn: 1551.5938467\ttotal: 5m 33s\tremaining: 14.5s\n",
      "1150:\tlearn: 1551.4642286\ttotal: 5m 34s\tremaining: 14.2s\n",
      "1151:\tlearn: 1551.3993651\ttotal: 5m 34s\tremaining: 13.9s\n",
      "1152:\tlearn: 1551.2487789\ttotal: 5m 34s\tremaining: 13.7s\n",
      "1153:\tlearn: 1551.1855739\ttotal: 5m 35s\tremaining: 13.4s\n",
      "1154:\tlearn: 1551.0186286\ttotal: 5m 35s\tremaining: 13.1s\n",
      "1155:\tlearn: 1550.9502338\ttotal: 5m 35s\tremaining: 12.8s\n",
      "1156:\tlearn: 1550.8668320\ttotal: 5m 35s\tremaining: 12.5s\n",
      "1157:\tlearn: 1550.7877181\ttotal: 5m 36s\tremaining: 12.2s\n",
      "1158:\tlearn: 1550.7554697\ttotal: 5m 36s\tremaining: 11.9s\n",
      "1159:\tlearn: 1550.6679722\ttotal: 5m 36s\tremaining: 11.6s\n",
      "1160:\tlearn: 1550.6344703\ttotal: 5m 37s\tremaining: 11.3s\n",
      "1161:\tlearn: 1550.5707854\ttotal: 5m 37s\tremaining: 11s\n",
      "1162:\tlearn: 1550.4776146\ttotal: 5m 37s\tremaining: 10.7s\n",
      "1163:\tlearn: 1550.3905099\ttotal: 5m 38s\tremaining: 10.5s\n",
      "1164:\tlearn: 1550.3121999\ttotal: 5m 38s\tremaining: 10.2s\n",
      "1165:\tlearn: 1550.1886511\ttotal: 5m 38s\tremaining: 9.87s\n",
      "1166:\tlearn: 1550.0796579\ttotal: 5m 38s\tremaining: 9.58s\n",
      "1167:\tlearn: 1550.0527282\ttotal: 5m 39s\tremaining: 9.29s\n",
      "1168:\tlearn: 1549.9681567\ttotal: 5m 39s\tremaining: 9s\n",
      "1169:\tlearn: 1549.8784162\ttotal: 5m 39s\tremaining: 8.71s\n",
      "1170:\tlearn: 1549.7521065\ttotal: 5m 39s\tremaining: 8.42s\n",
      "1171:\tlearn: 1549.6271992\ttotal: 5m 40s\tremaining: 8.13s\n",
      "1172:\tlearn: 1549.6114591\ttotal: 5m 40s\tremaining: 7.84s\n",
      "1173:\tlearn: 1549.5266652\ttotal: 5m 40s\tremaining: 7.55s\n",
      "1174:\tlearn: 1549.4652484\ttotal: 5m 41s\tremaining: 7.25s\n",
      "1175:\tlearn: 1549.3486316\ttotal: 5m 41s\tremaining: 6.96s\n",
      "1176:\tlearn: 1549.2571147\ttotal: 5m 41s\tremaining: 6.67s\n",
      "1177:\tlearn: 1549.1980571\ttotal: 5m 41s\tremaining: 6.38s\n",
      "1178:\tlearn: 1549.0595905\ttotal: 5m 42s\tremaining: 6.09s\n",
      "1179:\tlearn: 1549.0401591\ttotal: 5m 42s\tremaining: 5.8s\n",
      "1180:\tlearn: 1548.9666898\ttotal: 5m 42s\tremaining: 5.51s\n",
      "1181:\tlearn: 1548.8902123\ttotal: 5m 42s\tremaining: 5.22s\n",
      "1182:\tlearn: 1548.7824377\ttotal: 5m 43s\tremaining: 4.93s\n",
      "1183:\tlearn: 1548.7435799\ttotal: 5m 43s\tremaining: 4.64s\n",
      "1184:\tlearn: 1548.6353928\ttotal: 5m 43s\tremaining: 4.35s\n",
      "1185:\tlearn: 1548.6080544\ttotal: 5m 44s\tremaining: 4.06s\n",
      "1186:\tlearn: 1548.4616534\ttotal: 5m 44s\tremaining: 3.77s\n",
      "1187:\tlearn: 1548.3594115\ttotal: 5m 44s\tremaining: 3.48s\n",
      "1188:\tlearn: 1548.2223482\ttotal: 5m 44s\tremaining: 3.19s\n",
      "1189:\tlearn: 1548.0717785\ttotal: 5m 45s\tremaining: 2.9s\n",
      "1190:\tlearn: 1548.0425490\ttotal: 5m 45s\tremaining: 2.61s\n",
      "1191:\tlearn: 1547.9671988\ttotal: 5m 45s\tremaining: 2.32s\n",
      "1192:\tlearn: 1547.9196802\ttotal: 5m 46s\tremaining: 2.03s\n",
      "1193:\tlearn: 1547.8098472\ttotal: 5m 46s\tremaining: 1.74s\n",
      "1194:\tlearn: 1547.7546423\ttotal: 5m 46s\tremaining: 1.45s\n",
      "1195:\tlearn: 1547.6517465\ttotal: 5m 47s\tremaining: 1.16s\n",
      "1196:\tlearn: 1547.5613744\ttotal: 5m 47s\tremaining: 871ms\n",
      "1197:\tlearn: 1547.5055571\ttotal: 5m 47s\tremaining: 580ms\n",
      "1198:\tlearn: 1547.3834095\ttotal: 5m 47s\tremaining: 290ms\n",
      "1199:\tlearn: 1547.2803604\ttotal: 5m 48s\tremaining: 0us\n",
      "Wall time: 5min 49s\n"
     ]
    },
    {
     "data": {
      "text/plain": [
       "<catboost.core.CatBoostRegressor at 0x1c80cc80100>"
      ]
     },
     "execution_count": 103,
     "metadata": {},
     "output_type": "execute_result"
    }
   ],
   "source": [
    "%%time\n",
    "model_cat = CatBoostRegressor(random_state=42,\n",
    "                              depth=9,\n",
    "                              iterations=1200,\n",
    "                              learning_rate=0.02,\n",
    "                              loss_function='RMSE')\n",
    "model_cat.fit(features_train_cat, target_train_cat, cat_features=cat)"
   ]
  },
  {
   "cell_type": "code",
   "execution_count": 104,
   "metadata": {
    "colab": {
     "base_uri": "https://localhost:8080/"
    },
    "id": "fo6zm06pMTex",
    "outputId": "cd0c8b79-b465-43a8-91ef-28e8b07fba96"
   },
   "outputs": [
    {
     "name": "stdout",
     "output_type": "stream",
     "text": [
      "Wall time: 1.45 s\n"
     ]
    }
   ],
   "source": [
    "%%time\n",
    "pred_cat = model_cat.predict(features_train_cat)"
   ]
  },
  {
   "cell_type": "code",
   "execution_count": 105,
   "metadata": {
    "colab": {
     "base_uri": "https://localhost:8080/"
    },
    "id": "DJPdkFzoNJqj",
    "outputId": "4a29fb41-0071-43c4-f0e9-1c0f3312b309"
   },
   "outputs": [
    {
     "name": "stdout",
     "output_type": "stream",
     "text": [
      "RMSE модели CatboostRegressor: 1547.08\n"
     ]
    }
   ],
   "source": [
    "rmse_cat = mean_squared_error(target_train_cat, pred_cat)**0.5\n",
    "print(f'RMSE модели CatboostRegressor: {rmse_cat:.2f}')"
   ]
  },
  {
   "cell_type": "markdown",
   "metadata": {
    "id": "shxPsM2hNhvL"
   },
   "source": [
    "### CV Catboost "
   ]
  },
  {
   "cell_type": "code",
   "execution_count": 106,
   "metadata": {
    "id": "kMGVl-GrNbLX"
   },
   "outputs": [],
   "source": [
    "pool = Pool(data=features_train_cat, label=target_train_cat, cat_features=cat)"
   ]
  },
  {
   "cell_type": "code",
   "execution_count": 107,
   "metadata": {
    "id": "4CiLOPoLQMfz"
   },
   "outputs": [],
   "source": [
    "params_cat = {\"iterations\": 1200,\n",
    "              \"learning_rate\": 0.02,\n",
    "              \"loss_function\": 'RMSE',\n",
    "              \"depth\": 9,\n",
    "              \"random_state\": 42}"
   ]
  },
  {
   "cell_type": "code",
   "execution_count": 108,
   "metadata": {
    "colab": {
     "base_uri": "https://localhost:8080/"
    },
    "id": "IAAhni5nQ8GD",
    "outputId": "8f385619-bcda-4e5b-fa72-216c5c102cab",
    "scrolled": true
   },
   "outputs": [
    {
     "name": "stdout",
     "output_type": "stream",
     "text": [
      "Training on fold [0/3]\n",
      "0:\tlearn: 6392.3152977\ttest: 6336.6268281\tbest: 6336.6268281 (0)\ttotal: 263ms\tremaining: 5m 15s\n",
      "1:\tlearn: 6284.8149658\ttest: 6230.3362797\tbest: 6230.3362797 (1)\ttotal: 554ms\tremaining: 5m 31s\n",
      "2:\tlearn: 6179.5270006\ttest: 6125.9954036\tbest: 6125.9954036 (2)\ttotal: 856ms\tremaining: 5m 41s\n",
      "3:\tlearn: 6075.9435711\ttest: 6023.7179471\tbest: 6023.7179471 (3)\ttotal: 1.09s\tremaining: 5m 27s\n",
      "4:\tlearn: 5976.0257814\ttest: 5925.0825023\tbest: 5925.0825023 (4)\ttotal: 1.32s\tremaining: 5m 14s\n",
      "5:\tlearn: 5877.7152790\ttest: 5827.7793833\tbest: 5827.7793833 (5)\ttotal: 1.58s\tremaining: 5m 14s\n",
      "6:\tlearn: 5779.4384337\ttest: 5730.2739316\tbest: 5730.2739316 (6)\ttotal: 1.86s\tremaining: 5m 16s\n",
      "7:\tlearn: 5684.5005593\ttest: 5636.0782729\tbest: 5636.0782729 (7)\ttotal: 2.12s\tremaining: 5m 16s\n",
      "8:\tlearn: 5591.7890788\ttest: 5544.4590129\tbest: 5544.4590129 (8)\ttotal: 2.32s\tremaining: 5m 6s\n",
      "9:\tlearn: 5500.4171970\ttest: 5453.9905128\tbest: 5453.9905128 (9)\ttotal: 2.56s\tremaining: 5m 5s\n",
      "10:\tlearn: 5411.0359712\ttest: 5365.8105991\tbest: 5365.8105991 (10)\ttotal: 2.8s\tremaining: 5m 2s\n",
      "11:\tlearn: 5322.6633575\ttest: 5278.4641673\tbest: 5278.4641673 (11)\ttotal: 3.04s\tremaining: 5m\n",
      "12:\tlearn: 5237.5508574\ttest: 5194.2222778\tbest: 5194.2222778 (12)\ttotal: 3.26s\tremaining: 4m 57s\n",
      "13:\tlearn: 5154.5679763\ttest: 5112.3034170\tbest: 5112.3034170 (13)\ttotal: 3.47s\tremaining: 4m 54s\n",
      "14:\tlearn: 5073.2538495\ttest: 5031.7132487\tbest: 5031.7132487 (14)\ttotal: 3.74s\tremaining: 4m 55s\n",
      "15:\tlearn: 4993.7396472\ttest: 4953.0617493\tbest: 4953.0617493 (15)\ttotal: 3.97s\tremaining: 4m 54s\n",
      "16:\tlearn: 4915.3918080\ttest: 4875.4696092\tbest: 4875.4696092 (16)\ttotal: 4.21s\tremaining: 4m 52s\n",
      "17:\tlearn: 4839.2016711\ttest: 4800.2199035\tbest: 4800.2199035 (17)\ttotal: 4.46s\tremaining: 4m 52s\n",
      "18:\tlearn: 4764.4947751\ttest: 4726.4674449\tbest: 4726.4674449 (18)\ttotal: 4.69s\tremaining: 4m 51s\n",
      "19:\tlearn: 4692.1098088\ttest: 4654.9271506\tbest: 4654.9271506 (19)\ttotal: 4.91s\tremaining: 4m 49s\n",
      "20:\tlearn: 4621.0541575\ttest: 4584.6890053\tbest: 4584.6890053 (20)\ttotal: 5.16s\tremaining: 4m 49s\n",
      "21:\tlearn: 4551.8571552\ttest: 4516.4710353\tbest: 4516.4710353 (21)\ttotal: 5.4s\tremaining: 4m 49s\n",
      "22:\tlearn: 4484.1137097\ttest: 4449.4565810\tbest: 4449.4565810 (22)\ttotal: 5.63s\tremaining: 4m 48s\n",
      "23:\tlearn: 4418.0200379\ttest: 4383.8681915\tbest: 4383.8681915 (23)\ttotal: 5.88s\tremaining: 4m 47s\n",
      "24:\tlearn: 4353.4728285\ttest: 4319.8668980\tbest: 4319.8668980 (24)\ttotal: 6.15s\tremaining: 4m 49s\n",
      "25:\tlearn: 4290.2547080\ttest: 4257.2724906\tbest: 4257.2724906 (25)\ttotal: 6.43s\tremaining: 4m 50s\n",
      "26:\tlearn: 4228.5927736\ttest: 4196.0884331\tbest: 4196.0884331 (26)\ttotal: 6.68s\tremaining: 4m 50s\n",
      "27:\tlearn: 4168.8698623\ttest: 4137.0142183\tbest: 4137.0142183 (27)\ttotal: 6.92s\tremaining: 4m 49s\n",
      "28:\tlearn: 4110.0072982\ttest: 4078.8818173\tbest: 4078.8818173 (28)\ttotal: 7.17s\tremaining: 4m 49s\n",
      "29:\tlearn: 4053.0775062\ttest: 4022.6056407\tbest: 4022.6056407 (29)\ttotal: 7.37s\tremaining: 4m 47s\n",
      "30:\tlearn: 3997.8933778\ttest: 3968.0074825\tbest: 3968.0074825 (30)\ttotal: 7.62s\tremaining: 4m 47s\n",
      "31:\tlearn: 3943.1050467\ttest: 3913.9381968\tbest: 3913.9381968 (31)\ttotal: 7.83s\tremaining: 4m 45s\n",
      "32:\tlearn: 3889.6184709\ttest: 3861.0084027\tbest: 3861.0084027 (32)\ttotal: 8.08s\tremaining: 4m 45s\n",
      "33:\tlearn: 3837.1338715\ttest: 3809.3053408\tbest: 3809.3053408 (33)\ttotal: 8.3s\tremaining: 4m 44s\n",
      "34:\tlearn: 3787.3885027\ttest: 3760.0554297\tbest: 3760.0554297 (34)\ttotal: 8.55s\tremaining: 4m 44s\n",
      "35:\tlearn: 3737.7428401\ttest: 3710.9529039\tbest: 3710.9529039 (35)\ttotal: 8.79s\tremaining: 4m 44s\n",
      "36:\tlearn: 3688.9247091\ttest: 3662.5304103\tbest: 3662.5304103 (36)\ttotal: 9.02s\tremaining: 4m 43s\n",
      "37:\tlearn: 3641.9639703\ttest: 3616.1669234\tbest: 3616.1669234 (37)\ttotal: 9.27s\tremaining: 4m 43s\n",
      "38:\tlearn: 3595.4248446\ttest: 3570.1839271\tbest: 3570.1839271 (38)\ttotal: 9.51s\tremaining: 4m 43s\n",
      "39:\tlearn: 3549.6495967\ttest: 3525.1181069\tbest: 3525.1181069 (39)\ttotal: 9.75s\tremaining: 4m 42s\n",
      "40:\tlearn: 3504.5011925\ttest: 3480.6857968\tbest: 3480.6857968 (40)\ttotal: 9.95s\tremaining: 4m 41s\n",
      "41:\tlearn: 3461.2040640\ttest: 3437.7407036\tbest: 3437.7407036 (41)\ttotal: 10.2s\tremaining: 4m 41s\n",
      "42:\tlearn: 3418.1688153\ttest: 3395.3711490\tbest: 3395.3711490 (42)\ttotal: 10.5s\tremaining: 4m 41s\n",
      "43:\tlearn: 3376.8684563\ttest: 3354.5201502\tbest: 3354.5201502 (43)\ttotal: 10.7s\tremaining: 4m 41s\n",
      "44:\tlearn: 3337.5598845\ttest: 3315.7489341\tbest: 3315.7489341 (44)\ttotal: 10.9s\tremaining: 4m 39s\n",
      "45:\tlearn: 3297.4480042\ttest: 3276.1453295\tbest: 3276.1453295 (45)\ttotal: 11.2s\tremaining: 4m 40s\n",
      "46:\tlearn: 3259.3983426\ttest: 3238.4908709\tbest: 3238.4908709 (46)\ttotal: 11.4s\tremaining: 4m 40s\n",
      "47:\tlearn: 3221.8339592\ttest: 3201.2706657\tbest: 3201.2706657 (47)\ttotal: 11.7s\tremaining: 4m 40s\n",
      "48:\tlearn: 3186.1352040\ttest: 3166.1409515\tbest: 3166.1409515 (48)\ttotal: 11.9s\tremaining: 4m 40s\n",
      "49:\tlearn: 3150.1820507\ttest: 3130.5144983\tbest: 3130.5144983 (49)\ttotal: 12.2s\tremaining: 4m 39s\n",
      "50:\tlearn: 3115.4015042\ttest: 3095.9946502\tbest: 3095.9946502 (50)\ttotal: 12.4s\tremaining: 4m 39s\n",
      "51:\tlearn: 3081.7268348\ttest: 3062.6545668\tbest: 3062.6545668 (51)\ttotal: 12.7s\tremaining: 4m 39s\n",
      "52:\tlearn: 3048.0473489\ttest: 3029.4759041\tbest: 3029.4759041 (52)\ttotal: 12.9s\tremaining: 4m 39s\n",
      "53:\tlearn: 3016.0583097\ttest: 2997.9224030\tbest: 2997.9224030 (53)\ttotal: 13.1s\tremaining: 4m 39s\n",
      "54:\tlearn: 2985.8893695\ttest: 2968.2535010\tbest: 2968.2535010 (54)\ttotal: 13.4s\tremaining: 4m 38s\n",
      "55:\tlearn: 2955.2638502\ttest: 2937.9573756\tbest: 2937.9573756 (55)\ttotal: 13.7s\tremaining: 4m 39s\n",
      "56:\tlearn: 2925.3721236\ttest: 2908.3807702\tbest: 2908.3807702 (56)\ttotal: 13.9s\tremaining: 4m 39s\n",
      "57:\tlearn: 2896.6392145\ttest: 2880.0126604\tbest: 2880.0126604 (57)\ttotal: 14.2s\tremaining: 4m 39s\n",
      "58:\tlearn: 2868.4850882\ttest: 2851.9586533\tbest: 2851.9586533 (58)\ttotal: 14.5s\tremaining: 4m 39s\n",
      "59:\tlearn: 2841.3426038\ttest: 2825.4107747\tbest: 2825.4107747 (59)\ttotal: 14.7s\tremaining: 4m 39s\n",
      "60:\tlearn: 2814.3483649\ttest: 2798.7605128\tbest: 2798.7605128 (60)\ttotal: 15s\tremaining: 4m 39s\n",
      "61:\tlearn: 2788.6338238\ttest: 2773.4434665\tbest: 2773.4434665 (61)\ttotal: 15.2s\tremaining: 4m 39s\n",
      "62:\tlearn: 2763.3895489\ttest: 2748.3503024\tbest: 2748.3503024 (62)\ttotal: 15.5s\tremaining: 4m 39s\n",
      "63:\tlearn: 2738.3968084\ttest: 2723.6874799\tbest: 2723.6874799 (63)\ttotal: 15.7s\tremaining: 4m 39s\n",
      "64:\tlearn: 2714.8294718\ttest: 2700.4609321\tbest: 2700.4609321 (64)\ttotal: 16s\tremaining: 4m 38s\n",
      "65:\tlearn: 2691.2853782\ttest: 2677.1717876\tbest: 2677.1717876 (65)\ttotal: 16.2s\tremaining: 4m 37s\n",
      "66:\tlearn: 2668.4114139\ttest: 2654.7309841\tbest: 2654.7309841 (66)\ttotal: 16.4s\tremaining: 4m 37s\n",
      "67:\tlearn: 2645.8293757\ttest: 2632.3472749\tbest: 2632.3472749 (67)\ttotal: 16.6s\tremaining: 4m 37s\n",
      "68:\tlearn: 2623.5130465\ttest: 2610.4573089\tbest: 2610.4573089 (68)\ttotal: 16.8s\tremaining: 4m 35s\n",
      "69:\tlearn: 2601.5056332\ttest: 2588.8648795\tbest: 2588.8648795 (69)\ttotal: 17.1s\tremaining: 4m 35s\n",
      "70:\tlearn: 2581.4724747\ttest: 2568.9946949\tbest: 2568.9946949 (70)\ttotal: 17.3s\tremaining: 4m 34s\n",
      "71:\tlearn: 2561.7069571\ttest: 2549.4748298\tbest: 2549.4748298 (71)\ttotal: 17.6s\tremaining: 4m 35s\n",
      "72:\tlearn: 2541.7384891\ttest: 2529.6024445\tbest: 2529.6024445 (72)\ttotal: 17.8s\tremaining: 4m 34s\n",
      "73:\tlearn: 2522.7956144\ttest: 2510.7480540\tbest: 2510.7480540 (73)\ttotal: 18s\tremaining: 4m 33s\n",
      "74:\tlearn: 2503.3524861\ttest: 2491.5361813\tbest: 2491.5361813 (74)\ttotal: 18.2s\tremaining: 4m 32s\n",
      "75:\tlearn: 2484.6576912\ttest: 2473.1262309\tbest: 2473.1262309 (75)\ttotal: 18.4s\tremaining: 4m 32s\n",
      "76:\tlearn: 2467.4018754\ttest: 2456.0934021\tbest: 2456.0934021 (76)\ttotal: 18.7s\tremaining: 4m 32s\n",
      "77:\tlearn: 2450.3090121\ttest: 2439.2563981\tbest: 2439.2563981 (77)\ttotal: 18.9s\tremaining: 4m 32s\n",
      "78:\tlearn: 2434.1445272\ttest: 2423.3140309\tbest: 2423.3140309 (78)\ttotal: 19.2s\tremaining: 4m 31s\n",
      "79:\tlearn: 2418.0313440\ttest: 2407.5569670\tbest: 2407.5569670 (79)\ttotal: 19.4s\tremaining: 4m 31s\n",
      "80:\tlearn: 2402.5429513\ttest: 2392.5736055\tbest: 2392.5736055 (80)\ttotal: 19.6s\tremaining: 4m 31s\n",
      "81:\tlearn: 2386.9388114\ttest: 2377.0974059\tbest: 2377.0974059 (81)\ttotal: 19.9s\tremaining: 4m 30s\n",
      "82:\tlearn: 2372.1817379\ttest: 2362.5987992\tbest: 2362.5987992 (82)\ttotal: 20.1s\tremaining: 4m 30s\n",
      "83:\tlearn: 2357.3461688\ttest: 2348.1073859\tbest: 2348.1073859 (83)\ttotal: 20.4s\tremaining: 4m 30s\n",
      "84:\tlearn: 2343.2070874\ttest: 2334.0621296\tbest: 2334.0621296 (84)\ttotal: 20.6s\tremaining: 4m 30s\n",
      "85:\tlearn: 2329.2496914\ttest: 2320.4224053\tbest: 2320.4224053 (85)\ttotal: 20.8s\tremaining: 4m 29s\n",
      "86:\tlearn: 2315.4382759\ttest: 2306.9655704\tbest: 2306.9655704 (86)\ttotal: 21.1s\tremaining: 4m 29s\n",
      "87:\tlearn: 2302.4893305\ttest: 2294.3472899\tbest: 2294.3472899 (87)\ttotal: 21.3s\tremaining: 4m 28s\n",
      "88:\tlearn: 2289.2435477\ttest: 2281.3896941\tbest: 2281.3896941 (88)\ttotal: 21.5s\tremaining: 4m 28s\n",
      "89:\tlearn: 2277.2251337\ttest: 2269.4821584\tbest: 2269.4821584 (89)\ttotal: 21.7s\tremaining: 4m 27s\n",
      "90:\tlearn: 2265.2057777\ttest: 2257.6187209\tbest: 2257.6187209 (90)\ttotal: 22s\tremaining: 4m 27s\n",
      "91:\tlearn: 2253.2039937\ttest: 2245.6003827\tbest: 2245.6003827 (91)\ttotal: 22.2s\tremaining: 4m 27s\n",
      "92:\tlearn: 2242.2042352\ttest: 2234.7953202\tbest: 2234.7953202 (92)\ttotal: 22.4s\tremaining: 4m 27s\n",
      "93:\tlearn: 2231.2409354\ttest: 2223.9491095\tbest: 2223.9491095 (93)\ttotal: 22.7s\tremaining: 4m 26s\n",
      "94:\tlearn: 2220.5095214\ttest: 2213.4218666\tbest: 2213.4218666 (94)\ttotal: 22.9s\tremaining: 4m 26s\n",
      "95:\tlearn: 2209.9062038\ttest: 2203.1017102\tbest: 2203.1017102 (95)\ttotal: 23.2s\tremaining: 4m 26s\n",
      "96:\tlearn: 2199.8143160\ttest: 2193.1380097\tbest: 2193.1380097 (96)\ttotal: 23.4s\tremaining: 4m 26s\n",
      "97:\tlearn: 2189.8426917\ttest: 2183.2003632\tbest: 2183.2003632 (97)\ttotal: 23.7s\tremaining: 4m 26s\n",
      "98:\tlearn: 2180.4171963\ttest: 2173.9306368\tbest: 2173.9306368 (98)\ttotal: 23.9s\tremaining: 4m 25s\n",
      "99:\tlearn: 2171.1999277\ttest: 2165.0551221\tbest: 2165.0551221 (99)\ttotal: 24.1s\tremaining: 4m 25s\n",
      "100:\tlearn: 2162.2804679\ttest: 2156.2976150\tbest: 2156.2976150 (100)\ttotal: 24.3s\tremaining: 4m 24s\n",
      "101:\tlearn: 2153.4933418\ttest: 2147.7112715\tbest: 2147.7112715 (101)\ttotal: 24.6s\tremaining: 4m 24s\n",
      "102:\tlearn: 2144.8354291\ttest: 2139.0516750\tbest: 2139.0516750 (102)\ttotal: 24.8s\tremaining: 4m 24s\n",
      "103:\tlearn: 2136.8198701\ttest: 2131.2156643\tbest: 2131.2156643 (103)\ttotal: 25s\tremaining: 4m 23s\n",
      "104:\tlearn: 2128.6082309\ttest: 2123.2725627\tbest: 2123.2725627 (104)\ttotal: 25.3s\tremaining: 4m 23s\n",
      "105:\tlearn: 2120.4112701\ttest: 2115.4044898\tbest: 2115.4044898 (105)\ttotal: 25.5s\tremaining: 4m 23s\n",
      "106:\tlearn: 2112.3467573\ttest: 2107.4581921\tbest: 2107.4581921 (106)\ttotal: 25.7s\tremaining: 4m 22s\n",
      "107:\tlearn: 2105.1947067\ttest: 2100.4397868\tbest: 2100.4397868 (107)\ttotal: 26s\tremaining: 4m 22s\n",
      "108:\tlearn: 2097.8480103\ttest: 2093.1602017\tbest: 2093.1602017 (108)\ttotal: 26.2s\tremaining: 4m 21s\n",
      "109:\tlearn: 2090.0109052\ttest: 2085.4085223\tbest: 2085.4085223 (109)\ttotal: 26.4s\tremaining: 4m 21s\n",
      "110:\tlearn: 2082.4196109\ttest: 2078.0511832\tbest: 2078.0511832 (110)\ttotal: 26.6s\tremaining: 4m 21s\n",
      "111:\tlearn: 2075.0629324\ttest: 2070.8272594\tbest: 2070.8272594 (111)\ttotal: 26.9s\tremaining: 4m 21s\n",
      "112:\tlearn: 2067.8778285\ttest: 2063.7046879\tbest: 2063.7046879 (112)\ttotal: 27.2s\tremaining: 4m 21s\n",
      "113:\tlearn: 2060.9416150\ttest: 2056.8702315\tbest: 2056.8702315 (113)\ttotal: 27.4s\tremaining: 4m 21s\n",
      "114:\tlearn: 2053.5212980\ttest: 2049.8140191\tbest: 2049.8140191 (114)\ttotal: 27.6s\tremaining: 4m 20s\n",
      "115:\tlearn: 2047.2191240\ttest: 2043.7174997\tbest: 2043.7174997 (115)\ttotal: 27.9s\tremaining: 4m 20s\n",
      "116:\tlearn: 2040.5088837\ttest: 2037.0945648\tbest: 2037.0945648 (116)\ttotal: 28.1s\tremaining: 4m 19s\n",
      "117:\tlearn: 2033.8708184\ttest: 2030.7900493\tbest: 2030.7900493 (117)\ttotal: 28.3s\tremaining: 4m 19s\n",
      "118:\tlearn: 2027.8998915\ttest: 2025.0129957\tbest: 2025.0129957 (118)\ttotal: 28.5s\tremaining: 4m 19s\n",
      "119:\tlearn: 2021.7203392\ttest: 2018.9668976\tbest: 2018.9668976 (119)\ttotal: 28.8s\tremaining: 4m 18s\n",
      "120:\tlearn: 2015.8915521\ttest: 2013.2208226\tbest: 2013.2208226 (120)\ttotal: 29s\tremaining: 4m 18s\n",
      "121:\tlearn: 2009.7464725\ttest: 2007.1404422\tbest: 2007.1404422 (121)\ttotal: 29.2s\tremaining: 4m 17s\n",
      "122:\tlearn: 2004.5240852\ttest: 2002.0194988\tbest: 2002.0194988 (122)\ttotal: 29.5s\tremaining: 4m 17s\n",
      "123:\tlearn: 1999.6065446\ttest: 1997.2127953\tbest: 1997.2127953 (123)\ttotal: 29.7s\tremaining: 4m 17s\n",
      "124:\tlearn: 1993.9098705\ttest: 1991.6398414\tbest: 1991.6398414 (124)\ttotal: 29.9s\tremaining: 4m 17s\n",
      "125:\tlearn: 1988.6400271\ttest: 1986.6086389\tbest: 1986.6086389 (125)\ttotal: 30.1s\tremaining: 4m 16s\n",
      "126:\tlearn: 1983.8416018\ttest: 1981.8541845\tbest: 1981.8541845 (126)\ttotal: 30.3s\tremaining: 4m 15s\n",
      "127:\tlearn: 1979.1852393\ttest: 1977.2799853\tbest: 1977.2799853 (127)\ttotal: 30.5s\tremaining: 4m 15s\n",
      "128:\tlearn: 1974.6837735\ttest: 1973.0501340\tbest: 1973.0501340 (128)\ttotal: 30.7s\tremaining: 4m 15s\n",
      "129:\tlearn: 1969.9363726\ttest: 1968.5828601\tbest: 1968.5828601 (129)\ttotal: 31s\tremaining: 4m 15s\n",
      "130:\tlearn: 1965.5279621\ttest: 1964.2834744\tbest: 1964.2834744 (130)\ttotal: 31.3s\tremaining: 4m 15s\n",
      "131:\tlearn: 1960.7502028\ttest: 1959.6713043\tbest: 1959.6713043 (131)\ttotal: 31.5s\tremaining: 4m 15s\n",
      "132:\tlearn: 1956.1877056\ttest: 1955.0861055\tbest: 1955.0861055 (132)\ttotal: 31.8s\tremaining: 4m 14s\n",
      "133:\tlearn: 1951.9027336\ttest: 1950.8973833\tbest: 1950.8973833 (133)\ttotal: 31.9s\tremaining: 4m 14s\n",
      "134:\tlearn: 1948.0631557\ttest: 1947.2699970\tbest: 1947.2699970 (134)\ttotal: 32.2s\tremaining: 4m 13s\n",
      "135:\tlearn: 1944.2040651\ttest: 1943.5766946\tbest: 1943.5766946 (135)\ttotal: 32.4s\tremaining: 4m 13s\n",
      "136:\tlearn: 1940.1266690\ttest: 1939.6418017\tbest: 1939.6418017 (136)\ttotal: 32.7s\tremaining: 4m 13s\n",
      "137:\tlearn: 1935.9413765\ttest: 1935.4154192\tbest: 1935.4154192 (137)\ttotal: 32.9s\tremaining: 4m 13s\n",
      "138:\tlearn: 1931.8706123\ttest: 1931.3807587\tbest: 1931.3807587 (138)\ttotal: 33.1s\tremaining: 4m 12s\n",
      "139:\tlearn: 1928.4529796\ttest: 1928.0234271\tbest: 1928.0234271 (139)\ttotal: 33.4s\tremaining: 4m 12s\n",
      "140:\tlearn: 1925.1093971\ttest: 1924.8312779\tbest: 1924.8312779 (140)\ttotal: 33.6s\tremaining: 4m 12s\n",
      "141:\tlearn: 1921.5500262\ttest: 1921.2886984\tbest: 1921.2886984 (141)\ttotal: 33.9s\tremaining: 4m 12s\n",
      "142:\tlearn: 1918.2625962\ttest: 1918.1581976\tbest: 1918.1581976 (142)\ttotal: 34.1s\tremaining: 4m 11s\n",
      "143:\tlearn: 1914.5119951\ttest: 1914.5881726\tbest: 1914.5881726 (143)\ttotal: 34.3s\tremaining: 4m 11s\n",
      "144:\tlearn: 1911.0173929\ttest: 1911.1108739\tbest: 1911.1108739 (144)\ttotal: 34.6s\tremaining: 4m 11s\n",
      "145:\tlearn: 1907.8080731\ttest: 1907.9792187\tbest: 1907.9792187 (145)\ttotal: 34.8s\tremaining: 4m 11s\n",
      "146:\tlearn: 1905.0892349\ttest: 1905.4968500\tbest: 1905.4968500 (146)\ttotal: 35s\tremaining: 4m 10s\n",
      "147:\tlearn: 1902.1957935\ttest: 1902.7406961\tbest: 1902.7406961 (147)\ttotal: 35.3s\tremaining: 4m 10s\n",
      "148:\tlearn: 1899.7171779\ttest: 1900.3609438\tbest: 1900.3609438 (148)\ttotal: 35.5s\tremaining: 4m 10s\n",
      "149:\tlearn: 1896.8192576\ttest: 1897.4464488\tbest: 1897.4464488 (149)\ttotal: 35.7s\tremaining: 4m 10s\n",
      "150:\tlearn: 1894.2586266\ttest: 1895.0699040\tbest: 1895.0699040 (150)\ttotal: 36s\tremaining: 4m 9s\n",
      "151:\tlearn: 1891.7587733\ttest: 1892.7434182\tbest: 1892.7434182 (151)\ttotal: 36.2s\tremaining: 4m 9s\n",
      "152:\tlearn: 1889.2858744\ttest: 1890.4537621\tbest: 1890.4537621 (152)\ttotal: 36.4s\tremaining: 4m 9s\n",
      "153:\tlearn: 1886.2936099\ttest: 1887.5779722\tbest: 1887.5779722 (153)\ttotal: 36.7s\tremaining: 4m 9s\n",
      "154:\tlearn: 1883.9936075\ttest: 1885.4100207\tbest: 1885.4100207 (154)\ttotal: 36.9s\tremaining: 4m 8s\n",
      "155:\tlearn: 1881.5630291\ttest: 1883.0644006\tbest: 1883.0644006 (155)\ttotal: 37.1s\tremaining: 4m 8s\n",
      "156:\tlearn: 1878.9469352\ttest: 1880.5448886\tbest: 1880.5448886 (156)\ttotal: 37.3s\tremaining: 4m 8s\n",
      "157:\tlearn: 1876.3633861\ttest: 1878.0171614\tbest: 1878.0171614 (157)\ttotal: 37.6s\tremaining: 4m 7s\n",
      "158:\tlearn: 1873.9391927\ttest: 1875.5933787\tbest: 1875.5933787 (158)\ttotal: 37.8s\tremaining: 4m 7s\n",
      "159:\tlearn: 1871.8347540\ttest: 1873.6819377\tbest: 1873.6819377 (159)\ttotal: 38s\tremaining: 4m 7s\n",
      "160:\tlearn: 1869.7505826\ttest: 1871.6024645\tbest: 1871.6024645 (160)\ttotal: 38.3s\tremaining: 4m 6s\n",
      "161:\tlearn: 1867.6655221\ttest: 1869.6336009\tbest: 1869.6336009 (161)\ttotal: 38.5s\tremaining: 4m 6s\n",
      "162:\tlearn: 1865.5561089\ttest: 1867.5622553\tbest: 1867.5622553 (162)\ttotal: 38.7s\tremaining: 4m 6s\n",
      "163:\tlearn: 1863.2543534\ttest: 1865.3921940\tbest: 1865.3921940 (163)\ttotal: 39s\tremaining: 4m 6s\n",
      "164:\tlearn: 1860.4598367\ttest: 1862.7615811\tbest: 1862.7615811 (164)\ttotal: 39.2s\tremaining: 4m 6s\n",
      "165:\tlearn: 1857.7996592\ttest: 1860.3779248\tbest: 1860.3779248 (165)\ttotal: 39.4s\tremaining: 4m 5s\n",
      "166:\tlearn: 1855.3463787\ttest: 1858.0437940\tbest: 1858.0437940 (166)\ttotal: 39.6s\tremaining: 4m 5s\n",
      "167:\tlearn: 1852.6592494\ttest: 1855.5268359\tbest: 1855.5268359 (167)\ttotal: 39.9s\tremaining: 4m 4s\n",
      "168:\tlearn: 1850.4150840\ttest: 1853.4811141\tbest: 1853.4811141 (168)\ttotal: 40.1s\tremaining: 4m 4s\n",
      "169:\tlearn: 1848.2834056\ttest: 1851.4239352\tbest: 1851.4239352 (169)\ttotal: 40.4s\tremaining: 4m 4s\n",
      "170:\tlearn: 1846.0408850\ttest: 1849.4119178\tbest: 1849.4119178 (170)\ttotal: 40.6s\tremaining: 4m 4s\n",
      "171:\tlearn: 1844.3083042\ttest: 1847.7213219\tbest: 1847.7213219 (171)\ttotal: 40.8s\tremaining: 4m 4s\n",
      "172:\tlearn: 1842.1537330\ttest: 1845.7218847\tbest: 1845.7218847 (172)\ttotal: 41.1s\tremaining: 4m 4s\n",
      "173:\tlearn: 1840.2584870\ttest: 1843.8898645\tbest: 1843.8898645 (173)\ttotal: 41.3s\tremaining: 4m 3s\n",
      "174:\tlearn: 1838.5440208\ttest: 1842.3122777\tbest: 1842.3122777 (174)\ttotal: 41.6s\tremaining: 4m 3s\n",
      "175:\tlearn: 1836.8363973\ttest: 1840.6291581\tbest: 1840.6291581 (175)\ttotal: 41.9s\tremaining: 4m 3s\n",
      "176:\tlearn: 1835.1528511\ttest: 1839.0372716\tbest: 1839.0372716 (176)\ttotal: 42.1s\tremaining: 4m 3s\n",
      "177:\tlearn: 1833.5419197\ttest: 1837.5148883\tbest: 1837.5148883 (177)\ttotal: 42.3s\tremaining: 4m 2s\n",
      "178:\tlearn: 1832.1527376\ttest: 1836.2353728\tbest: 1836.2353728 (178)\ttotal: 42.5s\tremaining: 4m 2s\n",
      "179:\tlearn: 1830.3716206\ttest: 1834.5483623\tbest: 1834.5483623 (179)\ttotal: 42.8s\tremaining: 4m 2s\n",
      "180:\tlearn: 1828.6005581\ttest: 1832.8724677\tbest: 1832.8724677 (180)\ttotal: 43s\tremaining: 4m 2s\n",
      "181:\tlearn: 1826.8676211\ttest: 1831.3595082\tbest: 1831.3595082 (181)\ttotal: 43.2s\tremaining: 4m 1s\n",
      "182:\tlearn: 1825.2956100\ttest: 1829.8608882\tbest: 1829.8608882 (182)\ttotal: 43.5s\tremaining: 4m 1s\n",
      "183:\tlearn: 1823.8832766\ttest: 1828.5883157\tbest: 1828.5883157 (183)\ttotal: 43.7s\tremaining: 4m 1s\n",
      "184:\tlearn: 1822.5669351\ttest: 1827.3046883\tbest: 1827.3046883 (184)\ttotal: 43.9s\tremaining: 4m 1s\n",
      "185:\tlearn: 1821.3378103\ttest: 1826.1194288\tbest: 1826.1194288 (185)\ttotal: 44.1s\tremaining: 4m\n",
      "186:\tlearn: 1819.4321963\ttest: 1824.4934020\tbest: 1824.4934020 (186)\ttotal: 44.4s\tremaining: 4m\n",
      "187:\tlearn: 1818.0210499\ttest: 1823.2054824\tbest: 1823.2054824 (187)\ttotal: 44.6s\tremaining: 4m\n",
      "188:\tlearn: 1816.6554729\ttest: 1821.9706955\tbest: 1821.9706955 (188)\ttotal: 44.8s\tremaining: 3m 59s\n",
      "189:\tlearn: 1815.3361038\ttest: 1820.7624207\tbest: 1820.7624207 (189)\ttotal: 45.1s\tremaining: 3m 59s\n",
      "190:\tlearn: 1814.2017912\ttest: 1819.6898982\tbest: 1819.6898982 (190)\ttotal: 45.3s\tremaining: 3m 59s\n",
      "191:\tlearn: 1812.9023224\ttest: 1818.4228355\tbest: 1818.4228355 (191)\ttotal: 45.6s\tremaining: 3m 59s\n",
      "192:\tlearn: 1811.7273860\ttest: 1817.3963693\tbest: 1817.3963693 (192)\ttotal: 45.8s\tremaining: 3m 58s\n",
      "193:\tlearn: 1810.5729646\ttest: 1816.2389389\tbest: 1816.2389389 (193)\ttotal: 46s\tremaining: 3m 58s\n",
      "194:\tlearn: 1809.5396833\ttest: 1815.2567416\tbest: 1815.2567416 (194)\ttotal: 46.2s\tremaining: 3m 58s\n",
      "195:\tlearn: 1808.3401590\ttest: 1814.1368193\tbest: 1814.1368193 (195)\ttotal: 46.4s\tremaining: 3m 57s\n",
      "196:\tlearn: 1807.1849411\ttest: 1813.0423782\tbest: 1813.0423782 (196)\ttotal: 46.7s\tremaining: 3m 57s\n",
      "197:\tlearn: 1805.9648068\ttest: 1811.8807350\tbest: 1811.8807350 (197)\ttotal: 46.9s\tremaining: 3m 57s\n",
      "198:\tlearn: 1804.6503396\ttest: 1810.6762848\tbest: 1810.6762848 (198)\ttotal: 47.1s\tremaining: 3m 57s\n",
      "199:\tlearn: 1803.7067967\ttest: 1809.7917512\tbest: 1809.7917512 (199)\ttotal: 47.4s\tremaining: 3m 57s\n",
      "200:\tlearn: 1802.6075260\ttest: 1808.7329636\tbest: 1808.7329636 (200)\ttotal: 47.7s\tremaining: 3m 56s\n",
      "201:\tlearn: 1801.7164151\ttest: 1807.9233329\tbest: 1807.9233329 (201)\ttotal: 47.9s\tremaining: 3m 56s\n",
      "202:\tlearn: 1800.4423860\ttest: 1806.8413818\tbest: 1806.8413818 (202)\ttotal: 48.1s\tremaining: 3m 56s\n",
      "203:\tlearn: 1799.1882049\ttest: 1805.5907722\tbest: 1805.5907722 (203)\ttotal: 48.4s\tremaining: 3m 56s\n",
      "204:\tlearn: 1798.0977154\ttest: 1804.6533067\tbest: 1804.6533067 (204)\ttotal: 48.7s\tremaining: 3m 56s\n",
      "205:\tlearn: 1797.2061742\ttest: 1803.8576084\tbest: 1803.8576084 (205)\ttotal: 48.9s\tremaining: 3m 55s\n",
      "206:\tlearn: 1796.0422187\ttest: 1802.8050555\tbest: 1802.8050555 (206)\ttotal: 49.1s\tremaining: 3m 55s\n",
      "207:\tlearn: 1795.1171109\ttest: 1801.9705927\tbest: 1801.9705927 (207)\ttotal: 49.4s\tremaining: 3m 55s\n",
      "208:\tlearn: 1793.9667968\ttest: 1801.0296907\tbest: 1801.0296907 (208)\ttotal: 49.6s\tremaining: 3m 55s\n",
      "209:\tlearn: 1793.0879359\ttest: 1800.1848714\tbest: 1800.1848714 (209)\ttotal: 49.8s\tremaining: 3m 54s\n",
      "210:\tlearn: 1791.9750099\ttest: 1799.2523209\tbest: 1799.2523209 (210)\ttotal: 50.1s\tremaining: 3m 54s\n",
      "211:\tlearn: 1790.9403253\ttest: 1798.3573041\tbest: 1798.3573041 (211)\ttotal: 50.3s\tremaining: 3m 54s\n",
      "212:\tlearn: 1789.9213139\ttest: 1797.4885286\tbest: 1797.4885286 (212)\ttotal: 50.5s\tremaining: 3m 54s\n",
      "213:\tlearn: 1789.0262818\ttest: 1796.6650744\tbest: 1796.6650744 (213)\ttotal: 50.8s\tremaining: 3m 53s\n",
      "214:\tlearn: 1788.1981952\ttest: 1795.8936205\tbest: 1795.8936205 (214)\ttotal: 51s\tremaining: 3m 53s\n",
      "215:\tlearn: 1787.3767844\ttest: 1795.1232701\tbest: 1795.1232701 (215)\ttotal: 51.2s\tremaining: 3m 53s\n",
      "216:\tlearn: 1786.4785220\ttest: 1794.4369713\tbest: 1794.4369713 (216)\ttotal: 51.5s\tremaining: 3m 53s\n",
      "217:\tlearn: 1785.5892435\ttest: 1793.5743469\tbest: 1793.5743469 (217)\ttotal: 51.7s\tremaining: 3m 52s\n",
      "218:\tlearn: 1784.7704565\ttest: 1792.8143328\tbest: 1792.8143328 (218)\ttotal: 51.9s\tremaining: 3m 52s\n",
      "219:\tlearn: 1783.9732425\ttest: 1792.1310420\tbest: 1792.1310420 (219)\ttotal: 52.2s\tremaining: 3m 52s\n",
      "220:\tlearn: 1783.1196971\ttest: 1791.3154114\tbest: 1791.3154114 (220)\ttotal: 52.4s\tremaining: 3m 52s\n",
      "221:\tlearn: 1782.2604718\ttest: 1790.5095499\tbest: 1790.5095499 (221)\ttotal: 52.7s\tremaining: 3m 52s\n",
      "222:\tlearn: 1781.1958462\ttest: 1789.6430225\tbest: 1789.6430225 (222)\ttotal: 52.9s\tremaining: 3m 51s\n",
      "223:\tlearn: 1780.1959710\ttest: 1788.6874404\tbest: 1788.6874404 (223)\ttotal: 53.1s\tremaining: 3m 51s\n",
      "224:\tlearn: 1779.5300755\ttest: 1788.0227576\tbest: 1788.0227576 (224)\ttotal: 53.4s\tremaining: 3m 51s\n",
      "225:\tlearn: 1778.7412081\ttest: 1787.2819392\tbest: 1787.2819392 (225)\ttotal: 53.7s\tremaining: 3m 51s\n",
      "226:\tlearn: 1777.4283292\ttest: 1786.1407129\tbest: 1786.1407129 (226)\ttotal: 53.9s\tremaining: 3m 51s\n",
      "227:\tlearn: 1776.5228298\ttest: 1785.3305613\tbest: 1785.3305613 (227)\ttotal: 54.1s\tremaining: 3m 50s\n",
      "228:\tlearn: 1775.8834741\ttest: 1784.8204329\tbest: 1784.8204329 (228)\ttotal: 54.3s\tremaining: 3m 50s\n",
      "229:\tlearn: 1774.9174255\ttest: 1783.9750729\tbest: 1783.9750729 (229)\ttotal: 54.6s\tremaining: 3m 50s\n",
      "230:\tlearn: 1774.0513300\ttest: 1783.1777843\tbest: 1783.1777843 (230)\ttotal: 54.8s\tremaining: 3m 50s\n",
      "231:\tlearn: 1773.3593057\ttest: 1782.5951569\tbest: 1782.5951569 (231)\ttotal: 55.1s\tremaining: 3m 49s\n",
      "232:\tlearn: 1772.1970349\ttest: 1781.4738374\tbest: 1781.4738374 (232)\ttotal: 55.3s\tremaining: 3m 49s\n",
      "233:\tlearn: 1771.2487921\ttest: 1780.7505990\tbest: 1780.7505990 (233)\ttotal: 55.5s\tremaining: 3m 49s\n",
      "234:\tlearn: 1770.3047362\ttest: 1779.9852689\tbest: 1779.9852689 (234)\ttotal: 55.8s\tremaining: 3m 49s\n",
      "235:\tlearn: 1769.6714101\ttest: 1779.4068052\tbest: 1779.4068052 (235)\ttotal: 56s\tremaining: 3m 48s\n",
      "236:\tlearn: 1769.1188872\ttest: 1778.9571384\tbest: 1778.9571384 (236)\ttotal: 56.3s\tremaining: 3m 48s\n",
      "237:\tlearn: 1768.5778270\ttest: 1778.4602740\tbest: 1778.4602740 (237)\ttotal: 56.5s\tremaining: 3m 48s\n",
      "238:\tlearn: 1767.7427500\ttest: 1777.7814934\tbest: 1777.7814934 (238)\ttotal: 56.8s\tremaining: 3m 48s\n",
      "239:\tlearn: 1767.1727713\ttest: 1777.2428529\tbest: 1777.2428529 (239)\ttotal: 57s\tremaining: 3m 47s\n",
      "240:\tlearn: 1766.4025482\ttest: 1776.6618700\tbest: 1776.6618700 (240)\ttotal: 57.2s\tremaining: 3m 47s\n",
      "241:\tlearn: 1765.4591041\ttest: 1775.8555684\tbest: 1775.8555684 (241)\ttotal: 57.5s\tremaining: 3m 47s\n",
      "242:\tlearn: 1764.5401178\ttest: 1775.0600293\tbest: 1775.0600293 (242)\ttotal: 57.8s\tremaining: 3m 47s\n",
      "243:\tlearn: 1763.7310629\ttest: 1774.3563174\tbest: 1774.3563174 (243)\ttotal: 58s\tremaining: 3m 47s\n",
      "244:\tlearn: 1762.9063731\ttest: 1773.6623303\tbest: 1773.6623303 (244)\ttotal: 58.2s\tremaining: 3m 46s\n",
      "245:\tlearn: 1762.1681148\ttest: 1773.0615032\tbest: 1773.0615032 (245)\ttotal: 58.4s\tremaining: 3m 46s\n",
      "246:\tlearn: 1761.7110034\ttest: 1772.6614351\tbest: 1772.6614351 (246)\ttotal: 58.7s\tremaining: 3m 46s\n",
      "247:\tlearn: 1761.1173216\ttest: 1772.1005471\tbest: 1772.1005471 (247)\ttotal: 58.9s\tremaining: 3m 46s\n",
      "248:\tlearn: 1760.6994102\ttest: 1771.7614509\tbest: 1771.7614509 (248)\ttotal: 59.1s\tremaining: 3m 45s\n",
      "249:\tlearn: 1760.0618701\ttest: 1771.1627970\tbest: 1771.1627970 (249)\ttotal: 59.3s\tremaining: 3m 45s\n",
      "250:\tlearn: 1759.2730655\ttest: 1770.4708704\tbest: 1770.4708704 (250)\ttotal: 59.6s\tremaining: 3m 45s\n",
      "251:\tlearn: 1758.6536076\ttest: 1769.9048569\tbest: 1769.9048569 (251)\ttotal: 59.8s\tremaining: 3m 45s\n",
      "252:\tlearn: 1758.0461486\ttest: 1769.3875979\tbest: 1769.3875979 (252)\ttotal: 1m\tremaining: 3m 44s\n",
      "253:\tlearn: 1757.2053443\ttest: 1768.6966178\tbest: 1768.6966178 (253)\ttotal: 1m\tremaining: 3m 44s\n",
      "254:\tlearn: 1756.7198446\ttest: 1768.2400727\tbest: 1768.2400727 (254)\ttotal: 1m\tremaining: 3m 44s\n",
      "255:\tlearn: 1756.1056971\ttest: 1767.6975425\tbest: 1767.6975425 (255)\ttotal: 1m\tremaining: 3m 43s\n",
      "256:\tlearn: 1755.3760493\ttest: 1767.1053923\tbest: 1767.1053923 (256)\ttotal: 1m\tremaining: 3m 43s\n",
      "257:\tlearn: 1754.8799080\ttest: 1766.7154809\tbest: 1766.7154809 (257)\ttotal: 1m 1s\tremaining: 3m 43s\n",
      "258:\tlearn: 1754.1620373\ttest: 1766.0895482\tbest: 1766.0895482 (258)\ttotal: 1m 1s\tremaining: 3m 43s\n",
      "259:\tlearn: 1753.4200001\ttest: 1765.5126514\tbest: 1765.5126514 (259)\ttotal: 1m 1s\tremaining: 3m 43s\n",
      "260:\tlearn: 1752.9433322\ttest: 1765.1259330\tbest: 1765.1259330 (260)\ttotal: 1m 1s\tremaining: 3m 43s\n",
      "261:\tlearn: 1752.2864115\ttest: 1764.5955249\tbest: 1764.5955249 (261)\ttotal: 1m 2s\tremaining: 3m 42s\n",
      "262:\tlearn: 1751.6718616\ttest: 1764.0632688\tbest: 1764.0632688 (262)\ttotal: 1m 2s\tremaining: 3m 42s\n",
      "263:\tlearn: 1751.2513213\ttest: 1763.7651405\tbest: 1763.7651405 (263)\ttotal: 1m 2s\tremaining: 3m 42s\n",
      "264:\tlearn: 1750.9164711\ttest: 1763.5293659\tbest: 1763.5293659 (264)\ttotal: 1m 2s\tremaining: 3m 42s\n",
      "265:\tlearn: 1750.5470624\ttest: 1763.1907077\tbest: 1763.1907077 (265)\ttotal: 1m 3s\tremaining: 3m 41s\n",
      "266:\tlearn: 1749.8936850\ttest: 1762.6766901\tbest: 1762.6766901 (266)\ttotal: 1m 3s\tremaining: 3m 41s\n",
      "267:\tlearn: 1749.5540345\ttest: 1762.4336556\tbest: 1762.4336556 (267)\ttotal: 1m 3s\tremaining: 3m 41s\n",
      "268:\tlearn: 1749.0404458\ttest: 1762.0533151\tbest: 1762.0533151 (268)\ttotal: 1m 3s\tremaining: 3m 41s\n",
      "269:\tlearn: 1748.5156823\ttest: 1761.5738007\tbest: 1761.5738007 (269)\ttotal: 1m 4s\tremaining: 3m 40s\n",
      "270:\tlearn: 1748.1333015\ttest: 1761.2618786\tbest: 1761.2618786 (270)\ttotal: 1m 4s\tremaining: 3m 40s\n",
      "271:\tlearn: 1747.5612232\ttest: 1760.7910652\tbest: 1760.7910652 (271)\ttotal: 1m 4s\tremaining: 3m 40s\n",
      "272:\tlearn: 1747.1147583\ttest: 1760.4456117\tbest: 1760.4456117 (272)\ttotal: 1m 4s\tremaining: 3m 40s\n",
      "273:\tlearn: 1746.5586013\ttest: 1759.9661395\tbest: 1759.9661395 (273)\ttotal: 1m 5s\tremaining: 3m 40s\n",
      "274:\tlearn: 1745.8350728\ttest: 1759.4134649\tbest: 1759.4134649 (274)\ttotal: 1m 5s\tremaining: 3m 39s\n",
      "275:\tlearn: 1744.9886167\ttest: 1758.6861321\tbest: 1758.6861321 (275)\ttotal: 1m 5s\tremaining: 3m 39s\n",
      "276:\tlearn: 1744.6018046\ttest: 1758.3894500\tbest: 1758.3894500 (276)\ttotal: 1m 5s\tremaining: 3m 39s\n",
      "277:\tlearn: 1744.1078916\ttest: 1757.9897035\tbest: 1757.9897035 (277)\ttotal: 1m 6s\tremaining: 3m 38s\n",
      "278:\tlearn: 1743.3159481\ttest: 1757.3230337\tbest: 1757.3230337 (278)\ttotal: 1m 6s\tremaining: 3m 38s\n",
      "279:\tlearn: 1742.7317852\ttest: 1756.8230777\tbest: 1756.8230777 (279)\ttotal: 1m 6s\tremaining: 3m 38s\n",
      "280:\tlearn: 1741.9318925\ttest: 1756.2025475\tbest: 1756.2025475 (280)\ttotal: 1m 6s\tremaining: 3m 38s\n",
      "281:\tlearn: 1741.0400512\ttest: 1755.5271527\tbest: 1755.5271527 (281)\ttotal: 1m 6s\tremaining: 3m 37s\n",
      "282:\tlearn: 1740.5261717\ttest: 1755.1047152\tbest: 1755.1047152 (282)\ttotal: 1m 7s\tremaining: 3m 37s\n",
      "283:\tlearn: 1740.0025335\ttest: 1754.6406400\tbest: 1754.6406400 (283)\ttotal: 1m 7s\tremaining: 3m 37s\n",
      "284:\tlearn: 1739.6280366\ttest: 1754.3768790\tbest: 1754.3768790 (284)\ttotal: 1m 7s\tremaining: 3m 36s\n",
      "285:\tlearn: 1738.8898416\ttest: 1753.7482548\tbest: 1753.7482548 (285)\ttotal: 1m 7s\tremaining: 3m 36s\n",
      "286:\tlearn: 1738.5557947\ttest: 1753.4591746\tbest: 1753.4591746 (286)\ttotal: 1m 7s\tremaining: 3m 36s\n",
      "287:\tlearn: 1738.1644415\ttest: 1753.0962153\tbest: 1753.0962153 (287)\ttotal: 1m 8s\tremaining: 3m 36s\n",
      "288:\tlearn: 1737.5451088\ttest: 1752.5912671\tbest: 1752.5912671 (288)\ttotal: 1m 8s\tremaining: 3m 35s\n",
      "289:\tlearn: 1736.9327461\ttest: 1752.2088352\tbest: 1752.2088352 (289)\ttotal: 1m 8s\tremaining: 3m 35s\n",
      "290:\tlearn: 1736.3170154\ttest: 1751.7112689\tbest: 1751.7112689 (290)\ttotal: 1m 8s\tremaining: 3m 35s\n",
      "291:\tlearn: 1735.9978962\ttest: 1751.4360867\tbest: 1751.4360867 (291)\ttotal: 1m 9s\tremaining: 3m 34s\n",
      "292:\tlearn: 1735.5099963\ttest: 1751.0126014\tbest: 1751.0126014 (292)\ttotal: 1m 9s\tremaining: 3m 34s\n",
      "293:\tlearn: 1735.1708932\ttest: 1750.7417923\tbest: 1750.7417923 (293)\ttotal: 1m 9s\tremaining: 3m 34s\n",
      "294:\tlearn: 1734.7651705\ttest: 1750.4484246\tbest: 1750.4484246 (294)\ttotal: 1m 9s\tremaining: 3m 34s\n",
      "295:\tlearn: 1733.9378845\ttest: 1749.7346431\tbest: 1749.7346431 (295)\ttotal: 1m 10s\tremaining: 3m 34s\n",
      "296:\tlearn: 1733.6229059\ttest: 1749.4554073\tbest: 1749.4554073 (296)\ttotal: 1m 10s\tremaining: 3m 33s\n",
      "297:\tlearn: 1732.8312891\ttest: 1748.8265838\tbest: 1748.8265838 (297)\ttotal: 1m 10s\tremaining: 3m 33s\n",
      "298:\tlearn: 1732.2395938\ttest: 1748.3618087\tbest: 1748.3618087 (298)\ttotal: 1m 10s\tremaining: 3m 33s\n",
      "299:\tlearn: 1731.4815869\ttest: 1747.7615030\tbest: 1747.7615030 (299)\ttotal: 1m 11s\tremaining: 3m 33s\n",
      "300:\tlearn: 1731.1181338\ttest: 1747.5394786\tbest: 1747.5394786 (300)\ttotal: 1m 11s\tremaining: 3m 33s\n",
      "301:\tlearn: 1730.4576132\ttest: 1747.0642899\tbest: 1747.0642899 (301)\ttotal: 1m 11s\tremaining: 3m 32s\n",
      "302:\tlearn: 1730.0687630\ttest: 1746.8234374\tbest: 1746.8234374 (302)\ttotal: 1m 11s\tremaining: 3m 32s\n",
      "303:\tlearn: 1729.6584829\ttest: 1746.5397758\tbest: 1746.5397758 (303)\ttotal: 1m 12s\tremaining: 3m 32s\n",
      "304:\tlearn: 1729.0273215\ttest: 1746.0698410\tbest: 1746.0698410 (304)\ttotal: 1m 12s\tremaining: 3m 32s\n",
      "305:\tlearn: 1728.5497020\ttest: 1745.6938585\tbest: 1745.6938585 (305)\ttotal: 1m 12s\tremaining: 3m 31s\n",
      "306:\tlearn: 1727.9170131\ttest: 1745.1667478\tbest: 1745.1667478 (306)\ttotal: 1m 12s\tremaining: 3m 31s\n",
      "307:\tlearn: 1727.5040660\ttest: 1744.9179895\tbest: 1744.9179895 (307)\ttotal: 1m 13s\tremaining: 3m 31s\n",
      "308:\tlearn: 1727.1492966\ttest: 1744.6621963\tbest: 1744.6621963 (308)\ttotal: 1m 13s\tremaining: 3m 31s\n",
      "309:\tlearn: 1726.6775792\ttest: 1744.2552545\tbest: 1744.2552545 (309)\ttotal: 1m 13s\tremaining: 3m 31s\n",
      "310:\tlearn: 1726.1982027\ttest: 1743.9264809\tbest: 1743.9264809 (310)\ttotal: 1m 13s\tremaining: 3m 30s\n",
      "311:\tlearn: 1725.5568565\ttest: 1743.4245570\tbest: 1743.4245570 (311)\ttotal: 1m 14s\tremaining: 3m 30s\n",
      "312:\tlearn: 1724.8748677\ttest: 1742.9264537\tbest: 1742.9264537 (312)\ttotal: 1m 14s\tremaining: 3m 30s\n",
      "313:\tlearn: 1724.4680625\ttest: 1742.6013933\tbest: 1742.6013933 (313)\ttotal: 1m 14s\tremaining: 3m 30s\n",
      "314:\tlearn: 1723.8600867\ttest: 1742.0665176\tbest: 1742.0665176 (314)\ttotal: 1m 14s\tremaining: 3m 29s\n",
      "315:\tlearn: 1723.5710629\ttest: 1741.8536084\tbest: 1741.8536084 (315)\ttotal: 1m 14s\tremaining: 3m 29s\n",
      "316:\tlearn: 1722.8923289\ttest: 1741.3168423\tbest: 1741.3168423 (316)\ttotal: 1m 15s\tremaining: 3m 29s\n",
      "317:\tlearn: 1722.5709892\ttest: 1741.1028777\tbest: 1741.1028777 (317)\ttotal: 1m 15s\tremaining: 3m 29s\n",
      "318:\tlearn: 1722.0119503\ttest: 1740.6774934\tbest: 1740.6774934 (318)\ttotal: 1m 15s\tremaining: 3m 28s\n",
      "319:\tlearn: 1721.5129670\ttest: 1740.2858554\tbest: 1740.2858554 (319)\ttotal: 1m 15s\tremaining: 3m 28s\n",
      "320:\tlearn: 1720.9868706\ttest: 1739.7760879\tbest: 1739.7760879 (320)\ttotal: 1m 16s\tremaining: 3m 28s\n",
      "321:\tlearn: 1720.4115578\ttest: 1739.2779578\tbest: 1739.2779578 (321)\ttotal: 1m 16s\tremaining: 3m 28s\n",
      "322:\tlearn: 1719.7758536\ttest: 1738.8345841\tbest: 1738.8345841 (322)\ttotal: 1m 16s\tremaining: 3m 27s\n",
      "323:\tlearn: 1719.3630883\ttest: 1738.5012493\tbest: 1738.5012493 (323)\ttotal: 1m 16s\tremaining: 3m 27s\n",
      "324:\tlearn: 1719.0279817\ttest: 1738.2598984\tbest: 1738.2598984 (324)\ttotal: 1m 16s\tremaining: 3m 27s\n",
      "325:\tlearn: 1718.5638182\ttest: 1737.9112625\tbest: 1737.9112625 (325)\ttotal: 1m 17s\tremaining: 3m 26s\n",
      "326:\tlearn: 1718.2271428\ttest: 1737.6544800\tbest: 1737.6544800 (326)\ttotal: 1m 17s\tremaining: 3m 26s\n",
      "327:\tlearn: 1717.8067706\ttest: 1737.3260381\tbest: 1737.3260381 (327)\ttotal: 1m 17s\tremaining: 3m 26s\n",
      "328:\tlearn: 1717.5435225\ttest: 1737.1156643\tbest: 1737.1156643 (328)\ttotal: 1m 17s\tremaining: 3m 26s\n",
      "329:\tlearn: 1717.1448414\ttest: 1736.7982017\tbest: 1736.7982017 (329)\ttotal: 1m 18s\tremaining: 3m 25s\n",
      "330:\tlearn: 1716.7775868\ttest: 1736.5189952\tbest: 1736.5189952 (330)\ttotal: 1m 18s\tremaining: 3m 25s\n",
      "331:\tlearn: 1716.3221082\ttest: 1736.1383782\tbest: 1736.1383782 (331)\ttotal: 1m 18s\tremaining: 3m 25s\n",
      "332:\tlearn: 1715.8566946\ttest: 1735.8254926\tbest: 1735.8254926 (332)\ttotal: 1m 18s\tremaining: 3m 25s\n",
      "333:\tlearn: 1715.3505130\ttest: 1735.4215372\tbest: 1735.4215372 (333)\ttotal: 1m 19s\tremaining: 3m 24s\n",
      "334:\tlearn: 1714.8999662\ttest: 1735.0574768\tbest: 1735.0574768 (334)\ttotal: 1m 19s\tremaining: 3m 24s\n",
      "335:\tlearn: 1714.2998982\ttest: 1734.6029207\tbest: 1734.6029207 (335)\ttotal: 1m 19s\tremaining: 3m 24s\n",
      "336:\tlearn: 1713.8188369\ttest: 1734.1241658\tbest: 1734.1241658 (336)\ttotal: 1m 19s\tremaining: 3m 24s\n",
      "337:\tlearn: 1713.3961138\ttest: 1733.8005461\tbest: 1733.8005461 (337)\ttotal: 1m 19s\tremaining: 3m 23s\n",
      "338:\tlearn: 1713.0555323\ttest: 1733.5380222\tbest: 1733.5380222 (338)\ttotal: 1m 20s\tremaining: 3m 23s\n",
      "339:\tlearn: 1712.6820178\ttest: 1733.2658340\tbest: 1733.2658340 (339)\ttotal: 1m 20s\tremaining: 3m 23s\n",
      "340:\tlearn: 1712.0295318\ttest: 1732.7341076\tbest: 1732.7341076 (340)\ttotal: 1m 20s\tremaining: 3m 23s\n",
      "341:\tlearn: 1711.5882043\ttest: 1732.3444657\tbest: 1732.3444657 (341)\ttotal: 1m 20s\tremaining: 3m 22s\n",
      "342:\tlearn: 1711.0981104\ttest: 1731.9526178\tbest: 1731.9526178 (342)\ttotal: 1m 21s\tremaining: 3m 22s\n",
      "343:\tlearn: 1710.8906790\ttest: 1731.8017091\tbest: 1731.8017091 (343)\ttotal: 1m 21s\tremaining: 3m 22s\n",
      "344:\tlearn: 1710.4758534\ttest: 1731.5383594\tbest: 1731.5383594 (344)\ttotal: 1m 21s\tremaining: 3m 22s\n",
      "345:\tlearn: 1709.7941946\ttest: 1730.8914352\tbest: 1730.8914352 (345)\ttotal: 1m 21s\tremaining: 3m 21s\n",
      "346:\tlearn: 1709.4623495\ttest: 1730.6109144\tbest: 1730.6109144 (346)\ttotal: 1m 22s\tremaining: 3m 21s\n",
      "347:\tlearn: 1708.8762866\ttest: 1730.2770859\tbest: 1730.2770859 (347)\ttotal: 1m 22s\tremaining: 3m 21s\n",
      "348:\tlearn: 1708.4415128\ttest: 1729.8534368\tbest: 1729.8534368 (348)\ttotal: 1m 22s\tremaining: 3m 21s\n",
      "349:\tlearn: 1708.0751672\ttest: 1729.6138099\tbest: 1729.6138099 (349)\ttotal: 1m 22s\tremaining: 3m 21s\n",
      "350:\tlearn: 1707.6534694\ttest: 1729.2277113\tbest: 1729.2277113 (350)\ttotal: 1m 23s\tremaining: 3m 20s\n",
      "351:\tlearn: 1707.4055704\ttest: 1729.0526591\tbest: 1729.0526591 (351)\ttotal: 1m 23s\tremaining: 3m 20s\n",
      "352:\tlearn: 1707.0284589\ttest: 1728.7476381\tbest: 1728.7476381 (352)\ttotal: 1m 23s\tremaining: 3m 20s\n",
      "353:\tlearn: 1706.7472104\ttest: 1728.5047848\tbest: 1728.5047848 (353)\ttotal: 1m 23s\tremaining: 3m 20s\n",
      "354:\tlearn: 1706.3409543\ttest: 1728.2323620\tbest: 1728.2323620 (354)\ttotal: 1m 23s\tremaining: 3m 19s\n",
      "355:\tlearn: 1705.8267911\ttest: 1727.8923898\tbest: 1727.8923898 (355)\ttotal: 1m 24s\tremaining: 3m 19s\n",
      "356:\tlearn: 1705.3327550\ttest: 1727.5298562\tbest: 1727.5298562 (356)\ttotal: 1m 24s\tremaining: 3m 19s\n",
      "357:\tlearn: 1704.9157997\ttest: 1727.2175807\tbest: 1727.2175807 (357)\ttotal: 1m 24s\tremaining: 3m 19s\n",
      "358:\tlearn: 1704.5374801\ttest: 1726.8483543\tbest: 1726.8483543 (358)\ttotal: 1m 24s\tremaining: 3m 19s\n",
      "359:\tlearn: 1704.0169768\ttest: 1726.4509601\tbest: 1726.4509601 (359)\ttotal: 1m 25s\tremaining: 3m 18s\n",
      "360:\tlearn: 1703.3694808\ttest: 1725.9022630\tbest: 1725.9022630 (360)\ttotal: 1m 25s\tremaining: 3m 18s\n",
      "361:\tlearn: 1703.1190820\ttest: 1725.7129565\tbest: 1725.7129565 (361)\ttotal: 1m 25s\tremaining: 3m 18s\n",
      "362:\tlearn: 1702.4698823\ttest: 1725.1965842\tbest: 1725.1965842 (362)\ttotal: 1m 25s\tremaining: 3m 18s\n",
      "363:\tlearn: 1701.7626965\ttest: 1724.6283228\tbest: 1724.6283228 (363)\ttotal: 1m 26s\tremaining: 3m 17s\n",
      "364:\tlearn: 1701.5039669\ttest: 1724.4120514\tbest: 1724.4120514 (364)\ttotal: 1m 26s\tremaining: 3m 17s\n",
      "365:\tlearn: 1700.8530080\ttest: 1723.9036641\tbest: 1723.9036641 (365)\ttotal: 1m 26s\tremaining: 3m 17s\n",
      "366:\tlearn: 1700.3079877\ttest: 1723.5187894\tbest: 1723.5187894 (366)\ttotal: 1m 26s\tremaining: 3m 17s\n",
      "367:\tlearn: 1699.8800057\ttest: 1723.1680658\tbest: 1723.1680658 (367)\ttotal: 1m 27s\tremaining: 3m 17s\n",
      "368:\tlearn: 1699.4310567\ttest: 1722.8500552\tbest: 1722.8500552 (368)\ttotal: 1m 27s\tremaining: 3m 16s\n",
      "369:\tlearn: 1699.0819366\ttest: 1722.6077246\tbest: 1722.6077246 (369)\ttotal: 1m 27s\tremaining: 3m 16s\n",
      "370:\tlearn: 1698.6951293\ttest: 1722.3801951\tbest: 1722.3801951 (370)\ttotal: 1m 27s\tremaining: 3m 16s\n",
      "371:\tlearn: 1698.2502276\ttest: 1722.0492077\tbest: 1722.0492077 (371)\ttotal: 1m 28s\tremaining: 3m 16s\n",
      "372:\tlearn: 1697.8952966\ttest: 1721.7654139\tbest: 1721.7654139 (372)\ttotal: 1m 28s\tremaining: 3m 15s\n",
      "373:\tlearn: 1697.6082890\ttest: 1721.5526559\tbest: 1721.5526559 (373)\ttotal: 1m 28s\tremaining: 3m 15s\n",
      "374:\tlearn: 1697.1260691\ttest: 1721.1241407\tbest: 1721.1241407 (374)\ttotal: 1m 28s\tremaining: 3m 15s\n",
      "375:\tlearn: 1696.6838667\ttest: 1720.7523603\tbest: 1720.7523603 (375)\ttotal: 1m 28s\tremaining: 3m 14s\n",
      "376:\tlearn: 1696.2537581\ttest: 1720.4241908\tbest: 1720.4241908 (376)\ttotal: 1m 29s\tremaining: 3m 14s\n",
      "377:\tlearn: 1695.5941420\ttest: 1719.9296795\tbest: 1719.9296795 (377)\ttotal: 1m 29s\tremaining: 3m 14s\n",
      "378:\tlearn: 1695.1313371\ttest: 1719.5681288\tbest: 1719.5681288 (378)\ttotal: 1m 29s\tremaining: 3m 14s\n",
      "379:\tlearn: 1694.4525334\ttest: 1718.9850673\tbest: 1718.9850673 (379)\ttotal: 1m 29s\tremaining: 3m 13s\n",
      "380:\tlearn: 1694.0827286\ttest: 1718.7612754\tbest: 1718.7612754 (380)\ttotal: 1m 30s\tremaining: 3m 13s\n",
      "381:\tlearn: 1693.7235526\ttest: 1718.5069567\tbest: 1718.5069567 (381)\ttotal: 1m 30s\tremaining: 3m 13s\n",
      "382:\tlearn: 1693.3137056\ttest: 1718.1584194\tbest: 1718.1584194 (382)\ttotal: 1m 30s\tremaining: 3m 13s\n",
      "383:\tlearn: 1693.0404434\ttest: 1718.0421820\tbest: 1718.0421820 (383)\ttotal: 1m 30s\tremaining: 3m 12s\n",
      "384:\tlearn: 1692.7937190\ttest: 1717.8564265\tbest: 1717.8564265 (384)\ttotal: 1m 30s\tremaining: 3m 12s\n",
      "385:\tlearn: 1692.3481258\ttest: 1717.5433917\tbest: 1717.5433917 (385)\ttotal: 1m 31s\tremaining: 3m 12s\n",
      "386:\tlearn: 1691.9145239\ttest: 1717.3060787\tbest: 1717.3060787 (386)\ttotal: 1m 31s\tremaining: 3m 12s\n",
      "387:\tlearn: 1691.4766744\ttest: 1717.0491960\tbest: 1717.0491960 (387)\ttotal: 1m 31s\tremaining: 3m 11s\n",
      "388:\tlearn: 1690.9537528\ttest: 1716.5839672\tbest: 1716.5839672 (388)\ttotal: 1m 31s\tremaining: 3m 11s\n",
      "389:\tlearn: 1690.3730285\ttest: 1716.1718424\tbest: 1716.1718424 (389)\ttotal: 1m 32s\tremaining: 3m 11s\n",
      "390:\tlearn: 1690.1252667\ttest: 1715.9748660\tbest: 1715.9748660 (390)\ttotal: 1m 32s\tremaining: 3m 10s\n",
      "391:\tlearn: 1689.5127839\ttest: 1715.4666659\tbest: 1715.4666659 (391)\ttotal: 1m 32s\tremaining: 3m 10s\n",
      "392:\tlearn: 1689.2184175\ttest: 1715.3015848\tbest: 1715.3015848 (392)\ttotal: 1m 32s\tremaining: 3m 10s\n",
      "393:\tlearn: 1688.9925776\ttest: 1715.1308140\tbest: 1715.1308140 (393)\ttotal: 1m 32s\tremaining: 3m 10s\n",
      "394:\tlearn: 1688.7105105\ttest: 1714.9575409\tbest: 1714.9575409 (394)\ttotal: 1m 33s\tremaining: 3m 10s\n",
      "395:\tlearn: 1688.2786875\ttest: 1714.6906135\tbest: 1714.6906135 (395)\ttotal: 1m 33s\tremaining: 3m 9s\n",
      "396:\tlearn: 1688.0311299\ttest: 1714.5693795\tbest: 1714.5693795 (396)\ttotal: 1m 33s\tremaining: 3m 9s\n",
      "397:\tlearn: 1687.8428102\ttest: 1714.4641463\tbest: 1714.4641463 (397)\ttotal: 1m 33s\tremaining: 3m 9s\n",
      "398:\tlearn: 1687.5629093\ttest: 1714.2600395\tbest: 1714.2600395 (398)\ttotal: 1m 34s\tremaining: 3m 9s\n",
      "399:\tlearn: 1687.3060589\ttest: 1714.0420069\tbest: 1714.0420069 (399)\ttotal: 1m 34s\tremaining: 3m 8s\n",
      "400:\tlearn: 1686.7989404\ttest: 1713.6325592\tbest: 1713.6325592 (400)\ttotal: 1m 34s\tremaining: 3m 8s\n",
      "401:\tlearn: 1686.4544523\ttest: 1713.3565742\tbest: 1713.3565742 (401)\ttotal: 1m 34s\tremaining: 3m 8s\n",
      "402:\tlearn: 1686.0458254\ttest: 1713.0594487\tbest: 1713.0594487 (402)\ttotal: 1m 35s\tremaining: 3m 8s\n",
      "403:\tlearn: 1685.8191748\ttest: 1712.8987149\tbest: 1712.8987149 (403)\ttotal: 1m 35s\tremaining: 3m 7s\n",
      "404:\tlearn: 1685.3586236\ttest: 1712.6160482\tbest: 1712.6160482 (404)\ttotal: 1m 35s\tremaining: 3m 7s\n",
      "405:\tlearn: 1685.1054879\ttest: 1712.4851365\tbest: 1712.4851365 (405)\ttotal: 1m 35s\tremaining: 3m 7s\n",
      "406:\tlearn: 1684.8945087\ttest: 1712.3050261\tbest: 1712.3050261 (406)\ttotal: 1m 36s\tremaining: 3m 7s\n",
      "407:\tlearn: 1684.3106539\ttest: 1711.9053740\tbest: 1711.9053740 (407)\ttotal: 1m 36s\tremaining: 3m 6s\n",
      "408:\tlearn: 1683.9622007\ttest: 1711.6333685\tbest: 1711.6333685 (408)\ttotal: 1m 36s\tremaining: 3m 6s\n",
      "409:\tlearn: 1683.3690354\ttest: 1711.1494890\tbest: 1711.1494890 (409)\ttotal: 1m 36s\tremaining: 3m 6s\n",
      "410:\tlearn: 1683.0119591\ttest: 1710.8504630\tbest: 1710.8504630 (410)\ttotal: 1m 37s\tremaining: 3m 6s\n",
      "411:\tlearn: 1682.4383885\ttest: 1710.3818955\tbest: 1710.3818955 (411)\ttotal: 1m 37s\tremaining: 3m 6s\n",
      "412:\tlearn: 1682.1016914\ttest: 1710.1860078\tbest: 1710.1860078 (412)\ttotal: 1m 37s\tremaining: 3m 5s\n",
      "413:\tlearn: 1681.7269170\ttest: 1709.9100815\tbest: 1709.9100815 (413)\ttotal: 1m 37s\tremaining: 3m 5s\n",
      "414:\tlearn: 1681.4252353\ttest: 1709.6400603\tbest: 1709.6400603 (414)\ttotal: 1m 37s\tremaining: 3m 5s\n",
      "415:\tlearn: 1681.2717253\ttest: 1709.5245614\tbest: 1709.5245614 (415)\ttotal: 1m 38s\tremaining: 3m 5s\n",
      "416:\tlearn: 1680.9036333\ttest: 1709.2263861\tbest: 1709.2263861 (416)\ttotal: 1m 38s\tremaining: 3m 4s\n",
      "417:\tlearn: 1680.5070100\ttest: 1708.8326656\tbest: 1708.8326656 (417)\ttotal: 1m 38s\tremaining: 3m 4s\n",
      "418:\tlearn: 1680.1033760\ttest: 1708.5969027\tbest: 1708.5969027 (418)\ttotal: 1m 38s\tremaining: 3m 4s\n",
      "419:\tlearn: 1679.8784714\ttest: 1708.4564612\tbest: 1708.4564612 (419)\ttotal: 1m 39s\tremaining: 3m 4s\n",
      "420:\tlearn: 1679.5709784\ttest: 1708.2180508\tbest: 1708.2180508 (420)\ttotal: 1m 39s\tremaining: 3m 3s\n",
      "421:\tlearn: 1679.3495019\ttest: 1708.0684949\tbest: 1708.0684949 (421)\ttotal: 1m 39s\tremaining: 3m 3s\n",
      "422:\tlearn: 1678.8187208\ttest: 1707.6394298\tbest: 1707.6394298 (422)\ttotal: 1m 39s\tremaining: 3m 3s\n",
      "423:\tlearn: 1678.5151371\ttest: 1707.4309657\tbest: 1707.4309657 (423)\ttotal: 1m 40s\tremaining: 3m 3s\n",
      "424:\tlearn: 1678.1770419\ttest: 1707.1528294\tbest: 1707.1528294 (424)\ttotal: 1m 40s\tremaining: 3m 2s\n",
      "425:\tlearn: 1677.9163389\ttest: 1707.0335040\tbest: 1707.0335040 (425)\ttotal: 1m 40s\tremaining: 3m 2s\n",
      "426:\tlearn: 1677.7561415\ttest: 1706.9265184\tbest: 1706.9265184 (426)\ttotal: 1m 40s\tremaining: 3m 2s\n",
      "427:\tlearn: 1677.4424722\ttest: 1706.7241306\tbest: 1706.7241306 (427)\ttotal: 1m 41s\tremaining: 3m 2s\n",
      "428:\tlearn: 1676.9132583\ttest: 1706.3165672\tbest: 1706.3165672 (428)\ttotal: 1m 41s\tremaining: 3m 1s\n",
      "429:\tlearn: 1676.6196301\ttest: 1706.0897991\tbest: 1706.0897991 (429)\ttotal: 1m 41s\tremaining: 3m 1s\n",
      "430:\tlearn: 1676.1802639\ttest: 1705.8055635\tbest: 1705.8055635 (430)\ttotal: 1m 41s\tremaining: 3m 1s\n",
      "431:\tlearn: 1675.6823694\ttest: 1705.4021552\tbest: 1705.4021552 (431)\ttotal: 1m 41s\tremaining: 3m 1s\n",
      "432:\tlearn: 1675.4863556\ttest: 1705.3257169\tbest: 1705.3257169 (432)\ttotal: 1m 42s\tremaining: 3m\n",
      "433:\tlearn: 1675.2851558\ttest: 1705.2578960\tbest: 1705.2578960 (433)\ttotal: 1m 42s\tremaining: 3m\n",
      "434:\tlearn: 1675.0252555\ttest: 1705.1179973\tbest: 1705.1179973 (434)\ttotal: 1m 42s\tremaining: 3m\n",
      "435:\tlearn: 1674.7916665\ttest: 1704.9451687\tbest: 1704.9451687 (435)\ttotal: 1m 42s\tremaining: 3m\n",
      "436:\tlearn: 1674.6012768\ttest: 1704.8352951\tbest: 1704.8352951 (436)\ttotal: 1m 43s\tremaining: 2m 59s\n",
      "437:\tlearn: 1674.2455275\ttest: 1704.5484952\tbest: 1704.5484952 (437)\ttotal: 1m 43s\tremaining: 2m 59s\n",
      "438:\tlearn: 1673.8811312\ttest: 1704.2613911\tbest: 1704.2613911 (438)\ttotal: 1m 43s\tremaining: 2m 59s\n",
      "439:\tlearn: 1673.4975651\ttest: 1703.9807156\tbest: 1703.9807156 (439)\ttotal: 1m 43s\tremaining: 2m 59s\n",
      "440:\tlearn: 1673.1287882\ttest: 1703.6527368\tbest: 1703.6527368 (440)\ttotal: 1m 44s\tremaining: 2m 59s\n",
      "441:\tlearn: 1672.7396394\ttest: 1703.3214619\tbest: 1703.3214619 (441)\ttotal: 1m 44s\tremaining: 2m 58s\n",
      "442:\tlearn: 1672.3704423\ttest: 1703.0531227\tbest: 1703.0531227 (442)\ttotal: 1m 44s\tremaining: 2m 58s\n",
      "443:\tlearn: 1672.1239227\ttest: 1702.8399306\tbest: 1702.8399306 (443)\ttotal: 1m 44s\tremaining: 2m 58s\n",
      "444:\tlearn: 1671.4844260\ttest: 1702.4258648\tbest: 1702.4258648 (444)\ttotal: 1m 44s\tremaining: 2m 57s\n",
      "445:\tlearn: 1671.1780253\ttest: 1702.1584499\tbest: 1702.1584499 (445)\ttotal: 1m 45s\tremaining: 2m 57s\n",
      "446:\tlearn: 1670.9684962\ttest: 1701.9691416\tbest: 1701.9691416 (446)\ttotal: 1m 45s\tremaining: 2m 57s\n",
      "447:\tlearn: 1670.6000348\ttest: 1701.6954216\tbest: 1701.6954216 (447)\ttotal: 1m 45s\tremaining: 2m 57s\n",
      "448:\tlearn: 1670.1582109\ttest: 1701.3629264\tbest: 1701.3629264 (448)\ttotal: 1m 45s\tremaining: 2m 56s\n",
      "449:\tlearn: 1669.8692526\ttest: 1701.2031737\tbest: 1701.2031737 (449)\ttotal: 1m 46s\tremaining: 2m 56s\n",
      "450:\tlearn: 1669.7505197\ttest: 1701.1461706\tbest: 1701.1461706 (450)\ttotal: 1m 46s\tremaining: 2m 56s\n",
      "451:\tlearn: 1669.3844136\ttest: 1700.9457975\tbest: 1700.9457975 (451)\ttotal: 1m 46s\tremaining: 2m 56s\n",
      "452:\tlearn: 1669.1063818\ttest: 1700.7314107\tbest: 1700.7314107 (452)\ttotal: 1m 46s\tremaining: 2m 56s\n",
      "453:\tlearn: 1668.6659330\ttest: 1700.4291840\tbest: 1700.4291840 (453)\ttotal: 1m 47s\tremaining: 2m 55s\n",
      "454:\tlearn: 1668.5526716\ttest: 1700.3529067\tbest: 1700.3529067 (454)\ttotal: 1m 47s\tremaining: 2m 55s\n",
      "455:\tlearn: 1668.2470950\ttest: 1700.1500219\tbest: 1700.1500219 (455)\ttotal: 1m 47s\tremaining: 2m 55s\n",
      "456:\tlearn: 1667.8098200\ttest: 1699.8577834\tbest: 1699.8577834 (456)\ttotal: 1m 47s\tremaining: 2m 55s\n",
      "457:\tlearn: 1667.5744333\ttest: 1699.7531580\tbest: 1699.7531580 (457)\ttotal: 1m 47s\tremaining: 2m 54s\n",
      "458:\tlearn: 1667.2709201\ttest: 1699.5378406\tbest: 1699.5378406 (458)\ttotal: 1m 48s\tremaining: 2m 54s\n",
      "459:\tlearn: 1666.9846661\ttest: 1699.2779229\tbest: 1699.2779229 (459)\ttotal: 1m 48s\tremaining: 2m 54s\n",
      "460:\tlearn: 1666.6810071\ttest: 1699.0599100\tbest: 1699.0599100 (460)\ttotal: 1m 48s\tremaining: 2m 54s\n",
      "461:\tlearn: 1666.4698634\ttest: 1698.9665626\tbest: 1698.9665626 (461)\ttotal: 1m 48s\tremaining: 2m 54s\n",
      "462:\tlearn: 1666.2636992\ttest: 1698.8357645\tbest: 1698.8357645 (462)\ttotal: 1m 49s\tremaining: 2m 53s\n",
      "463:\tlearn: 1665.9924935\ttest: 1698.6736519\tbest: 1698.6736519 (463)\ttotal: 1m 49s\tremaining: 2m 53s\n",
      "464:\tlearn: 1665.6176026\ttest: 1698.4377236\tbest: 1698.4377236 (464)\ttotal: 1m 49s\tremaining: 2m 53s\n",
      "465:\tlearn: 1665.0869223\ttest: 1698.0275343\tbest: 1698.0275343 (465)\ttotal: 1m 49s\tremaining: 2m 53s\n",
      "466:\tlearn: 1664.6649895\ttest: 1697.6691612\tbest: 1697.6691612 (466)\ttotal: 1m 50s\tremaining: 2m 52s\n",
      "467:\tlearn: 1664.2646839\ttest: 1697.3251649\tbest: 1697.3251649 (467)\ttotal: 1m 50s\tremaining: 2m 52s\n",
      "468:\tlearn: 1664.1687086\ttest: 1697.2955696\tbest: 1697.2955696 (468)\ttotal: 1m 50s\tremaining: 2m 52s\n",
      "469:\tlearn: 1664.0040680\ttest: 1697.1890175\tbest: 1697.1890175 (469)\ttotal: 1m 50s\tremaining: 2m 52s\n",
      "470:\tlearn: 1663.7701743\ttest: 1697.0347304\tbest: 1697.0347304 (470)\ttotal: 1m 51s\tremaining: 2m 52s\n",
      "471:\tlearn: 1663.6291883\ttest: 1696.9213727\tbest: 1696.9213727 (471)\ttotal: 1m 51s\tremaining: 2m 51s\n",
      "472:\tlearn: 1663.1791160\ttest: 1696.6224424\tbest: 1696.6224424 (472)\ttotal: 1m 51s\tremaining: 2m 51s\n",
      "473:\tlearn: 1662.7755658\ttest: 1696.3322591\tbest: 1696.3322591 (473)\ttotal: 1m 51s\tremaining: 2m 51s\n",
      "474:\tlearn: 1662.5558088\ttest: 1696.2010303\tbest: 1696.2010303 (474)\ttotal: 1m 52s\tremaining: 2m 50s\n",
      "475:\tlearn: 1662.2655783\ttest: 1696.0518126\tbest: 1696.0518126 (475)\ttotal: 1m 52s\tremaining: 2m 50s\n",
      "476:\tlearn: 1661.7074654\ttest: 1695.5337303\tbest: 1695.5337303 (476)\ttotal: 1m 52s\tremaining: 2m 50s\n",
      "477:\tlearn: 1661.4732358\ttest: 1695.4160395\tbest: 1695.4160395 (477)\ttotal: 1m 52s\tremaining: 2m 50s\n",
      "478:\tlearn: 1661.1240879\ttest: 1695.1359199\tbest: 1695.1359199 (478)\ttotal: 1m 52s\tremaining: 2m 50s\n",
      "479:\tlearn: 1660.8586068\ttest: 1694.9298588\tbest: 1694.9298588 (479)\ttotal: 1m 53s\tremaining: 2m 49s\n",
      "480:\tlearn: 1660.7254417\ttest: 1694.8433342\tbest: 1694.8433342 (480)\ttotal: 1m 53s\tremaining: 2m 49s\n",
      "481:\tlearn: 1660.4579062\ttest: 1694.6956793\tbest: 1694.6956793 (481)\ttotal: 1m 53s\tremaining: 2m 49s\n",
      "482:\tlearn: 1660.0682856\ttest: 1694.4090674\tbest: 1694.4090674 (482)\ttotal: 1m 53s\tremaining: 2m 49s\n",
      "483:\tlearn: 1659.7436748\ttest: 1694.1458485\tbest: 1694.1458485 (483)\ttotal: 1m 54s\tremaining: 2m 48s\n",
      "484:\tlearn: 1659.5258744\ttest: 1693.9997405\tbest: 1693.9997405 (484)\ttotal: 1m 54s\tremaining: 2m 48s\n",
      "485:\tlearn: 1659.2585996\ttest: 1693.8289775\tbest: 1693.8289775 (485)\ttotal: 1m 54s\tremaining: 2m 48s\n",
      "486:\tlearn: 1658.9854595\ttest: 1693.6694234\tbest: 1693.6694234 (486)\ttotal: 1m 54s\tremaining: 2m 48s\n",
      "487:\tlearn: 1658.6178910\ttest: 1693.3937271\tbest: 1693.3937271 (487)\ttotal: 1m 55s\tremaining: 2m 47s\n",
      "488:\tlearn: 1658.1758814\ttest: 1693.1077385\tbest: 1693.1077385 (488)\ttotal: 1m 55s\tremaining: 2m 47s\n",
      "489:\tlearn: 1658.0006607\ttest: 1692.9560792\tbest: 1692.9560792 (489)\ttotal: 1m 55s\tremaining: 2m 47s\n",
      "490:\tlearn: 1657.4110421\ttest: 1692.4792956\tbest: 1692.4792956 (490)\ttotal: 1m 55s\tremaining: 2m 47s\n",
      "491:\tlearn: 1656.9444623\ttest: 1692.1169993\tbest: 1692.1169993 (491)\ttotal: 1m 56s\tremaining: 2m 46s\n",
      "492:\tlearn: 1656.6612419\ttest: 1691.9223350\tbest: 1691.9223350 (492)\ttotal: 1m 56s\tremaining: 2m 46s\n",
      "493:\tlearn: 1656.3775696\ttest: 1691.7105207\tbest: 1691.7105207 (493)\ttotal: 1m 56s\tremaining: 2m 46s\n",
      "494:\tlearn: 1656.1018557\ttest: 1691.4825096\tbest: 1691.4825096 (494)\ttotal: 1m 56s\tremaining: 2m 46s\n",
      "495:\tlearn: 1655.9339551\ttest: 1691.3781516\tbest: 1691.3781516 (495)\ttotal: 1m 56s\tremaining: 2m 45s\n",
      "496:\tlearn: 1655.6595399\ttest: 1691.2313366\tbest: 1691.2313366 (496)\ttotal: 1m 57s\tremaining: 2m 45s\n",
      "497:\tlearn: 1655.2620615\ttest: 1690.8981338\tbest: 1690.8981338 (497)\ttotal: 1m 57s\tremaining: 2m 45s\n",
      "498:\tlearn: 1654.9817272\ttest: 1690.7308016\tbest: 1690.7308016 (498)\ttotal: 1m 57s\tremaining: 2m 45s\n",
      "499:\tlearn: 1654.6621737\ttest: 1690.5071174\tbest: 1690.5071174 (499)\ttotal: 1m 57s\tremaining: 2m 44s\n",
      "500:\tlearn: 1654.3129152\ttest: 1690.2087693\tbest: 1690.2087693 (500)\ttotal: 1m 58s\tremaining: 2m 44s\n",
      "501:\tlearn: 1653.7864797\ttest: 1689.7792603\tbest: 1689.7792603 (501)\ttotal: 1m 58s\tremaining: 2m 44s\n",
      "502:\tlearn: 1653.3279783\ttest: 1689.4310096\tbest: 1689.4310096 (502)\ttotal: 1m 58s\tremaining: 2m 44s\n",
      "503:\tlearn: 1652.8905806\ttest: 1689.0905393\tbest: 1689.0905393 (503)\ttotal: 1m 58s\tremaining: 2m 44s\n",
      "504:\tlearn: 1652.4245598\ttest: 1688.7556972\tbest: 1688.7556972 (504)\ttotal: 1m 59s\tremaining: 2m 43s\n",
      "505:\tlearn: 1651.9813067\ttest: 1688.4656628\tbest: 1688.4656628 (505)\ttotal: 1m 59s\tremaining: 2m 43s\n",
      "506:\tlearn: 1651.6448650\ttest: 1688.2023781\tbest: 1688.2023781 (506)\ttotal: 1m 59s\tremaining: 2m 43s\n",
      "507:\tlearn: 1651.2119586\ttest: 1687.8616119\tbest: 1687.8616119 (507)\ttotal: 1m 59s\tremaining: 2m 43s\n",
      "508:\tlearn: 1650.9832280\ttest: 1687.6973694\tbest: 1687.6973694 (508)\ttotal: 1m 59s\tremaining: 2m 42s\n",
      "509:\tlearn: 1650.6963920\ttest: 1687.5290959\tbest: 1687.5290959 (509)\ttotal: 2m\tremaining: 2m 42s\n",
      "510:\tlearn: 1650.3727707\ttest: 1687.3469784\tbest: 1687.3469784 (510)\ttotal: 2m\tremaining: 2m 42s\n",
      "511:\tlearn: 1649.8352485\ttest: 1686.9383122\tbest: 1686.9383122 (511)\ttotal: 2m\tremaining: 2m 42s\n",
      "512:\tlearn: 1649.4723328\ttest: 1686.6819253\tbest: 1686.6819253 (512)\ttotal: 2m\tremaining: 2m 42s\n",
      "513:\tlearn: 1649.1855827\ttest: 1686.5247392\tbest: 1686.5247392 (513)\ttotal: 2m 1s\tremaining: 2m 41s\n",
      "514:\tlearn: 1648.8716137\ttest: 1686.2799683\tbest: 1686.2799683 (514)\ttotal: 2m 1s\tremaining: 2m 41s\n",
      "515:\tlearn: 1648.6581660\ttest: 1686.1626594\tbest: 1686.1626594 (515)\ttotal: 2m 1s\tremaining: 2m 41s\n",
      "516:\tlearn: 1648.1287508\ttest: 1685.7730684\tbest: 1685.7730684 (516)\ttotal: 2m 1s\tremaining: 2m 41s\n",
      "517:\tlearn: 1647.8036790\ttest: 1685.5767137\tbest: 1685.5767137 (517)\ttotal: 2m 2s\tremaining: 2m 40s\n",
      "518:\tlearn: 1647.5281530\ttest: 1685.3652096\tbest: 1685.3652096 (518)\ttotal: 2m 2s\tremaining: 2m 40s\n",
      "519:\tlearn: 1647.2897457\ttest: 1685.1837146\tbest: 1685.1837146 (519)\ttotal: 2m 2s\tremaining: 2m 40s\n",
      "520:\tlearn: 1647.1091579\ttest: 1685.0607069\tbest: 1685.0607069 (520)\ttotal: 2m 2s\tremaining: 2m 40s\n",
      "521:\tlearn: 1646.8151234\ttest: 1684.8691816\tbest: 1684.8691816 (521)\ttotal: 2m 3s\tremaining: 2m 39s\n",
      "522:\tlearn: 1646.3896543\ttest: 1684.5841284\tbest: 1684.5841284 (522)\ttotal: 2m 3s\tremaining: 2m 39s\n",
      "523:\tlearn: 1646.1627659\ttest: 1684.3736175\tbest: 1684.3736175 (523)\ttotal: 2m 3s\tremaining: 2m 39s\n",
      "524:\tlearn: 1645.8748041\ttest: 1684.1778776\tbest: 1684.1778776 (524)\ttotal: 2m 3s\tremaining: 2m 39s\n",
      "525:\tlearn: 1645.4900510\ttest: 1683.9045945\tbest: 1683.9045945 (525)\ttotal: 2m 4s\tremaining: 2m 39s\n",
      "526:\tlearn: 1645.1232646\ttest: 1683.6986022\tbest: 1683.6986022 (526)\ttotal: 2m 4s\tremaining: 2m 38s\n",
      "527:\tlearn: 1644.8737646\ttest: 1683.5231708\tbest: 1683.5231708 (527)\ttotal: 2m 4s\tremaining: 2m 38s\n",
      "528:\tlearn: 1644.5868836\ttest: 1683.3329433\tbest: 1683.3329433 (528)\ttotal: 2m 4s\tremaining: 2m 38s\n",
      "529:\tlearn: 1644.3274378\ttest: 1683.1418808\tbest: 1683.1418808 (529)\ttotal: 2m 5s\tremaining: 2m 38s\n",
      "530:\tlearn: 1644.1033799\ttest: 1683.0257368\tbest: 1683.0257368 (530)\ttotal: 2m 5s\tremaining: 2m 37s\n",
      "531:\tlearn: 1643.9130298\ttest: 1682.9185050\tbest: 1682.9185050 (531)\ttotal: 2m 5s\tremaining: 2m 37s\n",
      "532:\tlearn: 1643.6169950\ttest: 1682.7134037\tbest: 1682.7134037 (532)\ttotal: 2m 5s\tremaining: 2m 37s\n",
      "533:\tlearn: 1643.1245481\ttest: 1682.4171489\tbest: 1682.4171489 (533)\ttotal: 2m 6s\tremaining: 2m 37s\n",
      "534:\tlearn: 1642.7250710\ttest: 1682.1060204\tbest: 1682.1060204 (534)\ttotal: 2m 6s\tremaining: 2m 37s\n",
      "535:\tlearn: 1642.5697451\ttest: 1682.0167430\tbest: 1682.0167430 (535)\ttotal: 2m 6s\tremaining: 2m 36s\n",
      "536:\tlearn: 1642.4259114\ttest: 1681.9452378\tbest: 1681.9452378 (536)\ttotal: 2m 6s\tremaining: 2m 36s\n",
      "537:\tlearn: 1642.3167468\ttest: 1681.8877336\tbest: 1681.8877336 (537)\ttotal: 2m 7s\tremaining: 2m 36s\n",
      "538:\tlearn: 1642.1411199\ttest: 1681.7468894\tbest: 1681.7468894 (538)\ttotal: 2m 7s\tremaining: 2m 36s\n",
      "539:\tlearn: 1642.0053345\ttest: 1681.6828363\tbest: 1681.6828363 (539)\ttotal: 2m 7s\tremaining: 2m 36s\n",
      "540:\tlearn: 1641.6642619\ttest: 1681.4631833\tbest: 1681.4631833 (540)\ttotal: 2m 7s\tremaining: 2m 35s\n",
      "541:\tlearn: 1641.5109753\ttest: 1681.3693455\tbest: 1681.3693455 (541)\ttotal: 2m 8s\tremaining: 2m 35s\n",
      "542:\tlearn: 1641.0714892\ttest: 1681.0112487\tbest: 1681.0112487 (542)\ttotal: 2m 8s\tremaining: 2m 35s\n",
      "543:\tlearn: 1640.7860846\ttest: 1680.8057068\tbest: 1680.8057068 (543)\ttotal: 2m 8s\tremaining: 2m 35s\n",
      "544:\tlearn: 1640.7851733\ttest: 1680.8056479\tbest: 1680.8056479 (544)\ttotal: 2m 8s\tremaining: 2m 34s\n",
      "545:\tlearn: 1640.4451569\ttest: 1680.5026348\tbest: 1680.5026348 (545)\ttotal: 2m 8s\tremaining: 2m 34s\n",
      "546:\tlearn: 1640.0262325\ttest: 1680.2278224\tbest: 1680.2278224 (546)\ttotal: 2m 9s\tremaining: 2m 34s\n",
      "547:\tlearn: 1639.7918319\ttest: 1680.0439301\tbest: 1680.0439301 (547)\ttotal: 2m 9s\tremaining: 2m 33s\n",
      "548:\tlearn: 1639.6007472\ttest: 1679.9035036\tbest: 1679.9035036 (548)\ttotal: 2m 9s\tremaining: 2m 33s\n",
      "549:\tlearn: 1639.1786740\ttest: 1679.5541444\tbest: 1679.5541444 (549)\ttotal: 2m 9s\tremaining: 2m 33s\n",
      "550:\tlearn: 1638.7601009\ttest: 1679.2264629\tbest: 1679.2264629 (550)\ttotal: 2m 10s\tremaining: 2m 33s\n",
      "551:\tlearn: 1638.5645074\ttest: 1679.1186737\tbest: 1679.1186737 (551)\ttotal: 2m 10s\tremaining: 2m 32s\n",
      "552:\tlearn: 1638.3304462\ttest: 1679.0175757\tbest: 1679.0175757 (552)\ttotal: 2m 10s\tremaining: 2m 32s\n",
      "553:\tlearn: 1638.1202349\ttest: 1678.9606401\tbest: 1678.9606401 (553)\ttotal: 2m 10s\tremaining: 2m 32s\n",
      "554:\tlearn: 1637.8920861\ttest: 1678.8509760\tbest: 1678.8509760 (554)\ttotal: 2m 10s\tremaining: 2m 32s\n",
      "555:\tlearn: 1637.6085945\ttest: 1678.6913240\tbest: 1678.6913240 (555)\ttotal: 2m 11s\tremaining: 2m 31s\n",
      "556:\tlearn: 1637.4731219\ttest: 1678.5840255\tbest: 1678.5840255 (556)\ttotal: 2m 11s\tremaining: 2m 31s\n",
      "557:\tlearn: 1637.1528555\ttest: 1678.3253267\tbest: 1678.3253267 (557)\ttotal: 2m 11s\tremaining: 2m 31s\n",
      "558:\tlearn: 1636.8253793\ttest: 1678.1593328\tbest: 1678.1593328 (558)\ttotal: 2m 11s\tremaining: 2m 31s\n",
      "559:\tlearn: 1636.5089336\ttest: 1677.9675701\tbest: 1677.9675701 (559)\ttotal: 2m 11s\tremaining: 2m 30s\n",
      "560:\tlearn: 1636.3785989\ttest: 1677.8858650\tbest: 1677.8858650 (560)\ttotal: 2m 12s\tremaining: 2m 30s\n",
      "561:\tlearn: 1636.1214140\ttest: 1677.6860277\tbest: 1677.6860277 (561)\ttotal: 2m 12s\tremaining: 2m 30s\n",
      "562:\tlearn: 1635.7774343\ttest: 1677.3806716\tbest: 1677.3806716 (562)\ttotal: 2m 12s\tremaining: 2m 30s\n",
      "563:\tlearn: 1635.5443685\ttest: 1677.2581761\tbest: 1677.2581761 (563)\ttotal: 2m 13s\tremaining: 2m 29s\n",
      "564:\tlearn: 1635.3805534\ttest: 1677.2072480\tbest: 1677.2072480 (564)\ttotal: 2m 13s\tremaining: 2m 29s\n",
      "565:\tlearn: 1635.0798318\ttest: 1676.9506598\tbest: 1676.9506598 (565)\ttotal: 2m 13s\tremaining: 2m 29s\n",
      "566:\tlearn: 1634.7725802\ttest: 1676.7235250\tbest: 1676.7235250 (566)\ttotal: 2m 13s\tremaining: 2m 29s\n",
      "567:\tlearn: 1634.3990195\ttest: 1676.4553048\tbest: 1676.4553048 (567)\ttotal: 2m 14s\tremaining: 2m 29s\n",
      "568:\tlearn: 1634.0593197\ttest: 1676.2583521\tbest: 1676.2583521 (568)\ttotal: 2m 14s\tremaining: 2m 28s\n",
      "569:\tlearn: 1633.7238075\ttest: 1675.9902263\tbest: 1675.9902263 (569)\ttotal: 2m 14s\tremaining: 2m 28s\n",
      "570:\tlearn: 1633.5351957\ttest: 1675.8312176\tbest: 1675.8312176 (570)\ttotal: 2m 14s\tremaining: 2m 28s\n",
      "571:\tlearn: 1633.2267503\ttest: 1675.5457427\tbest: 1675.5457427 (571)\ttotal: 2m 14s\tremaining: 2m 28s\n",
      "572:\tlearn: 1632.9349651\ttest: 1675.3647338\tbest: 1675.3647338 (572)\ttotal: 2m 15s\tremaining: 2m 27s\n",
      "573:\tlearn: 1632.7984045\ttest: 1675.2816649\tbest: 1675.2816649 (573)\ttotal: 2m 15s\tremaining: 2m 27s\n",
      "574:\tlearn: 1632.4702465\ttest: 1674.9988294\tbest: 1674.9988294 (574)\ttotal: 2m 15s\tremaining: 2m 27s\n",
      "575:\tlearn: 1632.1223609\ttest: 1674.7971368\tbest: 1674.7971368 (575)\ttotal: 2m 15s\tremaining: 2m 27s\n",
      "576:\tlearn: 1631.7792884\ttest: 1674.5570746\tbest: 1674.5570746 (576)\ttotal: 2m 16s\tremaining: 2m 26s\n",
      "577:\tlearn: 1631.6060437\ttest: 1674.4653865\tbest: 1674.4653865 (577)\ttotal: 2m 16s\tremaining: 2m 26s\n",
      "578:\tlearn: 1631.2767996\ttest: 1674.2397014\tbest: 1674.2397014 (578)\ttotal: 2m 16s\tremaining: 2m 26s\n",
      "579:\tlearn: 1630.9840227\ttest: 1674.0754968\tbest: 1674.0754968 (579)\ttotal: 2m 16s\tremaining: 2m 26s\n",
      "580:\tlearn: 1630.7308103\ttest: 1673.9094270\tbest: 1673.9094270 (580)\ttotal: 2m 17s\tremaining: 2m 26s\n",
      "581:\tlearn: 1630.4305150\ttest: 1673.7315516\tbest: 1673.7315516 (581)\ttotal: 2m 17s\tremaining: 2m 25s\n",
      "582:\tlearn: 1630.2162623\ttest: 1673.5988051\tbest: 1673.5988051 (582)\ttotal: 2m 17s\tremaining: 2m 25s\n",
      "583:\tlearn: 1629.8954517\ttest: 1673.3555834\tbest: 1673.3555834 (583)\ttotal: 2m 17s\tremaining: 2m 25s\n",
      "584:\tlearn: 1629.7198205\ttest: 1673.2475282\tbest: 1673.2475282 (584)\ttotal: 2m 18s\tremaining: 2m 25s\n",
      "585:\tlearn: 1629.3840947\ttest: 1672.9796428\tbest: 1672.9796428 (585)\ttotal: 2m 18s\tremaining: 2m 24s\n",
      "586:\tlearn: 1629.1190653\ttest: 1672.8125118\tbest: 1672.8125118 (586)\ttotal: 2m 18s\tremaining: 2m 24s\n",
      "587:\tlearn: 1628.9343242\ttest: 1672.6747041\tbest: 1672.6747041 (587)\ttotal: 2m 18s\tremaining: 2m 24s\n",
      "588:\tlearn: 1628.6589361\ttest: 1672.4678362\tbest: 1672.4678362 (588)\ttotal: 2m 19s\tremaining: 2m 24s\n",
      "589:\tlearn: 1628.4309466\ttest: 1672.3598968\tbest: 1672.3598968 (589)\ttotal: 2m 19s\tremaining: 2m 24s\n",
      "590:\tlearn: 1628.4301177\ttest: 1672.3598874\tbest: 1672.3598874 (590)\ttotal: 2m 19s\tremaining: 2m 23s\n",
      "591:\tlearn: 1628.0485418\ttest: 1672.1994922\tbest: 1672.1994922 (591)\ttotal: 2m 19s\tremaining: 2m 23s\n",
      "592:\tlearn: 1627.8463260\ttest: 1672.1162601\tbest: 1672.1162601 (592)\ttotal: 2m 19s\tremaining: 2m 23s\n",
      "593:\tlearn: 1627.4034503\ttest: 1671.8058337\tbest: 1671.8058337 (593)\ttotal: 2m 20s\tremaining: 2m 22s\n",
      "594:\tlearn: 1627.1205350\ttest: 1671.6502528\tbest: 1671.6502528 (594)\ttotal: 2m 20s\tremaining: 2m 22s\n",
      "595:\tlearn: 1626.8758092\ttest: 1671.4980158\tbest: 1671.4980158 (595)\ttotal: 2m 20s\tremaining: 2m 22s\n",
      "596:\tlearn: 1626.5745277\ttest: 1671.2655856\tbest: 1671.2655856 (596)\ttotal: 2m 20s\tremaining: 2m 22s\n",
      "597:\tlearn: 1626.4705142\ttest: 1671.2010968\tbest: 1671.2010968 (597)\ttotal: 2m 21s\tremaining: 2m 22s\n",
      "598:\tlearn: 1626.2388479\ttest: 1671.0633729\tbest: 1671.0633729 (598)\ttotal: 2m 21s\tremaining: 2m 21s\n",
      "599:\tlearn: 1625.9742505\ttest: 1670.8955496\tbest: 1670.8955496 (599)\ttotal: 2m 21s\tremaining: 2m 21s\n",
      "600:\tlearn: 1625.8022611\ttest: 1670.7765589\tbest: 1670.7765589 (600)\ttotal: 2m 21s\tremaining: 2m 21s\n",
      "601:\tlearn: 1625.4951098\ttest: 1670.5336037\tbest: 1670.5336037 (601)\ttotal: 2m 22s\tremaining: 2m 21s\n",
      "602:\tlearn: 1625.2015339\ttest: 1670.3032307\tbest: 1670.3032307 (602)\ttotal: 2m 22s\tremaining: 2m 20s\n",
      "603:\tlearn: 1624.9585337\ttest: 1670.1500030\tbest: 1670.1500030 (603)\ttotal: 2m 22s\tremaining: 2m 20s\n",
      "604:\tlearn: 1624.7102377\ttest: 1669.9512976\tbest: 1669.9512976 (604)\ttotal: 2m 22s\tremaining: 2m 20s\n",
      "605:\tlearn: 1624.4379810\ttest: 1669.7200207\tbest: 1669.7200207 (605)\ttotal: 2m 23s\tremaining: 2m 20s\n",
      "606:\tlearn: 1624.1403145\ttest: 1669.4839211\tbest: 1669.4839211 (606)\ttotal: 2m 23s\tremaining: 2m 19s\n",
      "607:\tlearn: 1624.0773533\ttest: 1669.4356066\tbest: 1669.4356066 (607)\ttotal: 2m 23s\tremaining: 2m 19s\n",
      "608:\tlearn: 1623.9410727\ttest: 1669.3261449\tbest: 1669.3261449 (608)\ttotal: 2m 23s\tremaining: 2m 19s\n",
      "609:\tlearn: 1623.6043637\ttest: 1669.0916298\tbest: 1669.0916298 (609)\ttotal: 2m 23s\tremaining: 2m 19s\n",
      "610:\tlearn: 1623.3365649\ttest: 1668.9370481\tbest: 1668.9370481 (610)\ttotal: 2m 24s\tremaining: 2m 18s\n",
      "611:\tlearn: 1622.9414602\ttest: 1668.6572569\tbest: 1668.6572569 (611)\ttotal: 2m 24s\tremaining: 2m 18s\n",
      "612:\tlearn: 1622.8182280\ttest: 1668.5670550\tbest: 1668.5670550 (612)\ttotal: 2m 24s\tremaining: 2m 18s\n",
      "613:\tlearn: 1622.6682758\ttest: 1668.4528902\tbest: 1668.4528902 (613)\ttotal: 2m 24s\tremaining: 2m 18s\n",
      "614:\tlearn: 1622.4416355\ttest: 1668.3533760\tbest: 1668.3533760 (614)\ttotal: 2m 25s\tremaining: 2m 18s\n",
      "615:\tlearn: 1622.1918253\ttest: 1668.1371648\tbest: 1668.1371648 (615)\ttotal: 2m 25s\tremaining: 2m 17s\n",
      "616:\tlearn: 1621.9811180\ttest: 1667.9903506\tbest: 1667.9903506 (616)\ttotal: 2m 25s\tremaining: 2m 17s\n",
      "617:\tlearn: 1621.7695194\ttest: 1667.8733268\tbest: 1667.8733268 (617)\ttotal: 2m 25s\tremaining: 2m 17s\n",
      "618:\tlearn: 1621.5282144\ttest: 1667.7198981\tbest: 1667.7198981 (618)\ttotal: 2m 26s\tremaining: 2m 17s\n",
      "619:\tlearn: 1621.2609514\ttest: 1667.4752840\tbest: 1667.4752840 (619)\ttotal: 2m 26s\tremaining: 2m 16s\n",
      "620:\tlearn: 1620.9127679\ttest: 1667.2418864\tbest: 1667.2418864 (620)\ttotal: 2m 26s\tremaining: 2m 16s\n",
      "621:\tlearn: 1620.7801841\ttest: 1667.1779980\tbest: 1667.1779980 (621)\ttotal: 2m 26s\tremaining: 2m 16s\n",
      "622:\tlearn: 1620.5575736\ttest: 1667.0337969\tbest: 1667.0337969 (622)\ttotal: 2m 27s\tremaining: 2m 16s\n",
      "623:\tlearn: 1620.3873691\ttest: 1666.9568436\tbest: 1666.9568436 (623)\ttotal: 2m 27s\tremaining: 2m 15s\n",
      "624:\tlearn: 1620.2460644\ttest: 1666.8822188\tbest: 1666.8822188 (624)\ttotal: 2m 27s\tremaining: 2m 15s\n",
      "625:\tlearn: 1620.0621680\ttest: 1666.8092835\tbest: 1666.8092835 (625)\ttotal: 2m 27s\tremaining: 2m 15s\n",
      "626:\tlearn: 1619.9313055\ttest: 1666.7649524\tbest: 1666.7649524 (626)\ttotal: 2m 28s\tremaining: 2m 15s\n",
      "627:\tlearn: 1619.6520901\ttest: 1666.5774172\tbest: 1666.5774172 (627)\ttotal: 2m 28s\tremaining: 2m 15s\n",
      "628:\tlearn: 1619.5437122\ttest: 1666.5433905\tbest: 1666.5433905 (628)\ttotal: 2m 28s\tremaining: 2m 14s\n",
      "629:\tlearn: 1619.3521959\ttest: 1666.4454927\tbest: 1666.4454927 (629)\ttotal: 2m 28s\tremaining: 2m 14s\n",
      "630:\tlearn: 1619.1725881\ttest: 1666.3549532\tbest: 1666.3549532 (630)\ttotal: 2m 29s\tremaining: 2m 14s\n",
      "631:\tlearn: 1618.9663390\ttest: 1666.2151784\tbest: 1666.2151784 (631)\ttotal: 2m 29s\tremaining: 2m 14s\n",
      "632:\tlearn: 1618.6980673\ttest: 1666.0339495\tbest: 1666.0339495 (632)\ttotal: 2m 29s\tremaining: 2m 13s\n",
      "633:\tlearn: 1618.4527655\ttest: 1665.8472271\tbest: 1665.8472271 (633)\ttotal: 2m 29s\tremaining: 2m 13s\n",
      "634:\tlearn: 1618.3296809\ttest: 1665.7903523\tbest: 1665.7903523 (634)\ttotal: 2m 30s\tremaining: 2m 13s\n",
      "635:\tlearn: 1618.1434946\ttest: 1665.6669067\tbest: 1665.6669067 (635)\ttotal: 2m 30s\tremaining: 2m 13s\n",
      "636:\tlearn: 1617.9993762\ttest: 1665.5989830\tbest: 1665.5989830 (636)\ttotal: 2m 30s\tremaining: 2m 13s\n",
      "637:\tlearn: 1617.7375250\ttest: 1665.4756571\tbest: 1665.4756571 (637)\ttotal: 2m 30s\tremaining: 2m 12s\n",
      "638:\tlearn: 1617.5558255\ttest: 1665.3656417\tbest: 1665.3656417 (638)\ttotal: 2m 30s\tremaining: 2m 12s\n",
      "639:\tlearn: 1617.2978695\ttest: 1665.1422884\tbest: 1665.1422884 (639)\ttotal: 2m 31s\tremaining: 2m 12s\n",
      "640:\tlearn: 1617.0063189\ttest: 1664.9682336\tbest: 1664.9682336 (640)\ttotal: 2m 31s\tremaining: 2m 12s\n",
      "641:\tlearn: 1616.8572305\ttest: 1664.8962601\tbest: 1664.8962601 (641)\ttotal: 2m 31s\tremaining: 2m 11s\n",
      "642:\tlearn: 1616.5316143\ttest: 1664.6706992\tbest: 1664.6706992 (642)\ttotal: 2m 31s\tremaining: 2m 11s\n",
      "643:\tlearn: 1616.2723163\ttest: 1664.4700697\tbest: 1664.4700697 (643)\ttotal: 2m 32s\tremaining: 2m 11s\n",
      "644:\tlearn: 1616.0424974\ttest: 1664.3020694\tbest: 1664.3020694 (644)\ttotal: 2m 32s\tremaining: 2m 11s\n",
      "645:\tlearn: 1615.9284925\ttest: 1664.2423900\tbest: 1664.2423900 (645)\ttotal: 2m 32s\tremaining: 2m 11s\n",
      "646:\tlearn: 1615.6963198\ttest: 1664.0602077\tbest: 1664.0602077 (646)\ttotal: 2m 33s\tremaining: 2m 10s\n",
      "647:\tlearn: 1615.4734363\ttest: 1663.8891854\tbest: 1663.8891854 (647)\ttotal: 2m 33s\tremaining: 2m 10s\n",
      "648:\tlearn: 1615.1940917\ttest: 1663.6495474\tbest: 1663.6495474 (648)\ttotal: 2m 33s\tremaining: 2m 10s\n",
      "649:\tlearn: 1614.7783483\ttest: 1663.3907281\tbest: 1663.3907281 (649)\ttotal: 2m 33s\tremaining: 2m 10s\n",
      "650:\tlearn: 1614.6438658\ttest: 1663.2928957\tbest: 1663.2928957 (650)\ttotal: 2m 33s\tremaining: 2m 9s\n",
      "651:\tlearn: 1614.4290255\ttest: 1663.1186195\tbest: 1663.1186195 (651)\ttotal: 2m 34s\tremaining: 2m 9s\n",
      "652:\tlearn: 1614.2236249\ttest: 1662.9483316\tbest: 1662.9483316 (652)\ttotal: 2m 34s\tremaining: 2m 9s\n",
      "653:\tlearn: 1614.0193153\ttest: 1662.8301026\tbest: 1662.8301026 (653)\ttotal: 2m 34s\tremaining: 2m 9s\n",
      "654:\tlearn: 1613.6942557\ttest: 1662.5931923\tbest: 1662.5931923 (654)\ttotal: 2m 34s\tremaining: 2m 8s\n",
      "655:\tlearn: 1613.5110095\ttest: 1662.4670632\tbest: 1662.4670632 (655)\ttotal: 2m 35s\tremaining: 2m 8s\n",
      "656:\tlearn: 1613.3066076\ttest: 1662.3651440\tbest: 1662.3651440 (656)\ttotal: 2m 35s\tremaining: 2m 8s\n",
      "657:\tlearn: 1613.0468440\ttest: 1662.2172096\tbest: 1662.2172096 (657)\ttotal: 2m 35s\tremaining: 2m 8s\n",
      "658:\tlearn: 1612.7728679\ttest: 1662.0854779\tbest: 1662.0854779 (658)\ttotal: 2m 35s\tremaining: 2m 7s\n",
      "659:\tlearn: 1612.5304612\ttest: 1661.9684580\tbest: 1661.9684580 (659)\ttotal: 2m 36s\tremaining: 2m 7s\n",
      "660:\tlearn: 1612.3486742\ttest: 1661.8900062\tbest: 1661.8900062 (660)\ttotal: 2m 36s\tremaining: 2m 7s\n",
      "661:\tlearn: 1612.1165819\ttest: 1661.7639274\tbest: 1661.7639274 (661)\ttotal: 2m 36s\tremaining: 2m 7s\n",
      "662:\tlearn: 1611.9431440\ttest: 1661.6825340\tbest: 1661.6825340 (662)\ttotal: 2m 36s\tremaining: 2m 7s\n",
      "663:\tlearn: 1611.6810984\ttest: 1661.4765849\tbest: 1661.4765849 (663)\ttotal: 2m 37s\tremaining: 2m 6s\n",
      "664:\tlearn: 1611.4292945\ttest: 1661.3566766\tbest: 1661.3566766 (664)\ttotal: 2m 37s\tremaining: 2m 6s\n",
      "665:\tlearn: 1611.2277265\ttest: 1661.1862621\tbest: 1661.1862621 (665)\ttotal: 2m 37s\tremaining: 2m 6s\n",
      "666:\tlearn: 1611.1306165\ttest: 1661.1564434\tbest: 1661.1564434 (666)\ttotal: 2m 37s\tremaining: 2m 6s\n",
      "667:\tlearn: 1610.9379459\ttest: 1661.0283319\tbest: 1661.0283319 (667)\ttotal: 2m 38s\tremaining: 2m 5s\n",
      "668:\tlearn: 1610.7624145\ttest: 1660.9317609\tbest: 1660.9317609 (668)\ttotal: 2m 38s\tremaining: 2m 5s\n",
      "669:\tlearn: 1610.5766299\ttest: 1660.8107358\tbest: 1660.8107358 (669)\ttotal: 2m 38s\tremaining: 2m 5s\n",
      "670:\tlearn: 1610.3832783\ttest: 1660.7047722\tbest: 1660.7047722 (670)\ttotal: 2m 38s\tremaining: 2m 5s\n",
      "671:\tlearn: 1610.3057088\ttest: 1660.6791225\tbest: 1660.6791225 (671)\ttotal: 2m 39s\tremaining: 2m 5s\n",
      "672:\tlearn: 1610.1061045\ttest: 1660.5662093\tbest: 1660.5662093 (672)\ttotal: 2m 39s\tremaining: 2m 4s\n",
      "673:\tlearn: 1609.9899538\ttest: 1660.4921204\tbest: 1660.4921204 (673)\ttotal: 2m 39s\tremaining: 2m 4s\n",
      "674:\tlearn: 1609.7305054\ttest: 1660.3156921\tbest: 1660.3156921 (674)\ttotal: 2m 39s\tremaining: 2m 4s\n",
      "675:\tlearn: 1609.5875112\ttest: 1660.2344797\tbest: 1660.2344797 (675)\ttotal: 2m 40s\tremaining: 2m 4s\n",
      "676:\tlearn: 1609.3474408\ttest: 1660.0767686\tbest: 1660.0767686 (676)\ttotal: 2m 40s\tremaining: 2m 3s\n",
      "677:\tlearn: 1609.2953127\ttest: 1660.0630584\tbest: 1660.0630584 (677)\ttotal: 2m 40s\tremaining: 2m 3s\n",
      "678:\tlearn: 1608.9786325\ttest: 1659.8553489\tbest: 1659.8553489 (678)\ttotal: 2m 40s\tremaining: 2m 3s\n",
      "679:\tlearn: 1608.8213592\ttest: 1659.7735982\tbest: 1659.7735982 (679)\ttotal: 2m 41s\tremaining: 2m 3s\n",
      "680:\tlearn: 1608.6086734\ttest: 1659.6432049\tbest: 1659.6432049 (680)\ttotal: 2m 41s\tremaining: 2m 2s\n",
      "681:\tlearn: 1608.4247121\ttest: 1659.5594316\tbest: 1659.5594316 (681)\ttotal: 2m 41s\tremaining: 2m 2s\n",
      "682:\tlearn: 1608.1853054\ttest: 1659.4151004\tbest: 1659.4151004 (682)\ttotal: 2m 41s\tremaining: 2m 2s\n",
      "683:\tlearn: 1608.0620405\ttest: 1659.3323081\tbest: 1659.3323081 (683)\ttotal: 2m 42s\tremaining: 2m 2s\n",
      "684:\tlearn: 1607.9342521\ttest: 1659.2333987\tbest: 1659.2333987 (684)\ttotal: 2m 42s\tremaining: 2m 2s\n",
      "685:\tlearn: 1607.5812137\ttest: 1658.9690782\tbest: 1658.9690782 (685)\ttotal: 2m 42s\tremaining: 2m 1s\n",
      "686:\tlearn: 1607.3499525\ttest: 1658.7921310\tbest: 1658.7921310 (686)\ttotal: 2m 42s\tremaining: 2m 1s\n",
      "687:\tlearn: 1607.1908638\ttest: 1658.7112713\tbest: 1658.7112713 (687)\ttotal: 2m 43s\tremaining: 2m 1s\n",
      "688:\tlearn: 1607.0486431\ttest: 1658.6573541\tbest: 1658.6573541 (688)\ttotal: 2m 43s\tremaining: 2m 1s\n",
      "689:\tlearn: 1606.8606643\ttest: 1658.5054386\tbest: 1658.5054386 (689)\ttotal: 2m 43s\tremaining: 2m\n",
      "690:\tlearn: 1606.7173075\ttest: 1658.4571598\tbest: 1658.4571598 (690)\ttotal: 2m 43s\tremaining: 2m\n",
      "691:\tlearn: 1606.4718624\ttest: 1658.2834107\tbest: 1658.2834107 (691)\ttotal: 2m 44s\tremaining: 2m\n",
      "692:\tlearn: 1606.2991428\ttest: 1658.1735566\tbest: 1658.1735566 (692)\ttotal: 2m 44s\tremaining: 2m\n",
      "693:\tlearn: 1606.0686535\ttest: 1658.0432189\tbest: 1658.0432189 (693)\ttotal: 2m 44s\tremaining: 1m 59s\n",
      "694:\tlearn: 1605.9388263\ttest: 1657.9682768\tbest: 1657.9682768 (694)\ttotal: 2m 44s\tremaining: 1m 59s\n",
      "695:\tlearn: 1605.8749555\ttest: 1657.9451696\tbest: 1657.9451696 (695)\ttotal: 2m 44s\tremaining: 1m 59s\n",
      "696:\tlearn: 1605.7128547\ttest: 1657.8408427\tbest: 1657.8408427 (696)\ttotal: 2m 45s\tremaining: 1m 59s\n",
      "697:\tlearn: 1605.5692216\ttest: 1657.7480404\tbest: 1657.7480404 (697)\ttotal: 2m 45s\tremaining: 1m 59s\n",
      "698:\tlearn: 1605.4843041\ttest: 1657.7101594\tbest: 1657.7101594 (698)\ttotal: 2m 45s\tremaining: 1m 58s\n",
      "699:\tlearn: 1605.3326991\ttest: 1657.6095134\tbest: 1657.6095134 (699)\ttotal: 2m 45s\tremaining: 1m 58s\n",
      "700:\tlearn: 1605.1368934\ttest: 1657.4865988\tbest: 1657.4865988 (700)\ttotal: 2m 46s\tremaining: 1m 58s\n",
      "701:\tlearn: 1604.8972830\ttest: 1657.3364561\tbest: 1657.3364561 (701)\ttotal: 2m 46s\tremaining: 1m 58s\n",
      "702:\tlearn: 1604.5031852\ttest: 1657.0248122\tbest: 1657.0248122 (702)\ttotal: 2m 46s\tremaining: 1m 57s\n",
      "703:\tlearn: 1604.3680891\ttest: 1656.9506775\tbest: 1656.9506775 (703)\ttotal: 2m 46s\tremaining: 1m 57s\n",
      "704:\tlearn: 1604.2756971\ttest: 1656.9138718\tbest: 1656.9138718 (704)\ttotal: 2m 47s\tremaining: 1m 57s\n",
      "705:\tlearn: 1604.0344202\ttest: 1656.7757116\tbest: 1656.7757116 (705)\ttotal: 2m 47s\tremaining: 1m 57s\n",
      "706:\tlearn: 1603.8410889\ttest: 1656.6328235\tbest: 1656.6328235 (706)\ttotal: 2m 47s\tremaining: 1m 56s\n",
      "707:\tlearn: 1603.7410359\ttest: 1656.5823223\tbest: 1656.5823223 (707)\ttotal: 2m 47s\tremaining: 1m 56s\n",
      "708:\tlearn: 1603.6130380\ttest: 1656.5008919\tbest: 1656.5008919 (708)\ttotal: 2m 48s\tremaining: 1m 56s\n",
      "709:\tlearn: 1603.4677625\ttest: 1656.3938501\tbest: 1656.3938501 (709)\ttotal: 2m 48s\tremaining: 1m 56s\n",
      "710:\tlearn: 1603.3346252\ttest: 1656.3513200\tbest: 1656.3513200 (710)\ttotal: 2m 48s\tremaining: 1m 56s\n",
      "711:\tlearn: 1603.1294806\ttest: 1656.2543374\tbest: 1656.2543374 (711)\ttotal: 2m 48s\tremaining: 1m 55s\n",
      "712:\tlearn: 1602.9822647\ttest: 1656.1728867\tbest: 1656.1728867 (712)\ttotal: 2m 49s\tremaining: 1m 55s\n",
      "713:\tlearn: 1602.9801248\ttest: 1656.1733092\tbest: 1656.1728867 (712)\ttotal: 2m 49s\tremaining: 1m 55s\n",
      "714:\tlearn: 1602.7227745\ttest: 1656.0296340\tbest: 1656.0296340 (714)\ttotal: 2m 49s\tremaining: 1m 55s\n",
      "715:\tlearn: 1602.5750824\ttest: 1655.9599749\tbest: 1655.9599749 (715)\ttotal: 2m 49s\tremaining: 1m 54s\n",
      "716:\tlearn: 1602.3304552\ttest: 1655.8024958\tbest: 1655.8024958 (716)\ttotal: 2m 50s\tremaining: 1m 54s\n",
      "717:\tlearn: 1602.1154879\ttest: 1655.6902149\tbest: 1655.6902149 (717)\ttotal: 2m 50s\tremaining: 1m 54s\n",
      "718:\tlearn: 1601.8578013\ttest: 1655.5216522\tbest: 1655.5216522 (718)\ttotal: 2m 50s\tremaining: 1m 54s\n",
      "719:\tlearn: 1601.7727790\ttest: 1655.4816753\tbest: 1655.4816753 (719)\ttotal: 2m 50s\tremaining: 1m 53s\n",
      "720:\tlearn: 1601.3615644\ttest: 1655.2078155\tbest: 1655.2078155 (720)\ttotal: 2m 51s\tremaining: 1m 53s\n",
      "721:\tlearn: 1601.2343609\ttest: 1655.1685662\tbest: 1655.1685662 (721)\ttotal: 2m 51s\tremaining: 1m 53s\n",
      "722:\tlearn: 1601.0649116\ttest: 1655.0742292\tbest: 1655.0742292 (722)\ttotal: 2m 51s\tremaining: 1m 53s\n",
      "723:\tlearn: 1600.9772832\ttest: 1655.0486982\tbest: 1655.0486982 (723)\ttotal: 2m 51s\tremaining: 1m 52s\n",
      "724:\tlearn: 1600.7077556\ttest: 1654.8682279\tbest: 1654.8682279 (724)\ttotal: 2m 52s\tremaining: 1m 52s\n",
      "725:\tlearn: 1600.4544898\ttest: 1654.7053070\tbest: 1654.7053070 (725)\ttotal: 2m 52s\tremaining: 1m 52s\n",
      "726:\tlearn: 1600.3393417\ttest: 1654.6635513\tbest: 1654.6635513 (726)\ttotal: 2m 52s\tremaining: 1m 52s\n",
      "727:\tlearn: 1600.1050471\ttest: 1654.5154380\tbest: 1654.5154380 (727)\ttotal: 2m 52s\tremaining: 1m 52s\n",
      "728:\tlearn: 1599.9978294\ttest: 1654.4659586\tbest: 1654.4659586 (728)\ttotal: 2m 53s\tremaining: 1m 51s\n",
      "729:\tlearn: 1599.7728408\ttest: 1654.3477835\tbest: 1654.3477835 (729)\ttotal: 2m 53s\tremaining: 1m 51s\n",
      "730:\tlearn: 1599.6550563\ttest: 1654.3051068\tbest: 1654.3051068 (730)\ttotal: 2m 53s\tremaining: 1m 51s\n",
      "731:\tlearn: 1599.4871170\ttest: 1654.1769036\tbest: 1654.1769036 (731)\ttotal: 2m 53s\tremaining: 1m 51s\n",
      "732:\tlearn: 1599.4283491\ttest: 1654.1676832\tbest: 1654.1676832 (732)\ttotal: 2m 54s\tremaining: 1m 50s\n",
      "733:\tlearn: 1599.1985946\ttest: 1653.9899412\tbest: 1653.9899412 (733)\ttotal: 2m 54s\tremaining: 1m 50s\n",
      "734:\tlearn: 1599.0275314\ttest: 1653.9043801\tbest: 1653.9043801 (734)\ttotal: 2m 54s\tremaining: 1m 50s\n",
      "735:\tlearn: 1598.9258350\ttest: 1653.8632224\tbest: 1653.8632224 (735)\ttotal: 2m 54s\tremaining: 1m 50s\n",
      "736:\tlearn: 1598.8605658\ttest: 1653.8623772\tbest: 1653.8623772 (736)\ttotal: 2m 55s\tremaining: 1m 50s\n",
      "737:\tlearn: 1598.7040891\ttest: 1653.7478504\tbest: 1653.7478504 (737)\ttotal: 2m 55s\tremaining: 1m 49s\n",
      "738:\tlearn: 1598.6041071\ttest: 1653.6934643\tbest: 1653.6934643 (738)\ttotal: 2m 55s\tremaining: 1m 49s\n",
      "739:\tlearn: 1598.5990826\ttest: 1653.6921904\tbest: 1653.6921904 (739)\ttotal: 2m 56s\tremaining: 1m 49s\n",
      "740:\tlearn: 1598.3900757\ttest: 1653.5400122\tbest: 1653.5400122 (740)\ttotal: 2m 56s\tremaining: 1m 49s\n",
      "741:\tlearn: 1598.2307494\ttest: 1653.4384367\tbest: 1653.4384367 (741)\ttotal: 2m 56s\tremaining: 1m 48s\n",
      "742:\tlearn: 1598.1305438\ttest: 1653.3601965\tbest: 1653.3601965 (742)\ttotal: 2m 56s\tremaining: 1m 48s\n",
      "743:\tlearn: 1597.8622271\ttest: 1653.2103162\tbest: 1653.2103162 (743)\ttotal: 2m 56s\tremaining: 1m 48s\n",
      "744:\tlearn: 1597.5876911\ttest: 1653.0304040\tbest: 1653.0304040 (744)\ttotal: 2m 57s\tremaining: 1m 48s\n",
      "745:\tlearn: 1597.4256450\ttest: 1652.9053189\tbest: 1652.9053189 (745)\ttotal: 2m 57s\tremaining: 1m 47s\n",
      "746:\tlearn: 1597.3460034\ttest: 1652.8437498\tbest: 1652.8437498 (746)\ttotal: 2m 57s\tremaining: 1m 47s\n",
      "747:\tlearn: 1597.2120554\ttest: 1652.8138486\tbest: 1652.8138486 (747)\ttotal: 2m 57s\tremaining: 1m 47s\n",
      "748:\tlearn: 1597.1007095\ttest: 1652.7551928\tbest: 1652.7551928 (748)\ttotal: 2m 58s\tremaining: 1m 47s\n",
      "749:\tlearn: 1596.8595003\ttest: 1652.6149850\tbest: 1652.6149850 (749)\ttotal: 2m 58s\tremaining: 1m 46s\n",
      "750:\tlearn: 1596.7955348\ttest: 1652.6196773\tbest: 1652.6149850 (749)\ttotal: 2m 58s\tremaining: 1m 46s\n",
      "751:\tlearn: 1596.7262724\ttest: 1652.5549192\tbest: 1652.5549192 (751)\ttotal: 2m 58s\tremaining: 1m 46s\n",
      "752:\tlearn: 1596.7039934\ttest: 1652.5480080\tbest: 1652.5480080 (752)\ttotal: 2m 58s\tremaining: 1m 46s\n",
      "753:\tlearn: 1596.3314841\ttest: 1652.2637952\tbest: 1652.2637952 (753)\ttotal: 2m 59s\tremaining: 1m 45s\n",
      "754:\tlearn: 1596.2401662\ttest: 1652.1850236\tbest: 1652.1850236 (754)\ttotal: 2m 59s\tremaining: 1m 45s\n",
      "755:\tlearn: 1596.0320078\ttest: 1652.0592392\tbest: 1652.0592392 (755)\ttotal: 2m 59s\tremaining: 1m 45s\n",
      "756:\tlearn: 1595.9249464\ttest: 1652.0023289\tbest: 1652.0023289 (756)\ttotal: 2m 59s\tremaining: 1m 45s\n",
      "757:\tlearn: 1595.7378790\ttest: 1651.8588008\tbest: 1651.8588008 (757)\ttotal: 3m\tremaining: 1m 45s\n",
      "758:\tlearn: 1595.6064276\ttest: 1651.8136236\tbest: 1651.8136236 (758)\ttotal: 3m\tremaining: 1m 44s\n",
      "759:\tlearn: 1595.3688082\ttest: 1651.6520355\tbest: 1651.6520355 (759)\ttotal: 3m\tremaining: 1m 44s\n",
      "760:\tlearn: 1595.1058080\ttest: 1651.4994177\tbest: 1651.4994177 (760)\ttotal: 3m\tremaining: 1m 44s\n",
      "761:\tlearn: 1594.8934690\ttest: 1651.3715387\tbest: 1651.3715387 (761)\ttotal: 3m 1s\tremaining: 1m 44s\n",
      "762:\tlearn: 1594.8081740\ttest: 1651.3479818\tbest: 1651.3479818 (762)\ttotal: 3m 1s\tremaining: 1m 43s\n",
      "763:\tlearn: 1594.5850352\ttest: 1651.2471581\tbest: 1651.2471581 (763)\ttotal: 3m 1s\tremaining: 1m 43s\n",
      "764:\tlearn: 1594.4701557\ttest: 1651.1918503\tbest: 1651.1918503 (764)\ttotal: 3m 1s\tremaining: 1m 43s\n",
      "765:\tlearn: 1594.4109271\ttest: 1651.1729739\tbest: 1651.1729739 (765)\ttotal: 3m 2s\tremaining: 1m 43s\n",
      "766:\tlearn: 1594.3045746\ttest: 1651.1378500\tbest: 1651.1378500 (766)\ttotal: 3m 2s\tremaining: 1m 42s\n",
      "767:\tlearn: 1593.9961468\ttest: 1650.9748545\tbest: 1650.9748545 (767)\ttotal: 3m 2s\tremaining: 1m 42s\n",
      "768:\tlearn: 1593.8987455\ttest: 1650.9077551\tbest: 1650.9077551 (768)\ttotal: 3m 2s\tremaining: 1m 42s\n",
      "769:\tlearn: 1593.6637355\ttest: 1650.7777421\tbest: 1650.7777421 (769)\ttotal: 3m 3s\tremaining: 1m 42s\n",
      "770:\tlearn: 1593.4627642\ttest: 1650.6599702\tbest: 1650.6599702 (770)\ttotal: 3m 3s\tremaining: 1m 42s\n",
      "771:\tlearn: 1593.2787166\ttest: 1650.5408258\tbest: 1650.5408258 (771)\ttotal: 3m 3s\tremaining: 1m 41s\n",
      "772:\tlearn: 1592.9660392\ttest: 1650.3907188\tbest: 1650.3907188 (772)\ttotal: 3m 3s\tremaining: 1m 41s\n",
      "773:\tlearn: 1592.8470044\ttest: 1650.3440953\tbest: 1650.3440953 (773)\ttotal: 3m 4s\tremaining: 1m 41s\n",
      "774:\tlearn: 1592.7448499\ttest: 1650.2921888\tbest: 1650.2921888 (774)\ttotal: 3m 4s\tremaining: 1m 41s\n",
      "775:\tlearn: 1592.6475818\ttest: 1650.2411557\tbest: 1650.2411557 (775)\ttotal: 3m 4s\tremaining: 1m 40s\n",
      "776:\tlearn: 1592.4247153\ttest: 1650.0737554\tbest: 1650.0737554 (776)\ttotal: 3m 4s\tremaining: 1m 40s\n",
      "777:\tlearn: 1592.3495001\ttest: 1650.0225345\tbest: 1650.0225345 (777)\ttotal: 3m 5s\tremaining: 1m 40s\n",
      "778:\tlearn: 1592.0610117\ttest: 1649.9144621\tbest: 1649.9144621 (778)\ttotal: 3m 5s\tremaining: 1m 40s\n",
      "779:\tlearn: 1591.9571585\ttest: 1649.8556164\tbest: 1649.8556164 (779)\ttotal: 3m 5s\tremaining: 1m 39s\n",
      "780:\tlearn: 1591.8587465\ttest: 1649.8071066\tbest: 1649.8071066 (780)\ttotal: 3m 5s\tremaining: 1m 39s\n",
      "781:\tlearn: 1591.5801184\ttest: 1649.6312770\tbest: 1649.6312770 (781)\ttotal: 3m 6s\tremaining: 1m 39s\n",
      "782:\tlearn: 1591.4488807\ttest: 1649.5629965\tbest: 1649.5629965 (782)\ttotal: 3m 6s\tremaining: 1m 39s\n",
      "783:\tlearn: 1591.2504441\ttest: 1649.4500385\tbest: 1649.4500385 (783)\ttotal: 3m 6s\tremaining: 1m 39s\n",
      "784:\tlearn: 1591.0753554\ttest: 1649.3380723\tbest: 1649.3380723 (784)\ttotal: 3m 6s\tremaining: 1m 38s\n",
      "785:\tlearn: 1590.9547050\ttest: 1649.3074518\tbest: 1649.3074518 (785)\ttotal: 3m 7s\tremaining: 1m 38s\n",
      "786:\tlearn: 1590.7696252\ttest: 1649.1943579\tbest: 1649.1943579 (786)\ttotal: 3m 7s\tremaining: 1m 38s\n",
      "787:\tlearn: 1590.5270130\ttest: 1649.0812973\tbest: 1649.0812973 (787)\ttotal: 3m 7s\tremaining: 1m 38s\n",
      "788:\tlearn: 1590.3972107\ttest: 1649.0247845\tbest: 1649.0247845 (788)\ttotal: 3m 7s\tremaining: 1m 37s\n",
      "789:\tlearn: 1590.1733721\ttest: 1648.9119165\tbest: 1648.9119165 (789)\ttotal: 3m 8s\tremaining: 1m 37s\n",
      "790:\tlearn: 1590.0858074\ttest: 1648.8720868\tbest: 1648.8720868 (790)\ttotal: 3m 8s\tremaining: 1m 37s\n",
      "791:\tlearn: 1589.9341130\ttest: 1648.7607740\tbest: 1648.7607740 (791)\ttotal: 3m 8s\tremaining: 1m 37s\n",
      "792:\tlearn: 1589.7557893\ttest: 1648.6061649\tbest: 1648.6061649 (792)\ttotal: 3m 8s\tremaining: 1m 36s\n",
      "793:\tlearn: 1589.6623735\ttest: 1648.5611476\tbest: 1648.5611476 (793)\ttotal: 3m 9s\tremaining: 1m 36s\n",
      "794:\tlearn: 1589.5076973\ttest: 1648.4881117\tbest: 1648.4881117 (794)\ttotal: 3m 9s\tremaining: 1m 36s\n",
      "795:\tlearn: 1589.3245418\ttest: 1648.3854161\tbest: 1648.3854161 (795)\ttotal: 3m 9s\tremaining: 1m 36s\n",
      "796:\tlearn: 1589.2334131\ttest: 1648.3730010\tbest: 1648.3730010 (796)\ttotal: 3m 9s\tremaining: 1m 36s\n",
      "797:\tlearn: 1588.9222854\ttest: 1648.1645344\tbest: 1648.1645344 (797)\ttotal: 3m 10s\tremaining: 1m 35s\n",
      "798:\tlearn: 1588.6829182\ttest: 1648.0376925\tbest: 1648.0376925 (798)\ttotal: 3m 10s\tremaining: 1m 35s\n",
      "799:\tlearn: 1588.4348116\ttest: 1647.8805117\tbest: 1647.8805117 (799)\ttotal: 3m 10s\tremaining: 1m 35s\n",
      "800:\tlearn: 1588.2460059\ttest: 1647.7636191\tbest: 1647.7636191 (800)\ttotal: 3m 10s\tremaining: 1m 35s\n",
      "801:\tlearn: 1588.1567869\ttest: 1647.7215744\tbest: 1647.7215744 (801)\ttotal: 3m 11s\tremaining: 1m 34s\n",
      "802:\tlearn: 1587.9037507\ttest: 1647.5311502\tbest: 1647.5311502 (802)\ttotal: 3m 11s\tremaining: 1m 34s\n",
      "803:\tlearn: 1587.8220153\ttest: 1647.4798915\tbest: 1647.4798915 (803)\ttotal: 3m 11s\tremaining: 1m 34s\n",
      "804:\tlearn: 1587.6077249\ttest: 1647.3664496\tbest: 1647.3664496 (804)\ttotal: 3m 11s\tremaining: 1m 34s\n",
      "805:\tlearn: 1587.2861103\ttest: 1647.2275158\tbest: 1647.2275158 (805)\ttotal: 3m 12s\tremaining: 1m 33s\n",
      "806:\tlearn: 1587.1315644\ttest: 1647.1421326\tbest: 1647.1421326 (806)\ttotal: 3m 12s\tremaining: 1m 33s\n",
      "807:\tlearn: 1587.0455258\ttest: 1647.1014922\tbest: 1647.1014922 (807)\ttotal: 3m 12s\tremaining: 1m 33s\n",
      "808:\tlearn: 1586.8007194\ttest: 1646.9516703\tbest: 1646.9516703 (808)\ttotal: 3m 12s\tremaining: 1m 33s\n",
      "809:\tlearn: 1586.6697867\ttest: 1646.8303215\tbest: 1646.8303215 (809)\ttotal: 3m 13s\tremaining: 1m 33s\n",
      "810:\tlearn: 1586.5356306\ttest: 1646.7760983\tbest: 1646.7760983 (810)\ttotal: 3m 13s\tremaining: 1m 32s\n",
      "811:\tlearn: 1586.4565472\ttest: 1646.7371486\tbest: 1646.7371486 (811)\ttotal: 3m 13s\tremaining: 1m 32s\n",
      "812:\tlearn: 1586.2993796\ttest: 1646.6463654\tbest: 1646.6463654 (812)\ttotal: 3m 13s\tremaining: 1m 32s\n",
      "813:\tlearn: 1586.2071235\ttest: 1646.5920083\tbest: 1646.5920083 (813)\ttotal: 3m 14s\tremaining: 1m 32s\n",
      "814:\tlearn: 1586.0180377\ttest: 1646.4551625\tbest: 1646.4551625 (814)\ttotal: 3m 14s\tremaining: 1m 31s\n",
      "815:\tlearn: 1585.9432663\ttest: 1646.4163906\tbest: 1646.4163906 (815)\ttotal: 3m 14s\tremaining: 1m 31s\n",
      "816:\tlearn: 1585.6865472\ttest: 1646.2855478\tbest: 1646.2855478 (816)\ttotal: 3m 14s\tremaining: 1m 31s\n",
      "817:\tlearn: 1585.3902590\ttest: 1646.1309037\tbest: 1646.1309037 (817)\ttotal: 3m 14s\tremaining: 1m 31s\n",
      "818:\tlearn: 1585.2187332\ttest: 1646.0170082\tbest: 1646.0170082 (818)\ttotal: 3m 15s\tremaining: 1m 30s\n",
      "819:\tlearn: 1585.0419950\ttest: 1645.9094280\tbest: 1645.9094280 (819)\ttotal: 3m 15s\tremaining: 1m 30s\n",
      "820:\tlearn: 1584.8672345\ttest: 1645.8037907\tbest: 1645.8037907 (820)\ttotal: 3m 15s\tremaining: 1m 30s\n",
      "821:\tlearn: 1584.8144290\ttest: 1645.7549775\tbest: 1645.7549775 (821)\ttotal: 3m 15s\tremaining: 1m 30s\n",
      "822:\tlearn: 1584.7031891\ttest: 1645.6868749\tbest: 1645.6868749 (822)\ttotal: 3m 16s\tremaining: 1m 29s\n",
      "823:\tlearn: 1584.6196785\ttest: 1645.6490443\tbest: 1645.6490443 (823)\ttotal: 3m 16s\tremaining: 1m 29s\n",
      "824:\tlearn: 1584.3073858\ttest: 1645.4549140\tbest: 1645.4549140 (824)\ttotal: 3m 16s\tremaining: 1m 29s\n",
      "825:\tlearn: 1584.1730589\ttest: 1645.3526513\tbest: 1645.3526513 (825)\ttotal: 3m 17s\tremaining: 1m 29s\n",
      "826:\tlearn: 1584.0280261\ttest: 1645.2431638\tbest: 1645.2431638 (826)\ttotal: 3m 17s\tremaining: 1m 28s\n",
      "827:\tlearn: 1583.9849558\ttest: 1645.2080631\tbest: 1645.2080631 (827)\ttotal: 3m 17s\tremaining: 1m 28s\n",
      "828:\tlearn: 1583.6800760\ttest: 1645.0769789\tbest: 1645.0769789 (828)\ttotal: 3m 17s\tremaining: 1m 28s\n",
      "829:\tlearn: 1583.4681861\ttest: 1644.9292489\tbest: 1644.9292489 (829)\ttotal: 3m 17s\tremaining: 1m 28s\n",
      "830:\tlearn: 1583.3083158\ttest: 1644.8543949\tbest: 1644.8543949 (830)\ttotal: 3m 18s\tremaining: 1m 27s\n",
      "831:\tlearn: 1583.1688120\ttest: 1644.7717193\tbest: 1644.7717193 (831)\ttotal: 3m 18s\tremaining: 1m 27s\n",
      "832:\tlearn: 1582.9852882\ttest: 1644.6905834\tbest: 1644.6905834 (832)\ttotal: 3m 18s\tremaining: 1m 27s\n",
      "833:\tlearn: 1582.9053115\ttest: 1644.6552722\tbest: 1644.6552722 (833)\ttotal: 3m 18s\tremaining: 1m 27s\n",
      "834:\tlearn: 1582.5527210\ttest: 1644.4325049\tbest: 1644.4325049 (834)\ttotal: 3m 19s\tremaining: 1m 27s\n",
      "835:\tlearn: 1582.4224984\ttest: 1644.3348805\tbest: 1644.3348805 (835)\ttotal: 3m 19s\tremaining: 1m 26s\n",
      "836:\tlearn: 1582.2959214\ttest: 1644.2880108\tbest: 1644.2880108 (836)\ttotal: 3m 19s\tremaining: 1m 26s\n",
      "837:\tlearn: 1581.9987627\ttest: 1644.0924579\tbest: 1644.0924579 (837)\ttotal: 3m 19s\tremaining: 1m 26s\n",
      "838:\tlearn: 1581.8577454\ttest: 1643.9596739\tbest: 1643.9596739 (838)\ttotal: 3m 20s\tremaining: 1m 26s\n",
      "839:\tlearn: 1581.6250327\ttest: 1643.8478721\tbest: 1643.8478721 (839)\ttotal: 3m 20s\tremaining: 1m 25s\n",
      "840:\tlearn: 1581.4359631\ttest: 1643.7383577\tbest: 1643.7383577 (840)\ttotal: 3m 20s\tremaining: 1m 25s\n",
      "841:\tlearn: 1581.3433150\ttest: 1643.7024147\tbest: 1643.7024147 (841)\ttotal: 3m 20s\tremaining: 1m 25s\n",
      "842:\tlearn: 1581.1483109\ttest: 1643.5921940\tbest: 1643.5921940 (842)\ttotal: 3m 21s\tremaining: 1m 25s\n",
      "843:\tlearn: 1581.0022612\ttest: 1643.5163149\tbest: 1643.5163149 (843)\ttotal: 3m 21s\tremaining: 1m 24s\n",
      "844:\tlearn: 1580.9261952\ttest: 1643.4903377\tbest: 1643.4903377 (844)\ttotal: 3m 21s\tremaining: 1m 24s\n",
      "845:\tlearn: 1580.8434171\ttest: 1643.4498196\tbest: 1643.4498196 (845)\ttotal: 3m 21s\tremaining: 1m 24s\n",
      "846:\tlearn: 1580.6302065\ttest: 1643.3339575\tbest: 1643.3339575 (846)\ttotal: 3m 22s\tremaining: 1m 24s\n",
      "847:\tlearn: 1580.5005359\ttest: 1643.2467229\tbest: 1643.2467229 (847)\ttotal: 3m 22s\tremaining: 1m 23s\n",
      "848:\tlearn: 1580.4184759\ttest: 1643.2072434\tbest: 1643.2072434 (848)\ttotal: 3m 22s\tremaining: 1m 23s\n",
      "849:\tlearn: 1580.3605880\ttest: 1643.1516660\tbest: 1643.1516660 (849)\ttotal: 3m 22s\tremaining: 1m 23s\n",
      "850:\tlearn: 1580.2291312\ttest: 1643.1105817\tbest: 1643.1105817 (850)\ttotal: 3m 22s\tremaining: 1m 23s\n",
      "851:\tlearn: 1580.1513759\ttest: 1643.0919743\tbest: 1643.0919743 (851)\ttotal: 3m 23s\tremaining: 1m 23s\n",
      "852:\tlearn: 1579.9892792\ttest: 1642.9825734\tbest: 1642.9825734 (852)\ttotal: 3m 23s\tremaining: 1m 22s\n",
      "853:\tlearn: 1579.7909115\ttest: 1642.8023234\tbest: 1642.8023234 (853)\ttotal: 3m 23s\tremaining: 1m 22s\n",
      "854:\tlearn: 1579.5230441\ttest: 1642.6343498\tbest: 1642.6343498 (854)\ttotal: 3m 23s\tremaining: 1m 22s\n",
      "855:\tlearn: 1579.3653356\ttest: 1642.5332321\tbest: 1642.5332321 (855)\ttotal: 3m 24s\tremaining: 1m 22s\n",
      "856:\tlearn: 1579.3279802\ttest: 1642.5259239\tbest: 1642.5259239 (856)\ttotal: 3m 24s\tremaining: 1m 21s\n",
      "857:\tlearn: 1579.2234941\ttest: 1642.4843826\tbest: 1642.4843826 (857)\ttotal: 3m 24s\tremaining: 1m 21s\n",
      "858:\tlearn: 1579.1723552\ttest: 1642.4541281\tbest: 1642.4541281 (858)\ttotal: 3m 24s\tremaining: 1m 21s\n",
      "859:\tlearn: 1579.0011732\ttest: 1642.3838165\tbest: 1642.3838165 (859)\ttotal: 3m 25s\tremaining: 1m 21s\n",
      "860:\tlearn: 1578.8021992\ttest: 1642.2854551\tbest: 1642.2854551 (860)\ttotal: 3m 25s\tremaining: 1m 20s\n",
      "861:\tlearn: 1578.6041045\ttest: 1642.1962264\tbest: 1642.1962264 (861)\ttotal: 3m 25s\tremaining: 1m 20s\n",
      "862:\tlearn: 1578.4412031\ttest: 1642.1380060\tbest: 1642.1380060 (862)\ttotal: 3m 25s\tremaining: 1m 20s\n",
      "863:\tlearn: 1578.2873115\ttest: 1642.1082752\tbest: 1642.1082752 (863)\ttotal: 3m 26s\tremaining: 1m 20s\n",
      "864:\tlearn: 1578.1273097\ttest: 1642.0352092\tbest: 1642.0352092 (864)\ttotal: 3m 26s\tremaining: 1m 19s\n",
      "865:\tlearn: 1578.0025510\ttest: 1641.9509120\tbest: 1641.9509120 (865)\ttotal: 3m 26s\tremaining: 1m 19s\n",
      "866:\tlearn: 1577.8983854\ttest: 1641.8787192\tbest: 1641.8787192 (866)\ttotal: 3m 26s\tremaining: 1m 19s\n",
      "867:\tlearn: 1577.5827828\ttest: 1641.6961687\tbest: 1641.6961687 (867)\ttotal: 3m 27s\tremaining: 1m 19s\n",
      "868:\tlearn: 1577.3939635\ttest: 1641.6075149\tbest: 1641.6075149 (868)\ttotal: 3m 27s\tremaining: 1m 18s\n",
      "869:\tlearn: 1577.3101935\ttest: 1641.5581614\tbest: 1641.5581614 (869)\ttotal: 3m 27s\tremaining: 1m 18s\n",
      "870:\tlearn: 1577.1981300\ttest: 1641.5350290\tbest: 1641.5350290 (870)\ttotal: 3m 27s\tremaining: 1m 18s\n",
      "871:\tlearn: 1577.0344157\ttest: 1641.4431161\tbest: 1641.4431161 (871)\ttotal: 3m 28s\tremaining: 1m 18s\n",
      "872:\tlearn: 1576.9256288\ttest: 1641.3736565\tbest: 1641.3736565 (872)\ttotal: 3m 28s\tremaining: 1m 18s\n",
      "873:\tlearn: 1576.8676050\ttest: 1641.3238782\tbest: 1641.3238782 (873)\ttotal: 3m 28s\tremaining: 1m 17s\n",
      "874:\tlearn: 1576.6787870\ttest: 1641.2278870\tbest: 1641.2278870 (874)\ttotal: 3m 28s\tremaining: 1m 17s\n",
      "875:\tlearn: 1576.6082928\ttest: 1641.1925663\tbest: 1641.1925663 (875)\ttotal: 3m 28s\tremaining: 1m 17s\n",
      "876:\tlearn: 1576.5050342\ttest: 1641.1361700\tbest: 1641.1361700 (876)\ttotal: 3m 29s\tremaining: 1m 17s\n",
      "877:\tlearn: 1576.3296195\ttest: 1641.0243021\tbest: 1641.0243021 (877)\ttotal: 3m 29s\tremaining: 1m 16s\n",
      "878:\tlearn: 1576.1945100\ttest: 1640.9249710\tbest: 1640.9249710 (878)\ttotal: 3m 29s\tremaining: 1m 16s\n",
      "879:\tlearn: 1576.0370521\ttest: 1640.8431818\tbest: 1640.8431818 (879)\ttotal: 3m 29s\tremaining: 1m 16s\n",
      "880:\tlearn: 1575.7646493\ttest: 1640.6848795\tbest: 1640.6848795 (880)\ttotal: 3m 30s\tremaining: 1m 16s\n",
      "881:\tlearn: 1575.6047985\ttest: 1640.6041387\tbest: 1640.6041387 (881)\ttotal: 3m 30s\tremaining: 1m 15s\n",
      "882:\tlearn: 1575.5086987\ttest: 1640.5209952\tbest: 1640.5209952 (882)\ttotal: 3m 30s\tremaining: 1m 15s\n",
      "883:\tlearn: 1575.4588856\ttest: 1640.4986669\tbest: 1640.4986669 (883)\ttotal: 3m 30s\tremaining: 1m 15s\n",
      "884:\tlearn: 1575.3106316\ttest: 1640.4691103\tbest: 1640.4691103 (884)\ttotal: 3m 30s\tremaining: 1m 15s\n",
      "885:\tlearn: 1575.2389382\ttest: 1640.4376050\tbest: 1640.4376050 (885)\ttotal: 3m 31s\tremaining: 1m 14s\n",
      "886:\tlearn: 1575.1443738\ttest: 1640.4300284\tbest: 1640.4300284 (886)\ttotal: 3m 31s\tremaining: 1m 14s\n",
      "887:\tlearn: 1574.9682796\ttest: 1640.3331221\tbest: 1640.3331221 (887)\ttotal: 3m 31s\tremaining: 1m 14s\n",
      "888:\tlearn: 1574.8502285\ttest: 1640.2883904\tbest: 1640.2883904 (888)\ttotal: 3m 32s\tremaining: 1m 14s\n",
      "889:\tlearn: 1574.7858581\ttest: 1640.2691790\tbest: 1640.2691790 (889)\ttotal: 3m 32s\tremaining: 1m 13s\n",
      "890:\tlearn: 1574.6935252\ttest: 1640.2434529\tbest: 1640.2434529 (890)\ttotal: 3m 32s\tremaining: 1m 13s\n",
      "891:\tlearn: 1574.6408832\ttest: 1640.2164659\tbest: 1640.2164659 (891)\ttotal: 3m 32s\tremaining: 1m 13s\n",
      "892:\tlearn: 1574.4785309\ttest: 1640.0884242\tbest: 1640.0884242 (892)\ttotal: 3m 32s\tremaining: 1m 13s\n",
      "893:\tlearn: 1574.4649792\ttest: 1640.0760931\tbest: 1640.0760931 (893)\ttotal: 3m 33s\tremaining: 1m 12s\n",
      "894:\tlearn: 1574.3033012\ttest: 1639.9750037\tbest: 1639.9750037 (894)\ttotal: 3m 33s\tremaining: 1m 12s\n",
      "895:\tlearn: 1574.1403839\ttest: 1639.8956604\tbest: 1639.8956604 (895)\ttotal: 3m 33s\tremaining: 1m 12s\n",
      "896:\tlearn: 1573.9300183\ttest: 1639.7844927\tbest: 1639.7844927 (896)\ttotal: 3m 33s\tremaining: 1m 12s\n",
      "897:\tlearn: 1573.8216570\ttest: 1639.7094976\tbest: 1639.7094976 (897)\ttotal: 3m 33s\tremaining: 1m 11s\n",
      "898:\tlearn: 1573.6227118\ttest: 1639.6159731\tbest: 1639.6159731 (898)\ttotal: 3m 34s\tremaining: 1m 11s\n",
      "899:\tlearn: 1573.4993181\ttest: 1639.5443175\tbest: 1639.5443175 (899)\ttotal: 3m 34s\tremaining: 1m 11s\n",
      "900:\tlearn: 1573.4039177\ttest: 1639.4651199\tbest: 1639.4651199 (900)\ttotal: 3m 34s\tremaining: 1m 11s\n",
      "901:\tlearn: 1573.2458001\ttest: 1639.3711983\tbest: 1639.3711983 (901)\ttotal: 3m 34s\tremaining: 1m 10s\n",
      "902:\tlearn: 1573.1585961\ttest: 1639.3158614\tbest: 1639.3158614 (902)\ttotal: 3m 34s\tremaining: 1m 10s\n",
      "903:\tlearn: 1573.0757425\ttest: 1639.2564753\tbest: 1639.2564753 (903)\ttotal: 3m 35s\tremaining: 1m 10s\n",
      "904:\tlearn: 1573.0089817\ttest: 1639.2334544\tbest: 1639.2334544 (904)\ttotal: 3m 35s\tremaining: 1m 10s\n",
      "905:\tlearn: 1572.8402893\ttest: 1639.1251969\tbest: 1639.1251969 (905)\ttotal: 3m 35s\tremaining: 1m 9s\n",
      "906:\tlearn: 1572.5771644\ttest: 1638.9160921\tbest: 1638.9160921 (906)\ttotal: 3m 35s\tremaining: 1m 9s\n",
      "907:\tlearn: 1572.4016686\ttest: 1638.8070068\tbest: 1638.8070068 (907)\ttotal: 3m 36s\tremaining: 1m 9s\n",
      "908:\tlearn: 1572.2309966\ttest: 1638.7278483\tbest: 1638.7278483 (908)\ttotal: 3m 36s\tremaining: 1m 9s\n",
      "909:\tlearn: 1572.1710052\ttest: 1638.7090262\tbest: 1638.7090262 (909)\ttotal: 3m 36s\tremaining: 1m 9s\n",
      "910:\tlearn: 1572.0071300\ttest: 1638.6272364\tbest: 1638.6272364 (910)\ttotal: 3m 36s\tremaining: 1m 8s\n",
      "911:\tlearn: 1571.8835035\ttest: 1638.5921410\tbest: 1638.5921410 (911)\ttotal: 3m 37s\tremaining: 1m 8s\n",
      "912:\tlearn: 1571.7198414\ttest: 1638.4829188\tbest: 1638.4829188 (912)\ttotal: 3m 37s\tremaining: 1m 8s\n",
      "913:\tlearn: 1571.6246842\ttest: 1638.4257037\tbest: 1638.4257037 (913)\ttotal: 3m 37s\tremaining: 1m 8s\n",
      "914:\tlearn: 1571.5190554\ttest: 1638.3819505\tbest: 1638.3819505 (914)\ttotal: 3m 37s\tremaining: 1m 7s\n",
      "915:\tlearn: 1571.3628406\ttest: 1638.2740685\tbest: 1638.2740685 (915)\ttotal: 3m 38s\tremaining: 1m 7s\n",
      "916:\tlearn: 1571.2330283\ttest: 1638.2081689\tbest: 1638.2081689 (916)\ttotal: 3m 38s\tremaining: 1m 7s\n",
      "917:\tlearn: 1571.0722193\ttest: 1638.0825772\tbest: 1638.0825772 (917)\ttotal: 3m 38s\tremaining: 1m 7s\n",
      "918:\tlearn: 1570.9636477\ttest: 1638.0520848\tbest: 1638.0520848 (918)\ttotal: 3m 38s\tremaining: 1m 6s\n",
      "919:\tlearn: 1570.7794746\ttest: 1637.9767358\tbest: 1637.9767358 (919)\ttotal: 3m 39s\tremaining: 1m 6s\n",
      "920:\tlearn: 1570.7174006\ttest: 1637.9576450\tbest: 1637.9576450 (920)\ttotal: 3m 39s\tremaining: 1m 6s\n",
      "921:\tlearn: 1570.6522036\ttest: 1637.9555653\tbest: 1637.9555653 (921)\ttotal: 3m 39s\tremaining: 1m 6s\n",
      "922:\tlearn: 1570.5187802\ttest: 1637.9045572\tbest: 1637.9045572 (922)\ttotal: 3m 39s\tremaining: 1m 5s\n",
      "923:\tlearn: 1570.3167826\ttest: 1637.8148590\tbest: 1637.8148590 (923)\ttotal: 3m 40s\tremaining: 1m 5s\n",
      "924:\tlearn: 1570.2304679\ttest: 1637.8100939\tbest: 1637.8100939 (924)\ttotal: 3m 40s\tremaining: 1m 5s\n",
      "925:\tlearn: 1569.9873128\ttest: 1637.7189164\tbest: 1637.7189164 (925)\ttotal: 3m 40s\tremaining: 1m 5s\n",
      "926:\tlearn: 1569.8277767\ttest: 1637.6740451\tbest: 1637.6740451 (926)\ttotal: 3m 40s\tremaining: 1m 5s\n",
      "927:\tlearn: 1569.7253737\ttest: 1637.6069450\tbest: 1637.6069450 (927)\ttotal: 3m 41s\tremaining: 1m 4s\n",
      "928:\tlearn: 1569.5370240\ttest: 1637.4676222\tbest: 1637.4676222 (928)\ttotal: 3m 41s\tremaining: 1m 4s\n",
      "929:\tlearn: 1569.3970054\ttest: 1637.3737566\tbest: 1637.3737566 (929)\ttotal: 3m 41s\tremaining: 1m 4s\n",
      "930:\tlearn: 1569.1821697\ttest: 1637.2621959\tbest: 1637.2621959 (930)\ttotal: 3m 41s\tremaining: 1m 4s\n",
      "931:\tlearn: 1569.0734733\ttest: 1637.2057873\tbest: 1637.2057873 (931)\ttotal: 3m 42s\tremaining: 1m 3s\n",
      "932:\tlearn: 1569.0268881\ttest: 1637.1782631\tbest: 1637.1782631 (932)\ttotal: 3m 42s\tremaining: 1m 3s\n",
      "933:\tlearn: 1568.8651715\ttest: 1637.0724653\tbest: 1637.0724653 (933)\ttotal: 3m 42s\tremaining: 1m 3s\n",
      "934:\tlearn: 1568.6916729\ttest: 1637.0079949\tbest: 1637.0079949 (934)\ttotal: 3m 42s\tremaining: 1m 3s\n",
      "935:\tlearn: 1568.5523754\ttest: 1636.9285913\tbest: 1636.9285913 (935)\ttotal: 3m 43s\tremaining: 1m 2s\n",
      "936:\tlearn: 1568.4537357\ttest: 1636.8685580\tbest: 1636.8685580 (936)\ttotal: 3m 43s\tremaining: 1m 2s\n",
      "937:\tlearn: 1568.2657571\ttest: 1636.7756224\tbest: 1636.7756224 (937)\ttotal: 3m 43s\tremaining: 1m 2s\n",
      "938:\tlearn: 1568.1831247\ttest: 1636.7377580\tbest: 1636.7377580 (938)\ttotal: 3m 43s\tremaining: 1m 2s\n",
      "939:\tlearn: 1568.0515160\ttest: 1636.6751515\tbest: 1636.6751515 (939)\ttotal: 3m 44s\tremaining: 1m 1s\n",
      "940:\tlearn: 1567.8872704\ttest: 1636.5854138\tbest: 1636.5854138 (940)\ttotal: 3m 44s\tremaining: 1m 1s\n",
      "941:\tlearn: 1567.8100408\ttest: 1636.5834110\tbest: 1636.5834110 (941)\ttotal: 3m 44s\tremaining: 1m 1s\n",
      "942:\tlearn: 1567.7457252\ttest: 1636.5507834\tbest: 1636.5507834 (942)\ttotal: 3m 44s\tremaining: 1m 1s\n",
      "943:\tlearn: 1567.6429527\ttest: 1636.5234881\tbest: 1636.5234881 (943)\ttotal: 3m 45s\tremaining: 1m 1s\n",
      "944:\tlearn: 1567.4787531\ttest: 1636.4571375\tbest: 1636.4571375 (944)\ttotal: 3m 45s\tremaining: 1m\n",
      "945:\tlearn: 1567.3968879\ttest: 1636.3929952\tbest: 1636.3929952 (945)\ttotal: 3m 45s\tremaining: 1m\n",
      "946:\tlearn: 1567.2624669\ttest: 1636.2775226\tbest: 1636.2775226 (946)\ttotal: 3m 45s\tremaining: 1m\n",
      "947:\tlearn: 1567.1405671\ttest: 1636.2416708\tbest: 1636.2416708 (947)\ttotal: 3m 45s\tremaining: 1m\n",
      "948:\tlearn: 1566.9709015\ttest: 1636.1582185\tbest: 1636.1582185 (948)\ttotal: 3m 46s\tremaining: 59.8s\n",
      "949:\tlearn: 1566.8376664\ttest: 1636.0833424\tbest: 1636.0833424 (949)\ttotal: 3m 46s\tremaining: 59.6s\n",
      "950:\tlearn: 1566.7084576\ttest: 1636.0160542\tbest: 1636.0160542 (950)\ttotal: 3m 46s\tremaining: 59.3s\n",
      "951:\tlearn: 1566.6844566\ttest: 1636.0062342\tbest: 1636.0062342 (951)\ttotal: 3m 46s\tremaining: 59.1s\n",
      "952:\tlearn: 1566.6180711\ttest: 1635.9605519\tbest: 1635.9605519 (952)\ttotal: 3m 47s\tremaining: 58.9s\n",
      "953:\tlearn: 1566.5381163\ttest: 1635.9338943\tbest: 1635.9338943 (953)\ttotal: 3m 47s\tremaining: 58.6s\n",
      "954:\tlearn: 1566.4321337\ttest: 1635.8884408\tbest: 1635.8884408 (954)\ttotal: 3m 47s\tremaining: 58.4s\n",
      "955:\tlearn: 1566.3274434\ttest: 1635.8257091\tbest: 1635.8257091 (955)\ttotal: 3m 47s\tremaining: 58.1s\n",
      "956:\tlearn: 1566.3189302\ttest: 1635.8251628\tbest: 1635.8251628 (956)\ttotal: 3m 48s\tremaining: 57.9s\n",
      "957:\tlearn: 1566.2467939\ttest: 1635.8229695\tbest: 1635.8229695 (957)\ttotal: 3m 48s\tremaining: 57.7s\n",
      "958:\tlearn: 1566.1759865\ttest: 1635.8286257\tbest: 1635.8229695 (957)\ttotal: 3m 48s\tremaining: 57.4s\n",
      "959:\tlearn: 1566.1221491\ttest: 1635.8191540\tbest: 1635.8191540 (959)\ttotal: 3m 48s\tremaining: 57.2s\n",
      "960:\tlearn: 1566.0237082\ttest: 1635.7640422\tbest: 1635.7640422 (960)\ttotal: 3m 49s\tremaining: 57s\n",
      "961:\tlearn: 1565.9488988\ttest: 1635.7330485\tbest: 1635.7330485 (961)\ttotal: 3m 49s\tremaining: 56.7s\n",
      "962:\tlearn: 1565.8662148\ttest: 1635.6987805\tbest: 1635.6987805 (962)\ttotal: 3m 49s\tremaining: 56.5s\n",
      "963:\tlearn: 1565.7205549\ttest: 1635.5859308\tbest: 1635.5859308 (963)\ttotal: 3m 49s\tremaining: 56.3s\n",
      "964:\tlearn: 1565.5768529\ttest: 1635.5263024\tbest: 1635.5263024 (964)\ttotal: 3m 50s\tremaining: 56s\n",
      "965:\tlearn: 1565.2585836\ttest: 1635.3046305\tbest: 1635.3046305 (965)\ttotal: 3m 50s\tremaining: 55.8s\n",
      "966:\tlearn: 1565.0949544\ttest: 1635.2212062\tbest: 1635.2212062 (966)\ttotal: 3m 50s\tremaining: 55.6s\n",
      "967:\tlearn: 1565.0624210\ttest: 1635.2160895\tbest: 1635.2160895 (967)\ttotal: 3m 50s\tremaining: 55.3s\n",
      "968:\tlearn: 1565.0470964\ttest: 1635.2137769\tbest: 1635.2137769 (968)\ttotal: 3m 50s\tremaining: 55.1s\n",
      "969:\tlearn: 1564.8757625\ttest: 1635.1462272\tbest: 1635.1462272 (969)\ttotal: 3m 51s\tremaining: 54.8s\n",
      "970:\tlearn: 1564.7894307\ttest: 1635.1025613\tbest: 1635.1025613 (970)\ttotal: 3m 51s\tremaining: 54.6s\n",
      "971:\tlearn: 1564.5937655\ttest: 1634.9658980\tbest: 1634.9658980 (971)\ttotal: 3m 51s\tremaining: 54.4s\n",
      "972:\tlearn: 1564.5105584\ttest: 1634.9246302\tbest: 1634.9246302 (972)\ttotal: 3m 52s\tremaining: 54.1s\n",
      "973:\tlearn: 1564.4152728\ttest: 1634.8697923\tbest: 1634.8697923 (973)\ttotal: 3m 52s\tremaining: 53.9s\n",
      "974:\tlearn: 1564.3290566\ttest: 1634.8123753\tbest: 1634.8123753 (974)\ttotal: 3m 52s\tremaining: 53.7s\n",
      "975:\tlearn: 1564.2124093\ttest: 1634.7340634\tbest: 1634.7340634 (975)\ttotal: 3m 52s\tremaining: 53.4s\n",
      "976:\tlearn: 1564.0591956\ttest: 1634.6640390\tbest: 1634.6640390 (976)\ttotal: 3m 53s\tremaining: 53.2s\n",
      "977:\tlearn: 1564.0301444\ttest: 1634.6506122\tbest: 1634.6506122 (977)\ttotal: 3m 53s\tremaining: 53s\n",
      "978:\tlearn: 1563.8859664\ttest: 1634.5737974\tbest: 1634.5737974 (978)\ttotal: 3m 53s\tremaining: 52.7s\n",
      "979:\tlearn: 1563.8577925\ttest: 1634.5609904\tbest: 1634.5609904 (979)\ttotal: 3m 53s\tremaining: 52.5s\n",
      "980:\tlearn: 1563.5579026\ttest: 1634.3420159\tbest: 1634.3420159 (980)\ttotal: 3m 54s\tremaining: 52.3s\n",
      "981:\tlearn: 1563.4926600\ttest: 1634.3242714\tbest: 1634.3242714 (981)\ttotal: 3m 54s\tremaining: 52s\n",
      "982:\tlearn: 1563.4274123\ttest: 1634.2991855\tbest: 1634.2991855 (982)\ttotal: 3m 54s\tremaining: 51.8s\n",
      "983:\tlearn: 1563.3441650\ttest: 1634.2904557\tbest: 1634.2904557 (983)\ttotal: 3m 54s\tremaining: 51.5s\n",
      "984:\tlearn: 1563.3169542\ttest: 1634.2783026\tbest: 1634.2783026 (984)\ttotal: 3m 55s\tremaining: 51.3s\n",
      "985:\tlearn: 1563.2905694\ttest: 1634.2667395\tbest: 1634.2667395 (985)\ttotal: 3m 55s\tremaining: 51s\n",
      "986:\tlearn: 1563.1559309\ttest: 1634.2115783\tbest: 1634.2115783 (986)\ttotal: 3m 55s\tremaining: 50.8s\n",
      "987:\tlearn: 1562.9436196\ttest: 1634.0824797\tbest: 1634.0824797 (987)\ttotal: 3m 55s\tremaining: 50.6s\n",
      "988:\tlearn: 1562.8203694\ttest: 1634.0298978\tbest: 1634.0298978 (988)\ttotal: 3m 55s\tremaining: 50.3s\n",
      "989:\tlearn: 1562.6600145\ttest: 1633.9317231\tbest: 1633.9317231 (989)\ttotal: 3m 56s\tremaining: 50.1s\n",
      "990:\tlearn: 1562.5342631\ttest: 1633.8581691\tbest: 1633.8581691 (990)\ttotal: 3m 56s\tremaining: 49.9s\n",
      "991:\tlearn: 1562.3825241\ttest: 1633.7969670\tbest: 1633.7969670 (991)\ttotal: 3m 56s\tremaining: 49.6s\n",
      "992:\tlearn: 1562.2405349\ttest: 1633.7059588\tbest: 1633.7059588 (992)\ttotal: 3m 56s\tremaining: 49.4s\n",
      "993:\tlearn: 1562.0598837\ttest: 1633.6072281\tbest: 1633.6072281 (993)\ttotal: 3m 57s\tremaining: 49.2s\n",
      "994:\tlearn: 1561.9879753\ttest: 1633.5897841\tbest: 1633.5897841 (994)\ttotal: 3m 57s\tremaining: 48.9s\n",
      "995:\tlearn: 1561.9370016\ttest: 1633.5663246\tbest: 1633.5663246 (995)\ttotal: 3m 57s\tremaining: 48.7s\n",
      "996:\tlearn: 1561.8166698\ttest: 1633.5122072\tbest: 1633.5122072 (996)\ttotal: 3m 58s\tremaining: 48.5s\n",
      "997:\tlearn: 1561.7013621\ttest: 1633.4600730\tbest: 1633.4600730 (997)\ttotal: 3m 58s\tremaining: 48.2s\n",
      "998:\tlearn: 1561.5940792\ttest: 1633.4332139\tbest: 1633.4332139 (998)\ttotal: 3m 58s\tremaining: 48s\n",
      "999:\tlearn: 1561.5597605\ttest: 1633.4153191\tbest: 1633.4153191 (999)\ttotal: 3m 58s\tremaining: 47.7s\n",
      "1000:\tlearn: 1561.4151381\ttest: 1633.3571276\tbest: 1633.3571276 (1000)\ttotal: 3m 59s\tremaining: 47.5s\n",
      "1001:\tlearn: 1561.2819707\ttest: 1633.3054347\tbest: 1633.3054347 (1001)\ttotal: 3m 59s\tremaining: 47.3s\n",
      "1002:\tlearn: 1561.1120508\ttest: 1633.2273358\tbest: 1633.2273358 (1002)\ttotal: 3m 59s\tremaining: 47s\n",
      "1003:\tlearn: 1561.0015721\ttest: 1633.1628573\tbest: 1633.1628573 (1003)\ttotal: 3m 59s\tremaining: 46.8s\n",
      "1004:\tlearn: 1560.9006154\ttest: 1633.0866599\tbest: 1633.0866599 (1004)\ttotal: 4m\tremaining: 46.6s\n",
      "1005:\tlearn: 1560.8020338\ttest: 1633.0292164\tbest: 1633.0292164 (1005)\ttotal: 4m\tremaining: 46.3s\n",
      "1006:\tlearn: 1560.6311231\ttest: 1632.9243078\tbest: 1632.9243078 (1006)\ttotal: 4m\tremaining: 46.1s\n",
      "1007:\tlearn: 1560.5179066\ttest: 1632.8608286\tbest: 1632.8608286 (1007)\ttotal: 4m\tremaining: 45.9s\n",
      "1008:\tlearn: 1560.4595380\ttest: 1632.8396328\tbest: 1632.8396328 (1008)\ttotal: 4m 1s\tremaining: 45.6s\n",
      "1009:\tlearn: 1560.3658416\ttest: 1632.7942355\tbest: 1632.7942355 (1009)\ttotal: 4m 1s\tremaining: 45.4s\n",
      "1010:\tlearn: 1560.2736064\ttest: 1632.7289680\tbest: 1632.7289680 (1010)\ttotal: 4m 1s\tremaining: 45.2s\n",
      "1011:\tlearn: 1560.2351232\ttest: 1632.7047125\tbest: 1632.7047125 (1011)\ttotal: 4m 1s\tremaining: 44.9s\n",
      "1012:\tlearn: 1560.1762919\ttest: 1632.6811267\tbest: 1632.6811267 (1012)\ttotal: 4m 2s\tremaining: 44.7s\n",
      "1013:\tlearn: 1560.0357946\ttest: 1632.5904244\tbest: 1632.5904244 (1013)\ttotal: 4m 2s\tremaining: 44.4s\n",
      "1014:\tlearn: 1560.0091344\ttest: 1632.5957783\tbest: 1632.5904244 (1013)\ttotal: 4m 2s\tremaining: 44.2s\n",
      "1015:\tlearn: 1559.8437101\ttest: 1632.5220974\tbest: 1632.5220974 (1015)\ttotal: 4m 2s\tremaining: 44s\n",
      "1016:\tlearn: 1559.6537776\ttest: 1632.4282983\tbest: 1632.4282983 (1016)\ttotal: 4m 3s\tremaining: 43.7s\n",
      "1017:\tlearn: 1559.6171329\ttest: 1632.4054716\tbest: 1632.4054716 (1017)\ttotal: 4m 3s\tremaining: 43.5s\n",
      "1018:\tlearn: 1559.4858800\ttest: 1632.3277450\tbest: 1632.3277450 (1018)\ttotal: 4m 3s\tremaining: 43.3s\n",
      "1019:\tlearn: 1559.2798372\ttest: 1632.2495433\tbest: 1632.2495433 (1019)\ttotal: 4m 3s\tremaining: 43s\n",
      "1020:\tlearn: 1559.1250265\ttest: 1632.1697397\tbest: 1632.1697397 (1020)\ttotal: 4m 4s\tremaining: 42.8s\n",
      "1021:\tlearn: 1559.0360481\ttest: 1632.1298223\tbest: 1632.1298223 (1021)\ttotal: 4m 4s\tremaining: 42.5s\n",
      "1022:\tlearn: 1558.9569801\ttest: 1632.0719993\tbest: 1632.0719993 (1022)\ttotal: 4m 4s\tremaining: 42.3s\n",
      "1023:\tlearn: 1558.8459555\ttest: 1632.0345533\tbest: 1632.0345533 (1023)\ttotal: 4m 4s\tremaining: 42.1s\n",
      "1024:\tlearn: 1558.7083735\ttest: 1631.9805273\tbest: 1631.9805273 (1024)\ttotal: 4m 5s\tremaining: 41.8s\n",
      "1025:\tlearn: 1558.5738559\ttest: 1631.9036103\tbest: 1631.9036103 (1025)\ttotal: 4m 5s\tremaining: 41.6s\n",
      "1026:\tlearn: 1558.5137651\ttest: 1631.8840772\tbest: 1631.8840772 (1026)\ttotal: 4m 5s\tremaining: 41.4s\n",
      "1027:\tlearn: 1558.4885306\ttest: 1631.8837374\tbest: 1631.8837374 (1027)\ttotal: 4m 5s\tremaining: 41.1s\n",
      "1028:\tlearn: 1558.3834107\ttest: 1631.8322363\tbest: 1631.8322363 (1028)\ttotal: 4m 6s\tremaining: 40.9s\n",
      "1029:\tlearn: 1558.2210194\ttest: 1631.7801733\tbest: 1631.7801733 (1029)\ttotal: 4m 6s\tremaining: 40.6s\n",
      "1030:\tlearn: 1558.1077407\ttest: 1631.7639889\tbest: 1631.7639889 (1030)\ttotal: 4m 6s\tremaining: 40.4s\n",
      "1031:\tlearn: 1558.0582643\ttest: 1631.7480193\tbest: 1631.7480193 (1031)\ttotal: 4m 6s\tremaining: 40.2s\n",
      "1032:\tlearn: 1557.9486616\ttest: 1631.6960247\tbest: 1631.6960247 (1032)\ttotal: 4m 7s\tremaining: 39.9s\n",
      "1033:\tlearn: 1557.8056063\ttest: 1631.6421895\tbest: 1631.6421895 (1033)\ttotal: 4m 7s\tremaining: 39.7s\n",
      "1034:\tlearn: 1557.7267178\ttest: 1631.5930505\tbest: 1631.5930505 (1034)\ttotal: 4m 7s\tremaining: 39.5s\n",
      "1035:\tlearn: 1557.6670584\ttest: 1631.5709266\tbest: 1631.5709266 (1035)\ttotal: 4m 7s\tremaining: 39.2s\n",
      "1036:\tlearn: 1557.6035729\ttest: 1631.5460468\tbest: 1631.5460468 (1036)\ttotal: 4m 8s\tremaining: 39s\n",
      "1037:\tlearn: 1557.4527310\ttest: 1631.4752204\tbest: 1631.4752204 (1037)\ttotal: 4m 8s\tremaining: 38.8s\n",
      "1038:\tlearn: 1557.3609508\ttest: 1631.4534994\tbest: 1631.4534994 (1038)\ttotal: 4m 8s\tremaining: 38.5s\n",
      "1039:\tlearn: 1557.2542288\ttest: 1631.4154658\tbest: 1631.4154658 (1039)\ttotal: 4m 8s\tremaining: 38.3s\n",
      "1040:\tlearn: 1557.1724800\ttest: 1631.3815509\tbest: 1631.3815509 (1040)\ttotal: 4m 9s\tremaining: 38s\n",
      "1041:\tlearn: 1557.0995900\ttest: 1631.3446591\tbest: 1631.3446591 (1041)\ttotal: 4m 9s\tremaining: 37.8s\n",
      "1042:\tlearn: 1556.8412476\ttest: 1631.2203012\tbest: 1631.2203012 (1042)\ttotal: 4m 9s\tremaining: 37.6s\n",
      "1043:\tlearn: 1556.8286842\ttest: 1631.2193392\tbest: 1631.2193392 (1043)\ttotal: 4m 9s\tremaining: 37.3s\n",
      "1044:\tlearn: 1556.7486353\ttest: 1631.1790558\tbest: 1631.1790558 (1044)\ttotal: 4m 9s\tremaining: 37.1s\n",
      "1045:\tlearn: 1556.7246919\ttest: 1631.1790255\tbest: 1631.1790255 (1045)\ttotal: 4m 10s\tremaining: 36.8s\n",
      "1046:\tlearn: 1556.5930985\ttest: 1631.1096354\tbest: 1631.1096354 (1046)\ttotal: 4m 10s\tremaining: 36.6s\n",
      "1047:\tlearn: 1556.5163059\ttest: 1631.0809450\tbest: 1631.0809450 (1047)\ttotal: 4m 10s\tremaining: 36.4s\n",
      "1048:\tlearn: 1556.4637093\ttest: 1631.0567060\tbest: 1631.0567060 (1048)\ttotal: 4m 11s\tremaining: 36.1s\n",
      "1049:\tlearn: 1556.3563714\ttest: 1631.0122621\tbest: 1631.0122621 (1049)\ttotal: 4m 11s\tremaining: 35.9s\n",
      "1050:\tlearn: 1556.2520764\ttest: 1630.9628578\tbest: 1630.9628578 (1050)\ttotal: 4m 11s\tremaining: 35.7s\n",
      "1051:\tlearn: 1556.1634557\ttest: 1630.9208212\tbest: 1630.9208212 (1051)\ttotal: 4m 11s\tremaining: 35.4s\n",
      "1052:\tlearn: 1556.0776415\ttest: 1630.8677920\tbest: 1630.8677920 (1052)\ttotal: 4m 12s\tremaining: 35.2s\n",
      "1053:\tlearn: 1555.9492375\ttest: 1630.8171999\tbest: 1630.8171999 (1053)\ttotal: 4m 12s\tremaining: 35s\n",
      "1054:\tlearn: 1555.8557225\ttest: 1630.7980324\tbest: 1630.7980324 (1054)\ttotal: 4m 12s\tremaining: 34.7s\n",
      "1055:\tlearn: 1555.7767843\ttest: 1630.7706707\tbest: 1630.7706707 (1055)\ttotal: 4m 12s\tremaining: 34.5s\n",
      "1056:\tlearn: 1555.6697468\ttest: 1630.6895678\tbest: 1630.6895678 (1056)\ttotal: 4m 13s\tremaining: 34.2s\n",
      "1057:\tlearn: 1555.4907910\ttest: 1630.6044857\tbest: 1630.6044857 (1057)\ttotal: 4m 13s\tremaining: 34s\n",
      "1058:\tlearn: 1555.3170211\ttest: 1630.4951916\tbest: 1630.4951916 (1058)\ttotal: 4m 13s\tremaining: 33.8s\n",
      "1059:\tlearn: 1555.2298339\ttest: 1630.4706088\tbest: 1630.4706088 (1059)\ttotal: 4m 13s\tremaining: 33.5s\n",
      "1060:\tlearn: 1555.2014617\ttest: 1630.4617252\tbest: 1630.4617252 (1060)\ttotal: 4m 13s\tremaining: 33.3s\n",
      "1061:\tlearn: 1555.1621973\ttest: 1630.4375372\tbest: 1630.4375372 (1061)\ttotal: 4m 14s\tremaining: 33s\n",
      "1062:\tlearn: 1555.0179597\ttest: 1630.3979993\tbest: 1630.3979993 (1062)\ttotal: 4m 14s\tremaining: 32.8s\n",
      "1063:\tlearn: 1554.9596536\ttest: 1630.3699626\tbest: 1630.3699626 (1063)\ttotal: 4m 14s\tremaining: 32.6s\n",
      "1064:\tlearn: 1554.7767868\ttest: 1630.2723782\tbest: 1630.2723782 (1064)\ttotal: 4m 14s\tremaining: 32.3s\n",
      "1065:\tlearn: 1554.6405817\ttest: 1630.1943450\tbest: 1630.1943450 (1065)\ttotal: 4m 15s\tremaining: 32.1s\n",
      "1066:\tlearn: 1554.4557908\ttest: 1630.1072868\tbest: 1630.1072868 (1066)\ttotal: 4m 15s\tremaining: 31.8s\n",
      "1067:\tlearn: 1554.2791454\ttest: 1630.0351262\tbest: 1630.0351262 (1067)\ttotal: 4m 15s\tremaining: 31.6s\n",
      "1068:\tlearn: 1554.1743124\ttest: 1630.0122244\tbest: 1630.0122244 (1068)\ttotal: 4m 15s\tremaining: 31.4s\n",
      "1069:\tlearn: 1554.0582050\ttest: 1629.9599799\tbest: 1629.9599799 (1069)\ttotal: 4m 16s\tremaining: 31.1s\n",
      "1070:\tlearn: 1553.8994010\ttest: 1629.8653800\tbest: 1629.8653800 (1070)\ttotal: 4m 16s\tremaining: 30.9s\n",
      "1071:\tlearn: 1553.8112893\ttest: 1629.8468837\tbest: 1629.8468837 (1071)\ttotal: 4m 16s\tremaining: 30.7s\n",
      "1072:\tlearn: 1553.6495579\ttest: 1629.7522990\tbest: 1629.7522990 (1072)\ttotal: 4m 16s\tremaining: 30.4s\n",
      "1073:\tlearn: 1553.5669008\ttest: 1629.7081691\tbest: 1629.7081691 (1073)\ttotal: 4m 17s\tremaining: 30.2s\n",
      "1074:\tlearn: 1553.5571911\ttest: 1629.7090921\tbest: 1629.7081691 (1073)\ttotal: 4m 17s\tremaining: 29.9s\n",
      "1075:\tlearn: 1553.5195361\ttest: 1629.6860651\tbest: 1629.6860651 (1075)\ttotal: 4m 17s\tremaining: 29.7s\n",
      "1076:\tlearn: 1553.4347104\ttest: 1629.6366812\tbest: 1629.6366812 (1076)\ttotal: 4m 17s\tremaining: 29.5s\n",
      "1077:\tlearn: 1553.3445268\ttest: 1629.6218661\tbest: 1629.6218661 (1077)\ttotal: 4m 18s\tremaining: 29.2s\n",
      "1078:\tlearn: 1553.2854329\ttest: 1629.5913003\tbest: 1629.5913003 (1078)\ttotal: 4m 18s\tremaining: 29s\n",
      "1079:\tlearn: 1553.1935994\ttest: 1629.5448466\tbest: 1629.5448466 (1079)\ttotal: 4m 18s\tremaining: 28.8s\n",
      "1080:\tlearn: 1553.1344661\ttest: 1629.5195235\tbest: 1629.5195235 (1080)\ttotal: 4m 18s\tremaining: 28.5s\n",
      "1081:\tlearn: 1553.1080504\ttest: 1629.5150364\tbest: 1629.5150364 (1081)\ttotal: 4m 19s\tremaining: 28.3s\n",
      "1082:\tlearn: 1553.0502221\ttest: 1629.4854906\tbest: 1629.4854906 (1082)\ttotal: 4m 19s\tremaining: 28s\n",
      "1083:\tlearn: 1552.9261104\ttest: 1629.4217422\tbest: 1629.4217422 (1083)\ttotal: 4m 19s\tremaining: 27.8s\n",
      "1084:\tlearn: 1552.6035441\ttest: 1629.2266761\tbest: 1629.2266761 (1084)\ttotal: 4m 20s\tremaining: 27.6s\n",
      "1085:\tlearn: 1552.4911929\ttest: 1629.1512087\tbest: 1629.1512087 (1085)\ttotal: 4m 20s\tremaining: 27.3s\n",
      "1086:\tlearn: 1552.3060443\ttest: 1629.0569230\tbest: 1629.0569230 (1086)\ttotal: 4m 20s\tremaining: 27.1s\n",
      "1087:\tlearn: 1552.1616549\ttest: 1628.9555476\tbest: 1628.9555476 (1087)\ttotal: 4m 20s\tremaining: 26.8s\n",
      "1088:\tlearn: 1552.0346840\ttest: 1628.9106495\tbest: 1628.9106495 (1088)\ttotal: 4m 21s\tremaining: 26.6s\n",
      "1089:\tlearn: 1551.9643514\ttest: 1628.8784453\tbest: 1628.8784453 (1089)\ttotal: 4m 21s\tremaining: 26.4s\n",
      "1090:\tlearn: 1551.8277934\ttest: 1628.8071788\tbest: 1628.8071788 (1090)\ttotal: 4m 21s\tremaining: 26.1s\n",
      "1091:\tlearn: 1551.6674734\ttest: 1628.7367303\tbest: 1628.7367303 (1091)\ttotal: 4m 21s\tremaining: 25.9s\n",
      "1092:\tlearn: 1551.6103788\ttest: 1628.7163377\tbest: 1628.7163377 (1092)\ttotal: 4m 22s\tremaining: 25.7s\n",
      "1093:\tlearn: 1551.5020275\ttest: 1628.6692697\tbest: 1628.6692697 (1093)\ttotal: 4m 22s\tremaining: 25.4s\n",
      "1094:\tlearn: 1551.3759954\ttest: 1628.5919921\tbest: 1628.5919921 (1094)\ttotal: 4m 22s\tremaining: 25.2s\n",
      "1095:\tlearn: 1551.3058787\ttest: 1628.5418867\tbest: 1628.5418867 (1095)\ttotal: 4m 22s\tremaining: 24.9s\n",
      "1096:\tlearn: 1551.1467886\ttest: 1628.4495734\tbest: 1628.4495734 (1096)\ttotal: 4m 23s\tremaining: 24.7s\n",
      "1097:\tlearn: 1551.0775232\ttest: 1628.4063634\tbest: 1628.4063634 (1097)\ttotal: 4m 23s\tremaining: 24.5s\n",
      "1098:\tlearn: 1551.0088927\ttest: 1628.3621285\tbest: 1628.3621285 (1098)\ttotal: 4m 23s\tremaining: 24.2s\n",
      "1099:\tlearn: 1550.9913118\ttest: 1628.3707843\tbest: 1628.3621285 (1098)\ttotal: 4m 23s\tremaining: 24s\n",
      "1100:\tlearn: 1550.8549340\ttest: 1628.3250994\tbest: 1628.3250994 (1100)\ttotal: 4m 24s\tremaining: 23.8s\n",
      "1101:\tlearn: 1550.8377454\ttest: 1628.3337419\tbest: 1628.3250994 (1100)\ttotal: 4m 24s\tremaining: 23.5s\n",
      "1102:\tlearn: 1550.6827073\ttest: 1628.2450552\tbest: 1628.2450552 (1102)\ttotal: 4m 24s\tremaining: 23.3s\n",
      "1103:\tlearn: 1550.6572030\ttest: 1628.2318180\tbest: 1628.2318180 (1103)\ttotal: 4m 24s\tremaining: 23s\n",
      "1104:\tlearn: 1550.5053956\ttest: 1628.1640649\tbest: 1628.1640649 (1104)\ttotal: 4m 25s\tremaining: 22.8s\n",
      "1105:\tlearn: 1550.3689224\ttest: 1628.0541187\tbest: 1628.0541187 (1105)\ttotal: 4m 25s\tremaining: 22.5s\n",
      "1106:\tlearn: 1550.2754227\ttest: 1627.9805162\tbest: 1627.9805162 (1106)\ttotal: 4m 25s\tremaining: 22.3s\n",
      "1107:\tlearn: 1550.1676214\ttest: 1627.9165347\tbest: 1627.9165347 (1107)\ttotal: 4m 25s\tremaining: 22.1s\n",
      "1108:\tlearn: 1550.0572557\ttest: 1627.8811947\tbest: 1627.8811947 (1108)\ttotal: 4m 25s\tremaining: 21.8s\n",
      "1109:\tlearn: 1549.9348726\ttest: 1627.8529810\tbest: 1627.8529810 (1109)\ttotal: 4m 26s\tremaining: 21.6s\n",
      "1110:\tlearn: 1549.8462568\ttest: 1627.8302404\tbest: 1627.8302404 (1110)\ttotal: 4m 26s\tremaining: 21.3s\n",
      "1111:\tlearn: 1549.7168570\ttest: 1627.7582384\tbest: 1627.7582384 (1111)\ttotal: 4m 26s\tremaining: 21.1s\n",
      "1112:\tlearn: 1549.5660877\ttest: 1627.6606741\tbest: 1627.6606741 (1112)\ttotal: 4m 26s\tremaining: 20.9s\n",
      "1113:\tlearn: 1549.5459188\ttest: 1627.6679472\tbest: 1627.6606741 (1112)\ttotal: 4m 27s\tremaining: 20.6s\n",
      "1114:\tlearn: 1549.4600144\ttest: 1627.6200550\tbest: 1627.6200550 (1114)\ttotal: 4m 27s\tremaining: 20.4s\n",
      "1115:\tlearn: 1549.3945940\ttest: 1627.6113192\tbest: 1627.6113192 (1115)\ttotal: 4m 27s\tremaining: 20.1s\n",
      "1116:\tlearn: 1549.2439779\ttest: 1627.5506617\tbest: 1627.5506617 (1116)\ttotal: 4m 27s\tremaining: 19.9s\n",
      "1117:\tlearn: 1549.1725251\ttest: 1627.5246266\tbest: 1627.5246266 (1117)\ttotal: 4m 28s\tremaining: 19.7s\n",
      "1118:\tlearn: 1549.0813936\ttest: 1627.4891210\tbest: 1627.4891210 (1118)\ttotal: 4m 28s\tremaining: 19.4s\n",
      "1119:\tlearn: 1549.0143900\ttest: 1627.4603620\tbest: 1627.4603620 (1119)\ttotal: 4m 28s\tremaining: 19.2s\n",
      "1120:\tlearn: 1548.9968236\ttest: 1627.4568685\tbest: 1627.4568685 (1120)\ttotal: 4m 28s\tremaining: 18.9s\n",
      "1121:\tlearn: 1548.7040516\ttest: 1627.2834606\tbest: 1627.2834606 (1121)\ttotal: 4m 28s\tremaining: 18.7s\n",
      "1122:\tlearn: 1548.6390575\ttest: 1627.2396399\tbest: 1627.2396399 (1122)\ttotal: 4m 29s\tremaining: 18.5s\n",
      "1123:\tlearn: 1548.5732735\ttest: 1627.2085865\tbest: 1627.2085865 (1123)\ttotal: 4m 29s\tremaining: 18.2s\n",
      "1124:\tlearn: 1548.4029224\ttest: 1627.0630659\tbest: 1627.0630659 (1124)\ttotal: 4m 29s\tremaining: 18s\n",
      "1125:\tlearn: 1548.2559933\ttest: 1626.9797335\tbest: 1626.9797335 (1125)\ttotal: 4m 29s\tremaining: 17.7s\n",
      "1126:\tlearn: 1548.2390121\ttest: 1626.9765697\tbest: 1626.9765697 (1126)\ttotal: 4m 30s\tremaining: 17.5s\n",
      "1127:\tlearn: 1548.0593074\ttest: 1626.8528444\tbest: 1626.8528444 (1127)\ttotal: 4m 30s\tremaining: 17.3s\n",
      "1128:\tlearn: 1547.9873216\ttest: 1626.8141309\tbest: 1626.8141309 (1128)\ttotal: 4m 30s\tremaining: 17s\n",
      "1129:\tlearn: 1547.9191365\ttest: 1626.7849893\tbest: 1626.7849893 (1129)\ttotal: 4m 30s\tremaining: 16.8s\n",
      "1130:\tlearn: 1547.7344429\ttest: 1626.6544127\tbest: 1626.6544127 (1130)\ttotal: 4m 31s\tremaining: 16.5s\n",
      "1131:\tlearn: 1547.5895763\ttest: 1626.5651284\tbest: 1626.5651284 (1131)\ttotal: 4m 31s\tremaining: 16.3s\n",
      "1132:\tlearn: 1547.5701729\ttest: 1626.5724755\tbest: 1626.5651284 (1131)\ttotal: 4m 31s\tremaining: 16.1s\n",
      "1133:\tlearn: 1547.5077477\ttest: 1626.5306933\tbest: 1626.5306933 (1133)\ttotal: 4m 31s\tremaining: 15.8s\n",
      "1134:\tlearn: 1547.4088800\ttest: 1626.4618927\tbest: 1626.4618927 (1134)\ttotal: 4m 32s\tremaining: 15.6s\n",
      "1135:\tlearn: 1547.3117061\ttest: 1626.4224633\tbest: 1626.4224633 (1135)\ttotal: 4m 32s\tremaining: 15.3s\n",
      "1136:\tlearn: 1547.0797813\ttest: 1626.2630956\tbest: 1626.2630956 (1136)\ttotal: 4m 32s\tremaining: 15.1s\n",
      "1137:\tlearn: 1546.9512375\ttest: 1626.1690024\tbest: 1626.1690024 (1137)\ttotal: 4m 32s\tremaining: 14.9s\n",
      "1138:\tlearn: 1546.8088245\ttest: 1626.1038108\tbest: 1626.1038108 (1138)\ttotal: 4m 33s\tremaining: 14.6s\n",
      "1139:\tlearn: 1546.6719307\ttest: 1626.0244360\tbest: 1626.0244360 (1139)\ttotal: 4m 33s\tremaining: 14.4s\n",
      "1140:\tlearn: 1546.5595696\ttest: 1625.9954601\tbest: 1625.9954601 (1140)\ttotal: 4m 33s\tremaining: 14.2s\n",
      "1141:\tlearn: 1546.4254921\ttest: 1625.9292478\tbest: 1625.9292478 (1141)\ttotal: 4m 34s\tremaining: 13.9s\n",
      "1142:\tlearn: 1546.3161899\ttest: 1625.8677204\tbest: 1625.8677204 (1142)\ttotal: 4m 34s\tremaining: 13.7s\n",
      "1143:\tlearn: 1546.2869550\ttest: 1625.8409195\tbest: 1625.8409195 (1143)\ttotal: 4m 34s\tremaining: 13.4s\n",
      "1144:\tlearn: 1546.2137915\ttest: 1625.8382588\tbest: 1625.8382588 (1144)\ttotal: 4m 34s\tremaining: 13.2s\n",
      "1145:\tlearn: 1546.1223448\ttest: 1625.7602222\tbest: 1625.7602222 (1145)\ttotal: 4m 34s\tremaining: 13s\n",
      "1146:\tlearn: 1545.9612525\ttest: 1625.6792025\tbest: 1625.6792025 (1146)\ttotal: 4m 35s\tremaining: 12.7s\n",
      "1147:\tlearn: 1545.7388323\ttest: 1625.5797785\tbest: 1625.5797785 (1147)\ttotal: 4m 35s\tremaining: 12.5s\n",
      "1148:\tlearn: 1545.6159205\ttest: 1625.5313833\tbest: 1625.5313833 (1148)\ttotal: 4m 35s\tremaining: 12.2s\n",
      "1149:\tlearn: 1545.4270930\ttest: 1625.4402354\tbest: 1625.4402354 (1149)\ttotal: 4m 36s\tremaining: 12s\n",
      "1150:\tlearn: 1545.3885806\ttest: 1625.4213730\tbest: 1625.4213730 (1150)\ttotal: 4m 36s\tremaining: 11.8s\n",
      "1151:\tlearn: 1545.3439621\ttest: 1625.4074810\tbest: 1625.4074810 (1151)\ttotal: 4m 36s\tremaining: 11.5s\n",
      "1152:\tlearn: 1545.1628281\ttest: 1625.3343348\tbest: 1625.3343348 (1152)\ttotal: 4m 36s\tremaining: 11.3s\n",
      "1153:\tlearn: 1545.0399276\ttest: 1625.2897715\tbest: 1625.2897715 (1153)\ttotal: 4m 36s\tremaining: 11s\n",
      "1154:\tlearn: 1544.9161641\ttest: 1625.2265847\tbest: 1625.2265847 (1154)\ttotal: 4m 37s\tremaining: 10.8s\n",
      "1155:\tlearn: 1544.8726470\ttest: 1625.2326594\tbest: 1625.2265847 (1154)\ttotal: 4m 37s\tremaining: 10.6s\n",
      "1156:\tlearn: 1544.7210053\ttest: 1625.1434494\tbest: 1625.1434494 (1156)\ttotal: 4m 37s\tremaining: 10.3s\n",
      "1157:\tlearn: 1544.6561817\ttest: 1625.1308733\tbest: 1625.1308733 (1157)\ttotal: 4m 37s\tremaining: 10.1s\n",
      "1158:\tlearn: 1544.5313935\ttest: 1625.0781725\tbest: 1625.0781725 (1158)\ttotal: 4m 38s\tremaining: 9.84s\n",
      "1159:\tlearn: 1544.4094131\ttest: 1625.0083598\tbest: 1625.0083598 (1159)\ttotal: 4m 38s\tremaining: 9.6s\n",
      "1160:\tlearn: 1544.3661493\ttest: 1624.9970466\tbest: 1624.9970466 (1160)\ttotal: 4m 38s\tremaining: 9.36s\n",
      "1161:\tlearn: 1544.1981714\ttest: 1624.9004630\tbest: 1624.9004630 (1161)\ttotal: 4m 39s\tremaining: 9.13s\n",
      "1162:\tlearn: 1544.1823434\ttest: 1624.8977939\tbest: 1624.8977939 (1162)\ttotal: 4m 39s\tremaining: 8.89s\n",
      "1163:\tlearn: 1543.9959087\ttest: 1624.8312683\tbest: 1624.8312683 (1163)\ttotal: 4m 39s\tremaining: 8.65s\n",
      "1164:\tlearn: 1543.8168028\ttest: 1624.7372512\tbest: 1624.7372512 (1164)\ttotal: 4m 39s\tremaining: 8.41s\n",
      "1165:\tlearn: 1543.7116746\ttest: 1624.7405655\tbest: 1624.7372512 (1164)\ttotal: 4m 40s\tremaining: 8.17s\n",
      "1166:\tlearn: 1543.6517298\ttest: 1624.7215121\tbest: 1624.7215121 (1166)\ttotal: 4m 40s\tremaining: 7.93s\n",
      "1167:\tlearn: 1543.5740268\ttest: 1624.6891138\tbest: 1624.6891138 (1167)\ttotal: 4m 40s\tremaining: 7.69s\n",
      "1168:\tlearn: 1543.4279071\ttest: 1624.5984089\tbest: 1624.5984089 (1168)\ttotal: 4m 40s\tremaining: 7.45s\n",
      "1169:\tlearn: 1543.4192252\ttest: 1624.5979333\tbest: 1624.5979333 (1169)\ttotal: 4m 41s\tremaining: 7.21s\n",
      "1170:\tlearn: 1543.4000008\ttest: 1624.5907021\tbest: 1624.5907021 (1170)\ttotal: 4m 41s\tremaining: 6.97s\n",
      "1171:\tlearn: 1543.2558586\ttest: 1624.5249150\tbest: 1624.5249150 (1171)\ttotal: 4m 41s\tremaining: 6.73s\n",
      "1172:\tlearn: 1543.1945768\ttest: 1624.4851608\tbest: 1624.4851608 (1172)\ttotal: 4m 41s\tremaining: 6.49s\n",
      "1173:\tlearn: 1543.1784282\ttest: 1624.4937791\tbest: 1624.4851608 (1172)\ttotal: 4m 42s\tremaining: 6.25s\n",
      "1174:\tlearn: 1543.0185945\ttest: 1624.4060448\tbest: 1624.4060448 (1174)\ttotal: 4m 42s\tremaining: 6.01s\n",
      "1175:\tlearn: 1542.9015197\ttest: 1624.3665789\tbest: 1624.3665789 (1175)\ttotal: 4m 42s\tremaining: 5.77s\n",
      "1176:\tlearn: 1542.7592530\ttest: 1624.2791548\tbest: 1624.2791548 (1176)\ttotal: 4m 42s\tremaining: 5.53s\n",
      "1177:\tlearn: 1542.6822456\ttest: 1624.2400250\tbest: 1624.2400250 (1177)\ttotal: 4m 43s\tremaining: 5.29s\n",
      "1178:\tlearn: 1542.6569745\ttest: 1624.2468235\tbest: 1624.2400250 (1177)\ttotal: 4m 43s\tremaining: 5.05s\n",
      "1179:\tlearn: 1542.6161661\ttest: 1624.2305952\tbest: 1624.2305952 (1179)\ttotal: 4m 43s\tremaining: 4.81s\n",
      "1180:\tlearn: 1542.5862080\ttest: 1624.2173560\tbest: 1624.2173560 (1180)\ttotal: 4m 43s\tremaining: 4.57s\n",
      "1181:\tlearn: 1542.4664199\ttest: 1624.1713499\tbest: 1624.1713499 (1181)\ttotal: 4m 44s\tremaining: 4.33s\n",
      "1182:\tlearn: 1542.4181680\ttest: 1624.1484384\tbest: 1624.1484384 (1182)\ttotal: 4m 44s\tremaining: 4.08s\n",
      "1183:\tlearn: 1542.2784804\ttest: 1624.0924389\tbest: 1624.0924389 (1183)\ttotal: 4m 44s\tremaining: 3.85s\n",
      "1184:\tlearn: 1542.0949822\ttest: 1624.0385992\tbest: 1624.0385992 (1184)\ttotal: 4m 44s\tremaining: 3.6s\n",
      "1185:\tlearn: 1541.8388947\ttest: 1623.8731373\tbest: 1623.8731373 (1185)\ttotal: 4m 45s\tremaining: 3.36s\n",
      "1186:\tlearn: 1541.6774538\ttest: 1623.8214852\tbest: 1623.8214852 (1186)\ttotal: 4m 45s\tremaining: 3.12s\n",
      "1187:\tlearn: 1541.6299503\ttest: 1623.8010828\tbest: 1623.8010828 (1187)\ttotal: 4m 45s\tremaining: 2.88s\n",
      "1188:\tlearn: 1541.5790271\ttest: 1623.7701062\tbest: 1623.7701062 (1188)\ttotal: 4m 45s\tremaining: 2.64s\n",
      "1189:\tlearn: 1541.4772018\ttest: 1623.7595716\tbest: 1623.7595716 (1189)\ttotal: 4m 45s\tremaining: 2.4s\n",
      "1190:\tlearn: 1541.3957945\ttest: 1623.6828626\tbest: 1623.6828626 (1190)\ttotal: 4m 46s\tremaining: 2.16s\n",
      "1191:\tlearn: 1541.2399176\ttest: 1623.6350211\tbest: 1623.6350211 (1191)\ttotal: 4m 46s\tremaining: 1.92s\n",
      "1192:\tlearn: 1541.0986764\ttest: 1623.5829233\tbest: 1623.5829233 (1192)\ttotal: 4m 46s\tremaining: 1.68s\n",
      "1193:\tlearn: 1541.0164881\ttest: 1623.5446791\tbest: 1623.5446791 (1193)\ttotal: 4m 46s\tremaining: 1.44s\n",
      "1194:\tlearn: 1540.8823969\ttest: 1623.4945574\tbest: 1623.4945574 (1194)\ttotal: 4m 47s\tremaining: 1.2s\n",
      "1195:\tlearn: 1540.8110677\ttest: 1623.4683513\tbest: 1623.4683513 (1195)\ttotal: 4m 47s\tremaining: 961ms\n",
      "1196:\tlearn: 1540.7255581\ttest: 1623.4475634\tbest: 1623.4475634 (1196)\ttotal: 4m 47s\tremaining: 721ms\n",
      "1197:\tlearn: 1540.7208278\ttest: 1623.4464997\tbest: 1623.4464997 (1197)\ttotal: 4m 47s\tremaining: 480ms\n",
      "1198:\tlearn: 1540.7146873\ttest: 1623.4477776\tbest: 1623.4464997 (1197)\ttotal: 4m 48s\tremaining: 240ms\n",
      "1199:\tlearn: 1540.6448121\ttest: 1623.4113713\tbest: 1623.4113713 (1199)\ttotal: 4m 48s\tremaining: 0us\n",
      "\n",
      "bestTest = 1623.411371\n",
      "bestIteration = 1199\n",
      "\n",
      "Training on fold [1/3]\n",
      "0:\tlearn: 6359.0793370\ttest: 6403.7570893\tbest: 6403.7570893 (0)\ttotal: 239ms\tremaining: 4m 47s\n",
      "1:\tlearn: 6252.0016006\ttest: 6296.1274728\tbest: 6296.1274728 (1)\ttotal: 515ms\tremaining: 5m 8s\n",
      "2:\tlearn: 6147.0324931\ttest: 6190.4932028\tbest: 6190.4932028 (2)\ttotal: 776ms\tremaining: 5m 9s\n",
      "3:\tlearn: 6044.5795855\ttest: 6087.4644644\tbest: 6087.4644644 (3)\ttotal: 1.03s\tremaining: 5m 7s\n",
      "4:\tlearn: 5943.6017652\ttest: 5985.9094067\tbest: 5985.9094067 (4)\ttotal: 1.27s\tremaining: 5m 4s\n",
      "5:\tlearn: 5845.8130036\ttest: 5887.5852221\tbest: 5887.5852221 (5)\ttotal: 1.55s\tremaining: 5m 9s\n",
      "6:\tlearn: 5749.5032526\ttest: 5790.7779350\tbest: 5790.7779350 (6)\ttotal: 1.8s\tremaining: 5m 6s\n",
      "7:\tlearn: 5656.8110111\ttest: 5697.7746691\tbest: 5697.7746691 (7)\ttotal: 2.01s\tremaining: 4m 59s\n",
      "8:\tlearn: 5564.8377177\ttest: 5605.3243967\tbest: 5605.3243967 (8)\ttotal: 2.22s\tremaining: 4m 53s\n",
      "9:\tlearn: 5476.0490967\ttest: 5516.1454758\tbest: 5516.1454758 (9)\ttotal: 2.45s\tremaining: 4m 51s\n",
      "10:\tlearn: 5388.5855859\ttest: 5428.5455819\tbest: 5428.5455819 (10)\ttotal: 2.65s\tremaining: 4m 46s\n",
      "11:\tlearn: 5302.7979051\ttest: 5342.3150863\tbest: 5342.3150863 (11)\ttotal: 2.89s\tremaining: 4m 46s\n",
      "12:\tlearn: 5218.8735957\ttest: 5257.8011108\tbest: 5257.8011108 (12)\ttotal: 3.16s\tremaining: 4m 48s\n",
      "13:\tlearn: 5136.9782915\ttest: 5175.5105523\tbest: 5175.5105523 (13)\ttotal: 3.36s\tremaining: 4m 44s\n",
      "14:\tlearn: 5056.2555932\ttest: 5094.3117330\tbest: 5094.3117330 (14)\ttotal: 3.59s\tremaining: 4m 43s\n",
      "15:\tlearn: 4977.8490736\ttest: 5015.5989666\tbest: 5015.5989666 (15)\ttotal: 3.81s\tremaining: 4m 41s\n",
      "16:\tlearn: 4900.8627490\ttest: 4938.2308317\tbest: 4938.2308317 (16)\ttotal: 4.03s\tremaining: 4m 40s\n",
      "17:\tlearn: 4826.2728414\ttest: 4863.2667810\tbest: 4863.2667810 (17)\ttotal: 4.28s\tremaining: 4m 41s\n",
      "18:\tlearn: 4753.0783467\ttest: 4789.8090152\tbest: 4789.8090152 (18)\ttotal: 4.53s\tremaining: 4m 41s\n",
      "19:\tlearn: 4682.8402594\ttest: 4719.0774129\tbest: 4719.0774129 (19)\ttotal: 4.8s\tremaining: 4m 43s\n",
      "20:\tlearn: 4612.1745525\ttest: 4648.0527090\tbest: 4648.0527090 (20)\ttotal: 4.98s\tremaining: 4m 39s\n",
      "21:\tlearn: 4542.6951081\ttest: 4578.2227730\tbest: 4578.2227730 (21)\ttotal: 5.22s\tremaining: 4m 39s\n",
      "22:\tlearn: 4474.1788583\ttest: 4508.8348200\tbest: 4508.8348200 (22)\ttotal: 5.47s\tremaining: 4m 40s\n",
      "23:\tlearn: 4406.7917640\ttest: 4441.0437463\tbest: 4441.0437463 (23)\ttotal: 5.69s\tremaining: 4m 38s\n",
      "24:\tlearn: 4342.7129164\ttest: 4376.6836651\tbest: 4376.6836651 (24)\ttotal: 5.94s\tremaining: 4m 39s\n",
      "25:\tlearn: 4278.6786542\ttest: 4312.2661233\tbest: 4312.2661233 (25)\ttotal: 6.19s\tremaining: 4m 39s\n",
      "26:\tlearn: 4216.3472162\ttest: 4249.5364698\tbest: 4249.5364698 (26)\ttotal: 6.45s\tremaining: 4m 40s\n",
      "27:\tlearn: 4155.2722001\ttest: 4188.2336642\tbest: 4188.2336642 (27)\ttotal: 6.67s\tremaining: 4m 39s\n",
      "28:\tlearn: 4096.4286269\ttest: 4129.0263832\tbest: 4129.0263832 (28)\ttotal: 6.92s\tremaining: 4m 39s\n",
      "29:\tlearn: 4039.1297846\ttest: 4071.5223704\tbest: 4071.5223704 (29)\ttotal: 7.13s\tremaining: 4m 37s\n",
      "30:\tlearn: 3981.7530932\ttest: 4013.7249622\tbest: 4013.7249622 (30)\ttotal: 7.35s\tremaining: 4m 37s\n",
      "31:\tlearn: 3925.8424368\ttest: 3957.2516424\tbest: 3957.2516424 (31)\ttotal: 7.63s\tremaining: 4m 38s\n",
      "32:\tlearn: 3872.0052062\ttest: 3902.9469660\tbest: 3902.9469660 (32)\ttotal: 7.88s\tremaining: 4m 38s\n",
      "33:\tlearn: 3819.1234754\ttest: 3849.4630606\tbest: 3849.4630606 (33)\ttotal: 8.14s\tremaining: 4m 39s\n",
      "34:\tlearn: 3767.5359829\ttest: 3797.8924534\tbest: 3797.8924534 (34)\ttotal: 8.34s\tremaining: 4m 37s\n",
      "35:\tlearn: 3717.7259069\ttest: 3747.9245757\tbest: 3747.9245757 (35)\ttotal: 8.58s\tremaining: 4m 37s\n",
      "36:\tlearn: 3669.4062907\ttest: 3699.3696171\tbest: 3699.3696171 (36)\ttotal: 8.81s\tremaining: 4m 37s\n",
      "37:\tlearn: 3622.7652661\ttest: 3652.5143610\tbest: 3652.5143610 (37)\ttotal: 9.08s\tremaining: 4m 37s\n",
      "38:\tlearn: 3577.0045848\ttest: 3606.7522472\tbest: 3606.7522472 (38)\ttotal: 9.25s\tremaining: 4m 35s\n",
      "39:\tlearn: 3531.3064886\ttest: 3560.7991985\tbest: 3560.7991985 (39)\ttotal: 9.48s\tremaining: 4m 35s\n",
      "40:\tlearn: 3486.5239210\ttest: 3515.6629983\tbest: 3515.6629983 (40)\ttotal: 9.73s\tremaining: 4m 34s\n",
      "41:\tlearn: 3444.0272377\ttest: 3473.0732320\tbest: 3473.0732320 (41)\ttotal: 9.9s\tremaining: 4m 33s\n",
      "42:\tlearn: 3400.9275921\ttest: 3429.6497601\tbest: 3429.6497601 (42)\ttotal: 10.1s\tremaining: 4m 32s\n",
      "43:\tlearn: 3360.1627136\ttest: 3388.7428898\tbest: 3388.7428898 (43)\ttotal: 10.4s\tremaining: 4m 32s\n",
      "44:\tlearn: 3319.8864428\ttest: 3348.1747440\tbest: 3348.1747440 (44)\ttotal: 10.6s\tremaining: 4m 32s\n",
      "45:\tlearn: 3281.1020379\ttest: 3309.0459938\tbest: 3309.0459938 (45)\ttotal: 10.8s\tremaining: 4m 31s\n",
      "46:\tlearn: 3243.4095062\ttest: 3271.1615415\tbest: 3271.1615415 (46)\ttotal: 11s\tremaining: 4m 30s\n",
      "47:\tlearn: 3205.6846733\ttest: 3233.2025939\tbest: 3233.2025939 (47)\ttotal: 11.2s\tremaining: 4m 29s\n",
      "48:\tlearn: 3169.3076222\ttest: 3196.6800733\tbest: 3196.6800733 (48)\ttotal: 11.5s\tremaining: 4m 30s\n",
      "49:\tlearn: 3134.8978872\ttest: 3162.0079703\tbest: 3162.0079703 (49)\ttotal: 11.8s\tremaining: 4m 30s\n",
      "50:\tlearn: 3100.7094967\ttest: 3127.7025979\tbest: 3127.7025979 (50)\ttotal: 12s\tremaining: 4m 30s\n",
      "51:\tlearn: 3067.0030493\ttest: 3093.8169184\tbest: 3093.8169184 (51)\ttotal: 12.3s\tremaining: 4m 30s\n",
      "52:\tlearn: 3033.6616369\ttest: 3060.3345734\tbest: 3060.3345734 (52)\ttotal: 12.5s\tremaining: 4m 30s\n",
      "53:\tlearn: 3001.8567516\ttest: 3028.4977899\tbest: 3028.4977899 (53)\ttotal: 12.7s\tremaining: 4m 29s\n",
      "54:\tlearn: 2970.7801790\ttest: 2997.1146551\tbest: 2997.1146551 (54)\ttotal: 13s\tremaining: 4m 30s\n",
      "55:\tlearn: 2940.3592769\ttest: 2966.4702593\tbest: 2966.4702593 (55)\ttotal: 13.2s\tremaining: 4m 30s\n",
      "56:\tlearn: 2910.6588103\ttest: 2936.6247709\tbest: 2936.6247709 (56)\ttotal: 13.4s\tremaining: 4m 29s\n",
      "57:\tlearn: 2882.1815154\ttest: 2908.1950512\tbest: 2908.1950512 (57)\ttotal: 13.6s\tremaining: 4m 28s\n",
      "58:\tlearn: 2854.6058388\ttest: 2880.5200609\tbest: 2880.5200609 (58)\ttotal: 13.9s\tremaining: 4m 28s\n",
      "59:\tlearn: 2827.0326461\ttest: 2852.8368884\tbest: 2852.8368884 (59)\ttotal: 14.1s\tremaining: 4m 28s\n",
      "60:\tlearn: 2800.7238834\ttest: 2826.4730141\tbest: 2826.4730141 (60)\ttotal: 14.3s\tremaining: 4m 26s\n",
      "61:\tlearn: 2774.9330390\ttest: 2800.6553331\tbest: 2800.6553331 (61)\ttotal: 14.5s\tremaining: 4m 26s\n",
      "62:\tlearn: 2749.9720469\ttest: 2775.4810974\tbest: 2775.4810974 (62)\ttotal: 14.7s\tremaining: 4m 26s\n",
      "63:\tlearn: 2726.1077403\ttest: 2751.6034787\tbest: 2751.6034787 (63)\ttotal: 15s\tremaining: 4m 26s\n",
      "64:\tlearn: 2702.2597805\ttest: 2727.7201110\tbest: 2727.7201110 (64)\ttotal: 15.2s\tremaining: 4m 26s\n",
      "65:\tlearn: 2679.0738368\ttest: 2704.4161167\tbest: 2704.4161167 (65)\ttotal: 15.4s\tremaining: 4m 25s\n",
      "66:\tlearn: 2656.0240474\ttest: 2681.3588773\tbest: 2681.3588773 (66)\ttotal: 15.7s\tremaining: 4m 25s\n",
      "67:\tlearn: 2633.4225369\ttest: 2658.8866512\tbest: 2658.8866512 (67)\ttotal: 15.9s\tremaining: 4m 24s\n",
      "68:\tlearn: 2611.4781959\ttest: 2636.9968905\tbest: 2636.9968905 (68)\ttotal: 16.1s\tremaining: 4m 23s\n",
      "69:\tlearn: 2590.2896804\ttest: 2615.9113658\tbest: 2615.9113658 (69)\ttotal: 16.3s\tremaining: 4m 23s\n",
      "70:\tlearn: 2570.0166180\ttest: 2595.6649225\tbest: 2595.6649225 (70)\ttotal: 16.6s\tremaining: 4m 23s\n",
      "71:\tlearn: 2550.8692287\ttest: 2576.6181351\tbest: 2576.6181351 (71)\ttotal: 16.7s\tremaining: 4m 22s\n",
      "72:\tlearn: 2530.5200376\ttest: 2556.2502552\tbest: 2556.2502552 (72)\ttotal: 17s\tremaining: 4m 22s\n",
      "73:\tlearn: 2511.8048572\ttest: 2537.7121202\tbest: 2537.7121202 (73)\ttotal: 17.2s\tremaining: 4m 21s\n",
      "74:\tlearn: 2493.0989925\ttest: 2518.9881400\tbest: 2518.9881400 (74)\ttotal: 17.4s\tremaining: 4m 20s\n",
      "75:\tlearn: 2474.9163399\ttest: 2500.8816374\tbest: 2500.8816374 (75)\ttotal: 17.5s\tremaining: 4m 19s\n",
      "76:\tlearn: 2457.5659007\ttest: 2483.5480068\tbest: 2483.5480068 (76)\ttotal: 17.8s\tremaining: 4m 19s\n",
      "77:\tlearn: 2440.6723366\ttest: 2466.7133654\tbest: 2466.7133654 (77)\ttotal: 18s\tremaining: 4m 19s\n",
      "78:\tlearn: 2424.3030644\ttest: 2450.4096115\tbest: 2450.4096115 (78)\ttotal: 18.2s\tremaining: 4m 18s\n",
      "79:\tlearn: 2407.6949092\ttest: 2433.8882215\tbest: 2433.8882215 (79)\ttotal: 18.5s\tremaining: 4m 18s\n",
      "80:\tlearn: 2391.8253435\ttest: 2418.0161022\tbest: 2418.0161022 (80)\ttotal: 18.7s\tremaining: 4m 18s\n",
      "81:\tlearn: 2376.6116490\ttest: 2402.7916244\tbest: 2402.7916244 (81)\ttotal: 18.9s\tremaining: 4m 18s\n",
      "82:\tlearn: 2362.3798440\ttest: 2388.6354963\tbest: 2388.6354963 (82)\ttotal: 19.2s\tremaining: 4m 17s\n",
      "83:\tlearn: 2348.4187527\ttest: 2374.6596238\tbest: 2374.6596238 (83)\ttotal: 19.3s\tremaining: 4m 17s\n",
      "84:\tlearn: 2334.4701065\ttest: 2360.9472117\tbest: 2360.9472117 (84)\ttotal: 19.6s\tremaining: 4m 16s\n",
      "85:\tlearn: 2320.5543074\ttest: 2347.0236873\tbest: 2347.0236873 (85)\ttotal: 19.8s\tremaining: 4m 16s\n",
      "86:\tlearn: 2307.8249799\ttest: 2334.2552736\tbest: 2334.2552736 (86)\ttotal: 20.1s\tremaining: 4m 16s\n",
      "87:\tlearn: 2294.9673867\ttest: 2321.4206237\tbest: 2321.4206237 (87)\ttotal: 20.2s\tremaining: 4m 15s\n",
      "88:\tlearn: 2282.8469012\ttest: 2309.3735814\tbest: 2309.3735814 (88)\ttotal: 20.5s\tremaining: 4m 15s\n",
      "89:\tlearn: 2269.9708688\ttest: 2296.4889740\tbest: 2296.4889740 (89)\ttotal: 20.7s\tremaining: 4m 15s\n",
      "90:\tlearn: 2257.6753539\ttest: 2284.3757023\tbest: 2284.3757023 (90)\ttotal: 20.9s\tremaining: 4m 14s\n",
      "91:\tlearn: 2246.0200282\ttest: 2272.6678279\tbest: 2272.6678279 (91)\ttotal: 21.1s\tremaining: 4m 14s\n",
      "92:\tlearn: 2234.1085717\ttest: 2260.7561105\tbest: 2260.7561105 (92)\ttotal: 21.4s\tremaining: 4m 14s\n",
      "93:\tlearn: 2222.9732052\ttest: 2249.5635915\tbest: 2249.5635915 (93)\ttotal: 21.6s\tremaining: 4m 13s\n",
      "94:\tlearn: 2212.3433192\ttest: 2238.9498694\tbest: 2238.9498694 (94)\ttotal: 21.8s\tremaining: 4m 13s\n",
      "95:\tlearn: 2202.2150083\ttest: 2228.8638936\tbest: 2228.8638936 (95)\ttotal: 22s\tremaining: 4m 13s\n",
      "96:\tlearn: 2192.1218298\ttest: 2218.8044999\tbest: 2218.8044999 (96)\ttotal: 22.3s\tremaining: 4m 13s\n",
      "97:\tlearn: 2182.3514975\ttest: 2209.0797949\tbest: 2209.0797949 (97)\ttotal: 22.5s\tremaining: 4m 13s\n",
      "98:\tlearn: 2172.5389549\ttest: 2199.3817181\tbest: 2199.3817181 (98)\ttotal: 22.8s\tremaining: 4m 13s\n",
      "99:\tlearn: 2163.0579261\ttest: 2189.9443535\tbest: 2189.9443535 (99)\ttotal: 23s\tremaining: 4m 13s\n",
      "100:\tlearn: 2154.3129331\ttest: 2181.3526159\tbest: 2181.3526159 (100)\ttotal: 23.3s\tremaining: 4m 12s\n",
      "101:\tlearn: 2145.3103295\ttest: 2172.3672661\tbest: 2172.3672661 (101)\ttotal: 23.4s\tremaining: 4m 12s\n",
      "102:\tlearn: 2136.6115634\ttest: 2163.9629961\tbest: 2163.9629961 (102)\ttotal: 23.6s\tremaining: 4m 11s\n",
      "103:\tlearn: 2128.5474589\ttest: 2155.9598229\tbest: 2155.9598229 (103)\ttotal: 23.9s\tremaining: 4m 11s\n",
      "104:\tlearn: 2120.5385877\ttest: 2147.9632609\tbest: 2147.9632609 (104)\ttotal: 24.1s\tremaining: 4m 11s\n",
      "105:\tlearn: 2112.9606477\ttest: 2140.3114660\tbest: 2140.3114660 (105)\ttotal: 24.3s\tremaining: 4m 10s\n",
      "106:\tlearn: 2105.3278663\ttest: 2132.6516503\tbest: 2132.6516503 (106)\ttotal: 24.5s\tremaining: 4m 10s\n",
      "107:\tlearn: 2097.7539883\ttest: 2125.2066225\tbest: 2125.2066225 (107)\ttotal: 24.8s\tremaining: 4m 10s\n",
      "108:\tlearn: 2090.3282592\ttest: 2117.9539675\tbest: 2117.9539675 (108)\ttotal: 24.9s\tremaining: 4m 9s\n",
      "109:\tlearn: 2082.8542959\ttest: 2110.5447654\tbest: 2110.5447654 (109)\ttotal: 25.2s\tremaining: 4m 9s\n",
      "110:\tlearn: 2076.2166336\ttest: 2103.9966243\tbest: 2103.9966243 (110)\ttotal: 25.4s\tremaining: 4m 9s\n",
      "111:\tlearn: 2068.9044175\ttest: 2096.7343958\tbest: 2096.7343958 (111)\ttotal: 25.7s\tremaining: 4m 9s\n",
      "112:\tlearn: 2062.2715326\ttest: 2090.2965654\tbest: 2090.2965654 (112)\ttotal: 25.9s\tremaining: 4m 8s\n",
      "113:\tlearn: 2056.1534197\ttest: 2084.2149603\tbest: 2084.2149603 (113)\ttotal: 26.1s\tremaining: 4m 8s\n",
      "114:\tlearn: 2050.1599756\ttest: 2078.1794429\tbest: 2078.1794429 (114)\ttotal: 26.4s\tremaining: 4m 9s\n",
      "115:\tlearn: 2044.4148805\ttest: 2072.4271536\tbest: 2072.4271536 (115)\ttotal: 26.6s\tremaining: 4m 8s\n",
      "116:\tlearn: 2038.2447833\ttest: 2066.3955558\tbest: 2066.3955558 (116)\ttotal: 26.8s\tremaining: 4m 8s\n",
      "117:\tlearn: 2032.1719720\ttest: 2060.3796282\tbest: 2060.3796282 (117)\ttotal: 27s\tremaining: 4m 7s\n",
      "118:\tlearn: 2024.9559645\ttest: 2053.2819435\tbest: 2053.2819435 (118)\ttotal: 27.2s\tremaining: 4m 7s\n",
      "119:\tlearn: 2017.9763741\ttest: 2046.4813952\tbest: 2046.4813952 (119)\ttotal: 27.5s\tremaining: 4m 7s\n",
      "120:\tlearn: 2011.5310224\ttest: 2040.1470220\tbest: 2040.1470220 (120)\ttotal: 27.7s\tremaining: 4m 6s\n",
      "121:\tlearn: 2005.7898292\ttest: 2034.3637222\tbest: 2034.3637222 (121)\ttotal: 27.8s\tremaining: 4m 6s\n",
      "122:\tlearn: 2000.0696910\ttest: 2028.7683096\tbest: 2028.7683096 (122)\ttotal: 28s\tremaining: 4m 5s\n",
      "123:\tlearn: 1994.1919811\ttest: 2022.9757615\tbest: 2022.9757615 (123)\ttotal: 28.2s\tremaining: 4m 4s\n",
      "124:\tlearn: 1988.6941182\ttest: 2017.5061355\tbest: 2017.5061355 (124)\ttotal: 28.4s\tremaining: 4m 4s\n",
      "125:\tlearn: 1982.8513666\ttest: 2011.7136727\tbest: 2011.7136727 (125)\ttotal: 28.7s\tremaining: 4m 4s\n",
      "126:\tlearn: 1978.0028334\ttest: 2006.9289198\tbest: 2006.9289198 (126)\ttotal: 28.9s\tremaining: 4m 4s\n",
      "127:\tlearn: 1972.4245563\ttest: 2001.4330736\tbest: 2001.4330736 (127)\ttotal: 29.1s\tremaining: 4m 3s\n",
      "128:\tlearn: 1966.9758569\ttest: 1996.1389856\tbest: 1996.1389856 (128)\ttotal: 29.3s\tremaining: 4m 3s\n",
      "129:\tlearn: 1962.0303665\ttest: 1991.3021931\tbest: 1991.3021931 (129)\ttotal: 29.5s\tremaining: 4m 2s\n",
      "130:\tlearn: 1957.5002385\ttest: 1986.7903310\tbest: 1986.7903310 (130)\ttotal: 29.7s\tremaining: 4m 2s\n",
      "131:\tlearn: 1952.7830491\ttest: 1982.2053391\tbest: 1982.2053391 (131)\ttotal: 29.9s\tremaining: 4m 1s\n",
      "132:\tlearn: 1948.1237279\ttest: 1977.6964152\tbest: 1977.6964152 (132)\ttotal: 30.1s\tremaining: 4m 1s\n",
      "133:\tlearn: 1943.6081806\ttest: 1973.3122603\tbest: 1973.3122603 (133)\ttotal: 30.4s\tremaining: 4m 1s\n",
      "134:\tlearn: 1939.4387461\ttest: 1969.2202203\tbest: 1969.2202203 (134)\ttotal: 30.5s\tremaining: 4m\n",
      "135:\tlearn: 1935.6795753\ttest: 1965.4868285\tbest: 1965.4868285 (135)\ttotal: 30.7s\tremaining: 4m\n",
      "136:\tlearn: 1931.6212544\ttest: 1961.4271381\tbest: 1961.4271381 (136)\ttotal: 30.9s\tremaining: 3m 59s\n",
      "137:\tlearn: 1927.9172837\ttest: 1957.8510363\tbest: 1957.8510363 (137)\ttotal: 31.1s\tremaining: 3m 59s\n",
      "138:\tlearn: 1923.9403037\ttest: 1953.9589674\tbest: 1953.9589674 (138)\ttotal: 31.3s\tremaining: 3m 58s\n",
      "139:\tlearn: 1919.9847899\ttest: 1950.0397943\tbest: 1950.0397943 (139)\ttotal: 31.5s\tremaining: 3m 58s\n",
      "140:\tlearn: 1916.4159908\ttest: 1946.6224379\tbest: 1946.6224379 (140)\ttotal: 31.8s\tremaining: 3m 58s\n",
      "141:\tlearn: 1912.6793324\ttest: 1942.9036512\tbest: 1942.9036512 (141)\ttotal: 32s\tremaining: 3m 58s\n",
      "142:\tlearn: 1909.2075318\ttest: 1939.5208514\tbest: 1939.5208514 (142)\ttotal: 32.1s\tremaining: 3m 57s\n",
      "143:\tlearn: 1905.9948078\ttest: 1936.3843138\tbest: 1936.3843138 (143)\ttotal: 32.4s\tremaining: 3m 57s\n",
      "144:\tlearn: 1902.8303027\ttest: 1933.2714613\tbest: 1933.2714613 (144)\ttotal: 32.6s\tremaining: 3m 57s\n",
      "145:\tlearn: 1899.8970018\ttest: 1930.4147084\tbest: 1930.4147084 (145)\ttotal: 32.8s\tremaining: 3m 57s\n",
      "146:\tlearn: 1896.6610502\ttest: 1927.2702940\tbest: 1927.2702940 (146)\ttotal: 33.1s\tremaining: 3m 57s\n",
      "147:\tlearn: 1893.2404843\ttest: 1923.9536979\tbest: 1923.9536979 (147)\ttotal: 33.3s\tremaining: 3m 56s\n",
      "148:\tlearn: 1890.2891171\ttest: 1921.1110881\tbest: 1921.1110881 (148)\ttotal: 33.5s\tremaining: 3m 56s\n",
      "149:\tlearn: 1887.6266882\ttest: 1918.4613435\tbest: 1918.4613435 (149)\ttotal: 33.7s\tremaining: 3m 55s\n",
      "150:\tlearn: 1884.7494169\ttest: 1915.5995577\tbest: 1915.5995577 (150)\ttotal: 34s\tremaining: 3m 56s\n",
      "151:\tlearn: 1882.2343548\ttest: 1913.1839194\tbest: 1913.1839194 (151)\ttotal: 34.3s\tremaining: 3m 56s\n",
      "152:\tlearn: 1879.6893118\ttest: 1910.6833415\tbest: 1910.6833415 (152)\ttotal: 34.4s\tremaining: 3m 55s\n",
      "153:\tlearn: 1877.3708449\ttest: 1908.3185088\tbest: 1908.3185088 (153)\ttotal: 34.7s\tremaining: 3m 55s\n",
      "154:\tlearn: 1874.5957313\ttest: 1905.6260740\tbest: 1905.6260740 (154)\ttotal: 34.9s\tremaining: 3m 55s\n",
      "155:\tlearn: 1871.9347390\ttest: 1902.9927139\tbest: 1902.9927139 (155)\ttotal: 35.2s\tremaining: 3m 55s\n",
      "156:\tlearn: 1869.0636599\ttest: 1900.1804365\tbest: 1900.1804365 (156)\ttotal: 35.4s\tremaining: 3m 55s\n",
      "157:\tlearn: 1866.3876328\ttest: 1897.5327907\tbest: 1897.5327907 (157)\ttotal: 35.6s\tremaining: 3m 54s\n",
      "158:\tlearn: 1863.8476798\ttest: 1895.0298020\tbest: 1895.0298020 (158)\ttotal: 35.9s\tremaining: 3m 55s\n",
      "159:\tlearn: 1861.4947280\ttest: 1892.7824812\tbest: 1892.7824812 (159)\ttotal: 36.2s\tremaining: 3m 54s\n",
      "160:\tlearn: 1859.1526699\ttest: 1890.5265945\tbest: 1890.5265945 (160)\ttotal: 36.4s\tremaining: 3m 54s\n",
      "161:\tlearn: 1856.8687244\ttest: 1888.3266542\tbest: 1888.3266542 (161)\ttotal: 36.6s\tremaining: 3m 54s\n",
      "162:\tlearn: 1854.4814512\ttest: 1886.0414628\tbest: 1886.0414628 (162)\ttotal: 36.8s\tremaining: 3m 54s\n",
      "163:\tlearn: 1852.5908224\ttest: 1884.1824520\tbest: 1884.1824520 (163)\ttotal: 37s\tremaining: 3m 53s\n",
      "164:\tlearn: 1850.5556360\ttest: 1882.1465818\tbest: 1882.1465818 (164)\ttotal: 37.2s\tremaining: 3m 53s\n",
      "165:\tlearn: 1848.5591780\ttest: 1880.1704526\tbest: 1880.1704526 (165)\ttotal: 37.4s\tremaining: 3m 52s\n",
      "166:\tlearn: 1846.7815195\ttest: 1878.4225787\tbest: 1878.4225787 (166)\ttotal: 37.6s\tremaining: 3m 52s\n",
      "167:\tlearn: 1844.6076189\ttest: 1876.3935342\tbest: 1876.3935342 (167)\ttotal: 37.9s\tremaining: 3m 52s\n",
      "168:\tlearn: 1842.5599438\ttest: 1874.4693888\tbest: 1874.4693888 (168)\ttotal: 38.1s\tremaining: 3m 52s\n",
      "169:\tlearn: 1840.6299578\ttest: 1872.5828958\tbest: 1872.5828958 (169)\ttotal: 38.3s\tremaining: 3m 52s\n",
      "170:\tlearn: 1838.6423654\ttest: 1870.6787231\tbest: 1870.6787231 (170)\ttotal: 38.6s\tremaining: 3m 52s\n",
      "171:\tlearn: 1836.9064812\ttest: 1869.0205436\tbest: 1869.0205436 (171)\ttotal: 38.8s\tremaining: 3m 51s\n",
      "172:\tlearn: 1834.9930038\ttest: 1867.2027117\tbest: 1867.2027117 (172)\ttotal: 39s\tremaining: 3m 51s\n",
      "173:\tlearn: 1832.8543762\ttest: 1865.2039591\tbest: 1865.2039591 (173)\ttotal: 39.3s\tremaining: 3m 51s\n",
      "174:\tlearn: 1831.1824040\ttest: 1863.6640454\tbest: 1863.6640454 (174)\ttotal: 39.4s\tremaining: 3m 51s\n",
      "175:\tlearn: 1829.4283544\ttest: 1861.9524680\tbest: 1861.9524680 (175)\ttotal: 39.6s\tremaining: 3m 50s\n",
      "176:\tlearn: 1827.7474675\ttest: 1860.2659430\tbest: 1860.2659430 (176)\ttotal: 39.9s\tremaining: 3m 50s\n",
      "177:\tlearn: 1826.2597164\ttest: 1858.8056503\tbest: 1858.8056503 (177)\ttotal: 40.1s\tremaining: 3m 50s\n",
      "178:\tlearn: 1824.7374885\ttest: 1857.3402213\tbest: 1857.3402213 (178)\ttotal: 40.3s\tremaining: 3m 50s\n",
      "179:\tlearn: 1823.2945793\ttest: 1855.9363512\tbest: 1855.9363512 (179)\ttotal: 40.6s\tremaining: 3m 49s\n",
      "180:\tlearn: 1821.7596571\ttest: 1854.3995882\tbest: 1854.3995882 (180)\ttotal: 40.8s\tremaining: 3m 49s\n",
      "181:\tlearn: 1820.4240655\ttest: 1853.0957411\tbest: 1853.0957411 (181)\ttotal: 41s\tremaining: 3m 49s\n",
      "182:\tlearn: 1818.7120102\ttest: 1851.4994349\tbest: 1851.4994349 (182)\ttotal: 41.3s\tremaining: 3m 49s\n",
      "183:\tlearn: 1816.7263581\ttest: 1849.5168824\tbest: 1849.5168824 (183)\ttotal: 41.5s\tremaining: 3m 49s\n",
      "184:\tlearn: 1815.2837108\ttest: 1848.2009970\tbest: 1848.2009970 (184)\ttotal: 41.7s\tremaining: 3m 48s\n",
      "185:\tlearn: 1813.9254470\ttest: 1846.8997061\tbest: 1846.8997061 (185)\ttotal: 41.9s\tremaining: 3m 48s\n",
      "186:\tlearn: 1812.7432300\ttest: 1845.7599664\tbest: 1845.7599664 (186)\ttotal: 42.1s\tremaining: 3m 48s\n",
      "187:\tlearn: 1811.5177695\ttest: 1844.5407088\tbest: 1844.5407088 (187)\ttotal: 42.4s\tremaining: 3m 48s\n",
      "188:\tlearn: 1810.1327998\ttest: 1843.2579367\tbest: 1843.2579367 (188)\ttotal: 42.6s\tremaining: 3m 47s\n",
      "189:\tlearn: 1808.6473505\ttest: 1841.9313792\tbest: 1841.9313792 (189)\ttotal: 42.8s\tremaining: 3m 47s\n",
      "190:\tlearn: 1807.3807833\ttest: 1840.7335486\tbest: 1840.7335486 (190)\ttotal: 43.1s\tremaining: 3m 47s\n",
      "191:\tlearn: 1806.1662763\ttest: 1839.6187956\tbest: 1839.6187956 (191)\ttotal: 43.3s\tremaining: 3m 47s\n",
      "192:\tlearn: 1804.9600293\ttest: 1838.4942471\tbest: 1838.4942471 (192)\ttotal: 43.4s\tremaining: 3m 46s\n",
      "193:\tlearn: 1803.5305612\ttest: 1837.1326475\tbest: 1837.1326475 (193)\ttotal: 43.6s\tremaining: 3m 46s\n",
      "194:\tlearn: 1802.4058508\ttest: 1836.0637290\tbest: 1836.0637290 (194)\ttotal: 43.8s\tremaining: 3m 45s\n",
      "195:\tlearn: 1800.8564417\ttest: 1834.6819695\tbest: 1834.6819695 (195)\ttotal: 44s\tremaining: 3m 45s\n",
      "196:\tlearn: 1799.8239063\ttest: 1833.6362545\tbest: 1833.6362545 (196)\ttotal: 44.3s\tremaining: 3m 45s\n",
      "197:\tlearn: 1798.7308043\ttest: 1832.6329985\tbest: 1832.6329985 (197)\ttotal: 44.5s\tremaining: 3m 45s\n",
      "198:\tlearn: 1797.8395438\ttest: 1831.7188937\tbest: 1831.7188937 (198)\ttotal: 44.7s\tremaining: 3m 45s\n",
      "199:\tlearn: 1796.5228253\ttest: 1830.4865412\tbest: 1830.4865412 (199)\ttotal: 45s\tremaining: 3m 44s\n",
      "200:\tlearn: 1795.2727800\ttest: 1829.3374619\tbest: 1829.3374619 (200)\ttotal: 45.2s\tremaining: 3m 44s\n",
      "201:\tlearn: 1794.0635893\ttest: 1828.1553649\tbest: 1828.1553649 (201)\ttotal: 45.4s\tremaining: 3m 44s\n",
      "202:\tlearn: 1793.0076516\ttest: 1827.1226723\tbest: 1827.1226723 (202)\ttotal: 45.7s\tremaining: 3m 44s\n",
      "203:\tlearn: 1791.8520581\ttest: 1825.9804859\tbest: 1825.9804859 (203)\ttotal: 45.9s\tremaining: 3m 43s\n",
      "204:\tlearn: 1790.7639062\ttest: 1825.0118092\tbest: 1825.0118092 (204)\ttotal: 46.1s\tremaining: 3m 43s\n",
      "205:\tlearn: 1789.8240933\ttest: 1824.1632340\tbest: 1824.1632340 (205)\ttotal: 46.3s\tremaining: 3m 43s\n",
      "206:\tlearn: 1788.9189573\ttest: 1823.3193681\tbest: 1823.3193681 (206)\ttotal: 46.6s\tremaining: 3m 43s\n",
      "207:\tlearn: 1788.0831040\ttest: 1822.5453795\tbest: 1822.5453795 (207)\ttotal: 46.7s\tremaining: 3m 42s\n",
      "208:\tlearn: 1787.2115716\ttest: 1821.7609584\tbest: 1821.7609584 (208)\ttotal: 46.9s\tremaining: 3m 42s\n",
      "209:\tlearn: 1786.3343882\ttest: 1820.9602358\tbest: 1820.9602358 (209)\ttotal: 47.2s\tremaining: 3m 42s\n",
      "210:\tlearn: 1785.2603999\ttest: 1819.9454650\tbest: 1819.9454650 (210)\ttotal: 47.4s\tremaining: 3m 41s\n",
      "211:\tlearn: 1784.1087947\ttest: 1818.8194627\tbest: 1818.8194627 (211)\ttotal: 47.6s\tremaining: 3m 41s\n",
      "212:\tlearn: 1783.2456460\ttest: 1818.0169122\tbest: 1818.0169122 (212)\ttotal: 47.9s\tremaining: 3m 41s\n",
      "213:\tlearn: 1782.4298654\ttest: 1817.2157967\tbest: 1817.2157967 (213)\ttotal: 48.1s\tremaining: 3m 41s\n",
      "214:\tlearn: 1781.4475241\ttest: 1816.3225530\tbest: 1816.3225530 (214)\ttotal: 48.3s\tremaining: 3m 41s\n",
      "215:\tlearn: 1780.6398061\ttest: 1815.5516739\tbest: 1815.5516739 (215)\ttotal: 48.5s\tremaining: 3m 41s\n",
      "216:\tlearn: 1779.8447862\ttest: 1814.7859917\tbest: 1814.7859917 (216)\ttotal: 48.8s\tremaining: 3m 41s\n",
      "217:\tlearn: 1779.0406127\ttest: 1814.0522708\tbest: 1814.0522708 (217)\ttotal: 49s\tremaining: 3m 40s\n",
      "218:\tlearn: 1778.4099387\ttest: 1813.4690185\tbest: 1813.4690185 (218)\ttotal: 49.2s\tremaining: 3m 40s\n",
      "219:\tlearn: 1777.4838467\ttest: 1812.5973656\tbest: 1812.5973656 (219)\ttotal: 49.4s\tremaining: 3m 40s\n",
      "220:\tlearn: 1776.5307110\ttest: 1811.6693695\tbest: 1811.6693695 (220)\ttotal: 49.6s\tremaining: 3m 39s\n",
      "221:\tlearn: 1775.6125086\ttest: 1810.7694852\tbest: 1810.7694852 (221)\ttotal: 49.9s\tremaining: 3m 39s\n",
      "222:\tlearn: 1774.7359202\ttest: 1809.9223201\tbest: 1809.9223201 (222)\ttotal: 50.1s\tremaining: 3m 39s\n",
      "223:\tlearn: 1773.9882291\ttest: 1809.2146769\tbest: 1809.2146769 (223)\ttotal: 50.4s\tremaining: 3m 39s\n",
      "224:\tlearn: 1773.3269981\ttest: 1808.6359779\tbest: 1808.6359779 (224)\ttotal: 50.6s\tremaining: 3m 39s\n",
      "225:\tlearn: 1772.5234998\ttest: 1808.0226810\tbest: 1808.0226810 (225)\ttotal: 50.8s\tremaining: 3m 39s\n",
      "226:\tlearn: 1771.6403288\ttest: 1807.0838201\tbest: 1807.0838201 (226)\ttotal: 51s\tremaining: 3m 38s\n",
      "227:\tlearn: 1770.9103524\ttest: 1806.3925236\tbest: 1806.3925236 (227)\ttotal: 51.3s\tremaining: 3m 38s\n",
      "228:\tlearn: 1770.2376441\ttest: 1805.6875250\tbest: 1805.6875250 (228)\ttotal: 51.5s\tremaining: 3m 38s\n",
      "229:\tlearn: 1769.1405068\ttest: 1804.6866912\tbest: 1804.6866912 (229)\ttotal: 51.8s\tremaining: 3m 38s\n",
      "230:\tlearn: 1768.4332913\ttest: 1804.0334474\tbest: 1804.0334474 (230)\ttotal: 52s\tremaining: 3m 38s\n",
      "231:\tlearn: 1767.7819609\ttest: 1803.4648976\tbest: 1803.4648976 (231)\ttotal: 52.2s\tremaining: 3m 37s\n",
      "232:\tlearn: 1767.1864909\ttest: 1802.9397216\tbest: 1802.9397216 (232)\ttotal: 52.4s\tremaining: 3m 37s\n",
      "233:\tlearn: 1766.0499867\ttest: 1801.8229796\tbest: 1801.8229796 (233)\ttotal: 52.7s\tremaining: 3m 37s\n",
      "234:\tlearn: 1765.1155023\ttest: 1801.0184871\tbest: 1801.0184871 (234)\ttotal: 53s\tremaining: 3m 37s\n",
      "235:\tlearn: 1764.4960787\ttest: 1800.4495569\tbest: 1800.4495569 (235)\ttotal: 53.3s\tremaining: 3m 37s\n",
      "236:\tlearn: 1763.8793535\ttest: 1799.8080037\tbest: 1799.8080037 (236)\ttotal: 53.5s\tremaining: 3m 37s\n",
      "237:\tlearn: 1763.2508454\ttest: 1799.2230107\tbest: 1799.2230107 (237)\ttotal: 53.7s\tremaining: 3m 37s\n",
      "238:\tlearn: 1762.3137450\ttest: 1798.3585527\tbest: 1798.3585527 (238)\ttotal: 54s\tremaining: 3m 37s\n",
      "239:\tlearn: 1761.6521166\ttest: 1797.7714896\tbest: 1797.7714896 (239)\ttotal: 54.2s\tremaining: 3m 36s\n",
      "240:\tlearn: 1761.1528122\ttest: 1797.3360491\tbest: 1797.3360491 (240)\ttotal: 54.5s\tremaining: 3m 36s\n",
      "241:\tlearn: 1760.5556339\ttest: 1796.7765331\tbest: 1796.7765331 (241)\ttotal: 54.7s\tremaining: 3m 36s\n",
      "242:\tlearn: 1759.8870310\ttest: 1796.1223971\tbest: 1796.1223971 (242)\ttotal: 55s\tremaining: 3m 36s\n",
      "243:\tlearn: 1759.3062298\ttest: 1795.5560261\tbest: 1795.5560261 (243)\ttotal: 55.2s\tremaining: 3m 36s\n",
      "244:\tlearn: 1758.8311075\ttest: 1795.0894820\tbest: 1795.0894820 (244)\ttotal: 55.5s\tremaining: 3m 36s\n",
      "245:\tlearn: 1758.2223435\ttest: 1794.5984711\tbest: 1794.5984711 (245)\ttotal: 55.7s\tremaining: 3m 36s\n",
      "246:\tlearn: 1757.2380594\ttest: 1793.6605096\tbest: 1793.6605096 (246)\ttotal: 55.9s\tremaining: 3m 35s\n",
      "247:\tlearn: 1756.3865183\ttest: 1792.9304510\tbest: 1792.9304510 (247)\ttotal: 56.2s\tremaining: 3m 35s\n",
      "248:\tlearn: 1755.7312460\ttest: 1792.3643947\tbest: 1792.3643947 (248)\ttotal: 56.4s\tremaining: 3m 35s\n",
      "249:\tlearn: 1755.2093656\ttest: 1791.8512797\tbest: 1791.8512797 (249)\ttotal: 56.7s\tremaining: 3m 35s\n",
      "250:\tlearn: 1754.5879104\ttest: 1791.2662657\tbest: 1791.2662657 (250)\ttotal: 56.9s\tremaining: 3m 35s\n",
      "251:\tlearn: 1753.8015019\ttest: 1790.5996575\tbest: 1790.5996575 (251)\ttotal: 57.2s\tremaining: 3m 35s\n",
      "252:\tlearn: 1752.9822449\ttest: 1789.7903223\tbest: 1789.7903223 (252)\ttotal: 57.3s\tremaining: 3m 34s\n",
      "253:\tlearn: 1752.4041763\ttest: 1789.2262532\tbest: 1789.2262532 (253)\ttotal: 57.5s\tremaining: 3m 34s\n",
      "254:\tlearn: 1751.6626389\ttest: 1788.6175635\tbest: 1788.6175635 (254)\ttotal: 57.8s\tremaining: 3m 34s\n",
      "255:\tlearn: 1750.9184891\ttest: 1788.0077418\tbest: 1788.0077418 (255)\ttotal: 58s\tremaining: 3m 33s\n",
      "256:\tlearn: 1750.4340029\ttest: 1787.4893452\tbest: 1787.4893452 (256)\ttotal: 58.3s\tremaining: 3m 33s\n",
      "257:\tlearn: 1749.8644466\ttest: 1786.9637132\tbest: 1786.9637132 (257)\ttotal: 58.5s\tremaining: 3m 33s\n",
      "258:\tlearn: 1749.3479628\ttest: 1786.4663071\tbest: 1786.4663071 (258)\ttotal: 58.8s\tremaining: 3m 33s\n",
      "259:\tlearn: 1748.7760517\ttest: 1785.9639775\tbest: 1785.9639775 (259)\ttotal: 59s\tremaining: 3m 33s\n",
      "260:\tlearn: 1747.9823498\ttest: 1785.2819011\tbest: 1785.2819011 (260)\ttotal: 59.2s\tremaining: 3m 32s\n",
      "261:\tlearn: 1747.2679085\ttest: 1784.6373119\tbest: 1784.6373119 (261)\ttotal: 59.4s\tremaining: 3m 32s\n",
      "262:\tlearn: 1746.8273205\ttest: 1784.2503318\tbest: 1784.2503318 (262)\ttotal: 59.7s\tremaining: 3m 32s\n",
      "263:\tlearn: 1746.3140093\ttest: 1783.7868237\tbest: 1783.7868237 (263)\ttotal: 59.9s\tremaining: 3m 32s\n",
      "264:\tlearn: 1745.7946357\ttest: 1783.3248854\tbest: 1783.3248854 (264)\ttotal: 1m\tremaining: 3m 32s\n",
      "265:\tlearn: 1745.2686791\ttest: 1782.8052287\tbest: 1782.8052287 (265)\ttotal: 1m\tremaining: 3m 32s\n",
      "266:\tlearn: 1744.6766319\ttest: 1782.2974070\tbest: 1782.2974070 (266)\ttotal: 1m\tremaining: 3m 31s\n",
      "267:\tlearn: 1743.8681855\ttest: 1781.5237711\tbest: 1781.5237711 (267)\ttotal: 1m\tremaining: 3m 31s\n",
      "268:\tlearn: 1743.3131526\ttest: 1781.0430202\tbest: 1781.0430202 (268)\ttotal: 1m 1s\tremaining: 3m 31s\n",
      "269:\tlearn: 1742.8278848\ttest: 1780.5341540\tbest: 1780.5341540 (269)\ttotal: 1m 1s\tremaining: 3m 31s\n",
      "270:\tlearn: 1742.1389171\ttest: 1779.9112625\tbest: 1779.9112625 (270)\ttotal: 1m 1s\tremaining: 3m 30s\n",
      "271:\tlearn: 1741.6174436\ttest: 1779.5219690\tbest: 1779.5219690 (271)\ttotal: 1m 1s\tremaining: 3m 30s\n",
      "272:\tlearn: 1741.0629952\ttest: 1779.0346796\tbest: 1779.0346796 (272)\ttotal: 1m 1s\tremaining: 3m 30s\n",
      "273:\tlearn: 1740.5597299\ttest: 1778.6308061\tbest: 1778.6308061 (273)\ttotal: 1m 2s\tremaining: 3m 30s\n",
      "274:\tlearn: 1739.6127752\ttest: 1777.6938538\tbest: 1777.6938538 (274)\ttotal: 1m 2s\tremaining: 3m 29s\n",
      "275:\tlearn: 1739.1573067\ttest: 1777.2657121\tbest: 1777.2657121 (275)\ttotal: 1m 2s\tremaining: 3m 29s\n",
      "276:\tlearn: 1738.5504815\ttest: 1776.7390125\tbest: 1776.7390125 (276)\ttotal: 1m 2s\tremaining: 3m 29s\n",
      "277:\tlearn: 1737.9701452\ttest: 1776.1475934\tbest: 1776.1475934 (277)\ttotal: 1m 3s\tremaining: 3m 29s\n",
      "278:\tlearn: 1737.5555782\ttest: 1775.7346958\tbest: 1775.7346958 (278)\ttotal: 1m 3s\tremaining: 3m 29s\n",
      "279:\tlearn: 1737.1437302\ttest: 1775.4305240\tbest: 1775.4305240 (279)\ttotal: 1m 3s\tremaining: 3m 29s\n",
      "280:\tlearn: 1736.5430872\ttest: 1774.9055535\tbest: 1774.9055535 (280)\ttotal: 1m 3s\tremaining: 3m 29s\n",
      "281:\tlearn: 1736.0729303\ttest: 1774.5010001\tbest: 1774.5010001 (281)\ttotal: 1m 4s\tremaining: 3m 29s\n",
      "282:\tlearn: 1735.4310191\ttest: 1773.9156947\tbest: 1773.9156947 (282)\ttotal: 1m 4s\tremaining: 3m 28s\n",
      "283:\tlearn: 1734.9110103\ttest: 1773.4812348\tbest: 1773.4812348 (283)\ttotal: 1m 4s\tremaining: 3m 28s\n",
      "284:\tlearn: 1734.4839306\ttest: 1773.0702254\tbest: 1773.0702254 (284)\ttotal: 1m 4s\tremaining: 3m 28s\n",
      "285:\tlearn: 1733.7569141\ttest: 1772.4191442\tbest: 1772.4191442 (285)\ttotal: 1m 5s\tremaining: 3m 28s\n",
      "286:\tlearn: 1733.3328936\ttest: 1772.0372595\tbest: 1772.0372595 (286)\ttotal: 1m 5s\tremaining: 3m 28s\n",
      "287:\tlearn: 1732.6974722\ttest: 1771.4700101\tbest: 1771.4700101 (287)\ttotal: 1m 5s\tremaining: 3m 27s\n",
      "288:\tlearn: 1732.0199587\ttest: 1770.9282275\tbest: 1770.9282275 (288)\ttotal: 1m 5s\tremaining: 3m 27s\n",
      "289:\tlearn: 1731.5686543\ttest: 1770.4844073\tbest: 1770.4844073 (289)\ttotal: 1m 6s\tremaining: 3m 27s\n",
      "290:\tlearn: 1731.0672939\ttest: 1769.9947544\tbest: 1769.9947544 (290)\ttotal: 1m 6s\tremaining: 3m 27s\n",
      "291:\tlearn: 1730.4604227\ttest: 1769.3982841\tbest: 1769.3982841 (291)\ttotal: 1m 6s\tremaining: 3m 27s\n",
      "292:\tlearn: 1730.1573011\ttest: 1769.0833769\tbest: 1769.0833769 (292)\ttotal: 1m 6s\tremaining: 3m 27s\n",
      "293:\tlearn: 1729.8071646\ttest: 1768.8069796\tbest: 1768.8069796 (293)\ttotal: 1m 7s\tremaining: 3m 26s\n",
      "294:\tlearn: 1729.4550109\ttest: 1768.4855232\tbest: 1768.4855232 (294)\ttotal: 1m 7s\tremaining: 3m 26s\n",
      "295:\tlearn: 1728.9994494\ttest: 1768.0283604\tbest: 1768.0283604 (295)\ttotal: 1m 7s\tremaining: 3m 26s\n",
      "296:\tlearn: 1728.6487556\ttest: 1767.7129111\tbest: 1767.7129111 (296)\ttotal: 1m 7s\tremaining: 3m 26s\n",
      "297:\tlearn: 1728.1118254\ttest: 1767.2122093\tbest: 1767.2122093 (297)\ttotal: 1m 8s\tremaining: 3m 25s\n",
      "298:\tlearn: 1727.5561913\ttest: 1766.6686853\tbest: 1766.6686853 (298)\ttotal: 1m 8s\tremaining: 3m 25s\n",
      "299:\tlearn: 1726.9907606\ttest: 1766.2112649\tbest: 1766.2112649 (299)\ttotal: 1m 8s\tremaining: 3m 25s\n",
      "300:\tlearn: 1726.6116623\ttest: 1765.8677107\tbest: 1765.8677107 (300)\ttotal: 1m 8s\tremaining: 3m 25s\n",
      "301:\tlearn: 1725.9583884\ttest: 1765.3877561\tbest: 1765.3877561 (301)\ttotal: 1m 8s\tremaining: 3m 24s\n",
      "302:\tlearn: 1725.6066378\ttest: 1765.0642723\tbest: 1765.0642723 (302)\ttotal: 1m 9s\tremaining: 3m 24s\n",
      "303:\tlearn: 1725.1887273\ttest: 1764.6875130\tbest: 1764.6875130 (303)\ttotal: 1m 9s\tremaining: 3m 24s\n",
      "304:\tlearn: 1724.5826893\ttest: 1764.1249841\tbest: 1764.1249841 (304)\ttotal: 1m 9s\tremaining: 3m 24s\n",
      "305:\tlearn: 1723.8812571\ttest: 1763.5212520\tbest: 1763.5212520 (305)\ttotal: 1m 9s\tremaining: 3m 24s\n",
      "306:\tlearn: 1723.4487602\ttest: 1763.1027464\tbest: 1763.1027464 (306)\ttotal: 1m 10s\tremaining: 3m 23s\n",
      "307:\tlearn: 1722.9245738\ttest: 1762.7066412\tbest: 1762.7066412 (307)\ttotal: 1m 10s\tremaining: 3m 23s\n",
      "308:\tlearn: 1722.3430375\ttest: 1762.1432055\tbest: 1762.1432055 (308)\ttotal: 1m 10s\tremaining: 3m 23s\n",
      "309:\tlearn: 1721.8363379\ttest: 1761.6176283\tbest: 1761.6176283 (309)\ttotal: 1m 10s\tremaining: 3m 23s\n",
      "310:\tlearn: 1721.3312748\ttest: 1761.1772467\tbest: 1761.1772467 (310)\ttotal: 1m 11s\tremaining: 3m 23s\n",
      "311:\tlearn: 1720.9126840\ttest: 1760.7650747\tbest: 1760.7650747 (311)\ttotal: 1m 11s\tremaining: 3m 22s\n",
      "312:\tlearn: 1720.2269510\ttest: 1760.2319924\tbest: 1760.2319924 (312)\ttotal: 1m 11s\tremaining: 3m 22s\n",
      "313:\tlearn: 1719.6773235\ttest: 1759.8525498\tbest: 1759.8525498 (313)\ttotal: 1m 11s\tremaining: 3m 22s\n",
      "314:\tlearn: 1719.3398074\ttest: 1759.6666087\tbest: 1759.6666087 (314)\ttotal: 1m 12s\tremaining: 3m 22s\n",
      "315:\tlearn: 1719.0276653\ttest: 1759.4593295\tbest: 1759.4593295 (315)\ttotal: 1m 12s\tremaining: 3m 22s\n",
      "316:\tlearn: 1718.4132338\ttest: 1758.9679055\tbest: 1758.9679055 (316)\ttotal: 1m 12s\tremaining: 3m 21s\n",
      "317:\tlearn: 1718.1018375\ttest: 1758.6869329\tbest: 1758.6869329 (317)\ttotal: 1m 12s\tremaining: 3m 21s\n",
      "318:\tlearn: 1717.4334872\ttest: 1758.1334780\tbest: 1758.1334780 (318)\ttotal: 1m 12s\tremaining: 3m 21s\n",
      "319:\tlearn: 1717.0382728\ttest: 1757.7262420\tbest: 1757.7262420 (319)\ttotal: 1m 13s\tremaining: 3m 21s\n",
      "320:\tlearn: 1716.6799850\ttest: 1757.4211713\tbest: 1757.4211713 (320)\ttotal: 1m 13s\tremaining: 3m 21s\n",
      "321:\tlearn: 1716.1547725\ttest: 1757.0124228\tbest: 1757.0124228 (321)\ttotal: 1m 13s\tremaining: 3m 21s\n",
      "322:\tlearn: 1715.7617408\ttest: 1756.6633302\tbest: 1756.6633302 (322)\ttotal: 1m 14s\tremaining: 3m 21s\n",
      "323:\tlearn: 1715.4275053\ttest: 1756.4113834\tbest: 1756.4113834 (323)\ttotal: 1m 14s\tremaining: 3m 20s\n",
      "324:\tlearn: 1714.8696879\ttest: 1755.9519133\tbest: 1755.9519133 (324)\ttotal: 1m 14s\tremaining: 3m 20s\n",
      "325:\tlearn: 1714.3984926\ttest: 1755.5533713\tbest: 1755.5533713 (325)\ttotal: 1m 14s\tremaining: 3m 20s\n",
      "326:\tlearn: 1713.9676131\ttest: 1755.1286641\tbest: 1755.1286641 (326)\ttotal: 1m 14s\tremaining: 3m 20s\n",
      "327:\tlearn: 1713.4397273\ttest: 1754.6520658\tbest: 1754.6520658 (327)\ttotal: 1m 15s\tremaining: 3m 19s\n",
      "328:\tlearn: 1712.5865943\ttest: 1753.8661341\tbest: 1753.8661341 (328)\ttotal: 1m 15s\tremaining: 3m 19s\n",
      "329:\tlearn: 1712.1823847\ttest: 1753.4814357\tbest: 1753.4814357 (329)\ttotal: 1m 15s\tremaining: 3m 19s\n",
      "330:\tlearn: 1711.7849263\ttest: 1753.1371717\tbest: 1753.1371717 (330)\ttotal: 1m 15s\tremaining: 3m 19s\n",
      "331:\tlearn: 1711.3560291\ttest: 1752.7695037\tbest: 1752.7695037 (331)\ttotal: 1m 16s\tremaining: 3m 19s\n",
      "332:\tlearn: 1710.9906288\ttest: 1752.5008643\tbest: 1752.5008643 (332)\ttotal: 1m 16s\tremaining: 3m 19s\n",
      "333:\tlearn: 1710.2667931\ttest: 1751.8290975\tbest: 1751.8290975 (333)\ttotal: 1m 16s\tremaining: 3m 18s\n",
      "334:\tlearn: 1709.9179952\ttest: 1751.5638210\tbest: 1751.5638210 (334)\ttotal: 1m 16s\tremaining: 3m 18s\n",
      "335:\tlearn: 1709.4665406\ttest: 1751.1324804\tbest: 1751.1324804 (335)\ttotal: 1m 17s\tremaining: 3m 18s\n",
      "336:\tlearn: 1709.0613183\ttest: 1750.7401655\tbest: 1750.7401655 (336)\ttotal: 1m 17s\tremaining: 3m 18s\n",
      "337:\tlearn: 1708.4655566\ttest: 1750.2630274\tbest: 1750.2630274 (337)\ttotal: 1m 17s\tremaining: 3m 18s\n",
      "338:\tlearn: 1708.1637900\ttest: 1750.0326897\tbest: 1750.0326897 (338)\ttotal: 1m 18s\tremaining: 3m 18s\n",
      "339:\tlearn: 1707.5300812\ttest: 1749.4944689\tbest: 1749.4944689 (339)\ttotal: 1m 18s\tremaining: 3m 18s\n",
      "340:\tlearn: 1706.9379055\ttest: 1748.9656713\tbest: 1748.9656713 (340)\ttotal: 1m 18s\tremaining: 3m 17s\n",
      "341:\tlearn: 1706.2948330\ttest: 1748.4127469\tbest: 1748.4127469 (341)\ttotal: 1m 18s\tremaining: 3m 17s\n",
      "342:\tlearn: 1705.9200972\ttest: 1748.1448594\tbest: 1748.1448594 (342)\ttotal: 1m 18s\tremaining: 3m 17s\n",
      "343:\tlearn: 1705.6879806\ttest: 1747.9662147\tbest: 1747.9662147 (343)\ttotal: 1m 19s\tremaining: 3m 17s\n",
      "344:\tlearn: 1705.3164108\ttest: 1747.6493513\tbest: 1747.6493513 (344)\ttotal: 1m 19s\tremaining: 3m 16s\n",
      "345:\tlearn: 1704.7549151\ttest: 1747.1808430\tbest: 1747.1808430 (345)\ttotal: 1m 19s\tremaining: 3m 16s\n",
      "346:\tlearn: 1704.2978236\ttest: 1746.8389015\tbest: 1746.8389015 (346)\ttotal: 1m 19s\tremaining: 3m 16s\n",
      "347:\tlearn: 1703.7779701\ttest: 1746.4442949\tbest: 1746.4442949 (347)\ttotal: 1m 20s\tremaining: 3m 16s\n",
      "348:\tlearn: 1703.2202995\ttest: 1745.8747885\tbest: 1745.8747885 (348)\ttotal: 1m 20s\tremaining: 3m 15s\n",
      "349:\tlearn: 1702.7065695\ttest: 1745.4704478\tbest: 1745.4704478 (349)\ttotal: 1m 20s\tremaining: 3m 15s\n",
      "350:\tlearn: 1702.2791435\ttest: 1745.0292000\tbest: 1745.0292000 (350)\ttotal: 1m 20s\tremaining: 3m 15s\n",
      "351:\tlearn: 1701.8940778\ttest: 1744.7602610\tbest: 1744.7602610 (351)\ttotal: 1m 21s\tremaining: 3m 15s\n",
      "352:\tlearn: 1701.4957605\ttest: 1744.4812188\tbest: 1744.4812188 (352)\ttotal: 1m 21s\tremaining: 3m 15s\n",
      "353:\tlearn: 1701.1304756\ttest: 1744.2099502\tbest: 1744.2099502 (353)\ttotal: 1m 21s\tremaining: 3m 14s\n",
      "354:\tlearn: 1700.8656400\ttest: 1744.0066174\tbest: 1744.0066174 (354)\ttotal: 1m 21s\tremaining: 3m 14s\n",
      "355:\tlearn: 1700.1050387\ttest: 1743.3678201\tbest: 1743.3678201 (355)\ttotal: 1m 22s\tremaining: 3m 14s\n",
      "356:\tlearn: 1699.5855859\ttest: 1742.7973500\tbest: 1742.7973500 (356)\ttotal: 1m 22s\tremaining: 3m 14s\n",
      "357:\tlearn: 1698.8880873\ttest: 1742.1668352\tbest: 1742.1668352 (357)\ttotal: 1m 22s\tremaining: 3m 14s\n",
      "358:\tlearn: 1698.5869078\ttest: 1741.9420012\tbest: 1741.9420012 (358)\ttotal: 1m 22s\tremaining: 3m 13s\n",
      "359:\tlearn: 1698.1276915\ttest: 1741.5737154\tbest: 1741.5737154 (359)\ttotal: 1m 22s\tremaining: 3m 13s\n",
      "360:\tlearn: 1697.7485465\ttest: 1741.2921750\tbest: 1741.2921750 (360)\ttotal: 1m 23s\tremaining: 3m 13s\n",
      "361:\tlearn: 1697.2397658\ttest: 1740.8334092\tbest: 1740.8334092 (361)\ttotal: 1m 23s\tremaining: 3m 13s\n",
      "362:\tlearn: 1696.6786734\ttest: 1740.3615029\tbest: 1740.3615029 (362)\ttotal: 1m 23s\tremaining: 3m 12s\n",
      "363:\tlearn: 1695.9452985\ttest: 1739.7534445\tbest: 1739.7534445 (363)\ttotal: 1m 23s\tremaining: 3m 12s\n",
      "364:\tlearn: 1695.3790362\ttest: 1739.2776098\tbest: 1739.2776098 (364)\ttotal: 1m 24s\tremaining: 3m 12s\n",
      "365:\tlearn: 1694.8339303\ttest: 1738.7833315\tbest: 1738.7833315 (365)\ttotal: 1m 24s\tremaining: 3m 12s\n",
      "366:\tlearn: 1694.1603544\ttest: 1738.3364117\tbest: 1738.3364117 (366)\ttotal: 1m 24s\tremaining: 3m 12s\n",
      "367:\tlearn: 1693.4036617\ttest: 1737.7402078\tbest: 1737.7402078 (367)\ttotal: 1m 24s\tremaining: 3m 11s\n",
      "368:\tlearn: 1693.0691729\ttest: 1737.4405758\tbest: 1737.4405758 (368)\ttotal: 1m 25s\tremaining: 3m 11s\n",
      "369:\tlearn: 1692.6511807\ttest: 1737.0130480\tbest: 1737.0130480 (369)\ttotal: 1m 25s\tremaining: 3m 11s\n",
      "370:\tlearn: 1692.0967643\ttest: 1736.6137369\tbest: 1736.6137369 (370)\ttotal: 1m 25s\tremaining: 3m 11s\n",
      "371:\tlearn: 1691.8315485\ttest: 1736.4285478\tbest: 1736.4285478 (371)\ttotal: 1m 25s\tremaining: 3m 11s\n",
      "372:\tlearn: 1691.4288547\ttest: 1736.2118367\tbest: 1736.2118367 (372)\ttotal: 1m 26s\tremaining: 3m 10s\n",
      "373:\tlearn: 1691.1731025\ttest: 1735.9783173\tbest: 1735.9783173 (373)\ttotal: 1m 26s\tremaining: 3m 10s\n",
      "374:\tlearn: 1690.9402684\ttest: 1735.7950431\tbest: 1735.7950431 (374)\ttotal: 1m 26s\tremaining: 3m 10s\n",
      "375:\tlearn: 1690.3625616\ttest: 1735.3918561\tbest: 1735.3918561 (375)\ttotal: 1m 26s\tremaining: 3m 10s\n",
      "376:\tlearn: 1690.0898481\ttest: 1735.1516515\tbest: 1735.1516515 (376)\ttotal: 1m 27s\tremaining: 3m 10s\n",
      "377:\tlearn: 1689.3443201\ttest: 1734.5465793\tbest: 1734.5465793 (377)\ttotal: 1m 27s\tremaining: 3m 9s\n",
      "378:\tlearn: 1689.0664080\ttest: 1734.2803163\tbest: 1734.2803163 (378)\ttotal: 1m 27s\tremaining: 3m 9s\n",
      "379:\tlearn: 1688.5016593\ttest: 1733.8221380\tbest: 1733.8221380 (379)\ttotal: 1m 27s\tremaining: 3m 9s\n",
      "380:\tlearn: 1688.2321113\ttest: 1733.5892600\tbest: 1733.5892600 (380)\ttotal: 1m 28s\tremaining: 3m 9s\n",
      "381:\tlearn: 1687.7127986\ttest: 1733.1904208\tbest: 1733.1904208 (381)\ttotal: 1m 28s\tremaining: 3m 9s\n",
      "382:\tlearn: 1687.0847625\ttest: 1732.6924623\tbest: 1732.6924623 (382)\ttotal: 1m 28s\tremaining: 3m 8s\n",
      "383:\tlearn: 1686.7229000\ttest: 1732.4003365\tbest: 1732.4003365 (383)\ttotal: 1m 28s\tremaining: 3m 8s\n",
      "384:\tlearn: 1686.4885823\ttest: 1732.2226825\tbest: 1732.2226825 (384)\ttotal: 1m 29s\tremaining: 3m 8s\n",
      "385:\tlearn: 1686.2384183\ttest: 1732.0114739\tbest: 1732.0114739 (385)\ttotal: 1m 29s\tremaining: 3m 8s\n",
      "386:\tlearn: 1685.7329261\ttest: 1731.5833117\tbest: 1731.5833117 (386)\ttotal: 1m 29s\tremaining: 3m 8s\n",
      "387:\tlearn: 1685.4535194\ttest: 1731.3226131\tbest: 1731.3226131 (387)\ttotal: 1m 29s\tremaining: 3m 7s\n",
      "388:\tlearn: 1684.9383457\ttest: 1730.8312115\tbest: 1730.8312115 (388)\ttotal: 1m 30s\tremaining: 3m 7s\n",
      "389:\tlearn: 1684.2950519\ttest: 1730.3819713\tbest: 1730.3819713 (389)\ttotal: 1m 30s\tremaining: 3m 7s\n",
      "390:\tlearn: 1683.9930516\ttest: 1730.1286360\tbest: 1730.1286360 (390)\ttotal: 1m 30s\tremaining: 3m 7s\n",
      "391:\tlearn: 1683.5637478\ttest: 1729.7976122\tbest: 1729.7976122 (391)\ttotal: 1m 30s\tremaining: 3m 7s\n",
      "392:\tlearn: 1683.3907715\ttest: 1729.6525055\tbest: 1729.6525055 (392)\ttotal: 1m 31s\tremaining: 3m 6s\n",
      "393:\tlearn: 1682.8936223\ttest: 1729.2931755\tbest: 1729.2931755 (393)\ttotal: 1m 31s\tremaining: 3m 6s\n",
      "394:\tlearn: 1682.5084571\ttest: 1728.9084593\tbest: 1728.9084593 (394)\ttotal: 1m 31s\tremaining: 3m 6s\n",
      "395:\tlearn: 1682.1253466\ttest: 1728.6356654\tbest: 1728.6356654 (395)\ttotal: 1m 31s\tremaining: 3m 6s\n",
      "396:\tlearn: 1681.7968527\ttest: 1728.3276218\tbest: 1728.3276218 (396)\ttotal: 1m 32s\tremaining: 3m 6s\n",
      "397:\tlearn: 1681.4325308\ttest: 1728.0257014\tbest: 1728.0257014 (397)\ttotal: 1m 32s\tremaining: 3m 6s\n",
      "398:\tlearn: 1681.1033198\ttest: 1727.7170959\tbest: 1727.7170959 (398)\ttotal: 1m 32s\tremaining: 3m 5s\n",
      "399:\tlearn: 1680.6372277\ttest: 1727.3284212\tbest: 1727.3284212 (399)\ttotal: 1m 32s\tremaining: 3m 5s\n",
      "400:\tlearn: 1680.2742428\ttest: 1726.9968718\tbest: 1726.9968718 (400)\ttotal: 1m 33s\tremaining: 3m 5s\n",
      "401:\tlearn: 1679.9919700\ttest: 1726.8105998\tbest: 1726.8105998 (401)\ttotal: 1m 33s\tremaining: 3m 5s\n",
      "402:\tlearn: 1679.5828540\ttest: 1726.4737628\tbest: 1726.4737628 (402)\ttotal: 1m 33s\tremaining: 3m 4s\n",
      "403:\tlearn: 1679.2459044\ttest: 1726.2237299\tbest: 1726.2237299 (403)\ttotal: 1m 33s\tremaining: 3m 4s\n",
      "404:\tlearn: 1679.0072445\ttest: 1726.0532147\tbest: 1726.0532147 (404)\ttotal: 1m 33s\tremaining: 3m 4s\n",
      "405:\tlearn: 1678.7427130\ttest: 1725.8721661\tbest: 1725.8721661 (405)\ttotal: 1m 34s\tremaining: 3m 4s\n",
      "406:\tlearn: 1678.3411761\ttest: 1725.5318674\tbest: 1725.5318674 (406)\ttotal: 1m 34s\tremaining: 3m 3s\n",
      "407:\tlearn: 1678.0220752\ttest: 1725.2599660\tbest: 1725.2599660 (407)\ttotal: 1m 34s\tremaining: 3m 3s\n",
      "408:\tlearn: 1677.7350174\ttest: 1724.9972431\tbest: 1724.9972431 (408)\ttotal: 1m 34s\tremaining: 3m 3s\n",
      "409:\tlearn: 1677.3470203\ttest: 1724.6155249\tbest: 1724.6155249 (409)\ttotal: 1m 35s\tremaining: 3m 3s\n",
      "410:\tlearn: 1676.9204031\ttest: 1724.2981142\tbest: 1724.2981142 (410)\ttotal: 1m 35s\tremaining: 3m 3s\n",
      "411:\tlearn: 1676.5881182\ttest: 1724.0348242\tbest: 1724.0348242 (411)\ttotal: 1m 35s\tremaining: 3m 2s\n",
      "412:\tlearn: 1676.3207443\ttest: 1723.8500724\tbest: 1723.8500724 (412)\ttotal: 1m 35s\tremaining: 3m 2s\n",
      "413:\tlearn: 1675.7797282\ttest: 1723.4695062\tbest: 1723.4695062 (413)\ttotal: 1m 36s\tremaining: 3m 2s\n",
      "414:\tlearn: 1675.4758966\ttest: 1723.1836668\tbest: 1723.1836668 (414)\ttotal: 1m 36s\tremaining: 3m 2s\n",
      "415:\tlearn: 1675.1555937\ttest: 1723.0048524\tbest: 1723.0048524 (415)\ttotal: 1m 36s\tremaining: 3m 2s\n",
      "416:\tlearn: 1674.6748671\ttest: 1722.6008458\tbest: 1722.6008458 (416)\ttotal: 1m 36s\tremaining: 3m 1s\n",
      "417:\tlearn: 1674.3463124\ttest: 1722.3506103\tbest: 1722.3506103 (417)\ttotal: 1m 37s\tremaining: 3m 1s\n",
      "418:\tlearn: 1674.0577766\ttest: 1722.1019015\tbest: 1722.1019015 (418)\ttotal: 1m 37s\tremaining: 3m 1s\n",
      "419:\tlearn: 1673.7894251\ttest: 1721.8683439\tbest: 1721.8683439 (419)\ttotal: 1m 37s\tremaining: 3m 1s\n",
      "420:\tlearn: 1673.4770145\ttest: 1721.5528601\tbest: 1721.5528601 (420)\ttotal: 1m 37s\tremaining: 3m 1s\n",
      "421:\tlearn: 1672.8655571\ttest: 1721.1085323\tbest: 1721.1085323 (421)\ttotal: 1m 38s\tremaining: 3m\n",
      "422:\tlearn: 1672.5164409\ttest: 1720.7983547\tbest: 1720.7983547 (422)\ttotal: 1m 38s\tremaining: 3m\n",
      "423:\tlearn: 1672.1283412\ttest: 1720.4800879\tbest: 1720.4800879 (423)\ttotal: 1m 38s\tremaining: 3m\n",
      "424:\tlearn: 1671.8979088\ttest: 1720.3103080\tbest: 1720.3103080 (424)\ttotal: 1m 38s\tremaining: 3m\n",
      "425:\tlearn: 1671.4750127\ttest: 1719.9973717\tbest: 1719.9973717 (425)\ttotal: 1m 39s\tremaining: 3m\n",
      "426:\tlearn: 1670.9585826\ttest: 1719.5910405\tbest: 1719.5910405 (426)\ttotal: 1m 39s\tremaining: 2m 59s\n",
      "427:\tlearn: 1670.5849424\ttest: 1719.2656226\tbest: 1719.2656226 (427)\ttotal: 1m 39s\tremaining: 2m 59s\n",
      "428:\tlearn: 1670.2654519\ttest: 1719.0010435\tbest: 1719.0010435 (428)\ttotal: 1m 39s\tremaining: 2m 59s\n",
      "429:\tlearn: 1669.8079007\ttest: 1718.6629547\tbest: 1718.6629547 (429)\ttotal: 1m 39s\tremaining: 2m 59s\n",
      "430:\tlearn: 1669.4587519\ttest: 1718.4317496\tbest: 1718.4317496 (430)\ttotal: 1m 40s\tremaining: 2m 58s\n",
      "431:\tlearn: 1669.3603463\ttest: 1718.3677666\tbest: 1718.3677666 (431)\ttotal: 1m 40s\tremaining: 2m 58s\n",
      "432:\tlearn: 1669.1779095\ttest: 1718.2849760\tbest: 1718.2849760 (432)\ttotal: 1m 40s\tremaining: 2m 58s\n",
      "433:\tlearn: 1668.9403962\ttest: 1718.1197909\tbest: 1718.1197909 (433)\ttotal: 1m 40s\tremaining: 2m 58s\n",
      "434:\tlearn: 1668.6047587\ttest: 1717.8719792\tbest: 1717.8719792 (434)\ttotal: 1m 41s\tremaining: 2m 57s\n",
      "435:\tlearn: 1668.1772140\ttest: 1717.5272871\tbest: 1717.5272871 (435)\ttotal: 1m 41s\tremaining: 2m 57s\n",
      "436:\tlearn: 1667.8792580\ttest: 1717.3082081\tbest: 1717.3082081 (436)\ttotal: 1m 41s\tremaining: 2m 57s\n",
      "437:\tlearn: 1667.5954620\ttest: 1717.1179674\tbest: 1717.1179674 (437)\ttotal: 1m 41s\tremaining: 2m 57s\n",
      "438:\tlearn: 1667.2980602\ttest: 1716.8798955\tbest: 1716.8798955 (438)\ttotal: 1m 42s\tremaining: 2m 57s\n",
      "439:\tlearn: 1667.0353221\ttest: 1716.6604761\tbest: 1716.6604761 (439)\ttotal: 1m 42s\tremaining: 2m 56s\n",
      "440:\tlearn: 1666.7138897\ttest: 1716.4119643\tbest: 1716.4119643 (440)\ttotal: 1m 42s\tremaining: 2m 56s\n",
      "441:\tlearn: 1666.4828273\ttest: 1716.2383340\tbest: 1716.2383340 (441)\ttotal: 1m 42s\tremaining: 2m 56s\n",
      "442:\tlearn: 1666.1641745\ttest: 1715.9804216\tbest: 1715.9804216 (442)\ttotal: 1m 43s\tremaining: 2m 56s\n",
      "443:\tlearn: 1665.7524338\ttest: 1715.6716482\tbest: 1715.6716482 (443)\ttotal: 1m 43s\tremaining: 2m 56s\n",
      "444:\tlearn: 1665.2528497\ttest: 1715.3333956\tbest: 1715.3333956 (444)\ttotal: 1m 43s\tremaining: 2m 55s\n",
      "445:\tlearn: 1665.1019240\ttest: 1715.2146433\tbest: 1715.2146433 (445)\ttotal: 1m 43s\tremaining: 2m 55s\n",
      "446:\tlearn: 1664.9106976\ttest: 1715.0540836\tbest: 1715.0540836 (446)\ttotal: 1m 44s\tremaining: 2m 55s\n",
      "447:\tlearn: 1664.6764437\ttest: 1714.8678440\tbest: 1714.8678440 (447)\ttotal: 1m 44s\tremaining: 2m 55s\n",
      "448:\tlearn: 1664.5217415\ttest: 1714.7763557\tbest: 1714.7763557 (448)\ttotal: 1m 44s\tremaining: 2m 55s\n",
      "449:\tlearn: 1664.2833204\ttest: 1714.6189121\tbest: 1714.6189121 (449)\ttotal: 1m 45s\tremaining: 2m 55s\n",
      "450:\tlearn: 1663.8285464\ttest: 1714.2460300\tbest: 1714.2460300 (450)\ttotal: 1m 45s\tremaining: 2m 54s\n",
      "451:\tlearn: 1663.5442161\ttest: 1714.0533835\tbest: 1714.0533835 (451)\ttotal: 1m 45s\tremaining: 2m 54s\n",
      "452:\tlearn: 1663.1673227\ttest: 1713.8118046\tbest: 1713.8118046 (452)\ttotal: 1m 45s\tremaining: 2m 54s\n",
      "453:\tlearn: 1662.9050850\ttest: 1713.6490368\tbest: 1713.6490368 (453)\ttotal: 1m 45s\tremaining: 2m 54s\n",
      "454:\tlearn: 1662.6632815\ttest: 1713.4758509\tbest: 1713.4758509 (454)\ttotal: 1m 46s\tremaining: 2m 53s\n",
      "455:\tlearn: 1662.3813430\ttest: 1713.2591891\tbest: 1713.2591891 (455)\ttotal: 1m 46s\tremaining: 2m 53s\n",
      "456:\tlearn: 1662.1534023\ttest: 1713.0315582\tbest: 1713.0315582 (456)\ttotal: 1m 46s\tremaining: 2m 53s\n",
      "457:\tlearn: 1661.9065428\ttest: 1712.8246822\tbest: 1712.8246822 (457)\ttotal: 1m 47s\tremaining: 2m 53s\n",
      "458:\tlearn: 1661.3989716\ttest: 1712.4616675\tbest: 1712.4616675 (458)\ttotal: 1m 47s\tremaining: 2m 53s\n",
      "459:\tlearn: 1661.0478479\ttest: 1712.1273887\tbest: 1712.1273887 (459)\ttotal: 1m 47s\tremaining: 2m 52s\n",
      "460:\tlearn: 1660.8357826\ttest: 1711.9273938\tbest: 1711.9273938 (460)\ttotal: 1m 47s\tremaining: 2m 52s\n",
      "461:\tlearn: 1660.5359399\ttest: 1711.6944475\tbest: 1711.6944475 (461)\ttotal: 1m 47s\tremaining: 2m 52s\n",
      "462:\tlearn: 1660.1452961\ttest: 1711.4017288\tbest: 1711.4017288 (462)\ttotal: 1m 48s\tremaining: 2m 52s\n",
      "463:\tlearn: 1659.9360058\ttest: 1711.2604082\tbest: 1711.2604082 (463)\ttotal: 1m 48s\tremaining: 2m 52s\n",
      "464:\tlearn: 1659.5543756\ttest: 1710.9992134\tbest: 1710.9992134 (464)\ttotal: 1m 48s\tremaining: 2m 51s\n",
      "465:\tlearn: 1658.9544496\ttest: 1710.4662716\tbest: 1710.4662716 (465)\ttotal: 1m 48s\tremaining: 2m 51s\n",
      "466:\tlearn: 1658.4500885\ttest: 1710.0703505\tbest: 1710.0703505 (466)\ttotal: 1m 49s\tremaining: 2m 51s\n",
      "467:\tlearn: 1658.0577677\ttest: 1709.8032724\tbest: 1709.8032724 (467)\ttotal: 1m 49s\tremaining: 2m 51s\n",
      "468:\tlearn: 1657.8262137\ttest: 1709.6771078\tbest: 1709.6771078 (468)\ttotal: 1m 49s\tremaining: 2m 50s\n",
      "469:\tlearn: 1657.6269179\ttest: 1709.5448845\tbest: 1709.5448845 (469)\ttotal: 1m 49s\tremaining: 2m 50s\n",
      "470:\tlearn: 1657.3448821\ttest: 1709.3006321\tbest: 1709.3006321 (470)\ttotal: 1m 50s\tremaining: 2m 50s\n",
      "471:\tlearn: 1657.1459335\ttest: 1709.1636974\tbest: 1709.1636974 (471)\ttotal: 1m 50s\tremaining: 2m 50s\n",
      "472:\tlearn: 1656.9156330\ttest: 1708.9931838\tbest: 1708.9931838 (472)\ttotal: 1m 50s\tremaining: 2m 50s\n",
      "473:\tlearn: 1656.6500469\ttest: 1708.8002845\tbest: 1708.8002845 (473)\ttotal: 1m 50s\tremaining: 2m 49s\n",
      "474:\tlearn: 1656.3735633\ttest: 1708.5689812\tbest: 1708.5689812 (474)\ttotal: 1m 51s\tremaining: 2m 49s\n",
      "475:\tlearn: 1656.0005815\ttest: 1708.2775012\tbest: 1708.2775012 (475)\ttotal: 1m 51s\tremaining: 2m 49s\n",
      "476:\tlearn: 1655.7385246\ttest: 1708.0520735\tbest: 1708.0520735 (476)\ttotal: 1m 51s\tremaining: 2m 49s\n",
      "477:\tlearn: 1655.3311295\ttest: 1707.7976171\tbest: 1707.7976171 (477)\ttotal: 1m 51s\tremaining: 2m 49s\n",
      "478:\tlearn: 1655.0664874\ttest: 1707.5948496\tbest: 1707.5948496 (478)\ttotal: 1m 52s\tremaining: 2m 48s\n",
      "479:\tlearn: 1654.6710437\ttest: 1707.3087397\tbest: 1707.3087397 (479)\ttotal: 1m 52s\tremaining: 2m 48s\n",
      "480:\tlearn: 1654.4063267\ttest: 1707.1268711\tbest: 1707.1268711 (480)\ttotal: 1m 52s\tremaining: 2m 48s\n",
      "481:\tlearn: 1654.2008380\ttest: 1706.9658522\tbest: 1706.9658522 (481)\ttotal: 1m 53s\tremaining: 2m 48s\n",
      "482:\tlearn: 1653.9261320\ttest: 1706.8179945\tbest: 1706.8179945 (482)\ttotal: 1m 53s\tremaining: 2m 48s\n",
      "483:\tlearn: 1653.8090509\ttest: 1706.7172770\tbest: 1706.7172770 (483)\ttotal: 1m 53s\tremaining: 2m 47s\n",
      "484:\tlearn: 1653.5146976\ttest: 1706.4404086\tbest: 1706.4404086 (484)\ttotal: 1m 53s\tremaining: 2m 47s\n",
      "485:\tlearn: 1652.9110822\ttest: 1705.8755101\tbest: 1705.8755101 (485)\ttotal: 1m 53s\tremaining: 2m 47s\n",
      "486:\tlearn: 1652.6218359\ttest: 1705.7017475\tbest: 1705.7017475 (486)\ttotal: 1m 54s\tremaining: 2m 47s\n",
      "487:\tlearn: 1652.3856530\ttest: 1705.5326030\tbest: 1705.5326030 (487)\ttotal: 1m 54s\tremaining: 2m 47s\n",
      "488:\tlearn: 1652.2066874\ttest: 1705.4168081\tbest: 1705.4168081 (488)\ttotal: 1m 54s\tremaining: 2m 46s\n",
      "489:\tlearn: 1651.9701463\ttest: 1705.1882942\tbest: 1705.1882942 (489)\ttotal: 1m 54s\tremaining: 2m 46s\n",
      "490:\tlearn: 1651.7627085\ttest: 1705.0891792\tbest: 1705.0891792 (490)\ttotal: 1m 55s\tremaining: 2m 46s\n",
      "491:\tlearn: 1651.5435929\ttest: 1704.9368743\tbest: 1704.9368743 (491)\ttotal: 1m 55s\tremaining: 2m 46s\n",
      "492:\tlearn: 1651.2823386\ttest: 1704.6842098\tbest: 1704.6842098 (492)\ttotal: 1m 55s\tremaining: 2m 45s\n",
      "493:\tlearn: 1651.0728764\ttest: 1704.5601253\tbest: 1704.5601253 (493)\ttotal: 1m 55s\tremaining: 2m 45s\n",
      "494:\tlearn: 1650.7091643\ttest: 1704.2578767\tbest: 1704.2578767 (494)\ttotal: 1m 56s\tremaining: 2m 45s\n",
      "495:\tlearn: 1650.5415591\ttest: 1704.1195242\tbest: 1704.1195242 (495)\ttotal: 1m 56s\tremaining: 2m 45s\n",
      "496:\tlearn: 1650.3549741\ttest: 1704.0365078\tbest: 1704.0365078 (496)\ttotal: 1m 56s\tremaining: 2m 45s\n",
      "497:\tlearn: 1650.0840480\ttest: 1703.8101097\tbest: 1703.8101097 (497)\ttotal: 1m 56s\tremaining: 2m 44s\n",
      "498:\tlearn: 1649.7456823\ttest: 1703.5253899\tbest: 1703.5253899 (498)\ttotal: 1m 57s\tremaining: 2m 44s\n",
      "499:\tlearn: 1649.5542408\ttest: 1703.4350633\tbest: 1703.4350633 (499)\ttotal: 1m 57s\tremaining: 2m 44s\n",
      "500:\tlearn: 1649.2844496\ttest: 1703.1631188\tbest: 1703.1631188 (500)\ttotal: 1m 57s\tremaining: 2m 44s\n",
      "501:\tlearn: 1649.0894519\ttest: 1703.0058790\tbest: 1703.0058790 (501)\ttotal: 1m 57s\tremaining: 2m 43s\n",
      "502:\tlearn: 1648.8724396\ttest: 1702.8768533\tbest: 1702.8768533 (502)\ttotal: 1m 58s\tremaining: 2m 43s\n",
      "503:\tlearn: 1648.5206920\ttest: 1702.6813908\tbest: 1702.6813908 (503)\ttotal: 1m 58s\tremaining: 2m 43s\n",
      "504:\tlearn: 1648.2051724\ttest: 1702.4478811\tbest: 1702.4478811 (504)\ttotal: 1m 58s\tremaining: 2m 43s\n",
      "505:\tlearn: 1648.0217562\ttest: 1702.3002206\tbest: 1702.3002206 (505)\ttotal: 1m 58s\tremaining: 2m 42s\n",
      "506:\tlearn: 1647.8476152\ttest: 1702.1657439\tbest: 1702.1657439 (506)\ttotal: 1m 59s\tremaining: 2m 42s\n",
      "507:\tlearn: 1647.5016591\ttest: 1701.8596689\tbest: 1701.8596689 (507)\ttotal: 1m 59s\tremaining: 2m 42s\n",
      "508:\tlearn: 1647.2374309\ttest: 1701.7239984\tbest: 1701.7239984 (508)\ttotal: 1m 59s\tremaining: 2m 42s\n",
      "509:\tlearn: 1646.8762222\ttest: 1701.4318408\tbest: 1701.4318408 (509)\ttotal: 1m 59s\tremaining: 2m 42s\n",
      "510:\tlearn: 1646.6798845\ttest: 1701.2879897\tbest: 1701.2879897 (510)\ttotal: 2m\tremaining: 2m 41s\n",
      "511:\tlearn: 1646.3698800\ttest: 1701.0678636\tbest: 1701.0678636 (511)\ttotal: 2m\tremaining: 2m 41s\n",
      "512:\tlearn: 1646.2387324\ttest: 1700.9222781\tbest: 1700.9222781 (512)\ttotal: 2m\tremaining: 2m 41s\n",
      "513:\tlearn: 1646.1565641\ttest: 1700.8624468\tbest: 1700.8624468 (513)\ttotal: 2m\tremaining: 2m 41s\n",
      "514:\tlearn: 1645.8773143\ttest: 1700.6556466\tbest: 1700.6556466 (514)\ttotal: 2m 1s\tremaining: 2m 40s\n",
      "515:\tlearn: 1645.7301071\ttest: 1700.5813375\tbest: 1700.5813375 (515)\ttotal: 2m 1s\tremaining: 2m 40s\n",
      "516:\tlearn: 1645.2847699\ttest: 1700.2145646\tbest: 1700.2145646 (516)\ttotal: 2m 1s\tremaining: 2m 40s\n",
      "517:\tlearn: 1644.9618326\ttest: 1699.9867345\tbest: 1699.9867345 (517)\ttotal: 2m 1s\tremaining: 2m 40s\n",
      "518:\tlearn: 1644.6801314\ttest: 1699.7874695\tbest: 1699.7874695 (518)\ttotal: 2m 2s\tremaining: 2m 40s\n",
      "519:\tlearn: 1644.3743931\ttest: 1699.5351714\tbest: 1699.5351714 (519)\ttotal: 2m 2s\tremaining: 2m 39s\n",
      "520:\tlearn: 1644.1167585\ttest: 1699.3049966\tbest: 1699.3049966 (520)\ttotal: 2m 2s\tremaining: 2m 39s\n",
      "521:\tlearn: 1643.8252140\ttest: 1699.0629182\tbest: 1699.0629182 (521)\ttotal: 2m 2s\tremaining: 2m 39s\n",
      "522:\tlearn: 1643.5129843\ttest: 1698.8236201\tbest: 1698.8236201 (522)\ttotal: 2m 3s\tremaining: 2m 39s\n",
      "523:\tlearn: 1643.0313802\ttest: 1698.4384196\tbest: 1698.4384196 (523)\ttotal: 2m 3s\tremaining: 2m 39s\n",
      "524:\tlearn: 1642.6513088\ttest: 1698.1350760\tbest: 1698.1350760 (524)\ttotal: 2m 3s\tremaining: 2m 38s\n",
      "525:\tlearn: 1642.2275216\ttest: 1697.8543526\tbest: 1697.8543526 (525)\ttotal: 2m 3s\tremaining: 2m 38s\n",
      "526:\tlearn: 1641.9840266\ttest: 1697.6847921\tbest: 1697.6847921 (526)\ttotal: 2m 4s\tremaining: 2m 38s\n",
      "527:\tlearn: 1641.8086236\ttest: 1697.6463104\tbest: 1697.6463104 (527)\ttotal: 2m 4s\tremaining: 2m 38s\n",
      "528:\tlearn: 1641.6381856\ttest: 1697.5082394\tbest: 1697.5082394 (528)\ttotal: 2m 4s\tremaining: 2m 38s\n",
      "529:\tlearn: 1641.3869634\ttest: 1697.3657918\tbest: 1697.3657918 (529)\ttotal: 2m 4s\tremaining: 2m 37s\n",
      "530:\tlearn: 1641.0284349\ttest: 1697.1282077\tbest: 1697.1282077 (530)\ttotal: 2m 5s\tremaining: 2m 37s\n",
      "531:\tlearn: 1640.8470006\ttest: 1697.0107193\tbest: 1697.0107193 (531)\ttotal: 2m 5s\tremaining: 2m 37s\n",
      "532:\tlearn: 1640.5790850\ttest: 1696.8564982\tbest: 1696.8564982 (532)\ttotal: 2m 5s\tremaining: 2m 37s\n",
      "533:\tlearn: 1640.2887803\ttest: 1696.6780405\tbest: 1696.6780405 (533)\ttotal: 2m 5s\tremaining: 2m 36s\n",
      "534:\tlearn: 1639.8292259\ttest: 1696.3943656\tbest: 1696.3943656 (534)\ttotal: 2m 6s\tremaining: 2m 36s\n",
      "535:\tlearn: 1639.5161660\ttest: 1696.1641211\tbest: 1696.1641211 (535)\ttotal: 2m 6s\tremaining: 2m 36s\n",
      "536:\tlearn: 1639.3417177\ttest: 1696.0637258\tbest: 1696.0637258 (536)\ttotal: 2m 6s\tremaining: 2m 36s\n",
      "537:\tlearn: 1639.2065686\ttest: 1695.9852302\tbest: 1695.9852302 (537)\ttotal: 2m 6s\tremaining: 2m 36s\n",
      "538:\tlearn: 1639.0294515\ttest: 1695.9152021\tbest: 1695.9152021 (538)\ttotal: 2m 7s\tremaining: 2m 35s\n",
      "539:\tlearn: 1638.7167639\ttest: 1695.7298098\tbest: 1695.7298098 (539)\ttotal: 2m 7s\tremaining: 2m 35s\n",
      "540:\tlearn: 1638.3824328\ttest: 1695.5274928\tbest: 1695.5274928 (540)\ttotal: 2m 7s\tremaining: 2m 35s\n",
      "541:\tlearn: 1638.0933108\ttest: 1695.3952724\tbest: 1695.3952724 (541)\ttotal: 2m 7s\tremaining: 2m 35s\n",
      "542:\tlearn: 1637.6859309\ttest: 1695.1098527\tbest: 1695.1098527 (542)\ttotal: 2m 8s\tremaining: 2m 35s\n",
      "543:\tlearn: 1637.4226207\ttest: 1694.9726802\tbest: 1694.9726802 (543)\ttotal: 2m 8s\tremaining: 2m 34s\n",
      "544:\tlearn: 1637.1323808\ttest: 1694.7365946\tbest: 1694.7365946 (544)\ttotal: 2m 8s\tremaining: 2m 34s\n",
      "545:\tlearn: 1636.8033576\ttest: 1694.4663911\tbest: 1694.4663911 (545)\ttotal: 2m 8s\tremaining: 2m 34s\n",
      "546:\tlearn: 1636.6712159\ttest: 1694.3709655\tbest: 1694.3709655 (546)\ttotal: 2m 9s\tremaining: 2m 34s\n",
      "547:\tlearn: 1636.4871656\ttest: 1694.2612118\tbest: 1694.2612118 (547)\ttotal: 2m 9s\tremaining: 2m 33s\n",
      "548:\tlearn: 1636.0972409\ttest: 1693.8900508\tbest: 1693.8900508 (548)\ttotal: 2m 9s\tremaining: 2m 33s\n",
      "549:\tlearn: 1635.8045958\ttest: 1693.6491400\tbest: 1693.6491400 (549)\ttotal: 2m 9s\tremaining: 2m 33s\n",
      "550:\tlearn: 1635.4214686\ttest: 1693.3423439\tbest: 1693.3423439 (550)\ttotal: 2m 10s\tremaining: 2m 33s\n",
      "551:\tlearn: 1635.1361158\ttest: 1693.1235432\tbest: 1693.1235432 (551)\ttotal: 2m 10s\tremaining: 2m 33s\n",
      "552:\tlearn: 1634.9006132\ttest: 1692.9235367\tbest: 1692.9235367 (552)\ttotal: 2m 10s\tremaining: 2m 32s\n",
      "553:\tlearn: 1634.7141989\ttest: 1692.8494906\tbest: 1692.8494906 (553)\ttotal: 2m 10s\tremaining: 2m 32s\n",
      "554:\tlearn: 1634.3435732\ttest: 1692.5490920\tbest: 1692.5490920 (554)\ttotal: 2m 11s\tremaining: 2m 32s\n",
      "555:\tlearn: 1634.0265201\ttest: 1692.3241555\tbest: 1692.3241555 (555)\ttotal: 2m 11s\tremaining: 2m 32s\n",
      "556:\tlearn: 1633.8850820\ttest: 1692.2100542\tbest: 1692.2100542 (556)\ttotal: 2m 11s\tremaining: 2m 31s\n",
      "557:\tlearn: 1633.6182063\ttest: 1692.0371337\tbest: 1692.0371337 (557)\ttotal: 2m 11s\tremaining: 2m 31s\n",
      "558:\tlearn: 1633.3944984\ttest: 1691.8614024\tbest: 1691.8614024 (558)\ttotal: 2m 12s\tremaining: 2m 31s\n",
      "559:\tlearn: 1633.0262538\ttest: 1691.5586527\tbest: 1691.5586527 (559)\ttotal: 2m 12s\tremaining: 2m 31s\n",
      "560:\tlearn: 1632.8197443\ttest: 1691.4195282\tbest: 1691.4195282 (560)\ttotal: 2m 12s\tremaining: 2m 31s\n",
      "561:\tlearn: 1632.6793343\ttest: 1691.3554042\tbest: 1691.3554042 (561)\ttotal: 2m 12s\tremaining: 2m 30s\n",
      "562:\tlearn: 1632.2239555\ttest: 1691.0153614\tbest: 1691.0153614 (562)\ttotal: 2m 13s\tremaining: 2m 30s\n",
      "563:\tlearn: 1631.8905256\ttest: 1690.6970825\tbest: 1690.6970825 (563)\ttotal: 2m 13s\tremaining: 2m 30s\n",
      "564:\tlearn: 1631.5587653\ttest: 1690.4481818\tbest: 1690.4481818 (564)\ttotal: 2m 13s\tremaining: 2m 30s\n",
      "565:\tlearn: 1631.3210488\ttest: 1690.2506699\tbest: 1690.2506699 (565)\ttotal: 2m 13s\tremaining: 2m 29s\n",
      "566:\tlearn: 1631.1664780\ttest: 1690.1114115\tbest: 1690.1114115 (566)\ttotal: 2m 14s\tremaining: 2m 29s\n",
      "567:\tlearn: 1630.8558905\ttest: 1689.9063272\tbest: 1689.9063272 (567)\ttotal: 2m 14s\tremaining: 2m 29s\n",
      "568:\tlearn: 1630.7092250\ttest: 1689.7766981\tbest: 1689.7766981 (568)\ttotal: 2m 14s\tremaining: 2m 29s\n",
      "569:\tlearn: 1630.3394010\ttest: 1689.4370935\tbest: 1689.4370935 (569)\ttotal: 2m 14s\tremaining: 2m 28s\n",
      "570:\tlearn: 1630.1921186\ttest: 1689.3650948\tbest: 1689.3650948 (570)\ttotal: 2m 15s\tremaining: 2m 28s\n",
      "571:\tlearn: 1629.8696800\ttest: 1689.0203520\tbest: 1689.0203520 (571)\ttotal: 2m 15s\tremaining: 2m 28s\n",
      "572:\tlearn: 1629.6699101\ttest: 1688.9671504\tbest: 1688.9671504 (572)\ttotal: 2m 15s\tremaining: 2m 28s\n",
      "573:\tlearn: 1629.4149186\ttest: 1688.7890043\tbest: 1688.7890043 (573)\ttotal: 2m 15s\tremaining: 2m 28s\n",
      "574:\tlearn: 1629.1453812\ttest: 1688.6767179\tbest: 1688.6767179 (574)\ttotal: 2m 16s\tremaining: 2m 27s\n",
      "575:\tlearn: 1628.9429714\ttest: 1688.5189488\tbest: 1688.5189488 (575)\ttotal: 2m 16s\tremaining: 2m 27s\n",
      "576:\tlearn: 1628.6839427\ttest: 1688.3042863\tbest: 1688.3042863 (576)\ttotal: 2m 16s\tremaining: 2m 27s\n",
      "577:\tlearn: 1628.5882759\ttest: 1688.2378554\tbest: 1688.2378554 (577)\ttotal: 2m 16s\tremaining: 2m 27s\n",
      "578:\tlearn: 1628.3784042\ttest: 1688.0608097\tbest: 1688.0608097 (578)\ttotal: 2m 17s\tremaining: 2m 27s\n",
      "579:\tlearn: 1628.1834776\ttest: 1687.9078678\tbest: 1687.9078678 (579)\ttotal: 2m 17s\tremaining: 2m 26s\n",
      "580:\tlearn: 1628.0363064\ttest: 1687.8407379\tbest: 1687.8407379 (580)\ttotal: 2m 17s\tremaining: 2m 26s\n",
      "581:\tlearn: 1627.7282549\ttest: 1687.6497613\tbest: 1687.6497613 (581)\ttotal: 2m 17s\tremaining: 2m 26s\n",
      "582:\tlearn: 1627.5547231\ttest: 1687.5209452\tbest: 1687.5209452 (582)\ttotal: 2m 18s\tremaining: 2m 26s\n",
      "583:\tlearn: 1627.3075922\ttest: 1687.3225026\tbest: 1687.3225026 (583)\ttotal: 2m 18s\tremaining: 2m 25s\n",
      "584:\tlearn: 1627.1311649\ttest: 1687.1699255\tbest: 1687.1699255 (584)\ttotal: 2m 18s\tremaining: 2m 25s\n",
      "585:\tlearn: 1626.9767768\ttest: 1687.0548185\tbest: 1687.0548185 (585)\ttotal: 2m 18s\tremaining: 2m 25s\n",
      "586:\tlearn: 1626.8067430\ttest: 1686.9056280\tbest: 1686.9056280 (586)\ttotal: 2m 18s\tremaining: 2m 25s\n",
      "587:\tlearn: 1626.5469803\ttest: 1686.6498272\tbest: 1686.6498272 (587)\ttotal: 2m 19s\tremaining: 2m 24s\n",
      "588:\tlearn: 1626.4293045\ttest: 1686.5730089\tbest: 1686.5730089 (588)\ttotal: 2m 19s\tremaining: 2m 24s\n",
      "589:\tlearn: 1626.3315990\ttest: 1686.4936364\tbest: 1686.4936364 (589)\ttotal: 2m 19s\tremaining: 2m 24s\n",
      "590:\tlearn: 1626.1851232\ttest: 1686.3964246\tbest: 1686.3964246 (590)\ttotal: 2m 19s\tremaining: 2m 24s\n",
      "591:\tlearn: 1626.0584051\ttest: 1686.2992194\tbest: 1686.2992194 (591)\ttotal: 2m 20s\tremaining: 2m 23s\n",
      "592:\tlearn: 1625.8689842\ttest: 1686.1308569\tbest: 1686.1308569 (592)\ttotal: 2m 20s\tremaining: 2m 23s\n",
      "593:\tlearn: 1625.7052105\ttest: 1686.0600405\tbest: 1686.0600405 (593)\ttotal: 2m 20s\tremaining: 2m 23s\n",
      "594:\tlearn: 1625.4376958\ttest: 1685.8832796\tbest: 1685.8832796 (594)\ttotal: 2m 20s\tremaining: 2m 23s\n",
      "595:\tlearn: 1625.2692606\ttest: 1685.7373466\tbest: 1685.7373466 (595)\ttotal: 2m 21s\tremaining: 2m 22s\n",
      "596:\tlearn: 1625.0838352\ttest: 1685.5726688\tbest: 1685.5726688 (596)\ttotal: 2m 21s\tremaining: 2m 22s\n",
      "597:\tlearn: 1624.8623166\ttest: 1685.4730548\tbest: 1685.4730548 (597)\ttotal: 2m 21s\tremaining: 2m 22s\n",
      "598:\tlearn: 1624.6948615\ttest: 1685.3986704\tbest: 1685.3986704 (598)\ttotal: 2m 21s\tremaining: 2m 22s\n",
      "599:\tlearn: 1624.4877978\ttest: 1685.2339063\tbest: 1685.2339063 (599)\ttotal: 2m 22s\tremaining: 2m 22s\n",
      "600:\tlearn: 1624.2490772\ttest: 1685.0923249\tbest: 1685.0923249 (600)\ttotal: 2m 22s\tremaining: 2m 21s\n",
      "601:\tlearn: 1623.8627698\ttest: 1684.8111897\tbest: 1684.8111897 (601)\ttotal: 2m 22s\tremaining: 2m 21s\n",
      "602:\tlearn: 1623.5464077\ttest: 1684.6074531\tbest: 1684.6074531 (602)\ttotal: 2m 22s\tremaining: 2m 21s\n",
      "603:\tlearn: 1623.3655325\ttest: 1684.4508073\tbest: 1684.4508073 (603)\ttotal: 2m 23s\tremaining: 2m 21s\n",
      "604:\tlearn: 1623.1656039\ttest: 1684.2342802\tbest: 1684.2342802 (604)\ttotal: 2m 23s\tremaining: 2m 20s\n",
      "605:\tlearn: 1622.9888057\ttest: 1684.1298660\tbest: 1684.1298660 (605)\ttotal: 2m 23s\tremaining: 2m 20s\n",
      "606:\tlearn: 1622.7601458\ttest: 1683.9509450\tbest: 1683.9509450 (606)\ttotal: 2m 23s\tremaining: 2m 20s\n",
      "607:\tlearn: 1622.6361809\ttest: 1683.8947699\tbest: 1683.8947699 (607)\ttotal: 2m 24s\tremaining: 2m 20s\n",
      "608:\tlearn: 1622.4239683\ttest: 1683.7670314\tbest: 1683.7670314 (608)\ttotal: 2m 24s\tremaining: 2m 20s\n",
      "609:\tlearn: 1622.3545855\ttest: 1683.7249425\tbest: 1683.7249425 (609)\ttotal: 2m 24s\tremaining: 2m 19s\n",
      "610:\tlearn: 1622.1039518\ttest: 1683.5645700\tbest: 1683.5645700 (610)\ttotal: 2m 24s\tremaining: 2m 19s\n",
      "611:\tlearn: 1621.9852172\ttest: 1683.5077161\tbest: 1683.5077161 (611)\ttotal: 2m 25s\tremaining: 2m 19s\n",
      "612:\tlearn: 1621.6041155\ttest: 1683.1661235\tbest: 1683.1661235 (612)\ttotal: 2m 25s\tremaining: 2m 19s\n",
      "613:\tlearn: 1621.4616114\ttest: 1683.0803282\tbest: 1683.0803282 (613)\ttotal: 2m 25s\tremaining: 2m 18s\n",
      "614:\tlearn: 1621.2286927\ttest: 1682.9297794\tbest: 1682.9297794 (614)\ttotal: 2m 25s\tremaining: 2m 18s\n",
      "615:\tlearn: 1621.1162161\ttest: 1682.8638523\tbest: 1682.8638523 (615)\ttotal: 2m 25s\tremaining: 2m 18s\n",
      "616:\tlearn: 1620.9449755\ttest: 1682.7453111\tbest: 1682.7453111 (616)\ttotal: 2m 26s\tremaining: 2m 18s\n",
      "617:\tlearn: 1620.6020713\ttest: 1682.4968861\tbest: 1682.4968861 (617)\ttotal: 2m 26s\tremaining: 2m 18s\n",
      "618:\tlearn: 1620.4551832\ttest: 1682.3706723\tbest: 1682.3706723 (618)\ttotal: 2m 26s\tremaining: 2m 17s\n",
      "619:\tlearn: 1620.2727287\ttest: 1682.2731408\tbest: 1682.2731408 (619)\ttotal: 2m 27s\tremaining: 2m 17s\n",
      "620:\tlearn: 1620.1271620\ttest: 1682.1908177\tbest: 1682.1908177 (620)\ttotal: 2m 27s\tremaining: 2m 17s\n",
      "621:\tlearn: 1619.7937606\ttest: 1681.9057703\tbest: 1681.9057703 (621)\ttotal: 2m 27s\tremaining: 2m 17s\n",
      "622:\tlearn: 1619.5580759\ttest: 1681.6925161\tbest: 1681.6925161 (622)\ttotal: 2m 27s\tremaining: 2m 17s\n",
      "623:\tlearn: 1619.2621763\ttest: 1681.4849528\tbest: 1681.4849528 (623)\ttotal: 2m 28s\tremaining: 2m 16s\n",
      "624:\tlearn: 1619.0503153\ttest: 1681.3245285\tbest: 1681.3245285 (624)\ttotal: 2m 28s\tremaining: 2m 16s\n",
      "625:\tlearn: 1618.8010875\ttest: 1681.0792279\tbest: 1681.0792279 (625)\ttotal: 2m 28s\tremaining: 2m 16s\n",
      "626:\tlearn: 1618.5290851\ttest: 1680.9515371\tbest: 1680.9515371 (626)\ttotal: 2m 28s\tremaining: 2m 16s\n",
      "627:\tlearn: 1618.2896397\ttest: 1680.8103956\tbest: 1680.8103956 (627)\ttotal: 2m 29s\tremaining: 2m 15s\n",
      "628:\tlearn: 1617.9814666\ttest: 1680.5766450\tbest: 1680.5766450 (628)\ttotal: 2m 29s\tremaining: 2m 15s\n",
      "629:\tlearn: 1617.8075351\ttest: 1680.4271325\tbest: 1680.4271325 (629)\ttotal: 2m 29s\tremaining: 2m 15s\n",
      "630:\tlearn: 1617.6136330\ttest: 1680.2958183\tbest: 1680.2958183 (630)\ttotal: 2m 29s\tremaining: 2m 15s\n",
      "631:\tlearn: 1617.4417024\ttest: 1680.1894525\tbest: 1680.1894525 (631)\ttotal: 2m 30s\tremaining: 2m 14s\n",
      "632:\tlearn: 1617.3429709\ttest: 1680.1177747\tbest: 1680.1177747 (632)\ttotal: 2m 30s\tremaining: 2m 14s\n",
      "633:\tlearn: 1617.1304931\ttest: 1679.9704779\tbest: 1679.9704779 (633)\ttotal: 2m 30s\tremaining: 2m 14s\n",
      "634:\tlearn: 1616.8003118\ttest: 1679.7043394\tbest: 1679.7043394 (634)\ttotal: 2m 31s\tremaining: 2m 14s\n",
      "635:\tlearn: 1616.6350257\ttest: 1679.6003589\tbest: 1679.6003589 (635)\ttotal: 2m 31s\tremaining: 2m 14s\n",
      "636:\tlearn: 1616.2910652\ttest: 1679.3089337\tbest: 1679.3089337 (636)\ttotal: 2m 31s\tremaining: 2m 13s\n",
      "637:\tlearn: 1616.1162668\ttest: 1679.1695449\tbest: 1679.1695449 (637)\ttotal: 2m 31s\tremaining: 2m 13s\n",
      "638:\tlearn: 1615.9938954\ttest: 1679.1063415\tbest: 1679.1063415 (638)\ttotal: 2m 32s\tremaining: 2m 13s\n",
      "639:\tlearn: 1615.6853312\ttest: 1678.8512996\tbest: 1678.8512996 (639)\ttotal: 2m 32s\tremaining: 2m 13s\n",
      "640:\tlearn: 1615.5006337\ttest: 1678.6911733\tbest: 1678.6911733 (640)\ttotal: 2m 32s\tremaining: 2m 12s\n",
      "641:\tlearn: 1615.2861904\ttest: 1678.5351360\tbest: 1678.5351360 (641)\ttotal: 2m 32s\tremaining: 2m 12s\n",
      "642:\tlearn: 1615.0249684\ttest: 1678.3439377\tbest: 1678.3439377 (642)\ttotal: 2m 32s\tremaining: 2m 12s\n",
      "643:\tlearn: 1614.7813683\ttest: 1678.1535827\tbest: 1678.1535827 (643)\ttotal: 2m 33s\tremaining: 2m 12s\n",
      "644:\tlearn: 1614.5880533\ttest: 1678.0070473\tbest: 1678.0070473 (644)\ttotal: 2m 33s\tremaining: 2m 11s\n",
      "645:\tlearn: 1614.4124457\ttest: 1677.9164072\tbest: 1677.9164072 (645)\ttotal: 2m 33s\tremaining: 2m 11s\n",
      "646:\tlearn: 1614.1246682\ttest: 1677.7729402\tbest: 1677.7729402 (646)\ttotal: 2m 33s\tremaining: 2m 11s\n",
      "647:\tlearn: 1613.9316713\ttest: 1677.6014668\tbest: 1677.6014668 (647)\ttotal: 2m 34s\tremaining: 2m 11s\n",
      "648:\tlearn: 1613.6875158\ttest: 1677.5213829\tbest: 1677.5213829 (648)\ttotal: 2m 34s\tremaining: 2m 11s\n",
      "649:\tlearn: 1613.6019177\ttest: 1677.4559078\tbest: 1677.4559078 (649)\ttotal: 2m 34s\tremaining: 2m 10s\n",
      "650:\tlearn: 1613.5083452\ttest: 1677.3793987\tbest: 1677.3793987 (650)\ttotal: 2m 34s\tremaining: 2m 10s\n",
      "651:\tlearn: 1613.1831757\ttest: 1677.1240695\tbest: 1677.1240695 (651)\ttotal: 2m 35s\tremaining: 2m 10s\n",
      "652:\tlearn: 1613.0008187\ttest: 1676.9764821\tbest: 1676.9764821 (652)\ttotal: 2m 35s\tremaining: 2m 10s\n",
      "653:\tlearn: 1612.9149387\ttest: 1676.9219279\tbest: 1676.9219279 (653)\ttotal: 2m 35s\tremaining: 2m 10s\n",
      "654:\tlearn: 1612.6862481\ttest: 1676.7970978\tbest: 1676.7970978 (654)\ttotal: 2m 35s\tremaining: 2m 9s\n",
      "655:\tlearn: 1612.4948720\ttest: 1676.6799871\tbest: 1676.6799871 (655)\ttotal: 2m 36s\tremaining: 2m 9s\n",
      "656:\tlearn: 1612.3788385\ttest: 1676.6226491\tbest: 1676.6226491 (656)\ttotal: 2m 36s\tremaining: 2m 9s\n",
      "657:\tlearn: 1612.2152111\ttest: 1676.4831706\tbest: 1676.4831706 (657)\ttotal: 2m 36s\tremaining: 2m 9s\n",
      "658:\tlearn: 1611.9203147\ttest: 1676.2485817\tbest: 1676.2485817 (658)\ttotal: 2m 36s\tremaining: 2m 8s\n",
      "659:\tlearn: 1611.8570508\ttest: 1676.2059749\tbest: 1676.2059749 (659)\ttotal: 2m 37s\tremaining: 2m 8s\n",
      "660:\tlearn: 1611.3583947\ttest: 1675.8302964\tbest: 1675.8302964 (660)\ttotal: 2m 37s\tremaining: 2m 8s\n",
      "661:\tlearn: 1611.1142737\ttest: 1675.6479504\tbest: 1675.6479504 (661)\ttotal: 2m 37s\tremaining: 2m 8s\n",
      "662:\tlearn: 1611.0206318\ttest: 1675.5852878\tbest: 1675.5852878 (662)\ttotal: 2m 38s\tremaining: 2m 7s\n",
      "663:\tlearn: 1610.8997192\ttest: 1675.5110732\tbest: 1675.5110732 (663)\ttotal: 2m 38s\tremaining: 2m 7s\n",
      "664:\tlearn: 1610.8413368\ttest: 1675.4699691\tbest: 1675.4699691 (664)\ttotal: 2m 38s\tremaining: 2m 7s\n",
      "665:\tlearn: 1610.6040725\ttest: 1675.2717158\tbest: 1675.2717158 (665)\ttotal: 2m 38s\tremaining: 2m 7s\n",
      "666:\tlearn: 1610.4515372\ttest: 1675.1766907\tbest: 1675.1766907 (666)\ttotal: 2m 39s\tremaining: 2m 7s\n",
      "667:\tlearn: 1610.2911675\ttest: 1675.0441295\tbest: 1675.0441295 (667)\ttotal: 2m 39s\tremaining: 2m 6s\n",
      "668:\tlearn: 1610.1281059\ttest: 1674.9178032\tbest: 1674.9178032 (668)\ttotal: 2m 39s\tremaining: 2m 6s\n",
      "669:\tlearn: 1610.0069800\ttest: 1674.8309108\tbest: 1674.8309108 (669)\ttotal: 2m 39s\tremaining: 2m 6s\n",
      "670:\tlearn: 1609.5285560\ttest: 1674.4418518\tbest: 1674.4418518 (670)\ttotal: 2m 40s\tremaining: 2m 6s\n",
      "671:\tlearn: 1609.3773145\ttest: 1674.3966544\tbest: 1674.3966544 (671)\ttotal: 2m 40s\tremaining: 2m 5s\n",
      "672:\tlearn: 1609.0780000\ttest: 1674.2114894\tbest: 1674.2114894 (672)\ttotal: 2m 40s\tremaining: 2m 5s\n",
      "673:\tlearn: 1608.8951216\ttest: 1674.0791691\tbest: 1674.0791691 (673)\ttotal: 2m 40s\tremaining: 2m 5s\n",
      "674:\tlearn: 1608.7362291\ttest: 1673.9692548\tbest: 1673.9692548 (674)\ttotal: 2m 41s\tremaining: 2m 5s\n",
      "675:\tlearn: 1608.4691266\ttest: 1673.7980635\tbest: 1673.7980635 (675)\ttotal: 2m 41s\tremaining: 2m 5s\n",
      "676:\tlearn: 1608.2863436\ttest: 1673.6976562\tbest: 1673.6976562 (676)\ttotal: 2m 41s\tremaining: 2m 4s\n",
      "677:\tlearn: 1608.0918593\ttest: 1673.5541448\tbest: 1673.5541448 (677)\ttotal: 2m 41s\tremaining: 2m 4s\n",
      "678:\tlearn: 1607.9140457\ttest: 1673.4879182\tbest: 1673.4879182 (678)\ttotal: 2m 42s\tremaining: 2m 4s\n",
      "679:\tlearn: 1607.6899827\ttest: 1673.3172811\tbest: 1673.3172811 (679)\ttotal: 2m 42s\tremaining: 2m 4s\n",
      "680:\tlearn: 1607.5601645\ttest: 1673.2138800\tbest: 1673.2138800 (680)\ttotal: 2m 42s\tremaining: 2m 3s\n",
      "681:\tlearn: 1607.4057290\ttest: 1673.0761901\tbest: 1673.0761901 (681)\ttotal: 2m 42s\tremaining: 2m 3s\n",
      "682:\tlearn: 1607.1718148\ttest: 1672.8970441\tbest: 1672.8970441 (682)\ttotal: 2m 43s\tremaining: 2m 3s\n",
      "683:\tlearn: 1607.0532273\ttest: 1672.8355703\tbest: 1672.8355703 (683)\ttotal: 2m 43s\tremaining: 2m 3s\n",
      "684:\tlearn: 1606.8645873\ttest: 1672.6968832\tbest: 1672.6968832 (684)\ttotal: 2m 43s\tremaining: 2m 3s\n",
      "685:\tlearn: 1606.6352144\ttest: 1672.5750195\tbest: 1672.5750195 (685)\ttotal: 2m 43s\tremaining: 2m 2s\n",
      "686:\tlearn: 1606.4236805\ttest: 1672.4074357\tbest: 1672.4074357 (686)\ttotal: 2m 44s\tremaining: 2m 2s\n",
      "687:\tlearn: 1606.2556148\ttest: 1672.3322520\tbest: 1672.3322520 (687)\ttotal: 2m 44s\tremaining: 2m 2s\n",
      "688:\tlearn: 1606.0235496\ttest: 1672.1696534\tbest: 1672.1696534 (688)\ttotal: 2m 44s\tremaining: 2m 2s\n",
      "689:\tlearn: 1605.8375313\ttest: 1672.0501177\tbest: 1672.0501177 (689)\ttotal: 2m 45s\tremaining: 2m 1s\n",
      "690:\tlearn: 1605.7567633\ttest: 1672.0061495\tbest: 1672.0061495 (690)\ttotal: 2m 45s\tremaining: 2m 1s\n",
      "691:\tlearn: 1605.5120060\ttest: 1671.7940518\tbest: 1671.7940518 (691)\ttotal: 2m 45s\tremaining: 2m 1s\n",
      "692:\tlearn: 1605.3162267\ttest: 1671.6590840\tbest: 1671.6590840 (692)\ttotal: 2m 45s\tremaining: 2m 1s\n",
      "693:\tlearn: 1605.1469750\ttest: 1671.4945480\tbest: 1671.4945480 (693)\ttotal: 2m 46s\tremaining: 2m 1s\n",
      "694:\tlearn: 1604.9841158\ttest: 1671.4311361\tbest: 1671.4311361 (694)\ttotal: 2m 46s\tremaining: 2m\n",
      "695:\tlearn: 1604.7901734\ttest: 1671.3659229\tbest: 1671.3659229 (695)\ttotal: 2m 46s\tremaining: 2m\n",
      "696:\tlearn: 1604.6860502\ttest: 1671.3118547\tbest: 1671.3118547 (696)\ttotal: 2m 46s\tremaining: 2m\n",
      "697:\tlearn: 1604.5280333\ttest: 1671.2128097\tbest: 1671.2128097 (697)\ttotal: 2m 47s\tremaining: 2m\n",
      "698:\tlearn: 1604.3556702\ttest: 1671.1085940\tbest: 1671.1085940 (698)\ttotal: 2m 47s\tremaining: 1m 59s\n",
      "699:\tlearn: 1604.2098375\ttest: 1671.0148390\tbest: 1671.0148390 (699)\ttotal: 2m 47s\tremaining: 1m 59s\n",
      "700:\tlearn: 1604.0455203\ttest: 1670.9256317\tbest: 1670.9256317 (700)\ttotal: 2m 47s\tremaining: 1m 59s\n",
      "701:\tlearn: 1603.9497550\ttest: 1670.8701283\tbest: 1670.8701283 (701)\ttotal: 2m 48s\tremaining: 1m 59s\n",
      "702:\tlearn: 1603.7961222\ttest: 1670.7408080\tbest: 1670.7408080 (702)\ttotal: 2m 48s\tremaining: 1m 58s\n",
      "703:\tlearn: 1603.6994529\ttest: 1670.6680631\tbest: 1670.6680631 (703)\ttotal: 2m 48s\tremaining: 1m 58s\n",
      "704:\tlearn: 1603.4358517\ttest: 1670.5158604\tbest: 1670.5158604 (704)\ttotal: 2m 48s\tremaining: 1m 58s\n",
      "705:\tlearn: 1603.3552288\ttest: 1670.4512458\tbest: 1670.4512458 (705)\ttotal: 2m 49s\tremaining: 1m 58s\n",
      "706:\tlearn: 1603.1723803\ttest: 1670.2939151\tbest: 1670.2939151 (706)\ttotal: 2m 49s\tremaining: 1m 58s\n",
      "707:\tlearn: 1602.6768383\ttest: 1669.8905393\tbest: 1669.8905393 (707)\ttotal: 2m 49s\tremaining: 1m 57s\n",
      "708:\tlearn: 1602.5058889\ttest: 1669.7770780\tbest: 1669.7770780 (708)\ttotal: 2m 49s\tremaining: 1m 57s\n",
      "709:\tlearn: 1602.2773144\ttest: 1669.6395702\tbest: 1669.6395702 (709)\ttotal: 2m 49s\tremaining: 1m 57s\n",
      "710:\tlearn: 1602.1300528\ttest: 1669.5823572\tbest: 1669.5823572 (710)\ttotal: 2m 50s\tremaining: 1m 57s\n",
      "711:\tlearn: 1601.8065120\ttest: 1669.3764511\tbest: 1669.3764511 (711)\ttotal: 2m 50s\tremaining: 1m 56s\n",
      "712:\tlearn: 1601.6988006\ttest: 1669.3409739\tbest: 1669.3409739 (712)\ttotal: 2m 50s\tremaining: 1m 56s\n",
      "713:\tlearn: 1601.5802531\ttest: 1669.2436759\tbest: 1669.2436759 (713)\ttotal: 2m 50s\tremaining: 1m 56s\n",
      "714:\tlearn: 1601.3999016\ttest: 1669.1113229\tbest: 1669.1113229 (714)\ttotal: 2m 51s\tremaining: 1m 56s\n",
      "715:\tlearn: 1601.3375721\ttest: 1669.0472997\tbest: 1669.0472997 (715)\ttotal: 2m 51s\tremaining: 1m 55s\n",
      "716:\tlearn: 1601.2174270\ttest: 1668.9501654\tbest: 1668.9501654 (716)\ttotal: 2m 51s\tremaining: 1m 55s\n",
      "717:\tlearn: 1601.0686925\ttest: 1668.9406485\tbest: 1668.9406485 (717)\ttotal: 2m 51s\tremaining: 1m 55s\n",
      "718:\tlearn: 1600.9316527\ttest: 1668.8531442\tbest: 1668.8531442 (718)\ttotal: 2m 52s\tremaining: 1m 55s\n",
      "719:\tlearn: 1600.7986327\ttest: 1668.8123339\tbest: 1668.8123339 (719)\ttotal: 2m 52s\tremaining: 1m 54s\n",
      "720:\tlearn: 1600.6341324\ttest: 1668.7267464\tbest: 1668.7267464 (720)\ttotal: 2m 52s\tremaining: 1m 54s\n",
      "721:\tlearn: 1600.5118972\ttest: 1668.6392763\tbest: 1668.6392763 (721)\ttotal: 2m 52s\tremaining: 1m 54s\n",
      "722:\tlearn: 1600.2936739\ttest: 1668.5037379\tbest: 1668.5037379 (722)\ttotal: 2m 53s\tremaining: 1m 54s\n",
      "723:\tlearn: 1600.0204561\ttest: 1668.3293965\tbest: 1668.3293965 (723)\ttotal: 2m 53s\tremaining: 1m 54s\n",
      "724:\tlearn: 1599.6152472\ttest: 1668.0110138\tbest: 1668.0110138 (724)\ttotal: 2m 53s\tremaining: 1m 53s\n",
      "725:\tlearn: 1599.1597686\ttest: 1667.6840470\tbest: 1667.6840470 (725)\ttotal: 2m 53s\tremaining: 1m 53s\n",
      "726:\tlearn: 1599.1090374\ttest: 1667.6322947\tbest: 1667.6322947 (726)\ttotal: 2m 54s\tremaining: 1m 53s\n",
      "727:\tlearn: 1598.9808217\ttest: 1667.5349825\tbest: 1667.5349825 (727)\ttotal: 2m 54s\tremaining: 1m 53s\n",
      "728:\tlearn: 1598.8612764\ttest: 1667.4865579\tbest: 1667.4865579 (728)\ttotal: 2m 54s\tremaining: 1m 52s\n",
      "729:\tlearn: 1598.7427359\ttest: 1667.4541409\tbest: 1667.4541409 (729)\ttotal: 2m 54s\tremaining: 1m 52s\n",
      "730:\tlearn: 1598.5163360\ttest: 1667.3000491\tbest: 1667.3000491 (730)\ttotal: 2m 55s\tremaining: 1m 52s\n",
      "731:\tlearn: 1598.4305559\ttest: 1667.2349815\tbest: 1667.2349815 (731)\ttotal: 2m 55s\tremaining: 1m 52s\n",
      "732:\tlearn: 1598.2099435\ttest: 1667.0974979\tbest: 1667.0974979 (732)\ttotal: 2m 55s\tremaining: 1m 51s\n",
      "733:\tlearn: 1598.0482827\ttest: 1666.9853154\tbest: 1666.9853154 (733)\ttotal: 2m 55s\tremaining: 1m 51s\n",
      "734:\tlearn: 1597.9482697\ttest: 1666.9381952\tbest: 1666.9381952 (734)\ttotal: 2m 56s\tremaining: 1m 51s\n",
      "735:\tlearn: 1597.6451143\ttest: 1666.7214385\tbest: 1666.7214385 (735)\ttotal: 2m 56s\tremaining: 1m 51s\n",
      "736:\tlearn: 1597.5054500\ttest: 1666.6366136\tbest: 1666.6366136 (736)\ttotal: 2m 56s\tremaining: 1m 50s\n",
      "737:\tlearn: 1597.3639908\ttest: 1666.5460598\tbest: 1666.5460598 (737)\ttotal: 2m 56s\tremaining: 1m 50s\n",
      "738:\tlearn: 1597.3076400\ttest: 1666.5225249\tbest: 1666.5225249 (738)\ttotal: 2m 57s\tremaining: 1m 50s\n",
      "739:\tlearn: 1597.0408745\ttest: 1666.3104780\tbest: 1666.3104780 (739)\ttotal: 2m 57s\tremaining: 1m 50s\n",
      "740:\tlearn: 1596.8932305\ttest: 1666.2457157\tbest: 1666.2457157 (740)\ttotal: 2m 57s\tremaining: 1m 50s\n",
      "741:\tlearn: 1596.7427760\ttest: 1666.1582891\tbest: 1666.1582891 (741)\ttotal: 2m 57s\tremaining: 1m 49s\n",
      "742:\tlearn: 1596.6231371\ttest: 1666.0621618\tbest: 1666.0621618 (742)\ttotal: 2m 58s\tremaining: 1m 49s\n",
      "743:\tlearn: 1596.4439924\ttest: 1665.9148071\tbest: 1665.9148071 (743)\ttotal: 2m 58s\tremaining: 1m 49s\n",
      "744:\tlearn: 1596.3070609\ttest: 1665.8352108\tbest: 1665.8352108 (744)\ttotal: 2m 58s\tremaining: 1m 49s\n",
      "745:\tlearn: 1596.2151135\ttest: 1665.8197056\tbest: 1665.8197056 (745)\ttotal: 2m 58s\tremaining: 1m 48s\n",
      "746:\tlearn: 1596.0911492\ttest: 1665.7583279\tbest: 1665.7583279 (746)\ttotal: 2m 59s\tremaining: 1m 48s\n",
      "747:\tlearn: 1595.9257190\ttest: 1665.6343437\tbest: 1665.6343437 (747)\ttotal: 2m 59s\tremaining: 1m 48s\n",
      "748:\tlearn: 1595.5966363\ttest: 1665.3846074\tbest: 1665.3846074 (748)\ttotal: 2m 59s\tremaining: 1m 48s\n",
      "749:\tlearn: 1595.3370496\ttest: 1665.2072549\tbest: 1665.2072549 (749)\ttotal: 2m 59s\tremaining: 1m 47s\n",
      "750:\tlearn: 1595.1779418\ttest: 1665.1341045\tbest: 1665.1341045 (750)\ttotal: 3m\tremaining: 1m 47s\n",
      "751:\tlearn: 1594.9959687\ttest: 1664.9790773\tbest: 1664.9790773 (751)\ttotal: 3m\tremaining: 1m 47s\n",
      "752:\tlearn: 1594.8689520\ttest: 1664.8796781\tbest: 1664.8796781 (752)\ttotal: 3m\tremaining: 1m 47s\n",
      "753:\tlearn: 1594.7161944\ttest: 1664.7398727\tbest: 1664.7398727 (753)\ttotal: 3m\tremaining: 1m 46s\n",
      "754:\tlearn: 1594.5396983\ttest: 1664.6384652\tbest: 1664.6384652 (754)\ttotal: 3m\tremaining: 1m 46s\n",
      "755:\tlearn: 1594.3901664\ttest: 1664.5622922\tbest: 1664.5622922 (755)\ttotal: 3m 1s\tremaining: 1m 46s\n",
      "756:\tlearn: 1594.0747715\ttest: 1664.3157613\tbest: 1664.3157613 (756)\ttotal: 3m 1s\tremaining: 1m 46s\n",
      "757:\tlearn: 1593.9330083\ttest: 1664.1979143\tbest: 1664.1979143 (757)\ttotal: 3m 1s\tremaining: 1m 45s\n",
      "758:\tlearn: 1593.6355253\ttest: 1663.9773761\tbest: 1663.9773761 (758)\ttotal: 3m 1s\tremaining: 1m 45s\n",
      "759:\tlearn: 1593.5092454\ttest: 1663.9063703\tbest: 1663.9063703 (759)\ttotal: 3m 2s\tremaining: 1m 45s\n",
      "760:\tlearn: 1593.4109134\ttest: 1663.8409835\tbest: 1663.8409835 (760)\ttotal: 3m 2s\tremaining: 1m 45s\n",
      "761:\tlearn: 1593.3042805\ttest: 1663.7561261\tbest: 1663.7561261 (761)\ttotal: 3m 2s\tremaining: 1m 44s\n",
      "762:\tlearn: 1593.0750419\ttest: 1663.6016951\tbest: 1663.6016951 (762)\ttotal: 3m 2s\tremaining: 1m 44s\n",
      "763:\tlearn: 1593.0212852\ttest: 1663.5619876\tbest: 1663.5619876 (763)\ttotal: 3m 3s\tremaining: 1m 44s\n",
      "764:\tlearn: 1592.9216841\ttest: 1663.4808630\tbest: 1663.4808630 (764)\ttotal: 3m 3s\tremaining: 1m 44s\n",
      "765:\tlearn: 1592.5596211\ttest: 1663.2295183\tbest: 1663.2295183 (765)\ttotal: 3m 3s\tremaining: 1m 43s\n",
      "766:\tlearn: 1592.4717234\ttest: 1663.2032855\tbest: 1663.2032855 (766)\ttotal: 3m 3s\tremaining: 1m 43s\n",
      "767:\tlearn: 1592.2875278\ttest: 1663.0549559\tbest: 1663.0549559 (767)\ttotal: 3m 4s\tremaining: 1m 43s\n",
      "768:\tlearn: 1592.2401792\ttest: 1663.0322710\tbest: 1663.0322710 (768)\ttotal: 3m 4s\tremaining: 1m 43s\n",
      "769:\tlearn: 1592.1792652\ttest: 1662.9877540\tbest: 1662.9877540 (769)\ttotal: 3m 4s\tremaining: 1m 43s\n",
      "770:\tlearn: 1591.9585765\ttest: 1662.7932621\tbest: 1662.7932621 (770)\ttotal: 3m 4s\tremaining: 1m 42s\n",
      "771:\tlearn: 1591.5445568\ttest: 1662.4704579\tbest: 1662.4704579 (771)\ttotal: 3m 4s\tremaining: 1m 42s\n",
      "772:\tlearn: 1591.3779192\ttest: 1662.2952184\tbest: 1662.2952184 (772)\ttotal: 3m 5s\tremaining: 1m 42s\n",
      "773:\tlearn: 1591.2493143\ttest: 1662.2644055\tbest: 1662.2644055 (773)\ttotal: 3m 5s\tremaining: 1m 42s\n",
      "774:\tlearn: 1591.1178239\ttest: 1662.1837752\tbest: 1662.1837752 (774)\ttotal: 3m 5s\tremaining: 1m 41s\n",
      "775:\tlearn: 1590.9467885\ttest: 1662.0359035\tbest: 1662.0359035 (775)\ttotal: 3m 5s\tremaining: 1m 41s\n",
      "776:\tlearn: 1590.8418135\ttest: 1661.9335758\tbest: 1661.9335758 (776)\ttotal: 3m 6s\tremaining: 1m 41s\n",
      "777:\tlearn: 1590.6829061\ttest: 1661.8284540\tbest: 1661.8284540 (777)\ttotal: 3m 6s\tremaining: 1m 41s\n",
      "778:\tlearn: 1590.6074272\ttest: 1661.7738244\tbest: 1661.7738244 (778)\ttotal: 3m 6s\tremaining: 1m 40s\n",
      "779:\tlearn: 1590.5106928\ttest: 1661.7030563\tbest: 1661.7030563 (779)\ttotal: 3m 7s\tremaining: 1m 40s\n",
      "780:\tlearn: 1590.3940988\ttest: 1661.6469301\tbest: 1661.6469301 (780)\ttotal: 3m 7s\tremaining: 1m 40s\n",
      "781:\tlearn: 1590.3285772\ttest: 1661.5770927\tbest: 1661.5770927 (781)\ttotal: 3m 7s\tremaining: 1m 40s\n",
      "782:\tlearn: 1590.2535996\ttest: 1661.5101621\tbest: 1661.5101621 (782)\ttotal: 3m 7s\tremaining: 1m 39s\n",
      "783:\tlearn: 1590.1923060\ttest: 1661.4661302\tbest: 1661.4661302 (783)\ttotal: 3m 7s\tremaining: 1m 39s\n",
      "784:\tlearn: 1590.0446423\ttest: 1661.3682192\tbest: 1661.3682192 (784)\ttotal: 3m 8s\tremaining: 1m 39s\n",
      "785:\tlearn: 1589.9752575\ttest: 1661.3060134\tbest: 1661.3060134 (785)\ttotal: 3m 8s\tremaining: 1m 39s\n",
      "786:\tlearn: 1589.8377605\ttest: 1661.2230852\tbest: 1661.2230852 (786)\ttotal: 3m 8s\tremaining: 1m 38s\n",
      "787:\tlearn: 1589.7209414\ttest: 1661.1258232\tbest: 1661.1258232 (787)\ttotal: 3m 8s\tremaining: 1m 38s\n",
      "788:\tlearn: 1589.5891602\ttest: 1661.0414787\tbest: 1661.0414787 (788)\ttotal: 3m 8s\tremaining: 1m 38s\n",
      "789:\tlearn: 1589.5265132\ttest: 1660.9903745\tbest: 1660.9903745 (789)\ttotal: 3m 9s\tremaining: 1m 38s\n",
      "790:\tlearn: 1589.4195794\ttest: 1660.9051920\tbest: 1660.9051920 (790)\ttotal: 3m 9s\tremaining: 1m 37s\n",
      "791:\tlearn: 1589.3107262\ttest: 1660.8273465\tbest: 1660.8273465 (791)\ttotal: 3m 9s\tremaining: 1m 37s\n",
      "792:\tlearn: 1589.1925741\ttest: 1660.7564259\tbest: 1660.7564259 (792)\ttotal: 3m 9s\tremaining: 1m 37s\n",
      "793:\tlearn: 1589.1550788\ttest: 1660.7562700\tbest: 1660.7562700 (793)\ttotal: 3m 10s\tremaining: 1m 37s\n",
      "794:\tlearn: 1588.9772170\ttest: 1660.5754660\tbest: 1660.5754660 (794)\ttotal: 3m 10s\tremaining: 1m 36s\n",
      "795:\tlearn: 1588.7791815\ttest: 1660.4746645\tbest: 1660.4746645 (795)\ttotal: 3m 10s\tremaining: 1m 36s\n",
      "796:\tlearn: 1588.5292404\ttest: 1660.3120728\tbest: 1660.3120728 (796)\ttotal: 3m 10s\tremaining: 1m 36s\n",
      "797:\tlearn: 1588.3848275\ttest: 1660.2178352\tbest: 1660.2178352 (797)\ttotal: 3m 11s\tremaining: 1m 36s\n",
      "798:\tlearn: 1588.2833692\ttest: 1660.1491145\tbest: 1660.1491145 (798)\ttotal: 3m 11s\tremaining: 1m 36s\n",
      "799:\tlearn: 1588.1325511\ttest: 1660.0435335\tbest: 1660.0435335 (799)\ttotal: 3m 11s\tremaining: 1m 35s\n",
      "800:\tlearn: 1587.9414314\ttest: 1659.9493603\tbest: 1659.9493603 (800)\ttotal: 3m 11s\tremaining: 1m 35s\n",
      "801:\tlearn: 1587.8012537\ttest: 1659.8925879\tbest: 1659.8925879 (801)\ttotal: 3m 12s\tremaining: 1m 35s\n",
      "802:\tlearn: 1587.5445315\ttest: 1659.6981881\tbest: 1659.6981881 (802)\ttotal: 3m 12s\tremaining: 1m 35s\n",
      "803:\tlearn: 1587.4010383\ttest: 1659.5616826\tbest: 1659.5616826 (803)\ttotal: 3m 12s\tremaining: 1m 34s\n",
      "804:\tlearn: 1587.2445710\ttest: 1659.4314990\tbest: 1659.4314990 (804)\ttotal: 3m 12s\tremaining: 1m 34s\n",
      "805:\tlearn: 1587.0769668\ttest: 1659.2918445\tbest: 1659.2918445 (805)\ttotal: 3m 13s\tremaining: 1m 34s\n",
      "806:\tlearn: 1586.9479876\ttest: 1659.2165697\tbest: 1659.2165697 (806)\ttotal: 3m 13s\tremaining: 1m 34s\n",
      "807:\tlearn: 1586.7732733\ttest: 1659.0851052\tbest: 1659.0851052 (807)\ttotal: 3m 13s\tremaining: 1m 33s\n",
      "808:\tlearn: 1586.7125110\ttest: 1659.0356896\tbest: 1659.0356896 (808)\ttotal: 3m 13s\tremaining: 1m 33s\n",
      "809:\tlearn: 1586.5639304\ttest: 1658.9219338\tbest: 1658.9219338 (809)\ttotal: 3m 13s\tremaining: 1m 33s\n",
      "810:\tlearn: 1586.3594088\ttest: 1658.7889389\tbest: 1658.7889389 (810)\ttotal: 3m 14s\tremaining: 1m 33s\n",
      "811:\tlearn: 1586.1958148\ttest: 1658.6589074\tbest: 1658.6589074 (811)\ttotal: 3m 14s\tremaining: 1m 32s\n",
      "812:\tlearn: 1586.1588607\ttest: 1658.6276476\tbest: 1658.6276476 (812)\ttotal: 3m 14s\tremaining: 1m 32s\n",
      "813:\tlearn: 1586.0204696\ttest: 1658.5028846\tbest: 1658.5028846 (813)\ttotal: 3m 14s\tremaining: 1m 32s\n",
      "814:\tlearn: 1585.8236774\ttest: 1658.3843376\tbest: 1658.3843376 (814)\ttotal: 3m 15s\tremaining: 1m 32s\n",
      "815:\tlearn: 1585.7879863\ttest: 1658.3542271\tbest: 1658.3542271 (815)\ttotal: 3m 15s\tremaining: 1m 31s\n",
      "816:\tlearn: 1585.7296309\ttest: 1658.3192980\tbest: 1658.3192980 (816)\ttotal: 3m 15s\tremaining: 1m 31s\n",
      "817:\tlearn: 1585.5073449\ttest: 1658.1977863\tbest: 1658.1977863 (817)\ttotal: 3m 15s\tremaining: 1m 31s\n",
      "818:\tlearn: 1585.4277954\ttest: 1658.1334288\tbest: 1658.1334288 (818)\ttotal: 3m 16s\tremaining: 1m 31s\n",
      "819:\tlearn: 1585.2144350\ttest: 1657.9737945\tbest: 1657.9737945 (819)\ttotal: 3m 16s\tremaining: 1m 30s\n",
      "820:\tlearn: 1585.0816804\ttest: 1657.9199409\tbest: 1657.9199409 (820)\ttotal: 3m 16s\tremaining: 1m 30s\n",
      "821:\tlearn: 1584.7834502\ttest: 1657.7322531\tbest: 1657.7322531 (821)\ttotal: 3m 16s\tremaining: 1m 30s\n",
      "822:\tlearn: 1584.5878658\ttest: 1657.6067506\tbest: 1657.6067506 (822)\ttotal: 3m 17s\tremaining: 1m 30s\n",
      "823:\tlearn: 1584.4993733\ttest: 1657.5458014\tbest: 1657.5458014 (823)\ttotal: 3m 17s\tremaining: 1m 30s\n",
      "824:\tlearn: 1584.4724084\ttest: 1657.5296006\tbest: 1657.5296006 (824)\ttotal: 3m 17s\tremaining: 1m 29s\n",
      "825:\tlearn: 1584.2416698\ttest: 1657.3807214\tbest: 1657.3807214 (825)\ttotal: 3m 17s\tremaining: 1m 29s\n",
      "826:\tlearn: 1583.9900249\ttest: 1657.1662907\tbest: 1657.1662907 (826)\ttotal: 3m 18s\tremaining: 1m 29s\n",
      "827:\tlearn: 1583.8020425\ttest: 1657.0046928\tbest: 1657.0046928 (827)\ttotal: 3m 18s\tremaining: 1m 29s\n",
      "828:\tlearn: 1583.6901377\ttest: 1656.9288025\tbest: 1656.9288025 (828)\ttotal: 3m 18s\tremaining: 1m 28s\n",
      "829:\tlearn: 1583.4400074\ttest: 1656.7272035\tbest: 1656.7272035 (829)\ttotal: 3m 18s\tremaining: 1m 28s\n",
      "830:\tlearn: 1583.2515559\ttest: 1656.6081081\tbest: 1656.6081081 (830)\ttotal: 3m 19s\tremaining: 1m 28s\n",
      "831:\tlearn: 1583.1030548\ttest: 1656.4716746\tbest: 1656.4716746 (831)\ttotal: 3m 19s\tremaining: 1m 28s\n",
      "832:\tlearn: 1582.9525344\ttest: 1656.4011425\tbest: 1656.4011425 (832)\ttotal: 3m 19s\tremaining: 1m 27s\n",
      "833:\tlearn: 1582.8568344\ttest: 1656.3522709\tbest: 1656.3522709 (833)\ttotal: 3m 19s\tremaining: 1m 27s\n",
      "834:\tlearn: 1582.7898504\ttest: 1656.3082642\tbest: 1656.3082642 (834)\ttotal: 3m 20s\tremaining: 1m 27s\n",
      "835:\tlearn: 1582.6292610\ttest: 1656.1376740\tbest: 1656.1376740 (835)\ttotal: 3m 20s\tremaining: 1m 27s\n",
      "836:\tlearn: 1582.4708744\ttest: 1656.0359044\tbest: 1656.0359044 (836)\ttotal: 3m 20s\tremaining: 1m 26s\n",
      "837:\tlearn: 1582.4240272\ttest: 1656.0145275\tbest: 1656.0145275 (837)\ttotal: 3m 20s\tremaining: 1m 26s\n",
      "838:\tlearn: 1582.2083762\ttest: 1655.9145850\tbest: 1655.9145850 (838)\ttotal: 3m 21s\tremaining: 1m 26s\n",
      "839:\tlearn: 1582.0977429\ttest: 1655.9059631\tbest: 1655.9059631 (839)\ttotal: 3m 21s\tremaining: 1m 26s\n",
      "840:\tlearn: 1581.9760295\ttest: 1655.8201169\tbest: 1655.8201169 (840)\ttotal: 3m 21s\tremaining: 1m 26s\n",
      "841:\tlearn: 1581.8811593\ttest: 1655.7860230\tbest: 1655.7860230 (841)\ttotal: 3m 21s\tremaining: 1m 25s\n",
      "842:\tlearn: 1581.8424587\ttest: 1655.7636534\tbest: 1655.7636534 (842)\ttotal: 3m 22s\tremaining: 1m 25s\n",
      "843:\tlearn: 1581.8309793\ttest: 1655.7631807\tbest: 1655.7631807 (843)\ttotal: 3m 22s\tremaining: 1m 25s\n",
      "844:\tlearn: 1581.8056787\ttest: 1655.7483198\tbest: 1655.7483198 (844)\ttotal: 3m 22s\tremaining: 1m 25s\n",
      "845:\tlearn: 1581.6720184\ttest: 1655.6675901\tbest: 1655.6675901 (845)\ttotal: 3m 22s\tremaining: 1m 24s\n",
      "846:\tlearn: 1581.5796033\ttest: 1655.5996710\tbest: 1655.5996710 (846)\ttotal: 3m 23s\tremaining: 1m 24s\n",
      "847:\tlearn: 1581.4905865\ttest: 1655.5345642\tbest: 1655.5345642 (847)\ttotal: 3m 23s\tremaining: 1m 24s\n",
      "848:\tlearn: 1581.2853194\ttest: 1655.4785334\tbest: 1655.4785334 (848)\ttotal: 3m 23s\tremaining: 1m 24s\n",
      "849:\tlearn: 1581.1926699\ttest: 1655.4538575\tbest: 1655.4538575 (849)\ttotal: 3m 23s\tremaining: 1m 23s\n",
      "850:\tlearn: 1581.0104777\ttest: 1655.3381307\tbest: 1655.3381307 (850)\ttotal: 3m 23s\tremaining: 1m 23s\n",
      "851:\tlearn: 1580.8940083\ttest: 1655.2477147\tbest: 1655.2477147 (851)\ttotal: 3m 24s\tremaining: 1m 23s\n",
      "852:\tlearn: 1580.8302276\ttest: 1655.1931483\tbest: 1655.1931483 (852)\ttotal: 3m 24s\tremaining: 1m 23s\n",
      "853:\tlearn: 1580.7050147\ttest: 1655.1743943\tbest: 1655.1743943 (853)\ttotal: 3m 24s\tremaining: 1m 22s\n",
      "854:\tlearn: 1580.5786659\ttest: 1655.0831039\tbest: 1655.0831039 (854)\ttotal: 3m 24s\tremaining: 1m 22s\n",
      "855:\tlearn: 1580.4893110\ttest: 1655.0233205\tbest: 1655.0233205 (855)\ttotal: 3m 25s\tremaining: 1m 22s\n",
      "856:\tlearn: 1580.3490585\ttest: 1654.9283528\tbest: 1654.9283528 (856)\ttotal: 3m 25s\tremaining: 1m 22s\n",
      "857:\tlearn: 1580.2558212\ttest: 1654.8710445\tbest: 1654.8710445 (857)\ttotal: 3m 25s\tremaining: 1m 21s\n",
      "858:\tlearn: 1580.0709284\ttest: 1654.7445197\tbest: 1654.7445197 (858)\ttotal: 3m 25s\tremaining: 1m 21s\n",
      "859:\tlearn: 1579.9648919\ttest: 1654.6774683\tbest: 1654.6774683 (859)\ttotal: 3m 26s\tremaining: 1m 21s\n",
      "860:\tlearn: 1579.8520054\ttest: 1654.6430697\tbest: 1654.6430697 (860)\ttotal: 3m 26s\tremaining: 1m 21s\n",
      "861:\tlearn: 1579.7467171\ttest: 1654.5888966\tbest: 1654.5888966 (861)\ttotal: 3m 26s\tremaining: 1m 21s\n",
      "862:\tlearn: 1579.5756908\ttest: 1654.4982140\tbest: 1654.4982140 (862)\ttotal: 3m 26s\tremaining: 1m 20s\n",
      "863:\tlearn: 1579.4588044\ttest: 1654.4249088\tbest: 1654.4249088 (863)\ttotal: 3m 27s\tremaining: 1m 20s\n",
      "864:\tlearn: 1579.3175256\ttest: 1654.3602613\tbest: 1654.3602613 (864)\ttotal: 3m 27s\tremaining: 1m 20s\n",
      "865:\tlearn: 1579.0904794\ttest: 1654.1938458\tbest: 1654.1938458 (865)\ttotal: 3m 27s\tremaining: 1m 20s\n",
      "866:\tlearn: 1578.9926832\ttest: 1654.1214535\tbest: 1654.1214535 (866)\ttotal: 3m 27s\tremaining: 1m 19s\n",
      "867:\tlearn: 1578.9404772\ttest: 1654.0948278\tbest: 1654.0948278 (867)\ttotal: 3m 28s\tremaining: 1m 19s\n",
      "868:\tlearn: 1578.8213732\ttest: 1654.0081499\tbest: 1654.0081499 (868)\ttotal: 3m 28s\tremaining: 1m 19s\n",
      "869:\tlearn: 1578.7362514\ttest: 1653.9643421\tbest: 1653.9643421 (869)\ttotal: 3m 28s\tremaining: 1m 19s\n",
      "870:\tlearn: 1578.6132881\ttest: 1653.8615474\tbest: 1653.8615474 (870)\ttotal: 3m 28s\tremaining: 1m 18s\n",
      "871:\tlearn: 1578.4990607\ttest: 1653.7824429\tbest: 1653.7824429 (871)\ttotal: 3m 28s\tremaining: 1m 18s\n",
      "872:\tlearn: 1578.3581805\ttest: 1653.6974569\tbest: 1653.6974569 (872)\ttotal: 3m 29s\tremaining: 1m 18s\n",
      "873:\tlearn: 1578.2170523\ttest: 1653.6319348\tbest: 1653.6319348 (873)\ttotal: 3m 29s\tremaining: 1m 18s\n",
      "874:\tlearn: 1578.2061036\ttest: 1653.6178199\tbest: 1653.6178199 (874)\ttotal: 3m 29s\tremaining: 1m 17s\n",
      "875:\tlearn: 1578.2055530\ttest: 1653.6179313\tbest: 1653.6178199 (874)\ttotal: 3m 29s\tremaining: 1m 17s\n",
      "876:\tlearn: 1578.1504788\ttest: 1653.5761867\tbest: 1653.5761867 (876)\ttotal: 3m 30s\tremaining: 1m 17s\n",
      "877:\tlearn: 1578.0617588\ttest: 1653.5322275\tbest: 1653.5322275 (877)\ttotal: 3m 30s\tremaining: 1m 17s\n",
      "878:\tlearn: 1577.8909559\ttest: 1653.4587206\tbest: 1653.4587206 (878)\ttotal: 3m 30s\tremaining: 1m 16s\n",
      "879:\tlearn: 1577.7431817\ttest: 1653.3322799\tbest: 1653.3322799 (879)\ttotal: 3m 30s\tremaining: 1m 16s\n",
      "880:\tlearn: 1577.5694892\ttest: 1653.2155781\tbest: 1653.2155781 (880)\ttotal: 3m 31s\tremaining: 1m 16s\n",
      "881:\tlearn: 1577.4730166\ttest: 1653.1415290\tbest: 1653.1415290 (881)\ttotal: 3m 31s\tremaining: 1m 16s\n",
      "882:\tlearn: 1577.3602153\ttest: 1653.0635057\tbest: 1653.0635057 (882)\ttotal: 3m 31s\tremaining: 1m 15s\n",
      "883:\tlearn: 1577.2395031\ttest: 1652.9997873\tbest: 1652.9997873 (883)\ttotal: 3m 31s\tremaining: 1m 15s\n",
      "884:\tlearn: 1577.1572055\ttest: 1652.9805648\tbest: 1652.9805648 (884)\ttotal: 3m 32s\tremaining: 1m 15s\n",
      "885:\tlearn: 1577.1334080\ttest: 1652.9668072\tbest: 1652.9668072 (885)\ttotal: 3m 32s\tremaining: 1m 15s\n",
      "886:\tlearn: 1576.9231492\ttest: 1652.8369940\tbest: 1652.8369940 (886)\ttotal: 3m 32s\tremaining: 1m 15s\n",
      "887:\tlearn: 1576.8988455\ttest: 1652.8299915\tbest: 1652.8299915 (887)\ttotal: 3m 32s\tremaining: 1m 14s\n",
      "888:\tlearn: 1576.8108981\ttest: 1652.7587821\tbest: 1652.7587821 (888)\ttotal: 3m 33s\tremaining: 1m 14s\n",
      "889:\tlearn: 1576.7201276\ttest: 1652.6899783\tbest: 1652.6899783 (889)\ttotal: 3m 33s\tremaining: 1m 14s\n",
      "890:\tlearn: 1576.5726974\ttest: 1652.5407738\tbest: 1652.5407738 (890)\ttotal: 3m 33s\tremaining: 1m 14s\n",
      "891:\tlearn: 1576.4917676\ttest: 1652.4896467\tbest: 1652.4896467 (891)\ttotal: 3m 33s\tremaining: 1m 13s\n",
      "892:\tlearn: 1576.3775434\ttest: 1652.3944990\tbest: 1652.3944990 (892)\ttotal: 3m 34s\tremaining: 1m 13s\n",
      "893:\tlearn: 1576.2579371\ttest: 1652.3497058\tbest: 1652.3497058 (893)\ttotal: 3m 34s\tremaining: 1m 13s\n",
      "894:\tlearn: 1576.0949710\ttest: 1652.2266314\tbest: 1652.2266314 (894)\ttotal: 3m 34s\tremaining: 1m 13s\n",
      "895:\tlearn: 1575.9949016\ttest: 1652.1483962\tbest: 1652.1483962 (895)\ttotal: 3m 34s\tremaining: 1m 12s\n",
      "896:\tlearn: 1575.9653026\ttest: 1652.1231892\tbest: 1652.1231892 (896)\ttotal: 3m 35s\tremaining: 1m 12s\n",
      "897:\tlearn: 1575.8942762\ttest: 1652.0374062\tbest: 1652.0374062 (897)\ttotal: 3m 35s\tremaining: 1m 12s\n",
      "898:\tlearn: 1575.7894420\ttest: 1651.9715070\tbest: 1651.9715070 (898)\ttotal: 3m 35s\tremaining: 1m 12s\n",
      "899:\tlearn: 1575.5812267\ttest: 1651.8147970\tbest: 1651.8147970 (899)\ttotal: 3m 35s\tremaining: 1m 11s\n",
      "900:\tlearn: 1575.3414859\ttest: 1651.6512871\tbest: 1651.6512871 (900)\ttotal: 3m 36s\tremaining: 1m 11s\n",
      "901:\tlearn: 1575.2012593\ttest: 1651.5085415\tbest: 1651.5085415 (901)\ttotal: 3m 36s\tremaining: 1m 11s\n",
      "902:\tlearn: 1575.0870898\ttest: 1651.4500566\tbest: 1651.4500566 (902)\ttotal: 3m 36s\tremaining: 1m 11s\n",
      "903:\tlearn: 1575.0427068\ttest: 1651.4226630\tbest: 1651.4226630 (903)\ttotal: 3m 36s\tremaining: 1m 11s\n",
      "904:\tlearn: 1574.8205479\ttest: 1651.2893836\tbest: 1651.2893836 (904)\ttotal: 3m 37s\tremaining: 1m 10s\n",
      "905:\tlearn: 1574.7462306\ttest: 1651.2442396\tbest: 1651.2442396 (905)\ttotal: 3m 37s\tremaining: 1m 10s\n",
      "906:\tlearn: 1574.5971128\ttest: 1651.1096399\tbest: 1651.1096399 (906)\ttotal: 3m 37s\tremaining: 1m 10s\n",
      "907:\tlearn: 1574.4514082\ttest: 1651.0051157\tbest: 1651.0051157 (907)\ttotal: 3m 37s\tremaining: 1m 10s\n",
      "908:\tlearn: 1574.3437911\ttest: 1650.9521971\tbest: 1650.9521971 (908)\ttotal: 3m 38s\tremaining: 1m 9s\n",
      "909:\tlearn: 1574.2312083\ttest: 1650.8846452\tbest: 1650.8846452 (909)\ttotal: 3m 38s\tremaining: 1m 9s\n",
      "910:\tlearn: 1573.9993043\ttest: 1650.7628480\tbest: 1650.7628480 (910)\ttotal: 3m 38s\tremaining: 1m 9s\n",
      "911:\tlearn: 1573.9205444\ttest: 1650.7543420\tbest: 1650.7543420 (911)\ttotal: 3m 39s\tremaining: 1m 9s\n",
      "912:\tlearn: 1573.8569314\ttest: 1650.7236083\tbest: 1650.7236083 (912)\ttotal: 3m 39s\tremaining: 1m 8s\n",
      "913:\tlearn: 1573.7368464\ttest: 1650.6379612\tbest: 1650.6379612 (913)\ttotal: 3m 39s\tremaining: 1m 8s\n",
      "914:\tlearn: 1573.6432933\ttest: 1650.6299430\tbest: 1650.6299430 (914)\ttotal: 3m 39s\tremaining: 1m 8s\n",
      "915:\tlearn: 1573.5805290\ttest: 1650.5986422\tbest: 1650.5986422 (915)\ttotal: 3m 40s\tremaining: 1m 8s\n",
      "916:\tlearn: 1573.5196216\ttest: 1650.5810480\tbest: 1650.5810480 (916)\ttotal: 3m 40s\tremaining: 1m 7s\n",
      "917:\tlearn: 1573.3432971\ttest: 1650.4906081\tbest: 1650.4906081 (917)\ttotal: 3m 40s\tremaining: 1m 7s\n",
      "918:\tlearn: 1573.2125525\ttest: 1650.4143526\tbest: 1650.4143526 (918)\ttotal: 3m 40s\tremaining: 1m 7s\n",
      "919:\tlearn: 1573.1005215\ttest: 1650.3411171\tbest: 1650.3411171 (919)\ttotal: 3m 41s\tremaining: 1m 7s\n",
      "920:\tlearn: 1573.0515407\ttest: 1650.3288205\tbest: 1650.3288205 (920)\ttotal: 3m 41s\tremaining: 1m 7s\n",
      "921:\tlearn: 1572.9786671\ttest: 1650.2931759\tbest: 1650.2931759 (921)\ttotal: 3m 41s\tremaining: 1m 6s\n",
      "922:\tlearn: 1572.8754466\ttest: 1650.2496810\tbest: 1650.2496810 (922)\ttotal: 3m 41s\tremaining: 1m 6s\n",
      "923:\tlearn: 1572.6170800\ttest: 1650.0633920\tbest: 1650.0633920 (923)\ttotal: 3m 41s\tremaining: 1m 6s\n",
      "924:\tlearn: 1572.5019630\ttest: 1650.0306451\tbest: 1650.0306451 (924)\ttotal: 3m 42s\tremaining: 1m 6s\n",
      "925:\tlearn: 1572.4468981\ttest: 1650.0147892\tbest: 1650.0147892 (925)\ttotal: 3m 42s\tremaining: 1m 5s\n",
      "926:\tlearn: 1572.3508096\ttest: 1649.9578095\tbest: 1649.9578095 (926)\ttotal: 3m 42s\tremaining: 1m 5s\n",
      "927:\tlearn: 1572.2129779\ttest: 1649.8798290\tbest: 1649.8798290 (927)\ttotal: 3m 42s\tremaining: 1m 5s\n",
      "928:\tlearn: 1572.0217036\ttest: 1649.7215119\tbest: 1649.7215119 (928)\ttotal: 3m 43s\tremaining: 1m 5s\n",
      "929:\tlearn: 1571.8989890\ttest: 1649.6354198\tbest: 1649.6354198 (929)\ttotal: 3m 43s\tremaining: 1m 4s\n",
      "930:\tlearn: 1571.8279225\ttest: 1649.5987239\tbest: 1649.5987239 (930)\ttotal: 3m 43s\tremaining: 1m 4s\n",
      "931:\tlearn: 1571.7561731\ttest: 1649.5603542\tbest: 1649.5603542 (931)\ttotal: 3m 43s\tremaining: 1m 4s\n",
      "932:\tlearn: 1571.6793537\ttest: 1649.5490372\tbest: 1649.5490372 (932)\ttotal: 3m 44s\tremaining: 1m 4s\n",
      "933:\tlearn: 1571.4718958\ttest: 1649.4072996\tbest: 1649.4072996 (933)\ttotal: 3m 44s\tremaining: 1m 3s\n",
      "934:\tlearn: 1571.3657399\ttest: 1649.3597271\tbest: 1649.3597271 (934)\ttotal: 3m 44s\tremaining: 1m 3s\n",
      "935:\tlearn: 1571.2779314\ttest: 1649.3409675\tbest: 1649.3409675 (935)\ttotal: 3m 44s\tremaining: 1m 3s\n",
      "936:\tlearn: 1571.1862331\ttest: 1649.2870291\tbest: 1649.2870291 (936)\ttotal: 3m 45s\tremaining: 1m 3s\n",
      "937:\tlearn: 1571.0802456\ttest: 1649.2337292\tbest: 1649.2337292 (937)\ttotal: 3m 45s\tremaining: 1m 2s\n",
      "938:\tlearn: 1570.9457110\ttest: 1649.1689587\tbest: 1649.1689587 (938)\ttotal: 3m 45s\tremaining: 1m 2s\n",
      "939:\tlearn: 1570.7330256\ttest: 1649.0035095\tbest: 1649.0035095 (939)\ttotal: 3m 45s\tremaining: 1m 2s\n",
      "940:\tlearn: 1570.5971969\ttest: 1648.8966100\tbest: 1648.8966100 (940)\ttotal: 3m 45s\tremaining: 1m 2s\n",
      "941:\tlearn: 1570.4010508\ttest: 1648.7046276\tbest: 1648.7046276 (941)\ttotal: 3m 46s\tremaining: 1m 1s\n",
      "942:\tlearn: 1570.2112850\ttest: 1648.5739509\tbest: 1648.5739509 (942)\ttotal: 3m 46s\tremaining: 1m 1s\n",
      "943:\tlearn: 1570.1170127\ttest: 1648.5082847\tbest: 1648.5082847 (943)\ttotal: 3m 46s\tremaining: 1m 1s\n",
      "944:\tlearn: 1569.9842546\ttest: 1648.4428023\tbest: 1648.4428023 (944)\ttotal: 3m 46s\tremaining: 1m 1s\n",
      "945:\tlearn: 1569.9098403\ttest: 1648.3993785\tbest: 1648.3993785 (945)\ttotal: 3m 47s\tremaining: 1m\n",
      "946:\tlearn: 1569.7681504\ttest: 1648.3218121\tbest: 1648.3218121 (946)\ttotal: 3m 47s\tremaining: 1m\n",
      "947:\tlearn: 1569.6643211\ttest: 1648.2333512\tbest: 1648.2333512 (947)\ttotal: 3m 47s\tremaining: 1m\n",
      "948:\tlearn: 1569.4730055\ttest: 1648.1052012\tbest: 1648.1052012 (948)\ttotal: 3m 47s\tremaining: 1m\n",
      "949:\tlearn: 1569.3576847\ttest: 1648.0216369\tbest: 1648.0216369 (949)\ttotal: 3m 48s\tremaining: 1m\n",
      "950:\tlearn: 1569.1950690\ttest: 1647.9415368\tbest: 1647.9415368 (950)\ttotal: 3m 48s\tremaining: 59.8s\n",
      "951:\tlearn: 1569.1433237\ttest: 1647.9180416\tbest: 1647.9180416 (951)\ttotal: 3m 48s\tremaining: 59.5s\n",
      "952:\tlearn: 1568.8858229\ttest: 1647.7181695\tbest: 1647.7181695 (952)\ttotal: 3m 48s\tremaining: 59.3s\n",
      "953:\tlearn: 1568.8174861\ttest: 1647.6844314\tbest: 1647.6844314 (953)\ttotal: 3m 49s\tremaining: 59.1s\n",
      "954:\tlearn: 1568.7004794\ttest: 1647.6384683\tbest: 1647.6384683 (954)\ttotal: 3m 49s\tremaining: 58.8s\n",
      "955:\tlearn: 1568.5402849\ttest: 1647.5279169\tbest: 1647.5279169 (955)\ttotal: 3m 49s\tremaining: 58.6s\n",
      "956:\tlearn: 1568.4803793\ttest: 1647.5152574\tbest: 1647.5152574 (956)\ttotal: 3m 49s\tremaining: 58.3s\n",
      "957:\tlearn: 1568.3973742\ttest: 1647.4817042\tbest: 1647.4817042 (957)\ttotal: 3m 49s\tremaining: 58.1s\n",
      "958:\tlearn: 1568.1875772\ttest: 1647.3348345\tbest: 1647.3348345 (958)\ttotal: 3m 50s\tremaining: 57.9s\n",
      "959:\tlearn: 1568.1385258\ttest: 1647.3160704\tbest: 1647.3160704 (959)\ttotal: 3m 50s\tremaining: 57.6s\n",
      "960:\tlearn: 1567.8789456\ttest: 1647.1484368\tbest: 1647.1484368 (960)\ttotal: 3m 50s\tremaining: 57.4s\n",
      "961:\tlearn: 1567.7537850\ttest: 1647.0665449\tbest: 1647.0665449 (961)\ttotal: 3m 50s\tremaining: 57.1s\n",
      "962:\tlearn: 1567.6574067\ttest: 1646.9898095\tbest: 1646.9898095 (962)\ttotal: 3m 51s\tremaining: 56.9s\n",
      "963:\tlearn: 1567.4964932\ttest: 1646.8669759\tbest: 1646.8669759 (963)\ttotal: 3m 51s\tremaining: 56.6s\n",
      "964:\tlearn: 1567.4523575\ttest: 1646.8389752\tbest: 1646.8389752 (964)\ttotal: 3m 51s\tremaining: 56.4s\n",
      "965:\tlearn: 1567.3996587\ttest: 1646.8023683\tbest: 1646.8023683 (965)\ttotal: 3m 51s\tremaining: 56.2s\n",
      "966:\tlearn: 1567.2920480\ttest: 1646.7209590\tbest: 1646.7209590 (966)\ttotal: 3m 52s\tremaining: 55.9s\n",
      "967:\tlearn: 1567.1897371\ttest: 1646.6506240\tbest: 1646.6506240 (967)\ttotal: 3m 52s\tremaining: 55.7s\n",
      "968:\tlearn: 1567.1239944\ttest: 1646.6030414\tbest: 1646.6030414 (968)\ttotal: 3m 52s\tremaining: 55.4s\n",
      "969:\tlearn: 1566.9190119\ttest: 1646.4632311\tbest: 1646.4632311 (969)\ttotal: 3m 52s\tremaining: 55.2s\n",
      "970:\tlearn: 1566.7539939\ttest: 1646.3341091\tbest: 1646.3341091 (970)\ttotal: 3m 52s\tremaining: 54.9s\n",
      "971:\tlearn: 1566.6214104\ttest: 1646.2435843\tbest: 1646.2435843 (971)\ttotal: 3m 53s\tremaining: 54.7s\n",
      "972:\tlearn: 1566.3740075\ttest: 1646.0856951\tbest: 1646.0856951 (972)\ttotal: 3m 53s\tremaining: 54.4s\n",
      "973:\tlearn: 1566.3097840\ttest: 1646.0430710\tbest: 1646.0430710 (973)\ttotal: 3m 53s\tremaining: 54.2s\n",
      "974:\tlearn: 1566.2453322\ttest: 1645.9917187\tbest: 1645.9917187 (974)\ttotal: 3m 53s\tremaining: 53.9s\n",
      "975:\tlearn: 1566.1708014\ttest: 1645.9657760\tbest: 1645.9657760 (975)\ttotal: 3m 53s\tremaining: 53.7s\n",
      "976:\tlearn: 1566.0552315\ttest: 1645.9123751\tbest: 1645.9123751 (976)\ttotal: 3m 54s\tremaining: 53.5s\n",
      "977:\tlearn: 1565.9716944\ttest: 1645.8780845\tbest: 1645.8780845 (977)\ttotal: 3m 54s\tremaining: 53.2s\n",
      "978:\tlearn: 1565.7880801\ttest: 1645.7328902\tbest: 1645.7328902 (978)\ttotal: 3m 54s\tremaining: 53s\n",
      "979:\tlearn: 1565.5309300\ttest: 1645.5661584\tbest: 1645.5661584 (979)\ttotal: 3m 54s\tremaining: 52.7s\n",
      "980:\tlearn: 1565.4395697\ttest: 1645.5124492\tbest: 1645.5124492 (980)\ttotal: 3m 55s\tremaining: 52.5s\n",
      "981:\tlearn: 1565.3119274\ttest: 1645.4885198\tbest: 1645.4885198 (981)\ttotal: 3m 55s\tremaining: 52.3s\n",
      "982:\tlearn: 1565.2094226\ttest: 1645.4483866\tbest: 1645.4483866 (982)\ttotal: 3m 55s\tremaining: 52s\n",
      "983:\tlearn: 1565.0338195\ttest: 1645.4071263\tbest: 1645.4071263 (983)\ttotal: 3m 55s\tremaining: 51.8s\n",
      "984:\tlearn: 1564.9656731\ttest: 1645.3590903\tbest: 1645.3590903 (984)\ttotal: 3m 56s\tremaining: 51.5s\n",
      "985:\tlearn: 1564.8382485\ttest: 1645.2655526\tbest: 1645.2655526 (985)\ttotal: 3m 56s\tremaining: 51.3s\n",
      "986:\tlearn: 1564.6065266\ttest: 1645.0678060\tbest: 1645.0678060 (986)\ttotal: 3m 56s\tremaining: 51.1s\n",
      "987:\tlearn: 1564.3462238\ttest: 1644.9122169\tbest: 1644.9122169 (987)\ttotal: 3m 56s\tremaining: 50.8s\n",
      "988:\tlearn: 1564.3048969\ttest: 1644.8938023\tbest: 1644.8938023 (988)\ttotal: 3m 57s\tremaining: 50.6s\n",
      "989:\tlearn: 1564.1228906\ttest: 1644.7988474\tbest: 1644.7988474 (989)\ttotal: 3m 57s\tremaining: 50.4s\n",
      "990:\tlearn: 1564.0588894\ttest: 1644.7481823\tbest: 1644.7481823 (990)\ttotal: 3m 57s\tremaining: 50.1s\n",
      "991:\tlearn: 1563.9400133\ttest: 1644.6716125\tbest: 1644.6716125 (991)\ttotal: 3m 57s\tremaining: 49.9s\n",
      "992:\tlearn: 1563.7456019\ttest: 1644.5944053\tbest: 1644.5944053 (992)\ttotal: 3m 58s\tremaining: 49.6s\n",
      "993:\tlearn: 1563.6894301\ttest: 1644.5695632\tbest: 1644.5695632 (993)\ttotal: 3m 58s\tremaining: 49.4s\n",
      "994:\tlearn: 1563.5376950\ttest: 1644.5472551\tbest: 1644.5472551 (994)\ttotal: 3m 58s\tremaining: 49.2s\n",
      "995:\tlearn: 1563.3357827\ttest: 1644.4267806\tbest: 1644.4267806 (995)\ttotal: 3m 58s\tremaining: 48.9s\n",
      "996:\tlearn: 1563.1229595\ttest: 1644.3058554\tbest: 1644.3058554 (996)\ttotal: 3m 59s\tremaining: 48.7s\n",
      "997:\tlearn: 1563.0849061\ttest: 1644.3002991\tbest: 1644.3002991 (997)\ttotal: 3m 59s\tremaining: 48.4s\n",
      "998:\tlearn: 1563.0123007\ttest: 1644.2360070\tbest: 1644.2360070 (998)\ttotal: 3m 59s\tremaining: 48.2s\n",
      "999:\tlearn: 1562.9494948\ttest: 1644.1878118\tbest: 1644.1878118 (999)\ttotal: 3m 59s\tremaining: 48s\n",
      "1000:\tlearn: 1562.8627423\ttest: 1644.1245362\tbest: 1644.1245362 (1000)\ttotal: 4m\tremaining: 47.7s\n",
      "1001:\tlearn: 1562.7089326\ttest: 1644.0097445\tbest: 1644.0097445 (1001)\ttotal: 4m\tremaining: 47.5s\n",
      "1002:\tlearn: 1562.6403271\ttest: 1643.9773120\tbest: 1643.9773120 (1002)\ttotal: 4m\tremaining: 47.2s\n",
      "1003:\tlearn: 1562.4537853\ttest: 1643.8950928\tbest: 1643.8950928 (1003)\ttotal: 4m\tremaining: 47s\n",
      "1004:\tlearn: 1562.3547923\ttest: 1643.8614953\tbest: 1643.8614953 (1004)\ttotal: 4m\tremaining: 46.8s\n",
      "1005:\tlearn: 1562.2964832\ttest: 1643.8145722\tbest: 1643.8145722 (1005)\ttotal: 4m 1s\tremaining: 46.5s\n",
      "1006:\tlearn: 1562.0103644\ttest: 1643.6743100\tbest: 1643.6743100 (1006)\ttotal: 4m 1s\tremaining: 46.3s\n",
      "1007:\tlearn: 1561.9374911\ttest: 1643.6417906\tbest: 1643.6417906 (1007)\ttotal: 4m 1s\tremaining: 46s\n",
      "1008:\tlearn: 1561.7743110\ttest: 1643.5313870\tbest: 1643.5313870 (1008)\ttotal: 4m 1s\tremaining: 45.8s\n",
      "1009:\tlearn: 1561.6173044\ttest: 1643.4437675\tbest: 1643.4437675 (1009)\ttotal: 4m 2s\tremaining: 45.6s\n",
      "1010:\tlearn: 1561.5773565\ttest: 1643.4294213\tbest: 1643.4294213 (1010)\ttotal: 4m 2s\tremaining: 45.3s\n",
      "1011:\tlearn: 1561.3920538\ttest: 1643.3044880\tbest: 1643.3044880 (1011)\ttotal: 4m 2s\tremaining: 45.1s\n",
      "1012:\tlearn: 1561.2801809\ttest: 1643.2689270\tbest: 1643.2689270 (1012)\ttotal: 4m 2s\tremaining: 44.8s\n",
      "1013:\tlearn: 1561.1097758\ttest: 1643.1359339\tbest: 1643.1359339 (1013)\ttotal: 4m 3s\tremaining: 44.6s\n",
      "1014:\tlearn: 1560.9140171\ttest: 1642.9943556\tbest: 1642.9943556 (1014)\ttotal: 4m 3s\tremaining: 44.4s\n",
      "1015:\tlearn: 1560.8555933\ttest: 1642.9608878\tbest: 1642.9608878 (1015)\ttotal: 4m 3s\tremaining: 44.1s\n",
      "1016:\tlearn: 1560.7729745\ttest: 1642.9121060\tbest: 1642.9121060 (1016)\ttotal: 4m 3s\tremaining: 43.9s\n",
      "1017:\tlearn: 1560.6521307\ttest: 1642.8502330\tbest: 1642.8502330 (1017)\ttotal: 4m 4s\tremaining: 43.6s\n",
      "1018:\tlearn: 1560.5710293\ttest: 1642.8173358\tbest: 1642.8173358 (1018)\ttotal: 4m 4s\tremaining: 43.4s\n",
      "1019:\tlearn: 1560.5064499\ttest: 1642.7830205\tbest: 1642.7830205 (1019)\ttotal: 4m 4s\tremaining: 43.1s\n",
      "1020:\tlearn: 1560.3286392\ttest: 1642.6564495\tbest: 1642.6564495 (1020)\ttotal: 4m 4s\tremaining: 42.9s\n",
      "1021:\tlearn: 1560.2374499\ttest: 1642.6111607\tbest: 1642.6111607 (1021)\ttotal: 4m 5s\tremaining: 42.7s\n",
      "1022:\tlearn: 1560.1270357\ttest: 1642.5417799\tbest: 1642.5417799 (1022)\ttotal: 4m 5s\tremaining: 42.4s\n",
      "1023:\tlearn: 1560.0746167\ttest: 1642.5195920\tbest: 1642.5195920 (1023)\ttotal: 4m 5s\tremaining: 42.2s\n",
      "1024:\tlearn: 1560.0225989\ttest: 1642.4770566\tbest: 1642.4770566 (1024)\ttotal: 4m 5s\tremaining: 42s\n",
      "1025:\tlearn: 1559.9646972\ttest: 1642.4542839\tbest: 1642.4542839 (1025)\ttotal: 4m 6s\tremaining: 41.7s\n",
      "1026:\tlearn: 1559.8860783\ttest: 1642.4100045\tbest: 1642.4100045 (1026)\ttotal: 4m 6s\tremaining: 41.5s\n",
      "1027:\tlearn: 1559.7615668\ttest: 1642.3412333\tbest: 1642.3412333 (1027)\ttotal: 4m 6s\tremaining: 41.2s\n",
      "1028:\tlearn: 1559.7349699\ttest: 1642.3126467\tbest: 1642.3126467 (1028)\ttotal: 4m 6s\tremaining: 41s\n",
      "1029:\tlearn: 1559.6333502\ttest: 1642.2409427\tbest: 1642.2409427 (1029)\ttotal: 4m 6s\tremaining: 40.8s\n",
      "1030:\tlearn: 1559.4639614\ttest: 1642.1608041\tbest: 1642.1608041 (1030)\ttotal: 4m 7s\tremaining: 40.5s\n",
      "1031:\tlearn: 1559.3406895\ttest: 1642.1246914\tbest: 1642.1246914 (1031)\ttotal: 4m 7s\tremaining: 40.3s\n",
      "1032:\tlearn: 1559.2820246\ttest: 1642.1087912\tbest: 1642.1087912 (1032)\ttotal: 4m 7s\tremaining: 40.1s\n",
      "1033:\tlearn: 1559.1750680\ttest: 1642.0309622\tbest: 1642.0309622 (1033)\ttotal: 4m 8s\tremaining: 39.8s\n",
      "1034:\tlearn: 1559.0116062\ttest: 1641.9840751\tbest: 1641.9840751 (1034)\ttotal: 4m 8s\tremaining: 39.6s\n",
      "1035:\tlearn: 1558.9424463\ttest: 1641.9401591\tbest: 1641.9401591 (1035)\ttotal: 4m 8s\tremaining: 39.3s\n",
      "1036:\tlearn: 1558.8919934\ttest: 1641.9277530\tbest: 1641.9277530 (1036)\ttotal: 4m 8s\tremaining: 39.1s\n",
      "1037:\tlearn: 1558.6763307\ttest: 1641.8351909\tbest: 1641.8351909 (1037)\ttotal: 4m 8s\tremaining: 38.9s\n",
      "1038:\tlearn: 1558.6411075\ttest: 1641.8311927\tbest: 1641.8311927 (1038)\ttotal: 4m 9s\tremaining: 38.6s\n",
      "1039:\tlearn: 1558.3626221\ttest: 1641.6562842\tbest: 1641.6562842 (1039)\ttotal: 4m 9s\tremaining: 38.4s\n",
      "1040:\tlearn: 1558.1719339\ttest: 1641.5909909\tbest: 1641.5909909 (1040)\ttotal: 4m 9s\tremaining: 38.1s\n",
      "1041:\tlearn: 1557.9995349\ttest: 1641.4347896\tbest: 1641.4347896 (1041)\ttotal: 4m 9s\tremaining: 37.9s\n",
      "1042:\tlearn: 1557.8295586\ttest: 1641.3146220\tbest: 1641.3146220 (1042)\ttotal: 4m 10s\tremaining: 37.7s\n",
      "1043:\tlearn: 1557.6396655\ttest: 1641.2083493\tbest: 1641.2083493 (1043)\ttotal: 4m 10s\tremaining: 37.4s\n",
      "1044:\tlearn: 1557.5828486\ttest: 1641.1671839\tbest: 1641.1671839 (1044)\ttotal: 4m 10s\tremaining: 37.2s\n",
      "1045:\tlearn: 1557.5213682\ttest: 1641.1258381\tbest: 1641.1258381 (1045)\ttotal: 4m 10s\tremaining: 37s\n",
      "1046:\tlearn: 1557.4330920\ttest: 1641.0681331\tbest: 1641.0681331 (1046)\ttotal: 4m 11s\tremaining: 36.7s\n",
      "1047:\tlearn: 1557.3675604\ttest: 1641.0382721\tbest: 1641.0382721 (1047)\ttotal: 4m 11s\tremaining: 36.5s\n",
      "1048:\tlearn: 1557.2491129\ttest: 1640.9756407\tbest: 1640.9756407 (1048)\ttotal: 4m 11s\tremaining: 36.2s\n",
      "1049:\tlearn: 1557.1184982\ttest: 1640.9001605\tbest: 1640.9001605 (1049)\ttotal: 4m 11s\tremaining: 36s\n",
      "1050:\tlearn: 1556.9565778\ttest: 1640.8673178\tbest: 1640.8673178 (1050)\ttotal: 4m 12s\tremaining: 35.8s\n",
      "1051:\tlearn: 1556.9069877\ttest: 1640.8263821\tbest: 1640.8263821 (1051)\ttotal: 4m 12s\tremaining: 35.5s\n",
      "1052:\tlearn: 1556.7941729\ttest: 1640.7498347\tbest: 1640.7498347 (1052)\ttotal: 4m 12s\tremaining: 35.3s\n",
      "1053:\tlearn: 1556.6387693\ttest: 1640.6304390\tbest: 1640.6304390 (1053)\ttotal: 4m 12s\tremaining: 35s\n",
      "1054:\tlearn: 1556.5699388\ttest: 1640.5753361\tbest: 1640.5753361 (1054)\ttotal: 4m 13s\tremaining: 34.8s\n",
      "1055:\tlearn: 1556.4365034\ttest: 1640.4702204\tbest: 1640.4702204 (1055)\ttotal: 4m 13s\tremaining: 34.5s\n",
      "1056:\tlearn: 1556.2890453\ttest: 1640.3874711\tbest: 1640.3874711 (1056)\ttotal: 4m 13s\tremaining: 34.3s\n",
      "1057:\tlearn: 1556.1862250\ttest: 1640.3284923\tbest: 1640.3284923 (1057)\ttotal: 4m 13s\tremaining: 34.1s\n",
      "1058:\tlearn: 1556.0385175\ttest: 1640.2812812\tbest: 1640.2812812 (1058)\ttotal: 4m 14s\tremaining: 33.8s\n",
      "1059:\tlearn: 1555.8431132\ttest: 1640.1985837\tbest: 1640.1985837 (1059)\ttotal: 4m 14s\tremaining: 33.6s\n",
      "1060:\tlearn: 1555.6838884\ttest: 1640.0842643\tbest: 1640.0842643 (1060)\ttotal: 4m 14s\tremaining: 33.4s\n",
      "1061:\tlearn: 1555.5593529\ttest: 1639.9641076\tbest: 1639.9641076 (1061)\ttotal: 4m 14s\tremaining: 33.1s\n",
      "1062:\tlearn: 1555.3603131\ttest: 1639.8549567\tbest: 1639.8549567 (1062)\ttotal: 4m 15s\tremaining: 32.9s\n",
      "1063:\tlearn: 1555.2490792\ttest: 1639.8364223\tbest: 1639.8364223 (1063)\ttotal: 4m 15s\tremaining: 32.6s\n",
      "1064:\tlearn: 1555.1847535\ttest: 1639.7954033\tbest: 1639.7954033 (1064)\ttotal: 4m 15s\tremaining: 32.4s\n",
      "1065:\tlearn: 1555.0811652\ttest: 1639.7565643\tbest: 1639.7565643 (1065)\ttotal: 4m 15s\tremaining: 32.2s\n",
      "1066:\tlearn: 1555.0246301\ttest: 1639.7343681\tbest: 1639.7343681 (1066)\ttotal: 4m 16s\tremaining: 31.9s\n",
      "1067:\tlearn: 1554.8752525\ttest: 1639.6729789\tbest: 1639.6729789 (1067)\ttotal: 4m 16s\tremaining: 31.7s\n",
      "1068:\tlearn: 1554.7357390\ttest: 1639.5930563\tbest: 1639.5930563 (1068)\ttotal: 4m 16s\tremaining: 31.5s\n",
      "1069:\tlearn: 1554.7003518\ttest: 1639.5851922\tbest: 1639.5851922 (1069)\ttotal: 4m 16s\tremaining: 31.2s\n",
      "1070:\tlearn: 1554.6339087\ttest: 1639.5516563\tbest: 1639.5516563 (1070)\ttotal: 4m 17s\tremaining: 31s\n",
      "1071:\tlearn: 1554.2691314\ttest: 1639.3996143\tbest: 1639.3996143 (1071)\ttotal: 4m 17s\tremaining: 30.7s\n",
      "1072:\tlearn: 1554.2097331\ttest: 1639.3634404\tbest: 1639.3634404 (1072)\ttotal: 4m 17s\tremaining: 30.5s\n",
      "1073:\tlearn: 1554.1028476\ttest: 1639.3346586\tbest: 1639.3346586 (1073)\ttotal: 4m 17s\tremaining: 30.2s\n",
      "1074:\tlearn: 1554.0286766\ttest: 1639.3010271\tbest: 1639.3010271 (1074)\ttotal: 4m 17s\tremaining: 30s\n",
      "1075:\tlearn: 1553.8891581\ttest: 1639.2336175\tbest: 1639.2336175 (1075)\ttotal: 4m 18s\tremaining: 29.8s\n",
      "1076:\tlearn: 1553.7827047\ttest: 1639.1658475\tbest: 1639.1658475 (1076)\ttotal: 4m 18s\tremaining: 29.5s\n",
      "1077:\tlearn: 1553.6254741\ttest: 1639.0776090\tbest: 1639.0776090 (1077)\ttotal: 4m 18s\tremaining: 29.3s\n",
      "1078:\tlearn: 1553.5648004\ttest: 1639.0519642\tbest: 1639.0519642 (1078)\ttotal: 4m 19s\tremaining: 29s\n",
      "1079:\tlearn: 1553.4810999\ttest: 1638.9980701\tbest: 1638.9980701 (1079)\ttotal: 4m 19s\tremaining: 28.8s\n",
      "1080:\tlearn: 1553.3486947\ttest: 1638.9005222\tbest: 1638.9005222 (1080)\ttotal: 4m 19s\tremaining: 28.6s\n",
      "1081:\tlearn: 1553.2815371\ttest: 1638.8658691\tbest: 1638.8658691 (1081)\ttotal: 4m 19s\tremaining: 28.3s\n",
      "1082:\tlearn: 1553.0907423\ttest: 1638.7634633\tbest: 1638.7634633 (1082)\ttotal: 4m 19s\tremaining: 28.1s\n",
      "1083:\tlearn: 1552.9181079\ttest: 1638.6515052\tbest: 1638.6515052 (1083)\ttotal: 4m 20s\tremaining: 27.8s\n",
      "1084:\tlearn: 1552.8236496\ttest: 1638.6257791\tbest: 1638.6257791 (1084)\ttotal: 4m 20s\tremaining: 27.6s\n",
      "1085:\tlearn: 1552.7385899\ttest: 1638.5625046\tbest: 1638.5625046 (1085)\ttotal: 4m 20s\tremaining: 27.4s\n",
      "1086:\tlearn: 1552.6695230\ttest: 1638.5173741\tbest: 1638.5173741 (1086)\ttotal: 4m 21s\tremaining: 27.1s\n",
      "1087:\tlearn: 1552.6043990\ttest: 1638.5048364\tbest: 1638.5048364 (1087)\ttotal: 4m 21s\tremaining: 26.9s\n",
      "1088:\tlearn: 1552.4666553\ttest: 1638.4400329\tbest: 1638.4400329 (1088)\ttotal: 4m 21s\tremaining: 26.7s\n",
      "1089:\tlearn: 1552.3237402\ttest: 1638.3729361\tbest: 1638.3729361 (1089)\ttotal: 4m 21s\tremaining: 26.4s\n",
      "1090:\tlearn: 1552.1482376\ttest: 1638.2825256\tbest: 1638.2825256 (1090)\ttotal: 4m 22s\tremaining: 26.2s\n",
      "1091:\tlearn: 1552.0407798\ttest: 1638.2608528\tbest: 1638.2608528 (1091)\ttotal: 4m 22s\tremaining: 26s\n",
      "1092:\tlearn: 1551.9237796\ttest: 1638.2208307\tbest: 1638.2208307 (1092)\ttotal: 4m 22s\tremaining: 25.7s\n",
      "1093:\tlearn: 1551.8648762\ttest: 1638.1930749\tbest: 1638.1930749 (1093)\ttotal: 4m 22s\tremaining: 25.5s\n",
      "1094:\tlearn: 1551.6839229\ttest: 1638.1027594\tbest: 1638.1027594 (1094)\ttotal: 4m 23s\tremaining: 25.2s\n",
      "1095:\tlearn: 1551.5725944\ttest: 1638.0736137\tbest: 1638.0736137 (1095)\ttotal: 4m 23s\tremaining: 25s\n",
      "1096:\tlearn: 1551.3323280\ttest: 1637.9040563\tbest: 1637.9040563 (1096)\ttotal: 4m 23s\tremaining: 24.8s\n",
      "1097:\tlearn: 1551.1221190\ttest: 1637.8053261\tbest: 1637.8053261 (1097)\ttotal: 4m 23s\tremaining: 24.5s\n",
      "1098:\tlearn: 1551.0351551\ttest: 1637.7967432\tbest: 1637.7967432 (1098)\ttotal: 4m 24s\tremaining: 24.3s\n",
      "1099:\tlearn: 1550.9527102\ttest: 1637.7328972\tbest: 1637.7328972 (1099)\ttotal: 4m 24s\tremaining: 24s\n",
      "1100:\tlearn: 1550.7207937\ttest: 1637.5848585\tbest: 1637.5848585 (1100)\ttotal: 4m 24s\tremaining: 23.8s\n",
      "1101:\tlearn: 1550.6736009\ttest: 1637.5570432\tbest: 1637.5570432 (1101)\ttotal: 4m 24s\tremaining: 23.6s\n",
      "1102:\tlearn: 1550.5869007\ttest: 1637.4918117\tbest: 1637.4918117 (1102)\ttotal: 4m 25s\tremaining: 23.3s\n",
      "1103:\tlearn: 1550.5022774\ttest: 1637.4708664\tbest: 1637.4708664 (1103)\ttotal: 4m 25s\tremaining: 23.1s\n",
      "1104:\tlearn: 1550.4308385\ttest: 1637.4196300\tbest: 1637.4196300 (1104)\ttotal: 4m 25s\tremaining: 22.9s\n",
      "1105:\tlearn: 1550.3109734\ttest: 1637.3561065\tbest: 1637.3561065 (1105)\ttotal: 4m 26s\tremaining: 22.6s\n",
      "1106:\tlearn: 1550.1242840\ttest: 1637.2349896\tbest: 1637.2349896 (1106)\ttotal: 4m 26s\tremaining: 22.4s\n",
      "1107:\tlearn: 1550.0625386\ttest: 1637.1973908\tbest: 1637.1973908 (1107)\ttotal: 4m 26s\tremaining: 22.1s\n",
      "1108:\tlearn: 1549.9395811\ttest: 1637.0666084\tbest: 1637.0666084 (1108)\ttotal: 4m 26s\tremaining: 21.9s\n",
      "1109:\tlearn: 1549.8137039\ttest: 1637.0248490\tbest: 1637.0248490 (1109)\ttotal: 4m 26s\tremaining: 21.6s\n",
      "1110:\tlearn: 1549.7669289\ttest: 1636.9979860\tbest: 1636.9979860 (1110)\ttotal: 4m 27s\tremaining: 21.4s\n",
      "1111:\tlearn: 1549.5687791\ttest: 1636.8616226\tbest: 1636.8616226 (1111)\ttotal: 4m 27s\tremaining: 21.2s\n",
      "1112:\tlearn: 1549.4703861\ttest: 1636.8331335\tbest: 1636.8331335 (1112)\ttotal: 4m 27s\tremaining: 20.9s\n",
      "1113:\tlearn: 1549.3195874\ttest: 1636.8065770\tbest: 1636.8065770 (1113)\ttotal: 4m 27s\tremaining: 20.7s\n",
      "1114:\tlearn: 1549.2829370\ttest: 1636.7787792\tbest: 1636.7787792 (1114)\ttotal: 4m 28s\tremaining: 20.4s\n",
      "1115:\tlearn: 1549.0768194\ttest: 1636.6418377\tbest: 1636.6418377 (1115)\ttotal: 4m 28s\tremaining: 20.2s\n",
      "1116:\tlearn: 1548.8507871\ttest: 1636.4857968\tbest: 1636.4857968 (1116)\ttotal: 4m 28s\tremaining: 20s\n",
      "1117:\tlearn: 1548.8131756\ttest: 1636.4893217\tbest: 1636.4857968 (1116)\ttotal: 4m 28s\tremaining: 19.7s\n",
      "1118:\tlearn: 1548.6877557\ttest: 1636.3984520\tbest: 1636.3984520 (1118)\ttotal: 4m 29s\tremaining: 19.5s\n",
      "1119:\tlearn: 1548.5348374\ttest: 1636.3324614\tbest: 1636.3324614 (1119)\ttotal: 4m 29s\tremaining: 19.2s\n",
      "1120:\tlearn: 1548.3873303\ttest: 1636.2887976\tbest: 1636.2887976 (1120)\ttotal: 4m 29s\tremaining: 19s\n",
      "1121:\tlearn: 1548.3099390\ttest: 1636.2352812\tbest: 1636.2352812 (1121)\ttotal: 4m 29s\tremaining: 18.8s\n",
      "1122:\tlearn: 1548.1541186\ttest: 1636.1553115\tbest: 1636.1553115 (1122)\ttotal: 4m 30s\tremaining: 18.5s\n",
      "1123:\tlearn: 1548.0748891\ttest: 1636.0874410\tbest: 1636.0874410 (1123)\ttotal: 4m 30s\tremaining: 18.3s\n",
      "1124:\tlearn: 1548.0210619\ttest: 1636.0937825\tbest: 1636.0874410 (1123)\ttotal: 4m 30s\tremaining: 18s\n",
      "1125:\tlearn: 1547.8830300\ttest: 1635.9683557\tbest: 1635.9683557 (1125)\ttotal: 4m 30s\tremaining: 17.8s\n",
      "1126:\tlearn: 1547.7862971\ttest: 1635.9183810\tbest: 1635.9183810 (1126)\ttotal: 4m 30s\tremaining: 17.6s\n",
      "1127:\tlearn: 1547.6493223\ttest: 1635.8603955\tbest: 1635.8603955 (1127)\ttotal: 4m 31s\tremaining: 17.3s\n",
      "1128:\tlearn: 1547.5065201\ttest: 1635.7572028\tbest: 1635.7572028 (1128)\ttotal: 4m 31s\tremaining: 17.1s\n",
      "1129:\tlearn: 1547.3751484\ttest: 1635.6751250\tbest: 1635.6751250 (1129)\ttotal: 4m 31s\tremaining: 16.8s\n",
      "1130:\tlearn: 1547.2890587\ttest: 1635.6354721\tbest: 1635.6354721 (1130)\ttotal: 4m 32s\tremaining: 16.6s\n",
      "1131:\tlearn: 1547.1305863\ttest: 1635.6032334\tbest: 1635.6032334 (1131)\ttotal: 4m 32s\tremaining: 16.4s\n",
      "1132:\tlearn: 1547.0052739\ttest: 1635.5364416\tbest: 1635.5364416 (1132)\ttotal: 4m 32s\tremaining: 16.1s\n",
      "1133:\tlearn: 1546.9163886\ttest: 1635.4875594\tbest: 1635.4875594 (1133)\ttotal: 4m 32s\tremaining: 15.9s\n",
      "1134:\tlearn: 1546.8070410\ttest: 1635.4205364\tbest: 1635.4205364 (1134)\ttotal: 4m 33s\tremaining: 15.6s\n",
      "1135:\tlearn: 1546.6099695\ttest: 1635.2913204\tbest: 1635.2913204 (1135)\ttotal: 4m 33s\tremaining: 15.4s\n",
      "1136:\tlearn: 1546.5079494\ttest: 1635.2828583\tbest: 1635.2828583 (1136)\ttotal: 4m 33s\tremaining: 15.2s\n",
      "1137:\tlearn: 1546.4612502\ttest: 1635.2622230\tbest: 1635.2622230 (1137)\ttotal: 4m 33s\tremaining: 14.9s\n",
      "1138:\tlearn: 1546.4165206\ttest: 1635.2461521\tbest: 1635.2461521 (1138)\ttotal: 4m 34s\tremaining: 14.7s\n",
      "1139:\tlearn: 1546.2980710\ttest: 1635.1806796\tbest: 1635.1806796 (1139)\ttotal: 4m 34s\tremaining: 14.4s\n",
      "1140:\tlearn: 1546.1815030\ttest: 1635.0978538\tbest: 1635.0978538 (1140)\ttotal: 4m 34s\tremaining: 14.2s\n",
      "1141:\tlearn: 1546.0781413\ttest: 1635.0106332\tbest: 1635.0106332 (1141)\ttotal: 4m 34s\tremaining: 14s\n",
      "1142:\tlearn: 1546.0132708\ttest: 1634.9995285\tbest: 1634.9995285 (1142)\ttotal: 4m 35s\tremaining: 13.7s\n",
      "1143:\tlearn: 1545.8902534\ttest: 1634.9676007\tbest: 1634.9676007 (1143)\ttotal: 4m 35s\tremaining: 13.5s\n",
      "1144:\tlearn: 1545.8224208\ttest: 1634.9628454\tbest: 1634.9628454 (1144)\ttotal: 4m 35s\tremaining: 13.2s\n",
      "1145:\tlearn: 1545.7824703\ttest: 1634.9365352\tbest: 1634.9365352 (1145)\ttotal: 4m 35s\tremaining: 13s\n",
      "1146:\tlearn: 1545.6898145\ttest: 1634.9045368\tbest: 1634.9045368 (1146)\ttotal: 4m 36s\tremaining: 12.8s\n",
      "1147:\tlearn: 1545.6047707\ttest: 1634.8817023\tbest: 1634.8817023 (1147)\ttotal: 4m 36s\tremaining: 12.5s\n",
      "1148:\tlearn: 1545.5010422\ttest: 1634.8452488\tbest: 1634.8452488 (1148)\ttotal: 4m 36s\tremaining: 12.3s\n",
      "1149:\tlearn: 1545.2589562\ttest: 1634.7021784\tbest: 1634.7021784 (1149)\ttotal: 4m 36s\tremaining: 12s\n",
      "1150:\tlearn: 1545.1653436\ttest: 1634.6592845\tbest: 1634.6592845 (1150)\ttotal: 4m 37s\tremaining: 11.8s\n",
      "1151:\tlearn: 1544.9908580\ttest: 1634.5666662\tbest: 1634.5666662 (1151)\ttotal: 4m 37s\tremaining: 11.6s\n",
      "1152:\tlearn: 1544.9031450\ttest: 1634.5605086\tbest: 1634.5605086 (1152)\ttotal: 4m 37s\tremaining: 11.3s\n",
      "1153:\tlearn: 1544.8402429\ttest: 1634.5227039\tbest: 1634.5227039 (1153)\ttotal: 4m 37s\tremaining: 11.1s\n",
      "1154:\tlearn: 1544.7952621\ttest: 1634.5046145\tbest: 1634.5046145 (1154)\ttotal: 4m 38s\tremaining: 10.8s\n",
      "1155:\tlearn: 1544.7711793\ttest: 1634.4983819\tbest: 1634.4983819 (1155)\ttotal: 4m 38s\tremaining: 10.6s\n",
      "1156:\tlearn: 1544.7131933\ttest: 1634.4743748\tbest: 1634.4743748 (1156)\ttotal: 4m 38s\tremaining: 10.4s\n",
      "1157:\tlearn: 1544.5559700\ttest: 1634.4279552\tbest: 1634.4279552 (1157)\ttotal: 4m 39s\tremaining: 10.1s\n",
      "1158:\tlearn: 1544.4755910\ttest: 1634.3924610\tbest: 1634.3924610 (1158)\ttotal: 4m 39s\tremaining: 9.88s\n",
      "1159:\tlearn: 1544.4174162\ttest: 1634.3481913\tbest: 1634.3481913 (1159)\ttotal: 4m 39s\tremaining: 9.64s\n",
      "1160:\tlearn: 1544.3608943\ttest: 1634.3221897\tbest: 1634.3221897 (1160)\ttotal: 4m 39s\tremaining: 9.4s\n",
      "1161:\tlearn: 1544.2347060\ttest: 1634.2466755\tbest: 1634.2466755 (1161)\ttotal: 4m 40s\tremaining: 9.16s\n",
      "1162:\tlearn: 1544.0609257\ttest: 1634.1017316\tbest: 1634.1017316 (1162)\ttotal: 4m 40s\tremaining: 8.92s\n",
      "1163:\tlearn: 1543.9573159\ttest: 1634.0690960\tbest: 1634.0690960 (1163)\ttotal: 4m 40s\tremaining: 8.68s\n",
      "1164:\tlearn: 1543.8428049\ttest: 1634.0084131\tbest: 1634.0084131 (1164)\ttotal: 4m 40s\tremaining: 8.44s\n",
      "1165:\tlearn: 1543.6656529\ttest: 1633.9182642\tbest: 1633.9182642 (1165)\ttotal: 4m 41s\tremaining: 8.2s\n",
      "1166:\tlearn: 1543.5578004\ttest: 1633.9182338\tbest: 1633.9182338 (1166)\ttotal: 4m 41s\tremaining: 7.96s\n",
      "1167:\tlearn: 1543.4764608\ttest: 1633.8902604\tbest: 1633.8902604 (1167)\ttotal: 4m 41s\tremaining: 7.72s\n",
      "1168:\tlearn: 1543.3480671\ttest: 1633.7984966\tbest: 1633.7984966 (1168)\ttotal: 4m 41s\tremaining: 7.47s\n",
      "1169:\tlearn: 1543.2631810\ttest: 1633.7614998\tbest: 1633.7614998 (1169)\ttotal: 4m 42s\tremaining: 7.24s\n",
      "1170:\tlearn: 1543.1086405\ttest: 1633.6858902\tbest: 1633.6858902 (1170)\ttotal: 4m 42s\tremaining: 6.99s\n",
      "1171:\tlearn: 1543.0626414\ttest: 1633.6532236\tbest: 1633.6532236 (1171)\ttotal: 4m 42s\tremaining: 6.75s\n",
      "1172:\tlearn: 1542.7814524\ttest: 1633.5105765\tbest: 1633.5105765 (1172)\ttotal: 4m 42s\tremaining: 6.51s\n",
      "1173:\tlearn: 1542.7597831\ttest: 1633.5059290\tbest: 1633.5059290 (1173)\ttotal: 4m 43s\tremaining: 6.27s\n",
      "1174:\tlearn: 1542.5627863\ttest: 1633.3980960\tbest: 1633.3980960 (1174)\ttotal: 4m 43s\tremaining: 6.03s\n",
      "1175:\tlearn: 1542.5418095\ttest: 1633.3808348\tbest: 1633.3808348 (1175)\ttotal: 4m 43s\tremaining: 5.79s\n",
      "1176:\tlearn: 1542.5104486\ttest: 1633.3754874\tbest: 1633.3754874 (1176)\ttotal: 4m 44s\tremaining: 5.55s\n",
      "1177:\tlearn: 1542.4285486\ttest: 1633.3417653\tbest: 1633.3417653 (1177)\ttotal: 4m 44s\tremaining: 5.31s\n",
      "1178:\tlearn: 1542.3440226\ttest: 1633.3175254\tbest: 1633.3175254 (1178)\ttotal: 4m 44s\tremaining: 5.07s\n",
      "1179:\tlearn: 1542.2510090\ttest: 1633.2943935\tbest: 1633.2943935 (1179)\ttotal: 4m 44s\tremaining: 4.83s\n",
      "1180:\tlearn: 1542.1615354\ttest: 1633.2365926\tbest: 1633.2365926 (1180)\ttotal: 4m 44s\tremaining: 4.58s\n",
      "1181:\tlearn: 1541.9998749\ttest: 1633.1541622\tbest: 1633.1541622 (1181)\ttotal: 4m 45s\tremaining: 4.34s\n",
      "1182:\tlearn: 1541.8988942\ttest: 1633.0926707\tbest: 1633.0926707 (1182)\ttotal: 4m 45s\tremaining: 4.1s\n",
      "1183:\tlearn: 1541.8439568\ttest: 1633.0733158\tbest: 1633.0733158 (1183)\ttotal: 4m 45s\tremaining: 3.86s\n",
      "1184:\tlearn: 1541.7329892\ttest: 1632.9702360\tbest: 1632.9702360 (1184)\ttotal: 4m 46s\tremaining: 3.62s\n",
      "1185:\tlearn: 1541.6461234\ttest: 1632.9244938\tbest: 1632.9244938 (1185)\ttotal: 4m 46s\tremaining: 3.38s\n",
      "1186:\tlearn: 1541.4565877\ttest: 1632.8269464\tbest: 1632.8269464 (1186)\ttotal: 4m 46s\tremaining: 3.14s\n",
      "1187:\tlearn: 1541.3477621\ttest: 1632.7703066\tbest: 1632.7703066 (1187)\ttotal: 4m 46s\tremaining: 2.9s\n",
      "1188:\tlearn: 1541.1354177\ttest: 1632.6512766\tbest: 1632.6512766 (1188)\ttotal: 4m 47s\tremaining: 2.66s\n",
      "1189:\tlearn: 1541.0599756\ttest: 1632.6450892\tbest: 1632.6450892 (1189)\ttotal: 4m 47s\tremaining: 2.41s\n",
      "1190:\tlearn: 1540.9209679\ttest: 1632.6239476\tbest: 1632.6239476 (1190)\ttotal: 4m 47s\tremaining: 2.17s\n",
      "1191:\tlearn: 1540.7376864\ttest: 1632.5536863\tbest: 1632.5536863 (1191)\ttotal: 4m 47s\tremaining: 1.93s\n",
      "1192:\tlearn: 1540.6204751\ttest: 1632.4934842\tbest: 1632.4934842 (1192)\ttotal: 4m 48s\tremaining: 1.69s\n",
      "1193:\tlearn: 1540.5717954\ttest: 1632.4705445\tbest: 1632.4705445 (1193)\ttotal: 4m 48s\tremaining: 1.45s\n",
      "1194:\tlearn: 1540.4174000\ttest: 1632.3834576\tbest: 1632.3834576 (1194)\ttotal: 4m 48s\tremaining: 1.21s\n",
      "1195:\tlearn: 1540.2873342\ttest: 1632.3386020\tbest: 1632.3386020 (1195)\ttotal: 4m 48s\tremaining: 966ms\n",
      "1196:\tlearn: 1540.2198555\ttest: 1632.3219363\tbest: 1632.3219363 (1196)\ttotal: 4m 49s\tremaining: 725ms\n",
      "1197:\tlearn: 1540.1771850\ttest: 1632.2931762\tbest: 1632.2931762 (1197)\ttotal: 4m 49s\tremaining: 483ms\n",
      "1198:\tlearn: 1540.1078467\ttest: 1632.2752099\tbest: 1632.2752099 (1198)\ttotal: 4m 49s\tremaining: 242ms\n",
      "1199:\tlearn: 1539.9696845\ttest: 1632.2022462\tbest: 1632.2022462 (1199)\ttotal: 4m 50s\tremaining: 0us\n",
      "\n",
      "bestTest = 1632.202246\n",
      "bestIteration = 1199\n",
      "\n",
      "Training on fold [2/3]\n",
      "0:\tlearn: 6370.0255146\ttest: 6381.5258646\tbest: 6381.5258646 (0)\ttotal: 250ms\tremaining: 4m 59s\n",
      "1:\tlearn: 6262.9523314\ttest: 6274.3390618\tbest: 6274.3390618 (1)\ttotal: 513ms\tremaining: 5m 7s\n",
      "2:\tlearn: 6157.8587921\ttest: 6169.0508201\tbest: 6169.0508201 (2)\ttotal: 762ms\tremaining: 5m 4s\n",
      "3:\tlearn: 6054.3300415\ttest: 6065.5755927\tbest: 6065.5755927 (3)\ttotal: 961ms\tremaining: 4m 47s\n",
      "4:\tlearn: 5953.1868288\ttest: 5964.1896998\tbest: 5964.1896998 (4)\ttotal: 1.2s\tremaining: 4m 46s\n",
      "5:\tlearn: 5854.3543276\ttest: 5865.1854345\tbest: 5865.1854345 (5)\ttotal: 1.42s\tremaining: 4m 42s\n",
      "6:\tlearn: 5757.5017095\ttest: 5768.2332021\tbest: 5768.2332021 (6)\ttotal: 1.66s\tremaining: 4m 43s\n",
      "7:\tlearn: 5663.4176995\ttest: 5673.8408733\tbest: 5673.8408733 (7)\ttotal: 1.87s\tremaining: 4m 38s\n",
      "8:\tlearn: 5571.3487121\ttest: 5581.6157490\tbest: 5581.6157490 (8)\ttotal: 2.11s\tremaining: 4m 39s\n",
      "9:\tlearn: 5481.7155684\ttest: 5491.8612042\tbest: 5491.8612042 (9)\ttotal: 2.4s\tremaining: 4m 45s\n",
      "10:\tlearn: 5393.7158608\ttest: 5403.6652241\tbest: 5403.6652241 (10)\ttotal: 2.66s\tremaining: 4m 47s\n",
      "11:\tlearn: 5308.1347797\ttest: 5317.8619399\tbest: 5317.8619399 (11)\ttotal: 2.85s\tremaining: 4m 42s\n",
      "12:\tlearn: 5224.6644425\ttest: 5234.3512319\tbest: 5234.3512319 (12)\ttotal: 3.07s\tremaining: 4m 40s\n",
      "13:\tlearn: 5142.5984663\ttest: 5151.2277002\tbest: 5151.2277002 (13)\ttotal: 3.32s\tremaining: 4m 41s\n",
      "14:\tlearn: 5062.3232928\ttest: 5070.7921709\tbest: 5070.7921709 (14)\ttotal: 3.54s\tremaining: 4m 39s\n",
      "15:\tlearn: 4984.4402071\ttest: 4992.9342300\tbest: 4992.9342300 (15)\ttotal: 3.73s\tremaining: 4m 36s\n",
      "16:\tlearn: 4906.8189733\ttest: 4914.9897238\tbest: 4914.9897238 (16)\ttotal: 3.95s\tremaining: 4m 35s\n",
      "17:\tlearn: 4831.7356931\ttest: 4839.7756397\tbest: 4839.7756397 (17)\ttotal: 4.15s\tremaining: 4m 32s\n",
      "18:\tlearn: 4756.8951814\ttest: 4764.9826427\tbest: 4764.9826427 (18)\ttotal: 4.39s\tremaining: 4m 32s\n",
      "19:\tlearn: 4685.8102539\ttest: 4693.7228591\tbest: 4693.7228591 (19)\ttotal: 4.64s\tremaining: 4m 33s\n",
      "20:\tlearn: 4614.1666328\ttest: 4621.8396934\tbest: 4621.8396934 (20)\ttotal: 4.85s\tremaining: 4m 32s\n",
      "21:\tlearn: 4544.9308722\ttest: 4552.2381480\tbest: 4552.2381480 (21)\ttotal: 5.07s\tremaining: 4m 31s\n",
      "22:\tlearn: 4477.5762062\ttest: 4484.9905868\tbest: 4484.9905868 (22)\ttotal: 5.29s\tremaining: 4m 30s\n",
      "23:\tlearn: 4412.7270757\ttest: 4419.9845524\tbest: 4419.9845524 (23)\ttotal: 5.51s\tremaining: 4m 29s\n",
      "24:\tlearn: 4348.4424594\ttest: 4355.5026880\tbest: 4355.5026880 (24)\ttotal: 5.71s\tremaining: 4m 28s\n",
      "25:\tlearn: 4285.7548788\ttest: 4292.8324888\tbest: 4292.8324888 (25)\ttotal: 5.93s\tremaining: 4m 27s\n",
      "26:\tlearn: 4224.2229959\ttest: 4231.2013593\tbest: 4231.2013593 (26)\ttotal: 6.17s\tremaining: 4m 27s\n",
      "27:\tlearn: 4163.3863320\ttest: 4170.2929613\tbest: 4170.2929613 (27)\ttotal: 6.35s\tremaining: 4m 25s\n",
      "28:\tlearn: 4103.3017151\ttest: 4110.0616470\tbest: 4110.0616470 (28)\ttotal: 6.63s\tremaining: 4m 27s\n",
      "29:\tlearn: 4046.3036669\ttest: 4052.1829355\tbest: 4052.1829355 (29)\ttotal: 6.84s\tremaining: 4m 26s\n",
      "30:\tlearn: 3989.9267020\ttest: 3995.9366210\tbest: 3995.9366210 (30)\ttotal: 7.09s\tremaining: 4m 27s\n",
      "31:\tlearn: 3935.5751176\ttest: 3941.6164955\tbest: 3941.6164955 (31)\ttotal: 7.33s\tremaining: 4m 27s\n",
      "32:\tlearn: 3881.2779983\ttest: 3887.3213681\tbest: 3887.3213681 (32)\ttotal: 7.58s\tremaining: 4m 28s\n",
      "33:\tlearn: 3828.2769847\ttest: 3834.2128007\tbest: 3834.2128007 (33)\ttotal: 7.83s\tremaining: 4m 28s\n",
      "34:\tlearn: 3778.0939853\ttest: 3784.3007360\tbest: 3784.3007360 (34)\ttotal: 8.07s\tremaining: 4m 28s\n",
      "35:\tlearn: 3728.5642683\ttest: 3734.8439929\tbest: 3734.8439929 (35)\ttotal: 8.29s\tremaining: 4m 28s\n",
      "36:\tlearn: 3680.0799738\ttest: 3686.4310485\tbest: 3686.4310485 (36)\ttotal: 8.55s\tremaining: 4m 28s\n",
      "37:\tlearn: 3632.2464223\ttest: 3638.4436719\tbest: 3638.4436719 (37)\ttotal: 8.79s\tremaining: 4m 28s\n",
      "38:\tlearn: 3585.2647902\ttest: 3591.5467851\tbest: 3591.5467851 (38)\ttotal: 9.06s\tremaining: 4m 29s\n",
      "39:\tlearn: 3539.5002195\ttest: 3545.5807378\tbest: 3545.5807378 (39)\ttotal: 9.3s\tremaining: 4m 29s\n",
      "40:\tlearn: 3495.4908638\ttest: 3501.5696650\tbest: 3501.5696650 (40)\ttotal: 9.55s\tremaining: 4m 29s\n",
      "41:\tlearn: 3452.2238143\ttest: 3458.3860042\tbest: 3458.3860042 (41)\ttotal: 9.83s\tremaining: 4m 30s\n",
      "42:\tlearn: 3410.9264755\ttest: 3417.1267748\tbest: 3417.1267748 (42)\ttotal: 10.1s\tremaining: 4m 31s\n",
      "43:\tlearn: 3369.8152235\ttest: 3375.8325350\tbest: 3375.8325350 (43)\ttotal: 10.3s\tremaining: 4m 31s\n",
      "44:\tlearn: 3329.9230665\ttest: 3335.9932654\tbest: 3335.9932654 (44)\ttotal: 10.6s\tremaining: 4m 31s\n",
      "45:\tlearn: 3290.6472418\ttest: 3296.6306977\tbest: 3296.6306977 (45)\ttotal: 10.8s\tremaining: 4m 31s\n",
      "46:\tlearn: 3253.1666391\ttest: 3259.1818858\tbest: 3259.1818858 (46)\ttotal: 11s\tremaining: 4m 30s\n",
      "47:\tlearn: 3216.1384879\ttest: 3222.0141463\tbest: 3222.0141463 (47)\ttotal: 11.3s\tremaining: 4m 30s\n",
      "48:\tlearn: 3180.0572583\ttest: 3185.8800384\tbest: 3185.8800384 (48)\ttotal: 11.5s\tremaining: 4m 29s\n",
      "49:\tlearn: 3144.4882352\ttest: 3150.1420418\tbest: 3150.1420418 (49)\ttotal: 11.7s\tremaining: 4m 29s\n",
      "50:\tlearn: 3109.5894836\ttest: 3115.1822386\tbest: 3115.1822386 (50)\ttotal: 12s\tremaining: 4m 29s\n",
      "51:\tlearn: 3076.3781332\ttest: 3081.9374608\tbest: 3081.9374608 (51)\ttotal: 12.2s\tremaining: 4m 28s\n",
      "52:\tlearn: 3043.7489678\ttest: 3049.3785955\tbest: 3049.3785955 (52)\ttotal: 12.4s\tremaining: 4m 28s\n",
      "53:\tlearn: 3011.6263187\ttest: 3017.1845099\tbest: 3017.1845099 (53)\ttotal: 12.7s\tremaining: 4m 29s\n",
      "54:\tlearn: 2980.4383798\ttest: 2986.1517926\tbest: 2986.1517926 (54)\ttotal: 12.9s\tremaining: 4m 29s\n",
      "55:\tlearn: 2949.4531353\ttest: 2955.1226141\tbest: 2955.1226141 (55)\ttotal: 13.1s\tremaining: 4m 28s\n",
      "56:\tlearn: 2920.0567134\ttest: 2925.6805265\tbest: 2925.6805265 (56)\ttotal: 13.3s\tremaining: 4m 27s\n",
      "57:\tlearn: 2891.7793161\ttest: 2897.3266590\tbest: 2897.3266590 (57)\ttotal: 13.6s\tremaining: 4m 27s\n",
      "58:\tlearn: 2864.4416524\ttest: 2870.0008824\tbest: 2870.0008824 (58)\ttotal: 13.8s\tremaining: 4m 27s\n",
      "59:\tlearn: 2836.7258307\ttest: 2842.2264918\tbest: 2842.2264918 (59)\ttotal: 14s\tremaining: 4m 26s\n",
      "60:\tlearn: 2810.0745587\ttest: 2815.4722216\tbest: 2815.4722216 (60)\ttotal: 14.3s\tremaining: 4m 26s\n",
      "61:\tlearn: 2784.7134986\ttest: 2790.1432702\tbest: 2790.1432702 (61)\ttotal: 14.5s\tremaining: 4m 26s\n",
      "62:\tlearn: 2759.5145401\ttest: 2764.9950717\tbest: 2764.9950717 (62)\ttotal: 14.8s\tremaining: 4m 26s\n",
      "63:\tlearn: 2735.1919836\ttest: 2740.7826714\tbest: 2740.7826714 (63)\ttotal: 15s\tremaining: 4m 26s\n",
      "64:\tlearn: 2710.9357701\ttest: 2716.6352826\tbest: 2716.6352826 (64)\ttotal: 15.3s\tremaining: 4m 26s\n",
      "65:\tlearn: 2687.4093273\ttest: 2693.1631291\tbest: 2693.1631291 (65)\ttotal: 15.5s\tremaining: 4m 26s\n",
      "66:\tlearn: 2665.1719971\ttest: 2670.9724361\tbest: 2670.9724361 (66)\ttotal: 15.7s\tremaining: 4m 26s\n",
      "67:\tlearn: 2643.7799397\ttest: 2649.6560326\tbest: 2649.6560326 (67)\ttotal: 16s\tremaining: 4m 26s\n",
      "68:\tlearn: 2621.7461102\ttest: 2627.6913400\tbest: 2627.6913400 (68)\ttotal: 16.2s\tremaining: 4m 25s\n",
      "69:\tlearn: 2600.9978015\ttest: 2606.2267139\tbest: 2606.2267139 (69)\ttotal: 16.4s\tremaining: 4m 25s\n",
      "70:\tlearn: 2580.3253645\ttest: 2585.6151351\tbest: 2585.6151351 (70)\ttotal: 16.6s\tremaining: 4m 24s\n",
      "71:\tlearn: 2559.9201367\ttest: 2565.2449613\tbest: 2565.2449613 (71)\ttotal: 16.9s\tremaining: 4m 24s\n",
      "72:\tlearn: 2540.2083610\ttest: 2545.0212914\tbest: 2545.0212914 (72)\ttotal: 17.1s\tremaining: 4m 24s\n",
      "73:\tlearn: 2520.7905065\ttest: 2525.5888894\tbest: 2525.5888894 (73)\ttotal: 17.4s\tremaining: 4m 24s\n",
      "74:\tlearn: 2502.5768076\ttest: 2506.9443469\tbest: 2506.9443469 (74)\ttotal: 17.5s\tremaining: 4m 23s\n",
      "75:\tlearn: 2484.8525823\ttest: 2488.9845534\tbest: 2488.9845534 (75)\ttotal: 17.8s\tremaining: 4m 22s\n",
      "76:\tlearn: 2466.8361713\ttest: 2470.9096741\tbest: 2470.9096741 (76)\ttotal: 18s\tremaining: 4m 22s\n",
      "77:\tlearn: 2449.4212316\ttest: 2453.4605650\tbest: 2453.4605650 (77)\ttotal: 18.2s\tremaining: 4m 21s\n",
      "78:\tlearn: 2433.0472589\ttest: 2436.6028300\tbest: 2436.6028300 (78)\ttotal: 18.4s\tremaining: 4m 21s\n",
      "79:\tlearn: 2416.9267286\ttest: 2420.6786358\tbest: 2420.6786358 (79)\ttotal: 18.7s\tremaining: 4m 21s\n",
      "80:\tlearn: 2401.2051898\ttest: 2404.9827544\tbest: 2404.9827544 (80)\ttotal: 18.9s\tremaining: 4m 20s\n",
      "81:\tlearn: 2385.7820094\ttest: 2389.4815577\tbest: 2389.4815577 (81)\ttotal: 19.1s\tremaining: 4m 20s\n",
      "82:\tlearn: 2370.9367677\ttest: 2374.5855651\tbest: 2374.5855651 (82)\ttotal: 19.3s\tremaining: 4m 20s\n",
      "83:\tlearn: 2356.9361143\ttest: 2360.6156765\tbest: 2360.6156765 (83)\ttotal: 19.5s\tremaining: 4m 19s\n",
      "84:\tlearn: 2343.0025753\ttest: 2346.7255068\tbest: 2346.7255068 (84)\ttotal: 19.8s\tremaining: 4m 19s\n",
      "85:\tlearn: 2329.5254184\ttest: 2333.2603735\tbest: 2333.2603735 (85)\ttotal: 20s\tremaining: 4m 19s\n",
      "86:\tlearn: 2316.6237926\ttest: 2319.7004831\tbest: 2319.7004831 (86)\ttotal: 20.3s\tremaining: 4m 19s\n",
      "87:\tlearn: 2303.6737936\ttest: 2306.7019025\tbest: 2306.7019025 (87)\ttotal: 20.5s\tremaining: 4m 19s\n",
      "88:\tlearn: 2291.1591809\ttest: 2294.2267618\tbest: 2294.2267618 (88)\ttotal: 20.7s\tremaining: 4m 18s\n",
      "89:\tlearn: 2279.1344741\ttest: 2282.3726592\tbest: 2282.3726592 (89)\ttotal: 20.9s\tremaining: 4m 18s\n",
      "90:\tlearn: 2267.5303975\ttest: 2270.8015545\tbest: 2270.8015545 (90)\ttotal: 21.2s\tremaining: 4m 18s\n",
      "91:\tlearn: 2256.3017681\ttest: 2259.7406391\tbest: 2259.7406391 (91)\ttotal: 21.4s\tremaining: 4m 18s\n",
      "92:\tlearn: 2245.0794401\ttest: 2248.5347430\tbest: 2248.5347430 (92)\ttotal: 21.7s\tremaining: 4m 18s\n",
      "93:\tlearn: 2234.4164937\ttest: 2237.4567951\tbest: 2237.4567951 (93)\ttotal: 21.9s\tremaining: 4m 17s\n",
      "94:\tlearn: 2224.0226144\ttest: 2227.0586917\tbest: 2227.0586917 (94)\ttotal: 22.1s\tremaining: 4m 16s\n",
      "95:\tlearn: 2214.0514610\ttest: 2216.7299829\tbest: 2216.7299829 (95)\ttotal: 22.3s\tremaining: 4m 16s\n",
      "96:\tlearn: 2204.2962185\ttest: 2206.9559721\tbest: 2206.9559721 (96)\ttotal: 22.5s\tremaining: 4m 16s\n",
      "97:\tlearn: 2194.5848288\ttest: 2197.2189403\tbest: 2197.2189403 (97)\ttotal: 22.7s\tremaining: 4m 15s\n",
      "98:\tlearn: 2185.6917352\ttest: 2187.7573745\tbest: 2187.7573745 (98)\ttotal: 22.9s\tremaining: 4m 15s\n",
      "99:\tlearn: 2176.4016215\ttest: 2178.4216135\tbest: 2178.4216135 (99)\ttotal: 23.1s\tremaining: 4m 14s\n",
      "100:\tlearn: 2167.2961451\ttest: 2169.3654833\tbest: 2169.3654833 (100)\ttotal: 23.4s\tremaining: 4m 14s\n",
      "101:\tlearn: 2158.6133910\ttest: 2160.7118760\tbest: 2160.7118760 (101)\ttotal: 23.7s\tremaining: 4m 14s\n",
      "102:\tlearn: 2150.4930513\ttest: 2152.6995922\tbest: 2152.6995922 (102)\ttotal: 23.9s\tremaining: 4m 14s\n",
      "103:\tlearn: 2142.4402353\ttest: 2144.2796756\tbest: 2144.2796756 (103)\ttotal: 24.1s\tremaining: 4m 13s\n",
      "104:\tlearn: 2134.0836952\ttest: 2135.5959627\tbest: 2135.5959627 (104)\ttotal: 24.3s\tremaining: 4m 13s\n",
      "105:\tlearn: 2125.8790817\ttest: 2127.3979483\tbest: 2127.3979483 (105)\ttotal: 24.6s\tremaining: 4m 13s\n",
      "106:\tlearn: 2117.9273558\ttest: 2119.5091271\tbest: 2119.5091271 (106)\ttotal: 24.8s\tremaining: 4m 13s\n",
      "107:\tlearn: 2110.1665122\ttest: 2111.8638244\tbest: 2111.8638244 (107)\ttotal: 25s\tremaining: 4m 13s\n",
      "108:\tlearn: 2102.4112622\ttest: 2104.0896497\tbest: 2104.0896497 (108)\ttotal: 25.3s\tremaining: 4m 12s\n",
      "109:\tlearn: 2095.4791159\ttest: 2096.9809221\tbest: 2096.9809221 (109)\ttotal: 25.5s\tremaining: 4m 12s\n",
      "110:\tlearn: 2088.4438029\ttest: 2089.8820111\tbest: 2089.8820111 (110)\ttotal: 25.6s\tremaining: 4m 11s\n",
      "111:\tlearn: 2082.2103273\ttest: 2083.4605726\tbest: 2083.4605726 (111)\ttotal: 25.9s\tremaining: 4m 11s\n",
      "112:\tlearn: 2075.7968864\ttest: 2077.2145870\tbest: 2077.2145870 (112)\ttotal: 26.1s\tremaining: 4m 10s\n",
      "113:\tlearn: 2069.2644342\ttest: 2070.7879323\tbest: 2070.7879323 (113)\ttotal: 26.3s\tremaining: 4m 10s\n",
      "114:\tlearn: 2063.0627406\ttest: 2064.6656478\tbest: 2064.6656478 (114)\ttotal: 26.6s\tremaining: 4m 10s\n",
      "115:\tlearn: 2057.3484489\ttest: 2058.9834979\tbest: 2058.9834979 (115)\ttotal: 26.8s\tremaining: 4m 10s\n",
      "116:\tlearn: 2050.8008200\ttest: 2052.4623435\tbest: 2052.4623435 (116)\ttotal: 27s\tremaining: 4m 10s\n",
      "117:\tlearn: 2044.7984528\ttest: 2046.4626454\tbest: 2046.4626454 (117)\ttotal: 27.3s\tremaining: 4m 9s\n",
      "118:\tlearn: 2039.3122521\ttest: 2040.9973648\tbest: 2040.9973648 (118)\ttotal: 27.5s\tremaining: 4m 9s\n",
      "119:\tlearn: 2033.7592279\ttest: 2035.4072875\tbest: 2035.4072875 (119)\ttotal: 27.8s\tremaining: 4m 9s\n",
      "120:\tlearn: 2028.0939146\ttest: 2029.8809307\tbest: 2029.8809307 (120)\ttotal: 28s\tremaining: 4m 9s\n",
      "121:\tlearn: 2023.0076934\ttest: 2024.8689899\tbest: 2024.8689899 (121)\ttotal: 28.2s\tremaining: 4m 9s\n",
      "122:\tlearn: 2018.2076521\ttest: 2020.0107520\tbest: 2020.0107520 (122)\ttotal: 28.5s\tremaining: 4m 9s\n",
      "123:\tlearn: 2012.6578517\ttest: 2014.5013281\tbest: 2014.5013281 (123)\ttotal: 28.7s\tremaining: 4m 9s\n",
      "124:\tlearn: 2006.9470557\ttest: 2008.7407980\tbest: 2008.7407980 (124)\ttotal: 28.9s\tremaining: 4m 8s\n",
      "125:\tlearn: 2001.6916500\ttest: 2003.4530411\tbest: 2003.4530411 (125)\ttotal: 29.1s\tremaining: 4m 8s\n",
      "126:\tlearn: 1996.3200735\ttest: 1997.8146407\tbest: 1997.8146407 (126)\ttotal: 29.3s\tremaining: 4m 7s\n",
      "127:\tlearn: 1991.1841696\ttest: 1992.7386186\tbest: 1992.7386186 (127)\ttotal: 29.6s\tremaining: 4m 7s\n",
      "128:\tlearn: 1985.6713932\ttest: 1987.3302341\tbest: 1987.3302341 (128)\ttotal: 29.8s\tremaining: 4m 7s\n",
      "129:\tlearn: 1980.4460653\ttest: 1982.2242454\tbest: 1982.2242454 (129)\ttotal: 30s\tremaining: 4m 6s\n",
      "130:\tlearn: 1976.0064785\ttest: 1977.8492231\tbest: 1977.8492231 (130)\ttotal: 30.2s\tremaining: 4m 6s\n",
      "131:\tlearn: 1971.6164726\ttest: 1973.4737008\tbest: 1973.4737008 (131)\ttotal: 30.4s\tremaining: 4m 6s\n",
      "132:\tlearn: 1966.8047632\ttest: 1968.7397047\tbest: 1968.7397047 (132)\ttotal: 30.7s\tremaining: 4m 6s\n",
      "133:\tlearn: 1962.2646751\ttest: 1964.1870136\tbest: 1964.1870136 (133)\ttotal: 30.9s\tremaining: 4m 5s\n",
      "134:\tlearn: 1958.1873308\ttest: 1960.1446054\tbest: 1960.1446054 (134)\ttotal: 31.1s\tremaining: 4m 5s\n",
      "135:\tlearn: 1954.0256105\ttest: 1955.9819436\tbest: 1955.9819436 (135)\ttotal: 31.4s\tremaining: 4m 5s\n",
      "136:\tlearn: 1950.0876912\ttest: 1952.1760310\tbest: 1952.1760310 (136)\ttotal: 31.7s\tremaining: 4m 5s\n",
      "137:\tlearn: 1946.2370469\ttest: 1948.4610849\tbest: 1948.4610849 (137)\ttotal: 31.9s\tremaining: 4m 5s\n",
      "138:\tlearn: 1942.4779221\ttest: 1944.8017439\tbest: 1944.8017439 (138)\ttotal: 32.1s\tremaining: 4m 5s\n",
      "139:\tlearn: 1938.8292183\ttest: 1941.0413207\tbest: 1941.0413207 (139)\ttotal: 32.3s\tremaining: 4m 4s\n",
      "140:\tlearn: 1934.6439323\ttest: 1936.7125861\tbest: 1936.7125861 (140)\ttotal: 32.5s\tremaining: 4m 4s\n",
      "141:\tlearn: 1931.2807876\ttest: 1933.2146933\tbest: 1933.2146933 (141)\ttotal: 32.7s\tremaining: 4m 3s\n",
      "142:\tlearn: 1927.3315423\ttest: 1929.4148851\tbest: 1929.4148851 (142)\ttotal: 32.9s\tremaining: 4m 3s\n",
      "143:\tlearn: 1924.2574904\ttest: 1926.1271943\tbest: 1926.1271943 (143)\ttotal: 33.1s\tremaining: 4m 2s\n",
      "144:\tlearn: 1921.0814805\ttest: 1922.9885940\tbest: 1922.9885940 (144)\ttotal: 33.3s\tremaining: 4m 2s\n",
      "145:\tlearn: 1917.8999258\ttest: 1919.7070378\tbest: 1919.7070378 (145)\ttotal: 33.6s\tremaining: 4m 2s\n",
      "146:\tlearn: 1914.9325945\ttest: 1916.6278763\tbest: 1916.6278763 (146)\ttotal: 33.8s\tremaining: 4m 1s\n",
      "147:\tlearn: 1911.5613987\ttest: 1913.2357406\tbest: 1913.2357406 (147)\ttotal: 34s\tremaining: 4m 1s\n",
      "148:\tlearn: 1908.7297232\ttest: 1910.4495746\tbest: 1910.4495746 (148)\ttotal: 34.2s\tremaining: 4m 1s\n",
      "149:\tlearn: 1905.9585075\ttest: 1907.7834319\tbest: 1907.7834319 (149)\ttotal: 34.5s\tremaining: 4m 1s\n",
      "150:\tlearn: 1903.1617892\ttest: 1905.0809616\tbest: 1905.0809616 (150)\ttotal: 34.7s\tremaining: 4m\n",
      "151:\tlearn: 1900.4927201\ttest: 1902.4326154\tbest: 1902.4326154 (151)\ttotal: 34.9s\tremaining: 4m\n",
      "152:\tlearn: 1897.6653019\ttest: 1899.4422946\tbest: 1899.4422946 (152)\ttotal: 35.1s\tremaining: 4m\n",
      "153:\tlearn: 1894.7791998\ttest: 1896.5223020\tbest: 1896.5223020 (153)\ttotal: 35.3s\tremaining: 4m\n",
      "154:\tlearn: 1891.8346229\ttest: 1893.5561886\tbest: 1893.5561886 (154)\ttotal: 35.6s\tremaining: 3m 59s\n",
      "155:\tlearn: 1889.5980099\ttest: 1891.3314021\tbest: 1891.3314021 (155)\ttotal: 35.8s\tremaining: 3m 59s\n",
      "156:\tlearn: 1886.9140883\ttest: 1888.4770139\tbest: 1888.4770139 (156)\ttotal: 36s\tremaining: 3m 58s\n",
      "157:\tlearn: 1884.8011760\ttest: 1886.2399314\tbest: 1886.2399314 (157)\ttotal: 36.2s\tremaining: 3m 58s\n",
      "158:\tlearn: 1882.6386915\ttest: 1883.9893051\tbest: 1883.9893051 (158)\ttotal: 36.3s\tremaining: 3m 57s\n",
      "159:\tlearn: 1880.3262348\ttest: 1881.7492380\tbest: 1881.7492380 (159)\ttotal: 36.6s\tremaining: 3m 57s\n",
      "160:\tlearn: 1878.2432372\ttest: 1879.6496610\tbest: 1879.6496610 (160)\ttotal: 36.7s\tremaining: 3m 57s\n",
      "161:\tlearn: 1876.1384561\ttest: 1877.5952942\tbest: 1877.5952942 (161)\ttotal: 37s\tremaining: 3m 56s\n",
      "162:\tlearn: 1873.9621289\ttest: 1875.4617246\tbest: 1875.4617246 (162)\ttotal: 37.3s\tremaining: 3m 56s\n",
      "163:\tlearn: 1871.2180593\ttest: 1872.8371826\tbest: 1872.8371826 (163)\ttotal: 37.5s\tremaining: 3m 57s\n",
      "164:\tlearn: 1868.4904156\ttest: 1870.1841232\tbest: 1870.1841232 (164)\ttotal: 37.8s\tremaining: 3m 57s\n",
      "165:\tlearn: 1865.6573813\ttest: 1867.5247120\tbest: 1867.5247120 (165)\ttotal: 38.1s\tremaining: 3m 57s\n",
      "166:\tlearn: 1863.9047661\ttest: 1865.9188002\tbest: 1865.9188002 (166)\ttotal: 38.3s\tremaining: 3m 56s\n",
      "167:\tlearn: 1862.1580246\ttest: 1864.2201622\tbest: 1864.2201622 (167)\ttotal: 38.5s\tremaining: 3m 56s\n",
      "168:\tlearn: 1859.5343787\ttest: 1861.7229037\tbest: 1861.7229037 (168)\ttotal: 38.7s\tremaining: 3m 56s\n",
      "169:\tlearn: 1857.1780975\ttest: 1859.6368293\tbest: 1859.6368293 (169)\ttotal: 39s\tremaining: 3m 56s\n",
      "170:\tlearn: 1855.1970491\ttest: 1857.7705624\tbest: 1857.7705624 (170)\ttotal: 39.2s\tremaining: 3m 55s\n",
      "171:\tlearn: 1852.9909653\ttest: 1855.7098733\tbest: 1855.7098733 (171)\ttotal: 39.4s\tremaining: 3m 55s\n",
      "172:\tlearn: 1851.1065142\ttest: 1853.8574676\tbest: 1853.8574676 (172)\ttotal: 39.6s\tremaining: 3m 55s\n",
      "173:\tlearn: 1849.0690610\ttest: 1851.8639665\tbest: 1851.8639665 (173)\ttotal: 39.9s\tremaining: 3m 55s\n",
      "174:\tlearn: 1847.2837545\ttest: 1850.1723994\tbest: 1850.1723994 (174)\ttotal: 40.1s\tremaining: 3m 55s\n",
      "175:\tlearn: 1845.1793851\ttest: 1848.2523085\tbest: 1848.2523085 (175)\ttotal: 40.3s\tremaining: 3m 54s\n",
      "176:\tlearn: 1843.6024453\ttest: 1846.7864111\tbest: 1846.7864111 (176)\ttotal: 40.5s\tremaining: 3m 54s\n",
      "177:\tlearn: 1841.9952769\ttest: 1845.2402740\tbest: 1845.2402740 (177)\ttotal: 40.8s\tremaining: 3m 54s\n",
      "178:\tlearn: 1840.7053184\ttest: 1843.8926542\tbest: 1843.8926542 (178)\ttotal: 41s\tremaining: 3m 53s\n",
      "179:\tlearn: 1838.8848094\ttest: 1842.3400253\tbest: 1842.3400253 (179)\ttotal: 41.3s\tremaining: 3m 54s\n",
      "180:\tlearn: 1837.1508304\ttest: 1840.6416154\tbest: 1840.6416154 (180)\ttotal: 41.5s\tremaining: 3m 53s\n",
      "181:\tlearn: 1835.5041700\ttest: 1839.1760284\tbest: 1839.1760284 (181)\ttotal: 41.8s\tremaining: 3m 53s\n",
      "182:\tlearn: 1833.9349233\ttest: 1837.6850333\tbest: 1837.6850333 (182)\ttotal: 42s\tremaining: 3m 53s\n",
      "183:\tlearn: 1832.3221966\ttest: 1836.2100056\tbest: 1836.2100056 (183)\ttotal: 42.2s\tremaining: 3m 53s\n",
      "184:\tlearn: 1830.8490327\ttest: 1834.8476598\tbest: 1834.8476598 (184)\ttotal: 42.5s\tremaining: 3m 52s\n",
      "185:\tlearn: 1829.1849912\ttest: 1833.2079823\tbest: 1833.2079823 (185)\ttotal: 42.7s\tremaining: 3m 52s\n",
      "186:\tlearn: 1827.4946613\ttest: 1831.5959558\tbest: 1831.5959558 (186)\ttotal: 42.9s\tremaining: 3m 52s\n",
      "187:\tlearn: 1826.2516355\ttest: 1830.5162101\tbest: 1830.5162101 (187)\ttotal: 43.2s\tremaining: 3m 52s\n",
      "188:\tlearn: 1824.7622908\ttest: 1829.0111284\tbest: 1829.0111284 (188)\ttotal: 43.4s\tremaining: 3m 52s\n",
      "189:\tlearn: 1823.5460959\ttest: 1827.8482130\tbest: 1827.8482130 (189)\ttotal: 43.6s\tremaining: 3m 51s\n",
      "190:\tlearn: 1822.2586336\ttest: 1826.6350426\tbest: 1826.6350426 (190)\ttotal: 43.8s\tremaining: 3m 51s\n",
      "191:\tlearn: 1821.0748115\ttest: 1825.5545171\tbest: 1825.5545171 (191)\ttotal: 44s\tremaining: 3m 51s\n",
      "192:\tlearn: 1819.9579260\ttest: 1824.4975366\tbest: 1824.4975366 (192)\ttotal: 44.3s\tremaining: 3m 50s\n",
      "193:\tlearn: 1818.6828618\ttest: 1823.2940347\tbest: 1823.2940347 (193)\ttotal: 44.5s\tremaining: 3m 50s\n",
      "194:\tlearn: 1817.5756308\ttest: 1822.3184985\tbest: 1822.3184985 (194)\ttotal: 44.8s\tremaining: 3m 50s\n",
      "195:\tlearn: 1816.1748253\ttest: 1821.0597735\tbest: 1821.0597735 (195)\ttotal: 45.1s\tremaining: 3m 50s\n",
      "196:\tlearn: 1814.8628186\ttest: 1819.9177311\tbest: 1819.9177311 (196)\ttotal: 45.3s\tremaining: 3m 50s\n",
      "197:\tlearn: 1813.4913113\ttest: 1818.5553379\tbest: 1818.5553379 (197)\ttotal: 45.5s\tremaining: 3m 50s\n",
      "198:\tlearn: 1812.3492358\ttest: 1817.5246333\tbest: 1817.5246333 (198)\ttotal: 45.8s\tremaining: 3m 50s\n",
      "199:\tlearn: 1811.1458271\ttest: 1816.4207056\tbest: 1816.4207056 (199)\ttotal: 46s\tremaining: 3m 49s\n",
      "200:\tlearn: 1809.7421696\ttest: 1814.9321942\tbest: 1814.9321942 (200)\ttotal: 46.2s\tremaining: 3m 49s\n",
      "201:\tlearn: 1808.8065243\ttest: 1814.0565754\tbest: 1814.0565754 (201)\ttotal: 46.4s\tremaining: 3m 49s\n",
      "202:\tlearn: 1807.8832310\ttest: 1813.2609170\tbest: 1813.2609170 (202)\ttotal: 46.7s\tremaining: 3m 49s\n",
      "203:\tlearn: 1806.9215172\ttest: 1812.3123790\tbest: 1812.3123790 (203)\ttotal: 46.9s\tremaining: 3m 48s\n",
      "204:\tlearn: 1805.6713327\ttest: 1811.1319229\tbest: 1811.1319229 (204)\ttotal: 47.2s\tremaining: 3m 48s\n",
      "205:\tlearn: 1804.3883632\ttest: 1810.0573700\tbest: 1810.0573700 (205)\ttotal: 47.4s\tremaining: 3m 48s\n",
      "206:\tlearn: 1803.4733596\ttest: 1809.2703903\tbest: 1809.2703903 (206)\ttotal: 47.6s\tremaining: 3m 48s\n",
      "207:\tlearn: 1802.3274421\ttest: 1808.2989463\tbest: 1808.2989463 (207)\ttotal: 47.9s\tremaining: 3m 48s\n",
      "208:\tlearn: 1800.9781854\ttest: 1807.0946929\tbest: 1807.0946929 (208)\ttotal: 48.2s\tremaining: 3m 48s\n",
      "209:\tlearn: 1799.7429607\ttest: 1805.8579179\tbest: 1805.8579179 (209)\ttotal: 48.4s\tremaining: 3m 48s\n",
      "210:\tlearn: 1798.6056539\ttest: 1804.8045934\tbest: 1804.8045934 (210)\ttotal: 48.6s\tremaining: 3m 47s\n",
      "211:\tlearn: 1797.4397484\ttest: 1803.7180788\tbest: 1803.7180788 (211)\ttotal: 48.9s\tremaining: 3m 47s\n",
      "212:\tlearn: 1796.4737199\ttest: 1802.8067519\tbest: 1802.8067519 (212)\ttotal: 49.1s\tremaining: 3m 47s\n",
      "213:\tlearn: 1795.7447069\ttest: 1802.1670038\tbest: 1802.1670038 (213)\ttotal: 49.3s\tremaining: 3m 47s\n",
      "214:\tlearn: 1794.9208870\ttest: 1801.4106804\tbest: 1801.4106804 (214)\ttotal: 49.6s\tremaining: 3m 47s\n",
      "215:\tlearn: 1793.5488166\ttest: 1800.2289296\tbest: 1800.2289296 (215)\ttotal: 49.8s\tremaining: 3m 47s\n",
      "216:\tlearn: 1792.6858757\ttest: 1799.3736203\tbest: 1799.3736203 (216)\ttotal: 50s\tremaining: 3m 46s\n",
      "217:\tlearn: 1791.6829941\ttest: 1798.3967474\tbest: 1798.3967474 (217)\ttotal: 50.3s\tremaining: 3m 46s\n",
      "218:\tlearn: 1790.8909699\ttest: 1797.7591988\tbest: 1797.7591988 (218)\ttotal: 50.5s\tremaining: 3m 46s\n",
      "219:\tlearn: 1790.2442037\ttest: 1797.1638499\tbest: 1797.1638499 (219)\ttotal: 50.7s\tremaining: 3m 46s\n",
      "220:\tlearn: 1789.1956944\ttest: 1796.1124211\tbest: 1796.1124211 (220)\ttotal: 51s\tremaining: 3m 45s\n",
      "221:\tlearn: 1788.3418336\ttest: 1795.3553090\tbest: 1795.3553090 (221)\ttotal: 51.3s\tremaining: 3m 45s\n",
      "222:\tlearn: 1787.6004851\ttest: 1794.7291377\tbest: 1794.7291377 (222)\ttotal: 51.6s\tremaining: 3m 45s\n",
      "223:\tlearn: 1786.9428617\ttest: 1794.1917358\tbest: 1794.1917358 (223)\ttotal: 51.8s\tremaining: 3m 45s\n",
      "224:\tlearn: 1785.9579970\ttest: 1793.3323200\tbest: 1793.3323200 (224)\ttotal: 52s\tremaining: 3m 45s\n",
      "225:\tlearn: 1785.2833144\ttest: 1792.7933134\tbest: 1792.7933134 (225)\ttotal: 52.2s\tremaining: 3m 45s\n",
      "226:\tlearn: 1784.3028977\ttest: 1791.8628096\tbest: 1791.8628096 (226)\ttotal: 52.5s\tremaining: 3m 44s\n",
      "227:\tlearn: 1783.3705729\ttest: 1791.0378551\tbest: 1791.0378551 (227)\ttotal: 52.7s\tremaining: 3m 44s\n",
      "228:\tlearn: 1782.7487289\ttest: 1790.4962822\tbest: 1790.4962822 (228)\ttotal: 52.9s\tremaining: 3m 44s\n",
      "229:\tlearn: 1781.9873949\ttest: 1789.8209338\tbest: 1789.8209338 (229)\ttotal: 53.1s\tremaining: 3m 44s\n",
      "230:\tlearn: 1781.0875646\ttest: 1789.0113439\tbest: 1789.0113439 (230)\ttotal: 53.3s\tremaining: 3m 43s\n",
      "231:\tlearn: 1780.3905430\ttest: 1788.3748535\tbest: 1788.3748535 (231)\ttotal: 53.5s\tremaining: 3m 43s\n",
      "232:\tlearn: 1779.6312740\ttest: 1787.6743069\tbest: 1787.6743069 (232)\ttotal: 53.8s\tremaining: 3m 43s\n",
      "233:\tlearn: 1778.8872862\ttest: 1786.9832191\tbest: 1786.9832191 (233)\ttotal: 54s\tremaining: 3m 42s\n",
      "234:\tlearn: 1778.1648697\ttest: 1786.3771034\tbest: 1786.3771034 (234)\ttotal: 54.2s\tremaining: 3m 42s\n",
      "235:\tlearn: 1777.1103237\ttest: 1785.3627701\tbest: 1785.3627701 (235)\ttotal: 54.4s\tremaining: 3m 42s\n",
      "236:\tlearn: 1776.2036702\ttest: 1784.5321643\tbest: 1784.5321643 (236)\ttotal: 54.7s\tremaining: 3m 42s\n",
      "237:\tlearn: 1775.4403053\ttest: 1783.8151680\tbest: 1783.8151680 (237)\ttotal: 54.9s\tremaining: 3m 41s\n",
      "238:\tlearn: 1774.5128508\ttest: 1783.0468208\tbest: 1783.0468208 (238)\ttotal: 55.1s\tremaining: 3m 41s\n",
      "239:\tlearn: 1773.9070855\ttest: 1782.5048166\tbest: 1782.5048166 (239)\ttotal: 55.4s\tremaining: 3m 41s\n",
      "240:\tlearn: 1772.7087084\ttest: 1781.4495953\tbest: 1781.4495953 (240)\ttotal: 55.6s\tremaining: 3m 41s\n",
      "241:\tlearn: 1772.0243194\ttest: 1780.8763389\tbest: 1780.8763389 (241)\ttotal: 55.8s\tremaining: 3m 41s\n",
      "242:\tlearn: 1771.1689766\ttest: 1780.1172992\tbest: 1780.1172992 (242)\ttotal: 56.1s\tremaining: 3m 40s\n",
      "243:\tlearn: 1770.4551347\ttest: 1779.5397611\tbest: 1779.5397611 (243)\ttotal: 56.4s\tremaining: 3m 40s\n",
      "244:\tlearn: 1769.6485514\ttest: 1778.8497284\tbest: 1778.8497284 (244)\ttotal: 56.6s\tremaining: 3m 40s\n",
      "245:\tlearn: 1768.8633859\ttest: 1778.1593715\tbest: 1778.1593715 (245)\ttotal: 56.8s\tremaining: 3m 40s\n",
      "246:\tlearn: 1768.1099358\ttest: 1777.5447942\tbest: 1777.5447942 (246)\ttotal: 57s\tremaining: 3m 40s\n",
      "247:\tlearn: 1767.5115201\ttest: 1777.0441604\tbest: 1777.0441604 (247)\ttotal: 57.2s\tremaining: 3m 39s\n",
      "248:\tlearn: 1766.8914550\ttest: 1776.4882334\tbest: 1776.4882334 (248)\ttotal: 57.4s\tremaining: 3m 39s\n",
      "249:\tlearn: 1765.7080772\ttest: 1775.5110062\tbest: 1775.5110062 (249)\ttotal: 57.7s\tremaining: 3m 39s\n",
      "250:\tlearn: 1765.3040895\ttest: 1775.1563340\tbest: 1775.1563340 (250)\ttotal: 58s\tremaining: 3m 39s\n",
      "251:\tlearn: 1764.6858188\ttest: 1774.5980065\tbest: 1774.5980065 (251)\ttotal: 58.2s\tremaining: 3m 38s\n",
      "252:\tlearn: 1763.9400207\ttest: 1773.9293132\tbest: 1773.9293132 (252)\ttotal: 58.4s\tremaining: 3m 38s\n",
      "253:\tlearn: 1763.1386177\ttest: 1773.2242052\tbest: 1773.2242052 (253)\ttotal: 58.7s\tremaining: 3m 38s\n",
      "254:\tlearn: 1762.2546208\ttest: 1772.5292199\tbest: 1772.5292199 (254)\ttotal: 59s\tremaining: 3m 38s\n",
      "255:\tlearn: 1761.7215379\ttest: 1772.0945851\tbest: 1772.0945851 (255)\ttotal: 59.2s\tremaining: 3m 38s\n",
      "256:\tlearn: 1760.8044978\ttest: 1771.4364220\tbest: 1771.4364220 (256)\ttotal: 59.4s\tremaining: 3m 38s\n",
      "257:\tlearn: 1760.2430895\ttest: 1770.9503161\tbest: 1770.9503161 (257)\ttotal: 59.7s\tremaining: 3m 37s\n",
      "258:\tlearn: 1759.7837684\ttest: 1770.6018982\tbest: 1770.6018982 (258)\ttotal: 59.9s\tremaining: 3m 37s\n",
      "259:\tlearn: 1759.2684121\ttest: 1770.1860891\tbest: 1770.1860891 (259)\ttotal: 1m\tremaining: 3m 37s\n",
      "260:\tlearn: 1758.7476355\ttest: 1769.7272216\tbest: 1769.7272216 (260)\ttotal: 1m\tremaining: 3m 37s\n",
      "261:\tlearn: 1758.0206348\ttest: 1769.0148336\tbest: 1769.0148336 (261)\ttotal: 1m\tremaining: 3m 36s\n",
      "262:\tlearn: 1757.1313868\ttest: 1768.2323902\tbest: 1768.2323902 (262)\ttotal: 1m\tremaining: 3m 36s\n",
      "263:\tlearn: 1756.5514120\ttest: 1767.7297973\tbest: 1767.7297973 (263)\ttotal: 1m\tremaining: 3m 36s\n",
      "264:\tlearn: 1756.0270643\ttest: 1767.3289455\tbest: 1767.3289455 (264)\ttotal: 1m 1s\tremaining: 3m 36s\n",
      "265:\tlearn: 1755.5724473\ttest: 1766.9179039\tbest: 1766.9179039 (265)\ttotal: 1m 1s\tremaining: 3m 35s\n",
      "266:\tlearn: 1755.1142890\ttest: 1766.5680660\tbest: 1766.5680660 (266)\ttotal: 1m 1s\tremaining: 3m 35s\n",
      "267:\tlearn: 1754.6414646\ttest: 1766.2309603\tbest: 1766.2309603 (267)\ttotal: 1m 1s\tremaining: 3m 35s\n",
      "268:\tlearn: 1754.3066405\ttest: 1765.9767660\tbest: 1765.9767660 (268)\ttotal: 1m 2s\tremaining: 3m 34s\n",
      "269:\tlearn: 1753.3213085\ttest: 1765.1380424\tbest: 1765.1380424 (269)\ttotal: 1m 2s\tremaining: 3m 34s\n",
      "270:\tlearn: 1752.6161167\ttest: 1764.5701131\tbest: 1764.5701131 (270)\ttotal: 1m 2s\tremaining: 3m 34s\n",
      "271:\tlearn: 1752.1155957\ttest: 1764.1244096\tbest: 1764.1244096 (271)\ttotal: 1m 2s\tremaining: 3m 34s\n",
      "272:\tlearn: 1751.6737150\ttest: 1763.8099910\tbest: 1763.8099910 (272)\ttotal: 1m 3s\tremaining: 3m 33s\n",
      "273:\tlearn: 1750.8914476\ttest: 1763.0925496\tbest: 1763.0925496 (273)\ttotal: 1m 3s\tremaining: 3m 33s\n",
      "274:\tlearn: 1750.4912310\ttest: 1762.7343098\tbest: 1762.7343098 (274)\ttotal: 1m 3s\tremaining: 3m 33s\n",
      "275:\tlearn: 1749.6093868\ttest: 1761.9220299\tbest: 1761.9220299 (275)\ttotal: 1m 3s\tremaining: 3m 33s\n",
      "276:\tlearn: 1749.1381677\ttest: 1761.5790213\tbest: 1761.5790213 (276)\ttotal: 1m 4s\tremaining: 3m 33s\n",
      "277:\tlearn: 1748.6880266\ttest: 1761.1386835\tbest: 1761.1386835 (277)\ttotal: 1m 4s\tremaining: 3m 33s\n",
      "278:\tlearn: 1748.3053486\ttest: 1760.7972795\tbest: 1760.7972795 (278)\ttotal: 1m 4s\tremaining: 3m 32s\n",
      "279:\tlearn: 1747.6200206\ttest: 1760.1920460\tbest: 1760.1920460 (279)\ttotal: 1m 4s\tremaining: 3m 32s\n",
      "280:\tlearn: 1747.1015128\ttest: 1759.7465877\tbest: 1759.7465877 (280)\ttotal: 1m 4s\tremaining: 3m 32s\n",
      "281:\tlearn: 1746.6984147\ttest: 1759.4335974\tbest: 1759.4335974 (281)\ttotal: 1m 5s\tremaining: 3m 32s\n",
      "282:\tlearn: 1746.0209184\ttest: 1758.8251805\tbest: 1758.8251805 (282)\ttotal: 1m 5s\tremaining: 3m 32s\n",
      "283:\tlearn: 1745.4335073\ttest: 1758.3692187\tbest: 1758.3692187 (283)\ttotal: 1m 5s\tremaining: 3m 31s\n",
      "284:\tlearn: 1745.0165411\ttest: 1758.0428245\tbest: 1758.0428245 (284)\ttotal: 1m 5s\tremaining: 3m 31s\n",
      "285:\tlearn: 1744.5685978\ttest: 1757.7413591\tbest: 1757.7413591 (285)\ttotal: 1m 6s\tremaining: 3m 31s\n",
      "286:\tlearn: 1743.9359581\ttest: 1757.2257466\tbest: 1757.2257466 (286)\ttotal: 1m 6s\tremaining: 3m 31s\n",
      "287:\tlearn: 1743.1892871\ttest: 1756.6153969\tbest: 1756.6153969 (287)\ttotal: 1m 6s\tremaining: 3m 30s\n",
      "288:\tlearn: 1742.7451273\ttest: 1756.2794955\tbest: 1756.2794955 (288)\ttotal: 1m 6s\tremaining: 3m 30s\n",
      "289:\tlearn: 1742.2288726\ttest: 1755.8434061\tbest: 1755.8434061 (289)\ttotal: 1m 7s\tremaining: 3m 30s\n",
      "290:\tlearn: 1741.8045363\ttest: 1755.4903923\tbest: 1755.4903923 (290)\ttotal: 1m 7s\tremaining: 3m 30s\n",
      "291:\tlearn: 1741.3726847\ttest: 1755.1429667\tbest: 1755.1429667 (291)\ttotal: 1m 7s\tremaining: 3m 30s\n",
      "292:\tlearn: 1740.9131392\ttest: 1754.8494354\tbest: 1754.8494354 (292)\ttotal: 1m 7s\tremaining: 3m 30s\n",
      "293:\tlearn: 1740.5220818\ttest: 1754.5804540\tbest: 1754.5804540 (293)\ttotal: 1m 8s\tremaining: 3m 30s\n",
      "294:\tlearn: 1740.2037696\ttest: 1754.3132020\tbest: 1754.3132020 (294)\ttotal: 1m 8s\tremaining: 3m 29s\n",
      "295:\tlearn: 1739.5416270\ttest: 1753.7886232\tbest: 1753.7886232 (295)\ttotal: 1m 8s\tremaining: 3m 29s\n",
      "296:\tlearn: 1739.0321151\ttest: 1753.3670327\tbest: 1753.3670327 (296)\ttotal: 1m 8s\tremaining: 3m 29s\n",
      "297:\tlearn: 1738.5659519\ttest: 1753.0152846\tbest: 1753.0152846 (297)\ttotal: 1m 9s\tremaining: 3m 29s\n",
      "298:\tlearn: 1738.0879113\ttest: 1752.5895235\tbest: 1752.5895235 (298)\ttotal: 1m 9s\tremaining: 3m 28s\n",
      "299:\tlearn: 1737.7265852\ttest: 1752.3292168\tbest: 1752.3292168 (299)\ttotal: 1m 9s\tremaining: 3m 28s\n",
      "300:\tlearn: 1737.2056134\ttest: 1751.9167213\tbest: 1751.9167213 (300)\ttotal: 1m 9s\tremaining: 3m 28s\n",
      "301:\tlearn: 1736.6753620\ttest: 1751.5422340\tbest: 1751.5422340 (301)\ttotal: 1m 10s\tremaining: 3m 28s\n",
      "302:\tlearn: 1736.1362963\ttest: 1751.1673736\tbest: 1751.1673736 (302)\ttotal: 1m 10s\tremaining: 3m 27s\n",
      "303:\tlearn: 1735.6774792\ttest: 1750.8166455\tbest: 1750.8166455 (303)\ttotal: 1m 10s\tremaining: 3m 27s\n",
      "304:\tlearn: 1735.4284315\ttest: 1750.5914908\tbest: 1750.5914908 (304)\ttotal: 1m 10s\tremaining: 3m 27s\n",
      "305:\tlearn: 1734.8977803\ttest: 1750.1166790\tbest: 1750.1166790 (305)\ttotal: 1m 10s\tremaining: 3m 27s\n",
      "306:\tlearn: 1734.3435270\ttest: 1749.6898375\tbest: 1749.6898375 (306)\ttotal: 1m 11s\tremaining: 3m 26s\n",
      "307:\tlearn: 1733.9872142\ttest: 1749.4288446\tbest: 1749.4288446 (307)\ttotal: 1m 11s\tremaining: 3m 26s\n",
      "308:\tlearn: 1733.2478013\ttest: 1748.8315731\tbest: 1748.8315731 (308)\ttotal: 1m 11s\tremaining: 3m 26s\n",
      "309:\tlearn: 1732.7177255\ttest: 1748.3406221\tbest: 1748.3406221 (309)\ttotal: 1m 11s\tremaining: 3m 26s\n",
      "310:\tlearn: 1732.0102901\ttest: 1747.8264236\tbest: 1747.8264236 (310)\ttotal: 1m 12s\tremaining: 3m 25s\n",
      "311:\tlearn: 1731.7179182\ttest: 1747.5920136\tbest: 1747.5920136 (311)\ttotal: 1m 12s\tremaining: 3m 25s\n",
      "312:\tlearn: 1731.2354795\ttest: 1747.1873937\tbest: 1747.1873937 (312)\ttotal: 1m 12s\tremaining: 3m 25s\n",
      "313:\tlearn: 1730.8309320\ttest: 1746.8841409\tbest: 1746.8841409 (313)\ttotal: 1m 12s\tremaining: 3m 25s\n",
      "314:\tlearn: 1730.1946753\ttest: 1746.4233098\tbest: 1746.4233098 (314)\ttotal: 1m 12s\tremaining: 3m 25s\n",
      "315:\tlearn: 1729.4996417\ttest: 1745.8047660\tbest: 1745.8047660 (315)\ttotal: 1m 13s\tremaining: 3m 24s\n",
      "316:\tlearn: 1729.0696158\ttest: 1745.5187779\tbest: 1745.5187779 (316)\ttotal: 1m 13s\tremaining: 3m 24s\n",
      "317:\tlearn: 1728.7255739\ttest: 1745.2746800\tbest: 1745.2746800 (317)\ttotal: 1m 13s\tremaining: 3m 24s\n",
      "318:\tlearn: 1728.1730759\ttest: 1744.8370158\tbest: 1744.8370158 (318)\ttotal: 1m 13s\tremaining: 3m 23s\n",
      "319:\tlearn: 1727.6031825\ttest: 1744.3943172\tbest: 1744.3943172 (319)\ttotal: 1m 14s\tremaining: 3m 23s\n",
      "320:\tlearn: 1727.1876141\ttest: 1744.0174572\tbest: 1744.0174572 (320)\ttotal: 1m 14s\tremaining: 3m 23s\n",
      "321:\tlearn: 1726.5822467\ttest: 1743.6026436\tbest: 1743.6026436 (321)\ttotal: 1m 14s\tremaining: 3m 23s\n",
      "322:\tlearn: 1726.2315728\ttest: 1743.3531171\tbest: 1743.3531171 (322)\ttotal: 1m 14s\tremaining: 3m 23s\n",
      "323:\tlearn: 1725.7347079\ttest: 1742.9070984\tbest: 1742.9070984 (323)\ttotal: 1m 15s\tremaining: 3m 22s\n",
      "324:\tlearn: 1724.9542292\ttest: 1742.3002965\tbest: 1742.3002965 (324)\ttotal: 1m 15s\tremaining: 3m 22s\n",
      "325:\tlearn: 1724.6867777\ttest: 1742.0962694\tbest: 1742.0962694 (325)\ttotal: 1m 15s\tremaining: 3m 22s\n",
      "326:\tlearn: 1724.3289568\ttest: 1741.8414433\tbest: 1741.8414433 (326)\ttotal: 1m 15s\tremaining: 3m 22s\n",
      "327:\tlearn: 1723.8226359\ttest: 1741.4455445\tbest: 1741.4455445 (327)\ttotal: 1m 16s\tremaining: 3m 22s\n",
      "328:\tlearn: 1723.3850513\ttest: 1741.1220972\tbest: 1741.1220972 (328)\ttotal: 1m 16s\tremaining: 3m 21s\n",
      "329:\tlearn: 1722.8976341\ttest: 1740.7107194\tbest: 1740.7107194 (329)\ttotal: 1m 16s\tremaining: 3m 21s\n",
      "330:\tlearn: 1722.3408702\ttest: 1740.2626945\tbest: 1740.2626945 (330)\ttotal: 1m 16s\tremaining: 3m 21s\n",
      "331:\tlearn: 1722.0997446\ttest: 1740.1387193\tbest: 1740.1387193 (331)\ttotal: 1m 16s\tremaining: 3m 21s\n",
      "332:\tlearn: 1721.4956628\ttest: 1739.6177492\tbest: 1739.6177492 (332)\ttotal: 1m 17s\tremaining: 3m 20s\n",
      "333:\tlearn: 1721.1779109\ttest: 1739.3825286\tbest: 1739.3825286 (333)\ttotal: 1m 17s\tremaining: 3m 20s\n",
      "334:\tlearn: 1720.7828644\ttest: 1739.0944822\tbest: 1739.0944822 (334)\ttotal: 1m 17s\tremaining: 3m 20s\n",
      "335:\tlearn: 1720.1663776\ttest: 1738.5582338\tbest: 1738.5582338 (335)\ttotal: 1m 17s\tremaining: 3m 20s\n",
      "336:\tlearn: 1719.5805048\ttest: 1738.0035384\tbest: 1738.0035384 (336)\ttotal: 1m 18s\tremaining: 3m 19s\n",
      "337:\tlearn: 1719.0191410\ttest: 1737.5367806\tbest: 1737.5367806 (337)\ttotal: 1m 18s\tremaining: 3m 19s\n",
      "338:\tlearn: 1718.5952958\ttest: 1737.1011898\tbest: 1737.1011898 (338)\ttotal: 1m 18s\tremaining: 3m 19s\n",
      "339:\tlearn: 1718.0033604\ttest: 1736.6947381\tbest: 1736.6947381 (339)\ttotal: 1m 18s\tremaining: 3m 19s\n",
      "340:\tlearn: 1717.4158110\ttest: 1736.1923981\tbest: 1736.1923981 (340)\ttotal: 1m 19s\tremaining: 3m 19s\n",
      "341:\tlearn: 1716.7919712\ttest: 1735.7630656\tbest: 1735.7630656 (341)\ttotal: 1m 19s\tremaining: 3m 18s\n",
      "342:\tlearn: 1716.4905803\ttest: 1735.5114066\tbest: 1735.5114066 (342)\ttotal: 1m 19s\tremaining: 3m 18s\n",
      "343:\tlearn: 1716.1704456\ttest: 1735.2569615\tbest: 1735.2569615 (343)\ttotal: 1m 19s\tremaining: 3m 18s\n",
      "344:\tlearn: 1715.8060532\ttest: 1734.9599283\tbest: 1734.9599283 (344)\ttotal: 1m 20s\tremaining: 3m 18s\n",
      "345:\tlearn: 1715.4127133\ttest: 1734.6358884\tbest: 1734.6358884 (345)\ttotal: 1m 20s\tremaining: 3m 18s\n",
      "346:\tlearn: 1715.0123754\ttest: 1734.3530744\tbest: 1734.3530744 (346)\ttotal: 1m 20s\tremaining: 3m 18s\n",
      "347:\tlearn: 1714.7417889\ttest: 1734.1764094\tbest: 1734.1764094 (347)\ttotal: 1m 20s\tremaining: 3m 17s\n",
      "348:\tlearn: 1714.1942363\ttest: 1733.7282123\tbest: 1733.7282123 (348)\ttotal: 1m 21s\tremaining: 3m 17s\n",
      "349:\tlearn: 1713.9678678\ttest: 1733.5775653\tbest: 1733.5775653 (349)\ttotal: 1m 21s\tremaining: 3m 17s\n",
      "350:\tlearn: 1713.2880555\ttest: 1732.9738736\tbest: 1732.9738736 (350)\ttotal: 1m 21s\tremaining: 3m 17s\n",
      "351:\tlearn: 1712.8050760\ttest: 1732.5872252\tbest: 1732.5872252 (351)\ttotal: 1m 21s\tremaining: 3m 16s\n",
      "352:\tlearn: 1712.4054568\ttest: 1732.3005205\tbest: 1732.3005205 (352)\ttotal: 1m 21s\tremaining: 3m 16s\n",
      "353:\tlearn: 1712.0044912\ttest: 1731.9761051\tbest: 1731.9761051 (353)\ttotal: 1m 22s\tremaining: 3m 16s\n",
      "354:\tlearn: 1711.4520985\ttest: 1731.5318161\tbest: 1731.5318161 (354)\ttotal: 1m 22s\tremaining: 3m 16s\n",
      "355:\tlearn: 1710.9480609\ttest: 1731.0358504\tbest: 1731.0358504 (355)\ttotal: 1m 22s\tremaining: 3m 15s\n",
      "356:\tlearn: 1710.6941426\ttest: 1730.8054196\tbest: 1730.8054196 (356)\ttotal: 1m 22s\tremaining: 3m 15s\n",
      "357:\tlearn: 1710.2217275\ttest: 1730.4047533\tbest: 1730.4047533 (357)\ttotal: 1m 23s\tremaining: 3m 15s\n",
      "358:\tlearn: 1709.9316404\ttest: 1730.1350711\tbest: 1730.1350711 (358)\ttotal: 1m 23s\tremaining: 3m 15s\n",
      "359:\tlearn: 1709.4761090\ttest: 1729.8151866\tbest: 1729.8151866 (359)\ttotal: 1m 23s\tremaining: 3m 15s\n",
      "360:\tlearn: 1709.1569359\ttest: 1729.6233083\tbest: 1729.6233083 (360)\ttotal: 1m 23s\tremaining: 3m 14s\n",
      "361:\tlearn: 1708.8531715\ttest: 1729.4005548\tbest: 1729.4005548 (361)\ttotal: 1m 24s\tremaining: 3m 14s\n",
      "362:\tlearn: 1708.4317844\ttest: 1729.0465910\tbest: 1729.0465910 (362)\ttotal: 1m 24s\tremaining: 3m 14s\n",
      "363:\tlearn: 1708.0030902\ttest: 1728.6904394\tbest: 1728.6904394 (363)\ttotal: 1m 24s\tremaining: 3m 14s\n",
      "364:\tlearn: 1707.8320644\ttest: 1728.5535339\tbest: 1728.5535339 (364)\ttotal: 1m 24s\tremaining: 3m 14s\n",
      "365:\tlearn: 1707.3235567\ttest: 1728.0888877\tbest: 1728.0888877 (365)\ttotal: 1m 25s\tremaining: 3m 13s\n",
      "366:\tlearn: 1706.7891640\ttest: 1727.6908595\tbest: 1727.6908595 (366)\ttotal: 1m 25s\tremaining: 3m 13s\n",
      "367:\tlearn: 1706.4852653\ttest: 1727.4303156\tbest: 1727.4303156 (367)\ttotal: 1m 25s\tremaining: 3m 13s\n",
      "368:\tlearn: 1706.1448567\ttest: 1727.1927506\tbest: 1727.1927506 (368)\ttotal: 1m 25s\tremaining: 3m 13s\n",
      "369:\tlearn: 1705.8837471\ttest: 1726.9862225\tbest: 1726.9862225 (369)\ttotal: 1m 26s\tremaining: 3m 13s\n",
      "370:\tlearn: 1705.5588881\ttest: 1726.7171520\tbest: 1726.7171520 (370)\ttotal: 1m 26s\tremaining: 3m 12s\n",
      "371:\tlearn: 1705.3108919\ttest: 1726.5119739\tbest: 1726.5119739 (371)\ttotal: 1m 26s\tremaining: 3m 12s\n",
      "372:\tlearn: 1705.0534883\ttest: 1726.3111922\tbest: 1726.3111922 (372)\ttotal: 1m 26s\tremaining: 3m 12s\n",
      "373:\tlearn: 1704.7081245\ttest: 1726.0619969\tbest: 1726.0619969 (373)\ttotal: 1m 27s\tremaining: 3m 12s\n",
      "374:\tlearn: 1704.2494679\ttest: 1725.6415718\tbest: 1725.6415718 (374)\ttotal: 1m 27s\tremaining: 3m 11s\n",
      "375:\tlearn: 1703.6744563\ttest: 1725.1790252\tbest: 1725.1790252 (375)\ttotal: 1m 27s\tremaining: 3m 11s\n",
      "376:\tlearn: 1703.3697501\ttest: 1724.9389375\tbest: 1724.9389375 (376)\ttotal: 1m 27s\tremaining: 3m 11s\n",
      "377:\tlearn: 1703.0358610\ttest: 1724.7295947\tbest: 1724.7295947 (377)\ttotal: 1m 28s\tremaining: 3m 11s\n",
      "378:\tlearn: 1702.8324281\ttest: 1724.5982508\tbest: 1724.5982508 (378)\ttotal: 1m 28s\tremaining: 3m 11s\n",
      "379:\tlearn: 1702.3028600\ttest: 1724.1680065\tbest: 1724.1680065 (379)\ttotal: 1m 28s\tremaining: 3m 10s\n",
      "380:\tlearn: 1702.0867433\ttest: 1723.9798117\tbest: 1723.9798117 (380)\ttotal: 1m 28s\tremaining: 3m 10s\n",
      "381:\tlearn: 1701.6345233\ttest: 1723.6533496\tbest: 1723.6533496 (381)\ttotal: 1m 28s\tremaining: 3m 10s\n",
      "382:\tlearn: 1701.0482728\ttest: 1723.1810326\tbest: 1723.1810326 (382)\ttotal: 1m 29s\tremaining: 3m 10s\n",
      "383:\tlearn: 1700.4600037\ttest: 1722.7086282\tbest: 1722.7086282 (383)\ttotal: 1m 29s\tremaining: 3m 9s\n",
      "384:\tlearn: 1700.1976495\ttest: 1722.5007681\tbest: 1722.5007681 (384)\ttotal: 1m 29s\tremaining: 3m 9s\n",
      "385:\tlearn: 1699.7699248\ttest: 1722.0951477\tbest: 1722.0951477 (385)\ttotal: 1m 29s\tremaining: 3m 9s\n",
      "386:\tlearn: 1699.3554994\ttest: 1721.7113197\tbest: 1721.7113197 (386)\ttotal: 1m 30s\tremaining: 3m 9s\n",
      "387:\tlearn: 1699.0064692\ttest: 1721.4668185\tbest: 1721.4668185 (387)\ttotal: 1m 30s\tremaining: 3m 8s\n",
      "388:\tlearn: 1698.6074309\ttest: 1721.1287636\tbest: 1721.1287636 (388)\ttotal: 1m 30s\tremaining: 3m 8s\n",
      "389:\tlearn: 1698.0461087\ttest: 1720.7814208\tbest: 1720.7814208 (389)\ttotal: 1m 30s\tremaining: 3m 8s\n",
      "390:\tlearn: 1697.3283354\ttest: 1720.2750588\tbest: 1720.2750588 (390)\ttotal: 1m 30s\tremaining: 3m 8s\n",
      "391:\tlearn: 1697.0365440\ttest: 1720.0978755\tbest: 1720.0978755 (391)\ttotal: 1m 31s\tremaining: 3m 7s\n",
      "392:\tlearn: 1696.7900145\ttest: 1719.8982215\tbest: 1719.8982215 (392)\ttotal: 1m 31s\tremaining: 3m 7s\n",
      "393:\tlearn: 1696.4311429\ttest: 1719.6351344\tbest: 1719.6351344 (393)\ttotal: 1m 31s\tremaining: 3m 7s\n",
      "394:\tlearn: 1696.0007951\ttest: 1719.3730347\tbest: 1719.3730347 (394)\ttotal: 1m 31s\tremaining: 3m 7s\n",
      "395:\tlearn: 1695.4569908\ttest: 1718.9724745\tbest: 1718.9724745 (395)\ttotal: 1m 32s\tremaining: 3m 6s\n",
      "396:\tlearn: 1695.1556219\ttest: 1718.7368168\tbest: 1718.7368168 (396)\ttotal: 1m 32s\tremaining: 3m 6s\n",
      "397:\tlearn: 1694.8474314\ttest: 1718.4850677\tbest: 1718.4850677 (397)\ttotal: 1m 32s\tremaining: 3m 6s\n",
      "398:\tlearn: 1694.3119397\ttest: 1718.0957587\tbest: 1718.0957587 (398)\ttotal: 1m 32s\tremaining: 3m 6s\n",
      "399:\tlearn: 1693.7810218\ttest: 1717.7303981\tbest: 1717.7303981 (399)\ttotal: 1m 32s\tremaining: 3m 5s\n",
      "400:\tlearn: 1693.4433215\ttest: 1717.4728826\tbest: 1717.4728826 (400)\ttotal: 1m 33s\tremaining: 3m 5s\n",
      "401:\tlearn: 1693.1972037\ttest: 1717.3547668\tbest: 1717.3547668 (401)\ttotal: 1m 33s\tremaining: 3m 5s\n",
      "402:\tlearn: 1692.6485667\ttest: 1716.8229661\tbest: 1716.8229661 (402)\ttotal: 1m 33s\tremaining: 3m 5s\n",
      "403:\tlearn: 1692.1430376\ttest: 1716.3913119\tbest: 1716.3913119 (403)\ttotal: 1m 33s\tremaining: 3m 5s\n",
      "404:\tlearn: 1691.6821921\ttest: 1715.9890608\tbest: 1715.9890608 (404)\ttotal: 1m 34s\tremaining: 3m 4s\n",
      "405:\tlearn: 1691.1622222\ttest: 1715.5370508\tbest: 1715.5370508 (405)\ttotal: 1m 34s\tremaining: 3m 4s\n",
      "406:\tlearn: 1690.8633154\ttest: 1715.3293473\tbest: 1715.3293473 (406)\ttotal: 1m 34s\tremaining: 3m 4s\n",
      "407:\tlearn: 1690.4039437\ttest: 1714.9512186\tbest: 1714.9512186 (407)\ttotal: 1m 34s\tremaining: 3m 4s\n",
      "408:\tlearn: 1690.1228703\ttest: 1714.7531255\tbest: 1714.7531255 (408)\ttotal: 1m 35s\tremaining: 3m 3s\n",
      "409:\tlearn: 1689.7592958\ttest: 1714.4600874\tbest: 1714.4600874 (409)\ttotal: 1m 35s\tremaining: 3m 3s\n",
      "410:\tlearn: 1689.4806888\ttest: 1714.3007372\tbest: 1714.3007372 (410)\ttotal: 1m 35s\tremaining: 3m 3s\n",
      "411:\tlearn: 1688.9016545\ttest: 1713.8229292\tbest: 1713.8229292 (411)\ttotal: 1m 35s\tremaining: 3m 3s\n",
      "412:\tlearn: 1688.6097343\ttest: 1713.5938910\tbest: 1713.5938910 (412)\ttotal: 1m 35s\tremaining: 3m 2s\n",
      "413:\tlearn: 1688.1499827\ttest: 1713.2261332\tbest: 1713.2261332 (413)\ttotal: 1m 36s\tremaining: 3m 2s\n",
      "414:\tlearn: 1687.8748563\ttest: 1713.0160507\tbest: 1713.0160507 (414)\ttotal: 1m 36s\tremaining: 3m 2s\n",
      "415:\tlearn: 1687.6628436\ttest: 1712.8403894\tbest: 1712.8403894 (415)\ttotal: 1m 36s\tremaining: 3m 2s\n",
      "416:\tlearn: 1687.4441935\ttest: 1712.6710978\tbest: 1712.6710978 (416)\ttotal: 1m 36s\tremaining: 3m 2s\n",
      "417:\tlearn: 1687.0920105\ttest: 1712.4531723\tbest: 1712.4531723 (417)\ttotal: 1m 37s\tremaining: 3m 1s\n",
      "418:\tlearn: 1686.5731281\ttest: 1712.0611945\tbest: 1712.0611945 (418)\ttotal: 1m 37s\tremaining: 3m 1s\n",
      "419:\tlearn: 1686.0572804\ttest: 1711.6509831\tbest: 1711.6509831 (419)\ttotal: 1m 37s\tremaining: 3m 1s\n",
      "420:\tlearn: 1685.5726277\ttest: 1711.3520059\tbest: 1711.3520059 (420)\ttotal: 1m 37s\tremaining: 3m\n",
      "421:\tlearn: 1685.2968260\ttest: 1711.1643598\tbest: 1711.1643598 (421)\ttotal: 1m 38s\tremaining: 3m\n",
      "422:\tlearn: 1685.0630159\ttest: 1711.0387944\tbest: 1711.0387944 (422)\ttotal: 1m 38s\tremaining: 3m\n",
      "423:\tlearn: 1684.7880110\ttest: 1710.8355254\tbest: 1710.8355254 (423)\ttotal: 1m 38s\tremaining: 3m\n",
      "424:\tlearn: 1684.4519179\ttest: 1710.5586507\tbest: 1710.5586507 (424)\ttotal: 1m 38s\tremaining: 2m 59s\n",
      "425:\tlearn: 1684.1951903\ttest: 1710.3464659\tbest: 1710.3464659 (425)\ttotal: 1m 38s\tremaining: 2m 59s\n",
      "426:\tlearn: 1683.7743434\ttest: 1710.0111226\tbest: 1710.0111226 (426)\ttotal: 1m 39s\tremaining: 2m 59s\n",
      "427:\tlearn: 1683.1871017\ttest: 1709.5906177\tbest: 1709.5906177 (427)\ttotal: 1m 39s\tremaining: 2m 59s\n",
      "428:\tlearn: 1682.8370231\ttest: 1709.3179402\tbest: 1709.3179402 (428)\ttotal: 1m 39s\tremaining: 2m 59s\n",
      "429:\tlearn: 1682.4597294\ttest: 1708.9643328\tbest: 1708.9643328 (429)\ttotal: 1m 39s\tremaining: 2m 58s\n",
      "430:\tlearn: 1682.0839252\ttest: 1708.6652185\tbest: 1708.6652185 (430)\ttotal: 1m 40s\tremaining: 2m 58s\n",
      "431:\tlearn: 1681.7390925\ttest: 1708.3986352\tbest: 1708.3986352 (431)\ttotal: 1m 40s\tremaining: 2m 58s\n",
      "432:\tlearn: 1681.5291437\ttest: 1708.1910376\tbest: 1708.1910376 (432)\ttotal: 1m 40s\tremaining: 2m 58s\n",
      "433:\tlearn: 1681.2928150\ttest: 1708.0418801\tbest: 1708.0418801 (433)\ttotal: 1m 40s\tremaining: 2m 58s\n",
      "434:\tlearn: 1680.9357781\ttest: 1707.7905815\tbest: 1707.7905815 (434)\ttotal: 1m 41s\tremaining: 2m 57s\n",
      "435:\tlearn: 1680.4802615\ttest: 1707.4194610\tbest: 1707.4194610 (435)\ttotal: 1m 41s\tremaining: 2m 57s\n",
      "436:\tlearn: 1680.1160368\ttest: 1707.1807402\tbest: 1707.1807402 (436)\ttotal: 1m 41s\tremaining: 2m 57s\n",
      "437:\tlearn: 1679.9039330\ttest: 1707.0402442\tbest: 1707.0402442 (437)\ttotal: 1m 41s\tremaining: 2m 57s\n",
      "438:\tlearn: 1679.6517023\ttest: 1706.8282347\tbest: 1706.8282347 (438)\ttotal: 1m 42s\tremaining: 2m 57s\n",
      "439:\tlearn: 1679.3003032\ttest: 1706.5515638\tbest: 1706.5515638 (439)\ttotal: 1m 42s\tremaining: 2m 56s\n",
      "440:\tlearn: 1678.8095926\ttest: 1706.2231350\tbest: 1706.2231350 (440)\ttotal: 1m 42s\tremaining: 2m 56s\n",
      "441:\tlearn: 1678.2814733\ttest: 1705.8060520\tbest: 1705.8060520 (441)\ttotal: 1m 42s\tremaining: 2m 56s\n",
      "442:\tlearn: 1678.0991371\ttest: 1705.6521706\tbest: 1705.6521706 (442)\ttotal: 1m 43s\tremaining: 2m 56s\n",
      "443:\tlearn: 1677.8256845\ttest: 1705.4726891\tbest: 1705.4726891 (443)\ttotal: 1m 43s\tremaining: 2m 56s\n",
      "444:\tlearn: 1677.6158972\ttest: 1705.3560486\tbest: 1705.3560486 (444)\ttotal: 1m 43s\tremaining: 2m 55s\n",
      "445:\tlearn: 1677.0841494\ttest: 1704.9382971\tbest: 1704.9382971 (445)\ttotal: 1m 43s\tremaining: 2m 55s\n",
      "446:\tlearn: 1676.6509915\ttest: 1704.6162197\tbest: 1704.6162197 (446)\ttotal: 1m 44s\tremaining: 2m 55s\n",
      "447:\tlearn: 1676.2011273\ttest: 1704.3679284\tbest: 1704.3679284 (447)\ttotal: 1m 44s\tremaining: 2m 55s\n",
      "448:\tlearn: 1675.9176281\ttest: 1704.1015248\tbest: 1704.1015248 (448)\ttotal: 1m 44s\tremaining: 2m 54s\n",
      "449:\tlearn: 1675.6413968\ttest: 1703.8560482\tbest: 1703.8560482 (449)\ttotal: 1m 44s\tremaining: 2m 54s\n",
      "450:\tlearn: 1675.2073644\ttest: 1703.4976553\tbest: 1703.4976553 (450)\ttotal: 1m 44s\tremaining: 2m 54s\n",
      "451:\tlearn: 1674.6760708\ttest: 1703.1662289\tbest: 1703.1662289 (451)\ttotal: 1m 45s\tremaining: 2m 54s\n",
      "452:\tlearn: 1674.3119877\ttest: 1702.9544392\tbest: 1702.9544392 (452)\ttotal: 1m 45s\tremaining: 2m 53s\n",
      "453:\tlearn: 1674.0094948\ttest: 1702.6997922\tbest: 1702.6997922 (453)\ttotal: 1m 45s\tremaining: 2m 53s\n",
      "454:\tlearn: 1673.6468353\ttest: 1702.4780144\tbest: 1702.4780144 (454)\ttotal: 1m 45s\tremaining: 2m 53s\n",
      "455:\tlearn: 1673.1258611\ttest: 1702.1411757\tbest: 1702.1411757 (455)\ttotal: 1m 46s\tremaining: 2m 53s\n",
      "456:\tlearn: 1672.8139863\ttest: 1701.9269624\tbest: 1701.9269624 (456)\ttotal: 1m 46s\tremaining: 2m 53s\n",
      "457:\tlearn: 1672.5651119\ttest: 1701.7286190\tbest: 1701.7286190 (457)\ttotal: 1m 46s\tremaining: 2m 52s\n",
      "458:\tlearn: 1672.3020320\ttest: 1701.5574094\tbest: 1701.5574094 (458)\ttotal: 1m 46s\tremaining: 2m 52s\n",
      "459:\tlearn: 1671.9017397\ttest: 1701.2215177\tbest: 1701.2215177 (459)\ttotal: 1m 47s\tremaining: 2m 52s\n",
      "460:\tlearn: 1671.5976326\ttest: 1700.9690690\tbest: 1700.9690690 (460)\ttotal: 1m 47s\tremaining: 2m 52s\n",
      "461:\tlearn: 1671.3391692\ttest: 1700.8218788\tbest: 1700.8218788 (461)\ttotal: 1m 47s\tremaining: 2m 51s\n",
      "462:\tlearn: 1670.9757862\ttest: 1700.5883466\tbest: 1700.5883466 (462)\ttotal: 1m 47s\tremaining: 2m 51s\n",
      "463:\tlearn: 1670.6789202\ttest: 1700.3307750\tbest: 1700.3307750 (463)\ttotal: 1m 48s\tremaining: 2m 51s\n",
      "464:\tlearn: 1670.4148559\ttest: 1700.1646510\tbest: 1700.1646510 (464)\ttotal: 1m 48s\tremaining: 2m 51s\n",
      "465:\tlearn: 1670.1929838\ttest: 1700.0214245\tbest: 1700.0214245 (465)\ttotal: 1m 48s\tremaining: 2m 50s\n",
      "466:\tlearn: 1669.9476367\ttest: 1699.8818774\tbest: 1699.8818774 (466)\ttotal: 1m 48s\tremaining: 2m 50s\n",
      "467:\tlearn: 1669.4518803\ttest: 1699.4833763\tbest: 1699.4833763 (467)\ttotal: 1m 49s\tremaining: 2m 50s\n",
      "468:\tlearn: 1669.2860065\ttest: 1699.3786656\tbest: 1699.3786656 (468)\ttotal: 1m 49s\tremaining: 2m 50s\n",
      "469:\tlearn: 1668.9026686\ttest: 1699.0753498\tbest: 1699.0753498 (469)\ttotal: 1m 49s\tremaining: 2m 49s\n",
      "470:\tlearn: 1668.6058376\ttest: 1698.8603457\tbest: 1698.8603457 (470)\ttotal: 1m 49s\tremaining: 2m 49s\n",
      "471:\tlearn: 1668.3066457\ttest: 1698.7496521\tbest: 1698.7496521 (471)\ttotal: 1m 49s\tremaining: 2m 49s\n",
      "472:\tlearn: 1668.0395712\ttest: 1698.5785595\tbest: 1698.5785595 (472)\ttotal: 1m 50s\tremaining: 2m 49s\n",
      "473:\tlearn: 1667.8046423\ttest: 1698.4250023\tbest: 1698.4250023 (473)\ttotal: 1m 50s\tremaining: 2m 49s\n",
      "474:\tlearn: 1667.3985247\ttest: 1698.1453917\tbest: 1698.1453917 (474)\ttotal: 1m 50s\tremaining: 2m 48s\n",
      "475:\tlearn: 1667.1774949\ttest: 1697.9893699\tbest: 1697.9893699 (475)\ttotal: 1m 50s\tremaining: 2m 48s\n",
      "476:\tlearn: 1666.7054431\ttest: 1697.6711562\tbest: 1697.6711562 (476)\ttotal: 1m 51s\tremaining: 2m 48s\n",
      "477:\tlearn: 1666.4074701\ttest: 1697.4058162\tbest: 1697.4058162 (477)\ttotal: 1m 51s\tremaining: 2m 48s\n",
      "478:\tlearn: 1666.2688630\ttest: 1697.3201933\tbest: 1697.3201933 (478)\ttotal: 1m 51s\tremaining: 2m 48s\n",
      "479:\tlearn: 1666.0485899\ttest: 1697.1430368\tbest: 1697.1430368 (479)\ttotal: 1m 51s\tremaining: 2m 47s\n",
      "480:\tlearn: 1665.6777218\ttest: 1696.8096960\tbest: 1696.8096960 (480)\ttotal: 1m 52s\tremaining: 2m 47s\n",
      "481:\tlearn: 1665.4842720\ttest: 1696.6614240\tbest: 1696.6614240 (481)\ttotal: 1m 52s\tremaining: 2m 47s\n",
      "482:\tlearn: 1665.1915180\ttest: 1696.4589917\tbest: 1696.4589917 (482)\ttotal: 1m 52s\tremaining: 2m 47s\n",
      "483:\tlearn: 1664.8359010\ttest: 1696.1876230\tbest: 1696.1876230 (483)\ttotal: 1m 52s\tremaining: 2m 46s\n",
      "484:\tlearn: 1664.4312646\ttest: 1695.8743021\tbest: 1695.8743021 (484)\ttotal: 1m 53s\tremaining: 2m 46s\n",
      "485:\tlearn: 1664.1117403\ttest: 1695.6586101\tbest: 1695.6586101 (485)\ttotal: 1m 53s\tremaining: 2m 46s\n",
      "486:\tlearn: 1663.8001847\ttest: 1695.3803390\tbest: 1695.3803390 (486)\ttotal: 1m 53s\tremaining: 2m 46s\n",
      "487:\tlearn: 1663.6679302\ttest: 1695.2852064\tbest: 1695.2852064 (487)\ttotal: 1m 53s\tremaining: 2m 46s\n",
      "488:\tlearn: 1663.3259332\ttest: 1694.9801965\tbest: 1694.9801965 (488)\ttotal: 1m 54s\tremaining: 2m 45s\n",
      "489:\tlearn: 1662.7199051\ttest: 1694.6111672\tbest: 1694.6111672 (489)\ttotal: 1m 54s\tremaining: 2m 45s\n",
      "490:\tlearn: 1662.1311612\ttest: 1694.1932988\tbest: 1694.1932988 (490)\ttotal: 1m 54s\tremaining: 2m 45s\n",
      "491:\tlearn: 1661.6210144\ttest: 1693.7741187\tbest: 1693.7741187 (491)\ttotal: 1m 54s\tremaining: 2m 45s\n",
      "492:\tlearn: 1661.4582532\ttest: 1693.6186507\tbest: 1693.6186507 (492)\ttotal: 1m 55s\tremaining: 2m 45s\n",
      "493:\tlearn: 1661.1585810\ttest: 1693.3967822\tbest: 1693.3967822 (493)\ttotal: 1m 55s\tremaining: 2m 44s\n",
      "494:\tlearn: 1660.6679653\ttest: 1693.0337735\tbest: 1693.0337735 (494)\ttotal: 1m 55s\tremaining: 2m 44s\n",
      "495:\tlearn: 1660.3488195\ttest: 1692.8337818\tbest: 1692.8337818 (495)\ttotal: 1m 55s\tremaining: 2m 44s\n",
      "496:\tlearn: 1659.9415994\ttest: 1692.5373841\tbest: 1692.5373841 (496)\ttotal: 1m 55s\tremaining: 2m 44s\n",
      "497:\tlearn: 1659.5828382\ttest: 1692.2538498\tbest: 1692.2538498 (497)\ttotal: 1m 56s\tremaining: 2m 43s\n",
      "498:\tlearn: 1659.3442744\ttest: 1692.0993336\tbest: 1692.0993336 (498)\ttotal: 1m 56s\tremaining: 2m 43s\n",
      "499:\tlearn: 1658.9479393\ttest: 1691.7360888\tbest: 1691.7360888 (499)\ttotal: 1m 56s\tremaining: 2m 43s\n",
      "500:\tlearn: 1658.6447862\ttest: 1691.5339762\tbest: 1691.5339762 (500)\ttotal: 1m 56s\tremaining: 2m 43s\n",
      "501:\tlearn: 1658.3204917\ttest: 1691.3927899\tbest: 1691.3927899 (501)\ttotal: 1m 57s\tremaining: 2m 42s\n",
      "502:\tlearn: 1658.0533225\ttest: 1691.1704808\tbest: 1691.1704808 (502)\ttotal: 1m 57s\tremaining: 2m 42s\n",
      "503:\tlearn: 1657.7806045\ttest: 1690.9231409\tbest: 1690.9231409 (503)\ttotal: 1m 57s\tremaining: 2m 42s\n",
      "504:\tlearn: 1657.5810757\ttest: 1690.7424773\tbest: 1690.7424773 (504)\ttotal: 1m 57s\tremaining: 2m 42s\n",
      "505:\tlearn: 1657.2973777\ttest: 1690.5696231\tbest: 1690.5696231 (505)\ttotal: 1m 58s\tremaining: 2m 41s\n",
      "506:\tlearn: 1656.8368370\ttest: 1690.2242882\tbest: 1690.2242882 (506)\ttotal: 1m 58s\tremaining: 2m 41s\n",
      "507:\tlearn: 1656.4552683\ttest: 1689.9026293\tbest: 1689.9026293 (507)\ttotal: 1m 58s\tremaining: 2m 41s\n",
      "508:\tlearn: 1656.2751275\ttest: 1689.8033178\tbest: 1689.8033178 (508)\ttotal: 1m 58s\tremaining: 2m 41s\n",
      "509:\tlearn: 1656.0091817\ttest: 1689.5991379\tbest: 1689.5991379 (509)\ttotal: 1m 59s\tremaining: 2m 41s\n",
      "510:\tlearn: 1655.7774892\ttest: 1689.4480290\tbest: 1689.4480290 (510)\ttotal: 1m 59s\tremaining: 2m 40s\n",
      "511:\tlearn: 1655.4848315\ttest: 1689.2079739\tbest: 1689.2079739 (511)\ttotal: 1m 59s\tremaining: 2m 40s\n",
      "512:\tlearn: 1655.2496861\ttest: 1689.0488422\tbest: 1689.0488422 (512)\ttotal: 1m 59s\tremaining: 2m 40s\n",
      "513:\tlearn: 1655.0207473\ttest: 1688.9215848\tbest: 1688.9215848 (513)\ttotal: 2m\tremaining: 2m 40s\n",
      "514:\tlearn: 1654.6247141\ttest: 1688.6520624\tbest: 1688.6520624 (514)\ttotal: 2m\tremaining: 2m 39s\n",
      "515:\tlearn: 1654.1709359\ttest: 1688.4059993\tbest: 1688.4059993 (515)\ttotal: 2m\tremaining: 2m 39s\n",
      "516:\tlearn: 1654.0114260\ttest: 1688.2855502\tbest: 1688.2855502 (516)\ttotal: 2m\tremaining: 2m 39s\n",
      "517:\tlearn: 1653.6208443\ttest: 1688.0261112\tbest: 1688.0261112 (517)\ttotal: 2m 1s\tremaining: 2m 39s\n",
      "518:\tlearn: 1653.2182358\ttest: 1687.7374417\tbest: 1687.7374417 (518)\ttotal: 2m 1s\tremaining: 2m 39s\n",
      "519:\tlearn: 1653.0919464\ttest: 1687.6649556\tbest: 1687.6649556 (519)\ttotal: 2m 1s\tremaining: 2m 38s\n",
      "520:\tlearn: 1652.8514045\ttest: 1687.4970883\tbest: 1687.4970883 (520)\ttotal: 2m 1s\tremaining: 2m 38s\n",
      "521:\tlearn: 1652.5254421\ttest: 1687.2934041\tbest: 1687.2934041 (521)\ttotal: 2m 2s\tremaining: 2m 38s\n",
      "522:\tlearn: 1652.2941947\ttest: 1687.1225599\tbest: 1687.1225599 (522)\ttotal: 2m 2s\tremaining: 2m 38s\n",
      "523:\tlearn: 1652.0270808\ttest: 1686.9045067\tbest: 1686.9045067 (523)\ttotal: 2m 2s\tremaining: 2m 38s\n",
      "524:\tlearn: 1651.7446638\ttest: 1686.7024842\tbest: 1686.7024842 (524)\ttotal: 2m 2s\tremaining: 2m 37s\n",
      "525:\tlearn: 1651.5251085\ttest: 1686.5396596\tbest: 1686.5396596 (525)\ttotal: 2m 2s\tremaining: 2m 37s\n",
      "526:\tlearn: 1651.1442590\ttest: 1686.2284028\tbest: 1686.2284028 (526)\ttotal: 2m 3s\tremaining: 2m 37s\n",
      "527:\tlearn: 1650.8395652\ttest: 1686.0685701\tbest: 1686.0685701 (527)\ttotal: 2m 3s\tremaining: 2m 37s\n",
      "528:\tlearn: 1650.3228856\ttest: 1685.7035576\tbest: 1685.7035576 (528)\ttotal: 2m 3s\tremaining: 2m 36s\n",
      "529:\tlearn: 1649.9465247\ttest: 1685.3886837\tbest: 1685.3886837 (529)\ttotal: 2m 3s\tremaining: 2m 36s\n",
      "530:\tlearn: 1649.7461271\ttest: 1685.3141624\tbest: 1685.3141624 (530)\ttotal: 2m 4s\tremaining: 2m 36s\n",
      "531:\tlearn: 1649.5146215\ttest: 1685.1609273\tbest: 1685.1609273 (531)\ttotal: 2m 4s\tremaining: 2m 36s\n",
      "532:\tlearn: 1649.1410165\ttest: 1684.8245371\tbest: 1684.8245371 (532)\ttotal: 2m 4s\tremaining: 2m 35s\n",
      "533:\tlearn: 1648.7641487\ttest: 1684.6474363\tbest: 1684.6474363 (533)\ttotal: 2m 4s\tremaining: 2m 35s\n",
      "534:\tlearn: 1648.6207682\ttest: 1684.5478605\tbest: 1684.5478605 (534)\ttotal: 2m 5s\tremaining: 2m 35s\n",
      "535:\tlearn: 1648.2119775\ttest: 1684.2010884\tbest: 1684.2010884 (535)\ttotal: 2m 5s\tremaining: 2m 35s\n",
      "536:\tlearn: 1647.8326714\ttest: 1683.9362642\tbest: 1683.9362642 (536)\ttotal: 2m 5s\tremaining: 2m 35s\n",
      "537:\tlearn: 1647.5228465\ttest: 1683.7179374\tbest: 1683.7179374 (537)\ttotal: 2m 5s\tremaining: 2m 34s\n",
      "538:\tlearn: 1647.2135767\ttest: 1683.5327508\tbest: 1683.5327508 (538)\ttotal: 2m 6s\tremaining: 2m 34s\n",
      "539:\tlearn: 1646.9864650\ttest: 1683.4007715\tbest: 1683.4007715 (539)\ttotal: 2m 6s\tremaining: 2m 34s\n",
      "540:\tlearn: 1646.6648433\ttest: 1683.1947981\tbest: 1683.1947981 (540)\ttotal: 2m 6s\tremaining: 2m 34s\n",
      "541:\tlearn: 1646.3819831\ttest: 1683.0153893\tbest: 1683.0153893 (541)\ttotal: 2m 6s\tremaining: 2m 33s\n",
      "542:\tlearn: 1646.1926362\ttest: 1682.9007458\tbest: 1682.9007458 (542)\ttotal: 2m 7s\tremaining: 2m 33s\n",
      "543:\tlearn: 1645.8599345\ttest: 1682.6784384\tbest: 1682.6784384 (543)\ttotal: 2m 7s\tremaining: 2m 33s\n",
      "544:\tlearn: 1645.4811116\ttest: 1682.4391718\tbest: 1682.4391718 (544)\ttotal: 2m 7s\tremaining: 2m 33s\n",
      "545:\tlearn: 1645.3259333\ttest: 1682.3739884\tbest: 1682.3739884 (545)\ttotal: 2m 7s\tremaining: 2m 33s\n",
      "546:\tlearn: 1645.1322981\ttest: 1682.1918509\tbest: 1682.1918509 (546)\ttotal: 2m 8s\tremaining: 2m 32s\n",
      "547:\tlearn: 1644.8184267\ttest: 1681.9860192\tbest: 1681.9860192 (547)\ttotal: 2m 8s\tremaining: 2m 32s\n",
      "548:\tlearn: 1644.5811746\ttest: 1681.8497561\tbest: 1681.8497561 (548)\ttotal: 2m 8s\tremaining: 2m 32s\n",
      "549:\tlearn: 1644.2198205\ttest: 1681.5766688\tbest: 1681.5766688 (549)\ttotal: 2m 8s\tremaining: 2m 32s\n",
      "550:\tlearn: 1644.0255530\ttest: 1681.4956978\tbest: 1681.4956978 (550)\ttotal: 2m 9s\tremaining: 2m 32s\n",
      "551:\tlearn: 1643.8995078\ttest: 1681.4221854\tbest: 1681.4221854 (551)\ttotal: 2m 9s\tremaining: 2m 31s\n",
      "552:\tlearn: 1643.6851675\ttest: 1681.2359993\tbest: 1681.2359993 (552)\ttotal: 2m 9s\tremaining: 2m 31s\n",
      "553:\tlearn: 1643.4162252\ttest: 1681.0459744\tbest: 1681.0459744 (553)\ttotal: 2m 9s\tremaining: 2m 31s\n",
      "554:\tlearn: 1643.1990867\ttest: 1680.8709085\tbest: 1680.8709085 (554)\ttotal: 2m 10s\tremaining: 2m 31s\n",
      "555:\tlearn: 1642.8152748\ttest: 1680.5671608\tbest: 1680.5671608 (555)\ttotal: 2m 10s\tremaining: 2m 31s\n",
      "556:\tlearn: 1642.6638849\ttest: 1680.4776251\tbest: 1680.4776251 (556)\ttotal: 2m 10s\tremaining: 2m 30s\n",
      "557:\tlearn: 1642.5614679\ttest: 1680.4018384\tbest: 1680.4018384 (557)\ttotal: 2m 10s\tremaining: 2m 30s\n",
      "558:\tlearn: 1642.3470369\ttest: 1680.3017710\tbest: 1680.3017710 (558)\ttotal: 2m 11s\tremaining: 2m 30s\n",
      "559:\tlearn: 1641.9829993\ttest: 1680.0366465\tbest: 1680.0366465 (559)\ttotal: 2m 11s\tremaining: 2m 30s\n",
      "560:\tlearn: 1641.5577029\ttest: 1679.6851368\tbest: 1679.6851368 (560)\ttotal: 2m 11s\tremaining: 2m 29s\n",
      "561:\tlearn: 1641.1455683\ttest: 1679.4283196\tbest: 1679.4283196 (561)\ttotal: 2m 11s\tremaining: 2m 29s\n",
      "562:\tlearn: 1640.7693075\ttest: 1679.1702885\tbest: 1679.1702885 (562)\ttotal: 2m 12s\tremaining: 2m 29s\n",
      "563:\tlearn: 1640.5109996\ttest: 1678.9883723\tbest: 1678.9883723 (563)\ttotal: 2m 12s\tremaining: 2m 29s\n",
      "564:\tlearn: 1640.3671079\ttest: 1678.8888860\tbest: 1678.8888860 (564)\ttotal: 2m 12s\tremaining: 2m 28s\n",
      "565:\tlearn: 1640.0141034\ttest: 1678.6644555\tbest: 1678.6644555 (565)\ttotal: 2m 12s\tremaining: 2m 28s\n",
      "566:\tlearn: 1639.7190337\ttest: 1678.4562431\tbest: 1678.4562431 (566)\ttotal: 2m 12s\tremaining: 2m 28s\n",
      "567:\tlearn: 1639.4737943\ttest: 1678.2848513\tbest: 1678.2848513 (567)\ttotal: 2m 13s\tremaining: 2m 28s\n",
      "568:\tlearn: 1639.1496993\ttest: 1678.0497315\tbest: 1678.0497315 (568)\ttotal: 2m 13s\tremaining: 2m 27s\n",
      "569:\tlearn: 1638.9172558\ttest: 1677.8843005\tbest: 1677.8843005 (569)\ttotal: 2m 13s\tremaining: 2m 27s\n",
      "570:\tlearn: 1638.5485061\ttest: 1677.5879408\tbest: 1677.5879408 (570)\ttotal: 2m 13s\tremaining: 2m 27s\n",
      "571:\tlearn: 1638.2573085\ttest: 1677.4459783\tbest: 1677.4459783 (571)\ttotal: 2m 14s\tremaining: 2m 27s\n",
      "572:\tlearn: 1637.9796594\ttest: 1677.2477467\tbest: 1677.2477467 (572)\ttotal: 2m 14s\tremaining: 2m 27s\n",
      "573:\tlearn: 1637.7356756\ttest: 1677.0532657\tbest: 1677.0532657 (573)\ttotal: 2m 14s\tremaining: 2m 26s\n",
      "574:\tlearn: 1637.5048107\ttest: 1676.9518721\tbest: 1676.9518721 (574)\ttotal: 2m 14s\tremaining: 2m 26s\n",
      "575:\tlearn: 1637.2495583\ttest: 1676.6847145\tbest: 1676.6847145 (575)\ttotal: 2m 15s\tremaining: 2m 26s\n",
      "576:\tlearn: 1636.9544548\ttest: 1676.4917433\tbest: 1676.4917433 (576)\ttotal: 2m 15s\tremaining: 2m 26s\n",
      "577:\tlearn: 1636.5782560\ttest: 1676.2607711\tbest: 1676.2607711 (577)\ttotal: 2m 15s\tremaining: 2m 25s\n",
      "578:\tlearn: 1636.3049691\ttest: 1676.0864157\tbest: 1676.0864157 (578)\ttotal: 2m 15s\tremaining: 2m 25s\n",
      "579:\tlearn: 1636.1824322\ttest: 1675.9735687\tbest: 1675.9735687 (579)\ttotal: 2m 15s\tremaining: 2m 25s\n",
      "580:\tlearn: 1635.9664191\ttest: 1675.8580229\tbest: 1675.8580229 (580)\ttotal: 2m 16s\tremaining: 2m 25s\n",
      "581:\tlearn: 1635.6289588\ttest: 1675.6125465\tbest: 1675.6125465 (581)\ttotal: 2m 16s\tremaining: 2m 24s\n",
      "582:\tlearn: 1635.3624211\ttest: 1675.4569409\tbest: 1675.4569409 (582)\ttotal: 2m 16s\tremaining: 2m 24s\n",
      "583:\tlearn: 1635.1221706\ttest: 1675.2796158\tbest: 1675.2796158 (583)\ttotal: 2m 16s\tremaining: 2m 24s\n",
      "584:\tlearn: 1634.8559338\ttest: 1675.0796926\tbest: 1675.0796926 (584)\ttotal: 2m 17s\tremaining: 2m 24s\n",
      "585:\tlearn: 1634.5693269\ttest: 1674.8851713\tbest: 1674.8851713 (585)\ttotal: 2m 17s\tremaining: 2m 23s\n",
      "586:\tlearn: 1634.2952243\ttest: 1674.6533503\tbest: 1674.6533503 (586)\ttotal: 2m 17s\tremaining: 2m 23s\n",
      "587:\tlearn: 1634.0244169\ttest: 1674.4804679\tbest: 1674.4804679 (587)\ttotal: 2m 17s\tremaining: 2m 23s\n",
      "588:\tlearn: 1633.7311241\ttest: 1674.2658671\tbest: 1674.2658671 (588)\ttotal: 2m 18s\tremaining: 2m 23s\n",
      "589:\tlearn: 1633.6069438\ttest: 1674.1991155\tbest: 1674.1991155 (589)\ttotal: 2m 18s\tremaining: 2m 23s\n",
      "590:\tlearn: 1633.3336624\ttest: 1673.9949197\tbest: 1673.9949197 (590)\ttotal: 2m 18s\tremaining: 2m 22s\n",
      "591:\tlearn: 1632.9843086\ttest: 1673.6940190\tbest: 1673.6940190 (591)\ttotal: 2m 19s\tremaining: 2m 22s\n",
      "592:\tlearn: 1632.7908597\ttest: 1673.5850240\tbest: 1673.5850240 (592)\ttotal: 2m 19s\tremaining: 2m 22s\n",
      "593:\tlearn: 1632.4129310\ttest: 1673.3586819\tbest: 1673.3586819 (593)\ttotal: 2m 19s\tremaining: 2m 22s\n",
      "594:\tlearn: 1632.2120907\ttest: 1673.2122315\tbest: 1673.2122315 (594)\ttotal: 2m 19s\tremaining: 2m 22s\n",
      "595:\tlearn: 1631.9675158\ttest: 1673.0457596\tbest: 1673.0457596 (595)\ttotal: 2m 19s\tremaining: 2m 21s\n",
      "596:\tlearn: 1631.7262503\ttest: 1672.8940187\tbest: 1672.8940187 (596)\ttotal: 2m 20s\tremaining: 2m 21s\n",
      "597:\tlearn: 1631.5786934\ttest: 1672.8048509\tbest: 1672.8048509 (597)\ttotal: 2m 20s\tremaining: 2m 21s\n",
      "598:\tlearn: 1631.3454548\ttest: 1672.6948046\tbest: 1672.6948046 (598)\ttotal: 2m 20s\tremaining: 2m 21s\n",
      "599:\tlearn: 1631.0582129\ttest: 1672.5043534\tbest: 1672.5043534 (599)\ttotal: 2m 20s\tremaining: 2m 20s\n",
      "600:\tlearn: 1630.8717328\ttest: 1672.3844441\tbest: 1672.3844441 (600)\ttotal: 2m 21s\tremaining: 2m 20s\n",
      "601:\tlearn: 1630.7276798\ttest: 1672.3005202\tbest: 1672.3005202 (601)\ttotal: 2m 21s\tremaining: 2m 20s\n",
      "602:\tlearn: 1630.3985861\ttest: 1672.1108800\tbest: 1672.1108800 (602)\ttotal: 2m 21s\tremaining: 2m 20s\n",
      "603:\tlearn: 1630.1942750\ttest: 1672.0068754\tbest: 1672.0068754 (603)\ttotal: 2m 21s\tremaining: 2m 19s\n",
      "604:\tlearn: 1629.8502058\ttest: 1671.7816360\tbest: 1671.7816360 (604)\ttotal: 2m 22s\tremaining: 2m 19s\n",
      "605:\tlearn: 1629.5825197\ttest: 1671.6006298\tbest: 1671.6006298 (605)\ttotal: 2m 22s\tremaining: 2m 19s\n",
      "606:\tlearn: 1629.3081751\ttest: 1671.4018201\tbest: 1671.4018201 (606)\ttotal: 2m 22s\tremaining: 2m 19s\n",
      "607:\tlearn: 1629.1515324\ttest: 1671.3172330\tbest: 1671.3172330 (607)\ttotal: 2m 22s\tremaining: 2m 19s\n",
      "608:\tlearn: 1628.9190713\ttest: 1671.2082768\tbest: 1671.2082768 (608)\ttotal: 2m 23s\tremaining: 2m 18s\n",
      "609:\tlearn: 1628.8339830\ttest: 1671.1606325\tbest: 1671.1606325 (609)\ttotal: 2m 23s\tremaining: 2m 18s\n",
      "610:\tlearn: 1628.5998367\ttest: 1671.0642863\tbest: 1671.0642863 (610)\ttotal: 2m 23s\tremaining: 2m 18s\n",
      "611:\tlearn: 1628.5036953\ttest: 1670.9976188\tbest: 1670.9976188 (611)\ttotal: 2m 23s\tremaining: 2m 18s\n",
      "612:\tlearn: 1628.2880173\ttest: 1670.8401065\tbest: 1670.8401065 (612)\ttotal: 2m 23s\tremaining: 2m 17s\n",
      "613:\tlearn: 1628.0945865\ttest: 1670.7182228\tbest: 1670.7182228 (613)\ttotal: 2m 24s\tremaining: 2m 17s\n",
      "614:\tlearn: 1627.8968609\ttest: 1670.6304142\tbest: 1670.6304142 (614)\ttotal: 2m 24s\tremaining: 2m 17s\n",
      "615:\tlearn: 1627.7718392\ttest: 1670.5923194\tbest: 1670.5923194 (615)\ttotal: 2m 24s\tremaining: 2m 17s\n",
      "616:\tlearn: 1627.4963369\ttest: 1670.3937030\tbest: 1670.3937030 (616)\ttotal: 2m 24s\tremaining: 2m 16s\n",
      "617:\tlearn: 1627.3099450\ttest: 1670.3249749\tbest: 1670.3249749 (617)\ttotal: 2m 25s\tremaining: 2m 16s\n",
      "618:\tlearn: 1627.0375477\ttest: 1670.1700491\tbest: 1670.1700491 (618)\ttotal: 2m 25s\tremaining: 2m 16s\n",
      "619:\tlearn: 1626.8218822\ttest: 1670.0423832\tbest: 1670.0423832 (619)\ttotal: 2m 25s\tremaining: 2m 16s\n",
      "620:\tlearn: 1626.5213162\ttest: 1669.8465670\tbest: 1669.8465670 (620)\ttotal: 2m 25s\tremaining: 2m 16s\n",
      "621:\tlearn: 1626.3053885\ttest: 1669.6938447\tbest: 1669.6938447 (621)\ttotal: 2m 26s\tremaining: 2m 15s\n",
      "622:\tlearn: 1625.9935171\ttest: 1669.4995994\tbest: 1669.4995994 (622)\ttotal: 2m 26s\tremaining: 2m 15s\n",
      "623:\tlearn: 1625.7861511\ttest: 1669.3618812\tbest: 1669.3618812 (623)\ttotal: 2m 26s\tremaining: 2m 15s\n",
      "624:\tlearn: 1625.6512334\ttest: 1669.3073329\tbest: 1669.3073329 (624)\ttotal: 2m 26s\tremaining: 2m 15s\n",
      "625:\tlearn: 1625.4364116\ttest: 1669.1625539\tbest: 1669.1625539 (625)\ttotal: 2m 27s\tremaining: 2m 14s\n",
      "626:\tlearn: 1625.0995464\ttest: 1668.9940246\tbest: 1668.9940246 (626)\ttotal: 2m 27s\tremaining: 2m 14s\n",
      "627:\tlearn: 1624.7836118\ttest: 1668.8363492\tbest: 1668.8363492 (627)\ttotal: 2m 27s\tremaining: 2m 14s\n",
      "628:\tlearn: 1624.5872146\ttest: 1668.6710916\tbest: 1668.6710916 (628)\ttotal: 2m 27s\tremaining: 2m 14s\n",
      "629:\tlearn: 1624.4148000\ttest: 1668.5947476\tbest: 1668.5947476 (629)\ttotal: 2m 27s\tremaining: 2m 13s\n",
      "630:\tlearn: 1624.1338203\ttest: 1668.4573436\tbest: 1668.4573436 (630)\ttotal: 2m 28s\tremaining: 2m 13s\n",
      "631:\tlearn: 1623.9382971\ttest: 1668.3066749\tbest: 1668.3066749 (631)\ttotal: 2m 28s\tremaining: 2m 13s\n",
      "632:\tlearn: 1623.8116767\ttest: 1668.2545791\tbest: 1668.2545791 (632)\ttotal: 2m 28s\tremaining: 2m 13s\n",
      "633:\tlearn: 1623.7102107\ttest: 1668.2007130\tbest: 1668.2007130 (633)\ttotal: 2m 28s\tremaining: 2m 12s\n",
      "634:\tlearn: 1623.3235804\ttest: 1667.9063607\tbest: 1667.9063607 (634)\ttotal: 2m 29s\tremaining: 2m 12s\n",
      "635:\tlearn: 1623.2333462\ttest: 1667.8710480\tbest: 1667.8710480 (635)\ttotal: 2m 29s\tremaining: 2m 12s\n",
      "636:\tlearn: 1622.9293517\ttest: 1667.6119301\tbest: 1667.6119301 (636)\ttotal: 2m 29s\tremaining: 2m 12s\n",
      "637:\tlearn: 1622.8414922\ttest: 1667.5610323\tbest: 1667.5610323 (637)\ttotal: 2m 29s\tremaining: 2m 11s\n",
      "638:\tlearn: 1622.6521588\ttest: 1667.4542811\tbest: 1667.4542811 (638)\ttotal: 2m 30s\tremaining: 2m 11s\n",
      "639:\tlearn: 1622.3642021\ttest: 1667.2607270\tbest: 1667.2607270 (639)\ttotal: 2m 30s\tremaining: 2m 11s\n",
      "640:\tlearn: 1622.0394397\ttest: 1667.0289163\tbest: 1667.0289163 (640)\ttotal: 2m 30s\tremaining: 2m 11s\n",
      "641:\tlearn: 1621.8041586\ttest: 1666.8616085\tbest: 1666.8616085 (641)\ttotal: 2m 30s\tremaining: 2m 10s\n",
      "642:\tlearn: 1621.4293083\ttest: 1666.6440494\tbest: 1666.6440494 (642)\ttotal: 2m 30s\tremaining: 2m 10s\n",
      "643:\tlearn: 1621.2628599\ttest: 1666.5240616\tbest: 1666.5240616 (643)\ttotal: 2m 31s\tremaining: 2m 10s\n",
      "644:\tlearn: 1620.8935954\ttest: 1666.2445358\tbest: 1666.2445358 (644)\ttotal: 2m 31s\tremaining: 2m 10s\n",
      "645:\tlearn: 1620.5194931\ttest: 1666.0311540\tbest: 1666.0311540 (645)\ttotal: 2m 31s\tremaining: 2m 10s\n",
      "646:\tlearn: 1620.3822942\ttest: 1665.9250708\tbest: 1665.9250708 (646)\ttotal: 2m 31s\tremaining: 2m 9s\n",
      "647:\tlearn: 1620.1611186\ttest: 1665.7762817\tbest: 1665.7762817 (647)\ttotal: 2m 32s\tremaining: 2m 9s\n",
      "648:\tlearn: 1620.0557442\ttest: 1665.6986904\tbest: 1665.6986904 (648)\ttotal: 2m 32s\tremaining: 2m 9s\n",
      "649:\tlearn: 1619.7515763\ttest: 1665.5411171\tbest: 1665.5411171 (649)\ttotal: 2m 32s\tremaining: 2m 9s\n",
      "650:\tlearn: 1619.4469344\ttest: 1665.3252633\tbest: 1665.3252633 (650)\ttotal: 2m 32s\tremaining: 2m 8s\n",
      "651:\tlearn: 1619.2701328\ttest: 1665.2291813\tbest: 1665.2291813 (651)\ttotal: 2m 33s\tremaining: 2m 8s\n",
      "652:\tlearn: 1619.0994670\ttest: 1665.1169066\tbest: 1665.1169066 (652)\ttotal: 2m 33s\tremaining: 2m 8s\n",
      "653:\tlearn: 1618.9528169\ttest: 1665.0463279\tbest: 1665.0463279 (653)\ttotal: 2m 33s\tremaining: 2m 8s\n",
      "654:\tlearn: 1618.8442206\ttest: 1665.0021285\tbest: 1665.0021285 (654)\ttotal: 2m 33s\tremaining: 2m 8s\n",
      "655:\tlearn: 1618.6827650\ttest: 1664.9518859\tbest: 1664.9518859 (655)\ttotal: 2m 34s\tremaining: 2m 7s\n",
      "656:\tlearn: 1618.4169895\ttest: 1664.7099556\tbest: 1664.7099556 (656)\ttotal: 2m 34s\tremaining: 2m 7s\n",
      "657:\tlearn: 1618.2690076\ttest: 1664.6270289\tbest: 1664.6270289 (657)\ttotal: 2m 34s\tremaining: 2m 7s\n",
      "658:\tlearn: 1618.1741543\ttest: 1664.5610446\tbest: 1664.5610446 (658)\ttotal: 2m 34s\tremaining: 2m 7s\n",
      "659:\tlearn: 1618.0434559\ttest: 1664.4423831\tbest: 1664.4423831 (659)\ttotal: 2m 35s\tremaining: 2m 6s\n",
      "660:\tlearn: 1617.9892380\ttest: 1664.4059893\tbest: 1664.4059893 (660)\ttotal: 2m 35s\tremaining: 2m 6s\n",
      "661:\tlearn: 1617.7538044\ttest: 1664.2361952\tbest: 1664.2361952 (661)\ttotal: 2m 35s\tremaining: 2m 6s\n",
      "662:\tlearn: 1617.5013375\ttest: 1664.0654387\tbest: 1664.0654387 (662)\ttotal: 2m 35s\tremaining: 2m 6s\n",
      "663:\tlearn: 1617.2523401\ttest: 1663.9045964\tbest: 1663.9045964 (663)\ttotal: 2m 36s\tremaining: 2m 6s\n",
      "664:\tlearn: 1617.0496541\ttest: 1663.7547678\tbest: 1663.7547678 (664)\ttotal: 2m 36s\tremaining: 2m 5s\n",
      "665:\tlearn: 1616.8143213\ttest: 1663.5204120\tbest: 1663.5204120 (665)\ttotal: 2m 36s\tremaining: 2m 5s\n",
      "666:\tlearn: 1616.5374043\ttest: 1663.3559344\tbest: 1663.3559344 (666)\ttotal: 2m 36s\tremaining: 2m 5s\n",
      "667:\tlearn: 1616.2776661\ttest: 1663.2152022\tbest: 1663.2152022 (667)\ttotal: 2m 37s\tremaining: 2m 5s\n",
      "668:\tlearn: 1616.0823889\ttest: 1663.0624742\tbest: 1663.0624742 (668)\ttotal: 2m 37s\tremaining: 2m 4s\n",
      "669:\tlearn: 1615.9156389\ttest: 1662.9621488\tbest: 1662.9621488 (669)\ttotal: 2m 37s\tremaining: 2m 4s\n",
      "670:\tlearn: 1615.7179460\ttest: 1662.8709208\tbest: 1662.8709208 (670)\ttotal: 2m 37s\tremaining: 2m 4s\n",
      "671:\tlearn: 1615.4664903\ttest: 1662.6728313\tbest: 1662.6728313 (671)\ttotal: 2m 38s\tremaining: 2m 4s\n",
      "672:\tlearn: 1615.3025076\ttest: 1662.6159216\tbest: 1662.6159216 (672)\ttotal: 2m 38s\tremaining: 2m 3s\n",
      "673:\tlearn: 1615.1791049\ttest: 1662.5356861\tbest: 1662.5356861 (673)\ttotal: 2m 38s\tremaining: 2m 3s\n",
      "674:\tlearn: 1614.8750361\ttest: 1662.3273224\tbest: 1662.3273224 (674)\ttotal: 2m 38s\tremaining: 2m 3s\n",
      "675:\tlearn: 1614.6130103\ttest: 1662.1393509\tbest: 1662.1393509 (675)\ttotal: 2m 38s\tremaining: 2m 3s\n",
      "676:\tlearn: 1614.4411973\ttest: 1662.0273584\tbest: 1662.0273584 (676)\ttotal: 2m 39s\tremaining: 2m 2s\n",
      "677:\tlearn: 1614.1779444\ttest: 1661.8941048\tbest: 1661.8941048 (677)\ttotal: 2m 39s\tremaining: 2m 2s\n",
      "678:\tlearn: 1613.9555126\ttest: 1661.7324426\tbest: 1661.7324426 (678)\ttotal: 2m 39s\tremaining: 2m 2s\n",
      "679:\tlearn: 1613.7829898\ttest: 1661.6349993\tbest: 1661.6349993 (679)\ttotal: 2m 39s\tremaining: 2m 2s\n",
      "680:\tlearn: 1613.5894013\ttest: 1661.4573810\tbest: 1661.4573810 (680)\ttotal: 2m 40s\tremaining: 2m 2s\n",
      "681:\tlearn: 1613.2801247\ttest: 1661.2693429\tbest: 1661.2693429 (681)\ttotal: 2m 40s\tremaining: 2m 1s\n",
      "682:\tlearn: 1613.0884484\ttest: 1661.1291880\tbest: 1661.1291880 (682)\ttotal: 2m 40s\tremaining: 2m 1s\n",
      "683:\tlearn: 1612.8514894\ttest: 1661.0101983\tbest: 1661.0101983 (683)\ttotal: 2m 40s\tremaining: 2m 1s\n",
      "684:\tlearn: 1612.5687584\ttest: 1660.8308825\tbest: 1660.8308825 (684)\ttotal: 2m 41s\tremaining: 2m 1s\n",
      "685:\tlearn: 1612.3427249\ttest: 1660.6892085\tbest: 1660.6892085 (685)\ttotal: 2m 41s\tremaining: 2m\n",
      "686:\tlearn: 1612.2474973\ttest: 1660.6135068\tbest: 1660.6135068 (686)\ttotal: 2m 41s\tremaining: 2m\n",
      "687:\tlearn: 1612.0599107\ttest: 1660.5151936\tbest: 1660.5151936 (687)\ttotal: 2m 41s\tremaining: 2m\n",
      "688:\tlearn: 1611.8950755\ttest: 1660.4384205\tbest: 1660.4384205 (688)\ttotal: 2m 42s\tremaining: 2m\n",
      "689:\tlearn: 1611.7370162\ttest: 1660.3973627\tbest: 1660.3973627 (689)\ttotal: 2m 42s\tremaining: 1m 59s\n",
      "690:\tlearn: 1611.6362288\ttest: 1660.3290896\tbest: 1660.3290896 (690)\ttotal: 2m 42s\tremaining: 1m 59s\n",
      "691:\tlearn: 1611.3695802\ttest: 1660.1541954\tbest: 1660.1541954 (691)\ttotal: 2m 42s\tremaining: 1m 59s\n",
      "692:\tlearn: 1611.1792923\ttest: 1660.0547315\tbest: 1660.0547315 (692)\ttotal: 2m 43s\tremaining: 1m 59s\n",
      "693:\tlearn: 1610.9135105\ttest: 1659.8696787\tbest: 1659.8696787 (693)\ttotal: 2m 43s\tremaining: 1m 59s\n",
      "694:\tlearn: 1610.7908094\ttest: 1659.8041149\tbest: 1659.8041149 (694)\ttotal: 2m 43s\tremaining: 1m 58s\n",
      "695:\tlearn: 1610.6093075\ttest: 1659.7172326\tbest: 1659.7172326 (695)\ttotal: 2m 43s\tremaining: 1m 58s\n",
      "696:\tlearn: 1610.5617954\ttest: 1659.6940842\tbest: 1659.6940842 (696)\ttotal: 2m 43s\tremaining: 1m 58s\n",
      "697:\tlearn: 1610.4644572\ttest: 1659.6371675\tbest: 1659.6371675 (697)\ttotal: 2m 44s\tremaining: 1m 58s\n",
      "698:\tlearn: 1610.2104329\ttest: 1659.4151064\tbest: 1659.4151064 (698)\ttotal: 2m 44s\tremaining: 1m 57s\n",
      "699:\tlearn: 1610.0701004\ttest: 1659.3536514\tbest: 1659.3536514 (699)\ttotal: 2m 44s\tremaining: 1m 57s\n",
      "700:\tlearn: 1609.8909669\ttest: 1659.2335916\tbest: 1659.2335916 (700)\ttotal: 2m 44s\tremaining: 1m 57s\n",
      "701:\tlearn: 1609.6937729\ttest: 1659.1026998\tbest: 1659.1026998 (701)\ttotal: 2m 45s\tremaining: 1m 57s\n",
      "702:\tlearn: 1609.5351526\ttest: 1659.0201060\tbest: 1659.0201060 (702)\ttotal: 2m 45s\tremaining: 1m 56s\n",
      "703:\tlearn: 1609.3870382\ttest: 1658.9447618\tbest: 1658.9447618 (703)\ttotal: 2m 45s\tremaining: 1m 56s\n",
      "704:\tlearn: 1609.0056169\ttest: 1658.6459615\tbest: 1658.6459615 (704)\ttotal: 2m 45s\tremaining: 1m 56s\n",
      "705:\tlearn: 1608.8347360\ttest: 1658.5746980\tbest: 1658.5746980 (705)\ttotal: 2m 45s\tremaining: 1m 56s\n",
      "706:\tlearn: 1608.5250885\ttest: 1658.3398588\tbest: 1658.3398588 (706)\ttotal: 2m 46s\tremaining: 1m 55s\n",
      "707:\tlearn: 1608.2878170\ttest: 1658.1993150\tbest: 1658.1993150 (707)\ttotal: 2m 46s\tremaining: 1m 55s\n",
      "708:\tlearn: 1608.0113286\ttest: 1657.9967003\tbest: 1657.9967003 (708)\ttotal: 2m 46s\tremaining: 1m 55s\n",
      "709:\tlearn: 1607.8775177\ttest: 1657.9046132\tbest: 1657.9046132 (709)\ttotal: 2m 46s\tremaining: 1m 55s\n",
      "710:\tlearn: 1607.5958866\ttest: 1657.7590218\tbest: 1657.7590218 (710)\ttotal: 2m 47s\tremaining: 1m 54s\n",
      "711:\tlearn: 1607.4026541\ttest: 1657.6455546\tbest: 1657.6455546 (711)\ttotal: 2m 47s\tremaining: 1m 54s\n",
      "712:\tlearn: 1607.0925481\ttest: 1657.4675096\tbest: 1657.4675096 (712)\ttotal: 2m 47s\tremaining: 1m 54s\n",
      "713:\tlearn: 1606.8990201\ttest: 1657.3586903\tbest: 1657.3586903 (713)\ttotal: 2m 47s\tremaining: 1m 54s\n",
      "714:\tlearn: 1606.7771537\ttest: 1657.2697420\tbest: 1657.2697420 (714)\ttotal: 2m 47s\tremaining: 1m 53s\n",
      "715:\tlearn: 1606.5167778\ttest: 1657.0560497\tbest: 1657.0560497 (715)\ttotal: 2m 48s\tremaining: 1m 53s\n",
      "716:\tlearn: 1606.3766548\ttest: 1656.9914855\tbest: 1656.9914855 (716)\ttotal: 2m 48s\tremaining: 1m 53s\n",
      "717:\tlearn: 1605.9811448\ttest: 1656.7323322\tbest: 1656.7323322 (717)\ttotal: 2m 48s\tremaining: 1m 53s\n",
      "718:\tlearn: 1605.7685936\ttest: 1656.6097878\tbest: 1656.6097878 (718)\ttotal: 2m 48s\tremaining: 1m 53s\n",
      "719:\tlearn: 1605.4557341\ttest: 1656.4119009\tbest: 1656.4119009 (719)\ttotal: 2m 49s\tremaining: 1m 52s\n",
      "720:\tlearn: 1605.2507130\ttest: 1656.2918959\tbest: 1656.2918959 (720)\ttotal: 2m 49s\tremaining: 1m 52s\n",
      "721:\tlearn: 1604.9999917\ttest: 1656.0859310\tbest: 1656.0859310 (721)\ttotal: 2m 49s\tremaining: 1m 52s\n",
      "722:\tlearn: 1604.8194117\ttest: 1655.9762781\tbest: 1655.9762781 (722)\ttotal: 2m 49s\tremaining: 1m 52s\n",
      "723:\tlearn: 1604.7148523\ttest: 1655.9449094\tbest: 1655.9449094 (723)\ttotal: 2m 50s\tremaining: 1m 51s\n",
      "724:\tlearn: 1604.6695669\ttest: 1655.9196775\tbest: 1655.9196775 (724)\ttotal: 2m 50s\tremaining: 1m 51s\n",
      "725:\tlearn: 1604.3173226\ttest: 1655.7029473\tbest: 1655.7029473 (725)\ttotal: 2m 50s\tremaining: 1m 51s\n",
      "726:\tlearn: 1604.0459684\ttest: 1655.5576347\tbest: 1655.5576347 (726)\ttotal: 2m 50s\tremaining: 1m 51s\n",
      "727:\tlearn: 1603.8465806\ttest: 1655.4252844\tbest: 1655.4252844 (727)\ttotal: 2m 51s\tremaining: 1m 50s\n",
      "728:\tlearn: 1603.7175071\ttest: 1655.3717833\tbest: 1655.3717833 (728)\ttotal: 2m 51s\tremaining: 1m 50s\n",
      "729:\tlearn: 1603.6295247\ttest: 1655.3248902\tbest: 1655.3248902 (729)\ttotal: 2m 51s\tremaining: 1m 50s\n",
      "730:\tlearn: 1603.5578995\ttest: 1655.2823922\tbest: 1655.2823922 (730)\ttotal: 2m 51s\tremaining: 1m 50s\n",
      "731:\tlearn: 1603.4536369\ttest: 1655.2362240\tbest: 1655.2362240 (731)\ttotal: 2m 52s\tremaining: 1m 49s\n",
      "732:\tlearn: 1603.3077326\ttest: 1655.1736182\tbest: 1655.1736182 (732)\ttotal: 2m 52s\tremaining: 1m 49s\n",
      "733:\tlearn: 1603.1944434\ttest: 1655.1611104\tbest: 1655.1611104 (733)\ttotal: 2m 52s\tremaining: 1m 49s\n",
      "734:\tlearn: 1603.0291046\ttest: 1655.1050234\tbest: 1655.1050234 (734)\ttotal: 2m 52s\tremaining: 1m 49s\n",
      "735:\tlearn: 1602.9039827\ttest: 1655.0676629\tbest: 1655.0676629 (735)\ttotal: 2m 52s\tremaining: 1m 49s\n",
      "736:\tlearn: 1602.7577473\ttest: 1654.9829351\tbest: 1654.9829351 (736)\ttotal: 2m 53s\tremaining: 1m 48s\n",
      "737:\tlearn: 1602.6087160\ttest: 1654.8439288\tbest: 1654.8439288 (737)\ttotal: 2m 53s\tremaining: 1m 48s\n",
      "738:\tlearn: 1602.3051131\ttest: 1654.5800766\tbest: 1654.5800766 (738)\ttotal: 2m 53s\tremaining: 1m 48s\n",
      "739:\tlearn: 1602.1706144\ttest: 1654.4850850\tbest: 1654.4850850 (739)\ttotal: 2m 53s\tremaining: 1m 48s\n",
      "740:\tlearn: 1602.0603881\ttest: 1654.3892419\tbest: 1654.3892419 (740)\ttotal: 2m 54s\tremaining: 1m 47s\n",
      "741:\tlearn: 1601.9492280\ttest: 1654.3360133\tbest: 1654.3360133 (741)\ttotal: 2m 54s\tremaining: 1m 47s\n",
      "742:\tlearn: 1601.7340005\ttest: 1654.1652154\tbest: 1654.1652154 (742)\ttotal: 2m 54s\tremaining: 1m 47s\n",
      "743:\tlearn: 1601.5606119\ttest: 1654.0531783\tbest: 1654.0531783 (743)\ttotal: 2m 54s\tremaining: 1m 47s\n",
      "744:\tlearn: 1601.2140813\ttest: 1653.7980624\tbest: 1653.7980624 (744)\ttotal: 2m 55s\tremaining: 1m 46s\n",
      "745:\tlearn: 1601.0422970\ttest: 1653.6870584\tbest: 1653.6870584 (745)\ttotal: 2m 55s\tremaining: 1m 46s\n",
      "746:\tlearn: 1600.9334952\ttest: 1653.6767069\tbest: 1653.6767069 (746)\ttotal: 2m 55s\tremaining: 1m 46s\n",
      "747:\tlearn: 1600.6622145\ttest: 1653.5223791\tbest: 1653.5223791 (747)\ttotal: 2m 55s\tremaining: 1m 46s\n",
      "748:\tlearn: 1600.3954229\ttest: 1653.3376761\tbest: 1653.3376761 (748)\ttotal: 2m 55s\tremaining: 1m 45s\n",
      "749:\tlearn: 1600.2362770\ttest: 1653.2146418\tbest: 1653.2146418 (749)\ttotal: 2m 56s\tremaining: 1m 45s\n",
      "750:\tlearn: 1600.1084658\ttest: 1653.1567361\tbest: 1653.1567361 (750)\ttotal: 2m 56s\tremaining: 1m 45s\n",
      "751:\tlearn: 1599.9342997\ttest: 1653.1104114\tbest: 1653.1104114 (751)\ttotal: 2m 56s\tremaining: 1m 45s\n",
      "752:\tlearn: 1599.6906078\ttest: 1652.9460107\tbest: 1652.9460107 (752)\ttotal: 2m 56s\tremaining: 1m 45s\n",
      "753:\tlearn: 1599.5003872\ttest: 1652.8501788\tbest: 1652.8501788 (753)\ttotal: 2m 57s\tremaining: 1m 44s\n",
      "754:\tlearn: 1599.2460871\ttest: 1652.7038901\tbest: 1652.7038901 (754)\ttotal: 2m 57s\tremaining: 1m 44s\n",
      "755:\tlearn: 1599.1914278\ttest: 1652.6741184\tbest: 1652.6741184 (755)\ttotal: 2m 57s\tremaining: 1m 44s\n",
      "756:\tlearn: 1598.7780105\ttest: 1652.4222867\tbest: 1652.4222867 (756)\ttotal: 2m 57s\tremaining: 1m 44s\n",
      "757:\tlearn: 1598.5875048\ttest: 1652.2798482\tbest: 1652.2798482 (757)\ttotal: 2m 58s\tremaining: 1m 43s\n",
      "758:\tlearn: 1598.3883283\ttest: 1652.2003076\tbest: 1652.2003076 (758)\ttotal: 2m 58s\tremaining: 1m 43s\n",
      "759:\tlearn: 1598.1499227\ttest: 1652.0676829\tbest: 1652.0676829 (759)\ttotal: 2m 58s\tremaining: 1m 43s\n",
      "760:\tlearn: 1597.9773961\ttest: 1651.9608798\tbest: 1651.9608798 (760)\ttotal: 2m 58s\tremaining: 1m 43s\n",
      "761:\tlearn: 1597.8645723\ttest: 1651.9152442\tbest: 1651.9152442 (761)\ttotal: 2m 59s\tremaining: 1m 42s\n",
      "762:\tlearn: 1597.6998110\ttest: 1651.8397512\tbest: 1651.8397512 (762)\ttotal: 2m 59s\tremaining: 1m 42s\n",
      "763:\tlearn: 1597.4786898\ttest: 1651.6496789\tbest: 1651.6496789 (763)\ttotal: 2m 59s\tremaining: 1m 42s\n",
      "764:\tlearn: 1597.2977526\ttest: 1651.5816317\tbest: 1651.5816317 (764)\ttotal: 2m 59s\tremaining: 1m 42s\n",
      "765:\tlearn: 1597.1588195\ttest: 1651.4778789\tbest: 1651.4778789 (765)\ttotal: 2m 59s\tremaining: 1m 41s\n",
      "766:\tlearn: 1596.9163867\ttest: 1651.3036018\tbest: 1651.3036018 (766)\ttotal: 3m\tremaining: 1m 41s\n",
      "767:\tlearn: 1596.7286785\ttest: 1651.1701156\tbest: 1651.1701156 (767)\ttotal: 3m\tremaining: 1m 41s\n",
      "768:\tlearn: 1596.4508553\ttest: 1651.0010996\tbest: 1651.0010996 (768)\ttotal: 3m\tremaining: 1m 41s\n",
      "769:\tlearn: 1596.3094686\ttest: 1650.9590927\tbest: 1650.9590927 (769)\ttotal: 3m\tremaining: 1m 41s\n",
      "770:\tlearn: 1595.8956783\ttest: 1650.6953499\tbest: 1650.6953499 (770)\ttotal: 3m 1s\tremaining: 1m 40s\n",
      "771:\tlearn: 1595.5977524\ttest: 1650.4482588\tbest: 1650.4482588 (771)\ttotal: 3m 1s\tremaining: 1m 40s\n",
      "772:\tlearn: 1595.3522087\ttest: 1650.2745983\tbest: 1650.2745983 (772)\ttotal: 3m 1s\tremaining: 1m 40s\n",
      "773:\tlearn: 1595.3072438\ttest: 1650.2449636\tbest: 1650.2449636 (773)\ttotal: 3m 1s\tremaining: 1m 40s\n",
      "774:\tlearn: 1595.1442563\ttest: 1650.1400528\tbest: 1650.1400528 (774)\ttotal: 3m 2s\tremaining: 1m 39s\n",
      "775:\tlearn: 1594.9302718\ttest: 1649.9674985\tbest: 1649.9674985 (775)\ttotal: 3m 2s\tremaining: 1m 39s\n",
      "776:\tlearn: 1594.8595972\ttest: 1649.9033985\tbest: 1649.9033985 (776)\ttotal: 3m 2s\tremaining: 1m 39s\n",
      "777:\tlearn: 1594.6800140\ttest: 1649.7927590\tbest: 1649.7927590 (777)\ttotal: 3m 2s\tremaining: 1m 39s\n",
      "778:\tlearn: 1594.3840757\ttest: 1649.5755864\tbest: 1649.5755864 (778)\ttotal: 3m 3s\tremaining: 1m 39s\n",
      "779:\tlearn: 1594.1709976\ttest: 1649.4325633\tbest: 1649.4325633 (779)\ttotal: 3m 3s\tremaining: 1m 38s\n",
      "780:\tlearn: 1594.0140273\ttest: 1649.3351639\tbest: 1649.3351639 (780)\ttotal: 3m 3s\tremaining: 1m 38s\n",
      "781:\tlearn: 1593.8801664\ttest: 1649.2163844\tbest: 1649.2163844 (781)\ttotal: 3m 4s\tremaining: 1m 38s\n",
      "782:\tlearn: 1593.7297660\ttest: 1649.1937385\tbest: 1649.1937385 (782)\ttotal: 3m 4s\tremaining: 1m 38s\n",
      "783:\tlearn: 1593.6150088\ttest: 1649.1355768\tbest: 1649.1355768 (783)\ttotal: 3m 4s\tremaining: 1m 37s\n",
      "784:\tlearn: 1593.4375542\ttest: 1649.0361529\tbest: 1649.0361529 (784)\ttotal: 3m 4s\tremaining: 1m 37s\n",
      "785:\tlearn: 1593.3444297\ttest: 1648.9640393\tbest: 1648.9640393 (785)\ttotal: 3m 5s\tremaining: 1m 37s\n",
      "786:\tlearn: 1593.1501404\ttest: 1648.8407356\tbest: 1648.8407356 (786)\ttotal: 3m 5s\tremaining: 1m 37s\n",
      "787:\tlearn: 1593.0855423\ttest: 1648.8143886\tbest: 1648.8143886 (787)\ttotal: 3m 5s\tremaining: 1m 37s\n",
      "788:\tlearn: 1593.0231137\ttest: 1648.7799511\tbest: 1648.7799511 (788)\ttotal: 3m 5s\tremaining: 1m 36s\n",
      "789:\tlearn: 1592.9693436\ttest: 1648.7594611\tbest: 1648.7594611 (789)\ttotal: 3m 5s\tremaining: 1m 36s\n",
      "790:\tlearn: 1592.7866680\ttest: 1648.6350071\tbest: 1648.6350071 (790)\ttotal: 3m 6s\tremaining: 1m 36s\n",
      "791:\tlearn: 1592.5438610\ttest: 1648.4935577\tbest: 1648.4935577 (791)\ttotal: 3m 6s\tremaining: 1m 36s\n",
      "792:\tlearn: 1592.2648352\ttest: 1648.3299261\tbest: 1648.3299261 (792)\ttotal: 3m 6s\tremaining: 1m 35s\n",
      "793:\tlearn: 1592.0698043\ttest: 1648.2112962\tbest: 1648.2112962 (793)\ttotal: 3m 6s\tremaining: 1m 35s\n",
      "794:\tlearn: 1591.9204664\ttest: 1648.1182379\tbest: 1648.1182379 (794)\ttotal: 3m 7s\tremaining: 1m 35s\n",
      "795:\tlearn: 1591.8525680\ttest: 1648.0619876\tbest: 1648.0619876 (795)\ttotal: 3m 7s\tremaining: 1m 35s\n",
      "796:\tlearn: 1591.7953366\ttest: 1648.0492310\tbest: 1648.0492310 (796)\ttotal: 3m 7s\tremaining: 1m 34s\n",
      "797:\tlearn: 1591.6651710\ttest: 1647.9508300\tbest: 1647.9508300 (797)\ttotal: 3m 7s\tremaining: 1m 34s\n",
      "798:\tlearn: 1591.5630401\ttest: 1647.8228081\tbest: 1647.8228081 (798)\ttotal: 3m 8s\tremaining: 1m 34s\n",
      "799:\tlearn: 1591.1592494\ttest: 1647.5625923\tbest: 1647.5625923 (799)\ttotal: 3m 8s\tremaining: 1m 34s\n",
      "800:\tlearn: 1591.0202492\ttest: 1647.5110120\tbest: 1647.5110120 (800)\ttotal: 3m 8s\tremaining: 1m 33s\n",
      "801:\tlearn: 1590.9045238\ttest: 1647.4244091\tbest: 1647.4244091 (801)\ttotal: 3m 8s\tremaining: 1m 33s\n",
      "802:\tlearn: 1590.5657530\ttest: 1647.2250572\tbest: 1647.2250572 (802)\ttotal: 3m 9s\tremaining: 1m 33s\n",
      "803:\tlearn: 1590.3539283\ttest: 1647.0918548\tbest: 1647.0918548 (803)\ttotal: 3m 9s\tremaining: 1m 33s\n",
      "804:\tlearn: 1590.1939434\ttest: 1647.0168926\tbest: 1647.0168926 (804)\ttotal: 3m 9s\tremaining: 1m 33s\n",
      "805:\tlearn: 1590.1603747\ttest: 1647.0042736\tbest: 1647.0042736 (805)\ttotal: 3m 9s\tremaining: 1m 32s\n",
      "806:\tlearn: 1589.9437774\ttest: 1646.9096949\tbest: 1646.9096949 (806)\ttotal: 3m 10s\tremaining: 1m 32s\n",
      "807:\tlearn: 1589.8822788\ttest: 1646.8723503\tbest: 1646.8723503 (807)\ttotal: 3m 10s\tremaining: 1m 32s\n",
      "808:\tlearn: 1589.6409873\ttest: 1646.7358804\tbest: 1646.7358804 (808)\ttotal: 3m 10s\tremaining: 1m 32s\n",
      "809:\tlearn: 1589.5272476\ttest: 1646.6299204\tbest: 1646.6299204 (809)\ttotal: 3m 10s\tremaining: 1m 31s\n",
      "810:\tlearn: 1589.3131917\ttest: 1646.5017226\tbest: 1646.5017226 (810)\ttotal: 3m 11s\tremaining: 1m 31s\n",
      "811:\tlearn: 1589.2551207\ttest: 1646.4763245\tbest: 1646.4763245 (811)\ttotal: 3m 11s\tremaining: 1m 31s\n",
      "812:\tlearn: 1589.0854532\ttest: 1646.3730392\tbest: 1646.3730392 (812)\ttotal: 3m 11s\tremaining: 1m 31s\n",
      "813:\tlearn: 1588.8281178\ttest: 1646.2401456\tbest: 1646.2401456 (813)\ttotal: 3m 11s\tremaining: 1m 30s\n",
      "814:\tlearn: 1588.5998616\ttest: 1646.1401416\tbest: 1646.1401416 (814)\ttotal: 3m 11s\tremaining: 1m 30s\n",
      "815:\tlearn: 1588.5394749\ttest: 1646.1281140\tbest: 1646.1281140 (815)\ttotal: 3m 12s\tremaining: 1m 30s\n",
      "816:\tlearn: 1588.3528183\ttest: 1646.0075338\tbest: 1646.0075338 (816)\ttotal: 3m 12s\tremaining: 1m 30s\n",
      "817:\tlearn: 1588.2300057\ttest: 1645.9009195\tbest: 1645.9009195 (817)\ttotal: 3m 12s\tremaining: 1m 29s\n",
      "818:\tlearn: 1588.0581164\ttest: 1645.7853599\tbest: 1645.7853599 (818)\ttotal: 3m 12s\tremaining: 1m 29s\n",
      "819:\tlearn: 1587.8458939\ttest: 1645.7127106\tbest: 1645.7127106 (819)\ttotal: 3m 13s\tremaining: 1m 29s\n",
      "820:\tlearn: 1587.7376642\ttest: 1645.6120956\tbest: 1645.6120956 (820)\ttotal: 3m 13s\tremaining: 1m 29s\n",
      "821:\tlearn: 1587.6469142\ttest: 1645.5092292\tbest: 1645.5092292 (821)\ttotal: 3m 13s\tremaining: 1m 29s\n",
      "822:\tlearn: 1587.5912367\ttest: 1645.4782683\tbest: 1645.4782683 (822)\ttotal: 3m 13s\tremaining: 1m 28s\n",
      "823:\tlearn: 1587.5006190\ttest: 1645.4236989\tbest: 1645.4236989 (823)\ttotal: 3m 14s\tremaining: 1m 28s\n",
      "824:\tlearn: 1587.2021786\ttest: 1645.2208176\tbest: 1645.2208176 (824)\ttotal: 3m 14s\tremaining: 1m 28s\n",
      "825:\tlearn: 1587.0708062\ttest: 1645.1902846\tbest: 1645.1902846 (825)\ttotal: 3m 14s\tremaining: 1m 28s\n",
      "826:\tlearn: 1586.9185955\ttest: 1645.1292310\tbest: 1645.1292310 (826)\ttotal: 3m 14s\tremaining: 1m 27s\n",
      "827:\tlearn: 1586.6567676\ttest: 1644.9764562\tbest: 1644.9764562 (827)\ttotal: 3m 15s\tremaining: 1m 27s\n",
      "828:\tlearn: 1586.4166543\ttest: 1644.8468588\tbest: 1644.8468588 (828)\ttotal: 3m 15s\tremaining: 1m 27s\n",
      "829:\tlearn: 1586.4103555\ttest: 1644.8471259\tbest: 1644.8468588 (828)\ttotal: 3m 15s\tremaining: 1m 27s\n",
      "830:\tlearn: 1586.3149807\ttest: 1644.7806750\tbest: 1644.7806750 (830)\ttotal: 3m 15s\tremaining: 1m 26s\n",
      "831:\tlearn: 1586.0430268\ttest: 1644.6263679\tbest: 1644.6263679 (831)\ttotal: 3m 16s\tremaining: 1m 26s\n",
      "832:\tlearn: 1586.0397257\ttest: 1644.6261352\tbest: 1644.6261352 (832)\ttotal: 3m 16s\tremaining: 1m 26s\n",
      "833:\tlearn: 1585.9561308\ttest: 1644.5961063\tbest: 1644.5961063 (833)\ttotal: 3m 16s\tremaining: 1m 26s\n",
      "834:\tlearn: 1585.8751091\ttest: 1644.5679190\tbest: 1644.5679190 (834)\ttotal: 3m 16s\tremaining: 1m 26s\n",
      "835:\tlearn: 1585.7925164\ttest: 1644.4962280\tbest: 1644.4962280 (835)\ttotal: 3m 17s\tremaining: 1m 25s\n",
      "836:\tlearn: 1585.6828788\ttest: 1644.4162492\tbest: 1644.4162492 (836)\ttotal: 3m 17s\tremaining: 1m 25s\n",
      "837:\tlearn: 1585.6010034\ttest: 1644.3887992\tbest: 1644.3887992 (837)\ttotal: 3m 17s\tremaining: 1m 25s\n",
      "838:\tlearn: 1585.2855276\ttest: 1644.1428375\tbest: 1644.1428375 (838)\ttotal: 3m 17s\tremaining: 1m 25s\n",
      "839:\tlearn: 1585.0536042\ttest: 1644.0219533\tbest: 1644.0219533 (839)\ttotal: 3m 17s\tremaining: 1m 24s\n",
      "840:\tlearn: 1584.8883771\ttest: 1643.9251266\tbest: 1643.9251266 (840)\ttotal: 3m 18s\tremaining: 1m 24s\n",
      "841:\tlearn: 1584.8126946\ttest: 1643.8791964\tbest: 1643.8791964 (841)\ttotal: 3m 18s\tremaining: 1m 24s\n",
      "842:\tlearn: 1584.6585575\ttest: 1643.7493421\tbest: 1643.7493421 (842)\ttotal: 3m 18s\tremaining: 1m 24s\n",
      "843:\tlearn: 1584.4672111\ttest: 1643.6843944\tbest: 1643.6843944 (843)\ttotal: 3m 18s\tremaining: 1m 23s\n",
      "844:\tlearn: 1584.3451509\ttest: 1643.6121025\tbest: 1643.6121025 (844)\ttotal: 3m 19s\tremaining: 1m 23s\n",
      "845:\tlearn: 1584.2368902\ttest: 1643.5773847\tbest: 1643.5773847 (845)\ttotal: 3m 19s\tremaining: 1m 23s\n",
      "846:\tlearn: 1584.1308540\ttest: 1643.5306169\tbest: 1643.5306169 (846)\ttotal: 3m 19s\tremaining: 1m 23s\n",
      "847:\tlearn: 1583.9543278\ttest: 1643.4125040\tbest: 1643.4125040 (847)\ttotal: 3m 19s\tremaining: 1m 23s\n",
      "848:\tlearn: 1583.9314829\ttest: 1643.4024754\tbest: 1643.4024754 (848)\ttotal: 3m 20s\tremaining: 1m 22s\n",
      "849:\tlearn: 1583.8539090\ttest: 1643.3767480\tbest: 1643.3767480 (849)\ttotal: 3m 20s\tremaining: 1m 22s\n",
      "850:\tlearn: 1583.4983410\ttest: 1643.1289677\tbest: 1643.1289677 (850)\ttotal: 3m 20s\tremaining: 1m 22s\n",
      "851:\tlearn: 1583.4378529\ttest: 1643.0912894\tbest: 1643.0912894 (851)\ttotal: 3m 20s\tremaining: 1m 22s\n",
      "852:\tlearn: 1583.2442617\ttest: 1642.9590619\tbest: 1642.9590619 (852)\ttotal: 3m 21s\tremaining: 1m 21s\n",
      "853:\tlearn: 1583.0063427\ttest: 1642.8208643\tbest: 1642.8208643 (853)\ttotal: 3m 21s\tremaining: 1m 21s\n",
      "854:\tlearn: 1582.9928231\ttest: 1642.8165852\tbest: 1642.8165852 (854)\ttotal: 3m 21s\tremaining: 1m 21s\n",
      "855:\tlearn: 1582.8949902\ttest: 1642.7962063\tbest: 1642.7962063 (855)\ttotal: 3m 21s\tremaining: 1m 21s\n",
      "856:\tlearn: 1582.8201293\ttest: 1642.7314307\tbest: 1642.7314307 (856)\ttotal: 3m 22s\tremaining: 1m 20s\n",
      "857:\tlearn: 1582.5417704\ttest: 1642.5314623\tbest: 1642.5314623 (857)\ttotal: 3m 22s\tremaining: 1m 20s\n",
      "858:\tlearn: 1582.3646722\ttest: 1642.4494358\tbest: 1642.4494358 (858)\ttotal: 3m 22s\tremaining: 1m 20s\n",
      "859:\tlearn: 1582.1346292\ttest: 1642.3107569\tbest: 1642.3107569 (859)\ttotal: 3m 22s\tremaining: 1m 20s\n",
      "860:\tlearn: 1581.9836781\ttest: 1642.2111887\tbest: 1642.2111887 (860)\ttotal: 3m 23s\tremaining: 1m 19s\n",
      "861:\tlearn: 1581.8235889\ttest: 1642.1407187\tbest: 1642.1407187 (861)\ttotal: 3m 23s\tremaining: 1m 19s\n",
      "862:\tlearn: 1581.7689612\ttest: 1642.1335401\tbest: 1642.1335401 (862)\ttotal: 3m 23s\tremaining: 1m 19s\n",
      "863:\tlearn: 1581.6899073\ttest: 1642.0975062\tbest: 1642.0975062 (863)\ttotal: 3m 23s\tremaining: 1m 19s\n",
      "864:\tlearn: 1581.6158474\ttest: 1642.0740979\tbest: 1642.0740979 (864)\ttotal: 3m 24s\tremaining: 1m 19s\n",
      "865:\tlearn: 1581.4988163\ttest: 1641.9896337\tbest: 1641.9896337 (865)\ttotal: 3m 24s\tremaining: 1m 18s\n",
      "866:\tlearn: 1581.4408006\ttest: 1641.9547314\tbest: 1641.9547314 (866)\ttotal: 3m 24s\tremaining: 1m 18s\n",
      "867:\tlearn: 1581.3379644\ttest: 1641.9108336\tbest: 1641.9108336 (867)\ttotal: 3m 24s\tremaining: 1m 18s\n",
      "868:\tlearn: 1581.0913913\ttest: 1641.7582370\tbest: 1641.7582370 (868)\ttotal: 3m 25s\tremaining: 1m 18s\n",
      "869:\tlearn: 1580.9168507\ttest: 1641.6664022\tbest: 1641.6664022 (869)\ttotal: 3m 25s\tremaining: 1m 17s\n",
      "870:\tlearn: 1580.7887820\ttest: 1641.5774500\tbest: 1641.5774500 (870)\ttotal: 3m 25s\tremaining: 1m 17s\n",
      "871:\tlearn: 1580.7583937\ttest: 1641.5720902\tbest: 1641.5720902 (871)\ttotal: 3m 25s\tremaining: 1m 17s\n",
      "872:\tlearn: 1580.6643787\ttest: 1641.5405188\tbest: 1641.5405188 (872)\ttotal: 3m 26s\tremaining: 1m 17s\n",
      "873:\tlearn: 1580.5390841\ttest: 1641.4537690\tbest: 1641.4537690 (873)\ttotal: 3m 26s\tremaining: 1m 16s\n",
      "874:\tlearn: 1580.4683227\ttest: 1641.4284408\tbest: 1641.4284408 (874)\ttotal: 3m 26s\tremaining: 1m 16s\n",
      "875:\tlearn: 1580.3346464\ttest: 1641.3529287\tbest: 1641.3529287 (875)\ttotal: 3m 26s\tremaining: 1m 16s\n",
      "876:\tlearn: 1580.2361274\ttest: 1641.3120002\tbest: 1641.3120002 (876)\ttotal: 3m 27s\tremaining: 1m 16s\n",
      "877:\tlearn: 1580.0049293\ttest: 1641.1665294\tbest: 1641.1665294 (877)\ttotal: 3m 27s\tremaining: 1m 16s\n",
      "878:\tlearn: 1579.9706840\ttest: 1641.1599534\tbest: 1641.1599534 (878)\ttotal: 3m 27s\tremaining: 1m 15s\n",
      "879:\tlearn: 1579.9123728\ttest: 1641.1326152\tbest: 1641.1326152 (879)\ttotal: 3m 27s\tremaining: 1m 15s\n",
      "880:\tlearn: 1579.7891064\ttest: 1641.0719496\tbest: 1641.0719496 (880)\ttotal: 3m 28s\tremaining: 1m 15s\n",
      "881:\tlearn: 1579.6609113\ttest: 1641.0219119\tbest: 1641.0219119 (881)\ttotal: 3m 28s\tremaining: 1m 15s\n",
      "882:\tlearn: 1579.5459316\ttest: 1640.9687234\tbest: 1640.9687234 (882)\ttotal: 3m 28s\tremaining: 1m 14s\n",
      "883:\tlearn: 1579.3069469\ttest: 1640.8347996\tbest: 1640.8347996 (883)\ttotal: 3m 28s\tremaining: 1m 14s\n",
      "884:\tlearn: 1579.1963092\ttest: 1640.7738886\tbest: 1640.7738886 (884)\ttotal: 3m 29s\tremaining: 1m 14s\n",
      "885:\tlearn: 1579.0572170\ttest: 1640.6810163\tbest: 1640.6810163 (885)\ttotal: 3m 29s\tremaining: 1m 14s\n",
      "886:\tlearn: 1578.9837821\ttest: 1640.6618189\tbest: 1640.6618189 (886)\ttotal: 3m 29s\tremaining: 1m 13s\n",
      "887:\tlearn: 1578.9242863\ttest: 1640.6276551\tbest: 1640.6276551 (887)\ttotal: 3m 29s\tremaining: 1m 13s\n",
      "888:\tlearn: 1578.7424870\ttest: 1640.5145271\tbest: 1640.5145271 (888)\ttotal: 3m 30s\tremaining: 1m 13s\n",
      "889:\tlearn: 1578.6567393\ttest: 1640.4848764\tbest: 1640.4848764 (889)\ttotal: 3m 30s\tremaining: 1m 13s\n",
      "890:\tlearn: 1578.6195758\ttest: 1640.4705065\tbest: 1640.4705065 (890)\ttotal: 3m 30s\tremaining: 1m 13s\n",
      "891:\tlearn: 1578.4015766\ttest: 1640.2962734\tbest: 1640.2962734 (891)\ttotal: 3m 30s\tremaining: 1m 12s\n",
      "892:\tlearn: 1578.2861252\ttest: 1640.2455824\tbest: 1640.2455824 (892)\ttotal: 3m 31s\tremaining: 1m 12s\n",
      "893:\tlearn: 1578.1167949\ttest: 1640.1396098\tbest: 1640.1396098 (893)\ttotal: 3m 31s\tremaining: 1m 12s\n",
      "894:\tlearn: 1577.8169565\ttest: 1639.9780975\tbest: 1639.9780975 (894)\ttotal: 3m 31s\tremaining: 1m 12s\n",
      "895:\tlearn: 1577.6895911\ttest: 1639.9091821\tbest: 1639.9091821 (895)\ttotal: 3m 31s\tremaining: 1m 11s\n",
      "896:\tlearn: 1577.6544642\ttest: 1639.9013787\tbest: 1639.9013787 (896)\ttotal: 3m 32s\tremaining: 1m 11s\n",
      "897:\tlearn: 1577.4340122\ttest: 1639.7279088\tbest: 1639.7279088 (897)\ttotal: 3m 32s\tremaining: 1m 11s\n",
      "898:\tlearn: 1577.2711854\ttest: 1639.6275789\tbest: 1639.6275789 (898)\ttotal: 3m 32s\tremaining: 1m 11s\n",
      "899:\tlearn: 1577.1420873\ttest: 1639.5648482\tbest: 1639.5648482 (899)\ttotal: 3m 32s\tremaining: 1m 10s\n",
      "900:\tlearn: 1577.0709017\ttest: 1639.5474160\tbest: 1639.5474160 (900)\ttotal: 3m 33s\tremaining: 1m 10s\n",
      "901:\tlearn: 1576.9662949\ttest: 1639.5226613\tbest: 1639.5226613 (901)\ttotal: 3m 33s\tremaining: 1m 10s\n",
      "902:\tlearn: 1576.8566754\ttest: 1639.4440716\tbest: 1639.4440716 (902)\ttotal: 3m 33s\tremaining: 1m 10s\n",
      "903:\tlearn: 1576.7506969\ttest: 1639.3656354\tbest: 1639.3656354 (903)\ttotal: 3m 33s\tremaining: 1m 10s\n",
      "904:\tlearn: 1576.5520619\ttest: 1639.2370537\tbest: 1639.2370537 (904)\ttotal: 3m 34s\tremaining: 1m 9s\n",
      "905:\tlearn: 1576.4685302\ttest: 1639.1894232\tbest: 1639.1894232 (905)\ttotal: 3m 34s\tremaining: 1m 9s\n",
      "906:\tlearn: 1576.2952764\ttest: 1639.0859016\tbest: 1639.0859016 (906)\ttotal: 3m 34s\tremaining: 1m 9s\n",
      "907:\tlearn: 1576.2411488\ttest: 1639.0716530\tbest: 1639.0716530 (907)\ttotal: 3m 34s\tremaining: 1m 9s\n",
      "908:\tlearn: 1576.2006887\ttest: 1639.0596623\tbest: 1639.0596623 (908)\ttotal: 3m 34s\tremaining: 1m 8s\n",
      "909:\tlearn: 1576.1235024\ttest: 1639.0464394\tbest: 1639.0464394 (909)\ttotal: 3m 35s\tremaining: 1m 8s\n",
      "910:\tlearn: 1576.0129565\ttest: 1639.0113705\tbest: 1639.0113705 (910)\ttotal: 3m 35s\tremaining: 1m 8s\n",
      "911:\tlearn: 1575.8126686\ttest: 1638.8821346\tbest: 1638.8821346 (911)\ttotal: 3m 35s\tremaining: 1m 8s\n",
      "912:\tlearn: 1575.7249416\ttest: 1638.8478031\tbest: 1638.8478031 (912)\ttotal: 3m 35s\tremaining: 1m 7s\n",
      "913:\tlearn: 1575.6690456\ttest: 1638.8369012\tbest: 1638.8369012 (913)\ttotal: 3m 36s\tremaining: 1m 7s\n",
      "914:\tlearn: 1575.5143924\ttest: 1638.7378006\tbest: 1638.7378006 (914)\ttotal: 3m 36s\tremaining: 1m 7s\n",
      "915:\tlearn: 1575.3768793\ttest: 1638.6241763\tbest: 1638.6241763 (915)\ttotal: 3m 36s\tremaining: 1m 7s\n",
      "916:\tlearn: 1575.2924795\ttest: 1638.5585904\tbest: 1638.5585904 (916)\ttotal: 3m 36s\tremaining: 1m 6s\n",
      "917:\tlearn: 1575.1981351\ttest: 1638.5381247\tbest: 1638.5381247 (917)\ttotal: 3m 37s\tremaining: 1m 6s\n",
      "918:\tlearn: 1575.0733958\ttest: 1638.4676882\tbest: 1638.4676882 (918)\ttotal: 3m 37s\tremaining: 1m 6s\n",
      "919:\tlearn: 1574.9411050\ttest: 1638.3586862\tbest: 1638.3586862 (919)\ttotal: 3m 37s\tremaining: 1m 6s\n",
      "920:\tlearn: 1574.7999354\ttest: 1638.2953935\tbest: 1638.2953935 (920)\ttotal: 3m 37s\tremaining: 1m 5s\n",
      "921:\tlearn: 1574.6473374\ttest: 1638.2041724\tbest: 1638.2041724 (921)\ttotal: 3m 38s\tremaining: 1m 5s\n",
      "922:\tlearn: 1574.3377008\ttest: 1637.9896077\tbest: 1637.9896077 (922)\ttotal: 3m 38s\tremaining: 1m 5s\n",
      "923:\tlearn: 1574.2229943\ttest: 1637.8944897\tbest: 1637.8944897 (923)\ttotal: 3m 38s\tremaining: 1m 5s\n",
      "924:\tlearn: 1574.0244216\ttest: 1637.8263331\tbest: 1637.8263331 (924)\ttotal: 3m 38s\tremaining: 1m 5s\n",
      "925:\tlearn: 1573.9207950\ttest: 1637.7952782\tbest: 1637.7952782 (925)\ttotal: 3m 39s\tremaining: 1m 4s\n",
      "926:\tlearn: 1573.7435014\ttest: 1637.6721249\tbest: 1637.6721249 (926)\ttotal: 3m 39s\tremaining: 1m 4s\n",
      "927:\tlearn: 1573.6538715\ttest: 1637.6110082\tbest: 1637.6110082 (927)\ttotal: 3m 39s\tremaining: 1m 4s\n",
      "928:\tlearn: 1573.4715261\ttest: 1637.4830653\tbest: 1637.4830653 (928)\ttotal: 3m 39s\tremaining: 1m 4s\n",
      "929:\tlearn: 1573.4062861\ttest: 1637.4690630\tbest: 1637.4690630 (929)\ttotal: 3m 40s\tremaining: 1m 3s\n",
      "930:\tlearn: 1573.3588514\ttest: 1637.4451021\tbest: 1637.4451021 (930)\ttotal: 3m 40s\tremaining: 1m 3s\n",
      "931:\tlearn: 1573.2623371\ttest: 1637.4139385\tbest: 1637.4139385 (931)\ttotal: 3m 40s\tremaining: 1m 3s\n",
      "932:\tlearn: 1573.1933964\ttest: 1637.3641925\tbest: 1637.3641925 (932)\ttotal: 3m 40s\tremaining: 1m 3s\n",
      "933:\tlearn: 1573.0973450\ttest: 1637.3352976\tbest: 1637.3352976 (933)\ttotal: 3m 41s\tremaining: 1m 2s\n",
      "934:\tlearn: 1573.0759465\ttest: 1637.3249484\tbest: 1637.3249484 (934)\ttotal: 3m 41s\tremaining: 1m 2s\n",
      "935:\tlearn: 1572.8770159\ttest: 1637.1897549\tbest: 1637.1897549 (935)\ttotal: 3m 41s\tremaining: 1m 2s\n",
      "936:\tlearn: 1572.7276880\ttest: 1637.1137180\tbest: 1637.1137180 (936)\ttotal: 3m 41s\tremaining: 1m 2s\n",
      "937:\tlearn: 1572.5517895\ttest: 1637.0749595\tbest: 1637.0749595 (937)\ttotal: 3m 42s\tremaining: 1m 2s\n",
      "938:\tlearn: 1572.4558364\ttest: 1637.0454237\tbest: 1637.0454237 (938)\ttotal: 3m 42s\tremaining: 1m 1s\n",
      "939:\tlearn: 1572.2673134\ttest: 1636.9377211\tbest: 1636.9377211 (939)\ttotal: 3m 42s\tremaining: 1m 1s\n",
      "940:\tlearn: 1572.2008290\ttest: 1636.8993460\tbest: 1636.8993460 (940)\ttotal: 3m 42s\tremaining: 1m 1s\n",
      "941:\tlearn: 1572.1567637\ttest: 1636.8685415\tbest: 1636.8685415 (941)\ttotal: 3m 43s\tremaining: 1m 1s\n",
      "942:\tlearn: 1571.9538417\ttest: 1636.7429961\tbest: 1636.7429961 (942)\ttotal: 3m 43s\tremaining: 1m\n",
      "943:\tlearn: 1571.6363082\ttest: 1636.5017224\tbest: 1636.5017224 (943)\ttotal: 3m 43s\tremaining: 1m\n",
      "944:\tlearn: 1571.5233542\ttest: 1636.4677003\tbest: 1636.4677003 (944)\ttotal: 3m 43s\tremaining: 1m\n",
      "945:\tlearn: 1571.3294865\ttest: 1636.3848742\tbest: 1636.3848742 (945)\ttotal: 3m 44s\tremaining: 1m\n",
      "946:\tlearn: 1571.0814023\ttest: 1636.2114208\tbest: 1636.2114208 (946)\ttotal: 3m 44s\tremaining: 59.9s\n",
      "947:\tlearn: 1570.9793980\ttest: 1636.1850339\tbest: 1636.1850339 (947)\ttotal: 3m 44s\tremaining: 59.7s\n",
      "948:\tlearn: 1570.9509915\ttest: 1636.1724224\tbest: 1636.1724224 (948)\ttotal: 3m 44s\tremaining: 59.5s\n",
      "949:\tlearn: 1570.8818198\ttest: 1636.1550257\tbest: 1636.1550257 (949)\ttotal: 3m 45s\tremaining: 59.2s\n",
      "950:\tlearn: 1570.7478779\ttest: 1636.1005572\tbest: 1636.1005572 (950)\ttotal: 3m 45s\tremaining: 59s\n",
      "951:\tlearn: 1570.7247189\ttest: 1636.0913465\tbest: 1636.0913465 (951)\ttotal: 3m 45s\tremaining: 58.7s\n",
      "952:\tlearn: 1570.5763187\ttest: 1636.0184270\tbest: 1636.0184270 (952)\ttotal: 3m 45s\tremaining: 58.5s\n",
      "953:\tlearn: 1570.4786097\ttest: 1635.9919282\tbest: 1635.9919282 (953)\ttotal: 3m 45s\tremaining: 58.3s\n",
      "954:\tlearn: 1570.3782003\ttest: 1635.9196390\tbest: 1635.9196390 (954)\ttotal: 3m 46s\tremaining: 58s\n",
      "955:\tlearn: 1570.2750726\ttest: 1635.8952293\tbest: 1635.8952293 (955)\ttotal: 3m 46s\tremaining: 57.8s\n",
      "956:\tlearn: 1570.0816487\ttest: 1635.7791593\tbest: 1635.7791593 (956)\ttotal: 3m 46s\tremaining: 57.6s\n",
      "957:\tlearn: 1569.9496922\ttest: 1635.6697619\tbest: 1635.6697619 (957)\ttotal: 3m 46s\tremaining: 57.3s\n",
      "958:\tlearn: 1569.8889708\ttest: 1635.6266392\tbest: 1635.6266392 (958)\ttotal: 3m 47s\tremaining: 57.1s\n",
      "959:\tlearn: 1569.5335187\ttest: 1635.4303884\tbest: 1635.4303884 (959)\ttotal: 3m 47s\tremaining: 56.9s\n",
      "960:\tlearn: 1569.4539467\ttest: 1635.3783344\tbest: 1635.3783344 (960)\ttotal: 3m 47s\tremaining: 56.6s\n",
      "961:\tlearn: 1569.3959752\ttest: 1635.3650732\tbest: 1635.3650732 (961)\ttotal: 3m 48s\tremaining: 56.4s\n",
      "962:\tlearn: 1569.1942472\ttest: 1635.2558255\tbest: 1635.2558255 (962)\ttotal: 3m 48s\tremaining: 56.2s\n",
      "963:\tlearn: 1568.9889644\ttest: 1635.1424482\tbest: 1635.1424482 (963)\ttotal: 3m 48s\tremaining: 55.9s\n",
      "964:\tlearn: 1568.8792815\ttest: 1635.0720434\tbest: 1635.0720434 (964)\ttotal: 3m 48s\tremaining: 55.7s\n",
      "965:\tlearn: 1568.7937377\ttest: 1635.0188679\tbest: 1635.0188679 (965)\ttotal: 3m 48s\tremaining: 55.5s\n",
      "966:\tlearn: 1568.6184782\ttest: 1634.9106838\tbest: 1634.9106838 (966)\ttotal: 3m 49s\tremaining: 55.2s\n",
      "967:\tlearn: 1568.5466889\ttest: 1634.8514800\tbest: 1634.8514800 (967)\ttotal: 3m 49s\tremaining: 55s\n",
      "968:\tlearn: 1568.3415763\ttest: 1634.7562197\tbest: 1634.7562197 (968)\ttotal: 3m 49s\tremaining: 54.8s\n",
      "969:\tlearn: 1568.1445938\ttest: 1634.7258228\tbest: 1634.7258228 (969)\ttotal: 3m 50s\tremaining: 54.5s\n",
      "970:\tlearn: 1568.0805405\ttest: 1634.6986639\tbest: 1634.6986639 (970)\ttotal: 3m 50s\tremaining: 54.3s\n",
      "971:\tlearn: 1568.0264027\ttest: 1634.6613603\tbest: 1634.6613603 (971)\ttotal: 3m 50s\tremaining: 54.1s\n",
      "972:\tlearn: 1567.9596961\ttest: 1634.6137409\tbest: 1634.6137409 (972)\ttotal: 3m 50s\tremaining: 53.8s\n",
      "973:\tlearn: 1567.8838496\ttest: 1634.5565675\tbest: 1634.5565675 (973)\ttotal: 3m 50s\tremaining: 53.6s\n",
      "974:\tlearn: 1567.6878943\ttest: 1634.4490550\tbest: 1634.4490550 (974)\ttotal: 3m 51s\tremaining: 53.4s\n",
      "975:\tlearn: 1567.4832046\ttest: 1634.3462167\tbest: 1634.3462167 (975)\ttotal: 3m 51s\tremaining: 53.1s\n",
      "976:\tlearn: 1567.2393894\ttest: 1634.2079223\tbest: 1634.2079223 (976)\ttotal: 3m 51s\tremaining: 52.9s\n",
      "977:\tlearn: 1567.1459347\ttest: 1634.1831201\tbest: 1634.1831201 (977)\ttotal: 3m 52s\tremaining: 52.7s\n",
      "978:\tlearn: 1567.0711916\ttest: 1634.1596428\tbest: 1634.1596428 (978)\ttotal: 3m 52s\tremaining: 52.4s\n",
      "979:\tlearn: 1566.9864331\ttest: 1634.1162274\tbest: 1634.1162274 (979)\ttotal: 3m 52s\tremaining: 52.2s\n",
      "980:\tlearn: 1566.8948305\ttest: 1634.0806793\tbest: 1634.0806793 (980)\ttotal: 3m 52s\tremaining: 52s\n",
      "981:\tlearn: 1566.7662261\ttest: 1634.0023947\tbest: 1634.0023947 (981)\ttotal: 3m 52s\tremaining: 51.7s\n",
      "982:\tlearn: 1566.6824715\ttest: 1633.9548168\tbest: 1633.9548168 (982)\ttotal: 3m 53s\tremaining: 51.5s\n",
      "983:\tlearn: 1566.6414445\ttest: 1633.9261887\tbest: 1633.9261887 (983)\ttotal: 3m 53s\tremaining: 51.2s\n",
      "984:\tlearn: 1566.4447628\ttest: 1633.8293688\tbest: 1633.8293688 (984)\ttotal: 3m 53s\tremaining: 51s\n",
      "985:\tlearn: 1566.2604339\ttest: 1633.7201339\tbest: 1633.7201339 (985)\ttotal: 3m 53s\tremaining: 50.8s\n",
      "986:\tlearn: 1566.1283237\ttest: 1633.6245437\tbest: 1633.6245437 (986)\ttotal: 3m 54s\tremaining: 50.5s\n",
      "987:\tlearn: 1565.9701944\ttest: 1633.5318970\tbest: 1633.5318970 (987)\ttotal: 3m 54s\tremaining: 50.3s\n",
      "988:\tlearn: 1565.7995659\ttest: 1633.3865141\tbest: 1633.3865141 (988)\ttotal: 3m 54s\tremaining: 50.1s\n",
      "989:\tlearn: 1565.6998521\ttest: 1633.3102654\tbest: 1633.3102654 (989)\ttotal: 3m 54s\tremaining: 49.8s\n",
      "990:\tlearn: 1565.6656072\ttest: 1633.2920487\tbest: 1633.2920487 (990)\ttotal: 3m 55s\tremaining: 49.6s\n",
      "991:\tlearn: 1565.5403821\ttest: 1633.2533133\tbest: 1633.2533133 (991)\ttotal: 3m 55s\tremaining: 49.4s\n",
      "992:\tlearn: 1565.4548518\ttest: 1633.2055336\tbest: 1633.2055336 (992)\ttotal: 3m 55s\tremaining: 49.1s\n",
      "993:\tlearn: 1565.3791117\ttest: 1633.1861025\tbest: 1633.1861025 (993)\ttotal: 3m 55s\tremaining: 48.9s\n",
      "994:\tlearn: 1565.0589098\ttest: 1633.0446006\tbest: 1633.0446006 (994)\ttotal: 3m 56s\tremaining: 48.7s\n",
      "995:\tlearn: 1564.9356590\ttest: 1633.0019161\tbest: 1633.0019161 (995)\ttotal: 3m 56s\tremaining: 48.4s\n",
      "996:\tlearn: 1564.8700232\ttest: 1632.9483945\tbest: 1632.9483945 (996)\ttotal: 3m 56s\tremaining: 48.2s\n",
      "997:\tlearn: 1564.7056830\ttest: 1632.8420175\tbest: 1632.8420175 (997)\ttotal: 3m 57s\tremaining: 48s\n",
      "998:\tlearn: 1564.6126210\ttest: 1632.8023222\tbest: 1632.8023222 (998)\ttotal: 3m 57s\tremaining: 47.7s\n",
      "999:\tlearn: 1564.5564131\ttest: 1632.7981156\tbest: 1632.7981156 (999)\ttotal: 3m 57s\tremaining: 47.5s\n",
      "1000:\tlearn: 1564.5205090\ttest: 1632.7988959\tbest: 1632.7981156 (999)\ttotal: 3m 57s\tremaining: 47.3s\n",
      "1001:\tlearn: 1564.3691199\ttest: 1632.7119251\tbest: 1632.7119251 (1001)\ttotal: 3m 58s\tremaining: 47s\n",
      "1002:\tlearn: 1564.2917146\ttest: 1632.6857913\tbest: 1632.6857913 (1002)\ttotal: 3m 58s\tremaining: 46.8s\n",
      "1003:\tlearn: 1564.1822925\ttest: 1632.6085557\tbest: 1632.6085557 (1003)\ttotal: 3m 58s\tremaining: 46.6s\n",
      "1004:\tlearn: 1564.0096275\ttest: 1632.5314663\tbest: 1632.5314663 (1004)\ttotal: 3m 58s\tremaining: 46.3s\n",
      "1005:\tlearn: 1563.8497773\ttest: 1632.4226449\tbest: 1632.4226449 (1005)\ttotal: 3m 59s\tremaining: 46.1s\n",
      "1006:\tlearn: 1563.7095279\ttest: 1632.3685649\tbest: 1632.3685649 (1006)\ttotal: 3m 59s\tremaining: 45.9s\n",
      "1007:\tlearn: 1563.6096358\ttest: 1632.3415746\tbest: 1632.3415746 (1007)\ttotal: 3m 59s\tremaining: 45.6s\n",
      "1008:\tlearn: 1563.4186135\ttest: 1632.2190522\tbest: 1632.2190522 (1008)\ttotal: 3m 59s\tremaining: 45.4s\n",
      "1009:\tlearn: 1563.3247585\ttest: 1632.1802855\tbest: 1632.1802855 (1009)\ttotal: 4m\tremaining: 45.2s\n",
      "1010:\tlearn: 1563.2652709\ttest: 1632.1240089\tbest: 1632.1240089 (1010)\ttotal: 4m\tremaining: 44.9s\n",
      "1011:\tlearn: 1563.1723627\ttest: 1632.1036696\tbest: 1632.1036696 (1011)\ttotal: 4m\tremaining: 44.7s\n",
      "1012:\tlearn: 1563.0486583\ttest: 1632.0536395\tbest: 1632.0536395 (1012)\ttotal: 4m\tremaining: 44.4s\n",
      "1013:\tlearn: 1563.0047228\ttest: 1632.0358019\tbest: 1632.0358019 (1013)\ttotal: 4m\tremaining: 44.2s\n",
      "1014:\tlearn: 1562.9717722\ttest: 1632.0186403\tbest: 1632.0186403 (1014)\ttotal: 4m 1s\tremaining: 44s\n",
      "1015:\tlearn: 1562.7961956\ttest: 1631.8869507\tbest: 1631.8869507 (1015)\ttotal: 4m 1s\tremaining: 43.7s\n",
      "1016:\tlearn: 1562.6408221\ttest: 1631.7599960\tbest: 1631.7599960 (1016)\ttotal: 4m 1s\tremaining: 43.5s\n",
      "1017:\tlearn: 1562.4380496\ttest: 1631.6427931\tbest: 1631.6427931 (1017)\ttotal: 4m 1s\tremaining: 43.3s\n",
      "1018:\tlearn: 1562.3003378\ttest: 1631.5655696\tbest: 1631.5655696 (1018)\ttotal: 4m 2s\tremaining: 43s\n",
      "1019:\tlearn: 1562.2715913\ttest: 1631.5578113\tbest: 1631.5578113 (1019)\ttotal: 4m 2s\tremaining: 42.8s\n",
      "1020:\tlearn: 1562.2351554\ttest: 1631.5305295\tbest: 1631.5305295 (1020)\ttotal: 4m 2s\tremaining: 42.5s\n",
      "1021:\tlearn: 1562.1292849\ttest: 1631.4759302\tbest: 1631.4759302 (1021)\ttotal: 4m 2s\tremaining: 42.3s\n",
      "1022:\tlearn: 1561.7975127\ttest: 1631.2994333\tbest: 1631.2994333 (1022)\ttotal: 4m 3s\tremaining: 42.1s\n",
      "1023:\tlearn: 1561.7637757\ttest: 1631.2700542\tbest: 1631.2700542 (1023)\ttotal: 4m 3s\tremaining: 41.8s\n",
      "1024:\tlearn: 1561.7285375\ttest: 1631.2438120\tbest: 1631.2438120 (1024)\ttotal: 4m 3s\tremaining: 41.6s\n",
      "1025:\tlearn: 1561.5575444\ttest: 1631.1602017\tbest: 1631.1602017 (1025)\ttotal: 4m 3s\tremaining: 41.3s\n",
      "1026:\tlearn: 1561.4310597\ttest: 1631.0767621\tbest: 1631.0767621 (1026)\ttotal: 4m 4s\tremaining: 41.1s\n",
      "1027:\tlearn: 1561.3302344\ttest: 1631.0163399\tbest: 1631.0163399 (1027)\ttotal: 4m 4s\tremaining: 40.9s\n",
      "1028:\tlearn: 1561.1878008\ttest: 1630.9439846\tbest: 1630.9439846 (1028)\ttotal: 4m 4s\tremaining: 40.6s\n",
      "1029:\tlearn: 1561.1591156\ttest: 1630.9373052\tbest: 1630.9373052 (1029)\ttotal: 4m 4s\tremaining: 40.4s\n",
      "1030:\tlearn: 1561.0819012\ttest: 1630.8790784\tbest: 1630.8790784 (1030)\ttotal: 4m 4s\tremaining: 40.2s\n",
      "1031:\tlearn: 1560.8729175\ttest: 1630.7616513\tbest: 1630.7616513 (1031)\ttotal: 4m 5s\tremaining: 39.9s\n",
      "1032:\tlearn: 1560.8307490\ttest: 1630.7462429\tbest: 1630.7462429 (1032)\ttotal: 4m 5s\tremaining: 39.7s\n",
      "1033:\tlearn: 1560.6368097\ttest: 1630.6412033\tbest: 1630.6412033 (1033)\ttotal: 4m 5s\tremaining: 39.5s\n",
      "1034:\tlearn: 1560.5573234\ttest: 1630.5820545\tbest: 1630.5820545 (1034)\ttotal: 4m 5s\tremaining: 39.2s\n",
      "1035:\tlearn: 1560.3910214\ttest: 1630.4555585\tbest: 1630.4555585 (1035)\ttotal: 4m 6s\tremaining: 39s\n",
      "1036:\tlearn: 1560.2942142\ttest: 1630.3948854\tbest: 1630.3948854 (1036)\ttotal: 4m 6s\tremaining: 38.7s\n",
      "1037:\tlearn: 1560.1522055\ttest: 1630.3084224\tbest: 1630.3084224 (1037)\ttotal: 4m 6s\tremaining: 38.5s\n",
      "1038:\tlearn: 1560.0901981\ttest: 1630.2967499\tbest: 1630.2967499 (1038)\ttotal: 4m 6s\tremaining: 38.3s\n",
      "1039:\tlearn: 1559.8868196\ttest: 1630.1996582\tbest: 1630.1996582 (1039)\ttotal: 4m 7s\tremaining: 38s\n",
      "1040:\tlearn: 1559.6652872\ttest: 1630.0595638\tbest: 1630.0595638 (1040)\ttotal: 4m 7s\tremaining: 37.8s\n",
      "1041:\tlearn: 1559.4542521\ttest: 1629.9147681\tbest: 1629.9147681 (1041)\ttotal: 4m 7s\tremaining: 37.5s\n",
      "1042:\tlearn: 1559.2041946\ttest: 1629.7674897\tbest: 1629.7674897 (1042)\ttotal: 4m 7s\tremaining: 37.3s\n",
      "1043:\tlearn: 1559.1228876\ttest: 1629.7581653\tbest: 1629.7581653 (1043)\ttotal: 4m 8s\tremaining: 37.1s\n",
      "1044:\tlearn: 1559.0629719\ttest: 1629.7457886\tbest: 1629.7457886 (1044)\ttotal: 4m 8s\tremaining: 36.8s\n",
      "1045:\tlearn: 1558.9165982\ttest: 1629.6840145\tbest: 1629.6840145 (1045)\ttotal: 4m 8s\tremaining: 36.6s\n",
      "1046:\tlearn: 1558.8868968\ttest: 1629.6886692\tbest: 1629.6840145 (1045)\ttotal: 4m 8s\tremaining: 36.4s\n",
      "1047:\tlearn: 1558.7335374\ttest: 1629.5617456\tbest: 1629.5617456 (1047)\ttotal: 4m 9s\tremaining: 36.1s\n",
      "1048:\tlearn: 1558.6652686\ttest: 1629.5304586\tbest: 1629.5304586 (1048)\ttotal: 4m 9s\tremaining: 35.9s\n",
      "1049:\tlearn: 1558.5946582\ttest: 1629.4780848\tbest: 1629.4780848 (1049)\ttotal: 4m 9s\tremaining: 35.6s\n",
      "1050:\tlearn: 1558.3905935\ttest: 1629.3944673\tbest: 1629.3944673 (1050)\ttotal: 4m 9s\tremaining: 35.4s\n",
      "1051:\tlearn: 1558.2546510\ttest: 1629.3067029\tbest: 1629.3067029 (1051)\ttotal: 4m 10s\tremaining: 35.2s\n",
      "1052:\tlearn: 1558.1302901\ttest: 1629.2191778\tbest: 1629.2191778 (1052)\ttotal: 4m 10s\tremaining: 34.9s\n",
      "1053:\tlearn: 1558.0669352\ttest: 1629.1791556\tbest: 1629.1791556 (1053)\ttotal: 4m 10s\tremaining: 34.7s\n",
      "1054:\tlearn: 1557.8978642\ttest: 1629.0777423\tbest: 1629.0777423 (1054)\ttotal: 4m 10s\tremaining: 34.5s\n",
      "1055:\tlearn: 1557.8593940\ttest: 1629.0478862\tbest: 1629.0478862 (1055)\ttotal: 4m 11s\tremaining: 34.2s\n",
      "1056:\tlearn: 1557.7902695\ttest: 1629.0265970\tbest: 1629.0265970 (1056)\ttotal: 4m 11s\tremaining: 34s\n",
      "1057:\tlearn: 1557.5196723\ttest: 1628.7742499\tbest: 1628.7742499 (1057)\ttotal: 4m 11s\tremaining: 33.8s\n",
      "1058:\tlearn: 1557.3678938\ttest: 1628.7271863\tbest: 1628.7271863 (1058)\ttotal: 4m 11s\tremaining: 33.5s\n",
      "1059:\tlearn: 1557.2900159\ttest: 1628.6795976\tbest: 1628.6795976 (1059)\ttotal: 4m 12s\tremaining: 33.3s\n",
      "1060:\tlearn: 1557.1995569\ttest: 1628.6184421\tbest: 1628.6184421 (1060)\ttotal: 4m 12s\tremaining: 33.1s\n",
      "1061:\tlearn: 1557.0470484\ttest: 1628.5555303\tbest: 1628.5555303 (1061)\ttotal: 4m 12s\tremaining: 32.8s\n",
      "1062:\tlearn: 1556.8497852\ttest: 1628.4488115\tbest: 1628.4488115 (1062)\ttotal: 4m 12s\tremaining: 32.6s\n",
      "1063:\tlearn: 1556.7109816\ttest: 1628.4065243\tbest: 1628.4065243 (1063)\ttotal: 4m 13s\tremaining: 32.3s\n",
      "1064:\tlearn: 1556.5359313\ttest: 1628.3198987\tbest: 1628.3198987 (1064)\ttotal: 4m 13s\tremaining: 32.1s\n",
      "1065:\tlearn: 1556.4320079\ttest: 1628.2356716\tbest: 1628.2356716 (1065)\ttotal: 4m 13s\tremaining: 31.9s\n",
      "1066:\tlearn: 1556.3199388\ttest: 1628.1600175\tbest: 1628.1600175 (1066)\ttotal: 4m 13s\tremaining: 31.6s\n",
      "1067:\tlearn: 1556.1072917\ttest: 1627.9999321\tbest: 1627.9999321 (1067)\ttotal: 4m 14s\tremaining: 31.4s\n",
      "1068:\tlearn: 1555.9235281\ttest: 1627.8956191\tbest: 1627.8956191 (1068)\ttotal: 4m 14s\tremaining: 31.2s\n",
      "1069:\tlearn: 1555.7445133\ttest: 1627.8113712\tbest: 1627.8113712 (1069)\ttotal: 4m 14s\tremaining: 30.9s\n",
      "1070:\tlearn: 1555.6585339\ttest: 1627.7646003\tbest: 1627.7646003 (1070)\ttotal: 4m 14s\tremaining: 30.7s\n",
      "1071:\tlearn: 1555.4267884\ttest: 1627.6420578\tbest: 1627.6420578 (1071)\ttotal: 4m 15s\tremaining: 30.4s\n",
      "1072:\tlearn: 1555.2937443\ttest: 1627.5510321\tbest: 1627.5510321 (1072)\ttotal: 4m 15s\tremaining: 30.2s\n",
      "1073:\tlearn: 1555.1194120\ttest: 1627.4311145\tbest: 1627.4311145 (1073)\ttotal: 4m 15s\tremaining: 30s\n",
      "1074:\tlearn: 1555.0702082\ttest: 1627.3946714\tbest: 1627.3946714 (1074)\ttotal: 4m 15s\tremaining: 29.7s\n",
      "1075:\tlearn: 1555.0173562\ttest: 1627.3664035\tbest: 1627.3664035 (1075)\ttotal: 4m 16s\tremaining: 29.5s\n",
      "1076:\tlearn: 1554.8624470\ttest: 1627.2724084\tbest: 1627.2724084 (1076)\ttotal: 4m 16s\tremaining: 29.3s\n",
      "1077:\tlearn: 1554.7349079\ttest: 1627.1945066\tbest: 1627.1945066 (1077)\ttotal: 4m 16s\tremaining: 29s\n",
      "1078:\tlearn: 1554.4611781\ttest: 1627.0318957\tbest: 1627.0318957 (1078)\ttotal: 4m 16s\tremaining: 28.8s\n",
      "1079:\tlearn: 1554.3247019\ttest: 1626.9491164\tbest: 1626.9491164 (1079)\ttotal: 4m 17s\tremaining: 28.6s\n",
      "1080:\tlearn: 1554.1253439\ttest: 1626.8519432\tbest: 1626.8519432 (1080)\ttotal: 4m 17s\tremaining: 28.3s\n",
      "1081:\tlearn: 1553.9944058\ttest: 1626.7680464\tbest: 1626.7680464 (1081)\ttotal: 4m 17s\tremaining: 28.1s\n",
      "1082:\tlearn: 1553.9349213\ttest: 1626.7580958\tbest: 1626.7580958 (1082)\ttotal: 4m 17s\tremaining: 27.8s\n",
      "1083:\tlearn: 1553.7717069\ttest: 1626.6824688\tbest: 1626.6824688 (1083)\ttotal: 4m 17s\tremaining: 27.6s\n",
      "1084:\tlearn: 1553.6277044\ttest: 1626.6117927\tbest: 1626.6117927 (1084)\ttotal: 4m 18s\tremaining: 27.4s\n",
      "1085:\tlearn: 1553.5276054\ttest: 1626.5314898\tbest: 1626.5314898 (1085)\ttotal: 4m 18s\tremaining: 27.1s\n",
      "1086:\tlearn: 1553.5114929\ttest: 1626.5152081\tbest: 1626.5152081 (1086)\ttotal: 4m 18s\tremaining: 26.9s\n",
      "1087:\tlearn: 1553.3825744\ttest: 1626.4839561\tbest: 1626.4839561 (1087)\ttotal: 4m 18s\tremaining: 26.7s\n",
      "1088:\tlearn: 1553.2455550\ttest: 1626.3944203\tbest: 1626.3944203 (1088)\ttotal: 4m 19s\tremaining: 26.4s\n",
      "1089:\tlearn: 1553.2218202\ttest: 1626.3921178\tbest: 1626.3921178 (1089)\ttotal: 4m 19s\tremaining: 26.2s\n",
      "1090:\tlearn: 1553.1096091\ttest: 1626.3536170\tbest: 1626.3536170 (1090)\ttotal: 4m 19s\tremaining: 25.9s\n",
      "1091:\tlearn: 1553.0520098\ttest: 1626.3486994\tbest: 1626.3486994 (1091)\ttotal: 4m 19s\tremaining: 25.7s\n",
      "1092:\tlearn: 1552.9111906\ttest: 1626.3145493\tbest: 1626.3145493 (1092)\ttotal: 4m 20s\tremaining: 25.5s\n",
      "1093:\tlearn: 1552.7501710\ttest: 1626.2320547\tbest: 1626.2320547 (1093)\ttotal: 4m 20s\tremaining: 25.2s\n",
      "1094:\tlearn: 1552.7115940\ttest: 1626.2197995\tbest: 1626.2197995 (1094)\ttotal: 4m 20s\tremaining: 25s\n",
      "1095:\tlearn: 1552.6750944\ttest: 1626.2065350\tbest: 1626.2065350 (1095)\ttotal: 4m 20s\tremaining: 24.8s\n",
      "1096:\tlearn: 1552.5141925\ttest: 1626.1257658\tbest: 1626.1257658 (1096)\ttotal: 4m 21s\tremaining: 24.5s\n",
      "1097:\tlearn: 1552.3530765\ttest: 1626.0776971\tbest: 1626.0776971 (1097)\ttotal: 4m 21s\tremaining: 24.3s\n",
      "1098:\tlearn: 1552.2931164\ttest: 1626.0571853\tbest: 1626.0571853 (1098)\ttotal: 4m 21s\tremaining: 24s\n",
      "1099:\tlearn: 1552.1790852\ttest: 1626.0288220\tbest: 1626.0288220 (1099)\ttotal: 4m 21s\tremaining: 23.8s\n",
      "1100:\tlearn: 1552.0409706\ttest: 1625.9536976\tbest: 1625.9536976 (1100)\ttotal: 4m 22s\tremaining: 23.6s\n",
      "1101:\tlearn: 1551.9461594\ttest: 1625.8897214\tbest: 1625.8897214 (1101)\ttotal: 4m 22s\tremaining: 23.3s\n",
      "1102:\tlearn: 1551.7924858\ttest: 1625.7997936\tbest: 1625.7997936 (1102)\ttotal: 4m 22s\tremaining: 23.1s\n",
      "1103:\tlearn: 1551.6831976\ttest: 1625.7756535\tbest: 1625.7756535 (1103)\ttotal: 4m 22s\tremaining: 22.9s\n",
      "1104:\tlearn: 1551.3843813\ttest: 1625.5906971\tbest: 1625.5906971 (1104)\ttotal: 4m 23s\tremaining: 22.6s\n",
      "1105:\tlearn: 1551.1198376\ttest: 1625.4249092\tbest: 1625.4249092 (1105)\ttotal: 4m 23s\tremaining: 22.4s\n",
      "1106:\tlearn: 1550.9404327\ttest: 1625.2900886\tbest: 1625.2900886 (1106)\ttotal: 4m 23s\tremaining: 22.1s\n",
      "1107:\tlearn: 1550.8626894\ttest: 1625.2607588\tbest: 1625.2607588 (1107)\ttotal: 4m 23s\tremaining: 21.9s\n",
      "1108:\tlearn: 1550.7324960\ttest: 1625.2116934\tbest: 1625.2116934 (1108)\ttotal: 4m 24s\tremaining: 21.7s\n",
      "1109:\tlearn: 1550.5988769\ttest: 1625.1392003\tbest: 1625.1392003 (1109)\ttotal: 4m 24s\tremaining: 21.4s\n",
      "1110:\tlearn: 1550.4688218\ttest: 1625.0416328\tbest: 1625.0416328 (1110)\ttotal: 4m 24s\tremaining: 21.2s\n",
      "1111:\tlearn: 1550.4145050\ttest: 1625.0395735\tbest: 1625.0395735 (1111)\ttotal: 4m 24s\tremaining: 21s\n",
      "1112:\tlearn: 1550.3235427\ttest: 1624.9851932\tbest: 1624.9851932 (1112)\ttotal: 4m 25s\tremaining: 20.7s\n",
      "1113:\tlearn: 1550.2425972\ttest: 1624.9580614\tbest: 1624.9580614 (1113)\ttotal: 4m 25s\tremaining: 20.5s\n",
      "1114:\tlearn: 1550.0789401\ttest: 1624.8747465\tbest: 1624.8747465 (1114)\ttotal: 4m 25s\tremaining: 20.3s\n",
      "1115:\tlearn: 1549.9849009\ttest: 1624.8651143\tbest: 1624.8651143 (1115)\ttotal: 4m 25s\tremaining: 20s\n",
      "1116:\tlearn: 1549.9596307\ttest: 1624.8592742\tbest: 1624.8592742 (1116)\ttotal: 4m 26s\tremaining: 19.8s\n",
      "1117:\tlearn: 1549.8375371\ttest: 1624.7839105\tbest: 1624.7839105 (1117)\ttotal: 4m 26s\tremaining: 19.5s\n",
      "1118:\tlearn: 1549.7243598\ttest: 1624.7344918\tbest: 1624.7344918 (1118)\ttotal: 4m 26s\tremaining: 19.3s\n",
      "1119:\tlearn: 1549.6356526\ttest: 1624.7028564\tbest: 1624.7028564 (1119)\ttotal: 4m 26s\tremaining: 19.1s\n",
      "1120:\tlearn: 1549.5783348\ttest: 1624.6693407\tbest: 1624.6693407 (1120)\ttotal: 4m 27s\tremaining: 18.8s\n",
      "1121:\tlearn: 1549.5155970\ttest: 1624.6500673\tbest: 1624.6500673 (1121)\ttotal: 4m 27s\tremaining: 18.6s\n",
      "1122:\tlearn: 1549.4309739\ttest: 1624.6028760\tbest: 1624.6028760 (1122)\ttotal: 4m 27s\tremaining: 18.4s\n",
      "1123:\tlearn: 1549.2556319\ttest: 1624.5373617\tbest: 1624.5373617 (1123)\ttotal: 4m 28s\tremaining: 18.1s\n",
      "1124:\tlearn: 1549.0284699\ttest: 1624.4331928\tbest: 1624.4331928 (1124)\ttotal: 4m 28s\tremaining: 17.9s\n",
      "1125:\tlearn: 1548.8791081\ttest: 1624.3524744\tbest: 1624.3524744 (1125)\ttotal: 4m 28s\tremaining: 17.6s\n",
      "1126:\tlearn: 1548.8034234\ttest: 1624.3192609\tbest: 1624.3192609 (1126)\ttotal: 4m 28s\tremaining: 17.4s\n",
      "1127:\tlearn: 1548.7227817\ttest: 1624.2945993\tbest: 1624.2945993 (1127)\ttotal: 4m 28s\tremaining: 17.2s\n",
      "1128:\tlearn: 1548.6780776\ttest: 1624.3035286\tbest: 1624.2945993 (1127)\ttotal: 4m 29s\tremaining: 16.9s\n",
      "1129:\tlearn: 1548.6390615\ttest: 1624.2799943\tbest: 1624.2799943 (1129)\ttotal: 4m 29s\tremaining: 16.7s\n",
      "1130:\tlearn: 1548.5604631\ttest: 1624.2032165\tbest: 1624.2032165 (1130)\ttotal: 4m 29s\tremaining: 16.5s\n",
      "1131:\tlearn: 1548.4447684\ttest: 1624.1612039\tbest: 1624.1612039 (1131)\ttotal: 4m 29s\tremaining: 16.2s\n",
      "1132:\tlearn: 1548.3261001\ttest: 1624.0819179\tbest: 1624.0819179 (1132)\ttotal: 4m 30s\tremaining: 16s\n",
      "1133:\tlearn: 1548.2641947\ttest: 1624.0571029\tbest: 1624.0571029 (1133)\ttotal: 4m 30s\tremaining: 15.7s\n",
      "1134:\tlearn: 1548.1025965\ttest: 1623.9591134\tbest: 1623.9591134 (1134)\ttotal: 4m 30s\tremaining: 15.5s\n",
      "1135:\tlearn: 1547.9430934\ttest: 1623.8903086\tbest: 1623.8903086 (1135)\ttotal: 4m 30s\tremaining: 15.3s\n",
      "1136:\tlearn: 1547.7425449\ttest: 1623.7688833\tbest: 1623.7688833 (1136)\ttotal: 4m 31s\tremaining: 15s\n",
      "1137:\tlearn: 1547.6562575\ttest: 1623.7167191\tbest: 1623.7167191 (1137)\ttotal: 4m 31s\tremaining: 14.8s\n",
      "1138:\tlearn: 1547.5761781\ttest: 1623.6976813\tbest: 1623.6976813 (1138)\ttotal: 4m 31s\tremaining: 14.5s\n",
      "1139:\tlearn: 1547.4552211\ttest: 1623.6284968\tbest: 1623.6284968 (1139)\ttotal: 4m 31s\tremaining: 14.3s\n",
      "1140:\tlearn: 1547.3662445\ttest: 1623.5779950\tbest: 1623.5779950 (1140)\ttotal: 4m 32s\tremaining: 14.1s\n",
      "1141:\tlearn: 1547.2646239\ttest: 1623.5795133\tbest: 1623.5779950 (1140)\ttotal: 4m 32s\tremaining: 13.8s\n",
      "1142:\tlearn: 1547.1956054\ttest: 1623.5510522\tbest: 1623.5510522 (1142)\ttotal: 4m 32s\tremaining: 13.6s\n",
      "1143:\tlearn: 1547.0748424\ttest: 1623.5016365\tbest: 1623.5016365 (1143)\ttotal: 4m 32s\tremaining: 13.3s\n",
      "1144:\tlearn: 1546.9886622\ttest: 1623.4791131\tbest: 1623.4791131 (1144)\ttotal: 4m 32s\tremaining: 13.1s\n",
      "1145:\tlearn: 1546.7620468\ttest: 1623.3605753\tbest: 1623.3605753 (1145)\ttotal: 4m 33s\tremaining: 12.9s\n",
      "1146:\tlearn: 1546.5512883\ttest: 1623.3059314\tbest: 1623.3059314 (1146)\ttotal: 4m 33s\tremaining: 12.6s\n",
      "1147:\tlearn: 1546.4105818\ttest: 1623.2596154\tbest: 1623.2596154 (1147)\ttotal: 4m 33s\tremaining: 12.4s\n",
      "1148:\tlearn: 1546.3659615\ttest: 1623.2389190\tbest: 1623.2389190 (1148)\ttotal: 4m 33s\tremaining: 12.2s\n",
      "1149:\tlearn: 1546.3122803\ttest: 1623.2023447\tbest: 1623.2023447 (1149)\ttotal: 4m 34s\tremaining: 11.9s\n",
      "1150:\tlearn: 1546.2595359\ttest: 1623.1899938\tbest: 1623.1899938 (1150)\ttotal: 4m 34s\tremaining: 11.7s\n",
      "1151:\tlearn: 1546.0274613\ttest: 1623.0904969\tbest: 1623.0904969 (1151)\ttotal: 4m 34s\tremaining: 11.4s\n",
      "1152:\tlearn: 1545.8979882\ttest: 1623.0519530\tbest: 1623.0519530 (1152)\ttotal: 4m 34s\tremaining: 11.2s\n",
      "1153:\tlearn: 1545.6563620\ttest: 1622.9087170\tbest: 1622.9087170 (1153)\ttotal: 4m 35s\tremaining: 11s\n",
      "1154:\tlearn: 1545.6088474\ttest: 1622.8887312\tbest: 1622.8887312 (1154)\ttotal: 4m 35s\tremaining: 10.7s\n",
      "1155:\tlearn: 1545.4668048\ttest: 1622.8104042\tbest: 1622.8104042 (1155)\ttotal: 4m 35s\tremaining: 10.5s\n",
      "1156:\tlearn: 1545.3248028\ttest: 1622.7007653\tbest: 1622.7007653 (1156)\ttotal: 4m 35s\tremaining: 10.3s\n",
      "1157:\tlearn: 1545.1243932\ttest: 1622.5942555\tbest: 1622.5942555 (1157)\ttotal: 4m 36s\tremaining: 10s\n",
      "1158:\tlearn: 1544.8619161\ttest: 1622.4116414\tbest: 1622.4116414 (1158)\ttotal: 4m 36s\tremaining: 9.78s\n",
      "1159:\tlearn: 1544.7958890\ttest: 1622.3840563\tbest: 1622.3840563 (1159)\ttotal: 4m 36s\tremaining: 9.54s\n",
      "1160:\tlearn: 1544.6626551\ttest: 1622.2932404\tbest: 1622.2932404 (1160)\ttotal: 4m 36s\tremaining: 9.3s\n",
      "1161:\tlearn: 1544.6400601\ttest: 1622.2956246\tbest: 1622.2932404 (1160)\ttotal: 4m 37s\tremaining: 9.06s\n",
      "1162:\tlearn: 1544.5301043\ttest: 1622.2437344\tbest: 1622.2437344 (1162)\ttotal: 4m 37s\tremaining: 8.82s\n",
      "1163:\tlearn: 1544.3948249\ttest: 1622.1913248\tbest: 1622.1913248 (1163)\ttotal: 4m 37s\tremaining: 8.59s\n",
      "1164:\tlearn: 1544.3101282\ttest: 1622.1443311\tbest: 1622.1443311 (1164)\ttotal: 4m 37s\tremaining: 8.35s\n",
      "1165:\tlearn: 1544.1677819\ttest: 1622.0849373\tbest: 1622.0849373 (1165)\ttotal: 4m 38s\tremaining: 8.11s\n",
      "1166:\tlearn: 1544.1339353\ttest: 1622.0729083\tbest: 1622.0729083 (1166)\ttotal: 4m 38s\tremaining: 7.87s\n",
      "1167:\tlearn: 1544.0479272\ttest: 1622.0613409\tbest: 1622.0613409 (1167)\ttotal: 4m 38s\tremaining: 7.63s\n",
      "1168:\tlearn: 1543.9674552\ttest: 1622.0191721\tbest: 1622.0191721 (1168)\ttotal: 4m 38s\tremaining: 7.39s\n",
      "1169:\tlearn: 1543.8845682\ttest: 1621.9870459\tbest: 1621.9870459 (1169)\ttotal: 4m 39s\tremaining: 7.16s\n",
      "1170:\tlearn: 1543.8002847\ttest: 1621.9490750\tbest: 1621.9490750 (1170)\ttotal: 4m 39s\tremaining: 6.92s\n",
      "1171:\tlearn: 1543.6689352\ttest: 1621.8364368\tbest: 1621.8364368 (1171)\ttotal: 4m 39s\tremaining: 6.68s\n",
      "1172:\tlearn: 1543.6154814\ttest: 1621.8281868\tbest: 1621.8281868 (1172)\ttotal: 4m 39s\tremaining: 6.44s\n",
      "1173:\tlearn: 1543.5496204\ttest: 1621.7942016\tbest: 1621.7942016 (1173)\ttotal: 4m 40s\tremaining: 6.2s\n",
      "1174:\tlearn: 1543.4097909\ttest: 1621.7230948\tbest: 1621.7230948 (1174)\ttotal: 4m 40s\tremaining: 5.96s\n",
      "1175:\tlearn: 1543.2454214\ttest: 1621.6433616\tbest: 1621.6433616 (1175)\ttotal: 4m 40s\tremaining: 5.72s\n",
      "1176:\tlearn: 1543.0750912\ttest: 1621.5439947\tbest: 1621.5439947 (1176)\ttotal: 4m 40s\tremaining: 5.49s\n",
      "1177:\tlearn: 1543.0292344\ttest: 1621.5174028\tbest: 1621.5174028 (1177)\ttotal: 4m 41s\tremaining: 5.25s\n",
      "1178:\tlearn: 1542.9641718\ttest: 1621.4875037\tbest: 1621.4875037 (1178)\ttotal: 4m 41s\tremaining: 5.01s\n",
      "1179:\tlearn: 1542.9111301\ttest: 1621.4420330\tbest: 1621.4420330 (1179)\ttotal: 4m 41s\tremaining: 4.77s\n",
      "1180:\tlearn: 1542.7362369\ttest: 1621.3425966\tbest: 1621.3425966 (1180)\ttotal: 4m 41s\tremaining: 4.53s\n",
      "1181:\tlearn: 1542.6545942\ttest: 1621.2975807\tbest: 1621.2975807 (1181)\ttotal: 4m 42s\tremaining: 4.29s\n",
      "1182:\tlearn: 1542.4772504\ttest: 1621.1981458\tbest: 1621.1981458 (1182)\ttotal: 4m 42s\tremaining: 4.06s\n",
      "1183:\tlearn: 1542.3282161\ttest: 1621.0889040\tbest: 1621.0889040 (1183)\ttotal: 4m 42s\tremaining: 3.82s\n",
      "1184:\tlearn: 1542.2356529\ttest: 1621.0418050\tbest: 1621.0418050 (1184)\ttotal: 4m 42s\tremaining: 3.58s\n",
      "1185:\tlearn: 1542.2172596\ttest: 1621.0391925\tbest: 1621.0391925 (1185)\ttotal: 4m 43s\tremaining: 3.34s\n",
      "1186:\tlearn: 1542.0435274\ttest: 1620.9454422\tbest: 1620.9454422 (1186)\ttotal: 4m 43s\tremaining: 3.1s\n",
      "1187:\tlearn: 1541.8978378\ttest: 1620.8766317\tbest: 1620.8766317 (1187)\ttotal: 4m 43s\tremaining: 2.86s\n",
      "1188:\tlearn: 1541.7854997\ttest: 1620.8148976\tbest: 1620.8148976 (1188)\ttotal: 4m 43s\tremaining: 2.63s\n",
      "1189:\tlearn: 1541.7157294\ttest: 1620.7940178\tbest: 1620.7940178 (1189)\ttotal: 4m 44s\tremaining: 2.39s\n",
      "1190:\tlearn: 1541.6980633\ttest: 1620.7918555\tbest: 1620.7918555 (1190)\ttotal: 4m 44s\tremaining: 2.15s\n",
      "1191:\tlearn: 1541.5472444\ttest: 1620.7026055\tbest: 1620.7026055 (1191)\ttotal: 4m 44s\tremaining: 1.91s\n",
      "1192:\tlearn: 1541.4751584\ttest: 1620.6704208\tbest: 1620.6704208 (1192)\ttotal: 4m 44s\tremaining: 1.67s\n",
      "1193:\tlearn: 1541.3723122\ttest: 1620.6500845\tbest: 1620.6500845 (1193)\ttotal: 4m 44s\tremaining: 1.43s\n",
      "1194:\tlearn: 1541.2889087\ttest: 1620.6190582\tbest: 1620.6190582 (1194)\ttotal: 4m 45s\tremaining: 1.19s\n",
      "1195:\tlearn: 1541.1916140\ttest: 1620.5885765\tbest: 1620.5885765 (1195)\ttotal: 4m 45s\tremaining: 955ms\n",
      "1196:\tlearn: 1541.1461502\ttest: 1620.5750942\tbest: 1620.5750942 (1196)\ttotal: 4m 45s\tremaining: 716ms\n",
      "1197:\tlearn: 1541.0930041\ttest: 1620.5630901\tbest: 1620.5630901 (1197)\ttotal: 4m 45s\tremaining: 477ms\n",
      "1198:\tlearn: 1540.9388367\ttest: 1620.4588089\tbest: 1620.4588089 (1198)\ttotal: 4m 46s\tremaining: 239ms\n",
      "1199:\tlearn: 1540.8774066\ttest: 1620.4308980\tbest: 1620.4308980 (1199)\ttotal: 4m 46s\tremaining: 0us\n",
      "\n",
      "bestTest = 1620.430898\n",
      "bestIteration = 1199\n",
      "\n",
      "Wall time: 14min 25s\n"
     ]
    }
   ],
   "source": [
    "%%time\n",
    "cv_cat_ord = cv(pool,\n",
    "                params_cat)"
   ]
  },
  {
   "cell_type": "code",
   "execution_count": 109,
   "metadata": {
    "colab": {
     "base_uri": "https://localhost:8080/"
    },
    "id": "bxxzCnLrWm8l",
    "outputId": "36efaf45-cbb5-4734-b2b3-75a1e3b0f6ee"
   },
   "outputs": [
    {
     "name": "stdout",
     "output_type": "stream",
     "text": [
      "RMSE модели CatboostRegressor после кросс-валидации: 1625.35\n"
     ]
    }
   ],
   "source": [
    "print(f'RMSE модели CatboostRegressor после кросс-валидации:', round(cv_cat_ord['test-RMSE-mean'].min(), 2))"
   ]
  },
  {
   "cell_type": "code",
   "execution_count": 110,
   "metadata": {
    "id": "rTur99bkY72z"
   },
   "outputs": [],
   "source": [
    "final_data = pd.DataFrame({'model': ['lr', 'lr_cv', 'dt'],\n",
    "                           'rmse_ord' : [rmse_lr_ord, cv_lr_ord*-1, rmse_tree_ord],\n",
    "                           'rmse_ohe': [rmse_lr_ohe, cv_lr_ohe*-1, rmse_tree_ohe],\n",
    "                           'time_fit_pred_ord': ['0.142/0.0127', 0.884, '0.457/0.0449'],\n",
    "                           'time_fit_pred_ohe': ['15.3/0.209', 38.5, '3.54/0.246']\n",
    "                           })"
   ]
  },
  {
   "cell_type": "code",
   "execution_count": 111,
   "metadata": {},
   "outputs": [],
   "source": [
    "booster_data = pd.DataFrame({'model': ['LightGbm', 'CatBoost'], \n",
    "                 'rmse': [rmse_lgb, rmse_cat],\n",
    "                 'time_fit_pred': ['468/3.38', '536/2.64']})"
   ]
  },
  {
   "cell_type": "markdown",
   "metadata": {
    "id": "pT6YqdM4bUL3"
   },
   "source": [
    "# Вывод:  \n",
    "(время указано в секундах)"
   ]
  },
  {
   "cell_type": "code",
   "execution_count": 112,
   "metadata": {
    "colab": {
     "base_uri": "https://localhost:8080/",
     "height": 300
    },
    "id": "HWezrb-zgNz2",
    "outputId": "2bc13b6e-43d4-40c3-9adc-f356d069ce61"
   },
   "outputs": [
    {
     "data": {
      "text/html": [
       "<div>\n",
       "<style scoped>\n",
       "    .dataframe tbody tr th:only-of-type {\n",
       "        vertical-align: middle;\n",
       "    }\n",
       "\n",
       "    .dataframe tbody tr th {\n",
       "        vertical-align: top;\n",
       "    }\n",
       "\n",
       "    .dataframe thead th {\n",
       "        text-align: right;\n",
       "    }\n",
       "</style>\n",
       "<table border=\"1\" class=\"dataframe\">\n",
       "  <thead>\n",
       "    <tr style=\"text-align: right;\">\n",
       "      <th></th>\n",
       "      <th>model</th>\n",
       "      <th>rmse_ord</th>\n",
       "      <th>rmse_ohe</th>\n",
       "      <th>time_fit_pred_ord</th>\n",
       "      <th>time_fit_pred_ohe</th>\n",
       "    </tr>\n",
       "  </thead>\n",
       "  <tbody>\n",
       "    <tr>\n",
       "      <th>0</th>\n",
       "      <td>lr</td>\n",
       "      <td>3055.651158</td>\n",
       "      <td>2686.720658</td>\n",
       "      <td>0.142/0.0127</td>\n",
       "      <td>15.3/0.209</td>\n",
       "    </tr>\n",
       "    <tr>\n",
       "      <th>1</th>\n",
       "      <td>lr_cv</td>\n",
       "      <td>3056.192542</td>\n",
       "      <td>2690.983311</td>\n",
       "      <td>0.884</td>\n",
       "      <td>38.5</td>\n",
       "    </tr>\n",
       "    <tr>\n",
       "      <th>2</th>\n",
       "      <td>dt</td>\n",
       "      <td>2593.857414</td>\n",
       "      <td>2593.857414</td>\n",
       "      <td>0.457/0.0449</td>\n",
       "      <td>3.54/0.246</td>\n",
       "    </tr>\n",
       "  </tbody>\n",
       "</table>\n",
       "</div>"
      ],
      "text/plain": [
       "   model     rmse_ord     rmse_ohe time_fit_pred_ord time_fit_pred_ohe\n",
       "0     lr  3055.651158  2686.720658      0.142/0.0127        15.3/0.209\n",
       "1  lr_cv  3056.192542  2690.983311             0.884              38.5\n",
       "2     dt  2593.857414  2593.857414      0.457/0.0449        3.54/0.246"
      ]
     },
     "execution_count": 112,
     "metadata": {},
     "output_type": "execute_result"
    }
   ],
   "source": [
    "final_data"
   ]
  },
  {
   "cell_type": "code",
   "execution_count": 113,
   "metadata": {},
   "outputs": [
    {
     "data": {
      "text/html": [
       "<div>\n",
       "<style scoped>\n",
       "    .dataframe tbody tr th:only-of-type {\n",
       "        vertical-align: middle;\n",
       "    }\n",
       "\n",
       "    .dataframe tbody tr th {\n",
       "        vertical-align: top;\n",
       "    }\n",
       "\n",
       "    .dataframe thead th {\n",
       "        text-align: right;\n",
       "    }\n",
       "</style>\n",
       "<table border=\"1\" class=\"dataframe\">\n",
       "  <thead>\n",
       "    <tr style=\"text-align: right;\">\n",
       "      <th></th>\n",
       "      <th>model</th>\n",
       "      <th>rmse</th>\n",
       "      <th>time_fit_pred</th>\n",
       "    </tr>\n",
       "  </thead>\n",
       "  <tbody>\n",
       "    <tr>\n",
       "      <th>0</th>\n",
       "      <td>LightGbm</td>\n",
       "      <td>1560.819739</td>\n",
       "      <td>468/3.38</td>\n",
       "    </tr>\n",
       "    <tr>\n",
       "      <th>1</th>\n",
       "      <td>CatBoost</td>\n",
       "      <td>1547.083224</td>\n",
       "      <td>536/2.64</td>\n",
       "    </tr>\n",
       "  </tbody>\n",
       "</table>\n",
       "</div>"
      ],
      "text/plain": [
       "      model         rmse time_fit_pred\n",
       "0  LightGbm  1560.819739      468/3.38\n",
       "1  CatBoost  1547.083224      536/2.64"
      ]
     },
     "execution_count": 113,
     "metadata": {},
     "output_type": "execute_result"
    }
   ],
   "source": [
    "booster_data"
   ]
  },
  {
   "cell_type": "markdown",
   "metadata": {
    "id": "fRWVlP38mwz2"
   },
   "source": [
    "Минимальный показатель RMSE у модели CatBoost и LightGBM, но время обучения значительно выше, чем у линейной регрессии и дерева решений. Протестируем обе модели на тестовой выборке и определим наилучший результат."
   ]
  },
  {
   "cell_type": "markdown",
   "metadata": {
    "id": "HteteAkBkxRl"
   },
   "source": [
    "## Тестирование модели"
   ]
  },
  {
   "cell_type": "markdown",
   "metadata": {},
   "source": [
    "### LightGBM"
   ]
  },
  {
   "cell_type": "code",
   "execution_count": 114,
   "metadata": {
    "colab": {
     "base_uri": "https://localhost:8080/"
    },
    "id": "FB3ZRLhrk5S-",
    "outputId": "52fed297-e7ef-4759-857c-308fe6b06d7e"
   },
   "outputs": [
    {
     "name": "stdout",
     "output_type": "stream",
     "text": [
      "Wall time: 275 ms\n"
     ]
    }
   ],
   "source": [
    "%%time\n",
    "pred_final_lgb = model_lgb.predict(features_test_cat)"
   ]
  },
  {
   "cell_type": "code",
   "execution_count": 115,
   "metadata": {
    "colab": {
     "base_uri": "https://localhost:8080/"
    },
    "id": "z1GqLG4_lUbw",
    "outputId": "61430e35-db1d-4dda-f47b-3fa5a82f589f",
    "scrolled": true
   },
   "outputs": [
    {
     "name": "stdout",
     "output_type": "stream",
     "text": [
      "RMSE модели LightGBM на тестовой выборке: 1618.45\n"
     ]
    }
   ],
   "source": [
    "rmse_final_lgb = mean_squared_error(target_test_cat, pred_final_lgb)**0.5\n",
    "print(f'RMSE модели LightGBM на тестовой выборке: {rmse_final_lgb:.2f}')"
   ]
  },
  {
   "cell_type": "markdown",
   "metadata": {},
   "source": [
    "### Catboost"
   ]
  },
  {
   "cell_type": "code",
   "execution_count": 116,
   "metadata": {},
   "outputs": [
    {
     "name": "stdout",
     "output_type": "stream",
     "text": [
      "Wall time: 493 ms\n"
     ]
    }
   ],
   "source": [
    "%%time\n",
    "pred_final_cat = model_cat.predict(features_test_cat)"
   ]
  },
  {
   "cell_type": "code",
   "execution_count": 117,
   "metadata": {},
   "outputs": [
    {
     "name": "stdout",
     "output_type": "stream",
     "text": [
      "RMSE модели CatBoost на тестовой выборке: 1619.36\n"
     ]
    }
   ],
   "source": [
    "rmse_final_cat = mean_squared_error(target_test_cat, pred_final_cat)**0.5\n",
    "print(f'RMSE модели CatBoost на тестовой выборке: {rmse_final_cat:.2f}')"
   ]
  },
  {
   "cell_type": "markdown",
   "metadata": {
    "id": "Mi7jI7PYoR_5"
   },
   "source": [
    "# Итог: \n",
    "\n",
    "1. Загружена таблица размером 354369 строк и 16 столбцов из которых 7 типа int и 9 типа object. В столбцах `vehicle_type`, `gearbox`, `model`, `fuel_type`, `repaired` присутствует значительное количество пропусков. Также в датафрейме имеется 4 дубликата. Признаки `price`, `registration_year` и `power` имеют выбросы.  \n",
    "2. Т.к. в столбцах `vehicle_type`, `model` и `fuel_type` присутствует категория other, то к ней мы отнесем и пропуски в данных столбцах. А пропуски в `gearbox` и `not_repaired` заполнили значение unknown. Образование пропусков как и значения 0 в столбце `registration_month` вероятней всего связаны незаполнением данных граф в анкете при регистрации объявления.  \n",
    "3. Минимальная мощность автомобиля состаляет 4.2 л.с., а максимально возможная 1500 л.с. Следовательно в столбце `power` значения, которые менее 4.2 л.с. (40308 шт.) заполним медианным значением, сгруппированным по марке, модели и году регистрации (в разные года у одних и тех же моделей может меняться двигатель). После этого избавимся от выбросов, которые меньше 4.2 и больше 1500.  \n",
    "4. Год создания первого серийного автомобиля 1885, а максимальная дата размещения объявления 07.04.2016г. Соответственно все значения, которые меньше 1885 и больше или равно 2016 в столбце `registration_year` удалим, чтобы не исказить результаты дальнейшего исследования. Тоже самое сделаем и с нулевыми значениями в столбце `price`  \n",
    "5. Столбцы `date_crawled`, `last_seen`, `number_of_pictures` и `date_created` не несут како-либо важной информации поэтому избавились от них.  \n",
    "6. В результате обучения 4-х моделей с разными параметрами и применением разной техики кодирования данных, минимальный показатель RMSE выдали модели CatBoost и LightGBM.  \n",
    "7. После тестирования, обе модели показали схожий результат, но время обучения ниже у модели LightGBM. Соответственно, данная модель наилучшим образом подходит для эффективной работы приложения, определяющего стоимость автомобилей."
   ]
  }
 ],
 "metadata": {
  "ExecuteTimeLog": [
   {
    "duration": 2299,
    "start_time": "2022-06-01T13:22:50.216Z"
   },
   {
    "duration": 1510,
    "start_time": "2022-06-01T13:22:52.518Z"
   },
   {
    "duration": 1079,
    "start_time": "2022-06-01T13:22:54.030Z"
   },
   {
    "duration": 4,
    "start_time": "2022-06-01T13:22:55.111Z"
   },
   {
    "duration": 794,
    "start_time": "2022-06-01T13:22:55.116Z"
   },
   {
    "duration": 5,
    "start_time": "2022-06-01T13:22:55.912Z"
   },
   {
    "duration": 31,
    "start_time": "2022-06-01T13:22:55.918Z"
   },
   {
    "duration": 225,
    "start_time": "2022-06-01T13:22:55.952Z"
   },
   {
    "duration": 280,
    "start_time": "2022-06-01T13:22:56.179Z"
   },
   {
    "duration": 110,
    "start_time": "2022-06-01T13:22:56.463Z"
   },
   {
    "duration": 59,
    "start_time": "2022-06-01T13:22:56.575Z"
   },
   {
    "duration": 30,
    "start_time": "2022-06-01T13:22:56.636Z"
   },
   {
    "duration": 34,
    "start_time": "2022-06-01T13:22:56.667Z"
   },
   {
    "duration": 45,
    "start_time": "2022-06-01T13:22:56.703Z"
   },
   {
    "duration": 87,
    "start_time": "2022-06-01T13:22:56.750Z"
   },
   {
    "duration": 108,
    "start_time": "2022-06-01T13:22:56.839Z"
   },
   {
    "duration": 20,
    "start_time": "2022-06-01T13:22:56.949Z"
   },
   {
    "duration": 112,
    "start_time": "2022-06-01T13:22:56.971Z"
   },
   {
    "duration": 84,
    "start_time": "2022-06-01T13:22:57.084Z"
   },
   {
    "duration": 22,
    "start_time": "2022-06-01T13:22:57.170Z"
   },
   {
    "duration": 34,
    "start_time": "2022-06-01T13:22:57.193Z"
   },
   {
    "duration": 73,
    "start_time": "2022-06-01T13:22:57.229Z"
   },
   {
    "duration": 31,
    "start_time": "2022-06-01T13:22:57.303Z"
   },
   {
    "duration": 12,
    "start_time": "2022-06-01T13:22:57.336Z"
   },
   {
    "duration": 50,
    "start_time": "2022-06-01T13:22:57.349Z"
   },
   {
    "duration": 450,
    "start_time": "2022-06-01T13:22:57.401Z"
   },
   {
    "duration": 347,
    "start_time": "2022-06-01T13:22:57.853Z"
   },
   {
    "duration": 7,
    "start_time": "2022-06-01T13:22:58.204Z"
   },
   {
    "duration": 17,
    "start_time": "2022-06-01T13:22:58.212Z"
   },
   {
    "duration": 36,
    "start_time": "2022-06-01T13:22:58.231Z"
   },
   {
    "duration": 11,
    "start_time": "2022-06-01T13:22:58.269Z"
   },
   {
    "duration": 82,
    "start_time": "2022-06-01T13:22:58.282Z"
   },
   {
    "duration": 32,
    "start_time": "2022-06-01T13:22:58.366Z"
   },
   {
    "duration": 4,
    "start_time": "2022-06-01T13:22:58.399Z"
   },
   {
    "duration": 44,
    "start_time": "2022-06-01T13:22:58.404Z"
   },
   {
    "duration": 2,
    "start_time": "2022-06-01T13:22:58.450Z"
   },
   {
    "duration": 474,
    "start_time": "2022-06-01T13:22:58.454Z"
   },
   {
    "duration": 15,
    "start_time": "2022-06-01T13:22:58.930Z"
   },
   {
    "duration": 27,
    "start_time": "2022-06-01T13:22:58.946Z"
   },
   {
    "duration": 17,
    "start_time": "2022-06-01T13:22:58.975Z"
   },
   {
    "duration": 33,
    "start_time": "2022-06-01T13:22:58.994Z"
   },
   {
    "duration": 4,
    "start_time": "2022-06-01T13:22:59.029Z"
   },
   {
    "duration": 96,
    "start_time": "2022-06-01T13:22:59.034Z"
   },
   {
    "duration": 4,
    "start_time": "2022-06-01T13:22:59.132Z"
   },
   {
    "duration": 264,
    "start_time": "2022-06-01T13:22:59.137Z"
   },
   {
    "duration": 13,
    "start_time": "2022-06-01T13:22:59.403Z"
   },
   {
    "duration": 40,
    "start_time": "2022-06-01T13:22:59.417Z"
   },
   {
    "duration": 725,
    "start_time": "2022-06-01T13:22:59.459Z"
   },
   {
    "duration": 16,
    "start_time": "2022-06-01T13:23:00.186Z"
   },
   {
    "duration": 83,
    "start_time": "2022-06-01T13:23:00.204Z"
   },
   {
    "duration": 522,
    "start_time": "2022-06-01T13:23:00.289Z"
   },
   {
    "duration": 256,
    "start_time": "2022-06-01T13:23:00.813Z"
   },
   {
    "duration": 4,
    "start_time": "2022-06-01T13:23:01.071Z"
   },
   {
    "duration": 11,
    "start_time": "2022-06-01T13:23:01.076Z"
   },
   {
    "duration": 241,
    "start_time": "2022-06-01T13:23:01.089Z"
   },
   {
    "duration": 120,
    "start_time": "2022-06-01T13:23:01.331Z"
   },
   {
    "duration": 10,
    "start_time": "2022-06-01T13:23:01.452Z"
   },
   {
    "duration": 0,
    "start_time": "2022-06-01T13:23:01.465Z"
   },
   {
    "duration": 0,
    "start_time": "2022-06-01T13:23:01.467Z"
   },
   {
    "duration": 0,
    "start_time": "2022-06-01T13:23:01.468Z"
   },
   {
    "duration": 0,
    "start_time": "2022-06-01T13:23:01.469Z"
   },
   {
    "duration": 0,
    "start_time": "2022-06-01T13:23:01.470Z"
   },
   {
    "duration": 0,
    "start_time": "2022-06-01T13:23:01.471Z"
   },
   {
    "duration": 0,
    "start_time": "2022-06-01T13:23:01.472Z"
   },
   {
    "duration": 0,
    "start_time": "2022-06-01T13:23:01.473Z"
   },
   {
    "duration": 0,
    "start_time": "2022-06-01T13:23:01.475Z"
   },
   {
    "duration": 0,
    "start_time": "2022-06-01T13:23:01.475Z"
   },
   {
    "duration": 0,
    "start_time": "2022-06-01T13:23:01.477Z"
   },
   {
    "duration": 0,
    "start_time": "2022-06-01T13:23:01.478Z"
   },
   {
    "duration": 0,
    "start_time": "2022-06-01T13:23:01.478Z"
   },
   {
    "duration": 0,
    "start_time": "2022-06-01T13:23:01.479Z"
   },
   {
    "duration": 0,
    "start_time": "2022-06-01T13:23:01.480Z"
   },
   {
    "duration": 0,
    "start_time": "2022-06-01T13:23:01.481Z"
   },
   {
    "duration": 0,
    "start_time": "2022-06-01T13:23:01.482Z"
   },
   {
    "duration": 0,
    "start_time": "2022-06-01T13:23:01.483Z"
   },
   {
    "duration": 0,
    "start_time": "2022-06-01T13:23:01.484Z"
   },
   {
    "duration": 0,
    "start_time": "2022-06-01T13:23:01.527Z"
   },
   {
    "duration": 0,
    "start_time": "2022-06-01T13:23:01.529Z"
   },
   {
    "duration": 0,
    "start_time": "2022-06-01T13:23:01.529Z"
   },
   {
    "duration": 0,
    "start_time": "2022-06-01T13:23:01.531Z"
   },
   {
    "duration": 0,
    "start_time": "2022-06-01T13:23:01.532Z"
   },
   {
    "duration": 0,
    "start_time": "2022-06-01T13:23:01.532Z"
   },
   {
    "duration": 0,
    "start_time": "2022-06-01T13:23:01.533Z"
   },
   {
    "duration": 0,
    "start_time": "2022-06-01T13:23:01.534Z"
   },
   {
    "duration": 0,
    "start_time": "2022-06-01T13:23:01.535Z"
   },
   {
    "duration": 0,
    "start_time": "2022-06-01T13:23:01.536Z"
   },
   {
    "duration": 0,
    "start_time": "2022-06-01T13:23:01.537Z"
   },
   {
    "duration": 0,
    "start_time": "2022-06-01T13:23:01.538Z"
   },
   {
    "duration": 0,
    "start_time": "2022-06-01T13:23:01.539Z"
   },
   {
    "duration": 0,
    "start_time": "2022-06-01T13:23:01.540Z"
   },
   {
    "duration": 0,
    "start_time": "2022-06-01T13:23:01.541Z"
   },
   {
    "duration": 0,
    "start_time": "2022-06-01T13:23:01.542Z"
   },
   {
    "duration": 0,
    "start_time": "2022-06-01T13:23:01.543Z"
   },
   {
    "duration": 0,
    "start_time": "2022-06-01T13:23:01.544Z"
   },
   {
    "duration": 0,
    "start_time": "2022-06-01T13:23:01.545Z"
   },
   {
    "duration": 0,
    "start_time": "2022-06-01T13:23:01.546Z"
   },
   {
    "duration": 0,
    "start_time": "2022-06-01T13:23:01.547Z"
   },
   {
    "duration": 0,
    "start_time": "2022-06-01T13:23:01.548Z"
   },
   {
    "duration": 0,
    "start_time": "2022-06-01T13:23:01.549Z"
   },
   {
    "duration": 0,
    "start_time": "2022-06-01T13:23:01.550Z"
   },
   {
    "duration": 0,
    "start_time": "2022-06-01T13:23:01.551Z"
   },
   {
    "duration": 0,
    "start_time": "2022-06-01T13:23:01.552Z"
   },
   {
    "duration": 0,
    "start_time": "2022-06-01T13:23:01.553Z"
   },
   {
    "duration": 0,
    "start_time": "2022-06-01T13:23:01.554Z"
   },
   {
    "duration": 0,
    "start_time": "2022-06-01T13:23:01.555Z"
   },
   {
    "duration": 0,
    "start_time": "2022-06-01T13:23:01.556Z"
   },
   {
    "duration": 1,
    "start_time": "2022-06-01T13:23:01.557Z"
   },
   {
    "duration": 0,
    "start_time": "2022-06-01T13:23:01.558Z"
   },
   {
    "duration": 0,
    "start_time": "2022-06-01T13:23:01.559Z"
   },
   {
    "duration": 0,
    "start_time": "2022-06-01T13:23:01.561Z"
   },
   {
    "duration": 0,
    "start_time": "2022-06-01T13:23:01.561Z"
   },
   {
    "duration": 0,
    "start_time": "2022-06-01T13:23:01.562Z"
   },
   {
    "duration": 0,
    "start_time": "2022-06-01T13:23:01.563Z"
   },
   {
    "duration": 0,
    "start_time": "2022-06-01T13:23:01.564Z"
   },
   {
    "duration": 0,
    "start_time": "2022-06-01T13:23:01.628Z"
   },
   {
    "duration": 0,
    "start_time": "2022-06-01T13:23:01.629Z"
   },
   {
    "duration": 2050,
    "start_time": "2022-06-01T13:37:38.246Z"
   },
   {
    "duration": 1257,
    "start_time": "2022-06-01T13:37:40.298Z"
   },
   {
    "duration": 755,
    "start_time": "2022-06-01T13:37:41.557Z"
   },
   {
    "duration": 4,
    "start_time": "2022-06-01T13:37:42.314Z"
   },
   {
    "duration": 783,
    "start_time": "2022-06-01T13:37:42.326Z"
   },
   {
    "duration": 4,
    "start_time": "2022-06-01T13:37:43.110Z"
   },
   {
    "duration": 14,
    "start_time": "2022-06-01T13:37:43.115Z"
   },
   {
    "duration": 19,
    "start_time": "2022-06-01T13:37:43.130Z"
   },
   {
    "duration": 236,
    "start_time": "2022-06-01T13:37:43.150Z"
   },
   {
    "duration": 238,
    "start_time": "2022-06-01T13:37:43.389Z"
   },
   {
    "duration": 0,
    "start_time": "2022-06-01T13:37:43.631Z"
   },
   {
    "duration": 0,
    "start_time": "2022-06-01T13:37:43.632Z"
   },
   {
    "duration": 1,
    "start_time": "2022-06-01T13:37:43.633Z"
   },
   {
    "duration": 0,
    "start_time": "2022-06-01T13:37:43.635Z"
   },
   {
    "duration": 0,
    "start_time": "2022-06-01T13:37:43.636Z"
   },
   {
    "duration": 0,
    "start_time": "2022-06-01T13:37:43.638Z"
   },
   {
    "duration": 0,
    "start_time": "2022-06-01T13:37:43.639Z"
   },
   {
    "duration": 0,
    "start_time": "2022-06-01T13:37:43.640Z"
   },
   {
    "duration": 0,
    "start_time": "2022-06-01T13:37:43.642Z"
   },
   {
    "duration": 0,
    "start_time": "2022-06-01T13:37:43.643Z"
   },
   {
    "duration": 0,
    "start_time": "2022-06-01T13:37:43.645Z"
   },
   {
    "duration": 0,
    "start_time": "2022-06-01T13:37:43.646Z"
   },
   {
    "duration": 0,
    "start_time": "2022-06-01T13:37:43.647Z"
   },
   {
    "duration": 0,
    "start_time": "2022-06-01T13:37:43.649Z"
   },
   {
    "duration": 0,
    "start_time": "2022-06-01T13:37:43.650Z"
   },
   {
    "duration": 0,
    "start_time": "2022-06-01T13:37:43.652Z"
   },
   {
    "duration": 0,
    "start_time": "2022-06-01T13:37:43.653Z"
   },
   {
    "duration": 0,
    "start_time": "2022-06-01T13:37:43.655Z"
   },
   {
    "duration": 0,
    "start_time": "2022-06-01T13:37:43.656Z"
   },
   {
    "duration": 0,
    "start_time": "2022-06-01T13:37:43.658Z"
   },
   {
    "duration": 0,
    "start_time": "2022-06-01T13:37:43.659Z"
   },
   {
    "duration": 0,
    "start_time": "2022-06-01T13:37:43.660Z"
   },
   {
    "duration": 0,
    "start_time": "2022-06-01T13:37:43.662Z"
   },
   {
    "duration": 0,
    "start_time": "2022-06-01T13:37:43.663Z"
   },
   {
    "duration": 0,
    "start_time": "2022-06-01T13:37:43.665Z"
   },
   {
    "duration": 0,
    "start_time": "2022-06-01T13:37:43.666Z"
   },
   {
    "duration": 0,
    "start_time": "2022-06-01T13:37:43.667Z"
   },
   {
    "duration": 0,
    "start_time": "2022-06-01T13:37:43.669Z"
   },
   {
    "duration": 0,
    "start_time": "2022-06-01T13:37:43.727Z"
   },
   {
    "duration": 1,
    "start_time": "2022-06-01T13:37:43.728Z"
   },
   {
    "duration": 0,
    "start_time": "2022-06-01T13:37:43.730Z"
   },
   {
    "duration": 0,
    "start_time": "2022-06-01T13:37:43.732Z"
   },
   {
    "duration": 0,
    "start_time": "2022-06-01T13:37:43.733Z"
   },
   {
    "duration": 0,
    "start_time": "2022-06-01T13:37:43.734Z"
   },
   {
    "duration": 0,
    "start_time": "2022-06-01T13:37:43.736Z"
   },
   {
    "duration": 0,
    "start_time": "2022-06-01T13:37:43.737Z"
   },
   {
    "duration": 0,
    "start_time": "2022-06-01T13:37:43.739Z"
   },
   {
    "duration": 0,
    "start_time": "2022-06-01T13:37:43.740Z"
   },
   {
    "duration": 0,
    "start_time": "2022-06-01T13:37:43.741Z"
   },
   {
    "duration": 0,
    "start_time": "2022-06-01T13:37:43.743Z"
   },
   {
    "duration": 0,
    "start_time": "2022-06-01T13:37:43.744Z"
   },
   {
    "duration": 0,
    "start_time": "2022-06-01T13:37:43.745Z"
   },
   {
    "duration": 0,
    "start_time": "2022-06-01T13:37:43.746Z"
   },
   {
    "duration": 0,
    "start_time": "2022-06-01T13:37:43.748Z"
   },
   {
    "duration": 0,
    "start_time": "2022-06-01T13:37:43.749Z"
   },
   {
    "duration": 0,
    "start_time": "2022-06-01T13:37:43.751Z"
   },
   {
    "duration": 0,
    "start_time": "2022-06-01T13:37:43.752Z"
   },
   {
    "duration": 0,
    "start_time": "2022-06-01T13:37:43.753Z"
   },
   {
    "duration": 0,
    "start_time": "2022-06-01T13:37:43.754Z"
   },
   {
    "duration": 0,
    "start_time": "2022-06-01T13:37:43.755Z"
   },
   {
    "duration": 0,
    "start_time": "2022-06-01T13:37:43.756Z"
   },
   {
    "duration": 0,
    "start_time": "2022-06-01T13:37:43.757Z"
   },
   {
    "duration": 0,
    "start_time": "2022-06-01T13:37:43.758Z"
   },
   {
    "duration": 0,
    "start_time": "2022-06-01T13:37:43.759Z"
   },
   {
    "duration": 0,
    "start_time": "2022-06-01T13:37:43.760Z"
   },
   {
    "duration": 0,
    "start_time": "2022-06-01T13:37:43.761Z"
   },
   {
    "duration": 0,
    "start_time": "2022-06-01T13:37:43.762Z"
   },
   {
    "duration": 0,
    "start_time": "2022-06-01T13:37:43.763Z"
   },
   {
    "duration": 0,
    "start_time": "2022-06-01T13:37:43.764Z"
   },
   {
    "duration": 0,
    "start_time": "2022-06-01T13:37:43.764Z"
   },
   {
    "duration": 0,
    "start_time": "2022-06-01T13:37:43.765Z"
   },
   {
    "duration": 0,
    "start_time": "2022-06-01T13:37:43.827Z"
   },
   {
    "duration": 0,
    "start_time": "2022-06-01T13:37:43.828Z"
   },
   {
    "duration": 1,
    "start_time": "2022-06-01T13:37:43.829Z"
   },
   {
    "duration": 0,
    "start_time": "2022-06-01T13:37:43.830Z"
   },
   {
    "duration": 0,
    "start_time": "2022-06-01T13:37:43.832Z"
   },
   {
    "duration": 0,
    "start_time": "2022-06-01T13:37:43.833Z"
   },
   {
    "duration": 0,
    "start_time": "2022-06-01T13:37:43.834Z"
   },
   {
    "duration": 0,
    "start_time": "2022-06-01T13:37:43.835Z"
   },
   {
    "duration": 0,
    "start_time": "2022-06-01T13:37:43.836Z"
   },
   {
    "duration": 0,
    "start_time": "2022-06-01T13:37:43.837Z"
   },
   {
    "duration": 0,
    "start_time": "2022-06-01T13:37:43.839Z"
   },
   {
    "duration": 0,
    "start_time": "2022-06-01T13:37:43.840Z"
   },
   {
    "duration": 0,
    "start_time": "2022-06-01T13:37:43.841Z"
   },
   {
    "duration": 0,
    "start_time": "2022-06-01T13:37:43.843Z"
   },
   {
    "duration": 0,
    "start_time": "2022-06-01T13:37:43.844Z"
   },
   {
    "duration": 0,
    "start_time": "2022-06-01T13:37:43.845Z"
   },
   {
    "duration": 0,
    "start_time": "2022-06-01T13:37:43.846Z"
   },
   {
    "duration": 0,
    "start_time": "2022-06-01T13:37:43.847Z"
   },
   {
    "duration": 0,
    "start_time": "2022-06-01T13:37:43.848Z"
   },
   {
    "duration": 0,
    "start_time": "2022-06-01T13:37:43.849Z"
   },
   {
    "duration": 0,
    "start_time": "2022-06-01T13:37:43.850Z"
   },
   {
    "duration": 0,
    "start_time": "2022-06-01T13:37:43.851Z"
   },
   {
    "duration": 0,
    "start_time": "2022-06-01T13:37:43.852Z"
   },
   {
    "duration": 0,
    "start_time": "2022-06-01T13:37:43.853Z"
   },
   {
    "duration": 0,
    "start_time": "2022-06-01T13:37:43.854Z"
   },
   {
    "duration": 0,
    "start_time": "2022-06-01T13:37:43.855Z"
   },
   {
    "duration": 0,
    "start_time": "2022-06-01T13:37:43.856Z"
   },
   {
    "duration": 0,
    "start_time": "2022-06-01T13:37:43.857Z"
   },
   {
    "duration": 0,
    "start_time": "2022-06-01T13:37:43.858Z"
   },
   {
    "duration": 0,
    "start_time": "2022-06-01T13:37:43.859Z"
   },
   {
    "duration": 0,
    "start_time": "2022-06-01T13:37:43.860Z"
   },
   {
    "duration": 0,
    "start_time": "2022-06-01T13:37:43.861Z"
   },
   {
    "duration": 0,
    "start_time": "2022-06-01T13:37:43.862Z"
   },
   {
    "duration": 0,
    "start_time": "2022-06-01T13:37:43.863Z"
   },
   {
    "duration": 0,
    "start_time": "2022-06-01T13:37:43.927Z"
   },
   {
    "duration": 0,
    "start_time": "2022-06-01T13:37:43.928Z"
   },
   {
    "duration": 0,
    "start_time": "2022-06-01T13:37:43.929Z"
   },
   {
    "duration": 0,
    "start_time": "2022-06-01T13:37:43.930Z"
   },
   {
    "duration": 0,
    "start_time": "2022-06-01T13:37:43.931Z"
   },
   {
    "duration": 0,
    "start_time": "2022-06-01T13:37:43.932Z"
   },
   {
    "duration": 0,
    "start_time": "2022-06-01T13:37:43.933Z"
   },
   {
    "duration": 0,
    "start_time": "2022-06-01T13:37:43.934Z"
   },
   {
    "duration": 0,
    "start_time": "2022-06-01T13:37:43.935Z"
   },
   {
    "duration": 0,
    "start_time": "2022-06-01T13:37:43.936Z"
   },
   {
    "duration": 0,
    "start_time": "2022-06-01T13:37:43.937Z"
   },
   {
    "duration": 0,
    "start_time": "2022-06-01T13:37:43.938Z"
   },
   {
    "duration": 2207,
    "start_time": "2022-06-01T13:38:04.656Z"
   },
   {
    "duration": 1308,
    "start_time": "2022-06-01T13:38:06.866Z"
   },
   {
    "duration": 783,
    "start_time": "2022-06-01T13:38:08.176Z"
   },
   {
    "duration": 5,
    "start_time": "2022-06-01T13:38:08.961Z"
   },
   {
    "duration": 801,
    "start_time": "2022-06-01T13:38:08.967Z"
   },
   {
    "duration": 5,
    "start_time": "2022-06-01T13:38:09.770Z"
   },
   {
    "duration": 6,
    "start_time": "2022-06-01T13:38:09.777Z"
   },
   {
    "duration": 14,
    "start_time": "2022-06-01T13:38:09.785Z"
   },
   {
    "duration": 243,
    "start_time": "2022-06-01T13:38:09.801Z"
   },
   {
    "duration": 227,
    "start_time": "2022-06-01T13:38:10.046Z"
   },
   {
    "duration": 0,
    "start_time": "2022-06-01T13:38:10.277Z"
   },
   {
    "duration": 0,
    "start_time": "2022-06-01T13:38:10.278Z"
   },
   {
    "duration": 0,
    "start_time": "2022-06-01T13:38:10.279Z"
   },
   {
    "duration": 0,
    "start_time": "2022-06-01T13:38:10.280Z"
   },
   {
    "duration": 0,
    "start_time": "2022-06-01T13:38:10.281Z"
   },
   {
    "duration": 0,
    "start_time": "2022-06-01T13:38:10.282Z"
   },
   {
    "duration": 0,
    "start_time": "2022-06-01T13:38:10.283Z"
   },
   {
    "duration": 0,
    "start_time": "2022-06-01T13:38:10.284Z"
   },
   {
    "duration": 0,
    "start_time": "2022-06-01T13:38:10.285Z"
   },
   {
    "duration": 0,
    "start_time": "2022-06-01T13:38:10.286Z"
   },
   {
    "duration": 0,
    "start_time": "2022-06-01T13:38:10.287Z"
   },
   {
    "duration": 0,
    "start_time": "2022-06-01T13:38:10.288Z"
   },
   {
    "duration": 0,
    "start_time": "2022-06-01T13:38:10.289Z"
   },
   {
    "duration": 0,
    "start_time": "2022-06-01T13:38:10.290Z"
   },
   {
    "duration": 0,
    "start_time": "2022-06-01T13:38:10.291Z"
   },
   {
    "duration": 0,
    "start_time": "2022-06-01T13:38:10.292Z"
   },
   {
    "duration": 0,
    "start_time": "2022-06-01T13:38:10.293Z"
   },
   {
    "duration": 0,
    "start_time": "2022-06-01T13:38:10.294Z"
   },
   {
    "duration": 0,
    "start_time": "2022-06-01T13:38:10.295Z"
   },
   {
    "duration": 0,
    "start_time": "2022-06-01T13:38:10.327Z"
   },
   {
    "duration": 0,
    "start_time": "2022-06-01T13:38:10.328Z"
   },
   {
    "duration": 0,
    "start_time": "2022-06-01T13:38:10.329Z"
   },
   {
    "duration": 0,
    "start_time": "2022-06-01T13:38:10.330Z"
   },
   {
    "duration": 0,
    "start_time": "2022-06-01T13:38:10.331Z"
   },
   {
    "duration": 0,
    "start_time": "2022-06-01T13:38:10.332Z"
   },
   {
    "duration": 0,
    "start_time": "2022-06-01T13:38:10.333Z"
   },
   {
    "duration": 0,
    "start_time": "2022-06-01T13:38:10.334Z"
   },
   {
    "duration": 0,
    "start_time": "2022-06-01T13:38:10.335Z"
   },
   {
    "duration": 0,
    "start_time": "2022-06-01T13:38:10.336Z"
   },
   {
    "duration": 0,
    "start_time": "2022-06-01T13:38:10.337Z"
   },
   {
    "duration": 0,
    "start_time": "2022-06-01T13:38:10.337Z"
   },
   {
    "duration": 0,
    "start_time": "2022-06-01T13:38:10.339Z"
   },
   {
    "duration": 0,
    "start_time": "2022-06-01T13:38:10.340Z"
   },
   {
    "duration": 0,
    "start_time": "2022-06-01T13:38:10.341Z"
   },
   {
    "duration": 0,
    "start_time": "2022-06-01T13:38:10.342Z"
   },
   {
    "duration": 0,
    "start_time": "2022-06-01T13:38:10.343Z"
   },
   {
    "duration": 0,
    "start_time": "2022-06-01T13:38:10.344Z"
   },
   {
    "duration": 0,
    "start_time": "2022-06-01T13:38:10.345Z"
   },
   {
    "duration": 0,
    "start_time": "2022-06-01T13:38:10.346Z"
   },
   {
    "duration": 0,
    "start_time": "2022-06-01T13:38:10.346Z"
   },
   {
    "duration": 0,
    "start_time": "2022-06-01T13:38:10.347Z"
   },
   {
    "duration": 0,
    "start_time": "2022-06-01T13:38:10.348Z"
   },
   {
    "duration": 0,
    "start_time": "2022-06-01T13:38:10.349Z"
   },
   {
    "duration": 0,
    "start_time": "2022-06-01T13:38:10.350Z"
   },
   {
    "duration": 0,
    "start_time": "2022-06-01T13:38:10.351Z"
   },
   {
    "duration": 0,
    "start_time": "2022-06-01T13:38:10.352Z"
   },
   {
    "duration": 0,
    "start_time": "2022-06-01T13:38:10.353Z"
   },
   {
    "duration": 0,
    "start_time": "2022-06-01T13:38:10.354Z"
   },
   {
    "duration": 0,
    "start_time": "2022-06-01T13:38:10.355Z"
   },
   {
    "duration": 0,
    "start_time": "2022-06-01T13:38:10.357Z"
   },
   {
    "duration": 0,
    "start_time": "2022-06-01T13:38:10.358Z"
   },
   {
    "duration": 0,
    "start_time": "2022-06-01T13:38:10.359Z"
   },
   {
    "duration": 0,
    "start_time": "2022-06-01T13:38:10.360Z"
   },
   {
    "duration": 0,
    "start_time": "2022-06-01T13:38:10.361Z"
   },
   {
    "duration": 0,
    "start_time": "2022-06-01T13:38:10.361Z"
   },
   {
    "duration": 0,
    "start_time": "2022-06-01T13:38:10.363Z"
   },
   {
    "duration": 0,
    "start_time": "2022-06-01T13:38:10.364Z"
   },
   {
    "duration": 0,
    "start_time": "2022-06-01T13:38:10.427Z"
   },
   {
    "duration": 0,
    "start_time": "2022-06-01T13:38:10.429Z"
   },
   {
    "duration": 0,
    "start_time": "2022-06-01T13:38:10.430Z"
   },
   {
    "duration": 0,
    "start_time": "2022-06-01T13:38:10.431Z"
   },
   {
    "duration": 0,
    "start_time": "2022-06-01T13:38:10.432Z"
   },
   {
    "duration": 0,
    "start_time": "2022-06-01T13:38:10.433Z"
   },
   {
    "duration": 0,
    "start_time": "2022-06-01T13:38:10.434Z"
   },
   {
    "duration": 0,
    "start_time": "2022-06-01T13:38:10.435Z"
   },
   {
    "duration": 0,
    "start_time": "2022-06-01T13:38:10.436Z"
   },
   {
    "duration": 0,
    "start_time": "2022-06-01T13:38:10.438Z"
   },
   {
    "duration": 0,
    "start_time": "2022-06-01T13:38:10.439Z"
   },
   {
    "duration": 0,
    "start_time": "2022-06-01T13:38:10.441Z"
   },
   {
    "duration": 0,
    "start_time": "2022-06-01T13:38:10.441Z"
   },
   {
    "duration": 0,
    "start_time": "2022-06-01T13:38:10.442Z"
   },
   {
    "duration": 0,
    "start_time": "2022-06-01T13:38:10.444Z"
   },
   {
    "duration": 0,
    "start_time": "2022-06-01T13:38:10.445Z"
   },
   {
    "duration": 0,
    "start_time": "2022-06-01T13:38:10.446Z"
   },
   {
    "duration": 0,
    "start_time": "2022-06-01T13:38:10.447Z"
   },
   {
    "duration": 0,
    "start_time": "2022-06-01T13:38:10.448Z"
   },
   {
    "duration": 1,
    "start_time": "2022-06-01T13:38:10.449Z"
   },
   {
    "duration": 0,
    "start_time": "2022-06-01T13:38:10.451Z"
   },
   {
    "duration": 0,
    "start_time": "2022-06-01T13:38:10.452Z"
   },
   {
    "duration": 0,
    "start_time": "2022-06-01T13:38:10.452Z"
   },
   {
    "duration": 1,
    "start_time": "2022-06-01T13:38:10.453Z"
   },
   {
    "duration": 0,
    "start_time": "2022-06-01T13:38:10.454Z"
   },
   {
    "duration": 0,
    "start_time": "2022-06-01T13:38:10.455Z"
   },
   {
    "duration": 0,
    "start_time": "2022-06-01T13:38:10.456Z"
   },
   {
    "duration": 0,
    "start_time": "2022-06-01T13:38:10.457Z"
   },
   {
    "duration": 0,
    "start_time": "2022-06-01T13:38:10.458Z"
   },
   {
    "duration": 0,
    "start_time": "2022-06-01T13:38:10.459Z"
   },
   {
    "duration": 0,
    "start_time": "2022-06-01T13:38:10.460Z"
   },
   {
    "duration": 1,
    "start_time": "2022-06-01T13:38:10.460Z"
   },
   {
    "duration": 0,
    "start_time": "2022-06-01T13:38:10.462Z"
   },
   {
    "duration": 0,
    "start_time": "2022-06-01T13:38:10.534Z"
   },
   {
    "duration": 0,
    "start_time": "2022-06-01T13:38:10.535Z"
   },
   {
    "duration": 0,
    "start_time": "2022-06-01T13:38:10.536Z"
   },
   {
    "duration": 0,
    "start_time": "2022-06-01T13:38:10.537Z"
   },
   {
    "duration": 0,
    "start_time": "2022-06-01T13:38:10.538Z"
   },
   {
    "duration": 0,
    "start_time": "2022-06-01T13:38:10.539Z"
   },
   {
    "duration": 0,
    "start_time": "2022-06-01T13:38:10.540Z"
   },
   {
    "duration": 0,
    "start_time": "2022-06-01T13:38:10.542Z"
   },
   {
    "duration": 0,
    "start_time": "2022-06-01T13:38:10.543Z"
   },
   {
    "duration": 0,
    "start_time": "2022-06-01T13:38:10.544Z"
   },
   {
    "duration": 0,
    "start_time": "2022-06-01T13:38:10.545Z"
   },
   {
    "duration": 0,
    "start_time": "2022-06-01T13:38:10.546Z"
   },
   {
    "duration": 0,
    "start_time": "2022-06-01T13:38:10.547Z"
   },
   {
    "duration": 0,
    "start_time": "2022-06-01T13:38:10.548Z"
   },
   {
    "duration": 0,
    "start_time": "2022-06-01T13:38:10.549Z"
   },
   {
    "duration": 0,
    "start_time": "2022-06-01T13:38:10.550Z"
   },
   {
    "duration": 0,
    "start_time": "2022-06-01T13:38:10.551Z"
   },
   {
    "duration": 2098,
    "start_time": "2022-06-01T13:38:52.947Z"
   },
   {
    "duration": 1264,
    "start_time": "2022-06-01T13:38:55.048Z"
   },
   {
    "duration": 837,
    "start_time": "2022-06-01T13:38:56.314Z"
   },
   {
    "duration": 5,
    "start_time": "2022-06-01T13:38:57.153Z"
   },
   {
    "duration": 795,
    "start_time": "2022-06-01T13:38:57.160Z"
   },
   {
    "duration": 6,
    "start_time": "2022-06-01T13:38:57.957Z"
   },
   {
    "duration": 16,
    "start_time": "2022-06-01T13:38:57.965Z"
   },
   {
    "duration": 48,
    "start_time": "2022-06-01T13:38:57.982Z"
   },
   {
    "duration": 255,
    "start_time": "2022-06-01T13:38:58.031Z"
   },
   {
    "duration": 252,
    "start_time": "2022-06-01T13:38:58.288Z"
   },
   {
    "duration": 0,
    "start_time": "2022-06-01T13:38:58.543Z"
   },
   {
    "duration": 0,
    "start_time": "2022-06-01T13:38:58.544Z"
   },
   {
    "duration": 0,
    "start_time": "2022-06-01T13:38:58.546Z"
   },
   {
    "duration": 0,
    "start_time": "2022-06-01T13:38:58.547Z"
   },
   {
    "duration": 0,
    "start_time": "2022-06-01T13:38:58.548Z"
   },
   {
    "duration": 0,
    "start_time": "2022-06-01T13:38:58.549Z"
   },
   {
    "duration": 0,
    "start_time": "2022-06-01T13:38:58.549Z"
   },
   {
    "duration": 0,
    "start_time": "2022-06-01T13:38:58.550Z"
   },
   {
    "duration": 0,
    "start_time": "2022-06-01T13:38:58.551Z"
   },
   {
    "duration": 0,
    "start_time": "2022-06-01T13:38:58.552Z"
   },
   {
    "duration": 0,
    "start_time": "2022-06-01T13:38:58.553Z"
   },
   {
    "duration": 0,
    "start_time": "2022-06-01T13:38:58.554Z"
   },
   {
    "duration": 0,
    "start_time": "2022-06-01T13:38:58.555Z"
   },
   {
    "duration": 0,
    "start_time": "2022-06-01T13:38:58.556Z"
   },
   {
    "duration": 0,
    "start_time": "2022-06-01T13:38:58.557Z"
   },
   {
    "duration": 0,
    "start_time": "2022-06-01T13:38:58.558Z"
   },
   {
    "duration": 0,
    "start_time": "2022-06-01T13:38:58.559Z"
   },
   {
    "duration": 1,
    "start_time": "2022-06-01T13:38:58.559Z"
   },
   {
    "duration": 0,
    "start_time": "2022-06-01T13:38:58.560Z"
   },
   {
    "duration": 0,
    "start_time": "2022-06-01T13:38:58.561Z"
   },
   {
    "duration": 0,
    "start_time": "2022-06-01T13:38:58.562Z"
   },
   {
    "duration": 0,
    "start_time": "2022-06-01T13:38:58.563Z"
   },
   {
    "duration": 0,
    "start_time": "2022-06-01T13:38:58.564Z"
   },
   {
    "duration": 0,
    "start_time": "2022-06-01T13:38:58.565Z"
   },
   {
    "duration": 0,
    "start_time": "2022-06-01T13:38:58.566Z"
   },
   {
    "duration": 0,
    "start_time": "2022-06-01T13:38:58.567Z"
   },
   {
    "duration": 0,
    "start_time": "2022-06-01T13:38:58.568Z"
   },
   {
    "duration": 0,
    "start_time": "2022-06-01T13:38:58.569Z"
   },
   {
    "duration": 0,
    "start_time": "2022-06-01T13:38:58.570Z"
   },
   {
    "duration": 0,
    "start_time": "2022-06-01T13:38:58.571Z"
   },
   {
    "duration": 0,
    "start_time": "2022-06-01T13:38:58.572Z"
   },
   {
    "duration": 0,
    "start_time": "2022-06-01T13:38:58.573Z"
   },
   {
    "duration": 0,
    "start_time": "2022-06-01T13:38:58.627Z"
   },
   {
    "duration": 0,
    "start_time": "2022-06-01T13:38:58.628Z"
   },
   {
    "duration": 0,
    "start_time": "2022-06-01T13:38:58.629Z"
   },
   {
    "duration": 0,
    "start_time": "2022-06-01T13:38:58.630Z"
   },
   {
    "duration": 0,
    "start_time": "2022-06-01T13:38:58.630Z"
   },
   {
    "duration": 0,
    "start_time": "2022-06-01T13:38:58.631Z"
   },
   {
    "duration": 0,
    "start_time": "2022-06-01T13:38:58.632Z"
   },
   {
    "duration": 0,
    "start_time": "2022-06-01T13:38:58.633Z"
   },
   {
    "duration": 0,
    "start_time": "2022-06-01T13:38:58.634Z"
   },
   {
    "duration": 0,
    "start_time": "2022-06-01T13:38:58.635Z"
   },
   {
    "duration": 0,
    "start_time": "2022-06-01T13:38:58.636Z"
   },
   {
    "duration": 0,
    "start_time": "2022-06-01T13:38:58.637Z"
   },
   {
    "duration": 0,
    "start_time": "2022-06-01T13:38:58.638Z"
   },
   {
    "duration": 0,
    "start_time": "2022-06-01T13:38:58.638Z"
   },
   {
    "duration": 0,
    "start_time": "2022-06-01T13:38:58.639Z"
   },
   {
    "duration": 0,
    "start_time": "2022-06-01T13:38:58.640Z"
   },
   {
    "duration": 0,
    "start_time": "2022-06-01T13:38:58.641Z"
   },
   {
    "duration": 0,
    "start_time": "2022-06-01T13:38:58.642Z"
   },
   {
    "duration": 0,
    "start_time": "2022-06-01T13:38:58.643Z"
   },
   {
    "duration": 0,
    "start_time": "2022-06-01T13:38:58.644Z"
   },
   {
    "duration": 0,
    "start_time": "2022-06-01T13:38:58.645Z"
   },
   {
    "duration": 0,
    "start_time": "2022-06-01T13:38:58.646Z"
   },
   {
    "duration": 0,
    "start_time": "2022-06-01T13:38:58.647Z"
   },
   {
    "duration": 0,
    "start_time": "2022-06-01T13:38:58.648Z"
   },
   {
    "duration": 0,
    "start_time": "2022-06-01T13:38:58.649Z"
   },
   {
    "duration": 0,
    "start_time": "2022-06-01T13:38:58.650Z"
   },
   {
    "duration": 0,
    "start_time": "2022-06-01T13:38:58.650Z"
   },
   {
    "duration": 0,
    "start_time": "2022-06-01T13:38:58.652Z"
   },
   {
    "duration": 0,
    "start_time": "2022-06-01T13:38:58.652Z"
   },
   {
    "duration": 0,
    "start_time": "2022-06-01T13:38:58.653Z"
   },
   {
    "duration": 0,
    "start_time": "2022-06-01T13:38:58.654Z"
   },
   {
    "duration": 0,
    "start_time": "2022-06-01T13:38:58.655Z"
   },
   {
    "duration": 0,
    "start_time": "2022-06-01T13:38:58.656Z"
   },
   {
    "duration": 0,
    "start_time": "2022-06-01T13:38:58.657Z"
   },
   {
    "duration": 0,
    "start_time": "2022-06-01T13:38:58.658Z"
   },
   {
    "duration": 0,
    "start_time": "2022-06-01T13:38:58.659Z"
   },
   {
    "duration": 0,
    "start_time": "2022-06-01T13:38:58.660Z"
   },
   {
    "duration": 0,
    "start_time": "2022-06-01T13:38:58.661Z"
   },
   {
    "duration": 0,
    "start_time": "2022-06-01T13:38:58.727Z"
   },
   {
    "duration": 0,
    "start_time": "2022-06-01T13:38:58.728Z"
   },
   {
    "duration": 0,
    "start_time": "2022-06-01T13:38:58.729Z"
   },
   {
    "duration": 0,
    "start_time": "2022-06-01T13:38:58.730Z"
   },
   {
    "duration": 0,
    "start_time": "2022-06-01T13:38:58.731Z"
   },
   {
    "duration": 0,
    "start_time": "2022-06-01T13:38:58.732Z"
   },
   {
    "duration": 0,
    "start_time": "2022-06-01T13:38:58.734Z"
   },
   {
    "duration": 0,
    "start_time": "2022-06-01T13:38:58.735Z"
   },
   {
    "duration": 0,
    "start_time": "2022-06-01T13:38:58.735Z"
   },
   {
    "duration": 0,
    "start_time": "2022-06-01T13:38:58.736Z"
   },
   {
    "duration": 0,
    "start_time": "2022-06-01T13:38:58.737Z"
   },
   {
    "duration": 0,
    "start_time": "2022-06-01T13:38:58.738Z"
   },
   {
    "duration": 0,
    "start_time": "2022-06-01T13:38:58.739Z"
   },
   {
    "duration": 0,
    "start_time": "2022-06-01T13:38:58.740Z"
   },
   {
    "duration": 0,
    "start_time": "2022-06-01T13:38:58.741Z"
   },
   {
    "duration": 0,
    "start_time": "2022-06-01T13:38:58.743Z"
   },
   {
    "duration": 0,
    "start_time": "2022-06-01T13:38:58.743Z"
   },
   {
    "duration": 0,
    "start_time": "2022-06-01T13:38:58.744Z"
   },
   {
    "duration": 0,
    "start_time": "2022-06-01T13:38:58.745Z"
   },
   {
    "duration": 0,
    "start_time": "2022-06-01T13:38:58.746Z"
   },
   {
    "duration": 0,
    "start_time": "2022-06-01T13:38:58.747Z"
   },
   {
    "duration": 0,
    "start_time": "2022-06-01T13:38:58.748Z"
   },
   {
    "duration": 0,
    "start_time": "2022-06-01T13:38:58.749Z"
   },
   {
    "duration": 0,
    "start_time": "2022-06-01T13:38:58.750Z"
   },
   {
    "duration": 0,
    "start_time": "2022-06-01T13:38:58.751Z"
   },
   {
    "duration": 0,
    "start_time": "2022-06-01T13:38:58.752Z"
   },
   {
    "duration": 0,
    "start_time": "2022-06-01T13:38:58.752Z"
   },
   {
    "duration": 0,
    "start_time": "2022-06-01T13:38:58.753Z"
   },
   {
    "duration": 0,
    "start_time": "2022-06-01T13:38:58.754Z"
   },
   {
    "duration": 0,
    "start_time": "2022-06-01T13:38:58.755Z"
   },
   {
    "duration": 0,
    "start_time": "2022-06-01T13:38:58.756Z"
   },
   {
    "duration": 0,
    "start_time": "2022-06-01T13:38:58.757Z"
   },
   {
    "duration": 0,
    "start_time": "2022-06-01T13:38:58.758Z"
   },
   {
    "duration": 0,
    "start_time": "2022-06-01T13:38:58.759Z"
   },
   {
    "duration": 0,
    "start_time": "2022-06-01T13:38:58.760Z"
   },
   {
    "duration": 0,
    "start_time": "2022-06-01T13:38:58.762Z"
   },
   {
    "duration": 0,
    "start_time": "2022-06-01T13:38:58.763Z"
   },
   {
    "duration": 2123,
    "start_time": "2022-06-01T13:42:10.025Z"
   },
   {
    "duration": 469,
    "start_time": "2022-06-01T13:42:12.150Z"
   },
   {
    "duration": 0,
    "start_time": "2022-06-01T13:42:12.624Z"
   },
   {
    "duration": 0,
    "start_time": "2022-06-01T13:42:12.625Z"
   },
   {
    "duration": 0,
    "start_time": "2022-06-01T13:42:12.626Z"
   },
   {
    "duration": 0,
    "start_time": "2022-06-01T13:42:12.627Z"
   },
   {
    "duration": 0,
    "start_time": "2022-06-01T13:42:12.628Z"
   },
   {
    "duration": 0,
    "start_time": "2022-06-01T13:42:12.629Z"
   },
   {
    "duration": 0,
    "start_time": "2022-06-01T13:42:12.630Z"
   },
   {
    "duration": 0,
    "start_time": "2022-06-01T13:42:12.631Z"
   },
   {
    "duration": 0,
    "start_time": "2022-06-01T13:42:12.632Z"
   },
   {
    "duration": 0,
    "start_time": "2022-06-01T13:42:12.633Z"
   },
   {
    "duration": 0,
    "start_time": "2022-06-01T13:42:12.633Z"
   },
   {
    "duration": 0,
    "start_time": "2022-06-01T13:42:12.635Z"
   },
   {
    "duration": 0,
    "start_time": "2022-06-01T13:42:12.635Z"
   },
   {
    "duration": 0,
    "start_time": "2022-06-01T13:42:12.636Z"
   },
   {
    "duration": 0,
    "start_time": "2022-06-01T13:42:12.637Z"
   },
   {
    "duration": 0,
    "start_time": "2022-06-01T13:42:12.638Z"
   },
   {
    "duration": 0,
    "start_time": "2022-06-01T13:42:12.639Z"
   },
   {
    "duration": 0,
    "start_time": "2022-06-01T13:42:12.640Z"
   },
   {
    "duration": 0,
    "start_time": "2022-06-01T13:42:12.640Z"
   },
   {
    "duration": 0,
    "start_time": "2022-06-01T13:42:12.641Z"
   },
   {
    "duration": 0,
    "start_time": "2022-06-01T13:42:12.642Z"
   },
   {
    "duration": 0,
    "start_time": "2022-06-01T13:42:12.643Z"
   },
   {
    "duration": 0,
    "start_time": "2022-06-01T13:42:12.644Z"
   },
   {
    "duration": 0,
    "start_time": "2022-06-01T13:42:12.645Z"
   },
   {
    "duration": 0,
    "start_time": "2022-06-01T13:42:12.646Z"
   },
   {
    "duration": 0,
    "start_time": "2022-06-01T13:42:12.647Z"
   },
   {
    "duration": 0,
    "start_time": "2022-06-01T13:42:12.647Z"
   },
   {
    "duration": 0,
    "start_time": "2022-06-01T13:42:12.648Z"
   },
   {
    "duration": 0,
    "start_time": "2022-06-01T13:42:12.649Z"
   },
   {
    "duration": 0,
    "start_time": "2022-06-01T13:42:12.650Z"
   },
   {
    "duration": 0,
    "start_time": "2022-06-01T13:42:12.651Z"
   },
   {
    "duration": 0,
    "start_time": "2022-06-01T13:42:12.652Z"
   },
   {
    "duration": 0,
    "start_time": "2022-06-01T13:42:12.653Z"
   },
   {
    "duration": 0,
    "start_time": "2022-06-01T13:42:12.654Z"
   },
   {
    "duration": 1,
    "start_time": "2022-06-01T13:42:12.654Z"
   },
   {
    "duration": 0,
    "start_time": "2022-06-01T13:42:12.655Z"
   },
   {
    "duration": 0,
    "start_time": "2022-06-01T13:42:12.656Z"
   },
   {
    "duration": 0,
    "start_time": "2022-06-01T13:42:12.657Z"
   },
   {
    "duration": 0,
    "start_time": "2022-06-01T13:42:12.658Z"
   },
   {
    "duration": 0,
    "start_time": "2022-06-01T13:42:12.659Z"
   },
   {
    "duration": 0,
    "start_time": "2022-06-01T13:42:12.660Z"
   },
   {
    "duration": 0,
    "start_time": "2022-06-01T13:42:12.661Z"
   },
   {
    "duration": 0,
    "start_time": "2022-06-01T13:42:12.662Z"
   },
   {
    "duration": 0,
    "start_time": "2022-06-01T13:42:12.662Z"
   },
   {
    "duration": 0,
    "start_time": "2022-06-01T13:42:12.663Z"
   },
   {
    "duration": 0,
    "start_time": "2022-06-01T13:42:12.664Z"
   },
   {
    "duration": 0,
    "start_time": "2022-06-01T13:42:12.665Z"
   },
   {
    "duration": 0,
    "start_time": "2022-06-01T13:42:12.665Z"
   },
   {
    "duration": 0,
    "start_time": "2022-06-01T13:42:12.666Z"
   },
   {
    "duration": 0,
    "start_time": "2022-06-01T13:42:12.728Z"
   },
   {
    "duration": 0,
    "start_time": "2022-06-01T13:42:12.729Z"
   },
   {
    "duration": 0,
    "start_time": "2022-06-01T13:42:12.730Z"
   },
   {
    "duration": 0,
    "start_time": "2022-06-01T13:42:12.731Z"
   },
   {
    "duration": 0,
    "start_time": "2022-06-01T13:42:12.732Z"
   },
   {
    "duration": 0,
    "start_time": "2022-06-01T13:42:12.733Z"
   },
   {
    "duration": 0,
    "start_time": "2022-06-01T13:42:12.735Z"
   },
   {
    "duration": 0,
    "start_time": "2022-06-01T13:42:12.736Z"
   },
   {
    "duration": 0,
    "start_time": "2022-06-01T13:42:12.737Z"
   },
   {
    "duration": 0,
    "start_time": "2022-06-01T13:42:12.738Z"
   },
   {
    "duration": 0,
    "start_time": "2022-06-01T13:42:12.740Z"
   },
   {
    "duration": 0,
    "start_time": "2022-06-01T13:42:12.741Z"
   },
   {
    "duration": 0,
    "start_time": "2022-06-01T13:42:12.742Z"
   },
   {
    "duration": 0,
    "start_time": "2022-06-01T13:42:12.743Z"
   },
   {
    "duration": 0,
    "start_time": "2022-06-01T13:42:12.745Z"
   },
   {
    "duration": 0,
    "start_time": "2022-06-01T13:42:12.746Z"
   },
   {
    "duration": 0,
    "start_time": "2022-06-01T13:42:12.747Z"
   },
   {
    "duration": 0,
    "start_time": "2022-06-01T13:42:12.748Z"
   },
   {
    "duration": 0,
    "start_time": "2022-06-01T13:42:12.749Z"
   },
   {
    "duration": 0,
    "start_time": "2022-06-01T13:42:12.751Z"
   },
   {
    "duration": 0,
    "start_time": "2022-06-01T13:42:12.752Z"
   },
   {
    "duration": 0,
    "start_time": "2022-06-01T13:42:12.753Z"
   },
   {
    "duration": 0,
    "start_time": "2022-06-01T13:42:12.754Z"
   },
   {
    "duration": 0,
    "start_time": "2022-06-01T13:42:12.755Z"
   },
   {
    "duration": 0,
    "start_time": "2022-06-01T13:42:12.756Z"
   },
   {
    "duration": 0,
    "start_time": "2022-06-01T13:42:12.757Z"
   },
   {
    "duration": 0,
    "start_time": "2022-06-01T13:42:12.758Z"
   },
   {
    "duration": 0,
    "start_time": "2022-06-01T13:42:12.759Z"
   },
   {
    "duration": 0,
    "start_time": "2022-06-01T13:42:12.759Z"
   },
   {
    "duration": 0,
    "start_time": "2022-06-01T13:42:12.760Z"
   },
   {
    "duration": 0,
    "start_time": "2022-06-01T13:42:12.761Z"
   },
   {
    "duration": 0,
    "start_time": "2022-06-01T13:42:12.762Z"
   },
   {
    "duration": 0,
    "start_time": "2022-06-01T13:42:12.764Z"
   },
   {
    "duration": 0,
    "start_time": "2022-06-01T13:42:12.765Z"
   },
   {
    "duration": 1,
    "start_time": "2022-06-01T13:42:12.826Z"
   },
   {
    "duration": 0,
    "start_time": "2022-06-01T13:42:12.828Z"
   },
   {
    "duration": 0,
    "start_time": "2022-06-01T13:42:12.829Z"
   },
   {
    "duration": 0,
    "start_time": "2022-06-01T13:42:12.830Z"
   },
   {
    "duration": 0,
    "start_time": "2022-06-01T13:42:12.831Z"
   },
   {
    "duration": 0,
    "start_time": "2022-06-01T13:42:12.832Z"
   },
   {
    "duration": 0,
    "start_time": "2022-06-01T13:42:12.833Z"
   },
   {
    "duration": 0,
    "start_time": "2022-06-01T13:42:12.834Z"
   },
   {
    "duration": 0,
    "start_time": "2022-06-01T13:42:12.835Z"
   },
   {
    "duration": 0,
    "start_time": "2022-06-01T13:42:12.836Z"
   },
   {
    "duration": 0,
    "start_time": "2022-06-01T13:42:12.837Z"
   },
   {
    "duration": 0,
    "start_time": "2022-06-01T13:42:12.838Z"
   },
   {
    "duration": 0,
    "start_time": "2022-06-01T13:42:12.839Z"
   },
   {
    "duration": 0,
    "start_time": "2022-06-01T13:42:12.840Z"
   },
   {
    "duration": 0,
    "start_time": "2022-06-01T13:42:12.841Z"
   },
   {
    "duration": 0,
    "start_time": "2022-06-01T13:42:12.842Z"
   },
   {
    "duration": 0,
    "start_time": "2022-06-01T13:42:12.843Z"
   },
   {
    "duration": 0,
    "start_time": "2022-06-01T13:42:12.844Z"
   },
   {
    "duration": 0,
    "start_time": "2022-06-01T13:42:12.845Z"
   },
   {
    "duration": 0,
    "start_time": "2022-06-01T13:42:12.846Z"
   },
   {
    "duration": 0,
    "start_time": "2022-06-01T13:42:12.847Z"
   },
   {
    "duration": 0,
    "start_time": "2022-06-01T13:42:12.848Z"
   },
   {
    "duration": 0,
    "start_time": "2022-06-01T13:42:12.849Z"
   },
   {
    "duration": 0,
    "start_time": "2022-06-01T13:42:12.850Z"
   },
   {
    "duration": 0,
    "start_time": "2022-06-01T13:42:12.851Z"
   },
   {
    "duration": 0,
    "start_time": "2022-06-01T13:42:12.852Z"
   },
   {
    "duration": 0,
    "start_time": "2022-06-01T13:42:12.853Z"
   },
   {
    "duration": 0,
    "start_time": "2022-06-01T13:42:12.854Z"
   },
   {
    "duration": 0,
    "start_time": "2022-06-01T13:42:12.855Z"
   },
   {
    "duration": 0,
    "start_time": "2022-06-01T13:42:12.856Z"
   },
   {
    "duration": 0,
    "start_time": "2022-06-01T13:42:12.857Z"
   },
   {
    "duration": 0,
    "start_time": "2022-06-01T13:42:12.857Z"
   },
   {
    "duration": 7,
    "start_time": "2022-06-01T13:42:28.891Z"
   },
   {
    "duration": 41,
    "start_time": "2022-06-01T13:42:34.057Z"
   },
   {
    "duration": 2085,
    "start_time": "2022-06-01T13:42:43.028Z"
   },
   {
    "duration": 16,
    "start_time": "2022-06-01T13:42:49.407Z"
   },
   {
    "duration": 1225,
    "start_time": "2022-06-01T13:43:01.748Z"
   },
   {
    "duration": 810,
    "start_time": "2022-06-01T13:43:04.687Z"
   },
   {
    "duration": 8,
    "start_time": "2022-06-01T13:43:10.261Z"
   },
   {
    "duration": 6,
    "start_time": "2022-06-01T13:43:21.382Z"
   },
   {
    "duration": 820,
    "start_time": "2022-06-01T13:43:31.916Z"
   },
   {
    "duration": 6,
    "start_time": "2022-06-01T13:43:38.329Z"
   },
   {
    "duration": 737,
    "start_time": "2022-06-01T13:44:46.753Z"
   },
   {
    "duration": 6,
    "start_time": "2022-06-01T13:45:08.544Z"
   },
   {
    "duration": 749,
    "start_time": "2022-06-01T13:45:18.657Z"
   },
   {
    "duration": 6,
    "start_time": "2022-06-01T13:45:20.256Z"
   },
   {
    "duration": 2394,
    "start_time": "2022-06-01T13:46:37.172Z"
   },
   {
    "duration": 1169,
    "start_time": "2022-06-01T13:46:39.569Z"
   },
   {
    "duration": 775,
    "start_time": "2022-06-01T13:46:40.740Z"
   },
   {
    "duration": 4,
    "start_time": "2022-06-01T13:46:41.517Z"
   },
   {
    "duration": 790,
    "start_time": "2022-06-01T13:46:41.523Z"
   },
   {
    "duration": 4,
    "start_time": "2022-06-01T13:46:42.315Z"
   },
   {
    "duration": 12,
    "start_time": "2022-06-01T13:46:42.326Z"
   },
   {
    "duration": 226,
    "start_time": "2022-06-01T13:46:42.340Z"
   },
   {
    "duration": 209,
    "start_time": "2022-06-01T13:46:42.568Z"
   },
   {
    "duration": 106,
    "start_time": "2022-06-01T13:46:42.780Z"
   },
   {
    "duration": 56,
    "start_time": "2022-06-01T13:46:42.887Z"
   },
   {
    "duration": 32,
    "start_time": "2022-06-01T13:46:42.944Z"
   },
   {
    "duration": 34,
    "start_time": "2022-06-01T13:46:42.978Z"
   },
   {
    "duration": 42,
    "start_time": "2022-06-01T13:46:43.014Z"
   },
   {
    "duration": 90,
    "start_time": "2022-06-01T13:46:43.057Z"
   },
   {
    "duration": 119,
    "start_time": "2022-06-01T13:46:43.149Z"
   },
   {
    "duration": 23,
    "start_time": "2022-06-01T13:46:43.269Z"
   },
   {
    "duration": 110,
    "start_time": "2022-06-01T13:46:43.293Z"
   },
   {
    "duration": 78,
    "start_time": "2022-06-01T13:46:43.405Z"
   },
   {
    "duration": 22,
    "start_time": "2022-06-01T13:46:43.485Z"
   },
   {
    "duration": 26,
    "start_time": "2022-06-01T13:46:43.509Z"
   },
   {
    "duration": 68,
    "start_time": "2022-06-01T13:46:43.537Z"
   },
   {
    "duration": 35,
    "start_time": "2022-06-01T13:46:43.607Z"
   },
   {
    "duration": 12,
    "start_time": "2022-06-01T13:46:43.643Z"
   },
   {
    "duration": 50,
    "start_time": "2022-06-01T13:46:43.657Z"
   },
   {
    "duration": 505,
    "start_time": "2022-06-01T13:46:43.726Z"
   },
   {
    "duration": 343,
    "start_time": "2022-06-01T13:46:44.233Z"
   },
   {
    "duration": 8,
    "start_time": "2022-06-01T13:46:44.580Z"
   },
   {
    "duration": 3,
    "start_time": "2022-06-01T13:46:44.589Z"
   },
   {
    "duration": 49,
    "start_time": "2022-06-01T13:46:44.594Z"
   },
   {
    "duration": 11,
    "start_time": "2022-06-01T13:46:44.644Z"
   },
   {
    "duration": 79,
    "start_time": "2022-06-01T13:46:44.656Z"
   },
   {
    "duration": 31,
    "start_time": "2022-06-01T13:46:44.736Z"
   },
   {
    "duration": 6,
    "start_time": "2022-06-01T13:46:44.768Z"
   },
   {
    "duration": 55,
    "start_time": "2022-06-01T13:46:44.775Z"
   },
   {
    "duration": 13,
    "start_time": "2022-06-01T13:46:44.831Z"
   },
   {
    "duration": 494,
    "start_time": "2022-06-01T13:46:44.845Z"
   },
   {
    "duration": 15,
    "start_time": "2022-06-01T13:46:45.340Z"
   },
   {
    "duration": 26,
    "start_time": "2022-06-01T13:46:45.357Z"
   },
   {
    "duration": 19,
    "start_time": "2022-06-01T13:46:45.385Z"
   },
   {
    "duration": 32,
    "start_time": "2022-06-01T13:46:45.406Z"
   },
   {
    "duration": 5,
    "start_time": "2022-06-01T13:46:45.439Z"
   },
   {
    "duration": 100,
    "start_time": "2022-06-01T13:46:45.446Z"
   },
   {
    "duration": 3,
    "start_time": "2022-06-01T13:46:45.548Z"
   },
   {
    "duration": 262,
    "start_time": "2022-06-01T13:46:45.553Z"
   },
   {
    "duration": 14,
    "start_time": "2022-06-01T13:46:45.817Z"
   },
   {
    "duration": 32,
    "start_time": "2022-06-01T13:46:45.833Z"
   },
   {
    "duration": 773,
    "start_time": "2022-06-01T13:46:45.866Z"
   },
   {
    "duration": 16,
    "start_time": "2022-06-01T13:46:46.641Z"
   },
   {
    "duration": 87,
    "start_time": "2022-06-01T13:46:46.659Z"
   },
   {
    "duration": 527,
    "start_time": "2022-06-01T13:46:46.747Z"
   },
   {
    "duration": 247,
    "start_time": "2022-06-01T13:46:47.276Z"
   },
   {
    "duration": 3,
    "start_time": "2022-06-01T13:46:47.525Z"
   },
   {
    "duration": 11,
    "start_time": "2022-06-01T13:46:47.529Z"
   },
   {
    "duration": 99,
    "start_time": "2022-06-01T13:46:47.541Z"
   },
   {
    "duration": 213,
    "start_time": "2022-06-01T13:46:47.643Z"
   },
   {
    "duration": 11,
    "start_time": "2022-06-01T13:46:47.858Z"
   },
   {
    "duration": 0,
    "start_time": "2022-06-01T13:46:47.872Z"
   },
   {
    "duration": 0,
    "start_time": "2022-06-01T13:46:47.874Z"
   },
   {
    "duration": 0,
    "start_time": "2022-06-01T13:46:47.875Z"
   },
   {
    "duration": 0,
    "start_time": "2022-06-01T13:46:47.876Z"
   },
   {
    "duration": 0,
    "start_time": "2022-06-01T13:46:47.877Z"
   },
   {
    "duration": 0,
    "start_time": "2022-06-01T13:46:47.879Z"
   },
   {
    "duration": 0,
    "start_time": "2022-06-01T13:46:47.880Z"
   },
   {
    "duration": 0,
    "start_time": "2022-06-01T13:46:47.881Z"
   },
   {
    "duration": 0,
    "start_time": "2022-06-01T13:46:47.883Z"
   },
   {
    "duration": 0,
    "start_time": "2022-06-01T13:46:47.885Z"
   },
   {
    "duration": 0,
    "start_time": "2022-06-01T13:46:47.887Z"
   },
   {
    "duration": 0,
    "start_time": "2022-06-01T13:46:47.888Z"
   },
   {
    "duration": 0,
    "start_time": "2022-06-01T13:46:47.890Z"
   },
   {
    "duration": 0,
    "start_time": "2022-06-01T13:46:47.927Z"
   },
   {
    "duration": 0,
    "start_time": "2022-06-01T13:46:47.928Z"
   },
   {
    "duration": 0,
    "start_time": "2022-06-01T13:46:47.930Z"
   },
   {
    "duration": 0,
    "start_time": "2022-06-01T13:46:47.932Z"
   },
   {
    "duration": 0,
    "start_time": "2022-06-01T13:46:47.933Z"
   },
   {
    "duration": 0,
    "start_time": "2022-06-01T13:46:47.934Z"
   },
   {
    "duration": 0,
    "start_time": "2022-06-01T13:46:47.935Z"
   },
   {
    "duration": 0,
    "start_time": "2022-06-01T13:46:47.936Z"
   },
   {
    "duration": 0,
    "start_time": "2022-06-01T13:46:47.937Z"
   },
   {
    "duration": 0,
    "start_time": "2022-06-01T13:46:47.938Z"
   },
   {
    "duration": 0,
    "start_time": "2022-06-01T13:46:47.939Z"
   },
   {
    "duration": 0,
    "start_time": "2022-06-01T13:46:47.940Z"
   },
   {
    "duration": 0,
    "start_time": "2022-06-01T13:46:47.942Z"
   },
   {
    "duration": 0,
    "start_time": "2022-06-01T13:46:47.942Z"
   },
   {
    "duration": 0,
    "start_time": "2022-06-01T13:46:47.943Z"
   },
   {
    "duration": 0,
    "start_time": "2022-06-01T13:46:47.945Z"
   },
   {
    "duration": 0,
    "start_time": "2022-06-01T13:46:47.946Z"
   },
   {
    "duration": 0,
    "start_time": "2022-06-01T13:46:47.947Z"
   },
   {
    "duration": 0,
    "start_time": "2022-06-01T13:46:47.949Z"
   },
   {
    "duration": 0,
    "start_time": "2022-06-01T13:46:47.951Z"
   },
   {
    "duration": 0,
    "start_time": "2022-06-01T13:46:47.952Z"
   },
   {
    "duration": 0,
    "start_time": "2022-06-01T13:46:47.953Z"
   },
   {
    "duration": 0,
    "start_time": "2022-06-01T13:46:47.955Z"
   },
   {
    "duration": 0,
    "start_time": "2022-06-01T13:46:47.956Z"
   },
   {
    "duration": 0,
    "start_time": "2022-06-01T13:46:47.957Z"
   },
   {
    "duration": 0,
    "start_time": "2022-06-01T13:46:47.958Z"
   },
   {
    "duration": 0,
    "start_time": "2022-06-01T13:46:47.959Z"
   },
   {
    "duration": 0,
    "start_time": "2022-06-01T13:46:47.961Z"
   },
   {
    "duration": 0,
    "start_time": "2022-06-01T13:46:47.962Z"
   },
   {
    "duration": 0,
    "start_time": "2022-06-01T13:46:47.963Z"
   },
   {
    "duration": 0,
    "start_time": "2022-06-01T13:46:48.028Z"
   },
   {
    "duration": 0,
    "start_time": "2022-06-01T13:46:48.029Z"
   },
   {
    "duration": 0,
    "start_time": "2022-06-01T13:46:48.030Z"
   },
   {
    "duration": 0,
    "start_time": "2022-06-01T13:46:48.032Z"
   },
   {
    "duration": 0,
    "start_time": "2022-06-01T13:46:48.033Z"
   },
   {
    "duration": 0,
    "start_time": "2022-06-01T13:46:48.035Z"
   },
   {
    "duration": 0,
    "start_time": "2022-06-01T13:46:48.036Z"
   },
   {
    "duration": 0,
    "start_time": "2022-06-01T13:46:48.038Z"
   },
   {
    "duration": 0,
    "start_time": "2022-06-01T13:46:48.039Z"
   },
   {
    "duration": 0,
    "start_time": "2022-06-01T13:46:48.040Z"
   },
   {
    "duration": 0,
    "start_time": "2022-06-01T13:46:48.041Z"
   },
   {
    "duration": 0,
    "start_time": "2022-06-01T13:46:48.042Z"
   },
   {
    "duration": 0,
    "start_time": "2022-06-01T13:46:48.044Z"
   },
   {
    "duration": 0,
    "start_time": "2022-06-01T13:46:48.045Z"
   },
   {
    "duration": 0,
    "start_time": "2022-06-01T13:46:48.046Z"
   },
   {
    "duration": 0,
    "start_time": "2022-06-01T13:46:48.047Z"
   },
   {
    "duration": 2109,
    "start_time": "2022-06-01T14:35:02.199Z"
   },
   {
    "duration": 1325,
    "start_time": "2022-06-01T14:35:04.311Z"
   },
   {
    "duration": 814,
    "start_time": "2022-06-01T14:35:05.637Z"
   },
   {
    "duration": 5,
    "start_time": "2022-06-01T14:35:06.454Z"
   },
   {
    "duration": 801,
    "start_time": "2022-06-01T14:35:06.461Z"
   },
   {
    "duration": 5,
    "start_time": "2022-06-01T14:35:07.265Z"
   },
   {
    "duration": 19,
    "start_time": "2022-06-01T14:35:07.271Z"
   },
   {
    "duration": 219,
    "start_time": "2022-06-01T14:35:07.292Z"
   },
   {
    "duration": 195,
    "start_time": "2022-06-01T14:35:07.513Z"
   },
   {
    "duration": 94,
    "start_time": "2022-06-01T14:35:07.710Z"
   },
   {
    "duration": 57,
    "start_time": "2022-06-01T14:35:07.805Z"
   },
   {
    "duration": 30,
    "start_time": "2022-06-01T14:35:07.863Z"
   },
   {
    "duration": 42,
    "start_time": "2022-06-01T14:35:07.894Z"
   },
   {
    "duration": 36,
    "start_time": "2022-06-01T14:35:07.938Z"
   },
   {
    "duration": 85,
    "start_time": "2022-06-01T14:35:07.976Z"
   },
   {
    "duration": 113,
    "start_time": "2022-06-01T14:35:08.062Z"
   },
   {
    "duration": 22,
    "start_time": "2022-06-01T14:35:08.176Z"
   },
   {
    "duration": 112,
    "start_time": "2022-06-01T14:35:08.200Z"
   },
   {
    "duration": 83,
    "start_time": "2022-06-01T14:35:08.314Z"
   },
   {
    "duration": 32,
    "start_time": "2022-06-01T14:35:08.399Z"
   },
   {
    "duration": 20,
    "start_time": "2022-06-01T14:35:08.433Z"
   },
   {
    "duration": 85,
    "start_time": "2022-06-01T14:35:08.455Z"
   },
   {
    "duration": 16,
    "start_time": "2022-06-01T14:35:08.543Z"
   },
   {
    "duration": 13,
    "start_time": "2022-06-01T14:35:08.561Z"
   },
   {
    "duration": 77,
    "start_time": "2022-06-01T14:35:08.576Z"
   },
   {
    "duration": 436,
    "start_time": "2022-06-01T14:35:08.654Z"
   },
   {
    "duration": 357,
    "start_time": "2022-06-01T14:35:09.091Z"
   },
   {
    "duration": 7,
    "start_time": "2022-06-01T14:35:09.453Z"
   },
   {
    "duration": 3,
    "start_time": "2022-06-01T14:35:09.462Z"
   },
   {
    "duration": 39,
    "start_time": "2022-06-01T14:35:09.467Z"
   },
   {
    "duration": 30,
    "start_time": "2022-06-01T14:35:09.507Z"
   },
   {
    "duration": 87,
    "start_time": "2022-06-01T14:35:09.539Z"
   },
   {
    "duration": 32,
    "start_time": "2022-06-01T14:35:09.627Z"
   },
   {
    "duration": 4,
    "start_time": "2022-06-01T14:35:09.661Z"
   },
   {
    "duration": 30,
    "start_time": "2022-06-01T14:35:09.667Z"
   },
   {
    "duration": 3,
    "start_time": "2022-06-01T14:35:09.698Z"
   },
   {
    "duration": 473,
    "start_time": "2022-06-01T14:35:09.702Z"
   },
   {
    "duration": 13,
    "start_time": "2022-06-01T14:35:10.176Z"
   },
   {
    "duration": 26,
    "start_time": "2022-06-01T14:35:10.191Z"
   },
   {
    "duration": 23,
    "start_time": "2022-06-01T14:35:10.218Z"
   },
   {
    "duration": 11,
    "start_time": "2022-06-01T14:35:10.243Z"
   },
   {
    "duration": 6,
    "start_time": "2022-06-01T14:35:10.255Z"
   },
   {
    "duration": 101,
    "start_time": "2022-06-01T14:35:10.262Z"
   },
   {
    "duration": 3,
    "start_time": "2022-06-01T14:35:10.365Z"
   },
   {
    "duration": 252,
    "start_time": "2022-06-01T14:35:10.370Z"
   },
   {
    "duration": 15,
    "start_time": "2022-06-01T14:35:10.623Z"
   },
   {
    "duration": 33,
    "start_time": "2022-06-01T14:35:10.639Z"
   },
   {
    "duration": 700,
    "start_time": "2022-06-01T14:35:10.674Z"
   },
   {
    "duration": 15,
    "start_time": "2022-06-01T14:35:11.376Z"
   },
   {
    "duration": 87,
    "start_time": "2022-06-01T14:35:11.394Z"
   },
   {
    "duration": 507,
    "start_time": "2022-06-01T14:35:11.483Z"
   },
   {
    "duration": 243,
    "start_time": "2022-06-01T14:35:11.992Z"
   },
   {
    "duration": 3,
    "start_time": "2022-06-01T14:35:12.236Z"
   },
   {
    "duration": 8,
    "start_time": "2022-06-01T14:35:12.241Z"
   },
   {
    "duration": 95,
    "start_time": "2022-06-01T14:35:12.250Z"
   },
   {
    "duration": 267,
    "start_time": "2022-06-01T14:35:12.347Z"
   },
   {
    "duration": 14,
    "start_time": "2022-06-01T14:35:12.616Z"
   },
   {
    "duration": 0,
    "start_time": "2022-06-01T14:35:12.633Z"
   },
   {
    "duration": 0,
    "start_time": "2022-06-01T14:35:12.634Z"
   },
   {
    "duration": 0,
    "start_time": "2022-06-01T14:35:12.636Z"
   },
   {
    "duration": 0,
    "start_time": "2022-06-01T14:35:12.637Z"
   },
   {
    "duration": 0,
    "start_time": "2022-06-01T14:35:12.638Z"
   },
   {
    "duration": 0,
    "start_time": "2022-06-01T14:35:12.640Z"
   },
   {
    "duration": 0,
    "start_time": "2022-06-01T14:35:12.641Z"
   },
   {
    "duration": 0,
    "start_time": "2022-06-01T14:35:12.642Z"
   },
   {
    "duration": 0,
    "start_time": "2022-06-01T14:35:12.644Z"
   },
   {
    "duration": 0,
    "start_time": "2022-06-01T14:35:12.645Z"
   },
   {
    "duration": 0,
    "start_time": "2022-06-01T14:35:12.646Z"
   },
   {
    "duration": 0,
    "start_time": "2022-06-01T14:35:12.647Z"
   },
   {
    "duration": 0,
    "start_time": "2022-06-01T14:35:12.648Z"
   },
   {
    "duration": 0,
    "start_time": "2022-06-01T14:35:12.650Z"
   },
   {
    "duration": 0,
    "start_time": "2022-06-01T14:35:12.651Z"
   },
   {
    "duration": 0,
    "start_time": "2022-06-01T14:35:12.653Z"
   },
   {
    "duration": 0,
    "start_time": "2022-06-01T14:35:12.654Z"
   },
   {
    "duration": 0,
    "start_time": "2022-06-01T14:35:12.655Z"
   },
   {
    "duration": 0,
    "start_time": "2022-06-01T14:35:12.656Z"
   },
   {
    "duration": 0,
    "start_time": "2022-06-01T14:35:12.658Z"
   },
   {
    "duration": 0,
    "start_time": "2022-06-01T14:35:12.659Z"
   },
   {
    "duration": 0,
    "start_time": "2022-06-01T14:35:12.660Z"
   },
   {
    "duration": 0,
    "start_time": "2022-06-01T14:35:12.661Z"
   },
   {
    "duration": 0,
    "start_time": "2022-06-01T14:35:12.662Z"
   },
   {
    "duration": 0,
    "start_time": "2022-06-01T14:35:12.662Z"
   },
   {
    "duration": 0,
    "start_time": "2022-06-01T14:35:12.663Z"
   },
   {
    "duration": 0,
    "start_time": "2022-06-01T14:35:12.664Z"
   },
   {
    "duration": 0,
    "start_time": "2022-06-01T14:35:12.665Z"
   },
   {
    "duration": 0,
    "start_time": "2022-06-01T14:35:12.666Z"
   },
   {
    "duration": 0,
    "start_time": "2022-06-01T14:35:12.667Z"
   },
   {
    "duration": 0,
    "start_time": "2022-06-01T14:35:12.668Z"
   },
   {
    "duration": 0,
    "start_time": "2022-06-01T14:35:12.669Z"
   },
   {
    "duration": 0,
    "start_time": "2022-06-01T14:35:12.727Z"
   },
   {
    "duration": 0,
    "start_time": "2022-06-01T14:35:12.728Z"
   },
   {
    "duration": 0,
    "start_time": "2022-06-01T14:35:12.729Z"
   },
   {
    "duration": 0,
    "start_time": "2022-06-01T14:35:12.730Z"
   },
   {
    "duration": 0,
    "start_time": "2022-06-01T14:35:12.731Z"
   },
   {
    "duration": 0,
    "start_time": "2022-06-01T14:35:12.732Z"
   },
   {
    "duration": 0,
    "start_time": "2022-06-01T14:35:12.732Z"
   },
   {
    "duration": 0,
    "start_time": "2022-06-01T14:35:12.733Z"
   },
   {
    "duration": 0,
    "start_time": "2022-06-01T14:35:12.734Z"
   },
   {
    "duration": 0,
    "start_time": "2022-06-01T14:35:12.734Z"
   },
   {
    "duration": 0,
    "start_time": "2022-06-01T14:35:12.736Z"
   },
   {
    "duration": 0,
    "start_time": "2022-06-01T14:35:12.737Z"
   },
   {
    "duration": 0,
    "start_time": "2022-06-01T14:35:12.738Z"
   },
   {
    "duration": 0,
    "start_time": "2022-06-01T14:35:12.739Z"
   },
   {
    "duration": 0,
    "start_time": "2022-06-01T14:35:12.740Z"
   },
   {
    "duration": 0,
    "start_time": "2022-06-01T14:35:12.741Z"
   },
   {
    "duration": 0,
    "start_time": "2022-06-01T14:35:12.742Z"
   },
   {
    "duration": 0,
    "start_time": "2022-06-01T14:35:12.743Z"
   },
   {
    "duration": 0,
    "start_time": "2022-06-01T14:35:12.744Z"
   },
   {
    "duration": 0,
    "start_time": "2022-06-01T14:35:12.745Z"
   },
   {
    "duration": 0,
    "start_time": "2022-06-01T14:35:12.746Z"
   },
   {
    "duration": 0,
    "start_time": "2022-06-01T14:35:12.747Z"
   },
   {
    "duration": 0,
    "start_time": "2022-06-01T14:35:12.748Z"
   },
   {
    "duration": 0,
    "start_time": "2022-06-01T14:35:12.750Z"
   },
   {
    "duration": 0,
    "start_time": "2022-06-01T14:35:12.750Z"
   },
   {
    "duration": 0,
    "start_time": "2022-06-01T14:35:12.751Z"
   },
   {
    "duration": 0,
    "start_time": "2022-06-01T14:35:12.752Z"
   },
   {
    "duration": 16,
    "start_time": "2022-06-01T15:06:59.040Z"
   },
   {
    "duration": 2013,
    "start_time": "2022-06-01T15:18:57.123Z"
   },
   {
    "duration": 1209,
    "start_time": "2022-06-01T15:18:59.139Z"
   },
   {
    "duration": 763,
    "start_time": "2022-06-01T15:19:00.353Z"
   },
   {
    "duration": 6,
    "start_time": "2022-06-01T15:19:01.117Z"
   },
   {
    "duration": 862,
    "start_time": "2022-06-01T15:19:01.126Z"
   },
   {
    "duration": 4,
    "start_time": "2022-06-01T15:19:01.990Z"
   },
   {
    "duration": 34,
    "start_time": "2022-06-01T15:19:01.996Z"
   },
   {
    "duration": 226,
    "start_time": "2022-06-01T15:19:02.032Z"
   },
   {
    "duration": 206,
    "start_time": "2022-06-01T15:19:02.261Z"
   },
   {
    "duration": 94,
    "start_time": "2022-06-01T15:19:02.468Z"
   },
   {
    "duration": 48,
    "start_time": "2022-06-01T15:19:02.564Z"
   },
   {
    "duration": 40,
    "start_time": "2022-06-01T15:19:02.613Z"
   },
   {
    "duration": 39,
    "start_time": "2022-06-01T15:19:02.655Z"
   },
   {
    "duration": 38,
    "start_time": "2022-06-01T15:19:02.696Z"
   },
   {
    "duration": 91,
    "start_time": "2022-06-01T15:19:02.736Z"
   },
   {
    "duration": 108,
    "start_time": "2022-06-01T15:19:02.829Z"
   },
   {
    "duration": 21,
    "start_time": "2022-06-01T15:19:02.939Z"
   },
   {
    "duration": 115,
    "start_time": "2022-06-01T15:19:02.962Z"
   },
   {
    "duration": 77,
    "start_time": "2022-06-01T15:19:03.079Z"
   },
   {
    "duration": 22,
    "start_time": "2022-06-01T15:19:03.157Z"
   },
   {
    "duration": 23,
    "start_time": "2022-06-01T15:19:03.181Z"
   },
   {
    "duration": 90,
    "start_time": "2022-06-01T15:19:03.206Z"
   },
   {
    "duration": 15,
    "start_time": "2022-06-01T15:19:03.297Z"
   },
   {
    "duration": 23,
    "start_time": "2022-06-01T15:19:03.314Z"
   },
   {
    "duration": 50,
    "start_time": "2022-06-01T15:19:03.339Z"
   },
   {
    "duration": 440,
    "start_time": "2022-06-01T15:19:03.391Z"
   },
   {
    "duration": 351,
    "start_time": "2022-06-01T15:19:03.837Z"
   },
   {
    "duration": 6,
    "start_time": "2022-06-01T15:19:04.190Z"
   },
   {
    "duration": 27,
    "start_time": "2022-06-01T15:19:04.197Z"
   },
   {
    "duration": 39,
    "start_time": "2022-06-01T15:19:04.226Z"
   },
   {
    "duration": 11,
    "start_time": "2022-06-01T15:19:04.267Z"
   },
   {
    "duration": 69,
    "start_time": "2022-06-01T15:19:04.279Z"
   },
   {
    "duration": 32,
    "start_time": "2022-06-01T15:19:04.350Z"
   },
   {
    "duration": 3,
    "start_time": "2022-06-01T15:19:04.384Z"
   },
   {
    "duration": 43,
    "start_time": "2022-06-01T15:19:04.388Z"
   },
   {
    "duration": 3,
    "start_time": "2022-06-01T15:19:04.432Z"
   },
   {
    "duration": 475,
    "start_time": "2022-06-01T15:19:04.436Z"
   },
   {
    "duration": 15,
    "start_time": "2022-06-01T15:19:04.913Z"
   },
   {
    "duration": 25,
    "start_time": "2022-06-01T15:19:04.929Z"
   },
   {
    "duration": 17,
    "start_time": "2022-06-01T15:19:04.955Z"
   },
   {
    "duration": 13,
    "start_time": "2022-06-01T15:19:04.974Z"
   },
   {
    "duration": 5,
    "start_time": "2022-06-01T15:19:04.988Z"
   },
   {
    "duration": 115,
    "start_time": "2022-06-01T15:19:04.994Z"
   },
   {
    "duration": 4,
    "start_time": "2022-06-01T15:19:05.111Z"
   },
   {
    "duration": 263,
    "start_time": "2022-06-01T15:19:05.117Z"
   },
   {
    "duration": 14,
    "start_time": "2022-06-01T15:19:05.382Z"
   },
   {
    "duration": 47,
    "start_time": "2022-06-01T15:19:05.397Z"
   },
   {
    "duration": 668,
    "start_time": "2022-06-01T15:19:05.445Z"
   },
   {
    "duration": 18,
    "start_time": "2022-06-01T15:19:06.114Z"
   },
   {
    "duration": 71,
    "start_time": "2022-06-01T15:19:06.134Z"
   },
   {
    "duration": 545,
    "start_time": "2022-06-01T15:19:06.206Z"
   },
   {
    "duration": 238,
    "start_time": "2022-06-01T15:19:06.753Z"
   },
   {
    "duration": 2,
    "start_time": "2022-06-01T15:19:06.993Z"
   },
   {
    "duration": 12,
    "start_time": "2022-06-01T15:19:06.997Z"
   },
   {
    "duration": 120,
    "start_time": "2022-06-01T15:19:07.011Z"
   },
   {
    "duration": 199,
    "start_time": "2022-06-01T15:19:07.132Z"
   },
   {
    "duration": 12,
    "start_time": "2022-06-01T15:19:07.332Z"
   },
   {
    "duration": 0,
    "start_time": "2022-06-01T15:19:07.348Z"
   },
   {
    "duration": 0,
    "start_time": "2022-06-01T15:19:07.349Z"
   },
   {
    "duration": 0,
    "start_time": "2022-06-01T15:19:07.351Z"
   },
   {
    "duration": 0,
    "start_time": "2022-06-01T15:19:07.352Z"
   },
   {
    "duration": 0,
    "start_time": "2022-06-01T15:19:07.354Z"
   },
   {
    "duration": 0,
    "start_time": "2022-06-01T15:19:07.355Z"
   },
   {
    "duration": 0,
    "start_time": "2022-06-01T15:19:07.356Z"
   },
   {
    "duration": 0,
    "start_time": "2022-06-01T15:19:07.357Z"
   },
   {
    "duration": 0,
    "start_time": "2022-06-01T15:19:07.358Z"
   },
   {
    "duration": 0,
    "start_time": "2022-06-01T15:19:07.359Z"
   },
   {
    "duration": 0,
    "start_time": "2022-06-01T15:19:07.360Z"
   },
   {
    "duration": 0,
    "start_time": "2022-06-01T15:19:07.362Z"
   },
   {
    "duration": 0,
    "start_time": "2022-06-01T15:19:07.364Z"
   },
   {
    "duration": 0,
    "start_time": "2022-06-01T15:19:07.364Z"
   },
   {
    "duration": 0,
    "start_time": "2022-06-01T15:19:07.366Z"
   },
   {
    "duration": 0,
    "start_time": "2022-06-01T15:19:07.367Z"
   },
   {
    "duration": 0,
    "start_time": "2022-06-01T15:19:07.368Z"
   },
   {
    "duration": 0,
    "start_time": "2022-06-01T15:19:07.368Z"
   },
   {
    "duration": 0,
    "start_time": "2022-06-01T15:19:07.369Z"
   },
   {
    "duration": 0,
    "start_time": "2022-06-01T15:19:07.370Z"
   },
   {
    "duration": 0,
    "start_time": "2022-06-01T15:19:07.371Z"
   },
   {
    "duration": 0,
    "start_time": "2022-06-01T15:19:07.372Z"
   },
   {
    "duration": 0,
    "start_time": "2022-06-01T15:19:07.373Z"
   },
   {
    "duration": 0,
    "start_time": "2022-06-01T15:19:07.374Z"
   },
   {
    "duration": 0,
    "start_time": "2022-06-01T15:19:07.375Z"
   },
   {
    "duration": 0,
    "start_time": "2022-06-01T15:19:07.376Z"
   },
   {
    "duration": 0,
    "start_time": "2022-06-01T15:19:07.427Z"
   },
   {
    "duration": 0,
    "start_time": "2022-06-01T15:19:07.428Z"
   },
   {
    "duration": 0,
    "start_time": "2022-06-01T15:19:07.430Z"
   },
   {
    "duration": 0,
    "start_time": "2022-06-01T15:19:07.431Z"
   },
   {
    "duration": 0,
    "start_time": "2022-06-01T15:19:07.432Z"
   },
   {
    "duration": 0,
    "start_time": "2022-06-01T15:19:07.433Z"
   },
   {
    "duration": 0,
    "start_time": "2022-06-01T15:19:07.434Z"
   },
   {
    "duration": 0,
    "start_time": "2022-06-01T15:19:07.435Z"
   },
   {
    "duration": 0,
    "start_time": "2022-06-01T15:19:07.436Z"
   },
   {
    "duration": 0,
    "start_time": "2022-06-01T15:19:07.437Z"
   },
   {
    "duration": 0,
    "start_time": "2022-06-01T15:19:07.438Z"
   },
   {
    "duration": 0,
    "start_time": "2022-06-01T15:19:07.439Z"
   },
   {
    "duration": 0,
    "start_time": "2022-06-01T15:19:07.440Z"
   },
   {
    "duration": 0,
    "start_time": "2022-06-01T15:19:07.441Z"
   },
   {
    "duration": 0,
    "start_time": "2022-06-01T15:19:07.442Z"
   },
   {
    "duration": 0,
    "start_time": "2022-06-01T15:19:07.443Z"
   },
   {
    "duration": 0,
    "start_time": "2022-06-01T15:19:07.446Z"
   },
   {
    "duration": 0,
    "start_time": "2022-06-01T15:19:07.446Z"
   },
   {
    "duration": 0,
    "start_time": "2022-06-01T15:19:07.448Z"
   },
   {
    "duration": 0,
    "start_time": "2022-06-01T15:19:07.449Z"
   },
   {
    "duration": 0,
    "start_time": "2022-06-01T15:19:07.450Z"
   },
   {
    "duration": 0,
    "start_time": "2022-06-01T15:19:07.451Z"
   },
   {
    "duration": 0,
    "start_time": "2022-06-01T15:19:07.452Z"
   },
   {
    "duration": 0,
    "start_time": "2022-06-01T15:19:07.453Z"
   },
   {
    "duration": 0,
    "start_time": "2022-06-01T15:19:07.454Z"
   },
   {
    "duration": 0,
    "start_time": "2022-06-01T15:19:07.455Z"
   },
   {
    "duration": 0,
    "start_time": "2022-06-01T15:19:07.456Z"
   },
   {
    "duration": 0,
    "start_time": "2022-06-01T15:19:07.457Z"
   },
   {
    "duration": 0,
    "start_time": "2022-06-01T15:19:07.458Z"
   },
   {
    "duration": 0,
    "start_time": "2022-06-01T15:19:07.459Z"
   },
   {
    "duration": 0,
    "start_time": "2022-06-01T15:19:07.459Z"
   },
   {
    "duration": 0,
    "start_time": "2022-06-01T15:19:07.460Z"
   },
   {
    "duration": 0,
    "start_time": "2022-06-01T15:19:07.461Z"
   },
   {
    "duration": 90,
    "start_time": "2022-06-03T10:59:02.846Z"
   },
   {
    "duration": 8,
    "start_time": "2022-06-03T10:59:19.703Z"
   },
   {
    "duration": 3158,
    "start_time": "2022-06-03T10:59:29.799Z"
   },
   {
    "duration": 1833,
    "start_time": "2022-06-03T10:59:32.963Z"
   },
   {
    "duration": 1505,
    "start_time": "2022-06-03T10:59:34.797Z"
   },
   {
    "duration": 4,
    "start_time": "2022-06-03T10:59:36.304Z"
   },
   {
    "duration": 1103,
    "start_time": "2022-06-03T10:59:36.311Z"
   },
   {
    "duration": 6,
    "start_time": "2022-06-03T10:59:37.417Z"
   },
   {
    "duration": 61,
    "start_time": "2022-06-03T10:59:37.425Z"
   },
   {
    "duration": 410,
    "start_time": "2022-06-03T10:59:37.488Z"
   },
   {
    "duration": 697,
    "start_time": "2022-06-03T10:59:37.901Z"
   },
   {
    "duration": 260,
    "start_time": "2022-06-03T10:59:38.608Z"
   },
   {
    "duration": 120,
    "start_time": "2022-06-03T10:59:38.870Z"
   },
   {
    "duration": 110,
    "start_time": "2022-06-03T10:59:38.994Z"
   },
   {
    "duration": 175,
    "start_time": "2022-06-03T10:59:39.115Z"
   },
   {
    "duration": 104,
    "start_time": "2022-06-03T10:59:39.294Z"
   },
   {
    "duration": 312,
    "start_time": "2022-06-03T10:59:39.402Z"
   },
   {
    "duration": 426,
    "start_time": "2022-06-03T10:59:39.759Z"
   },
   {
    "duration": 88,
    "start_time": "2022-06-03T10:59:40.188Z"
   },
   {
    "duration": 224,
    "start_time": "2022-06-03T10:59:40.286Z"
   },
   {
    "duration": 98,
    "start_time": "2022-06-03T10:59:40.511Z"
   },
   {
    "duration": 31,
    "start_time": "2022-06-03T10:59:40.612Z"
   },
   {
    "duration": 45,
    "start_time": "2022-06-03T10:59:40.645Z"
   },
   {
    "duration": 106,
    "start_time": "2022-06-03T10:59:40.692Z"
   },
   {
    "duration": 23,
    "start_time": "2022-06-03T10:59:40.809Z"
   },
   {
    "duration": 14,
    "start_time": "2022-06-03T10:59:40.833Z"
   },
   {
    "duration": 64,
    "start_time": "2022-06-03T10:59:40.849Z"
   },
   {
    "duration": 585,
    "start_time": "2022-06-03T10:59:40.915Z"
   },
   {
    "duration": 501,
    "start_time": "2022-06-03T10:59:41.507Z"
   },
   {
    "duration": 9,
    "start_time": "2022-06-03T10:59:42.010Z"
   },
   {
    "duration": 4,
    "start_time": "2022-06-03T10:59:42.024Z"
   },
   {
    "duration": 64,
    "start_time": "2022-06-03T10:59:42.030Z"
   },
   {
    "duration": 16,
    "start_time": "2022-06-03T10:59:42.096Z"
   },
   {
    "duration": 110,
    "start_time": "2022-06-03T10:59:42.114Z"
   },
   {
    "duration": 51,
    "start_time": "2022-06-03T10:59:42.226Z"
   },
   {
    "duration": 18,
    "start_time": "2022-06-03T10:59:42.287Z"
   },
   {
    "duration": 46,
    "start_time": "2022-06-03T10:59:42.307Z"
   },
   {
    "duration": 50,
    "start_time": "2022-06-03T10:59:42.355Z"
   },
   {
    "duration": 686,
    "start_time": "2022-06-03T10:59:42.412Z"
   },
   {
    "duration": 20,
    "start_time": "2022-06-03T10:59:43.113Z"
   },
   {
    "duration": 29,
    "start_time": "2022-06-03T10:59:43.136Z"
   },
   {
    "duration": 21,
    "start_time": "2022-06-03T10:59:43.171Z"
   },
   {
    "duration": 28,
    "start_time": "2022-06-03T10:59:43.206Z"
   },
   {
    "duration": 12,
    "start_time": "2022-06-03T10:59:43.235Z"
   },
   {
    "duration": 157,
    "start_time": "2022-06-03T10:59:43.249Z"
   },
   {
    "duration": 4,
    "start_time": "2022-06-03T10:59:43.408Z"
   },
   {
    "duration": 325,
    "start_time": "2022-06-03T10:59:43.414Z"
   },
   {
    "duration": 32,
    "start_time": "2022-06-03T10:59:43.741Z"
   },
   {
    "duration": 63,
    "start_time": "2022-06-03T10:59:43.775Z"
   },
   {
    "duration": 915,
    "start_time": "2022-06-03T10:59:43.840Z"
   },
   {
    "duration": 30,
    "start_time": "2022-06-03T10:59:44.775Z"
   },
   {
    "duration": 152,
    "start_time": "2022-06-03T10:59:44.818Z"
   },
   {
    "duration": 630,
    "start_time": "2022-06-03T10:59:44.972Z"
   },
   {
    "duration": 340,
    "start_time": "2022-06-03T10:59:45.607Z"
   },
   {
    "duration": 4,
    "start_time": "2022-06-03T10:59:45.949Z"
   },
   {
    "duration": 46,
    "start_time": "2022-06-03T10:59:45.954Z"
   },
   {
    "duration": 199,
    "start_time": "2022-06-03T10:59:46.006Z"
   },
   {
    "duration": 197,
    "start_time": "2022-06-03T10:59:46.209Z"
   },
   {
    "duration": 12,
    "start_time": "2022-06-03T10:59:46.408Z"
   },
   {
    "duration": 0,
    "start_time": "2022-06-03T10:59:46.422Z"
   },
   {
    "duration": 0,
    "start_time": "2022-06-03T10:59:46.424Z"
   },
   {
    "duration": 0,
    "start_time": "2022-06-03T10:59:46.425Z"
   },
   {
    "duration": 0,
    "start_time": "2022-06-03T10:59:46.427Z"
   },
   {
    "duration": 0,
    "start_time": "2022-06-03T10:59:46.428Z"
   },
   {
    "duration": 0,
    "start_time": "2022-06-03T10:59:46.429Z"
   },
   {
    "duration": 0,
    "start_time": "2022-06-03T10:59:46.431Z"
   },
   {
    "duration": 0,
    "start_time": "2022-06-03T10:59:46.432Z"
   },
   {
    "duration": 0,
    "start_time": "2022-06-03T10:59:46.434Z"
   },
   {
    "duration": 0,
    "start_time": "2022-06-03T10:59:46.435Z"
   },
   {
    "duration": 0,
    "start_time": "2022-06-03T10:59:46.436Z"
   },
   {
    "duration": 0,
    "start_time": "2022-06-03T10:59:46.438Z"
   },
   {
    "duration": 0,
    "start_time": "2022-06-03T10:59:46.439Z"
   },
   {
    "duration": 0,
    "start_time": "2022-06-03T10:59:46.441Z"
   },
   {
    "duration": 0,
    "start_time": "2022-06-03T10:59:46.442Z"
   },
   {
    "duration": 0,
    "start_time": "2022-06-03T10:59:46.462Z"
   },
   {
    "duration": 0,
    "start_time": "2022-06-03T10:59:46.463Z"
   },
   {
    "duration": 0,
    "start_time": "2022-06-03T10:59:46.469Z"
   },
   {
    "duration": 0,
    "start_time": "2022-06-03T10:59:46.470Z"
   },
   {
    "duration": 0,
    "start_time": "2022-06-03T10:59:46.471Z"
   },
   {
    "duration": 0,
    "start_time": "2022-06-03T10:59:46.472Z"
   },
   {
    "duration": 0,
    "start_time": "2022-06-03T10:59:46.473Z"
   },
   {
    "duration": 0,
    "start_time": "2022-06-03T10:59:46.473Z"
   },
   {
    "duration": 0,
    "start_time": "2022-06-03T10:59:46.474Z"
   },
   {
    "duration": 0,
    "start_time": "2022-06-03T10:59:46.475Z"
   },
   {
    "duration": 0,
    "start_time": "2022-06-03T10:59:46.475Z"
   },
   {
    "duration": 0,
    "start_time": "2022-06-03T10:59:46.476Z"
   },
   {
    "duration": 0,
    "start_time": "2022-06-03T10:59:46.477Z"
   },
   {
    "duration": 0,
    "start_time": "2022-06-03T10:59:46.477Z"
   },
   {
    "duration": 0,
    "start_time": "2022-06-03T10:59:46.478Z"
   },
   {
    "duration": 0,
    "start_time": "2022-06-03T10:59:46.484Z"
   },
   {
    "duration": 0,
    "start_time": "2022-06-03T10:59:46.485Z"
   },
   {
    "duration": 0,
    "start_time": "2022-06-03T10:59:46.486Z"
   },
   {
    "duration": 0,
    "start_time": "2022-06-03T10:59:46.490Z"
   },
   {
    "duration": 0,
    "start_time": "2022-06-03T10:59:46.492Z"
   },
   {
    "duration": 0,
    "start_time": "2022-06-03T10:59:46.493Z"
   },
   {
    "duration": 0,
    "start_time": "2022-06-03T10:59:46.499Z"
   },
   {
    "duration": 0,
    "start_time": "2022-06-03T10:59:46.500Z"
   },
   {
    "duration": 0,
    "start_time": "2022-06-03T10:59:46.501Z"
   },
   {
    "duration": 0,
    "start_time": "2022-06-03T10:59:46.502Z"
   },
   {
    "duration": 0,
    "start_time": "2022-06-03T10:59:46.503Z"
   },
   {
    "duration": 0,
    "start_time": "2022-06-03T10:59:46.505Z"
   },
   {
    "duration": 0,
    "start_time": "2022-06-03T10:59:46.506Z"
   },
   {
    "duration": 0,
    "start_time": "2022-06-03T10:59:46.507Z"
   },
   {
    "duration": 0,
    "start_time": "2022-06-03T10:59:46.508Z"
   },
   {
    "duration": 0,
    "start_time": "2022-06-03T10:59:46.510Z"
   },
   {
    "duration": 0,
    "start_time": "2022-06-03T10:59:46.511Z"
   },
   {
    "duration": 0,
    "start_time": "2022-06-03T10:59:46.512Z"
   },
   {
    "duration": 0,
    "start_time": "2022-06-03T10:59:46.514Z"
   },
   {
    "duration": 0,
    "start_time": "2022-06-03T10:59:46.515Z"
   },
   {
    "duration": 0,
    "start_time": "2022-06-03T10:59:46.516Z"
   },
   {
    "duration": 0,
    "start_time": "2022-06-03T10:59:46.517Z"
   },
   {
    "duration": 0,
    "start_time": "2022-06-03T10:59:46.519Z"
   },
   {
    "duration": 0,
    "start_time": "2022-06-03T10:59:46.563Z"
   },
   {
    "duration": 1,
    "start_time": "2022-06-03T10:59:46.564Z"
   },
   {
    "duration": 0,
    "start_time": "2022-06-03T10:59:46.566Z"
   },
   {
    "duration": 0,
    "start_time": "2022-06-03T10:59:46.567Z"
   },
   {
    "duration": 0,
    "start_time": "2022-06-03T10:59:46.568Z"
   },
   {
    "duration": 1,
    "start_time": "2022-06-03T10:59:46.569Z"
   },
   {
    "duration": 268,
    "start_time": "2022-06-03T11:01:37.652Z"
   },
   {
    "duration": 12,
    "start_time": "2022-06-03T11:09:46.909Z"
   },
   {
    "duration": 41,
    "start_time": "2022-06-03T11:09:55.992Z"
   },
   {
    "duration": 10,
    "start_time": "2022-06-03T11:10:18.817Z"
   },
   {
    "duration": 57,
    "start_time": "2022-06-03T11:10:20.725Z"
   },
   {
    "duration": 598,
    "start_time": "2022-06-03T11:13:27.052Z"
   },
   {
    "duration": 2502,
    "start_time": "2022-06-03T11:13:45.519Z"
   },
   {
    "duration": 5,
    "start_time": "2022-06-03T11:13:48.024Z"
   },
   {
    "duration": 847,
    "start_time": "2022-06-03T11:13:48.031Z"
   },
   {
    "duration": 5,
    "start_time": "2022-06-03T11:13:48.881Z"
   },
   {
    "duration": 864,
    "start_time": "2022-06-03T11:13:48.888Z"
   },
   {
    "duration": 17,
    "start_time": "2022-06-03T11:13:49.753Z"
   },
   {
    "duration": 38,
    "start_time": "2022-06-03T11:13:49.775Z"
   },
   {
    "duration": 413,
    "start_time": "2022-06-03T11:13:49.815Z"
   },
   {
    "duration": 285,
    "start_time": "2022-06-03T11:13:50.230Z"
   },
   {
    "duration": 73,
    "start_time": "2022-06-03T11:13:50.519Z"
   },
   {
    "duration": 80,
    "start_time": "2022-06-03T11:13:50.596Z"
   },
   {
    "duration": 80,
    "start_time": "2022-06-03T11:13:50.677Z"
   },
   {
    "duration": 117,
    "start_time": "2022-06-03T11:13:50.759Z"
   },
   {
    "duration": 173,
    "start_time": "2022-06-03T11:13:50.878Z"
   },
   {
    "duration": 173,
    "start_time": "2022-06-03T11:13:51.053Z"
   },
   {
    "duration": 44,
    "start_time": "2022-06-03T11:13:51.228Z"
   },
   {
    "duration": 152,
    "start_time": "2022-06-03T11:13:51.276Z"
   },
   {
    "duration": 94,
    "start_time": "2022-06-03T11:13:51.429Z"
   },
   {
    "duration": 44,
    "start_time": "2022-06-03T11:13:51.525Z"
   },
   {
    "duration": 48,
    "start_time": "2022-06-03T11:13:51.571Z"
   },
   {
    "duration": 92,
    "start_time": "2022-06-03T11:13:51.621Z"
   },
   {
    "duration": 23,
    "start_time": "2022-06-03T11:13:51.715Z"
   },
   {
    "duration": 36,
    "start_time": "2022-06-03T11:13:51.741Z"
   },
   {
    "duration": 77,
    "start_time": "2022-06-03T11:13:51.779Z"
   },
   {
    "duration": 515,
    "start_time": "2022-06-03T11:13:51.858Z"
   },
   {
    "duration": 456,
    "start_time": "2022-06-03T11:13:52.383Z"
   },
   {
    "duration": 31,
    "start_time": "2022-06-03T11:13:52.841Z"
   },
   {
    "duration": 422,
    "start_time": "2022-06-03T11:13:52.877Z"
   },
   {
    "duration": 48,
    "start_time": "2022-06-03T11:15:20.207Z"
   },
   {
    "duration": 19,
    "start_time": "2022-06-03T11:18:23.261Z"
   },
   {
    "duration": 55,
    "start_time": "2022-06-03T11:19:33.368Z"
   },
   {
    "duration": 39,
    "start_time": "2022-06-03T11:30:17.797Z"
   },
   {
    "duration": 20,
    "start_time": "2022-06-03T11:30:19.999Z"
   },
   {
    "duration": 90,
    "start_time": "2022-06-03T11:30:21.021Z"
   },
   {
    "duration": 43,
    "start_time": "2022-06-03T11:30:25.900Z"
   },
   {
    "duration": 5,
    "start_time": "2022-06-03T11:30:26.972Z"
   },
   {
    "duration": 32,
    "start_time": "2022-06-03T11:30:38.306Z"
   },
   {
    "duration": 3,
    "start_time": "2022-06-03T11:30:53.881Z"
   },
   {
    "duration": 505,
    "start_time": "2022-06-03T11:30:54.504Z"
   },
   {
    "duration": 21,
    "start_time": "2022-06-03T11:30:55.248Z"
   },
   {
    "duration": 18,
    "start_time": "2022-06-03T11:30:56.671Z"
   },
   {
    "duration": 27,
    "start_time": "2022-06-03T11:31:01.498Z"
   },
   {
    "duration": 19,
    "start_time": "2022-06-03T11:31:05.516Z"
   },
   {
    "duration": 6,
    "start_time": "2022-06-03T11:31:08.786Z"
   },
   {
    "duration": 78,
    "start_time": "2022-06-03T11:31:13.611Z"
   },
   {
    "duration": 6,
    "start_time": "2022-06-03T11:31:15.125Z"
   },
   {
    "duration": 235,
    "start_time": "2022-06-03T11:31:19.253Z"
   },
   {
    "duration": 17,
    "start_time": "2022-06-03T11:31:20.660Z"
   },
   {
    "duration": 14,
    "start_time": "2022-06-03T11:32:00.587Z"
   },
   {
    "duration": 976,
    "start_time": "2022-06-03T11:32:00.888Z"
   },
   {
    "duration": 20,
    "start_time": "2022-06-03T11:32:08.441Z"
   },
   {
    "duration": 112,
    "start_time": "2022-06-03T11:32:09.571Z"
   },
   {
    "duration": 690,
    "start_time": "2022-06-03T11:32:17.216Z"
   },
   {
    "duration": 220,
    "start_time": "2022-06-03T11:32:20.205Z"
   },
   {
    "duration": 3,
    "start_time": "2022-06-03T11:32:20.525Z"
   },
   {
    "duration": 4,
    "start_time": "2022-06-03T11:32:20.886Z"
   },
   {
    "duration": 123,
    "start_time": "2022-06-03T11:33:03.761Z"
   },
   {
    "duration": 122,
    "start_time": "2022-06-03T11:33:07.741Z"
   },
   {
    "duration": 24,
    "start_time": "2022-06-03T11:33:12.300Z"
   },
   {
    "duration": 7,
    "start_time": "2022-06-03T11:33:34.106Z"
   },
   {
    "duration": 1122,
    "start_time": "2022-06-03T11:34:33.749Z"
   },
   {
    "duration": 56447,
    "start_time": "2022-06-03T11:36:07.615Z"
   },
   {
    "duration": 506,
    "start_time": "2022-06-03T11:37:04.066Z"
   },
   {
    "duration": 10,
    "start_time": "2022-06-03T11:37:04.581Z"
   },
   {
    "duration": 4,
    "start_time": "2022-06-03T11:38:37.118Z"
   },
   {
    "duration": 381,
    "start_time": "2022-06-03T11:38:41.882Z"
   },
   {
    "duration": 376,
    "start_time": "2022-06-03T11:38:44.995Z"
   },
   {
    "duration": 63,
    "start_time": "2022-06-03T11:38:46.759Z"
   },
   {
    "duration": 290,
    "start_time": "2022-06-03T11:39:45.840Z"
   },
   {
    "duration": 20,
    "start_time": "2022-06-03T11:39:47.179Z"
   },
   {
    "duration": 7,
    "start_time": "2022-06-03T11:39:49.241Z"
   },
   {
    "duration": 235,
    "start_time": "2022-06-03T12:01:06.835Z"
   },
   {
    "duration": 87,
    "start_time": "2022-06-03T12:01:36.327Z"
   },
   {
    "duration": 444,
    "start_time": "2022-06-03T12:01:46.654Z"
   },
   {
    "duration": 61,
    "start_time": "2022-06-03T12:03:22.774Z"
   },
   {
    "duration": 29,
    "start_time": "2022-06-03T12:03:56.439Z"
   },
   {
    "duration": 356296,
    "start_time": "2022-06-03T12:04:16.466Z"
   },
   {
    "duration": 2335,
    "start_time": "2022-06-03T12:10:12.764Z"
   },
   {
    "duration": 69,
    "start_time": "2022-06-03T12:10:15.102Z"
   },
   {
    "duration": 351302,
    "start_time": "2022-06-03T12:23:18.786Z"
   },
   {
    "duration": 3309,
    "start_time": "2022-06-03T12:33:40.865Z"
   },
   {
    "duration": 7,
    "start_time": "2022-06-03T12:33:44.176Z"
   },
   {
    "duration": 360,
    "start_time": "2022-06-03T12:35:47.208Z"
   },
   {
    "duration": 85,
    "start_time": "2022-06-03T18:04:30.803Z"
   },
   {
    "duration": 2756,
    "start_time": "2022-06-03T18:05:14.324Z"
   },
   {
    "duration": 1604,
    "start_time": "2022-06-03T18:05:17.082Z"
   },
   {
    "duration": 1544,
    "start_time": "2022-06-03T18:05:18.688Z"
   },
   {
    "duration": 5,
    "start_time": "2022-06-03T18:05:20.234Z"
   },
   {
    "duration": 998,
    "start_time": "2022-06-03T18:05:20.246Z"
   },
   {
    "duration": 5,
    "start_time": "2022-06-03T18:05:21.246Z"
   },
   {
    "duration": 44,
    "start_time": "2022-06-03T18:05:21.262Z"
   },
   {
    "duration": 283,
    "start_time": "2022-06-03T18:05:21.307Z"
   },
   {
    "duration": 310,
    "start_time": "2022-06-03T18:05:21.593Z"
   },
   {
    "duration": 63,
    "start_time": "2022-06-03T18:05:21.906Z"
   },
   {
    "duration": 36,
    "start_time": "2022-06-03T18:05:21.973Z"
   },
   {
    "duration": 84,
    "start_time": "2022-06-03T18:05:22.011Z"
   },
   {
    "duration": 66,
    "start_time": "2022-06-03T18:05:22.097Z"
   },
   {
    "duration": 123,
    "start_time": "2022-06-03T18:05:22.165Z"
   },
   {
    "duration": 146,
    "start_time": "2022-06-03T18:05:22.289Z"
   },
   {
    "duration": 56,
    "start_time": "2022-06-03T18:05:22.439Z"
   },
   {
    "duration": 138,
    "start_time": "2022-06-03T18:05:22.497Z"
   },
   {
    "duration": 110,
    "start_time": "2022-06-03T18:05:22.636Z"
   },
   {
    "duration": 39,
    "start_time": "2022-06-03T18:05:22.756Z"
   },
   {
    "duration": 94,
    "start_time": "2022-06-03T18:05:22.797Z"
   },
   {
    "duration": 104,
    "start_time": "2022-06-03T18:05:22.893Z"
   },
   {
    "duration": 19,
    "start_time": "2022-06-03T18:05:23.000Z"
   },
   {
    "duration": 66,
    "start_time": "2022-06-03T18:05:23.021Z"
   },
   {
    "duration": 92,
    "start_time": "2022-06-03T18:05:23.090Z"
   },
   {
    "duration": 495,
    "start_time": "2022-06-03T18:05:23.184Z"
   },
   {
    "duration": 392,
    "start_time": "2022-06-03T18:05:23.681Z"
   },
   {
    "duration": 6,
    "start_time": "2022-06-03T18:05:24.075Z"
   },
   {
    "duration": 78,
    "start_time": "2022-06-03T18:05:24.085Z"
   },
   {
    "duration": 47,
    "start_time": "2022-06-03T18:05:24.165Z"
   },
   {
    "duration": 3,
    "start_time": "2022-06-03T18:05:24.214Z"
   },
   {
    "duration": 68,
    "start_time": "2022-06-03T18:05:24.235Z"
   },
   {
    "duration": 12,
    "start_time": "2022-06-03T18:05:24.305Z"
   },
   {
    "duration": 178,
    "start_time": "2022-06-03T18:05:24.318Z"
   },
   {
    "duration": 36,
    "start_time": "2022-06-03T18:05:24.498Z"
   },
   {
    "duration": 41,
    "start_time": "2022-06-03T18:05:24.537Z"
   },
   {
    "duration": 3,
    "start_time": "2022-06-03T18:05:24.581Z"
   },
   {
    "duration": 674,
    "start_time": "2022-06-03T18:05:24.586Z"
   },
   {
    "duration": 24,
    "start_time": "2022-06-03T18:05:25.262Z"
   },
   {
    "duration": 22,
    "start_time": "2022-06-03T18:05:25.288Z"
   },
   {
    "duration": 38,
    "start_time": "2022-06-03T18:05:25.313Z"
   },
   {
    "duration": 31,
    "start_time": "2022-06-03T18:05:25.362Z"
   },
   {
    "duration": 9,
    "start_time": "2022-06-03T18:05:25.395Z"
   },
   {
    "duration": 93,
    "start_time": "2022-06-03T18:05:25.406Z"
   },
   {
    "duration": 4,
    "start_time": "2022-06-03T18:05:25.500Z"
   },
   {
    "duration": 307,
    "start_time": "2022-06-03T18:05:25.506Z"
   },
   {
    "duration": 40,
    "start_time": "2022-06-03T18:05:25.815Z"
   },
   {
    "duration": 58,
    "start_time": "2022-06-03T18:05:25.858Z"
   },
   {
    "duration": 780,
    "start_time": "2022-06-03T18:05:25.918Z"
   },
   {
    "duration": 16,
    "start_time": "2022-06-03T18:05:26.699Z"
   },
   {
    "duration": 125,
    "start_time": "2022-06-03T18:05:26.723Z"
   },
   {
    "duration": 604,
    "start_time": "2022-06-03T18:05:26.849Z"
   },
   {
    "duration": 238,
    "start_time": "2022-06-03T18:05:27.455Z"
   },
   {
    "duration": 3,
    "start_time": "2022-06-03T18:05:27.695Z"
   },
   {
    "duration": 11,
    "start_time": "2022-06-03T18:05:27.699Z"
   },
   {
    "duration": 130,
    "start_time": "2022-06-03T18:05:27.711Z"
   },
   {
    "duration": 87,
    "start_time": "2022-06-03T18:05:27.845Z"
   },
   {
    "duration": 38,
    "start_time": "2022-06-03T18:05:27.934Z"
   },
   {
    "duration": 1021,
    "start_time": "2022-06-03T18:05:28.026Z"
   },
   {
    "duration": 99523,
    "start_time": "2022-06-03T18:05:29.052Z"
   },
   {
    "duration": 467,
    "start_time": "2022-06-03T18:07:08.577Z"
   },
   {
    "duration": 12,
    "start_time": "2022-06-03T18:07:09.051Z"
   },
   {
    "duration": 410267,
    "start_time": "2022-06-03T18:07:09.069Z"
   },
   {
    "duration": 5,
    "start_time": "2022-06-03T18:13:59.340Z"
   },
   {
    "duration": 20,
    "start_time": "2022-06-03T18:13:59.348Z"
   },
   {
    "duration": 10,
    "start_time": "2022-06-03T18:13:59.371Z"
   },
   {
    "duration": 419,
    "start_time": "2022-06-03T18:13:59.434Z"
   },
   {
    "duration": 17,
    "start_time": "2022-06-03T18:13:59.858Z"
   },
   {
    "duration": 5,
    "start_time": "2022-06-03T18:13:59.876Z"
   },
   {
    "duration": 2358,
    "start_time": "2022-06-03T18:13:59.882Z"
   },
   {
    "duration": 442,
    "start_time": "2022-06-03T18:14:02.242Z"
   },
   {
    "duration": 6,
    "start_time": "2022-06-03T18:14:02.686Z"
   },
   {
    "duration": 8,
    "start_time": "2022-06-03T18:14:02.694Z"
   },
   {
    "duration": 11,
    "start_time": "2022-06-03T18:14:02.704Z"
   },
   {
    "duration": 63,
    "start_time": "2022-06-03T18:14:02.728Z"
   },
   {
    "duration": 22,
    "start_time": "2022-06-03T18:14:02.793Z"
   },
   {
    "duration": 57,
    "start_time": "2022-06-03T18:14:02.817Z"
   },
   {
    "duration": 8,
    "start_time": "2022-06-03T18:14:02.879Z"
   },
   {
    "duration": 3,
    "start_time": "2022-06-03T18:14:21.617Z"
   },
   {
    "duration": 2,
    "start_time": "2022-06-03T18:14:22.075Z"
   },
   {
    "duration": 39,
    "start_time": "2022-06-03T18:14:22.554Z"
   },
   {
    "duration": 140,
    "start_time": "2022-06-03T18:15:51.998Z"
   },
   {
    "duration": 118,
    "start_time": "2022-06-03T18:16:01.760Z"
   },
   {
    "duration": 118,
    "start_time": "2022-06-03T18:16:15.955Z"
   },
   {
    "duration": 152,
    "start_time": "2022-06-03T18:16:24.302Z"
   },
   {
    "duration": 496190,
    "start_time": "2022-06-03T18:16:32.251Z"
   },
   {
    "duration": 4625,
    "start_time": "2022-06-03T18:24:48.453Z"
   },
   {
    "duration": 8,
    "start_time": "2022-06-03T18:30:36.259Z"
   },
   {
    "duration": 1184,
    "start_time": "2022-06-03T18:33:58.690Z"
   },
   {
    "duration": 4,
    "start_time": "2022-06-03T18:34:50.384Z"
   },
   {
    "duration": 9,
    "start_time": "2022-06-03T18:41:13.799Z"
   },
   {
    "duration": 11,
    "start_time": "2022-06-03T18:41:22.695Z"
   },
   {
    "duration": 13,
    "start_time": "2022-06-03T18:41:32.739Z"
   },
   {
    "duration": 18,
    "start_time": "2022-06-03T18:50:46.074Z"
   },
   {
    "duration": 2,
    "start_time": "2022-06-03T18:52:34.103Z"
   },
   {
    "duration": 47,
    "start_time": "2022-06-03T18:52:41.975Z"
   },
   {
    "duration": 3,
    "start_time": "2022-06-03T19:39:29.308Z"
   },
   {
    "duration": 5,
    "start_time": "2022-06-03T19:39:37.852Z"
   },
   {
    "duration": 59,
    "start_time": "2022-06-03T19:41:26.184Z"
   },
   {
    "duration": 5,
    "start_time": "2022-06-03T19:41:59.563Z"
   },
   {
    "duration": 1607,
    "start_time": "2022-06-03T19:48:01.504Z"
   },
   {
    "duration": 3,
    "start_time": "2022-06-03T19:53:14.222Z"
   },
   {
    "duration": 987,
    "start_time": "2022-06-03T19:53:22.192Z"
   },
   {
    "duration": 13,
    "start_time": "2022-06-03T19:59:52.445Z"
   },
   {
    "duration": 23,
    "start_time": "2022-06-03T20:01:27.435Z"
   },
   {
    "duration": 162,
    "start_time": "2022-06-03T20:03:29.725Z"
   },
   {
    "duration": 25,
    "start_time": "2022-06-03T20:04:08.670Z"
   },
   {
    "duration": 36,
    "start_time": "2022-06-03T20:08:16.003Z"
   },
   {
    "duration": 21,
    "start_time": "2022-06-03T20:10:27.247Z"
   },
   {
    "duration": 6,
    "start_time": "2022-06-03T20:15:04.167Z"
   },
   {
    "duration": 56,
    "start_time": "2022-06-03T20:15:20.409Z"
   },
   {
    "duration": 68,
    "start_time": "2022-06-03T20:15:52.198Z"
   },
   {
    "duration": 47,
    "start_time": "2022-06-03T20:16:07.066Z"
   },
   {
    "duration": 598813,
    "start_time": "2022-06-03T20:18:35.839Z"
   },
   {
    "duration": 2989,
    "start_time": "2022-06-03T20:31:51.807Z"
   },
   {
    "duration": 5,
    "start_time": "2022-06-03T20:32:00.313Z"
   },
   {
    "duration": 133,
    "start_time": "2022-06-03T20:32:11.591Z"
   },
   {
    "duration": 4,
    "start_time": "2022-06-03T20:32:11.907Z"
   },
   {
    "duration": 1452961,
    "start_time": "2022-06-03T20:32:17.389Z"
   },
   {
    "duration": 4,
    "start_time": "2022-06-03T21:03:24.481Z"
   },
   {
    "duration": 11,
    "start_time": "2022-06-03T21:03:33.995Z"
   },
   {
    "duration": 15,
    "start_time": "2022-06-03T21:05:02.758Z"
   },
   {
    "duration": 318944,
    "start_time": "2022-06-03T21:07:19.082Z"
   },
   {
    "duration": 3029,
    "start_time": "2022-06-03T21:12:38.035Z"
   },
   {
    "duration": 5,
    "start_time": "2022-06-03T21:12:41.066Z"
   },
   {
    "duration": 0,
    "start_time": "2022-06-03T21:12:41.103Z"
   },
   {
    "duration": 22,
    "start_time": "2022-06-03T21:12:55.535Z"
   },
   {
    "duration": 14,
    "start_time": "2022-06-03T21:14:17.008Z"
   },
   {
    "duration": 7,
    "start_time": "2022-06-03T21:14:40.742Z"
   },
   {
    "duration": 15,
    "start_time": "2022-06-03T21:14:43.848Z"
   },
   {
    "duration": 15,
    "start_time": "2022-06-03T21:17:03.444Z"
   },
   {
    "duration": 1043,
    "start_time": "2022-06-03T21:17:07.720Z"
   },
   {
    "duration": 6,
    "start_time": "2022-06-03T21:17:08.766Z"
   },
   {
    "duration": 5,
    "start_time": "2022-06-03T21:20:08.164Z"
   },
   {
    "duration": 9,
    "start_time": "2022-06-03T21:21:10.001Z"
   },
   {
    "duration": 8,
    "start_time": "2022-06-03T21:21:43.143Z"
   },
   {
    "duration": 20,
    "start_time": "2022-06-03T21:21:47.368Z"
   },
   {
    "duration": 5,
    "start_time": "2022-06-03T21:22:34.447Z"
   },
   {
    "duration": 9,
    "start_time": "2022-06-03T21:22:37.009Z"
   },
   {
    "duration": 15,
    "start_time": "2022-06-03T21:22:50.338Z"
   },
   {
    "duration": 9,
    "start_time": "2022-06-03T21:22:55.678Z"
   },
   {
    "duration": 9,
    "start_time": "2022-06-03T21:23:13.534Z"
   },
   {
    "duration": 13,
    "start_time": "2022-06-03T21:23:15.476Z"
   },
   {
    "duration": 78,
    "start_time": "2022-06-04T09:32:19.030Z"
   },
   {
    "duration": 2487,
    "start_time": "2022-06-04T09:37:10.704Z"
   },
   {
    "duration": 1575,
    "start_time": "2022-06-04T09:37:13.193Z"
   },
   {
    "duration": 1126,
    "start_time": "2022-06-04T09:37:14.770Z"
   },
   {
    "duration": 5,
    "start_time": "2022-06-04T09:37:15.898Z"
   },
   {
    "duration": 871,
    "start_time": "2022-06-04T09:37:15.905Z"
   },
   {
    "duration": 5,
    "start_time": "2022-06-04T09:37:16.778Z"
   },
   {
    "duration": 22,
    "start_time": "2022-06-04T09:37:16.785Z"
   },
   {
    "duration": 275,
    "start_time": "2022-06-04T09:37:16.809Z"
   },
   {
    "duration": 245,
    "start_time": "2022-06-04T09:37:17.085Z"
   },
   {
    "duration": 57,
    "start_time": "2022-06-04T09:37:17.332Z"
   },
   {
    "duration": 39,
    "start_time": "2022-06-04T09:37:17.391Z"
   },
   {
    "duration": 66,
    "start_time": "2022-06-04T09:37:17.432Z"
   },
   {
    "duration": 38,
    "start_time": "2022-06-04T09:37:17.500Z"
   },
   {
    "duration": 128,
    "start_time": "2022-06-04T09:37:17.540Z"
   },
   {
    "duration": 120,
    "start_time": "2022-06-04T09:37:17.669Z"
   },
   {
    "duration": 19,
    "start_time": "2022-06-04T09:37:17.792Z"
   },
   {
    "duration": 120,
    "start_time": "2022-06-04T09:37:17.813Z"
   },
   {
    "duration": 84,
    "start_time": "2022-06-04T09:37:17.935Z"
   },
   {
    "duration": 23,
    "start_time": "2022-06-04T09:37:18.021Z"
   },
   {
    "duration": 29,
    "start_time": "2022-06-04T09:37:18.046Z"
   },
   {
    "duration": 63,
    "start_time": "2022-06-04T09:37:18.076Z"
   },
   {
    "duration": 36,
    "start_time": "2022-06-04T09:37:18.141Z"
   },
   {
    "duration": 10,
    "start_time": "2022-06-04T09:37:18.179Z"
   },
   {
    "duration": 73,
    "start_time": "2022-06-04T09:37:18.192Z"
   },
   {
    "duration": 448,
    "start_time": "2022-06-04T09:37:18.267Z"
   },
   {
    "duration": 376,
    "start_time": "2022-06-04T09:37:18.717Z"
   },
   {
    "duration": 11,
    "start_time": "2022-06-04T09:37:19.095Z"
   },
   {
    "duration": 71,
    "start_time": "2022-06-04T09:37:19.111Z"
   },
   {
    "duration": 59,
    "start_time": "2022-06-04T09:37:19.184Z"
   },
   {
    "duration": 20,
    "start_time": "2022-06-04T09:37:19.245Z"
   },
   {
    "duration": 27,
    "start_time": "2022-06-04T09:37:19.267Z"
   },
   {
    "duration": 12,
    "start_time": "2022-06-04T09:37:19.295Z"
   },
   {
    "duration": 93,
    "start_time": "2022-06-04T09:37:19.308Z"
   },
   {
    "duration": 29,
    "start_time": "2022-06-04T09:37:19.403Z"
   },
   {
    "duration": 39,
    "start_time": "2022-06-04T09:37:19.434Z"
   },
   {
    "duration": 6,
    "start_time": "2022-06-04T09:37:19.474Z"
   },
   {
    "duration": 475,
    "start_time": "2022-06-04T09:37:19.482Z"
   },
   {
    "duration": 19,
    "start_time": "2022-06-04T09:37:19.958Z"
   },
   {
    "duration": 25,
    "start_time": "2022-06-04T09:37:19.978Z"
   },
   {
    "duration": 16,
    "start_time": "2022-06-04T09:37:20.005Z"
   },
   {
    "duration": 14,
    "start_time": "2022-06-04T09:37:20.023Z"
   },
   {
    "duration": 28,
    "start_time": "2022-06-04T09:37:20.039Z"
   },
   {
    "duration": 90,
    "start_time": "2022-06-04T09:37:20.069Z"
   },
   {
    "duration": 7,
    "start_time": "2022-06-04T09:37:20.161Z"
   },
   {
    "duration": 208,
    "start_time": "2022-06-04T09:37:20.169Z"
   },
   {
    "duration": 13,
    "start_time": "2022-06-04T09:37:20.379Z"
   },
   {
    "duration": 35,
    "start_time": "2022-06-04T09:37:20.394Z"
   },
   {
    "duration": 761,
    "start_time": "2022-06-04T09:37:20.430Z"
   },
   {
    "duration": 17,
    "start_time": "2022-06-04T09:37:21.192Z"
   },
   {
    "duration": 92,
    "start_time": "2022-06-04T09:37:21.211Z"
   },
   {
    "duration": 533,
    "start_time": "2022-06-04T09:37:21.305Z"
   },
   {
    "duration": 208,
    "start_time": "2022-06-04T09:37:21.841Z"
   },
   {
    "duration": 3,
    "start_time": "2022-06-04T09:37:22.051Z"
   },
   {
    "duration": 11,
    "start_time": "2022-06-04T09:37:22.056Z"
   },
   {
    "duration": 197,
    "start_time": "2022-06-04T09:37:22.069Z"
   },
   {
    "duration": 98,
    "start_time": "2022-06-04T09:37:22.269Z"
   },
   {
    "duration": 98,
    "start_time": "2022-06-04T09:37:22.370Z"
   },
   {
    "duration": 1096,
    "start_time": "2022-06-04T09:37:22.470Z"
   },
   {
    "duration": 36197,
    "start_time": "2022-06-04T09:37:23.568Z"
   },
   {
    "duration": 407,
    "start_time": "2022-06-04T09:37:59.767Z"
   },
   {
    "duration": 90,
    "start_time": "2022-06-04T09:38:00.176Z"
   },
   {
    "duration": 148120,
    "start_time": "2022-06-04T09:38:00.269Z"
   },
   {
    "duration": 4,
    "start_time": "2022-06-04T09:40:28.466Z"
   },
   {
    "duration": 101,
    "start_time": "2022-06-04T09:40:28.473Z"
   },
   {
    "duration": 10,
    "start_time": "2022-06-04T09:40:28.576Z"
   },
   {
    "duration": 257,
    "start_time": "2022-06-04T09:40:28.589Z"
   },
   {
    "duration": 27,
    "start_time": "2022-06-04T09:40:28.848Z"
   },
   {
    "duration": 7,
    "start_time": "2022-06-04T09:40:28.877Z"
   },
   {
    "duration": 2232,
    "start_time": "2022-06-04T09:40:28.891Z"
   },
   {
    "duration": 415,
    "start_time": "2022-06-04T09:40:31.124Z"
   },
   {
    "duration": 5,
    "start_time": "2022-06-04T09:40:31.541Z"
   },
   {
    "duration": 20,
    "start_time": "2022-06-04T09:40:31.547Z"
   },
   {
    "duration": 18,
    "start_time": "2022-06-04T09:40:31.569Z"
   },
   {
    "duration": 18,
    "start_time": "2022-06-04T09:40:31.589Z"
   },
   {
    "duration": 19,
    "start_time": "2022-06-04T09:40:31.609Z"
   },
   {
    "duration": 2475,
    "start_time": "2022-06-04T09:48:57.889Z"
   },
   {
    "duration": 6,
    "start_time": "2022-06-04T09:49:00.367Z"
   },
   {
    "duration": 905,
    "start_time": "2022-06-04T09:49:00.375Z"
   },
   {
    "duration": 4,
    "start_time": "2022-06-04T09:49:01.282Z"
   },
   {
    "duration": 859,
    "start_time": "2022-06-04T09:49:01.288Z"
   },
   {
    "duration": 4,
    "start_time": "2022-06-04T09:49:02.149Z"
   },
   {
    "duration": 22,
    "start_time": "2022-06-04T09:49:02.165Z"
   },
   {
    "duration": 268,
    "start_time": "2022-06-04T09:49:02.188Z"
   },
   {
    "duration": 276,
    "start_time": "2022-06-04T09:49:02.457Z"
   },
   {
    "duration": 37,
    "start_time": "2022-06-04T09:49:02.737Z"
   },
   {
    "duration": 33,
    "start_time": "2022-06-04T09:49:02.775Z"
   },
   {
    "duration": 55,
    "start_time": "2022-06-04T09:49:02.810Z"
   },
   {
    "duration": 36,
    "start_time": "2022-06-04T09:49:02.867Z"
   },
   {
    "duration": 117,
    "start_time": "2022-06-04T09:49:02.905Z"
   },
   {
    "duration": 119,
    "start_time": "2022-06-04T09:49:03.024Z"
   },
   {
    "duration": 34,
    "start_time": "2022-06-04T09:49:03.144Z"
   },
   {
    "duration": 98,
    "start_time": "2022-06-04T09:49:03.180Z"
   },
   {
    "duration": 70,
    "start_time": "2022-06-04T09:49:03.280Z"
   },
   {
    "duration": 26,
    "start_time": "2022-06-04T09:49:03.365Z"
   },
   {
    "duration": 23,
    "start_time": "2022-06-04T09:49:03.393Z"
   },
   {
    "duration": 76,
    "start_time": "2022-06-04T09:49:03.418Z"
   },
   {
    "duration": 17,
    "start_time": "2022-06-04T09:49:03.495Z"
   },
   {
    "duration": 12,
    "start_time": "2022-06-04T09:49:03.514Z"
   },
   {
    "duration": 69,
    "start_time": "2022-06-04T09:49:03.527Z"
   },
   {
    "duration": 492,
    "start_time": "2022-06-04T09:49:03.600Z"
   },
   {
    "duration": 362,
    "start_time": "2022-06-04T09:49:04.094Z"
   },
   {
    "duration": 15,
    "start_time": "2022-06-04T09:49:04.458Z"
   },
   {
    "duration": 63,
    "start_time": "2022-06-04T09:49:04.480Z"
   },
   {
    "duration": 87,
    "start_time": "2022-06-04T09:49:04.544Z"
   },
   {
    "duration": 4,
    "start_time": "2022-06-04T09:49:04.632Z"
   },
   {
    "duration": 49,
    "start_time": "2022-06-04T09:49:04.638Z"
   },
   {
    "duration": 14,
    "start_time": "2022-06-04T09:49:04.689Z"
   },
   {
    "duration": 101,
    "start_time": "2022-06-04T09:49:04.705Z"
   },
   {
    "duration": 17,
    "start_time": "2022-06-04T09:49:04.809Z"
   },
   {
    "duration": 44,
    "start_time": "2022-06-04T09:49:04.829Z"
   },
   {
    "duration": 3,
    "start_time": "2022-06-04T09:49:04.876Z"
   },
   {
    "duration": 525,
    "start_time": "2022-06-04T09:49:04.880Z"
   },
   {
    "duration": 17,
    "start_time": "2022-06-04T09:49:05.407Z"
   },
   {
    "duration": 39,
    "start_time": "2022-06-04T09:49:05.425Z"
   },
   {
    "duration": 19,
    "start_time": "2022-06-04T09:49:05.466Z"
   },
   {
    "duration": 15,
    "start_time": "2022-06-04T09:49:05.486Z"
   },
   {
    "duration": 7,
    "start_time": "2022-06-04T09:49:05.503Z"
   },
   {
    "duration": 124,
    "start_time": "2022-06-04T09:49:05.512Z"
   },
   {
    "duration": 7,
    "start_time": "2022-06-04T09:49:05.638Z"
   },
   {
    "duration": 238,
    "start_time": "2022-06-04T09:49:05.647Z"
   },
   {
    "duration": 23,
    "start_time": "2022-06-04T09:49:05.887Z"
   },
   {
    "duration": 21,
    "start_time": "2022-06-04T09:49:05.912Z"
   },
   {
    "duration": 915,
    "start_time": "2022-06-04T09:49:05.935Z"
   },
   {
    "duration": 36,
    "start_time": "2022-06-04T09:49:06.853Z"
   },
   {
    "duration": 117,
    "start_time": "2022-06-04T09:49:06.892Z"
   },
   {
    "duration": 570,
    "start_time": "2022-06-04T09:49:07.013Z"
   },
   {
    "duration": 220,
    "start_time": "2022-06-04T09:49:07.585Z"
   },
   {
    "duration": 5,
    "start_time": "2022-06-04T09:49:07.807Z"
   },
   {
    "duration": 11,
    "start_time": "2022-06-04T09:49:07.814Z"
   },
   {
    "duration": 152,
    "start_time": "2022-06-04T09:49:07.827Z"
   },
   {
    "duration": 100,
    "start_time": "2022-06-04T09:49:07.981Z"
   },
   {
    "duration": 83,
    "start_time": "2022-06-04T09:49:08.086Z"
   },
   {
    "duration": 1298,
    "start_time": "2022-06-04T09:49:08.172Z"
   },
   {
    "duration": 57999,
    "start_time": "2022-06-04T09:49:09.473Z"
   },
   {
    "duration": 493,
    "start_time": "2022-06-04T09:50:07.474Z"
   },
   {
    "duration": 7,
    "start_time": "2022-06-04T09:50:07.969Z"
   },
   {
    "duration": 202688,
    "start_time": "2022-06-04T09:50:07.978Z"
   },
   {
    "duration": 4,
    "start_time": "2022-06-04T09:53:30.668Z"
   },
   {
    "duration": 105,
    "start_time": "2022-06-04T09:53:30.674Z"
   },
   {
    "duration": 37,
    "start_time": "2022-06-04T09:53:30.781Z"
   },
   {
    "duration": 303,
    "start_time": "2022-06-04T09:53:30.819Z"
   },
   {
    "duration": 16,
    "start_time": "2022-06-04T09:53:31.124Z"
   },
   {
    "duration": 6,
    "start_time": "2022-06-04T09:53:31.141Z"
   },
   {
    "duration": 2330,
    "start_time": "2022-06-04T09:53:31.166Z"
   },
   {
    "duration": 430,
    "start_time": "2022-06-04T09:53:33.499Z"
   },
   {
    "duration": 5,
    "start_time": "2022-06-04T09:53:33.931Z"
   },
   {
    "duration": 11,
    "start_time": "2022-06-04T10:06:21.629Z"
   },
   {
    "duration": 15,
    "start_time": "2022-06-04T10:06:22.408Z"
   },
   {
    "duration": 133,
    "start_time": "2022-06-04T10:06:23.006Z"
   },
   {
    "duration": 54,
    "start_time": "2022-06-04T10:06:23.686Z"
   },
   {
    "duration": 4,
    "start_time": "2022-06-04T10:06:28.126Z"
   },
   {
    "duration": 3,
    "start_time": "2022-06-04T10:06:30.571Z"
   },
   {
    "duration": 14533,
    "start_time": "2022-06-04T10:07:24.833Z"
   },
   {
    "duration": 333872,
    "start_time": "2022-06-04T10:11:06.602Z"
   },
   {
    "duration": 3219,
    "start_time": "2022-06-04T10:16:40.476Z"
   },
   {
    "duration": 68,
    "start_time": "2022-06-04T10:16:43.697Z"
   },
   {
    "duration": 34,
    "start_time": "2022-06-04T10:26:13.787Z"
   },
   {
    "duration": 113,
    "start_time": "2022-06-04T10:27:45.975Z"
   },
   {
    "duration": 23,
    "start_time": "2022-06-04T10:27:49.283Z"
   },
   {
    "duration": 15,
    "start_time": "2022-06-04T10:28:47.475Z"
   },
   {
    "duration": 6947,
    "start_time": "2022-06-04T10:32:35.004Z"
   },
   {
    "duration": 103,
    "start_time": "2022-06-04T10:34:28.902Z"
   },
   {
    "duration": 14,
    "start_time": "2022-06-04T10:34:47.887Z"
   },
   {
    "duration": 11,
    "start_time": "2022-06-04T10:35:38.246Z"
   },
   {
    "duration": 486,
    "start_time": "2022-06-04T10:36:21.290Z"
   },
   {
    "duration": 29,
    "start_time": "2022-06-04T10:37:07.995Z"
   },
   {
    "duration": 21280,
    "start_time": "2022-06-04T10:37:18.987Z"
   },
   {
    "duration": 75,
    "start_time": "2022-06-04T10:37:40.268Z"
   },
   {
    "duration": 7,
    "start_time": "2022-06-04T10:37:40.345Z"
   },
   {
    "duration": 5499,
    "start_time": "2022-06-04T10:40:54.783Z"
   },
   {
    "duration": 5,
    "start_time": "2022-06-04T10:41:06.690Z"
   },
   {
    "duration": 5,
    "start_time": "2022-06-04T10:42:37.031Z"
   },
   {
    "duration": 89,
    "start_time": "2022-06-04T10:44:01.012Z"
   },
   {
    "duration": 33,
    "start_time": "2022-06-04T10:45:05.815Z"
   },
   {
    "duration": 6,
    "start_time": "2022-06-04T10:46:08.982Z"
   },
   {
    "duration": 160279,
    "start_time": "2022-06-04T10:46:21.180Z"
   },
   {
    "duration": 31,
    "start_time": "2022-06-04T10:49:01.461Z"
   },
   {
    "duration": 5,
    "start_time": "2022-06-04T10:49:01.494Z"
   },
   {
    "duration": 231601,
    "start_time": "2022-06-04T11:00:01.068Z"
   },
   {
    "duration": 3,
    "start_time": "2022-06-04T11:04:31.758Z"
   },
   {
    "duration": 284277,
    "start_time": "2022-06-04T11:04:32.594Z"
   },
   {
    "duration": 4,
    "start_time": "2022-06-04T11:12:09.263Z"
   },
   {
    "duration": 472475,
    "start_time": "2022-06-04T14:07:33.962Z"
   },
   {
    "duration": 3505,
    "start_time": "2022-06-04T14:15:26.439Z"
   },
   {
    "duration": 200,
    "start_time": "2022-06-04T14:15:29.946Z"
   },
   {
    "duration": 11,
    "start_time": "2022-06-04T14:15:55.392Z"
   },
   {
    "duration": 3338,
    "start_time": "2022-06-04T14:16:01.428Z"
   },
   {
    "duration": 15,
    "start_time": "2022-06-04T14:16:04.825Z"
   },
   {
    "duration": 6,
    "start_time": "2022-06-04T14:16:14.696Z"
   },
   {
    "duration": 4,
    "start_time": "2022-06-04T14:19:29.299Z"
   },
   {
    "duration": 46,
    "start_time": "2022-06-04T14:20:30.500Z"
   },
   {
    "duration": 76,
    "start_time": "2022-06-04T14:20:40.660Z"
   },
   {
    "duration": 40,
    "start_time": "2022-06-04T14:20:41.113Z"
   },
   {
    "duration": 3,
    "start_time": "2022-06-04T14:20:43.417Z"
   },
   {
    "duration": 593,
    "start_time": "2022-06-04T14:20:45.399Z"
   },
   {
    "duration": 35,
    "start_time": "2022-06-04T14:21:47.922Z"
   },
   {
    "duration": 563,
    "start_time": "2022-06-04T14:22:04.908Z"
   },
   {
    "duration": 538,
    "start_time": "2022-06-04T14:27:53.991Z"
   },
   {
    "duration": 32,
    "start_time": "2022-06-04T14:29:23.495Z"
   },
   {
    "duration": 7,
    "start_time": "2022-06-04T14:30:03.638Z"
   },
   {
    "duration": 24,
    "start_time": "2022-06-04T14:30:07.027Z"
   },
   {
    "duration": 7,
    "start_time": "2022-06-04T14:30:21.760Z"
   },
   {
    "duration": 26,
    "start_time": "2022-06-04T14:30:22.161Z"
   },
   {
    "duration": 2501,
    "start_time": "2022-06-04T14:31:24.822Z"
   },
   {
    "duration": 5,
    "start_time": "2022-06-04T14:31:27.325Z"
   },
   {
    "duration": 867,
    "start_time": "2022-06-04T14:31:27.332Z"
   },
   {
    "duration": 4,
    "start_time": "2022-06-04T14:31:28.202Z"
   },
   {
    "duration": 816,
    "start_time": "2022-06-04T14:31:28.208Z"
   },
   {
    "duration": 4,
    "start_time": "2022-06-04T14:31:29.026Z"
   },
   {
    "duration": 21,
    "start_time": "2022-06-04T14:31:29.032Z"
   },
   {
    "duration": 287,
    "start_time": "2022-06-04T14:31:29.055Z"
   },
   {
    "duration": 321,
    "start_time": "2022-06-04T14:31:29.344Z"
   },
   {
    "duration": 26,
    "start_time": "2022-06-04T14:31:29.668Z"
   },
   {
    "duration": 47,
    "start_time": "2022-06-04T14:31:29.696Z"
   },
   {
    "duration": 41,
    "start_time": "2022-06-04T14:31:29.745Z"
   },
   {
    "duration": 48,
    "start_time": "2022-06-04T14:31:29.788Z"
   },
   {
    "duration": 95,
    "start_time": "2022-06-04T14:31:29.837Z"
   },
   {
    "duration": 128,
    "start_time": "2022-06-04T14:31:29.934Z"
   },
   {
    "duration": 21,
    "start_time": "2022-06-04T14:31:30.064Z"
   },
   {
    "duration": 121,
    "start_time": "2022-06-04T14:31:30.087Z"
   },
   {
    "duration": 108,
    "start_time": "2022-06-04T14:31:30.210Z"
   },
   {
    "duration": 40,
    "start_time": "2022-06-04T14:31:30.325Z"
   },
   {
    "duration": 24,
    "start_time": "2022-06-04T14:31:30.367Z"
   },
   {
    "duration": 94,
    "start_time": "2022-06-04T14:31:30.394Z"
   },
   {
    "duration": 20,
    "start_time": "2022-06-04T14:31:30.490Z"
   },
   {
    "duration": 17,
    "start_time": "2022-06-04T14:31:30.524Z"
   },
   {
    "duration": 58,
    "start_time": "2022-06-04T14:31:30.543Z"
   },
   {
    "duration": 526,
    "start_time": "2022-06-04T14:31:30.603Z"
   },
   {
    "duration": 424,
    "start_time": "2022-06-04T14:31:31.131Z"
   },
   {
    "duration": 10,
    "start_time": "2022-06-04T14:31:31.560Z"
   },
   {
    "duration": 67,
    "start_time": "2022-06-04T14:31:31.573Z"
   },
   {
    "duration": 49,
    "start_time": "2022-06-04T14:31:31.641Z"
   },
   {
    "duration": 3,
    "start_time": "2022-06-04T14:31:31.692Z"
   },
   {
    "duration": 55,
    "start_time": "2022-06-04T14:31:31.697Z"
   },
   {
    "duration": 15,
    "start_time": "2022-06-04T14:31:31.754Z"
   },
   {
    "duration": 132,
    "start_time": "2022-06-04T14:31:31.771Z"
   },
   {
    "duration": 24,
    "start_time": "2022-06-04T14:31:31.908Z"
   },
   {
    "duration": 30,
    "start_time": "2022-06-04T14:31:31.934Z"
   },
   {
    "duration": 13,
    "start_time": "2022-06-04T14:31:31.966Z"
   },
   {
    "duration": 663,
    "start_time": "2022-06-04T14:31:31.982Z"
   },
   {
    "duration": 20,
    "start_time": "2022-06-04T14:31:32.647Z"
   },
   {
    "duration": 36,
    "start_time": "2022-06-04T14:31:32.669Z"
   },
   {
    "duration": 28,
    "start_time": "2022-06-04T14:31:32.707Z"
   },
   {
    "duration": 15,
    "start_time": "2022-06-04T14:31:32.738Z"
   },
   {
    "duration": 15,
    "start_time": "2022-06-04T14:31:32.755Z"
   },
   {
    "duration": 98,
    "start_time": "2022-06-04T14:31:32.772Z"
   },
   {
    "duration": 5,
    "start_time": "2022-06-04T14:31:32.873Z"
   },
   {
    "duration": 263,
    "start_time": "2022-06-04T14:31:32.879Z"
   },
   {
    "duration": 23,
    "start_time": "2022-06-04T14:31:33.144Z"
   },
   {
    "duration": 43,
    "start_time": "2022-06-04T14:31:33.169Z"
   },
   {
    "duration": 951,
    "start_time": "2022-06-04T14:31:33.214Z"
   },
   {
    "duration": 18,
    "start_time": "2022-06-04T14:31:34.168Z"
   },
   {
    "duration": 138,
    "start_time": "2022-06-04T14:31:34.188Z"
   },
   {
    "duration": 1046,
    "start_time": "2022-06-04T14:31:34.328Z"
   },
   {
    "duration": 226,
    "start_time": "2022-06-04T14:31:35.376Z"
   },
   {
    "duration": 3,
    "start_time": "2022-06-04T14:31:35.604Z"
   },
   {
    "duration": 51,
    "start_time": "2022-06-04T14:31:51.213Z"
   },
   {
    "duration": 23,
    "start_time": "2022-06-04T14:31:52.203Z"
   },
   {
    "duration": 74,
    "start_time": "2022-06-04T14:32:01.107Z"
   },
   {
    "duration": 356221,
    "start_time": "2022-06-04T14:32:04.719Z"
   },
   {
    "duration": 3418,
    "start_time": "2022-06-04T14:39:17.107Z"
   },
   {
    "duration": 7,
    "start_time": "2022-06-04T14:42:05.760Z"
   },
   {
    "duration": 7,
    "start_time": "2022-06-04T14:42:15.863Z"
   },
   {
    "duration": 4,
    "start_time": "2022-06-04T14:55:34.447Z"
   },
   {
    "duration": 16,
    "start_time": "2022-06-04T14:55:35.103Z"
   },
   {
    "duration": 3,
    "start_time": "2022-06-04T14:55:49.699Z"
   },
   {
    "duration": 3,
    "start_time": "2022-06-04T14:55:50.102Z"
   },
   {
    "duration": 4261,
    "start_time": "2022-06-04T14:55:56.549Z"
   },
   {
    "duration": 4,
    "start_time": "2022-06-04T14:58:03.710Z"
   },
   {
    "duration": 716,
    "start_time": "2022-06-04T14:58:04.352Z"
   },
   {
    "duration": 729,
    "start_time": "2022-06-04T15:00:04.528Z"
   },
   {
    "duration": 4,
    "start_time": "2022-06-04T15:01:54.406Z"
   },
   {
    "duration": 823,
    "start_time": "2022-06-04T15:03:20.831Z"
   },
   {
    "duration": 564286,
    "start_time": "2022-06-04T15:04:21.642Z"
   },
   {
    "duration": 4,
    "start_time": "2022-06-04T15:13:45.930Z"
   },
   {
    "duration": 2991,
    "start_time": "2022-06-04T15:14:11.339Z"
   },
   {
    "duration": 6,
    "start_time": "2022-06-04T15:14:15.677Z"
   },
   {
    "duration": 877,
    "start_time": "2022-06-04T15:14:28.916Z"
   },
   {
    "duration": 18,
    "start_time": "2022-06-04T15:16:55.685Z"
   },
   {
    "duration": 3,
    "start_time": "2022-06-04T15:18:56.538Z"
   },
   {
    "duration": 24,
    "start_time": "2022-06-04T15:19:02.127Z"
   },
   {
    "duration": 3,
    "start_time": "2022-06-04T15:20:10.705Z"
   },
   {
    "duration": 2046,
    "start_time": "2022-06-04T15:20:16.119Z"
   },
   {
    "duration": 2,
    "start_time": "2022-06-04T15:20:44.494Z"
   },
   {
    "duration": 921,
    "start_time": "2022-06-04T15:20:50.010Z"
   },
   {
    "duration": 819,
    "start_time": "2022-06-04T15:21:32.298Z"
   },
   {
    "duration": 773,
    "start_time": "2022-06-04T15:22:10.518Z"
   },
   {
    "duration": 21,
    "start_time": "2022-06-04T15:29:27.598Z"
   },
   {
    "duration": 3,
    "start_time": "2022-06-04T15:36:17.527Z"
   },
   {
    "duration": 17,
    "start_time": "2022-06-04T15:36:18.559Z"
   },
   {
    "duration": 2,
    "start_time": "2022-06-04T15:36:38.599Z"
   },
   {
    "duration": 846,
    "start_time": "2022-06-04T15:36:41.582Z"
   },
   {
    "duration": 743,
    "start_time": "2022-06-04T15:37:40.487Z"
   },
   {
    "duration": 3,
    "start_time": "2022-06-04T15:39:59.430Z"
   },
   {
    "duration": 17,
    "start_time": "2022-06-04T15:40:07.687Z"
   },
   {
    "duration": 12,
    "start_time": "2022-06-04T15:48:45.775Z"
   },
   {
    "duration": 11,
    "start_time": "2022-06-04T15:48:50.479Z"
   },
   {
    "duration": 2414,
    "start_time": "2022-06-04T15:49:10.504Z"
   },
   {
    "duration": 4,
    "start_time": "2022-06-04T15:49:12.921Z"
   },
   {
    "duration": 779,
    "start_time": "2022-06-04T15:49:12.927Z"
   },
   {
    "duration": 6,
    "start_time": "2022-06-04T15:49:13.708Z"
   },
   {
    "duration": 849,
    "start_time": "2022-06-04T15:49:13.724Z"
   },
   {
    "duration": 5,
    "start_time": "2022-06-04T15:49:14.574Z"
   },
   {
    "duration": 20,
    "start_time": "2022-06-04T15:49:14.580Z"
   },
   {
    "duration": 338,
    "start_time": "2022-06-04T15:49:14.602Z"
   },
   {
    "duration": 373,
    "start_time": "2022-06-04T15:49:14.942Z"
   },
   {
    "duration": 29,
    "start_time": "2022-06-04T15:49:15.317Z"
   },
   {
    "duration": 34,
    "start_time": "2022-06-04T15:49:15.348Z"
   },
   {
    "duration": 52,
    "start_time": "2022-06-04T15:49:15.384Z"
   },
   {
    "duration": 48,
    "start_time": "2022-06-04T15:49:15.438Z"
   },
   {
    "duration": 115,
    "start_time": "2022-06-04T15:49:15.488Z"
   },
   {
    "duration": 127,
    "start_time": "2022-06-04T15:49:15.605Z"
   },
   {
    "duration": 17,
    "start_time": "2022-06-04T15:49:15.734Z"
   },
   {
    "duration": 106,
    "start_time": "2022-06-04T15:49:15.753Z"
   },
   {
    "duration": 81,
    "start_time": "2022-06-04T15:49:15.861Z"
   },
   {
    "duration": 25,
    "start_time": "2022-06-04T15:49:15.944Z"
   },
   {
    "duration": 17,
    "start_time": "2022-06-04T15:49:15.970Z"
   },
   {
    "duration": 80,
    "start_time": "2022-06-04T15:49:15.989Z"
   },
   {
    "duration": 16,
    "start_time": "2022-06-04T15:49:16.070Z"
   },
   {
    "duration": 11,
    "start_time": "2022-06-04T15:49:16.088Z"
   },
   {
    "duration": 60,
    "start_time": "2022-06-04T15:49:16.100Z"
   },
   {
    "duration": 469,
    "start_time": "2022-06-04T15:49:16.161Z"
   },
   {
    "duration": 340,
    "start_time": "2022-06-04T15:49:16.632Z"
   },
   {
    "duration": 8,
    "start_time": "2022-06-04T15:49:16.974Z"
   },
   {
    "duration": 60,
    "start_time": "2022-06-04T15:49:16.986Z"
   },
   {
    "duration": 47,
    "start_time": "2022-06-04T15:49:17.047Z"
   },
   {
    "duration": 3,
    "start_time": "2022-06-04T15:49:17.096Z"
   },
   {
    "duration": 50,
    "start_time": "2022-06-04T15:49:17.100Z"
   },
   {
    "duration": 12,
    "start_time": "2022-06-04T15:49:17.152Z"
   },
   {
    "duration": 117,
    "start_time": "2022-06-04T15:49:17.166Z"
   },
   {
    "duration": 49,
    "start_time": "2022-06-04T15:49:17.286Z"
   },
   {
    "duration": 27,
    "start_time": "2022-06-04T15:49:17.337Z"
   },
   {
    "duration": 3,
    "start_time": "2022-06-04T15:49:17.365Z"
   },
   {
    "duration": 655,
    "start_time": "2022-06-04T15:49:17.370Z"
   },
   {
    "duration": 22,
    "start_time": "2022-06-04T15:49:18.026Z"
   },
   {
    "duration": 25,
    "start_time": "2022-06-04T15:49:18.050Z"
   },
   {
    "duration": 22,
    "start_time": "2022-06-04T15:49:18.077Z"
   },
   {
    "duration": 36,
    "start_time": "2022-06-04T15:49:18.101Z"
   },
   {
    "duration": 9,
    "start_time": "2022-06-04T15:49:18.138Z"
   },
   {
    "duration": 83,
    "start_time": "2022-06-04T15:49:18.149Z"
   },
   {
    "duration": 4,
    "start_time": "2022-06-04T15:49:18.234Z"
   },
   {
    "duration": 225,
    "start_time": "2022-06-04T15:49:18.240Z"
   },
   {
    "duration": 14,
    "start_time": "2022-06-04T15:49:18.467Z"
   },
   {
    "duration": 42,
    "start_time": "2022-06-04T15:49:18.483Z"
   },
   {
    "duration": 984,
    "start_time": "2022-06-04T15:49:18.527Z"
   },
   {
    "duration": 35,
    "start_time": "2022-06-04T15:49:19.512Z"
   },
   {
    "duration": 82,
    "start_time": "2022-06-04T15:49:19.549Z"
   },
   {
    "duration": 655,
    "start_time": "2022-06-04T15:49:19.633Z"
   },
   {
    "duration": 204,
    "start_time": "2022-06-04T15:49:20.290Z"
   },
   {
    "duration": 3,
    "start_time": "2022-06-04T15:49:20.497Z"
   },
   {
    "duration": 6,
    "start_time": "2022-06-04T15:49:20.502Z"
   },
   {
    "duration": 218,
    "start_time": "2022-06-04T15:49:20.510Z"
   },
   {
    "duration": 97,
    "start_time": "2022-06-04T15:49:20.730Z"
   },
   {
    "duration": 102,
    "start_time": "2022-06-04T15:49:20.829Z"
   },
   {
    "duration": 1101,
    "start_time": "2022-06-04T15:49:20.933Z"
   },
   {
    "duration": 35809,
    "start_time": "2022-06-04T15:49:22.037Z"
   },
   {
    "duration": 13,
    "start_time": "2022-06-04T15:49:57.848Z"
   },
   {
    "duration": 66,
    "start_time": "2022-06-04T15:49:57.862Z"
   },
   {
    "duration": 2325,
    "start_time": "2022-06-04T15:50:05.976Z"
   },
   {
    "duration": 1426,
    "start_time": "2022-06-04T15:50:08.303Z"
   },
   {
    "duration": 851,
    "start_time": "2022-06-04T15:50:09.730Z"
   },
   {
    "duration": 5,
    "start_time": "2022-06-04T15:50:10.583Z"
   },
   {
    "duration": 837,
    "start_time": "2022-06-04T15:50:10.590Z"
   },
   {
    "duration": 4,
    "start_time": "2022-06-04T15:50:11.429Z"
   },
   {
    "duration": 17,
    "start_time": "2022-06-04T15:50:11.435Z"
   },
   {
    "duration": 294,
    "start_time": "2022-06-04T15:50:11.454Z"
   },
   {
    "duration": 263,
    "start_time": "2022-06-04T15:50:11.750Z"
   },
   {
    "duration": 69,
    "start_time": "2022-06-04T15:50:12.015Z"
   },
   {
    "duration": 42,
    "start_time": "2022-06-04T15:50:12.086Z"
   },
   {
    "duration": 61,
    "start_time": "2022-06-04T15:50:12.131Z"
   },
   {
    "duration": 52,
    "start_time": "2022-06-04T15:50:12.194Z"
   },
   {
    "duration": 116,
    "start_time": "2022-06-04T15:50:12.250Z"
   },
   {
    "duration": 125,
    "start_time": "2022-06-04T15:50:12.368Z"
   },
   {
    "duration": 35,
    "start_time": "2022-06-04T15:50:12.495Z"
   },
   {
    "duration": 118,
    "start_time": "2022-06-04T15:50:12.532Z"
   },
   {
    "duration": 99,
    "start_time": "2022-06-04T15:50:12.652Z"
   },
   {
    "duration": 37,
    "start_time": "2022-06-04T15:50:12.753Z"
   },
   {
    "duration": 36,
    "start_time": "2022-06-04T15:50:12.793Z"
   },
   {
    "duration": 79,
    "start_time": "2022-06-04T15:50:12.831Z"
   },
   {
    "duration": 27,
    "start_time": "2022-06-04T15:50:12.912Z"
   },
   {
    "duration": 12,
    "start_time": "2022-06-04T15:50:12.942Z"
   },
   {
    "duration": 79,
    "start_time": "2022-06-04T15:50:12.956Z"
   },
   {
    "duration": 516,
    "start_time": "2022-06-04T15:50:13.037Z"
   },
   {
    "duration": 372,
    "start_time": "2022-06-04T15:50:13.555Z"
   },
   {
    "duration": 7,
    "start_time": "2022-06-04T15:50:13.928Z"
   },
   {
    "duration": 49,
    "start_time": "2022-06-04T15:50:13.937Z"
   },
   {
    "duration": 65,
    "start_time": "2022-06-04T15:50:13.988Z"
   },
   {
    "duration": 4,
    "start_time": "2022-06-04T15:50:14.054Z"
   },
   {
    "duration": 36,
    "start_time": "2022-06-04T15:50:14.059Z"
   },
   {
    "duration": 35,
    "start_time": "2022-06-04T15:50:14.096Z"
   },
   {
    "duration": 102,
    "start_time": "2022-06-04T15:50:14.133Z"
   },
   {
    "duration": 33,
    "start_time": "2022-06-04T15:50:14.237Z"
   },
   {
    "duration": 29,
    "start_time": "2022-06-04T15:50:14.272Z"
   },
   {
    "duration": 4,
    "start_time": "2022-06-04T15:50:14.325Z"
   },
   {
    "duration": 572,
    "start_time": "2022-06-04T15:50:14.330Z"
   },
   {
    "duration": 22,
    "start_time": "2022-06-04T15:50:14.904Z"
   },
   {
    "duration": 26,
    "start_time": "2022-06-04T15:50:14.928Z"
   },
   {
    "duration": 24,
    "start_time": "2022-06-04T15:50:14.956Z"
   },
   {
    "duration": 43,
    "start_time": "2022-06-04T15:50:14.987Z"
   },
   {
    "duration": 12,
    "start_time": "2022-06-04T15:50:15.033Z"
   },
   {
    "duration": 93,
    "start_time": "2022-06-04T15:50:15.046Z"
   },
   {
    "duration": 4,
    "start_time": "2022-06-04T15:50:15.141Z"
   },
   {
    "duration": 225,
    "start_time": "2022-06-04T15:50:15.147Z"
   },
   {
    "duration": 14,
    "start_time": "2022-06-04T15:50:15.375Z"
   },
   {
    "duration": 49,
    "start_time": "2022-06-04T15:50:15.391Z"
   },
   {
    "duration": 828,
    "start_time": "2022-06-04T15:50:15.442Z"
   },
   {
    "duration": 17,
    "start_time": "2022-06-04T15:50:16.271Z"
   },
   {
    "duration": 96,
    "start_time": "2022-06-04T15:50:16.290Z"
   },
   {
    "duration": 541,
    "start_time": "2022-06-04T15:50:16.389Z"
   },
   {
    "duration": 224,
    "start_time": "2022-06-04T15:50:16.932Z"
   },
   {
    "duration": 3,
    "start_time": "2022-06-04T15:50:17.158Z"
   },
   {
    "duration": 5,
    "start_time": "2022-06-04T15:50:17.163Z"
   },
   {
    "duration": 99,
    "start_time": "2022-06-04T15:50:17.170Z"
   },
   {
    "duration": 102,
    "start_time": "2022-06-04T15:50:17.326Z"
   },
   {
    "duration": 96,
    "start_time": "2022-06-04T15:50:17.430Z"
   },
   {
    "duration": 1100,
    "start_time": "2022-06-04T15:50:17.528Z"
   },
   {
    "duration": 34197,
    "start_time": "2022-06-04T15:50:18.636Z"
   },
   {
    "duration": 489,
    "start_time": "2022-06-04T15:50:52.835Z"
   },
   {
    "duration": 9,
    "start_time": "2022-06-04T15:50:53.327Z"
   },
   {
    "duration": 131904,
    "start_time": "2022-06-04T15:50:53.338Z"
   },
   {
    "duration": 4,
    "start_time": "2022-06-04T15:53:05.328Z"
   },
   {
    "duration": 93,
    "start_time": "2022-06-04T15:53:05.334Z"
   },
   {
    "duration": 6,
    "start_time": "2022-06-04T15:53:05.429Z"
   },
   {
    "duration": 267,
    "start_time": "2022-06-04T15:53:05.436Z"
   },
   {
    "duration": 24,
    "start_time": "2022-06-04T15:53:05.705Z"
   },
   {
    "duration": 6,
    "start_time": "2022-06-04T15:53:05.731Z"
   },
   {
    "duration": 2196,
    "start_time": "2022-06-04T15:53:05.739Z"
   },
   {
    "duration": 420,
    "start_time": "2022-06-04T15:53:07.937Z"
   },
   {
    "duration": 5,
    "start_time": "2022-06-04T15:53:08.359Z"
   },
   {
    "duration": 12,
    "start_time": "2022-06-04T15:53:08.365Z"
   },
   {
    "duration": 14,
    "start_time": "2022-06-04T15:53:08.379Z"
   },
   {
    "duration": 165,
    "start_time": "2022-06-04T15:53:08.395Z"
   },
   {
    "duration": 41,
    "start_time": "2022-06-04T15:53:08.562Z"
   },
   {
    "duration": 3,
    "start_time": "2022-06-04T15:53:08.605Z"
   },
   {
    "duration": 5,
    "start_time": "2022-06-04T15:53:08.609Z"
   },
   {
    "duration": 27,
    "start_time": "2022-06-04T15:53:08.624Z"
   },
   {
    "duration": 0,
    "start_time": "2022-06-04T15:53:08.652Z"
   },
   {
    "duration": 0,
    "start_time": "2022-06-04T15:53:08.653Z"
   },
   {
    "duration": 0,
    "start_time": "2022-06-04T15:53:08.655Z"
   },
   {
    "duration": 0,
    "start_time": "2022-06-04T15:53:08.656Z"
   },
   {
    "duration": 0,
    "start_time": "2022-06-04T15:53:08.658Z"
   },
   {
    "duration": 0,
    "start_time": "2022-06-04T15:53:08.659Z"
   },
   {
    "duration": 0,
    "start_time": "2022-06-04T15:53:08.660Z"
   },
   {
    "duration": 0,
    "start_time": "2022-06-04T15:53:08.661Z"
   },
   {
    "duration": 0,
    "start_time": "2022-06-04T15:53:08.663Z"
   },
   {
    "duration": 0,
    "start_time": "2022-06-04T15:53:08.664Z"
   },
   {
    "duration": 0,
    "start_time": "2022-06-04T15:53:08.665Z"
   },
   {
    "duration": 0,
    "start_time": "2022-06-04T15:53:08.666Z"
   },
   {
    "duration": 0,
    "start_time": "2022-06-04T15:53:08.667Z"
   },
   {
    "duration": 0,
    "start_time": "2022-06-04T15:53:08.668Z"
   },
   {
    "duration": 0,
    "start_time": "2022-06-04T15:53:08.669Z"
   },
   {
    "duration": 0,
    "start_time": "2022-06-04T15:53:08.670Z"
   },
   {
    "duration": 0,
    "start_time": "2022-06-04T15:53:08.671Z"
   },
   {
    "duration": 0,
    "start_time": "2022-06-04T15:53:08.672Z"
   },
   {
    "duration": 0,
    "start_time": "2022-06-04T15:53:08.673Z"
   },
   {
    "duration": 0,
    "start_time": "2022-06-04T15:53:08.674Z"
   },
   {
    "duration": 0,
    "start_time": "2022-06-04T15:53:08.675Z"
   },
   {
    "duration": 0,
    "start_time": "2022-06-04T15:53:08.676Z"
   },
   {
    "duration": 0,
    "start_time": "2022-06-04T15:53:08.678Z"
   },
   {
    "duration": 0,
    "start_time": "2022-06-04T15:53:08.679Z"
   },
   {
    "duration": 1,
    "start_time": "2022-06-04T15:53:08.679Z"
   },
   {
    "duration": 0,
    "start_time": "2022-06-04T15:53:08.681Z"
   },
   {
    "duration": 0,
    "start_time": "2022-06-04T15:53:08.682Z"
   },
   {
    "duration": 0,
    "start_time": "2022-06-04T15:53:08.683Z"
   },
   {
    "duration": 0,
    "start_time": "2022-06-04T15:53:08.725Z"
   },
   {
    "duration": 0,
    "start_time": "2022-06-04T15:53:08.726Z"
   },
   {
    "duration": 0,
    "start_time": "2022-06-04T15:53:08.727Z"
   },
   {
    "duration": 0,
    "start_time": "2022-06-04T15:53:08.728Z"
   },
   {
    "duration": 0,
    "start_time": "2022-06-04T15:53:08.728Z"
   },
   {
    "duration": 0,
    "start_time": "2022-06-04T15:53:08.729Z"
   },
   {
    "duration": 3,
    "start_time": "2022-06-04T15:57:11.928Z"
   },
   {
    "duration": 3,
    "start_time": "2022-06-04T15:57:15.695Z"
   },
   {
    "duration": 468335,
    "start_time": "2022-06-04T15:57:19.004Z"
   },
   {
    "duration": 3388,
    "start_time": "2022-06-04T16:05:07.341Z"
   },
   {
    "duration": 7,
    "start_time": "2022-06-04T16:05:10.732Z"
   },
   {
    "duration": 87,
    "start_time": "2022-06-04T16:05:10.742Z"
   },
   {
    "duration": 21,
    "start_time": "2022-06-04T16:05:10.832Z"
   },
   {
    "duration": 43,
    "start_time": "2022-06-04T16:05:10.855Z"
   },
   {
    "duration": 25,
    "start_time": "2022-06-04T16:05:10.900Z"
   },
   {
    "duration": 4,
    "start_time": "2022-06-04T16:05:10.927Z"
   },
   {
    "duration": 16,
    "start_time": "2022-06-04T16:05:10.932Z"
   },
   {
    "duration": 383382,
    "start_time": "2022-06-04T16:05:10.953Z"
   },
   {
    "duration": 3613,
    "start_time": "2022-06-04T16:11:34.337Z"
   },
   {
    "duration": 6,
    "start_time": "2022-06-04T16:11:37.952Z"
   },
   {
    "duration": 149,
    "start_time": "2022-06-04T16:11:37.960Z"
   },
   {
    "duration": 7057,
    "start_time": "2022-06-04T16:11:38.111Z"
   },
   {
    "duration": 557,
    "start_time": "2022-06-04T16:11:45.169Z"
   },
   {
    "duration": 3,
    "start_time": "2022-06-04T16:11:45.728Z"
   },
   {
    "duration": 17,
    "start_time": "2022-06-04T16:11:45.733Z"
   },
   {
    "duration": 7,
    "start_time": "2022-06-04T16:11:45.751Z"
   },
   {
    "duration": 664969,
    "start_time": "2022-06-04T16:11:45.760Z"
   },
   {
    "duration": 5727,
    "start_time": "2022-06-04T16:22:50.735Z"
   },
   {
    "duration": 6,
    "start_time": "2022-06-04T16:22:56.464Z"
   },
   {
    "duration": 6,
    "start_time": "2022-06-04T16:22:56.471Z"
   },
   {
    "duration": 536734,
    "start_time": "2022-06-04T16:22:56.535Z"
   },
   {
    "duration": 2647,
    "start_time": "2022-06-04T16:31:53.271Z"
   },
   {
    "duration": 5,
    "start_time": "2022-06-04T16:31:55.924Z"
   },
   {
    "duration": 115,
    "start_time": "2022-06-04T16:31:55.931Z"
   },
   {
    "duration": 3,
    "start_time": "2022-06-04T16:31:56.048Z"
   },
   {
    "duration": 1259535,
    "start_time": "2022-06-04T16:31:56.054Z"
   },
   {
    "duration": 5,
    "start_time": "2022-06-04T16:52:55.590Z"
   },
   {
    "duration": 14,
    "start_time": "2022-06-04T16:52:55.596Z"
   },
   {
    "duration": 15,
    "start_time": "2022-06-04T16:52:55.612Z"
   },
   {
    "duration": 159,
    "start_time": "2022-06-04T16:52:55.628Z"
   },
   {
    "duration": 10,
    "start_time": "2022-06-04T16:52:55.788Z"
   },
   {
    "duration": 3,
    "start_time": "2022-06-04T17:19:45.745Z"
   },
   {
    "duration": 5,
    "start_time": "2022-06-04T17:19:57.232Z"
   },
   {
    "duration": 4,
    "start_time": "2022-06-04T17:20:13.558Z"
   },
   {
    "duration": 8,
    "start_time": "2022-06-04T17:20:16.239Z"
   },
   {
    "duration": 5,
    "start_time": "2022-06-04T17:20:37.836Z"
   },
   {
    "duration": 9,
    "start_time": "2022-06-04T17:20:40.599Z"
   },
   {
    "duration": 1153,
    "start_time": "2022-06-04T17:21:18.872Z"
   },
   {
    "duration": 5,
    "start_time": "2022-06-04T17:21:30.296Z"
   },
   {
    "duration": 5,
    "start_time": "2022-06-04T17:21:35.510Z"
   },
   {
    "duration": 1133,
    "start_time": "2022-06-04T17:23:29.922Z"
   },
   {
    "duration": 5,
    "start_time": "2022-06-04T17:23:31.058Z"
   },
   {
    "duration": 931,
    "start_time": "2022-06-04T17:24:12.717Z"
   },
   {
    "duration": 896,
    "start_time": "2022-06-04T17:24:22.370Z"
   },
   {
    "duration": 5,
    "start_time": "2022-06-04T17:24:45.500Z"
   },
   {
    "duration": 4,
    "start_time": "2022-06-04T17:24:51.467Z"
   },
   {
    "duration": 5,
    "start_time": "2022-06-04T17:25:23.325Z"
   },
   {
    "duration": 5,
    "start_time": "2022-06-04T17:26:50.441Z"
   },
   {
    "duration": 2542,
    "start_time": "2022-06-04T18:56:25.948Z"
   },
   {
    "duration": 1573,
    "start_time": "2022-06-04T18:56:28.492Z"
   },
   {
    "duration": 1307,
    "start_time": "2022-06-04T18:56:30.067Z"
   },
   {
    "duration": 4,
    "start_time": "2022-06-04T18:56:31.377Z"
   },
   {
    "duration": 927,
    "start_time": "2022-06-04T18:56:31.382Z"
   },
   {
    "duration": 4,
    "start_time": "2022-06-04T18:56:32.311Z"
   },
   {
    "duration": 34,
    "start_time": "2022-06-04T18:56:32.328Z"
   },
   {
    "duration": 298,
    "start_time": "2022-06-04T18:56:32.364Z"
   },
   {
    "duration": 284,
    "start_time": "2022-06-04T18:56:32.664Z"
   },
   {
    "duration": 56,
    "start_time": "2022-06-04T18:56:32.956Z"
   },
   {
    "duration": 50,
    "start_time": "2022-06-04T18:56:33.014Z"
   },
   {
    "duration": 34,
    "start_time": "2022-06-04T18:56:33.066Z"
   },
   {
    "duration": 68,
    "start_time": "2022-06-04T18:56:33.102Z"
   },
   {
    "duration": 104,
    "start_time": "2022-06-04T18:56:33.172Z"
   },
   {
    "duration": 129,
    "start_time": "2022-06-04T18:56:33.278Z"
   },
   {
    "duration": 42,
    "start_time": "2022-06-04T18:56:33.409Z"
   },
   {
    "duration": 106,
    "start_time": "2022-06-04T18:56:33.454Z"
   },
   {
    "duration": 85,
    "start_time": "2022-06-04T18:56:33.562Z"
   },
   {
    "duration": 24,
    "start_time": "2022-06-04T18:56:33.652Z"
   },
   {
    "duration": 18,
    "start_time": "2022-06-04T18:56:33.678Z"
   },
   {
    "duration": 94,
    "start_time": "2022-06-04T18:56:33.698Z"
   },
   {
    "duration": 16,
    "start_time": "2022-06-04T18:56:33.793Z"
   },
   {
    "duration": 23,
    "start_time": "2022-06-04T18:56:33.811Z"
   },
   {
    "duration": 76,
    "start_time": "2022-06-04T18:56:33.839Z"
   },
   {
    "duration": 491,
    "start_time": "2022-06-04T18:56:33.917Z"
   },
   {
    "duration": 400,
    "start_time": "2022-06-04T18:56:34.409Z"
   },
   {
    "duration": 14,
    "start_time": "2022-06-04T18:56:34.811Z"
   },
   {
    "duration": 60,
    "start_time": "2022-06-04T18:56:34.830Z"
   },
   {
    "duration": 67,
    "start_time": "2022-06-04T18:56:34.891Z"
   },
   {
    "duration": 3,
    "start_time": "2022-06-04T18:56:34.960Z"
   },
   {
    "duration": 32,
    "start_time": "2022-06-04T18:56:34.965Z"
   },
   {
    "duration": 11,
    "start_time": "2022-06-04T18:56:34.998Z"
   },
   {
    "duration": 83,
    "start_time": "2022-06-04T18:56:35.026Z"
   },
   {
    "duration": 42,
    "start_time": "2022-06-04T18:56:35.110Z"
   },
   {
    "duration": 26,
    "start_time": "2022-06-04T18:56:35.157Z"
   },
   {
    "duration": 8,
    "start_time": "2022-06-04T18:56:35.185Z"
   },
   {
    "duration": 575,
    "start_time": "2022-06-04T18:56:35.195Z"
   },
   {
    "duration": 13,
    "start_time": "2022-06-04T18:56:35.772Z"
   },
   {
    "duration": 20,
    "start_time": "2022-06-04T18:56:35.787Z"
   },
   {
    "duration": 41,
    "start_time": "2022-06-04T18:56:35.809Z"
   },
   {
    "duration": 12,
    "start_time": "2022-06-04T18:56:35.856Z"
   },
   {
    "duration": 12,
    "start_time": "2022-06-04T18:56:35.870Z"
   },
   {
    "duration": 98,
    "start_time": "2022-06-04T18:56:35.884Z"
   },
   {
    "duration": 5,
    "start_time": "2022-06-04T18:56:35.986Z"
   },
   {
    "duration": 263,
    "start_time": "2022-06-04T18:56:35.993Z"
   },
   {
    "duration": 15,
    "start_time": "2022-06-04T18:56:36.258Z"
   },
   {
    "duration": 36,
    "start_time": "2022-06-04T18:56:36.275Z"
   },
   {
    "duration": 778,
    "start_time": "2022-06-04T18:56:36.313Z"
   },
   {
    "duration": 18,
    "start_time": "2022-06-04T18:56:37.092Z"
   },
   {
    "duration": 132,
    "start_time": "2022-06-04T18:56:37.111Z"
   },
   {
    "duration": 578,
    "start_time": "2022-06-04T18:56:37.253Z"
   },
   {
    "duration": 246,
    "start_time": "2022-06-04T18:56:37.835Z"
   },
   {
    "duration": 3,
    "start_time": "2022-06-04T18:56:38.082Z"
   },
   {
    "duration": 5,
    "start_time": "2022-06-04T18:56:38.087Z"
   },
   {
    "duration": 142,
    "start_time": "2022-06-04T18:56:38.094Z"
   },
   {
    "duration": 88,
    "start_time": "2022-06-04T18:56:38.241Z"
   },
   {
    "duration": 124,
    "start_time": "2022-06-04T18:56:38.336Z"
   },
   {
    "duration": 1176,
    "start_time": "2022-06-04T18:56:38.462Z"
   },
   {
    "duration": 81723,
    "start_time": "2022-06-04T18:56:39.641Z"
   },
   {
    "duration": 708,
    "start_time": "2022-06-04T18:58:01.424Z"
   },
   {
    "duration": 22,
    "start_time": "2022-06-04T18:58:02.133Z"
   },
   {
    "duration": 2303,
    "start_time": "2022-06-04T18:58:38.607Z"
   },
   {
    "duration": 1421,
    "start_time": "2022-06-04T18:58:40.913Z"
   },
   {
    "duration": 963,
    "start_time": "2022-06-04T18:58:42.342Z"
   },
   {
    "duration": 4,
    "start_time": "2022-06-04T18:58:43.308Z"
   },
   {
    "duration": 865,
    "start_time": "2022-06-04T18:58:43.314Z"
   },
   {
    "duration": 5,
    "start_time": "2022-06-04T18:58:44.181Z"
   },
   {
    "duration": 20,
    "start_time": "2022-06-04T18:58:44.188Z"
   },
   {
    "duration": 290,
    "start_time": "2022-06-04T18:58:44.210Z"
   },
   {
    "duration": 256,
    "start_time": "2022-06-04T18:58:44.502Z"
   },
   {
    "duration": 63,
    "start_time": "2022-06-04T18:58:44.761Z"
   },
   {
    "duration": 44,
    "start_time": "2022-06-04T18:58:44.829Z"
   },
   {
    "duration": 35,
    "start_time": "2022-06-04T18:58:44.875Z"
   },
   {
    "duration": 61,
    "start_time": "2022-06-04T18:58:44.912Z"
   },
   {
    "duration": 105,
    "start_time": "2022-06-04T18:58:44.975Z"
   },
   {
    "duration": 154,
    "start_time": "2022-06-04T18:58:45.082Z"
   },
   {
    "duration": 29,
    "start_time": "2022-06-04T18:58:45.238Z"
   },
   {
    "duration": 106,
    "start_time": "2022-06-04T18:58:45.268Z"
   },
   {
    "duration": 94,
    "start_time": "2022-06-04T18:58:45.375Z"
   },
   {
    "duration": 25,
    "start_time": "2022-06-04T18:58:45.476Z"
   },
   {
    "duration": 35,
    "start_time": "2022-06-04T18:58:45.503Z"
   },
   {
    "duration": 5,
    "start_time": "2022-06-04T18:58:45.548Z"
   },
   {
    "duration": 0,
    "start_time": "2022-06-04T18:58:45.557Z"
   },
   {
    "duration": 0,
    "start_time": "2022-06-04T18:58:45.558Z"
   },
   {
    "duration": 0,
    "start_time": "2022-06-04T18:58:45.559Z"
   },
   {
    "duration": 0,
    "start_time": "2022-06-04T18:58:45.560Z"
   },
   {
    "duration": 0,
    "start_time": "2022-06-04T18:58:45.561Z"
   },
   {
    "duration": 0,
    "start_time": "2022-06-04T18:58:45.562Z"
   },
   {
    "duration": 0,
    "start_time": "2022-06-04T18:58:45.563Z"
   },
   {
    "duration": 0,
    "start_time": "2022-06-04T18:58:45.564Z"
   },
   {
    "duration": 0,
    "start_time": "2022-06-04T18:58:45.565Z"
   },
   {
    "duration": 0,
    "start_time": "2022-06-04T18:58:45.566Z"
   },
   {
    "duration": 0,
    "start_time": "2022-06-04T18:58:45.567Z"
   },
   {
    "duration": 0,
    "start_time": "2022-06-04T18:58:45.568Z"
   },
   {
    "duration": 0,
    "start_time": "2022-06-04T18:58:45.569Z"
   },
   {
    "duration": 0,
    "start_time": "2022-06-04T18:58:45.570Z"
   },
   {
    "duration": 0,
    "start_time": "2022-06-04T18:58:45.571Z"
   },
   {
    "duration": 0,
    "start_time": "2022-06-04T18:58:45.571Z"
   },
   {
    "duration": 0,
    "start_time": "2022-06-04T18:58:45.572Z"
   },
   {
    "duration": 0,
    "start_time": "2022-06-04T18:58:45.573Z"
   },
   {
    "duration": 0,
    "start_time": "2022-06-04T18:58:45.574Z"
   },
   {
    "duration": 0,
    "start_time": "2022-06-04T18:58:45.575Z"
   },
   {
    "duration": 0,
    "start_time": "2022-06-04T18:58:45.577Z"
   },
   {
    "duration": 0,
    "start_time": "2022-06-04T18:58:45.577Z"
   },
   {
    "duration": 0,
    "start_time": "2022-06-04T18:58:45.579Z"
   },
   {
    "duration": 0,
    "start_time": "2022-06-04T18:58:45.579Z"
   },
   {
    "duration": 0,
    "start_time": "2022-06-04T18:58:45.580Z"
   },
   {
    "duration": 0,
    "start_time": "2022-06-04T18:58:45.581Z"
   },
   {
    "duration": 0,
    "start_time": "2022-06-04T18:58:45.582Z"
   },
   {
    "duration": 0,
    "start_time": "2022-06-04T18:58:45.584Z"
   },
   {
    "duration": 0,
    "start_time": "2022-06-04T18:58:45.585Z"
   },
   {
    "duration": 0,
    "start_time": "2022-06-04T18:58:45.586Z"
   },
   {
    "duration": 0,
    "start_time": "2022-06-04T18:58:45.634Z"
   },
   {
    "duration": 0,
    "start_time": "2022-06-04T18:58:45.635Z"
   },
   {
    "duration": 0,
    "start_time": "2022-06-04T18:58:45.635Z"
   },
   {
    "duration": 0,
    "start_time": "2022-06-04T18:58:45.636Z"
   },
   {
    "duration": 0,
    "start_time": "2022-06-04T18:58:45.636Z"
   },
   {
    "duration": 0,
    "start_time": "2022-06-04T18:58:45.637Z"
   },
   {
    "duration": 0,
    "start_time": "2022-06-04T18:58:45.638Z"
   },
   {
    "duration": 0,
    "start_time": "2022-06-04T18:58:45.640Z"
   },
   {
    "duration": 0,
    "start_time": "2022-06-04T18:58:45.641Z"
   },
   {
    "duration": 0,
    "start_time": "2022-06-04T18:58:45.642Z"
   },
   {
    "duration": 0,
    "start_time": "2022-06-04T18:58:45.643Z"
   },
   {
    "duration": 0,
    "start_time": "2022-06-04T18:58:45.644Z"
   },
   {
    "duration": 0,
    "start_time": "2022-06-04T18:58:45.644Z"
   },
   {
    "duration": 0,
    "start_time": "2022-06-04T18:58:45.645Z"
   },
   {
    "duration": 0,
    "start_time": "2022-06-04T18:58:45.646Z"
   },
   {
    "duration": 0,
    "start_time": "2022-06-04T18:58:45.647Z"
   },
   {
    "duration": 0,
    "start_time": "2022-06-04T18:58:45.648Z"
   },
   {
    "duration": 0,
    "start_time": "2022-06-04T18:58:45.649Z"
   },
   {
    "duration": 0,
    "start_time": "2022-06-04T18:58:45.650Z"
   },
   {
    "duration": 0,
    "start_time": "2022-06-04T18:58:45.651Z"
   },
   {
    "duration": 0,
    "start_time": "2022-06-04T18:58:45.651Z"
   },
   {
    "duration": 0,
    "start_time": "2022-06-04T18:58:45.652Z"
   },
   {
    "duration": 0,
    "start_time": "2022-06-04T18:58:45.653Z"
   },
   {
    "duration": 0,
    "start_time": "2022-06-04T18:58:45.655Z"
   },
   {
    "duration": 0,
    "start_time": "2022-06-04T18:58:45.656Z"
   },
   {
    "duration": 0,
    "start_time": "2022-06-04T18:58:45.657Z"
   },
   {
    "duration": 0,
    "start_time": "2022-06-04T18:58:45.658Z"
   },
   {
    "duration": 0,
    "start_time": "2022-06-04T18:58:45.659Z"
   },
   {
    "duration": 0,
    "start_time": "2022-06-04T18:58:45.660Z"
   },
   {
    "duration": 0,
    "start_time": "2022-06-04T18:58:45.661Z"
   },
   {
    "duration": 0,
    "start_time": "2022-06-04T18:58:45.662Z"
   },
   {
    "duration": 0,
    "start_time": "2022-06-04T18:58:45.663Z"
   },
   {
    "duration": 0,
    "start_time": "2022-06-04T18:58:45.664Z"
   },
   {
    "duration": 0,
    "start_time": "2022-06-04T18:58:45.665Z"
   },
   {
    "duration": 0,
    "start_time": "2022-06-04T18:58:45.666Z"
   },
   {
    "duration": 0,
    "start_time": "2022-06-04T18:58:45.666Z"
   },
   {
    "duration": 0,
    "start_time": "2022-06-04T18:58:45.667Z"
   },
   {
    "duration": 0,
    "start_time": "2022-06-04T18:58:45.668Z"
   },
   {
    "duration": 0,
    "start_time": "2022-06-04T18:58:45.669Z"
   },
   {
    "duration": 0,
    "start_time": "2022-06-04T18:58:45.670Z"
   },
   {
    "duration": 0,
    "start_time": "2022-06-04T18:58:45.671Z"
   },
   {
    "duration": 0,
    "start_time": "2022-06-04T18:58:45.723Z"
   },
   {
    "duration": 0,
    "start_time": "2022-06-04T18:58:45.723Z"
   },
   {
    "duration": 0,
    "start_time": "2022-06-04T18:58:45.724Z"
   },
   {
    "duration": 0,
    "start_time": "2022-06-04T18:58:45.725Z"
   },
   {
    "duration": 0,
    "start_time": "2022-06-04T18:58:45.726Z"
   },
   {
    "duration": 0,
    "start_time": "2022-06-04T18:58:45.726Z"
   },
   {
    "duration": 0,
    "start_time": "2022-06-04T18:58:45.737Z"
   },
   {
    "duration": 0,
    "start_time": "2022-06-04T18:58:45.738Z"
   },
   {
    "duration": 0,
    "start_time": "2022-06-04T18:58:45.738Z"
   },
   {
    "duration": 0,
    "start_time": "2022-06-04T18:58:45.739Z"
   },
   {
    "duration": 0,
    "start_time": "2022-06-04T18:58:45.739Z"
   },
   {
    "duration": 0,
    "start_time": "2022-06-04T18:58:45.740Z"
   },
   {
    "duration": 0,
    "start_time": "2022-06-04T18:58:45.741Z"
   },
   {
    "duration": 0,
    "start_time": "2022-06-04T18:58:45.743Z"
   },
   {
    "duration": 0,
    "start_time": "2022-06-04T18:58:45.744Z"
   },
   {
    "duration": 0,
    "start_time": "2022-06-04T18:58:45.745Z"
   },
   {
    "duration": 0,
    "start_time": "2022-06-04T18:58:45.746Z"
   },
   {
    "duration": 0,
    "start_time": "2022-06-04T18:58:45.748Z"
   },
   {
    "duration": 0,
    "start_time": "2022-06-04T18:58:45.749Z"
   },
   {
    "duration": 0,
    "start_time": "2022-06-04T18:58:45.750Z"
   },
   {
    "duration": 0,
    "start_time": "2022-06-04T18:58:45.751Z"
   },
   {
    "duration": 0,
    "start_time": "2022-06-04T18:58:45.752Z"
   },
   {
    "duration": 0,
    "start_time": "2022-06-04T18:58:45.753Z"
   },
   {
    "duration": 0,
    "start_time": "2022-06-04T18:58:45.755Z"
   },
   {
    "duration": 0,
    "start_time": "2022-06-04T18:58:45.756Z"
   },
   {
    "duration": 5,
    "start_time": "2022-06-04T18:59:24.096Z"
   },
   {
    "duration": 17,
    "start_time": "2022-06-04T18:59:30.057Z"
   },
   {
    "duration": 161,
    "start_time": "2022-06-04T18:59:46.988Z"
   },
   {
    "duration": 125,
    "start_time": "2022-06-04T19:00:00.781Z"
   },
   {
    "duration": 8,
    "start_time": "2022-06-04T19:00:04.980Z"
   },
   {
    "duration": 21,
    "start_time": "2022-06-04T19:00:21.399Z"
   },
   {
    "duration": 9,
    "start_time": "2022-06-04T19:00:30.844Z"
   },
   {
    "duration": 16,
    "start_time": "2022-06-04T19:02:07.705Z"
   },
   {
    "duration": 22,
    "start_time": "2022-06-04T19:02:16.533Z"
   },
   {
    "duration": 2019,
    "start_time": "2022-06-04T19:12:53.343Z"
   },
   {
    "duration": 1255,
    "start_time": "2022-06-04T19:12:55.364Z"
   },
   {
    "duration": 738,
    "start_time": "2022-06-04T19:12:56.621Z"
   },
   {
    "duration": 5,
    "start_time": "2022-06-04T19:12:57.362Z"
   },
   {
    "duration": 783,
    "start_time": "2022-06-04T19:12:57.368Z"
   },
   {
    "duration": 4,
    "start_time": "2022-06-04T19:12:58.153Z"
   },
   {
    "duration": 18,
    "start_time": "2022-06-04T19:12:58.158Z"
   },
   {
    "duration": 247,
    "start_time": "2022-06-04T19:12:58.178Z"
   },
   {
    "duration": 213,
    "start_time": "2022-06-04T19:12:58.427Z"
   },
   {
    "duration": 48,
    "start_time": "2022-06-04T19:12:58.642Z"
   },
   {
    "duration": 45,
    "start_time": "2022-06-04T19:12:58.692Z"
   },
   {
    "duration": 36,
    "start_time": "2022-06-04T19:12:58.739Z"
   },
   {
    "duration": 32,
    "start_time": "2022-06-04T19:12:58.777Z"
   },
   {
    "duration": 88,
    "start_time": "2022-06-04T19:12:58.823Z"
   },
   {
    "duration": 125,
    "start_time": "2022-06-04T19:12:58.912Z"
   },
   {
    "duration": 20,
    "start_time": "2022-06-04T19:12:59.039Z"
   },
   {
    "duration": 110,
    "start_time": "2022-06-04T19:12:59.060Z"
   },
   {
    "duration": 86,
    "start_time": "2022-06-04T19:12:59.172Z"
   },
   {
    "duration": 30,
    "start_time": "2022-06-04T19:12:59.260Z"
   },
   {
    "duration": 16,
    "start_time": "2022-06-04T19:12:59.292Z"
   },
   {
    "duration": 78,
    "start_time": "2022-06-04T19:12:59.309Z"
   },
   {
    "duration": 17,
    "start_time": "2022-06-04T19:12:59.389Z"
   },
   {
    "duration": 13,
    "start_time": "2022-06-04T19:12:59.422Z"
   },
   {
    "duration": 56,
    "start_time": "2022-06-04T19:12:59.437Z"
   },
   {
    "duration": 449,
    "start_time": "2022-06-04T19:12:59.495Z"
   },
   {
    "duration": 368,
    "start_time": "2022-06-04T19:12:59.946Z"
   },
   {
    "duration": 13,
    "start_time": "2022-06-04T19:13:00.316Z"
   },
   {
    "duration": 47,
    "start_time": "2022-06-04T19:13:00.334Z"
   },
   {
    "duration": 53,
    "start_time": "2022-06-04T19:13:00.383Z"
   },
   {
    "duration": 3,
    "start_time": "2022-06-04T19:13:00.438Z"
   },
   {
    "duration": 40,
    "start_time": "2022-06-04T19:13:00.443Z"
   },
   {
    "duration": 13,
    "start_time": "2022-06-04T19:13:00.485Z"
   },
   {
    "duration": 95,
    "start_time": "2022-06-04T19:13:00.500Z"
   },
   {
    "duration": 38,
    "start_time": "2022-06-04T19:13:00.597Z"
   },
   {
    "duration": 28,
    "start_time": "2022-06-04T19:13:00.637Z"
   },
   {
    "duration": 26,
    "start_time": "2022-06-04T19:13:00.667Z"
   },
   {
    "duration": 504,
    "start_time": "2022-06-04T19:13:00.695Z"
   },
   {
    "duration": 16,
    "start_time": "2022-06-04T19:13:01.200Z"
   },
   {
    "duration": 68,
    "start_time": "2022-06-04T19:13:01.223Z"
   },
   {
    "duration": 17,
    "start_time": "2022-06-04T19:13:01.293Z"
   },
   {
    "duration": 16,
    "start_time": "2022-06-04T19:13:01.312Z"
   },
   {
    "duration": 11,
    "start_time": "2022-06-04T19:13:01.330Z"
   },
   {
    "duration": 87,
    "start_time": "2022-06-04T19:13:01.343Z"
   },
   {
    "duration": 4,
    "start_time": "2022-06-04T19:13:01.432Z"
   },
   {
    "duration": 220,
    "start_time": "2022-06-04T19:13:01.438Z"
   },
   {
    "duration": 14,
    "start_time": "2022-06-04T19:13:01.659Z"
   },
   {
    "duration": 41,
    "start_time": "2022-06-04T19:13:01.675Z"
   },
   {
    "duration": 791,
    "start_time": "2022-06-04T19:13:01.723Z"
   },
   {
    "duration": 27,
    "start_time": "2022-06-04T19:13:02.516Z"
   },
   {
    "duration": 109,
    "start_time": "2022-06-04T19:13:02.544Z"
   },
   {
    "duration": 544,
    "start_time": "2022-06-04T19:13:02.655Z"
   },
   {
    "duration": 195,
    "start_time": "2022-06-04T19:13:03.200Z"
   },
   {
    "duration": 3,
    "start_time": "2022-06-04T19:13:03.397Z"
   },
   {
    "duration": 6,
    "start_time": "2022-06-04T19:13:03.401Z"
   },
   {
    "duration": 120,
    "start_time": "2022-06-04T19:13:03.408Z"
   },
   {
    "duration": 96,
    "start_time": "2022-06-04T19:13:03.530Z"
   },
   {
    "duration": 7,
    "start_time": "2022-06-04T19:13:03.629Z"
   },
   {
    "duration": 1086,
    "start_time": "2022-06-04T19:13:03.638Z"
   },
   {
    "duration": 27097,
    "start_time": "2022-06-04T19:13:04.726Z"
   },
   {
    "duration": 498,
    "start_time": "2022-06-04T19:13:31.826Z"
   },
   {
    "duration": 7,
    "start_time": "2022-06-04T19:13:32.327Z"
   },
   {
    "duration": 95700,
    "start_time": "2022-06-04T19:13:32.423Z"
   },
   {
    "duration": 4,
    "start_time": "2022-06-04T19:15:08.126Z"
   },
   {
    "duration": 100,
    "start_time": "2022-06-04T19:15:08.132Z"
   },
   {
    "duration": 7,
    "start_time": "2022-06-04T19:15:08.234Z"
   },
   {
    "duration": 240,
    "start_time": "2022-06-04T19:15:08.243Z"
   },
   {
    "duration": 16,
    "start_time": "2022-06-04T19:15:08.485Z"
   },
   {
    "duration": 20,
    "start_time": "2022-06-04T19:15:08.503Z"
   },
   {
    "duration": 2115,
    "start_time": "2022-06-04T19:15:08.525Z"
   },
   {
    "duration": 415,
    "start_time": "2022-06-04T19:15:10.642Z"
   },
   {
    "duration": 5,
    "start_time": "2022-06-04T19:15:11.059Z"
   },
   {
    "duration": 13,
    "start_time": "2022-06-04T19:15:11.066Z"
   },
   {
    "duration": 16,
    "start_time": "2022-06-04T19:15:11.081Z"
   },
   {
    "duration": 160,
    "start_time": "2022-06-04T19:15:11.099Z"
   },
   {
    "duration": 50,
    "start_time": "2022-06-04T19:15:11.261Z"
   },
   {
    "duration": 10,
    "start_time": "2022-06-04T19:15:11.313Z"
   },
   {
    "duration": 3,
    "start_time": "2022-06-04T19:15:11.325Z"
   },
   {
    "duration": 5,
    "start_time": "2022-06-04T19:15:11.330Z"
   },
   {
    "duration": 5,
    "start_time": "2022-06-04T19:15:11.336Z"
   },
   {
    "duration": 6485,
    "start_time": "2022-06-04T19:15:11.342Z"
   },
   {
    "duration": 3101,
    "start_time": "2022-06-04T19:15:17.829Z"
   },
   {
    "duration": 6,
    "start_time": "2022-06-04T19:15:20.935Z"
   },
   {
    "duration": 45,
    "start_time": "2022-06-04T19:15:20.942Z"
   },
   {
    "duration": 45,
    "start_time": "2022-06-04T19:15:20.989Z"
   },
   {
    "duration": 42,
    "start_time": "2022-06-04T19:15:21.035Z"
   },
   {
    "duration": 2,
    "start_time": "2022-06-04T19:15:21.079Z"
   },
   {
    "duration": 6,
    "start_time": "2022-06-04T19:15:21.082Z"
   },
   {
    "duration": 8,
    "start_time": "2022-06-04T19:15:21.089Z"
   },
   {
    "duration": 7630,
    "start_time": "2022-06-04T19:15:21.098Z"
   },
   {
    "duration": 3014,
    "start_time": "2022-06-04T19:15:28.730Z"
   },
   {
    "duration": 78,
    "start_time": "2022-06-04T19:15:31.746Z"
   },
   {
    "duration": 124,
    "start_time": "2022-06-04T19:15:31.826Z"
   },
   {
    "duration": 6958,
    "start_time": "2022-06-04T19:15:31.952Z"
   },
   {
    "duration": 540,
    "start_time": "2022-06-04T19:15:38.912Z"
   },
   {
    "duration": 3,
    "start_time": "2022-06-04T19:15:39.454Z"
   },
   {
    "duration": 6,
    "start_time": "2022-06-04T19:15:39.458Z"
   },
   {
    "duration": 4,
    "start_time": "2022-06-04T19:15:39.465Z"
   },
   {
    "duration": 2237,
    "start_time": "2022-06-04T19:17:05.450Z"
   },
   {
    "duration": 1343,
    "start_time": "2022-06-04T19:17:07.690Z"
   },
   {
    "duration": 867,
    "start_time": "2022-06-04T19:17:09.038Z"
   },
   {
    "duration": 5,
    "start_time": "2022-06-04T19:17:09.907Z"
   },
   {
    "duration": 895,
    "start_time": "2022-06-04T19:17:09.915Z"
   },
   {
    "duration": 14,
    "start_time": "2022-06-04T19:17:10.811Z"
   },
   {
    "duration": 16,
    "start_time": "2022-06-04T19:17:10.831Z"
   },
   {
    "duration": 254,
    "start_time": "2022-06-04T19:17:10.849Z"
   },
   {
    "duration": 238,
    "start_time": "2022-06-04T19:17:11.105Z"
   },
   {
    "duration": 54,
    "start_time": "2022-06-04T19:17:11.344Z"
   },
   {
    "duration": 56,
    "start_time": "2022-06-04T19:17:11.399Z"
   },
   {
    "duration": 33,
    "start_time": "2022-06-04T19:17:11.458Z"
   },
   {
    "duration": 56,
    "start_time": "2022-06-04T19:17:11.493Z"
   },
   {
    "duration": 106,
    "start_time": "2022-06-04T19:17:11.553Z"
   },
   {
    "duration": 132,
    "start_time": "2022-06-04T19:17:11.661Z"
   },
   {
    "duration": 41,
    "start_time": "2022-06-04T19:17:11.795Z"
   },
   {
    "duration": 135,
    "start_time": "2022-06-04T19:17:11.838Z"
   },
   {
    "duration": 93,
    "start_time": "2022-06-04T19:17:11.975Z"
   },
   {
    "duration": 23,
    "start_time": "2022-06-04T19:17:12.069Z"
   },
   {
    "duration": 38,
    "start_time": "2022-06-04T19:17:12.094Z"
   },
   {
    "duration": 78,
    "start_time": "2022-06-04T19:17:12.136Z"
   },
   {
    "duration": 28,
    "start_time": "2022-06-04T19:17:12.216Z"
   },
   {
    "duration": 15,
    "start_time": "2022-06-04T19:17:12.245Z"
   },
   {
    "duration": 74,
    "start_time": "2022-06-04T19:17:12.262Z"
   },
   {
    "duration": 567,
    "start_time": "2022-06-04T19:17:12.339Z"
   },
   {
    "duration": 386,
    "start_time": "2022-06-04T19:17:12.908Z"
   },
   {
    "duration": 8,
    "start_time": "2022-06-04T19:17:13.295Z"
   },
   {
    "duration": 65,
    "start_time": "2022-06-04T19:17:13.304Z"
   },
   {
    "duration": 39,
    "start_time": "2022-06-04T19:17:13.371Z"
   },
   {
    "duration": 8,
    "start_time": "2022-06-04T19:17:13.422Z"
   },
   {
    "duration": 48,
    "start_time": "2022-06-04T19:17:13.431Z"
   },
   {
    "duration": 13,
    "start_time": "2022-06-04T19:17:13.481Z"
   },
   {
    "duration": 85,
    "start_time": "2022-06-04T19:17:13.495Z"
   },
   {
    "duration": 31,
    "start_time": "2022-06-04T19:17:13.581Z"
   },
   {
    "duration": 38,
    "start_time": "2022-06-04T19:17:13.613Z"
   },
   {
    "duration": 6,
    "start_time": "2022-06-04T19:17:13.652Z"
   },
   {
    "duration": 521,
    "start_time": "2022-06-04T19:17:13.659Z"
   },
   {
    "duration": 14,
    "start_time": "2022-06-04T19:17:14.182Z"
   },
   {
    "duration": 40,
    "start_time": "2022-06-04T19:17:14.198Z"
   },
   {
    "duration": 19,
    "start_time": "2022-06-04T19:17:14.240Z"
   },
   {
    "duration": 13,
    "start_time": "2022-06-04T19:17:14.264Z"
   },
   {
    "duration": 5,
    "start_time": "2022-06-04T19:17:14.279Z"
   },
   {
    "duration": 107,
    "start_time": "2022-06-04T19:17:14.286Z"
   },
   {
    "duration": 4,
    "start_time": "2022-06-04T19:17:14.395Z"
   },
   {
    "duration": 242,
    "start_time": "2022-06-04T19:17:14.401Z"
   },
   {
    "duration": 14,
    "start_time": "2022-06-04T19:17:14.645Z"
   },
   {
    "duration": 33,
    "start_time": "2022-06-04T19:17:14.660Z"
   },
   {
    "duration": 791,
    "start_time": "2022-06-04T19:17:14.695Z"
   },
   {
    "duration": 18,
    "start_time": "2022-06-04T19:17:15.487Z"
   },
   {
    "duration": 97,
    "start_time": "2022-06-04T19:17:15.507Z"
   },
   {
    "duration": 590,
    "start_time": "2022-06-04T19:17:15.607Z"
   },
   {
    "duration": 235,
    "start_time": "2022-06-04T19:17:16.199Z"
   },
   {
    "duration": 6,
    "start_time": "2022-06-04T19:17:16.436Z"
   },
   {
    "duration": 13,
    "start_time": "2022-06-04T19:17:16.444Z"
   },
   {
    "duration": 88,
    "start_time": "2022-06-04T19:17:16.458Z"
   },
   {
    "duration": 84,
    "start_time": "2022-06-04T19:17:16.550Z"
   },
   {
    "duration": 115,
    "start_time": "2022-06-04T19:17:16.639Z"
   },
   {
    "duration": 970,
    "start_time": "2022-06-04T19:17:16.756Z"
   },
   {
    "duration": 40019,
    "start_time": "2022-06-04T19:17:17.728Z"
   },
   {
    "duration": 484,
    "start_time": "2022-06-04T19:17:57.750Z"
   },
   {
    "duration": 13,
    "start_time": "2022-06-04T19:17:58.239Z"
   },
   {
    "duration": 169086,
    "start_time": "2022-06-04T19:17:58.255Z"
   },
   {
    "duration": 86,
    "start_time": "2022-06-04T19:20:47.344Z"
   },
   {
    "duration": 11,
    "start_time": "2022-06-04T19:20:47.431Z"
   },
   {
    "duration": 4,
    "start_time": "2022-06-04T19:20:47.444Z"
   },
   {
    "duration": 246,
    "start_time": "2022-06-04T19:20:47.450Z"
   },
   {
    "duration": 16,
    "start_time": "2022-06-04T19:20:47.698Z"
   },
   {
    "duration": 7,
    "start_time": "2022-06-04T19:20:47.723Z"
   },
   {
    "duration": 2206,
    "start_time": "2022-06-04T19:20:47.731Z"
   },
   {
    "duration": 407,
    "start_time": "2022-06-04T19:20:49.939Z"
   },
   {
    "duration": 5,
    "start_time": "2022-06-04T19:20:50.348Z"
   },
   {
    "duration": 14,
    "start_time": "2022-06-04T19:20:50.354Z"
   },
   {
    "duration": 15,
    "start_time": "2022-06-04T19:20:50.369Z"
   },
   {
    "duration": 156,
    "start_time": "2022-06-04T19:20:50.386Z"
   },
   {
    "duration": 48,
    "start_time": "2022-06-04T19:20:50.544Z"
   },
   {
    "duration": 4,
    "start_time": "2022-06-04T19:20:50.594Z"
   },
   {
    "duration": 4,
    "start_time": "2022-06-04T19:20:50.600Z"
   },
   {
    "duration": 34,
    "start_time": "2022-06-04T19:20:50.606Z"
   },
   {
    "duration": 8,
    "start_time": "2022-06-04T19:20:50.641Z"
   },
   {
    "duration": 63788,
    "start_time": "2022-06-04T19:20:50.650Z"
   },
   {
    "duration": 3010,
    "start_time": "2022-06-04T19:21:54.440Z"
   },
   {
    "duration": 5,
    "start_time": "2022-06-04T19:21:57.452Z"
   },
   {
    "duration": 69,
    "start_time": "2022-06-04T19:21:57.458Z"
   },
   {
    "duration": 22,
    "start_time": "2022-06-04T19:21:57.529Z"
   },
   {
    "duration": 39,
    "start_time": "2022-06-04T19:21:57.553Z"
   },
   {
    "duration": 2,
    "start_time": "2022-06-04T19:21:57.594Z"
   },
   {
    "duration": 5,
    "start_time": "2022-06-04T19:21:57.597Z"
   },
   {
    "duration": 6,
    "start_time": "2022-06-04T19:21:57.630Z"
   },
   {
    "duration": 46806,
    "start_time": "2022-06-04T19:21:57.638Z"
   },
   {
    "duration": 3098,
    "start_time": "2022-06-04T19:22:44.446Z"
   },
   {
    "duration": 6,
    "start_time": "2022-06-04T19:22:47.546Z"
   },
   {
    "duration": 163,
    "start_time": "2022-06-04T19:22:47.554Z"
   },
   {
    "duration": 7392,
    "start_time": "2022-06-04T19:22:47.719Z"
   },
   {
    "duration": 504,
    "start_time": "2022-06-04T19:22:55.113Z"
   },
   {
    "duration": 15,
    "start_time": "2022-06-04T19:22:55.619Z"
   },
   {
    "duration": 5,
    "start_time": "2022-06-04T19:22:55.637Z"
   },
   {
    "duration": 5,
    "start_time": "2022-06-04T19:22:55.643Z"
   },
   {
    "duration": 114084,
    "start_time": "2022-06-04T19:22:55.649Z"
   },
   {
    "duration": 5226,
    "start_time": "2022-06-04T19:24:49.734Z"
   },
   {
    "duration": 6,
    "start_time": "2022-06-04T19:24:54.962Z"
   },
   {
    "duration": 57,
    "start_time": "2022-06-04T19:24:54.970Z"
   },
   {
    "duration": 529589,
    "start_time": "2022-06-04T19:24:55.029Z"
   },
   {
    "duration": 2438,
    "start_time": "2022-06-04T19:33:44.623Z"
   },
   {
    "duration": 6,
    "start_time": "2022-06-04T19:33:47.062Z"
   },
   {
    "duration": 112,
    "start_time": "2022-06-04T19:33:47.070Z"
   },
   {
    "duration": 3,
    "start_time": "2022-06-04T19:33:47.184Z"
   }
  ],
  "colab": {
   "collapsed_sections": [],
   "name": "traid_in.ipynb",
   "provenance": [],
   "toc_visible": true
  },
  "kernelspec": {
   "display_name": "Python 3 (ipykernel)",
   "language": "python",
   "name": "python3"
  },
  "language_info": {
   "codemirror_mode": {
    "name": "ipython",
    "version": 3
   },
   "file_extension": ".py",
   "mimetype": "text/x-python",
   "name": "python",
   "nbconvert_exporter": "python",
   "pygments_lexer": "ipython3",
   "version": "3.9.7"
  },
  "toc": {
   "base_numbering": 1,
   "nav_menu": {},
   "number_sections": true,
   "sideBar": true,
   "skip_h1_title": true,
   "title_cell": "Table of Contents",
   "title_sidebar": "Contents",
   "toc_cell": false,
   "toc_position": {
    "height": "calc(100% - 180px)",
    "left": "10px",
    "top": "150px",
    "width": "255.594px"
   },
   "toc_section_display": true,
   "toc_window_display": true
  }
 },
 "nbformat": 4,
 "nbformat_minor": 1
}
