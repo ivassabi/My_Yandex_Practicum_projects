{
 "cells": [
  {
   "cell_type": "markdown",
   "metadata": {
    "id": "E0vqbgi9ay0H"
   },
   "source": [
    "# Яндекс.Музыка"
   ]
  },
  {
   "cell_type": "markdown",
   "metadata": {
    "id": "VUC88oWjTJw2"
   },
   "source": [
    "Сравнение Москвы и Петербурга окружено мифами. Например:\n",
    " * Москва — мегаполис, подчинённый жёсткому ритму рабочей недели;\n",
    " * Петербург — культурная столица, со своими вкусами.\n",
    "\n",
    "На данных Яндекс.Музыки вы сравните поведение пользователей двух столиц.\n",
    "\n",
    "**Цель исследования** — проверьте три гипотезы:\n",
    "1. Активность пользователей зависит от дня недели. Причём в Москве и Петербурге это проявляется по-разному.\n",
    "2. В понедельник утром в Москве преобладают одни жанры, а в Петербурге — другие. Так же и вечером пятницы преобладают разные жанры — в зависимости от города. \n",
    "3. Москва и Петербург предпочитают разные жанры музыки. В Москве чаще слушают поп-музыку, в Петербурге — русский рэп.\n",
    "\n",
    "**Ход исследования**\n",
    "\n",
    "Данные о поведении пользователей вы получите из файла `yandex_music_project.csv`. О качестве данных ничего не известно. Поэтому перед проверкой гипотез понадобится обзор данных. \n",
    "\n",
    "Вы проверите данные на ошибки и оцените их влияние на исследование. Затем, на этапе предобработки вы поищете возможность исправить самые критичные ошибки данных.\n",
    " \n",
    "Таким образом, исследование пройдёт в три этапа:\n",
    " 1. Обзор данных.\n",
    " 2. Предобработка данных.\n",
    " 3. Проверка гипотез.\n",
    "\n"
   ]
  },
  {
   "cell_type": "markdown",
   "metadata": {
    "id": "Ml1hmfXC_Zcs"
   },
   "source": [
    "## Обзор данных\n",
    "\n",
    "Составим первое представление о данных Яндекс.Музыки.\n",
    "\n",
    "\n"
   ]
  },
  {
   "cell_type": "code",
   "execution_count": 1,
   "metadata": {
    "id": "AXN7PHPN_Zcs"
   },
   "outputs": [],
   "source": [
    "import pandas as pd"
   ]
  },
  {
   "cell_type": "code",
   "execution_count": 2,
   "metadata": {
    "id": "fFVu7vqh_Zct"
   },
   "outputs": [],
   "source": [
    "df = pd.read_csv('/datasets/yandex_music_project.csv')"
   ]
  },
  {
   "cell_type": "markdown",
   "metadata": {
    "id": "rDoOMd3uTqnZ"
   },
   "source": [
    "Выведим на экран первые десять строк таблицы:"
   ]
  },
  {
   "cell_type": "code",
   "execution_count": 3,
   "metadata": {
    "id": "oWTVX3gW_Zct",
    "scrolled": true
   },
   "outputs": [
    {
     "data": {
      "text/html": [
       "<div>\n",
       "<style scoped>\n",
       "    .dataframe tbody tr th:only-of-type {\n",
       "        vertical-align: middle;\n",
       "    }\n",
       "\n",
       "    .dataframe tbody tr th {\n",
       "        vertical-align: top;\n",
       "    }\n",
       "\n",
       "    .dataframe thead th {\n",
       "        text-align: right;\n",
       "    }\n",
       "</style>\n",
       "<table border=\"1\" class=\"dataframe\">\n",
       "  <thead>\n",
       "    <tr style=\"text-align: right;\">\n",
       "      <th></th>\n",
       "      <th>userID</th>\n",
       "      <th>Track</th>\n",
       "      <th>artist</th>\n",
       "      <th>genre</th>\n",
       "      <th>City</th>\n",
       "      <th>time</th>\n",
       "      <th>Day</th>\n",
       "    </tr>\n",
       "  </thead>\n",
       "  <tbody>\n",
       "    <tr>\n",
       "      <td>0</td>\n",
       "      <td>FFB692EC</td>\n",
       "      <td>Kamigata To Boots</td>\n",
       "      <td>The Mass Missile</td>\n",
       "      <td>rock</td>\n",
       "      <td>Saint-Petersburg</td>\n",
       "      <td>20:28:33</td>\n",
       "      <td>Wednesday</td>\n",
       "    </tr>\n",
       "    <tr>\n",
       "      <td>1</td>\n",
       "      <td>55204538</td>\n",
       "      <td>Delayed Because of Accident</td>\n",
       "      <td>Andreas Rönnberg</td>\n",
       "      <td>rock</td>\n",
       "      <td>Moscow</td>\n",
       "      <td>14:07:09</td>\n",
       "      <td>Friday</td>\n",
       "    </tr>\n",
       "    <tr>\n",
       "      <td>2</td>\n",
       "      <td>20EC38</td>\n",
       "      <td>Funiculì funiculà</td>\n",
       "      <td>Mario Lanza</td>\n",
       "      <td>pop</td>\n",
       "      <td>Saint-Petersburg</td>\n",
       "      <td>20:58:07</td>\n",
       "      <td>Wednesday</td>\n",
       "    </tr>\n",
       "    <tr>\n",
       "      <td>3</td>\n",
       "      <td>A3DD03C9</td>\n",
       "      <td>Dragons in the Sunset</td>\n",
       "      <td>Fire + Ice</td>\n",
       "      <td>folk</td>\n",
       "      <td>Saint-Petersburg</td>\n",
       "      <td>08:37:09</td>\n",
       "      <td>Monday</td>\n",
       "    </tr>\n",
       "    <tr>\n",
       "      <td>4</td>\n",
       "      <td>E2DC1FAE</td>\n",
       "      <td>Soul People</td>\n",
       "      <td>Space Echo</td>\n",
       "      <td>dance</td>\n",
       "      <td>Moscow</td>\n",
       "      <td>08:34:34</td>\n",
       "      <td>Monday</td>\n",
       "    </tr>\n",
       "    <tr>\n",
       "      <td>5</td>\n",
       "      <td>842029A1</td>\n",
       "      <td>Преданная</td>\n",
       "      <td>IMPERVTOR</td>\n",
       "      <td>rusrap</td>\n",
       "      <td>Saint-Petersburg</td>\n",
       "      <td>13:09:41</td>\n",
       "      <td>Friday</td>\n",
       "    </tr>\n",
       "    <tr>\n",
       "      <td>6</td>\n",
       "      <td>4CB90AA5</td>\n",
       "      <td>True</td>\n",
       "      <td>Roman Messer</td>\n",
       "      <td>dance</td>\n",
       "      <td>Moscow</td>\n",
       "      <td>13:00:07</td>\n",
       "      <td>Wednesday</td>\n",
       "    </tr>\n",
       "    <tr>\n",
       "      <td>7</td>\n",
       "      <td>F03E1C1F</td>\n",
       "      <td>Feeling This Way</td>\n",
       "      <td>Polina Griffith</td>\n",
       "      <td>dance</td>\n",
       "      <td>Moscow</td>\n",
       "      <td>20:47:49</td>\n",
       "      <td>Wednesday</td>\n",
       "    </tr>\n",
       "    <tr>\n",
       "      <td>8</td>\n",
       "      <td>8FA1D3BE</td>\n",
       "      <td>И вновь продолжается бой</td>\n",
       "      <td>NaN</td>\n",
       "      <td>ruspop</td>\n",
       "      <td>Moscow</td>\n",
       "      <td>09:17:40</td>\n",
       "      <td>Friday</td>\n",
       "    </tr>\n",
       "    <tr>\n",
       "      <td>9</td>\n",
       "      <td>E772D5C0</td>\n",
       "      <td>Pessimist</td>\n",
       "      <td>NaN</td>\n",
       "      <td>dance</td>\n",
       "      <td>Saint-Petersburg</td>\n",
       "      <td>21:20:49</td>\n",
       "      <td>Wednesday</td>\n",
       "    </tr>\n",
       "  </tbody>\n",
       "</table>\n",
       "</div>"
      ],
      "text/plain": [
       "     userID                        Track            artist   genre  \\\n",
       "0  FFB692EC            Kamigata To Boots  The Mass Missile    rock   \n",
       "1  55204538  Delayed Because of Accident  Andreas Rönnberg    rock   \n",
       "2    20EC38            Funiculì funiculà       Mario Lanza     pop   \n",
       "3  A3DD03C9        Dragons in the Sunset        Fire + Ice    folk   \n",
       "4  E2DC1FAE                  Soul People        Space Echo   dance   \n",
       "5  842029A1                    Преданная         IMPERVTOR  rusrap   \n",
       "6  4CB90AA5                         True      Roman Messer   dance   \n",
       "7  F03E1C1F             Feeling This Way   Polina Griffith   dance   \n",
       "8  8FA1D3BE     И вновь продолжается бой               NaN  ruspop   \n",
       "9  E772D5C0                    Pessimist               NaN   dance   \n",
       "\n",
       "             City        time        Day  \n",
       "0  Saint-Petersburg  20:28:33  Wednesday  \n",
       "1            Moscow  14:07:09     Friday  \n",
       "2  Saint-Petersburg  20:58:07  Wednesday  \n",
       "3  Saint-Petersburg  08:37:09     Monday  \n",
       "4            Moscow  08:34:34     Monday  \n",
       "5  Saint-Petersburg  13:09:41     Friday  \n",
       "6            Moscow  13:00:07  Wednesday  \n",
       "7            Moscow  20:47:49  Wednesday  \n",
       "8            Moscow  09:17:40     Friday  \n",
       "9  Saint-Petersburg  21:20:49  Wednesday  "
      ]
     },
     "metadata": {},
     "output_type": "display_data"
    }
   ],
   "source": [
    "display(df.head(10))"
   ]
  },
  {
   "cell_type": "markdown",
   "metadata": {},
   "source": [
    "Получим общую информацию по табдице:"
   ]
  },
  {
   "cell_type": "code",
   "execution_count": 4,
   "metadata": {
    "id": "DSf2kIb-_Zct"
   },
   "outputs": [
    {
     "name": "stdout",
     "output_type": "stream",
     "text": [
      "<class 'pandas.core.frame.DataFrame'>\n",
      "RangeIndex: 65079 entries, 0 to 65078\n",
      "Data columns (total 7 columns):\n",
      "  userID    65079 non-null object\n",
      "Track       63848 non-null object\n",
      "artist      57876 non-null object\n",
      "genre       63881 non-null object\n",
      "  City      65079 non-null object\n",
      "time        65079 non-null object\n",
      "Day         65079 non-null object\n",
      "dtypes: object(7)\n",
      "memory usage: 3.5+ MB\n"
     ]
    }
   ],
   "source": [
    "df.info()"
   ]
  },
  {
   "cell_type": "markdown",
   "metadata": {
    "id": "TaQ2Iwbr_Zct"
   },
   "source": [
    "Итак, в таблице семь столбцов. Тип данных во всех столбцах — `object`.\n",
    "\n",
    "Согласно документации к данным:\n",
    "* `userID` — идентификатор пользователя;\n",
    "* `Track` — название трека;  \n",
    "* `artist` — имя исполнителя;\n",
    "* `genre` — название жанра;\n",
    "* `City` — город пользователя;\n",
    "* `time` — время начала прослушивания;\n",
    "* `Day` — день недели.\n",
    "\n",
    "В названиях колонок видны три нарушения стиля:\n",
    "1. Строчные буквы сочетаются с прописными.\n",
    "2. Встречаются пробелы.\n",
    "3. Найдите ещё одну проблему в названии колонок и опишите её в этом пункте.(Не соблюден \"змеиный шрифт\" например userID правильнее указать user_id)\n",
    "\n",
    "\n",
    "\n",
    "Количество значений в столбцах различается. Значит, в данных есть пропущенные значения.\n"
   ]
  },
  {
   "cell_type": "markdown",
   "metadata": {
    "id": "MCB6-dXG_Zct"
   },
   "source": [
    "**Выводы**\n",
    "\n",
    "В каждой строке таблицы — данные о прослушанном треке. Часть колонок описывает саму композицию: название, исполнителя и жанр. Остальные данные рассказывают о пользователе: из какого он города, когда он слушал музыку. \n",
    "\n",
    "Предварительно можно утверждать, что, данных достаточно для проверки гипотез. Но встречаются пропуски в данных, а в названиях колонок — расхождения с хорошим стилем.\n",
    "\n",
    "Чтобы двигаться дальше, нужно устранить проблемы в данных."
   ]
  },
  {
   "cell_type": "markdown",
   "metadata": {
    "id": "SjYF6Ub9_Zct"
   },
   "source": [
    "## Предобработка данных\n",
    "Исправьте стиль в заголовках столбцов, исключите пропуски. Затем проверьте данные на дубликаты."
   ]
  },
  {
   "cell_type": "markdown",
   "metadata": {
    "id": "dIaKXr29_Zct"
   },
   "source": [
    "### Стиль заголовков\n",
    "Выведем на экран названия столбцов:"
   ]
  },
  {
   "cell_type": "code",
   "execution_count": 5,
   "metadata": {
    "id": "oKOTdF_Q_Zct"
   },
   "outputs": [
    {
     "data": {
      "text/plain": [
       "Index(['  userID', 'Track', 'artist', 'genre', '  City  ', 'time', 'Day'], dtype='object')"
      ]
     },
     "execution_count": 5,
     "metadata": {},
     "output_type": "execute_result"
    }
   ],
   "source": [
    "df.columns"
   ]
  },
  {
   "cell_type": "markdown",
   "metadata": {
    "id": "zj5534cv_Zct"
   },
   "source": [
    "Приведите названия в соответствие с хорошим стилем:\n",
    "* несколько слов в названии запишем в «змеином_регистре»,\n",
    "* все символы сделаем строчными,\n",
    "* устраним пробелы.\n",
    "\n",
    "Для этого переименуем колонки так:\n",
    "* `'  userID'` → `'user_id'`;\n",
    "* `'Track'` → `'track'`;\n",
    "* `'  City  '` → `'city'`;\n",
    "* `'Day'` → `'day'`."
   ]
  },
  {
   "cell_type": "code",
   "execution_count": 6,
   "metadata": {
    "id": "ISlFqs5y_Zct"
   },
   "outputs": [],
   "source": [
    "df = df.rename(columns = {'  userID': 'user_id', 'Track':'track', '  City  ':'city', 'Day':'day'})"
   ]
  },
  {
   "cell_type": "markdown",
   "metadata": {
    "id": "1dqbh00J_Zct"
   },
   "source": [
    "Проверим результат. Для этого ещё раз выведим на экран названия столбцов:"
   ]
  },
  {
   "cell_type": "code",
   "execution_count": 7,
   "metadata": {
    "id": "d4NOAmTW_Zct"
   },
   "outputs": [
    {
     "data": {
      "text/plain": [
       "Index(['user_id', 'track', 'artist', 'genre', 'city', 'time', 'day'], dtype='object')"
      ]
     },
     "execution_count": 7,
     "metadata": {},
     "output_type": "execute_result"
    }
   ],
   "source": [
    "df.columns"
   ]
  },
  {
   "cell_type": "markdown",
   "metadata": {
    "id": "5ISfbcfY_Zct"
   },
   "source": [
    "### Пропуски значений\n",
    "Для начала посчитаем, сколько в таблице пропущенных значений."
   ]
  },
  {
   "cell_type": "code",
   "execution_count": 8,
   "metadata": {
    "id": "RskX29qr_Zct"
   },
   "outputs": [
    {
     "data": {
      "text/plain": [
       "user_id       0\n",
       "track      1231\n",
       "artist     7203\n",
       "genre      1198\n",
       "city          0\n",
       "time          0\n",
       "day           0\n",
       "dtype: int64"
      ]
     },
     "execution_count": 8,
     "metadata": {},
     "output_type": "execute_result"
    }
   ],
   "source": [
    "df.isna().sum()"
   ]
  },
  {
   "cell_type": "markdown",
   "metadata": {
    "id": "qubhgnlO_Zct"
   },
   "source": [
    "Не все пропущенные значения влияют на исследование. Так в `track` и `artist` пропуски не важны для вашей работы. Достаточно заменить их явными обозначениями.\n",
    "\n",
    "Но пропуски в `genre` могут помешать сравнению музыкальных вкусов в Москве и Санкт-Петербурге. На практике было бы правильно установить причину пропусков и восстановить данные. Такой возможности нет в учебном проекте. Придётся:\n",
    "* заполнить и эти пропуски явными обозначениями,\n",
    "* оценить, насколько они повредят расчётам. "
   ]
  },
  {
   "cell_type": "markdown",
   "metadata": {
    "id": "fSv2laPA_Zct"
   },
   "source": [
    "Заменим пропущенные значения в столбцах `track`, `artist` и `genre` на строку `'unknown'`. Для этого создадим список `columns_to_replace`, переберем его элементы циклом `for` и для каждого столбца выполним замену пропущенных значений:"
   ]
  },
  {
   "cell_type": "code",
   "execution_count": 9,
   "metadata": {
    "id": "KplB5qWs_Zct"
   },
   "outputs": [],
   "source": [
    "columns_to_replace = ['track', 'artist', 'genre']\n",
    "for column in columns_to_replace:\n",
    "    df[column] = df[column].fillna('unknown')"
   ]
  },
  {
   "cell_type": "markdown",
   "metadata": {
    "id": "Ilsm-MZo_Zct"
   },
   "source": [
    "Убедимся, что в таблице не осталось пропусков. Для этого ещё раз посчитаем пропущенные значения."
   ]
  },
  {
   "cell_type": "code",
   "execution_count": 10,
   "metadata": {
    "id": "Tq4nYRX4_Zct"
   },
   "outputs": [
    {
     "data": {
      "text/plain": [
       "user_id    0\n",
       "track      0\n",
       "artist     0\n",
       "genre      0\n",
       "city       0\n",
       "time       0\n",
       "day        0\n",
       "dtype: int64"
      ]
     },
     "execution_count": 10,
     "metadata": {},
     "output_type": "execute_result"
    }
   ],
   "source": [
    "df.isna().sum()"
   ]
  },
  {
   "cell_type": "markdown",
   "metadata": {
    "id": "BWKRtBJ3_Zct"
   },
   "source": [
    "### Дубликаты\n",
    "Посчитаем явные дубликаты в таблице:"
   ]
  },
  {
   "cell_type": "code",
   "execution_count": 11,
   "metadata": {
    "id": "36eES_S0_Zct"
   },
   "outputs": [
    {
     "data": {
      "text/plain": [
       "3826"
      ]
     },
     "metadata": {},
     "output_type": "display_data"
    }
   ],
   "source": [
    "display(df.duplicated().sum())"
   ]
  },
  {
   "cell_type": "markdown",
   "metadata": {
    "id": "Ot25h6XR_Zct"
   },
   "source": [
    "Удалим явные дубликаты:"
   ]
  },
  {
   "cell_type": "code",
   "execution_count": 12,
   "metadata": {
    "id": "exFHq6tt_Zct"
   },
   "outputs": [],
   "source": [
    "df = df.drop_duplicates().reset_index(drop=True)"
   ]
  },
  {
   "cell_type": "markdown",
   "metadata": {
    "id": "Im2YwBEG_Zct"
   },
   "source": [
    "Убедимся, что полностью избавились от явных дубликатов:"
   ]
  },
  {
   "cell_type": "code",
   "execution_count": 13,
   "metadata": {
    "id": "-8PuNWQ0_Zct"
   },
   "outputs": [
    {
     "data": {
      "text/plain": [
       "0"
      ]
     },
     "metadata": {},
     "output_type": "display_data"
    }
   ],
   "source": [
    "display(df.duplicated().sum())"
   ]
  },
  {
   "cell_type": "markdown",
   "metadata": {
    "id": "QlFBsxAr_Zct"
   },
   "source": [
    "Теперь избавимся от неявных дубликатов в колонке `genre`. Например, название одного и того же жанра может быть записано немного по-разному. Такие ошибки тоже повлияют на результат исследования."
   ]
  },
  {
   "cell_type": "code",
   "execution_count": 14,
   "metadata": {
    "id": "JIUcqzZN_Zct"
   },
   "outputs": [
    {
     "data": {
      "text/plain": [
       "array(['acid', 'acoustic', 'action', 'adult', 'africa', 'afrikaans',\n",
       "       'alternative', 'alternativepunk', 'ambient', 'americana',\n",
       "       'animated', 'anime', 'arabesk', 'arabic', 'arena',\n",
       "       'argentinetango', 'art', 'audiobook', 'author', 'avantgarde',\n",
       "       'axé', 'baile', 'balkan', 'beats', 'bigroom', 'black', 'bluegrass',\n",
       "       'blues', 'bollywood', 'bossa', 'brazilian', 'breakbeat', 'breaks',\n",
       "       'broadway', 'cantautori', 'cantopop', 'canzone', 'caribbean',\n",
       "       'caucasian', 'celtic', 'chamber', 'chanson', 'children', 'chill',\n",
       "       'chinese', 'choral', 'christian', 'christmas', 'classical',\n",
       "       'classicmetal', 'club', 'colombian', 'comedy', 'conjazz',\n",
       "       'contemporary', 'country', 'cuban', 'dance', 'dancehall',\n",
       "       'dancepop', 'dark', 'death', 'deep', 'deutschrock', 'deutschspr',\n",
       "       'dirty', 'disco', 'dnb', 'documentary', 'downbeat', 'downtempo',\n",
       "       'drum', 'dub', 'dubstep', 'eastern', 'easy', 'electronic',\n",
       "       'electropop', 'emo', 'entehno', 'epicmetal', 'estrada', 'ethnic',\n",
       "       'eurofolk', 'european', 'experimental', 'extrememetal', 'fado',\n",
       "       'fairytail', 'film', 'fitness', 'flamenco', 'folk', 'folklore',\n",
       "       'folkmetal', 'folkrock', 'folktronica', 'forró', 'frankreich',\n",
       "       'französisch', 'french', 'funk', 'future', 'gangsta', 'garage',\n",
       "       'german', 'ghazal', 'gitarre', 'glitch', 'gospel', 'gothic',\n",
       "       'grime', 'grunge', 'gypsy', 'handsup', \"hard'n'heavy\", 'hardcore',\n",
       "       'hardstyle', 'hardtechno', 'hip', 'hip-hop', 'hiphop',\n",
       "       'historisch', 'holiday', 'hop', 'horror', 'house', 'hymn', 'idm',\n",
       "       'independent', 'indian', 'indie', 'indipop', 'industrial',\n",
       "       'inspirational', 'instrumental', 'international', 'irish', 'jam',\n",
       "       'japanese', 'jazz', 'jewish', 'jpop', 'jungle', 'k-pop',\n",
       "       'karadeniz', 'karaoke', 'kayokyoku', 'korean', 'laiko', 'latin',\n",
       "       'latino', 'leftfield', 'local', 'lounge', 'loungeelectronic',\n",
       "       'lovers', 'malaysian', 'mandopop', 'marschmusik', 'meditative',\n",
       "       'mediterranean', 'melodic', 'metal', 'metalcore', 'mexican',\n",
       "       'middle', 'minimal', 'miscellaneous', 'modern', 'mood', 'mpb',\n",
       "       'muslim', 'native', 'neoklassik', 'neue', 'new', 'newage',\n",
       "       'newwave', 'nu', 'nujazz', 'numetal', 'oceania', 'old', 'opera',\n",
       "       'orchestral', 'other', 'piano', 'podcasts', 'pop', 'popdance',\n",
       "       'popelectronic', 'popeurodance', 'poprussian', 'post',\n",
       "       'posthardcore', 'postrock', 'power', 'progmetal', 'progressive',\n",
       "       'psychedelic', 'punjabi', 'punk', 'quebecois', 'ragga', 'ram',\n",
       "       'rancheras', 'rap', 'rave', 'reggae', 'reggaeton', 'regional',\n",
       "       'relax', 'religious', 'retro', 'rhythm', 'rnb', 'rnr', 'rock',\n",
       "       'rockabilly', 'rockalternative', 'rockindie', 'rockother',\n",
       "       'romance', 'roots', 'ruspop', 'rusrap', 'rusrock', 'russian',\n",
       "       'salsa', 'samba', 'scenic', 'schlager', 'self', 'sertanejo',\n",
       "       'shanson', 'shoegazing', 'showtunes', 'singer', 'ska', 'skarock',\n",
       "       'slow', 'smooth', 'soft', 'soul', 'soulful', 'sound', 'soundtrack',\n",
       "       'southern', 'specialty', 'speech', 'spiritual', 'sport',\n",
       "       'stonerrock', 'surf', 'swing', 'synthpop', 'synthrock',\n",
       "       'sängerportrait', 'tango', 'tanzorchester', 'taraftar', 'tatar',\n",
       "       'tech', 'techno', 'teen', 'thrash', 'top', 'traditional',\n",
       "       'tradjazz', 'trance', 'tribal', 'trip', 'triphop', 'tropical',\n",
       "       'türk', 'türkçe', 'ukrrock', 'unknown', 'urban', 'uzbek',\n",
       "       'variété', 'vi', 'videogame', 'vocal', 'western', 'world',\n",
       "       'worldbeat', 'ïîï', 'электроника'], dtype=object)"
      ]
     },
     "execution_count": 14,
     "metadata": {},
     "output_type": "execute_result"
    }
   ],
   "source": [
    "df['genre'].sort_values().unique()"
   ]
  },
  {
   "cell_type": "markdown",
   "metadata": {
    "id": "qej-Qmuo_Zct"
   },
   "source": [
    "При просмотре списка выявлены неявные дубликаты названия `hiphop`. Это могут быть названия с ошибками или альтернативные названия того же жанра.\n",
    "\n",
    "Мы увидили следующие неявные дубликаты:\n",
    "* *hip*,\n",
    "* *hop*,\n",
    "* *hip-hop*.\n",
    "\n",
    "Чтобы очистить от них таблицу, напишите функцию `replace_wrong_genres()` с двумя параметрами: \n",
    "* `wrong_genres` — список дубликатов,\n",
    "* `correct_genre` — строка с правильным значением.\n",
    "\n",
    "Функция должна исправить колонку `genre` в таблице `df`: заменить каждое значение из списка `wrong_genres` на значение из `correct_genre`."
   ]
  },
  {
   "cell_type": "code",
   "execution_count": 1,
   "metadata": {
    "id": "ErNDkmns_Zct"
   },
   "outputs": [],
   "source": [
    "def replace_wrong_genres(wrong_values, correct_values):\n",
    "    '''Функция принимаеина вход список дубликатов wrong_genres и строку с правильным значением correct_genre\n",
    "    и заменяет каждое значение из списка дубликатов на значение из  correct_genre'''\n",
    "    for wrong_values in wrong_values:\n",
    "        df['genre'] = df['genre'].replace(wrong_values, correct_values)"
   ]
  },
  {
   "cell_type": "markdown",
   "metadata": {
    "id": "aDoBJxbA_Zct"
   },
   "source": [
    "Применим функцию, чтобу устранить неявные дубликты в столбце `genre`"
   ]
  },
  {
   "cell_type": "code",
   "execution_count": 16,
   "metadata": {
    "id": "YN5i2hpmSo09"
   },
   "outputs": [],
   "source": [
    "replace_wrong_genres(['hip', 'hop', 'hip-hop'], 'hiphop')"
   ]
  },
  {
   "cell_type": "markdown",
   "metadata": {
    "id": "zQKF16_RG15m"
   },
   "source": [
    "Проверим, что заменили неправильные названия:"
   ]
  },
  {
   "cell_type": "code",
   "execution_count": 17,
   "metadata": {
    "id": "wvixALnFG15m"
   },
   "outputs": [
    {
     "data": {
      "text/plain": [
       "array(['acid', 'acoustic', 'action', 'adult', 'africa', 'afrikaans',\n",
       "       'alternative', 'alternativepunk', 'ambient', 'americana',\n",
       "       'animated', 'anime', 'arabesk', 'arabic', 'arena',\n",
       "       'argentinetango', 'art', 'audiobook', 'author', 'avantgarde',\n",
       "       'axé', 'baile', 'balkan', 'beats', 'bigroom', 'black', 'bluegrass',\n",
       "       'blues', 'bollywood', 'bossa', 'brazilian', 'breakbeat', 'breaks',\n",
       "       'broadway', 'cantautori', 'cantopop', 'canzone', 'caribbean',\n",
       "       'caucasian', 'celtic', 'chamber', 'chanson', 'children', 'chill',\n",
       "       'chinese', 'choral', 'christian', 'christmas', 'classical',\n",
       "       'classicmetal', 'club', 'colombian', 'comedy', 'conjazz',\n",
       "       'contemporary', 'country', 'cuban', 'dance', 'dancehall',\n",
       "       'dancepop', 'dark', 'death', 'deep', 'deutschrock', 'deutschspr',\n",
       "       'dirty', 'disco', 'dnb', 'documentary', 'downbeat', 'downtempo',\n",
       "       'drum', 'dub', 'dubstep', 'eastern', 'easy', 'electronic',\n",
       "       'electropop', 'emo', 'entehno', 'epicmetal', 'estrada', 'ethnic',\n",
       "       'eurofolk', 'european', 'experimental', 'extrememetal', 'fado',\n",
       "       'fairytail', 'film', 'fitness', 'flamenco', 'folk', 'folklore',\n",
       "       'folkmetal', 'folkrock', 'folktronica', 'forró', 'frankreich',\n",
       "       'französisch', 'french', 'funk', 'future', 'gangsta', 'garage',\n",
       "       'german', 'ghazal', 'gitarre', 'glitch', 'gospel', 'gothic',\n",
       "       'grime', 'grunge', 'gypsy', 'handsup', \"hard'n'heavy\", 'hardcore',\n",
       "       'hardstyle', 'hardtechno', 'hiphop', 'historisch', 'holiday',\n",
       "       'horror', 'house', 'hymn', 'idm', 'independent', 'indian', 'indie',\n",
       "       'indipop', 'industrial', 'inspirational', 'instrumental',\n",
       "       'international', 'irish', 'jam', 'japanese', 'jazz', 'jewish',\n",
       "       'jpop', 'jungle', 'k-pop', 'karadeniz', 'karaoke', 'kayokyoku',\n",
       "       'korean', 'laiko', 'latin', 'latino', 'leftfield', 'local',\n",
       "       'lounge', 'loungeelectronic', 'lovers', 'malaysian', 'mandopop',\n",
       "       'marschmusik', 'meditative', 'mediterranean', 'melodic', 'metal',\n",
       "       'metalcore', 'mexican', 'middle', 'minimal', 'miscellaneous',\n",
       "       'modern', 'mood', 'mpb', 'muslim', 'native', 'neoklassik', 'neue',\n",
       "       'new', 'newage', 'newwave', 'nu', 'nujazz', 'numetal', 'oceania',\n",
       "       'old', 'opera', 'orchestral', 'other', 'piano', 'podcasts', 'pop',\n",
       "       'popdance', 'popelectronic', 'popeurodance', 'poprussian', 'post',\n",
       "       'posthardcore', 'postrock', 'power', 'progmetal', 'progressive',\n",
       "       'psychedelic', 'punjabi', 'punk', 'quebecois', 'ragga', 'ram',\n",
       "       'rancheras', 'rap', 'rave', 'reggae', 'reggaeton', 'regional',\n",
       "       'relax', 'religious', 'retro', 'rhythm', 'rnb', 'rnr', 'rock',\n",
       "       'rockabilly', 'rockalternative', 'rockindie', 'rockother',\n",
       "       'romance', 'roots', 'ruspop', 'rusrap', 'rusrock', 'russian',\n",
       "       'salsa', 'samba', 'scenic', 'schlager', 'self', 'sertanejo',\n",
       "       'shanson', 'shoegazing', 'showtunes', 'singer', 'ska', 'skarock',\n",
       "       'slow', 'smooth', 'soft', 'soul', 'soulful', 'sound', 'soundtrack',\n",
       "       'southern', 'specialty', 'speech', 'spiritual', 'sport',\n",
       "       'stonerrock', 'surf', 'swing', 'synthpop', 'synthrock',\n",
       "       'sängerportrait', 'tango', 'tanzorchester', 'taraftar', 'tatar',\n",
       "       'tech', 'techno', 'teen', 'thrash', 'top', 'traditional',\n",
       "       'tradjazz', 'trance', 'tribal', 'trip', 'triphop', 'tropical',\n",
       "       'türk', 'türkçe', 'ukrrock', 'unknown', 'urban', 'uzbek',\n",
       "       'variété', 'vi', 'videogame', 'vocal', 'western', 'world',\n",
       "       'worldbeat', 'ïîï', 'электроника'], dtype=object)"
      ]
     },
     "execution_count": 17,
     "metadata": {},
     "output_type": "execute_result"
    }
   ],
   "source": [
    "df.sort_values(by = 'genre')['genre'].unique()"
   ]
  },
  {
   "cell_type": "markdown",
   "metadata": {
    "id": "jz6a9-7HQUDd"
   },
   "source": [
    "**Выводы**\n",
    "\n",
    "Предобработка обнаружила три проблемы в данных:\n",
    "\n",
    "- нарушения в стиле заголовков,\n",
    "- пропущенные значения,\n",
    "- дубликаты — явные и неявные.\n",
    "\n",
    "Мы исправили заголовки, чтобы упростить работу с таблицей. Без дубликатов исследование станет более точным.\n",
    "\n",
    "Пропущенные значения мы заменили на `'unknown'`. Ещё предстоит увидеть, не повредят ли исследованию пропуски в колонке `genre`.\n",
    "\n",
    "Теперь можно перейти к проверке гипотез. "
   ]
  },
  {
   "cell_type": "markdown",
   "metadata": {
    "id": "WttZHXH0SqKk"
   },
   "source": [
    "## Проверка гипотез"
   ]
  },
  {
   "cell_type": "markdown",
   "metadata": {
    "id": "Im936VVi_Zcu"
   },
   "source": [
    "### Сравнение поведения пользователей двух столиц"
   ]
  },
  {
   "cell_type": "markdown",
   "metadata": {
    "id": "nwt_MuaL_Zcu"
   },
   "source": [
    "Первая гипотеза утверждает, что пользователи по-разному слушают музыку в Москве и Санкт-Петербурге. Проверьте это предположение по данным о трёх днях недели — понедельнике, среде и пятнице. Для этого:\n",
    "\n",
    "* Разделим пользователей Москвы и Санкт-Петербурга\n",
    "* Сравним, сколько треков послушала каждая группа пользователей в понедельник, среду и пятницу.\n"
   ]
  },
  {
   "cell_type": "markdown",
   "metadata": {
    "id": "8Dw_YMmT_Zcu"
   },
   "source": [
    "Для тренировки сначала выполните каждый из расчётов по отдельности. \n",
    "\n",
    "Оцените активность пользователей в каждом городе. Сгруппируйте данные по городу и посчитаем прослушивания в каждой группе.\n",
    "\n"
   ]
  },
  {
   "cell_type": "code",
   "execution_count": 18,
   "metadata": {
    "id": "0_Qs96oh_Zcu"
   },
   "outputs": [
    {
     "data": {
      "text/plain": [
       "city\n",
       "Moscow              42741\n",
       "Saint-Petersburg    18512\n",
       "Name: track, dtype: int64"
      ]
     },
     "execution_count": 18,
     "metadata": {},
     "output_type": "execute_result"
    }
   ],
   "source": [
    "df.groupby('city')['track'].count()\n"
   ]
  },
  {
   "cell_type": "markdown",
   "metadata": {
    "id": "dzli3w8o_Zcu"
   },
   "source": [
    "В Москве прослушиваний больше, чем в Петербурге. Из этого не следует, что московские пользователи чаще слушают музыку. Просто самих пользователей в Москве больше.\n",
    "\n",
    "Теперь сгруппируем данные по дню недели и подсчитаем прослушивания в понедельник, среду и пятницу. "
   ]
  },
  {
   "cell_type": "code",
   "execution_count": 19,
   "metadata": {
    "id": "uZMKjiJz_Zcu"
   },
   "outputs": [
    {
     "data": {
      "text/plain": [
       "day\n",
       "Friday       21840\n",
       "Monday       21354\n",
       "Wednesday    18059\n",
       "Name: track, dtype: int64"
      ]
     },
     "execution_count": 19,
     "metadata": {},
     "output_type": "execute_result"
    }
   ],
   "source": [
    "df.groupby('day')['track'].count()"
   ]
  },
  {
   "cell_type": "markdown",
   "metadata": {
    "id": "cC2tNrlL_Zcu"
   },
   "source": [
    "В среднем пользователи из двух городов менее активны по средам. Но картина может измениться, если рассмотреть каждый город в отдельности."
   ]
  },
  {
   "cell_type": "markdown",
   "metadata": {
    "id": "POzs8bGa_Zcu"
   },
   "source": [
    "Теперь напишите функцию, которая объединит два эти расчёта.\n",
    "\n",
    "Создим функцию `number_tracks()`, которая посчитает прослушивания для заданного дня и города."
   ]
  },
  {
   "cell_type": "code",
   "execution_count": 20,
   "metadata": {
    "id": "Nz3GdQB1_Zcu"
   },
   "outputs": [],
   "source": [
    "def number_tracks(day, city):\n",
    "    track_list = df[df['day'] == day]\n",
    "    track_list = track_list[df['city'] == city]\n",
    "    track_list_count = track_list['user_id'].count()\n",
    "    return track_list_count\n",
    "'''Объявляется функция с двумя параметрами: day, city.\n",
    "В переменной track_list сохраняются те строки таблицы df, для которых \n",
    "значение в столбце 'day' равно параметру day и одновременно значение\n",
    "в столбце 'city' равно параметру city (используйте последовательную фильтрацию\n",
    "с помощью логической индексации).\n",
    "В переменной track_list_count сохраняется число значений столбца 'user_id',\n",
    "рассчитанное методом count() для таблицы track_list.\n",
    "Функция возвращает число - значение track_list_count.\n",
    "\n",
    "Функция для подсчёта прослушиваний для конкретного города и дня.\n",
    "С помощью последовательной фильтрации с логической индексацией она \n",
    "сначала получит из исходной таблицы строки с нужным днём,\n",
    "затем из результата отфильтрует строки с нужным городом,\n",
    "методом count() посчитает количество значений в колонке user_id. \n",
    "Это количество функция вернёт в качестве результата'''"
   ]
  },
  {
   "cell_type": "markdown",
   "metadata": {
    "id": "ytf7xFrFJQ2r"
   },
   "source": [
    "Вызовем `number_tracks()` шесть раз, меняя значение параметров — так, чтобы получить данные для каждого города в каждый из трёх дней."
   ]
  },
  {
   "cell_type": "code",
   "execution_count": 21,
   "metadata": {
    "id": "rJcRATNQ_Zcu"
   },
   "outputs": [
    {
     "name": "stderr",
     "output_type": "stream",
     "text": [
      "/opt/conda/lib/python3.7/site-packages/ipykernel_launcher.py:4: UserWarning: Boolean Series key will be reindexed to match DataFrame index.\n",
      "  after removing the cwd from sys.path.\n"
     ]
    },
    {
     "data": {
      "text/plain": [
       "15740"
      ]
     },
     "execution_count": 21,
     "metadata": {},
     "output_type": "execute_result"
    }
   ],
   "source": [
    "number_tracks('Monday', 'Moscow')\n"
   ]
  },
  {
   "cell_type": "code",
   "execution_count": 22,
   "metadata": {
    "id": "hq_ncZ5T_Zcu"
   },
   "outputs": [
    {
     "name": "stderr",
     "output_type": "stream",
     "text": [
      "/opt/conda/lib/python3.7/site-packages/ipykernel_launcher.py:4: UserWarning: Boolean Series key will be reindexed to match DataFrame index.\n",
      "  after removing the cwd from sys.path.\n"
     ]
    },
    {
     "data": {
      "text/plain": [
       "5614"
      ]
     },
     "execution_count": 22,
     "metadata": {},
     "output_type": "execute_result"
    }
   ],
   "source": [
    "number_tracks('Monday', 'Saint-Petersburg')"
   ]
  },
  {
   "cell_type": "code",
   "execution_count": 23,
   "metadata": {
    "id": "_NTy2VPU_Zcu"
   },
   "outputs": [
    {
     "name": "stderr",
     "output_type": "stream",
     "text": [
      "/opt/conda/lib/python3.7/site-packages/ipykernel_launcher.py:4: UserWarning: Boolean Series key will be reindexed to match DataFrame index.\n",
      "  after removing the cwd from sys.path.\n"
     ]
    },
    {
     "data": {
      "text/plain": [
       "11056"
      ]
     },
     "execution_count": 23,
     "metadata": {},
     "output_type": "execute_result"
    }
   ],
   "source": [
    "number_tracks('Wednesday', 'Moscow')"
   ]
  },
  {
   "cell_type": "code",
   "execution_count": 24,
   "metadata": {
    "id": "j2y3TAwo_Zcu"
   },
   "outputs": [
    {
     "name": "stderr",
     "output_type": "stream",
     "text": [
      "/opt/conda/lib/python3.7/site-packages/ipykernel_launcher.py:4: UserWarning: Boolean Series key will be reindexed to match DataFrame index.\n",
      "  after removing the cwd from sys.path.\n"
     ]
    },
    {
     "data": {
      "text/plain": [
       "7003"
      ]
     },
     "execution_count": 24,
     "metadata": {},
     "output_type": "execute_result"
    }
   ],
   "source": [
    "number_tracks('Wednesday', 'Saint-Petersburg')"
   ]
  },
  {
   "cell_type": "code",
   "execution_count": 25,
   "metadata": {
    "id": "vYDw5u_K_Zcu"
   },
   "outputs": [
    {
     "name": "stderr",
     "output_type": "stream",
     "text": [
      "/opt/conda/lib/python3.7/site-packages/ipykernel_launcher.py:4: UserWarning: Boolean Series key will be reindexed to match DataFrame index.\n",
      "  after removing the cwd from sys.path.\n"
     ]
    },
    {
     "data": {
      "text/plain": [
       "15945"
      ]
     },
     "execution_count": 25,
     "metadata": {},
     "output_type": "execute_result"
    }
   ],
   "source": [
    "number_tracks('Friday', 'Moscow')"
   ]
  },
  {
   "cell_type": "code",
   "execution_count": 26,
   "metadata": {
    "id": "8_yzFtW3_Zcu"
   },
   "outputs": [
    {
     "name": "stderr",
     "output_type": "stream",
     "text": [
      "/opt/conda/lib/python3.7/site-packages/ipykernel_launcher.py:4: UserWarning: Boolean Series key will be reindexed to match DataFrame index.\n",
      "  after removing the cwd from sys.path.\n"
     ]
    },
    {
     "data": {
      "text/plain": [
       "5895"
      ]
     },
     "execution_count": 26,
     "metadata": {},
     "output_type": "execute_result"
    }
   ],
   "source": [
    "number_tracks('Friday', 'Saint-Petersburg')"
   ]
  },
  {
   "cell_type": "markdown",
   "metadata": {},
   "source": [
    "В нижепреведенной таблице преставлены результаты подсчетов количества прослушанных треков отдельно по СПб и Москве по дня недели."
   ]
  },
  {
   "cell_type": "code",
   "execution_count": 27,
   "metadata": {
    "id": "APAcLpOr_Zcu"
   },
   "outputs": [
    {
     "data": {
      "text/html": [
       "<div>\n",
       "<style scoped>\n",
       "    .dataframe tbody tr th:only-of-type {\n",
       "        vertical-align: middle;\n",
       "    }\n",
       "\n",
       "    .dataframe tbody tr th {\n",
       "        vertical-align: top;\n",
       "    }\n",
       "\n",
       "    .dataframe thead th {\n",
       "        text-align: right;\n",
       "    }\n",
       "</style>\n",
       "<table border=\"1\" class=\"dataframe\">\n",
       "  <thead>\n",
       "    <tr style=\"text-align: right;\">\n",
       "      <th></th>\n",
       "      <th>city</th>\n",
       "      <th>monday</th>\n",
       "      <th>wednesday</th>\n",
       "      <th>friday</th>\n",
       "    </tr>\n",
       "  </thead>\n",
       "  <tbody>\n",
       "    <tr>\n",
       "      <td>0</td>\n",
       "      <td>Moscow</td>\n",
       "      <td>15740</td>\n",
       "      <td>11056</td>\n",
       "      <td>15945</td>\n",
       "    </tr>\n",
       "    <tr>\n",
       "      <td>1</td>\n",
       "      <td>Saint-Petersburg</td>\n",
       "      <td>5614</td>\n",
       "      <td>7003</td>\n",
       "      <td>5895</td>\n",
       "    </tr>\n",
       "  </tbody>\n",
       "</table>\n",
       "</div>"
      ],
      "text/plain": [
       "               city  monday  wednesday  friday\n",
       "0            Moscow   15740      11056   15945\n",
       "1  Saint-Petersburg    5614       7003    5895"
      ]
     },
     "execution_count": 27,
     "metadata": {},
     "output_type": "execute_result"
    }
   ],
   "source": [
    "numbers = [\n",
    "    ['Moscow', 15740, 11056, 15945],\n",
    "    ['Saint-Petersburg', 5614, 7003, 5895]\n",
    "]\n",
    "number_week = ['city', 'monday', 'wednesday', 'friday']\n",
    "pd.DataFrame(data = numbers, columns = number_week)"
   ]
  },
  {
   "cell_type": "markdown",
   "metadata": {
    "id": "-EgPIHYu_Zcu"
   },
   "source": [
    "**Выводы**\n",
    "\n",
    "Данные показывают разницу поведения пользователей:\n",
    "\n",
    "- В Москве пик прослушиваний приходится на понедельник и пятницу, а в среду заметен спад.\n",
    "- В Петербурге, наоборот, больше слушают музыку по средам. Активность в понедельник и пятницу здесь почти в равной мере уступает среде.\n",
    "\n",
    "Значит, данные говорят в пользу первой гипотезы."
   ]
  },
  {
   "cell_type": "markdown",
   "metadata": {
    "id": "atZAxtq4_Zcu"
   },
   "source": [
    "### Музыка в начале и в конце недели"
   ]
  },
  {
   "cell_type": "markdown",
   "metadata": {
    "id": "eXrQqXFH_Zcu"
   },
   "source": [
    "Согласно второй гипотезе, утром в понедельник в Москве преобладают одни жанры, а в Петербурге — другие. Так же и вечером пятницы преобладают разные жанры — в зависимости от города."
   ]
  },
  {
   "cell_type": "markdown",
   "metadata": {
    "id": "S8UcW6Hw_Zcu"
   },
   "source": [
    "Сохраним таблицы с данными в две переменные:\n",
    "* по Москве — в `moscow_general`;\n",
    "* по Санкт-Петербургу — в `spb_general`."
   ]
  },
  {
   "cell_type": "code",
   "execution_count": 28,
   "metadata": {
    "id": "qeaFfM_P_Zcu"
   },
   "outputs": [
    {
     "data": {
      "text/html": [
       "<div>\n",
       "<style scoped>\n",
       "    .dataframe tbody tr th:only-of-type {\n",
       "        vertical-align: middle;\n",
       "    }\n",
       "\n",
       "    .dataframe tbody tr th {\n",
       "        vertical-align: top;\n",
       "    }\n",
       "\n",
       "    .dataframe thead th {\n",
       "        text-align: right;\n",
       "    }\n",
       "</style>\n",
       "<table border=\"1\" class=\"dataframe\">\n",
       "  <thead>\n",
       "    <tr style=\"text-align: right;\">\n",
       "      <th></th>\n",
       "      <th>user_id</th>\n",
       "      <th>track</th>\n",
       "      <th>artist</th>\n",
       "      <th>genre</th>\n",
       "      <th>city</th>\n",
       "      <th>time</th>\n",
       "      <th>day</th>\n",
       "    </tr>\n",
       "  </thead>\n",
       "  <tbody>\n",
       "    <tr>\n",
       "      <td>1</td>\n",
       "      <td>55204538</td>\n",
       "      <td>Delayed Because of Accident</td>\n",
       "      <td>Andreas Rönnberg</td>\n",
       "      <td>rock</td>\n",
       "      <td>Moscow</td>\n",
       "      <td>14:07:09</td>\n",
       "      <td>Friday</td>\n",
       "    </tr>\n",
       "    <tr>\n",
       "      <td>4</td>\n",
       "      <td>E2DC1FAE</td>\n",
       "      <td>Soul People</td>\n",
       "      <td>Space Echo</td>\n",
       "      <td>dance</td>\n",
       "      <td>Moscow</td>\n",
       "      <td>08:34:34</td>\n",
       "      <td>Monday</td>\n",
       "    </tr>\n",
       "    <tr>\n",
       "      <td>6</td>\n",
       "      <td>4CB90AA5</td>\n",
       "      <td>True</td>\n",
       "      <td>Roman Messer</td>\n",
       "      <td>dance</td>\n",
       "      <td>Moscow</td>\n",
       "      <td>13:00:07</td>\n",
       "      <td>Wednesday</td>\n",
       "    </tr>\n",
       "    <tr>\n",
       "      <td>7</td>\n",
       "      <td>F03E1C1F</td>\n",
       "      <td>Feeling This Way</td>\n",
       "      <td>Polina Griffith</td>\n",
       "      <td>dance</td>\n",
       "      <td>Moscow</td>\n",
       "      <td>20:47:49</td>\n",
       "      <td>Wednesday</td>\n",
       "    </tr>\n",
       "    <tr>\n",
       "      <td>8</td>\n",
       "      <td>8FA1D3BE</td>\n",
       "      <td>И вновь продолжается бой</td>\n",
       "      <td>unknown</td>\n",
       "      <td>ruspop</td>\n",
       "      <td>Moscow</td>\n",
       "      <td>09:17:40</td>\n",
       "      <td>Friday</td>\n",
       "    </tr>\n",
       "    <tr>\n",
       "      <td>...</td>\n",
       "      <td>...</td>\n",
       "      <td>...</td>\n",
       "      <td>...</td>\n",
       "      <td>...</td>\n",
       "      <td>...</td>\n",
       "      <td>...</td>\n",
       "      <td>...</td>\n",
       "    </tr>\n",
       "    <tr>\n",
       "      <td>61247</td>\n",
       "      <td>83A474E7</td>\n",
       "      <td>I Worship Only What You Bleed</td>\n",
       "      <td>The Black Dahlia Murder</td>\n",
       "      <td>extrememetal</td>\n",
       "      <td>Moscow</td>\n",
       "      <td>21:07:12</td>\n",
       "      <td>Monday</td>\n",
       "    </tr>\n",
       "    <tr>\n",
       "      <td>61248</td>\n",
       "      <td>729CBB09</td>\n",
       "      <td>My Name</td>\n",
       "      <td>McLean</td>\n",
       "      <td>rnb</td>\n",
       "      <td>Moscow</td>\n",
       "      <td>13:32:28</td>\n",
       "      <td>Wednesday</td>\n",
       "    </tr>\n",
       "    <tr>\n",
       "      <td>61250</td>\n",
       "      <td>C5E3A0D5</td>\n",
       "      <td>Jalopiina</td>\n",
       "      <td>unknown</td>\n",
       "      <td>industrial</td>\n",
       "      <td>Moscow</td>\n",
       "      <td>20:09:26</td>\n",
       "      <td>Friday</td>\n",
       "    </tr>\n",
       "    <tr>\n",
       "      <td>61251</td>\n",
       "      <td>321D0506</td>\n",
       "      <td>Freight Train</td>\n",
       "      <td>Chas McDevitt</td>\n",
       "      <td>rock</td>\n",
       "      <td>Moscow</td>\n",
       "      <td>21:43:59</td>\n",
       "      <td>Friday</td>\n",
       "    </tr>\n",
       "    <tr>\n",
       "      <td>61252</td>\n",
       "      <td>3A64EF84</td>\n",
       "      <td>Tell Me Sweet Little Lies</td>\n",
       "      <td>Monica Lopez</td>\n",
       "      <td>country</td>\n",
       "      <td>Moscow</td>\n",
       "      <td>21:59:46</td>\n",
       "      <td>Friday</td>\n",
       "    </tr>\n",
       "  </tbody>\n",
       "</table>\n",
       "<p>42741 rows × 7 columns</p>\n",
       "</div>"
      ],
      "text/plain": [
       "        user_id                          track                   artist  \\\n",
       "1      55204538    Delayed Because of Accident         Andreas Rönnberg   \n",
       "4      E2DC1FAE                    Soul People               Space Echo   \n",
       "6      4CB90AA5                           True             Roman Messer   \n",
       "7      F03E1C1F               Feeling This Way          Polina Griffith   \n",
       "8      8FA1D3BE       И вновь продолжается бой                  unknown   \n",
       "...         ...                            ...                      ...   \n",
       "61247  83A474E7  I Worship Only What You Bleed  The Black Dahlia Murder   \n",
       "61248  729CBB09                        My Name                   McLean   \n",
       "61250  C5E3A0D5                      Jalopiina                  unknown   \n",
       "61251  321D0506                  Freight Train            Chas McDevitt   \n",
       "61252  3A64EF84      Tell Me Sweet Little Lies             Monica Lopez   \n",
       "\n",
       "              genre    city      time        day  \n",
       "1              rock  Moscow  14:07:09     Friday  \n",
       "4             dance  Moscow  08:34:34     Monday  \n",
       "6             dance  Moscow  13:00:07  Wednesday  \n",
       "7             dance  Moscow  20:47:49  Wednesday  \n",
       "8            ruspop  Moscow  09:17:40     Friday  \n",
       "...             ...     ...       ...        ...  \n",
       "61247  extrememetal  Moscow  21:07:12     Monday  \n",
       "61248           rnb  Moscow  13:32:28  Wednesday  \n",
       "61250    industrial  Moscow  20:09:26     Friday  \n",
       "61251          rock  Moscow  21:43:59     Friday  \n",
       "61252       country  Moscow  21:59:46     Friday  \n",
       "\n",
       "[42741 rows x 7 columns]"
      ]
     },
     "metadata": {},
     "output_type": "display_data"
    }
   ],
   "source": [
    "moscow_general = df[df['city'] == 'Moscow']\n",
    "display(moscow_general)"
   ]
  },
  {
   "cell_type": "code",
   "execution_count": 29,
   "metadata": {
    "id": "ORaVRKto_Zcu"
   },
   "outputs": [
    {
     "data": {
      "text/html": [
       "<div>\n",
       "<style scoped>\n",
       "    .dataframe tbody tr th:only-of-type {\n",
       "        vertical-align: middle;\n",
       "    }\n",
       "\n",
       "    .dataframe tbody tr th {\n",
       "        vertical-align: top;\n",
       "    }\n",
       "\n",
       "    .dataframe thead th {\n",
       "        text-align: right;\n",
       "    }\n",
       "</style>\n",
       "<table border=\"1\" class=\"dataframe\">\n",
       "  <thead>\n",
       "    <tr style=\"text-align: right;\">\n",
       "      <th></th>\n",
       "      <th>user_id</th>\n",
       "      <th>track</th>\n",
       "      <th>artist</th>\n",
       "      <th>genre</th>\n",
       "      <th>city</th>\n",
       "      <th>time</th>\n",
       "      <th>day</th>\n",
       "    </tr>\n",
       "  </thead>\n",
       "  <tbody>\n",
       "    <tr>\n",
       "      <td>0</td>\n",
       "      <td>FFB692EC</td>\n",
       "      <td>Kamigata To Boots</td>\n",
       "      <td>The Mass Missile</td>\n",
       "      <td>rock</td>\n",
       "      <td>Saint-Petersburg</td>\n",
       "      <td>20:28:33</td>\n",
       "      <td>Wednesday</td>\n",
       "    </tr>\n",
       "    <tr>\n",
       "      <td>2</td>\n",
       "      <td>20EC38</td>\n",
       "      <td>Funiculì funiculà</td>\n",
       "      <td>Mario Lanza</td>\n",
       "      <td>pop</td>\n",
       "      <td>Saint-Petersburg</td>\n",
       "      <td>20:58:07</td>\n",
       "      <td>Wednesday</td>\n",
       "    </tr>\n",
       "    <tr>\n",
       "      <td>3</td>\n",
       "      <td>A3DD03C9</td>\n",
       "      <td>Dragons in the Sunset</td>\n",
       "      <td>Fire + Ice</td>\n",
       "      <td>folk</td>\n",
       "      <td>Saint-Petersburg</td>\n",
       "      <td>08:37:09</td>\n",
       "      <td>Monday</td>\n",
       "    </tr>\n",
       "    <tr>\n",
       "      <td>5</td>\n",
       "      <td>842029A1</td>\n",
       "      <td>Преданная</td>\n",
       "      <td>IMPERVTOR</td>\n",
       "      <td>rusrap</td>\n",
       "      <td>Saint-Petersburg</td>\n",
       "      <td>13:09:41</td>\n",
       "      <td>Friday</td>\n",
       "    </tr>\n",
       "    <tr>\n",
       "      <td>9</td>\n",
       "      <td>E772D5C0</td>\n",
       "      <td>Pessimist</td>\n",
       "      <td>unknown</td>\n",
       "      <td>dance</td>\n",
       "      <td>Saint-Petersburg</td>\n",
       "      <td>21:20:49</td>\n",
       "      <td>Wednesday</td>\n",
       "    </tr>\n",
       "    <tr>\n",
       "      <td>...</td>\n",
       "      <td>...</td>\n",
       "      <td>...</td>\n",
       "      <td>...</td>\n",
       "      <td>...</td>\n",
       "      <td>...</td>\n",
       "      <td>...</td>\n",
       "      <td>...</td>\n",
       "    </tr>\n",
       "    <tr>\n",
       "      <td>61239</td>\n",
       "      <td>D94F810B</td>\n",
       "      <td>Theme from the Walking Dead</td>\n",
       "      <td>Proyecto Halloween</td>\n",
       "      <td>film</td>\n",
       "      <td>Saint-Petersburg</td>\n",
       "      <td>21:14:40</td>\n",
       "      <td>Monday</td>\n",
       "    </tr>\n",
       "    <tr>\n",
       "      <td>61240</td>\n",
       "      <td>BC8EC5CF</td>\n",
       "      <td>Red Lips: Gta (Rover Rework)</td>\n",
       "      <td>Rover</td>\n",
       "      <td>electronic</td>\n",
       "      <td>Saint-Petersburg</td>\n",
       "      <td>21:06:50</td>\n",
       "      <td>Monday</td>\n",
       "    </tr>\n",
       "    <tr>\n",
       "      <td>61241</td>\n",
       "      <td>29E04611</td>\n",
       "      <td>Bre Petrunko</td>\n",
       "      <td>Perunika Trio</td>\n",
       "      <td>world</td>\n",
       "      <td>Saint-Petersburg</td>\n",
       "      <td>13:56:00</td>\n",
       "      <td>Monday</td>\n",
       "    </tr>\n",
       "    <tr>\n",
       "      <td>61242</td>\n",
       "      <td>1B91C621</td>\n",
       "      <td>(Hello) Cloud Mountain</td>\n",
       "      <td>sleepmakeswaves</td>\n",
       "      <td>postrock</td>\n",
       "      <td>Saint-Petersburg</td>\n",
       "      <td>09:22:13</td>\n",
       "      <td>Monday</td>\n",
       "    </tr>\n",
       "    <tr>\n",
       "      <td>61249</td>\n",
       "      <td>D08D4A55</td>\n",
       "      <td>Maybe One Day (feat. Black Spade)</td>\n",
       "      <td>Blu &amp; Exile</td>\n",
       "      <td>hiphop</td>\n",
       "      <td>Saint-Petersburg</td>\n",
       "      <td>10:00:00</td>\n",
       "      <td>Monday</td>\n",
       "    </tr>\n",
       "  </tbody>\n",
       "</table>\n",
       "<p>18512 rows × 7 columns</p>\n",
       "</div>"
      ],
      "text/plain": [
       "        user_id                              track              artist  \\\n",
       "0      FFB692EC                  Kamigata To Boots    The Mass Missile   \n",
       "2        20EC38                  Funiculì funiculà         Mario Lanza   \n",
       "3      A3DD03C9              Dragons in the Sunset          Fire + Ice   \n",
       "5      842029A1                          Преданная           IMPERVTOR   \n",
       "9      E772D5C0                          Pessimist             unknown   \n",
       "...         ...                                ...                 ...   \n",
       "61239  D94F810B        Theme from the Walking Dead  Proyecto Halloween   \n",
       "61240  BC8EC5CF       Red Lips: Gta (Rover Rework)               Rover   \n",
       "61241  29E04611                       Bre Petrunko       Perunika Trio   \n",
       "61242  1B91C621             (Hello) Cloud Mountain     sleepmakeswaves   \n",
       "61249  D08D4A55  Maybe One Day (feat. Black Spade)         Blu & Exile   \n",
       "\n",
       "            genre              city      time        day  \n",
       "0            rock  Saint-Petersburg  20:28:33  Wednesday  \n",
       "2             pop  Saint-Petersburg  20:58:07  Wednesday  \n",
       "3            folk  Saint-Petersburg  08:37:09     Monday  \n",
       "5          rusrap  Saint-Petersburg  13:09:41     Friday  \n",
       "9           dance  Saint-Petersburg  21:20:49  Wednesday  \n",
       "...           ...               ...       ...        ...  \n",
       "61239        film  Saint-Petersburg  21:14:40     Monday  \n",
       "61240  electronic  Saint-Petersburg  21:06:50     Monday  \n",
       "61241       world  Saint-Petersburg  13:56:00     Monday  \n",
       "61242    postrock  Saint-Petersburg  09:22:13     Monday  \n",
       "61249      hiphop  Saint-Petersburg  10:00:00     Monday  \n",
       "\n",
       "[18512 rows x 7 columns]"
      ]
     },
     "metadata": {},
     "output_type": "display_data"
    }
   ],
   "source": [
    "spb_general = df[df['city'] == 'Saint-Petersburg']\n",
    "display(spb_general)"
   ]
  },
  {
   "cell_type": "markdown",
   "metadata": {
    "id": "MEJV-CX2_Zcu"
   },
   "source": [
    "Создадим функцию `genre_weekday()` с четырьмя параметрами:\n",
    "* таблица (датафрейм) с данными,\n",
    "* день недели,\n",
    "* начальная временная метка в формате 'hh:mm', \n",
    "* последняя временная метка в формате 'hh:mm'.\n",
    "\n",
    "Функция должна вернуть информацию о топ-10 жанров тех треков, которые прослушивали в указанный день, в промежутке между двумя отметками времени."
   ]
  },
  {
   "cell_type": "code",
   "execution_count": 30,
   "metadata": {
    "id": "laJT9BYl_Zcu"
   },
   "outputs": [],
   "source": [
    "def genre_weekday(table, day, time1, time2):\n",
    "    genre_df = table[(table['day'] == day)&(table['time']>time1)&(table['time']<time2)]\n",
    "    genre_df_count = genre_df.groupby('genre')['user_id'].count()\n",
    "    genre_df_sorted = genre_df_count.sort_values(ascending=False)\n",
    "    return genre_df_sorted.head(10)"
   ]
  },
  {
   "cell_type": "markdown",
   "metadata": {
    "id": "la2s2_PF_Zcu"
   },
   "source": [
    "Cравним результаты функции `genre_weekday()` для Москвы и Санкт-Петербурга в понедельник утром (с 7:00 до 11:00) и в пятницу вечером (с 17:00 до 23:00):"
   ]
  },
  {
   "cell_type": "code",
   "execution_count": 31,
   "metadata": {
    "id": "yz7itPUQ_Zcu"
   },
   "outputs": [
    {
     "data": {
      "text/plain": [
       "genre\n",
       "pop            781\n",
       "dance          549\n",
       "electronic     480\n",
       "rock           474\n",
       "hiphop         286\n",
       "ruspop         186\n",
       "world          181\n",
       "rusrap         175\n",
       "alternative    164\n",
       "unknown        161\n",
       "Name: user_id, dtype: int64"
      ]
     },
     "execution_count": 31,
     "metadata": {},
     "output_type": "execute_result"
    }
   ],
   "source": [
    "genre_weekday(moscow_general, 'Monday', '07:00', '11:00')"
   ]
  },
  {
   "cell_type": "code",
   "execution_count": 32,
   "metadata": {
    "id": "kwUcHPdy_Zcu"
   },
   "outputs": [
    {
     "data": {
      "text/plain": [
       "genre\n",
       "pop            218\n",
       "dance          182\n",
       "rock           162\n",
       "electronic     147\n",
       "hiphop          80\n",
       "ruspop          64\n",
       "alternative     58\n",
       "rusrap          55\n",
       "jazz            44\n",
       "classical       40\n",
       "Name: user_id, dtype: int64"
      ]
     },
     "execution_count": 32,
     "metadata": {},
     "output_type": "execute_result"
    }
   ],
   "source": [
    "genre_weekday(spb_general, 'Monday', '07:00', '11:00')"
   ]
  },
  {
   "cell_type": "code",
   "execution_count": 33,
   "metadata": {
    "id": "EzXVRE1o_Zcu"
   },
   "outputs": [
    {
     "data": {
      "text/plain": [
       "genre\n",
       "pop            713\n",
       "rock           517\n",
       "dance          495\n",
       "electronic     482\n",
       "hiphop         273\n",
       "world          208\n",
       "ruspop         170\n",
       "alternative    163\n",
       "classical      163\n",
       "rusrap         142\n",
       "Name: user_id, dtype: int64"
      ]
     },
     "execution_count": 33,
     "metadata": {},
     "output_type": "execute_result"
    }
   ],
   "source": [
    "genre_weekday(moscow_general, 'Friday', '17:00', '23:00')"
   ]
  },
  {
   "cell_type": "code",
   "execution_count": 34,
   "metadata": {
    "id": "JZaEKu5v_Zcu"
   },
   "outputs": [
    {
     "data": {
      "text/plain": [
       "genre\n",
       "pop            256\n",
       "rock           216\n",
       "electronic     216\n",
       "dance          210\n",
       "hiphop          97\n",
       "alternative     63\n",
       "jazz            61\n",
       "classical       60\n",
       "rusrap          59\n",
       "world           54\n",
       "Name: user_id, dtype: int64"
      ]
     },
     "execution_count": 34,
     "metadata": {},
     "output_type": "execute_result"
    }
   ],
   "source": [
    "genre_weekday(spb_general, 'Friday', '17:00', '23:00')"
   ]
  },
  {
   "cell_type": "markdown",
   "metadata": {
    "id": "wrCe4MNX_Zcu"
   },
   "source": [
    "**Выводы**\n",
    "\n",
    "Если сравнить топ-10 жанров в понедельник утром, можно сделать такие выводы:\n",
    "\n",
    "1. В Москве и Петербурге слушают похожую музыку. Единственное отличие — в московский рейтинг вошёл жанр “world”, а в петербургский — джаз и классика.\n",
    "\n",
    "2. В Москве пропущенных значений оказалось так много, что значение `'unknown'` заняло десятое место среди самых популярных жанров. Значит, пропущенные значения занимают существенную долю в данных и угрожают достоверности исследования.\n",
    "\n",
    "Вечер пятницы не меняет эту картину. Некоторые жанры поднимаются немного выше, другие спускаются, но в целом топ-10 остаётся тем же самым.\n",
    "\n",
    "Таким образом, вторая гипотеза подтвердилась лишь частично:\n",
    "* Пользователи слушают похожую музыку в начале недели и в конце.\n",
    "* Разница между Москвой и Петербургом не слишком выражена. В Москве чаще слушают русскую популярную музыку, в Петербурге — джаз.\n",
    "\n",
    "Однако пропуски в данных ставят под сомнение этот результат. В Москве их так много, что рейтинг топ-10 мог бы выглядеть иначе, если бы не утерянные  данные о жанрах."
   ]
  },
  {
   "cell_type": "markdown",
   "metadata": {
    "id": "JolODAqr_Zcu"
   },
   "source": [
    "### Жанровые предпочтения в Москве и Петербурге\n",
    "\n",
    "Гипотеза: Петербург — столица рэпа, музыку этого жанра там слушают чаще, чем в Москве.  А Москва — город контрастов, в котором, тем не менее, преобладает поп-музыка."
   ]
  },
  {
   "cell_type": "markdown",
   "metadata": {
    "id": "DlegSvaT_Zcu"
   },
   "source": [
    "Сгруппируем таблицу `moscow_general` по жанру и посчитаем прослушивания треков каждого жанра. Затем отсортируем результат в порядке убывания и сохраните его в таблице `moscow_genres`."
   ]
  },
  {
   "cell_type": "code",
   "execution_count": 35,
   "metadata": {
    "id": "r19lIPke_Zcu"
   },
   "outputs": [],
   "source": [
    "moscow_general = moscow_general.groupby('genre')['genre'].count().sort_values(ascending=False)"
   ]
  },
  {
   "cell_type": "markdown",
   "metadata": {
    "id": "6kMuomxTiIr8"
   },
   "source": [
    "Выведим на экран первые десять строк `moscow_genres`:"
   ]
  },
  {
   "cell_type": "code",
   "execution_count": 36,
   "metadata": {
    "id": "WhCSooF8_Zcv"
   },
   "outputs": [
    {
     "data": {
      "text/plain": [
       "genre\n",
       "pop            5892\n",
       "dance          4435\n",
       "rock           3965\n",
       "electronic     3786\n",
       "hiphop         2096\n",
       "classical      1616\n",
       "world          1432\n",
       "alternative    1379\n",
       "ruspop         1372\n",
       "rusrap         1161\n",
       "Name: genre, dtype: int64"
      ]
     },
     "metadata": {},
     "output_type": "display_data"
    }
   ],
   "source": [
    "display(moscow_general.head(10))"
   ]
  },
  {
   "cell_type": "markdown",
   "metadata": {
    "id": "cnPG2vnN_Zcv"
   },
   "source": [
    "Теперь повтории то же и для Петербурга.\n",
    "\n",
    "Сгруппируем таблицу `spb_general` по жанру. Посчитаем прослушивания треков каждого жанра. Результат отсортируем в порядке убывания и сохраним в таблице `spb_genres`:\n"
   ]
  },
  {
   "cell_type": "code",
   "execution_count": 37,
   "metadata": {
    "id": "gluLIpE7_Zcv"
   },
   "outputs": [],
   "source": [
    "spb_general = spb_general.groupby('genre')['genre'].count().sort_values(ascending=False)"
   ]
  },
  {
   "cell_type": "markdown",
   "metadata": {
    "id": "5Doha_ODgyQ8"
   },
   "source": [
    "Выведим на экран первые десять строк `spb_genres`:"
   ]
  },
  {
   "cell_type": "code",
   "execution_count": 38,
   "metadata": {
    "id": "uaGJHjVU_Zcv"
   },
   "outputs": [
    {
     "data": {
      "text/plain": [
       "genre\n",
       "pop            2431\n",
       "dance          1932\n",
       "rock           1879\n",
       "electronic     1736\n",
       "hiphop          960\n",
       "alternative     649\n",
       "classical       646\n",
       "rusrap          564\n",
       "ruspop          538\n",
       "world           515\n",
       "Name: genre, dtype: int64"
      ]
     },
     "metadata": {},
     "output_type": "display_data"
    }
   ],
   "source": [
    "display(spb_general.head(10))"
   ]
  },
  {
   "cell_type": "markdown",
   "metadata": {
    "id": "RY51YJYu_Zcv"
   },
   "source": [
    "**Выводы**"
   ]
  },
  {
   "cell_type": "markdown",
   "metadata": {
    "id": "nVhnJEm__Zcv"
   },
   "source": [
    "Гипотеза частично подтвердилась:\n",
    "* Поп-музыка — самый популярный жанр в Москве, как и предполагала гипотеза. Более того, в топ-10 жанров встречается близкий жанр — русская популярная музыка.\n",
    "* Вопреки ожиданиям, рэп одинаково популярен в Москве и Петербурге. \n"
   ]
  },
  {
   "cell_type": "markdown",
   "metadata": {
    "id": "ykKQ0N65_Zcv"
   },
   "source": [
    "## Итоги исследования"
   ]
  },
  {
   "cell_type": "markdown",
   "metadata": {
    "id": "tjUwbHb3_Zcv"
   },
   "source": [
    "Вы проверили три гипотезы и установили:\n",
    "\n",
    "1. День недели по-разному влияет на активность пользователей в Москве и Петербурге. \n",
    "\n",
    "Первая гипотеза полностью подтвердилась.\n",
    "\n",
    "2. Музыкальные предпочтения не сильно меняются в течение недели — будь то Москва или Петербург. Небольшие различия заметны в начале недели, по понедельникам:\n",
    "* в Москве слушают музыку жанра “world”,\n",
    "* в Петербурге — джаз и классику.\n",
    "\n",
    "Таким образом, вторая гипотеза подтвердилась лишь отчасти. Этот результат мог оказаться иным, если бы не пропуски в данных.\n",
    "\n",
    "3. Во вкусах пользователей Москвы и Петербурга больше общего чем различий. Вопреки ожиданиям, предпочтения жанров в Петербурге напоминают московские.\n",
    "\n",
    "Третья гипотеза не подтвердилась. Если различия в предпочтениях и существуют, на основной массе пользователей они незаметны.\n",
    "\n",
    "**На практике исследования содержат проверки статистических гипотез.**\n",
    "Из данных одного сервиса не всегда можно сделать вывод о всех жителях города.\n",
    "Проверки статистических гипотез покажут, насколько они достоверны, исходя из имеющихся данных. \n",
    "С методами проверок гипотез вы ещё познакомитесь в следующих темах."
   ]
  }
 ],
 "metadata": {
  "ExecuteTimeLog": [
   {
    "duration": 378,
    "start_time": "2021-12-30T11:37:03.596Z"
   },
   {
    "duration": 268,
    "start_time": "2021-12-30T11:37:12.906Z"
   },
   {
    "duration": 258,
    "start_time": "2021-12-30T11:41:28.864Z"
   },
   {
    "duration": 251,
    "start_time": "2021-12-30T11:42:08.078Z"
   },
   {
    "duration": 318,
    "start_time": "2021-12-30T11:42:39.836Z"
   },
   {
    "duration": 312,
    "start_time": "2021-12-30T11:43:16.970Z"
   },
   {
    "duration": 728,
    "start_time": "2021-12-30T11:57:35.235Z"
   },
   {
    "duration": 247,
    "start_time": "2021-12-30T11:59:17.087Z"
   },
   {
    "duration": 303,
    "start_time": "2021-12-30T12:08:02.707Z"
   },
   {
    "duration": 332,
    "start_time": "2021-12-30T12:08:55.856Z"
   },
   {
    "duration": 783,
    "start_time": "2021-12-30T12:09:22.847Z"
   },
   {
    "duration": 839,
    "start_time": "2021-12-30T12:09:31.566Z"
   },
   {
    "duration": 22,
    "start_time": "2021-12-30T12:09:39.133Z"
   },
   {
    "duration": 148,
    "start_time": "2021-12-30T12:09:51.368Z"
   },
   {
    "duration": 8,
    "start_time": "2021-12-30T12:10:35.818Z"
   },
   {
    "duration": 5,
    "start_time": "2021-12-30T12:19:07.860Z"
   },
   {
    "duration": 19,
    "start_time": "2021-12-30T12:22:14.861Z"
   },
   {
    "duration": 4,
    "start_time": "2021-12-30T12:22:31.610Z"
   },
   {
    "duration": 23,
    "start_time": "2021-12-30T12:23:55.415Z"
   },
   {
    "duration": 277,
    "start_time": "2021-12-30T12:39:23.275Z"
   },
   {
    "duration": 300,
    "start_time": "2021-12-30T12:41:25.749Z"
   },
   {
    "duration": 267,
    "start_time": "2021-12-30T12:42:01.269Z"
   },
   {
    "duration": 4,
    "start_time": "2021-12-30T12:48:35.970Z"
   },
   {
    "duration": 4,
    "start_time": "2021-12-30T12:49:55.582Z"
   },
   {
    "duration": 25,
    "start_time": "2021-12-30T12:50:10.126Z"
   },
   {
    "duration": 257,
    "start_time": "2021-12-30T12:51:15.210Z"
   },
   {
    "duration": 251,
    "start_time": "2021-12-30T12:51:35.897Z"
   },
   {
    "duration": 5,
    "start_time": "2021-12-30T13:24:29.647Z"
   },
   {
    "duration": 6,
    "start_time": "2021-12-30T13:26:25.497Z"
   },
   {
    "duration": 276,
    "start_time": "2021-12-30T13:28:38.661Z"
   },
   {
    "duration": 268,
    "start_time": "2021-12-30T13:29:02.451Z"
   },
   {
    "duration": 271,
    "start_time": "2021-12-30T13:31:17.461Z"
   },
   {
    "duration": 9,
    "start_time": "2021-12-30T13:54:57.078Z"
   },
   {
    "duration": 29,
    "start_time": "2021-12-30T13:55:34.188Z"
   },
   {
    "duration": 287,
    "start_time": "2021-12-30T13:58:59.380Z"
   },
   {
    "duration": 264,
    "start_time": "2021-12-30T14:14:52.694Z"
   },
   {
    "duration": 326,
    "start_time": "2021-12-30T14:15:39.717Z"
   },
   {
    "duration": 251,
    "start_time": "2021-12-30T14:15:46.455Z"
   },
   {
    "duration": 416,
    "start_time": "2021-12-30T14:20:28.696Z"
   },
   {
    "duration": 251,
    "start_time": "2021-12-30T14:21:15.654Z"
   },
   {
    "duration": 643,
    "start_time": "2021-12-30T14:21:27.270Z"
   },
   {
    "duration": 3,
    "start_time": "2021-12-30T14:50:34.510Z"
   },
   {
    "duration": 434,
    "start_time": "2021-12-30T14:51:28.690Z"
   },
   {
    "duration": 168,
    "start_time": "2021-12-30T14:51:52.705Z"
   },
   {
    "duration": 149,
    "start_time": "2021-12-30T14:52:25.247Z"
   },
   {
    "duration": 17,
    "start_time": "2021-12-30T14:53:07.596Z"
   },
   {
    "duration": 377,
    "start_time": "2021-12-30T14:55:40.694Z"
   },
   {
    "duration": 259,
    "start_time": "2021-12-30T14:55:56.252Z"
   },
   {
    "duration": 351,
    "start_time": "2021-12-30T15:04:07.551Z"
   },
   {
    "duration": 253,
    "start_time": "2021-12-30T15:23:05.279Z"
   },
   {
    "duration": 302,
    "start_time": "2021-12-30T15:23:25.434Z"
   },
   {
    "duration": 277,
    "start_time": "2021-12-30T15:23:41.577Z"
   },
   {
    "duration": 248,
    "start_time": "2021-12-30T16:25:53.471Z"
   },
   {
    "duration": 8698,
    "start_time": "2021-12-30T16:26:06.894Z"
   },
   {
    "duration": 261,
    "start_time": "2021-12-30T16:28:10.120Z"
   },
   {
    "duration": 324,
    "start_time": "2021-12-30T16:31:53.378Z"
   },
   {
    "duration": 31,
    "start_time": "2021-12-30T16:48:16.847Z"
   },
   {
    "duration": 41,
    "start_time": "2021-12-30T16:48:59.583Z"
   },
   {
    "duration": 7471,
    "start_time": "2021-12-30T16:49:41.868Z"
   },
   {
    "duration": 7431,
    "start_time": "2021-12-30T16:49:59.675Z"
   },
   {
    "duration": 440,
    "start_time": "2021-12-31T16:12:16.609Z"
   },
   {
    "duration": 405,
    "start_time": "2021-12-31T16:12:30.396Z"
   },
   {
    "duration": 383,
    "start_time": "2021-12-31T16:27:43.609Z"
   },
   {
    "duration": 369,
    "start_time": "2021-12-31T16:28:07.590Z"
   },
   {
    "duration": 477,
    "start_time": "2021-12-31T16:28:20.167Z"
   },
   {
    "duration": 770,
    "start_time": "2021-12-31T16:29:38.594Z"
   },
   {
    "duration": 182,
    "start_time": "2021-12-31T16:30:43.483Z"
   },
   {
    "duration": 4,
    "start_time": "2021-12-31T16:30:51.383Z"
   },
   {
    "duration": 187,
    "start_time": "2021-12-31T16:30:51.390Z"
   },
   {
    "duration": 25,
    "start_time": "2021-12-31T16:30:51.580Z"
   },
   {
    "duration": 12,
    "start_time": "2021-12-31T16:30:51.608Z"
   },
   {
    "duration": 5,
    "start_time": "2021-12-31T16:30:51.622Z"
   },
   {
    "duration": 27,
    "start_time": "2021-12-31T16:30:51.660Z"
   },
   {
    "duration": 7,
    "start_time": "2021-12-31T16:30:51.689Z"
   },
   {
    "duration": 64,
    "start_time": "2021-12-31T16:30:51.699Z"
   },
   {
    "duration": 22,
    "start_time": "2021-12-31T16:30:51.767Z"
   },
   {
    "duration": 3,
    "start_time": "2021-12-31T16:30:51.792Z"
   },
   {
    "duration": 4,
    "start_time": "2021-12-31T16:30:51.797Z"
   },
   {
    "duration": 6,
    "start_time": "2021-12-31T16:30:51.804Z"
   },
   {
    "duration": 5,
    "start_time": "2021-12-31T16:30:51.813Z"
   },
   {
    "duration": 39,
    "start_time": "2021-12-31T16:30:51.820Z"
   },
   {
    "duration": 6,
    "start_time": "2021-12-31T16:30:51.861Z"
   },
   {
    "duration": 7,
    "start_time": "2021-12-31T16:30:51.869Z"
   },
   {
    "duration": 4,
    "start_time": "2021-12-31T16:30:51.879Z"
   },
   {
    "duration": 4,
    "start_time": "2021-12-31T16:30:51.886Z"
   },
   {
    "duration": 4,
    "start_time": "2021-12-31T16:30:51.893Z"
   },
   {
    "duration": 5,
    "start_time": "2021-12-31T16:30:51.899Z"
   },
   {
    "duration": 7,
    "start_time": "2021-12-31T16:30:51.907Z"
   },
   {
    "duration": 5,
    "start_time": "2021-12-31T16:30:51.916Z"
   },
   {
    "duration": 2,
    "start_time": "2021-12-31T16:30:51.963Z"
   },
   {
    "duration": 5,
    "start_time": "2021-12-31T16:30:51.968Z"
   },
   {
    "duration": 4,
    "start_time": "2021-12-31T16:30:51.976Z"
   },
   {
    "duration": 6,
    "start_time": "2021-12-31T16:30:51.983Z"
   },
   {
    "duration": 5,
    "start_time": "2021-12-31T16:30:51.991Z"
   },
   {
    "duration": 5,
    "start_time": "2021-12-31T16:30:51.998Z"
   },
   {
    "duration": 4,
    "start_time": "2021-12-31T16:30:52.005Z"
   },
   {
    "duration": 4,
    "start_time": "2021-12-31T16:30:52.012Z"
   },
   {
    "duration": 13,
    "start_time": "2021-12-31T16:30:52.060Z"
   },
   {
    "duration": 11,
    "start_time": "2021-12-31T16:30:52.075Z"
   },
   {
    "duration": 10,
    "start_time": "2021-12-31T16:30:52.089Z"
   },
   {
    "duration": 6,
    "start_time": "2021-12-31T16:30:52.101Z"
   },
   {
    "duration": 6,
    "start_time": "2021-12-31T16:30:52.110Z"
   },
   {
    "duration": 13,
    "start_time": "2021-12-31T16:30:52.118Z"
   },
   {
    "duration": 6,
    "start_time": "2021-12-31T16:30:52.133Z"
   },
   {
    "duration": 18,
    "start_time": "2021-12-31T16:30:52.141Z"
   },
   {
    "duration": 32,
    "start_time": "2021-12-31T16:31:14.686Z"
   },
   {
    "duration": 95,
    "start_time": "2021-12-31T16:33:41.335Z"
   },
   {
    "duration": 136,
    "start_time": "2021-12-31T16:35:11.076Z"
   },
   {
    "duration": 18380,
    "start_time": "2021-12-31T16:36:14.721Z"
   },
   {
    "duration": 18228,
    "start_time": "2021-12-31T16:37:25.068Z"
   },
   {
    "duration": 464,
    "start_time": "2021-12-31T16:37:49.612Z"
   },
   {
    "duration": 75,
    "start_time": "2021-12-31T16:38:02.332Z"
   },
   {
    "duration": 84,
    "start_time": "2021-12-31T16:38:10.396Z"
   },
   {
    "duration": 78,
    "start_time": "2021-12-31T16:38:25.195Z"
   },
   {
    "duration": 3,
    "start_time": "2021-12-31T16:41:10.017Z"
   },
   {
    "duration": 205,
    "start_time": "2021-12-31T16:41:10.023Z"
   },
   {
    "duration": 16,
    "start_time": "2021-12-31T16:41:10.233Z"
   },
   {
    "duration": 11,
    "start_time": "2021-12-31T16:41:10.260Z"
   },
   {
    "duration": 5,
    "start_time": "2021-12-31T16:41:10.274Z"
   },
   {
    "duration": 16,
    "start_time": "2021-12-31T16:41:10.282Z"
   },
   {
    "duration": 5,
    "start_time": "2021-12-31T16:41:10.300Z"
   },
   {
    "duration": 79,
    "start_time": "2021-12-31T16:41:10.309Z"
   },
   {
    "duration": 24,
    "start_time": "2021-12-31T16:41:10.391Z"
   },
   {
    "duration": 47,
    "start_time": "2021-12-31T16:41:10.417Z"
   },
   {
    "duration": 96,
    "start_time": "2021-12-31T16:41:10.467Z"
   },
   {
    "duration": 97,
    "start_time": "2021-12-31T16:41:10.565Z"
   },
   {
    "duration": 73,
    "start_time": "2021-12-31T16:41:10.664Z"
   },
   {
    "duration": 19,
    "start_time": "2021-12-31T16:41:10.740Z"
   },
   {
    "duration": 5,
    "start_time": "2021-12-31T16:41:10.762Z"
   },
   {
    "duration": 5,
    "start_time": "2021-12-31T16:41:10.769Z"
   },
   {
    "duration": 5,
    "start_time": "2021-12-31T16:41:10.776Z"
   },
   {
    "duration": 5,
    "start_time": "2021-12-31T16:41:10.783Z"
   },
   {
    "duration": 4,
    "start_time": "2021-12-31T16:41:10.791Z"
   },
   {
    "duration": 7,
    "start_time": "2021-12-31T16:41:10.798Z"
   },
   {
    "duration": 8,
    "start_time": "2021-12-31T16:41:10.807Z"
   },
   {
    "duration": 5,
    "start_time": "2021-12-31T16:41:10.858Z"
   },
   {
    "duration": 4,
    "start_time": "2021-12-31T16:41:10.867Z"
   },
   {
    "duration": 5,
    "start_time": "2021-12-31T16:41:10.874Z"
   },
   {
    "duration": 8,
    "start_time": "2021-12-31T16:41:10.881Z"
   },
   {
    "duration": 6,
    "start_time": "2021-12-31T16:41:10.892Z"
   },
   {
    "duration": 5,
    "start_time": "2021-12-31T16:41:10.900Z"
   },
   {
    "duration": 4,
    "start_time": "2021-12-31T16:41:10.907Z"
   },
   {
    "duration": 4,
    "start_time": "2021-12-31T16:41:10.914Z"
   },
   {
    "duration": 4,
    "start_time": "2021-12-31T16:41:10.960Z"
   },
   {
    "duration": 8,
    "start_time": "2021-12-31T16:41:10.966Z"
   },
   {
    "duration": 5,
    "start_time": "2021-12-31T16:41:10.976Z"
   },
   {
    "duration": 9,
    "start_time": "2021-12-31T16:41:10.983Z"
   },
   {
    "duration": 5,
    "start_time": "2021-12-31T16:41:10.994Z"
   },
   {
    "duration": 6,
    "start_time": "2021-12-31T16:41:11.002Z"
   },
   {
    "duration": 7,
    "start_time": "2021-12-31T16:41:11.010Z"
   },
   {
    "duration": 6,
    "start_time": "2021-12-31T16:41:11.019Z"
   },
   {
    "duration": 8,
    "start_time": "2021-12-31T16:41:11.060Z"
   },
   {
    "duration": 104,
    "start_time": "2021-12-31T16:43:15.997Z"
   },
   {
    "duration": 68,
    "start_time": "2021-12-31T16:43:33.342Z"
   },
   {
    "duration": 76,
    "start_time": "2021-12-31T16:44:33.913Z"
   },
   {
    "duration": 4,
    "start_time": "2021-12-31T16:53:13.154Z"
   },
   {
    "duration": 14,
    "start_time": "2021-12-31T16:55:16.845Z"
   },
   {
    "duration": 73,
    "start_time": "2021-12-31T16:56:08.590Z"
   },
   {
    "duration": 4,
    "start_time": "2021-12-31T16:56:30.266Z"
   },
   {
    "duration": 17,
    "start_time": "2021-12-31T16:56:59.447Z"
   },
   {
    "duration": 81,
    "start_time": "2021-12-31T16:57:32.950Z"
   },
   {
    "duration": 19,
    "start_time": "2021-12-31T17:07:46.068Z"
   },
   {
    "duration": 403,
    "start_time": "2021-12-31T17:08:00.903Z"
   },
   {
    "duration": 370,
    "start_time": "2021-12-31T17:08:29.333Z"
   },
   {
    "duration": 740,
    "start_time": "2021-12-31T17:09:05.731Z"
   },
   {
    "duration": 740,
    "start_time": "2021-12-31T17:09:14.483Z"
   },
   {
    "duration": 4,
    "start_time": "2021-12-31T17:09:24.780Z"
   },
   {
    "duration": 197,
    "start_time": "2021-12-31T17:09:24.786Z"
   },
   {
    "duration": 16,
    "start_time": "2021-12-31T17:09:24.986Z"
   },
   {
    "duration": 12,
    "start_time": "2021-12-31T17:09:25.005Z"
   },
   {
    "duration": 8,
    "start_time": "2021-12-31T17:09:25.019Z"
   },
   {
    "duration": 21,
    "start_time": "2021-12-31T17:09:25.059Z"
   },
   {
    "duration": 5,
    "start_time": "2021-12-31T17:09:25.083Z"
   },
   {
    "duration": 36,
    "start_time": "2021-12-31T17:09:25.091Z"
   },
   {
    "duration": 49,
    "start_time": "2021-12-31T17:09:25.131Z"
   },
   {
    "duration": 29,
    "start_time": "2021-12-31T17:09:25.182Z"
   },
   {
    "duration": 108,
    "start_time": "2021-12-31T17:09:25.214Z"
   },
   {
    "duration": 104,
    "start_time": "2021-12-31T17:09:25.325Z"
   },
   {
    "duration": 82,
    "start_time": "2021-12-31T17:09:25.432Z"
   },
   {
    "duration": 79,
    "start_time": "2021-12-31T17:09:25.517Z"
   },
   {
    "duration": 4,
    "start_time": "2021-12-31T17:09:25.598Z"
   },
   {
    "duration": 15,
    "start_time": "2021-12-31T17:09:25.604Z"
   },
   {
    "duration": 3,
    "start_time": "2021-12-31T17:09:25.622Z"
   },
   {
    "duration": 32,
    "start_time": "2021-12-31T17:09:25.627Z"
   },
   {
    "duration": 6,
    "start_time": "2021-12-31T17:09:25.661Z"
   },
   {
    "duration": 6,
    "start_time": "2021-12-31T17:09:25.669Z"
   },
   {
    "duration": 8,
    "start_time": "2021-12-31T17:09:25.677Z"
   },
   {
    "duration": 5,
    "start_time": "2021-12-31T17:09:25.687Z"
   },
   {
    "duration": 3,
    "start_time": "2021-12-31T17:09:25.697Z"
   },
   {
    "duration": 4,
    "start_time": "2021-12-31T17:09:25.703Z"
   },
   {
    "duration": 4,
    "start_time": "2021-12-31T17:09:25.709Z"
   },
   {
    "duration": 3,
    "start_time": "2021-12-31T17:09:25.760Z"
   },
   {
    "duration": 4,
    "start_time": "2021-12-31T17:09:25.765Z"
   },
   {
    "duration": 5,
    "start_time": "2021-12-31T17:09:25.771Z"
   },
   {
    "duration": 4,
    "start_time": "2021-12-31T17:09:25.779Z"
   },
   {
    "duration": 6,
    "start_time": "2021-12-31T17:09:25.785Z"
   },
   {
    "duration": 7,
    "start_time": "2021-12-31T17:09:25.793Z"
   },
   {
    "duration": 5,
    "start_time": "2021-12-31T17:09:25.802Z"
   },
   {
    "duration": 51,
    "start_time": "2021-12-31T17:09:25.809Z"
   },
   {
    "duration": 5,
    "start_time": "2021-12-31T17:09:25.863Z"
   },
   {
    "duration": 5,
    "start_time": "2021-12-31T17:09:25.870Z"
   },
   {
    "duration": 4,
    "start_time": "2021-12-31T17:09:25.877Z"
   },
   {
    "duration": 4,
    "start_time": "2021-12-31T17:09:25.883Z"
   },
   {
    "duration": 4,
    "start_time": "2021-12-31T17:09:25.890Z"
   },
   {
    "duration": 75,
    "start_time": "2021-12-31T17:09:53.553Z"
   },
   {
    "duration": 17,
    "start_time": "2021-12-31T17:22:52.988Z"
   },
   {
    "duration": 248,
    "start_time": "2022-01-02T15:07:00.135Z"
   },
   {
    "duration": 604,
    "start_time": "2022-01-02T15:07:14.780Z"
   },
   {
    "duration": 138,
    "start_time": "2022-01-02T15:07:15.386Z"
   },
   {
    "duration": 17,
    "start_time": "2022-01-02T15:07:15.527Z"
   },
   {
    "duration": 7,
    "start_time": "2022-01-02T15:07:15.546Z"
   },
   {
    "duration": 6,
    "start_time": "2022-01-02T15:07:15.555Z"
   },
   {
    "duration": 43,
    "start_time": "2022-01-02T15:07:15.562Z"
   },
   {
    "duration": 5,
    "start_time": "2022-01-02T15:07:15.607Z"
   },
   {
    "duration": 27,
    "start_time": "2022-01-02T15:07:15.615Z"
   },
   {
    "duration": 20,
    "start_time": "2022-01-02T15:07:15.645Z"
   },
   {
    "duration": 42,
    "start_time": "2022-01-02T15:07:15.667Z"
   },
   {
    "duration": 58,
    "start_time": "2022-01-02T15:07:15.711Z"
   },
   {
    "duration": 84,
    "start_time": "2022-01-02T15:07:15.770Z"
   },
   {
    "duration": 56,
    "start_time": "2022-01-02T15:07:15.856Z"
   },
   {
    "duration": 47,
    "start_time": "2022-01-02T15:07:15.914Z"
   },
   {
    "duration": 3,
    "start_time": "2022-01-02T15:07:15.963Z"
   },
   {
    "duration": 26,
    "start_time": "2022-01-02T15:07:15.968Z"
   },
   {
    "duration": 47,
    "start_time": "2022-01-02T15:07:15.996Z"
   },
   {
    "duration": 11,
    "start_time": "2022-01-02T15:07:16.044Z"
   },
   {
    "duration": 9,
    "start_time": "2022-01-02T15:07:16.056Z"
   },
   {
    "duration": 2,
    "start_time": "2022-01-02T15:07:16.092Z"
   },
   {
    "duration": 7,
    "start_time": "2022-01-02T15:07:16.095Z"
   },
   {
    "duration": 5,
    "start_time": "2022-01-02T15:07:16.103Z"
   },
   {
    "duration": 8,
    "start_time": "2022-01-02T15:07:16.111Z"
   },
   {
    "duration": 12,
    "start_time": "2022-01-02T15:07:16.121Z"
   },
   {
    "duration": 5,
    "start_time": "2022-01-02T15:07:16.135Z"
   },
   {
    "duration": 5,
    "start_time": "2022-01-02T15:07:16.141Z"
   },
   {
    "duration": 4,
    "start_time": "2022-01-02T15:07:16.148Z"
   },
   {
    "duration": 4,
    "start_time": "2022-01-02T15:07:16.154Z"
   },
   {
    "duration": 5,
    "start_time": "2022-01-02T15:07:16.159Z"
   },
   {
    "duration": 5,
    "start_time": "2022-01-02T15:07:16.165Z"
   },
   {
    "duration": 7,
    "start_time": "2022-01-02T15:07:16.172Z"
   },
   {
    "duration": 12,
    "start_time": "2022-01-02T15:07:16.180Z"
   },
   {
    "duration": 6,
    "start_time": "2022-01-02T15:07:16.194Z"
   },
   {
    "duration": 5,
    "start_time": "2022-01-02T15:07:16.201Z"
   },
   {
    "duration": 4,
    "start_time": "2022-01-02T15:07:16.208Z"
   },
   {
    "duration": 3,
    "start_time": "2022-01-02T15:07:16.214Z"
   },
   {
    "duration": 5,
    "start_time": "2022-01-02T15:07:16.219Z"
   },
   {
    "duration": 4,
    "start_time": "2022-01-02T15:07:16.226Z"
   },
   {
    "duration": 30,
    "start_time": "2022-01-02T15:08:18.931Z"
   },
   {
    "duration": 12,
    "start_time": "2022-01-02T15:08:49.296Z"
   },
   {
    "duration": 3,
    "start_time": "2022-01-02T15:20:59.047Z"
   },
   {
    "duration": 1501,
    "start_time": "2022-01-02T15:21:39.530Z"
   },
   {
    "duration": 4,
    "start_time": "2022-01-02T15:22:56.984Z"
   },
   {
    "duration": 357,
    "start_time": "2022-01-02T15:22:59.576Z"
   },
   {
    "duration": 61,
    "start_time": "2022-01-02T15:27:02.577Z"
   },
   {
    "duration": 342,
    "start_time": "2022-01-02T15:27:05.358Z"
   },
   {
    "duration": 3,
    "start_time": "2022-01-02T15:28:10.042Z"
   },
   {
    "duration": 334,
    "start_time": "2022-01-02T15:28:12.874Z"
   },
   {
    "duration": 384,
    "start_time": "2022-01-02T15:29:41.637Z"
   },
   {
    "duration": 4,
    "start_time": "2022-01-02T15:38:23.255Z"
   },
   {
    "duration": 24,
    "start_time": "2022-01-02T15:38:25.438Z"
   },
   {
    "duration": 22,
    "start_time": "2022-01-02T15:41:01.366Z"
   },
   {
    "duration": 4,
    "start_time": "2022-01-02T15:41:26.295Z"
   },
   {
    "duration": 30,
    "start_time": "2022-01-02T15:41:30.741Z"
   },
   {
    "duration": 3,
    "start_time": "2022-01-02T15:41:57.184Z"
   },
   {
    "duration": 152,
    "start_time": "2022-01-02T15:41:57.189Z"
   },
   {
    "duration": 10,
    "start_time": "2022-01-02T15:41:57.343Z"
   },
   {
    "duration": 8,
    "start_time": "2022-01-02T15:41:57.356Z"
   },
   {
    "duration": 5,
    "start_time": "2022-01-02T15:41:57.365Z"
   },
   {
    "duration": 15,
    "start_time": "2022-01-02T15:41:57.392Z"
   },
   {
    "duration": 3,
    "start_time": "2022-01-02T15:41:57.409Z"
   },
   {
    "duration": 23,
    "start_time": "2022-01-02T15:41:57.415Z"
   },
   {
    "duration": 17,
    "start_time": "2022-01-02T15:41:57.440Z"
   },
   {
    "duration": 52,
    "start_time": "2022-01-02T15:41:57.458Z"
   },
   {
    "duration": 56,
    "start_time": "2022-01-02T15:41:57.512Z"
   },
   {
    "duration": 71,
    "start_time": "2022-01-02T15:41:57.570Z"
   },
   {
    "duration": 60,
    "start_time": "2022-01-02T15:41:57.643Z"
   },
   {
    "duration": 49,
    "start_time": "2022-01-02T15:41:57.705Z"
   },
   {
    "duration": 3,
    "start_time": "2022-01-02T15:41:57.755Z"
   },
   {
    "duration": 31,
    "start_time": "2022-01-02T15:41:57.760Z"
   },
   {
    "duration": 49,
    "start_time": "2022-01-02T15:41:57.793Z"
   },
   {
    "duration": 11,
    "start_time": "2022-01-02T15:41:57.843Z"
   },
   {
    "duration": 10,
    "start_time": "2022-01-02T15:41:57.856Z"
   },
   {
    "duration": 24,
    "start_time": "2022-01-02T15:41:57.868Z"
   },
   {
    "duration": 25,
    "start_time": "2022-01-02T15:41:57.894Z"
   },
   {
    "duration": 17,
    "start_time": "2022-01-02T15:41:57.921Z"
   },
   {
    "duration": 2,
    "start_time": "2022-01-02T15:41:57.941Z"
   },
   {
    "duration": 5,
    "start_time": "2022-01-02T15:41:57.945Z"
   },
   {
    "duration": 4,
    "start_time": "2022-01-02T15:41:57.951Z"
   },
   {
    "duration": 5,
    "start_time": "2022-01-02T15:41:57.957Z"
   },
   {
    "duration": 29,
    "start_time": "2022-01-02T15:41:57.963Z"
   },
   {
    "duration": 5,
    "start_time": "2022-01-02T15:41:57.994Z"
   },
   {
    "duration": 10,
    "start_time": "2022-01-02T15:41:58.000Z"
   },
   {
    "duration": 9,
    "start_time": "2022-01-02T15:41:58.012Z"
   },
   {
    "duration": 7,
    "start_time": "2022-01-02T15:41:58.023Z"
   },
   {
    "duration": 4,
    "start_time": "2022-01-02T15:41:58.032Z"
   },
   {
    "duration": 6,
    "start_time": "2022-01-02T15:41:58.038Z"
   },
   {
    "duration": 5,
    "start_time": "2022-01-02T15:41:58.045Z"
   },
   {
    "duration": 5,
    "start_time": "2022-01-02T15:41:58.051Z"
   },
   {
    "duration": 4,
    "start_time": "2022-01-02T15:41:58.058Z"
   },
   {
    "duration": 6,
    "start_time": "2022-01-02T15:41:58.064Z"
   },
   {
    "duration": 5,
    "start_time": "2022-01-02T15:41:58.072Z"
   },
   {
    "duration": 19,
    "start_time": "2022-01-02T15:43:34.303Z"
   },
   {
    "duration": 17,
    "start_time": "2022-01-02T15:43:56.095Z"
   },
   {
    "duration": 19,
    "start_time": "2022-01-02T15:44:33.233Z"
   },
   {
    "duration": 18,
    "start_time": "2022-01-02T15:45:25.660Z"
   },
   {
    "duration": 3,
    "start_time": "2022-01-02T15:46:02.217Z"
   },
   {
    "duration": 148,
    "start_time": "2022-01-02T15:46:02.222Z"
   },
   {
    "duration": 11,
    "start_time": "2022-01-02T15:46:02.372Z"
   },
   {
    "duration": 8,
    "start_time": "2022-01-02T15:46:02.391Z"
   },
   {
    "duration": 5,
    "start_time": "2022-01-02T15:46:02.401Z"
   },
   {
    "duration": 21,
    "start_time": "2022-01-02T15:46:02.408Z"
   },
   {
    "duration": 5,
    "start_time": "2022-01-02T15:46:02.431Z"
   },
   {
    "duration": 57,
    "start_time": "2022-01-02T15:46:02.438Z"
   },
   {
    "duration": 17,
    "start_time": "2022-01-02T15:46:02.498Z"
   },
   {
    "duration": 21,
    "start_time": "2022-01-02T15:46:02.517Z"
   },
   {
    "duration": 78,
    "start_time": "2022-01-02T15:46:02.539Z"
   },
   {
    "duration": 72,
    "start_time": "2022-01-02T15:46:02.619Z"
   },
   {
    "duration": 54,
    "start_time": "2022-01-02T15:46:02.693Z"
   },
   {
    "duration": 63,
    "start_time": "2022-01-02T15:46:02.749Z"
   },
   {
    "duration": 3,
    "start_time": "2022-01-02T15:46:02.813Z"
   },
   {
    "duration": 13,
    "start_time": "2022-01-02T15:46:02.817Z"
   },
   {
    "duration": 65,
    "start_time": "2022-01-02T15:46:02.832Z"
   },
   {
    "duration": 12,
    "start_time": "2022-01-02T15:46:02.899Z"
   },
   {
    "duration": 11,
    "start_time": "2022-01-02T15:46:02.912Z"
   },
   {
    "duration": 4,
    "start_time": "2022-01-02T15:46:02.924Z"
   },
   {
    "duration": 24,
    "start_time": "2022-01-02T15:46:02.929Z"
   },
   {
    "duration": 45,
    "start_time": "2022-01-02T15:46:02.955Z"
   },
   {
    "duration": 17,
    "start_time": "2022-01-02T15:46:03.002Z"
   },
   {
    "duration": 17,
    "start_time": "2022-01-02T15:46:03.021Z"
   },
   {
    "duration": 19,
    "start_time": "2022-01-02T15:46:03.039Z"
   },
   {
    "duration": 46,
    "start_time": "2022-01-02T15:46:03.060Z"
   },
   {
    "duration": 2,
    "start_time": "2022-01-02T15:46:03.110Z"
   },
   {
    "duration": 7,
    "start_time": "2022-01-02T15:46:03.114Z"
   },
   {
    "duration": 4,
    "start_time": "2022-01-02T15:46:03.123Z"
   },
   {
    "duration": 4,
    "start_time": "2022-01-02T15:46:03.129Z"
   },
   {
    "duration": 6,
    "start_time": "2022-01-02T15:46:03.135Z"
   },
   {
    "duration": 4,
    "start_time": "2022-01-02T15:46:03.142Z"
   },
   {
    "duration": 6,
    "start_time": "2022-01-02T15:46:03.148Z"
   },
   {
    "duration": 5,
    "start_time": "2022-01-02T15:46:03.156Z"
   },
   {
    "duration": 29,
    "start_time": "2022-01-02T15:46:03.162Z"
   },
   {
    "duration": 5,
    "start_time": "2022-01-02T15:46:03.193Z"
   },
   {
    "duration": 5,
    "start_time": "2022-01-02T15:46:03.199Z"
   },
   {
    "duration": 4,
    "start_time": "2022-01-02T15:46:03.206Z"
   },
   {
    "duration": 57,
    "start_time": "2022-01-02T15:54:08.963Z"
   },
   {
    "duration": 80,
    "start_time": "2022-01-02T15:54:20.132Z"
   },
   {
    "duration": 64,
    "start_time": "2022-01-02T15:55:28.160Z"
   },
   {
    "duration": 9,
    "start_time": "2022-01-02T15:55:37.054Z"
   },
   {
    "duration": 6,
    "start_time": "2022-01-02T16:02:53.117Z"
   },
   {
    "duration": 6,
    "start_time": "2022-01-02T16:02:57.582Z"
   },
   {
    "duration": 9,
    "start_time": "2022-01-02T16:03:14.451Z"
   },
   {
    "duration": 21,
    "start_time": "2022-01-02T16:05:20.077Z"
   },
   {
    "duration": 9,
    "start_time": "2022-01-02T16:06:01.889Z"
   },
   {
    "duration": 10,
    "start_time": "2022-01-02T16:06:09.728Z"
   },
   {
    "duration": 11,
    "start_time": "2022-01-02T16:06:20.448Z"
   },
   {
    "duration": 19,
    "start_time": "2022-01-02T16:06:39.152Z"
   },
   {
    "duration": 60,
    "start_time": "2022-01-02T16:07:55.822Z"
   },
   {
    "duration": 187,
    "start_time": "2022-01-02T16:34:45.602Z"
   },
   {
    "duration": 201,
    "start_time": "2022-01-02T16:36:19.633Z"
   },
   {
    "duration": 280,
    "start_time": "2022-01-02T16:43:10.139Z"
   },
   {
    "duration": 175,
    "start_time": "2022-01-02T16:43:49.275Z"
   },
   {
    "duration": 13,
    "start_time": "2022-01-02T16:47:56.209Z"
   },
   {
    "duration": 15,
    "start_time": "2022-01-02T16:49:31.657Z"
   },
   {
    "duration": 583,
    "start_time": "2022-01-02T16:52:31.300Z"
   },
   {
    "duration": 61,
    "start_time": "2022-01-02T17:10:06.558Z"
   },
   {
    "duration": 60,
    "start_time": "2022-01-02T17:10:48.747Z"
   },
   {
    "duration": 77,
    "start_time": "2022-01-02T17:11:37.930Z"
   },
   {
    "duration": 61,
    "start_time": "2022-01-02T17:11:49.321Z"
   },
   {
    "duration": 56,
    "start_time": "2022-01-02T18:39:24.211Z"
   },
   {
    "duration": 4,
    "start_time": "2022-01-02T18:51:08.532Z"
   },
   {
    "duration": 4,
    "start_time": "2022-01-02T18:51:34.147Z"
   },
   {
    "duration": 18,
    "start_time": "2022-01-02T18:51:38.101Z"
   },
   {
    "duration": 14,
    "start_time": "2022-01-02T18:52:32.799Z"
   },
   {
    "duration": 18,
    "start_time": "2022-01-02T18:53:43.468Z"
   },
   {
    "duration": 13,
    "start_time": "2022-01-02T18:54:08.459Z"
   },
   {
    "duration": 16,
    "start_time": "2022-01-02T18:55:26.744Z"
   },
   {
    "duration": 13,
    "start_time": "2022-01-02T18:55:28.615Z"
   },
   {
    "duration": 181,
    "start_time": "2022-01-02T19:00:46.569Z"
   },
   {
    "duration": 23,
    "start_time": "2022-01-02T19:01:14.269Z"
   },
   {
    "duration": 134,
    "start_time": "2022-01-02T19:01:22.057Z"
   },
   {
    "duration": 174,
    "start_time": "2022-01-02T19:01:27.910Z"
   },
   {
    "duration": 5,
    "start_time": "2022-01-02T19:02:10.313Z"
   },
   {
    "duration": 8,
    "start_time": "2022-01-02T19:02:37.780Z"
   },
   {
    "duration": 5,
    "start_time": "2022-01-02T19:03:42.544Z"
   },
   {
    "duration": 9,
    "start_time": "2022-01-02T19:03:45.906Z"
   },
   {
    "duration": 4,
    "start_time": "2022-01-02T19:03:58.096Z"
   },
   {
    "duration": 9,
    "start_time": "2022-01-02T19:04:00.480Z"
   },
   {
    "duration": 1019,
    "start_time": "2022-01-02T19:11:34.938Z"
   },
   {
    "duration": 402,
    "start_time": "2022-01-02T19:12:07.581Z"
   },
   {
    "duration": 13,
    "start_time": "2022-01-02T19:12:49.352Z"
   },
   {
    "duration": 13,
    "start_time": "2022-01-02T19:12:53.367Z"
   },
   {
    "duration": 19,
    "start_time": "2022-01-02T19:13:06.279Z"
   },
   {
    "duration": 3,
    "start_time": "2022-01-02T19:13:25.780Z"
   },
   {
    "duration": 158,
    "start_time": "2022-01-02T19:13:25.785Z"
   },
   {
    "duration": 11,
    "start_time": "2022-01-02T19:13:25.945Z"
   },
   {
    "duration": 9,
    "start_time": "2022-01-02T19:13:25.958Z"
   },
   {
    "duration": 6,
    "start_time": "2022-01-02T19:13:25.968Z"
   },
   {
    "duration": 19,
    "start_time": "2022-01-02T19:13:25.992Z"
   },
   {
    "duration": 3,
    "start_time": "2022-01-02T19:13:26.014Z"
   },
   {
    "duration": 25,
    "start_time": "2022-01-02T19:13:26.019Z"
   },
   {
    "duration": 18,
    "start_time": "2022-01-02T19:13:26.046Z"
   },
   {
    "duration": 48,
    "start_time": "2022-01-02T19:13:26.065Z"
   },
   {
    "duration": 54,
    "start_time": "2022-01-02T19:13:26.115Z"
   },
   {
    "duration": 76,
    "start_time": "2022-01-02T19:13:26.171Z"
   },
   {
    "duration": 62,
    "start_time": "2022-01-02T19:13:26.249Z"
   },
   {
    "duration": 48,
    "start_time": "2022-01-02T19:13:26.313Z"
   },
   {
    "duration": 3,
    "start_time": "2022-01-02T19:13:26.362Z"
   },
   {
    "duration": 27,
    "start_time": "2022-01-02T19:13:26.367Z"
   },
   {
    "duration": 47,
    "start_time": "2022-01-02T19:13:26.396Z"
   },
   {
    "duration": 11,
    "start_time": "2022-01-02T19:13:26.445Z"
   },
   {
    "duration": 33,
    "start_time": "2022-01-02T19:13:26.459Z"
   },
   {
    "duration": 4,
    "start_time": "2022-01-02T19:13:26.494Z"
   },
   {
    "duration": 24,
    "start_time": "2022-01-02T19:13:26.500Z"
   },
   {
    "duration": 18,
    "start_time": "2022-01-02T19:13:26.526Z"
   },
   {
    "duration": 16,
    "start_time": "2022-01-02T19:13:26.546Z"
   },
   {
    "duration": 19,
    "start_time": "2022-01-02T19:13:26.592Z"
   },
   {
    "duration": 19,
    "start_time": "2022-01-02T19:13:26.613Z"
   },
   {
    "duration": 16,
    "start_time": "2022-01-02T19:13:26.634Z"
   },
   {
    "duration": 8,
    "start_time": "2022-01-02T19:13:26.652Z"
   },
   {
    "duration": 23,
    "start_time": "2022-01-02T19:13:26.692Z"
   },
   {
    "duration": 20,
    "start_time": "2022-01-02T19:13:26.716Z"
   },
   {
    "duration": 4,
    "start_time": "2022-01-02T19:13:26.738Z"
   },
   {
    "duration": 49,
    "start_time": "2022-01-02T19:13:26.743Z"
   },
   {
    "duration": 13,
    "start_time": "2022-01-02T19:13:26.794Z"
   },
   {
    "duration": 18,
    "start_time": "2022-01-02T19:13:26.809Z"
   },
   {
    "duration": 11,
    "start_time": "2022-01-02T19:13:26.829Z"
   },
   {
    "duration": 51,
    "start_time": "2022-01-02T19:13:26.842Z"
   },
   {
    "duration": 8,
    "start_time": "2022-01-02T19:13:26.894Z"
   },
   {
    "duration": 4,
    "start_time": "2022-01-02T19:13:26.904Z"
   },
   {
    "duration": 6,
    "start_time": "2022-01-02T19:13:26.909Z"
   },
   {
    "duration": 5,
    "start_time": "2022-01-02T19:15:47.328Z"
   },
   {
    "duration": 8,
    "start_time": "2022-01-02T19:15:51.071Z"
   },
   {
    "duration": 5,
    "start_time": "2022-01-02T19:16:05.376Z"
   },
   {
    "duration": 8,
    "start_time": "2022-01-02T19:16:07.774Z"
   },
   {
    "duration": 181,
    "start_time": "2022-01-02T19:16:32.141Z"
   },
   {
    "duration": 221,
    "start_time": "2022-01-02T19:16:37.758Z"
   },
   {
    "duration": 56,
    "start_time": "2022-01-02T19:17:22.141Z"
   },
   {
    "duration": 5,
    "start_time": "2022-01-02T19:17:28.314Z"
   },
   {
    "duration": 8,
    "start_time": "2022-01-02T19:17:31.571Z"
   },
   {
    "duration": 5,
    "start_time": "2022-01-02T19:17:47.803Z"
   },
   {
    "duration": 7,
    "start_time": "2022-01-02T19:17:50.123Z"
   },
   {
    "duration": 171,
    "start_time": "2022-01-02T19:19:30.971Z"
   },
   {
    "duration": 196,
    "start_time": "2022-01-02T19:20:00.985Z"
   },
   {
    "duration": 179,
    "start_time": "2022-01-02T19:20:12.531Z"
   },
   {
    "duration": 227,
    "start_time": "2022-01-02T19:20:19.061Z"
   },
   {
    "duration": 4,
    "start_time": "2022-01-02T19:20:25.763Z"
   },
   {
    "duration": 5,
    "start_time": "2022-01-02T19:20:37.170Z"
   },
   {
    "duration": 8,
    "start_time": "2022-01-02T19:20:38.979Z"
   },
   {
    "duration": 2,
    "start_time": "2022-01-02T19:20:44.346Z"
   },
   {
    "duration": 139,
    "start_time": "2022-01-02T19:20:44.351Z"
   },
   {
    "duration": 10,
    "start_time": "2022-01-02T19:20:44.493Z"
   },
   {
    "duration": 8,
    "start_time": "2022-01-02T19:20:44.505Z"
   },
   {
    "duration": 6,
    "start_time": "2022-01-02T19:20:44.515Z"
   },
   {
    "duration": 17,
    "start_time": "2022-01-02T19:20:44.522Z"
   },
   {
    "duration": 3,
    "start_time": "2022-01-02T19:20:44.541Z"
   },
   {
    "duration": 47,
    "start_time": "2022-01-02T19:20:44.546Z"
   },
   {
    "duration": 18,
    "start_time": "2022-01-02T19:20:44.596Z"
   },
   {
    "duration": 23,
    "start_time": "2022-01-02T19:20:44.616Z"
   },
   {
    "duration": 76,
    "start_time": "2022-01-02T19:20:44.641Z"
   },
   {
    "duration": 63,
    "start_time": "2022-01-02T19:20:44.718Z"
   },
   {
    "duration": 48,
    "start_time": "2022-01-02T19:20:44.791Z"
   },
   {
    "duration": 61,
    "start_time": "2022-01-02T19:20:44.841Z"
   },
   {
    "duration": 3,
    "start_time": "2022-01-02T19:20:44.904Z"
   },
   {
    "duration": 18,
    "start_time": "2022-01-02T19:20:44.909Z"
   },
   {
    "duration": 84,
    "start_time": "2022-01-02T19:20:44.929Z"
   },
   {
    "duration": 11,
    "start_time": "2022-01-02T19:20:45.015Z"
   },
   {
    "duration": 20,
    "start_time": "2022-01-02T19:20:45.028Z"
   },
   {
    "duration": 3,
    "start_time": "2022-01-02T19:20:45.050Z"
   },
   {
    "duration": 30,
    "start_time": "2022-01-02T19:20:45.055Z"
   },
   {
    "duration": 17,
    "start_time": "2022-01-02T19:20:45.092Z"
   },
   {
    "duration": 18,
    "start_time": "2022-01-02T19:20:45.111Z"
   },
   {
    "duration": 18,
    "start_time": "2022-01-02T19:20:45.130Z"
   },
   {
    "duration": 53,
    "start_time": "2022-01-02T19:20:45.150Z"
   },
   {
    "duration": 19,
    "start_time": "2022-01-02T19:20:45.205Z"
   },
   {
    "duration": 8,
    "start_time": "2022-01-02T19:20:45.227Z"
   },
   {
    "duration": 20,
    "start_time": "2022-01-02T19:20:45.236Z"
   },
   {
    "duration": 41,
    "start_time": "2022-01-02T19:20:45.258Z"
   },
   {
    "duration": 4,
    "start_time": "2022-01-02T19:20:45.300Z"
   },
   {
    "duration": 21,
    "start_time": "2022-01-02T19:20:45.305Z"
   },
   {
    "duration": 11,
    "start_time": "2022-01-02T19:20:45.328Z"
   },
   {
    "duration": 18,
    "start_time": "2022-01-02T19:20:45.340Z"
   },
   {
    "duration": 40,
    "start_time": "2022-01-02T19:20:45.360Z"
   },
   {
    "duration": 22,
    "start_time": "2022-01-02T19:20:45.402Z"
   },
   {
    "duration": 7,
    "start_time": "2022-01-02T19:20:45.426Z"
   },
   {
    "duration": 4,
    "start_time": "2022-01-02T19:20:45.435Z"
   },
   {
    "duration": 5,
    "start_time": "2022-01-02T19:20:45.440Z"
   },
   {
    "duration": 209,
    "start_time": "2022-01-02T19:21:57.603Z"
   },
   {
    "duration": 806,
    "start_time": "2022-01-03T11:54:17.613Z"
   },
   {
    "duration": 176,
    "start_time": "2022-01-03T11:54:18.422Z"
   },
   {
    "duration": 25,
    "start_time": "2022-01-03T11:54:18.602Z"
   },
   {
    "duration": 11,
    "start_time": "2022-01-03T11:54:18.630Z"
   },
   {
    "duration": 6,
    "start_time": "2022-01-03T11:54:18.660Z"
   },
   {
    "duration": 25,
    "start_time": "2022-01-03T11:54:18.668Z"
   },
   {
    "duration": 7,
    "start_time": "2022-01-03T11:54:18.696Z"
   },
   {
    "duration": 62,
    "start_time": "2022-01-03T11:54:18.707Z"
   },
   {
    "duration": 24,
    "start_time": "2022-01-03T11:54:18.772Z"
   },
   {
    "duration": 31,
    "start_time": "2022-01-03T11:54:18.798Z"
   },
   {
    "duration": 129,
    "start_time": "2022-01-03T11:54:18.831Z"
   },
   {
    "duration": 109,
    "start_time": "2022-01-03T11:54:18.963Z"
   },
   {
    "duration": 87,
    "start_time": "2022-01-03T11:54:19.074Z"
   },
   {
    "duration": 73,
    "start_time": "2022-01-03T11:54:19.163Z"
   },
   {
    "duration": 4,
    "start_time": "2022-01-03T11:54:19.238Z"
   },
   {
    "duration": 14,
    "start_time": "2022-01-03T11:54:19.260Z"
   },
   {
    "duration": 98,
    "start_time": "2022-01-03T11:54:19.276Z"
   },
   {
    "duration": 16,
    "start_time": "2022-01-03T11:54:19.376Z"
   },
   {
    "duration": 15,
    "start_time": "2022-01-03T11:54:19.394Z"
   },
   {
    "duration": 6,
    "start_time": "2022-01-03T11:54:19.412Z"
   },
   {
    "duration": 62,
    "start_time": "2022-01-03T11:54:19.420Z"
   },
   {
    "duration": 26,
    "start_time": "2022-01-03T11:54:19.485Z"
   },
   {
    "duration": 57,
    "start_time": "2022-01-03T11:54:19.516Z"
   },
   {
    "duration": 24,
    "start_time": "2022-01-03T11:54:19.577Z"
   },
   {
    "duration": 26,
    "start_time": "2022-01-03T11:54:19.603Z"
   },
   {
    "duration": 23,
    "start_time": "2022-01-03T11:54:19.659Z"
   },
   {
    "duration": 11,
    "start_time": "2022-01-03T11:54:19.685Z"
   },
   {
    "duration": 61,
    "start_time": "2022-01-03T11:54:19.698Z"
   },
   {
    "duration": 27,
    "start_time": "2022-01-03T11:54:19.761Z"
   },
   {
    "duration": 5,
    "start_time": "2022-01-03T11:54:19.790Z"
   },
   {
    "duration": 37,
    "start_time": "2022-01-03T11:54:19.798Z"
   },
   {
    "duration": 38,
    "start_time": "2022-01-03T11:54:19.837Z"
   },
   {
    "duration": 31,
    "start_time": "2022-01-03T11:54:19.877Z"
   },
   {
    "duration": 22,
    "start_time": "2022-01-03T11:54:19.910Z"
   },
   {
    "duration": 530,
    "start_time": "2022-01-03T11:54:19.934Z"
   },
   {
    "duration": 5148,
    "start_time": "2022-01-03T11:54:15.318Z"
   },
   {
    "duration": 5147,
    "start_time": "2022-01-03T11:54:15.320Z"
   },
   {
    "duration": 5147,
    "start_time": "2022-01-03T11:54:15.322Z"
   },
   {
    "duration": 5,
    "start_time": "2022-01-03T11:54:37.193Z"
   },
   {
    "duration": 15,
    "start_time": "2022-01-03T11:54:42.505Z"
   },
   {
    "duration": 4,
    "start_time": "2022-01-03T11:55:02.965Z"
   },
   {
    "duration": 230,
    "start_time": "2022-01-03T11:55:02.972Z"
   },
   {
    "duration": 21,
    "start_time": "2022-01-03T11:55:03.206Z"
   },
   {
    "duration": 30,
    "start_time": "2022-01-03T11:55:03.230Z"
   },
   {
    "duration": 5,
    "start_time": "2022-01-03T11:55:03.263Z"
   },
   {
    "duration": 21,
    "start_time": "2022-01-03T11:55:03.270Z"
   },
   {
    "duration": 5,
    "start_time": "2022-01-03T11:55:03.294Z"
   },
   {
    "duration": 66,
    "start_time": "2022-01-03T11:55:03.301Z"
   },
   {
    "duration": 23,
    "start_time": "2022-01-03T11:55:03.369Z"
   },
   {
    "duration": 30,
    "start_time": "2022-01-03T11:55:03.394Z"
   },
   {
    "duration": 111,
    "start_time": "2022-01-03T11:55:03.427Z"
   },
   {
    "duration": 98,
    "start_time": "2022-01-03T11:55:03.541Z"
   },
   {
    "duration": 89,
    "start_time": "2022-01-03T11:55:03.641Z"
   },
   {
    "duration": 92,
    "start_time": "2022-01-03T11:55:03.732Z"
   },
   {
    "duration": 4,
    "start_time": "2022-01-03T11:55:03.827Z"
   },
   {
    "duration": 33,
    "start_time": "2022-01-03T11:55:03.833Z"
   },
   {
    "duration": 97,
    "start_time": "2022-01-03T11:55:03.869Z"
   },
   {
    "duration": 15,
    "start_time": "2022-01-03T11:55:03.969Z"
   },
   {
    "duration": 16,
    "start_time": "2022-01-03T11:55:03.989Z"
   },
   {
    "duration": 4,
    "start_time": "2022-01-03T11:55:04.008Z"
   },
   {
    "duration": 68,
    "start_time": "2022-01-03T11:55:04.014Z"
   },
   {
    "duration": 24,
    "start_time": "2022-01-03T11:55:04.084Z"
   },
   {
    "duration": 49,
    "start_time": "2022-01-03T11:55:04.110Z"
   },
   {
    "duration": 23,
    "start_time": "2022-01-03T11:55:04.161Z"
   },
   {
    "duration": 27,
    "start_time": "2022-01-03T11:55:04.186Z"
   },
   {
    "duration": 56,
    "start_time": "2022-01-03T11:55:04.215Z"
   },
   {
    "duration": 12,
    "start_time": "2022-01-03T11:55:04.273Z"
   },
   {
    "duration": 31,
    "start_time": "2022-01-03T11:55:04.287Z"
   },
   {
    "duration": 58,
    "start_time": "2022-01-03T11:55:04.320Z"
   },
   {
    "duration": 7,
    "start_time": "2022-01-03T11:55:04.381Z"
   },
   {
    "duration": 43,
    "start_time": "2022-01-03T11:55:04.391Z"
   },
   {
    "duration": 51,
    "start_time": "2022-01-03T11:55:04.438Z"
   },
   {
    "duration": 22,
    "start_time": "2022-01-03T11:55:04.492Z"
   },
   {
    "duration": 17,
    "start_time": "2022-01-03T11:55:04.516Z"
   },
   {
    "duration": 64,
    "start_time": "2022-01-03T11:55:04.536Z"
   },
   {
    "duration": 11,
    "start_time": "2022-01-03T11:55:04.603Z"
   },
   {
    "duration": 12,
    "start_time": "2022-01-03T11:55:04.617Z"
   },
   {
    "duration": 12,
    "start_time": "2022-01-03T11:55:04.631Z"
   },
   {
    "duration": 392,
    "start_time": "2022-01-03T11:55:55.732Z"
   },
   {
    "duration": 6,
    "start_time": "2022-01-03T11:56:13.382Z"
   },
   {
    "duration": 380,
    "start_time": "2022-01-03T11:56:16.292Z"
   },
   {
    "duration": 6,
    "start_time": "2022-01-03T11:56:27.139Z"
   },
   {
    "duration": 6,
    "start_time": "2022-01-03T11:56:30.617Z"
   },
   {
    "duration": 6,
    "start_time": "2022-01-03T11:56:34.771Z"
   },
   {
    "duration": 5,
    "start_time": "2022-01-03T11:56:42.866Z"
   },
   {
    "duration": 7,
    "start_time": "2022-01-03T11:56:45.204Z"
   },
   {
    "duration": 4,
    "start_time": "2022-01-03T11:56:51.672Z"
   },
   {
    "duration": 217,
    "start_time": "2022-01-03T11:56:51.678Z"
   },
   {
    "duration": 17,
    "start_time": "2022-01-03T11:56:51.899Z"
   },
   {
    "duration": 13,
    "start_time": "2022-01-03T11:56:51.919Z"
   },
   {
    "duration": 6,
    "start_time": "2022-01-03T11:56:51.960Z"
   },
   {
    "duration": 16,
    "start_time": "2022-01-03T11:56:51.969Z"
   },
   {
    "duration": 5,
    "start_time": "2022-01-03T11:56:51.987Z"
   },
   {
    "duration": 68,
    "start_time": "2022-01-03T11:56:51.996Z"
   },
   {
    "duration": 22,
    "start_time": "2022-01-03T11:56:52.067Z"
   },
   {
    "duration": 39,
    "start_time": "2022-01-03T11:56:52.092Z"
   },
   {
    "duration": 151,
    "start_time": "2022-01-03T11:56:52.134Z"
   },
   {
    "duration": 154,
    "start_time": "2022-01-03T11:56:52.288Z"
   },
   {
    "duration": 88,
    "start_time": "2022-01-03T11:56:52.445Z"
   },
   {
    "duration": 85,
    "start_time": "2022-01-03T11:56:52.536Z"
   },
   {
    "duration": 4,
    "start_time": "2022-01-03T11:56:52.623Z"
   },
   {
    "duration": 37,
    "start_time": "2022-01-03T11:56:52.630Z"
   },
   {
    "duration": 92,
    "start_time": "2022-01-03T11:56:52.669Z"
   },
   {
    "duration": 18,
    "start_time": "2022-01-03T11:56:52.764Z"
   },
   {
    "duration": 14,
    "start_time": "2022-01-03T11:56:52.785Z"
   },
   {
    "duration": 4,
    "start_time": "2022-01-03T11:56:52.801Z"
   },
   {
    "duration": 61,
    "start_time": "2022-01-03T11:56:52.808Z"
   },
   {
    "duration": 23,
    "start_time": "2022-01-03T11:56:52.872Z"
   },
   {
    "duration": 25,
    "start_time": "2022-01-03T11:56:52.899Z"
   },
   {
    "duration": 51,
    "start_time": "2022-01-03T11:56:52.927Z"
   },
   {
    "duration": 24,
    "start_time": "2022-01-03T11:56:52.981Z"
   },
   {
    "duration": 55,
    "start_time": "2022-01-03T11:56:53.007Z"
   },
   {
    "duration": 12,
    "start_time": "2022-01-03T11:56:53.064Z"
   },
   {
    "duration": 30,
    "start_time": "2022-01-03T11:56:53.078Z"
   },
   {
    "duration": 57,
    "start_time": "2022-01-03T11:56:53.111Z"
   },
   {
    "duration": 5,
    "start_time": "2022-01-03T11:56:53.171Z"
   },
   {
    "duration": 40,
    "start_time": "2022-01-03T11:56:53.179Z"
   },
   {
    "duration": 21,
    "start_time": "2022-01-03T11:56:53.221Z"
   },
   {
    "duration": 41,
    "start_time": "2022-01-03T11:56:53.244Z"
   },
   {
    "duration": 17,
    "start_time": "2022-01-03T11:56:53.288Z"
   },
   {
    "duration": 53,
    "start_time": "2022-01-03T11:56:53.308Z"
   },
   {
    "duration": 11,
    "start_time": "2022-01-03T11:56:53.364Z"
   },
   {
    "duration": 4,
    "start_time": "2022-01-03T11:56:53.377Z"
   },
   {
    "duration": 6,
    "start_time": "2022-01-03T11:56:53.384Z"
   },
   {
    "duration": 3,
    "start_time": "2022-01-03T11:58:41.995Z"
   },
   {
    "duration": 211,
    "start_time": "2022-01-03T11:58:42.000Z"
   },
   {
    "duration": 16,
    "start_time": "2022-01-03T11:58:42.215Z"
   },
   {
    "duration": 29,
    "start_time": "2022-01-03T11:58:42.235Z"
   },
   {
    "duration": 9,
    "start_time": "2022-01-03T11:58:42.267Z"
   },
   {
    "duration": 19,
    "start_time": "2022-01-03T11:58:42.279Z"
   },
   {
    "duration": 7,
    "start_time": "2022-01-03T11:58:42.303Z"
   },
   {
    "duration": 73,
    "start_time": "2022-01-03T11:58:42.314Z"
   },
   {
    "duration": 24,
    "start_time": "2022-01-03T11:58:42.390Z"
   },
   {
    "duration": 49,
    "start_time": "2022-01-03T11:58:42.417Z"
   },
   {
    "duration": 102,
    "start_time": "2022-01-03T11:58:42.468Z"
   },
   {
    "duration": 103,
    "start_time": "2022-01-03T11:58:42.572Z"
   },
   {
    "duration": 86,
    "start_time": "2022-01-03T11:58:42.677Z"
   },
   {
    "duration": 93,
    "start_time": "2022-01-03T11:58:42.768Z"
   },
   {
    "duration": 5,
    "start_time": "2022-01-03T11:58:42.863Z"
   },
   {
    "duration": 18,
    "start_time": "2022-01-03T11:58:42.870Z"
   },
   {
    "duration": 93,
    "start_time": "2022-01-03T11:58:42.890Z"
   },
   {
    "duration": 16,
    "start_time": "2022-01-03T11:58:42.986Z"
   },
   {
    "duration": 18,
    "start_time": "2022-01-03T11:58:43.006Z"
   },
   {
    "duration": 34,
    "start_time": "2022-01-03T11:58:43.027Z"
   },
   {
    "duration": 28,
    "start_time": "2022-01-03T11:58:43.064Z"
   },
   {
    "duration": 25,
    "start_time": "2022-01-03T11:58:43.094Z"
   },
   {
    "duration": 57,
    "start_time": "2022-01-03T11:58:43.121Z"
   },
   {
    "duration": 21,
    "start_time": "2022-01-03T11:58:43.181Z"
   },
   {
    "duration": 57,
    "start_time": "2022-01-03T11:58:43.205Z"
   },
   {
    "duration": 25,
    "start_time": "2022-01-03T11:58:43.264Z"
   },
   {
    "duration": 13,
    "start_time": "2022-01-03T11:58:43.292Z"
   },
   {
    "duration": 67,
    "start_time": "2022-01-03T11:58:43.308Z"
   },
   {
    "duration": 29,
    "start_time": "2022-01-03T11:58:43.377Z"
   },
   {
    "duration": 6,
    "start_time": "2022-01-03T11:58:43.408Z"
   },
   {
    "duration": 55,
    "start_time": "2022-01-03T11:58:43.416Z"
   },
   {
    "duration": 16,
    "start_time": "2022-01-03T11:58:43.473Z"
   },
   {
    "duration": 23,
    "start_time": "2022-01-03T11:58:43.492Z"
   },
   {
    "duration": 50,
    "start_time": "2022-01-03T11:58:43.517Z"
   },
   {
    "duration": 13,
    "start_time": "2022-01-03T11:58:43.569Z"
   },
   {
    "duration": 6,
    "start_time": "2022-01-03T11:58:43.585Z"
   },
   {
    "duration": 3,
    "start_time": "2022-01-03T11:58:43.594Z"
   },
   {
    "duration": 5,
    "start_time": "2022-01-03T11:58:43.599Z"
   },
   {
    "duration": 4,
    "start_time": "2022-01-03T11:59:38.748Z"
   },
   {
    "duration": 194,
    "start_time": "2022-01-03T11:59:38.754Z"
   },
   {
    "duration": 16,
    "start_time": "2022-01-03T11:59:38.951Z"
   },
   {
    "duration": 11,
    "start_time": "2022-01-03T11:59:38.969Z"
   },
   {
    "duration": 5,
    "start_time": "2022-01-03T11:59:38.983Z"
   },
   {
    "duration": 24,
    "start_time": "2022-01-03T11:59:38.990Z"
   },
   {
    "duration": 43,
    "start_time": "2022-01-03T11:59:39.017Z"
   },
   {
    "duration": 30,
    "start_time": "2022-01-03T11:59:39.062Z"
   },
   {
    "duration": 21,
    "start_time": "2022-01-03T11:59:39.096Z"
   },
   {
    "duration": 57,
    "start_time": "2022-01-03T11:59:39.120Z"
   },
   {
    "duration": 99,
    "start_time": "2022-01-03T11:59:39.180Z"
   },
   {
    "duration": 101,
    "start_time": "2022-01-03T11:59:39.282Z"
   },
   {
    "duration": 80,
    "start_time": "2022-01-03T11:59:39.386Z"
   },
   {
    "duration": 74,
    "start_time": "2022-01-03T11:59:39.468Z"
   },
   {
    "duration": 15,
    "start_time": "2022-01-03T11:59:39.545Z"
   },
   {
    "duration": 14,
    "start_time": "2022-01-03T11:59:39.563Z"
   },
   {
    "duration": 95,
    "start_time": "2022-01-03T11:59:39.580Z"
   },
   {
    "duration": 15,
    "start_time": "2022-01-03T11:59:39.678Z"
   },
   {
    "duration": 15,
    "start_time": "2022-01-03T11:59:39.696Z"
   },
   {
    "duration": 5,
    "start_time": "2022-01-03T11:59:39.713Z"
   },
   {
    "duration": 60,
    "start_time": "2022-01-03T11:59:39.720Z"
   },
   {
    "duration": 23,
    "start_time": "2022-01-03T11:59:39.783Z"
   },
   {
    "duration": 55,
    "start_time": "2022-01-03T11:59:39.808Z"
   },
   {
    "duration": 22,
    "start_time": "2022-01-03T11:59:39.866Z"
   },
   {
    "duration": 26,
    "start_time": "2022-01-03T11:59:39.891Z"
   },
   {
    "duration": 57,
    "start_time": "2022-01-03T11:59:39.920Z"
   },
   {
    "duration": 12,
    "start_time": "2022-01-03T11:59:39.984Z"
   },
   {
    "duration": 72,
    "start_time": "2022-01-03T11:59:39.999Z"
   },
   {
    "duration": 30,
    "start_time": "2022-01-03T11:59:40.074Z"
   },
   {
    "duration": 6,
    "start_time": "2022-01-03T11:59:40.107Z"
   },
   {
    "duration": 59,
    "start_time": "2022-01-03T11:59:40.116Z"
   },
   {
    "duration": 17,
    "start_time": "2022-01-03T11:59:40.177Z"
   },
   {
    "duration": 23,
    "start_time": "2022-01-03T11:59:40.196Z"
   },
   {
    "duration": 47,
    "start_time": "2022-01-03T11:59:40.221Z"
   },
   {
    "duration": 15,
    "start_time": "2022-01-03T11:59:40.271Z"
   },
   {
    "duration": 7,
    "start_time": "2022-01-03T11:59:40.289Z"
   },
   {
    "duration": 4,
    "start_time": "2022-01-03T11:59:40.298Z"
   },
   {
    "duration": 6,
    "start_time": "2022-01-03T11:59:40.304Z"
   },
   {
    "duration": 4,
    "start_time": "2022-01-03T12:00:55.425Z"
   },
   {
    "duration": 207,
    "start_time": "2022-01-03T12:00:55.432Z"
   },
   {
    "duration": 21,
    "start_time": "2022-01-03T12:00:55.642Z"
   },
   {
    "duration": 11,
    "start_time": "2022-01-03T12:00:55.666Z"
   },
   {
    "duration": 8,
    "start_time": "2022-01-03T12:00:55.680Z"
   },
   {
    "duration": 17,
    "start_time": "2022-01-03T12:00:55.690Z"
   },
   {
    "duration": 4,
    "start_time": "2022-01-03T12:00:55.711Z"
   },
   {
    "duration": 68,
    "start_time": "2022-01-03T12:00:55.718Z"
   },
   {
    "duration": 23,
    "start_time": "2022-01-03T12:00:55.788Z"
   },
   {
    "duration": 52,
    "start_time": "2022-01-03T12:00:55.813Z"
   },
   {
    "duration": 94,
    "start_time": "2022-01-03T12:00:55.867Z"
   },
   {
    "duration": 97,
    "start_time": "2022-01-03T12:00:55.963Z"
   },
   {
    "duration": 76,
    "start_time": "2022-01-03T12:00:56.063Z"
   },
   {
    "duration": 85,
    "start_time": "2022-01-03T12:00:56.141Z"
   },
   {
    "duration": 5,
    "start_time": "2022-01-03T12:00:56.228Z"
   },
   {
    "duration": 35,
    "start_time": "2022-01-03T12:00:56.235Z"
   },
   {
    "duration": 86,
    "start_time": "2022-01-03T12:00:56.273Z"
   },
   {
    "duration": 15,
    "start_time": "2022-01-03T12:00:56.362Z"
   },
   {
    "duration": 14,
    "start_time": "2022-01-03T12:00:56.382Z"
   },
   {
    "duration": 4,
    "start_time": "2022-01-03T12:00:56.399Z"
   },
   {
    "duration": 62,
    "start_time": "2022-01-03T12:00:56.405Z"
   },
   {
    "duration": 24,
    "start_time": "2022-01-03T12:00:56.470Z"
   },
   {
    "duration": 21,
    "start_time": "2022-01-03T12:00:56.496Z"
   },
   {
    "duration": 50,
    "start_time": "2022-01-03T12:00:56.519Z"
   },
   {
    "duration": 25,
    "start_time": "2022-01-03T12:00:56.571Z"
   },
   {
    "duration": 23,
    "start_time": "2022-01-03T12:00:56.598Z"
   },
   {
    "duration": 45,
    "start_time": "2022-01-03T12:00:56.623Z"
   },
   {
    "duration": 32,
    "start_time": "2022-01-03T12:00:56.671Z"
   },
   {
    "duration": 57,
    "start_time": "2022-01-03T12:00:56.705Z"
   },
   {
    "duration": 5,
    "start_time": "2022-01-03T12:00:56.764Z"
   },
   {
    "duration": 27,
    "start_time": "2022-01-03T12:00:56.771Z"
   },
   {
    "duration": 17,
    "start_time": "2022-01-03T12:00:56.800Z"
   },
   {
    "duration": 56,
    "start_time": "2022-01-03T12:00:56.819Z"
   },
   {
    "duration": 16,
    "start_time": "2022-01-03T12:00:56.877Z"
   },
   {
    "duration": 12,
    "start_time": "2022-01-03T12:00:56.896Z"
   },
   {
    "duration": 6,
    "start_time": "2022-01-03T12:00:56.910Z"
   },
   {
    "duration": 46,
    "start_time": "2022-01-03T12:00:56.919Z"
   },
   {
    "duration": 7,
    "start_time": "2022-01-03T12:00:56.969Z"
   },
   {
    "duration": 552,
    "start_time": "2022-01-04T10:19:53.295Z"
   },
   {
    "duration": 125,
    "start_time": "2022-01-04T10:19:53.848Z"
   },
   {
    "duration": 20,
    "start_time": "2022-01-04T10:19:53.974Z"
   },
   {
    "duration": 13,
    "start_time": "2022-01-04T10:19:53.995Z"
   },
   {
    "duration": 6,
    "start_time": "2022-01-04T10:19:54.009Z"
   },
   {
    "duration": 22,
    "start_time": "2022-01-04T10:19:54.017Z"
   },
   {
    "duration": 3,
    "start_time": "2022-01-04T10:19:54.041Z"
   },
   {
    "duration": 24,
    "start_time": "2022-01-04T10:19:54.046Z"
   },
   {
    "duration": 35,
    "start_time": "2022-01-04T10:19:54.072Z"
   },
   {
    "duration": 25,
    "start_time": "2022-01-04T10:19:54.108Z"
   },
   {
    "duration": 67,
    "start_time": "2022-01-04T10:19:54.134Z"
   },
   {
    "duration": 64,
    "start_time": "2022-01-04T10:19:54.202Z"
   },
   {
    "duration": 66,
    "start_time": "2022-01-04T10:19:54.268Z"
   },
   {
    "duration": 48,
    "start_time": "2022-01-04T10:19:54.335Z"
   },
   {
    "duration": 3,
    "start_time": "2022-01-04T10:19:54.392Z"
   },
   {
    "duration": 28,
    "start_time": "2022-01-04T10:19:54.396Z"
   },
   {
    "duration": 56,
    "start_time": "2022-01-04T10:19:54.426Z"
   },
   {
    "duration": 11,
    "start_time": "2022-01-04T10:19:54.483Z"
   },
   {
    "duration": 11,
    "start_time": "2022-01-04T10:19:54.495Z"
   },
   {
    "duration": 3,
    "start_time": "2022-01-04T10:19:54.507Z"
   },
   {
    "duration": 26,
    "start_time": "2022-01-04T10:19:54.512Z"
   },
   {
    "duration": 15,
    "start_time": "2022-01-04T10:19:54.540Z"
   },
   {
    "duration": 45,
    "start_time": "2022-01-04T10:19:54.558Z"
   },
   {
    "duration": 15,
    "start_time": "2022-01-04T10:19:54.605Z"
   },
   {
    "duration": 19,
    "start_time": "2022-01-04T10:19:54.621Z"
   },
   {
    "duration": 16,
    "start_time": "2022-01-04T10:19:54.642Z"
   },
   {
    "duration": 39,
    "start_time": "2022-01-04T10:19:54.659Z"
   },
   {
    "duration": 19,
    "start_time": "2022-01-04T10:19:54.700Z"
   },
   {
    "duration": 15,
    "start_time": "2022-01-04T10:19:54.721Z"
   },
   {
    "duration": 4,
    "start_time": "2022-01-04T10:19:54.737Z"
   },
   {
    "duration": 21,
    "start_time": "2022-01-04T10:19:54.742Z"
   },
   {
    "duration": 32,
    "start_time": "2022-01-04T10:19:54.764Z"
   },
   {
    "duration": 16,
    "start_time": "2022-01-04T10:19:54.798Z"
   },
   {
    "duration": 11,
    "start_time": "2022-01-04T10:19:54.816Z"
   },
   {
    "duration": 10,
    "start_time": "2022-01-04T10:19:54.828Z"
   },
   {
    "duration": 4,
    "start_time": "2022-01-04T10:19:54.839Z"
   },
   {
    "duration": 9,
    "start_time": "2022-01-04T10:19:54.844Z"
   },
   {
    "duration": 4,
    "start_time": "2022-01-04T10:19:54.854Z"
   },
   {
    "duration": 223,
    "start_time": "2022-01-04T10:30:35.346Z"
   },
   {
    "duration": 565,
    "start_time": "2022-01-04T10:30:42.188Z"
   },
   {
    "duration": 126,
    "start_time": "2022-01-04T10:30:42.755Z"
   },
   {
    "duration": 16,
    "start_time": "2022-01-04T10:30:42.883Z"
   },
   {
    "duration": 22,
    "start_time": "2022-01-04T10:30:42.900Z"
   },
   {
    "duration": 6,
    "start_time": "2022-01-04T10:30:42.924Z"
   },
   {
    "duration": 26,
    "start_time": "2022-01-04T10:30:42.932Z"
   },
   {
    "duration": 4,
    "start_time": "2022-01-04T10:30:42.959Z"
   },
   {
    "duration": 45,
    "start_time": "2022-01-04T10:30:42.965Z"
   },
   {
    "duration": 16,
    "start_time": "2022-01-04T10:30:43.014Z"
   },
   {
    "duration": 21,
    "start_time": "2022-01-04T10:30:43.032Z"
   },
   {
    "duration": 83,
    "start_time": "2022-01-04T10:30:43.055Z"
   },
   {
    "duration": 73,
    "start_time": "2022-01-04T10:30:43.140Z"
   },
   {
    "duration": 47,
    "start_time": "2022-01-04T10:30:43.214Z"
   },
   {
    "duration": 58,
    "start_time": "2022-01-04T10:30:43.263Z"
   },
   {
    "duration": 2,
    "start_time": "2022-01-04T10:30:43.323Z"
   },
   {
    "duration": 12,
    "start_time": "2022-01-04T10:30:43.327Z"
   },
   {
    "duration": 58,
    "start_time": "2022-01-04T10:30:43.340Z"
   },
   {
    "duration": 11,
    "start_time": "2022-01-04T10:30:43.399Z"
   },
   {
    "duration": 10,
    "start_time": "2022-01-04T10:30:43.412Z"
   },
   {
    "duration": 2,
    "start_time": "2022-01-04T10:30:43.424Z"
   },
   {
    "duration": 23,
    "start_time": "2022-01-04T10:30:43.428Z"
   },
   {
    "duration": 48,
    "start_time": "2022-01-04T10:30:43.453Z"
   },
   {
    "duration": 16,
    "start_time": "2022-01-04T10:30:43.503Z"
   },
   {
    "duration": 16,
    "start_time": "2022-01-04T10:30:43.521Z"
   },
   {
    "duration": 18,
    "start_time": "2022-01-04T10:30:43.538Z"
   },
   {
    "duration": 46,
    "start_time": "2022-01-04T10:30:43.558Z"
   },
   {
    "duration": 8,
    "start_time": "2022-01-04T10:30:43.607Z"
   },
   {
    "duration": 20,
    "start_time": "2022-01-04T10:30:43.617Z"
   },
   {
    "duration": 16,
    "start_time": "2022-01-04T10:30:43.639Z"
   },
   {
    "duration": 4,
    "start_time": "2022-01-04T10:30:43.657Z"
   },
   {
    "duration": 46,
    "start_time": "2022-01-04T10:30:43.662Z"
   },
   {
    "duration": 12,
    "start_time": "2022-01-04T10:30:43.709Z"
   },
   {
    "duration": 17,
    "start_time": "2022-01-04T10:30:43.722Z"
   },
   {
    "duration": 12,
    "start_time": "2022-01-04T10:30:43.740Z"
   },
   {
    "duration": 41,
    "start_time": "2022-01-04T10:30:43.753Z"
   },
   {
    "duration": 4,
    "start_time": "2022-01-04T10:30:43.796Z"
   },
   {
    "duration": 8,
    "start_time": "2022-01-04T10:30:43.802Z"
   },
   {
    "duration": 4,
    "start_time": "2022-01-04T10:30:43.812Z"
   },
   {
    "duration": 3,
    "start_time": "2022-01-04T10:32:48.601Z"
   },
   {
    "duration": 140,
    "start_time": "2022-01-04T10:32:48.606Z"
   },
   {
    "duration": 9,
    "start_time": "2022-01-04T10:32:48.748Z"
   },
   {
    "duration": 33,
    "start_time": "2022-01-04T10:32:48.758Z"
   },
   {
    "duration": 4,
    "start_time": "2022-01-04T10:32:48.793Z"
   },
   {
    "duration": 22,
    "start_time": "2022-01-04T10:32:48.798Z"
   },
   {
    "duration": 3,
    "start_time": "2022-01-04T10:32:48.822Z"
   },
   {
    "duration": 20,
    "start_time": "2022-01-04T10:32:48.828Z"
   },
   {
    "duration": 15,
    "start_time": "2022-01-04T10:32:48.850Z"
   },
   {
    "duration": 24,
    "start_time": "2022-01-04T10:32:48.892Z"
   },
   {
    "duration": 52,
    "start_time": "2022-01-04T10:32:48.918Z"
   },
   {
    "duration": 68,
    "start_time": "2022-01-04T10:32:48.971Z"
   },
   {
    "duration": 59,
    "start_time": "2022-01-04T10:32:49.040Z"
   },
   {
    "duration": 40,
    "start_time": "2022-01-04T10:32:49.100Z"
   },
   {
    "duration": 3,
    "start_time": "2022-01-04T10:32:49.142Z"
   },
   {
    "duration": 19,
    "start_time": "2022-01-04T10:32:49.147Z"
   },
   {
    "duration": 66,
    "start_time": "2022-01-04T10:32:49.168Z"
   },
   {
    "duration": 11,
    "start_time": "2022-01-04T10:32:49.236Z"
   },
   {
    "duration": 30,
    "start_time": "2022-01-04T10:32:49.248Z"
   },
   {
    "duration": 9,
    "start_time": "2022-01-04T10:32:49.280Z"
   },
   {
    "duration": 40,
    "start_time": "2022-01-04T10:32:49.291Z"
   },
   {
    "duration": 17,
    "start_time": "2022-01-04T10:32:49.333Z"
   },
   {
    "duration": 17,
    "start_time": "2022-01-04T10:32:49.353Z"
   },
   {
    "duration": 33,
    "start_time": "2022-01-04T10:32:49.372Z"
   },
   {
    "duration": 19,
    "start_time": "2022-01-04T10:32:49.406Z"
   },
   {
    "duration": 23,
    "start_time": "2022-01-04T10:32:49.427Z"
   },
   {
    "duration": 7,
    "start_time": "2022-01-04T10:32:49.452Z"
   },
   {
    "duration": 19,
    "start_time": "2022-01-04T10:32:49.492Z"
   },
   {
    "duration": 23,
    "start_time": "2022-01-04T10:32:49.512Z"
   },
   {
    "duration": 3,
    "start_time": "2022-01-04T10:32:49.537Z"
   },
   {
    "duration": 42,
    "start_time": "2022-01-04T10:32:49.542Z"
   },
   {
    "duration": 24,
    "start_time": "2022-01-04T10:32:49.585Z"
   },
   {
    "duration": 16,
    "start_time": "2022-01-04T10:32:49.611Z"
   },
   {
    "duration": 18,
    "start_time": "2022-01-04T10:32:49.629Z"
   },
   {
    "duration": 15,
    "start_time": "2022-01-04T10:32:49.648Z"
   },
   {
    "duration": 8,
    "start_time": "2022-01-04T10:32:49.665Z"
   },
   {
    "duration": 14,
    "start_time": "2022-01-04T10:32:49.675Z"
   },
   {
    "duration": 34,
    "start_time": "2022-01-04T10:32:49.690Z"
   },
   {
    "duration": 546,
    "start_time": "2022-01-04T11:05:33.904Z"
   },
   {
    "duration": 129,
    "start_time": "2022-01-04T11:05:34.452Z"
   },
   {
    "duration": 20,
    "start_time": "2022-01-04T11:05:34.585Z"
   },
   {
    "duration": 35,
    "start_time": "2022-01-04T11:05:34.606Z"
   },
   {
    "duration": 4,
    "start_time": "2022-01-04T11:05:34.642Z"
   },
   {
    "duration": 22,
    "start_time": "2022-01-04T11:05:34.648Z"
   },
   {
    "duration": 20,
    "start_time": "2022-01-04T11:05:34.672Z"
   },
   {
    "duration": 23,
    "start_time": "2022-01-04T11:05:34.695Z"
   },
   {
    "duration": 16,
    "start_time": "2022-01-04T11:05:34.721Z"
   },
   {
    "duration": 21,
    "start_time": "2022-01-04T11:05:34.739Z"
   },
   {
    "duration": 83,
    "start_time": "2022-01-04T11:05:34.761Z"
   },
   {
    "duration": 70,
    "start_time": "2022-01-04T11:05:34.846Z"
   },
   {
    "duration": 46,
    "start_time": "2022-01-04T11:05:34.918Z"
   },
   {
    "duration": 51,
    "start_time": "2022-01-04T11:05:34.965Z"
   },
   {
    "duration": 3,
    "start_time": "2022-01-04T11:05:35.017Z"
   },
   {
    "duration": 14,
    "start_time": "2022-01-04T11:05:35.022Z"
   },
   {
    "duration": 60,
    "start_time": "2022-01-04T11:05:35.038Z"
   },
   {
    "duration": 10,
    "start_time": "2022-01-04T11:05:35.100Z"
   },
   {
    "duration": 13,
    "start_time": "2022-01-04T11:05:35.111Z"
   },
   {
    "duration": 3,
    "start_time": "2022-01-04T11:05:35.125Z"
   },
   {
    "duration": 21,
    "start_time": "2022-01-04T11:05:35.130Z"
   },
   {
    "duration": 41,
    "start_time": "2022-01-04T11:05:35.152Z"
   },
   {
    "duration": 17,
    "start_time": "2022-01-04T11:05:35.194Z"
   },
   {
    "duration": 15,
    "start_time": "2022-01-04T11:05:35.213Z"
   },
   {
    "duration": 19,
    "start_time": "2022-01-04T11:05:35.229Z"
   },
   {
    "duration": 49,
    "start_time": "2022-01-04T11:05:35.251Z"
   },
   {
    "duration": 8,
    "start_time": "2022-01-04T11:05:35.302Z"
   },
   {
    "duration": 37,
    "start_time": "2022-01-04T11:05:35.312Z"
   },
   {
    "duration": 18,
    "start_time": "2022-01-04T11:05:35.351Z"
   },
   {
    "duration": 25,
    "start_time": "2022-01-04T11:05:35.371Z"
   },
   {
    "duration": 35,
    "start_time": "2022-01-04T11:05:35.398Z"
   },
   {
    "duration": 46,
    "start_time": "2022-01-04T11:05:35.434Z"
   },
   {
    "duration": 37,
    "start_time": "2022-01-04T11:05:35.482Z"
   },
   {
    "duration": 22,
    "start_time": "2022-01-04T11:05:35.520Z"
   },
   {
    "duration": 27,
    "start_time": "2022-01-04T11:05:35.544Z"
   },
   {
    "duration": 13,
    "start_time": "2022-01-04T11:05:35.572Z"
   },
   {
    "duration": 32,
    "start_time": "2022-01-04T11:05:35.586Z"
   },
   {
    "duration": 17,
    "start_time": "2022-01-04T11:05:35.620Z"
   }
  ],
  "colab": {
   "collapsed_sections": [
    "E0vqbgi9ay0H",
    "VUC88oWjTJw2"
   ],
   "name": "yandex_music_project_2021.2.ipynb",
   "provenance": []
  },
  "kernelspec": {
   "display_name": "Python 3 (ipykernel)",
   "language": "python",
   "name": "python3"
  },
  "language_info": {
   "codemirror_mode": {
    "name": "ipython",
    "version": 3
   },
   "file_extension": ".py",
   "mimetype": "text/x-python",
   "name": "python",
   "nbconvert_exporter": "python",
   "pygments_lexer": "ipython3",
   "version": "3.9.7"
  },
  "toc": {
   "base_numbering": 1,
   "nav_menu": {},
   "number_sections": true,
   "sideBar": true,
   "skip_h1_title": true,
   "title_cell": "Table of Contents",
   "title_sidebar": "Contents",
   "toc_cell": false,
   "toc_position": {},
   "toc_section_display": true,
   "toc_window_display": true
  }
 },
 "nbformat": 4,
 "nbformat_minor": 1
}
