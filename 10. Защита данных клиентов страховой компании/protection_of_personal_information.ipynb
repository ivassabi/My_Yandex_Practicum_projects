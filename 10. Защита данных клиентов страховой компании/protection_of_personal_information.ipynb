{
 "cells": [
  {
   "cell_type": "markdown",
   "metadata": {
    "toc": true
   },
   "source": [
    "<h1>Содержание<span class=\"tocSkip\"></span></h1>\n",
    "<div class=\"toc\"><ul class=\"toc-item\"><li><span><a href=\"#Загрузка-данных\" data-toc-modified-id=\"Загрузка-данных-1\"><span class=\"toc-item-num\">1&nbsp;&nbsp;</span>Загрузка данных</a></span></li><li><span><a href=\"#Умножение-матриц\" data-toc-modified-id=\"Умножение-матриц-2\"><span class=\"toc-item-num\">2&nbsp;&nbsp;</span>Умножение матриц</a></span></li><li><span><a href=\"#Алгоритм-преобразования\" data-toc-modified-id=\"Алгоритм-преобразования-3\"><span class=\"toc-item-num\">3&nbsp;&nbsp;</span>Алгоритм преобразования</a></span></li><li><span><a href=\"#Проверка-алгоритма\" data-toc-modified-id=\"Проверка-алгоритма-4\"><span class=\"toc-item-num\">4&nbsp;&nbsp;</span>Проверка алгоритма</a></span></li><li><span><a href=\"#Чек-лист-проверки\" data-toc-modified-id=\"Чек-лист-проверки-5\"><span class=\"toc-item-num\">5&nbsp;&nbsp;</span>Чек-лист проверки</a></span></li></ul></div>"
   ]
  },
  {
   "cell_type": "markdown",
   "metadata": {},
   "source": [
    "# Защита персональных данных клиентов"
   ]
  },
  {
   "cell_type": "markdown",
   "metadata": {},
   "source": [
    "Вам нужно защитить данные клиентов страховой компании «Хоть потоп». Разработайте такой метод преобразования данных, чтобы по ним было сложно восстановить персональную информацию. Обоснуйте корректность его работы.\n",
    "\n",
    "Нужно защитить данные, чтобы при преобразовании качество моделей машинного обучения не ухудшилось. Подбирать наилучшую модель не требуется."
   ]
  },
  {
   "cell_type": "markdown",
   "metadata": {},
   "source": [
    "## Загрузка данных"
   ]
  },
  {
   "cell_type": "code",
   "execution_count": 1,
   "metadata": {},
   "outputs": [],
   "source": [
    "import pandas as pd\n",
    "import numpy as np\n",
    "from numpy.linalg import inv\n",
    "from sklearn.model_selection import train_test_split\n",
    "from sklearn.metrics import r2_score\n",
    "from sklearn.linear_model import LinearRegression\n",
    "import matplotlib.pyplot as plt\n",
    "import seaborn as sns"
   ]
  },
  {
   "cell_type": "code",
   "execution_count": 2,
   "metadata": {
    "scrolled": false
   },
   "outputs": [
    {
     "data": {
      "text/html": [
       "<div>\n",
       "<style scoped>\n",
       "    .dataframe tbody tr th:only-of-type {\n",
       "        vertical-align: middle;\n",
       "    }\n",
       "\n",
       "    .dataframe tbody tr th {\n",
       "        vertical-align: top;\n",
       "    }\n",
       "\n",
       "    .dataframe thead th {\n",
       "        text-align: right;\n",
       "    }\n",
       "</style>\n",
       "<table border=\"1\" class=\"dataframe\">\n",
       "  <thead>\n",
       "    <tr style=\"text-align: right;\">\n",
       "      <th></th>\n",
       "      <th>Пол</th>\n",
       "      <th>Возраст</th>\n",
       "      <th>Зарплата</th>\n",
       "      <th>Члены семьи</th>\n",
       "      <th>Страховые выплаты</th>\n",
       "    </tr>\n",
       "  </thead>\n",
       "  <tbody>\n",
       "    <tr>\n",
       "      <th>0</th>\n",
       "      <td>1</td>\n",
       "      <td>41.0</td>\n",
       "      <td>49600.0</td>\n",
       "      <td>1</td>\n",
       "      <td>0</td>\n",
       "    </tr>\n",
       "    <tr>\n",
       "      <th>1</th>\n",
       "      <td>0</td>\n",
       "      <td>46.0</td>\n",
       "      <td>38000.0</td>\n",
       "      <td>1</td>\n",
       "      <td>1</td>\n",
       "    </tr>\n",
       "    <tr>\n",
       "      <th>2</th>\n",
       "      <td>0</td>\n",
       "      <td>29.0</td>\n",
       "      <td>21000.0</td>\n",
       "      <td>0</td>\n",
       "      <td>0</td>\n",
       "    </tr>\n",
       "    <tr>\n",
       "      <th>3</th>\n",
       "      <td>0</td>\n",
       "      <td>21.0</td>\n",
       "      <td>41700.0</td>\n",
       "      <td>2</td>\n",
       "      <td>0</td>\n",
       "    </tr>\n",
       "    <tr>\n",
       "      <th>4</th>\n",
       "      <td>1</td>\n",
       "      <td>28.0</td>\n",
       "      <td>26100.0</td>\n",
       "      <td>0</td>\n",
       "      <td>0</td>\n",
       "    </tr>\n",
       "  </tbody>\n",
       "</table>\n",
       "</div>"
      ],
      "text/plain": [
       "   Пол  Возраст  Зарплата  Члены семьи  Страховые выплаты\n",
       "0    1     41.0   49600.0            1                  0\n",
       "1    0     46.0   38000.0            1                  1\n",
       "2    0     29.0   21000.0            0                  0\n",
       "3    0     21.0   41700.0            2                  0\n",
       "4    1     28.0   26100.0            0                  0"
      ]
     },
     "execution_count": 2,
     "metadata": {},
     "output_type": "execute_result"
    }
   ],
   "source": [
    "df = pd.read_csv('/datasets/insurance.csv')\n",
    "df.head()"
   ]
  },
  {
   "cell_type": "code",
   "execution_count": 3,
   "metadata": {},
   "outputs": [],
   "source": [
    "def information(df):\n",
    "    print('Вывод таблицы')\n",
    "    display(df.head())\n",
    "    print('')\n",
    "    print('Просмотр инфомации')\n",
    "    print(df.info())\n",
    "    print('')\n",
    "    print('Статистика')\n",
    "    display(df.describe())\n",
    "    print('Пропуски')\n",
    "    print(df.isna().sum())\n",
    "    print('')\n",
    "    print('Дубликаты')\n",
    "    print(df.duplicated().sum())\n",
    "    print('')\n",
    "    sns.heatmap(df.corr(), annot=True, vmin = -1, vmax = 1, cmap= 'coolwarm')\n",
    "    plt.title('Матрица корреляции')\n",
    "    plt.show()  "
   ]
  },
  {
   "cell_type": "code",
   "execution_count": 4,
   "metadata": {
    "scrolled": true
   },
   "outputs": [
    {
     "name": "stdout",
     "output_type": "stream",
     "text": [
      "Вывод таблицы\n"
     ]
    },
    {
     "data": {
      "text/html": [
       "<div>\n",
       "<style scoped>\n",
       "    .dataframe tbody tr th:only-of-type {\n",
       "        vertical-align: middle;\n",
       "    }\n",
       "\n",
       "    .dataframe tbody tr th {\n",
       "        vertical-align: top;\n",
       "    }\n",
       "\n",
       "    .dataframe thead th {\n",
       "        text-align: right;\n",
       "    }\n",
       "</style>\n",
       "<table border=\"1\" class=\"dataframe\">\n",
       "  <thead>\n",
       "    <tr style=\"text-align: right;\">\n",
       "      <th></th>\n",
       "      <th>Пол</th>\n",
       "      <th>Возраст</th>\n",
       "      <th>Зарплата</th>\n",
       "      <th>Члены семьи</th>\n",
       "      <th>Страховые выплаты</th>\n",
       "    </tr>\n",
       "  </thead>\n",
       "  <tbody>\n",
       "    <tr>\n",
       "      <th>0</th>\n",
       "      <td>1</td>\n",
       "      <td>41.0</td>\n",
       "      <td>49600.0</td>\n",
       "      <td>1</td>\n",
       "      <td>0</td>\n",
       "    </tr>\n",
       "    <tr>\n",
       "      <th>1</th>\n",
       "      <td>0</td>\n",
       "      <td>46.0</td>\n",
       "      <td>38000.0</td>\n",
       "      <td>1</td>\n",
       "      <td>1</td>\n",
       "    </tr>\n",
       "    <tr>\n",
       "      <th>2</th>\n",
       "      <td>0</td>\n",
       "      <td>29.0</td>\n",
       "      <td>21000.0</td>\n",
       "      <td>0</td>\n",
       "      <td>0</td>\n",
       "    </tr>\n",
       "    <tr>\n",
       "      <th>3</th>\n",
       "      <td>0</td>\n",
       "      <td>21.0</td>\n",
       "      <td>41700.0</td>\n",
       "      <td>2</td>\n",
       "      <td>0</td>\n",
       "    </tr>\n",
       "    <tr>\n",
       "      <th>4</th>\n",
       "      <td>1</td>\n",
       "      <td>28.0</td>\n",
       "      <td>26100.0</td>\n",
       "      <td>0</td>\n",
       "      <td>0</td>\n",
       "    </tr>\n",
       "  </tbody>\n",
       "</table>\n",
       "</div>"
      ],
      "text/plain": [
       "   Пол  Возраст  Зарплата  Члены семьи  Страховые выплаты\n",
       "0    1     41.0   49600.0            1                  0\n",
       "1    0     46.0   38000.0            1                  1\n",
       "2    0     29.0   21000.0            0                  0\n",
       "3    0     21.0   41700.0            2                  0\n",
       "4    1     28.0   26100.0            0                  0"
      ]
     },
     "metadata": {},
     "output_type": "display_data"
    },
    {
     "name": "stdout",
     "output_type": "stream",
     "text": [
      "\n",
      "Просмотр инфомации\n",
      "<class 'pandas.core.frame.DataFrame'>\n",
      "RangeIndex: 5000 entries, 0 to 4999\n",
      "Data columns (total 5 columns):\n",
      " #   Column             Non-Null Count  Dtype  \n",
      "---  ------             --------------  -----  \n",
      " 0   Пол                5000 non-null   int64  \n",
      " 1   Возраст            5000 non-null   float64\n",
      " 2   Зарплата           5000 non-null   float64\n",
      " 3   Члены семьи        5000 non-null   int64  \n",
      " 4   Страховые выплаты  5000 non-null   int64  \n",
      "dtypes: float64(2), int64(3)\n",
      "memory usage: 195.4 KB\n",
      "None\n",
      "\n",
      "Статистика\n"
     ]
    },
    {
     "data": {
      "text/html": [
       "<div>\n",
       "<style scoped>\n",
       "    .dataframe tbody tr th:only-of-type {\n",
       "        vertical-align: middle;\n",
       "    }\n",
       "\n",
       "    .dataframe tbody tr th {\n",
       "        vertical-align: top;\n",
       "    }\n",
       "\n",
       "    .dataframe thead th {\n",
       "        text-align: right;\n",
       "    }\n",
       "</style>\n",
       "<table border=\"1\" class=\"dataframe\">\n",
       "  <thead>\n",
       "    <tr style=\"text-align: right;\">\n",
       "      <th></th>\n",
       "      <th>Пол</th>\n",
       "      <th>Возраст</th>\n",
       "      <th>Зарплата</th>\n",
       "      <th>Члены семьи</th>\n",
       "      <th>Страховые выплаты</th>\n",
       "    </tr>\n",
       "  </thead>\n",
       "  <tbody>\n",
       "    <tr>\n",
       "      <th>count</th>\n",
       "      <td>5000.000000</td>\n",
       "      <td>5000.000000</td>\n",
       "      <td>5000.000000</td>\n",
       "      <td>5000.000000</td>\n",
       "      <td>5000.000000</td>\n",
       "    </tr>\n",
       "    <tr>\n",
       "      <th>mean</th>\n",
       "      <td>0.499000</td>\n",
       "      <td>30.952800</td>\n",
       "      <td>39916.360000</td>\n",
       "      <td>1.194200</td>\n",
       "      <td>0.148000</td>\n",
       "    </tr>\n",
       "    <tr>\n",
       "      <th>std</th>\n",
       "      <td>0.500049</td>\n",
       "      <td>8.440807</td>\n",
       "      <td>9900.083569</td>\n",
       "      <td>1.091387</td>\n",
       "      <td>0.463183</td>\n",
       "    </tr>\n",
       "    <tr>\n",
       "      <th>min</th>\n",
       "      <td>0.000000</td>\n",
       "      <td>18.000000</td>\n",
       "      <td>5300.000000</td>\n",
       "      <td>0.000000</td>\n",
       "      <td>0.000000</td>\n",
       "    </tr>\n",
       "    <tr>\n",
       "      <th>25%</th>\n",
       "      <td>0.000000</td>\n",
       "      <td>24.000000</td>\n",
       "      <td>33300.000000</td>\n",
       "      <td>0.000000</td>\n",
       "      <td>0.000000</td>\n",
       "    </tr>\n",
       "    <tr>\n",
       "      <th>50%</th>\n",
       "      <td>0.000000</td>\n",
       "      <td>30.000000</td>\n",
       "      <td>40200.000000</td>\n",
       "      <td>1.000000</td>\n",
       "      <td>0.000000</td>\n",
       "    </tr>\n",
       "    <tr>\n",
       "      <th>75%</th>\n",
       "      <td>1.000000</td>\n",
       "      <td>37.000000</td>\n",
       "      <td>46600.000000</td>\n",
       "      <td>2.000000</td>\n",
       "      <td>0.000000</td>\n",
       "    </tr>\n",
       "    <tr>\n",
       "      <th>max</th>\n",
       "      <td>1.000000</td>\n",
       "      <td>65.000000</td>\n",
       "      <td>79000.000000</td>\n",
       "      <td>6.000000</td>\n",
       "      <td>5.000000</td>\n",
       "    </tr>\n",
       "  </tbody>\n",
       "</table>\n",
       "</div>"
      ],
      "text/plain": [
       "               Пол      Возраст      Зарплата  Члены семьи  Страховые выплаты\n",
       "count  5000.000000  5000.000000   5000.000000  5000.000000        5000.000000\n",
       "mean      0.499000    30.952800  39916.360000     1.194200           0.148000\n",
       "std       0.500049     8.440807   9900.083569     1.091387           0.463183\n",
       "min       0.000000    18.000000   5300.000000     0.000000           0.000000\n",
       "25%       0.000000    24.000000  33300.000000     0.000000           0.000000\n",
       "50%       0.000000    30.000000  40200.000000     1.000000           0.000000\n",
       "75%       1.000000    37.000000  46600.000000     2.000000           0.000000\n",
       "max       1.000000    65.000000  79000.000000     6.000000           5.000000"
      ]
     },
     "metadata": {},
     "output_type": "display_data"
    },
    {
     "name": "stdout",
     "output_type": "stream",
     "text": [
      "Пропуски\n",
      "Пол                  0\n",
      "Возраст              0\n",
      "Зарплата             0\n",
      "Члены семьи          0\n",
      "Страховые выплаты    0\n",
      "dtype: int64\n",
      "\n",
      "Дубликаты\n",
      "153\n",
      "\n"
     ]
    },
    {
     "data": {
      "image/png": "[encoded data removed]",
      "text/plain": [
       "<Figure size 432x288 with 2 Axes>"
      ]
     },
     "metadata": {
      "needs_background": "light"
     },
     "output_type": "display_data"
    }
   ],
   "source": [
    "information(df)"
   ]
  },
  {
   "cell_type": "code",
   "execution_count": 5,
   "metadata": {
    "scrolled": true
   },
   "outputs": [
    {
     "data": {
      "image/png": "[encoded data removed]",
      "text/plain": [
       "<Figure size 720x360 with 2 Axes>"
      ]
     },
     "metadata": {
      "needs_background": "light"
     },
     "output_type": "display_data"
    }
   ],
   "source": [
    "plt.figure(figsize=(10,5))\n",
    "ax1 = plt.subplot(1,2,1)\n",
    "ax1 = sns.histplot(df['Зарплата'], kde=True, color = 'green')\n",
    "ax2 = plt.subplot(1,2,2)\n",
    "ax2 = sns.scatterplot(data = df, x = df['Страховые выплаты'], y = df['Возраст'])\n",
    "plt.show()"
   ]
  },
  {
   "cell_type": "markdown",
   "metadata": {},
   "source": [
    "# Вывод:\n",
    "1. Нам представлена таблица, состоящая из 5000 строк и 5 столбцов, из которых 3 типа int и 2 типа float. Пропусков не обнаружено\n",
    "2. Было выявлено 153 дубликата, которые впоследствии были удалены.\n",
    "3. Присутствует средняя связь (0,65) между признаком **Возраст** и целевым признаком **Страховые выплаты**\n",
    "4. Распределение признака **Зарплата** нормальное с медианой и средним в районе 40000, что говорит нам о том, что нет каких-либо сильных выбросов"
   ]
  },
  {
   "cell_type": "markdown",
   "metadata": {},
   "source": [
    "## Умножение матриц"
   ]
  },
  {
   "cell_type": "markdown",
   "metadata": {},
   "source": [
    "В этом задании вы можете записывать формулы в *Jupyter Notebook.*\n",
    "\n",
    "Чтобы записать формулу внутри текста, окружите её символами доллара \\\\$; если снаружи —  двойными символами \\\\$\\\\$. Эти формулы записываются на языке вёрстки *LaTeX.* \n",
    "\n",
    "Для примера мы записали формулы линейной регрессии. Можете их скопировать и отредактировать, чтобы решить задачу.\n",
    "\n",
    "Работать в *LaTeX* необязательно."
   ]
  },
  {
   "cell_type": "markdown",
   "metadata": {},
   "source": [
    "Обозначения:\n",
    "\n",
    "- $X$ — матрица признаков (нулевой столбец состоит из единиц)\n",
    "\n",
    "- $y$ — вектор целевого признака\n",
    "\n",
    "- $P$ — матрица, на которую умножаются признаки\n",
    "\n",
    "- $w$ — вектор весов линейной регрессии (нулевой элемент равен сдвигу)"
   ]
  },
  {
   "cell_type": "markdown",
   "metadata": {},
   "source": [
    "Предсказания:\n",
    "\n",
    "$$\n",
    "a = Xw\n",
    "$$\n",
    "\n",
    "Задача обучения:\n",
    "\n",
    "$$\n",
    "w = \\arg\\min_w MSE(Xw, y)\n",
    "$$\n",
    "\n",
    "Формула обучения:\n",
    "\n",
    "$$\n",
    "w = (X^T X)^{-1} X^T y\n",
    "$$"
   ]
  },
  {
   "cell_type": "markdown",
   "metadata": {},
   "source": [
    "Свойства матриц, которые могут нам понадобится для дальнейшего доказательства:\n",
    "\n",
    "_Ассоциативный (сочетательный) закон умножения:_\n",
    " \n",
    " $ A(BС) = (АВ)С$\n",
    " \n",
    "_Свойства операции транспонирования матриц:_  \n",
    " \n",
    "1.$(A^T)^T = A$   \n",
    "2.$(A+B)^T = B^T+A^T$  \n",
    "3.$(AB)^T = B^TA^T$  \n",
    "\n",
    "_Свойства обратной матрицы:_  \n",
    "\n",
    "1.$(AB)^{−1}=B^{−1}A^{−1}$  \n",
    "2.$(A^T)^{−1}=(A^{−1})^T$  \n",
    "3.$(kA)^{−1}=k^{−1}A^{−1}$  "
   ]
  },
  {
   "cell_type": "markdown",
   "metadata": {},
   "source": [
    "**Ответ:** Качество линейной регрессии не изменится, если ее признаки умножить на обратимую матрицу\n",
    "\n",
    "**Обоснование:** \n",
    "Примем Х за XP, где P - это обратимая матрица.  \n",
    "Тогда:  $w_{XP} = ((XP)^T(XP))^{-1}(XP)^{-1}y = $  \n",
    "$ = (P^TX^TXP)^{-1}X^TX^Ty = $  \n",
    "$ = P^{-1}(X^TX)^{-1}(P^T)^{-1}P^TX^Ty =$   \n",
    "$ = P^{-1}(X^TX)^{-1}X^Ty$  \n",
    "или $P^{-1}w$    \n",
    "Тогда:\n",
    "$a_{XP} = XPP^{-1}w = Xw$ "
   ]
  },
  {
   "cell_type": "markdown",
   "metadata": {},
   "source": [
    "## Алгоритм преобразования"
   ]
  },
  {
   "cell_type": "markdown",
   "metadata": {},
   "source": [
    "**Алгоритм**\n",
    "\n",
    "Преобразуем признаки описанным выше способом, т.е. перемножим их на обратимую матрицу. \n",
    "1. Сгенерируем матрицу 4х4 (т.к. 4 столбца в таблице с признаками)\n",
    "2. Преобразуем в обратную\n",
    "3. Перемножим их\n",
    "4. Проверим результат"
   ]
  },
  {
   "cell_type": "markdown",
   "metadata": {},
   "source": [
    "**Обоснование**"
   ]
  },
  {
   "cell_type": "markdown",
   "metadata": {},
   "source": [
    "Создадим матрицу 4х4"
   ]
  },
  {
   "cell_type": "code",
   "execution_count": 6,
   "metadata": {
    "scrolled": false
   },
   "outputs": [
    {
     "data": {
      "text/plain": [
       "array([[0.4885483 , 0.02863222, 0.51892642, 0.3406231 ],\n",
       "       [0.26508587, 0.48974606, 0.42380699, 0.91129237],\n",
       "       [0.34817993, 0.318543  , 0.47990042, 0.46941181],\n",
       "       [0.24787067, 0.09232926, 0.03715191, 0.78794946]])"
      ]
     },
     "execution_count": 6,
     "metadata": {},
     "output_type": "execute_result"
    }
   ],
   "source": [
    "matrix = np.random.sample((4,4))\n",
    "matrix"
   ]
  },
  {
   "cell_type": "code",
   "execution_count": 7,
   "metadata": {},
   "outputs": [],
   "source": [
    "def rnd_matrix(n):\n",
    "    random_matrix = np.random.normal(size=(n, n))\n",
    "    try:\n",
    "        np.linalg.inv(random_matrix) \n",
    "    except LinAlgError: \n",
    "        rnd_matrix(n)\n",
    "    return random_matrix"
   ]
  },
  {
   "cell_type": "code",
   "execution_count": 18,
   "metadata": {
    "scrolled": true
   },
   "outputs": [
    {
     "data": {
      "text/plain": [
       "array([[-0.152708  ,  1.47537867, -0.40696817,  1.30051537],\n",
       "       [ 0.37603091, -0.95156099, -1.21155686, -1.97471359],\n",
       "       [-0.11471848,  1.9338461 , -0.58285964, -0.78138758],\n",
       "       [ 1.98341784,  1.25656616,  0.94817329,  1.98537881]])"
      ]
     },
     "execution_count": 18,
     "metadata": {},
     "output_type": "execute_result"
    }
   ],
   "source": [
    "matrix2 = rnd_matrix(4)\n",
    "matrix2"
   ]
  },
  {
   "cell_type": "code",
   "execution_count": 19,
   "metadata": {
    "scrolled": true
   },
   "outputs": [
    {
     "data": {
      "text/plain": [
       "array([[ 1.00000000e+00,  2.51892121e-17, -7.97057125e-17,\n",
       "        -1.28078984e-18],\n",
       "       [ 1.64239891e-16,  1.00000000e+00, -2.07969351e-16,\n",
       "         6.39224436e-18],\n",
       "       [ 7.31026364e-17,  9.71203844e-17,  1.00000000e+00,\n",
       "        -6.40285556e-18],\n",
       "       [-8.83831322e-17, -3.46618432e-17, -1.00440424e-16,\n",
       "         1.00000000e+00]])"
      ]
     },
     "execution_count": 19,
     "metadata": {},
     "output_type": "execute_result"
    }
   ],
   "source": [
    "matrix2 @ inv(matrix2)"
   ]
  },
  {
   "cell_type": "markdown",
   "metadata": {},
   "source": [
    "<b> Спасибо за функцию, поправила и для себя сделала проверку </b>"
   ]
  },
  {
   "cell_type": "markdown",
   "metadata": {},
   "source": [
    "Получим обратную ей при помощи функции numpy.linalg.inv()"
   ]
  },
  {
   "cell_type": "code",
   "execution_count": 8,
   "metadata": {},
   "outputs": [
    {
     "data": {
      "text/plain": [
       "array([[ -5.40490406,  -9.93021406,  14.19881999,   5.36236137],\n",
       "       [ -6.22003613,  -5.31956837,  11.25843369,   2.13405611],\n",
       "       [  5.94838859,   7.41218586, -10.51646111,  -4.87883572],\n",
       "       [  2.14863339,   3.3976592 ,  -5.28999312,  -0.4377817 ]])"
      ]
     },
     "execution_count": 8,
     "metadata": {},
     "output_type": "execute_result"
    }
   ],
   "source": [
    "inv_matrix = inv(matrix)\n",
    "inv_matrix"
   ]
  },
  {
   "cell_type": "markdown",
   "metadata": {},
   "source": [
    "Перемножим их и проверим результат. Согласно формуле $AA^{-1} = A^{-1}A = E$ , у нас должна получиться единичная матрица"
   ]
  },
  {
   "cell_type": "code",
   "execution_count": 9,
   "metadata": {
    "scrolled": true
   },
   "outputs": [
    {
     "data": {
      "text/plain": [
       "array([[ 1.00000000e+00, -4.34417062e-16,  1.88378335e-16,\n",
       "         4.63679623e-17],\n",
       "       [ 4.02407896e-16,  1.00000000e+00,  1.84323990e-15,\n",
       "        -2.30909908e-17],\n",
       "       [ 4.40475074e-17, -6.10284368e-16,  1.00000000e+00,\n",
       "         1.00708806e-16],\n",
       "       [ 2.62709149e-16,  4.43943094e-16,  5.13735131e-16,\n",
       "         1.00000000e+00]])"
      ]
     },
     "execution_count": 9,
     "metadata": {},
     "output_type": "execute_result"
    }
   ],
   "source": [
    "matrix @ inv_matrix"
   ]
  },
  {
   "cell_type": "markdown",
   "metadata": {},
   "source": [
    "Сошлось, генеральная диагональ состоит из единиц, остальные значания близки к нулю"
   ]
  },
  {
   "cell_type": "markdown",
   "metadata": {},
   "source": [
    "## Проверка алгоритма"
   ]
  },
  {
   "cell_type": "code",
   "execution_count": 10,
   "metadata": {},
   "outputs": [],
   "source": [
    "features = df.drop('Страховые выплаты', axis=1)\n",
    "target = df['Страховые выплаты']"
   ]
  },
  {
   "cell_type": "code",
   "execution_count": 11,
   "metadata": {
    "scrolled": true
   },
   "outputs": [
    {
     "name": "stdout",
     "output_type": "stream",
     "text": [
      "(3750, 4)\n",
      "(3750,)\n",
      "(1250, 4)\n",
      "(1250,)\n"
     ]
    }
   ],
   "source": [
    "features_train, features_test, target_train, target_test = train_test_split(features, target, test_size = 0.25, random_state=42)\n",
    "print(features_train.shape)\n",
    "print(target_train.shape)\n",
    "print(features_test.shape)\n",
    "print(target_test.shape)"
   ]
  },
  {
   "cell_type": "code",
   "execution_count": 12,
   "metadata": {},
   "outputs": [
    {
     "name": "stdout",
     "output_type": "stream",
     "text": [
      "(3750, 4)\n",
      "(1250, 4)\n"
     ]
    }
   ],
   "source": [
    "encod_features_train = features_train @ matrix\n",
    "encod_features_test = features_test @ matrix\n",
    "print(encod_features_train.shape)\n",
    "print(encod_features_test.shape)"
   ]
  },
  {
   "cell_type": "code",
   "execution_count": 21,
   "metadata": {},
   "outputs": [
    {
     "data": {
      "text/html": [
       "<div>\n",
       "<style scoped>\n",
       "    .dataframe tbody tr th:only-of-type {\n",
       "        vertical-align: middle;\n",
       "    }\n",
       "\n",
       "    .dataframe tbody tr th {\n",
       "        vertical-align: top;\n",
       "    }\n",
       "\n",
       "    .dataframe thead th {\n",
       "        text-align: right;\n",
       "    }\n",
       "</style>\n",
       "<table border=\"1\" class=\"dataframe\">\n",
       "  <thead>\n",
       "    <tr style=\"text-align: right;\">\n",
       "      <th></th>\n",
       "      <th>0</th>\n",
       "      <th>1</th>\n",
       "      <th>2</th>\n",
       "      <th>3</th>\n",
       "    </tr>\n",
       "  </thead>\n",
       "  <tbody>\n",
       "    <tr>\n",
       "      <th>4884</th>\n",
       "      <td>14005.845934</td>\n",
       "      <td>12822.080030</td>\n",
       "      <td>19306.406418</td>\n",
       "      <td>18901.338521</td>\n",
       "    </tr>\n",
       "    <tr>\n",
       "      <th>3163</th>\n",
       "      <td>11600.736372</td>\n",
       "      <td>10618.838442</td>\n",
       "      <td>15990.468779</td>\n",
       "      <td>15653.160797</td>\n",
       "    </tr>\n",
       "    <tr>\n",
       "      <th>490</th>\n",
       "      <td>15189.657681</td>\n",
       "      <td>13905.126236</td>\n",
       "      <td>20938.067855</td>\n",
       "      <td>20497.338660</td>\n",
       "    </tr>\n",
       "    <tr>\n",
       "      <th>862</th>\n",
       "      <td>12057.304940</td>\n",
       "      <td>11039.339675</td>\n",
       "      <td>16620.367745</td>\n",
       "      <td>16275.583568</td>\n",
       "    </tr>\n",
       "    <tr>\n",
       "      <th>1740</th>\n",
       "      <td>14285.167917</td>\n",
       "      <td>13077.986253</td>\n",
       "      <td>19691.211522</td>\n",
       "      <td>19279.478500</td>\n",
       "    </tr>\n",
       "    <tr>\n",
       "      <th>...</th>\n",
       "      <td>...</td>\n",
       "      <td>...</td>\n",
       "      <td>...</td>\n",
       "      <td>...</td>\n",
       "    </tr>\n",
       "    <tr>\n",
       "      <th>4426</th>\n",
       "      <td>12646.542740</td>\n",
       "      <td>11575.567900</td>\n",
       "      <td>17431.573738</td>\n",
       "      <td>17064.347370</td>\n",
       "    </tr>\n",
       "    <tr>\n",
       "      <th>466</th>\n",
       "      <td>8957.715537</td>\n",
       "      <td>8202.993749</td>\n",
       "      <td>12347.537942</td>\n",
       "      <td>12096.319898</td>\n",
       "    </tr>\n",
       "    <tr>\n",
       "      <th>3092</th>\n",
       "      <td>16200.928357</td>\n",
       "      <td>14830.888557</td>\n",
       "      <td>22331.993234</td>\n",
       "      <td>21862.618688</td>\n",
       "    </tr>\n",
       "    <tr>\n",
       "      <th>3772</th>\n",
       "      <td>12508.895715</td>\n",
       "      <td>11451.884009</td>\n",
       "      <td>17242.929722</td>\n",
       "      <td>16882.297088</td>\n",
       "    </tr>\n",
       "    <tr>\n",
       "      <th>860</th>\n",
       "      <td>15436.795315</td>\n",
       "      <td>14133.678202</td>\n",
       "      <td>21278.734331</td>\n",
       "      <td>20837.527038</td>\n",
       "    </tr>\n",
       "  </tbody>\n",
       "</table>\n",
       "<p>3750 rows × 4 columns</p>\n",
       "</div>"
      ],
      "text/plain": [
       "                 0             1             2             3\n",
       "4884  14005.845934  12822.080030  19306.406418  18901.338521\n",
       "3163  11600.736372  10618.838442  15990.468779  15653.160797\n",
       "490   15189.657681  13905.126236  20938.067855  20497.338660\n",
       "862   12057.304940  11039.339675  16620.367745  16275.583568\n",
       "1740  14285.167917  13077.986253  19691.211522  19279.478500\n",
       "...            ...           ...           ...           ...\n",
       "4426  12646.542740  11575.567900  17431.573738  17064.347370\n",
       "466    8957.715537   8202.993749  12347.537942  12096.319898\n",
       "3092  16200.928357  14830.888557  22331.993234  21862.618688\n",
       "3772  12508.895715  11451.884009  17242.929722  16882.297088\n",
       "860   15436.795315  14133.678202  21278.734331  20837.527038\n",
       "\n",
       "[3750 rows x 4 columns]"
      ]
     },
     "execution_count": 21,
     "metadata": {},
     "output_type": "execute_result"
    }
   ],
   "source": [
    "encod_features_train"
   ]
  },
  {
   "cell_type": "code",
   "execution_count": 13,
   "metadata": {},
   "outputs": [
    {
     "name": "stdout",
     "output_type": "stream",
     "text": [
      "Значение r2: 0.4254778541\n"
     ]
    }
   ],
   "source": [
    "model = LinearRegression()\n",
    "model.fit(features_train, target_train)\n",
    "prediction = model.predict(features_test)\n",
    "r2 = r2_score(target_test, prediction)\n",
    "print(f\"Значение r2: {r2:.10f}\")"
   ]
  },
  {
   "cell_type": "code",
   "execution_count": 14,
   "metadata": {},
   "outputs": [
    {
     "name": "stdout",
     "output_type": "stream",
     "text": [
      "Значение r2: 0.4254778541\n"
     ]
    }
   ],
   "source": [
    "model_encod = LinearRegression()\n",
    "model_encod.fit(encod_features_train, target_train)\n",
    "prediction_encod = model_encod.predict(encod_features_test)\n",
    "r2_encod = r2_score(target_test, prediction_encod)\n",
    "print(f\"Значение r2: {r2_encod:.10f}\")"
   ]
  },
  {
   "cell_type": "markdown",
   "metadata": {},
   "source": [
    "# Вывод:\n",
    "Коэффициент детерминации (r2) у модели с исходными признаками и модели с признаками, умножененными на обратитмую матрицу одинаковые."
   ]
  }
 ],
 "metadata": {
  "ExecuteTimeLog": [
   {
    "duration": 1848,
    "start_time": "2022-05-08T18:27:14.323Z"
   },
   {
    "duration": 20,
    "start_time": "2022-05-08T18:29:12.563Z"
   },
   {
    "duration": 34,
    "start_time": "2022-05-08T18:29:19.840Z"
   },
   {
    "duration": 8,
    "start_time": "2022-05-08T18:40:20.481Z"
   },
   {
    "duration": 150,
    "start_time": "2022-05-08T18:40:59.650Z"
   },
   {
    "duration": 10,
    "start_time": "2022-05-08T18:41:33.793Z"
   },
   {
    "duration": 16,
    "start_time": "2022-05-08T18:43:16.881Z"
   },
   {
    "duration": 73,
    "start_time": "2022-05-10T16:56:57.535Z"
   },
   {
    "duration": 2110,
    "start_time": "2022-05-10T16:57:07.162Z"
   },
   {
    "duration": 65,
    "start_time": "2022-05-10T16:57:09.276Z"
   },
   {
    "duration": 5,
    "start_time": "2022-05-10T16:57:09.344Z"
   },
   {
    "duration": 22,
    "start_time": "2022-05-10T16:57:09.353Z"
   },
   {
    "duration": 167,
    "start_time": "2022-05-10T16:57:09.378Z"
   },
   {
    "duration": 0,
    "start_time": "2022-05-10T16:57:09.547Z"
   },
   {
    "duration": 0,
    "start_time": "2022-05-10T16:57:09.548Z"
   },
   {
    "duration": 11,
    "start_time": "2022-05-10T16:57:59.924Z"
   },
   {
    "duration": 32,
    "start_time": "2022-05-10T16:58:29.687Z"
   },
   {
    "duration": 1695,
    "start_time": "2022-05-10T18:39:36.666Z"
   },
   {
    "duration": 48,
    "start_time": "2022-05-10T18:39:38.365Z"
   },
   {
    "duration": 5,
    "start_time": "2022-05-10T18:39:38.415Z"
   },
   {
    "duration": 34,
    "start_time": "2022-05-10T18:39:38.425Z"
   },
   {
    "duration": 39,
    "start_time": "2022-05-10T18:39:38.462Z"
   },
   {
    "duration": 8,
    "start_time": "2022-05-10T18:39:38.503Z"
   },
   {
    "duration": 9,
    "start_time": "2022-05-10T18:39:38.529Z"
   },
   {
    "duration": 6,
    "start_time": "2022-05-10T18:40:09.063Z"
   },
   {
    "duration": 67,
    "start_time": "2022-05-10T18:42:33.693Z"
   },
   {
    "duration": 9,
    "start_time": "2022-05-10T18:42:54.321Z"
   },
   {
    "duration": 60,
    "start_time": "2022-05-10T18:42:55.250Z"
   },
   {
    "duration": 5,
    "start_time": "2022-05-10T18:43:26.286Z"
   },
   {
    "duration": 71,
    "start_time": "2022-05-10T18:43:26.713Z"
   },
   {
    "duration": 159,
    "start_time": "2022-05-10T18:45:50.420Z"
   },
   {
    "duration": 9,
    "start_time": "2022-05-10T18:46:08.338Z"
   },
   {
    "duration": 24,
    "start_time": "2022-05-10T18:46:42.877Z"
   },
   {
    "duration": 15,
    "start_time": "2022-05-10T18:47:36.053Z"
   },
   {
    "duration": 27,
    "start_time": "2022-05-10T18:47:54.658Z"
   },
   {
    "duration": 22,
    "start_time": "2022-05-10T18:48:06.468Z"
   },
   {
    "duration": 25,
    "start_time": "2022-05-10T18:48:18.320Z"
   },
   {
    "duration": 14,
    "start_time": "2022-05-10T18:48:36.266Z"
   },
   {
    "duration": 781,
    "start_time": "2022-05-10T18:49:47.492Z"
   },
   {
    "duration": 6,
    "start_time": "2022-05-10T18:55:59.165Z"
   },
   {
    "duration": 635,
    "start_time": "2022-05-10T18:57:15.902Z"
   },
   {
    "duration": 241,
    "start_time": "2022-05-10T18:59:56.392Z"
   },
   {
    "duration": 2136,
    "start_time": "2022-05-10T19:00:10.575Z"
   },
   {
    "duration": 2152,
    "start_time": "2022-05-10T19:00:43.265Z"
   },
   {
    "duration": 349,
    "start_time": "2022-05-10T19:00:48.791Z"
   },
   {
    "duration": 374,
    "start_time": "2022-05-10T19:04:49.460Z"
   },
   {
    "duration": 1795,
    "start_time": "2022-05-10T19:05:28.439Z"
   },
   {
    "duration": 263,
    "start_time": "2022-05-10T19:05:40.625Z"
   },
   {
    "duration": 462,
    "start_time": "2022-05-10T19:06:30.068Z"
   },
   {
    "duration": 356,
    "start_time": "2022-05-10T19:06:39.592Z"
   },
   {
    "duration": 345,
    "start_time": "2022-05-10T19:07:15.902Z"
   },
   {
    "duration": 470,
    "start_time": "2022-05-10T19:08:04.513Z"
   },
   {
    "duration": 497,
    "start_time": "2022-05-10T19:08:58.796Z"
   },
   {
    "duration": 464,
    "start_time": "2022-05-10T19:09:07.142Z"
   },
   {
    "duration": 537,
    "start_time": "2022-05-10T19:09:12.814Z"
   },
   {
    "duration": 643,
    "start_time": "2022-05-10T19:09:19.202Z"
   },
   {
    "duration": 561,
    "start_time": "2022-05-10T19:09:44.212Z"
   },
   {
    "duration": 756,
    "start_time": "2022-05-10T19:10:08.071Z"
   },
   {
    "duration": 10,
    "start_time": "2022-05-10T19:11:33.255Z"
   },
   {
    "duration": 863,
    "start_time": "2022-05-10T19:11:54.840Z"
   },
   {
    "duration": 2771,
    "start_time": "2022-05-10T19:12:59.402Z"
   },
   {
    "duration": 44,
    "start_time": "2022-05-10T19:13:02.178Z"
   },
   {
    "duration": 14,
    "start_time": "2022-05-10T19:13:02.225Z"
   },
   {
    "duration": 50,
    "start_time": "2022-05-10T19:13:02.251Z"
   },
   {
    "duration": 815,
    "start_time": "2022-05-10T19:13:02.304Z"
   },
   {
    "duration": 811,
    "start_time": "2022-05-10T19:13:03.123Z"
   },
   {
    "duration": 58,
    "start_time": "2022-05-11T10:32:47.724Z"
   },
   {
    "duration": 7,
    "start_time": "2022-05-11T10:34:46.804Z"
   },
   {
    "duration": 1896,
    "start_time": "2022-05-11T10:35:01.291Z"
   },
   {
    "duration": 21,
    "start_time": "2022-05-11T10:35:03.189Z"
   },
   {
    "duration": 12,
    "start_time": "2022-05-11T10:35:03.212Z"
   },
   {
    "duration": 27,
    "start_time": "2022-05-11T10:35:03.226Z"
   },
   {
    "duration": 511,
    "start_time": "2022-05-11T10:35:03.255Z"
   },
   {
    "duration": 404,
    "start_time": "2022-05-11T10:35:03.768Z"
   },
   {
    "duration": 1901,
    "start_time": "2022-05-11T10:35:04.174Z"
   },
   {
    "duration": 3,
    "start_time": "2022-05-11T10:37:10.107Z"
   },
   {
    "duration": 1104,
    "start_time": "2022-05-11T10:37:16.879Z"
   },
   {
    "duration": 3,
    "start_time": "2022-05-11T10:38:15.378Z"
   },
   {
    "duration": 8,
    "start_time": "2022-05-11T10:38:20.651Z"
   },
   {
    "duration": 4,
    "start_time": "2022-05-11T10:40:21.904Z"
   },
   {
    "duration": 3,
    "start_time": "2022-05-11T10:41:02.369Z"
   },
   {
    "duration": 17,
    "start_time": "2022-05-11T10:41:10.959Z"
   },
   {
    "duration": 5,
    "start_time": "2022-05-11T10:46:46.547Z"
   },
   {
    "duration": 8,
    "start_time": "2022-05-11T10:54:37.537Z"
   },
   {
    "duration": 3,
    "start_time": "2022-05-11T10:55:10.399Z"
   },
   {
    "duration": 8,
    "start_time": "2022-05-11T10:55:53.637Z"
   },
   {
    "duration": 24,
    "start_time": "2022-05-11T10:56:42.428Z"
   },
   {
    "duration": 7,
    "start_time": "2022-05-11T10:59:33.325Z"
   },
   {
    "duration": 6,
    "start_time": "2022-05-11T10:59:55.875Z"
   },
   {
    "duration": 7,
    "start_time": "2022-05-11T11:00:34.522Z"
   },
   {
    "duration": 3,
    "start_time": "2022-05-11T11:05:29.596Z"
   },
   {
    "duration": 3,
    "start_time": "2022-05-11T11:05:54.382Z"
   },
   {
    "duration": 10,
    "start_time": "2022-05-11T11:08:20.698Z"
   },
   {
    "duration": 11,
    "start_time": "2022-05-11T11:08:34.428Z"
   },
   {
    "duration": 7,
    "start_time": "2022-05-11T11:11:37.292Z"
   },
   {
    "duration": 20,
    "start_time": "2022-05-11T11:12:07.438Z"
   },
   {
    "duration": 22,
    "start_time": "2022-05-11T11:12:15.748Z"
   },
   {
    "duration": 4,
    "start_time": "2022-05-11T11:12:25.008Z"
   },
   {
    "duration": 15,
    "start_time": "2022-05-11T11:12:30.374Z"
   },
   {
    "duration": 4,
    "start_time": "2022-05-11T11:17:55.526Z"
   },
   {
    "duration": 5,
    "start_time": "2022-05-11T11:18:45.077Z"
   },
   {
    "duration": 11,
    "start_time": "2022-05-11T11:20:39.845Z"
   },
   {
    "duration": 8,
    "start_time": "2022-05-11T11:21:30.236Z"
   },
   {
    "duration": 7,
    "start_time": "2022-05-11T11:27:57.646Z"
   },
   {
    "duration": 2277,
    "start_time": "2022-05-11T19:37:59.168Z"
   },
   {
    "duration": 39,
    "start_time": "2022-05-11T19:38:01.448Z"
   },
   {
    "duration": 5,
    "start_time": "2022-05-11T19:38:01.489Z"
   },
   {
    "duration": 632,
    "start_time": "2022-05-11T19:38:01.497Z"
   },
   {
    "duration": 470,
    "start_time": "2022-05-11T19:38:02.132Z"
   },
   {
    "duration": 5,
    "start_time": "2022-05-11T19:38:02.605Z"
   },
   {
    "duration": 10,
    "start_time": "2022-05-11T19:38:02.613Z"
   },
   {
    "duration": 51,
    "start_time": "2022-05-11T19:38:02.625Z"
   },
   {
    "duration": 92,
    "start_time": "2022-05-11T19:38:02.679Z"
   },
   {
    "duration": 8,
    "start_time": "2022-05-11T19:38:02.774Z"
   },
   {
    "duration": 5,
    "start_time": "2022-05-11T19:38:02.784Z"
   },
   {
    "duration": 11,
    "start_time": "2022-05-11T19:38:02.791Z"
   },
   {
    "duration": 108,
    "start_time": "2022-05-11T19:38:02.872Z"
   },
   {
    "duration": 9,
    "start_time": "2022-05-12T05:43:09.177Z"
   },
   {
    "duration": 4,
    "start_time": "2022-05-12T05:43:16.139Z"
   },
   {
    "duration": 1833,
    "start_time": "2022-05-12T05:43:23.251Z"
   },
   {
    "duration": 22,
    "start_time": "2022-05-12T05:43:25.086Z"
   },
   {
    "duration": 4,
    "start_time": "2022-05-12T05:43:25.110Z"
   },
   {
    "duration": 487,
    "start_time": "2022-05-12T05:43:25.116Z"
   },
   {
    "duration": 294,
    "start_time": "2022-05-12T05:43:25.605Z"
   },
   {
    "duration": 5,
    "start_time": "2022-05-12T05:43:25.900Z"
   },
   {
    "duration": 6,
    "start_time": "2022-05-12T05:43:25.907Z"
   },
   {
    "duration": 30,
    "start_time": "2022-05-12T05:43:25.915Z"
   },
   {
    "duration": 7,
    "start_time": "2022-05-12T05:43:25.949Z"
   },
   {
    "duration": 86,
    "start_time": "2022-05-12T05:43:25.959Z"
   },
   {
    "duration": 11,
    "start_time": "2022-05-12T05:43:26.048Z"
   },
   {
    "duration": 5,
    "start_time": "2022-05-12T05:43:26.061Z"
   },
   {
    "duration": 77,
    "start_time": "2022-05-12T05:43:26.067Z"
   },
   {
    "duration": 98,
    "start_time": "2022-05-12T05:43:26.146Z"
   },
   {
    "duration": 4,
    "start_time": "2022-05-12T05:44:31.736Z"
   },
   {
    "duration": 7,
    "start_time": "2022-05-12T05:44:39.376Z"
   },
   {
    "duration": 5,
    "start_time": "2022-05-12T05:45:22.447Z"
   },
   {
    "duration": 6,
    "start_time": "2022-05-12T05:48:08.348Z"
   },
   {
    "duration": 5,
    "start_time": "2022-05-12T05:48:22.718Z"
   },
   {
    "duration": 138,
    "start_time": "2022-05-12T06:06:44.493Z"
   },
   {
    "duration": 12,
    "start_time": "2022-05-12T06:11:06.859Z"
   }
  ],
  "kernelspec": {
   "display_name": "Python 3 (ipykernel)",
   "language": "python",
   "name": "python3"
  },
  "language_info": {
   "codemirror_mode": {
    "name": "ipython",
    "version": 3
   },
   "file_extension": ".py",
   "mimetype": "text/x-python",
   "name": "python",
   "nbconvert_exporter": "python",
   "pygments_lexer": "ipython3",
   "version": "3.9.7"
  },
  "toc": {
   "base_numbering": 1,
   "nav_menu": {},
   "number_sections": true,
   "sideBar": true,
   "skip_h1_title": true,
   "title_cell": "Содержание",
   "title_sidebar": "Contents",
   "toc_cell": true,
   "toc_position": {
    "height": "calc(100% - 180px)",
    "left": "10px",
    "top": "150px",
    "width": "211.094px"
   },
   "toc_section_display": true,
   "toc_window_display": true
  }
 },
 "nbformat": 4,
 "nbformat_minor": 2
}
