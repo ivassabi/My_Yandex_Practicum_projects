{
 "cells": [
  {
   "cell_type": "markdown",
   "id": "5a12d1dc",
   "metadata": {
    "toc": true
   },
   "source": [
    "<h1>Содержание<span class=\"tocSkip\"></span></h1>\n",
    "<div class=\"toc\"><ul class=\"toc-item\"><li><span><a href=\"#Определение-перспективного-тарифа-для-телеком-компании\" data-toc-modified-id=\"Определение-перспективного-тарифа-для-телеком-компании-1\">Определение перспективного тарифа для телеком-компании</a></span><ul class=\"toc-item\"><li><span><a href=\"#Шаг-1.-Ознакомление-с-данными\" data-toc-modified-id=\"Шаг-1.-Ознакомление-с-данными-1.1\">Шаг 1. Ознакомление с данными</a></span></li></ul></li><li><span><a href=\"#Вывод:\" data-toc-modified-id=\"Вывод:-2\">Вывод:</a></span><ul class=\"toc-item\"><li><span><a href=\"#Шаг-2.-Подготовка-данных\" data-toc-modified-id=\"Шаг-2.-Подготовка-данных-2.1\">Шаг 2. Подготовка данных</a></span><ul class=\"toc-item\"><li><span><a href=\"#Посчитаем-для-каждого-пользователя-количество-звонков-и-израсходованных-минут-по-месяцам\" data-toc-modified-id=\"Посчитаем-для-каждого-пользователя-количество-звонков-и-израсходованных-минут-по-месяцам-2.1.1\">Посчитаем для каждого пользователя количество звонков и израсходованных минут по месяцам</a></span></li><li><span><a href=\"#Посчитаем-для-каждого-пользователя-количество-отправленных-сообщений-по-месяцам\" data-toc-modified-id=\"Посчитаем-для-каждого-пользователя-количество-отправленных-сообщений-по-месяцам-2.1.2\">Посчитаем для каждого пользователя количество отправленных сообщений по месяцам</a></span></li><li><span><a href=\"#Посчитаем-для-каждого-пользователя-объем-израсходованного-интернет-трафика-по-месяцам\" data-toc-modified-id=\"Посчитаем-для-каждого-пользователя-объем-израсходованного-интернет-трафика-по-месяцам-2.1.3\">Посчитаем для каждого пользователя объем израсходованного интернет-трафика по месяцам</a></span></li><li><span><a href=\"#Объединим-все-наши-расчеты-с-таблицей-по-клиента-и-таблицей-с-тарифами\" data-toc-modified-id=\"Объединим-все-наши-расчеты-с-таблицей-по-клиента-и-таблицей-с-тарифами-2.1.4\">Объединим все наши расчеты с таблицей по клиента и таблицей с тарифами</a></span></li><li><span><a href=\"#Посчитаем-для-каждого-пользователя-помесячную-выручку\" data-toc-modified-id=\"Посчитаем-для-каждого-пользователя-помесячную-выручку-2.1.5\">Посчитаем для каждого пользователя помесячную выручку</a></span></li></ul></li><li><span><a href=\"#Вывод:\" data-toc-modified-id=\"Вывод:-2.2\">Вывод:</a></span></li><li><span><a href=\"#Шаг-3.-Проанализируйте-данные\" data-toc-modified-id=\"Шаг-3.-Проанализируйте-данные-2.3\">Шаг 3. Проанализируйте данные</a></span><ul class=\"toc-item\"><li><span><a href=\"#Посмотрим-разницу-в-общей-выручке-по-смарту-и-ультре\" data-toc-modified-id=\"Посмотрим-разницу-в-общей-выручке-по-смарту-и-ультре-2.3.1\">Посмотрим разницу в общей выручке по смарту и ультре</a></span></li><li><span><a href=\"#Посмотрим-количество-абонентов-в-каждом-тарифе\" data-toc-modified-id=\"Посмотрим-количество-абонентов-в-каждом-тарифе-2.3.2\">Посмотрим количество абонентов в каждом тарифе</a></span></li><li><span><a href=\"#Посчитаем-средний-чек-на-клиента-тарифа-ultra-и-smart\" data-toc-modified-id=\"Посчитаем-средний-чек-на-клиента-тарифа-ultra-и-smart-2.3.3\">Посчитаем средний чек на клиента тарифа ultra и smart</a></span></li><li><span><a href=\"#Опишем-сколько-минут-разговора,-сколько-сообщений-и-какой-объём-интернет-трафика-требуется-пользователям-каждого-тарифа-в-месяц\" data-toc-modified-id=\"Опишем-сколько-минут-разговора,-сколько-сообщений-и-какой-объём-интернет-трафика-требуется-пользователям-каждого-тарифа-в-месяц-2.3.4\">Опишем сколько минут разговора, сколько сообщений и какой объём интернет-трафика требуется пользователям каждого тарифа в месяц</a></span></li></ul></li><li><span><a href=\"#Вывод:\" data-toc-modified-id=\"Вывод:-2.4\">Вывод:</a></span></li><li><span><a href=\"#Шаг-4.-Проверьте-гипотезы\" data-toc-modified-id=\"Шаг-4.-Проверьте-гипотезы-2.5\">Шаг 4. Проверьте гипотезы</a></span><ul class=\"toc-item\"><li><span><a href=\"#Гипотеза-о-равенстве-средних-двух-генеральных-совокупностей:\" data-toc-modified-id=\"Гипотеза-о-равенстве-средних-двух-генеральных-совокупностей:-2.5.1\">Гипотеза о равенстве средних двух генеральных совокупностей:</a></span><ul class=\"toc-item\"><li><span><a href=\"#H₀:-Средняя-выручка-пользователей-тарифов-«Ультра»-и-«Смарт»-равны-(H₀-всегда-формулируется-так,-чтобы-использовать-знак-равенства)---Н1:-Средняя-выручка-пользователей-тарифов-«Ультра»-и-«Смарт»-различаются\" data-toc-modified-id=\"H₀:-Средняя-выручка-пользователей-тарифов-«Ультра»-и-«Смарт»-равны-(H₀-всегда-формулируется-так,-чтобы-использовать-знак-равенства)---Н1:-Средняя-выручка-пользователей-тарифов-«Ультра»-и-«Смарт»-различаются-2.5.1.1\">H₀: Средняя выручка пользователей тарифов «Ультра» и «Смарт» равны (H₀ всегда формулируется так, чтобы использовать знак равенства)   Н1: Средняя выручка пользователей тарифов «Ультра» и «Смарт» различаются</a></span></li><li><span><a href=\"#H₀:-Средняя-выручка-пользователей-из-Москвы-равна-выручке-пользователей-из-других-регионов.-Н1:-Средняя-выручка-пользователей-из-Москвы-отличается-от-выручки-пользователей-из-других-регионов.\" data-toc-modified-id=\"H₀:-Средняя-выручка-пользователей-из-Москвы-равна-выручке-пользователей-из-других-регионов.-Н1:-Средняя-выручка-пользователей-из-Москвы-отличается-от-выручки-пользователей-из-других-регионов.-2.5.1.2\">H₀: Средняя выручка пользователей из Москвы равна выручке пользователей из других регионов. Н1: Средняя выручка пользователей из Москвы отличается от выручки пользователей из других регионов.</a></span></li></ul></li></ul></li></ul></li><li><span><a href=\"#Общий-вывод:\" data-toc-modified-id=\"Общий-вывод:-3\">Общий вывод:</a></span></li></ul></div>"
   ]
  },
  {
   "cell_type": "markdown",
   "id": "4b55d979",
   "metadata": {},
   "source": [
    "# Определение перспективного тарифа для телеком-компании\n",
    "\n",
    "**Описание проекта:**\n",
    "\n",
    "Вы аналитик компании «Мегалайн» — федерального оператора сотовой связи. Клиентам предлагают два тарифных плана: «Смарт» и «Ультра». Чтобы скорректировать рекламный бюджет, коммерческий департамент хочет понять, какой тариф приносит больше денег.\n",
    "Вам предстоит сделать предварительный анализ тарифов на небольшой выборке клиентов. В вашем распоряжении данные 500 пользователей «Мегалайна»: кто они, откуда, каким тарифом пользуются, сколько звонков и сообщений каждый отправил за 2018 год. Нужно проанализировать поведение клиентов и сделать вывод — какой тариф лучше.\n",
    "Описание тарифов\n",
    "\n",
    "Тариф «Смарт»\n",
    "\n",
    "1.Ежемесячная плата: 550 рублей  \n",
    "2.Включено 500 минут разговора, 50 сообщений и 15 Гб интернет-трафика  \n",
    "3.Стоимость услуг сверх тарифного пакета:  \n",
    "    - минута разговора: 3 рубля  \n",
    "    - сообщение: 3 рубля  \n",
    "    - 1 Гб интернет-трафика: 200 рублей  \n",
    "\n",
    "Тариф «Ультра»\n",
    "\n",
    "1.Ежемесячная плата: 1950 рублей  \n",
    "2.Включено 3000 минут разговора, 1000 сообщений и 30 Гб интернет-трафика  \n",
    "3.Стоимость услуг сверх тарифного пакета:  \n",
    "-минута разговора: 1 рубль  \n",
    "-сообщение: 1 рубль  \n",
    "-1 Гб интернет-трафика: 150 рублей  \n",
    "\n",
    "Примечание:\n",
    "\n",
    "«Мегалайн» всегда округляет секунды до минут, а мегабайты — до гигабайт. Каждый звонок округляется отдельно: даже если он длился всего 1 секунду, будет засчитан как 1 минута.\n",
    "\n",
    "Для веб-трафика отдельные сессии не считаются. Вместо этого общая сумма за месяц округляется в бо́льшую сторону. Если абонент использует 1025 мегабайт в этом месяце, с него возьмут плату за 2 гигабайта.\n",
    "\n",
    " \n"
   ]
  },
  {
   "cell_type": "markdown",
   "id": "db047617",
   "metadata": {},
   "source": [
    "**Описание данных:**  \n",
    "\n",
    "-`user_id`-уникальный иденификатор пользователя;  \n",
    "-`first_name` — имя пользователя;  \n",
    "-`last_name`— фамилия пользователя;  \n",
    "-`age` — возраст пользователя (годы);  \n",
    "-`reg_date` — дата подключения тарифа (день, месяц, год);  \n",
    "-`churn_date` — дата прекращения пользования тарифом (если значение пропущено, то тариф ещё действовал на момент выгрузки данных);  \n",
    "-`city` — город проживания пользователя;  \n",
    "-`tarif` — название тарифного плана.  \n",
    "\n",
    "Таблица calls (информация о звонках):  \n",
    "\n",
    "-`id` — уникальный номер звонка;  \n",
    "-`call_date` — дата звонка;  \n",
    "-`duration` — длительность звонка в минутах;  \n",
    "-`user_id` — идентификатор пользователя, сделавшего звонок.  \n",
    "\n",
    "Таблица messages (информация о сообщениях):\n",
    "\n",
    "-`id` — уникальный номер сообщения;  \n",
    "-`message_date` — дата сообщения;  \n",
    "-`user_id` — идентификатор пользователя, отправившего сообщение.  \n",
    "\n",
    "Таблица internet (информация об интернет-сессиях):  \n",
    "\n",
    "-`id` — уникальный номер сессии;  \n",
    "-`mb_used` — объём потраченного за сессию интернет-трафика (в мегабайтах);  \n",
    "-`session_date` — дата интернет-сессии;  \n",
    "-`user_id` — идентификатор пользователя.   \n",
    "\n",
    "Таблица tariffs (информация о тарифах):\n",
    "\n",
    "-`tariff_name` — название тарифа;  \n",
    "-`rub_monthly_fee` — ежемесячная абонентская плата в рублях;  \n",
    "-`minutes_included` — количество минут разговора в месяц, включённых в абонентскую плату;  \n",
    "-`messages_included` — количество сообщений в месяц, включённых в абонентскую плату;  \n",
    "-`mb_per_month_included` — объём интернет-трафика, включённого в абонентскую плату (в мегабайтах);  \n",
    "-`rub_per_minute` — стоимость минуты разговора сверх тарифного пакета (например, если в тарифе 100 минут разговора в месяц, то со 101 минуты будет взиматься плата);  \n",
    "-`rub_per_message` — стоимость отправки сообщения сверх тарифного пакета;  \n",
    "-`rub_per_gb` — стоимость дополнительного гигабайта интернет-трафика сверх тарифного пакета (1 гигабайт = 1024 мегабайта). "
   ]
  },
  {
   "cell_type": "markdown",
   "id": "18b54b1b",
   "metadata": {},
   "source": [
    "## Шаг 1. Ознакомление с данными"
   ]
  },
  {
   "cell_type": "code",
   "execution_count": 1,
   "id": "8711a2fa",
   "metadata": {},
   "outputs": [],
   "source": [
    "import pandas as pd\n",
    "import numpy as np\n",
    "import matplotlib.pyplot as plt\n",
    "from scipy import stats as st\n",
    "import seaborn as sns\n",
    "\n",
    "pd.set_option('display.max_columns', None)"
   ]
  },
  {
   "cell_type": "markdown",
   "id": "9f028086",
   "metadata": {},
   "source": [
    "Загрузим все данные и ознакомимся как с первыми строками таблиц так и рбщей информацией"
   ]
  },
  {
   "cell_type": "code",
   "execution_count": 2,
   "id": "14461ea5",
   "metadata": {
    "scrolled": false
   },
   "outputs": [],
   "source": [
    "df_call = pd.read_csv('C:/Users/79119/Desktop/DF/telecom/calls.csv')\n",
    "df_mes = pd.read_csv('C:/Users/79119/Desktop/DF/telecom/messages.csv')\n",
    "df_net = pd.read_csv('C:/Users/79119/Desktop/DF/telecom/internet.csv', index_col=0)\n",
    "df_us = pd.read_csv('C:/Users/79119/Desktop/DF/telecom/users.csv')\n",
    "df_tar = pd.read_csv('C:/Users/79119/Desktop/DF/telecom/tariffs.csv')"
   ]
  },
  {
   "cell_type": "code",
   "execution_count": 3,
   "id": "0f8016dc",
   "metadata": {},
   "outputs": [],
   "source": [
    "def df_info(data):\n",
    "    print('Посмотрим первые строки:')\n",
    "    display(data.head())\n",
    "    print(' ')\n",
    "    print('Общая информация:')\n",
    "    print(data.info())"
   ]
  },
  {
   "cell_type": "markdown",
   "id": "368296b5",
   "metadata": {},
   "source": [
    "Информация по звонкам:"
   ]
  },
  {
   "cell_type": "code",
   "execution_count": 4,
   "id": "e98aba71",
   "metadata": {
    "scrolled": false
   },
   "outputs": [
    {
     "name": "stdout",
     "output_type": "stream",
     "text": [
      "Посмотрим первые строки:\n"
     ]
    },
    {
     "data": {
      "text/html": [
       "<div>\n",
       "<style scoped>\n",
       "    .dataframe tbody tr th:only-of-type {\n",
       "        vertical-align: middle;\n",
       "    }\n",
       "\n",
       "    .dataframe tbody tr th {\n",
       "        vertical-align: top;\n",
       "    }\n",
       "\n",
       "    .dataframe thead th {\n",
       "        text-align: right;\n",
       "    }\n",
       "</style>\n",
       "<table border=\"1\" class=\"dataframe\">\n",
       "  <thead>\n",
       "    <tr style=\"text-align: right;\">\n",
       "      <th></th>\n",
       "      <th>id</th>\n",
       "      <th>call_date</th>\n",
       "      <th>duration</th>\n",
       "      <th>user_id</th>\n",
       "    </tr>\n",
       "  </thead>\n",
       "  <tbody>\n",
       "    <tr>\n",
       "      <th>0</th>\n",
       "      <td>1000_0</td>\n",
       "      <td>2018-07-25</td>\n",
       "      <td>0.00</td>\n",
       "      <td>1000</td>\n",
       "    </tr>\n",
       "    <tr>\n",
       "      <th>1</th>\n",
       "      <td>1000_1</td>\n",
       "      <td>2018-08-17</td>\n",
       "      <td>0.00</td>\n",
       "      <td>1000</td>\n",
       "    </tr>\n",
       "    <tr>\n",
       "      <th>2</th>\n",
       "      <td>1000_2</td>\n",
       "      <td>2018-06-11</td>\n",
       "      <td>2.85</td>\n",
       "      <td>1000</td>\n",
       "    </tr>\n",
       "    <tr>\n",
       "      <th>3</th>\n",
       "      <td>1000_3</td>\n",
       "      <td>2018-09-21</td>\n",
       "      <td>13.80</td>\n",
       "      <td>1000</td>\n",
       "    </tr>\n",
       "    <tr>\n",
       "      <th>4</th>\n",
       "      <td>1000_4</td>\n",
       "      <td>2018-12-15</td>\n",
       "      <td>5.18</td>\n",
       "      <td>1000</td>\n",
       "    </tr>\n",
       "  </tbody>\n",
       "</table>\n",
       "</div>"
      ],
      "text/plain": [
       "       id   call_date  duration  user_id\n",
       "0  1000_0  2018-07-25      0.00     1000\n",
       "1  1000_1  2018-08-17      0.00     1000\n",
       "2  1000_2  2018-06-11      2.85     1000\n",
       "3  1000_3  2018-09-21     13.80     1000\n",
       "4  1000_4  2018-12-15      5.18     1000"
      ]
     },
     "metadata": {},
     "output_type": "display_data"
    },
    {
     "name": "stdout",
     "output_type": "stream",
     "text": [
      " \n",
      "Общая информация:\n",
      "<class 'pandas.core.frame.DataFrame'>\n",
      "RangeIndex: 202607 entries, 0 to 202606\n",
      "Data columns (total 4 columns):\n",
      " #   Column     Non-Null Count   Dtype  \n",
      "---  ------     --------------   -----  \n",
      " 0   id         202607 non-null  object \n",
      " 1   call_date  202607 non-null  object \n",
      " 2   duration   202607 non-null  float64\n",
      " 3   user_id    202607 non-null  int64  \n",
      "dtypes: float64(1), int64(1), object(2)\n",
      "memory usage: 6.2+ MB\n",
      "None\n"
     ]
    }
   ],
   "source": [
    "df_info(df_call)"
   ]
  },
  {
   "cell_type": "markdown",
   "id": "d82812c5",
   "metadata": {},
   "source": [
    "Информация по сообщениям:"
   ]
  },
  {
   "cell_type": "code",
   "execution_count": 5,
   "id": "abea0a7e",
   "metadata": {
    "scrolled": false
   },
   "outputs": [
    {
     "name": "stdout",
     "output_type": "stream",
     "text": [
      "Посмотрим первые строки:\n"
     ]
    },
    {
     "data": {
      "text/html": [
       "<div>\n",
       "<style scoped>\n",
       "    .dataframe tbody tr th:only-of-type {\n",
       "        vertical-align: middle;\n",
       "    }\n",
       "\n",
       "    .dataframe tbody tr th {\n",
       "        vertical-align: top;\n",
       "    }\n",
       "\n",
       "    .dataframe thead th {\n",
       "        text-align: right;\n",
       "    }\n",
       "</style>\n",
       "<table border=\"1\" class=\"dataframe\">\n",
       "  <thead>\n",
       "    <tr style=\"text-align: right;\">\n",
       "      <th></th>\n",
       "      <th>id</th>\n",
       "      <th>message_date</th>\n",
       "      <th>user_id</th>\n",
       "    </tr>\n",
       "  </thead>\n",
       "  <tbody>\n",
       "    <tr>\n",
       "      <th>0</th>\n",
       "      <td>1000_0</td>\n",
       "      <td>2018-06-27</td>\n",
       "      <td>1000</td>\n",
       "    </tr>\n",
       "    <tr>\n",
       "      <th>1</th>\n",
       "      <td>1000_1</td>\n",
       "      <td>2018-10-08</td>\n",
       "      <td>1000</td>\n",
       "    </tr>\n",
       "    <tr>\n",
       "      <th>2</th>\n",
       "      <td>1000_2</td>\n",
       "      <td>2018-08-04</td>\n",
       "      <td>1000</td>\n",
       "    </tr>\n",
       "    <tr>\n",
       "      <th>3</th>\n",
       "      <td>1000_3</td>\n",
       "      <td>2018-06-16</td>\n",
       "      <td>1000</td>\n",
       "    </tr>\n",
       "    <tr>\n",
       "      <th>4</th>\n",
       "      <td>1000_4</td>\n",
       "      <td>2018-12-05</td>\n",
       "      <td>1000</td>\n",
       "    </tr>\n",
       "  </tbody>\n",
       "</table>\n",
       "</div>"
      ],
      "text/plain": [
       "       id message_date  user_id\n",
       "0  1000_0   2018-06-27     1000\n",
       "1  1000_1   2018-10-08     1000\n",
       "2  1000_2   2018-08-04     1000\n",
       "3  1000_3   2018-06-16     1000\n",
       "4  1000_4   2018-12-05     1000"
      ]
     },
     "metadata": {},
     "output_type": "display_data"
    },
    {
     "name": "stdout",
     "output_type": "stream",
     "text": [
      " \n",
      "Общая информация:\n",
      "<class 'pandas.core.frame.DataFrame'>\n",
      "RangeIndex: 123036 entries, 0 to 123035\n",
      "Data columns (total 3 columns):\n",
      " #   Column        Non-Null Count   Dtype \n",
      "---  ------        --------------   ----- \n",
      " 0   id            123036 non-null  object\n",
      " 1   message_date  123036 non-null  object\n",
      " 2   user_id       123036 non-null  int64 \n",
      "dtypes: int64(1), object(2)\n",
      "memory usage: 2.8+ MB\n",
      "None\n"
     ]
    }
   ],
   "source": [
    "df_info(df_mes)"
   ]
  },
  {
   "cell_type": "markdown",
   "id": "24cf3441",
   "metadata": {},
   "source": [
    "Данные по интернет трафику:"
   ]
  },
  {
   "cell_type": "code",
   "execution_count": 6,
   "id": "6c24f1ad",
   "metadata": {
    "scrolled": false
   },
   "outputs": [
    {
     "name": "stdout",
     "output_type": "stream",
     "text": [
      "Посмотрим первые строки:\n"
     ]
    },
    {
     "data": {
      "text/html": [
       "<div>\n",
       "<style scoped>\n",
       "    .dataframe tbody tr th:only-of-type {\n",
       "        vertical-align: middle;\n",
       "    }\n",
       "\n",
       "    .dataframe tbody tr th {\n",
       "        vertical-align: top;\n",
       "    }\n",
       "\n",
       "    .dataframe thead th {\n",
       "        text-align: right;\n",
       "    }\n",
       "</style>\n",
       "<table border=\"1\" class=\"dataframe\">\n",
       "  <thead>\n",
       "    <tr style=\"text-align: right;\">\n",
       "      <th></th>\n",
       "      <th>id</th>\n",
       "      <th>mb_used</th>\n",
       "      <th>session_date</th>\n",
       "      <th>user_id</th>\n",
       "    </tr>\n",
       "  </thead>\n",
       "  <tbody>\n",
       "    <tr>\n",
       "      <th>0</th>\n",
       "      <td>1000_0</td>\n",
       "      <td>112.95</td>\n",
       "      <td>2018-11-25</td>\n",
       "      <td>1000</td>\n",
       "    </tr>\n",
       "    <tr>\n",
       "      <th>1</th>\n",
       "      <td>1000_1</td>\n",
       "      <td>1052.81</td>\n",
       "      <td>2018-09-07</td>\n",
       "      <td>1000</td>\n",
       "    </tr>\n",
       "    <tr>\n",
       "      <th>2</th>\n",
       "      <td>1000_2</td>\n",
       "      <td>1197.26</td>\n",
       "      <td>2018-06-25</td>\n",
       "      <td>1000</td>\n",
       "    </tr>\n",
       "    <tr>\n",
       "      <th>3</th>\n",
       "      <td>1000_3</td>\n",
       "      <td>550.27</td>\n",
       "      <td>2018-08-22</td>\n",
       "      <td>1000</td>\n",
       "    </tr>\n",
       "    <tr>\n",
       "      <th>4</th>\n",
       "      <td>1000_4</td>\n",
       "      <td>302.56</td>\n",
       "      <td>2018-09-24</td>\n",
       "      <td>1000</td>\n",
       "    </tr>\n",
       "  </tbody>\n",
       "</table>\n",
       "</div>"
      ],
      "text/plain": [
       "       id  mb_used session_date  user_id\n",
       "0  1000_0   112.95   2018-11-25     1000\n",
       "1  1000_1  1052.81   2018-09-07     1000\n",
       "2  1000_2  1197.26   2018-06-25     1000\n",
       "3  1000_3   550.27   2018-08-22     1000\n",
       "4  1000_4   302.56   2018-09-24     1000"
      ]
     },
     "metadata": {},
     "output_type": "display_data"
    },
    {
     "name": "stdout",
     "output_type": "stream",
     "text": [
      " \n",
      "Общая информация:\n",
      "<class 'pandas.core.frame.DataFrame'>\n",
      "Int64Index: 149396 entries, 0 to 149395\n",
      "Data columns (total 4 columns):\n",
      " #   Column        Non-Null Count   Dtype  \n",
      "---  ------        --------------   -----  \n",
      " 0   id            149396 non-null  object \n",
      " 1   mb_used       149396 non-null  float64\n",
      " 2   session_date  149396 non-null  object \n",
      " 3   user_id       149396 non-null  int64  \n",
      "dtypes: float64(1), int64(1), object(2)\n",
      "memory usage: 5.7+ MB\n",
      "None\n"
     ]
    }
   ],
   "source": [
    "df_info(df_net)"
   ]
  },
  {
   "cell_type": "markdown",
   "id": "cba89790",
   "metadata": {},
   "source": [
    "Информация об абонентах:"
   ]
  },
  {
   "cell_type": "code",
   "execution_count": 7,
   "id": "3b34751e",
   "metadata": {
    "scrolled": false
   },
   "outputs": [
    {
     "name": "stdout",
     "output_type": "stream",
     "text": [
      "Посмотрим первые строки:\n"
     ]
    },
    {
     "data": {
      "text/html": [
       "<div>\n",
       "<style scoped>\n",
       "    .dataframe tbody tr th:only-of-type {\n",
       "        vertical-align: middle;\n",
       "    }\n",
       "\n",
       "    .dataframe tbody tr th {\n",
       "        vertical-align: top;\n",
       "    }\n",
       "\n",
       "    .dataframe thead th {\n",
       "        text-align: right;\n",
       "    }\n",
       "</style>\n",
       "<table border=\"1\" class=\"dataframe\">\n",
       "  <thead>\n",
       "    <tr style=\"text-align: right;\">\n",
       "      <th></th>\n",
       "      <th>user_id</th>\n",
       "      <th>age</th>\n",
       "      <th>churn_date</th>\n",
       "      <th>city</th>\n",
       "      <th>first_name</th>\n",
       "      <th>last_name</th>\n",
       "      <th>reg_date</th>\n",
       "      <th>tariff</th>\n",
       "    </tr>\n",
       "  </thead>\n",
       "  <tbody>\n",
       "    <tr>\n",
       "      <th>0</th>\n",
       "      <td>1000</td>\n",
       "      <td>52</td>\n",
       "      <td>NaN</td>\n",
       "      <td>Краснодар</td>\n",
       "      <td>Рафаил</td>\n",
       "      <td>Верещагин</td>\n",
       "      <td>2018-05-25</td>\n",
       "      <td>ultra</td>\n",
       "    </tr>\n",
       "    <tr>\n",
       "      <th>1</th>\n",
       "      <td>1001</td>\n",
       "      <td>41</td>\n",
       "      <td>NaN</td>\n",
       "      <td>Москва</td>\n",
       "      <td>Иван</td>\n",
       "      <td>Ежов</td>\n",
       "      <td>2018-11-01</td>\n",
       "      <td>smart</td>\n",
       "    </tr>\n",
       "    <tr>\n",
       "      <th>2</th>\n",
       "      <td>1002</td>\n",
       "      <td>59</td>\n",
       "      <td>NaN</td>\n",
       "      <td>Стерлитамак</td>\n",
       "      <td>Евгений</td>\n",
       "      <td>Абрамович</td>\n",
       "      <td>2018-06-17</td>\n",
       "      <td>smart</td>\n",
       "    </tr>\n",
       "    <tr>\n",
       "      <th>3</th>\n",
       "      <td>1003</td>\n",
       "      <td>23</td>\n",
       "      <td>NaN</td>\n",
       "      <td>Москва</td>\n",
       "      <td>Белла</td>\n",
       "      <td>Белякова</td>\n",
       "      <td>2018-08-17</td>\n",
       "      <td>ultra</td>\n",
       "    </tr>\n",
       "    <tr>\n",
       "      <th>4</th>\n",
       "      <td>1004</td>\n",
       "      <td>68</td>\n",
       "      <td>NaN</td>\n",
       "      <td>Новокузнецк</td>\n",
       "      <td>Татьяна</td>\n",
       "      <td>Авдеенко</td>\n",
       "      <td>2018-05-14</td>\n",
       "      <td>ultra</td>\n",
       "    </tr>\n",
       "  </tbody>\n",
       "</table>\n",
       "</div>"
      ],
      "text/plain": [
       "   user_id  age churn_date         city first_name  last_name    reg_date  \\\n",
       "0     1000   52        NaN    Краснодар     Рафаил  Верещагин  2018-05-25   \n",
       "1     1001   41        NaN       Москва       Иван       Ежов  2018-11-01   \n",
       "2     1002   59        NaN  Стерлитамак    Евгений  Абрамович  2018-06-17   \n",
       "3     1003   23        NaN       Москва      Белла   Белякова  2018-08-17   \n",
       "4     1004   68        NaN  Новокузнецк    Татьяна   Авдеенко  2018-05-14   \n",
       "\n",
       "  tariff  \n",
       "0  ultra  \n",
       "1  smart  \n",
       "2  smart  \n",
       "3  ultra  \n",
       "4  ultra  "
      ]
     },
     "metadata": {},
     "output_type": "display_data"
    },
    {
     "name": "stdout",
     "output_type": "stream",
     "text": [
      " \n",
      "Общая информация:\n",
      "<class 'pandas.core.frame.DataFrame'>\n",
      "RangeIndex: 500 entries, 0 to 499\n",
      "Data columns (total 8 columns):\n",
      " #   Column      Non-Null Count  Dtype \n",
      "---  ------      --------------  ----- \n",
      " 0   user_id     500 non-null    int64 \n",
      " 1   age         500 non-null    int64 \n",
      " 2   churn_date  38 non-null     object\n",
      " 3   city        500 non-null    object\n",
      " 4   first_name  500 non-null    object\n",
      " 5   last_name   500 non-null    object\n",
      " 6   reg_date    500 non-null    object\n",
      " 7   tariff      500 non-null    object\n",
      "dtypes: int64(2), object(6)\n",
      "memory usage: 31.4+ KB\n",
      "None\n"
     ]
    }
   ],
   "source": [
    "df_info(df_us)"
   ]
  },
  {
   "cell_type": "markdown",
   "id": "ad00d7f3",
   "metadata": {},
   "source": [
    "Данные по тарифам:"
   ]
  },
  {
   "cell_type": "code",
   "execution_count": 8,
   "id": "4b5d2ccf",
   "metadata": {
    "scrolled": false
   },
   "outputs": [
    {
     "name": "stdout",
     "output_type": "stream",
     "text": [
      "Посмотрим первые строки:\n"
     ]
    },
    {
     "data": {
      "text/html": [
       "<div>\n",
       "<style scoped>\n",
       "    .dataframe tbody tr th:only-of-type {\n",
       "        vertical-align: middle;\n",
       "    }\n",
       "\n",
       "    .dataframe tbody tr th {\n",
       "        vertical-align: top;\n",
       "    }\n",
       "\n",
       "    .dataframe thead th {\n",
       "        text-align: right;\n",
       "    }\n",
       "</style>\n",
       "<table border=\"1\" class=\"dataframe\">\n",
       "  <thead>\n",
       "    <tr style=\"text-align: right;\">\n",
       "      <th></th>\n",
       "      <th>messages_included</th>\n",
       "      <th>mb_per_month_included</th>\n",
       "      <th>minutes_included</th>\n",
       "      <th>rub_monthly_fee</th>\n",
       "      <th>rub_per_gb</th>\n",
       "      <th>rub_per_message</th>\n",
       "      <th>rub_per_minute</th>\n",
       "      <th>tariff_name</th>\n",
       "    </tr>\n",
       "  </thead>\n",
       "  <tbody>\n",
       "    <tr>\n",
       "      <th>0</th>\n",
       "      <td>50</td>\n",
       "      <td>15360</td>\n",
       "      <td>500</td>\n",
       "      <td>550</td>\n",
       "      <td>200</td>\n",
       "      <td>3</td>\n",
       "      <td>3</td>\n",
       "      <td>smart</td>\n",
       "    </tr>\n",
       "    <tr>\n",
       "      <th>1</th>\n",
       "      <td>1000</td>\n",
       "      <td>30720</td>\n",
       "      <td>3000</td>\n",
       "      <td>1950</td>\n",
       "      <td>150</td>\n",
       "      <td>1</td>\n",
       "      <td>1</td>\n",
       "      <td>ultra</td>\n",
       "    </tr>\n",
       "  </tbody>\n",
       "</table>\n",
       "</div>"
      ],
      "text/plain": [
       "   messages_included  mb_per_month_included  minutes_included  \\\n",
       "0                 50                  15360               500   \n",
       "1               1000                  30720              3000   \n",
       "\n",
       "   rub_monthly_fee  rub_per_gb  rub_per_message  rub_per_minute tariff_name  \n",
       "0              550         200                3               3       smart  \n",
       "1             1950         150                1               1       ultra  "
      ]
     },
     "metadata": {},
     "output_type": "display_data"
    },
    {
     "name": "stdout",
     "output_type": "stream",
     "text": [
      " \n",
      "Общая информация:\n",
      "<class 'pandas.core.frame.DataFrame'>\n",
      "RangeIndex: 2 entries, 0 to 1\n",
      "Data columns (total 8 columns):\n",
      " #   Column                 Non-Null Count  Dtype \n",
      "---  ------                 --------------  ----- \n",
      " 0   messages_included      2 non-null      int64 \n",
      " 1   mb_per_month_included  2 non-null      int64 \n",
      " 2   minutes_included       2 non-null      int64 \n",
      " 3   rub_monthly_fee        2 non-null      int64 \n",
      " 4   rub_per_gb             2 non-null      int64 \n",
      " 5   rub_per_message        2 non-null      int64 \n",
      " 6   rub_per_minute         2 non-null      int64 \n",
      " 7   tariff_name            2 non-null      object\n",
      "dtypes: int64(7), object(1)\n",
      "memory usage: 256.0+ bytes\n",
      "None\n"
     ]
    }
   ],
   "source": [
    "df_info(df_tar)"
   ]
  },
  {
   "cell_type": "markdown",
   "id": "f2e473d9",
   "metadata": {},
   "source": [
    "# Вывод:\n",
    "\n",
    "Для исследования нам предоставоены 5 таблиц с доистыми данными. В таблице с пользователи пропуски в столбце 'churn_date' обусловлены тем, что данные договова еще действуют."
   ]
  },
  {
   "cell_type": "markdown",
   "id": "3ea2cc43",
   "metadata": {},
   "source": [
    "## Шаг 2. Подготовка данных"
   ]
  },
  {
   "cell_type": "markdown",
   "id": "c7277a30",
   "metadata": {},
   "source": [
    "Добавим в таблицу со звонками стобец с месяцами для удобства дальнейших расчетов и посмотрим на пропуски и дубликаты."
   ]
  },
  {
   "cell_type": "code",
   "execution_count": 9,
   "id": "81b48d56",
   "metadata": {
    "scrolled": false
   },
   "outputs": [
    {
     "data": {
      "text/html": [
       "<div>\n",
       "<style scoped>\n",
       "    .dataframe tbody tr th:only-of-type {\n",
       "        vertical-align: middle;\n",
       "    }\n",
       "\n",
       "    .dataframe tbody tr th {\n",
       "        vertical-align: top;\n",
       "    }\n",
       "\n",
       "    .dataframe thead th {\n",
       "        text-align: right;\n",
       "    }\n",
       "</style>\n",
       "<table border=\"1\" class=\"dataframe\">\n",
       "  <thead>\n",
       "    <tr style=\"text-align: right;\">\n",
       "      <th></th>\n",
       "      <th>id</th>\n",
       "      <th>call_date</th>\n",
       "      <th>duration</th>\n",
       "      <th>user_id</th>\n",
       "      <th>month</th>\n",
       "    </tr>\n",
       "  </thead>\n",
       "  <tbody>\n",
       "    <tr>\n",
       "      <th>0</th>\n",
       "      <td>1000_0</td>\n",
       "      <td>2018-07-25</td>\n",
       "      <td>0.00</td>\n",
       "      <td>1000</td>\n",
       "      <td>7</td>\n",
       "    </tr>\n",
       "    <tr>\n",
       "      <th>1</th>\n",
       "      <td>1000_1</td>\n",
       "      <td>2018-08-17</td>\n",
       "      <td>0.00</td>\n",
       "      <td>1000</td>\n",
       "      <td>8</td>\n",
       "    </tr>\n",
       "    <tr>\n",
       "      <th>2</th>\n",
       "      <td>1000_2</td>\n",
       "      <td>2018-06-11</td>\n",
       "      <td>2.85</td>\n",
       "      <td>1000</td>\n",
       "      <td>6</td>\n",
       "    </tr>\n",
       "    <tr>\n",
       "      <th>3</th>\n",
       "      <td>1000_3</td>\n",
       "      <td>2018-09-21</td>\n",
       "      <td>13.80</td>\n",
       "      <td>1000</td>\n",
       "      <td>9</td>\n",
       "    </tr>\n",
       "    <tr>\n",
       "      <th>4</th>\n",
       "      <td>1000_4</td>\n",
       "      <td>2018-12-15</td>\n",
       "      <td>5.18</td>\n",
       "      <td>1000</td>\n",
       "      <td>12</td>\n",
       "    </tr>\n",
       "  </tbody>\n",
       "</table>\n",
       "</div>"
      ],
      "text/plain": [
       "       id   call_date  duration  user_id  month\n",
       "0  1000_0  2018-07-25      0.00     1000      7\n",
       "1  1000_1  2018-08-17      0.00     1000      8\n",
       "2  1000_2  2018-06-11      2.85     1000      6\n",
       "3  1000_3  2018-09-21     13.80     1000      9\n",
       "4  1000_4  2018-12-15      5.18     1000     12"
      ]
     },
     "execution_count": 9,
     "metadata": {},
     "output_type": "execute_result"
    }
   ],
   "source": [
    "df_call['month'] = pd.DatetimeIndex(df_call['call_date']).month\n",
    "df_call.head()"
   ]
  },
  {
   "cell_type": "markdown",
   "id": "21d3cbd8",
   "metadata": {},
   "source": [
    "Напишем маленькую функцию, которая будет выводить количество дубликатов и пропусков"
   ]
  },
  {
   "cell_type": "code",
   "execution_count": 10,
   "id": "256109a5",
   "metadata": {},
   "outputs": [],
   "source": [
    "def chek(data):\n",
    "    print('Количество дубликатов')\n",
    "    print(data.duplicated().sum())\n",
    "    print(' ')\n",
    "    print('Количество пропусков')\n",
    "    print(data.isna().sum())"
   ]
  },
  {
   "cell_type": "code",
   "execution_count": 11,
   "id": "811f4b50",
   "metadata": {
    "scrolled": false
   },
   "outputs": [
    {
     "name": "stdout",
     "output_type": "stream",
     "text": [
      "Количество дубликатов\n",
      "0\n",
      " \n",
      "Количество пропусков\n",
      "id           0\n",
      "call_date    0\n",
      "duration     0\n",
      "user_id      0\n",
      "month        0\n",
      "dtype: int64\n"
     ]
    }
   ],
   "source": [
    "chek(df_call)"
   ]
  },
  {
   "cell_type": "markdown",
   "id": "49048911",
   "metadata": {},
   "source": [
    "По условию, оператор сотовой связи округляет секунды до минуты. Произведем данное округление"
   ]
  },
  {
   "cell_type": "code",
   "execution_count": 12,
   "id": "f2a38176",
   "metadata": {
    "scrolled": false
   },
   "outputs": [
    {
     "data": {
      "text/html": [
       "<div>\n",
       "<style scoped>\n",
       "    .dataframe tbody tr th:only-of-type {\n",
       "        vertical-align: middle;\n",
       "    }\n",
       "\n",
       "    .dataframe tbody tr th {\n",
       "        vertical-align: top;\n",
       "    }\n",
       "\n",
       "    .dataframe thead th {\n",
       "        text-align: right;\n",
       "    }\n",
       "</style>\n",
       "<table border=\"1\" class=\"dataframe\">\n",
       "  <thead>\n",
       "    <tr style=\"text-align: right;\">\n",
       "      <th></th>\n",
       "      <th>id</th>\n",
       "      <th>call_date</th>\n",
       "      <th>duration</th>\n",
       "      <th>user_id</th>\n",
       "      <th>month</th>\n",
       "    </tr>\n",
       "  </thead>\n",
       "  <tbody>\n",
       "    <tr>\n",
       "      <th>0</th>\n",
       "      <td>1000_0</td>\n",
       "      <td>2018-07-25</td>\n",
       "      <td>0.0</td>\n",
       "      <td>1000</td>\n",
       "      <td>7</td>\n",
       "    </tr>\n",
       "    <tr>\n",
       "      <th>1</th>\n",
       "      <td>1000_1</td>\n",
       "      <td>2018-08-17</td>\n",
       "      <td>0.0</td>\n",
       "      <td>1000</td>\n",
       "      <td>8</td>\n",
       "    </tr>\n",
       "    <tr>\n",
       "      <th>2</th>\n",
       "      <td>1000_2</td>\n",
       "      <td>2018-06-11</td>\n",
       "      <td>3.0</td>\n",
       "      <td>1000</td>\n",
       "      <td>6</td>\n",
       "    </tr>\n",
       "    <tr>\n",
       "      <th>3</th>\n",
       "      <td>1000_3</td>\n",
       "      <td>2018-09-21</td>\n",
       "      <td>14.0</td>\n",
       "      <td>1000</td>\n",
       "      <td>9</td>\n",
       "    </tr>\n",
       "    <tr>\n",
       "      <th>4</th>\n",
       "      <td>1000_4</td>\n",
       "      <td>2018-12-15</td>\n",
       "      <td>6.0</td>\n",
       "      <td>1000</td>\n",
       "      <td>12</td>\n",
       "    </tr>\n",
       "  </tbody>\n",
       "</table>\n",
       "</div>"
      ],
      "text/plain": [
       "       id   call_date  duration  user_id  month\n",
       "0  1000_0  2018-07-25       0.0     1000      7\n",
       "1  1000_1  2018-08-17       0.0     1000      8\n",
       "2  1000_2  2018-06-11       3.0     1000      6\n",
       "3  1000_3  2018-09-21      14.0     1000      9\n",
       "4  1000_4  2018-12-15       6.0     1000     12"
      ]
     },
     "execution_count": 12,
     "metadata": {},
     "output_type": "execute_result"
    }
   ],
   "source": [
    "df_call['duration'] = np.ceil(df_call['duration'])\n",
    "df_call.head()"
   ]
  },
  {
   "cell_type": "code",
   "execution_count": 13,
   "id": "a5962a00",
   "metadata": {
    "scrolled": true
   },
   "outputs": [
    {
     "data": {
      "image/png": "[encoded data removed]",
      "text/plain": [
       "<Figure size 432x288 with 1 Axes>"
      ]
     },
     "metadata": {
      "needs_background": "light"
     },
     "output_type": "display_data"
    },
    {
     "data": {
      "text/plain": [
       "count    202607.000000\n",
       "mean          7.158198\n",
       "std           5.959173\n",
       "min           0.000000\n",
       "25%           2.000000\n",
       "50%           6.000000\n",
       "75%          11.000000\n",
       "max          38.000000\n",
       "Name: duration, dtype: float64"
      ]
     },
     "execution_count": 13,
     "metadata": {},
     "output_type": "execute_result"
    }
   ],
   "source": [
    "sns.histplot(x = df_call['duration'], color = 'green')\n",
    "plt.title('Распределение длительности звонков')\n",
    "plt.xlabel('Продолжительность (мин.)')\n",
    "plt.ylabel('Количество')\n",
    "plt.show()\n",
    "\n",
    "df_call['duration'].describe()"
   ]
  },
  {
   "cell_type": "markdown",
   "id": "f3c807e1",
   "metadata": {},
   "source": [
    "Порядка 40 тыс раз не совершиди ни одного звонка. Наиболее типичной продолжительностью звонков является дельта от 2 до 11 минут."
   ]
  },
  {
   "cell_type": "markdown",
   "id": "0938f335",
   "metadata": {},
   "source": [
    "Выделили в отдельный столбец месяц совершения звонка и проверили на дубликаты и пропуски данные по звонкам."
   ]
  },
  {
   "cell_type": "code",
   "execution_count": 14,
   "id": "3d93f8bf",
   "metadata": {
    "scrolled": true
   },
   "outputs": [
    {
     "data": {
      "text/html": [
       "<div>\n",
       "<style scoped>\n",
       "    .dataframe tbody tr th:only-of-type {\n",
       "        vertical-align: middle;\n",
       "    }\n",
       "\n",
       "    .dataframe tbody tr th {\n",
       "        vertical-align: top;\n",
       "    }\n",
       "\n",
       "    .dataframe thead th {\n",
       "        text-align: right;\n",
       "    }\n",
       "</style>\n",
       "<table border=\"1\" class=\"dataframe\">\n",
       "  <thead>\n",
       "    <tr style=\"text-align: right;\">\n",
       "      <th></th>\n",
       "      <th>id</th>\n",
       "      <th>message_date</th>\n",
       "      <th>user_id</th>\n",
       "      <th>month</th>\n",
       "    </tr>\n",
       "  </thead>\n",
       "  <tbody>\n",
       "    <tr>\n",
       "      <th>0</th>\n",
       "      <td>1000_0</td>\n",
       "      <td>2018-06-27</td>\n",
       "      <td>1000</td>\n",
       "      <td>6</td>\n",
       "    </tr>\n",
       "    <tr>\n",
       "      <th>1</th>\n",
       "      <td>1000_1</td>\n",
       "      <td>2018-10-08</td>\n",
       "      <td>1000</td>\n",
       "      <td>10</td>\n",
       "    </tr>\n",
       "    <tr>\n",
       "      <th>2</th>\n",
       "      <td>1000_2</td>\n",
       "      <td>2018-08-04</td>\n",
       "      <td>1000</td>\n",
       "      <td>8</td>\n",
       "    </tr>\n",
       "    <tr>\n",
       "      <th>3</th>\n",
       "      <td>1000_3</td>\n",
       "      <td>2018-06-16</td>\n",
       "      <td>1000</td>\n",
       "      <td>6</td>\n",
       "    </tr>\n",
       "    <tr>\n",
       "      <th>4</th>\n",
       "      <td>1000_4</td>\n",
       "      <td>2018-12-05</td>\n",
       "      <td>1000</td>\n",
       "      <td>12</td>\n",
       "    </tr>\n",
       "  </tbody>\n",
       "</table>\n",
       "</div>"
      ],
      "text/plain": [
       "       id message_date  user_id  month\n",
       "0  1000_0   2018-06-27     1000      6\n",
       "1  1000_1   2018-10-08     1000     10\n",
       "2  1000_2   2018-08-04     1000      8\n",
       "3  1000_3   2018-06-16     1000      6\n",
       "4  1000_4   2018-12-05     1000     12"
      ]
     },
     "execution_count": 14,
     "metadata": {},
     "output_type": "execute_result"
    }
   ],
   "source": [
    "df_mes['month'] = pd.DatetimeIndex(df_mes['message_date']).month\n",
    "df_mes.head()"
   ]
  },
  {
   "cell_type": "code",
   "execution_count": 15,
   "id": "13b8a382",
   "metadata": {
    "scrolled": true
   },
   "outputs": [],
   "source": [
    "month_mes = df_mes.groupby('month')['id'].count().to_frame().reset_index()"
   ]
  },
  {
   "cell_type": "code",
   "execution_count": 16,
   "id": "9b693b59",
   "metadata": {},
   "outputs": [
    {
     "data": {
      "image/png": "[encoded data removed]",
      "text/plain": [
       "<Figure size 432x288 with 1 Axes>"
      ]
     },
     "metadata": {
      "needs_background": "light"
     },
     "output_type": "display_data"
    },
    {
     "data": {
      "text/html": [
       "<div>\n",
       "<style scoped>\n",
       "    .dataframe tbody tr th:only-of-type {\n",
       "        vertical-align: middle;\n",
       "    }\n",
       "\n",
       "    .dataframe tbody tr th {\n",
       "        vertical-align: top;\n",
       "    }\n",
       "\n",
       "    .dataframe thead th {\n",
       "        text-align: right;\n",
       "    }\n",
       "</style>\n",
       "<table border=\"1\" class=\"dataframe\">\n",
       "  <thead>\n",
       "    <tr style=\"text-align: right;\">\n",
       "      <th></th>\n",
       "      <th>month</th>\n",
       "      <th>id</th>\n",
       "    </tr>\n",
       "  </thead>\n",
       "  <tbody>\n",
       "    <tr>\n",
       "      <th>0</th>\n",
       "      <td>1</td>\n",
       "      <td>924</td>\n",
       "    </tr>\n",
       "    <tr>\n",
       "      <th>1</th>\n",
       "      <td>2</td>\n",
       "      <td>1924</td>\n",
       "    </tr>\n",
       "    <tr>\n",
       "      <th>2</th>\n",
       "      <td>3</td>\n",
       "      <td>3648</td>\n",
       "    </tr>\n",
       "    <tr>\n",
       "      <th>3</th>\n",
       "      <td>4</td>\n",
       "      <td>5179</td>\n",
       "    </tr>\n",
       "    <tr>\n",
       "      <th>4</th>\n",
       "      <td>5</td>\n",
       "      <td>7298</td>\n",
       "    </tr>\n",
       "    <tr>\n",
       "      <th>5</th>\n",
       "      <td>6</td>\n",
       "      <td>8983</td>\n",
       "    </tr>\n",
       "    <tr>\n",
       "      <th>6</th>\n",
       "      <td>7</td>\n",
       "      <td>11320</td>\n",
       "    </tr>\n",
       "    <tr>\n",
       "      <th>7</th>\n",
       "      <td>8</td>\n",
       "      <td>13088</td>\n",
       "    </tr>\n",
       "    <tr>\n",
       "      <th>8</th>\n",
       "      <td>9</td>\n",
       "      <td>14759</td>\n",
       "    </tr>\n",
       "    <tr>\n",
       "      <th>9</th>\n",
       "      <td>10</td>\n",
       "      <td>17114</td>\n",
       "    </tr>\n",
       "    <tr>\n",
       "      <th>10</th>\n",
       "      <td>11</td>\n",
       "      <td>18244</td>\n",
       "    </tr>\n",
       "    <tr>\n",
       "      <th>11</th>\n",
       "      <td>12</td>\n",
       "      <td>20555</td>\n",
       "    </tr>\n",
       "  </tbody>\n",
       "</table>\n",
       "</div>"
      ],
      "text/plain": [
       "    month     id\n",
       "0       1    924\n",
       "1       2   1924\n",
       "2       3   3648\n",
       "3       4   5179\n",
       "4       5   7298\n",
       "5       6   8983\n",
       "6       7  11320\n",
       "7       8  13088\n",
       "8       9  14759\n",
       "9      10  17114\n",
       "10     11  18244\n",
       "11     12  20555"
      ]
     },
     "execution_count": 16,
     "metadata": {},
     "output_type": "execute_result"
    }
   ],
   "source": [
    "sns.barplot(data = month_mes, x = 'month', y = 'id')\n",
    "plt.title('Количество сообщений в месяц')\n",
    "plt.show()\n",
    "\n",
    "month_mes"
   ]
  },
  {
   "cell_type": "code",
   "execution_count": 17,
   "id": "f5d3d91b",
   "metadata": {
    "scrolled": true
   },
   "outputs": [
    {
     "data": {
      "text/html": [
       "<div>\n",
       "<style scoped>\n",
       "    .dataframe tbody tr th:only-of-type {\n",
       "        vertical-align: middle;\n",
       "    }\n",
       "\n",
       "    .dataframe tbody tr th {\n",
       "        vertical-align: top;\n",
       "    }\n",
       "\n",
       "    .dataframe thead th {\n",
       "        text-align: right;\n",
       "    }\n",
       "</style>\n",
       "<table border=\"1\" class=\"dataframe\">\n",
       "  <thead>\n",
       "    <tr style=\"text-align: right;\">\n",
       "      <th></th>\n",
       "      <th>month</th>\n",
       "      <th>id</th>\n",
       "    </tr>\n",
       "  </thead>\n",
       "  <tbody>\n",
       "    <tr>\n",
       "      <th>month</th>\n",
       "      <td>1.000000</td>\n",
       "      <td>0.998584</td>\n",
       "    </tr>\n",
       "    <tr>\n",
       "      <th>id</th>\n",
       "      <td>0.998584</td>\n",
       "      <td>1.000000</td>\n",
       "    </tr>\n",
       "  </tbody>\n",
       "</table>\n",
       "</div>"
      ],
      "text/plain": [
       "          month        id\n",
       "month  1.000000  0.998584\n",
       "id     0.998584  1.000000"
      ]
     },
     "execution_count": 17,
     "metadata": {},
     "output_type": "execute_result"
    }
   ],
   "source": [
    "month_mes.corr()"
   ]
  },
  {
   "cell_type": "markdown",
   "id": "9bfbb130",
   "metadata": {},
   "source": [
    "Установлена очень высокая связь между количеством сообщений и месяцем: в январе наименьшее колиечество сообщений, а в декабре достинается максимум."
   ]
  },
  {
   "cell_type": "code",
   "execution_count": 18,
   "id": "a6449da8",
   "metadata": {
    "scrolled": false
   },
   "outputs": [
    {
     "name": "stdout",
     "output_type": "stream",
     "text": [
      "Количество дубликатов\n",
      "0\n",
      " \n",
      "Количество пропусков\n",
      "id              0\n",
      "message_date    0\n",
      "user_id         0\n",
      "month           0\n",
      "dtype: int64\n"
     ]
    }
   ],
   "source": [
    "chek(df_mes)"
   ]
  },
  {
   "cell_type": "markdown",
   "id": "814b1cc9",
   "metadata": {},
   "source": [
    "Также добавим столбец с месяцем и проверим на дубликаты и пропуски данные с интернет трафиком:"
   ]
  },
  {
   "cell_type": "code",
   "execution_count": 19,
   "id": "31ee29c6",
   "metadata": {
    "scrolled": false
   },
   "outputs": [
    {
     "data": {
      "text/html": [
       "<div>\n",
       "<style scoped>\n",
       "    .dataframe tbody tr th:only-of-type {\n",
       "        vertical-align: middle;\n",
       "    }\n",
       "\n",
       "    .dataframe tbody tr th {\n",
       "        vertical-align: top;\n",
       "    }\n",
       "\n",
       "    .dataframe thead th {\n",
       "        text-align: right;\n",
       "    }\n",
       "</style>\n",
       "<table border=\"1\" class=\"dataframe\">\n",
       "  <thead>\n",
       "    <tr style=\"text-align: right;\">\n",
       "      <th></th>\n",
       "      <th>id</th>\n",
       "      <th>mb_used</th>\n",
       "      <th>session_date</th>\n",
       "      <th>user_id</th>\n",
       "      <th>month</th>\n",
       "    </tr>\n",
       "  </thead>\n",
       "  <tbody>\n",
       "    <tr>\n",
       "      <th>0</th>\n",
       "      <td>1000_0</td>\n",
       "      <td>112.95</td>\n",
       "      <td>2018-11-25</td>\n",
       "      <td>1000</td>\n",
       "      <td>11</td>\n",
       "    </tr>\n",
       "    <tr>\n",
       "      <th>1</th>\n",
       "      <td>1000_1</td>\n",
       "      <td>1052.81</td>\n",
       "      <td>2018-09-07</td>\n",
       "      <td>1000</td>\n",
       "      <td>9</td>\n",
       "    </tr>\n",
       "    <tr>\n",
       "      <th>2</th>\n",
       "      <td>1000_2</td>\n",
       "      <td>1197.26</td>\n",
       "      <td>2018-06-25</td>\n",
       "      <td>1000</td>\n",
       "      <td>6</td>\n",
       "    </tr>\n",
       "    <tr>\n",
       "      <th>3</th>\n",
       "      <td>1000_3</td>\n",
       "      <td>550.27</td>\n",
       "      <td>2018-08-22</td>\n",
       "      <td>1000</td>\n",
       "      <td>8</td>\n",
       "    </tr>\n",
       "    <tr>\n",
       "      <th>4</th>\n",
       "      <td>1000_4</td>\n",
       "      <td>302.56</td>\n",
       "      <td>2018-09-24</td>\n",
       "      <td>1000</td>\n",
       "      <td>9</td>\n",
       "    </tr>\n",
       "  </tbody>\n",
       "</table>\n",
       "</div>"
      ],
      "text/plain": [
       "       id  mb_used session_date  user_id  month\n",
       "0  1000_0   112.95   2018-11-25     1000     11\n",
       "1  1000_1  1052.81   2018-09-07     1000      9\n",
       "2  1000_2  1197.26   2018-06-25     1000      6\n",
       "3  1000_3   550.27   2018-08-22     1000      8\n",
       "4  1000_4   302.56   2018-09-24     1000      9"
      ]
     },
     "execution_count": 19,
     "metadata": {},
     "output_type": "execute_result"
    }
   ],
   "source": [
    "df_net['month'] = pd.DatetimeIndex(df_net['session_date']).month\n",
    "df_net.head()"
   ]
  },
  {
   "cell_type": "code",
   "execution_count": 20,
   "id": "1a7fc095",
   "metadata": {
    "scrolled": true
   },
   "outputs": [
    {
     "name": "stdout",
     "output_type": "stream",
     "text": [
      "Количество дубликатов\n",
      "0\n",
      " \n",
      "Количество пропусков\n",
      "id              0\n",
      "mb_used         0\n",
      "session_date    0\n",
      "user_id         0\n",
      "month           0\n",
      "dtype: int64\n"
     ]
    }
   ],
   "source": [
    "chek(df_net)"
   ]
  },
  {
   "cell_type": "markdown",
   "id": "f584c616",
   "metadata": {},
   "source": [
    "Посмотрим на распределение трафика:"
   ]
  },
  {
   "cell_type": "code",
   "execution_count": 21,
   "id": "ac94670a",
   "metadata": {
    "scrolled": true
   },
   "outputs": [
    {
     "data": {
      "image/png": "[encoded data removed]",
      "text/plain": [
       "<Figure size 432x288 with 1 Axes>"
      ]
     },
     "metadata": {
      "needs_background": "light"
     },
     "output_type": "display_data"
    },
    {
     "data": {
      "text/plain": [
       "count    149396.000000\n",
       "mean        370.192426\n",
       "std         278.300951\n",
       "min           0.000000\n",
       "25%         138.187500\n",
       "50%         348.015000\n",
       "75%         559.552500\n",
       "max        1724.830000\n",
       "Name: mb_used, dtype: float64"
      ]
     },
     "execution_count": 21,
     "metadata": {},
     "output_type": "execute_result"
    }
   ],
   "source": [
    "sns.histplot(x = df_net['mb_used'])\n",
    "plt.title('Распределение интернет трафика')\n",
    "plt.xlabel('Количество использованных Мб')\n",
    "plt.ylabel('Количество пользователей')\n",
    "plt.show()\n",
    "\n",
    "df_net['mb_used'].describe()"
   ]
  },
  {
   "cell_type": "markdown",
   "id": "ed80c0b9",
   "metadata": {},
   "source": [
    "Порядка 20 тыс. наблюдений с нулевым расходом трафика. А в остальном, типичной дельтой является потребление трафика от 140 до 560 Мб в месяц."
   ]
  },
  {
   "cell_type": "code",
   "execution_count": 22,
   "id": "cfd2ed2f",
   "metadata": {},
   "outputs": [
    {
     "name": "stdout",
     "output_type": "stream",
     "text": [
      "<class 'pandas.core.frame.DataFrame'>\n",
      "RangeIndex: 500 entries, 0 to 499\n",
      "Data columns (total 8 columns):\n",
      " #   Column      Non-Null Count  Dtype \n",
      "---  ------      --------------  ----- \n",
      " 0   user_id     500 non-null    int64 \n",
      " 1   age         500 non-null    int64 \n",
      " 2   churn_date  38 non-null     object\n",
      " 3   city        500 non-null    object\n",
      " 4   first_name  500 non-null    object\n",
      " 5   last_name   500 non-null    object\n",
      " 6   reg_date    500 non-null    object\n",
      " 7   tariff      500 non-null    object\n",
      "dtypes: int64(2), object(6)\n",
      "memory usage: 31.4+ KB\n"
     ]
    }
   ],
   "source": [
    "df_us.info()"
   ]
  },
  {
   "cell_type": "code",
   "execution_count": 23,
   "id": "14d09365",
   "metadata": {
    "scrolled": true
   },
   "outputs": [
    {
     "name": "stdout",
     "output_type": "stream",
     "text": [
      "Количество дубликатов\n",
      "0\n",
      " \n",
      "Количество пропусков\n",
      "user_id         0\n",
      "age             0\n",
      "churn_date    462\n",
      "city            0\n",
      "first_name      0\n",
      "last_name       0\n",
      "reg_date        0\n",
      "tariff          0\n",
      "dtype: int64\n"
     ]
    }
   ],
   "source": [
    "chek(df_us)"
   ]
  },
  {
   "cell_type": "code",
   "execution_count": 24,
   "id": "28a7f6ec",
   "metadata": {
    "scrolled": false
   },
   "outputs": [
    {
     "data": {
      "text/plain": [
       "min    2018-01-01\n",
       "max    2018-12-31\n",
       "Name: reg_date, dtype: object"
      ]
     },
     "execution_count": 24,
     "metadata": {},
     "output_type": "execute_result"
    }
   ],
   "source": [
    "df_us['reg_date'].agg(['min', 'max'])"
   ]
  },
  {
   "cell_type": "markdown",
   "id": "d17a8cee",
   "metadata": {},
   "source": [
    "В связи с тем, что пропуски в столбце 'churn_date' образовались благодаря тому, что данные договора еще действительны, а данные нам предоставлены в период с 01.01.2018 по 31.12.2018, предлагаю пропуски заменить крайней датой данного периода, а именно 31-12-2018."
   ]
  },
  {
   "cell_type": "code",
   "execution_count": 25,
   "id": "4492d2af",
   "metadata": {
    "scrolled": true
   },
   "outputs": [
    {
     "data": {
      "text/plain": [
       "user_id        int64\n",
       "age            int64\n",
       "churn_date    object\n",
       "city          object\n",
       "first_name    object\n",
       "last_name     object\n",
       "reg_date      object\n",
       "tariff        object\n",
       "dtype: object"
      ]
     },
     "execution_count": 25,
     "metadata": {},
     "output_type": "execute_result"
    }
   ],
   "source": [
    "df_us.dtypes"
   ]
  },
  {
   "cell_type": "code",
   "execution_count": 26,
   "id": "7e8426eb",
   "metadata": {
    "scrolled": true
   },
   "outputs": [],
   "source": [
    "df_us['churn_date'] = pd.to_datetime(df_us['churn_date'], format = '%Y-%m-%d')"
   ]
  },
  {
   "cell_type": "markdown",
   "id": "e957b313",
   "metadata": {},
   "source": [
    "Проверим, какой крайний день в столбце с датой расторжения, чтобы не исказить данные заменой на крайний день периода."
   ]
  },
  {
   "cell_type": "code",
   "execution_count": 27,
   "id": "d8fea561",
   "metadata": {},
   "outputs": [
    {
     "data": {
      "text/plain": [
       "Timestamp('2018-12-30 00:00:00')"
      ]
     },
     "execution_count": 27,
     "metadata": {},
     "output_type": "execute_result"
    }
   ],
   "source": [
    "df_us['churn_date'].max()"
   ]
  },
  {
   "cell_type": "code",
   "execution_count": 28,
   "id": "3ccfe8b9",
   "metadata": {
    "scrolled": true
   },
   "outputs": [
    {
     "data": {
      "text/plain": [
       "0"
      ]
     },
     "execution_count": 28,
     "metadata": {},
     "output_type": "execute_result"
    }
   ],
   "source": [
    "df_us['churn_date'] = pd.to_datetime(df_us['churn_date'].fillna('2018-12-31'), format='%Y-%m-%d')\n",
    "df_us['churn_date'].isna().sum()"
   ]
  },
  {
   "cell_type": "code",
   "execution_count": 29,
   "id": "e217392d",
   "metadata": {
    "scrolled": true
   },
   "outputs": [
    {
     "data": {
      "text/plain": [
       "Timestamp('2018-12-31 00:00:00')"
      ]
     },
     "execution_count": 29,
     "metadata": {},
     "output_type": "execute_result"
    }
   ],
   "source": [
    "df_us['churn_date'].max()"
   ]
  },
  {
   "cell_type": "markdown",
   "id": "eecb2ac5",
   "metadata": {},
   "source": [
    "### Посчитаем для каждого пользователя количество звонков и израсходованных минут по месяцам"
   ]
  },
  {
   "cell_type": "code",
   "execution_count": 30,
   "id": "36b3ff89",
   "metadata": {},
   "outputs": [],
   "source": [
    "calls = (\n",
    "    df_call\n",
    "    .pivot_table(index=('user_id', 'month'), values='duration', aggfunc=('count', 'sum'))\n",
    "    .reset_index()\n",
    "    .rename(columns={'count':'count_calls', 'sum':'min_used'})\n",
    ")"
   ]
  },
  {
   "cell_type": "code",
   "execution_count": 31,
   "id": "112dc6fb",
   "metadata": {
    "scrolled": false
   },
   "outputs": [
    {
     "data": {
      "text/html": [
       "<div>\n",
       "<style scoped>\n",
       "    .dataframe tbody tr th:only-of-type {\n",
       "        vertical-align: middle;\n",
       "    }\n",
       "\n",
       "    .dataframe tbody tr th {\n",
       "        vertical-align: top;\n",
       "    }\n",
       "\n",
       "    .dataframe thead th {\n",
       "        text-align: right;\n",
       "    }\n",
       "</style>\n",
       "<table border=\"1\" class=\"dataframe\">\n",
       "  <thead>\n",
       "    <tr style=\"text-align: right;\">\n",
       "      <th></th>\n",
       "      <th>user_id</th>\n",
       "      <th>month</th>\n",
       "      <th>count_calls</th>\n",
       "      <th>min_used</th>\n",
       "    </tr>\n",
       "  </thead>\n",
       "  <tbody>\n",
       "    <tr>\n",
       "      <th>0</th>\n",
       "      <td>1000</td>\n",
       "      <td>5</td>\n",
       "      <td>22</td>\n",
       "      <td>159.0</td>\n",
       "    </tr>\n",
       "    <tr>\n",
       "      <th>1</th>\n",
       "      <td>1000</td>\n",
       "      <td>6</td>\n",
       "      <td>43</td>\n",
       "      <td>172.0</td>\n",
       "    </tr>\n",
       "    <tr>\n",
       "      <th>2</th>\n",
       "      <td>1000</td>\n",
       "      <td>7</td>\n",
       "      <td>47</td>\n",
       "      <td>340.0</td>\n",
       "    </tr>\n",
       "    <tr>\n",
       "      <th>3</th>\n",
       "      <td>1000</td>\n",
       "      <td>8</td>\n",
       "      <td>52</td>\n",
       "      <td>408.0</td>\n",
       "    </tr>\n",
       "    <tr>\n",
       "      <th>4</th>\n",
       "      <td>1000</td>\n",
       "      <td>9</td>\n",
       "      <td>58</td>\n",
       "      <td>466.0</td>\n",
       "    </tr>\n",
       "  </tbody>\n",
       "</table>\n",
       "</div>"
      ],
      "text/plain": [
       "   user_id  month  count_calls  min_used\n",
       "0     1000      5           22     159.0\n",
       "1     1000      6           43     172.0\n",
       "2     1000      7           47     340.0\n",
       "3     1000      8           52     408.0\n",
       "4     1000      9           58     466.0"
      ]
     },
     "execution_count": 31,
     "metadata": {},
     "output_type": "execute_result"
    }
   ],
   "source": [
    "calls.head()"
   ]
  },
  {
   "cell_type": "markdown",
   "id": "29bf9e17",
   "metadata": {},
   "source": [
    "### Посчитаем для каждого пользователя количество отправленных сообщений по месяцам"
   ]
  },
  {
   "cell_type": "code",
   "execution_count": 32,
   "id": "01889b13",
   "metadata": {},
   "outputs": [
    {
     "data": {
      "text/plain": [
       "(2717, 3)"
      ]
     },
     "execution_count": 32,
     "metadata": {},
     "output_type": "execute_result"
    }
   ],
   "source": [
    "messages = (\n",
    "    df_mes\n",
    "    .pivot_table(index = ('user_id', 'month'), values = 'message_date', aggfunc = 'count')\n",
    "    .reset_index()\n",
    "    .rename(columns={'message_date':'sms_used'})\n",
    ")\n",
    "                     \n",
    "messages.shape"
   ]
  },
  {
   "cell_type": "code",
   "execution_count": 33,
   "id": "7de74c88",
   "metadata": {
    "scrolled": true
   },
   "outputs": [
    {
     "data": {
      "text/html": [
       "<div>\n",
       "<style scoped>\n",
       "    .dataframe tbody tr th:only-of-type {\n",
       "        vertical-align: middle;\n",
       "    }\n",
       "\n",
       "    .dataframe tbody tr th {\n",
       "        vertical-align: top;\n",
       "    }\n",
       "\n",
       "    .dataframe thead th {\n",
       "        text-align: right;\n",
       "    }\n",
       "</style>\n",
       "<table border=\"1\" class=\"dataframe\">\n",
       "  <thead>\n",
       "    <tr style=\"text-align: right;\">\n",
       "      <th></th>\n",
       "      <th>user_id</th>\n",
       "      <th>month</th>\n",
       "      <th>sms_used</th>\n",
       "    </tr>\n",
       "  </thead>\n",
       "  <tbody>\n",
       "    <tr>\n",
       "      <th>0</th>\n",
       "      <td>1000</td>\n",
       "      <td>5</td>\n",
       "      <td>22</td>\n",
       "    </tr>\n",
       "    <tr>\n",
       "      <th>1</th>\n",
       "      <td>1000</td>\n",
       "      <td>6</td>\n",
       "      <td>60</td>\n",
       "    </tr>\n",
       "    <tr>\n",
       "      <th>2</th>\n",
       "      <td>1000</td>\n",
       "      <td>7</td>\n",
       "      <td>75</td>\n",
       "    </tr>\n",
       "    <tr>\n",
       "      <th>3</th>\n",
       "      <td>1000</td>\n",
       "      <td>8</td>\n",
       "      <td>81</td>\n",
       "    </tr>\n",
       "    <tr>\n",
       "      <th>4</th>\n",
       "      <td>1000</td>\n",
       "      <td>9</td>\n",
       "      <td>57</td>\n",
       "    </tr>\n",
       "  </tbody>\n",
       "</table>\n",
       "</div>"
      ],
      "text/plain": [
       "   user_id  month  sms_used\n",
       "0     1000      5        22\n",
       "1     1000      6        60\n",
       "2     1000      7        75\n",
       "3     1000      8        81\n",
       "4     1000      9        57"
      ]
     },
     "execution_count": 33,
     "metadata": {},
     "output_type": "execute_result"
    }
   ],
   "source": [
    "messages.head()"
   ]
  },
  {
   "cell_type": "markdown",
   "id": "a1888d00",
   "metadata": {},
   "source": [
    "### Посчитаем для каждого пользователя объем израсходованного интернет-трафика по месяцам"
   ]
  },
  {
   "cell_type": "code",
   "execution_count": 34,
   "id": "0a275f52",
   "metadata": {},
   "outputs": [
    {
     "data": {
      "text/html": [
       "<div>\n",
       "<style scoped>\n",
       "    .dataframe tbody tr th:only-of-type {\n",
       "        vertical-align: middle;\n",
       "    }\n",
       "\n",
       "    .dataframe tbody tr th {\n",
       "        vertical-align: top;\n",
       "    }\n",
       "\n",
       "    .dataframe thead th {\n",
       "        text-align: right;\n",
       "    }\n",
       "</style>\n",
       "<table border=\"1\" class=\"dataframe\">\n",
       "  <thead>\n",
       "    <tr style=\"text-align: right;\">\n",
       "      <th></th>\n",
       "      <th>user_id</th>\n",
       "      <th>month</th>\n",
       "      <th>mb_used</th>\n",
       "    </tr>\n",
       "  </thead>\n",
       "  <tbody>\n",
       "    <tr>\n",
       "      <th>0</th>\n",
       "      <td>1000</td>\n",
       "      <td>5</td>\n",
       "      <td>2253.49</td>\n",
       "    </tr>\n",
       "    <tr>\n",
       "      <th>1</th>\n",
       "      <td>1000</td>\n",
       "      <td>6</td>\n",
       "      <td>23233.77</td>\n",
       "    </tr>\n",
       "    <tr>\n",
       "      <th>2</th>\n",
       "      <td>1000</td>\n",
       "      <td>7</td>\n",
       "      <td>14003.64</td>\n",
       "    </tr>\n",
       "    <tr>\n",
       "      <th>3</th>\n",
       "      <td>1000</td>\n",
       "      <td>8</td>\n",
       "      <td>14055.93</td>\n",
       "    </tr>\n",
       "    <tr>\n",
       "      <th>4</th>\n",
       "      <td>1000</td>\n",
       "      <td>9</td>\n",
       "      <td>14568.91</td>\n",
       "    </tr>\n",
       "  </tbody>\n",
       "</table>\n",
       "</div>"
      ],
      "text/plain": [
       "   user_id  month   mb_used\n",
       "0     1000      5   2253.49\n",
       "1     1000      6  23233.77\n",
       "2     1000      7  14003.64\n",
       "3     1000      8  14055.93\n",
       "4     1000      9  14568.91"
      ]
     },
     "execution_count": 34,
     "metadata": {},
     "output_type": "execute_result"
    }
   ],
   "source": [
    "internet = df_net.pivot_table(index=('user_id', 'month'), values = 'mb_used', aggfunc='sum').reset_index()\n",
    "internet.head()"
   ]
  },
  {
   "cell_type": "markdown",
   "id": "d8f11b22",
   "metadata": {},
   "source": [
    "### Объединим все наши расчеты с таблицей по клиента и таблицей с тарифами"
   ]
  },
  {
   "cell_type": "code",
   "execution_count": 35,
   "id": "a191e153",
   "metadata": {},
   "outputs": [
    {
     "data": {
      "text/html": [
       "<div>\n",
       "<style scoped>\n",
       "    .dataframe tbody tr th:only-of-type {\n",
       "        vertical-align: middle;\n",
       "    }\n",
       "\n",
       "    .dataframe tbody tr th {\n",
       "        vertical-align: top;\n",
       "    }\n",
       "\n",
       "    .dataframe thead th {\n",
       "        text-align: right;\n",
       "    }\n",
       "</style>\n",
       "<table border=\"1\" class=\"dataframe\">\n",
       "  <thead>\n",
       "    <tr style=\"text-align: right;\">\n",
       "      <th></th>\n",
       "      <th>user_id</th>\n",
       "      <th>month</th>\n",
       "      <th>count_calls</th>\n",
       "      <th>min_used</th>\n",
       "      <th>sms_used</th>\n",
       "    </tr>\n",
       "  </thead>\n",
       "  <tbody>\n",
       "    <tr>\n",
       "      <th>0</th>\n",
       "      <td>1000</td>\n",
       "      <td>5</td>\n",
       "      <td>22.0</td>\n",
       "      <td>159.0</td>\n",
       "      <td>22.0</td>\n",
       "    </tr>\n",
       "    <tr>\n",
       "      <th>1</th>\n",
       "      <td>1000</td>\n",
       "      <td>6</td>\n",
       "      <td>43.0</td>\n",
       "      <td>172.0</td>\n",
       "      <td>60.0</td>\n",
       "    </tr>\n",
       "    <tr>\n",
       "      <th>2</th>\n",
       "      <td>1000</td>\n",
       "      <td>7</td>\n",
       "      <td>47.0</td>\n",
       "      <td>340.0</td>\n",
       "      <td>75.0</td>\n",
       "    </tr>\n",
       "    <tr>\n",
       "      <th>3</th>\n",
       "      <td>1000</td>\n",
       "      <td>8</td>\n",
       "      <td>52.0</td>\n",
       "      <td>408.0</td>\n",
       "      <td>81.0</td>\n",
       "    </tr>\n",
       "    <tr>\n",
       "      <th>4</th>\n",
       "      <td>1000</td>\n",
       "      <td>9</td>\n",
       "      <td>58.0</td>\n",
       "      <td>466.0</td>\n",
       "      <td>57.0</td>\n",
       "    </tr>\n",
       "  </tbody>\n",
       "</table>\n",
       "</div>"
      ],
      "text/plain": [
       "   user_id  month  count_calls  min_used  sms_used\n",
       "0     1000      5         22.0     159.0      22.0\n",
       "1     1000      6         43.0     172.0      60.0\n",
       "2     1000      7         47.0     340.0      75.0\n",
       "3     1000      8         52.0     408.0      81.0\n",
       "4     1000      9         58.0     466.0      57.0"
      ]
     },
     "execution_count": 35,
     "metadata": {},
     "output_type": "execute_result"
    }
   ],
   "source": [
    "df = calls.merge(messages, on=['user_id', 'month'], how = 'outer')\n",
    "df.head()"
   ]
  },
  {
   "cell_type": "code",
   "execution_count": 36,
   "id": "3c9ee7ff",
   "metadata": {},
   "outputs": [
    {
     "data": {
      "text/html": [
       "<div>\n",
       "<style scoped>\n",
       "    .dataframe tbody tr th:only-of-type {\n",
       "        vertical-align: middle;\n",
       "    }\n",
       "\n",
       "    .dataframe tbody tr th {\n",
       "        vertical-align: top;\n",
       "    }\n",
       "\n",
       "    .dataframe thead th {\n",
       "        text-align: right;\n",
       "    }\n",
       "</style>\n",
       "<table border=\"1\" class=\"dataframe\">\n",
       "  <thead>\n",
       "    <tr style=\"text-align: right;\">\n",
       "      <th></th>\n",
       "      <th>user_id</th>\n",
       "      <th>month</th>\n",
       "      <th>count_calls</th>\n",
       "      <th>min_used</th>\n",
       "      <th>sms_used</th>\n",
       "      <th>mb_used</th>\n",
       "    </tr>\n",
       "  </thead>\n",
       "  <tbody>\n",
       "    <tr>\n",
       "      <th>0</th>\n",
       "      <td>1000</td>\n",
       "      <td>5</td>\n",
       "      <td>22.0</td>\n",
       "      <td>159.0</td>\n",
       "      <td>22.0</td>\n",
       "      <td>2253.49</td>\n",
       "    </tr>\n",
       "    <tr>\n",
       "      <th>1</th>\n",
       "      <td>1000</td>\n",
       "      <td>6</td>\n",
       "      <td>43.0</td>\n",
       "      <td>172.0</td>\n",
       "      <td>60.0</td>\n",
       "      <td>23233.77</td>\n",
       "    </tr>\n",
       "    <tr>\n",
       "      <th>2</th>\n",
       "      <td>1000</td>\n",
       "      <td>7</td>\n",
       "      <td>47.0</td>\n",
       "      <td>340.0</td>\n",
       "      <td>75.0</td>\n",
       "      <td>14003.64</td>\n",
       "    </tr>\n",
       "    <tr>\n",
       "      <th>3</th>\n",
       "      <td>1000</td>\n",
       "      <td>8</td>\n",
       "      <td>52.0</td>\n",
       "      <td>408.0</td>\n",
       "      <td>81.0</td>\n",
       "      <td>14055.93</td>\n",
       "    </tr>\n",
       "    <tr>\n",
       "      <th>4</th>\n",
       "      <td>1000</td>\n",
       "      <td>9</td>\n",
       "      <td>58.0</td>\n",
       "      <td>466.0</td>\n",
       "      <td>57.0</td>\n",
       "      <td>14568.91</td>\n",
       "    </tr>\n",
       "  </tbody>\n",
       "</table>\n",
       "</div>"
      ],
      "text/plain": [
       "   user_id  month  count_calls  min_used  sms_used   mb_used\n",
       "0     1000      5         22.0     159.0      22.0   2253.49\n",
       "1     1000      6         43.0     172.0      60.0  23233.77\n",
       "2     1000      7         47.0     340.0      75.0  14003.64\n",
       "3     1000      8         52.0     408.0      81.0  14055.93\n",
       "4     1000      9         58.0     466.0      57.0  14568.91"
      ]
     },
     "execution_count": 36,
     "metadata": {},
     "output_type": "execute_result"
    }
   ],
   "source": [
    "df = df.merge(internet, on=['user_id', 'month'], how = 'outer')\n",
    "df.head()"
   ]
  },
  {
   "cell_type": "code",
   "execution_count": 37,
   "id": "4f92ea09",
   "metadata": {},
   "outputs": [],
   "source": [
    "df = df.merge(df_us, on='user_id', how = 'left')"
   ]
  },
  {
   "cell_type": "code",
   "execution_count": 38,
   "id": "6f8eb61e",
   "metadata": {
    "scrolled": true
   },
   "outputs": [
    {
     "data": {
      "text/html": [
       "<div>\n",
       "<style scoped>\n",
       "    .dataframe tbody tr th:only-of-type {\n",
       "        vertical-align: middle;\n",
       "    }\n",
       "\n",
       "    .dataframe tbody tr th {\n",
       "        vertical-align: top;\n",
       "    }\n",
       "\n",
       "    .dataframe thead th {\n",
       "        text-align: right;\n",
       "    }\n",
       "</style>\n",
       "<table border=\"1\" class=\"dataframe\">\n",
       "  <thead>\n",
       "    <tr style=\"text-align: right;\">\n",
       "      <th></th>\n",
       "      <th>user_id</th>\n",
       "      <th>month</th>\n",
       "      <th>count_calls</th>\n",
       "      <th>min_used</th>\n",
       "      <th>sms_used</th>\n",
       "      <th>mb_used</th>\n",
       "      <th>age</th>\n",
       "      <th>churn_date</th>\n",
       "      <th>city</th>\n",
       "      <th>first_name</th>\n",
       "      <th>last_name</th>\n",
       "      <th>reg_date</th>\n",
       "      <th>tariff</th>\n",
       "    </tr>\n",
       "  </thead>\n",
       "  <tbody>\n",
       "    <tr>\n",
       "      <th>0</th>\n",
       "      <td>1000</td>\n",
       "      <td>5</td>\n",
       "      <td>22.0</td>\n",
       "      <td>159.0</td>\n",
       "      <td>22.0</td>\n",
       "      <td>2253.49</td>\n",
       "      <td>52</td>\n",
       "      <td>2018-12-31</td>\n",
       "      <td>Краснодар</td>\n",
       "      <td>Рафаил</td>\n",
       "      <td>Верещагин</td>\n",
       "      <td>2018-05-25</td>\n",
       "      <td>ultra</td>\n",
       "    </tr>\n",
       "    <tr>\n",
       "      <th>1</th>\n",
       "      <td>1000</td>\n",
       "      <td>6</td>\n",
       "      <td>43.0</td>\n",
       "      <td>172.0</td>\n",
       "      <td>60.0</td>\n",
       "      <td>23233.77</td>\n",
       "      <td>52</td>\n",
       "      <td>2018-12-31</td>\n",
       "      <td>Краснодар</td>\n",
       "      <td>Рафаил</td>\n",
       "      <td>Верещагин</td>\n",
       "      <td>2018-05-25</td>\n",
       "      <td>ultra</td>\n",
       "    </tr>\n",
       "    <tr>\n",
       "      <th>2</th>\n",
       "      <td>1000</td>\n",
       "      <td>7</td>\n",
       "      <td>47.0</td>\n",
       "      <td>340.0</td>\n",
       "      <td>75.0</td>\n",
       "      <td>14003.64</td>\n",
       "      <td>52</td>\n",
       "      <td>2018-12-31</td>\n",
       "      <td>Краснодар</td>\n",
       "      <td>Рафаил</td>\n",
       "      <td>Верещагин</td>\n",
       "      <td>2018-05-25</td>\n",
       "      <td>ultra</td>\n",
       "    </tr>\n",
       "    <tr>\n",
       "      <th>3</th>\n",
       "      <td>1000</td>\n",
       "      <td>8</td>\n",
       "      <td>52.0</td>\n",
       "      <td>408.0</td>\n",
       "      <td>81.0</td>\n",
       "      <td>14055.93</td>\n",
       "      <td>52</td>\n",
       "      <td>2018-12-31</td>\n",
       "      <td>Краснодар</td>\n",
       "      <td>Рафаил</td>\n",
       "      <td>Верещагин</td>\n",
       "      <td>2018-05-25</td>\n",
       "      <td>ultra</td>\n",
       "    </tr>\n",
       "    <tr>\n",
       "      <th>4</th>\n",
       "      <td>1000</td>\n",
       "      <td>9</td>\n",
       "      <td>58.0</td>\n",
       "      <td>466.0</td>\n",
       "      <td>57.0</td>\n",
       "      <td>14568.91</td>\n",
       "      <td>52</td>\n",
       "      <td>2018-12-31</td>\n",
       "      <td>Краснодар</td>\n",
       "      <td>Рафаил</td>\n",
       "      <td>Верещагин</td>\n",
       "      <td>2018-05-25</td>\n",
       "      <td>ultra</td>\n",
       "    </tr>\n",
       "  </tbody>\n",
       "</table>\n",
       "</div>"
      ],
      "text/plain": [
       "   user_id  month  count_calls  min_used  sms_used   mb_used  age churn_date  \\\n",
       "0     1000      5         22.0     159.0      22.0   2253.49   52 2018-12-31   \n",
       "1     1000      6         43.0     172.0      60.0  23233.77   52 2018-12-31   \n",
       "2     1000      7         47.0     340.0      75.0  14003.64   52 2018-12-31   \n",
       "3     1000      8         52.0     408.0      81.0  14055.93   52 2018-12-31   \n",
       "4     1000      9         58.0     466.0      57.0  14568.91   52 2018-12-31   \n",
       "\n",
       "        city first_name  last_name    reg_date tariff  \n",
       "0  Краснодар     Рафаил  Верещагин  2018-05-25  ultra  \n",
       "1  Краснодар     Рафаил  Верещагин  2018-05-25  ultra  \n",
       "2  Краснодар     Рафаил  Верещагин  2018-05-25  ultra  \n",
       "3  Краснодар     Рафаил  Верещагин  2018-05-25  ultra  \n",
       "4  Краснодар     Рафаил  Верещагин  2018-05-25  ultra  "
      ]
     },
     "execution_count": 38,
     "metadata": {},
     "output_type": "execute_result"
    }
   ],
   "source": [
    "df.head()"
   ]
  },
  {
   "cell_type": "code",
   "execution_count": 39,
   "id": "a84d2230",
   "metadata": {},
   "outputs": [],
   "source": [
    "df_tar = df_tar.rename(columns={'tariff_name':'tariff'})"
   ]
  },
  {
   "cell_type": "code",
   "execution_count": 40,
   "id": "c9134a8d",
   "metadata": {},
   "outputs": [],
   "source": [
    "df = df.merge(df_tar, on='tariff', how = 'left')"
   ]
  },
  {
   "cell_type": "code",
   "execution_count": 41,
   "id": "e8fbf698",
   "metadata": {
    "scrolled": true
   },
   "outputs": [
    {
     "name": "stdout",
     "output_type": "stream",
     "text": [
      "<class 'pandas.core.frame.DataFrame'>\n",
      "Int64Index: 3214 entries, 0 to 3213\n",
      "Data columns (total 20 columns):\n",
      " #   Column                 Non-Null Count  Dtype         \n",
      "---  ------                 --------------  -----         \n",
      " 0   user_id                3214 non-null   int64         \n",
      " 1   month                  3214 non-null   int64         \n",
      " 2   count_calls            3174 non-null   float64       \n",
      " 3   min_used               3174 non-null   float64       \n",
      " 4   sms_used               2717 non-null   float64       \n",
      " 5   mb_used                3203 non-null   float64       \n",
      " 6   age                    3214 non-null   int64         \n",
      " 7   churn_date             3214 non-null   datetime64[ns]\n",
      " 8   city                   3214 non-null   object        \n",
      " 9   first_name             3214 non-null   object        \n",
      " 10  last_name              3214 non-null   object        \n",
      " 11  reg_date               3214 non-null   object        \n",
      " 12  tariff                 3214 non-null   object        \n",
      " 13  messages_included      3214 non-null   int64         \n",
      " 14  mb_per_month_included  3214 non-null   int64         \n",
      " 15  minutes_included       3214 non-null   int64         \n",
      " 16  rub_monthly_fee        3214 non-null   int64         \n",
      " 17  rub_per_gb             3214 non-null   int64         \n",
      " 18  rub_per_message        3214 non-null   int64         \n",
      " 19  rub_per_minute         3214 non-null   int64         \n",
      "dtypes: datetime64[ns](1), float64(4), int64(10), object(5)\n",
      "memory usage: 527.3+ KB\n"
     ]
    }
   ],
   "source": [
    "df.info()"
   ]
  },
  {
   "cell_type": "code",
   "execution_count": 42,
   "id": "c4114b86",
   "metadata": {},
   "outputs": [
    {
     "data": {
      "text/plain": [
       "user_id                    0\n",
       "month                      0\n",
       "count_calls               40\n",
       "min_used                  40\n",
       "sms_used                 497\n",
       "mb_used                   11\n",
       "age                        0\n",
       "churn_date                 0\n",
       "city                       0\n",
       "first_name                 0\n",
       "last_name                  0\n",
       "reg_date                   0\n",
       "tariff                     0\n",
       "messages_included          0\n",
       "mb_per_month_included      0\n",
       "minutes_included           0\n",
       "rub_monthly_fee            0\n",
       "rub_per_gb                 0\n",
       "rub_per_message            0\n",
       "rub_per_minute             0\n",
       "dtype: int64"
      ]
     },
     "execution_count": 42,
     "metadata": {},
     "output_type": "execute_result"
    }
   ],
   "source": [
    "df.isna().sum()"
   ]
  },
  {
   "cell_type": "code",
   "execution_count": 43,
   "id": "82fd8f7a",
   "metadata": {},
   "outputs": [],
   "source": [
    "df['count_calls'] = df['count_calls'].fillna(0)\n",
    "df['min_used'] = df['min_used'].fillna(0)\n",
    "df['sms_used'] = df['sms_used'].fillna(0)\n",
    "df['mb_used'] = df['mb_used'].fillna(0)"
   ]
  },
  {
   "cell_type": "markdown",
   "id": "de324e03",
   "metadata": {},
   "source": [
    "В получившейся сводной таблице заполним пропуски нулями в столбцах 'count_calls', 'min_used', 'sms_used' и 'mb_used' исходя из предположения, что в какие-то месяцы клиенты могли не пользоваться звонками/смс/интернетом."
   ]
  },
  {
   "cell_type": "code",
   "execution_count": 44,
   "id": "27f344a1",
   "metadata": {},
   "outputs": [
    {
     "name": "stdout",
     "output_type": "stream",
     "text": [
      "Количество дубликатов\n",
      "0\n",
      " \n",
      "Количество пропусков\n",
      "user_id                  0\n",
      "month                    0\n",
      "count_calls              0\n",
      "min_used                 0\n",
      "sms_used                 0\n",
      "mb_used                  0\n",
      "age                      0\n",
      "churn_date               0\n",
      "city                     0\n",
      "first_name               0\n",
      "last_name                0\n",
      "reg_date                 0\n",
      "tariff                   0\n",
      "messages_included        0\n",
      "mb_per_month_included    0\n",
      "minutes_included         0\n",
      "rub_monthly_fee          0\n",
      "rub_per_gb               0\n",
      "rub_per_message          0\n",
      "rub_per_minute           0\n",
      "dtype: int64\n"
     ]
    }
   ],
   "source": [
    "chek(df)"
   ]
  },
  {
   "cell_type": "markdown",
   "id": "3be89e74",
   "metadata": {},
   "source": [
    "### Посчитаем для каждого пользователя помесячную выручку"
   ]
  },
  {
   "cell_type": "code",
   "execution_count": 45,
   "id": "697dc1c6",
   "metadata": {},
   "outputs": [],
   "source": [
    "def calculation(row):\n",
    "    sms = (row['sms_used'] - row['messages_included']) * row['rub_per_message']\n",
    "    mins = (row['min_used'] - row['minutes_included']) * row['rub_per_minute']\n",
    "    mbs = np.ceil((row['mb_used'] - row['mb_per_month_included'])/1024) * row['rub_per_gb']\n",
    "    total = 0\n",
    "    for i in [sms, mins, mbs]:\n",
    "        if i > 0:\n",
    "            total += i\n",
    "    return total"
   ]
  },
  {
   "cell_type": "code",
   "execution_count": 46,
   "id": "bf8d5d23",
   "metadata": {},
   "outputs": [],
   "source": [
    "df['calculation'] = df.apply(lambda x: calculation(x), axis=1)"
   ]
  },
  {
   "cell_type": "code",
   "execution_count": 47,
   "id": "3eca6d58",
   "metadata": {},
   "outputs": [],
   "source": [
    "df['revenue'] = df['calculation'] + df['rub_monthly_fee']"
   ]
  },
  {
   "cell_type": "markdown",
   "id": "194af224",
   "metadata": {},
   "source": [
    "Создали столбец 'revenue', где находятся выручка"
   ]
  },
  {
   "cell_type": "code",
   "execution_count": 48,
   "id": "92dec367",
   "metadata": {
    "scrolled": false
   },
   "outputs": [
    {
     "data": {
      "text/html": [
       "<div>\n",
       "<style scoped>\n",
       "    .dataframe tbody tr th:only-of-type {\n",
       "        vertical-align: middle;\n",
       "    }\n",
       "\n",
       "    .dataframe tbody tr th {\n",
       "        vertical-align: top;\n",
       "    }\n",
       "\n",
       "    .dataframe thead th {\n",
       "        text-align: right;\n",
       "    }\n",
       "</style>\n",
       "<table border=\"1\" class=\"dataframe\">\n",
       "  <thead>\n",
       "    <tr style=\"text-align: right;\">\n",
       "      <th></th>\n",
       "      <th>user_id</th>\n",
       "      <th>month</th>\n",
       "      <th>count_calls</th>\n",
       "      <th>min_used</th>\n",
       "      <th>sms_used</th>\n",
       "      <th>mb_used</th>\n",
       "      <th>age</th>\n",
       "      <th>churn_date</th>\n",
       "      <th>city</th>\n",
       "      <th>first_name</th>\n",
       "      <th>last_name</th>\n",
       "      <th>reg_date</th>\n",
       "      <th>tariff</th>\n",
       "      <th>messages_included</th>\n",
       "      <th>mb_per_month_included</th>\n",
       "      <th>minutes_included</th>\n",
       "      <th>rub_monthly_fee</th>\n",
       "      <th>rub_per_gb</th>\n",
       "      <th>rub_per_message</th>\n",
       "      <th>rub_per_minute</th>\n",
       "      <th>calculation</th>\n",
       "      <th>revenue</th>\n",
       "    </tr>\n",
       "  </thead>\n",
       "  <tbody>\n",
       "    <tr>\n",
       "      <th>530</th>\n",
       "      <td>1085</td>\n",
       "      <td>6</td>\n",
       "      <td>12.0</td>\n",
       "      <td>95.0</td>\n",
       "      <td>0.0</td>\n",
       "      <td>9037.66</td>\n",
       "      <td>69</td>\n",
       "      <td>2018-12-31</td>\n",
       "      <td>Омск</td>\n",
       "      <td>Лола</td>\n",
       "      <td>Дорофеева</td>\n",
       "      <td>2018-06-12</td>\n",
       "      <td>ultra</td>\n",
       "      <td>1000</td>\n",
       "      <td>30720</td>\n",
       "      <td>3000</td>\n",
       "      <td>1950</td>\n",
       "      <td>150</td>\n",
       "      <td>1</td>\n",
       "      <td>1</td>\n",
       "      <td>0.0</td>\n",
       "      <td>1950.0</td>\n",
       "    </tr>\n",
       "    <tr>\n",
       "      <th>847</th>\n",
       "      <td>1135</td>\n",
       "      <td>8</td>\n",
       "      <td>73.0</td>\n",
       "      <td>654.0</td>\n",
       "      <td>21.0</td>\n",
       "      <td>18421.08</td>\n",
       "      <td>64</td>\n",
       "      <td>2018-12-31</td>\n",
       "      <td>Архангельск</td>\n",
       "      <td>Милена</td>\n",
       "      <td>Воронина</td>\n",
       "      <td>2018-01-29</td>\n",
       "      <td>smart</td>\n",
       "      <td>50</td>\n",
       "      <td>15360</td>\n",
       "      <td>500</td>\n",
       "      <td>550</td>\n",
       "      <td>200</td>\n",
       "      <td>3</td>\n",
       "      <td>3</td>\n",
       "      <td>1062.0</td>\n",
       "      <td>1612.0</td>\n",
       "    </tr>\n",
       "    <tr>\n",
       "      <th>2605</th>\n",
       "      <td>1410</td>\n",
       "      <td>12</td>\n",
       "      <td>51.0</td>\n",
       "      <td>402.0</td>\n",
       "      <td>20.0</td>\n",
       "      <td>15169.49</td>\n",
       "      <td>25</td>\n",
       "      <td>2018-12-31</td>\n",
       "      <td>Нижний Тагил</td>\n",
       "      <td>Гарри</td>\n",
       "      <td>Ильин</td>\n",
       "      <td>2018-08-28</td>\n",
       "      <td>smart</td>\n",
       "      <td>50</td>\n",
       "      <td>15360</td>\n",
       "      <td>500</td>\n",
       "      <td>550</td>\n",
       "      <td>200</td>\n",
       "      <td>3</td>\n",
       "      <td>3</td>\n",
       "      <td>0.0</td>\n",
       "      <td>550.0</td>\n",
       "    </tr>\n",
       "    <tr>\n",
       "      <th>2642</th>\n",
       "      <td>1416</td>\n",
       "      <td>10</td>\n",
       "      <td>152.0</td>\n",
       "      <td>1084.0</td>\n",
       "      <td>101.0</td>\n",
       "      <td>18716.22</td>\n",
       "      <td>50</td>\n",
       "      <td>2018-12-14</td>\n",
       "      <td>Санкт-Петербург</td>\n",
       "      <td>Валерия</td>\n",
       "      <td>Ёлчина</td>\n",
       "      <td>2018-07-16</td>\n",
       "      <td>ultra</td>\n",
       "      <td>1000</td>\n",
       "      <td>30720</td>\n",
       "      <td>3000</td>\n",
       "      <td>1950</td>\n",
       "      <td>150</td>\n",
       "      <td>1</td>\n",
       "      <td>1</td>\n",
       "      <td>0.0</td>\n",
       "      <td>1950.0</td>\n",
       "    </tr>\n",
       "    <tr>\n",
       "      <th>1080</th>\n",
       "      <td>1173</td>\n",
       "      <td>10</td>\n",
       "      <td>119.0</td>\n",
       "      <td>841.0</td>\n",
       "      <td>14.0</td>\n",
       "      <td>20728.29</td>\n",
       "      <td>46</td>\n",
       "      <td>2018-12-31</td>\n",
       "      <td>Красноярск</td>\n",
       "      <td>Агафья</td>\n",
       "      <td>Григорьева</td>\n",
       "      <td>2018-06-21</td>\n",
       "      <td>smart</td>\n",
       "      <td>50</td>\n",
       "      <td>15360</td>\n",
       "      <td>500</td>\n",
       "      <td>550</td>\n",
       "      <td>200</td>\n",
       "      <td>3</td>\n",
       "      <td>3</td>\n",
       "      <td>2223.0</td>\n",
       "      <td>2773.0</td>\n",
       "    </tr>\n",
       "    <tr>\n",
       "      <th>624</th>\n",
       "      <td>1099</td>\n",
       "      <td>11</td>\n",
       "      <td>88.0</td>\n",
       "      <td>579.0</td>\n",
       "      <td>43.0</td>\n",
       "      <td>16868.59</td>\n",
       "      <td>67</td>\n",
       "      <td>2018-12-31</td>\n",
       "      <td>Тольятти</td>\n",
       "      <td>Аюна</td>\n",
       "      <td>Сергеева</td>\n",
       "      <td>2018-03-16</td>\n",
       "      <td>ultra</td>\n",
       "      <td>1000</td>\n",
       "      <td>30720</td>\n",
       "      <td>3000</td>\n",
       "      <td>1950</td>\n",
       "      <td>150</td>\n",
       "      <td>1</td>\n",
       "      <td>1</td>\n",
       "      <td>0.0</td>\n",
       "      <td>1950.0</td>\n",
       "    </tr>\n",
       "    <tr>\n",
       "      <th>1319</th>\n",
       "      <td>1208</td>\n",
       "      <td>12</td>\n",
       "      <td>64.0</td>\n",
       "      <td>396.0</td>\n",
       "      <td>0.0</td>\n",
       "      <td>16690.02</td>\n",
       "      <td>69</td>\n",
       "      <td>2018-12-31</td>\n",
       "      <td>Пермь</td>\n",
       "      <td>Ева</td>\n",
       "      <td>Сахарова</td>\n",
       "      <td>2018-03-24</td>\n",
       "      <td>ultra</td>\n",
       "      <td>1000</td>\n",
       "      <td>30720</td>\n",
       "      <td>3000</td>\n",
       "      <td>1950</td>\n",
       "      <td>150</td>\n",
       "      <td>1</td>\n",
       "      <td>1</td>\n",
       "      <td>0.0</td>\n",
       "      <td>1950.0</td>\n",
       "    </tr>\n",
       "    <tr>\n",
       "      <th>949</th>\n",
       "      <td>1152</td>\n",
       "      <td>9</td>\n",
       "      <td>42.0</td>\n",
       "      <td>288.0</td>\n",
       "      <td>0.0</td>\n",
       "      <td>21421.25</td>\n",
       "      <td>44</td>\n",
       "      <td>2018-12-31</td>\n",
       "      <td>Мурманск</td>\n",
       "      <td>Марина</td>\n",
       "      <td>Щербакова</td>\n",
       "      <td>2018-02-05</td>\n",
       "      <td>ultra</td>\n",
       "      <td>1000</td>\n",
       "      <td>30720</td>\n",
       "      <td>3000</td>\n",
       "      <td>1950</td>\n",
       "      <td>150</td>\n",
       "      <td>1</td>\n",
       "      <td>1</td>\n",
       "      <td>0.0</td>\n",
       "      <td>1950.0</td>\n",
       "    </tr>\n",
       "    <tr>\n",
       "      <th>2007</th>\n",
       "      <td>1321</td>\n",
       "      <td>4</td>\n",
       "      <td>52.0</td>\n",
       "      <td>351.0</td>\n",
       "      <td>31.0</td>\n",
       "      <td>11099.56</td>\n",
       "      <td>29</td>\n",
       "      <td>2018-12-31</td>\n",
       "      <td>Москва</td>\n",
       "      <td>Онисим</td>\n",
       "      <td>Софронов</td>\n",
       "      <td>2018-02-04</td>\n",
       "      <td>smart</td>\n",
       "      <td>50</td>\n",
       "      <td>15360</td>\n",
       "      <td>500</td>\n",
       "      <td>550</td>\n",
       "      <td>200</td>\n",
       "      <td>3</td>\n",
       "      <td>3</td>\n",
       "      <td>0.0</td>\n",
       "      <td>550.0</td>\n",
       "    </tr>\n",
       "    <tr>\n",
       "      <th>110</th>\n",
       "      <td>1015</td>\n",
       "      <td>6</td>\n",
       "      <td>55.0</td>\n",
       "      <td>430.0</td>\n",
       "      <td>80.0</td>\n",
       "      <td>26894.26</td>\n",
       "      <td>26</td>\n",
       "      <td>2018-12-31</td>\n",
       "      <td>Челябинск</td>\n",
       "      <td>Рузана</td>\n",
       "      <td>Алюшина</td>\n",
       "      <td>2018-04-30</td>\n",
       "      <td>smart</td>\n",
       "      <td>50</td>\n",
       "      <td>15360</td>\n",
       "      <td>500</td>\n",
       "      <td>550</td>\n",
       "      <td>200</td>\n",
       "      <td>3</td>\n",
       "      <td>3</td>\n",
       "      <td>2490.0</td>\n",
       "      <td>3040.0</td>\n",
       "    </tr>\n",
       "  </tbody>\n",
       "</table>\n",
       "</div>"
      ],
      "text/plain": [
       "      user_id  month  count_calls  min_used  sms_used   mb_used  age  \\\n",
       "530      1085      6         12.0      95.0       0.0   9037.66   69   \n",
       "847      1135      8         73.0     654.0      21.0  18421.08   64   \n",
       "2605     1410     12         51.0     402.0      20.0  15169.49   25   \n",
       "2642     1416     10        152.0    1084.0     101.0  18716.22   50   \n",
       "1080     1173     10        119.0     841.0      14.0  20728.29   46   \n",
       "624      1099     11         88.0     579.0      43.0  16868.59   67   \n",
       "1319     1208     12         64.0     396.0       0.0  16690.02   69   \n",
       "949      1152      9         42.0     288.0       0.0  21421.25   44   \n",
       "2007     1321      4         52.0     351.0      31.0  11099.56   29   \n",
       "110      1015      6         55.0     430.0      80.0  26894.26   26   \n",
       "\n",
       "     churn_date             city first_name   last_name    reg_date tariff  \\\n",
       "530  2018-12-31             Омск       Лола   Дорофеева  2018-06-12  ultra   \n",
       "847  2018-12-31      Архангельск     Милена    Воронина  2018-01-29  smart   \n",
       "2605 2018-12-31     Нижний Тагил      Гарри       Ильин  2018-08-28  smart   \n",
       "2642 2018-12-14  Санкт-Петербург    Валерия      Ёлчина  2018-07-16  ultra   \n",
       "1080 2018-12-31       Красноярск     Агафья  Григорьева  2018-06-21  smart   \n",
       "624  2018-12-31         Тольятти       Аюна    Сергеева  2018-03-16  ultra   \n",
       "1319 2018-12-31            Пермь        Ева    Сахарова  2018-03-24  ultra   \n",
       "949  2018-12-31         Мурманск     Марина   Щербакова  2018-02-05  ultra   \n",
       "2007 2018-12-31           Москва     Онисим    Софронов  2018-02-04  smart   \n",
       "110  2018-12-31        Челябинск     Рузана     Алюшина  2018-04-30  smart   \n",
       "\n",
       "      messages_included  mb_per_month_included  minutes_included  \\\n",
       "530                1000                  30720              3000   \n",
       "847                  50                  15360               500   \n",
       "2605                 50                  15360               500   \n",
       "2642               1000                  30720              3000   \n",
       "1080                 50                  15360               500   \n",
       "624                1000                  30720              3000   \n",
       "1319               1000                  30720              3000   \n",
       "949                1000                  30720              3000   \n",
       "2007                 50                  15360               500   \n",
       "110                  50                  15360               500   \n",
       "\n",
       "      rub_monthly_fee  rub_per_gb  rub_per_message  rub_per_minute  \\\n",
       "530              1950         150                1               1   \n",
       "847               550         200                3               3   \n",
       "2605              550         200                3               3   \n",
       "2642             1950         150                1               1   \n",
       "1080              550         200                3               3   \n",
       "624              1950         150                1               1   \n",
       "1319             1950         150                1               1   \n",
       "949              1950         150                1               1   \n",
       "2007              550         200                3               3   \n",
       "110               550         200                3               3   \n",
       "\n",
       "      calculation  revenue  \n",
       "530           0.0   1950.0  \n",
       "847        1062.0   1612.0  \n",
       "2605          0.0    550.0  \n",
       "2642          0.0   1950.0  \n",
       "1080       2223.0   2773.0  \n",
       "624           0.0   1950.0  \n",
       "1319          0.0   1950.0  \n",
       "949           0.0   1950.0  \n",
       "2007          0.0    550.0  \n",
       "110        2490.0   3040.0  "
      ]
     },
     "execution_count": 48,
     "metadata": {},
     "output_type": "execute_result"
    }
   ],
   "source": [
    "df.sample(10)"
   ]
  },
  {
   "cell_type": "markdown",
   "id": "14b1c53a",
   "metadata": {},
   "source": [
    "## Вывод:\n",
    "\n",
    "1. Таблица звонков: в таблице 202606 наблюдений. Пропусков и дубликатов не выявлено. Столбец с продолжительностью звонков был округлен до минут (по условию оператора секунды округляются до минут). Порядка 40 тыс раз не совершили ни одного звонка, т.е. продолжительность разговора нулевая. Наиболее типичной продолжительностью звонков является дельта от 2 до 11 минут.  \n",
    "2. Таблица с сообщениями: 123035 наблюдений. Пропусков и дубликатов не выявлено. Отдельно выделен столбец с месяцем отправки сообщения. В течение года с января по декабрь обнаружено планомерный рост количества отправленных сообщений (сильная связь между этими признаками)  \n",
    "3. Таблица с интернет-трафиком: 149395 наблюдений. Пропусков и дубликатов не выявлено. Порядка 20 тыс. наблюдений с нулевым трафиком. А в остальном, типичной дельтой является потребление трафика от 140 до 560 Мб в месяц.  \n",
    "4. Таблица с абонентами: 500 клиентов. Пропуски в столбце с датой расторжения были заполнены последним днем периода, за который нам были предоставлены данные(31.12.2018)  \n",
    "5. Посчтали для каждого пользователя: количество звонков, израсходованных минут, отправленных сообщений и объем израсходованного трафика по месяцам.  \n",
    "6. Объединили все талицы в единую  \n",
    "7. Посчитали для каждого пользователя помесячную выручку"
   ]
  },
  {
   "cell_type": "markdown",
   "id": "c1821764",
   "metadata": {},
   "source": [
    "## Шаг 3. Проанализируйте данные"
   ]
  },
  {
   "cell_type": "markdown",
   "id": "c4828b9d",
   "metadata": {},
   "source": [
    "### Посмотрим разницу в общей выручке по смарту и ультре"
   ]
  },
  {
   "cell_type": "code",
   "execution_count": 49,
   "id": "ea83d956",
   "metadata": {},
   "outputs": [
    {
     "data": {
      "image/png": "[encoded data removed]",
      "text/plain": [
       "<Figure size 432x288 with 1 Axes>"
      ]
     },
     "metadata": {
      "needs_background": "light"
     },
     "output_type": "display_data"
    }
   ],
   "source": [
    "sns.barplot(x= 'tariff', y= 'revenue',\n",
    "            data= df.pivot_table(index='tariff', values='revenue', aggfunc='sum').reset_index())\n",
    "plt.title('Объем выручки Smart и Ultra')\n",
    "plt.show()"
   ]
  },
  {
   "cell_type": "code",
   "execution_count": 50,
   "id": "06d777cd",
   "metadata": {
    "scrolled": false
   },
   "outputs": [
    {
     "data": {
      "text/html": [
       "<div>\n",
       "<style scoped>\n",
       "    .dataframe tbody tr th:only-of-type {\n",
       "        vertical-align: middle;\n",
       "    }\n",
       "\n",
       "    .dataframe tbody tr th {\n",
       "        vertical-align: top;\n",
       "    }\n",
       "\n",
       "    .dataframe thead th {\n",
       "        text-align: right;\n",
       "    }\n",
       "</style>\n",
       "<table border=\"1\" class=\"dataframe\">\n",
       "  <thead>\n",
       "    <tr style=\"text-align: right;\">\n",
       "      <th></th>\n",
       "      <th>mean</th>\n",
       "      <th>sum</th>\n",
       "    </tr>\n",
       "    <tr>\n",
       "      <th>tariff</th>\n",
       "      <th></th>\n",
       "      <th></th>\n",
       "    </tr>\n",
       "  </thead>\n",
       "  <tbody>\n",
       "    <tr>\n",
       "      <th>smart</th>\n",
       "      <td>1289.973531</td>\n",
       "      <td>2875351.0</td>\n",
       "    </tr>\n",
       "    <tr>\n",
       "      <th>ultra</th>\n",
       "      <td>2070.152284</td>\n",
       "      <td>2039100.0</td>\n",
       "    </tr>\n",
       "  </tbody>\n",
       "</table>\n",
       "</div>"
      ],
      "text/plain": [
       "               mean        sum\n",
       "tariff                        \n",
       "smart   1289.973531  2875351.0\n",
       "ultra   2070.152284  2039100.0"
      ]
     },
     "execution_count": 50,
     "metadata": {},
     "output_type": "execute_result"
    }
   ],
   "source": [
    " df.pivot_table(index='tariff', values='revenue', aggfunc=('sum', 'mean'))"
   ]
  },
  {
   "cell_type": "markdown",
   "id": "eefcc433",
   "metadata": {},
   "source": [
    "Общая выручка от клиентов подключенных к тарифу smart по отношению к ultra превышает на 714283руб. Но среднее значение выше у клиентов ultra"
   ]
  },
  {
   "cell_type": "markdown",
   "id": "5c023fa4",
   "metadata": {},
   "source": [
    "### Посмотрим количество абонентов в каждом тарифе "
   ]
  },
  {
   "cell_type": "code",
   "execution_count": 51,
   "id": "7d621376",
   "metadata": {},
   "outputs": [
    {
     "data": {
      "text/plain": [
       "smart    351\n",
       "ultra    149\n",
       "Name: tariff, dtype: int64"
      ]
     },
     "execution_count": 51,
     "metadata": {},
     "output_type": "execute_result"
    }
   ],
   "source": [
    "df_us['tariff'].value_counts()"
   ]
  },
  {
   "cell_type": "markdown",
   "id": "16483067",
   "metadata": {},
   "source": [
    "351 абонент тарифа smart и 139 абонентов тарифов ultra"
   ]
  },
  {
   "cell_type": "code",
   "execution_count": 52,
   "id": "fcbe49af",
   "metadata": {},
   "outputs": [],
   "source": [
    "smart = df.query('tariff == \"smart\"')"
   ]
  },
  {
   "cell_type": "code",
   "execution_count": 53,
   "id": "50844a54",
   "metadata": {},
   "outputs": [],
   "source": [
    "ultra = df.query('tariff == \"ultra\"')"
   ]
  },
  {
   "cell_type": "markdown",
   "id": "caab7818",
   "metadata": {},
   "source": [
    "Создала переменные, чтобы было удобнее производить расчеты изходя из тарифа"
   ]
  },
  {
   "cell_type": "markdown",
   "id": "806c9d91",
   "metadata": {},
   "source": [
    "### Посчитаем средний чек на клиента тарифа ultra и smart"
   ]
  },
  {
   "cell_type": "code",
   "execution_count": 54,
   "id": "d3c3ac87",
   "metadata": {
    "scrolled": false
   },
   "outputs": [
    {
     "data": {
      "text/plain": [
       "count    2229.000000\n",
       "mean     1289.973531\n",
       "std       818.404367\n",
       "min       550.000000\n",
       "25%       550.000000\n",
       "50%      1023.000000\n",
       "75%      1750.000000\n",
       "max      6770.000000\n",
       "Name: revenue, dtype: float64"
      ]
     },
     "execution_count": 54,
     "metadata": {},
     "output_type": "execute_result"
    }
   ],
   "source": [
    "smart['revenue'].describe()"
   ]
  },
  {
   "cell_type": "code",
   "execution_count": 55,
   "id": "5e2f0972",
   "metadata": {},
   "outputs": [
    {
     "data": {
      "text/plain": [
       "count     985.000000\n",
       "mean     2070.152284\n",
       "std       376.187114\n",
       "min      1950.000000\n",
       "25%      1950.000000\n",
       "50%      1950.000000\n",
       "75%      1950.000000\n",
       "max      4800.000000\n",
       "Name: revenue, dtype: float64"
      ]
     },
     "execution_count": 55,
     "metadata": {},
     "output_type": "execute_result"
    }
   ],
   "source": [
    "ultra['revenue'].describe()"
   ]
  },
  {
   "cell_type": "markdown",
   "id": "476bdfec",
   "metadata": {},
   "source": [
    "Клиенты тарифа smart чаще пользуются платными услугами, не входящими в абон. плату. Т.к. абон. плата 550р., а средний чек 1290р.Тогда как клиенты тарифа ultra укладываются в рамки условий по тарифу и дополнительно практически не платят"
   ]
  },
  {
   "cell_type": "markdown",
   "id": "e1cb2b10",
   "metadata": {},
   "source": [
    "### Опишем сколько минут разговора, сколько сообщений и какой объём интернет-трафика требуется пользователям каждого тарифа в месяц"
   ]
  },
  {
   "cell_type": "code",
   "execution_count": 56,
   "id": "20a66699",
   "metadata": {},
   "outputs": [
    {
     "data": {
      "image/png": "[encoded data removed]",
      "text/plain": [
       "<Figure size 864x720 with 3 Axes>"
      ]
     },
     "metadata": {
      "needs_background": "light"
     },
     "output_type": "display_data"
    }
   ],
   "source": [
    "fig = plt.figure(figsize=(12,10))\n",
    "plt.subplot(2,2,1)\n",
    "sns.histplot(x = smart['min_used'])\n",
    "sns.histplot(x = ultra['min_used'], alpha= .3, color= 'green', kde=True)\n",
    "plt.legend(('smart', 'ultra'))\n",
    "plt.title('Количество минут')\n",
    "\n",
    "plt.subplot(2,2,2)\n",
    "sns.histplot(x = smart['sms_used'], color= 'red')\n",
    "sns.histplot(x = ultra['sms_used'], alpha= .3, color= 'yellow', kde=True)\n",
    "plt.legend(('smart', 'ultra'))\n",
    "plt.title('Количество смс')\n",
    "\n",
    "plt.subplot(2,2,3)\n",
    "sns.histplot(x = smart['mb_used'], color= 'violet')\n",
    "sns.histplot(x = ultra['mb_used'], alpha= .3, color= 'pink', kde=True)\n",
    "plt.legend(('smart', 'ultra'))\n",
    "plt.title('Объем интернет-трафика')\n",
    "\n",
    "plt.show()"
   ]
  },
  {
   "cell_type": "code",
   "execution_count": 57,
   "id": "315d5904",
   "metadata": {},
   "outputs": [
    {
     "data": {
      "text/html": [
       "<div>\n",
       "<style scoped>\n",
       "    .dataframe tbody tr th:only-of-type {\n",
       "        vertical-align: middle;\n",
       "    }\n",
       "\n",
       "    .dataframe tbody tr th {\n",
       "        vertical-align: top;\n",
       "    }\n",
       "\n",
       "    .dataframe thead th {\n",
       "        text-align: right;\n",
       "    }\n",
       "</style>\n",
       "<table border=\"1\" class=\"dataframe\">\n",
       "  <thead>\n",
       "    <tr style=\"text-align: right;\">\n",
       "      <th></th>\n",
       "      <th>min_used</th>\n",
       "      <th>sms_used</th>\n",
       "      <th>mb_used</th>\n",
       "    </tr>\n",
       "  </thead>\n",
       "  <tbody>\n",
       "    <tr>\n",
       "      <th>count</th>\n",
       "      <td>2229.000000</td>\n",
       "      <td>2229.000000</td>\n",
       "      <td>2229.000000</td>\n",
       "    </tr>\n",
       "    <tr>\n",
       "      <th>mean</th>\n",
       "      <td>417.934948</td>\n",
       "      <td>33.384029</td>\n",
       "      <td>16208.386990</td>\n",
       "    </tr>\n",
       "    <tr>\n",
       "      <th>std</th>\n",
       "      <td>190.313730</td>\n",
       "      <td>28.227876</td>\n",
       "      <td>5870.476681</td>\n",
       "    </tr>\n",
       "    <tr>\n",
       "      <th>min</th>\n",
       "      <td>0.000000</td>\n",
       "      <td>0.000000</td>\n",
       "      <td>0.000000</td>\n",
       "    </tr>\n",
       "    <tr>\n",
       "      <th>25%</th>\n",
       "      <td>282.000000</td>\n",
       "      <td>10.000000</td>\n",
       "      <td>12643.010000</td>\n",
       "    </tr>\n",
       "    <tr>\n",
       "      <th>50%</th>\n",
       "      <td>422.000000</td>\n",
       "      <td>28.000000</td>\n",
       "      <td>16506.840000</td>\n",
       "    </tr>\n",
       "    <tr>\n",
       "      <th>75%</th>\n",
       "      <td>545.000000</td>\n",
       "      <td>51.000000</td>\n",
       "      <td>20042.930000</td>\n",
       "    </tr>\n",
       "    <tr>\n",
       "      <th>max</th>\n",
       "      <td>1435.000000</td>\n",
       "      <td>143.000000</td>\n",
       "      <td>38552.450000</td>\n",
       "    </tr>\n",
       "  </tbody>\n",
       "</table>\n",
       "</div>"
      ],
      "text/plain": [
       "          min_used     sms_used       mb_used\n",
       "count  2229.000000  2229.000000   2229.000000\n",
       "mean    417.934948    33.384029  16208.386990\n",
       "std     190.313730    28.227876   5870.476681\n",
       "min       0.000000     0.000000      0.000000\n",
       "25%     282.000000    10.000000  12643.010000\n",
       "50%     422.000000    28.000000  16506.840000\n",
       "75%     545.000000    51.000000  20042.930000\n",
       "max    1435.000000   143.000000  38552.450000"
      ]
     },
     "execution_count": 57,
     "metadata": {},
     "output_type": "execute_result"
    }
   ],
   "source": [
    "smart[['min_used', 'sms_used', 'mb_used']].describe()"
   ]
  },
  {
   "cell_type": "code",
   "execution_count": 58,
   "id": "be10eb0d",
   "metadata": {
    "scrolled": true
   },
   "outputs": [
    {
     "data": {
      "text/html": [
       "<div>\n",
       "<style scoped>\n",
       "    .dataframe tbody tr th:only-of-type {\n",
       "        vertical-align: middle;\n",
       "    }\n",
       "\n",
       "    .dataframe tbody tr th {\n",
       "        vertical-align: top;\n",
       "    }\n",
       "\n",
       "    .dataframe thead th {\n",
       "        text-align: right;\n",
       "    }\n",
       "</style>\n",
       "<table border=\"1\" class=\"dataframe\">\n",
       "  <thead>\n",
       "    <tr style=\"text-align: right;\">\n",
       "      <th></th>\n",
       "      <th>min_used</th>\n",
       "      <th>sms_used</th>\n",
       "      <th>mb_used</th>\n",
       "    </tr>\n",
       "  </thead>\n",
       "  <tbody>\n",
       "    <tr>\n",
       "      <th>count</th>\n",
       "      <td>985.000000</td>\n",
       "      <td>985.000000</td>\n",
       "      <td>985.000000</td>\n",
       "    </tr>\n",
       "    <tr>\n",
       "      <th>mean</th>\n",
       "      <td>526.623350</td>\n",
       "      <td>49.363452</td>\n",
       "      <td>19468.805208</td>\n",
       "    </tr>\n",
       "    <tr>\n",
       "      <th>std</th>\n",
       "      <td>317.606098</td>\n",
       "      <td>47.804457</td>\n",
       "      <td>10087.170752</td>\n",
       "    </tr>\n",
       "    <tr>\n",
       "      <th>min</th>\n",
       "      <td>0.000000</td>\n",
       "      <td>0.000000</td>\n",
       "      <td>0.000000</td>\n",
       "    </tr>\n",
       "    <tr>\n",
       "      <th>25%</th>\n",
       "      <td>284.000000</td>\n",
       "      <td>6.000000</td>\n",
       "      <td>11770.260000</td>\n",
       "    </tr>\n",
       "    <tr>\n",
       "      <th>50%</th>\n",
       "      <td>518.000000</td>\n",
       "      <td>38.000000</td>\n",
       "      <td>19308.010000</td>\n",
       "    </tr>\n",
       "    <tr>\n",
       "      <th>75%</th>\n",
       "      <td>752.000000</td>\n",
       "      <td>79.000000</td>\n",
       "      <td>26837.690000</td>\n",
       "    </tr>\n",
       "    <tr>\n",
       "      <th>max</th>\n",
       "      <td>1673.000000</td>\n",
       "      <td>224.000000</td>\n",
       "      <td>49745.690000</td>\n",
       "    </tr>\n",
       "  </tbody>\n",
       "</table>\n",
       "</div>"
      ],
      "text/plain": [
       "          min_used    sms_used       mb_used\n",
       "count   985.000000  985.000000    985.000000\n",
       "mean    526.623350   49.363452  19468.805208\n",
       "std     317.606098   47.804457  10087.170752\n",
       "min       0.000000    0.000000      0.000000\n",
       "25%     284.000000    6.000000  11770.260000\n",
       "50%     518.000000   38.000000  19308.010000\n",
       "75%     752.000000   79.000000  26837.690000\n",
       "max    1673.000000  224.000000  49745.690000"
      ]
     },
     "execution_count": 58,
     "metadata": {},
     "output_type": "execute_result"
    }
   ],
   "source": [
    "ultra[['min_used', 'sms_used', 'mb_used']].describe()"
   ]
  },
  {
   "cell_type": "markdown",
   "id": "1dbb4c7e",
   "metadata": {},
   "source": [
    "Абонентам тарифа smart в месяц требуется в среднем 420 минут, 33 смс и 16Гб интернет-трафика. А абонентам тарифа ultra \n",
    "требуется 520 минут, 49 смс и 19 Гб интернет-трафика. У абонентов тарифа ultra больший расход минут, смс и интернет-трафика, но эти значения укладываются в абонентскую плату, тогда как абоненты тарифа smart пользуются услугами сверх лимита, заложенного в абон. плату"
   ]
  },
  {
   "cell_type": "markdown",
   "id": "f542c929",
   "metadata": {},
   "source": [
    "## Вывод:  \n",
    "\n",
    "1. Общая выручка от клиентов подключенных к тарифу smart по отношению к ultra превышает на 714283руб. Но среднее значение выше у клиентов ultra  \n",
    "2. Всего 500 клиентов, из них 351 абонент тарифа smart и 139 абонентов тарифов ultra  \n",
    "3. Клиенты тарифа smart чаще пользуются платными услугами, не входящими в абон. плату. Т.к. абон. плата 550р., а средний чек 1290р.Тогда как клиенты тарифа ultra укладываются в рамки условий по тарифу и дополнительно практически не платят\n",
    "4. Абонентам тарифа smart в месяц требуется в среднем 420 минут, 33 смс и 16Гб интернет-трафика. А абонентам тарифа ultra Ф\n",
    "требуется 520 минут, 49 смс и 19 Гб интернет-трафика. У абонентов тарифа ultra больший расход минут, смс и интернет-трафика, но эти значения укладываются в абонентскую плату, тогда как абоненты тарифа smart пользуются услугами сверх лимита, заложенного в абон. плату"
   ]
  },
  {
   "cell_type": "markdown",
   "id": "177ac7d8",
   "metadata": {},
   "source": [
    "## Шаг 4. Проверьте гипотезы"
   ]
  },
  {
   "cell_type": "markdown",
   "id": "234f4fa4",
   "metadata": {},
   "source": [
    "### Гипотеза о равенстве средних двух генеральных совокупностей:  "
   ]
  },
  {
   "cell_type": "markdown",
   "id": "3f5579e4",
   "metadata": {},
   "source": [
    "#### H₀: Средняя выручка пользователей тарифов «Ультра» и «Смарт» равны (H₀ всегда формулируется так, чтобы использовать знак равенства)   Н1: Средняя выручка пользователей тарифов «Ультра» и «Смарт» различаются\n"
   ]
  },
  {
   "cell_type": "code",
   "execution_count": 59,
   "id": "aa3010c8",
   "metadata": {},
   "outputs": [
    {
     "name": "stdout",
     "output_type": "stream",
     "text": [
      "p-значение:  1.4229814360764067e-160\n",
      "Отвергаем нулевую гипотезу\n"
     ]
    }
   ],
   "source": [
    "ultra_revenue = pd.Series(ultra['revenue'])\n",
    "\n",
    "smart_revenue = pd.Series(smart['revenue'])\n",
    "\n",
    "alpha = .05\n",
    "\n",
    "results = st.ttest_ind(\n",
    "    ultra_revenue, \n",
    "    smart_revenue)\n",
    "\n",
    "print('p-значение: ', results.pvalue)\n",
    "\n",
    "if results.pvalue < alpha:\n",
    "    print(\"Отвергаем нулевую гипотезу\")\n",
    "else:\n",
    "    print(\"Не получилось отвергнуть нулевую гипотезу\") "
   ]
  },
  {
   "cell_type": "markdown",
   "id": "242c5d80",
   "metadata": {},
   "source": [
    "Нулевая гипотеза не подтвердилась, а это значит, это дает основание апредполагать, что средние значения выручки по тарифам смарт и ультра различны"
   ]
  },
  {
   "cell_type": "markdown",
   "id": "b7689450",
   "metadata": {},
   "source": [
    "#### H₀: Средняя выручка пользователей из Москвы равна выручке пользователей из других регионов. Н1: Средняя выручка пользователей из Москвы отличается от выручки пользователей из других регионов."
   ]
  },
  {
   "cell_type": "code",
   "execution_count": 60,
   "id": "a8a180af",
   "metadata": {},
   "outputs": [],
   "source": [
    "revenue_moscow = df.query('city == \"Москва\"')"
   ]
  },
  {
   "cell_type": "code",
   "execution_count": 61,
   "id": "1e3cf31b",
   "metadata": {},
   "outputs": [],
   "source": [
    "revenue_other = df.query('city != \"Москва\"')"
   ]
  },
  {
   "cell_type": "code",
   "execution_count": 62,
   "id": "9d93caff",
   "metadata": {},
   "outputs": [
    {
     "data": {
      "text/plain": [
       "array(['Москва'], dtype=object)"
      ]
     },
     "execution_count": 62,
     "metadata": {},
     "output_type": "execute_result"
    }
   ],
   "source": [
    "revenue_moscow['city'].unique()"
   ]
  },
  {
   "cell_type": "code",
   "execution_count": 63,
   "id": "acef10b0",
   "metadata": {},
   "outputs": [
    {
     "data": {
      "text/plain": [
       "array(['Краснодар', 'Стерлитамак', 'Новокузнецк', 'Набережные Челны',\n",
       "       'Ульяновск', 'Челябинск', 'Пермь', 'Тюмень', 'Самара',\n",
       "       'Санкт-Петербург', 'Иваново', 'Чебоксары', 'Омск', 'Уфа', 'Томск',\n",
       "       'Чита', 'Мурманск', 'Петрозаводск', 'Тверь', 'Екатеринбург',\n",
       "       'Махачкала', 'Вологда', 'Череповец', 'Ярославль', 'Сочи',\n",
       "       'Хабаровск', 'Ставрополь', 'Рязань', 'Улан-Удэ', 'Тула', 'Саратов',\n",
       "       'Ростов-на-Дону', 'Казань', 'Иркутск', 'Курск', 'Калуга', 'Якутск',\n",
       "       'Астрахань', 'Химки', 'Владикавказ', 'Волгоград', 'Саранск',\n",
       "       'Ижевск', 'Новосибирск', 'Брянск', 'Тольятти', 'Нижний Тагил',\n",
       "       'Орёл', 'Белгород', 'Воронеж', 'Курган', 'Барнаул', 'Красноярск',\n",
       "       'Архангельск', 'Липецк', 'Кемерово', 'Киров', 'Сургут', 'Пенза',\n",
       "       'Волжский', 'Магнитогорск', 'Нижний Новгород', 'Кострома',\n",
       "       'Владивосток', 'Тамбов', 'Балашиха', 'Севастополь', 'Калининград',\n",
       "       'Оренбург', 'Смоленск', 'Нижневартовск', 'Владимир',\n",
       "       'Новороссийск', 'Грозный', 'Подольск'], dtype=object)"
      ]
     },
     "execution_count": 63,
     "metadata": {},
     "output_type": "execute_result"
    }
   ],
   "source": [
    "revenue_other['city'].unique()"
   ]
  },
  {
   "cell_type": "code",
   "execution_count": 64,
   "id": "8b2e1a29",
   "metadata": {},
   "outputs": [
    {
     "name": "stdout",
     "output_type": "stream",
     "text": [
      "p-значение:  0.5257376663729298\n",
      "Не получилось отвергнуть нулевую гипотезу\n"
     ]
    }
   ],
   "source": [
    "moscow = pd.Series(revenue_moscow['revenue'])\n",
    "\n",
    "other = pd.Series(revenue_other['revenue'])\n",
    "\n",
    "alpha = .05\n",
    "\n",
    "results = st.ttest_ind(\n",
    "    moscow, \n",
    "    other,\n",
    "    equal_var = False)\n",
    "\n",
    "print('p-значение: ', results.pvalue)\n",
    "\n",
    "if results.pvalue < alpha:\n",
    "    print(\"Отвергаем нулевую гипотезу\")\n",
    "else:\n",
    "    print(\"Не получилось отвергнуть нулевую гипотезу\") \n"
   ]
  },
  {
   "cell_type": "markdown",
   "id": "8ab751eb",
   "metadata": {},
   "source": [
    "Тест подтвердил, что редняя выручка пользователей из Москвы равна выручке пользователей из других регионов."
   ]
  },
  {
   "cell_type": "code",
   "execution_count": 65,
   "id": "b18949b5",
   "metadata": {},
   "outputs": [
    {
     "data": {
      "text/plain": [
       "1546.7135842880523"
      ]
     },
     "execution_count": 65,
     "metadata": {},
     "output_type": "execute_result"
    }
   ],
   "source": [
    "revenue_moscow['revenue'].mean()"
   ]
  },
  {
   "cell_type": "code",
   "execution_count": 66,
   "id": "6d2e5763",
   "metadata": {},
   "outputs": [
    {
     "data": {
      "text/plain": [
       "1524.9362274298885"
      ]
     },
     "execution_count": 66,
     "metadata": {},
     "output_type": "execute_result"
    }
   ],
   "source": [
    "revenue_other['revenue'].mean()"
   ]
  },
  {
   "cell_type": "markdown",
   "id": "676ba89b",
   "metadata": {},
   "source": [
    "Итогом нашего тестирования стало, что средняя выручка пользователей тарифов «Ультра» и «Смарт» различаются, и что средняя выручка пользователей из Москвы равна выручке пользователей из других регионов"
   ]
  },
  {
   "cell_type": "markdown",
   "id": "983c765e",
   "metadata": {},
   "source": [
    "# Общий вывод:  \n",
    "1. В ходе подготовки данных были произведены следующие действия и сделаны нижеперечисленные выводы:\n",
    "    - Таблица звонков: в таблице 202606 наблюдений. Пропусков и дубликатов не выявлено. Столбец с продолжительностью звонков был округлен до минут (по условию оператора секунды округляются до минут). Порядка 40 тыс раз не совершили ни одного звонка, т.е. продолжительность разговора нулевая. Наиболее типичной продолжительностью звонков является дельта от 2 до 11 минут.  \n",
    "    - Таблица с сообщениями: 123035 наблюдений. Пропусков и дубликатов не выявлено. Отдельно выделен столбец с месяцем отправки сообщения. В течение года с января по декабрь обнаружено планомерный рост количества отправленных сообщений (сильная связь между этими признаками).  \n",
    "    - Таблица с интернет-трафиком: 149395 наблюдений. Пропусков и дубликатов не выявлено. Порядка 20 тыс. наблюдений с нулевым трафиком. А в остальном, типичной дельтой является потребление трафика от 140 до 560 Мб в месяц.  \n",
    "    - Таблица с абонентами: 500 клиентов. Пропуски в столбце с датой расторжения были заполнены последним днем периода, за который нам были предоставлены данные(31.12.2018)  \n",
    "    - Посчтали для каждого пользователя: количество звонков, израсходованных минут, отправленных сообщений и объем израсходованного трафика по месяцам.  \n",
    "    - Объединили все талицы в единую.  \n",
    "    - Посчитали для каждого пользователя помесячную выручку.  \n",
    "2. Проанализировав оба тарифа, можно сделать следующие выводы:\n",
    "    - Общая выручка от клиентов подключенных к тарифу smart по отношению к ultra превышает на 714283руб. Но среднее значение выше у клиентов ultra.  \n",
    "    - Всего 500 клиентов, из них 351 абонент тарифа smart и 139 абонентов тарифов ultra  \n",
    "    - Клиенты тарифа smart чаще пользуются платными услугами, не входящими в абон. плату. Т.к. абон. плата 550р., а средний чек 1290р.Тогда как клиенты тарифа ultra укладываются в рамки условий по тарифу и дополнительно практически не платят.  \n",
    "    - Абонентам тарифа smart в месяц требуется в среднем 420 минут, 33 смс и 16Гб интернет-трафика. А абонентам тарифа ultra требуется 520 минут, 49 смс и 19 Гб интернет-трафика. У абонентов тарифа ultra больший расход минут, смс и интернет-трафика, но эти значения укладываются в абонентскую плату, тогда как абоненты тарифа smart пользуются услугами сверх лимита, заложенного в абон. плату.  \n",
    "3. Результаты тестирования позволяют нам сделать выводы, что средняя выручка пользователей тарифов ultra и smart различаются, и что средняя выручка пользователей из Москвы равна выручке пользователей из других регионов.  \n",
    "4. Хотя пользователи тарифа smart и совершают меньше звонков, отправляют меньше смс и меньше пользуются интернет-трафиком, но тем не менее они охотнее доплачивают сверх того, что входит в абон. плату. Таких пользователей в 2 раза больше, чем пользателей тарифа ultra. Т. о. и прибыль за год больше от клиентов тарифа smart. Тогда как абоненты тарифа ultra практически не выходят за рамки услуг, включенных в абон. плату. И желающих, готовых сразу вносить большую плату за тариф, гораздо меньше."
   ]
  }
 ],
 "metadata": {
  "ExecuteTimeLog": [
   {
    "duration": 318,
    "start_time": "2022-02-18T10:56:58.885Z"
   },
   {
    "duration": 770,
    "start_time": "2022-02-18T10:57:04.236Z"
   },
   {
    "duration": 1922,
    "start_time": "2022-02-18T10:57:05.564Z"
   },
   {
    "duration": 175,
    "start_time": "2022-02-18T10:57:33.724Z"
   },
   {
    "duration": 99,
    "start_time": "2022-02-18T10:57:56.361Z"
   },
   {
    "duration": 141,
    "start_time": "2022-02-18T10:58:17.863Z"
   },
   {
    "duration": 25,
    "start_time": "2022-02-18T10:58:40.519Z"
   },
   {
    "duration": 25,
    "start_time": "2022-02-18T10:59:01.831Z"
   },
   {
    "duration": 691,
    "start_time": "2022-02-18T10:59:28.552Z"
   },
   {
    "duration": 180,
    "start_time": "2022-02-18T10:59:29.245Z"
   },
   {
    "duration": 24,
    "start_time": "2022-02-18T10:59:29.427Z"
   },
   {
    "duration": 108,
    "start_time": "2022-02-18T10:59:29.453Z"
   },
   {
    "duration": 16,
    "start_time": "2022-02-18T10:59:29.564Z"
   },
   {
    "duration": 159,
    "start_time": "2022-02-18T10:59:29.582Z"
   },
   {
    "duration": 20,
    "start_time": "2022-02-18T10:59:29.743Z"
   },
   {
    "duration": 29,
    "start_time": "2022-02-18T10:59:29.765Z"
   },
   {
    "duration": 16,
    "start_time": "2022-02-18T10:59:29.797Z"
   },
   {
    "duration": 23,
    "start_time": "2022-02-18T10:59:29.815Z"
   },
   {
    "duration": 9,
    "start_time": "2022-02-18T10:59:29.840Z"
   },
   {
    "duration": 78,
    "start_time": "2022-02-18T10:59:29.851Z"
   },
   {
    "duration": 129,
    "start_time": "2022-02-18T10:59:29.931Z"
   },
   {
    "duration": 28,
    "start_time": "2022-02-18T10:59:30.062Z"
   },
   {
    "duration": 55,
    "start_time": "2022-02-18T10:59:30.092Z"
   },
   {
    "duration": 69,
    "start_time": "2022-02-18T10:59:30.149Z"
   },
   {
    "duration": 18,
    "start_time": "2022-02-18T10:59:30.221Z"
   },
   {
    "duration": 33,
    "start_time": "2022-02-18T10:59:30.241Z"
   },
   {
    "duration": 11,
    "start_time": "2022-02-18T10:59:30.276Z"
   },
   {
    "duration": 19,
    "start_time": "2022-02-18T10:59:30.289Z"
   },
   {
    "duration": 23,
    "start_time": "2022-02-18T10:59:30.310Z"
   },
   {
    "duration": 89,
    "start_time": "2022-02-18T10:59:30.336Z"
   },
   {
    "duration": 59,
    "start_time": "2022-02-18T10:59:30.428Z"
   },
   {
    "duration": 33,
    "start_time": "2022-02-18T10:59:30.489Z"
   },
   {
    "duration": 11,
    "start_time": "2022-02-18T10:59:30.524Z"
   },
   {
    "duration": 17,
    "start_time": "2022-02-18T10:59:30.537Z"
   },
   {
    "duration": 8,
    "start_time": "2022-02-18T10:59:30.561Z"
   },
   {
    "duration": 37,
    "start_time": "2022-02-18T10:59:30.572Z"
   },
   {
    "duration": 15,
    "start_time": "2022-02-18T10:59:30.611Z"
   },
   {
    "duration": 64,
    "start_time": "2022-02-18T10:59:30.628Z"
   },
   {
    "duration": 42,
    "start_time": "2022-02-18T10:59:30.709Z"
   },
   {
    "duration": 12,
    "start_time": "2022-02-18T10:59:30.753Z"
   },
   {
    "duration": 14,
    "start_time": "2022-02-18T10:59:30.767Z"
   },
   {
    "duration": 51,
    "start_time": "2022-02-18T10:59:30.783Z"
   },
   {
    "duration": 16,
    "start_time": "2022-02-18T10:59:30.837Z"
   },
   {
    "duration": 48,
    "start_time": "2022-02-18T10:59:30.855Z"
   },
   {
    "duration": 9,
    "start_time": "2022-02-18T10:59:30.905Z"
   },
   {
    "duration": 26,
    "start_time": "2022-02-18T10:59:30.917Z"
   },
   {
    "duration": 39,
    "start_time": "2022-02-18T10:59:30.945Z"
   },
   {
    "duration": 40,
    "start_time": "2022-02-18T10:59:30.987Z"
   },
   {
    "duration": 44,
    "start_time": "2022-02-18T10:59:31.029Z"
   },
   {
    "duration": 59,
    "start_time": "2022-02-18T10:59:31.076Z"
   },
   {
    "duration": 41,
    "start_time": "2022-02-18T10:59:31.137Z"
   },
   {
    "duration": 31,
    "start_time": "2022-02-18T10:59:31.180Z"
   },
   {
    "duration": 72,
    "start_time": "2022-02-18T10:59:31.214Z"
   },
   {
    "duration": 36,
    "start_time": "2022-02-18T10:59:31.289Z"
   },
   {
    "duration": 28,
    "start_time": "2022-02-18T10:59:31.328Z"
   },
   {
    "duration": 34,
    "start_time": "2022-02-18T10:59:31.358Z"
   },
   {
    "duration": 264,
    "start_time": "2022-02-18T10:59:31.394Z"
   },
   {
    "duration": 13,
    "start_time": "2022-02-18T10:59:31.660Z"
   },
   {
    "duration": 34,
    "start_time": "2022-02-18T10:59:31.675Z"
   },
   {
    "duration": 196,
    "start_time": "2022-02-18T10:59:31.711Z"
   },
   {
    "duration": 24,
    "start_time": "2022-02-18T10:59:31.910Z"
   },
   {
    "duration": 23,
    "start_time": "2022-02-18T10:59:31.936Z"
   },
   {
    "duration": 18,
    "start_time": "2022-02-18T10:59:31.961Z"
   },
   {
    "duration": 17,
    "start_time": "2022-02-18T10:59:31.981Z"
   },
   {
    "duration": 27,
    "start_time": "2022-02-18T10:59:32.000Z"
   },
   {
    "duration": 10,
    "start_time": "2022-02-18T10:59:32.030Z"
   },
   {
    "duration": 251,
    "start_time": "2022-02-18T10:59:32.042Z"
   },
   {
    "duration": 20,
    "start_time": "2022-02-18T10:59:32.295Z"
   },
   {
    "duration": 247,
    "start_time": "2022-02-18T10:59:32.317Z"
   },
   {
    "duration": 14,
    "start_time": "2022-02-18T10:59:32.567Z"
   },
   {
    "duration": 305,
    "start_time": "2022-02-18T10:59:32.583Z"
   },
   {
    "duration": 22,
    "start_time": "2022-02-18T10:59:32.891Z"
   },
   {
    "duration": 73,
    "start_time": "2022-02-18T10:59:32.915Z"
   },
   {
    "duration": 86,
    "start_time": "2022-02-18T10:59:32.990Z"
   },
   {
    "duration": 330,
    "start_time": "2022-02-18T10:59:33.078Z"
   },
   {
    "duration": -48,
    "start_time": "2022-02-18T10:59:33.459Z"
   },
   {
    "duration": -50,
    "start_time": "2022-02-18T10:59:33.462Z"
   },
   {
    "duration": -65,
    "start_time": "2022-02-18T10:59:33.478Z"
   },
   {
    "duration": -72,
    "start_time": "2022-02-18T10:59:33.486Z"
   },
   {
    "duration": -74,
    "start_time": "2022-02-18T10:59:33.489Z"
   },
   {
    "duration": -74,
    "start_time": "2022-02-18T10:59:33.491Z"
   },
   {
    "duration": -76,
    "start_time": "2022-02-18T10:59:33.493Z"
   },
   {
    "duration": -78,
    "start_time": "2022-02-18T10:59:33.496Z"
   },
   {
    "duration": -79,
    "start_time": "2022-02-18T10:59:33.499Z"
   },
   {
    "duration": -80,
    "start_time": "2022-02-18T10:59:33.501Z"
   },
   {
    "duration": 1227,
    "start_time": "2022-02-18T11:00:16.992Z"
   },
   {
    "duration": 187,
    "start_time": "2022-02-18T11:00:18.221Z"
   },
   {
    "duration": 24,
    "start_time": "2022-02-18T11:00:18.410Z"
   },
   {
    "duration": 114,
    "start_time": "2022-02-18T11:00:18.437Z"
   },
   {
    "duration": 17,
    "start_time": "2022-02-18T11:00:18.554Z"
   },
   {
    "duration": 158,
    "start_time": "2022-02-18T11:00:18.574Z"
   },
   {
    "duration": 21,
    "start_time": "2022-02-18T11:00:18.735Z"
   },
   {
    "duration": 27,
    "start_time": "2022-02-18T11:00:18.759Z"
   },
   {
    "duration": 23,
    "start_time": "2022-02-18T11:00:18.789Z"
   },
   {
    "duration": 19,
    "start_time": "2022-02-18T11:00:18.815Z"
   },
   {
    "duration": 11,
    "start_time": "2022-02-18T11:00:18.836Z"
   },
   {
    "duration": 87,
    "start_time": "2022-02-18T11:00:18.850Z"
   },
   {
    "duration": 123,
    "start_time": "2022-02-18T11:00:18.939Z"
   },
   {
    "duration": 28,
    "start_time": "2022-02-18T11:00:19.063Z"
   },
   {
    "duration": 76,
    "start_time": "2022-02-18T11:00:19.093Z"
   },
   {
    "duration": 77,
    "start_time": "2022-02-18T11:00:19.172Z"
   },
   {
    "duration": 19,
    "start_time": "2022-02-18T11:00:19.252Z"
   },
   {
    "duration": 36,
    "start_time": "2022-02-18T11:00:19.273Z"
   },
   {
    "duration": 5,
    "start_time": "2022-02-18T11:00:19.311Z"
   },
   {
    "duration": 12,
    "start_time": "2022-02-18T11:00:19.318Z"
   },
   {
    "duration": 12,
    "start_time": "2022-02-18T11:00:19.332Z"
   },
   {
    "duration": 79,
    "start_time": "2022-02-18T11:00:19.347Z"
   },
   {
    "duration": 53,
    "start_time": "2022-02-18T11:00:19.429Z"
   },
   {
    "duration": 43,
    "start_time": "2022-02-18T11:00:19.485Z"
   },
   {
    "duration": 11,
    "start_time": "2022-02-18T11:00:19.530Z"
   },
   {
    "duration": 8,
    "start_time": "2022-02-18T11:00:19.543Z"
   },
   {
    "duration": 8,
    "start_time": "2022-02-18T11:00:19.556Z"
   },
   {
    "duration": 42,
    "start_time": "2022-02-18T11:00:19.567Z"
   },
   {
    "duration": 18,
    "start_time": "2022-02-18T11:00:19.611Z"
   },
   {
    "duration": 40,
    "start_time": "2022-02-18T11:00:19.631Z"
   },
   {
    "duration": 49,
    "start_time": "2022-02-18T11:00:19.673Z"
   },
   {
    "duration": 9,
    "start_time": "2022-02-18T11:00:19.724Z"
   },
   {
    "duration": 6,
    "start_time": "2022-02-18T11:00:19.736Z"
   },
   {
    "duration": 34,
    "start_time": "2022-02-18T11:00:19.744Z"
   },
   {
    "duration": 37,
    "start_time": "2022-02-18T11:00:19.780Z"
   },
   {
    "duration": 18,
    "start_time": "2022-02-18T11:00:19.819Z"
   },
   {
    "duration": 8,
    "start_time": "2022-02-18T11:00:19.839Z"
   },
   {
    "duration": 16,
    "start_time": "2022-02-18T11:00:19.849Z"
   },
   {
    "duration": 45,
    "start_time": "2022-02-18T11:00:19.867Z"
   },
   {
    "duration": 11,
    "start_time": "2022-02-18T11:00:19.914Z"
   },
   {
    "duration": 17,
    "start_time": "2022-02-18T11:00:19.927Z"
   },
   {
    "duration": 21,
    "start_time": "2022-02-18T11:00:19.946Z"
   },
   {
    "duration": 18,
    "start_time": "2022-02-18T11:00:19.969Z"
   },
   {
    "duration": 24,
    "start_time": "2022-02-18T11:00:19.990Z"
   },
   {
    "duration": 19,
    "start_time": "2022-02-18T11:00:20.016Z"
   },
   {
    "duration": 17,
    "start_time": "2022-02-18T11:00:20.037Z"
   },
   {
    "duration": 15,
    "start_time": "2022-02-18T11:00:20.056Z"
   },
   {
    "duration": 87,
    "start_time": "2022-02-18T11:00:20.073Z"
   },
   {
    "duration": 373,
    "start_time": "2022-02-18T11:00:20.163Z"
   },
   {
    "duration": 9,
    "start_time": "2022-02-18T11:00:20.538Z"
   },
   {
    "duration": 35,
    "start_time": "2022-02-18T11:00:20.549Z"
   },
   {
    "duration": 257,
    "start_time": "2022-02-18T11:00:20.587Z"
   },
   {
    "duration": 20,
    "start_time": "2022-02-18T11:00:20.846Z"
   },
   {
    "duration": 7,
    "start_time": "2022-02-18T11:00:20.867Z"
   },
   {
    "duration": 35,
    "start_time": "2022-02-18T11:00:20.876Z"
   },
   {
    "duration": 12,
    "start_time": "2022-02-18T11:00:20.914Z"
   },
   {
    "duration": 14,
    "start_time": "2022-02-18T11:00:20.928Z"
   },
   {
    "duration": 28,
    "start_time": "2022-02-18T11:00:20.945Z"
   },
   {
    "duration": 339,
    "start_time": "2022-02-18T11:00:20.976Z"
   },
   {
    "duration": 14,
    "start_time": "2022-02-18T11:00:21.317Z"
   },
   {
    "duration": 241,
    "start_time": "2022-02-18T11:00:21.333Z"
   },
   {
    "duration": 14,
    "start_time": "2022-02-18T11:00:21.576Z"
   },
   {
    "duration": 250,
    "start_time": "2022-02-18T11:00:21.592Z"
   },
   {
    "duration": 15,
    "start_time": "2022-02-18T11:00:21.845Z"
   },
   {
    "duration": 23,
    "start_time": "2022-02-18T11:00:21.862Z"
   },
   {
    "duration": 21,
    "start_time": "2022-02-18T11:00:21.908Z"
   },
   {
    "duration": 6,
    "start_time": "2022-02-18T11:00:21.931Z"
   },
   {
    "duration": 12,
    "start_time": "2022-02-18T11:00:21.939Z"
   },
   {
    "duration": 13,
    "start_time": "2022-02-18T11:00:21.953Z"
   },
   {
    "duration": 64,
    "start_time": "2022-02-18T11:00:21.968Z"
   },
   {
    "duration": 7,
    "start_time": "2022-02-18T11:00:22.035Z"
   },
   {
    "duration": 10,
    "start_time": "2022-02-18T11:00:22.044Z"
   },
   {
    "duration": 9,
    "start_time": "2022-02-18T11:00:22.056Z"
   },
   {
    "duration": 9,
    "start_time": "2022-02-18T11:00:22.067Z"
   },
   {
    "duration": 33,
    "start_time": "2022-02-18T11:00:22.078Z"
   },
   {
    "duration": 58,
    "start_time": "2022-02-18T11:00:22.113Z"
   },
   {
    "duration": 8,
    "start_time": "2022-02-18T11:00:22.173Z"
   },
   {
    "duration": 414,
    "start_time": "2022-02-18T11:45:06.723Z"
   },
   {
    "duration": 9,
    "start_time": "2022-02-18T11:45:10.639Z"
   },
   {
    "duration": 7,
    "start_time": "2022-02-18T11:45:55.284Z"
   },
   {
    "duration": 40,
    "start_time": "2022-02-18T11:55:23.345Z"
   },
   {
    "duration": 9,
    "start_time": "2022-02-18T11:55:43.804Z"
   },
   {
    "duration": 6,
    "start_time": "2022-02-18T12:02:33.245Z"
   },
   {
    "duration": 6,
    "start_time": "2022-02-18T12:49:57.896Z"
   },
   {
    "duration": 6,
    "start_time": "2022-02-18T12:50:02.530Z"
   },
   {
    "duration": 5,
    "start_time": "2022-02-18T12:59:11.854Z"
   },
   {
    "duration": 167,
    "start_time": "2022-02-18T13:04:28.516Z"
   },
   {
    "duration": 1180,
    "start_time": "2022-02-18T13:22:48.933Z"
   },
   {
    "duration": 179,
    "start_time": "2022-02-18T13:22:50.116Z"
   },
   {
    "duration": 23,
    "start_time": "2022-02-18T13:22:50.298Z"
   },
   {
    "duration": 104,
    "start_time": "2022-02-18T13:22:50.324Z"
   },
   {
    "duration": 16,
    "start_time": "2022-02-18T13:22:50.431Z"
   },
   {
    "duration": 155,
    "start_time": "2022-02-18T13:22:50.449Z"
   },
   {
    "duration": 21,
    "start_time": "2022-02-18T13:22:50.607Z"
   },
   {
    "duration": 25,
    "start_time": "2022-02-18T13:22:50.631Z"
   },
   {
    "duration": 7,
    "start_time": "2022-02-18T13:22:50.658Z"
   },
   {
    "duration": 21,
    "start_time": "2022-02-18T13:22:50.667Z"
   },
   {
    "duration": 24,
    "start_time": "2022-02-18T13:22:50.690Z"
   },
   {
    "duration": 68,
    "start_time": "2022-02-18T13:22:50.716Z"
   },
   {
    "duration": 122,
    "start_time": "2022-02-18T13:22:50.786Z"
   },
   {
    "duration": 26,
    "start_time": "2022-02-18T13:22:50.911Z"
   },
   {
    "duration": 42,
    "start_time": "2022-02-18T13:22:50.939Z"
   },
   {
    "duration": 53,
    "start_time": "2022-02-18T13:22:51.008Z"
   },
   {
    "duration": 17,
    "start_time": "2022-02-18T13:22:51.063Z"
   },
   {
    "duration": 38,
    "start_time": "2022-02-18T13:22:51.083Z"
   },
   {
    "duration": 8,
    "start_time": "2022-02-18T13:22:51.124Z"
   },
   {
    "duration": 13,
    "start_time": "2022-02-18T13:22:51.134Z"
   },
   {
    "duration": 15,
    "start_time": "2022-02-18T13:22:51.149Z"
   },
   {
    "duration": 72,
    "start_time": "2022-02-18T13:22:51.166Z"
   },
   {
    "duration": 69,
    "start_time": "2022-02-18T13:22:51.244Z"
   },
   {
    "duration": 22,
    "start_time": "2022-02-18T13:22:51.315Z"
   },
   {
    "duration": 11,
    "start_time": "2022-02-18T13:22:51.339Z"
   },
   {
    "duration": 9,
    "start_time": "2022-02-18T13:22:51.352Z"
   },
   {
    "duration": 13,
    "start_time": "2022-02-18T13:22:51.363Z"
   },
   {
    "duration": 39,
    "start_time": "2022-02-18T13:22:51.378Z"
   },
   {
    "duration": 17,
    "start_time": "2022-02-18T13:22:51.419Z"
   },
   {
    "duration": 38,
    "start_time": "2022-02-18T13:22:51.438Z"
   },
   {
    "duration": 8,
    "start_time": "2022-02-18T13:22:51.478Z"
   },
   {
    "duration": 29,
    "start_time": "2022-02-18T13:22:51.508Z"
   },
   {
    "duration": 9,
    "start_time": "2022-02-18T13:22:51.539Z"
   },
   {
    "duration": 59,
    "start_time": "2022-02-18T13:22:51.550Z"
   },
   {
    "duration": 16,
    "start_time": "2022-02-18T13:22:51.611Z"
   },
   {
    "duration": 16,
    "start_time": "2022-02-18T13:22:51.629Z"
   },
   {
    "duration": 8,
    "start_time": "2022-02-18T13:22:51.647Z"
   },
   {
    "duration": 22,
    "start_time": "2022-02-18T13:22:51.657Z"
   },
   {
    "duration": 34,
    "start_time": "2022-02-18T13:22:51.681Z"
   },
   {
    "duration": 7,
    "start_time": "2022-02-18T13:22:51.716Z"
   },
   {
    "duration": 11,
    "start_time": "2022-02-18T13:22:51.725Z"
   },
   {
    "duration": 17,
    "start_time": "2022-02-18T13:22:51.738Z"
   },
   {
    "duration": 9,
    "start_time": "2022-02-18T13:22:51.757Z"
   },
   {
    "duration": 42,
    "start_time": "2022-02-18T13:22:51.768Z"
   },
   {
    "duration": 6,
    "start_time": "2022-02-18T13:22:51.812Z"
   },
   {
    "duration": 16,
    "start_time": "2022-02-18T13:22:51.819Z"
   },
   {
    "duration": 4,
    "start_time": "2022-02-18T13:22:51.837Z"
   },
   {
    "duration": 16,
    "start_time": "2022-02-18T13:22:51.843Z"
   },
   {
    "duration": 254,
    "start_time": "2022-02-18T13:22:51.861Z"
   },
   {
    "duration": 9,
    "start_time": "2022-02-18T13:22:52.117Z"
   },
   {
    "duration": 36,
    "start_time": "2022-02-18T13:22:52.128Z"
   },
   {
    "duration": 169,
    "start_time": "2022-02-18T13:22:52.166Z"
   },
   {
    "duration": 21,
    "start_time": "2022-02-18T13:22:52.336Z"
   },
   {
    "duration": 5,
    "start_time": "2022-02-18T13:22:52.359Z"
   },
   {
    "duration": 11,
    "start_time": "2022-02-18T13:22:52.366Z"
   },
   {
    "duration": 29,
    "start_time": "2022-02-18T13:22:52.379Z"
   },
   {
    "duration": 20,
    "start_time": "2022-02-18T13:22:52.409Z"
   },
   {
    "duration": 9,
    "start_time": "2022-02-18T13:22:52.431Z"
   },
   {
    "duration": 243,
    "start_time": "2022-02-18T13:22:52.442Z"
   },
   {
    "duration": 21,
    "start_time": "2022-02-18T13:22:52.687Z"
   },
   {
    "duration": 225,
    "start_time": "2022-02-18T13:22:52.710Z"
   },
   {
    "duration": 13,
    "start_time": "2022-02-18T13:22:52.937Z"
   },
   {
    "duration": 239,
    "start_time": "2022-02-18T13:22:52.951Z"
   },
   {
    "duration": 26,
    "start_time": "2022-02-18T13:22:53.193Z"
   },
   {
    "duration": 23,
    "start_time": "2022-02-18T13:22:53.221Z"
   },
   {
    "duration": 22,
    "start_time": "2022-02-18T13:22:53.246Z"
   },
   {
    "duration": 36,
    "start_time": "2022-02-18T13:22:53.271Z"
   },
   {
    "duration": 23,
    "start_time": "2022-02-18T13:22:53.315Z"
   },
   {
    "duration": 8,
    "start_time": "2022-02-18T13:22:53.340Z"
   },
   {
    "duration": 9,
    "start_time": "2022-02-18T13:22:53.350Z"
   },
   {
    "duration": 10,
    "start_time": "2022-02-18T13:22:53.361Z"
   },
   {
    "duration": 36,
    "start_time": "2022-02-18T13:22:53.373Z"
   },
   {
    "duration": 6,
    "start_time": "2022-02-18T13:22:53.411Z"
   },
   {
    "duration": 12,
    "start_time": "2022-02-18T13:22:53.420Z"
   },
   {
    "duration": 7,
    "start_time": "2022-02-18T13:22:53.434Z"
   },
   {
    "duration": 966,
    "start_time": "2022-02-27T21:02:50.749Z"
   },
   {
    "duration": 151,
    "start_time": "2022-02-27T21:02:51.717Z"
   },
   {
    "duration": 20,
    "start_time": "2022-02-27T21:02:51.870Z"
   },
   {
    "duration": 92,
    "start_time": "2022-02-27T21:02:51.892Z"
   },
   {
    "duration": 13,
    "start_time": "2022-02-27T21:02:51.986Z"
   },
   {
    "duration": 132,
    "start_time": "2022-02-27T21:02:52.001Z"
   },
   {
    "duration": 16,
    "start_time": "2022-02-27T21:02:52.134Z"
   },
   {
    "duration": 23,
    "start_time": "2022-02-27T21:02:52.151Z"
   },
   {
    "duration": 6,
    "start_time": "2022-02-27T21:02:52.176Z"
   },
   {
    "duration": 16,
    "start_time": "2022-02-27T21:02:52.184Z"
   },
   {
    "duration": 7,
    "start_time": "2022-02-27T21:02:52.202Z"
   },
   {
    "duration": 71,
    "start_time": "2022-02-27T21:02:52.211Z"
   },
   {
    "duration": 111,
    "start_time": "2022-02-27T21:02:52.284Z"
   },
   {
    "duration": 22,
    "start_time": "2022-02-27T21:02:52.397Z"
   },
   {
    "duration": 45,
    "start_time": "2022-02-27T21:02:52.420Z"
   },
   {
    "duration": 44,
    "start_time": "2022-02-27T21:02:52.466Z"
   },
   {
    "duration": 34,
    "start_time": "2022-02-27T21:02:52.512Z"
   },
   {
    "duration": 13,
    "start_time": "2022-02-27T21:02:52.548Z"
   },
   {
    "duration": 5,
    "start_time": "2022-02-27T21:02:52.563Z"
   },
   {
    "duration": 9,
    "start_time": "2022-02-27T21:02:52.569Z"
   },
   {
    "duration": 8,
    "start_time": "2022-02-27T21:02:52.580Z"
   },
   {
    "duration": 80,
    "start_time": "2022-02-27T21:02:52.590Z"
   },
   {
    "duration": 45,
    "start_time": "2022-02-27T21:02:52.672Z"
   },
   {
    "duration": 32,
    "start_time": "2022-02-27T21:02:52.719Z"
   },
   {
    "duration": 10,
    "start_time": "2022-02-27T21:02:52.753Z"
   },
   {
    "duration": 7,
    "start_time": "2022-02-27T21:02:52.764Z"
   },
   {
    "duration": 6,
    "start_time": "2022-02-27T21:02:52.776Z"
   },
   {
    "duration": 8,
    "start_time": "2022-02-27T21:02:52.785Z"
   },
   {
    "duration": 49,
    "start_time": "2022-02-27T21:02:52.794Z"
   },
   {
    "duration": 36,
    "start_time": "2022-02-27T21:02:52.845Z"
   },
   {
    "duration": 6,
    "start_time": "2022-02-27T21:02:52.883Z"
   },
   {
    "duration": 56,
    "start_time": "2022-02-27T21:02:52.891Z"
   },
   {
    "duration": 7,
    "start_time": "2022-02-27T21:02:52.949Z"
   },
   {
    "duration": 25,
    "start_time": "2022-02-27T21:02:52.958Z"
   },
   {
    "duration": 12,
    "start_time": "2022-02-27T21:02:52.985Z"
   },
   {
    "duration": 39,
    "start_time": "2022-02-27T21:02:52.999Z"
   },
   {
    "duration": 7,
    "start_time": "2022-02-27T21:02:53.039Z"
   },
   {
    "duration": 13,
    "start_time": "2022-02-27T21:02:53.047Z"
   },
   {
    "duration": 7,
    "start_time": "2022-02-27T21:02:53.062Z"
   },
   {
    "duration": 5,
    "start_time": "2022-02-27T21:02:53.071Z"
   },
   {
    "duration": 10,
    "start_time": "2022-02-27T21:02:53.077Z"
   },
   {
    "duration": 14,
    "start_time": "2022-02-27T21:02:53.088Z"
   },
   {
    "duration": 35,
    "start_time": "2022-02-27T21:02:53.104Z"
   },
   {
    "duration": 6,
    "start_time": "2022-02-27T21:02:53.141Z"
   },
   {
    "duration": 9,
    "start_time": "2022-02-27T21:02:53.148Z"
   },
   {
    "duration": 12,
    "start_time": "2022-02-27T21:02:53.158Z"
   },
   {
    "duration": 3,
    "start_time": "2022-02-27T21:02:53.171Z"
   },
   {
    "duration": 14,
    "start_time": "2022-02-27T21:02:53.176Z"
   },
   {
    "duration": 205,
    "start_time": "2022-02-27T21:02:53.191Z"
   },
   {
    "duration": 5,
    "start_time": "2022-02-27T21:02:53.397Z"
   },
   {
    "duration": 31,
    "start_time": "2022-02-27T21:02:53.403Z"
   },
   {
    "duration": 144,
    "start_time": "2022-02-27T21:02:53.435Z"
   },
   {
    "duration": 16,
    "start_time": "2022-02-27T21:02:53.580Z"
   },
   {
    "duration": 4,
    "start_time": "2022-02-27T21:02:53.598Z"
   },
   {
    "duration": 8,
    "start_time": "2022-02-27T21:02:53.604Z"
   },
   {
    "duration": 21,
    "start_time": "2022-02-27T21:02:53.613Z"
   },
   {
    "duration": 7,
    "start_time": "2022-02-27T21:02:53.635Z"
   },
   {
    "duration": 7,
    "start_time": "2022-02-27T21:02:53.643Z"
   },
   {
    "duration": 202,
    "start_time": "2022-02-27T21:02:53.651Z"
   },
   {
    "duration": 11,
    "start_time": "2022-02-27T21:02:53.854Z"
   },
   {
    "duration": 201,
    "start_time": "2022-02-27T21:02:53.866Z"
   },
   {
    "duration": 10,
    "start_time": "2022-02-27T21:02:54.068Z"
   },
   {
    "duration": 194,
    "start_time": "2022-02-27T21:02:54.080Z"
   },
   {
    "duration": 11,
    "start_time": "2022-02-27T21:02:54.276Z"
   },
   {
    "duration": 17,
    "start_time": "2022-02-27T21:02:54.289Z"
   },
   {
    "duration": 36,
    "start_time": "2022-02-27T21:02:54.308Z"
   },
   {
    "duration": 5,
    "start_time": "2022-02-27T21:02:54.346Z"
   },
   {
    "duration": 19,
    "start_time": "2022-02-27T21:02:54.352Z"
   },
   {
    "duration": 5,
    "start_time": "2022-02-27T21:02:54.373Z"
   },
   {
    "duration": 7,
    "start_time": "2022-02-27T21:02:54.379Z"
   },
   {
    "duration": 9,
    "start_time": "2022-02-27T21:02:54.388Z"
   },
   {
    "duration": 8,
    "start_time": "2022-02-27T21:02:54.399Z"
   },
   {
    "duration": 6,
    "start_time": "2022-02-27T21:02:54.433Z"
   },
   {
    "duration": 6,
    "start_time": "2022-02-27T21:02:54.440Z"
   },
   {
    "duration": 6,
    "start_time": "2022-02-27T21:02:54.447Z"
   },
   {
    "duration": 25,
    "start_time": "2022-02-27T21:08:53.378Z"
   },
   {
    "duration": 17,
    "start_time": "2022-02-27T21:09:20.778Z"
   },
   {
    "duration": 351,
    "start_time": "2022-02-28T16:36:17.518Z"
   },
   {
    "duration": 1446,
    "start_time": "2022-02-28T16:36:58.605Z"
   },
   {
    "duration": 1477,
    "start_time": "2022-02-28T16:37:05.662Z"
   },
   {
    "duration": 212,
    "start_time": "2022-02-28T16:37:07.141Z"
   },
   {
    "duration": 38,
    "start_time": "2022-02-28T16:37:07.356Z"
   },
   {
    "duration": 119,
    "start_time": "2022-02-28T16:37:07.397Z"
   },
   {
    "duration": 18,
    "start_time": "2022-02-28T16:37:07.518Z"
   },
   {
    "duration": 179,
    "start_time": "2022-02-28T16:37:07.539Z"
   },
   {
    "duration": 23,
    "start_time": "2022-02-28T16:37:07.721Z"
   },
   {
    "duration": 43,
    "start_time": "2022-02-28T16:37:07.750Z"
   },
   {
    "duration": 8,
    "start_time": "2022-02-28T16:37:07.796Z"
   },
   {
    "duration": 24,
    "start_time": "2022-02-28T16:37:07.806Z"
   },
   {
    "duration": 8,
    "start_time": "2022-02-28T16:37:07.832Z"
   },
   {
    "duration": 104,
    "start_time": "2022-02-28T16:37:07.842Z"
   },
   {
    "duration": 143,
    "start_time": "2022-02-28T16:37:07.948Z"
   },
   {
    "duration": 30,
    "start_time": "2022-02-28T16:37:08.093Z"
   },
   {
    "duration": 70,
    "start_time": "2022-02-28T16:37:08.126Z"
   },
   {
    "duration": 56,
    "start_time": "2022-02-28T16:37:08.199Z"
   },
   {
    "duration": 36,
    "start_time": "2022-02-28T16:37:08.257Z"
   },
   {
    "duration": 19,
    "start_time": "2022-02-28T16:37:08.295Z"
   },
   {
    "duration": 11,
    "start_time": "2022-02-28T16:37:08.316Z"
   },
   {
    "duration": 10,
    "start_time": "2022-02-28T16:37:08.329Z"
   },
   {
    "duration": 12,
    "start_time": "2022-02-28T16:37:08.341Z"
   },
   {
    "duration": 60,
    "start_time": "2022-02-28T16:37:08.388Z"
   },
   {
    "duration": 81,
    "start_time": "2022-02-28T16:37:08.454Z"
   },
   {
    "duration": 23,
    "start_time": "2022-02-28T16:37:08.539Z"
   },
   {
    "duration": 34,
    "start_time": "2022-02-28T16:37:08.564Z"
   },
   {
    "duration": 8,
    "start_time": "2022-02-28T16:37:08.600Z"
   },
   {
    "duration": 9,
    "start_time": "2022-02-28T16:37:08.610Z"
   },
   {
    "duration": 11,
    "start_time": "2022-02-28T16:37:08.621Z"
   },
   {
    "duration": 55,
    "start_time": "2022-02-28T16:37:08.634Z"
   },
   {
    "duration": 343,
    "start_time": "2022-02-28T16:37:08.691Z"
   },
   {
    "duration": 5172,
    "start_time": "2022-02-28T16:37:03.864Z"
   },
   {
    "duration": 5169,
    "start_time": "2022-02-28T16:37:03.869Z"
   },
   {
    "duration": 5165,
    "start_time": "2022-02-28T16:37:03.874Z"
   },
   {
    "duration": 5162,
    "start_time": "2022-02-28T16:37:03.878Z"
   },
   {
    "duration": 5160,
    "start_time": "2022-02-28T16:37:03.882Z"
   },
   {
    "duration": 5158,
    "start_time": "2022-02-28T16:37:03.885Z"
   },
   {
    "duration": 5155,
    "start_time": "2022-02-28T16:37:03.889Z"
   },
   {
    "duration": 5153,
    "start_time": "2022-02-28T16:37:03.893Z"
   },
   {
    "duration": 5150,
    "start_time": "2022-02-28T16:37:03.897Z"
   },
   {
    "duration": 5149,
    "start_time": "2022-02-28T16:37:03.900Z"
   },
   {
    "duration": 5147,
    "start_time": "2022-02-28T16:37:03.903Z"
   },
   {
    "duration": 5143,
    "start_time": "2022-02-28T16:37:03.908Z"
   },
   {
    "duration": 5139,
    "start_time": "2022-02-28T16:37:03.914Z"
   },
   {
    "duration": 5135,
    "start_time": "2022-02-28T16:37:03.919Z"
   },
   {
    "duration": 5130,
    "start_time": "2022-02-28T16:37:03.925Z"
   },
   {
    "duration": 5126,
    "start_time": "2022-02-28T16:37:03.930Z"
   },
   {
    "duration": 5121,
    "start_time": "2022-02-28T16:37:03.936Z"
   },
   {
    "duration": 5119,
    "start_time": "2022-02-28T16:37:03.939Z"
   },
   {
    "duration": 5118,
    "start_time": "2022-02-28T16:37:03.942Z"
   },
   {
    "duration": 5116,
    "start_time": "2022-02-28T16:37:03.945Z"
   },
   {
    "duration": 5105,
    "start_time": "2022-02-28T16:37:03.957Z"
   },
   {
    "duration": 5103,
    "start_time": "2022-02-28T16:37:03.960Z"
   },
   {
    "duration": 5101,
    "start_time": "2022-02-28T16:37:03.963Z"
   },
   {
    "duration": 5099,
    "start_time": "2022-02-28T16:37:03.967Z"
   },
   {
    "duration": 5096,
    "start_time": "2022-02-28T16:37:03.971Z"
   },
   {
    "duration": 5095,
    "start_time": "2022-02-28T16:37:03.974Z"
   },
   {
    "duration": 5094,
    "start_time": "2022-02-28T16:37:03.977Z"
   },
   {
    "duration": 5091,
    "start_time": "2022-02-28T16:37:03.981Z"
   },
   {
    "duration": 5088,
    "start_time": "2022-02-28T16:37:03.986Z"
   },
   {
    "duration": 5094,
    "start_time": "2022-02-28T16:37:03.992Z"
   },
   {
    "duration": 5090,
    "start_time": "2022-02-28T16:37:03.998Z"
   },
   {
    "duration": 5088,
    "start_time": "2022-02-28T16:37:04.001Z"
   },
   {
    "duration": 5087,
    "start_time": "2022-02-28T16:37:04.004Z"
   },
   {
    "duration": 5084,
    "start_time": "2022-02-28T16:37:04.008Z"
   },
   {
    "duration": 5082,
    "start_time": "2022-02-28T16:37:04.011Z"
   },
   {
    "duration": 5080,
    "start_time": "2022-02-28T16:37:04.014Z"
   },
   {
    "duration": 5078,
    "start_time": "2022-02-28T16:37:04.017Z"
   },
   {
    "duration": 5077,
    "start_time": "2022-02-28T16:37:04.020Z"
   },
   {
    "duration": 5075,
    "start_time": "2022-02-28T16:37:04.023Z"
   },
   {
    "duration": 5073,
    "start_time": "2022-02-28T16:37:04.026Z"
   },
   {
    "duration": 5072,
    "start_time": "2022-02-28T16:37:04.029Z"
   },
   {
    "duration": 5070,
    "start_time": "2022-02-28T16:37:04.032Z"
   },
   {
    "duration": 5067,
    "start_time": "2022-02-28T16:37:04.036Z"
   },
   {
    "duration": 5066,
    "start_time": "2022-02-28T16:37:04.039Z"
   },
   {
    "duration": 5064,
    "start_time": "2022-02-28T16:37:04.042Z"
   },
   {
    "duration": 5062,
    "start_time": "2022-02-28T16:37:04.045Z"
   },
   {
    "duration": 304,
    "start_time": "2022-02-28T16:39:47.436Z"
   },
   {
    "duration": 322,
    "start_time": "2022-02-28T16:40:28.235Z"
   },
   {
    "duration": 5,
    "start_time": "2022-02-28T16:42:04.021Z"
   },
   {
    "duration": 268,
    "start_time": "2022-02-28T16:42:04.029Z"
   },
   {
    "duration": 28,
    "start_time": "2022-02-28T16:42:04.301Z"
   },
   {
    "duration": 130,
    "start_time": "2022-02-28T16:42:04.332Z"
   },
   {
    "duration": 28,
    "start_time": "2022-02-28T16:42:04.465Z"
   },
   {
    "duration": 249,
    "start_time": "2022-02-28T16:42:04.496Z"
   },
   {
    "duration": 48,
    "start_time": "2022-02-28T16:42:04.748Z"
   },
   {
    "duration": 37,
    "start_time": "2022-02-28T16:42:04.802Z"
   },
   {
    "duration": 9,
    "start_time": "2022-02-28T16:42:04.842Z"
   },
   {
    "duration": 40,
    "start_time": "2022-02-28T16:42:04.853Z"
   },
   {
    "duration": 12,
    "start_time": "2022-02-28T16:42:04.896Z"
   },
   {
    "duration": 94,
    "start_time": "2022-02-28T16:42:04.910Z"
   },
   {
    "duration": 144,
    "start_time": "2022-02-28T16:42:05.007Z"
   },
   {
    "duration": 36,
    "start_time": "2022-02-28T16:42:05.153Z"
   },
   {
    "duration": 51,
    "start_time": "2022-02-28T16:42:05.191Z"
   },
   {
    "duration": 75,
    "start_time": "2022-02-28T16:42:05.245Z"
   },
   {
    "duration": 19,
    "start_time": "2022-02-28T16:42:05.323Z"
   },
   {
    "duration": 45,
    "start_time": "2022-02-28T16:42:05.344Z"
   },
   {
    "duration": 7,
    "start_time": "2022-02-28T16:42:05.391Z"
   },
   {
    "duration": 9,
    "start_time": "2022-02-28T16:42:05.401Z"
   },
   {
    "duration": 11,
    "start_time": "2022-02-28T16:42:05.413Z"
   },
   {
    "duration": 91,
    "start_time": "2022-02-28T16:42:05.426Z"
   },
   {
    "duration": 78,
    "start_time": "2022-02-28T16:42:05.523Z"
   },
   {
    "duration": 25,
    "start_time": "2022-02-28T16:42:05.605Z"
   },
   {
    "duration": 14,
    "start_time": "2022-02-28T16:42:05.632Z"
   },
   {
    "duration": 39,
    "start_time": "2022-02-28T16:42:05.648Z"
   },
   {
    "duration": 12,
    "start_time": "2022-02-28T16:42:05.690Z"
   },
   {
    "duration": 13,
    "start_time": "2022-02-28T16:42:05.705Z"
   },
   {
    "duration": 16,
    "start_time": "2022-02-28T16:42:05.721Z"
   },
   {
    "duration": 392,
    "start_time": "2022-02-28T16:42:05.740Z"
   },
   {
    "duration": 86,
    "start_time": "2022-02-28T16:42:06.135Z"
   },
   {
    "duration": 14,
    "start_time": "2022-02-28T16:42:06.224Z"
   },
   {
    "duration": 72,
    "start_time": "2022-02-28T16:42:06.241Z"
   },
   {
    "duration": 15,
    "start_time": "2022-02-28T16:42:06.317Z"
   },
   {
    "duration": 68,
    "start_time": "2022-02-28T16:42:06.335Z"
   },
   {
    "duration": 29,
    "start_time": "2022-02-28T16:42:06.405Z"
   },
   {
    "duration": 57,
    "start_time": "2022-02-28T16:42:06.437Z"
   },
   {
    "duration": 14,
    "start_time": "2022-02-28T16:42:06.497Z"
   },
   {
    "duration": 20,
    "start_time": "2022-02-28T16:42:06.513Z"
   },
   {
    "duration": 13,
    "start_time": "2022-02-28T16:42:06.536Z"
   },
   {
    "duration": 36,
    "start_time": "2022-02-28T16:42:06.551Z"
   },
   {
    "duration": 13,
    "start_time": "2022-02-28T16:42:06.590Z"
   },
   {
    "duration": 24,
    "start_time": "2022-02-28T16:42:06.605Z"
   },
   {
    "duration": 15,
    "start_time": "2022-02-28T16:42:06.633Z"
   },
   {
    "duration": 41,
    "start_time": "2022-02-28T16:42:06.651Z"
   },
   {
    "duration": 7,
    "start_time": "2022-02-28T16:42:06.695Z"
   },
   {
    "duration": 23,
    "start_time": "2022-02-28T16:42:06.705Z"
   },
   {
    "duration": 5,
    "start_time": "2022-02-28T16:42:06.730Z"
   },
   {
    "duration": 13,
    "start_time": "2022-02-28T16:42:06.738Z"
   },
   {
    "duration": 373,
    "start_time": "2022-02-28T16:42:06.753Z"
   },
   {
    "duration": 9,
    "start_time": "2022-02-28T16:42:07.128Z"
   },
   {
    "duration": 48,
    "start_time": "2022-02-28T16:42:07.140Z"
   },
   {
    "duration": 350,
    "start_time": "2022-02-28T16:42:07.191Z"
   },
   {
    "duration": 46,
    "start_time": "2022-02-28T16:42:07.544Z"
   },
   {
    "duration": 10,
    "start_time": "2022-02-28T16:42:07.593Z"
   },
   {
    "duration": 12,
    "start_time": "2022-02-28T16:42:07.606Z"
   },
   {
    "duration": 14,
    "start_time": "2022-02-28T16:42:07.620Z"
   },
   {
    "duration": 12,
    "start_time": "2022-02-28T16:42:07.637Z"
   },
   {
    "duration": 39,
    "start_time": "2022-02-28T16:42:07.652Z"
   },
   {
    "duration": 331,
    "start_time": "2022-02-28T16:42:07.694Z"
   },
   {
    "duration": 17,
    "start_time": "2022-02-28T16:42:08.027Z"
   },
   {
    "duration": 432,
    "start_time": "2022-02-28T16:42:08.046Z"
   },
   {
    "duration": 17,
    "start_time": "2022-02-28T16:42:08.486Z"
   },
   {
    "duration": 323,
    "start_time": "2022-02-28T16:42:08.505Z"
   },
   {
    "duration": 17,
    "start_time": "2022-02-28T16:42:08.830Z"
   },
   {
    "duration": 48,
    "start_time": "2022-02-28T16:42:08.850Z"
   },
   {
    "duration": 29,
    "start_time": "2022-02-28T16:42:08.901Z"
   },
   {
    "duration": 8,
    "start_time": "2022-02-28T16:42:08.937Z"
   },
   {
    "duration": 60,
    "start_time": "2022-02-28T16:42:08.948Z"
   },
   {
    "duration": 7,
    "start_time": "2022-02-28T16:42:09.011Z"
   },
   {
    "duration": 14,
    "start_time": "2022-02-28T16:42:09.020Z"
   },
   {
    "duration": 8,
    "start_time": "2022-02-28T16:42:09.036Z"
   },
   {
    "duration": 7,
    "start_time": "2022-02-28T16:42:09.046Z"
   },
   {
    "duration": 36,
    "start_time": "2022-02-28T16:42:09.056Z"
   },
   {
    "duration": 7,
    "start_time": "2022-02-28T16:42:09.094Z"
   },
   {
    "duration": 9,
    "start_time": "2022-02-28T16:42:09.104Z"
   },
   {
    "duration": 14,
    "start_time": "2022-02-28T16:44:10.559Z"
   },
   {
    "duration": 14,
    "start_time": "2022-02-28T16:44:14.447Z"
   },
   {
    "duration": 405,
    "start_time": "2022-02-28T16:44:16.143Z"
   },
   {
    "duration": 284,
    "start_time": "2022-02-28T16:50:48.111Z"
   },
   {
    "duration": 228,
    "start_time": "2022-02-28T16:51:46.123Z"
   },
   {
    "duration": 236,
    "start_time": "2022-02-28T16:51:56.777Z"
   },
   {
    "duration": 600,
    "start_time": "2022-02-28T16:52:34.939Z"
   },
   {
    "duration": 5741,
    "start_time": "2022-02-28T16:52:50.688Z"
   },
   {
    "duration": 214,
    "start_time": "2022-02-28T16:53:21.590Z"
   },
   {
    "duration": 341,
    "start_time": "2022-02-28T16:53:30.133Z"
   },
   {
    "duration": 7,
    "start_time": "2022-02-28T16:58:19.977Z"
   },
   {
    "duration": 5,
    "start_time": "2022-02-28T17:00:25.763Z"
   },
   {
    "duration": 1437,
    "start_time": "2022-02-28T17:01:07.296Z"
   },
   {
    "duration": 216,
    "start_time": "2022-02-28T17:01:08.736Z"
   },
   {
    "duration": 48,
    "start_time": "2022-02-28T17:01:08.961Z"
   },
   {
    "duration": 119,
    "start_time": "2022-02-28T17:01:09.013Z"
   },
   {
    "duration": 21,
    "start_time": "2022-02-28T17:01:09.135Z"
   },
   {
    "duration": 185,
    "start_time": "2022-02-28T17:01:09.158Z"
   },
   {
    "duration": 40,
    "start_time": "2022-02-28T17:01:09.349Z"
   },
   {
    "duration": 31,
    "start_time": "2022-02-28T17:01:09.392Z"
   },
   {
    "duration": 9,
    "start_time": "2022-02-28T17:01:09.426Z"
   },
   {
    "duration": 25,
    "start_time": "2022-02-28T17:01:09.438Z"
   },
   {
    "duration": 29,
    "start_time": "2022-02-28T17:01:09.465Z"
   },
   {
    "duration": 95,
    "start_time": "2022-02-28T17:01:09.496Z"
   },
   {
    "duration": 139,
    "start_time": "2022-02-28T17:01:09.594Z"
   },
   {
    "duration": 30,
    "start_time": "2022-02-28T17:01:09.735Z"
   },
   {
    "duration": 68,
    "start_time": "2022-02-28T17:01:09.768Z"
   },
   {
    "duration": 75,
    "start_time": "2022-02-28T17:01:09.838Z"
   },
   {
    "duration": 20,
    "start_time": "2022-02-28T17:01:09.916Z"
   },
   {
    "duration": 20,
    "start_time": "2022-02-28T17:01:09.938Z"
   },
   {
    "duration": 6,
    "start_time": "2022-02-28T17:01:09.987Z"
   },
   {
    "duration": 11,
    "start_time": "2022-02-28T17:01:09.995Z"
   },
   {
    "duration": 11,
    "start_time": "2022-02-28T17:01:10.009Z"
   },
   {
    "duration": 92,
    "start_time": "2022-02-28T17:01:10.026Z"
   },
   {
    "duration": 82,
    "start_time": "2022-02-28T17:01:10.121Z"
   },
   {
    "duration": 25,
    "start_time": "2022-02-28T17:01:10.205Z"
   },
   {
    "duration": 15,
    "start_time": "2022-02-28T17:01:10.232Z"
   },
   {
    "duration": 55,
    "start_time": "2022-02-28T17:01:10.249Z"
   },
   {
    "duration": 26,
    "start_time": "2022-02-28T17:01:10.307Z"
   },
   {
    "duration": 19,
    "start_time": "2022-02-28T17:01:10.335Z"
   },
   {
    "duration": 22,
    "start_time": "2022-02-28T17:01:10.356Z"
   },
   {
    "duration": 358,
    "start_time": "2022-02-28T17:01:10.380Z"
   },
   {
    "duration": 5210,
    "start_time": "2022-02-28T17:01:05.531Z"
   },
   {
    "duration": 5205,
    "start_time": "2022-02-28T17:01:05.538Z"
   },
   {
    "duration": 5198,
    "start_time": "2022-02-28T17:01:05.546Z"
   },
   {
    "duration": 5195,
    "start_time": "2022-02-28T17:01:05.551Z"
   },
   {
    "duration": 5192,
    "start_time": "2022-02-28T17:01:05.555Z"
   },
   {
    "duration": 5184,
    "start_time": "2022-02-28T17:01:05.565Z"
   },
   {
    "duration": 5181,
    "start_time": "2022-02-28T17:01:05.569Z"
   },
   {
    "duration": 5180,
    "start_time": "2022-02-28T17:01:05.572Z"
   },
   {
    "duration": 5177,
    "start_time": "2022-02-28T17:01:05.576Z"
   },
   {
    "duration": 5174,
    "start_time": "2022-02-28T17:01:05.580Z"
   },
   {
    "duration": 5172,
    "start_time": "2022-02-28T17:01:05.584Z"
   },
   {
    "duration": 5169,
    "start_time": "2022-02-28T17:01:05.588Z"
   },
   {
    "duration": 5168,
    "start_time": "2022-02-28T17:01:05.591Z"
   },
   {
    "duration": 5166,
    "start_time": "2022-02-28T17:01:05.594Z"
   },
   {
    "duration": 5164,
    "start_time": "2022-02-28T17:01:05.597Z"
   },
   {
    "duration": 5164,
    "start_time": "2022-02-28T17:01:05.599Z"
   },
   {
    "duration": 5161,
    "start_time": "2022-02-28T17:01:05.603Z"
   },
   {
    "duration": 5158,
    "start_time": "2022-02-28T17:01:05.607Z"
   },
   {
    "duration": 5157,
    "start_time": "2022-02-28T17:01:05.610Z"
   },
   {
    "duration": 5155,
    "start_time": "2022-02-28T17:01:05.613Z"
   },
   {
    "duration": 5154,
    "start_time": "2022-02-28T17:01:05.616Z"
   },
   {
    "duration": 5153,
    "start_time": "2022-02-28T17:01:05.619Z"
   },
   {
    "duration": 5145,
    "start_time": "2022-02-28T17:01:05.628Z"
   },
   {
    "duration": 5145,
    "start_time": "2022-02-28T17:01:05.631Z"
   },
   {
    "duration": 5142,
    "start_time": "2022-02-28T17:01:05.635Z"
   },
   {
    "duration": 5141,
    "start_time": "2022-02-28T17:01:05.638Z"
   },
   {
    "duration": 5146,
    "start_time": "2022-02-28T17:01:05.641Z"
   },
   {
    "duration": 5141,
    "start_time": "2022-02-28T17:01:05.647Z"
   },
   {
    "duration": 5135,
    "start_time": "2022-02-28T17:01:05.654Z"
   },
   {
    "duration": 5130,
    "start_time": "2022-02-28T17:01:05.661Z"
   },
   {
    "duration": 5124,
    "start_time": "2022-02-28T17:01:05.669Z"
   },
   {
    "duration": 5120,
    "start_time": "2022-02-28T17:01:05.674Z"
   },
   {
    "duration": 5117,
    "start_time": "2022-02-28T17:01:05.678Z"
   },
   {
    "duration": 5115,
    "start_time": "2022-02-28T17:01:05.682Z"
   },
   {
    "duration": 5111,
    "start_time": "2022-02-28T17:01:05.687Z"
   },
   {
    "duration": 5110,
    "start_time": "2022-02-28T17:01:05.690Z"
   },
   {
    "duration": 5107,
    "start_time": "2022-02-28T17:01:05.695Z"
   },
   {
    "duration": 5103,
    "start_time": "2022-02-28T17:01:05.700Z"
   },
   {
    "duration": 5077,
    "start_time": "2022-02-28T17:01:05.728Z"
   },
   {
    "duration": 5066,
    "start_time": "2022-02-28T17:01:05.740Z"
   },
   {
    "duration": 5065,
    "start_time": "2022-02-28T17:01:05.743Z"
   },
   {
    "duration": 5063,
    "start_time": "2022-02-28T17:01:05.746Z"
   },
   {
    "duration": 5061,
    "start_time": "2022-02-28T17:01:05.749Z"
   },
   {
    "duration": 5060,
    "start_time": "2022-02-28T17:01:05.752Z"
   },
   {
    "duration": 5057,
    "start_time": "2022-02-28T17:01:05.757Z"
   },
   {
    "duration": 5055,
    "start_time": "2022-02-28T17:01:05.760Z"
   },
   {
    "duration": 537,
    "start_time": "2022-02-28T17:09:05.165Z"
   },
   {
    "duration": 324,
    "start_time": "2022-02-28T17:09:12.220Z"
   },
   {
    "duration": 4,
    "start_time": "2022-02-28T17:10:05.676Z"
   },
   {
    "duration": 287,
    "start_time": "2022-02-28T17:10:05.683Z"
   },
   {
    "duration": 36,
    "start_time": "2022-02-28T17:10:05.973Z"
   },
   {
    "duration": 123,
    "start_time": "2022-02-28T17:10:06.012Z"
   },
   {
    "duration": 19,
    "start_time": "2022-02-28T17:10:06.137Z"
   },
   {
    "duration": 177,
    "start_time": "2022-02-28T17:10:06.159Z"
   },
   {
    "duration": 22,
    "start_time": "2022-02-28T17:10:06.338Z"
   },
   {
    "duration": 40,
    "start_time": "2022-02-28T17:10:06.364Z"
   },
   {
    "duration": 8,
    "start_time": "2022-02-28T17:10:06.407Z"
   },
   {
    "duration": 30,
    "start_time": "2022-02-28T17:10:06.417Z"
   },
   {
    "duration": 14,
    "start_time": "2022-02-28T17:10:06.449Z"
   },
   {
    "duration": 98,
    "start_time": "2022-02-28T17:10:06.465Z"
   },
   {
    "duration": 155,
    "start_time": "2022-02-28T17:10:06.566Z"
   },
   {
    "duration": 27,
    "start_time": "2022-02-28T17:10:06.724Z"
   },
   {
    "duration": 69,
    "start_time": "2022-02-28T17:10:06.754Z"
   },
   {
    "duration": 76,
    "start_time": "2022-02-28T17:10:06.825Z"
   },
   {
    "duration": 19,
    "start_time": "2022-02-28T17:10:06.904Z"
   },
   {
    "duration": 21,
    "start_time": "2022-02-28T17:10:06.926Z"
   },
   {
    "duration": 37,
    "start_time": "2022-02-28T17:10:06.950Z"
   },
   {
    "duration": 9,
    "start_time": "2022-02-28T17:10:06.990Z"
   },
   {
    "duration": 14,
    "start_time": "2022-02-28T17:10:07.002Z"
   },
   {
    "duration": 90,
    "start_time": "2022-02-28T17:10:07.018Z"
   },
   {
    "duration": 85,
    "start_time": "2022-02-28T17:10:07.114Z"
   },
   {
    "duration": 26,
    "start_time": "2022-02-28T17:10:07.203Z"
   },
   {
    "duration": 21,
    "start_time": "2022-02-28T17:10:07.232Z"
   },
   {
    "duration": 39,
    "start_time": "2022-02-28T17:10:07.256Z"
   },
   {
    "duration": 12,
    "start_time": "2022-02-28T17:10:07.298Z"
   },
   {
    "duration": 13,
    "start_time": "2022-02-28T17:10:07.313Z"
   },
   {
    "duration": 60,
    "start_time": "2022-02-28T17:10:07.329Z"
   },
   {
    "duration": 350,
    "start_time": "2022-02-28T17:10:07.392Z"
   },
   {
    "duration": 66,
    "start_time": "2022-02-28T17:10:07.746Z"
   },
   {
    "duration": 12,
    "start_time": "2022-02-28T17:10:07.815Z"
   },
   {
    "duration": 59,
    "start_time": "2022-02-28T17:10:07.830Z"
   },
   {
    "duration": 12,
    "start_time": "2022-02-28T17:10:07.892Z"
   },
   {
    "duration": 48,
    "start_time": "2022-02-28T17:10:07.906Z"
   },
   {
    "duration": 41,
    "start_time": "2022-02-28T17:10:07.956Z"
   },
   {
    "duration": 23,
    "start_time": "2022-02-28T17:10:07.999Z"
   },
   {
    "duration": 11,
    "start_time": "2022-02-28T17:10:08.024Z"
   },
   {
    "duration": 50,
    "start_time": "2022-02-28T17:10:08.037Z"
   },
   {
    "duration": 13,
    "start_time": "2022-02-28T17:10:08.090Z"
   },
   {
    "duration": 8,
    "start_time": "2022-02-28T17:10:08.105Z"
   },
   {
    "duration": 14,
    "start_time": "2022-02-28T17:10:08.115Z"
   },
   {
    "duration": 57,
    "start_time": "2022-02-28T17:10:08.132Z"
   },
   {
    "duration": 15,
    "start_time": "2022-02-28T17:10:08.192Z"
   },
   {
    "duration": 10,
    "start_time": "2022-02-28T17:10:08.211Z"
   },
   {
    "duration": 10,
    "start_time": "2022-02-28T17:10:08.223Z"
   },
   {
    "duration": 51,
    "start_time": "2022-02-28T17:10:08.236Z"
   },
   {
    "duration": 7,
    "start_time": "2022-02-28T17:10:08.290Z"
   },
   {
    "duration": 65,
    "start_time": "2022-02-28T17:10:08.300Z"
   },
   {
    "duration": 375,
    "start_time": "2022-02-28T17:10:08.368Z"
   },
   {
    "duration": 8,
    "start_time": "2022-02-28T17:10:08.746Z"
   },
   {
    "duration": 52,
    "start_time": "2022-02-28T17:10:08.756Z"
   },
   {
    "duration": 292,
    "start_time": "2022-02-28T17:10:08.810Z"
   },
   {
    "duration": 30,
    "start_time": "2022-02-28T17:10:09.105Z"
   },
   {
    "duration": 9,
    "start_time": "2022-02-28T17:10:09.138Z"
   },
   {
    "duration": 43,
    "start_time": "2022-02-28T17:10:09.150Z"
   },
   {
    "duration": 13,
    "start_time": "2022-02-28T17:10:09.196Z"
   },
   {
    "duration": 17,
    "start_time": "2022-02-28T17:10:09.211Z"
   },
   {
    "duration": 12,
    "start_time": "2022-02-28T17:10:09.230Z"
   },
   {
    "duration": 380,
    "start_time": "2022-02-28T17:10:09.245Z"
   },
   {
    "duration": 17,
    "start_time": "2022-02-28T17:10:09.628Z"
   },
   {
    "duration": 356,
    "start_time": "2022-02-28T17:10:09.647Z"
   },
   {
    "duration": 19,
    "start_time": "2022-02-28T17:10:10.006Z"
   },
   {
    "duration": 525,
    "start_time": "2022-02-28T17:10:10.027Z"
   },
   {
    "duration": 37,
    "start_time": "2022-02-28T17:10:10.555Z"
   },
   {
    "duration": 40,
    "start_time": "2022-02-28T17:10:10.595Z"
   },
   {
    "duration": 71,
    "start_time": "2022-02-28T17:10:10.638Z"
   },
   {
    "duration": 10,
    "start_time": "2022-02-28T17:10:10.720Z"
   },
   {
    "duration": 68,
    "start_time": "2022-02-28T17:10:10.734Z"
   },
   {
    "duration": 9,
    "start_time": "2022-02-28T17:10:10.805Z"
   },
   {
    "duration": 11,
    "start_time": "2022-02-28T17:10:10.817Z"
   },
   {
    "duration": 11,
    "start_time": "2022-02-28T17:10:10.831Z"
   },
   {
    "duration": 44,
    "start_time": "2022-02-28T17:10:10.845Z"
   },
   {
    "duration": 12,
    "start_time": "2022-02-28T17:10:10.892Z"
   },
   {
    "duration": 9,
    "start_time": "2022-02-28T17:10:10.907Z"
   },
   {
    "duration": 11,
    "start_time": "2022-02-28T17:10:10.919Z"
   },
   {
    "duration": 243,
    "start_time": "2022-03-01T08:08:11.398Z"
   },
   {
    "duration": 1244,
    "start_time": "2022-03-01T08:08:19.129Z"
   },
   {
    "duration": 173,
    "start_time": "2022-03-01T08:08:20.375Z"
   },
   {
    "duration": 22,
    "start_time": "2022-03-01T08:08:20.551Z"
   },
   {
    "duration": 94,
    "start_time": "2022-03-01T08:08:20.575Z"
   },
   {
    "duration": 16,
    "start_time": "2022-03-01T08:08:20.671Z"
   },
   {
    "duration": 134,
    "start_time": "2022-03-01T08:08:20.702Z"
   },
   {
    "duration": 20,
    "start_time": "2022-03-01T08:08:20.838Z"
   },
   {
    "duration": 24,
    "start_time": "2022-03-01T08:08:20.862Z"
   },
   {
    "duration": 7,
    "start_time": "2022-03-01T08:08:20.903Z"
   },
   {
    "duration": 23,
    "start_time": "2022-03-01T08:08:20.911Z"
   },
   {
    "duration": 9,
    "start_time": "2022-03-01T08:08:20.936Z"
   },
   {
    "duration": 76,
    "start_time": "2022-03-01T08:08:20.946Z"
   },
   {
    "duration": 113,
    "start_time": "2022-03-01T08:08:21.024Z"
   },
   {
    "duration": 26,
    "start_time": "2022-03-01T08:08:21.139Z"
   },
   {
    "duration": 62,
    "start_time": "2022-03-01T08:08:21.167Z"
   },
   {
    "duration": 48,
    "start_time": "2022-03-01T08:08:21.231Z"
   },
   {
    "duration": 31,
    "start_time": "2022-03-01T08:08:21.281Z"
   },
   {
    "duration": 14,
    "start_time": "2022-03-01T08:08:21.314Z"
   },
   {
    "duration": 4,
    "start_time": "2022-03-01T08:08:21.330Z"
   },
   {
    "duration": 13,
    "start_time": "2022-03-01T08:08:21.336Z"
   },
   {
    "duration": 9,
    "start_time": "2022-03-01T08:08:21.351Z"
   },
   {
    "duration": 78,
    "start_time": "2022-03-01T08:08:21.362Z"
   },
   {
    "duration": 190,
    "start_time": "2022-03-01T08:08:21.444Z"
   },
   {
    "duration": 48,
    "start_time": "2022-03-01T08:08:21.637Z"
   },
   {
    "duration": 20,
    "start_time": "2022-03-01T08:08:21.701Z"
   },
   {
    "duration": 11,
    "start_time": "2022-03-01T08:08:21.723Z"
   },
   {
    "duration": 31,
    "start_time": "2022-03-01T08:08:21.736Z"
   },
   {
    "duration": 33,
    "start_time": "2022-03-01T08:08:21.769Z"
   },
   {
    "duration": 15,
    "start_time": "2022-03-01T08:08:21.804Z"
   },
   {
    "duration": 37,
    "start_time": "2022-03-01T08:08:21.820Z"
   },
   {
    "duration": 231,
    "start_time": "2022-03-01T08:08:21.859Z"
   },
   {
    "duration": 42,
    "start_time": "2022-03-01T08:08:22.092Z"
   },
   {
    "duration": 8,
    "start_time": "2022-03-01T08:08:22.135Z"
   },
   {
    "duration": 30,
    "start_time": "2022-03-01T08:08:22.145Z"
   },
   {
    "duration": 29,
    "start_time": "2022-03-01T08:08:22.176Z"
   },
   {
    "duration": 36,
    "start_time": "2022-03-01T08:08:22.207Z"
   },
   {
    "duration": 15,
    "start_time": "2022-03-01T08:08:22.244Z"
   },
   {
    "duration": 16,
    "start_time": "2022-03-01T08:08:22.261Z"
   },
   {
    "duration": 8,
    "start_time": "2022-03-01T08:08:22.302Z"
   },
   {
    "duration": 17,
    "start_time": "2022-03-01T08:08:22.312Z"
   },
   {
    "duration": 15,
    "start_time": "2022-03-01T08:08:22.331Z"
   },
   {
    "duration": 11,
    "start_time": "2022-03-01T08:08:22.348Z"
   },
   {
    "duration": 10,
    "start_time": "2022-03-01T08:08:22.361Z"
   },
   {
    "duration": 34,
    "start_time": "2022-03-01T08:08:22.373Z"
   },
   {
    "duration": 9,
    "start_time": "2022-03-01T08:08:22.409Z"
   },
   {
    "duration": 14,
    "start_time": "2022-03-01T08:08:22.420Z"
   },
   {
    "duration": 8,
    "start_time": "2022-03-01T08:08:22.435Z"
   },
   {
    "duration": 16,
    "start_time": "2022-03-01T08:08:22.445Z"
   },
   {
    "duration": 4,
    "start_time": "2022-03-01T08:08:22.463Z"
   },
   {
    "duration": 38,
    "start_time": "2022-03-01T08:08:22.469Z"
   },
   {
    "duration": 218,
    "start_time": "2022-03-01T08:08:22.509Z"
   },
   {
    "duration": 7,
    "start_time": "2022-03-01T08:08:22.728Z"
   },
   {
    "duration": 22,
    "start_time": "2022-03-01T08:08:22.737Z"
   },
   {
    "duration": 168,
    "start_time": "2022-03-01T08:08:22.761Z"
   },
   {
    "duration": 19,
    "start_time": "2022-03-01T08:08:22.931Z"
   },
   {
    "duration": 7,
    "start_time": "2022-03-01T08:08:22.952Z"
   },
   {
    "duration": 13,
    "start_time": "2022-03-01T08:08:22.961Z"
   },
   {
    "duration": 24,
    "start_time": "2022-03-01T08:08:22.977Z"
   },
   {
    "duration": 14,
    "start_time": "2022-03-01T08:08:23.003Z"
   },
   {
    "duration": 12,
    "start_time": "2022-03-01T08:08:23.020Z"
   },
   {
    "duration": 241,
    "start_time": "2022-03-01T08:08:23.034Z"
   },
   {
    "duration": 14,
    "start_time": "2022-03-01T08:08:23.277Z"
   },
   {
    "duration": 222,
    "start_time": "2022-03-01T08:08:23.302Z"
   },
   {
    "duration": 13,
    "start_time": "2022-03-01T08:08:23.526Z"
   },
   {
    "duration": 230,
    "start_time": "2022-03-01T08:08:23.541Z"
   },
   {
    "duration": 11,
    "start_time": "2022-03-01T08:08:23.773Z"
   },
   {
    "duration": 32,
    "start_time": "2022-03-01T08:08:23.786Z"
   },
   {
    "duration": 19,
    "start_time": "2022-03-01T08:08:23.824Z"
   },
   {
    "duration": 5,
    "start_time": "2022-03-01T08:08:23.845Z"
   },
   {
    "duration": 25,
    "start_time": "2022-03-01T08:08:23.852Z"
   },
   {
    "duration": 5,
    "start_time": "2022-03-01T08:08:23.901Z"
   },
   {
    "duration": 12,
    "start_time": "2022-03-01T08:08:23.908Z"
   },
   {
    "duration": 8,
    "start_time": "2022-03-01T08:08:23.922Z"
   },
   {
    "duration": 9,
    "start_time": "2022-03-01T08:08:23.932Z"
   },
   {
    "duration": 10,
    "start_time": "2022-03-01T08:08:23.942Z"
   },
   {
    "duration": 7,
    "start_time": "2022-03-01T08:08:23.953Z"
   },
   {
    "duration": 6,
    "start_time": "2022-03-01T08:08:23.961Z"
   },
   {
    "duration": 215,
    "start_time": "2022-03-01T08:09:10.151Z"
   },
   {
    "duration": 69,
    "start_time": "2022-03-01T08:16:48.306Z"
   },
   {
    "duration": 15,
    "start_time": "2022-03-01T08:16:52.932Z"
   },
   {
    "duration": 73,
    "start_time": "2022-03-01T08:18:13.752Z"
   },
   {
    "duration": 1224,
    "start_time": "2022-03-01T08:18:48.553Z"
   },
   {
    "duration": 184,
    "start_time": "2022-03-01T08:18:49.779Z"
   },
   {
    "duration": 22,
    "start_time": "2022-03-01T08:18:49.966Z"
   },
   {
    "duration": 106,
    "start_time": "2022-03-01T08:18:49.990Z"
   },
   {
    "duration": 23,
    "start_time": "2022-03-01T08:18:50.102Z"
   },
   {
    "duration": 170,
    "start_time": "2022-03-01T08:18:50.126Z"
   },
   {
    "duration": 28,
    "start_time": "2022-03-01T08:18:50.298Z"
   },
   {
    "duration": 25,
    "start_time": "2022-03-01T08:18:50.327Z"
   },
   {
    "duration": 8,
    "start_time": "2022-03-01T08:18:50.355Z"
   },
   {
    "duration": 20,
    "start_time": "2022-03-01T08:18:50.365Z"
   },
   {
    "duration": 21,
    "start_time": "2022-03-01T08:18:50.387Z"
   },
   {
    "duration": 71,
    "start_time": "2022-03-01T08:18:50.411Z"
   },
   {
    "duration": 132,
    "start_time": "2022-03-01T08:18:50.484Z"
   },
   {
    "duration": 26,
    "start_time": "2022-03-01T08:18:50.618Z"
   },
   {
    "duration": 56,
    "start_time": "2022-03-01T08:18:50.646Z"
   },
   {
    "duration": 49,
    "start_time": "2022-03-01T08:18:50.704Z"
   },
   {
    "duration": 15,
    "start_time": "2022-03-01T08:18:50.755Z"
   },
   {
    "duration": 32,
    "start_time": "2022-03-01T08:18:50.772Z"
   },
   {
    "duration": 12,
    "start_time": "2022-03-01T08:18:50.806Z"
   },
   {
    "duration": 15,
    "start_time": "2022-03-01T08:18:50.821Z"
   },
   {
    "duration": 15,
    "start_time": "2022-03-01T08:18:50.838Z"
   },
   {
    "duration": 65,
    "start_time": "2022-03-01T08:18:50.855Z"
   },
   {
    "duration": 230,
    "start_time": "2022-03-01T08:18:50.922Z"
   },
   {
    "duration": 59,
    "start_time": "2022-03-01T08:18:51.154Z"
   },
   {
    "duration": 19,
    "start_time": "2022-03-01T08:18:51.215Z"
   },
   {
    "duration": 14,
    "start_time": "2022-03-01T08:18:51.236Z"
   },
   {
    "duration": 11,
    "start_time": "2022-03-01T08:18:51.255Z"
   },
   {
    "duration": 33,
    "start_time": "2022-03-01T08:18:51.268Z"
   },
   {
    "duration": 9,
    "start_time": "2022-03-01T08:18:51.303Z"
   },
   {
    "duration": 23,
    "start_time": "2022-03-01T08:18:51.314Z"
   },
   {
    "duration": 248,
    "start_time": "2022-03-01T08:18:51.339Z"
   },
   {
    "duration": 42,
    "start_time": "2022-03-01T08:18:51.589Z"
   },
   {
    "duration": 9,
    "start_time": "2022-03-01T08:18:51.633Z"
   },
   {
    "duration": 30,
    "start_time": "2022-03-01T08:18:51.644Z"
   },
   {
    "duration": 10,
    "start_time": "2022-03-01T08:18:51.700Z"
   },
   {
    "duration": 31,
    "start_time": "2022-03-01T08:18:51.712Z"
   },
   {
    "duration": 16,
    "start_time": "2022-03-01T08:18:51.746Z"
   },
   {
    "duration": 50,
    "start_time": "2022-03-01T08:18:51.764Z"
   },
   {
    "duration": 9,
    "start_time": "2022-03-01T08:18:51.816Z"
   },
   {
    "duration": 15,
    "start_time": "2022-03-01T08:18:51.827Z"
   },
   {
    "duration": 9,
    "start_time": "2022-03-01T08:18:51.845Z"
   },
   {
    "duration": 6,
    "start_time": "2022-03-01T08:18:51.856Z"
   },
   {
    "duration": 45,
    "start_time": "2022-03-01T08:18:51.864Z"
   },
   {
    "duration": 20,
    "start_time": "2022-03-01T08:18:51.911Z"
   },
   {
    "duration": 11,
    "start_time": "2022-03-01T08:18:51.933Z"
   },
   {
    "duration": 7,
    "start_time": "2022-03-01T08:18:51.946Z"
   },
   {
    "duration": 8,
    "start_time": "2022-03-01T08:18:51.955Z"
   },
   {
    "duration": 44,
    "start_time": "2022-03-01T08:18:51.964Z"
   },
   {
    "duration": 4,
    "start_time": "2022-03-01T08:18:52.010Z"
   },
   {
    "duration": 12,
    "start_time": "2022-03-01T08:18:52.016Z"
   },
   {
    "duration": 226,
    "start_time": "2022-03-01T08:18:52.030Z"
   },
   {
    "duration": 6,
    "start_time": "2022-03-01T08:18:52.258Z"
   },
   {
    "duration": 22,
    "start_time": "2022-03-01T08:18:52.266Z"
   },
   {
    "duration": 65,
    "start_time": "2022-03-01T08:18:52.302Z"
   },
   {
    "duration": -297,
    "start_time": "2022-03-01T08:18:52.666Z"
   },
   {
    "duration": -311,
    "start_time": "2022-03-01T08:18:52.681Z"
   },
   {
    "duration": -325,
    "start_time": "2022-03-01T08:18:52.696Z"
   },
   {
    "duration": -328,
    "start_time": "2022-03-01T08:18:52.700Z"
   },
   {
    "duration": -331,
    "start_time": "2022-03-01T08:18:52.704Z"
   },
   {
    "duration": -333,
    "start_time": "2022-03-01T08:18:52.707Z"
   },
   {
    "duration": -336,
    "start_time": "2022-03-01T08:18:52.711Z"
   },
   {
    "duration": -338,
    "start_time": "2022-03-01T08:18:52.714Z"
   },
   {
    "duration": -341,
    "start_time": "2022-03-01T08:18:52.718Z"
   },
   {
    "duration": -343,
    "start_time": "2022-03-01T08:18:52.721Z"
   },
   {
    "duration": -345,
    "start_time": "2022-03-01T08:18:52.724Z"
   },
   {
    "duration": -348,
    "start_time": "2022-03-01T08:18:52.727Z"
   },
   {
    "duration": -351,
    "start_time": "2022-03-01T08:18:52.731Z"
   },
   {
    "duration": -353,
    "start_time": "2022-03-01T08:18:52.734Z"
   },
   {
    "duration": -355,
    "start_time": "2022-03-01T08:18:52.737Z"
   },
   {
    "duration": -357,
    "start_time": "2022-03-01T08:18:52.740Z"
   },
   {
    "duration": -359,
    "start_time": "2022-03-01T08:18:52.743Z"
   },
   {
    "duration": -361,
    "start_time": "2022-03-01T08:18:52.746Z"
   },
   {
    "duration": -363,
    "start_time": "2022-03-01T08:18:52.749Z"
   },
   {
    "duration": -365,
    "start_time": "2022-03-01T08:18:52.752Z"
   },
   {
    "duration": -368,
    "start_time": "2022-03-01T08:18:52.756Z"
   },
   {
    "duration": -370,
    "start_time": "2022-03-01T08:18:52.759Z"
   },
   {
    "duration": -372,
    "start_time": "2022-03-01T08:18:52.762Z"
   },
   {
    "duration": -374,
    "start_time": "2022-03-01T08:18:52.765Z"
   },
   {
    "duration": 72,
    "start_time": "2022-03-01T08:19:18.593Z"
   },
   {
    "duration": 146,
    "start_time": "2022-03-01T08:19:27.456Z"
   },
   {
    "duration": 154,
    "start_time": "2022-03-01T08:20:27.854Z"
   },
   {
    "duration": 141,
    "start_time": "2022-03-01T08:20:36.241Z"
   },
   {
    "duration": 3,
    "start_time": "2022-03-01T08:21:09.425Z"
   },
   {
    "duration": 172,
    "start_time": "2022-03-01T08:21:09.430Z"
   },
   {
    "duration": 22,
    "start_time": "2022-03-01T08:21:09.604Z"
   },
   {
    "duration": 111,
    "start_time": "2022-03-01T08:21:09.629Z"
   },
   {
    "duration": 16,
    "start_time": "2022-03-01T08:21:09.742Z"
   },
   {
    "duration": 150,
    "start_time": "2022-03-01T08:21:09.759Z"
   },
   {
    "duration": 19,
    "start_time": "2022-03-01T08:21:09.911Z"
   },
   {
    "duration": 32,
    "start_time": "2022-03-01T08:21:09.933Z"
   },
   {
    "duration": 7,
    "start_time": "2022-03-01T08:21:09.968Z"
   },
   {
    "duration": 26,
    "start_time": "2022-03-01T08:21:09.977Z"
   },
   {
    "duration": 13,
    "start_time": "2022-03-01T08:21:10.016Z"
   },
   {
    "duration": 63,
    "start_time": "2022-03-01T08:21:10.032Z"
   },
   {
    "duration": 112,
    "start_time": "2022-03-01T08:21:10.097Z"
   },
   {
    "duration": 24,
    "start_time": "2022-03-01T08:21:10.211Z"
   },
   {
    "duration": 41,
    "start_time": "2022-03-01T08:21:10.237Z"
   },
   {
    "duration": 49,
    "start_time": "2022-03-01T08:21:10.301Z"
   },
   {
    "duration": 17,
    "start_time": "2022-03-01T08:21:10.352Z"
   },
   {
    "duration": 36,
    "start_time": "2022-03-01T08:21:10.371Z"
   },
   {
    "duration": 4,
    "start_time": "2022-03-01T08:21:10.409Z"
   },
   {
    "duration": 10,
    "start_time": "2022-03-01T08:21:10.415Z"
   },
   {
    "duration": 8,
    "start_time": "2022-03-01T08:21:10.427Z"
   },
   {
    "duration": 74,
    "start_time": "2022-03-01T08:21:10.437Z"
   },
   {
    "duration": 230,
    "start_time": "2022-03-01T08:21:10.516Z"
   },
   {
    "duration": 65,
    "start_time": "2022-03-01T08:21:10.749Z"
   },
   {
    "duration": 21,
    "start_time": "2022-03-01T08:21:10.816Z"
   },
   {
    "duration": 10,
    "start_time": "2022-03-01T08:21:10.839Z"
   },
   {
    "duration": 11,
    "start_time": "2022-03-01T08:21:10.851Z"
   },
   {
    "duration": 13,
    "start_time": "2022-03-01T08:21:10.864Z"
   },
   {
    "duration": 9,
    "start_time": "2022-03-01T08:21:10.902Z"
   },
   {
    "duration": 18,
    "start_time": "2022-03-01T08:21:10.913Z"
   },
   {
    "duration": 234,
    "start_time": "2022-03-01T08:21:10.933Z"
   },
   {
    "duration": 49,
    "start_time": "2022-03-01T08:21:11.169Z"
   },
   {
    "duration": 8,
    "start_time": "2022-03-01T08:21:11.221Z"
   },
   {
    "duration": 31,
    "start_time": "2022-03-01T08:21:11.231Z"
   },
   {
    "duration": 10,
    "start_time": "2022-03-01T08:21:11.265Z"
   },
   {
    "duration": 29,
    "start_time": "2022-03-01T08:21:11.302Z"
   },
   {
    "duration": 98,
    "start_time": "2022-03-01T08:21:11.333Z"
   },
   {
    "duration": 18,
    "start_time": "2022-03-01T08:21:11.433Z"
   },
   {
    "duration": 10,
    "start_time": "2022-03-01T08:21:11.453Z"
   },
   {
    "duration": 47,
    "start_time": "2022-03-01T08:21:11.465Z"
   },
   {
    "duration": 11,
    "start_time": "2022-03-01T08:21:11.514Z"
   },
   {
    "duration": 6,
    "start_time": "2022-03-01T08:21:11.527Z"
   },
   {
    "duration": 11,
    "start_time": "2022-03-01T08:21:11.535Z"
   },
   {
    "duration": 17,
    "start_time": "2022-03-01T08:21:11.548Z"
   },
   {
    "duration": 11,
    "start_time": "2022-03-01T08:21:11.567Z"
   },
   {
    "duration": 7,
    "start_time": "2022-03-01T08:21:11.602Z"
   },
   {
    "duration": 6,
    "start_time": "2022-03-01T08:21:11.611Z"
   },
   {
    "duration": 20,
    "start_time": "2022-03-01T08:21:11.618Z"
   },
   {
    "duration": 4,
    "start_time": "2022-03-01T08:21:11.640Z"
   },
   {
    "duration": 16,
    "start_time": "2022-03-01T08:21:11.646Z"
   },
   {
    "duration": 233,
    "start_time": "2022-03-01T08:21:11.664Z"
   },
   {
    "duration": 4,
    "start_time": "2022-03-01T08:21:11.899Z"
   },
   {
    "duration": 33,
    "start_time": "2022-03-01T08:21:11.905Z"
   },
   {
    "duration": 176,
    "start_time": "2022-03-01T08:21:11.940Z"
   },
   {
    "duration": 20,
    "start_time": "2022-03-01T08:21:12.118Z"
   },
   {
    "duration": 6,
    "start_time": "2022-03-01T08:21:12.140Z"
   },
   {
    "duration": 12,
    "start_time": "2022-03-01T08:21:12.148Z"
   },
   {
    "duration": 9,
    "start_time": "2022-03-01T08:21:12.162Z"
   },
   {
    "duration": 30,
    "start_time": "2022-03-01T08:21:12.172Z"
   },
   {
    "duration": 10,
    "start_time": "2022-03-01T08:21:12.204Z"
   },
   {
    "duration": 228,
    "start_time": "2022-03-01T08:21:12.216Z"
   },
   {
    "duration": 13,
    "start_time": "2022-03-01T08:21:12.446Z"
   },
   {
    "duration": 210,
    "start_time": "2022-03-01T08:21:12.461Z"
   },
   {
    "duration": 12,
    "start_time": "2022-03-01T08:21:12.673Z"
   },
   {
    "duration": 223,
    "start_time": "2022-03-01T08:21:12.687Z"
   },
   {
    "duration": 14,
    "start_time": "2022-03-01T08:21:12.912Z"
   },
   {
    "duration": 26,
    "start_time": "2022-03-01T08:21:12.928Z"
   },
   {
    "duration": 18,
    "start_time": "2022-03-01T08:21:12.960Z"
   },
   {
    "duration": 6,
    "start_time": "2022-03-01T08:21:13.002Z"
   },
   {
    "duration": 28,
    "start_time": "2022-03-01T08:21:13.010Z"
   },
   {
    "duration": 5,
    "start_time": "2022-03-01T08:21:13.040Z"
   },
   {
    "duration": 8,
    "start_time": "2022-03-01T08:21:13.047Z"
   },
   {
    "duration": 13,
    "start_time": "2022-03-01T08:21:13.057Z"
   },
   {
    "duration": 11,
    "start_time": "2022-03-01T08:21:13.072Z"
   },
   {
    "duration": 6,
    "start_time": "2022-03-01T08:21:13.102Z"
   },
   {
    "duration": 7,
    "start_time": "2022-03-01T08:21:13.109Z"
   },
   {
    "duration": 6,
    "start_time": "2022-03-01T08:21:13.118Z"
   },
   {
    "duration": 226,
    "start_time": "2022-03-01T08:23:55.843Z"
   },
   {
    "duration": 322,
    "start_time": "2022-03-01T08:24:01.685Z"
   },
   {
    "duration": 1105,
    "start_time": "2022-03-01T08:25:04.327Z"
   },
   {
    "duration": 210,
    "start_time": "2022-03-01T08:25:44.144Z"
   },
   {
    "duration": 216,
    "start_time": "2022-03-01T08:26:49.805Z"
   },
   {
    "duration": 225,
    "start_time": "2022-03-01T08:27:30.779Z"
   },
   {
    "duration": 232,
    "start_time": "2022-03-01T08:28:05.322Z"
   },
   {
    "duration": 301,
    "start_time": "2022-03-01T08:28:47.925Z"
   },
   {
    "duration": 196,
    "start_time": "2022-03-01T08:30:43.200Z"
   },
   {
    "duration": 216,
    "start_time": "2022-03-01T08:31:32.127Z"
   },
   {
    "duration": 207,
    "start_time": "2022-03-01T08:31:36.357Z"
   },
   {
    "duration": 235,
    "start_time": "2022-03-01T08:31:51.150Z"
   },
   {
    "duration": 240,
    "start_time": "2022-03-01T08:31:58.814Z"
   },
   {
    "duration": 232,
    "start_time": "2022-03-01T08:32:04.429Z"
   },
   {
    "duration": 403,
    "start_time": "2022-03-01T08:32:55.802Z"
   },
   {
    "duration": 437,
    "start_time": "2022-03-01T08:34:19.512Z"
   },
   {
    "duration": 491,
    "start_time": "2022-03-01T08:34:32.824Z"
   },
   {
    "duration": 425,
    "start_time": "2022-03-01T08:35:16.372Z"
   },
   {
    "duration": 310,
    "start_time": "2022-03-01T08:36:35.505Z"
   },
   {
    "duration": 692,
    "start_time": "2022-03-01T08:36:52.209Z"
   },
   {
    "duration": 273,
    "start_time": "2022-03-01T08:38:03.917Z"
   },
   {
    "duration": 828,
    "start_time": "2022-03-01T08:38:10.992Z"
   },
   {
    "duration": 360,
    "start_time": "2022-03-01T08:38:19.472Z"
   },
   {
    "duration": 559,
    "start_time": "2022-03-01T08:39:41.752Z"
   },
   {
    "duration": 559,
    "start_time": "2022-03-01T08:43:17.360Z"
   },
   {
    "duration": 652,
    "start_time": "2022-03-01T08:43:36.285Z"
   },
   {
    "duration": 675,
    "start_time": "2022-03-01T08:44:20.315Z"
   },
   {
    "duration": 850,
    "start_time": "2022-03-01T08:44:30.955Z"
   },
   {
    "duration": 1595,
    "start_time": "2022-03-01T08:45:15.478Z"
   },
   {
    "duration": 179,
    "start_time": "2022-03-01T08:45:17.076Z"
   },
   {
    "duration": 23,
    "start_time": "2022-03-01T08:45:17.257Z"
   },
   {
    "duration": 105,
    "start_time": "2022-03-01T08:45:17.282Z"
   },
   {
    "duration": 19,
    "start_time": "2022-03-01T08:45:17.389Z"
   },
   {
    "duration": 166,
    "start_time": "2022-03-01T08:45:17.411Z"
   },
   {
    "duration": 41,
    "start_time": "2022-03-01T08:45:17.579Z"
   },
   {
    "duration": 48,
    "start_time": "2022-03-01T08:45:17.624Z"
   },
   {
    "duration": 15,
    "start_time": "2022-03-01T08:45:17.674Z"
   },
   {
    "duration": 26,
    "start_time": "2022-03-01T08:45:17.691Z"
   },
   {
    "duration": 18,
    "start_time": "2022-03-01T08:45:17.719Z"
   },
   {
    "duration": 102,
    "start_time": "2022-03-01T08:45:17.739Z"
   },
   {
    "duration": 108,
    "start_time": "2022-03-01T08:45:17.843Z"
   },
   {
    "duration": 26,
    "start_time": "2022-03-01T08:45:17.953Z"
   },
   {
    "duration": 71,
    "start_time": "2022-03-01T08:45:17.981Z"
   },
   {
    "duration": 54,
    "start_time": "2022-03-01T08:45:18.054Z"
   },
   {
    "duration": 16,
    "start_time": "2022-03-01T08:45:18.111Z"
   },
   {
    "duration": 24,
    "start_time": "2022-03-01T08:45:18.129Z"
   },
   {
    "duration": 25,
    "start_time": "2022-03-01T08:45:18.155Z"
   },
   {
    "duration": 25,
    "start_time": "2022-03-01T08:45:18.182Z"
   },
   {
    "duration": 40,
    "start_time": "2022-03-01T08:45:18.209Z"
   },
   {
    "duration": 91,
    "start_time": "2022-03-01T08:45:18.251Z"
   },
   {
    "duration": 261,
    "start_time": "2022-03-01T08:45:18.349Z"
   },
   {
    "duration": 52,
    "start_time": "2022-03-01T08:45:18.613Z"
   },
   {
    "duration": 41,
    "start_time": "2022-03-01T08:45:18.667Z"
   },
   {
    "duration": 12,
    "start_time": "2022-03-01T08:45:18.710Z"
   },
   {
    "duration": 11,
    "start_time": "2022-03-01T08:45:18.724Z"
   },
   {
    "duration": 9,
    "start_time": "2022-03-01T08:45:18.737Z"
   },
   {
    "duration": 12,
    "start_time": "2022-03-01T08:45:18.748Z"
   },
   {
    "duration": 44,
    "start_time": "2022-03-01T08:45:18.762Z"
   },
   {
    "duration": 246,
    "start_time": "2022-03-01T08:45:18.809Z"
   },
   {
    "duration": 55,
    "start_time": "2022-03-01T08:45:19.057Z"
   },
   {
    "duration": 8,
    "start_time": "2022-03-01T08:45:19.114Z"
   },
   {
    "duration": 44,
    "start_time": "2022-03-01T08:45:19.123Z"
   },
   {
    "duration": 8,
    "start_time": "2022-03-01T08:45:19.169Z"
   },
   {
    "duration": 46,
    "start_time": "2022-03-01T08:45:19.179Z"
   },
   {
    "duration": 15,
    "start_time": "2022-03-01T08:45:19.227Z"
   },
   {
    "duration": 18,
    "start_time": "2022-03-01T08:45:19.244Z"
   },
   {
    "duration": 42,
    "start_time": "2022-03-01T08:45:19.263Z"
   },
   {
    "duration": 14,
    "start_time": "2022-03-01T08:45:19.307Z"
   },
   {
    "duration": 8,
    "start_time": "2022-03-01T08:45:19.323Z"
   },
   {
    "duration": 8,
    "start_time": "2022-03-01T08:45:19.333Z"
   },
   {
    "duration": 16,
    "start_time": "2022-03-01T08:45:19.343Z"
   },
   {
    "duration": 23,
    "start_time": "2022-03-01T08:45:19.361Z"
   },
   {
    "duration": 10,
    "start_time": "2022-03-01T08:45:19.402Z"
   },
   {
    "duration": 6,
    "start_time": "2022-03-01T08:45:19.414Z"
   },
   {
    "duration": 14,
    "start_time": "2022-03-01T08:45:19.422Z"
   },
   {
    "duration": 14,
    "start_time": "2022-03-01T08:45:19.439Z"
   },
   {
    "duration": 3,
    "start_time": "2022-03-01T08:45:19.455Z"
   },
   {
    "duration": 15,
    "start_time": "2022-03-01T08:45:19.460Z"
   },
   {
    "duration": 241,
    "start_time": "2022-03-01T08:45:19.477Z"
   },
   {
    "duration": 7,
    "start_time": "2022-03-01T08:45:19.720Z"
   },
   {
    "duration": 24,
    "start_time": "2022-03-01T08:45:19.729Z"
   },
   {
    "duration": 166,
    "start_time": "2022-03-01T08:45:19.755Z"
   },
   {
    "duration": 19,
    "start_time": "2022-03-01T08:45:19.923Z"
   },
   {
    "duration": 6,
    "start_time": "2022-03-01T08:45:19.944Z"
   },
   {
    "duration": 10,
    "start_time": "2022-03-01T08:45:19.951Z"
   },
   {
    "duration": 9,
    "start_time": "2022-03-01T08:45:19.962Z"
   },
   {
    "duration": 33,
    "start_time": "2022-03-01T08:45:19.973Z"
   },
   {
    "duration": 9,
    "start_time": "2022-03-01T08:45:20.008Z"
   },
   {
    "duration": 732,
    "start_time": "2022-03-01T08:45:20.019Z"
   },
   {
    "duration": 13,
    "start_time": "2022-03-01T08:45:20.753Z"
   },
   {
    "duration": 11,
    "start_time": "2022-03-01T08:45:20.768Z"
   },
   {
    "duration": 30,
    "start_time": "2022-03-01T08:45:20.781Z"
   },
   {
    "duration": 20,
    "start_time": "2022-03-01T08:45:20.813Z"
   },
   {
    "duration": 20,
    "start_time": "2022-03-01T08:45:20.835Z"
   },
   {
    "duration": 7,
    "start_time": "2022-03-01T08:45:20.856Z"
   },
   {
    "duration": 20,
    "start_time": "2022-03-01T08:45:20.902Z"
   },
   {
    "duration": 8,
    "start_time": "2022-03-01T08:45:20.925Z"
   },
   {
    "duration": 15,
    "start_time": "2022-03-01T08:45:20.935Z"
   },
   {
    "duration": 17,
    "start_time": "2022-03-01T08:45:20.952Z"
   },
   {
    "duration": 12,
    "start_time": "2022-03-01T08:45:20.970Z"
   },
   {
    "duration": 25,
    "start_time": "2022-03-01T08:45:20.984Z"
   },
   {
    "duration": 16,
    "start_time": "2022-03-01T08:45:21.011Z"
   },
   {
    "duration": 6,
    "start_time": "2022-03-01T08:45:21.029Z"
   },
   {
    "duration": 1155,
    "start_time": "2022-03-01T08:48:41.360Z"
   },
   {
    "duration": 167,
    "start_time": "2022-03-01T08:48:42.518Z"
   },
   {
    "duration": 26,
    "start_time": "2022-03-01T08:48:42.687Z"
   },
   {
    "duration": 98,
    "start_time": "2022-03-01T08:48:42.716Z"
   },
   {
    "duration": 16,
    "start_time": "2022-03-01T08:48:42.815Z"
   },
   {
    "duration": 142,
    "start_time": "2022-03-01T08:48:42.833Z"
   },
   {
    "duration": 27,
    "start_time": "2022-03-01T08:48:42.977Z"
   },
   {
    "duration": 26,
    "start_time": "2022-03-01T08:48:43.007Z"
   },
   {
    "duration": 8,
    "start_time": "2022-03-01T08:48:43.036Z"
   },
   {
    "duration": 25,
    "start_time": "2022-03-01T08:48:43.045Z"
   },
   {
    "duration": 8,
    "start_time": "2022-03-01T08:48:43.072Z"
   },
   {
    "duration": 85,
    "start_time": "2022-03-01T08:48:43.082Z"
   },
   {
    "duration": 110,
    "start_time": "2022-03-01T08:48:43.169Z"
   },
   {
    "duration": 33,
    "start_time": "2022-03-01T08:48:43.280Z"
   },
   {
    "duration": 39,
    "start_time": "2022-03-01T08:48:43.316Z"
   },
   {
    "duration": 70,
    "start_time": "2022-03-01T08:48:43.357Z"
   },
   {
    "duration": 26,
    "start_time": "2022-03-01T08:48:43.429Z"
   },
   {
    "duration": 15,
    "start_time": "2022-03-01T08:48:43.458Z"
   },
   {
    "duration": 31,
    "start_time": "2022-03-01T08:48:43.475Z"
   },
   {
    "duration": 20,
    "start_time": "2022-03-01T08:48:43.508Z"
   },
   {
    "duration": 18,
    "start_time": "2022-03-01T08:48:43.530Z"
   },
   {
    "duration": 55,
    "start_time": "2022-03-01T08:48:43.550Z"
   },
   {
    "duration": 231,
    "start_time": "2022-03-01T08:48:43.609Z"
   },
   {
    "duration": 61,
    "start_time": "2022-03-01T08:48:43.843Z"
   },
   {
    "duration": 19,
    "start_time": "2022-03-01T08:48:43.905Z"
   },
   {
    "duration": 10,
    "start_time": "2022-03-01T08:48:43.926Z"
   },
   {
    "duration": 8,
    "start_time": "2022-03-01T08:48:43.938Z"
   },
   {
    "duration": 8,
    "start_time": "2022-03-01T08:48:43.948Z"
   },
   {
    "duration": 9,
    "start_time": "2022-03-01T08:48:43.957Z"
   },
   {
    "duration": 44,
    "start_time": "2022-03-01T08:48:43.967Z"
   },
   {
    "duration": 230,
    "start_time": "2022-03-01T08:48:44.012Z"
   },
   {
    "duration": 35,
    "start_time": "2022-03-01T08:48:44.244Z"
   },
   {
    "duration": 22,
    "start_time": "2022-03-01T08:48:44.281Z"
   },
   {
    "duration": 30,
    "start_time": "2022-03-01T08:48:44.305Z"
   },
   {
    "duration": 8,
    "start_time": "2022-03-01T08:48:44.337Z"
   },
   {
    "duration": 55,
    "start_time": "2022-03-01T08:48:44.347Z"
   },
   {
    "duration": 14,
    "start_time": "2022-03-01T08:48:44.404Z"
   },
   {
    "duration": 17,
    "start_time": "2022-03-01T08:48:44.420Z"
   },
   {
    "duration": 8,
    "start_time": "2022-03-01T08:48:44.439Z"
   },
   {
    "duration": 16,
    "start_time": "2022-03-01T08:48:44.449Z"
   },
   {
    "duration": 39,
    "start_time": "2022-03-01T08:48:44.468Z"
   },
   {
    "duration": 10,
    "start_time": "2022-03-01T08:48:44.509Z"
   },
   {
    "duration": 14,
    "start_time": "2022-03-01T08:48:44.521Z"
   },
   {
    "duration": 21,
    "start_time": "2022-03-01T08:48:44.536Z"
   },
   {
    "duration": 13,
    "start_time": "2022-03-01T08:48:44.559Z"
   },
   {
    "duration": 7,
    "start_time": "2022-03-01T08:48:44.574Z"
   },
   {
    "duration": 6,
    "start_time": "2022-03-01T08:48:44.602Z"
   },
   {
    "duration": 14,
    "start_time": "2022-03-01T08:48:44.610Z"
   },
   {
    "duration": 4,
    "start_time": "2022-03-01T08:48:44.626Z"
   },
   {
    "duration": 12,
    "start_time": "2022-03-01T08:48:44.632Z"
   },
   {
    "duration": 236,
    "start_time": "2022-03-01T08:48:44.646Z"
   },
   {
    "duration": 7,
    "start_time": "2022-03-01T08:48:44.884Z"
   },
   {
    "duration": 28,
    "start_time": "2022-03-01T08:48:44.893Z"
   },
   {
    "duration": 164,
    "start_time": "2022-03-01T08:48:44.923Z"
   },
   {
    "duration": 23,
    "start_time": "2022-03-01T08:48:45.089Z"
   },
   {
    "duration": 7,
    "start_time": "2022-03-01T08:48:45.114Z"
   },
   {
    "duration": 17,
    "start_time": "2022-03-01T08:48:45.123Z"
   },
   {
    "duration": 12,
    "start_time": "2022-03-01T08:48:45.142Z"
   },
   {
    "duration": 11,
    "start_time": "2022-03-01T08:48:45.156Z"
   },
   {
    "duration": 9,
    "start_time": "2022-03-01T08:48:45.169Z"
   },
   {
    "duration": 742,
    "start_time": "2022-03-01T08:48:45.180Z"
   },
   {
    "duration": 12,
    "start_time": "2022-03-01T08:48:45.924Z"
   },
   {
    "duration": 14,
    "start_time": "2022-03-01T08:48:45.938Z"
   },
   {
    "duration": 12,
    "start_time": "2022-03-01T08:48:45.954Z"
   },
   {
    "duration": 50,
    "start_time": "2022-03-01T08:48:45.967Z"
   },
   {
    "duration": 22,
    "start_time": "2022-03-01T08:48:46.018Z"
   },
   {
    "duration": 6,
    "start_time": "2022-03-01T08:48:46.042Z"
   },
   {
    "duration": 50,
    "start_time": "2022-03-01T08:48:46.053Z"
   },
   {
    "duration": 6,
    "start_time": "2022-03-01T08:48:46.105Z"
   },
   {
    "duration": 9,
    "start_time": "2022-03-01T08:48:46.113Z"
   },
   {
    "duration": 9,
    "start_time": "2022-03-01T08:48:46.123Z"
   },
   {
    "duration": 7,
    "start_time": "2022-03-01T08:48:46.134Z"
   },
   {
    "duration": 7,
    "start_time": "2022-03-01T08:48:46.143Z"
   },
   {
    "duration": 11,
    "start_time": "2022-03-01T08:48:46.152Z"
   },
   {
    "duration": 37,
    "start_time": "2022-03-01T08:48:46.165Z"
   },
   {
    "duration": 1742,
    "start_time": "2022-03-02T09:24:02.099Z"
   },
   {
    "duration": 254,
    "start_time": "2022-03-02T09:24:03.845Z"
   },
   {
    "duration": 47,
    "start_time": "2022-03-02T09:24:04.103Z"
   },
   {
    "duration": 162,
    "start_time": "2022-03-02T09:24:04.154Z"
   },
   {
    "duration": 19,
    "start_time": "2022-03-02T09:24:04.318Z"
   },
   {
    "duration": 325,
    "start_time": "2022-03-02T09:24:04.339Z"
   },
   {
    "duration": 46,
    "start_time": "2022-03-02T09:24:04.668Z"
   },
   {
    "duration": 33,
    "start_time": "2022-03-02T09:24:04.718Z"
   },
   {
    "duration": 31,
    "start_time": "2022-03-02T09:24:04.755Z"
   },
   {
    "duration": 40,
    "start_time": "2022-03-02T09:24:04.790Z"
   },
   {
    "duration": 17,
    "start_time": "2022-03-02T09:24:04.832Z"
   },
   {
    "duration": 109,
    "start_time": "2022-03-02T09:24:04.851Z"
   },
   {
    "duration": 165,
    "start_time": "2022-03-02T09:24:04.962Z"
   },
   {
    "duration": 43,
    "start_time": "2022-03-02T09:24:05.130Z"
   },
   {
    "duration": 55,
    "start_time": "2022-03-02T09:24:05.176Z"
   },
   {
    "duration": 92,
    "start_time": "2022-03-02T09:24:05.233Z"
   },
   {
    "duration": 24,
    "start_time": "2022-03-02T09:24:05.327Z"
   },
   {
    "duration": 24,
    "start_time": "2022-03-02T09:24:05.375Z"
   },
   {
    "duration": 19,
    "start_time": "2022-03-02T09:24:05.402Z"
   },
   {
    "duration": 16,
    "start_time": "2022-03-02T09:24:05.423Z"
   },
   {
    "duration": 33,
    "start_time": "2022-03-02T09:24:05.442Z"
   },
   {
    "duration": 85,
    "start_time": "2022-03-02T09:24:05.478Z"
   },
   {
    "duration": 363,
    "start_time": "2022-03-02T09:24:05.565Z"
   },
   {
    "duration": 98,
    "start_time": "2022-03-02T09:24:05.931Z"
   },
   {
    "duration": 25,
    "start_time": "2022-03-02T09:24:06.031Z"
   },
   {
    "duration": 28,
    "start_time": "2022-03-02T09:24:06.059Z"
   },
   {
    "duration": 26,
    "start_time": "2022-03-02T09:24:06.094Z"
   },
   {
    "duration": 25,
    "start_time": "2022-03-02T09:24:06.124Z"
   },
   {
    "duration": 45,
    "start_time": "2022-03-02T09:24:06.152Z"
   },
   {
    "duration": 28,
    "start_time": "2022-03-02T09:24:06.200Z"
   },
   {
    "duration": 362,
    "start_time": "2022-03-02T09:24:06.230Z"
   },
   {
    "duration": 49,
    "start_time": "2022-03-02T09:24:06.594Z"
   },
   {
    "duration": 31,
    "start_time": "2022-03-02T09:24:06.645Z"
   },
   {
    "duration": 71,
    "start_time": "2022-03-02T09:24:06.679Z"
   },
   {
    "duration": 12,
    "start_time": "2022-03-02T09:24:06.752Z"
   },
   {
    "duration": 59,
    "start_time": "2022-03-02T09:24:06.766Z"
   },
   {
    "duration": 21,
    "start_time": "2022-03-02T09:24:06.827Z"
   },
   {
    "duration": 36,
    "start_time": "2022-03-02T09:24:06.850Z"
   },
   {
    "duration": 12,
    "start_time": "2022-03-02T09:24:06.889Z"
   },
   {
    "duration": 34,
    "start_time": "2022-03-02T09:24:06.903Z"
   },
   {
    "duration": 63,
    "start_time": "2022-03-02T09:24:06.939Z"
   },
   {
    "duration": 21,
    "start_time": "2022-03-02T09:24:07.005Z"
   },
   {
    "duration": 24,
    "start_time": "2022-03-02T09:24:07.028Z"
   },
   {
    "duration": 42,
    "start_time": "2022-03-02T09:24:07.055Z"
   },
   {
    "duration": 38,
    "start_time": "2022-03-02T09:24:07.099Z"
   },
   {
    "duration": 21,
    "start_time": "2022-03-02T09:24:07.140Z"
   },
   {
    "duration": 29,
    "start_time": "2022-03-02T09:24:07.163Z"
   },
   {
    "duration": 29,
    "start_time": "2022-03-02T09:24:07.194Z"
   },
   {
    "duration": 7,
    "start_time": "2022-03-02T09:24:07.225Z"
   },
   {
    "duration": 24,
    "start_time": "2022-03-02T09:24:07.234Z"
   },
   {
    "duration": 377,
    "start_time": "2022-03-02T09:24:07.261Z"
   },
   {
    "duration": 9,
    "start_time": "2022-03-02T09:24:07.640Z"
   },
   {
    "duration": 51,
    "start_time": "2022-03-02T09:24:07.652Z"
   },
   {
    "duration": 240,
    "start_time": "2022-03-02T09:24:07.707Z"
   },
   {
    "duration": 41,
    "start_time": "2022-03-02T09:24:07.950Z"
   },
   {
    "duration": 8,
    "start_time": "2022-03-02T09:24:07.993Z"
   },
   {
    "duration": 12,
    "start_time": "2022-03-02T09:24:08.003Z"
   },
   {
    "duration": 8,
    "start_time": "2022-03-02T09:24:08.018Z"
   },
   {
    "duration": 47,
    "start_time": "2022-03-02T09:24:08.029Z"
   },
   {
    "duration": 15,
    "start_time": "2022-03-02T09:24:08.079Z"
   },
   {
    "duration": 1197,
    "start_time": "2022-03-02T09:24:08.097Z"
   },
   {
    "duration": 16,
    "start_time": "2022-03-02T09:24:09.297Z"
   },
   {
    "duration": 16,
    "start_time": "2022-03-02T09:24:09.316Z"
   },
   {
    "duration": 46,
    "start_time": "2022-03-02T09:24:09.334Z"
   },
   {
    "duration": 32,
    "start_time": "2022-03-02T09:24:09.382Z"
   },
   {
    "duration": 59,
    "start_time": "2022-03-02T09:24:09.416Z"
   },
   {
    "duration": 11,
    "start_time": "2022-03-02T09:24:09.479Z"
   },
   {
    "duration": 35,
    "start_time": "2022-03-02T09:24:09.493Z"
   },
   {
    "duration": 9,
    "start_time": "2022-03-02T09:24:09.530Z"
   },
   {
    "duration": 34,
    "start_time": "2022-03-02T09:24:09.541Z"
   },
   {
    "duration": 8,
    "start_time": "2022-03-02T09:24:09.578Z"
   },
   {
    "duration": 8,
    "start_time": "2022-03-02T09:24:09.589Z"
   },
   {
    "duration": 10,
    "start_time": "2022-03-02T09:24:09.600Z"
   },
   {
    "duration": 12,
    "start_time": "2022-03-02T09:24:09.613Z"
   },
   {
    "duration": 50,
    "start_time": "2022-03-02T09:24:09.627Z"
   },
   {
    "duration": 29,
    "start_time": "2022-03-02T09:25:27.588Z"
   }
  ],
  "kernelspec": {
   "display_name": "Python 3 (ipykernel)",
   "language": "python",
   "name": "python3"
  },
  "language_info": {
   "codemirror_mode": {
    "name": "ipython",
    "version": 3
   },
   "file_extension": ".py",
   "mimetype": "text/x-python",
   "name": "python",
   "nbconvert_exporter": "python",
   "pygments_lexer": "ipython3",
   "version": "3.9.7"
  },
  "toc": {
   "base_numbering": 1,
   "nav_menu": {
    "height": "103px",
    "width": "448px"
   },
   "number_sections": false,
   "sideBar": true,
   "skip_h1_title": false,
   "title_cell": "Содержание",
   "title_sidebar": "Contents",
   "toc_cell": true,
   "toc_position": {},
   "toc_section_display": true,
   "toc_window_display": true
  }
 },
 "nbformat": 4,
 "nbformat_minor": 5
}
